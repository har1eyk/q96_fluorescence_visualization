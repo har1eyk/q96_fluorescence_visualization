{
 "cells": [
  {
   "cell_type": "code",
   "execution_count": 109,
   "metadata": {},
   "outputs": [],
   "source": [
    "import numpy as np\n",
    "import pandas as pd\n",
    "pd.options.plotting.backend = \"plotly\"\n",
    "import plotly.graph_objects as go\n",
    "from plotly.subplots import make_subplots\n",
    "import plotly.express as px\n",
    "from scipy.optimize import curve_fit\n",
    "from sklearn.metrics import r2_score\n",
    "# print(pd.__version__)"
   ]
  },
  {
   "cell_type": "code",
   "execution_count": 110,
   "metadata": {},
   "outputs": [],
   "source": [
    "# import Excel file from Windows\n",
    "\n",
    "# fileDir = r'C:\\Users\\HarleyKing\\OneDrive - LuminUltra Technologies Ltd\\Documents\\Python Scripts\\canonical_pcr_data'\n",
    "# fileDir = r'qPCR_data'\n",
    "# fileName = r'20220708_122234_SRB_dsr_test_2.xls' #cy5 data\n",
    "# fileName = r'Exp800.05.create.primer.matrix.micH.xlsx' #fam data\n",
    "# fileName = r'AF Fuel Primer Matrix Run 2 01Jun21 GH.xls' #fam data\n",
    "# fileName = r'three_fluor_assay.xls' #fam data\n",
    "# fileName = r'primer.matrix.xls' #fam data\n",
    "\n",
    "# create dataframe\n",
    "# dfExcel = pd.read_excel(fileDir+'\\\\'+fileName, sheet_name=None, header=None) #get all sheets"
   ]
  },
  {
   "cell_type": "code",
   "execution_count": 111,
   "metadata": {},
   "outputs": [
    {
     "name": "stdout",
     "output_type": "stream",
     "text": [
      "C:/Users/HarleyKing/OneDrive - LuminUltra Technologies Ltd/Documents - LTI Research & Development/Automation and Assay Dev/Exp800.31 IAC in Ecoli Assay/Exp800.31.01 primer matrix/20230602_163041_Ecoli_IAC_plate 2.xls\n"
     ]
    }
   ],
   "source": [
    "from tkinter import Tk, filedialog\n",
    "\n",
    "root = Tk()\n",
    "root.withdraw()\n",
    "\n",
    "file_path = filedialog.askopenfilename()\n",
    "\n",
    "print(file_path)\n",
    "# # create dataframe\n",
    "dfExcel = pd.read_excel(file_path, sheet_name=None, header=None) #get all sheets"
   ]
  },
  {
   "cell_type": "code",
   "execution_count": 112,
   "metadata": {},
   "outputs": [],
   "source": [
    "class FluorVis:\n",
    "    probe: str\n",
    "    def __init__(self, probe):\n",
    "        self.probe = probe\n",
    "        # self.maxRow = self.getMaxRow()\n",
    "    def dfCreate(self): # make a df from the excel data\n",
    "        # find probe in sheet names\n",
    "        probe_sheet = [sheet for sheet in sheetNames if self.probe in sheet]\n",
    "        # create dataframe from sheet name\n",
    "        df = dfExcel[probe_sheet[0]]\n",
    "        # assign first row to be column header\n",
    "        df.columns = df.iloc[0]\n",
    "        # drop the first row (duplicate of header)\n",
    "        df = df.drop(df.index[0])\n",
    "        # convert all columns to numberic\n",
    "        df = df.apply(pd.to_numeric, errors='coerce')\n",
    "        # make index the first column\n",
    "        df.set_index('Cycle', inplace=True)\n",
    "        # fluor values less than 1 get 0\n",
    "        df = df.where(df>=1, 0)\n",
    "        return df\n",
    "    def getMaxRow(self):\n",
    "        df = self.dfCreate()\n",
    "        # get max value for each row and convert to list\n",
    "        maxRow = df.loc[df.index == 40].values.flatten().tolist()\n",
    "        # round every element in list to one decimal place, convert to str\n",
    "        maxRowRound = [str(round(x,1)) for x in maxRow]\n",
    "        return maxRowRound\n",
    "    def plotAllWells(self):\n",
    "        df = self.dfCreate()\n",
    "        # make plot of wells\n",
    "        fig = px.line(\n",
    "            df,\n",
    "            x=df.index,\n",
    "            y=list(df.columns),\n",
    "            color_discrete_sequence=px.colors.qualitative.Set3)\n",
    "        fig.update_layout(\n",
    "            height=500,\n",
    "            width=1000,\n",
    "            xaxis_title='Cycle',\n",
    "            yaxis_title='RFU ({})'.format(self.probe),\n",
    "            title_text='Cycle vs Fluorescence ({})'.format(self.probe),\n",
    "            legend_title='Well')\n",
    "        return fig.show()\n",
    "    def plotIndWells(self):\n",
    "        df = self.dfCreate() \n",
    "        maxRow = self.getMaxRow()\n",
    "        # make subplots of individual wells\n",
    "        colorsList = px.colors.qualitative.Set3\n",
    "        figSub = make_subplots(\n",
    "            rows=8, cols=12,\n",
    "            shared_xaxes=True,\n",
    "            shared_yaxes='all',\n",
    "            start_cell='top-left',\n",
    "            subplot_titles=list(df.columns)) #, subplot_titles=sub_titles, print_grid=False)\n",
    "        for r in range (0,8): #loop through rows\n",
    "            for c in range(0,12):\n",
    "                figSub.add_trace(go.Scatter(\n",
    "                    x=df.index,\n",
    "                    y=df.iloc[:,r+(r*11)+c], # this pattern translates r=8, c=12 to 0..95 columns in df (0 indexed)\n",
    "                    name=df.columns[r+(r*11)+c], # gets column name eg 'A01'\n",
    "                    mode=\"lines+text\", # allows for text to be inserted onto ind plot\n",
    "                    line_color=colorsList[c], # assign color to each well consistent with all-well plot\n",
    "                    text= ['']*32 + [maxRow[r+(r*11)+c]]+['']*7, # inserts max value onto plot at 33rd point; looks nice here\n",
    "                    textposition='top left',\n",
    "                    textfont=dict(\n",
    "                        family=\"sans serif\",\n",
    "                        size=8,\n",
    "                        color=\"black\")), # want to stand out\n",
    "                    row=r+1,\n",
    "                    col=c+1)\n",
    "        figSub.update_layout(\n",
    "            height=800,\n",
    "            width=1000,\n",
    "            showlegend=False,\n",
    "            title_text='Cycle vs Fluorescence ({})'.format(self.probe))\n",
    "        return figSub.show()\n",
    "    \n",
    "                \n"
   ]
  },
  {
   "cell_type": "code",
   "execution_count": 363,
   "metadata": {},
   "outputs": [],
   "source": [
    "class PrimerMatrixVis:\n",
    "    sheet: str\n",
    "    def __init__(self, sheet, probe):\n",
    "        self.sheet = sheet\n",
    "        self.probe = probe\n",
    "    def dfCreate(self): # make a df from the excel data\n",
    "        # make df from passed sheet name\n",
    "        df = dfExcel[self.sheet]\n",
    "        # assign first row to be column header\n",
    "        df.columns = df.iloc[0]\n",
    "        # drop the first row (duplicate of header)\n",
    "        df = df.drop(df.index[0])\n",
    "        # drop columns 'Ct Mean' and 'Ct SD' and 'Concentration' and 'Aver. Conc.' and 'Conc. SD'\n",
    "        df = df.drop(['Ct Mean', 'Ct SD', 'Concentration', 'Aver. Con.', 'Con. SD'], axis=1)\n",
    "        # keep rows where 'Dye' column =  probe. Drop other rows\n",
    "        dfProbe = df[df['Dye'] == self.probe]\n",
    "        # reindex dfProbe beginning at 1\n",
    "        dfProbe.index = np.arange(1, len(dfProbe)+1)\n",
    "        return dfProbe\n",
    "    \n",
    "    def addHeatMap(self):\n",
    "        df = self.dfCreate()\n",
    "        plateMatrix = []\n",
    "        for r in range (0,8): #loop through rows\n",
    "            colList = []\n",
    "            for c in range(0,12):\n",
    "                # add Ct values to list                \n",
    "                colList.append(df['Ct'].iloc[r+(r*11)+c])\n",
    "            plateMatrix.append(colList)\n",
    "        # print(plateMatrix)\n",
    "        # substitute nan for 0\n",
    "        plateMatrix = np.nan_to_num(plateMatrix)\n",
    "        # for list in plateMatrix:\n",
    "        #     print(list)           \n",
    "        # reverse order of rows because heatmap put rows g and h at top\n",
    "        plateMatrix = plateMatrix[::-1]\n",
    "        heatmap = go.Figure(data=go.Heatmap(\n",
    "            z=plateMatrix,\n",
    "            zmin=15,\n",
    "            zmax=40))\n",
    "        \n",
    "        colText = ['1\\n50nM','2\\n50nM','3\\n100nM','4\\n100nM','5\\n200nM','6\\n200nM','7\\n400nM','8\\n400nM','9\\n600nM','10\\n600nM','11\\n800nM','12\\n800nM']\n",
    "        heatmap.update_layout(\n",
    "            height=500,\n",
    "            width=800,\n",
    "            title={'text': 'Heatmap of Ct in Plate {} ({})'.format(self.sheet, self.probe),\n",
    "            'y': 0.95,\n",
    "            'x': 0.5,\n",
    "            'xanchor': 'center',\n",
    "            'yanchor': 'top'\n",
    "            },\n",
    "            # title='Heatmap of Ct in Plate {} ({})'.format(self.sheet, self.probe),\n",
    "            xaxis=dict(title='', tickvals=[0,1,2,3,4,5,6,7,8,9,10,11], ticktext=colText, side='top'),\n",
    "            yaxis=dict(title='ROWS', tickmode='array', tickvals=[0, 1, 2, 3, 4, 5, 6, 7], ticktext=['H std curve', 'G std curve', '800nM F', '600nM E', '400nM D', '200nM C', '100nM B', '50nM A'])\n",
    "        )\n",
    "        return heatmap.show()\n",
    "    \n",
    "    def addPrimerConcToDf(self):\n",
    "        df = self.dfCreate()\n",
    "        primerConcs = [50, 100, 200, 400, 600, 800] # Fwd and rev primer concentrations\n",
    "        # add fwd primerConc values to two rows all the way to 72\n",
    "        df['F_primer'] =np.nan\n",
    "        for i in range(6): # loop through rows except last two rows containing standard curve\n",
    "            for j in range(6): # loop through primer concentration list\n",
    "                for k in range(2): # every concentration twice\n",
    "                    pos = (12*i)+(2*j)+(k+1) # translate row and column to position in df 1..96\n",
    "                    df.loc[pos, 'F_primer'] = primerConcs[j] # set value to primer concentration\n",
    "        # add rev primerConc values across single row for 6 rows\n",
    "        df['R_primer'] =np.nan\n",
    "        for m in range(6): # loop through primer concentration list\n",
    "            for n in range(12): # every concentration as a row\n",
    "                pos = (12*m)+(n+1) # translate row and column to position in df 1..96\n",
    "                df.loc[pos, 'R_primer'] = primerConcs[m] # set value to primer concentration\n",
    "        return df \n",
    "    def Periodicity(self):\n",
    "        df=self.addPrimerConcToDf()\n",
    "        # group by F and R primer concentrations and take mean\n",
    "        avg_across_row_fwd = df.groupby(by=['R_primer', 'F_primer'], as_index=False)['Ct'].mean()\n",
    "        avg_across_col_rev = df.groupby(by=['F_primer', 'R_primer'], as_index=False)['Ct'].mean()\n",
    "        # stringify 'F_primer' and 'R_primer' concentrations and concatenate and add to list\n",
    "        barHeadingsFwd = (avg_across_row_fwd['F_primer'].astype(str) + '_' + avg_across_row_fwd['R_primer'].astype(str)).tolist()\n",
    "        barHeadingsRev = (avg_across_col_rev['R_primer'].astype(str) + '_' + avg_across_col_rev['F_primer'].astype(str)).tolist()\n",
    "        figAvgFwd = px.bar(\n",
    "            avg_across_row_fwd,\n",
    "            y=avg_across_row_fwd['Ct'],\n",
    "            x=barHeadingsFwd, #avg_across_row['F_primer'],\n",
    "            labels={'x':'F Primer Concentration', 'y':'Cq'},\n",
    "            color='R_primer',\n",
    "            barmode='group',\n",
    "            text_auto=True,\n",
    "            title='Periodicity in Increasing [Fwd] (Going Across Row)<br>[Rev] Held Constant, Two Points per Condition Averaged')\n",
    "        figAvgFwd.update_layout(width=800, height=500)\n",
    "        figAvgFwd.show()\n",
    "        figAvgRev = px.bar(\n",
    "            avg_across_col_rev,\n",
    "            y=avg_across_col_rev['Ct'],\n",
    "            x=barHeadingsRev, #avg_across_row['F_primer'],\n",
    "            labels={'x':'R Primer Concentration', 'y':'Cq'},\n",
    "            color='F_primer',\n",
    "            barmode='group',\n",
    "            text_auto=True,\n",
    "            title='Periodicity in Increasing [Rev] (Going Down Column)<br>[Fwd] Held Constant, Two Points per Condition Averaged')\n",
    "        figAvgRev.update_layout(width=800, height=500)\n",
    "        return figAvgRev.show()\n",
    "    def onePhaseDecay(self, X, y0, Plateau, K):\n",
    "        return (y0-Plateau)*np.exp(-K*X)+Plateau\n",
    "    def RowAndColMeans(self):  \n",
    "        df=self.addPrimerConcToDf()  \n",
    "        row_mean = df.groupby(by='R_primer', as_index=False)['Ct'].mean() # group by R primer concentration and take mean\n",
    "        col_mean = df.groupby(by='F_primer', as_index=False)['Ct'].mean() # group by F primer concentration and take mean\n",
    "        row_conc = row_mean['R_primer'].tolist() # make list of concentrations\n",
    "        row_cq_mean = row_mean['Ct'].tolist() # make list of Cqs\n",
    "        col_conc = col_mean['F_primer'].tolist() \n",
    "        col_cq_mean = col_mean['Ct'].tolist()\n",
    "        # solve for one phase decay with scipy\n",
    "        # initialGuesses = [y0, Plateau, K] \n",
    "        # Y0 is the Y value when X (Conc) is zero. It is expressed in the same units as Y,\n",
    "        # Plateau is the Y value at infinite conc, expressed in the same units as Y.\n",
    "        # K is the rate constant, expressed in reciprocal of the X axis conc units. If X is in nM, then K is expressed in inverse nM.\n",
    "        initialGuesses = [100, 15, 0.01] # converges faster with initial guesses\n",
    "        ropt,rcov = curve_fit(self.onePhaseDecay, row_conc, row_cq_mean, initialGuesses, maxfev=10000)\n",
    "        copt,ccov = curve_fit(self.onePhaseDecay, col_conc, col_cq_mean, initialGuesses, maxfev=10000)\n",
    "        row_cq_pred = np.empty(len(row_conc)) #empty list to receive data\n",
    "        for i in range(len(row_conc)): #loop through concentrations to make cq prediction\n",
    "            # cq_pred[i]=onePhaseDecay(f_r_conc[i], initialGuesses[0], initialGuesses[1], initialGuesses[2])\n",
    "            row_cq_pred[i]=self.onePhaseDecay(row_conc[i], ropt[0], ropt[1], ropt[2])\n",
    "        col_cq_pred = np.empty(len(col_conc)) #empty list to receive data\n",
    "        for i in range(len(col_conc)): #loop through concentrations to make cq prediction\n",
    "            # cq_pred[i]=onePhaseDecay(f_r_conc[i], initialGuesses[0], initialGuesses[1], initialGuesses[2])\n",
    "            col_cq_pred[i]=self.onePhaseDecay(col_conc[i], copt[0], copt[1], copt[2])\n",
    "        # from sklearn.metrics import r2_score\n",
    "        row_R2score = r2_score(row_cq_pred, row_cq_mean)\n",
    "        col_R2score = r2_score(col_cq_pred, col_cq_mean)\n",
    "        # Generate figure\n",
    "        figRowVsColMean = go.Figure()\n",
    "        figRowVsColMean.add_trace(\n",
    "            go.Scatter(\n",
    "                x=row_conc,\n",
    "                y=row_cq_mean,\n",
    "                name='Row Mean', \n",
    "                mode='markers',\n",
    "                marker_color='#2038A8'\n",
    "                # line=dict(color='rgb(255, 0, 0)', width=2),\n",
    "                # line_shape = 'spline' # make smooth line\n",
    "            ))\n",
    "        figRowVsColMean.add_trace(\n",
    "            go.Scatter(\n",
    "                x=row_conc,\n",
    "                y=row_cq_pred,\n",
    "                name='Row (Modeled)',\n",
    "                mode='lines',\n",
    "                line=dict(color='#7564F5', width=1),\n",
    "                line_shape = 'spline' # make smooth line\n",
    "            ))\n",
    "        figRowVsColMean.add_trace(\n",
    "            go.Scatter(\n",
    "                x=col_conc,\n",
    "                y=col_cq_mean,\n",
    "                name='Col Mean',\n",
    "                mode='markers',\n",
    "                marker_color='#F58E17'\n",
    "            ))\n",
    "        figRowVsColMean.add_trace(\n",
    "            go.Scatter(\n",
    "                x=col_conc,\n",
    "                y=col_cq_pred,\n",
    "                name='Col (Modeled)',\n",
    "                mode='lines',\n",
    "                # marker_color='#F5BD69', \n",
    "                line=dict(color='#F5BD69', width=1),\n",
    "                line_shape = 'spline' # make smooth line\n",
    "            ))\n",
    "        figRowVsColMean.update_layout(\n",
    "        height=500,\n",
    "        width=800,\n",
    "        title='Row vs Col Means',\n",
    "        xaxis_title='Mean',\n",
    "        yaxis_title='Cq')\n",
    "        return figRowVsColMean.show()\n",
    "    def FwdAndRevEquivalence(self):\n",
    "        df=self.addPrimerConcToDf()  \n",
    "        # create a new df where 'F_primer' = 'R_primer' \n",
    "        df_fwd_rev = df[df['F_primer'] == df['R_primer']]\n",
    "        df_fwd_rev_mean = df_fwd_rev.groupby(by=['R_primer', 'F_primer'], as_index=False)['Ct'].mean().dropna() # take mean, remove NaN\n",
    "        # equivHeadings = (df_fwd_rev_mean['F_primer'].astype(str) + '_' + df_fwd_rev_mean['R_primer'].astype(str)).tolist()\n",
    "        # solve for one phase decay with scipy\n",
    "        # f_r_conc = [100, 200, 400, 600, 800] # F-R primer concentrations\n",
    "        # cq_actual = [37.32, 25.21, 21.27, 20.225, 18.81] # Cq values\n",
    "        f_r_conc = df_fwd_rev_mean['R_primer'].tolist() # both F_primer and R_primer are the same\n",
    "        cq_actual = df_fwd_rev_mean['Ct'].tolist()\n",
    "        # found each element in cq_actual to two decimal places\n",
    "        cq_actual = [round(x, 2) for x in cq_actual]\n",
    "        # initialGuesses = [y0, Plateau, K] \n",
    "        # Y0 is the Y value when X (Conc) is zero. It is expressed in the same units as Y,\n",
    "        # Plateau is the Y value at infinite conc, expressed in the same units as Y.\n",
    "        # K is the rate constant, expressed in reciprocal of the X axis conc units. If X is in nM, then K is expressed in inverse nM.\n",
    "        # initialGuesses = [73.29, 19.8, 0.01120] # GraphPad values\n",
    "        initialGuesses = [100, 15, 0.01]\n",
    "        popt,pcov = curve_fit(self.onePhaseDecay, f_r_conc, cq_actual, initialGuesses, maxfev=10000)\n",
    "        cq_pred = np.empty(len(cq_actual)) #empty list to receive data\n",
    "        for i in range(len(f_r_conc)): #loop through concentrations to make cq prediction\n",
    "            # cq_pred[i]=onePhaseDecay(f_r_conc[i], initialGuesses[0], initialGuesses[1], initialGuesses[2])\n",
    "            cq_pred[i]=self.onePhaseDecay(f_r_conc[i], popt[0], popt[1], popt[2])\n",
    "        # from sklearn.metrics import r2_score\n",
    "        equivR2score = r2_score(cq_pred, cq_actual)\n",
    "\n",
    "        # Plot 3 more predicted points @ 300, 500, 700nM\n",
    "        cq_pred_300 = self.onePhaseDecay(300, popt[0], popt[1], popt[2])\n",
    "        cq_pred_500 = self.onePhaseDecay(500, popt[0], popt[1], popt[2])\n",
    "        cq_pred_700 = self.onePhaseDecay(700, popt[0], popt[1], popt[2])\n",
    "        figEquivalent = go.Figure()\n",
    "        figEquivalent.add_trace(\n",
    "            go.Scatter(\n",
    "                x=f_r_conc,\n",
    "                y=cq_pred,\n",
    "                name='Cq Predicted (R^2 = ' + str(round(equivR2score, 4)) + ')', \n",
    "                mode='lines+markers',\n",
    "                line=dict(color='rgb(255, 0, 0)', width=2),\n",
    "                line_shape = 'spline' # make smooth line\n",
    "            ))\n",
    "        figEquivalent.add_trace(\n",
    "            go.Bar(\n",
    "                x=f_r_conc,\n",
    "                y=cq_actual,\n",
    "                text = cq_actual,\n",
    "                name='Cq Actual',\n",
    "                textposition='inside',\n",
    "                marker_color='#636EFA'\n",
    "            ))\n",
    "        figEquivalent.add_trace(\n",
    "            go.Bar(\n",
    "                x=[300, 500, 700],\n",
    "                y=[cq_pred_300, cq_pred_500, cq_pred_700],\n",
    "                name='Cq Predicted @300, 500, 700nM',\n",
    "                textposition='inside',\n",
    "                marker_color='#94B6FA'\n",
    "            ))\n",
    "        figEquivalent.update_layout(\n",
    "        height=500,\n",
    "        width=800,\n",
    "        title='<b>Cq when [Fwd] = [Rev]</b><br>Actual vs Predicted (One Phase Decay)<br>Two Points per Condition Averaged',\n",
    "        xaxis_title='[F=R] Primer Concentration',\n",
    "        yaxis_title='Cq')\n",
    "        return figEquivalent.show()\n",
    "    \n",
    "    def plotStandards(self, concList=[]):\n",
    "        # a list of concentrations provided by the user in form of [1e10, 1e9...] 7 elements\n",
    "        self.concList = concList \n",
    "        # if concList is empty, use default values\n",
    "        if len(self.concList) == 0:\n",
    "            # self.concList = [1,1,1,2,2,2,3,3,3,4,4,4,5,5,5,6,6,6,7,7,7]\n",
    "            self.concList = [1e10,1e9,1e8,1e7,1e6,1e5,1e4] # don't include 8 because neg; plot separately\n",
    "        # triplicate each element in concList\n",
    "        tripConcList = [np.log10(x) for x in self.concList for i in range(3)] # triplicate Cts for each concentration\n",
    "        # rename \"Property\" column with standard and Negative\n",
    "        df = self.dfCreate()\n",
    "        df.loc[73:93, \"Property\"]= \"Standard\" # make property in rows 73-93 \"Standard\"\n",
    "        df.loc[94:96, \"Property\"]= \"Negative\" \n",
    "        df.loc[73:93, 'CopiesPerRxn'] = tripConcList\n",
    "        # df.loc[73:93, \"CopiesPerRxn\"]= tripConcList\n",
    "        standardNumberList = ['Std_1', 'Std_2', 'Std_3', 'Std_4', 'Std_5', 'Std_6', 'Std_7', 'Negative']\n",
    "        # create a new column with the standard number e.g. std_1, std_2, etc.\n",
    "        df['StandardNumber'] =np.nan # create new column for standard number\n",
    "        for j in range(8): # 8 sets of triplicates on two rows\n",
    "            for k in range(3): # every concentration 3x for std curve\n",
    "                pos = 73+k+(j*3) # translate row and column to position in df 1..96\n",
    "                df.loc[pos, 'StandardNumber'] = standardNumberList[j] # set value to primer concentration\n",
    "        # select df with only standards; don't want negatives\n",
    "        standards = df.loc[df['Property'] == 'Standard']\n",
    "        # drop rows where standards['Ct'] is NaN\n",
    "        standards = standards.dropna(subset=['Ct'])\n",
    "        standardNumberMeans = standards.groupby(by=['CopiesPerRxn'], as_index=False)['Ct'].mean().dropna() # take mean, remove NaN\n",
    "        # print (standardNumberMeans)\n",
    "        # calculate the regression line\n",
    "        m, b = np.polyfit(standardNumberMeans['CopiesPerRxn'].values, standardNumberMeans['Ct'].values ,1 ) #want single value for each standard\n",
    "        regression_line = m * standardNumberMeans['CopiesPerRxn'].values + b\n",
    "        # calculate PCR efficiency\n",
    "        pcrEfficiency = (10**(-1/m) - 1)*100\n",
    "        # add pcrEfficiency to plot legend\n",
    "        # create the scatter plot with the regression line\n",
    "        figStandards = go.Figure()\n",
    "        figStandards.add_trace(go.Scatter(x=standards['CopiesPerRxn'], y=standards['Ct'], mode='markers', name='Standards'))\n",
    "        figStandards.add_trace(go.Scatter(x=standardNumberMeans['CopiesPerRxn'].values, y=regression_line, mode='lines', name='Regression Line'))\n",
    "        figStandards.update_layout(title='Standard Curve for {}. PCR Efficiency {:.3f} %'.format(self.probe, pcrEfficiency), xaxis=dict(title='Log10 (CopiesPerReaction)'), yaxis=dict(title='Ct Value'))\n",
    "        # return figStandards.show()\n",
    "        barx = standardNumberMeans['CopiesPerRxn'].values\n",
    "        bary = standardNumberMeans['Ct'].values\n",
    "        # create the bar graph trace\n",
    "        bartrace = go.Bar(x=barx, y=bary, marker=dict(color='#94B6FA'))\n",
    "        # add the trace\n",
    "        figStandards.add_trace(bartrace)        \n",
    "        figStandards.update_layout(width=800, height=500)\n",
    "        return figStandards.show()\n",
    "        \n",
    "    "
   ]
  },
  {
   "cell_type": "code",
   "execution_count": 364,
   "metadata": {},
   "outputs": [
    {
     "name": "stdout",
     "output_type": "stream",
     "text": [
      "['Detectors', 'Sample', 'Plate', 'Program', 'Quan. Raw Data', 'Quan. Result', 'Quan. AmpData-FAM', 'Quan. AmpData-CY5']\n"
     ]
    }
   ],
   "source": [
    "# show all sheet names\n",
    "sheetNames = list(dfExcel.keys())\n",
    "print(sheetNames)"
   ]
  },
  {
   "cell_type": "code",
   "execution_count": 365,
   "metadata": {},
   "outputs": [],
   "source": [
    "# instantiate probes\n",
    "probeCy5 = FluorVis('CY5')\n",
    "probeFAM = FluorVis('FAM')\n",
    "# probeHEX = FluorVis('HEX')\n",
    "# probeSYBR = FluorVis('SYBR')\n",
    "\n",
    "# FluorVis.plotAllWells(probeFAM)\n",
    "# FluorVis.plotAllWells(probeCy5)\n",
    "# FluorVis.plotIndWells(probeFAM)\n",
    "# FluorVis.plotIndWells(probeCy5)"
   ]
  },
  {
   "cell_type": "code",
   "execution_count": 366,
   "metadata": {},
   "outputs": [
    {
     "data": {
      "application/vnd.plotly.v1+json": {
       "config": {
        "plotlyServerURL": "https://plot.ly"
       },
       "data": [
        {
         "line": {
          "color": "rgb(255, 0, 0)",
          "shape": "spline",
          "width": 2
         },
         "mode": "lines+markers",
         "name": "Cq Predicted (R^2 = 0.998)",
         "type": "scatter",
         "x": [
          100,
          200,
          400,
          600,
          800
         ],
         "y": [
          30.974979880168032,
          25.583303204400867,
          24.080280499011337,
          24.00271941708354,
          23.99871700154568
         ]
        },
        {
         "marker": {
          "color": "#636EFA"
         },
         "name": "Cq Actual",
         "text": [
          "30.98",
          "25.55",
          "24.3",
          "23.96",
          "23.85"
         ],
         "textposition": "inside",
         "type": "bar",
         "x": [
          100,
          200,
          400,
          600,
          800
         ],
         "y": [
          30.98,
          25.55,
          24.3,
          23.96,
          23.85
         ]
        },
        {
         "marker": {
          "color": "#94B6FA"
         },
         "name": "Cq Predicted @300, 500, 700nM",
         "textposition": "inside",
         "type": "bar",
         "x": [
          300,
          500,
          700
         ],
         "y": [
          24.358509347369946,
          24.017076971646645,
          23.99945790017732
         ]
        }
       ],
       "layout": {
        "height": 500,
        "template": {
         "data": {
          "bar": [
           {
            "error_x": {
             "color": "#2a3f5f"
            },
            "error_y": {
             "color": "#2a3f5f"
            },
            "marker": {
             "line": {
              "color": "#E5ECF6",
              "width": 0.5
             },
             "pattern": {
              "fillmode": "overlay",
              "size": 10,
              "solidity": 0.2
             }
            },
            "type": "bar"
           }
          ],
          "barpolar": [
           {
            "marker": {
             "line": {
              "color": "#E5ECF6",
              "width": 0.5
             },
             "pattern": {
              "fillmode": "overlay",
              "size": 10,
              "solidity": 0.2
             }
            },
            "type": "barpolar"
           }
          ],
          "carpet": [
           {
            "aaxis": {
             "endlinecolor": "#2a3f5f",
             "gridcolor": "white",
             "linecolor": "white",
             "minorgridcolor": "white",
             "startlinecolor": "#2a3f5f"
            },
            "baxis": {
             "endlinecolor": "#2a3f5f",
             "gridcolor": "white",
             "linecolor": "white",
             "minorgridcolor": "white",
             "startlinecolor": "#2a3f5f"
            },
            "type": "carpet"
           }
          ],
          "choropleth": [
           {
            "colorbar": {
             "outlinewidth": 0,
             "ticks": ""
            },
            "type": "choropleth"
           }
          ],
          "contour": [
           {
            "colorbar": {
             "outlinewidth": 0,
             "ticks": ""
            },
            "colorscale": [
             [
              0,
              "#0d0887"
             ],
             [
              0.1111111111111111,
              "#46039f"
             ],
             [
              0.2222222222222222,
              "#7201a8"
             ],
             [
              0.3333333333333333,
              "#9c179e"
             ],
             [
              0.4444444444444444,
              "#bd3786"
             ],
             [
              0.5555555555555556,
              "#d8576b"
             ],
             [
              0.6666666666666666,
              "#ed7953"
             ],
             [
              0.7777777777777778,
              "#fb9f3a"
             ],
             [
              0.8888888888888888,
              "#fdca26"
             ],
             [
              1,
              "#f0f921"
             ]
            ],
            "type": "contour"
           }
          ],
          "contourcarpet": [
           {
            "colorbar": {
             "outlinewidth": 0,
             "ticks": ""
            },
            "type": "contourcarpet"
           }
          ],
          "heatmap": [
           {
            "colorbar": {
             "outlinewidth": 0,
             "ticks": ""
            },
            "colorscale": [
             [
              0,
              "#0d0887"
             ],
             [
              0.1111111111111111,
              "#46039f"
             ],
             [
              0.2222222222222222,
              "#7201a8"
             ],
             [
              0.3333333333333333,
              "#9c179e"
             ],
             [
              0.4444444444444444,
              "#bd3786"
             ],
             [
              0.5555555555555556,
              "#d8576b"
             ],
             [
              0.6666666666666666,
              "#ed7953"
             ],
             [
              0.7777777777777778,
              "#fb9f3a"
             ],
             [
              0.8888888888888888,
              "#fdca26"
             ],
             [
              1,
              "#f0f921"
             ]
            ],
            "type": "heatmap"
           }
          ],
          "heatmapgl": [
           {
            "colorbar": {
             "outlinewidth": 0,
             "ticks": ""
            },
            "colorscale": [
             [
              0,
              "#0d0887"
             ],
             [
              0.1111111111111111,
              "#46039f"
             ],
             [
              0.2222222222222222,
              "#7201a8"
             ],
             [
              0.3333333333333333,
              "#9c179e"
             ],
             [
              0.4444444444444444,
              "#bd3786"
             ],
             [
              0.5555555555555556,
              "#d8576b"
             ],
             [
              0.6666666666666666,
              "#ed7953"
             ],
             [
              0.7777777777777778,
              "#fb9f3a"
             ],
             [
              0.8888888888888888,
              "#fdca26"
             ],
             [
              1,
              "#f0f921"
             ]
            ],
            "type": "heatmapgl"
           }
          ],
          "histogram": [
           {
            "marker": {
             "pattern": {
              "fillmode": "overlay",
              "size": 10,
              "solidity": 0.2
             }
            },
            "type": "histogram"
           }
          ],
          "histogram2d": [
           {
            "colorbar": {
             "outlinewidth": 0,
             "ticks": ""
            },
            "colorscale": [
             [
              0,
              "#0d0887"
             ],
             [
              0.1111111111111111,
              "#46039f"
             ],
             [
              0.2222222222222222,
              "#7201a8"
             ],
             [
              0.3333333333333333,
              "#9c179e"
             ],
             [
              0.4444444444444444,
              "#bd3786"
             ],
             [
              0.5555555555555556,
              "#d8576b"
             ],
             [
              0.6666666666666666,
              "#ed7953"
             ],
             [
              0.7777777777777778,
              "#fb9f3a"
             ],
             [
              0.8888888888888888,
              "#fdca26"
             ],
             [
              1,
              "#f0f921"
             ]
            ],
            "type": "histogram2d"
           }
          ],
          "histogram2dcontour": [
           {
            "colorbar": {
             "outlinewidth": 0,
             "ticks": ""
            },
            "colorscale": [
             [
              0,
              "#0d0887"
             ],
             [
              0.1111111111111111,
              "#46039f"
             ],
             [
              0.2222222222222222,
              "#7201a8"
             ],
             [
              0.3333333333333333,
              "#9c179e"
             ],
             [
              0.4444444444444444,
              "#bd3786"
             ],
             [
              0.5555555555555556,
              "#d8576b"
             ],
             [
              0.6666666666666666,
              "#ed7953"
             ],
             [
              0.7777777777777778,
              "#fb9f3a"
             ],
             [
              0.8888888888888888,
              "#fdca26"
             ],
             [
              1,
              "#f0f921"
             ]
            ],
            "type": "histogram2dcontour"
           }
          ],
          "mesh3d": [
           {
            "colorbar": {
             "outlinewidth": 0,
             "ticks": ""
            },
            "type": "mesh3d"
           }
          ],
          "parcoords": [
           {
            "line": {
             "colorbar": {
              "outlinewidth": 0,
              "ticks": ""
             }
            },
            "type": "parcoords"
           }
          ],
          "pie": [
           {
            "automargin": true,
            "type": "pie"
           }
          ],
          "scatter": [
           {
            "fillpattern": {
             "fillmode": "overlay",
             "size": 10,
             "solidity": 0.2
            },
            "type": "scatter"
           }
          ],
          "scatter3d": [
           {
            "line": {
             "colorbar": {
              "outlinewidth": 0,
              "ticks": ""
             }
            },
            "marker": {
             "colorbar": {
              "outlinewidth": 0,
              "ticks": ""
             }
            },
            "type": "scatter3d"
           }
          ],
          "scattercarpet": [
           {
            "marker": {
             "colorbar": {
              "outlinewidth": 0,
              "ticks": ""
             }
            },
            "type": "scattercarpet"
           }
          ],
          "scattergeo": [
           {
            "marker": {
             "colorbar": {
              "outlinewidth": 0,
              "ticks": ""
             }
            },
            "type": "scattergeo"
           }
          ],
          "scattergl": [
           {
            "marker": {
             "colorbar": {
              "outlinewidth": 0,
              "ticks": ""
             }
            },
            "type": "scattergl"
           }
          ],
          "scattermapbox": [
           {
            "marker": {
             "colorbar": {
              "outlinewidth": 0,
              "ticks": ""
             }
            },
            "type": "scattermapbox"
           }
          ],
          "scatterpolar": [
           {
            "marker": {
             "colorbar": {
              "outlinewidth": 0,
              "ticks": ""
             }
            },
            "type": "scatterpolar"
           }
          ],
          "scatterpolargl": [
           {
            "marker": {
             "colorbar": {
              "outlinewidth": 0,
              "ticks": ""
             }
            },
            "type": "scatterpolargl"
           }
          ],
          "scatterternary": [
           {
            "marker": {
             "colorbar": {
              "outlinewidth": 0,
              "ticks": ""
             }
            },
            "type": "scatterternary"
           }
          ],
          "surface": [
           {
            "colorbar": {
             "outlinewidth": 0,
             "ticks": ""
            },
            "colorscale": [
             [
              0,
              "#0d0887"
             ],
             [
              0.1111111111111111,
              "#46039f"
             ],
             [
              0.2222222222222222,
              "#7201a8"
             ],
             [
              0.3333333333333333,
              "#9c179e"
             ],
             [
              0.4444444444444444,
              "#bd3786"
             ],
             [
              0.5555555555555556,
              "#d8576b"
             ],
             [
              0.6666666666666666,
              "#ed7953"
             ],
             [
              0.7777777777777778,
              "#fb9f3a"
             ],
             [
              0.8888888888888888,
              "#fdca26"
             ],
             [
              1,
              "#f0f921"
             ]
            ],
            "type": "surface"
           }
          ],
          "table": [
           {
            "cells": {
             "fill": {
              "color": "#EBF0F8"
             },
             "line": {
              "color": "white"
             }
            },
            "header": {
             "fill": {
              "color": "#C8D4E3"
             },
             "line": {
              "color": "white"
             }
            },
            "type": "table"
           }
          ]
         },
         "layout": {
          "annotationdefaults": {
           "arrowcolor": "#2a3f5f",
           "arrowhead": 0,
           "arrowwidth": 1
          },
          "autotypenumbers": "strict",
          "coloraxis": {
           "colorbar": {
            "outlinewidth": 0,
            "ticks": ""
           }
          },
          "colorscale": {
           "diverging": [
            [
             0,
             "#8e0152"
            ],
            [
             0.1,
             "#c51b7d"
            ],
            [
             0.2,
             "#de77ae"
            ],
            [
             0.3,
             "#f1b6da"
            ],
            [
             0.4,
             "#fde0ef"
            ],
            [
             0.5,
             "#f7f7f7"
            ],
            [
             0.6,
             "#e6f5d0"
            ],
            [
             0.7,
             "#b8e186"
            ],
            [
             0.8,
             "#7fbc41"
            ],
            [
             0.9,
             "#4d9221"
            ],
            [
             1,
             "#276419"
            ]
           ],
           "sequential": [
            [
             0,
             "#0d0887"
            ],
            [
             0.1111111111111111,
             "#46039f"
            ],
            [
             0.2222222222222222,
             "#7201a8"
            ],
            [
             0.3333333333333333,
             "#9c179e"
            ],
            [
             0.4444444444444444,
             "#bd3786"
            ],
            [
             0.5555555555555556,
             "#d8576b"
            ],
            [
             0.6666666666666666,
             "#ed7953"
            ],
            [
             0.7777777777777778,
             "#fb9f3a"
            ],
            [
             0.8888888888888888,
             "#fdca26"
            ],
            [
             1,
             "#f0f921"
            ]
           ],
           "sequentialminus": [
            [
             0,
             "#0d0887"
            ],
            [
             0.1111111111111111,
             "#46039f"
            ],
            [
             0.2222222222222222,
             "#7201a8"
            ],
            [
             0.3333333333333333,
             "#9c179e"
            ],
            [
             0.4444444444444444,
             "#bd3786"
            ],
            [
             0.5555555555555556,
             "#d8576b"
            ],
            [
             0.6666666666666666,
             "#ed7953"
            ],
            [
             0.7777777777777778,
             "#fb9f3a"
            ],
            [
             0.8888888888888888,
             "#fdca26"
            ],
            [
             1,
             "#f0f921"
            ]
           ]
          },
          "colorway": [
           "#636efa",
           "#EF553B",
           "#00cc96",
           "#ab63fa",
           "#FFA15A",
           "#19d3f3",
           "#FF6692",
           "#B6E880",
           "#FF97FF",
           "#FECB52"
          ],
          "font": {
           "color": "#2a3f5f"
          },
          "geo": {
           "bgcolor": "white",
           "lakecolor": "white",
           "landcolor": "#E5ECF6",
           "showlakes": true,
           "showland": true,
           "subunitcolor": "white"
          },
          "hoverlabel": {
           "align": "left"
          },
          "hovermode": "closest",
          "mapbox": {
           "style": "light"
          },
          "paper_bgcolor": "white",
          "plot_bgcolor": "#E5ECF6",
          "polar": {
           "angularaxis": {
            "gridcolor": "white",
            "linecolor": "white",
            "ticks": ""
           },
           "bgcolor": "#E5ECF6",
           "radialaxis": {
            "gridcolor": "white",
            "linecolor": "white",
            "ticks": ""
           }
          },
          "scene": {
           "xaxis": {
            "backgroundcolor": "#E5ECF6",
            "gridcolor": "white",
            "gridwidth": 2,
            "linecolor": "white",
            "showbackground": true,
            "ticks": "",
            "zerolinecolor": "white"
           },
           "yaxis": {
            "backgroundcolor": "#E5ECF6",
            "gridcolor": "white",
            "gridwidth": 2,
            "linecolor": "white",
            "showbackground": true,
            "ticks": "",
            "zerolinecolor": "white"
           },
           "zaxis": {
            "backgroundcolor": "#E5ECF6",
            "gridcolor": "white",
            "gridwidth": 2,
            "linecolor": "white",
            "showbackground": true,
            "ticks": "",
            "zerolinecolor": "white"
           }
          },
          "shapedefaults": {
           "line": {
            "color": "#2a3f5f"
           }
          },
          "ternary": {
           "aaxis": {
            "gridcolor": "white",
            "linecolor": "white",
            "ticks": ""
           },
           "baxis": {
            "gridcolor": "white",
            "linecolor": "white",
            "ticks": ""
           },
           "bgcolor": "#E5ECF6",
           "caxis": {
            "gridcolor": "white",
            "linecolor": "white",
            "ticks": ""
           }
          },
          "title": {
           "x": 0.05
          },
          "xaxis": {
           "automargin": true,
           "gridcolor": "white",
           "linecolor": "white",
           "ticks": "",
           "title": {
            "standoff": 15
           },
           "zerolinecolor": "white",
           "zerolinewidth": 2
          },
          "yaxis": {
           "automargin": true,
           "gridcolor": "white",
           "linecolor": "white",
           "ticks": "",
           "title": {
            "standoff": 15
           },
           "zerolinecolor": "white",
           "zerolinewidth": 2
          }
         }
        },
        "title": {
         "text": "<b>Cq when [Fwd] = [Rev]</b><br>Actual vs Predicted (One Phase Decay)<br>Two Points per Condition Averaged"
        },
        "width": 800,
        "xaxis": {
         "title": {
          "text": "[F=R] Primer Concentration"
         }
        },
        "yaxis": {
         "title": {
          "text": "Cq"
         }
        }
       }
      }
     },
     "metadata": {},
     "output_type": "display_data"
    },
    {
     "data": {
      "application/vnd.plotly.v1+json": {
       "config": {
        "plotlyServerURL": "https://plot.ly"
       },
       "data": [
        {
         "mode": "markers",
         "name": "Standards",
         "type": "scatter",
         "x": [
          11.107209969647869,
          11.107209969647869,
          11.107209969647869,
          10.107209969647869,
          10.107209969647869,
          10.107209969647869,
          9.107209969647869,
          9.107209969647869,
          9.107209969647869,
          8.107209969647869,
          8.107209969647869,
          8.107209969647869,
          7.107209969647869,
          7.107209969647869,
          7.107209969647869,
          6.107209969647869,
          6.107209969647869,
          6.107209969647869
         ],
         "y": [
          9.01,
          9.05,
          8.96,
          12.62,
          12.52,
          12.44,
          16.92,
          17.1,
          16.75,
          21.02,
          20.51,
          20.21,
          24.32,
          24.5,
          24.3,
          27.73,
          27.24,
          27.31
         ]
        },
        {
         "mode": "lines",
         "name": "Regression Line",
         "type": "scatter",
         "x": [
          6.107209969647869,
          7.107209969647869,
          8.107209969647869,
          9.107209969647869,
          10.107209969647869,
          11.107209969647869
         ],
         "y": [
          27.851111111111102,
          24.09977777777777,
          20.34844444444444,
          16.59711111111111,
          12.845777777777776,
          9.094444444444449
         ]
        },
        {
         "marker": {
          "color": "#94B6FA"
         },
         "type": "bar",
         "x": [
          6.107209969647869,
          7.107209969647869,
          8.107209969647869,
          9.107209969647869,
          10.107209969647869,
          11.107209969647869
         ],
         "y": [
          27.426666666666666,
          24.373333333333335,
          20.580000000000002,
          16.923333333333336,
          12.526666666666666,
          9.006666666666668
         ]
        }
       ],
       "layout": {
        "height": 500,
        "template": {
         "data": {
          "bar": [
           {
            "error_x": {
             "color": "#2a3f5f"
            },
            "error_y": {
             "color": "#2a3f5f"
            },
            "marker": {
             "line": {
              "color": "#E5ECF6",
              "width": 0.5
             },
             "pattern": {
              "fillmode": "overlay",
              "size": 10,
              "solidity": 0.2
             }
            },
            "type": "bar"
           }
          ],
          "barpolar": [
           {
            "marker": {
             "line": {
              "color": "#E5ECF6",
              "width": 0.5
             },
             "pattern": {
              "fillmode": "overlay",
              "size": 10,
              "solidity": 0.2
             }
            },
            "type": "barpolar"
           }
          ],
          "carpet": [
           {
            "aaxis": {
             "endlinecolor": "#2a3f5f",
             "gridcolor": "white",
             "linecolor": "white",
             "minorgridcolor": "white",
             "startlinecolor": "#2a3f5f"
            },
            "baxis": {
             "endlinecolor": "#2a3f5f",
             "gridcolor": "white",
             "linecolor": "white",
             "minorgridcolor": "white",
             "startlinecolor": "#2a3f5f"
            },
            "type": "carpet"
           }
          ],
          "choropleth": [
           {
            "colorbar": {
             "outlinewidth": 0,
             "ticks": ""
            },
            "type": "choropleth"
           }
          ],
          "contour": [
           {
            "colorbar": {
             "outlinewidth": 0,
             "ticks": ""
            },
            "colorscale": [
             [
              0,
              "#0d0887"
             ],
             [
              0.1111111111111111,
              "#46039f"
             ],
             [
              0.2222222222222222,
              "#7201a8"
             ],
             [
              0.3333333333333333,
              "#9c179e"
             ],
             [
              0.4444444444444444,
              "#bd3786"
             ],
             [
              0.5555555555555556,
              "#d8576b"
             ],
             [
              0.6666666666666666,
              "#ed7953"
             ],
             [
              0.7777777777777778,
              "#fb9f3a"
             ],
             [
              0.8888888888888888,
              "#fdca26"
             ],
             [
              1,
              "#f0f921"
             ]
            ],
            "type": "contour"
           }
          ],
          "contourcarpet": [
           {
            "colorbar": {
             "outlinewidth": 0,
             "ticks": ""
            },
            "type": "contourcarpet"
           }
          ],
          "heatmap": [
           {
            "colorbar": {
             "outlinewidth": 0,
             "ticks": ""
            },
            "colorscale": [
             [
              0,
              "#0d0887"
             ],
             [
              0.1111111111111111,
              "#46039f"
             ],
             [
              0.2222222222222222,
              "#7201a8"
             ],
             [
              0.3333333333333333,
              "#9c179e"
             ],
             [
              0.4444444444444444,
              "#bd3786"
             ],
             [
              0.5555555555555556,
              "#d8576b"
             ],
             [
              0.6666666666666666,
              "#ed7953"
             ],
             [
              0.7777777777777778,
              "#fb9f3a"
             ],
             [
              0.8888888888888888,
              "#fdca26"
             ],
             [
              1,
              "#f0f921"
             ]
            ],
            "type": "heatmap"
           }
          ],
          "heatmapgl": [
           {
            "colorbar": {
             "outlinewidth": 0,
             "ticks": ""
            },
            "colorscale": [
             [
              0,
              "#0d0887"
             ],
             [
              0.1111111111111111,
              "#46039f"
             ],
             [
              0.2222222222222222,
              "#7201a8"
             ],
             [
              0.3333333333333333,
              "#9c179e"
             ],
             [
              0.4444444444444444,
              "#bd3786"
             ],
             [
              0.5555555555555556,
              "#d8576b"
             ],
             [
              0.6666666666666666,
              "#ed7953"
             ],
             [
              0.7777777777777778,
              "#fb9f3a"
             ],
             [
              0.8888888888888888,
              "#fdca26"
             ],
             [
              1,
              "#f0f921"
             ]
            ],
            "type": "heatmapgl"
           }
          ],
          "histogram": [
           {
            "marker": {
             "pattern": {
              "fillmode": "overlay",
              "size": 10,
              "solidity": 0.2
             }
            },
            "type": "histogram"
           }
          ],
          "histogram2d": [
           {
            "colorbar": {
             "outlinewidth": 0,
             "ticks": ""
            },
            "colorscale": [
             [
              0,
              "#0d0887"
             ],
             [
              0.1111111111111111,
              "#46039f"
             ],
             [
              0.2222222222222222,
              "#7201a8"
             ],
             [
              0.3333333333333333,
              "#9c179e"
             ],
             [
              0.4444444444444444,
              "#bd3786"
             ],
             [
              0.5555555555555556,
              "#d8576b"
             ],
             [
              0.6666666666666666,
              "#ed7953"
             ],
             [
              0.7777777777777778,
              "#fb9f3a"
             ],
             [
              0.8888888888888888,
              "#fdca26"
             ],
             [
              1,
              "#f0f921"
             ]
            ],
            "type": "histogram2d"
           }
          ],
          "histogram2dcontour": [
           {
            "colorbar": {
             "outlinewidth": 0,
             "ticks": ""
            },
            "colorscale": [
             [
              0,
              "#0d0887"
             ],
             [
              0.1111111111111111,
              "#46039f"
             ],
             [
              0.2222222222222222,
              "#7201a8"
             ],
             [
              0.3333333333333333,
              "#9c179e"
             ],
             [
              0.4444444444444444,
              "#bd3786"
             ],
             [
              0.5555555555555556,
              "#d8576b"
             ],
             [
              0.6666666666666666,
              "#ed7953"
             ],
             [
              0.7777777777777778,
              "#fb9f3a"
             ],
             [
              0.8888888888888888,
              "#fdca26"
             ],
             [
              1,
              "#f0f921"
             ]
            ],
            "type": "histogram2dcontour"
           }
          ],
          "mesh3d": [
           {
            "colorbar": {
             "outlinewidth": 0,
             "ticks": ""
            },
            "type": "mesh3d"
           }
          ],
          "parcoords": [
           {
            "line": {
             "colorbar": {
              "outlinewidth": 0,
              "ticks": ""
             }
            },
            "type": "parcoords"
           }
          ],
          "pie": [
           {
            "automargin": true,
            "type": "pie"
           }
          ],
          "scatter": [
           {
            "fillpattern": {
             "fillmode": "overlay",
             "size": 10,
             "solidity": 0.2
            },
            "type": "scatter"
           }
          ],
          "scatter3d": [
           {
            "line": {
             "colorbar": {
              "outlinewidth": 0,
              "ticks": ""
             }
            },
            "marker": {
             "colorbar": {
              "outlinewidth": 0,
              "ticks": ""
             }
            },
            "type": "scatter3d"
           }
          ],
          "scattercarpet": [
           {
            "marker": {
             "colorbar": {
              "outlinewidth": 0,
              "ticks": ""
             }
            },
            "type": "scattercarpet"
           }
          ],
          "scattergeo": [
           {
            "marker": {
             "colorbar": {
              "outlinewidth": 0,
              "ticks": ""
             }
            },
            "type": "scattergeo"
           }
          ],
          "scattergl": [
           {
            "marker": {
             "colorbar": {
              "outlinewidth": 0,
              "ticks": ""
             }
            },
            "type": "scattergl"
           }
          ],
          "scattermapbox": [
           {
            "marker": {
             "colorbar": {
              "outlinewidth": 0,
              "ticks": ""
             }
            },
            "type": "scattermapbox"
           }
          ],
          "scatterpolar": [
           {
            "marker": {
             "colorbar": {
              "outlinewidth": 0,
              "ticks": ""
             }
            },
            "type": "scatterpolar"
           }
          ],
          "scatterpolargl": [
           {
            "marker": {
             "colorbar": {
              "outlinewidth": 0,
              "ticks": ""
             }
            },
            "type": "scatterpolargl"
           }
          ],
          "scatterternary": [
           {
            "marker": {
             "colorbar": {
              "outlinewidth": 0,
              "ticks": ""
             }
            },
            "type": "scatterternary"
           }
          ],
          "surface": [
           {
            "colorbar": {
             "outlinewidth": 0,
             "ticks": ""
            },
            "colorscale": [
             [
              0,
              "#0d0887"
             ],
             [
              0.1111111111111111,
              "#46039f"
             ],
             [
              0.2222222222222222,
              "#7201a8"
             ],
             [
              0.3333333333333333,
              "#9c179e"
             ],
             [
              0.4444444444444444,
              "#bd3786"
             ],
             [
              0.5555555555555556,
              "#d8576b"
             ],
             [
              0.6666666666666666,
              "#ed7953"
             ],
             [
              0.7777777777777778,
              "#fb9f3a"
             ],
             [
              0.8888888888888888,
              "#fdca26"
             ],
             [
              1,
              "#f0f921"
             ]
            ],
            "type": "surface"
           }
          ],
          "table": [
           {
            "cells": {
             "fill": {
              "color": "#EBF0F8"
             },
             "line": {
              "color": "white"
             }
            },
            "header": {
             "fill": {
              "color": "#C8D4E3"
             },
             "line": {
              "color": "white"
             }
            },
            "type": "table"
           }
          ]
         },
         "layout": {
          "annotationdefaults": {
           "arrowcolor": "#2a3f5f",
           "arrowhead": 0,
           "arrowwidth": 1
          },
          "autotypenumbers": "strict",
          "coloraxis": {
           "colorbar": {
            "outlinewidth": 0,
            "ticks": ""
           }
          },
          "colorscale": {
           "diverging": [
            [
             0,
             "#8e0152"
            ],
            [
             0.1,
             "#c51b7d"
            ],
            [
             0.2,
             "#de77ae"
            ],
            [
             0.3,
             "#f1b6da"
            ],
            [
             0.4,
             "#fde0ef"
            ],
            [
             0.5,
             "#f7f7f7"
            ],
            [
             0.6,
             "#e6f5d0"
            ],
            [
             0.7,
             "#b8e186"
            ],
            [
             0.8,
             "#7fbc41"
            ],
            [
             0.9,
             "#4d9221"
            ],
            [
             1,
             "#276419"
            ]
           ],
           "sequential": [
            [
             0,
             "#0d0887"
            ],
            [
             0.1111111111111111,
             "#46039f"
            ],
            [
             0.2222222222222222,
             "#7201a8"
            ],
            [
             0.3333333333333333,
             "#9c179e"
            ],
            [
             0.4444444444444444,
             "#bd3786"
            ],
            [
             0.5555555555555556,
             "#d8576b"
            ],
            [
             0.6666666666666666,
             "#ed7953"
            ],
            [
             0.7777777777777778,
             "#fb9f3a"
            ],
            [
             0.8888888888888888,
             "#fdca26"
            ],
            [
             1,
             "#f0f921"
            ]
           ],
           "sequentialminus": [
            [
             0,
             "#0d0887"
            ],
            [
             0.1111111111111111,
             "#46039f"
            ],
            [
             0.2222222222222222,
             "#7201a8"
            ],
            [
             0.3333333333333333,
             "#9c179e"
            ],
            [
             0.4444444444444444,
             "#bd3786"
            ],
            [
             0.5555555555555556,
             "#d8576b"
            ],
            [
             0.6666666666666666,
             "#ed7953"
            ],
            [
             0.7777777777777778,
             "#fb9f3a"
            ],
            [
             0.8888888888888888,
             "#fdca26"
            ],
            [
             1,
             "#f0f921"
            ]
           ]
          },
          "colorway": [
           "#636efa",
           "#EF553B",
           "#00cc96",
           "#ab63fa",
           "#FFA15A",
           "#19d3f3",
           "#FF6692",
           "#B6E880",
           "#FF97FF",
           "#FECB52"
          ],
          "font": {
           "color": "#2a3f5f"
          },
          "geo": {
           "bgcolor": "white",
           "lakecolor": "white",
           "landcolor": "#E5ECF6",
           "showlakes": true,
           "showland": true,
           "subunitcolor": "white"
          },
          "hoverlabel": {
           "align": "left"
          },
          "hovermode": "closest",
          "mapbox": {
           "style": "light"
          },
          "paper_bgcolor": "white",
          "plot_bgcolor": "#E5ECF6",
          "polar": {
           "angularaxis": {
            "gridcolor": "white",
            "linecolor": "white",
            "ticks": ""
           },
           "bgcolor": "#E5ECF6",
           "radialaxis": {
            "gridcolor": "white",
            "linecolor": "white",
            "ticks": ""
           }
          },
          "scene": {
           "xaxis": {
            "backgroundcolor": "#E5ECF6",
            "gridcolor": "white",
            "gridwidth": 2,
            "linecolor": "white",
            "showbackground": true,
            "ticks": "",
            "zerolinecolor": "white"
           },
           "yaxis": {
            "backgroundcolor": "#E5ECF6",
            "gridcolor": "white",
            "gridwidth": 2,
            "linecolor": "white",
            "showbackground": true,
            "ticks": "",
            "zerolinecolor": "white"
           },
           "zaxis": {
            "backgroundcolor": "#E5ECF6",
            "gridcolor": "white",
            "gridwidth": 2,
            "linecolor": "white",
            "showbackground": true,
            "ticks": "",
            "zerolinecolor": "white"
           }
          },
          "shapedefaults": {
           "line": {
            "color": "#2a3f5f"
           }
          },
          "ternary": {
           "aaxis": {
            "gridcolor": "white",
            "linecolor": "white",
            "ticks": ""
           },
           "baxis": {
            "gridcolor": "white",
            "linecolor": "white",
            "ticks": ""
           },
           "bgcolor": "#E5ECF6",
           "caxis": {
            "gridcolor": "white",
            "linecolor": "white",
            "ticks": ""
           }
          },
          "title": {
           "x": 0.05
          },
          "xaxis": {
           "automargin": true,
           "gridcolor": "white",
           "linecolor": "white",
           "ticks": "",
           "title": {
            "standoff": 15
           },
           "zerolinecolor": "white",
           "zerolinewidth": 2
          },
          "yaxis": {
           "automargin": true,
           "gridcolor": "white",
           "linecolor": "white",
           "ticks": "",
           "title": {
            "standoff": 15
           },
           "zerolinecolor": "white",
           "zerolinewidth": 2
          }
         }
        },
        "title": {
         "text": "Standard Curve for CY5. PCR Efficiency 84.745 %"
        },
        "width": 800,
        "xaxis": {
         "title": {
          "text": "Log10 (CopiesPerReaction)"
         }
        },
        "yaxis": {
         "title": {
          "text": "Ct Value"
         }
        }
       }
      }
     },
     "metadata": {},
     "output_type": "display_data"
    }
   ],
   "source": [
    "primerMatrix = PrimerMatrixVis('Quan. Result', 'CY5')\n",
    "# df = PrimerMatrixVis.dfCreate(primerMatrix)\n",
    "# display(df)\n",
    "# dfPrimer = PrimerMatrixVis.addPrimerConcToDf(primerMatrix)\n",
    "# display (dfPrimer)\n",
    "# df =PrimerMatrixVis.RowAndColMeans(primerMatrix)\n",
    "# display(df)\n",
    "# PrimerMatrixVis.addHeatMap(primerMatrix)\n",
    "# PrimerMatrixVis.Periodicity(primerMatrix)\n",
    "PrimerMatrixVis.FwdAndRevEquivalence(primerMatrix)\n",
    "conc= [1.28E11, 1.28E10, 1.28E09, 1.28E08, 1.28E07, 1.28E06, 1.28E05]\n",
    "PrimerMatrixVis.plotStandards(primerMatrix, conc)"
   ]
  }
 ],
 "metadata": {
  "kernelspec": {
   "display_name": "Python 3.8.5 ('base')",
   "language": "python",
   "name": "python3"
  },
  "language_info": {
   "codemirror_mode": {
    "name": "ipython",
    "version": 3
   },
   "file_extension": ".py",
   "mimetype": "text/x-python",
   "name": "python",
   "nbconvert_exporter": "python",
   "pygments_lexer": "ipython3",
   "version": "3.9.7"
  },
  "orig_nbformat": 2,
  "vscode": {
   "interpreter": {
    "hash": "1351e4052cb5e5ef8cb5e82d8be59617e857487b9d1507b0e4ba5c641efe6219"
   }
  }
 },
 "nbformat": 4,
 "nbformat_minor": 2
}
