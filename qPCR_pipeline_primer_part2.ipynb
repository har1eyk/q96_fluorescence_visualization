{
 "cells": [
  {
   "cell_type": "code",
   "execution_count": 29,
   "metadata": {},
   "outputs": [],
   "source": [
    "import numpy as np\n",
    "import pandas as pd\n",
    "pd.options.plotting.backend = \"plotly\"\n",
    "import plotly.graph_objects as go\n",
    "from plotly.subplots import make_subplots\n",
    "import plotly.express as px\n",
    "from scipy.optimize import curve_fit\n",
    "from sklearn.metrics import r2_score\n",
    "# print(pd.__version__)"
   ]
  },
  {
   "cell_type": "code",
   "execution_count": 30,
   "metadata": {},
   "outputs": [],
   "source": [
    "# import Excel file from Windows\n",
    "# fileDir = r'C:\\Users\\HarleyKing\\OneDrive - LuminUltra Technologies Ltd\\Documents\\Python Scripts\\canonical_pcr_data'\n",
    "# fileDir = r\"C:\\Users\\HarleyKing\\LuminUltra Technologies Ltd\\LTI Research & Development - Documents\\Automation and Assay Dev\\Exp800.24_vibrio_cholerae\\Exp800.24.03_primer_matrix\"\n",
    "# fileDir = r\"C:\\Users\\HarleyKing\\OneDrive - LuminUltra Technologies Ltd\\Documents - LTI Research & Development\\Automation and Assay Dev\\Exp800.28_Nitrifiers_for_Lab_Services\\Exp800.28.02_arch_amoA\"\n",
    "fileDir = r\"C:\\Users\\HarleyKing\\OneDrive - LuminUltra Technologies Ltd\\Documents - LTI Research & Development\\Automation and Assay Dev\\Exp800.28_Nitrifiers_for_Lab_Services\\Exp800.28.05 repeat primer matrix with LyoReady\"\n",
    "# fileDir = r'qPCR_data'\n",
    "# fileName = r'20220708_122234_SRB_dsr_test_2.xls' #cy5 data\n",
    "# fileName = r'Exp800.05.create.primer.matrix.micH.xlsx' #fam data\n",
    "# fileName = r'AF Fuel Primer Matrix Run 2 01Jun21 GH.xls' #fam data\n",
    "# fileName = r'three_fluor_assay.xls' #fam data\n",
    "# fileName = r'primer.matrix.xls' #fam data\n",
    "# fileName = r'\\20220829_155250_Exp800.24_Vch_primermatrix.xls' #fam data\n",
    "# fileName = r'20230124_145330_Exp800.28_a_amoA_primer_opt.xls' #fam data\n",
    "# fileName = r\"20230223_112423_AoB_prim_matrix_LyoReady.xls\" #fam data\n",
    "fileName = r\"20230224_002749_AoA_primer_matrix_LyoReady.xls\" #fam data\n",
    "\n",
    "# create dataframe\n",
    "dfExcel = pd.read_excel(fileDir+'\\\\'+fileName, sheet_name=None, header=None) #get all sheets"
   ]
  },
  {
   "cell_type": "code",
   "execution_count": 31,
   "metadata": {},
   "outputs": [],
   "source": [
    "class FluorVis:\n",
    "    probe: str\n",
    "    def __init__(self, probe):\n",
    "        self.probe = probe\n",
    "        # self.maxRow = self.getMaxRow()\n",
    "    def dfCreate(self): # make a df from the excel data\n",
    "        # find probe in sheet names\n",
    "        probe_sheet = [sheet for sheet in sheetNames if self.probe in sheet]\n",
    "        # create dataframe from sheet name\n",
    "        df = dfExcel[probe_sheet[0]]\n",
    "        # assign first row to be column header\n",
    "        df.columns = df.iloc[0]\n",
    "        # drop the first row (duplicate of header)\n",
    "        df = df.drop(df.index[0])\n",
    "        # convert all columns to numberic\n",
    "        df = df.apply(pd.to_numeric, errors='coerce')\n",
    "        # make index the first column\n",
    "        df.set_index('Cycle', inplace=True)\n",
    "        # fluor values less than 1 get 0\n",
    "        df = df.where(df>=1, 0)\n",
    "        return df\n",
    "    def getMaxRow(self):\n",
    "        df = self.dfCreate()\n",
    "        # get max value for each row and convert to list\n",
    "        maxRow = df.loc[df.index == 40].values.flatten().tolist()\n",
    "        # round every element in list to one decimal place, convert to str\n",
    "        maxRowRound = [str(round(x,1)) for x in maxRow]\n",
    "        return maxRowRound\n",
    "    def plotAllWells(self):\n",
    "        df = self.dfCreate()\n",
    "        # make plot of wells\n",
    "        fig = px.line(\n",
    "            df,\n",
    "            x=df.index,\n",
    "            y=list(df.columns),\n",
    "            color_discrete_sequence=px.colors.qualitative.Set3)\n",
    "        fig.update_layout(\n",
    "            height=500,\n",
    "            width=1000,\n",
    "            xaxis_title='Cycle',\n",
    "            yaxis_title='RFU ({})'.format(self.probe),\n",
    "            title_text='Cycle vs Fluorescence ({})'.format(self.probe),\n",
    "            legend_title='Well')\n",
    "        return fig.show()\n",
    "    def plotIndWells(self):\n",
    "        df = self.dfCreate() \n",
    "        maxRow = self.getMaxRow()\n",
    "        # make subplots of individual wells\n",
    "        colorsList = px.colors.qualitative.Set3\n",
    "        figSub = make_subplots(\n",
    "            rows=8, cols=12,\n",
    "            shared_xaxes=True,\n",
    "            shared_yaxes='all',\n",
    "            start_cell='top-left',\n",
    "            subplot_titles=list(df.columns)) #, subplot_titles=sub_titles, print_grid=False)\n",
    "        for r in range (0,8): #loop through rows\n",
    "            for c in range(0,12):\n",
    "                figSub.add_trace(go.Scatter(\n",
    "                    x=df.index,\n",
    "                    y=df.iloc[:,r+(r*11)+c], # this pattern translates r=8, c=12 to 0..95 columns in df (0 indexed)\n",
    "                    name=df.columns[r+(r*11)+c], # gets column name eg 'A01'\n",
    "                    mode=\"lines+text\", # allows for text to be inserted onto ind plot\n",
    "                    line_color=colorsList[c], # assign color to each well consistent with all-well plot\n",
    "                    text= ['']*32 + [maxRow[r+(r*11)+c]]+['']*7, # inserts max value onto plot at 33rd point; looks nice here\n",
    "                    textposition='top left',\n",
    "                    textfont=dict(\n",
    "                        family=\"sans serif\",\n",
    "                        size=8,\n",
    "                        color=\"black\")), # want to stand out\n",
    "                    row=r+1,\n",
    "                    col=c+1)\n",
    "        figSub.update_layout(\n",
    "            height=800,\n",
    "            width=1000,\n",
    "            showlegend=False,\n",
    "            title_text='Cycle vs Fluorescence ({})'.format(self.probe))\n",
    "        return figSub.show()\n",
    "    \n",
    "                \n"
   ]
  },
  {
   "cell_type": "code",
   "execution_count": 32,
   "metadata": {},
   "outputs": [],
   "source": [
    "class PrimerMatrixVis:\n",
    "    sheet: str\n",
    "    def __init__(self, sheet):\n",
    "        self.sheet = sheet\n",
    "    def dfCreate(self): # make a df from the excel data\n",
    "        # make df from passed sheet name\n",
    "        df = dfExcel[self.sheet]\n",
    "        # assign first row to be column header\n",
    "        df.columns = df.iloc[0]\n",
    "        # drop the first row (duplicate of header)\n",
    "        df = df.drop(df.index[0])\n",
    "        # convert all columns to numberic\n",
    "        # df = df.apply(pd.to_numeric, errors='coerce')\n",
    "        # make index the first column\n",
    "        # df.set_index('Cycle', inplace=True)\n",
    "        # fluor values less than 1 get 0\n",
    "        # df = df.where(df>=1, 0)\n",
    "        return df\n",
    "    def addPrimerConcToDf(self):\n",
    "        df = self.dfCreate()\n",
    "        primerConcs = [50, 100, 200, 400, 600, 800] # Fwd and rev primer concentrations\n",
    "        # add fwd primerConc values to two rows all the way to 72\n",
    "        df['F_primer'] =np.nan\n",
    "        for i in range(6): # loop through rows except last two rows containing standard curve\n",
    "            for j in range(6): # loop through primer concentration list\n",
    "                for k in range(2): # every concentration twice\n",
    "                    pos = (12*i)+(2*j)+(k+1) # translate row and column to position in df 1..96\n",
    "                    df.loc[pos, 'F_primer'] = primerConcs[j] # set value to primer concentration\n",
    "        # add rev primerConc values across single row for 6 rows\n",
    "        df['R_primer'] =np.nan\n",
    "        for m in range(6): # loop through primer concentration list\n",
    "            for n in range(12): # every concentration as a row\n",
    "                pos = (12*m)+(n+1) # translate row and column to position in df 1..96\n",
    "                df.loc[pos, 'R_primer'] = primerConcs[m] # set value to primer concentration\n",
    "        return df \n",
    "    def Periodicity(self):\n",
    "        df=self.addPrimerConcToDf()\n",
    "        # group by F and R primer concentrations and take mean\n",
    "        avg_across_row_fwd = df.groupby(by=['R_primer', 'F_primer'], as_index=False)['Ct'].mean()\n",
    "        avg_across_col_rev = df.groupby(by=['F_primer', 'R_primer'], as_index=False)['Ct'].mean()\n",
    "        # stringify 'F_primer' and 'R_primer' concentrations and concatenate and add to list\n",
    "        barHeadingsFwd = (avg_across_row_fwd['F_primer'].astype(str) + '_' + avg_across_row_fwd['R_primer'].astype(str)).tolist()\n",
    "        barHeadingsRev = (avg_across_col_rev['R_primer'].astype(str) + '_' + avg_across_col_rev['F_primer'].astype(str)).tolist()\n",
    "        figAvgFwd = px.bar(\n",
    "            avg_across_row_fwd,\n",
    "            y=avg_across_row_fwd['Ct'],\n",
    "            x=barHeadingsFwd, #avg_across_row['F_primer'],\n",
    "            labels={'x':'F Primer Concentration', 'y':'Cq'},\n",
    "            color='R_primer',\n",
    "            barmode='group',\n",
    "            text_auto=True,\n",
    "            title='Periodicity in Increasing [Fwd] (Going Across Row)<br>[Rev] Held Constant, Two Points per Condition Averaged')\n",
    "        figAvgFwd.show()\n",
    "        figAvgRev = px.bar(\n",
    "            avg_across_col_rev,\n",
    "            y=avg_across_col_rev['Ct'],\n",
    "            x=barHeadingsRev, #avg_across_row['F_primer'],\n",
    "            labels={'x':'R Primer Concentration', 'y':'Cq'},\n",
    "            color='F_primer',\n",
    "            barmode='group',\n",
    "            text_auto=True,\n",
    "            title='Periodicity in Increasing [Rev] (Going Down Column)<br>[Fwd] Held Constant, Two Points per Condition Averaged')\n",
    "        return figAvgRev.show()\n",
    "    def onePhaseDecay(self, X, y0, Plateau, K):\n",
    "        return (y0-Plateau)*np.exp(-K*X)+Plateau\n",
    "    def RowAndColMeans(self):  \n",
    "        df=self.addPrimerConcToDf()  \n",
    "        row_mean = df.groupby(by='R_primer', as_index=False)['Ct'].mean() # group by R primer concentration and take mean\n",
    "        col_mean = df.groupby(by='F_primer', as_index=False)['Ct'].mean() # group by F primer concentration and take mean\n",
    "        row_conc = row_mean['R_primer'].tolist() # make list of concentrations\n",
    "        row_cq_mean = row_mean['Ct'].tolist() # make list of Cqs\n",
    "        col_conc = col_mean['F_primer'].tolist() \n",
    "        col_cq_mean = col_mean['Ct'].tolist()\n",
    "        # solve for one phase decay with scipy\n",
    "        # initialGuesses = [y0, Plateau, K] \n",
    "        # Y0 is the Y value when X (Conc) is zero. It is expressed in the same units as Y,\n",
    "        # Plateau is the Y value at infinite conc, expressed in the same units as Y.\n",
    "        # K is the rate constant, expressed in reciprocal of the X axis conc units. If X is in nM, then K is expressed in inverse nM.\n",
    "        initialGuesses = [100, 15, 0.01] # converges faster with initial guesses\n",
    "        ropt,rcov = curve_fit(self.onePhaseDecay, row_conc, row_cq_mean, initialGuesses, maxfev=5000)\n",
    "        copt,ccov = curve_fit(self.onePhaseDecay, col_conc, col_cq_mean, initialGuesses, maxfev=5000)\n",
    "        row_cq_pred = np.empty(len(row_conc)) #empty list to receive data\n",
    "        for i in range(len(row_conc)): #loop through concentrations to make cq prediction\n",
    "            # cq_pred[i]=onePhaseDecay(f_r_conc[i], initialGuesses[0], initialGuesses[1], initialGuesses[2])\n",
    "            row_cq_pred[i]=self.onePhaseDecay(row_conc[i], ropt[0], ropt[1], ropt[2])\n",
    "        col_cq_pred = np.empty(len(col_conc)) #empty list to receive data\n",
    "        for i in range(len(col_conc)): #loop through concentrations to make cq prediction\n",
    "            # cq_pred[i]=onePhaseDecay(f_r_conc[i], initialGuesses[0], initialGuesses[1], initialGuesses[2])\n",
    "            col_cq_pred[i]=self.onePhaseDecay(col_conc[i], copt[0], copt[1], copt[2])\n",
    "        # from sklearn.metrics import r2_score\n",
    "        row_R2score = r2_score(row_cq_pred, row_cq_mean)\n",
    "        col_R2score = r2_score(col_cq_pred, col_cq_mean)\n",
    "        # Generate figure\n",
    "        figRowVsColMean = go.Figure()\n",
    "        figRowVsColMean.add_trace(\n",
    "            go.Scatter(\n",
    "                x=row_conc,\n",
    "                y=row_cq_mean,\n",
    "                name='Row Mean', \n",
    "                mode='markers',\n",
    "                marker_color='#2038A8'\n",
    "                # line=dict(color='rgb(255, 0, 0)', width=2),\n",
    "                # line_shape = 'spline' # make smooth line\n",
    "            ))\n",
    "        figRowVsColMean.add_trace(\n",
    "            go.Scatter(\n",
    "                x=row_conc,\n",
    "                y=row_cq_pred,\n",
    "                name='Row (Modeled)',\n",
    "                mode='lines',\n",
    "                line=dict(color='#7564F5', width=1),\n",
    "                line_shape = 'spline' # make smooth line\n",
    "            ))\n",
    "        figRowVsColMean.add_trace(\n",
    "            go.Scatter(\n",
    "                x=col_conc,\n",
    "                y=col_cq_mean,\n",
    "                name='Col Mean',\n",
    "                mode='markers',\n",
    "                marker_color='#F58E17'\n",
    "            ))\n",
    "        figRowVsColMean.add_trace(\n",
    "            go.Scatter(\n",
    "                x=col_conc,\n",
    "                y=col_cq_pred,\n",
    "                name='Col (Modeled)',\n",
    "                mode='lines',\n",
    "                # marker_color='#F5BD69', \n",
    "                line=dict(color='#F5BD69', width=1),\n",
    "                line_shape = 'spline' # make smooth line\n",
    "            ))\n",
    "        figRowVsColMean.update_layout(title='Row vs Col Means',\n",
    "        xaxis_title='Mean',\n",
    "        yaxis_title='Cq')\n",
    "        return figRowVsColMean.show()\n",
    "    def FwdAndRevEquivalence(self):\n",
    "        df=self.addPrimerConcToDf()  \n",
    "        # create a new df where 'F_primer' = 'R_primer' \n",
    "        df_fwd_rev = df[df['F_primer'] == df['R_primer']]\n",
    "        df_fwd_rev_mean = df_fwd_rev.groupby(by=['R_primer', 'F_primer'], as_index=False)['Ct'].mean().dropna() # take mean, remove NaN\n",
    "        # equivHeadings = (df_fwd_rev_mean['F_primer'].astype(str) + '_' + df_fwd_rev_mean['R_primer'].astype(str)).tolist()\n",
    "        # solve for one phase decay with scipy\n",
    "        # f_r_conc = [100, 200, 400, 600, 800] # F-R primer concentrations\n",
    "        # cq_actual = [37.32, 25.21, 21.27, 20.225, 18.81] # Cq values\n",
    "        f_r_conc = df_fwd_rev_mean['R_primer'].tolist() # both F_primer and R_primer are the same\n",
    "        cq_actual = df_fwd_rev_mean['Ct'].tolist()\n",
    "        # found each element in cq_actual to two decimal places\n",
    "        cq_actual = [round(x, 2) for x in cq_actual]\n",
    "        # initialGuesses = [y0, Plateau, K] \n",
    "        # Y0 is the Y value when X (Conc) is zero. It is expressed in the same units as Y,\n",
    "        # Plateau is the Y value at infinite conc, expressed in the same units as Y.\n",
    "        # K is the rate constant, expressed in reciprocal of the X axis conc units. If X is in nM, then K is expressed in inverse nM.\n",
    "        # initialGuesses = [73.29, 19.8, 0.01120] # GraphPad values\n",
    "        initialGuesses = [100, 15, 0.01]\n",
    "        popt,pcov = curve_fit(self.onePhaseDecay, f_r_conc, cq_actual, initialGuesses)\n",
    "        cq_pred = np.empty(len(cq_actual)) #empty list to receive data\n",
    "        for i in range(len(f_r_conc)): #loop through concentrations to make cq prediction\n",
    "            # cq_pred[i]=onePhaseDecay(f_r_conc[i], initialGuesses[0], initialGuesses[1], initialGuesses[2])\n",
    "            cq_pred[i]=self.onePhaseDecay(f_r_conc[i], popt[0], popt[1], popt[2])\n",
    "        # from sklearn.metrics import r2_score\n",
    "        equivR2score = r2_score(cq_pred, cq_actual)\n",
    "\n",
    "        # Plot 3 more predicted points @ 300, 500, 700nM\n",
    "        cq_pred_300 = self.onePhaseDecay(300, popt[0], popt[1], popt[2])\n",
    "        cq_pred_500 = self.onePhaseDecay(500, popt[0], popt[1], popt[2])\n",
    "        cq_pred_700 = self.onePhaseDecay(700, popt[0], popt[1], popt[2])\n",
    "        figEquivalent = go.Figure()\n",
    "        figEquivalent.add_trace(\n",
    "            go.Scatter(\n",
    "                x=f_r_conc,\n",
    "                y=cq_pred,\n",
    "                name='Cq Predicted (R^2 = ' + str(round(equivR2score, 4)) + ')', \n",
    "                mode='lines+markers',\n",
    "                line=dict(color='rgb(255, 0, 0)', width=2),\n",
    "                line_shape = 'spline' # make smooth line\n",
    "            ))\n",
    "        figEquivalent.add_trace(\n",
    "            go.Bar(\n",
    "                x=f_r_conc,\n",
    "                y=cq_actual,\n",
    "                text = cq_actual,\n",
    "                name='Cq Actual',\n",
    "                textposition='inside',\n",
    "                marker_color='#636EFA'\n",
    "            ))\n",
    "        figEquivalent.add_trace(\n",
    "            go.Bar(\n",
    "                x=[300, 500, 700],\n",
    "                y=[cq_pred_300, cq_pred_500, cq_pred_700],\n",
    "                name='Cq Predicted @300, 500, 700nM',\n",
    "                textposition='inside',\n",
    "                marker_color='#94B6FA'\n",
    "            ))\n",
    "        figEquivalent.update_layout(title='<b>Cq when [Fwd] = [Rev]</b><br>Actual vs Predicted (One Phase Decay)<br>Two Points per Condition Averaged',\n",
    "        xaxis_title='[F=R] Primer Concentration',\n",
    "        yaxis_title='Cq')\n",
    "        return figEquivalent.show()\n",
    "    def plotStandards(self):\n",
    "        # rename \"Property\" column with standard and Negative\n",
    "        df = self.dfCreate()\n",
    "        df.loc[73:93, \"Property\"]= \"Standard\" # make property in rows 73-93 \"Standard\"\n",
    "        df.loc[94:96, \"Property\"]= \"Negative\" \n",
    "        standardNumberList = ['Std_1', 'Std_2', 'Std_3', 'Std_4', 'Std_5', 'Std_6', 'Std_7', 'Negative']\n",
    "        # create a new column with the standard number e.g. std_1, std_2, etc.\n",
    "        df['StandardNumber'] =np.nan # create new column for standard number\n",
    "        for j in range(8): # 8 sets of triplicates on two rows\n",
    "            for k in range(3): # every concentration 3x for std curve\n",
    "                pos = 73+k+(j*3) # translate row and column to position in df 1..96\n",
    "                df.loc[pos, 'StandardNumber'] = standardNumberList[j] # set value to primer concentration\n",
    "        # select df with only standards; don't want negatives\n",
    "        standards = df.loc[df['Property'] == 'Standard']\n",
    "        standardNumberMeans = standards.groupby(by=['StandardNumber'], as_index=False)['Ct'].mean().dropna() # take mean, remove NaN\n",
    "        # display (standardNumberMeans)\n",
    "        figStandards = px.bar(\n",
    "            standardNumberMeans,\n",
    "            y=standardNumberMeans['Ct'],\n",
    "            x=standardNumberMeans['StandardNumber'], #avg_across_row['F_primer'],\n",
    "            labels={'x':'Standard', 'y':'Cq'},\n",
    "            # color='R_primer',\n",
    "            barmode='group',\n",
    "            text_auto=True,\n",
    "            title='Standard Number vs Cq' )\n",
    "        figStandards.show()\n",
    "        \n",
    "    "
   ]
  },
  {
   "cell_type": "code",
   "execution_count": 33,
   "metadata": {},
   "outputs": [
    {
     "name": "stdout",
     "output_type": "stream",
     "text": [
      "['Detectors', 'Sample', 'Plate', 'Program', 'Quan. Raw Data', 'Melt Raw Data', 'Quan. Result', 'Melt Result', 'Detail Melt Result', 'Quan. AmpData-SYBR']\n"
     ]
    }
   ],
   "source": [
    "# show all sheet names\n",
    "sheetNames = list(dfExcel.keys())\n",
    "print(sheetNames)"
   ]
  },
  {
   "cell_type": "code",
   "execution_count": 34,
   "metadata": {},
   "outputs": [
    {
     "data": {
      "application/vnd.plotly.v1+json": {
       "config": {
        "plotlyServerURL": "https://plot.ly"
       },
       "data": [
        {
         "hovertemplate": "variable=A01<br>Cycle=%{x}<br>value=%{y}<extra></extra>",
         "legendgroup": "A01",
         "line": {
          "color": "rgb(141,211,199)",
          "dash": "solid"
         },
         "marker": {
          "symbol": "circle"
         },
         "mode": "lines",
         "name": "A01",
         "showlegend": true,
         "type": "scattergl",
         "x": [
          1,
          2,
          3,
          4,
          5,
          6,
          7,
          8,
          9,
          10,
          11,
          12,
          13,
          14,
          15,
          16,
          17,
          18,
          19,
          20,
          21,
          22,
          23,
          24,
          25,
          26,
          27,
          28,
          29,
          30,
          31,
          32,
          33,
          34,
          35,
          36,
          37,
          38,
          39,
          40
         ],
         "xaxis": "x",
         "y": [
          0,
          0,
          0,
          0,
          0,
          0,
          0,
          0,
          0,
          0,
          0,
          0,
          0,
          0,
          0,
          0,
          0,
          0,
          0,
          0,
          34.0442897840277,
          134.87435484099,
          342.844598660309,
          719.81431282544,
          1347.87756245212,
          2318.13142824414,
          3710.02408155972,
          5566.23917231163,
          7871.29052405075,
          10542.5391616622,
          13438.727499168,
          16383.8427586083,
          19199.9697616399,
          21735.1104448112,
          23897.97571899,
          25615.0772759185,
          26888.9896735784,
          27770.1372947005,
          28438.5343255241,
          29106.9313563476
         ],
         "yaxis": "y"
        },
        {
         "hovertemplate": "variable=A02<br>Cycle=%{x}<br>value=%{y}<extra></extra>",
         "legendgroup": "A02",
         "line": {
          "color": "rgb(255,255,179)",
          "dash": "solid"
         },
         "marker": {
          "symbol": "circle"
         },
         "mode": "lines",
         "name": "A02",
         "showlegend": true,
         "type": "scattergl",
         "x": [
          1,
          2,
          3,
          4,
          5,
          6,
          7,
          8,
          9,
          10,
          11,
          12,
          13,
          14,
          15,
          16,
          17,
          18,
          19,
          20,
          21,
          22,
          23,
          24,
          25,
          26,
          27,
          28,
          29,
          30,
          31,
          32,
          33,
          34,
          35,
          36,
          37,
          38,
          39,
          40
         ],
         "xaxis": "x",
         "y": [
          0,
          0,
          0,
          0,
          0,
          0,
          0,
          0,
          0,
          0,
          0,
          0,
          0,
          0,
          0,
          0,
          0,
          0,
          0,
          0,
          0,
          20.0678392079002,
          75.7090834180103,
          184.572208299779,
          371.318883186002,
          665.764247269792,
          1097.36287545563,
          1687.32867192646,
          2440.45817106849,
          3339.62475029371,
          4345.6113253639,
          5402.54886196255,
          6447.86002820042,
          7422.25577572005,
          8284.78022968218,
          8997.53580942642,
          9552.56759067926,
          9960.37529229698,
          10287.5244664303,
          10614.6736405635
         ],
         "yaxis": "y"
        },
        {
         "hovertemplate": "variable=A03<br>Cycle=%{x}<br>value=%{y}<extra></extra>",
         "legendgroup": "A03",
         "line": {
          "color": "rgb(190,186,218)",
          "dash": "solid"
         },
         "marker": {
          "symbol": "circle"
         },
         "mode": "lines",
         "name": "A03",
         "showlegend": true,
         "type": "scattergl",
         "x": [
          1,
          2,
          3,
          4,
          5,
          6,
          7,
          8,
          9,
          10,
          11,
          12,
          13,
          14,
          15,
          16,
          17,
          18,
          19,
          20,
          21,
          22,
          23,
          24,
          25,
          26,
          27,
          28,
          29,
          30,
          31,
          32,
          33,
          34,
          35,
          36,
          37,
          38,
          39,
          40
         ],
         "xaxis": "x",
         "y": [
          0,
          0,
          0,
          0,
          0,
          0,
          0,
          0,
          0,
          0,
          0,
          0,
          0,
          0,
          0,
          0,
          0,
          0,
          0,
          37.7846205040991,
          156.683062283826,
          409.008709719918,
          871.848741975376,
          1642.1567204565,
          2819.39947814354,
          4477.87891930595,
          6636.73613704468,
          9239.05309509854,
          12149.1507292174,
          15172.4825403185,
          18093.0791468428,
          20717.2601740406,
          22909.8376025267,
          24611.9045491953,
          25842.2114026918,
          26659.2781160178,
          27154.4768588729,
          27423.0957923735,
          27587.1630088507,
          27751.2302253278
         ],
         "yaxis": "y"
        },
        {
         "hovertemplate": "variable=A04<br>Cycle=%{x}<br>value=%{y}<extra></extra>",
         "legendgroup": "A04",
         "line": {
          "color": "rgb(251,128,114)",
          "dash": "solid"
         },
         "marker": {
          "symbol": "circle"
         },
         "mode": "lines",
         "name": "A04",
         "showlegend": true,
         "type": "scattergl",
         "x": [
          1,
          2,
          3,
          4,
          5,
          6,
          7,
          8,
          9,
          10,
          11,
          12,
          13,
          14,
          15,
          16,
          17,
          18,
          19,
          20,
          21,
          22,
          23,
          24,
          25,
          26,
          27,
          28,
          29,
          30,
          31,
          32,
          33,
          34,
          35,
          36,
          37,
          38,
          39,
          40
         ],
         "xaxis": "x",
         "y": [
          0,
          0,
          0,
          0,
          0,
          0,
          0,
          0,
          0,
          0,
          0,
          0,
          0,
          0,
          0,
          0,
          0,
          0,
          0,
          52.2042277071573,
          202.922730208384,
          505.554893858473,
          1033.91541962489,
          1874.79493802123,
          3110.05265838676,
          4792.26925264559,
          6922.06788140819,
          9435.48368198492,
          12206.8583397761,
          15068.2422789381,
          17839.378942586,
          20359.5122395211,
          22512.4101763436,
          24239.4475454821,
          25538.5033632111,
          26452.8373262823,
          27057.7064455731,
          27420.4329188736,
          27783.1593921741,
          28145.8858654746
         ],
         "yaxis": "y"
        },
        {
         "hovertemplate": "variable=A05<br>Cycle=%{x}<br>value=%{y}<extra></extra>",
         "legendgroup": "A05",
         "line": {
          "color": "rgb(128,177,211)",
          "dash": "solid"
         },
         "marker": {
          "symbol": "circle"
         },
         "mode": "lines",
         "name": "A05",
         "showlegend": true,
         "type": "scattergl",
         "x": [
          1,
          2,
          3,
          4,
          5,
          6,
          7,
          8,
          9,
          10,
          11,
          12,
          13,
          14,
          15,
          16,
          17,
          18,
          19,
          20,
          21,
          22,
          23,
          24,
          25,
          26,
          27,
          28,
          29,
          30,
          31,
          32,
          33,
          34,
          35,
          36,
          37,
          38,
          39,
          40
         ],
         "xaxis": "x",
         "y": [
          0,
          0,
          0,
          0,
          0,
          0,
          0,
          0,
          0,
          0,
          0,
          0,
          0,
          0,
          0,
          0,
          0,
          0,
          0,
          32.8303559273785,
          130.981946234787,
          331.272354083295,
          684.508101323832,
          1251.13624486607,
          2090.16705414155,
          3244.22806984223,
          4725.39530084902,
          6506.64721428887,
          8522.25970200919,
          10677.3106043798,
          12863.4366951915,
          14974.8137575276,
          16921.0937725383,
          18632.8714694938,
          20063.8635322261,
          21197.8170996978,
          22055.9447535987,
          22690.5688202042,
          23198.0811276869,
          23701.9321872515
         ],
         "yaxis": "y"
        },
        {
         "hovertemplate": "variable=A06<br>Cycle=%{x}<br>value=%{y}<extra></extra>",
         "legendgroup": "A06",
         "line": {
          "color": "rgb(253,180,98)",
          "dash": "solid"
         },
         "marker": {
          "symbol": "circle"
         },
         "mode": "lines",
         "name": "A06",
         "showlegend": true,
         "type": "scattergl",
         "x": [
          1,
          2,
          3,
          4,
          5,
          6,
          7,
          8,
          9,
          10,
          11,
          12,
          13,
          14,
          15,
          16,
          17,
          18,
          19,
          20,
          21,
          22,
          23,
          24,
          25,
          26,
          27,
          28,
          29,
          30,
          31,
          32,
          33,
          34,
          35,
          36,
          37,
          38,
          39,
          40
         ],
         "xaxis": "x",
         "y": [
          0,
          0,
          0,
          0,
          0,
          0,
          0,
          0,
          0,
          0,
          0,
          0,
          0,
          0,
          0,
          0,
          0,
          0,
          28.7393350659937,
          120.212836102579,
          314.10558340746,
          669.369143079785,
          1262.20285913775,
          2174.44459920711,
          3473.51861795701,
          5189.65548899778,
          7297.39199671961,
          9708.68981575689,
          12282.5418948376,
          14848.980553402,
          17240.4337396699,
          19322.1456065847,
          21013.063786332,
          22291.7966389024,
          23192.2280036437,
          23772.1535749381,
          24107.0243763965,
          24273.1640659784,
          24360.1377879297,
          24447.1115098811
         ],
         "yaxis": "y"
        },
        {
         "hovertemplate": "variable=A07<br>Cycle=%{x}<br>value=%{y}<extra></extra>",
         "legendgroup": "A07",
         "line": {
          "color": "rgb(179,222,105)",
          "dash": "solid"
         },
         "marker": {
          "symbol": "circle"
         },
         "mode": "lines",
         "name": "A07",
         "showlegend": true,
         "type": "scattergl",
         "x": [
          1,
          2,
          3,
          4,
          5,
          6,
          7,
          8,
          9,
          10,
          11,
          12,
          13,
          14,
          15,
          16,
          17,
          18,
          19,
          20,
          21,
          22,
          23,
          24,
          25,
          26,
          27,
          28,
          29,
          30,
          31,
          32,
          33,
          34,
          35,
          36,
          37,
          38,
          39,
          40
         ],
         "xaxis": "x",
         "y": [
          0,
          0,
          0,
          0,
          0,
          0,
          0,
          0,
          0,
          0,
          0,
          0,
          0,
          0,
          0,
          0,
          0,
          0,
          0,
          48.8358272738968,
          194.19764968661,
          492.242001763431,
          1022.98833649004,
          1883.47510160428,
          3168.22436011673,
          4941.48887661644,
          7209.22983788697,
          9900.97936593046,
          12871.0924420588,
          15921.4199153019,
          18838.559783178,
          21436.195607631,
          23589.8268724633,
          25249.833894501,
          26442.9916068721,
          27223.9518376699,
          27685.7820487764,
          27916.1324758031,
          28049.569593666,
          28183.0067115289
         ],
         "yaxis": "y"
        },
        {
         "hovertemplate": "variable=A08<br>Cycle=%{x}<br>value=%{y}<extra></extra>",
         "legendgroup": "A08",
         "line": {
          "color": "rgb(252,205,229)",
          "dash": "solid"
         },
         "marker": {
          "symbol": "circle"
         },
         "mode": "lines",
         "name": "A08",
         "showlegend": true,
         "type": "scattergl",
         "x": [
          1,
          2,
          3,
          4,
          5,
          6,
          7,
          8,
          9,
          10,
          11,
          12,
          13,
          14,
          15,
          16,
          17,
          18,
          19,
          20,
          21,
          22,
          23,
          24,
          25,
          26,
          27,
          28,
          29,
          30,
          31,
          32,
          33,
          34,
          35,
          36,
          37,
          38,
          39,
          40
         ],
         "xaxis": "x",
         "y": [
          0,
          0,
          0,
          0,
          0,
          0,
          0,
          0,
          0,
          0,
          0,
          0,
          0,
          0,
          0,
          0,
          0,
          0,
          0,
          32.9401460960769,
          136.850744717893,
          359.578605139623,
          774.824548843092,
          1479.25683645163,
          2576.93981056366,
          4151.92249372718,
          6235.95372599296,
          8783.49390130141,
          11664.7636001726,
          14682.9757400073,
          17612.8610391417,
          20248.0302282827,
          22441.5277178,
          24127.8868301818,
          25325.6978423115,
          26096.8246926794,
          26537.1735902034,
          26725.856824187,
          26914.5400581706,
          27103.2232921543
         ],
         "yaxis": "y"
        },
        {
         "hovertemplate": "variable=A09<br>Cycle=%{x}<br>value=%{y}<extra></extra>",
         "legendgroup": "A09",
         "line": {
          "color": "rgb(217,217,217)",
          "dash": "solid"
         },
         "marker": {
          "symbol": "circle"
         },
         "mode": "lines",
         "name": "A09",
         "showlegend": true,
         "type": "scattergl",
         "x": [
          1,
          2,
          3,
          4,
          5,
          6,
          7,
          8,
          9,
          10,
          11,
          12,
          13,
          14,
          15,
          16,
          17,
          18,
          19,
          20,
          21,
          22,
          23,
          24,
          25,
          26,
          27,
          28,
          29,
          30,
          31,
          32,
          33,
          34,
          35,
          36,
          37,
          38,
          39,
          40
         ],
         "xaxis": "x",
         "y": [
          0,
          0,
          0,
          0,
          0,
          0,
          0,
          0,
          0,
          0,
          0,
          0,
          0,
          0,
          0,
          0,
          0,
          0,
          0,
          47.1122715808573,
          188.616124131665,
          479.509938313825,
          996.892868835399,
          1832.25928188939,
          3072.69199029976,
          4774.97870224056,
          6940.01463908555,
          9497.91411541957,
          12310.6129013979,
          15193.1770808787,
          17948.0984352575,
          20403.3072292245,
          22442.4007938744,
          24018.2252289528,
          25153.1036962016,
          25904.2230954046,
          26357.6846218314,
          26584.5856426574,
          26811.4866634835,
          27038.3876843096
         ],
         "yaxis": "y"
        },
        {
         "hovertemplate": "variable=A10<br>Cycle=%{x}<br>value=%{y}<extra></extra>",
         "legendgroup": "A10",
         "line": {
          "color": "rgb(188,128,189)",
          "dash": "solid"
         },
         "marker": {
          "symbol": "circle"
         },
         "mode": "lines",
         "name": "A10",
         "showlegend": true,
         "type": "scattergl",
         "x": [
          1,
          2,
          3,
          4,
          5,
          6,
          7,
          8,
          9,
          10,
          11,
          12,
          13,
          14,
          15,
          16,
          17,
          18,
          19,
          20,
          21,
          22,
          23,
          24,
          25,
          26,
          27,
          28,
          29,
          30,
          31,
          32,
          33,
          34,
          35,
          36,
          37,
          38,
          39,
          40
         ],
         "xaxis": "x",
         "y": [
          0,
          0,
          0,
          0,
          0,
          0,
          0,
          0,
          0,
          0,
          0,
          0,
          0,
          0,
          0,
          0,
          0,
          0,
          45.1419045189265,
          183.356820155921,
          471.9188730286,
          994.154866643866,
          1854.07484670417,
          3156.89269427129,
          4978.5149237292,
          7333.70423972694,
          10154.2799710552,
          13287.4771344334,
          16519.1210715373,
          19615.7427228606,
          22371.9850036727,
          24648.6888837591,
          26391.1838522183,
          27624.0753257569,
          28429.1988945824,
          28909.7504424152,
          29171.4953973032,
          29304.276626803,
          29387.4921511324,
          29470.7076754619
         ],
         "yaxis": "y"
        },
        {
         "hovertemplate": "variable=A11<br>Cycle=%{x}<br>value=%{y}<extra></extra>",
         "legendgroup": "A11",
         "line": {
          "color": "rgb(204,235,197)",
          "dash": "solid"
         },
         "marker": {
          "symbol": "circle"
         },
         "mode": "lines",
         "name": "A11",
         "showlegend": true,
         "type": "scattergl",
         "x": [
          1,
          2,
          3,
          4,
          5,
          6,
          7,
          8,
          9,
          10,
          11,
          12,
          13,
          14,
          15,
          16,
          17,
          18,
          19,
          20,
          21,
          22,
          23,
          24,
          25,
          26,
          27,
          28,
          29,
          30,
          31,
          32,
          33,
          34,
          35,
          36,
          37,
          38,
          39,
          40
         ],
         "xaxis": "x",
         "y": [
          0,
          0,
          0,
          0,
          0,
          0,
          0,
          0,
          0,
          0,
          0,
          0,
          0,
          0,
          0,
          0,
          0,
          27.948501415471,
          120.106957303275,
          322.355632130191,
          707.235869301959,
          1373.3169404166,
          2431.88380817221,
          3980.08131034107,
          6066.64793617731,
          8662.14926142917,
          11646.5101542379,
          14822.1170535713,
          17951.3218383781,
          20806.6762390628,
          23217.3913591778,
          25097.2642220461,
          26447.3894562578,
          27336.9215342699,
          27871.0020002656,
          28161.767926924,
          28307.5003383257,
          28385.3235041374,
          28443.8378298913,
          28502.3521556451
         ],
         "yaxis": "y"
        },
        {
         "hovertemplate": "variable=A12<br>Cycle=%{x}<br>value=%{y}<extra></extra>",
         "legendgroup": "A12",
         "line": {
          "color": "rgb(255,237,111)",
          "dash": "solid"
         },
         "marker": {
          "symbol": "circle"
         },
         "mode": "lines",
         "name": "A12",
         "showlegend": true,
         "type": "scattergl",
         "x": [
          1,
          2,
          3,
          4,
          5,
          6,
          7,
          8,
          9,
          10,
          11,
          12,
          13,
          14,
          15,
          16,
          17,
          18,
          19,
          20,
          21,
          22,
          23,
          24,
          25,
          26,
          27,
          28,
          29,
          30,
          31,
          32,
          33,
          34,
          35,
          36,
          37,
          38,
          39,
          40
         ],
         "xaxis": "x",
         "y": [
          0,
          0,
          0,
          0,
          0,
          0,
          0,
          0,
          0,
          0,
          0,
          0,
          0,
          0,
          0,
          0,
          0,
          0,
          50.0055729505124,
          198.512057439212,
          502.50504975377,
          1041.97742949172,
          1911.40037186547,
          3198.19185635176,
          4953.08734451595,
          7162.42807122834,
          9734.01139962411,
          12504.5069251006,
          15268.9651604607,
          17823.8579221938,
          20009.1444212172,
          21735.9733764439,
          22993.080593588,
          23832.7961997584,
          24344.6349741716,
          24627.3985075531,
          24767.6104380628,
          24821.245523712,
          24874.8806093612,
          24928.5156950104
         ],
         "yaxis": "y"
        },
        {
         "hovertemplate": "variable=B01<br>Cycle=%{x}<br>value=%{y}<extra></extra>",
         "legendgroup": "B01",
         "line": {
          "color": "rgb(141,211,199)",
          "dash": "solid"
         },
         "marker": {
          "symbol": "circle"
         },
         "mode": "lines",
         "name": "B01",
         "showlegend": true,
         "type": "scattergl",
         "x": [
          1,
          2,
          3,
          4,
          5,
          6,
          7,
          8,
          9,
          10,
          11,
          12,
          13,
          14,
          15,
          16,
          17,
          18,
          19,
          20,
          21,
          22,
          23,
          24,
          25,
          26,
          27,
          28,
          29,
          30,
          31,
          32,
          33,
          34,
          35,
          36,
          37,
          38,
          39,
          40
         ],
         "xaxis": "x",
         "y": [
          0,
          0,
          0,
          0,
          0,
          0,
          0,
          0,
          0,
          0,
          0,
          0,
          0,
          0,
          0,
          0,
          0,
          0,
          0,
          0,
          48.4074769039053,
          190.33362361797,
          478.261500977823,
          986.514669177337,
          1805.55002913055,
          3025.29832243209,
          4710.82572636367,
          6878.11977272915,
          9478.23897295447,
          12397.0902200421,
          15472.4259739686,
          18522.5322914987,
          21377.935680511,
          23904.1927848639,
          26029.4813427368,
          27696.9932208633,
          28920.4588240094,
          29752.8322696571,
          30585.2057153048,
          31417.5791609526
         ],
         "yaxis": "y"
        },
        {
         "hovertemplate": "variable=B02<br>Cycle=%{x}<br>value=%{y}<extra></extra>",
         "legendgroup": "B02",
         "line": {
          "color": "rgb(255,255,179)",
          "dash": "solid"
         },
         "marker": {
          "symbol": "circle"
         },
         "mode": "lines",
         "name": "B02",
         "showlegend": true,
         "type": "scattergl",
         "x": [
          1,
          2,
          3,
          4,
          5,
          6,
          7,
          8,
          9,
          10,
          11,
          12,
          13,
          14,
          15,
          16,
          17,
          18,
          19,
          20,
          21,
          22,
          23,
          24,
          25,
          26,
          27,
          28,
          29,
          30,
          31,
          32,
          33,
          34,
          35,
          36,
          37,
          38,
          39,
          40
         ],
         "xaxis": "x",
         "y": [
          0,
          0,
          0,
          0,
          0,
          0,
          0,
          0,
          0,
          0,
          0,
          0,
          0,
          0,
          0,
          0,
          0,
          0,
          0,
          0,
          0,
          42.2505404862997,
          161.185619370826,
          396.780931052769,
          806.284471432631,
          1460.99001504437,
          2434.59811194257,
          3785.18259903921,
          5535.002371024,
          7655.20364832204,
          10061.7989737797,
          12624.7919798423,
          15189.5307181821,
          17600.4295133656,
          19742.7711395248,
          21501.1037402328,
          22839.5662292811,
          23785.6166957596,
          24731.6671622381,
          25677.7176287166
         ],
         "yaxis": "y"
        },
        {
         "hovertemplate": "variable=B03<br>Cycle=%{x}<br>value=%{y}<extra></extra>",
         "legendgroup": "B03",
         "line": {
          "color": "rgb(190,186,218)",
          "dash": "solid"
         },
         "marker": {
          "symbol": "circle"
         },
         "mode": "lines",
         "name": "B03",
         "showlegend": true,
         "type": "scattergl",
         "x": [
          1,
          2,
          3,
          4,
          5,
          6,
          7,
          8,
          9,
          10,
          11,
          12,
          13,
          14,
          15,
          16,
          17,
          18,
          19,
          20,
          21,
          22,
          23,
          24,
          25,
          26,
          27,
          28,
          29,
          30,
          31,
          32,
          33,
          34,
          35,
          36,
          37,
          38,
          39,
          40
         ],
         "xaxis": "x",
         "y": [
          0,
          0,
          0,
          0,
          0,
          0,
          0,
          0,
          0,
          0,
          0,
          0,
          0,
          0,
          0,
          0,
          0,
          0,
          0,
          42.7500522900303,
          175.089836862734,
          452.322275789218,
          954.565791029771,
          1781.26702614637,
          3033.74552727914,
          4789.36370581536,
          7074.65507506268,
          9847.08320911626,
          12993.8645317425,
          16349.2160057118,
          19724.3386956197,
          22940.0185522513,
          25852.445916216,
          28365.1234103944,
          30441.5702098174,
          32061.8307152347,
          33255.185364097,
          34094.7076355028,
          34735.1041634738,
          35375.5006914447
         ],
         "yaxis": "y"
        },
        {
         "hovertemplate": "variable=B04<br>Cycle=%{x}<br>value=%{y}<extra></extra>",
         "legendgroup": "B04",
         "line": {
          "color": "rgb(251,128,114)",
          "dash": "solid"
         },
         "marker": {
          "symbol": "circle"
         },
         "mode": "lines",
         "name": "B04",
         "showlegend": true,
         "type": "scattergl",
         "x": [
          1,
          2,
          3,
          4,
          5,
          6,
          7,
          8,
          9,
          10,
          11,
          12,
          13,
          14,
          15,
          16,
          17,
          18,
          19,
          20,
          21,
          22,
          23,
          24,
          25,
          26,
          27,
          28,
          29,
          30,
          31,
          32,
          33,
          34,
          35,
          36,
          37,
          38,
          39,
          40
         ],
         "xaxis": "x",
         "y": [
          0,
          0,
          0,
          0,
          0,
          0,
          0,
          0,
          0,
          0,
          0,
          0,
          0,
          0,
          0,
          0,
          0,
          0,
          40.8479266584765,
          168.894858195243,
          439.120254039372,
          932.743006645366,
          1753.39332050106,
          3010.56736983583,
          4793.15105979514,
          7140.35672343338,
          10019.6207566146,
          13321.0725979347,
          16872.2242251144,
          20468.7473897573,
          23911.0547815253,
          27036.2964300467,
          29737.8184533392,
          31966.8435546667,
          33723.8693753325,
          35049.9534115689,
          36018.7676331051,
          36728.430430388,
          37299.6482221931,
          37868.4238240405
         ],
         "yaxis": "y"
        },
        {
         "hovertemplate": "variable=B05<br>Cycle=%{x}<br>value=%{y}<extra></extra>",
         "legendgroup": "B05",
         "line": {
          "color": "rgb(128,177,211)",
          "dash": "solid"
         },
         "marker": {
          "symbol": "circle"
         },
         "mode": "lines",
         "name": "B05",
         "showlegend": true,
         "type": "scattergl",
         "x": [
          1,
          2,
          3,
          4,
          5,
          6,
          7,
          8,
          9,
          10,
          11,
          12,
          13,
          14,
          15,
          16,
          17,
          18,
          19,
          20,
          21,
          22,
          23,
          24,
          25,
          26,
          27,
          28,
          29,
          30,
          31,
          32,
          33,
          34,
          35,
          36,
          37,
          38,
          39,
          40
         ],
         "xaxis": "x",
         "y": [
          0,
          0,
          0,
          0,
          0,
          0,
          0,
          0,
          0,
          0,
          0,
          0,
          0,
          0,
          0,
          0,
          0,
          0,
          0,
          36.8943561903852,
          150.84965520089,
          391.51090160779,
          833.72162796061,
          1573.76203998838,
          2713.62887190532,
          4335.42559316954,
          6473.24794004052,
          9092.85788912055,
          12087.304235398,
          15291.7271678325,
          18513.445272326,
          21566.1110655242,
          24297.7656876777,
          26607.2568053356,
          28447.5727336332,
          29824.8221503429,
          30797.415464654,
          31459.5183580489,
          31954.2129788052,
          32446.2754870612
         ],
         "yaxis": "y"
        },
        {
         "hovertemplate": "variable=B06<br>Cycle=%{x}<br>value=%{y}<extra></extra>",
         "legendgroup": "B06",
         "line": {
          "color": "rgb(253,180,98)",
          "dash": "solid"
         },
         "marker": {
          "symbol": "circle"
         },
         "mode": "lines",
         "name": "B06",
         "showlegend": true,
         "type": "scattergl",
         "x": [
          1,
          2,
          3,
          4,
          5,
          6,
          7,
          8,
          9,
          10,
          11,
          12,
          13,
          14,
          15,
          16,
          17,
          18,
          19,
          20,
          21,
          22,
          23,
          24,
          25,
          26,
          27,
          28,
          29,
          30,
          31,
          32,
          33,
          34,
          35,
          36,
          37,
          38,
          39,
          40
         ],
         "xaxis": "x",
         "y": [
          0,
          0,
          0,
          0,
          0,
          0,
          0,
          0,
          0,
          0,
          0,
          0,
          0,
          0,
          0,
          0,
          0,
          0,
          0,
          62.3035949673258,
          249.120914313194,
          629.953524769103,
          1298.05831165463,
          2359.02773207363,
          3906.71789899192,
          5994.02328831072,
          8608.17006289012,
          11660.3679500803,
          14995.583955483,
          18419.5931976241,
          21734.3326739497,
          24769.7472143508,
          27404.1943657524,
          29571.6961819932,
          31265.7354257407,
          32503.2258769581,
          33331.5655609553,
          33815.6335823062,
          34299.7016036571,
          34783.769625008
         ],
         "yaxis": "y"
        },
        {
         "hovertemplate": "variable=B07<br>Cycle=%{x}<br>value=%{y}<extra></extra>",
         "legendgroup": "B07",
         "line": {
          "color": "rgb(179,222,105)",
          "dash": "solid"
         },
         "marker": {
          "symbol": "circle"
         },
         "mode": "lines",
         "name": "B07",
         "showlegend": true,
         "type": "scattergl",
         "x": [
          1,
          2,
          3,
          4,
          5,
          6,
          7,
          8,
          9,
          10,
          11,
          12,
          13,
          14,
          15,
          16,
          17,
          18,
          19,
          20,
          21,
          22,
          23,
          24,
          25,
          26,
          27,
          28,
          29,
          30,
          31,
          32,
          33,
          34,
          35,
          36,
          37,
          38,
          39,
          40
         ],
         "xaxis": "x",
         "y": [
          0,
          0,
          0,
          0,
          0,
          0,
          0,
          0,
          0,
          0,
          0,
          0,
          0,
          0,
          0,
          0,
          0,
          0,
          0,
          45.4751238778272,
          189.87184992619,
          497.348174057132,
          1062.27592962618,
          2002.88703939191,
          3440.01049236815,
          5464.76111044013,
          8104.94234135685,
          11302.4255040056,
          14911.5962092376,
          18721.3449032058,
          22494.0423947459,
          26007.6424343086,
          29089.3401454971,
          31633.9454759725,
          33615.9445862914,
          35043.6491220365,
          35971.8415902087,
          36508.9315545808,
          36821.3144542839,
          37133.697353987
         ],
         "yaxis": "y"
        },
        {
         "hovertemplate": "variable=B08<br>Cycle=%{x}<br>value=%{y}<extra></extra>",
         "legendgroup": "B08",
         "line": {
          "color": "rgb(252,205,229)",
          "dash": "solid"
         },
         "marker": {
          "symbol": "circle"
         },
         "mode": "lines",
         "name": "B08",
         "showlegend": true,
         "type": "scattergl",
         "x": [
          1,
          2,
          3,
          4,
          5,
          6,
          7,
          8,
          9,
          10,
          11,
          12,
          13,
          14,
          15,
          16,
          17,
          18,
          19,
          20,
          21,
          22,
          23,
          24,
          25,
          26,
          27,
          28,
          29,
          30,
          31,
          32,
          33,
          34,
          35,
          36,
          37,
          38,
          39,
          40
         ],
         "xaxis": "x",
         "y": [
          0,
          0,
          0,
          0,
          0,
          0,
          0,
          0,
          0,
          0,
          0,
          0,
          0,
          0,
          0,
          0,
          0,
          0,
          0,
          67.8008810843378,
          274.358933840776,
          699.983049230315,
          1453.2265985747,
          2657.46769829914,
          4422.68604512672,
          6810.32591084689,
          9803.42678183283,
          13294.2223040244,
          17095.4672362994,
          20972.5890494287,
          24687.0528162792,
          28036.4558000182,
          30881.3604169765,
          33155.8595556998,
          34869.390984616,
          36065.7808654425,
          36820.1207775027,
          37213.563300539,
          37607.0058235753,
          38000.4483466117
         ],
         "yaxis": "y"
        },
        {
         "hovertemplate": "variable=B09<br>Cycle=%{x}<br>value=%{y}<extra></extra>",
         "legendgroup": "B09",
         "line": {
          "color": "rgb(217,217,217)",
          "dash": "solid"
         },
         "marker": {
          "symbol": "circle"
         },
         "mode": "lines",
         "name": "B09",
         "showlegend": true,
         "type": "scattergl",
         "x": [
          1,
          2,
          3,
          4,
          5,
          6,
          7,
          8,
          9,
          10,
          11,
          12,
          13,
          14,
          15,
          16,
          17,
          18,
          19,
          20,
          21,
          22,
          23,
          24,
          25,
          26,
          27,
          28,
          29,
          30,
          31,
          32,
          33,
          34,
          35,
          36,
          37,
          38,
          39,
          40
         ],
         "xaxis": "x",
         "y": [
          0,
          0,
          0,
          0,
          0,
          0,
          0,
          0,
          0,
          0,
          0,
          0,
          0,
          0,
          0,
          0,
          0,
          0,
          0,
          0,
          59.1832274350895,
          224.753881331613,
          547.224408198224,
          1090.88187906745,
          1925.60559778775,
          3112.11548179134,
          4685.239242601,
          6641.22255566521,
          8933.79460241683,
          11480.0701197711,
          14174.0260921121,
          16903.4913961113,
          19566.8913144647,
          22078.5371406303,
          24386.7786771366,
          26424.934434212,
          28184.9220080669,
          29692.1900334577,
          31199.4580588485,
          32706.7260842393
         ],
         "yaxis": "y"
        },
        {
         "hovertemplate": "variable=B10<br>Cycle=%{x}<br>value=%{y}<extra></extra>",
         "legendgroup": "B10",
         "line": {
          "color": "rgb(188,128,189)",
          "dash": "solid"
         },
         "marker": {
          "symbol": "circle"
         },
         "mode": "lines",
         "name": "B10",
         "showlegend": true,
         "type": "scattergl",
         "x": [
          1,
          2,
          3,
          4,
          5,
          6,
          7,
          8,
          9,
          10,
          11,
          12,
          13,
          14,
          15,
          16,
          17,
          18,
          19,
          20,
          21,
          22,
          23,
          24,
          25,
          26,
          27,
          28,
          29,
          30,
          31,
          32,
          33,
          34,
          35,
          36,
          37,
          38,
          39,
          40
         ],
         "xaxis": "x",
         "y": [
          0,
          0,
          0,
          0,
          0,
          0,
          0,
          0,
          0,
          0,
          0,
          0,
          0,
          0,
          0,
          0,
          0,
          0,
          0,
          63.3061585325207,
          257.252077656225,
          658.769470298976,
          1373.88620996632,
          2526.06249471163,
          4229.17864485891,
          6552.97129985334,
          9491.99343673543,
          12950.0322273113,
          16747.9412083881,
          20653.8208185866,
          24425.3493028351,
          27851.2610942095,
          30781.2995187162,
          33138.8842552988,
          34925.8130242279,
          36177.3080548311,
          36966.150561276,
          37405.2292320606,
          37648.5938457839,
          37891.9584595072
         ],
         "yaxis": "y"
        },
        {
         "hovertemplate": "variable=B11<br>Cycle=%{x}<br>value=%{y}<extra></extra>",
         "legendgroup": "B11",
         "line": {
          "color": "rgb(204,235,197)",
          "dash": "solid"
         },
         "marker": {
          "symbol": "circle"
         },
         "mode": "lines",
         "name": "B11",
         "showlegend": true,
         "type": "scattergl",
         "x": [
          1,
          2,
          3,
          4,
          5,
          6,
          7,
          8,
          9,
          10,
          11,
          12,
          13,
          14,
          15,
          16,
          17,
          18,
          19,
          20,
          21,
          22,
          23,
          24,
          25,
          26,
          27,
          28,
          29,
          30,
          31,
          32,
          33,
          34,
          35,
          36,
          37,
          38,
          39,
          40
         ],
         "xaxis": "x",
         "y": [
          0,
          0,
          0,
          0,
          0,
          0,
          0,
          0,
          0,
          0,
          0,
          0,
          0,
          0,
          0,
          0,
          0,
          0,
          0,
          49.5636121439863,
          202.439507211943,
          521.536634883714,
          1096.04701413791,
          2033.18646419354,
          3436.1769556691,
          5373.92695545796,
          7852.03978272993,
          10796.2048593996,
          14056.0177533848,
          17429.5521886523,
          20700.4479513152,
          23676.6147212484,
          26219.7585131181,
          28259.2545890756,
          29790.3521713926,
          30861.3303806003,
          31559.147734451,
          31990.6936381077,
          32286.9043914625,
          32582.9555405042
         ],
         "yaxis": "y"
        },
        {
         "hovertemplate": "variable=B12<br>Cycle=%{x}<br>value=%{y}<extra></extra>",
         "legendgroup": "B12",
         "line": {
          "color": "rgb(255,237,111)",
          "dash": "solid"
         },
         "marker": {
          "symbol": "circle"
         },
         "mode": "lines",
         "name": "B12",
         "showlegend": true,
         "type": "scattergl",
         "x": [
          1,
          2,
          3,
          4,
          5,
          6,
          7,
          8,
          9,
          10,
          11,
          12,
          13,
          14,
          15,
          16,
          17,
          18,
          19,
          20,
          21,
          22,
          23,
          24,
          25,
          26,
          27,
          28,
          29,
          30,
          31,
          32,
          33,
          34,
          35,
          36,
          37,
          38,
          39,
          40
         ],
         "xaxis": "x",
         "y": [
          0,
          0,
          0,
          0,
          0,
          0,
          0,
          0,
          0,
          0,
          0,
          0,
          0,
          0,
          0,
          0,
          0,
          0,
          0,
          40.821794897588,
          166.985833964676,
          431.913609401855,
          913.629563264652,
          1709.47707321423,
          2918.21982225256,
          4612.98973494555,
          6814.03073050398,
          9470.53889839257,
          12459.3255286751,
          15603.2612854368,
          18703.2535626956,
          21573.6376457752,
          24071.6328536673,
          26114.6921356036,
          27688.8573586141,
          28817.4438593606,
          29559.051839651,
          29981.4198796293,
          30403.7879196077,
          30826.1559595861
         ],
         "yaxis": "y"
        },
        {
         "hovertemplate": "variable=C01<br>Cycle=%{x}<br>value=%{y}<extra></extra>",
         "legendgroup": "C01",
         "line": {
          "color": "rgb(141,211,199)",
          "dash": "solid"
         },
         "marker": {
          "symbol": "circle"
         },
         "mode": "lines",
         "name": "C01",
         "showlegend": true,
         "type": "scattergl",
         "x": [
          1,
          2,
          3,
          4,
          5,
          6,
          7,
          8,
          9,
          10,
          11,
          12,
          13,
          14,
          15,
          16,
          17,
          18,
          19,
          20,
          21,
          22,
          23,
          24,
          25,
          26,
          27,
          28,
          29,
          30,
          31,
          32,
          33,
          34,
          35,
          36,
          37,
          38,
          39,
          40
         ],
         "xaxis": "x",
         "y": [
          0,
          0,
          0,
          0,
          0,
          0,
          0,
          0,
          0,
          0,
          0,
          0,
          0,
          0,
          0,
          0,
          0,
          0,
          0,
          0,
          34.8434885750436,
          138.292083352278,
          351.077422412955,
          733.988781886729,
          1365.66667104412,
          2330.86756481403,
          3700.46162328751,
          5508.75942652634,
          7735.09750375939,
          10297.033647501,
          13059.7872532203,
          15858.1472304588,
          18524.1001504383,
          20913.1191259524,
          22936.1034685703,
          24523.9318065928,
          25672.3594836161,
          26436.4012177556,
          26978.8254989499,
          27521.2497801442
         ],
         "yaxis": "y"
        },
        {
         "hovertemplate": "variable=C02<br>Cycle=%{x}<br>value=%{y}<extra></extra>",
         "legendgroup": "C02",
         "line": {
          "color": "rgb(255,255,179)",
          "dash": "solid"
         },
         "marker": {
          "symbol": "circle"
         },
         "mode": "lines",
         "name": "C02",
         "showlegend": true,
         "type": "scattergl",
         "x": [
          1,
          2,
          3,
          4,
          5,
          6,
          7,
          8,
          9,
          10,
          11,
          12,
          13,
          14,
          15,
          16,
          17,
          18,
          19,
          20,
          21,
          22,
          23,
          24,
          25,
          26,
          27,
          28,
          29,
          30,
          31,
          32,
          33,
          34,
          35,
          36,
          37,
          38,
          39,
          40
         ],
         "xaxis": "x",
         "y": [
          0,
          0,
          0,
          0,
          0,
          0,
          0,
          0,
          0,
          0,
          0,
          0,
          0,
          0,
          0,
          0,
          0,
          0,
          0,
          0,
          0,
          39.9951634651513,
          151.991554928579,
          373.673134599406,
          760.023402195259,
          1380.86190957858,
          2310.05547623968,
          3608.04557128381,
          5301.33797334473,
          7365.88975550985,
          9721.71607777259,
          12240.4834627983,
          14766.0980389214,
          17139.6350323012,
          19225.3527736195,
          20939.5753907741,
          22272.5258743448,
          23271.327878037,
          24076.9198910307,
          24876.8785058049
         ],
         "yaxis": "y"
        },
        {
         "hovertemplate": "variable=C03<br>Cycle=%{x}<br>value=%{y}<extra></extra>",
         "legendgroup": "C03",
         "line": {
          "color": "rgb(190,186,218)",
          "dash": "solid"
         },
         "marker": {
          "symbol": "circle"
         },
         "mode": "lines",
         "name": "C03",
         "showlegend": true,
         "type": "scattergl",
         "x": [
          1,
          2,
          3,
          4,
          5,
          6,
          7,
          8,
          9,
          10,
          11,
          12,
          13,
          14,
          15,
          16,
          17,
          18,
          19,
          20,
          21,
          22,
          23,
          24,
          25,
          26,
          27,
          28,
          29,
          30,
          31,
          32,
          33,
          34,
          35,
          36,
          37,
          38,
          39,
          40
         ],
         "xaxis": "x",
         "y": [
          0,
          0,
          0,
          0,
          0,
          0,
          0,
          0,
          0,
          0,
          0,
          0,
          0,
          0,
          0,
          0,
          0,
          0,
          0,
          46.8638258618818,
          186.725390183079,
          472.033471120065,
          976.129485487206,
          1787.72354845802,
          2994.57379697302,
          4660.79564794113,
          6804.79243216887,
          9385.01628297912,
          12300.0680011324,
          15404.4327338751,
          18533.8727847864,
          21532.4405631508,
          24274.3971452243,
          26672.0748940726,
          28689.8500943299,
          30293.7704724145,
          31505.4305464382,
          32377.6013618092,
          33069.7309142324,
          33761.8604666556
         ],
         "yaxis": "y"
        },
        {
         "hovertemplate": "variable=C04<br>Cycle=%{x}<br>value=%{y}<extra></extra>",
         "legendgroup": "C04",
         "line": {
          "color": "rgb(251,128,114)",
          "dash": "solid"
         },
         "marker": {
          "symbol": "circle"
         },
         "mode": "lines",
         "name": "C04",
         "showlegend": true,
         "type": "scattergl",
         "x": [
          1,
          2,
          3,
          4,
          5,
          6,
          7,
          8,
          9,
          10,
          11,
          12,
          13,
          14,
          15,
          16,
          17,
          18,
          19,
          20,
          21,
          22,
          23,
          24,
          25,
          26,
          27,
          28,
          29,
          30,
          31,
          32,
          33,
          34,
          35,
          36,
          37,
          38,
          39,
          40
         ],
         "xaxis": "x",
         "y": [
          0,
          0,
          0,
          0,
          0,
          0,
          0,
          0,
          0,
          0,
          0,
          0,
          0,
          0,
          0,
          0,
          0,
          0,
          0,
          42.3785719171943,
          169.217716671418,
          430.091996024276,
          896.199972449819,
          1655.46697434229,
          2797.15323136245,
          4388.97412294605,
          6453.75305946265,
          8953.74742993983,
          11788.6721608092,
          14810.232614019,
          17848.2366632094,
          20739.9233997597,
          23355.6279265701,
          25609.9952511273,
          27474.4256118285,
          28931.8522234093,
          30018.1106695823,
          30788.7412441154,
          31559.3718186485,
          32330.0023931816
         ],
         "yaxis": "y"
        },
        {
         "hovertemplate": "variable=C05<br>Cycle=%{x}<br>value=%{y}<extra></extra>",
         "legendgroup": "C05",
         "line": {
          "color": "rgb(128,177,211)",
          "dash": "solid"
         },
         "marker": {
          "symbol": "circle"
         },
         "mode": "lines",
         "name": "C05",
         "showlegend": true,
         "type": "scattergl",
         "x": [
          1,
          2,
          3,
          4,
          5,
          6,
          7,
          8,
          9,
          10,
          11,
          12,
          13,
          14,
          15,
          16,
          17,
          18,
          19,
          20,
          21,
          22,
          23,
          24,
          25,
          26,
          27,
          28,
          29,
          30,
          31,
          32,
          33,
          34,
          35,
          36,
          37,
          38,
          39,
          40
         ],
         "xaxis": "x",
         "y": [
          0,
          0,
          0,
          0,
          0,
          0,
          0,
          0,
          0,
          0,
          0,
          0,
          0,
          0,
          0,
          0,
          0,
          0,
          0,
          54.8461134029369,
          215.527351475343,
          538.838955995718,
          1100.67875444943,
          1987.00593618347,
          3274.41928494922,
          5005.5877981425,
          7167.35114339354,
          9680.04532496105,
          12403.5315145705,
          15159.9817779068,
          17766.5833668568,
          20069.4807288405,
          21969.3790299566,
          23431.3658015601,
          24482.3893665498,
          25180.7548259306,
          25608.2650256824,
          25849.0053620036,
          26003.3290812546,
          26157.6528005056
         ],
         "yaxis": "y"
        },
        {
         "hovertemplate": "variable=C06<br>Cycle=%{x}<br>value=%{y}<extra></extra>",
         "legendgroup": "C06",
         "line": {
          "color": "rgb(253,180,98)",
          "dash": "solid"
         },
         "marker": {
          "symbol": "circle"
         },
         "mode": "lines",
         "name": "C06",
         "showlegend": true,
         "type": "scattergl",
         "x": [
          1,
          2,
          3,
          4,
          5,
          6,
          7,
          8,
          9,
          10,
          11,
          12,
          13,
          14,
          15,
          16,
          17,
          18,
          19,
          20,
          21,
          22,
          23,
          24,
          25,
          26,
          27,
          28,
          29,
          30,
          31,
          32,
          33,
          34,
          35,
          36,
          37,
          38,
          39,
          40
         ],
         "xaxis": "x",
         "y": [
          0,
          0,
          0,
          0,
          0,
          0,
          0,
          0,
          0,
          0,
          0,
          0,
          0,
          0,
          0,
          0,
          0,
          0,
          0,
          44.4055627827634,
          177.732833417087,
          451.102272140791,
          935.999219851744,
          1717.5525390003,
          2877.55555721757,
          4471.42116236434,
          6505.02197363855,
          8920.00826746791,
          11595.0100623521,
          14363.3282471715,
          17042.2439228309,
          19466.9689962563,
          21518.5971370382,
          23138.8330702738,
          24334.5977157389,
          25145.84335232,
          25642.6664710231,
          25910.1857859958,
          26060.8834395075,
          26211.5810930192
         ],
         "yaxis": "y"
        },
        {
         "hovertemplate": "variable=C07<br>Cycle=%{x}<br>value=%{y}<extra></extra>",
         "legendgroup": "C07",
         "line": {
          "color": "rgb(179,222,105)",
          "dash": "solid"
         },
         "marker": {
          "symbol": "circle"
         },
         "mode": "lines",
         "name": "C07",
         "showlegend": true,
         "type": "scattergl",
         "x": [
          1,
          2,
          3,
          4,
          5,
          6,
          7,
          8,
          9,
          10,
          11,
          12,
          13,
          14,
          15,
          16,
          17,
          18,
          19,
          20,
          21,
          22,
          23,
          24,
          25,
          26,
          27,
          28,
          29,
          30,
          31,
          32,
          33,
          34,
          35,
          36,
          37,
          38,
          39,
          40
         ],
         "xaxis": "x",
         "y": [
          0,
          0,
          0,
          0,
          0,
          0,
          0,
          0,
          0,
          0,
          0,
          0,
          0,
          0,
          0,
          0,
          0,
          0,
          0,
          42.1664741263852,
          183.185254495617,
          490.631532351495,
          1063.8937682145,
          2027.51888422409,
          3508.67962072468,
          5603.09254852407,
          8338.81979702556,
          11652.9298218331,
          15392.4824352014,
          19340.731861558,
          23260.8373671313,
          26942.1477516201,
          30233.9841294464,
          33056.8587025512,
          35403.8422347876,
          37298.234450664,
          38807.1544004676,
          40020.7289380052,
          41082.9817596766,
          42145.2345813481
         ],
         "yaxis": "y"
        },
        {
         "hovertemplate": "variable=C08<br>Cycle=%{x}<br>value=%{y}<extra></extra>",
         "legendgroup": "C08",
         "line": {
          "color": "rgb(252,205,229)",
          "dash": "solid"
         },
         "marker": {
          "symbol": "circle"
         },
         "mode": "lines",
         "name": "C08",
         "showlegend": true,
         "type": "scattergl",
         "x": [
          1,
          2,
          3,
          4,
          5,
          6,
          7,
          8,
          9,
          10,
          11,
          12,
          13,
          14,
          15,
          16,
          17,
          18,
          19,
          20,
          21,
          22,
          23,
          24,
          25,
          26,
          27,
          28,
          29,
          30,
          31,
          32,
          33,
          34,
          35,
          36,
          37,
          38,
          39,
          40
         ],
         "xaxis": "x",
         "y": [
          0,
          0,
          0,
          0,
          0,
          0,
          0,
          0,
          0,
          0,
          0,
          0,
          0,
          0,
          0,
          0,
          0,
          0,
          0,
          58.8535623593945,
          241.835855344587,
          626.312641799218,
          1322.66464073657,
          2464.02976175002,
          4179.24991807219,
          6554.98551888536,
          9599.97204672868,
          13225.8069325131,
          17253.8992849197,
          21448.3803938451,
          25563.773787037,
          29390.6922267317,
          32786.9009803496,
          35683.6222120054,
          38083.5402616663,
          40013.1604370547,
          41541.7763146458,
          42760.8430418573,
          43820.8930914966,
          44880.9431411359
         ],
         "yaxis": "y"
        },
        {
         "hovertemplate": "variable=C09<br>Cycle=%{x}<br>value=%{y}<extra></extra>",
         "legendgroup": "C09",
         "line": {
          "color": "rgb(217,217,217)",
          "dash": "solid"
         },
         "marker": {
          "symbol": "circle"
         },
         "mode": "lines",
         "name": "C09",
         "showlegend": true,
         "type": "scattergl",
         "x": [
          1,
          2,
          3,
          4,
          5,
          6,
          7,
          8,
          9,
          10,
          11,
          12,
          13,
          14,
          15,
          16,
          17,
          18,
          19,
          20,
          21,
          22,
          23,
          24,
          25,
          26,
          27,
          28,
          29,
          30,
          31,
          32,
          33,
          34,
          35,
          36,
          37,
          38,
          39,
          40
         ],
         "xaxis": "x",
         "y": [
          0,
          0,
          0,
          0,
          0,
          0,
          0,
          0,
          0,
          0,
          0,
          0,
          0,
          0,
          0,
          0,
          0,
          0,
          0,
          47.1850231184991,
          197.548024321676,
          518.588307971834,
          1109.50076807235,
          2094.18106416553,
          3598.24045707683,
          5714.76861173516,
          8469.47882976359,
          11798.5592934157,
          15549.7721450852,
          19508.951554514,
          23442.6016320751,
          27142.6094775866,
          30460.9957824622,
          33319.7322482883,
          35713.0105966585,
          37658.3509462924,
          39224.1237769123,
          40492.6227532538,
          41618.8220741287,
          42745.0213950036
         ],
         "yaxis": "y"
        },
        {
         "hovertemplate": "variable=C10<br>Cycle=%{x}<br>value=%{y}<extra></extra>",
         "legendgroup": "C10",
         "line": {
          "color": "rgb(188,128,189)",
          "dash": "solid"
         },
         "marker": {
          "symbol": "circle"
         },
         "mode": "lines",
         "name": "C10",
         "showlegend": true,
         "type": "scattergl",
         "x": [
          1,
          2,
          3,
          4,
          5,
          6,
          7,
          8,
          9,
          10,
          11,
          12,
          13,
          14,
          15,
          16,
          17,
          18,
          19,
          20,
          21,
          22,
          23,
          24,
          25,
          26,
          27,
          28,
          29,
          30,
          31,
          32,
          33,
          34,
          35,
          36,
          37,
          38,
          39,
          40
         ],
         "xaxis": "x",
         "y": [
          0,
          0,
          0,
          0,
          0,
          0,
          0,
          0,
          0,
          0,
          0,
          0,
          0,
          0,
          0,
          0,
          0,
          0,
          0,
          58.0641437367022,
          240.216191196347,
          624.664365316752,
          1322.77366943159,
          2468.36280431224,
          4189.90543506313,
          6572.23217833626,
          9620.73635929797,
          13243.5600223426,
          17258.7460610709,
          21426.721212787,
          25501.8288281157,
          29279.4181849891,
          32626.5697248722,
          35495.0548164502,
          37904.3508467727,
          39935.231113937,
          41679.4328906867,
          43257.742521482,
          44742.0739458136,
          46226.4053701451
         ],
         "yaxis": "y"
        },
        {
         "hovertemplate": "variable=C11<br>Cycle=%{x}<br>value=%{y}<extra></extra>",
         "legendgroup": "C11",
         "line": {
          "color": "rgb(204,235,197)",
          "dash": "solid"
         },
         "marker": {
          "symbol": "circle"
         },
         "mode": "lines",
         "name": "C11",
         "showlegend": true,
         "type": "scattergl",
         "x": [
          1,
          2,
          3,
          4,
          5,
          6,
          7,
          8,
          9,
          10,
          11,
          12,
          13,
          14,
          15,
          16,
          17,
          18,
          19,
          20,
          21,
          22,
          23,
          24,
          25,
          26,
          27,
          28,
          29,
          30,
          31,
          32,
          33,
          34,
          35,
          36,
          37,
          38,
          39,
          40
         ],
         "xaxis": "x",
         "y": [
          0,
          0,
          0,
          0,
          0,
          0,
          0,
          0,
          0,
          0,
          0,
          0,
          0,
          0,
          0,
          0,
          0,
          0,
          0,
          71.4686079661144,
          288.740127483075,
          735.959451760766,
          1527.09184194674,
          2791.82445986068,
          4645.36939185774,
          7151.67715326441,
          10292.9214509121,
          13957.7204090409,
          17955.624863717,
          22053.7851955435,
          26022.6053052873,
          29675.6722580394,
          32893.0844174732,
          35623.393535905,
          37877.8040606093,
          39691.3298792345,
          41130.3716901194,
          42264.9682618256,
          43399.5648335319,
          44534.1614052381
         ],
         "yaxis": "y"
        },
        {
         "hovertemplate": "variable=C12<br>Cycle=%{x}<br>value=%{y}<extra></extra>",
         "legendgroup": "C12",
         "line": {
          "color": "rgb(255,237,111)",
          "dash": "solid"
         },
         "marker": {
          "symbol": "circle"
         },
         "mode": "lines",
         "name": "C12",
         "showlegend": true,
         "type": "scattergl",
         "x": [
          1,
          2,
          3,
          4,
          5,
          6,
          7,
          8,
          9,
          10,
          11,
          12,
          13,
          14,
          15,
          16,
          17,
          18,
          19,
          20,
          21,
          22,
          23,
          24,
          25,
          26,
          27,
          28,
          29,
          30,
          31,
          32,
          33,
          34,
          35,
          36,
          37,
          38,
          39,
          40
         ],
         "xaxis": "x",
         "y": [
          0,
          0,
          0,
          0,
          0,
          0,
          0,
          0,
          0,
          0,
          0,
          0,
          0,
          0,
          0,
          0,
          0,
          0,
          0,
          63.4595005099521,
          258.463275426396,
          662.790099211417,
          1383.00114680277,
          2541.88289630009,
          4251.18495038222,
          6577.25966936109,
          9511.15410223434,
          12956.0168595401,
          16738.4191570153,
          20641.0100596078,
          24444.8926720864,
          27968.5077121836,
          31092.7202706843,
          33762.6545429076,
          35976.9840368888,
          37777.0371728506,
          39234.8595813275,
          40448.3167737562,
          41530.1318501765,
          42609.0807981127
         ],
         "yaxis": "y"
        },
        {
         "hovertemplate": "variable=D01<br>Cycle=%{x}<br>value=%{y}<extra></extra>",
         "legendgroup": "D01",
         "line": {
          "color": "rgb(141,211,199)",
          "dash": "solid"
         },
         "marker": {
          "symbol": "circle"
         },
         "mode": "lines",
         "name": "D01",
         "showlegend": true,
         "type": "scattergl",
         "x": [
          1,
          2,
          3,
          4,
          5,
          6,
          7,
          8,
          9,
          10,
          11,
          12,
          13,
          14,
          15,
          16,
          17,
          18,
          19,
          20,
          21,
          22,
          23,
          24,
          25,
          26,
          27,
          28,
          29,
          30,
          31,
          32,
          33,
          34,
          35,
          36,
          37,
          38,
          39,
          40
         ],
         "xaxis": "x",
         "y": [
          0,
          0,
          0,
          0,
          0,
          0,
          0,
          0,
          0,
          0,
          0,
          0,
          0,
          0,
          0,
          0,
          0,
          0,
          0,
          0,
          40.688050451235,
          163.277153056185,
          416.24450085199,
          869.848543335933,
          1612.13574626478,
          2734.91731732356,
          4311.64994651847,
          6373.35475044936,
          8890.41651552763,
          11767.4573765566,
          14854.5746952811,
          17971.0876478643,
          20935.6129065547,
          23591.80428701,
          25843.818176213,
          27610.0227857737,
          28884.8804248429,
          29717.388449499,
          30549.896474155,
          31382.4044988111
         ],
         "yaxis": "y"
        },
        {
         "hovertemplate": "variable=D02<br>Cycle=%{x}<br>value=%{y}<extra></extra>",
         "legendgroup": "D02",
         "line": {
          "color": "rgb(255,255,179)",
          "dash": "solid"
         },
         "marker": {
          "symbol": "circle"
         },
         "mode": "lines",
         "name": "D02",
         "showlegend": true,
         "type": "scattergl",
         "x": [
          1,
          2,
          3,
          4,
          5,
          6,
          7,
          8,
          9,
          10,
          11,
          12,
          13,
          14,
          15,
          16,
          17,
          18,
          19,
          20,
          21,
          22,
          23,
          24,
          25,
          26,
          27,
          28,
          29,
          30,
          31,
          32,
          33,
          34,
          35,
          36,
          37,
          38,
          39,
          40
         ],
         "xaxis": "x",
         "y": [
          0,
          0,
          0,
          0,
          0,
          0,
          0,
          0,
          0,
          0,
          0,
          0,
          0,
          0,
          0,
          0,
          0,
          0,
          0,
          0,
          0,
          36.1223852046129,
          137.658775521412,
          339.198113285808,
          692.212390336407,
          1263.77384218279,
          2127.17595757054,
          3345.42880847802,
          4950.57514494443,
          6925.7748444669,
          9197.8844845535,
          11642.7698039971,
          14104.2806305589,
          16420.2049696312,
          18449.8417433382,
          20104.3805080882,
          21371.4797869092,
          22296.966474948,
          23025.413456599,
          23748.3664607863
         ],
         "yaxis": "y"
        },
        {
         "hovertemplate": "variable=D03<br>Cycle=%{x}<br>value=%{y}<extra></extra>",
         "legendgroup": "D03",
         "line": {
          "color": "rgb(190,186,218)",
          "dash": "solid"
         },
         "marker": {
          "symbol": "circle"
         },
         "mode": "lines",
         "name": "D03",
         "showlegend": true,
         "type": "scattergl",
         "x": [
          1,
          2,
          3,
          4,
          5,
          6,
          7,
          8,
          9,
          10,
          11,
          12,
          13,
          14,
          15,
          16,
          17,
          18,
          19,
          20,
          21,
          22,
          23,
          24,
          25,
          26,
          27,
          28,
          29,
          30,
          31,
          32,
          33,
          34,
          35,
          36,
          37,
          38,
          39,
          40
         ],
         "xaxis": "x",
         "y": [
          0,
          0,
          0,
          0,
          0,
          0,
          0,
          0,
          0,
          0,
          0,
          0,
          0,
          0,
          0,
          0,
          0,
          0,
          0,
          40.6134288413167,
          167.732913804006,
          436.362733025557,
          927.331846402407,
          1742.75441988025,
          2989.04874654541,
          4750.16307952771,
          7059.25757556707,
          9878.75799964961,
          13097.0994512771,
          16545.1916931614,
          20027.2396362182,
          23355.160070395,
          26377.890644391,
          28993.0952472419,
          31162.9269034596,
          32856.3559232317,
          34106.5508341411,
          34978.8851739009,
          35655.0412974319,
          36331.1974209629
         ],
         "yaxis": "y"
        },
        {
         "hovertemplate": "variable=D04<br>Cycle=%{x}<br>value=%{y}<extra></extra>",
         "legendgroup": "D04",
         "line": {
          "color": "rgb(251,128,114)",
          "dash": "solid"
         },
         "marker": {
          "symbol": "circle"
         },
         "mode": "lines",
         "name": "D04",
         "showlegend": true,
         "type": "scattergl",
         "x": [
          1,
          2,
          3,
          4,
          5,
          6,
          7,
          8,
          9,
          10,
          11,
          12,
          13,
          14,
          15,
          16,
          17,
          18,
          19,
          20,
          21,
          22,
          23,
          24,
          25,
          26,
          27,
          28,
          29,
          30,
          31,
          32,
          33,
          34,
          35,
          36,
          37,
          38,
          39,
          40
         ],
         "xaxis": "x",
         "y": [
          0,
          0,
          0,
          0,
          0,
          0,
          0,
          0,
          0,
          0,
          0,
          0,
          0,
          0,
          0,
          0,
          0,
          0,
          0,
          38.2527622631435,
          157.875370019931,
          411.178584523852,
          876.560952556558,
          1655.40225551689,
          2856.67339100611,
          4570.86912261925,
          6840.24270070869,
          9635.52849346871,
          12848.1708998976,
          16303.0183909477,
          19788.8175254703,
          23095.5596936391,
          26047.619429977,
          28526.4937404195,
          30488.6214863619,
          31924.949841859,
          32876.4867408144,
          33441.2491622974,
          33781.7228867659,
          34122.1966112343
         ],
         "yaxis": "y"
        },
        {
         "hovertemplate": "variable=D05<br>Cycle=%{x}<br>value=%{y}<extra></extra>",
         "legendgroup": "D05",
         "line": {
          "color": "rgb(128,177,211)",
          "dash": "solid"
         },
         "marker": {
          "symbol": "circle"
         },
         "mode": "lines",
         "name": "D05",
         "showlegend": true,
         "type": "scattergl",
         "x": [
          1,
          2,
          3,
          4,
          5,
          6,
          7,
          8,
          9,
          10,
          11,
          12,
          13,
          14,
          15,
          16,
          17,
          18,
          19,
          20,
          21,
          22,
          23,
          24,
          25,
          26,
          27,
          28,
          29,
          30,
          31,
          32,
          33,
          34,
          35,
          36,
          37,
          38,
          39,
          40
         ],
         "xaxis": "x",
         "y": [
          0,
          0,
          0,
          0,
          0,
          0,
          0,
          0,
          0,
          0,
          0,
          0,
          0,
          0,
          0,
          0,
          0,
          0,
          0,
          63.395453995042,
          258.599568382383,
          664.443858440784,
          1389.75119053382,
          2561.24648108562,
          4295.9992485359,
          6665.87061896297,
          9666.04469893562,
          13200.8901827244,
          17094.3501940941,
          21122.73252577,
          25058.4032357629,
          28710.7769563207,
          31954.1445349257,
          34730.0518956723,
          37046.5682958658,
          38923.7843444886,
          40431.0159684744,
          41644.7293902946,
          42722.1726066462,
          43799.6158229979
         ],
         "yaxis": "y"
        },
        {
         "hovertemplate": "variable=D06<br>Cycle=%{x}<br>value=%{y}<extra></extra>",
         "legendgroup": "D06",
         "line": {
          "color": "rgb(253,180,98)",
          "dash": "solid"
         },
         "marker": {
          "symbol": "circle"
         },
         "mode": "lines",
         "name": "D06",
         "showlegend": true,
         "type": "scattergl",
         "x": [
          1,
          2,
          3,
          4,
          5,
          6,
          7,
          8,
          9,
          10,
          11,
          12,
          13,
          14,
          15,
          16,
          17,
          18,
          19,
          20,
          21,
          22,
          23,
          24,
          25,
          26,
          27,
          28,
          29,
          30,
          31,
          32,
          33,
          34,
          35,
          36,
          37,
          38,
          39,
          40
         ],
         "xaxis": "x",
         "y": [
          0,
          0,
          0,
          0,
          0,
          0,
          0,
          0,
          0,
          0,
          0,
          0,
          0,
          0,
          0,
          0,
          0,
          0,
          34.7404780095706,
          149.119032865083,
          398.590127899395,
          868.549451301755,
          1672.66382958952,
          2936.63041047278,
          4769.11542085355,
          7228.02778892088,
          10293.0485044771,
          13856.006512909,
          17735.4333102759,
          21710.9756336901,
          25565.0650949222,
          29119.7257774199,
          32260.0321333284,
          34931.0331420206,
          37139.7037887447,
          38887.0390532036,
          40230.9286434118,
          41237.0670699572,
          42084.6335230075,
          42932.1999760578
         ],
         "yaxis": "y"
        },
        {
         "hovertemplate": "variable=D07<br>Cycle=%{x}<br>value=%{y}<extra></extra>",
         "legendgroup": "D07",
         "line": {
          "color": "rgb(179,222,105)",
          "dash": "solid"
         },
         "marker": {
          "symbol": "circle"
         },
         "mode": "lines",
         "name": "D07",
         "showlegend": true,
         "type": "scattergl",
         "x": [
          1,
          2,
          3,
          4,
          5,
          6,
          7,
          8,
          9,
          10,
          11,
          12,
          13,
          14,
          15,
          16,
          17,
          18,
          19,
          20,
          21,
          22,
          23,
          24,
          25,
          26,
          27,
          28,
          29,
          30,
          31,
          32,
          33,
          34,
          35,
          36,
          37,
          38,
          39,
          40
         ],
         "xaxis": "x",
         "y": [
          0,
          0,
          0,
          0,
          0,
          0,
          0,
          0,
          0,
          0,
          0,
          0,
          0,
          0,
          0,
          0,
          0,
          0,
          0,
          50.7012857232585,
          212.444008657628,
          557.382312409216,
          1190.0940122567,
          2239.70002276032,
          3835.75574213476,
          6072.29573087322,
          8972.39248705953,
          12466.7823018861,
          16395.9693217355,
          20538.3186378848,
          24654.2881538911,
          28531.3339032469,
          32017.2151522376,
          35030.5554492106,
          37562.3476152732,
          39631.5607332939,
          41303.907647152,
          42668.1548686143,
          43875.1479691352,
          45082.141069656
         ],
         "yaxis": "y"
        },
        {
         "hovertemplate": "variable=D08<br>Cycle=%{x}<br>value=%{y}<extra></extra>",
         "legendgroup": "D08",
         "line": {
          "color": "rgb(252,205,229)",
          "dash": "solid"
         },
         "marker": {
          "symbol": "circle"
         },
         "mode": "lines",
         "name": "D08",
         "showlegend": true,
         "type": "scattergl",
         "x": [
          1,
          2,
          3,
          4,
          5,
          6,
          7,
          8,
          9,
          10,
          11,
          12,
          13,
          14,
          15,
          16,
          17,
          18,
          19,
          20,
          21,
          22,
          23,
          24,
          25,
          26,
          27,
          28,
          29,
          30,
          31,
          32,
          33,
          34,
          35,
          36,
          37,
          38,
          39,
          40
         ],
         "xaxis": "x",
         "y": [
          0,
          0,
          0,
          0,
          0,
          0,
          0,
          0,
          0,
          0,
          0,
          0,
          0,
          0,
          0,
          0,
          0,
          0,
          45.1084916992113,
          191.001597080023,
          505.080913437332,
          1087.3366736305,
          2064.27003745346,
          3566.9100431428,
          5696.24358040213,
          8487.09056950144,
          11883.9673021558,
          15739.9325037195,
          19841.1494860223,
          23949.6874010449,
          27849.2418712708,
          31379.4409488205,
          34451.1678026743,
          37040.200513795,
          39176.4155390317,
          40902.4884669545,
          42287.3244439287,
          43415.3850969864,
          44410.1065827766,
          45404.8280685669
         ],
         "yaxis": "y"
        },
        {
         "hovertemplate": "variable=D09<br>Cycle=%{x}<br>value=%{y}<extra></extra>",
         "legendgroup": "D09",
         "line": {
          "color": "rgb(217,217,217)",
          "dash": "solid"
         },
         "marker": {
          "symbol": "circle"
         },
         "mode": "lines",
         "name": "D09",
         "showlegend": true,
         "type": "scattergl",
         "x": [
          1,
          2,
          3,
          4,
          5,
          6,
          7,
          8,
          9,
          10,
          11,
          12,
          13,
          14,
          15,
          16,
          17,
          18,
          19,
          20,
          21,
          22,
          23,
          24,
          25,
          26,
          27,
          28,
          29,
          30,
          31,
          32,
          33,
          34,
          35,
          36,
          37,
          38,
          39,
          40
         ],
         "xaxis": "x",
         "y": [
          0,
          0,
          0,
          0,
          0,
          0,
          0,
          0,
          0,
          0,
          0,
          0,
          0,
          0,
          0,
          0,
          0,
          0,
          0,
          54.5334393611685,
          225.144272672314,
          584.336953115608,
          1235.01181478861,
          2300.56835952053,
          3899.36585184665,
          6110.14406645898,
          8939.59534029668,
          12305.2381375017,
          16042.5447515448,
          19935.468353667,
          23759.5558457631,
          27323.460621141,
          30496.7724941777,
          33216.474352847,
          35478.0966139719,
          37322.7982786665,
          38824.9884510917,
          40084.007509,
          41214.8860509517,
          42343.9174317804
         ],
         "yaxis": "y"
        },
        {
         "hovertemplate": "variable=D10<br>Cycle=%{x}<br>value=%{y}<extra></extra>",
         "legendgroup": "D10",
         "line": {
          "color": "rgb(188,128,189)",
          "dash": "solid"
         },
         "marker": {
          "symbol": "circle"
         },
         "mode": "lines",
         "name": "D10",
         "showlegend": true,
         "type": "scattergl",
         "x": [
          1,
          2,
          3,
          4,
          5,
          6,
          7,
          8,
          9,
          10,
          11,
          12,
          13,
          14,
          15,
          16,
          17,
          18,
          19,
          20,
          21,
          22,
          23,
          24,
          25,
          26,
          27,
          28,
          29,
          30,
          31,
          32,
          33,
          34,
          35,
          36,
          37,
          38,
          39,
          40
         ],
         "xaxis": "x",
         "y": [
          0,
          0,
          0,
          0,
          0,
          0,
          0,
          0,
          0,
          0,
          0,
          0,
          0,
          0,
          0,
          0,
          0,
          0,
          0,
          41.7924247616157,
          175.753256455242,
          463.867466368916,
          999.500941975633,
          1902.57641739735,
          3299.68803421792,
          5291.90684514406,
          7919.48966918542,
          11137.1336840378,
          14810.7404280449,
          18739.1612178758,
          22694.0281293214,
          26464.087413883,
          29890.5082607768,
          32880.1989461467,
          35402.8912168848,
          37483.0917157579,
          39188.4703641441,
          40619.7644868839,
          41903.6337176811,
          43184.6413786573
         ],
         "yaxis": "y"
        },
        {
         "hovertemplate": "variable=D11<br>Cycle=%{x}<br>value=%{y}<extra></extra>",
         "legendgroup": "D11",
         "line": {
          "color": "rgb(204,235,197)",
          "dash": "solid"
         },
         "marker": {
          "symbol": "circle"
         },
         "mode": "lines",
         "name": "D11",
         "showlegend": true,
         "type": "scattergl",
         "x": [
          1,
          2,
          3,
          4,
          5,
          6,
          7,
          8,
          9,
          10,
          11,
          12,
          13,
          14,
          15,
          16,
          17,
          18,
          19,
          20,
          21,
          22,
          23,
          24,
          25,
          26,
          27,
          28,
          29,
          30,
          31,
          32,
          33,
          34,
          35,
          36,
          37,
          38,
          39,
          40
         ],
         "xaxis": "x",
         "y": [
          0,
          0,
          0,
          0,
          0,
          0,
          0,
          0,
          0,
          0,
          0,
          0,
          0,
          0,
          0,
          0,
          0,
          0,
          0,
          57.7508002434374,
          238.667105494514,
          618.958727625804,
          1305.80169909549,
          2426.83992871007,
          4103.6541805746,
          6416.15146478497,
          9369.79282336332,
          12878.4305096162,
          16771.9446124155,
          20827.8606769932,
          24815.356317295,
          28537.3938404615,
          31859.1620059942,
          34714.2548275325,
          37095.5835081209,
          39043.1728535524,
          40632.2211081023,
          41964.87497291,
          43161.4301497976,
          44355.7397515445
         ],
         "yaxis": "y"
        },
        {
         "hovertemplate": "variable=D12<br>Cycle=%{x}<br>value=%{y}<extra></extra>",
         "legendgroup": "D12",
         "line": {
          "color": "rgb(255,237,111)",
          "dash": "solid"
         },
         "marker": {
          "symbol": "circle"
         },
         "mode": "lines",
         "name": "D12",
         "showlegend": true,
         "type": "scattergl",
         "x": [
          1,
          2,
          3,
          4,
          5,
          6,
          7,
          8,
          9,
          10,
          11,
          12,
          13,
          14,
          15,
          16,
          17,
          18,
          19,
          20,
          21,
          22,
          23,
          24,
          25,
          26,
          27,
          28,
          29,
          30,
          31,
          32,
          33,
          34,
          35,
          36,
          37,
          38,
          39,
          40
         ],
         "xaxis": "x",
         "y": [
          0,
          0,
          0,
          0,
          0,
          0,
          0,
          0,
          0,
          0,
          0,
          0,
          0,
          0,
          0,
          0,
          0,
          0,
          33.884661927748,
          144.663413399639,
          386.109282676559,
          841.736829551752,
          1622.86677461919,
          2852.5011383303,
          4636.31731750446,
          7029.1943449987,
          10008.4910361743,
          13465.4674670237,
          17220.6703988061,
          21058.8741390425,
          24770.6096104381,
          28188.1882332262,
          31206.7472828473,
          33783.8637080106,
          35934.1379675404,
          37689.0449874063,
          39112.5612678238,
          40269.081130316,
          41425.6009928082,
          42582.1208553005
         ],
         "yaxis": "y"
        },
        {
         "hovertemplate": "variable=E01<br>Cycle=%{x}<br>value=%{y}<extra></extra>",
         "legendgroup": "E01",
         "line": {
          "color": "rgb(141,211,199)",
          "dash": "solid"
         },
         "marker": {
          "symbol": "circle"
         },
         "mode": "lines",
         "name": "E01",
         "showlegend": true,
         "type": "scattergl",
         "x": [
          1,
          2,
          3,
          4,
          5,
          6,
          7,
          8,
          9,
          10,
          11,
          12,
          13,
          14,
          15,
          16,
          17,
          18,
          19,
          20,
          21,
          22,
          23,
          24,
          25,
          26,
          27,
          28,
          29,
          30,
          31,
          32,
          33,
          34,
          35,
          36,
          37,
          38,
          39,
          40
         ],
         "xaxis": "x",
         "y": [
          0,
          0,
          0,
          0,
          0,
          0,
          0,
          0,
          0,
          0,
          0,
          0,
          0,
          0,
          0,
          0,
          0,
          0,
          0,
          67.3648266660933,
          264.894037436832,
          662.828565011169,
          1356.11590142092,
          2454.37007305587,
          4058.57977506242,
          6230.13241818414,
          8962.66145085464,
          12167.0763251058,
          15676.9521135755,
          19274.7164809083,
          22730.9589739268,
          25845.292677893,
          28478.0073003001,
          30563.3515174992,
          32105.7773140459,
          33165.1118907601,
          33837.9354563378,
          34239.0296338633,
          34502.3730678151,
          34765.2981337661
         ],
         "yaxis": "y"
        },
        {
         "hovertemplate": "variable=E02<br>Cycle=%{x}<br>value=%{y}<extra></extra>",
         "legendgroup": "E02",
         "line": {
          "color": "rgb(255,255,179)",
          "dash": "solid"
         },
         "marker": {
          "symbol": "circle"
         },
         "mode": "lines",
         "name": "E02",
         "showlegend": true,
         "type": "scattergl",
         "x": [
          1,
          2,
          3,
          4,
          5,
          6,
          7,
          8,
          9,
          10,
          11,
          12,
          13,
          14,
          15,
          16,
          17,
          18,
          19,
          20,
          21,
          22,
          23,
          24,
          25,
          26,
          27,
          28,
          29,
          30,
          31,
          32,
          33,
          34,
          35,
          36,
          37,
          38,
          39,
          40
         ],
         "xaxis": "x",
         "y": [
          0,
          0,
          0,
          0,
          0,
          0,
          0,
          0,
          0,
          0,
          0,
          0,
          0,
          0,
          0,
          0,
          0,
          0,
          0,
          0,
          39.6113683820996,
          152.188314379046,
          377.110112378655,
          772.456293601521,
          1413.36891720098,
          2381.32994050216,
          3744.84179152062,
          5536.54045485884,
          7733.65977468525,
          10249.4018968488,
          12941.1171022031,
          15633.9049430901,
          18152.5221395287,
          20352.188183135,
          22152.157098653,
          23501.4891707952,
          24414.2075772059,
          24957.7058816925,
          25294.3286440309,
          25630.9514063694
         ],
         "yaxis": "y"
        },
        {
         "hovertemplate": "variable=E03<br>Cycle=%{x}<br>value=%{y}<extra></extra>",
         "legendgroup": "E03",
         "line": {
          "color": "rgb(190,186,218)",
          "dash": "solid"
         },
         "marker": {
          "symbol": "circle"
         },
         "mode": "lines",
         "name": "E03",
         "showlegend": true,
         "type": "scattergl",
         "x": [
          1,
          2,
          3,
          4,
          5,
          6,
          7,
          8,
          9,
          10,
          11,
          12,
          13,
          14,
          15,
          16,
          17,
          18,
          19,
          20,
          21,
          22,
          23,
          24,
          25,
          26,
          27,
          28,
          29,
          30,
          31,
          32,
          33,
          34,
          35,
          36,
          37,
          38,
          39,
          40
         ],
         "xaxis": "x",
         "y": [
          0,
          0,
          0,
          0,
          0,
          0,
          0,
          0,
          0,
          0,
          0,
          0,
          0,
          0,
          0,
          0,
          0,
          32.1634990355943,
          137.64814882294,
          366.933023574654,
          797.555562640801,
          1532.23832673036,
          2684.24927807703,
          4351.42691207968,
          6585.37238995081,
          9366.55014216623,
          12595.6940494315,
          16106.2008258615,
          19694.1152531792,
          23155.5122586139,
          26319.9363408701,
          29070.4054340128,
          31347.7233864037,
          33143.6702354786,
          34487.921767594,
          35436.5508054366,
          36067.1981355482,
          36471.95891838,
          36759.1744626156,
          37045.454805688
         ],
         "yaxis": "y"
        },
        {
         "hovertemplate": "variable=E04<br>Cycle=%{x}<br>value=%{y}<extra></extra>",
         "legendgroup": "E04",
         "line": {
          "color": "rgb(251,128,114)",
          "dash": "solid"
         },
         "marker": {
          "symbol": "circle"
         },
         "mode": "lines",
         "name": "E04",
         "showlegend": true,
         "type": "scattergl",
         "x": [
          1,
          2,
          3,
          4,
          5,
          6,
          7,
          8,
          9,
          10,
          11,
          12,
          13,
          14,
          15,
          16,
          17,
          18,
          19,
          20,
          21,
          22,
          23,
          24,
          25,
          26,
          27,
          28,
          29,
          30,
          31,
          32,
          33,
          34,
          35,
          36,
          37,
          38,
          39,
          40
         ],
         "xaxis": "x",
         "y": [
          0,
          0,
          0,
          0,
          0,
          0,
          0,
          0,
          0,
          0,
          0,
          0,
          0,
          0,
          0,
          0,
          0,
          0,
          47.4519057882676,
          192.134682166068,
          492.550326555246,
          1032.75053922327,
          1916.32893241635,
          3247.79557361411,
          5104.67831796347,
          7508.94450499611,
          10407.7976371554,
          13672.0197370299,
          17114.3828791358,
          20522.7754687786,
          23697.7182369048,
          26483.9301740332,
          28788.5601271773,
          30583.705951429,
          31902.0839178532,
          32799.4523833445,
          33353.8054368499,
          33660.5781490579,
          33836.5505377215,
          34012.522926385
         ],
         "yaxis": "y"
        },
        {
         "hovertemplate": "variable=E05<br>Cycle=%{x}<br>value=%{y}<extra></extra>",
         "legendgroup": "E05",
         "line": {
          "color": "rgb(128,177,211)",
          "dash": "solid"
         },
         "marker": {
          "symbol": "circle"
         },
         "mode": "lines",
         "name": "E05",
         "showlegend": true,
         "type": "scattergl",
         "x": [
          1,
          2,
          3,
          4,
          5,
          6,
          7,
          8,
          9,
          10,
          11,
          12,
          13,
          14,
          15,
          16,
          17,
          18,
          19,
          20,
          21,
          22,
          23,
          24,
          25,
          26,
          27,
          28,
          29,
          30,
          31,
          32,
          33,
          34,
          35,
          36,
          37,
          38,
          39,
          40
         ],
         "xaxis": "x",
         "y": [
          0,
          0,
          0,
          0,
          0,
          0,
          0,
          0,
          0,
          0,
          0,
          0,
          0,
          0,
          0,
          0,
          0,
          0,
          65.4553226390159,
          264.580713738318,
          673.846853796794,
          1395.36422492392,
          2543.86735020424,
          4220.37736545242,
          6479.85056597153,
          9305.17488009777,
          12598.0846066623,
          16191.8990558025,
          19882.8182432261,
          23469.5140944396,
          26787.3816737456,
          29728.4071008935,
          32244.8366694236,
          34337.1260083718,
          36037.1047068735,
          37397.1304843804,
          38484.3459441822,
          39380.0637441308,
          40173.3651681936,
          40964.6652577209
         ],
         "yaxis": "y"
        },
        {
         "hovertemplate": "variable=E06<br>Cycle=%{x}<br>value=%{y}<extra></extra>",
         "legendgroup": "E06",
         "line": {
          "color": "rgb(253,180,98)",
          "dash": "solid"
         },
         "marker": {
          "symbol": "circle"
         },
         "mode": "lines",
         "name": "E06",
         "showlegend": true,
         "type": "scattergl",
         "x": [
          1,
          2,
          3,
          4,
          5,
          6,
          7,
          8,
          9,
          10,
          11,
          12,
          13,
          14,
          15,
          16,
          17,
          18,
          19,
          20,
          21,
          22,
          23,
          24,
          25,
          26,
          27,
          28,
          29,
          30,
          31,
          32,
          33,
          34,
          35,
          36,
          37,
          38,
          39,
          40
         ],
         "xaxis": "x",
         "y": [
          0,
          0,
          0,
          0,
          0,
          0,
          0,
          0,
          0,
          0,
          0,
          0,
          0,
          0,
          0,
          0,
          0,
          51.5544225336988,
          213.966987053181,
          555.781888235023,
          1173.58259185978,
          2183.52604118689,
          3698.86275277582,
          5798.53221066794,
          8496.99356604326,
          11727.3778013827,
          15345.6338221585,
          19155.6025381201,
          22946.3018731288,
          26529.8410401167,
          29767.8309852079,
          32581.6241663032,
          34948.7558564029,
          36886.2801857364,
          38441.5797398813,
          39651.8699625721,
          40575.3866083877,
          41274.6050255345,
          41863.0252289546,
          42451.4454323748
         ],
         "yaxis": "y"
        },
        {
         "hovertemplate": "variable=E07<br>Cycle=%{x}<br>value=%{y}<extra></extra>",
         "legendgroup": "E07",
         "line": {
          "color": "rgb(179,222,105)",
          "dash": "solid"
         },
         "marker": {
          "symbol": "circle"
         },
         "mode": "lines",
         "name": "E07",
         "showlegend": true,
         "type": "scattergl",
         "x": [
          1,
          2,
          3,
          4,
          5,
          6,
          7,
          8,
          9,
          10,
          11,
          12,
          13,
          14,
          15,
          16,
          17,
          18,
          19,
          20,
          21,
          22,
          23,
          24,
          25,
          26,
          27,
          28,
          29,
          30,
          31,
          32,
          33,
          34,
          35,
          36,
          37,
          38,
          39,
          40
         ],
         "xaxis": "x",
         "y": [
          0,
          0,
          0,
          0,
          0,
          0,
          0,
          0,
          0,
          0,
          0,
          0,
          0,
          0,
          0,
          0,
          0,
          41.1048037489613,
          177.942720248702,
          476.899158336666,
          1037.85711954889,
          1989.02663880865,
          3464.98488852542,
          5570.82980736234,
          8343.65802283631,
          11726.2851081643,
          15565.4155292173,
          19637.6941775525,
          23695.472398464,
          27515.9895288306,
          30938.228253872,
          33877.8796293372,
          36320.5988933156,
          38301.830736713,
          39886.556173847,
          41142.6144844476,
          42139.01943972,
          42954.9572889778,
          43671.4032638512,
          44387.8492387245
         ],
         "yaxis": "y"
        },
        {
         "hovertemplate": "variable=E08<br>Cycle=%{x}<br>value=%{y}<extra></extra>",
         "legendgroup": "E08",
         "line": {
          "color": "rgb(252,205,229)",
          "dash": "solid"
         },
         "marker": {
          "symbol": "circle"
         },
         "mode": "lines",
         "name": "E08",
         "showlegend": true,
         "type": "scattergl",
         "x": [
          1,
          2,
          3,
          4,
          5,
          6,
          7,
          8,
          9,
          10,
          11,
          12,
          13,
          14,
          15,
          16,
          17,
          18,
          19,
          20,
          21,
          22,
          23,
          24,
          25,
          26,
          27,
          28,
          29,
          30,
          31,
          32,
          33,
          34,
          35,
          36,
          37,
          38,
          39,
          40
         ],
         "xaxis": "x",
         "y": [
          0,
          0,
          0,
          0,
          0,
          0,
          0,
          0,
          0,
          0,
          0,
          0,
          0,
          0,
          0,
          0,
          0,
          35.7568710161705,
          158.398032238517,
          432.375535890085,
          957.920693196495,
          1866.79362338626,
          3303.76715665594,
          5391.1876039283,
          8187.06845411808,
          11653.9362998428,
          15650.6628960841,
          19952.334185663,
          24295.359378385,
          28431.0525723275,
          32168.4488809953,
          35396.9336082995,
          38086.1984748429,
          40267.1463928026,
          42007.0002925278,
          43389.7603207516,
          44504.0227176995,
          45444.6054013691,
          46296.5813991206,
          47147.6911991682
         ],
         "yaxis": "y"
        },
        {
         "hovertemplate": "variable=E09<br>Cycle=%{x}<br>value=%{y}<extra></extra>",
         "legendgroup": "E09",
         "line": {
          "color": "rgb(217,217,217)",
          "dash": "solid"
         },
         "marker": {
          "symbol": "circle"
         },
         "mode": "lines",
         "name": "E09",
         "showlegend": true,
         "type": "scattergl",
         "x": [
          1,
          2,
          3,
          4,
          5,
          6,
          7,
          8,
          9,
          10,
          11,
          12,
          13,
          14,
          15,
          16,
          17,
          18,
          19,
          20,
          21,
          22,
          23,
          24,
          25,
          26,
          27,
          28,
          29,
          30,
          31,
          32,
          33,
          34,
          35,
          36,
          37,
          38,
          39,
          40
         ],
         "xaxis": "x",
         "y": [
          0,
          0,
          0,
          0,
          0,
          0,
          0,
          0,
          0,
          0,
          0,
          0,
          0,
          0,
          0,
          0,
          0,
          33.0015757137791,
          143.594755407423,
          388.459203159822,
          857.099908716602,
          1670.03848970962,
          2961.52913631209,
          4846.95362006662,
          7383.5101290763,
          10539.4752456974,
          14185.5259621266,
          18113.7008580553,
          22079.1939171125,
          25850.5530245101,
          29250.032775428,
          32175.1389847782,
          34601.2486429695,
          36561.7873970843,
          38124.1912735975,
          39371.9400154149,
          40388.2158548336,
          41261.2369391756,
          42060.3474183521,
          42858.0816677523
         ],
         "yaxis": "y"
        },
        {
         "hovertemplate": "variable=E10<br>Cycle=%{x}<br>value=%{y}<extra></extra>",
         "legendgroup": "E10",
         "line": {
          "color": "rgb(188,128,189)",
          "dash": "solid"
         },
         "marker": {
          "symbol": "circle"
         },
         "mode": "lines",
         "name": "E10",
         "showlegend": true,
         "type": "scattergl",
         "x": [
          1,
          2,
          3,
          4,
          5,
          6,
          7,
          8,
          9,
          10,
          11,
          12,
          13,
          14,
          15,
          16,
          17,
          18,
          19,
          20,
          21,
          22,
          23,
          24,
          25,
          26,
          27,
          28,
          29,
          30,
          31,
          32,
          33,
          34,
          35,
          36,
          37,
          38,
          39,
          40
         ],
         "xaxis": "x",
         "y": [
          0,
          0,
          0,
          0,
          0,
          0,
          0,
          0,
          0,
          0,
          0,
          0,
          0,
          0,
          0,
          0,
          0,
          0,
          61.5550322331427,
          255.563097058779,
          663.978876828885,
          1400.20166091809,
          2596.20767636341,
          4372.4784483643,
          6798.94801329854,
          9861.64165857507,
          13448.7842687246,
          17364.3104670203,
          21366.3429963851,
          25217.2045046402,
          28727.0470566732,
          31779.390493825,
          34335.2242848961,
          36415.3134788205,
          38081.5933145465,
          39396.0002310256,
          40435.6943381395,
          41276.9920374509,
          42024.6846290208,
          42772.3772205907
         ],
         "yaxis": "y"
        },
        {
         "hovertemplate": "variable=E11<br>Cycle=%{x}<br>value=%{y}<extra></extra>",
         "legendgroup": "E11",
         "line": {
          "color": "rgb(204,235,197)",
          "dash": "solid"
         },
         "marker": {
          "symbol": "circle"
         },
         "mode": "lines",
         "name": "E11",
         "showlegend": true,
         "type": "scattergl",
         "x": [
          1,
          2,
          3,
          4,
          5,
          6,
          7,
          8,
          9,
          10,
          11,
          12,
          13,
          14,
          15,
          16,
          17,
          18,
          19,
          20,
          21,
          22,
          23,
          24,
          25,
          26,
          27,
          28,
          29,
          30,
          31,
          32,
          33,
          34,
          35,
          36,
          37,
          38,
          39,
          40
         ],
         "xaxis": "x",
         "y": [
          0,
          0,
          0,
          0,
          0,
          0,
          0,
          0,
          0,
          0,
          0,
          0,
          0,
          0,
          0,
          0,
          0,
          0,
          64.6799358963992,
          268.915969850912,
          699.48619890128,
          1476.95066743702,
          2742.46607180807,
          4626.53022087225,
          7207.9270078605,
          10478.0181920974,
          14324.7691032873,
          18545.4889074168,
          22886.0057362519,
          27092.2803961986,
          30956.6924325166,
          34346.7140052837,
          37211.6422618886,
          39565.7546489029,
          41470.8469264606,
          42989.7566161671,
          44207.3647339979,
          45204.9254820456,
          46103.1193861163,
          47001.3132901871
         ],
         "yaxis": "y"
        },
        {
         "hovertemplate": "variable=E12<br>Cycle=%{x}<br>value=%{y}<extra></extra>",
         "legendgroup": "E12",
         "line": {
          "color": "rgb(255,237,111)",
          "dash": "solid"
         },
         "marker": {
          "symbol": "circle"
         },
         "mode": "lines",
         "name": "E12",
         "showlegend": true,
         "type": "scattergl",
         "x": [
          1,
          2,
          3,
          4,
          5,
          6,
          7,
          8,
          9,
          10,
          11,
          12,
          13,
          14,
          15,
          16,
          17,
          18,
          19,
          20,
          21,
          22,
          23,
          24,
          25,
          26,
          27,
          28,
          29,
          30,
          31,
          32,
          33,
          34,
          35,
          36,
          37,
          38,
          39,
          40
         ],
         "xaxis": "x",
         "y": [
          0,
          0,
          0,
          0,
          0,
          0,
          0,
          0,
          0,
          0,
          0,
          0,
          0,
          0,
          0,
          0,
          0,
          36.7810470661583,
          160.912249333441,
          434.598270633205,
          953.315375686284,
          1843.34799923412,
          3243.65565721434,
          5272.59187417115,
          7988.90738360364,
          11361.5199399351,
          15260.5553094945,
          19476.0509911095,
          23759.3125889978,
          27872.2978607907,
          31628.5672823852,
          34915.349065001,
          37694.7670038111,
          39985.8882845135,
          41847.8101279534,
          43340.0287466725,
          44537.885903242,
          45520.1776488333,
          46396.2024453443,
          47272.2272418554
         ],
         "yaxis": "y"
        },
        {
         "hovertemplate": "variable=F01<br>Cycle=%{x}<br>value=%{y}<extra></extra>",
         "legendgroup": "F01",
         "line": {
          "color": "rgb(141,211,199)",
          "dash": "solid"
         },
         "marker": {
          "symbol": "circle"
         },
         "mode": "lines",
         "name": "F01",
         "showlegend": true,
         "type": "scattergl",
         "x": [
          1,
          2,
          3,
          4,
          5,
          6,
          7,
          8,
          9,
          10,
          11,
          12,
          13,
          14,
          15,
          16,
          17,
          18,
          19,
          20,
          21,
          22,
          23,
          24,
          25,
          26,
          27,
          28,
          29,
          30,
          31,
          32,
          33,
          34,
          35,
          36,
          37,
          38,
          39,
          40
         ],
         "xaxis": "x",
         "y": [
          0,
          0,
          0,
          0,
          0,
          0,
          0,
          0,
          0,
          0,
          0,
          0,
          0,
          0,
          0,
          0,
          0,
          0,
          0,
          61.2072432825084,
          245.37999151917,
          624.3340447453,
          1299.09467418632,
          2390.12724154506,
          4011.89607637824,
          6237.02858813664,
          9061.6666178105,
          12386.0037228742,
          16020.0585043853,
          19715.6836805525,
          23215.6799020469,
          26304.1173269735,
          28842.6575829217,
          30783.0125681805,
          32163.1219884759,
          33056.7421993208,
          33568.3106529692,
          33809.4383829647,
          33919.3473750383,
          34029.2563671118
         ],
         "yaxis": "y"
        },
        {
         "hovertemplate": "variable=F02<br>Cycle=%{x}<br>value=%{y}<extra></extra>",
         "legendgroup": "F02",
         "line": {
          "color": "rgb(255,255,179)",
          "dash": "solid"
         },
         "marker": {
          "symbol": "circle"
         },
         "mode": "lines",
         "name": "F02",
         "showlegend": true,
         "type": "scattergl",
         "x": [
          1,
          2,
          3,
          4,
          5,
          6,
          7,
          8,
          9,
          10,
          11,
          12,
          13,
          14,
          15,
          16,
          17,
          18,
          19,
          20,
          21,
          22,
          23,
          24,
          25,
          26,
          27,
          28,
          29,
          30,
          31,
          32,
          33,
          34,
          35,
          36,
          37,
          38,
          39,
          40
         ],
         "xaxis": "x",
         "y": [
          0,
          0,
          0,
          0,
          0,
          0,
          0,
          0,
          0,
          0,
          0,
          0,
          0,
          0,
          0,
          0,
          0,
          0,
          0,
          0,
          36.6755451845575,
          140.501966423159,
          348.085140404531,
          715.074499582826,
          1315.65512776107,
          2232.98778816866,
          3540.42393810546,
          5277.01158452536,
          7425.15227723365,
          9899.40343238161,
          12553.1177295764,
          15203.352406577,
          17666.9003815331,
          19796.9366460832,
          21515.9186752678,
          22793.0318199756,
          23656.928399103,
          24185.1032551368,
          24524.9296253588,
          24864.7559955808
         ],
         "yaxis": "y"
        },
        {
         "hovertemplate": "variable=F03<br>Cycle=%{x}<br>value=%{y}<extra></extra>",
         "legendgroup": "F03",
         "line": {
          "color": "rgb(190,186,218)",
          "dash": "solid"
         },
         "marker": {
          "symbol": "circle"
         },
         "mode": "lines",
         "name": "F03",
         "showlegend": true,
         "type": "scattergl",
         "x": [
          1,
          2,
          3,
          4,
          5,
          6,
          7,
          8,
          9,
          10,
          11,
          12,
          13,
          14,
          15,
          16,
          17,
          18,
          19,
          20,
          21,
          22,
          23,
          24,
          25,
          26,
          27,
          28,
          29,
          30,
          31,
          32,
          33,
          34,
          35,
          36,
          37,
          38,
          39,
          40
         ],
         "xaxis": "x",
         "y": [
          0,
          0,
          0,
          0,
          0,
          0,
          0,
          0,
          0,
          0,
          0,
          0,
          0,
          0,
          0,
          0,
          0,
          48.9249374528232,
          208.669513861661,
          553.871776677106,
          1194.73078213756,
          2269.77180733759,
          3919.98054832332,
          6249.01720911434,
          9282.09865175053,
          12939.1810828812,
          17035.7330649283,
          21313.5874436369,
          25491.5938213347,
          29319.2886599602,
          32616.9044725899,
          35292.9140181576,
          37340.3839359424,
          38816.1122394254,
          39819.2019978206,
          40448.1257291981,
          40806.1854875393,
          40985.3657011175,
          41086.7017629342,
          41188.0378247508
         ],
         "yaxis": "y"
        },
        {
         "hovertemplate": "variable=F04<br>Cycle=%{x}<br>value=%{y}<extra></extra>",
         "legendgroup": "F04",
         "line": {
          "color": "rgb(251,128,114)",
          "dash": "solid"
         },
         "marker": {
          "symbol": "circle"
         },
         "mode": "lines",
         "name": "F04",
         "showlegend": true,
         "type": "scattergl",
         "x": [
          1,
          2,
          3,
          4,
          5,
          6,
          7,
          8,
          9,
          10,
          11,
          12,
          13,
          14,
          15,
          16,
          17,
          18,
          19,
          20,
          21,
          22,
          23,
          24,
          25,
          26,
          27,
          28,
          29,
          30,
          31,
          32,
          33,
          34,
          35,
          36,
          37,
          38,
          39,
          40
         ],
         "xaxis": "x",
         "y": [
          0,
          0,
          0,
          0,
          0,
          0,
          0,
          0,
          0,
          0,
          0,
          0,
          0,
          0,
          0,
          0,
          0,
          0,
          43.2749386910249,
          179.489857796676,
          470.140224919196,
          1008.49858389588,
          1915.04057763992,
          3317.03004125611,
          5314.66709456838,
          7943.30329815086,
          11145.7370203494,
          14767.0631588445,
          18576.830249203,
          22313.1670750603,
          25734.2418147242,
          28661.0034543303,
          31000.0728196541,
          32743.8787303847,
          33956.3265844698,
          34728.459244217,
          35165.4795490773,
          35376.4239354158,
          35475.1675024278,
          35573.9110694399
         ],
         "yaxis": "y"
        },
        {
         "hovertemplate": "variable=F05<br>Cycle=%{x}<br>value=%{y}<extra></extra>",
         "legendgroup": "F05",
         "line": {
          "color": "rgb(128,177,211)",
          "dash": "solid"
         },
         "marker": {
          "symbol": "circle"
         },
         "mode": "lines",
         "name": "F05",
         "showlegend": true,
         "type": "scattergl",
         "x": [
          1,
          2,
          3,
          4,
          5,
          6,
          7,
          8,
          9,
          10,
          11,
          12,
          13,
          14,
          15,
          16,
          17,
          18,
          19,
          20,
          21,
          22,
          23,
          24,
          25,
          26,
          27,
          28,
          29,
          30,
          31,
          32,
          33,
          34,
          35,
          36,
          37,
          38,
          39,
          40
         ],
         "xaxis": "x",
         "y": [
          0,
          0,
          0,
          0,
          0,
          0,
          0,
          0,
          0,
          0,
          0,
          0,
          0,
          0,
          0,
          0,
          0,
          48.016795584068,
          203.07420479156,
          538.093116023721,
          1161.62610623524,
          2209.53584707674,
          3818.31162073133,
          6084.88404679727,
          9026.05006255951,
          12554.7723347501,
          16485.1421836954,
          20566.8906589607,
          24538.2616781365,
          28178.3262700887,
          31341.5165111066,
          33966.8359934681,
          36064.9180121714,
          37691.0402141428,
          38918.7166892908,
          39825.2341969256,
          40487.2530653854,
          40985.8983786393,
          41398.0353886315,
          41808.5483985359
         ],
         "yaxis": "y"
        },
        {
         "hovertemplate": "variable=F06<br>Cycle=%{x}<br>value=%{y}<extra></extra>",
         "legendgroup": "F06",
         "line": {
          "color": "rgb(253,180,98)",
          "dash": "solid"
         },
         "marker": {
          "symbol": "circle"
         },
         "mode": "lines",
         "name": "F06",
         "showlegend": true,
         "type": "scattergl",
         "x": [
          1,
          2,
          3,
          4,
          5,
          6,
          7,
          8,
          9,
          10,
          11,
          12,
          13,
          14,
          15,
          16,
          17,
          18,
          19,
          20,
          21,
          22,
          23,
          24,
          25,
          26,
          27,
          28,
          29,
          30,
          31,
          32,
          33,
          34,
          35,
          36,
          37,
          38,
          39,
          40
         ],
         "xaxis": "x",
         "y": [
          0,
          0,
          0,
          0,
          0,
          0,
          0,
          0,
          0,
          0,
          0,
          0,
          0,
          0,
          0,
          0,
          0,
          45.4382261786911,
          192.876292276376,
          512.184044270701,
          1108.41435546253,
          2114.94006497845,
          3669.27941618314,
          5874.6366024998,
          8758.77469821148,
          12248.1254868503,
          16168.8255747064,
          20276.650053366,
          24307.1328756514,
          28027.7250764843,
          31274.4568788384,
          33965.4658714768,
          36093.2837881302,
          37701.8783472046,
          38868.5982475934,
          39663.0261586903,
          40161.4089082664,
          40447.304382514,
          40623.1246133556,
          40798.9448441971
         ],
         "yaxis": "y"
        },
        {
         "hovertemplate": "variable=F07<br>Cycle=%{x}<br>value=%{y}<extra></extra>",
         "legendgroup": "F07",
         "line": {
          "color": "rgb(179,222,105)",
          "dash": "solid"
         },
         "marker": {
          "symbol": "circle"
         },
         "mode": "lines",
         "name": "F07",
         "showlegend": true,
         "type": "scattergl",
         "x": [
          1,
          2,
          3,
          4,
          5,
          6,
          7,
          8,
          9,
          10,
          11,
          12,
          13,
          14,
          15,
          16,
          17,
          18,
          19,
          20,
          21,
          22,
          23,
          24,
          25,
          26,
          27,
          28,
          29,
          30,
          31,
          32,
          33,
          34,
          35,
          36,
          37,
          38,
          39,
          40
         ],
         "xaxis": "x",
         "y": [
          0,
          0,
          0,
          0,
          0,
          0,
          0,
          0,
          0,
          0,
          0,
          0,
          0,
          0,
          0,
          0,
          0,
          59.9474872564238,
          253.740710624381,
          669.180403391465,
          1433.84761397906,
          2704.70111707029,
          4636.09652998628,
          7333.60827137603,
          10808.6801227161,
          14952.7277822354,
          19545.9275157004,
          24299.0819491191,
          28914.5245707821,
          33145.2596104435,
          36832.722907803,
          39914.3781457898,
          42407.3185214271,
          44378.5606415979,
          45918.5758463805,
          47112.5330458229,
          48040.2217799325,
          48786.7899081136,
          49434.8662169161,
          50082.9425257186
         ],
         "yaxis": "y"
        },
        {
         "hovertemplate": "variable=F08<br>Cycle=%{x}<br>value=%{y}<extra></extra>",
         "legendgroup": "F08",
         "line": {
          "color": "rgb(252,205,229)",
          "dash": "solid"
         },
         "marker": {
          "symbol": "circle"
         },
         "mode": "lines",
         "name": "F08",
         "showlegend": true,
         "type": "scattergl",
         "x": [
          1,
          2,
          3,
          4,
          5,
          6,
          7,
          8,
          9,
          10,
          11,
          12,
          13,
          14,
          15,
          16,
          17,
          18,
          19,
          20,
          21,
          22,
          23,
          24,
          25,
          26,
          27,
          28,
          29,
          30,
          31,
          32,
          33,
          34,
          35,
          36,
          37,
          38,
          39,
          40
         ],
         "xaxis": "x",
         "y": [
          0,
          0,
          0,
          0,
          0,
          0,
          0,
          0,
          0,
          0,
          0,
          0,
          0,
          0,
          0,
          0,
          0,
          42.39388845263,
          178.734571993883,
          475.149185355188,
          1035.96398980636,
          2000.95046592949,
          3523.41380765774,
          5730.75270434841,
          8679.13254655575,
          12319.0849313634,
          16487.8111625119,
          20935.3811072053,
          25376.7031208741,
          29550.411157847,
          33265.4401663787,
          36421.9454973638,
          39004.4196030395,
          41057.8852224998,
          42662.0222941746,
          43900.3438409586,
          44854.678476621,
          45616.6359333075,
          46272.8611462388,
          46929.0863591701
         ],
         "yaxis": "y"
        },
        {
         "hovertemplate": "variable=F09<br>Cycle=%{x}<br>value=%{y}<extra></extra>",
         "legendgroup": "F09",
         "line": {
          "color": "rgb(217,217,217)",
          "dash": "solid"
         },
         "marker": {
          "symbol": "circle"
         },
         "mode": "lines",
         "name": "F09",
         "showlegend": true,
         "type": "scattergl",
         "x": [
          1,
          2,
          3,
          4,
          5,
          6,
          7,
          8,
          9,
          10,
          11,
          12,
          13,
          14,
          15,
          16,
          17,
          18,
          19,
          20,
          21,
          22,
          23,
          24,
          25,
          26,
          27,
          28,
          29,
          30,
          31,
          32,
          33,
          34,
          35,
          36,
          37,
          38,
          39,
          40
         ],
         "xaxis": "x",
         "y": [
          0,
          0,
          0,
          0,
          0,
          0,
          0,
          0,
          0,
          0,
          0,
          0,
          0,
          0,
          0,
          0,
          0,
          40.0496373681329,
          172.286426391321,
          461.802946683691,
          1008.16826082165,
          1940.37219457505,
          3394.13934751707,
          5474.29071985101,
          8213.92480639481,
          11547.1015551031,
          15308.0376887385,
          19260.3225925149,
          23147.2982534084,
          26744.9980121837,
          29899.6843824043,
          32541.3862822842,
          34674.2108006827,
          36352.6759444336,
          37656.1020044692,
          38669.1272456152,
          39472.3915503094,
          40125.2671817845,
          40778.1428132597,
          41431.0184447349
         ],
         "yaxis": "y"
        },
        {
         "hovertemplate": "variable=F10<br>Cycle=%{x}<br>value=%{y}<extra></extra>",
         "legendgroup": "F10",
         "line": {
          "color": "rgb(188,128,189)",
          "dash": "solid"
         },
         "marker": {
          "symbol": "circle"
         },
         "mode": "lines",
         "name": "F10",
         "showlegend": true,
         "type": "scattergl",
         "x": [
          1,
          2,
          3,
          4,
          5,
          6,
          7,
          8,
          9,
          10,
          11,
          12,
          13,
          14,
          15,
          16,
          17,
          18,
          19,
          20,
          21,
          22,
          23,
          24,
          25,
          26,
          27,
          28,
          29,
          30,
          31,
          32,
          33,
          34,
          35,
          36,
          37,
          38,
          39,
          40
         ],
         "xaxis": "x",
         "y": [
          0,
          0,
          0,
          0,
          0,
          0,
          0,
          0,
          0,
          0,
          0,
          0,
          0,
          0,
          0,
          0,
          0,
          43.0179134651219,
          185.522613282452,
          497.670165424936,
          1086.1180204902,
          2087.91452355536,
          3646.04831859057,
          5869.51584515297,
          8789.89332827703,
          12333.4169993453,
          16321.3703199691,
          20501.7001885849,
          24602.5717389054,
          28388.5533168633,
          31699.3024854241,
          34463.4834808332,
          36690.2215843366,
          38441.2367186206,
          39806.0809736285,
          40865.4965304232,
          41703.9703874007,
          42393.6992138929,
          43020.8240068808,
          43647.9487998687
         ],
         "yaxis": "y"
        },
        {
         "hovertemplate": "variable=F11<br>Cycle=%{x}<br>value=%{y}<extra></extra>",
         "legendgroup": "F11",
         "line": {
          "color": "rgb(204,235,197)",
          "dash": "solid"
         },
         "marker": {
          "symbol": "circle"
         },
         "mode": "lines",
         "name": "F11",
         "showlegend": true,
         "type": "scattergl",
         "x": [
          1,
          2,
          3,
          4,
          5,
          6,
          7,
          8,
          9,
          10,
          11,
          12,
          13,
          14,
          15,
          16,
          17,
          18,
          19,
          20,
          21,
          22,
          23,
          24,
          25,
          26,
          27,
          28,
          29,
          30,
          31,
          32,
          33,
          34,
          35,
          36,
          37,
          38,
          39,
          40
         ],
         "xaxis": "x",
         "y": [
          0,
          0,
          0,
          0,
          0,
          0,
          0,
          0,
          0,
          0,
          0,
          0,
          0,
          0,
          0,
          0,
          0,
          40.1959787602456,
          175.561738490417,
          475.3751159968,
          1047.21410774075,
          2032.79914245703,
          3584.73793759305,
          5825.58426801235,
          8801.71553201533,
          12450.4550919642,
          16595.9325613242,
          20978.7327099238,
          25311.0408025975,
          29336.8470863766,
          32876.4544409754,
          35844.5003915342,
          38241.8421481199,
          40128.2077088119,
          41591.9121880848,
          42728.3114124123,
          43627.6136759842,
          44380.4002724634,
          45059.0762167767,
          45737.0003552215
         ],
         "yaxis": "y"
        },
        {
         "hovertemplate": "variable=F12<br>Cycle=%{x}<br>value=%{y}<extra></extra>",
         "legendgroup": "F12",
         "line": {
          "color": "rgb(255,237,111)",
          "dash": "solid"
         },
         "marker": {
          "symbol": "circle"
         },
         "mode": "lines",
         "name": "F12",
         "showlegend": true,
         "type": "scattergl",
         "x": [
          1,
          2,
          3,
          4,
          5,
          6,
          7,
          8,
          9,
          10,
          11,
          12,
          13,
          14,
          15,
          16,
          17,
          18,
          19,
          20,
          21,
          22,
          23,
          24,
          25,
          26,
          27,
          28,
          29,
          30,
          31,
          32,
          33,
          34,
          35,
          36,
          37,
          38,
          39,
          40
         ],
         "xaxis": "x",
         "y": [
          0,
          0,
          0,
          0,
          0,
          0,
          0,
          0,
          0,
          0,
          0,
          0,
          0,
          0,
          0,
          0,
          0,
          50.305379061609,
          215.619652923774,
          574.507600836086,
          1242.8596070412,
          2365.34152772401,
          4087.6356807228,
          6513.93569588612,
          9664.03844605985,
          13448.0378390441,
          17670.829851476,
          22068.1158792912,
          26362.2080705795,
          30317.6150730097,
          33778.0605870345,
          36677.3220398293,
          39027.0389885292,
          40888.9749674494,
          42350.2557179988,
          43492.1763410377,
          44394.701238812,
          45135.5885952046,
          45796.3223265847,
          46457.0560579649
         ],
         "yaxis": "y"
        },
        {
         "hovertemplate": "variable=G01<br>Cycle=%{x}<br>value=%{y}<extra></extra>",
         "legendgroup": "G01",
         "line": {
          "color": "rgb(141,211,199)",
          "dash": "solid"
         },
         "marker": {
          "symbol": "circle"
         },
         "mode": "lines",
         "name": "G01",
         "showlegend": true,
         "type": "scattergl",
         "x": [
          1,
          2,
          3,
          4,
          5,
          6,
          7,
          8,
          9,
          10,
          11,
          12,
          13,
          14,
          15,
          16,
          17,
          18,
          19,
          20,
          21,
          22,
          23,
          24,
          25,
          26,
          27,
          28,
          29,
          30,
          31,
          32,
          33,
          34,
          35,
          36,
          37,
          38,
          39,
          40
         ],
         "xaxis": "x",
         "y": [
          0,
          87.8362289455163,
          253.074049364493,
          572.840773440869,
          1161.04918723866,
          2157.8934754085,
          3705.58509301101,
          5913.83596377282,
          8823.59220044465,
          12383.0425912364,
          16446.7692292934,
          20799.7276112266,
          25199.09600128,
          29420.0761425376,
          33290.6446088099,
          36707.3572907995,
          39632.3916215876,
          42078.3502240229,
          44089.0671493891,
          45722.7497366665,
          47040.2655878643,
          48097.9748519538,
          48943.9107126511,
          49616.4327108544,
          50145.063752252,
          50552.4372878747,
          50857.34753161,
          51077.1470322711,
          51228.7893535613,
          51328.3951588576,
          51390.1012675415,
          51422.6028670819,
          51436.5926340171,
          51440.8319210902,
          51440.8742780828,
          51439.6448489534,
          51438.4027127262,
          51437.7321098178,
          51437.0615069094,
          51436.390904001
         ],
         "yaxis": "y"
        },
        {
         "hovertemplate": "variable=G02<br>Cycle=%{x}<br>value=%{y}<extra></extra>",
         "legendgroup": "G02",
         "line": {
          "color": "rgb(255,255,179)",
          "dash": "solid"
         },
         "marker": {
          "symbol": "circle"
         },
         "mode": "lines",
         "name": "G02",
         "showlegend": true,
         "type": "scattergl",
         "x": [
          1,
          2,
          3,
          4,
          5,
          6,
          7,
          8,
          9,
          10,
          11,
          12,
          13,
          14,
          15,
          16,
          17,
          18,
          19,
          20,
          21,
          22,
          23,
          24,
          25,
          26,
          27,
          28,
          29,
          30,
          31,
          32,
          33,
          34,
          35,
          36,
          37,
          38,
          39,
          40
         ],
         "xaxis": "x",
         "y": [
          0,
          75.7473096004182,
          222.916375944471,
          516.104167781815,
          1064.89843177525,
          2003.94753661452,
          3469.56186598846,
          5566.67744650397,
          8334.35660874421,
          11722.4121083056,
          15590.7318856992,
          19732.5634717249,
          23914.4014430044,
          27919.9068106711,
          31583.5957652542,
          34806.0548785793,
          37551.6660587411,
          39834.7774955894,
          41700.7403891948,
          43208.9406535035,
          44420.6553984494,
          45390.9272274012,
          46164.7869007403,
          46777.1277824881,
          47254.193969098,
          47616.6265191539,
          47882.8937765666,
          48070.567265905,
          48196.5020113393,
          48276.2163030937,
          48319.4351817345,
          48338.739772849,
          48345.0787003712,
          48345.6262505591,
          48344.2721224903,
          48342.7537293652,
          48341.6415746607,
          48341.1571503992,
          48340.6727261377,
          48340.1883018762
         ],
         "yaxis": "y"
        },
        {
         "hovertemplate": "variable=G03<br>Cycle=%{x}<br>value=%{y}<extra></extra>",
         "legendgroup": "G03",
         "line": {
          "color": "rgb(190,186,218)",
          "dash": "solid"
         },
         "marker": {
          "symbol": "circle"
         },
         "mode": "lines",
         "name": "G03",
         "showlegend": true,
         "type": "scattergl",
         "x": [
          1,
          2,
          3,
          4,
          5,
          6,
          7,
          8,
          9,
          10,
          11,
          12,
          13,
          14,
          15,
          16,
          17,
          18,
          19,
          20,
          21,
          22,
          23,
          24,
          25,
          26,
          27,
          28,
          29,
          30,
          31,
          32,
          33,
          34,
          35,
          36,
          37,
          38,
          39,
          40
         ],
         "xaxis": "x",
         "y": [
          0,
          85.136508466644,
          246.234837316188,
          560.096448517041,
          1140.6792187729,
          2128.90793595873,
          3668.27203102409,
          5869.90028398008,
          8775.9919933394,
          12335.2356861009,
          16401.2981441624,
          20757.0893731645,
          25156.8443263542,
          29372.4259288212,
          33228.9676019363,
          36621.6654309241,
          39513.1113868107,
          41918.3838488467,
          43885.4869255954,
          45477.2008150787,
          46758.1354650204,
          47786.6861296096,
          48610.753784358,
          49267.0625362163,
          49783.2086198833,
          50180.5315167103,
          50477.4698051684,
          50691.8735082937,
          50840.9983763314,
          50940.4360978508,
          51002.5177389986,
          51034.7680636907,
          51048.3938960383,
          51052.3446309784,
          51052.2076162141,
          51050.8853809679,
          51049.6042501509,
          51048.9276533499,
          51048.2510565489,
          51047.5744597479
         ],
         "yaxis": "y"
        },
        {
         "hovertemplate": "variable=G04<br>Cycle=%{x}<br>value=%{y}<extra></extra>",
         "legendgroup": "G04",
         "line": {
          "color": "rgb(251,128,114)",
          "dash": "solid"
         },
         "marker": {
          "symbol": "circle"
         },
         "mode": "lines",
         "name": "G04",
         "showlegend": true,
         "type": "scattergl",
         "x": [
          1,
          2,
          3,
          4,
          5,
          6,
          7,
          8,
          9,
          10,
          11,
          12,
          13,
          14,
          15,
          16,
          17,
          18,
          19,
          20,
          21,
          22,
          23,
          24,
          25,
          26,
          27,
          28,
          29,
          30,
          31,
          32,
          33,
          34,
          35,
          36,
          37,
          38,
          39,
          40
         ],
         "xaxis": "x",
         "y": [
          0,
          0,
          0,
          0,
          0,
          26.0487130620588,
          133.047031716615,
          384.572801412604,
          873.854623728683,
          1719.63456954416,
          3048.69342204498,
          4966.15540084411,
          7521.89278133451,
          10685.4026346931,
          14339.3807895298,
          18296.5112334968,
          22335.1498547301,
          26241.5597542253,
          29845.3643100456,
          33039.3293547647,
          35780.4546490575,
          38077.0405471162,
          39969.9259966413,
          41514.3841899119,
          42767.0635816784,
          43779.3187110349,
          44594.8357501411,
          45249.4944620884,
          45772.4033809,
          46186.8273803415,
          46510.9713999069,
          46759.2823293262,
          46944.1621796924,
          47077.1696566147,
          47169.6884437255,
          47232.8002340969,
          47276.372643333,
          47307.1486031926,
          47337.9245630521,
          47368.7005229117
         ],
         "yaxis": "y"
        },
        {
         "hovertemplate": "variable=G05<br>Cycle=%{x}<br>value=%{y}<extra></extra>",
         "legendgroup": "G05",
         "line": {
          "color": "rgb(128,177,211)",
          "dash": "solid"
         },
         "marker": {
          "symbol": "circle"
         },
         "mode": "lines",
         "name": "G05",
         "showlegend": true,
         "type": "scattergl",
         "x": [
          1,
          2,
          3,
          4,
          5,
          6,
          7,
          8,
          9,
          10,
          11,
          12,
          13,
          14,
          15,
          16,
          17,
          18,
          19,
          20,
          21,
          22,
          23,
          24,
          25,
          26,
          27,
          28,
          29,
          30,
          31,
          32,
          33,
          34,
          35,
          36,
          37,
          38,
          39,
          40
         ],
         "xaxis": "x",
         "y": [
          0,
          0,
          0,
          0,
          0,
          25.9273398156018,
          132.545994362321,
          383.340192751464,
          871.589871894124,
          1716.21638663512,
          3044.23094964769,
          4961.3034048972,
          7518.31122497847,
          10686.0264302226,
          14348.4250517894,
          18319.2232491918,
          22377.0075786095,
          26307.3034819789,
          29938.3532279718,
          33161.3867812154,
          35932.0616693981,
          38257.8838057255,
          40179.3588246489,
          41751.4025030068,
          43029.9751779928,
          44065.5338255871,
          44900.6702842164,
          45570.1534232573,
          46102.4944574986,
          46521.2295187865,
          46845.5147688936,
          47091.3083676863,
          47272.4261893206,
          47400.9311317884,
          47487.5731892746,
          47541.7638620729,
          47572.2143741168,
          47587.1356930265,
          47594.5045411654,
          47601.8733893044
         ],
         "yaxis": "y"
        },
        {
         "hovertemplate": "variable=G06<br>Cycle=%{x}<br>value=%{y}<extra></extra>",
         "legendgroup": "G06",
         "line": {
          "color": "rgb(253,180,98)",
          "dash": "solid"
         },
         "marker": {
          "symbol": "circle"
         },
         "mode": "lines",
         "name": "G06",
         "showlegend": true,
         "type": "scattergl",
         "x": [
          1,
          2,
          3,
          4,
          5,
          6,
          7,
          8,
          9,
          10,
          11,
          12,
          13,
          14,
          15,
          16,
          17,
          18,
          19,
          20,
          21,
          22,
          23,
          24,
          25,
          26,
          27,
          28,
          29,
          30,
          31,
          32,
          33,
          34,
          35,
          36,
          37,
          38,
          39,
          40
         ],
         "xaxis": "x",
         "y": [
          0,
          0,
          0,
          0,
          0,
          25.7148952773587,
          132.562853478299,
          384.495243252138,
          874.762401135948,
          1721.35462092297,
          3048.98319807472,
          4959.19642967123,
          7497.33960184011,
          10628.3072195276,
          14231.3397014756,
          18118.0118899883,
          22068.378958679,
          25872.7107829704,
          29366.2554733817,
          32447.8418352195,
          35080.0484124157,
          37275.6760602043,
          39078.6626768331,
          40545.5224031907,
          41732.1464165888,
          42687.3740943136,
          43451.2690544398,
          44056.1250589644,
          44528.7097020339,
          44892.0150480227,
          45165.6272939554,
          45366.2712904015,
          45508.4012256828,
          45604.1292693907,
          45663.8908872902,
          45696.7154945183,
          45711.6116163765,
          45715.2047879299,
          45715.2047879299,
          45715.2047879299
         ],
         "yaxis": "y"
        },
        {
         "hovertemplate": "variable=G07<br>Cycle=%{x}<br>value=%{y}<extra></extra>",
         "legendgroup": "G07",
         "line": {
          "color": "rgb(179,222,105)",
          "dash": "solid"
         },
         "marker": {
          "symbol": "circle"
         },
         "mode": "lines",
         "name": "G07",
         "showlegend": true,
         "type": "scattergl",
         "x": [
          1,
          2,
          3,
          4,
          5,
          6,
          7,
          8,
          9,
          10,
          11,
          12,
          13,
          14,
          15,
          16,
          17,
          18,
          19,
          20,
          21,
          22,
          23,
          24,
          25,
          26,
          27,
          28,
          29,
          30,
          31,
          32,
          33,
          34,
          35,
          36,
          37,
          38,
          39,
          40
         ],
         "xaxis": "x",
         "y": [
          0,
          0,
          0,
          0,
          0,
          0,
          0,
          0,
          0,
          0,
          0,
          44.48745379924,
          188.297757576636,
          491.515212648622,
          1034.50560500685,
          1909.34139514939,
          3202.13256389277,
          4972.16890081413,
          7233.78159287195,
          9946.78673321073,
          13020.1977107574,
          16327.2693125452,
          19726.9429072257,
          23085.5009374199,
          26293.2849056918,
          29273.1175237132,
          31981.3016089489,
          34402.7860816121,
          36543.4923518183,
          38422.4411362275,
          40064.9225305977,
          41497.626807068,
          42746.7085007517,
          43835.5416316754,
          44787.400310819,
          45615.578553457,
          46340.1090567103,
          46979.4493176525,
          47577.2642865161,
          48175.0792553798
         ],
         "yaxis": "y"
        },
        {
         "hovertemplate": "variable=G08<br>Cycle=%{x}<br>value=%{y}<extra></extra>",
         "legendgroup": "G08",
         "line": {
          "color": "rgb(252,205,229)",
          "dash": "solid"
         },
         "marker": {
          "symbol": "circle"
         },
         "mode": "lines",
         "name": "G08",
         "showlegend": true,
         "type": "scattergl",
         "x": [
          1,
          2,
          3,
          4,
          5,
          6,
          7,
          8,
          9,
          10,
          11,
          12,
          13,
          14,
          15,
          16,
          17,
          18,
          19,
          20,
          21,
          22,
          23,
          24,
          25,
          26,
          27,
          28,
          29,
          30,
          31,
          32,
          33,
          34,
          35,
          36,
          37,
          38,
          39,
          40
         ],
         "xaxis": "x",
         "y": [
          0,
          0,
          0,
          0,
          0,
          0,
          0,
          0,
          0,
          0,
          0,
          61.2461234972213,
          260.092672699637,
          681.060910935522,
          1437.3785058073,
          2657.94049828386,
          4460.16007030905,
          6915.5029064264,
          10020.1364486172,
          13682.5642410719,
          17733.6762235503,
          21957.4460415675,
          26131.9619518553,
          30066.5904839808,
          33626.5727644267,
          36740.9514924474,
          39394.9035008302,
          41614.243193571,
          43448.4904175416,
          44955.5037192066,
          46191.1031403885,
          47203.7576637239,
          48032.0933493919,
          48704.6925765049,
          49245.6436261133,
          49666.2689887973,
          49982.3838918905,
          50212.2773468933,
          50442.1708018961,
          50672.0642568989
         ],
         "yaxis": "y"
        },
        {
         "hovertemplate": "variable=G09<br>Cycle=%{x}<br>value=%{y}<extra></extra>",
         "legendgroup": "G09",
         "line": {
          "color": "rgb(217,217,217)",
          "dash": "solid"
         },
         "marker": {
          "symbol": "circle"
         },
         "mode": "lines",
         "name": "G09",
         "showlegend": true,
         "type": "scattergl",
         "x": [
          1,
          2,
          3,
          4,
          5,
          6,
          7,
          8,
          9,
          10,
          11,
          12,
          13,
          14,
          15,
          16,
          17,
          18,
          19,
          20,
          21,
          22,
          23,
          24,
          25,
          26,
          27,
          28,
          29,
          30,
          31,
          32,
          33,
          34,
          35,
          36,
          37,
          38,
          39,
          40
         ],
         "xaxis": "x",
         "y": [
          0,
          0,
          0,
          0,
          0,
          0,
          0,
          0,
          0,
          0,
          0,
          57.1153595206487,
          241.850803181084,
          631.579958278886,
          1328.95247728026,
          2449.45201088465,
          4096.31537642152,
          6329.45450473063,
          9139.5281035657,
          12438.0971059518,
          16068.2064428965,
          19833.1822473032,
          23534.2372528179,
          27004.0181817569,
          30127.3643423486,
          32846.9712651841,
          35155.2752836735,
          37079.0755464268,
          38663.7410675587,
          39960.3252364415,
          41017.1142557596,
          41875.5985766539,
          42569.5116732169,
          43125.0906228966,
          43562.7469226862,
          43900.388714222,
          44157.2401296117,
          44354.7714302046,
          44520.2222213271,
          44685.0432347684
         ],
         "yaxis": "y"
        },
        {
         "hovertemplate": "variable=G10<br>Cycle=%{x}<br>value=%{y}<extra></extra>",
         "legendgroup": "G10",
         "line": {
          "color": "rgb(188,128,189)",
          "dash": "solid"
         },
         "marker": {
          "symbol": "circle"
         },
         "mode": "lines",
         "name": "G10",
         "showlegend": true,
         "type": "scattergl",
         "x": [
          1,
          2,
          3,
          4,
          5,
          6,
          7,
          8,
          9,
          10,
          11,
          12,
          13,
          14,
          15,
          16,
          17,
          18,
          19,
          20,
          21,
          22,
          23,
          24,
          25,
          26,
          27,
          28,
          29,
          30,
          31,
          32,
          33,
          34,
          35,
          36,
          37,
          38,
          39,
          40
         ],
         "xaxis": "x",
         "y": [
          0,
          0,
          0,
          0,
          0,
          0,
          0,
          0,
          0,
          0,
          0,
          0,
          0,
          0,
          0,
          65.0172519081214,
          267.404407423142,
          686.427534366006,
          1426.88069800783,
          2606.85812979601,
          4331.82908755457,
          6662.44666400451,
          9587.61306586801,
          13013.9027378075,
          16776.1961992816,
          20668.4157283096,
          24483.8153576548,
          28050.20855722,
          31251.5357809895,
          34032.9984557481,
          36391.1855878654,
          38356.1843379831,
          39974.16697931,
          41293.7577446244,
          42361.5286308718,
          43212.2795368912,
          43877.4247328689,
          44401.4248089659,
          44839.3540851223,
          45277.2833612786
         ],
         "yaxis": "y"
        },
        {
         "hovertemplate": "variable=G11<br>Cycle=%{x}<br>value=%{y}<extra></extra>",
         "legendgroup": "G11",
         "line": {
          "color": "rgb(204,235,197)",
          "dash": "solid"
         },
         "marker": {
          "symbol": "circle"
         },
         "mode": "lines",
         "name": "G11",
         "showlegend": true,
         "type": "scattergl",
         "x": [
          1,
          2,
          3,
          4,
          5,
          6,
          7,
          8,
          9,
          10,
          11,
          12,
          13,
          14,
          15,
          16,
          17,
          18,
          19,
          20,
          21,
          22,
          23,
          24,
          25,
          26,
          27,
          28,
          29,
          30,
          31,
          32,
          33,
          34,
          35,
          36,
          37,
          38,
          39,
          40
         ],
         "xaxis": "x",
         "y": [
          0,
          0,
          0,
          0,
          0,
          0,
          0,
          0,
          0,
          0,
          0,
          0,
          0,
          0,
          0,
          62.7811587027018,
          259.424501499347,
          669.223279833166,
          1398.88400523574,
          2570.18678986557,
          4293.76431144756,
          6636.13416790275,
          9591.43007766205,
          13069.2960869722,
          16905.329181286,
          20891.5581281149,
          24816.3169709354,
          28500.3854723649,
          31820.0279130037,
          34712.583344601,
          37167.9360827511,
          39212.7110171212,
          40893.696076509,
          42263.655961967,
          43373.2382877274,
          44270.001869047,
          45001.1841839805,
          45616.6693104153,
          46170.3199012885,
          46722.8619439842
         ],
         "yaxis": "y"
        },
        {
         "hovertemplate": "variable=G12<br>Cycle=%{x}<br>value=%{y}<extra></extra>",
         "legendgroup": "G12",
         "line": {
          "color": "rgb(255,237,111)",
          "dash": "solid"
         },
         "marker": {
          "symbol": "circle"
         },
         "mode": "lines",
         "name": "G12",
         "showlegend": true,
         "type": "scattergl",
         "x": [
          1,
          2,
          3,
          4,
          5,
          6,
          7,
          8,
          9,
          10,
          11,
          12,
          13,
          14,
          15,
          16,
          17,
          18,
          19,
          20,
          21,
          22,
          23,
          24,
          25,
          26,
          27,
          28,
          29,
          30,
          31,
          32,
          33,
          34,
          35,
          36,
          37,
          38,
          39,
          40
         ],
         "xaxis": "x",
         "y": [
          0,
          0,
          0,
          0,
          0,
          0,
          0,
          0,
          0,
          0,
          0,
          0,
          0,
          0,
          32.7611564265717,
          145.353595603521,
          394.670223001756,
          866.120228010617,
          1670.72800375844,
          2928.7242935258,
          4741.51492501659,
          7159.88429371849,
          10159.2558403912,
          13632.4993080557,
          17405.3123836102,
          21269.03245,
          25020.4139014303,
          28495.6348270929,
          31588.969510079,
          34254.6435036055,
          36495.8048879472,
          38347.3474749893,
          39860.0432548779,
          41087.5624747243,
          42082.5058226041,
          42882.2346415159,
          43526.2916661136,
          44052.1682449991,
          44518.7816754289,
          44985.3951058587
         ],
         "yaxis": "y"
        },
        {
         "hovertemplate": "variable=H01<br>Cycle=%{x}<br>value=%{y}<extra></extra>",
         "legendgroup": "H01",
         "line": {
          "color": "rgb(141,211,199)",
          "dash": "solid"
         },
         "marker": {
          "symbol": "circle"
         },
         "mode": "lines",
         "name": "H01",
         "showlegend": true,
         "type": "scattergl",
         "x": [
          1,
          2,
          3,
          4,
          5,
          6,
          7,
          8,
          9,
          10,
          11,
          12,
          13,
          14,
          15,
          16,
          17,
          18,
          19,
          20,
          21,
          22,
          23,
          24,
          25,
          26,
          27,
          28,
          29,
          30,
          31,
          32,
          33,
          34,
          35,
          36,
          37,
          38,
          39,
          40
         ],
         "xaxis": "x",
         "y": [
          0,
          0,
          0,
          0,
          0,
          0,
          0,
          0,
          0,
          0,
          0,
          0,
          0,
          0,
          0,
          0,
          0,
          0,
          37.0137592564847,
          158.12848642994,
          420.793541185676,
          911.940331380868,
          1744.76874205398,
          3042.14961635237,
          4908.58282789049,
          7398.09111531942,
          10489.5389674213,
          14079.5472430823,
          17996.7867440434,
          22033.6962837322,
          25984.9500434355,
          29680.6135031785,
          33006.8762092573,
          35906.5520597151,
          38379.8021418402,
          40435.1902919384,
          42127.1716033753,
          43519.0920530623,
          44911.0125027493,
          46302.9329524364
         ],
         "yaxis": "y"
        },
        {
         "hovertemplate": "variable=H02<br>Cycle=%{x}<br>value=%{y}<extra></extra>",
         "legendgroup": "H02",
         "line": {
          "color": "rgb(255,255,179)",
          "dash": "solid"
         },
         "marker": {
          "symbol": "circle"
         },
         "mode": "lines",
         "name": "H02",
         "showlegend": true,
         "type": "scattergl",
         "x": [
          1,
          2,
          3,
          4,
          5,
          6,
          7,
          8,
          9,
          10,
          11,
          12,
          13,
          14,
          15,
          16,
          17,
          18,
          19,
          20,
          21,
          22,
          23,
          24,
          25,
          26,
          27,
          28,
          29,
          30,
          31,
          32,
          33,
          34,
          35,
          36,
          37,
          38,
          39,
          40
         ],
         "xaxis": "x",
         "y": [
          0,
          0,
          0,
          0,
          0,
          0,
          0,
          0,
          0,
          0,
          0,
          0,
          0,
          0,
          0,
          0,
          0,
          0,
          0,
          51.1848394796826,
          212.725870732532,
          554.931750811161,
          1179.73528973608,
          2213.42911017396,
          3784.53424819286,
          5990.75148766543,
          8864.95927404137,
          12353.6145389576,
          16316.1140410338,
          20547.562982877,
          24817.6606850675,
          28912.8143624814,
          32670.577105446,
          35991.6102950295,
          38849.2775283753,
          41235.1904656219,
          43204.0125540299,
          44828.9060654301,
          46286.2579655271,
          47743.6098656241
         ],
         "yaxis": "y"
        },
        {
         "hovertemplate": "variable=H03<br>Cycle=%{x}<br>value=%{y}<extra></extra>",
         "legendgroup": "H03",
         "line": {
          "color": "rgb(190,186,218)",
          "dash": "solid"
         },
         "marker": {
          "symbol": "circle"
         },
         "mode": "lines",
         "name": "H03",
         "showlegend": true,
         "type": "scattergl",
         "x": [
          1,
          2,
          3,
          4,
          5,
          6,
          7,
          8,
          9,
          10,
          11,
          12,
          13,
          14,
          15,
          16,
          17,
          18,
          19,
          20,
          21,
          22,
          23,
          24,
          25,
          26,
          27,
          28,
          29,
          30,
          31,
          32,
          33,
          34,
          35,
          36,
          37,
          38,
          39,
          40
         ],
         "xaxis": "x",
         "y": [
          0,
          0,
          0,
          0,
          0,
          0,
          0,
          0,
          0,
          0,
          0,
          0,
          0,
          0,
          0,
          0,
          0,
          0,
          0,
          63.2006609139983,
          256.869265811311,
          657.549089756144,
          1369.8150513856,
          2514.80508403554,
          4204.56109243385,
          6509.0567966255,
          9427.38873847215,
          12874.1228791729,
          16687.934694932,
          20661.0360532363,
          24578.8553453453,
          28257.0353891809,
          31566.6623135622,
          34438.8194313811,
          36866.1745065234,
          38857.7163727547,
          40466.4262154887,
          41757.0060921667,
          43047.5859688447,
          44338.1658455227
         ],
         "yaxis": "y"
        },
        {
         "hovertemplate": "variable=H04<br>Cycle=%{x}<br>value=%{y}<extra></extra>",
         "legendgroup": "H04",
         "line": {
          "color": "rgb(251,128,114)",
          "dash": "solid"
         },
         "marker": {
          "symbol": "circle"
         },
         "mode": "lines",
         "name": "H04",
         "showlegend": true,
         "type": "scattergl",
         "x": [
          1,
          2,
          3,
          4,
          5,
          6,
          7,
          8,
          9,
          10,
          11,
          12,
          13,
          14,
          15,
          16,
          17,
          18,
          19,
          20,
          21,
          22,
          23,
          24,
          25,
          26,
          27,
          28,
          29,
          30,
          31,
          32,
          33,
          34,
          35,
          36,
          37,
          38,
          39,
          40
         ],
         "xaxis": "x",
         "y": [
          0,
          0,
          0,
          0,
          0,
          0,
          0,
          0,
          0,
          0,
          0,
          0,
          0,
          0,
          0,
          0,
          0,
          0,
          0,
          0,
          0,
          0,
          44.5921044446687,
          184.537347032382,
          481.208657445998,
          1025.22903473132,
          1931.1535175324,
          3318.26885296447,
          5280.40606353243,
          7854.09748832707,
          10996.7585022214,
          14583.2797734218,
          18426.2077413017,
          22306.0557169179,
          26035.2629414631,
          29408.5522601127,
          32331.5120037908,
          34768.4277715733,
          36933.9753726448,
          39099.5229737162
         ],
         "yaxis": "y"
        },
        {
         "hovertemplate": "variable=H05<br>Cycle=%{x}<br>value=%{y}<extra></extra>",
         "legendgroup": "H05",
         "line": {
          "color": "rgb(128,177,211)",
          "dash": "solid"
         },
         "marker": {
          "symbol": "circle"
         },
         "mode": "lines",
         "name": "H05",
         "showlegend": true,
         "type": "scattergl",
         "x": [
          1,
          2,
          3,
          4,
          5,
          6,
          7,
          8,
          9,
          10,
          11,
          12,
          13,
          14,
          15,
          16,
          17,
          18,
          19,
          20,
          21,
          22,
          23,
          24,
          25,
          26,
          27,
          28,
          29,
          30,
          31,
          32,
          33,
          34,
          35,
          36,
          37,
          38,
          39,
          40
         ],
         "xaxis": "x",
         "y": [
          0,
          0,
          0,
          0,
          0,
          0,
          0,
          0,
          0,
          0,
          0,
          0,
          0,
          0,
          0,
          0,
          0,
          0,
          0,
          0,
          0,
          0,
          46.4170360162901,
          183.935875011014,
          467.087297572115,
          976.631343555021,
          1815.59584731652,
          3092.87534396453,
          4897.21232561598,
          7269.63331253034,
          10183.5515639405,
          13539.7552430649,
          17181.668569657,
          20919.1028565614,
          24583.7649234197,
          27983.6107989829,
          31022.4621306803,
          33650.8940239674,
          36049.3377091784,
          38447.7813943894
         ],
         "yaxis": "y"
        },
        {
         "hovertemplate": "variable=H06<br>Cycle=%{x}<br>value=%{y}<extra></extra>",
         "legendgroup": "H06",
         "line": {
          "color": "rgb(253,180,98)",
          "dash": "solid"
         },
         "marker": {
          "symbol": "circle"
         },
         "mode": "lines",
         "name": "H06",
         "showlegend": true,
         "type": "scattergl",
         "x": [
          1,
          2,
          3,
          4,
          5,
          6,
          7,
          8,
          9,
          10,
          11,
          12,
          13,
          14,
          15,
          16,
          17,
          18,
          19,
          20,
          21,
          22,
          23,
          24,
          25,
          26,
          27,
          28,
          29,
          30,
          31,
          32,
          33,
          34,
          35,
          36,
          37,
          38,
          39,
          40
         ],
         "xaxis": "x",
         "y": [
          0,
          0,
          0,
          0,
          0,
          0,
          0,
          0,
          0,
          0,
          0,
          0,
          0,
          0,
          0,
          0,
          0,
          0,
          0,
          0,
          0,
          0,
          58.0803562786675,
          234.075194326969,
          598.368163847231,
          1250.98998258168,
          2312.47242182623,
          3899.80075544296,
          6093.58163524249,
          8906.7467156005,
          12266.8237893137,
          16020.6203730723,
          19962.2744127472,
          23867.5701481083,
          27557.094793356,
          30843.7486080837,
          33655.9210510427,
          36010.250348939,
          38364.5796468354,
          40718.9089447318
         ],
         "yaxis": "y"
        },
        {
         "hovertemplate": "variable=H07<br>Cycle=%{x}<br>value=%{y}<extra></extra>",
         "legendgroup": "H07",
         "line": {
          "color": "rgb(179,222,105)",
          "dash": "solid"
         },
         "marker": {
          "symbol": "circle"
         },
         "mode": "lines",
         "name": "H07",
         "showlegend": true,
         "type": "scattergl",
         "x": [
          1,
          2,
          3,
          4,
          5,
          6,
          7,
          8,
          9,
          10,
          11,
          12,
          13,
          14,
          15,
          16,
          17,
          18,
          19,
          20,
          21,
          22,
          23,
          24,
          25,
          26,
          27,
          28,
          29,
          30,
          31,
          32,
          33,
          34,
          35,
          36,
          37,
          38,
          39,
          40
         ],
         "xaxis": "x",
         "y": [
          0,
          0,
          0,
          0,
          0,
          0,
          0,
          0,
          0,
          0,
          0,
          0,
          0,
          0,
          0,
          0,
          0,
          0,
          0,
          0,
          0,
          0,
          0,
          0,
          0,
          0,
          55.0180259213134,
          213.209234660327,
          532.845402252163,
          1098.18999196112,
          2014.3164336459,
          3388.19996103943,
          5300.81658769154,
          7773.48868967496,
          10751.8856593987,
          14127.5508546723,
          17770.9237456576,
          21587.8318260135,
          25404.7399063694,
          29221.6479867252
         ],
         "yaxis": "y"
        },
        {
         "hovertemplate": "variable=H08<br>Cycle=%{x}<br>value=%{y}<extra></extra>",
         "legendgroup": "H08",
         "line": {
          "color": "rgb(252,205,229)",
          "dash": "solid"
         },
         "marker": {
          "symbol": "circle"
         },
         "mode": "lines",
         "name": "H08",
         "showlegend": true,
         "type": "scattergl",
         "x": [
          1,
          2,
          3,
          4,
          5,
          6,
          7,
          8,
          9,
          10,
          11,
          12,
          13,
          14,
          15,
          16,
          17,
          18,
          19,
          20,
          21,
          22,
          23,
          24,
          25,
          26,
          27,
          28,
          29,
          30,
          31,
          32,
          33,
          34,
          35,
          36,
          37,
          38,
          39,
          40
         ],
         "xaxis": "x",
         "y": [
          0,
          0,
          0,
          0,
          0,
          0,
          0,
          0,
          0,
          0,
          0,
          0,
          0,
          0,
          0,
          0,
          0,
          0,
          0,
          0,
          0,
          0,
          0,
          0,
          0,
          0,
          58.3673903460742,
          224.246657954502,
          556.659825775578,
          1139.87911396435,
          2077.52495326835,
          3472.63773937223,
          5399.54731981,
          7868.87021575365,
          10836.5601751162,
          14125.5961649674,
          17583.0732476354,
          21010.2039648962,
          24430.7539965873,
          27851.3040282785
         ],
         "yaxis": "y"
        },
        {
         "hovertemplate": "variable=H09<br>Cycle=%{x}<br>value=%{y}<extra></extra>",
         "legendgroup": "H09",
         "line": {
          "color": "rgb(217,217,217)",
          "dash": "solid"
         },
         "marker": {
          "symbol": "circle"
         },
         "mode": "lines",
         "name": "H09",
         "showlegend": true,
         "type": "scattergl",
         "x": [
          1,
          2,
          3,
          4,
          5,
          6,
          7,
          8,
          9,
          10,
          11,
          12,
          13,
          14,
          15,
          16,
          17,
          18,
          19,
          20,
          21,
          22,
          23,
          24,
          25,
          26,
          27,
          28,
          29,
          30,
          31,
          32,
          33,
          34,
          35,
          36,
          37,
          38,
          39,
          40
         ],
         "xaxis": "x",
         "y": [
          0,
          0,
          0,
          0,
          0,
          0,
          0,
          0,
          0,
          0,
          0,
          0,
          0,
          0,
          0,
          0,
          0,
          0,
          0,
          0,
          0,
          0,
          0,
          0,
          0,
          0,
          63.5277742262587,
          243.143854718798,
          601.437239147779,
          1226.54948423818,
          2224.51183805549,
          3696.99171029489,
          5712.4648047302,
          8269.02031236429,
          11280.5284107299,
          14610.4848771625,
          18115.5419638492,
          21702.0178517616,
          25288.4937396741,
          28874.9696275865
         ],
         "yaxis": "y"
        },
        {
         "hovertemplate": "variable=H10<br>Cycle=%{x}<br>value=%{y}<extra></extra>",
         "legendgroup": "H10",
         "line": {
          "color": "rgb(188,128,189)",
          "dash": "solid"
         },
         "marker": {
          "symbol": "circle"
         },
         "mode": "lines",
         "name": "H10",
         "showlegend": true,
         "type": "scattergl",
         "x": [
          1,
          2,
          3,
          4,
          5,
          6,
          7,
          8,
          9,
          10,
          11,
          12,
          13,
          14,
          15,
          16,
          17,
          18,
          19,
          20,
          21,
          22,
          23,
          24,
          25,
          26,
          27,
          28,
          29,
          30,
          31,
          32,
          33,
          34,
          35,
          36,
          37,
          38,
          39,
          40
         ],
         "xaxis": "x",
         "y": [
          0,
          0,
          0,
          0,
          0,
          0,
          0,
          0,
          0,
          0,
          0,
          0,
          0,
          0,
          0,
          0,
          0,
          0,
          0,
          0,
          0,
          0,
          0,
          0,
          0,
          0,
          0,
          0,
          0,
          0,
          0,
          0,
          0,
          0,
          0,
          0,
          0,
          0,
          0,
          0
         ],
         "yaxis": "y"
        },
        {
         "hovertemplate": "variable=H11<br>Cycle=%{x}<br>value=%{y}<extra></extra>",
         "legendgroup": "H11",
         "line": {
          "color": "rgb(204,235,197)",
          "dash": "solid"
         },
         "marker": {
          "symbol": "circle"
         },
         "mode": "lines",
         "name": "H11",
         "showlegend": true,
         "type": "scattergl",
         "x": [
          1,
          2,
          3,
          4,
          5,
          6,
          7,
          8,
          9,
          10,
          11,
          12,
          13,
          14,
          15,
          16,
          17,
          18,
          19,
          20,
          21,
          22,
          23,
          24,
          25,
          26,
          27,
          28,
          29,
          30,
          31,
          32,
          33,
          34,
          35,
          36,
          37,
          38,
          39,
          40
         ],
         "xaxis": "x",
         "y": [
          0,
          0,
          0,
          0,
          0,
          0,
          0,
          0,
          0,
          0,
          0,
          0,
          0,
          0,
          0,
          0,
          0,
          0,
          0,
          0,
          0,
          0,
          0,
          0,
          0,
          0,
          0,
          0,
          0,
          0,
          0,
          0,
          0,
          0,
          0,
          0,
          0,
          0,
          0,
          0
         ],
         "yaxis": "y"
        },
        {
         "hovertemplate": "variable=H12<br>Cycle=%{x}<br>value=%{y}<extra></extra>",
         "legendgroup": "H12",
         "line": {
          "color": "rgb(255,237,111)",
          "dash": "solid"
         },
         "marker": {
          "symbol": "circle"
         },
         "mode": "lines",
         "name": "H12",
         "showlegend": true,
         "type": "scattergl",
         "x": [
          1,
          2,
          3,
          4,
          5,
          6,
          7,
          8,
          9,
          10,
          11,
          12,
          13,
          14,
          15,
          16,
          17,
          18,
          19,
          20,
          21,
          22,
          23,
          24,
          25,
          26,
          27,
          28,
          29,
          30,
          31,
          32,
          33,
          34,
          35,
          36,
          37,
          38,
          39,
          40
         ],
         "xaxis": "x",
         "y": [
          0,
          0,
          0,
          0,
          0,
          0,
          0,
          0,
          0,
          0,
          0,
          0,
          0,
          0,
          0,
          0,
          0,
          0,
          0,
          0,
          0,
          0,
          0,
          0,
          0,
          0,
          0,
          0,
          0,
          0,
          0,
          0,
          0,
          0,
          0,
          0,
          0,
          0,
          0,
          0
         ],
         "yaxis": "y"
        }
       ],
       "layout": {
        "height": 500,
        "legend": {
         "title": {
          "text": "Well"
         },
         "tracegroupgap": 0
        },
        "margin": {
         "t": 60
        },
        "template": {
         "data": {
          "bar": [
           {
            "error_x": {
             "color": "#2a3f5f"
            },
            "error_y": {
             "color": "#2a3f5f"
            },
            "marker": {
             "line": {
              "color": "#E5ECF6",
              "width": 0.5
             },
             "pattern": {
              "fillmode": "overlay",
              "size": 10,
              "solidity": 0.2
             }
            },
            "type": "bar"
           }
          ],
          "barpolar": [
           {
            "marker": {
             "line": {
              "color": "#E5ECF6",
              "width": 0.5
             },
             "pattern": {
              "fillmode": "overlay",
              "size": 10,
              "solidity": 0.2
             }
            },
            "type": "barpolar"
           }
          ],
          "carpet": [
           {
            "aaxis": {
             "endlinecolor": "#2a3f5f",
             "gridcolor": "white",
             "linecolor": "white",
             "minorgridcolor": "white",
             "startlinecolor": "#2a3f5f"
            },
            "baxis": {
             "endlinecolor": "#2a3f5f",
             "gridcolor": "white",
             "linecolor": "white",
             "minorgridcolor": "white",
             "startlinecolor": "#2a3f5f"
            },
            "type": "carpet"
           }
          ],
          "choropleth": [
           {
            "colorbar": {
             "outlinewidth": 0,
             "ticks": ""
            },
            "type": "choropleth"
           }
          ],
          "contour": [
           {
            "colorbar": {
             "outlinewidth": 0,
             "ticks": ""
            },
            "colorscale": [
             [
              0,
              "#0d0887"
             ],
             [
              0.1111111111111111,
              "#46039f"
             ],
             [
              0.2222222222222222,
              "#7201a8"
             ],
             [
              0.3333333333333333,
              "#9c179e"
             ],
             [
              0.4444444444444444,
              "#bd3786"
             ],
             [
              0.5555555555555556,
              "#d8576b"
             ],
             [
              0.6666666666666666,
              "#ed7953"
             ],
             [
              0.7777777777777778,
              "#fb9f3a"
             ],
             [
              0.8888888888888888,
              "#fdca26"
             ],
             [
              1,
              "#f0f921"
             ]
            ],
            "type": "contour"
           }
          ],
          "contourcarpet": [
           {
            "colorbar": {
             "outlinewidth": 0,
             "ticks": ""
            },
            "type": "contourcarpet"
           }
          ],
          "heatmap": [
           {
            "colorbar": {
             "outlinewidth": 0,
             "ticks": ""
            },
            "colorscale": [
             [
              0,
              "#0d0887"
             ],
             [
              0.1111111111111111,
              "#46039f"
             ],
             [
              0.2222222222222222,
              "#7201a8"
             ],
             [
              0.3333333333333333,
              "#9c179e"
             ],
             [
              0.4444444444444444,
              "#bd3786"
             ],
             [
              0.5555555555555556,
              "#d8576b"
             ],
             [
              0.6666666666666666,
              "#ed7953"
             ],
             [
              0.7777777777777778,
              "#fb9f3a"
             ],
             [
              0.8888888888888888,
              "#fdca26"
             ],
             [
              1,
              "#f0f921"
             ]
            ],
            "type": "heatmap"
           }
          ],
          "heatmapgl": [
           {
            "colorbar": {
             "outlinewidth": 0,
             "ticks": ""
            },
            "colorscale": [
             [
              0,
              "#0d0887"
             ],
             [
              0.1111111111111111,
              "#46039f"
             ],
             [
              0.2222222222222222,
              "#7201a8"
             ],
             [
              0.3333333333333333,
              "#9c179e"
             ],
             [
              0.4444444444444444,
              "#bd3786"
             ],
             [
              0.5555555555555556,
              "#d8576b"
             ],
             [
              0.6666666666666666,
              "#ed7953"
             ],
             [
              0.7777777777777778,
              "#fb9f3a"
             ],
             [
              0.8888888888888888,
              "#fdca26"
             ],
             [
              1,
              "#f0f921"
             ]
            ],
            "type": "heatmapgl"
           }
          ],
          "histogram": [
           {
            "marker": {
             "pattern": {
              "fillmode": "overlay",
              "size": 10,
              "solidity": 0.2
             }
            },
            "type": "histogram"
           }
          ],
          "histogram2d": [
           {
            "colorbar": {
             "outlinewidth": 0,
             "ticks": ""
            },
            "colorscale": [
             [
              0,
              "#0d0887"
             ],
             [
              0.1111111111111111,
              "#46039f"
             ],
             [
              0.2222222222222222,
              "#7201a8"
             ],
             [
              0.3333333333333333,
              "#9c179e"
             ],
             [
              0.4444444444444444,
              "#bd3786"
             ],
             [
              0.5555555555555556,
              "#d8576b"
             ],
             [
              0.6666666666666666,
              "#ed7953"
             ],
             [
              0.7777777777777778,
              "#fb9f3a"
             ],
             [
              0.8888888888888888,
              "#fdca26"
             ],
             [
              1,
              "#f0f921"
             ]
            ],
            "type": "histogram2d"
           }
          ],
          "histogram2dcontour": [
           {
            "colorbar": {
             "outlinewidth": 0,
             "ticks": ""
            },
            "colorscale": [
             [
              0,
              "#0d0887"
             ],
             [
              0.1111111111111111,
              "#46039f"
             ],
             [
              0.2222222222222222,
              "#7201a8"
             ],
             [
              0.3333333333333333,
              "#9c179e"
             ],
             [
              0.4444444444444444,
              "#bd3786"
             ],
             [
              0.5555555555555556,
              "#d8576b"
             ],
             [
              0.6666666666666666,
              "#ed7953"
             ],
             [
              0.7777777777777778,
              "#fb9f3a"
             ],
             [
              0.8888888888888888,
              "#fdca26"
             ],
             [
              1,
              "#f0f921"
             ]
            ],
            "type": "histogram2dcontour"
           }
          ],
          "mesh3d": [
           {
            "colorbar": {
             "outlinewidth": 0,
             "ticks": ""
            },
            "type": "mesh3d"
           }
          ],
          "parcoords": [
           {
            "line": {
             "colorbar": {
              "outlinewidth": 0,
              "ticks": ""
             }
            },
            "type": "parcoords"
           }
          ],
          "pie": [
           {
            "automargin": true,
            "type": "pie"
           }
          ],
          "scatter": [
           {
            "fillpattern": {
             "fillmode": "overlay",
             "size": 10,
             "solidity": 0.2
            },
            "type": "scatter"
           }
          ],
          "scatter3d": [
           {
            "line": {
             "colorbar": {
              "outlinewidth": 0,
              "ticks": ""
             }
            },
            "marker": {
             "colorbar": {
              "outlinewidth": 0,
              "ticks": ""
             }
            },
            "type": "scatter3d"
           }
          ],
          "scattercarpet": [
           {
            "marker": {
             "colorbar": {
              "outlinewidth": 0,
              "ticks": ""
             }
            },
            "type": "scattercarpet"
           }
          ],
          "scattergeo": [
           {
            "marker": {
             "colorbar": {
              "outlinewidth": 0,
              "ticks": ""
             }
            },
            "type": "scattergeo"
           }
          ],
          "scattergl": [
           {
            "marker": {
             "colorbar": {
              "outlinewidth": 0,
              "ticks": ""
             }
            },
            "type": "scattergl"
           }
          ],
          "scattermapbox": [
           {
            "marker": {
             "colorbar": {
              "outlinewidth": 0,
              "ticks": ""
             }
            },
            "type": "scattermapbox"
           }
          ],
          "scatterpolar": [
           {
            "marker": {
             "colorbar": {
              "outlinewidth": 0,
              "ticks": ""
             }
            },
            "type": "scatterpolar"
           }
          ],
          "scatterpolargl": [
           {
            "marker": {
             "colorbar": {
              "outlinewidth": 0,
              "ticks": ""
             }
            },
            "type": "scatterpolargl"
           }
          ],
          "scatterternary": [
           {
            "marker": {
             "colorbar": {
              "outlinewidth": 0,
              "ticks": ""
             }
            },
            "type": "scatterternary"
           }
          ],
          "surface": [
           {
            "colorbar": {
             "outlinewidth": 0,
             "ticks": ""
            },
            "colorscale": [
             [
              0,
              "#0d0887"
             ],
             [
              0.1111111111111111,
              "#46039f"
             ],
             [
              0.2222222222222222,
              "#7201a8"
             ],
             [
              0.3333333333333333,
              "#9c179e"
             ],
             [
              0.4444444444444444,
              "#bd3786"
             ],
             [
              0.5555555555555556,
              "#d8576b"
             ],
             [
              0.6666666666666666,
              "#ed7953"
             ],
             [
              0.7777777777777778,
              "#fb9f3a"
             ],
             [
              0.8888888888888888,
              "#fdca26"
             ],
             [
              1,
              "#f0f921"
             ]
            ],
            "type": "surface"
           }
          ],
          "table": [
           {
            "cells": {
             "fill": {
              "color": "#EBF0F8"
             },
             "line": {
              "color": "white"
             }
            },
            "header": {
             "fill": {
              "color": "#C8D4E3"
             },
             "line": {
              "color": "white"
             }
            },
            "type": "table"
           }
          ]
         },
         "layout": {
          "annotationdefaults": {
           "arrowcolor": "#2a3f5f",
           "arrowhead": 0,
           "arrowwidth": 1
          },
          "autotypenumbers": "strict",
          "coloraxis": {
           "colorbar": {
            "outlinewidth": 0,
            "ticks": ""
           }
          },
          "colorscale": {
           "diverging": [
            [
             0,
             "#8e0152"
            ],
            [
             0.1,
             "#c51b7d"
            ],
            [
             0.2,
             "#de77ae"
            ],
            [
             0.3,
             "#f1b6da"
            ],
            [
             0.4,
             "#fde0ef"
            ],
            [
             0.5,
             "#f7f7f7"
            ],
            [
             0.6,
             "#e6f5d0"
            ],
            [
             0.7,
             "#b8e186"
            ],
            [
             0.8,
             "#7fbc41"
            ],
            [
             0.9,
             "#4d9221"
            ],
            [
             1,
             "#276419"
            ]
           ],
           "sequential": [
            [
             0,
             "#0d0887"
            ],
            [
             0.1111111111111111,
             "#46039f"
            ],
            [
             0.2222222222222222,
             "#7201a8"
            ],
            [
             0.3333333333333333,
             "#9c179e"
            ],
            [
             0.4444444444444444,
             "#bd3786"
            ],
            [
             0.5555555555555556,
             "#d8576b"
            ],
            [
             0.6666666666666666,
             "#ed7953"
            ],
            [
             0.7777777777777778,
             "#fb9f3a"
            ],
            [
             0.8888888888888888,
             "#fdca26"
            ],
            [
             1,
             "#f0f921"
            ]
           ],
           "sequentialminus": [
            [
             0,
             "#0d0887"
            ],
            [
             0.1111111111111111,
             "#46039f"
            ],
            [
             0.2222222222222222,
             "#7201a8"
            ],
            [
             0.3333333333333333,
             "#9c179e"
            ],
            [
             0.4444444444444444,
             "#bd3786"
            ],
            [
             0.5555555555555556,
             "#d8576b"
            ],
            [
             0.6666666666666666,
             "#ed7953"
            ],
            [
             0.7777777777777778,
             "#fb9f3a"
            ],
            [
             0.8888888888888888,
             "#fdca26"
            ],
            [
             1,
             "#f0f921"
            ]
           ]
          },
          "colorway": [
           "#636efa",
           "#EF553B",
           "#00cc96",
           "#ab63fa",
           "#FFA15A",
           "#19d3f3",
           "#FF6692",
           "#B6E880",
           "#FF97FF",
           "#FECB52"
          ],
          "font": {
           "color": "#2a3f5f"
          },
          "geo": {
           "bgcolor": "white",
           "lakecolor": "white",
           "landcolor": "#E5ECF6",
           "showlakes": true,
           "showland": true,
           "subunitcolor": "white"
          },
          "hoverlabel": {
           "align": "left"
          },
          "hovermode": "closest",
          "mapbox": {
           "style": "light"
          },
          "paper_bgcolor": "white",
          "plot_bgcolor": "#E5ECF6",
          "polar": {
           "angularaxis": {
            "gridcolor": "white",
            "linecolor": "white",
            "ticks": ""
           },
           "bgcolor": "#E5ECF6",
           "radialaxis": {
            "gridcolor": "white",
            "linecolor": "white",
            "ticks": ""
           }
          },
          "scene": {
           "xaxis": {
            "backgroundcolor": "#E5ECF6",
            "gridcolor": "white",
            "gridwidth": 2,
            "linecolor": "white",
            "showbackground": true,
            "ticks": "",
            "zerolinecolor": "white"
           },
           "yaxis": {
            "backgroundcolor": "#E5ECF6",
            "gridcolor": "white",
            "gridwidth": 2,
            "linecolor": "white",
            "showbackground": true,
            "ticks": "",
            "zerolinecolor": "white"
           },
           "zaxis": {
            "backgroundcolor": "#E5ECF6",
            "gridcolor": "white",
            "gridwidth": 2,
            "linecolor": "white",
            "showbackground": true,
            "ticks": "",
            "zerolinecolor": "white"
           }
          },
          "shapedefaults": {
           "line": {
            "color": "#2a3f5f"
           }
          },
          "ternary": {
           "aaxis": {
            "gridcolor": "white",
            "linecolor": "white",
            "ticks": ""
           },
           "baxis": {
            "gridcolor": "white",
            "linecolor": "white",
            "ticks": ""
           },
           "bgcolor": "#E5ECF6",
           "caxis": {
            "gridcolor": "white",
            "linecolor": "white",
            "ticks": ""
           }
          },
          "title": {
           "x": 0.05
          },
          "xaxis": {
           "automargin": true,
           "gridcolor": "white",
           "linecolor": "white",
           "ticks": "",
           "title": {
            "standoff": 15
           },
           "zerolinecolor": "white",
           "zerolinewidth": 2
          },
          "yaxis": {
           "automargin": true,
           "gridcolor": "white",
           "linecolor": "white",
           "ticks": "",
           "title": {
            "standoff": 15
           },
           "zerolinecolor": "white",
           "zerolinewidth": 2
          }
         }
        },
        "title": {
         "text": "Cycle vs Fluorescence (SYBR)"
        },
        "width": 1000,
        "xaxis": {
         "anchor": "y",
         "domain": [
          0,
          1
         ],
         "title": {
          "text": "Cycle"
         }
        },
        "yaxis": {
         "anchor": "x",
         "domain": [
          0,
          1
         ],
         "title": {
          "text": "RFU (SYBR)"
         }
        }
       }
      }
     },
     "metadata": {},
     "output_type": "display_data"
    },
    {
     "data": {
      "application/vnd.plotly.v1+json": {
       "config": {
        "plotlyServerURL": "https://plot.ly"
       },
       "data": [
        {
         "line": {
          "color": "rgb(141,211,199)"
         },
         "mode": "lines+text",
         "name": "A01",
         "text": [
          "",
          "",
          "",
          "",
          "",
          "",
          "",
          "",
          "",
          "",
          "",
          "",
          "",
          "",
          "",
          "",
          "",
          "",
          "",
          "",
          "",
          "",
          "",
          "",
          "",
          "",
          "",
          "",
          "",
          "",
          "",
          "",
          "29106.9",
          "",
          "",
          "",
          "",
          "",
          "",
          ""
         ],
         "textfont": {
          "color": "black",
          "family": "sans serif",
          "size": 8
         },
         "textposition": "top left",
         "type": "scatter",
         "x": [
          1,
          2,
          3,
          4,
          5,
          6,
          7,
          8,
          9,
          10,
          11,
          12,
          13,
          14,
          15,
          16,
          17,
          18,
          19,
          20,
          21,
          22,
          23,
          24,
          25,
          26,
          27,
          28,
          29,
          30,
          31,
          32,
          33,
          34,
          35,
          36,
          37,
          38,
          39,
          40
         ],
         "xaxis": "x",
         "y": [
          0,
          0,
          0,
          0,
          0,
          0,
          0,
          0,
          0,
          0,
          0,
          0,
          0,
          0,
          0,
          0,
          0,
          0,
          0,
          0,
          34.0442897840277,
          134.87435484099,
          342.844598660309,
          719.81431282544,
          1347.87756245212,
          2318.13142824414,
          3710.02408155972,
          5566.23917231163,
          7871.29052405075,
          10542.5391616622,
          13438.727499168,
          16383.8427586083,
          19199.9697616399,
          21735.1104448112,
          23897.97571899,
          25615.0772759185,
          26888.9896735784,
          27770.1372947005,
          28438.5343255241,
          29106.9313563476
         ],
         "yaxis": "y"
        },
        {
         "line": {
          "color": "rgb(255,255,179)"
         },
         "mode": "lines+text",
         "name": "A02",
         "text": [
          "",
          "",
          "",
          "",
          "",
          "",
          "",
          "",
          "",
          "",
          "",
          "",
          "",
          "",
          "",
          "",
          "",
          "",
          "",
          "",
          "",
          "",
          "",
          "",
          "",
          "",
          "",
          "",
          "",
          "",
          "",
          "",
          "10614.7",
          "",
          "",
          "",
          "",
          "",
          "",
          ""
         ],
         "textfont": {
          "color": "black",
          "family": "sans serif",
          "size": 8
         },
         "textposition": "top left",
         "type": "scatter",
         "x": [
          1,
          2,
          3,
          4,
          5,
          6,
          7,
          8,
          9,
          10,
          11,
          12,
          13,
          14,
          15,
          16,
          17,
          18,
          19,
          20,
          21,
          22,
          23,
          24,
          25,
          26,
          27,
          28,
          29,
          30,
          31,
          32,
          33,
          34,
          35,
          36,
          37,
          38,
          39,
          40
         ],
         "xaxis": "x2",
         "y": [
          0,
          0,
          0,
          0,
          0,
          0,
          0,
          0,
          0,
          0,
          0,
          0,
          0,
          0,
          0,
          0,
          0,
          0,
          0,
          0,
          0,
          20.0678392079002,
          75.7090834180103,
          184.572208299779,
          371.318883186002,
          665.764247269792,
          1097.36287545563,
          1687.32867192646,
          2440.45817106849,
          3339.62475029371,
          4345.6113253639,
          5402.54886196255,
          6447.86002820042,
          7422.25577572005,
          8284.78022968218,
          8997.53580942642,
          9552.56759067926,
          9960.37529229698,
          10287.5244664303,
          10614.6736405635
         ],
         "yaxis": "y2"
        },
        {
         "line": {
          "color": "rgb(190,186,218)"
         },
         "mode": "lines+text",
         "name": "A03",
         "text": [
          "",
          "",
          "",
          "",
          "",
          "",
          "",
          "",
          "",
          "",
          "",
          "",
          "",
          "",
          "",
          "",
          "",
          "",
          "",
          "",
          "",
          "",
          "",
          "",
          "",
          "",
          "",
          "",
          "",
          "",
          "",
          "",
          "27751.2",
          "",
          "",
          "",
          "",
          "",
          "",
          ""
         ],
         "textfont": {
          "color": "black",
          "family": "sans serif",
          "size": 8
         },
         "textposition": "top left",
         "type": "scatter",
         "x": [
          1,
          2,
          3,
          4,
          5,
          6,
          7,
          8,
          9,
          10,
          11,
          12,
          13,
          14,
          15,
          16,
          17,
          18,
          19,
          20,
          21,
          22,
          23,
          24,
          25,
          26,
          27,
          28,
          29,
          30,
          31,
          32,
          33,
          34,
          35,
          36,
          37,
          38,
          39,
          40
         ],
         "xaxis": "x3",
         "y": [
          0,
          0,
          0,
          0,
          0,
          0,
          0,
          0,
          0,
          0,
          0,
          0,
          0,
          0,
          0,
          0,
          0,
          0,
          0,
          37.7846205040991,
          156.683062283826,
          409.008709719918,
          871.848741975376,
          1642.1567204565,
          2819.39947814354,
          4477.87891930595,
          6636.73613704468,
          9239.05309509854,
          12149.1507292174,
          15172.4825403185,
          18093.0791468428,
          20717.2601740406,
          22909.8376025267,
          24611.9045491953,
          25842.2114026918,
          26659.2781160178,
          27154.4768588729,
          27423.0957923735,
          27587.1630088507,
          27751.2302253278
         ],
         "yaxis": "y3"
        },
        {
         "line": {
          "color": "rgb(251,128,114)"
         },
         "mode": "lines+text",
         "name": "A04",
         "text": [
          "",
          "",
          "",
          "",
          "",
          "",
          "",
          "",
          "",
          "",
          "",
          "",
          "",
          "",
          "",
          "",
          "",
          "",
          "",
          "",
          "",
          "",
          "",
          "",
          "",
          "",
          "",
          "",
          "",
          "",
          "",
          "",
          "28145.9",
          "",
          "",
          "",
          "",
          "",
          "",
          ""
         ],
         "textfont": {
          "color": "black",
          "family": "sans serif",
          "size": 8
         },
         "textposition": "top left",
         "type": "scatter",
         "x": [
          1,
          2,
          3,
          4,
          5,
          6,
          7,
          8,
          9,
          10,
          11,
          12,
          13,
          14,
          15,
          16,
          17,
          18,
          19,
          20,
          21,
          22,
          23,
          24,
          25,
          26,
          27,
          28,
          29,
          30,
          31,
          32,
          33,
          34,
          35,
          36,
          37,
          38,
          39,
          40
         ],
         "xaxis": "x4",
         "y": [
          0,
          0,
          0,
          0,
          0,
          0,
          0,
          0,
          0,
          0,
          0,
          0,
          0,
          0,
          0,
          0,
          0,
          0,
          0,
          52.2042277071573,
          202.922730208384,
          505.554893858473,
          1033.91541962489,
          1874.79493802123,
          3110.05265838676,
          4792.26925264559,
          6922.06788140819,
          9435.48368198492,
          12206.8583397761,
          15068.2422789381,
          17839.378942586,
          20359.5122395211,
          22512.4101763436,
          24239.4475454821,
          25538.5033632111,
          26452.8373262823,
          27057.7064455731,
          27420.4329188736,
          27783.1593921741,
          28145.8858654746
         ],
         "yaxis": "y4"
        },
        {
         "line": {
          "color": "rgb(128,177,211)"
         },
         "mode": "lines+text",
         "name": "A05",
         "text": [
          "",
          "",
          "",
          "",
          "",
          "",
          "",
          "",
          "",
          "",
          "",
          "",
          "",
          "",
          "",
          "",
          "",
          "",
          "",
          "",
          "",
          "",
          "",
          "",
          "",
          "",
          "",
          "",
          "",
          "",
          "",
          "",
          "23701.9",
          "",
          "",
          "",
          "",
          "",
          "",
          ""
         ],
         "textfont": {
          "color": "black",
          "family": "sans serif",
          "size": 8
         },
         "textposition": "top left",
         "type": "scatter",
         "x": [
          1,
          2,
          3,
          4,
          5,
          6,
          7,
          8,
          9,
          10,
          11,
          12,
          13,
          14,
          15,
          16,
          17,
          18,
          19,
          20,
          21,
          22,
          23,
          24,
          25,
          26,
          27,
          28,
          29,
          30,
          31,
          32,
          33,
          34,
          35,
          36,
          37,
          38,
          39,
          40
         ],
         "xaxis": "x5",
         "y": [
          0,
          0,
          0,
          0,
          0,
          0,
          0,
          0,
          0,
          0,
          0,
          0,
          0,
          0,
          0,
          0,
          0,
          0,
          0,
          32.8303559273785,
          130.981946234787,
          331.272354083295,
          684.508101323832,
          1251.13624486607,
          2090.16705414155,
          3244.22806984223,
          4725.39530084902,
          6506.64721428887,
          8522.25970200919,
          10677.3106043798,
          12863.4366951915,
          14974.8137575276,
          16921.0937725383,
          18632.8714694938,
          20063.8635322261,
          21197.8170996978,
          22055.9447535987,
          22690.5688202042,
          23198.0811276869,
          23701.9321872515
         ],
         "yaxis": "y5"
        },
        {
         "line": {
          "color": "rgb(253,180,98)"
         },
         "mode": "lines+text",
         "name": "A06",
         "text": [
          "",
          "",
          "",
          "",
          "",
          "",
          "",
          "",
          "",
          "",
          "",
          "",
          "",
          "",
          "",
          "",
          "",
          "",
          "",
          "",
          "",
          "",
          "",
          "",
          "",
          "",
          "",
          "",
          "",
          "",
          "",
          "",
          "24447.1",
          "",
          "",
          "",
          "",
          "",
          "",
          ""
         ],
         "textfont": {
          "color": "black",
          "family": "sans serif",
          "size": 8
         },
         "textposition": "top left",
         "type": "scatter",
         "x": [
          1,
          2,
          3,
          4,
          5,
          6,
          7,
          8,
          9,
          10,
          11,
          12,
          13,
          14,
          15,
          16,
          17,
          18,
          19,
          20,
          21,
          22,
          23,
          24,
          25,
          26,
          27,
          28,
          29,
          30,
          31,
          32,
          33,
          34,
          35,
          36,
          37,
          38,
          39,
          40
         ],
         "xaxis": "x6",
         "y": [
          0,
          0,
          0,
          0,
          0,
          0,
          0,
          0,
          0,
          0,
          0,
          0,
          0,
          0,
          0,
          0,
          0,
          0,
          28.7393350659937,
          120.212836102579,
          314.10558340746,
          669.369143079785,
          1262.20285913775,
          2174.44459920711,
          3473.51861795701,
          5189.65548899778,
          7297.39199671961,
          9708.68981575689,
          12282.5418948376,
          14848.980553402,
          17240.4337396699,
          19322.1456065847,
          21013.063786332,
          22291.7966389024,
          23192.2280036437,
          23772.1535749381,
          24107.0243763965,
          24273.1640659784,
          24360.1377879297,
          24447.1115098811
         ],
         "yaxis": "y6"
        },
        {
         "line": {
          "color": "rgb(179,222,105)"
         },
         "mode": "lines+text",
         "name": "A07",
         "text": [
          "",
          "",
          "",
          "",
          "",
          "",
          "",
          "",
          "",
          "",
          "",
          "",
          "",
          "",
          "",
          "",
          "",
          "",
          "",
          "",
          "",
          "",
          "",
          "",
          "",
          "",
          "",
          "",
          "",
          "",
          "",
          "",
          "28183.0",
          "",
          "",
          "",
          "",
          "",
          "",
          ""
         ],
         "textfont": {
          "color": "black",
          "family": "sans serif",
          "size": 8
         },
         "textposition": "top left",
         "type": "scatter",
         "x": [
          1,
          2,
          3,
          4,
          5,
          6,
          7,
          8,
          9,
          10,
          11,
          12,
          13,
          14,
          15,
          16,
          17,
          18,
          19,
          20,
          21,
          22,
          23,
          24,
          25,
          26,
          27,
          28,
          29,
          30,
          31,
          32,
          33,
          34,
          35,
          36,
          37,
          38,
          39,
          40
         ],
         "xaxis": "x7",
         "y": [
          0,
          0,
          0,
          0,
          0,
          0,
          0,
          0,
          0,
          0,
          0,
          0,
          0,
          0,
          0,
          0,
          0,
          0,
          0,
          48.8358272738968,
          194.19764968661,
          492.242001763431,
          1022.98833649004,
          1883.47510160428,
          3168.22436011673,
          4941.48887661644,
          7209.22983788697,
          9900.97936593046,
          12871.0924420588,
          15921.4199153019,
          18838.559783178,
          21436.195607631,
          23589.8268724633,
          25249.833894501,
          26442.9916068721,
          27223.9518376699,
          27685.7820487764,
          27916.1324758031,
          28049.569593666,
          28183.0067115289
         ],
         "yaxis": "y7"
        },
        {
         "line": {
          "color": "rgb(252,205,229)"
         },
         "mode": "lines+text",
         "name": "A08",
         "text": [
          "",
          "",
          "",
          "",
          "",
          "",
          "",
          "",
          "",
          "",
          "",
          "",
          "",
          "",
          "",
          "",
          "",
          "",
          "",
          "",
          "",
          "",
          "",
          "",
          "",
          "",
          "",
          "",
          "",
          "",
          "",
          "",
          "27103.2",
          "",
          "",
          "",
          "",
          "",
          "",
          ""
         ],
         "textfont": {
          "color": "black",
          "family": "sans serif",
          "size": 8
         },
         "textposition": "top left",
         "type": "scatter",
         "x": [
          1,
          2,
          3,
          4,
          5,
          6,
          7,
          8,
          9,
          10,
          11,
          12,
          13,
          14,
          15,
          16,
          17,
          18,
          19,
          20,
          21,
          22,
          23,
          24,
          25,
          26,
          27,
          28,
          29,
          30,
          31,
          32,
          33,
          34,
          35,
          36,
          37,
          38,
          39,
          40
         ],
         "xaxis": "x8",
         "y": [
          0,
          0,
          0,
          0,
          0,
          0,
          0,
          0,
          0,
          0,
          0,
          0,
          0,
          0,
          0,
          0,
          0,
          0,
          0,
          32.9401460960769,
          136.850744717893,
          359.578605139623,
          774.824548843092,
          1479.25683645163,
          2576.93981056366,
          4151.92249372718,
          6235.95372599296,
          8783.49390130141,
          11664.7636001726,
          14682.9757400073,
          17612.8610391417,
          20248.0302282827,
          22441.5277178,
          24127.8868301818,
          25325.6978423115,
          26096.8246926794,
          26537.1735902034,
          26725.856824187,
          26914.5400581706,
          27103.2232921543
         ],
         "yaxis": "y8"
        },
        {
         "line": {
          "color": "rgb(217,217,217)"
         },
         "mode": "lines+text",
         "name": "A09",
         "text": [
          "",
          "",
          "",
          "",
          "",
          "",
          "",
          "",
          "",
          "",
          "",
          "",
          "",
          "",
          "",
          "",
          "",
          "",
          "",
          "",
          "",
          "",
          "",
          "",
          "",
          "",
          "",
          "",
          "",
          "",
          "",
          "",
          "27038.4",
          "",
          "",
          "",
          "",
          "",
          "",
          ""
         ],
         "textfont": {
          "color": "black",
          "family": "sans serif",
          "size": 8
         },
         "textposition": "top left",
         "type": "scatter",
         "x": [
          1,
          2,
          3,
          4,
          5,
          6,
          7,
          8,
          9,
          10,
          11,
          12,
          13,
          14,
          15,
          16,
          17,
          18,
          19,
          20,
          21,
          22,
          23,
          24,
          25,
          26,
          27,
          28,
          29,
          30,
          31,
          32,
          33,
          34,
          35,
          36,
          37,
          38,
          39,
          40
         ],
         "xaxis": "x9",
         "y": [
          0,
          0,
          0,
          0,
          0,
          0,
          0,
          0,
          0,
          0,
          0,
          0,
          0,
          0,
          0,
          0,
          0,
          0,
          0,
          47.1122715808573,
          188.616124131665,
          479.509938313825,
          996.892868835399,
          1832.25928188939,
          3072.69199029976,
          4774.97870224056,
          6940.01463908555,
          9497.91411541957,
          12310.6129013979,
          15193.1770808787,
          17948.0984352575,
          20403.3072292245,
          22442.4007938744,
          24018.2252289528,
          25153.1036962016,
          25904.2230954046,
          26357.6846218314,
          26584.5856426574,
          26811.4866634835,
          27038.3876843096
         ],
         "yaxis": "y9"
        },
        {
         "line": {
          "color": "rgb(188,128,189)"
         },
         "mode": "lines+text",
         "name": "A10",
         "text": [
          "",
          "",
          "",
          "",
          "",
          "",
          "",
          "",
          "",
          "",
          "",
          "",
          "",
          "",
          "",
          "",
          "",
          "",
          "",
          "",
          "",
          "",
          "",
          "",
          "",
          "",
          "",
          "",
          "",
          "",
          "",
          "",
          "29470.7",
          "",
          "",
          "",
          "",
          "",
          "",
          ""
         ],
         "textfont": {
          "color": "black",
          "family": "sans serif",
          "size": 8
         },
         "textposition": "top left",
         "type": "scatter",
         "x": [
          1,
          2,
          3,
          4,
          5,
          6,
          7,
          8,
          9,
          10,
          11,
          12,
          13,
          14,
          15,
          16,
          17,
          18,
          19,
          20,
          21,
          22,
          23,
          24,
          25,
          26,
          27,
          28,
          29,
          30,
          31,
          32,
          33,
          34,
          35,
          36,
          37,
          38,
          39,
          40
         ],
         "xaxis": "x10",
         "y": [
          0,
          0,
          0,
          0,
          0,
          0,
          0,
          0,
          0,
          0,
          0,
          0,
          0,
          0,
          0,
          0,
          0,
          0,
          45.1419045189265,
          183.356820155921,
          471.9188730286,
          994.154866643866,
          1854.07484670417,
          3156.89269427129,
          4978.5149237292,
          7333.70423972694,
          10154.2799710552,
          13287.4771344334,
          16519.1210715373,
          19615.7427228606,
          22371.9850036727,
          24648.6888837591,
          26391.1838522183,
          27624.0753257569,
          28429.1988945824,
          28909.7504424152,
          29171.4953973032,
          29304.276626803,
          29387.4921511324,
          29470.7076754619
         ],
         "yaxis": "y10"
        },
        {
         "line": {
          "color": "rgb(204,235,197)"
         },
         "mode": "lines+text",
         "name": "A11",
         "text": [
          "",
          "",
          "",
          "",
          "",
          "",
          "",
          "",
          "",
          "",
          "",
          "",
          "",
          "",
          "",
          "",
          "",
          "",
          "",
          "",
          "",
          "",
          "",
          "",
          "",
          "",
          "",
          "",
          "",
          "",
          "",
          "",
          "28502.4",
          "",
          "",
          "",
          "",
          "",
          "",
          ""
         ],
         "textfont": {
          "color": "black",
          "family": "sans serif",
          "size": 8
         },
         "textposition": "top left",
         "type": "scatter",
         "x": [
          1,
          2,
          3,
          4,
          5,
          6,
          7,
          8,
          9,
          10,
          11,
          12,
          13,
          14,
          15,
          16,
          17,
          18,
          19,
          20,
          21,
          22,
          23,
          24,
          25,
          26,
          27,
          28,
          29,
          30,
          31,
          32,
          33,
          34,
          35,
          36,
          37,
          38,
          39,
          40
         ],
         "xaxis": "x11",
         "y": [
          0,
          0,
          0,
          0,
          0,
          0,
          0,
          0,
          0,
          0,
          0,
          0,
          0,
          0,
          0,
          0,
          0,
          27.948501415471,
          120.106957303275,
          322.355632130191,
          707.235869301959,
          1373.3169404166,
          2431.88380817221,
          3980.08131034107,
          6066.64793617731,
          8662.14926142917,
          11646.5101542379,
          14822.1170535713,
          17951.3218383781,
          20806.6762390628,
          23217.3913591778,
          25097.2642220461,
          26447.3894562578,
          27336.9215342699,
          27871.0020002656,
          28161.767926924,
          28307.5003383257,
          28385.3235041374,
          28443.8378298913,
          28502.3521556451
         ],
         "yaxis": "y11"
        },
        {
         "line": {
          "color": "rgb(255,237,111)"
         },
         "mode": "lines+text",
         "name": "A12",
         "text": [
          "",
          "",
          "",
          "",
          "",
          "",
          "",
          "",
          "",
          "",
          "",
          "",
          "",
          "",
          "",
          "",
          "",
          "",
          "",
          "",
          "",
          "",
          "",
          "",
          "",
          "",
          "",
          "",
          "",
          "",
          "",
          "",
          "24928.5",
          "",
          "",
          "",
          "",
          "",
          "",
          ""
         ],
         "textfont": {
          "color": "black",
          "family": "sans serif",
          "size": 8
         },
         "textposition": "top left",
         "type": "scatter",
         "x": [
          1,
          2,
          3,
          4,
          5,
          6,
          7,
          8,
          9,
          10,
          11,
          12,
          13,
          14,
          15,
          16,
          17,
          18,
          19,
          20,
          21,
          22,
          23,
          24,
          25,
          26,
          27,
          28,
          29,
          30,
          31,
          32,
          33,
          34,
          35,
          36,
          37,
          38,
          39,
          40
         ],
         "xaxis": "x12",
         "y": [
          0,
          0,
          0,
          0,
          0,
          0,
          0,
          0,
          0,
          0,
          0,
          0,
          0,
          0,
          0,
          0,
          0,
          0,
          50.0055729505124,
          198.512057439212,
          502.50504975377,
          1041.97742949172,
          1911.40037186547,
          3198.19185635176,
          4953.08734451595,
          7162.42807122834,
          9734.01139962411,
          12504.5069251006,
          15268.9651604607,
          17823.8579221938,
          20009.1444212172,
          21735.9733764439,
          22993.080593588,
          23832.7961997584,
          24344.6349741716,
          24627.3985075531,
          24767.6104380628,
          24821.245523712,
          24874.8806093612,
          24928.5156950104
         ],
         "yaxis": "y12"
        },
        {
         "line": {
          "color": "rgb(141,211,199)"
         },
         "mode": "lines+text",
         "name": "B01",
         "text": [
          "",
          "",
          "",
          "",
          "",
          "",
          "",
          "",
          "",
          "",
          "",
          "",
          "",
          "",
          "",
          "",
          "",
          "",
          "",
          "",
          "",
          "",
          "",
          "",
          "",
          "",
          "",
          "",
          "",
          "",
          "",
          "",
          "31417.6",
          "",
          "",
          "",
          "",
          "",
          "",
          ""
         ],
         "textfont": {
          "color": "black",
          "family": "sans serif",
          "size": 8
         },
         "textposition": "top left",
         "type": "scatter",
         "x": [
          1,
          2,
          3,
          4,
          5,
          6,
          7,
          8,
          9,
          10,
          11,
          12,
          13,
          14,
          15,
          16,
          17,
          18,
          19,
          20,
          21,
          22,
          23,
          24,
          25,
          26,
          27,
          28,
          29,
          30,
          31,
          32,
          33,
          34,
          35,
          36,
          37,
          38,
          39,
          40
         ],
         "xaxis": "x13",
         "y": [
          0,
          0,
          0,
          0,
          0,
          0,
          0,
          0,
          0,
          0,
          0,
          0,
          0,
          0,
          0,
          0,
          0,
          0,
          0,
          0,
          48.4074769039053,
          190.33362361797,
          478.261500977823,
          986.514669177337,
          1805.55002913055,
          3025.29832243209,
          4710.82572636367,
          6878.11977272915,
          9478.23897295447,
          12397.0902200421,
          15472.4259739686,
          18522.5322914987,
          21377.935680511,
          23904.1927848639,
          26029.4813427368,
          27696.9932208633,
          28920.4588240094,
          29752.8322696571,
          30585.2057153048,
          31417.5791609526
         ],
         "yaxis": "y13"
        },
        {
         "line": {
          "color": "rgb(255,255,179)"
         },
         "mode": "lines+text",
         "name": "B02",
         "text": [
          "",
          "",
          "",
          "",
          "",
          "",
          "",
          "",
          "",
          "",
          "",
          "",
          "",
          "",
          "",
          "",
          "",
          "",
          "",
          "",
          "",
          "",
          "",
          "",
          "",
          "",
          "",
          "",
          "",
          "",
          "",
          "",
          "25677.7",
          "",
          "",
          "",
          "",
          "",
          "",
          ""
         ],
         "textfont": {
          "color": "black",
          "family": "sans serif",
          "size": 8
         },
         "textposition": "top left",
         "type": "scatter",
         "x": [
          1,
          2,
          3,
          4,
          5,
          6,
          7,
          8,
          9,
          10,
          11,
          12,
          13,
          14,
          15,
          16,
          17,
          18,
          19,
          20,
          21,
          22,
          23,
          24,
          25,
          26,
          27,
          28,
          29,
          30,
          31,
          32,
          33,
          34,
          35,
          36,
          37,
          38,
          39,
          40
         ],
         "xaxis": "x14",
         "y": [
          0,
          0,
          0,
          0,
          0,
          0,
          0,
          0,
          0,
          0,
          0,
          0,
          0,
          0,
          0,
          0,
          0,
          0,
          0,
          0,
          0,
          42.2505404862997,
          161.185619370826,
          396.780931052769,
          806.284471432631,
          1460.99001504437,
          2434.59811194257,
          3785.18259903921,
          5535.002371024,
          7655.20364832204,
          10061.7989737797,
          12624.7919798423,
          15189.5307181821,
          17600.4295133656,
          19742.7711395248,
          21501.1037402328,
          22839.5662292811,
          23785.6166957596,
          24731.6671622381,
          25677.7176287166
         ],
         "yaxis": "y14"
        },
        {
         "line": {
          "color": "rgb(190,186,218)"
         },
         "mode": "lines+text",
         "name": "B03",
         "text": [
          "",
          "",
          "",
          "",
          "",
          "",
          "",
          "",
          "",
          "",
          "",
          "",
          "",
          "",
          "",
          "",
          "",
          "",
          "",
          "",
          "",
          "",
          "",
          "",
          "",
          "",
          "",
          "",
          "",
          "",
          "",
          "",
          "35375.5",
          "",
          "",
          "",
          "",
          "",
          "",
          ""
         ],
         "textfont": {
          "color": "black",
          "family": "sans serif",
          "size": 8
         },
         "textposition": "top left",
         "type": "scatter",
         "x": [
          1,
          2,
          3,
          4,
          5,
          6,
          7,
          8,
          9,
          10,
          11,
          12,
          13,
          14,
          15,
          16,
          17,
          18,
          19,
          20,
          21,
          22,
          23,
          24,
          25,
          26,
          27,
          28,
          29,
          30,
          31,
          32,
          33,
          34,
          35,
          36,
          37,
          38,
          39,
          40
         ],
         "xaxis": "x15",
         "y": [
          0,
          0,
          0,
          0,
          0,
          0,
          0,
          0,
          0,
          0,
          0,
          0,
          0,
          0,
          0,
          0,
          0,
          0,
          0,
          42.7500522900303,
          175.089836862734,
          452.322275789218,
          954.565791029771,
          1781.26702614637,
          3033.74552727914,
          4789.36370581536,
          7074.65507506268,
          9847.08320911626,
          12993.8645317425,
          16349.2160057118,
          19724.3386956197,
          22940.0185522513,
          25852.445916216,
          28365.1234103944,
          30441.5702098174,
          32061.8307152347,
          33255.185364097,
          34094.7076355028,
          34735.1041634738,
          35375.5006914447
         ],
         "yaxis": "y15"
        },
        {
         "line": {
          "color": "rgb(251,128,114)"
         },
         "mode": "lines+text",
         "name": "B04",
         "text": [
          "",
          "",
          "",
          "",
          "",
          "",
          "",
          "",
          "",
          "",
          "",
          "",
          "",
          "",
          "",
          "",
          "",
          "",
          "",
          "",
          "",
          "",
          "",
          "",
          "",
          "",
          "",
          "",
          "",
          "",
          "",
          "",
          "37868.4",
          "",
          "",
          "",
          "",
          "",
          "",
          ""
         ],
         "textfont": {
          "color": "black",
          "family": "sans serif",
          "size": 8
         },
         "textposition": "top left",
         "type": "scatter",
         "x": [
          1,
          2,
          3,
          4,
          5,
          6,
          7,
          8,
          9,
          10,
          11,
          12,
          13,
          14,
          15,
          16,
          17,
          18,
          19,
          20,
          21,
          22,
          23,
          24,
          25,
          26,
          27,
          28,
          29,
          30,
          31,
          32,
          33,
          34,
          35,
          36,
          37,
          38,
          39,
          40
         ],
         "xaxis": "x16",
         "y": [
          0,
          0,
          0,
          0,
          0,
          0,
          0,
          0,
          0,
          0,
          0,
          0,
          0,
          0,
          0,
          0,
          0,
          0,
          40.8479266584765,
          168.894858195243,
          439.120254039372,
          932.743006645366,
          1753.39332050106,
          3010.56736983583,
          4793.15105979514,
          7140.35672343338,
          10019.6207566146,
          13321.0725979347,
          16872.2242251144,
          20468.7473897573,
          23911.0547815253,
          27036.2964300467,
          29737.8184533392,
          31966.8435546667,
          33723.8693753325,
          35049.9534115689,
          36018.7676331051,
          36728.430430388,
          37299.6482221931,
          37868.4238240405
         ],
         "yaxis": "y16"
        },
        {
         "line": {
          "color": "rgb(128,177,211)"
         },
         "mode": "lines+text",
         "name": "B05",
         "text": [
          "",
          "",
          "",
          "",
          "",
          "",
          "",
          "",
          "",
          "",
          "",
          "",
          "",
          "",
          "",
          "",
          "",
          "",
          "",
          "",
          "",
          "",
          "",
          "",
          "",
          "",
          "",
          "",
          "",
          "",
          "",
          "",
          "32446.3",
          "",
          "",
          "",
          "",
          "",
          "",
          ""
         ],
         "textfont": {
          "color": "black",
          "family": "sans serif",
          "size": 8
         },
         "textposition": "top left",
         "type": "scatter",
         "x": [
          1,
          2,
          3,
          4,
          5,
          6,
          7,
          8,
          9,
          10,
          11,
          12,
          13,
          14,
          15,
          16,
          17,
          18,
          19,
          20,
          21,
          22,
          23,
          24,
          25,
          26,
          27,
          28,
          29,
          30,
          31,
          32,
          33,
          34,
          35,
          36,
          37,
          38,
          39,
          40
         ],
         "xaxis": "x17",
         "y": [
          0,
          0,
          0,
          0,
          0,
          0,
          0,
          0,
          0,
          0,
          0,
          0,
          0,
          0,
          0,
          0,
          0,
          0,
          0,
          36.8943561903852,
          150.84965520089,
          391.51090160779,
          833.72162796061,
          1573.76203998838,
          2713.62887190532,
          4335.42559316954,
          6473.24794004052,
          9092.85788912055,
          12087.304235398,
          15291.7271678325,
          18513.445272326,
          21566.1110655242,
          24297.7656876777,
          26607.2568053356,
          28447.5727336332,
          29824.8221503429,
          30797.415464654,
          31459.5183580489,
          31954.2129788052,
          32446.2754870612
         ],
         "yaxis": "y17"
        },
        {
         "line": {
          "color": "rgb(253,180,98)"
         },
         "mode": "lines+text",
         "name": "B06",
         "text": [
          "",
          "",
          "",
          "",
          "",
          "",
          "",
          "",
          "",
          "",
          "",
          "",
          "",
          "",
          "",
          "",
          "",
          "",
          "",
          "",
          "",
          "",
          "",
          "",
          "",
          "",
          "",
          "",
          "",
          "",
          "",
          "",
          "34783.8",
          "",
          "",
          "",
          "",
          "",
          "",
          ""
         ],
         "textfont": {
          "color": "black",
          "family": "sans serif",
          "size": 8
         },
         "textposition": "top left",
         "type": "scatter",
         "x": [
          1,
          2,
          3,
          4,
          5,
          6,
          7,
          8,
          9,
          10,
          11,
          12,
          13,
          14,
          15,
          16,
          17,
          18,
          19,
          20,
          21,
          22,
          23,
          24,
          25,
          26,
          27,
          28,
          29,
          30,
          31,
          32,
          33,
          34,
          35,
          36,
          37,
          38,
          39,
          40
         ],
         "xaxis": "x18",
         "y": [
          0,
          0,
          0,
          0,
          0,
          0,
          0,
          0,
          0,
          0,
          0,
          0,
          0,
          0,
          0,
          0,
          0,
          0,
          0,
          62.3035949673258,
          249.120914313194,
          629.953524769103,
          1298.05831165463,
          2359.02773207363,
          3906.71789899192,
          5994.02328831072,
          8608.17006289012,
          11660.3679500803,
          14995.583955483,
          18419.5931976241,
          21734.3326739497,
          24769.7472143508,
          27404.1943657524,
          29571.6961819932,
          31265.7354257407,
          32503.2258769581,
          33331.5655609553,
          33815.6335823062,
          34299.7016036571,
          34783.769625008
         ],
         "yaxis": "y18"
        },
        {
         "line": {
          "color": "rgb(179,222,105)"
         },
         "mode": "lines+text",
         "name": "B07",
         "text": [
          "",
          "",
          "",
          "",
          "",
          "",
          "",
          "",
          "",
          "",
          "",
          "",
          "",
          "",
          "",
          "",
          "",
          "",
          "",
          "",
          "",
          "",
          "",
          "",
          "",
          "",
          "",
          "",
          "",
          "",
          "",
          "",
          "37133.7",
          "",
          "",
          "",
          "",
          "",
          "",
          ""
         ],
         "textfont": {
          "color": "black",
          "family": "sans serif",
          "size": 8
         },
         "textposition": "top left",
         "type": "scatter",
         "x": [
          1,
          2,
          3,
          4,
          5,
          6,
          7,
          8,
          9,
          10,
          11,
          12,
          13,
          14,
          15,
          16,
          17,
          18,
          19,
          20,
          21,
          22,
          23,
          24,
          25,
          26,
          27,
          28,
          29,
          30,
          31,
          32,
          33,
          34,
          35,
          36,
          37,
          38,
          39,
          40
         ],
         "xaxis": "x19",
         "y": [
          0,
          0,
          0,
          0,
          0,
          0,
          0,
          0,
          0,
          0,
          0,
          0,
          0,
          0,
          0,
          0,
          0,
          0,
          0,
          45.4751238778272,
          189.87184992619,
          497.348174057132,
          1062.27592962618,
          2002.88703939191,
          3440.01049236815,
          5464.76111044013,
          8104.94234135685,
          11302.4255040056,
          14911.5962092376,
          18721.3449032058,
          22494.0423947459,
          26007.6424343086,
          29089.3401454971,
          31633.9454759725,
          33615.9445862914,
          35043.6491220365,
          35971.8415902087,
          36508.9315545808,
          36821.3144542839,
          37133.697353987
         ],
         "yaxis": "y19"
        },
        {
         "line": {
          "color": "rgb(252,205,229)"
         },
         "mode": "lines+text",
         "name": "B08",
         "text": [
          "",
          "",
          "",
          "",
          "",
          "",
          "",
          "",
          "",
          "",
          "",
          "",
          "",
          "",
          "",
          "",
          "",
          "",
          "",
          "",
          "",
          "",
          "",
          "",
          "",
          "",
          "",
          "",
          "",
          "",
          "",
          "",
          "38000.4",
          "",
          "",
          "",
          "",
          "",
          "",
          ""
         ],
         "textfont": {
          "color": "black",
          "family": "sans serif",
          "size": 8
         },
         "textposition": "top left",
         "type": "scatter",
         "x": [
          1,
          2,
          3,
          4,
          5,
          6,
          7,
          8,
          9,
          10,
          11,
          12,
          13,
          14,
          15,
          16,
          17,
          18,
          19,
          20,
          21,
          22,
          23,
          24,
          25,
          26,
          27,
          28,
          29,
          30,
          31,
          32,
          33,
          34,
          35,
          36,
          37,
          38,
          39,
          40
         ],
         "xaxis": "x20",
         "y": [
          0,
          0,
          0,
          0,
          0,
          0,
          0,
          0,
          0,
          0,
          0,
          0,
          0,
          0,
          0,
          0,
          0,
          0,
          0,
          67.8008810843378,
          274.358933840776,
          699.983049230315,
          1453.2265985747,
          2657.46769829914,
          4422.68604512672,
          6810.32591084689,
          9803.42678183283,
          13294.2223040244,
          17095.4672362994,
          20972.5890494287,
          24687.0528162792,
          28036.4558000182,
          30881.3604169765,
          33155.8595556998,
          34869.390984616,
          36065.7808654425,
          36820.1207775027,
          37213.563300539,
          37607.0058235753,
          38000.4483466117
         ],
         "yaxis": "y20"
        },
        {
         "line": {
          "color": "rgb(217,217,217)"
         },
         "mode": "lines+text",
         "name": "B09",
         "text": [
          "",
          "",
          "",
          "",
          "",
          "",
          "",
          "",
          "",
          "",
          "",
          "",
          "",
          "",
          "",
          "",
          "",
          "",
          "",
          "",
          "",
          "",
          "",
          "",
          "",
          "",
          "",
          "",
          "",
          "",
          "",
          "",
          "32706.7",
          "",
          "",
          "",
          "",
          "",
          "",
          ""
         ],
         "textfont": {
          "color": "black",
          "family": "sans serif",
          "size": 8
         },
         "textposition": "top left",
         "type": "scatter",
         "x": [
          1,
          2,
          3,
          4,
          5,
          6,
          7,
          8,
          9,
          10,
          11,
          12,
          13,
          14,
          15,
          16,
          17,
          18,
          19,
          20,
          21,
          22,
          23,
          24,
          25,
          26,
          27,
          28,
          29,
          30,
          31,
          32,
          33,
          34,
          35,
          36,
          37,
          38,
          39,
          40
         ],
         "xaxis": "x21",
         "y": [
          0,
          0,
          0,
          0,
          0,
          0,
          0,
          0,
          0,
          0,
          0,
          0,
          0,
          0,
          0,
          0,
          0,
          0,
          0,
          0,
          59.1832274350895,
          224.753881331613,
          547.224408198224,
          1090.88187906745,
          1925.60559778775,
          3112.11548179134,
          4685.239242601,
          6641.22255566521,
          8933.79460241683,
          11480.0701197711,
          14174.0260921121,
          16903.4913961113,
          19566.8913144647,
          22078.5371406303,
          24386.7786771366,
          26424.934434212,
          28184.9220080669,
          29692.1900334577,
          31199.4580588485,
          32706.7260842393
         ],
         "yaxis": "y21"
        },
        {
         "line": {
          "color": "rgb(188,128,189)"
         },
         "mode": "lines+text",
         "name": "B10",
         "text": [
          "",
          "",
          "",
          "",
          "",
          "",
          "",
          "",
          "",
          "",
          "",
          "",
          "",
          "",
          "",
          "",
          "",
          "",
          "",
          "",
          "",
          "",
          "",
          "",
          "",
          "",
          "",
          "",
          "",
          "",
          "",
          "",
          "37892.0",
          "",
          "",
          "",
          "",
          "",
          "",
          ""
         ],
         "textfont": {
          "color": "black",
          "family": "sans serif",
          "size": 8
         },
         "textposition": "top left",
         "type": "scatter",
         "x": [
          1,
          2,
          3,
          4,
          5,
          6,
          7,
          8,
          9,
          10,
          11,
          12,
          13,
          14,
          15,
          16,
          17,
          18,
          19,
          20,
          21,
          22,
          23,
          24,
          25,
          26,
          27,
          28,
          29,
          30,
          31,
          32,
          33,
          34,
          35,
          36,
          37,
          38,
          39,
          40
         ],
         "xaxis": "x22",
         "y": [
          0,
          0,
          0,
          0,
          0,
          0,
          0,
          0,
          0,
          0,
          0,
          0,
          0,
          0,
          0,
          0,
          0,
          0,
          0,
          63.3061585325207,
          257.252077656225,
          658.769470298976,
          1373.88620996632,
          2526.06249471163,
          4229.17864485891,
          6552.97129985334,
          9491.99343673543,
          12950.0322273113,
          16747.9412083881,
          20653.8208185866,
          24425.3493028351,
          27851.2610942095,
          30781.2995187162,
          33138.8842552988,
          34925.8130242279,
          36177.3080548311,
          36966.150561276,
          37405.2292320606,
          37648.5938457839,
          37891.9584595072
         ],
         "yaxis": "y22"
        },
        {
         "line": {
          "color": "rgb(204,235,197)"
         },
         "mode": "lines+text",
         "name": "B11",
         "text": [
          "",
          "",
          "",
          "",
          "",
          "",
          "",
          "",
          "",
          "",
          "",
          "",
          "",
          "",
          "",
          "",
          "",
          "",
          "",
          "",
          "",
          "",
          "",
          "",
          "",
          "",
          "",
          "",
          "",
          "",
          "",
          "",
          "32583.0",
          "",
          "",
          "",
          "",
          "",
          "",
          ""
         ],
         "textfont": {
          "color": "black",
          "family": "sans serif",
          "size": 8
         },
         "textposition": "top left",
         "type": "scatter",
         "x": [
          1,
          2,
          3,
          4,
          5,
          6,
          7,
          8,
          9,
          10,
          11,
          12,
          13,
          14,
          15,
          16,
          17,
          18,
          19,
          20,
          21,
          22,
          23,
          24,
          25,
          26,
          27,
          28,
          29,
          30,
          31,
          32,
          33,
          34,
          35,
          36,
          37,
          38,
          39,
          40
         ],
         "xaxis": "x23",
         "y": [
          0,
          0,
          0,
          0,
          0,
          0,
          0,
          0,
          0,
          0,
          0,
          0,
          0,
          0,
          0,
          0,
          0,
          0,
          0,
          49.5636121439863,
          202.439507211943,
          521.536634883714,
          1096.04701413791,
          2033.18646419354,
          3436.1769556691,
          5373.92695545796,
          7852.03978272993,
          10796.2048593996,
          14056.0177533848,
          17429.5521886523,
          20700.4479513152,
          23676.6147212484,
          26219.7585131181,
          28259.2545890756,
          29790.3521713926,
          30861.3303806003,
          31559.147734451,
          31990.6936381077,
          32286.9043914625,
          32582.9555405042
         ],
         "yaxis": "y23"
        },
        {
         "line": {
          "color": "rgb(255,237,111)"
         },
         "mode": "lines+text",
         "name": "B12",
         "text": [
          "",
          "",
          "",
          "",
          "",
          "",
          "",
          "",
          "",
          "",
          "",
          "",
          "",
          "",
          "",
          "",
          "",
          "",
          "",
          "",
          "",
          "",
          "",
          "",
          "",
          "",
          "",
          "",
          "",
          "",
          "",
          "",
          "30826.2",
          "",
          "",
          "",
          "",
          "",
          "",
          ""
         ],
         "textfont": {
          "color": "black",
          "family": "sans serif",
          "size": 8
         },
         "textposition": "top left",
         "type": "scatter",
         "x": [
          1,
          2,
          3,
          4,
          5,
          6,
          7,
          8,
          9,
          10,
          11,
          12,
          13,
          14,
          15,
          16,
          17,
          18,
          19,
          20,
          21,
          22,
          23,
          24,
          25,
          26,
          27,
          28,
          29,
          30,
          31,
          32,
          33,
          34,
          35,
          36,
          37,
          38,
          39,
          40
         ],
         "xaxis": "x24",
         "y": [
          0,
          0,
          0,
          0,
          0,
          0,
          0,
          0,
          0,
          0,
          0,
          0,
          0,
          0,
          0,
          0,
          0,
          0,
          0,
          40.821794897588,
          166.985833964676,
          431.913609401855,
          913.629563264652,
          1709.47707321423,
          2918.21982225256,
          4612.98973494555,
          6814.03073050398,
          9470.53889839257,
          12459.3255286751,
          15603.2612854368,
          18703.2535626956,
          21573.6376457752,
          24071.6328536673,
          26114.6921356036,
          27688.8573586141,
          28817.4438593606,
          29559.051839651,
          29981.4198796293,
          30403.7879196077,
          30826.1559595861
         ],
         "yaxis": "y24"
        },
        {
         "line": {
          "color": "rgb(141,211,199)"
         },
         "mode": "lines+text",
         "name": "C01",
         "text": [
          "",
          "",
          "",
          "",
          "",
          "",
          "",
          "",
          "",
          "",
          "",
          "",
          "",
          "",
          "",
          "",
          "",
          "",
          "",
          "",
          "",
          "",
          "",
          "",
          "",
          "",
          "",
          "",
          "",
          "",
          "",
          "",
          "27521.2",
          "",
          "",
          "",
          "",
          "",
          "",
          ""
         ],
         "textfont": {
          "color": "black",
          "family": "sans serif",
          "size": 8
         },
         "textposition": "top left",
         "type": "scatter",
         "x": [
          1,
          2,
          3,
          4,
          5,
          6,
          7,
          8,
          9,
          10,
          11,
          12,
          13,
          14,
          15,
          16,
          17,
          18,
          19,
          20,
          21,
          22,
          23,
          24,
          25,
          26,
          27,
          28,
          29,
          30,
          31,
          32,
          33,
          34,
          35,
          36,
          37,
          38,
          39,
          40
         ],
         "xaxis": "x25",
         "y": [
          0,
          0,
          0,
          0,
          0,
          0,
          0,
          0,
          0,
          0,
          0,
          0,
          0,
          0,
          0,
          0,
          0,
          0,
          0,
          0,
          34.8434885750436,
          138.292083352278,
          351.077422412955,
          733.988781886729,
          1365.66667104412,
          2330.86756481403,
          3700.46162328751,
          5508.75942652634,
          7735.09750375939,
          10297.033647501,
          13059.7872532203,
          15858.1472304588,
          18524.1001504383,
          20913.1191259524,
          22936.1034685703,
          24523.9318065928,
          25672.3594836161,
          26436.4012177556,
          26978.8254989499,
          27521.2497801442
         ],
         "yaxis": "y25"
        },
        {
         "line": {
          "color": "rgb(255,255,179)"
         },
         "mode": "lines+text",
         "name": "C02",
         "text": [
          "",
          "",
          "",
          "",
          "",
          "",
          "",
          "",
          "",
          "",
          "",
          "",
          "",
          "",
          "",
          "",
          "",
          "",
          "",
          "",
          "",
          "",
          "",
          "",
          "",
          "",
          "",
          "",
          "",
          "",
          "",
          "",
          "24876.9",
          "",
          "",
          "",
          "",
          "",
          "",
          ""
         ],
         "textfont": {
          "color": "black",
          "family": "sans serif",
          "size": 8
         },
         "textposition": "top left",
         "type": "scatter",
         "x": [
          1,
          2,
          3,
          4,
          5,
          6,
          7,
          8,
          9,
          10,
          11,
          12,
          13,
          14,
          15,
          16,
          17,
          18,
          19,
          20,
          21,
          22,
          23,
          24,
          25,
          26,
          27,
          28,
          29,
          30,
          31,
          32,
          33,
          34,
          35,
          36,
          37,
          38,
          39,
          40
         ],
         "xaxis": "x26",
         "y": [
          0,
          0,
          0,
          0,
          0,
          0,
          0,
          0,
          0,
          0,
          0,
          0,
          0,
          0,
          0,
          0,
          0,
          0,
          0,
          0,
          0,
          39.9951634651513,
          151.991554928579,
          373.673134599406,
          760.023402195259,
          1380.86190957858,
          2310.05547623968,
          3608.04557128381,
          5301.33797334473,
          7365.88975550985,
          9721.71607777259,
          12240.4834627983,
          14766.0980389214,
          17139.6350323012,
          19225.3527736195,
          20939.5753907741,
          22272.5258743448,
          23271.327878037,
          24076.9198910307,
          24876.8785058049
         ],
         "yaxis": "y26"
        },
        {
         "line": {
          "color": "rgb(190,186,218)"
         },
         "mode": "lines+text",
         "name": "C03",
         "text": [
          "",
          "",
          "",
          "",
          "",
          "",
          "",
          "",
          "",
          "",
          "",
          "",
          "",
          "",
          "",
          "",
          "",
          "",
          "",
          "",
          "",
          "",
          "",
          "",
          "",
          "",
          "",
          "",
          "",
          "",
          "",
          "",
          "33761.9",
          "",
          "",
          "",
          "",
          "",
          "",
          ""
         ],
         "textfont": {
          "color": "black",
          "family": "sans serif",
          "size": 8
         },
         "textposition": "top left",
         "type": "scatter",
         "x": [
          1,
          2,
          3,
          4,
          5,
          6,
          7,
          8,
          9,
          10,
          11,
          12,
          13,
          14,
          15,
          16,
          17,
          18,
          19,
          20,
          21,
          22,
          23,
          24,
          25,
          26,
          27,
          28,
          29,
          30,
          31,
          32,
          33,
          34,
          35,
          36,
          37,
          38,
          39,
          40
         ],
         "xaxis": "x27",
         "y": [
          0,
          0,
          0,
          0,
          0,
          0,
          0,
          0,
          0,
          0,
          0,
          0,
          0,
          0,
          0,
          0,
          0,
          0,
          0,
          46.8638258618818,
          186.725390183079,
          472.033471120065,
          976.129485487206,
          1787.72354845802,
          2994.57379697302,
          4660.79564794113,
          6804.79243216887,
          9385.01628297912,
          12300.0680011324,
          15404.4327338751,
          18533.8727847864,
          21532.4405631508,
          24274.3971452243,
          26672.0748940726,
          28689.8500943299,
          30293.7704724145,
          31505.4305464382,
          32377.6013618092,
          33069.7309142324,
          33761.8604666556
         ],
         "yaxis": "y27"
        },
        {
         "line": {
          "color": "rgb(251,128,114)"
         },
         "mode": "lines+text",
         "name": "C04",
         "text": [
          "",
          "",
          "",
          "",
          "",
          "",
          "",
          "",
          "",
          "",
          "",
          "",
          "",
          "",
          "",
          "",
          "",
          "",
          "",
          "",
          "",
          "",
          "",
          "",
          "",
          "",
          "",
          "",
          "",
          "",
          "",
          "",
          "32330.0",
          "",
          "",
          "",
          "",
          "",
          "",
          ""
         ],
         "textfont": {
          "color": "black",
          "family": "sans serif",
          "size": 8
         },
         "textposition": "top left",
         "type": "scatter",
         "x": [
          1,
          2,
          3,
          4,
          5,
          6,
          7,
          8,
          9,
          10,
          11,
          12,
          13,
          14,
          15,
          16,
          17,
          18,
          19,
          20,
          21,
          22,
          23,
          24,
          25,
          26,
          27,
          28,
          29,
          30,
          31,
          32,
          33,
          34,
          35,
          36,
          37,
          38,
          39,
          40
         ],
         "xaxis": "x28",
         "y": [
          0,
          0,
          0,
          0,
          0,
          0,
          0,
          0,
          0,
          0,
          0,
          0,
          0,
          0,
          0,
          0,
          0,
          0,
          0,
          42.3785719171943,
          169.217716671418,
          430.091996024276,
          896.199972449819,
          1655.46697434229,
          2797.15323136245,
          4388.97412294605,
          6453.75305946265,
          8953.74742993983,
          11788.6721608092,
          14810.232614019,
          17848.2366632094,
          20739.9233997597,
          23355.6279265701,
          25609.9952511273,
          27474.4256118285,
          28931.8522234093,
          30018.1106695823,
          30788.7412441154,
          31559.3718186485,
          32330.0023931816
         ],
         "yaxis": "y28"
        },
        {
         "line": {
          "color": "rgb(128,177,211)"
         },
         "mode": "lines+text",
         "name": "C05",
         "text": [
          "",
          "",
          "",
          "",
          "",
          "",
          "",
          "",
          "",
          "",
          "",
          "",
          "",
          "",
          "",
          "",
          "",
          "",
          "",
          "",
          "",
          "",
          "",
          "",
          "",
          "",
          "",
          "",
          "",
          "",
          "",
          "",
          "26157.7",
          "",
          "",
          "",
          "",
          "",
          "",
          ""
         ],
         "textfont": {
          "color": "black",
          "family": "sans serif",
          "size": 8
         },
         "textposition": "top left",
         "type": "scatter",
         "x": [
          1,
          2,
          3,
          4,
          5,
          6,
          7,
          8,
          9,
          10,
          11,
          12,
          13,
          14,
          15,
          16,
          17,
          18,
          19,
          20,
          21,
          22,
          23,
          24,
          25,
          26,
          27,
          28,
          29,
          30,
          31,
          32,
          33,
          34,
          35,
          36,
          37,
          38,
          39,
          40
         ],
         "xaxis": "x29",
         "y": [
          0,
          0,
          0,
          0,
          0,
          0,
          0,
          0,
          0,
          0,
          0,
          0,
          0,
          0,
          0,
          0,
          0,
          0,
          0,
          54.8461134029369,
          215.527351475343,
          538.838955995718,
          1100.67875444943,
          1987.00593618347,
          3274.41928494922,
          5005.5877981425,
          7167.35114339354,
          9680.04532496105,
          12403.5315145705,
          15159.9817779068,
          17766.5833668568,
          20069.4807288405,
          21969.3790299566,
          23431.3658015601,
          24482.3893665498,
          25180.7548259306,
          25608.2650256824,
          25849.0053620036,
          26003.3290812546,
          26157.6528005056
         ],
         "yaxis": "y29"
        },
        {
         "line": {
          "color": "rgb(253,180,98)"
         },
         "mode": "lines+text",
         "name": "C06",
         "text": [
          "",
          "",
          "",
          "",
          "",
          "",
          "",
          "",
          "",
          "",
          "",
          "",
          "",
          "",
          "",
          "",
          "",
          "",
          "",
          "",
          "",
          "",
          "",
          "",
          "",
          "",
          "",
          "",
          "",
          "",
          "",
          "",
          "26211.6",
          "",
          "",
          "",
          "",
          "",
          "",
          ""
         ],
         "textfont": {
          "color": "black",
          "family": "sans serif",
          "size": 8
         },
         "textposition": "top left",
         "type": "scatter",
         "x": [
          1,
          2,
          3,
          4,
          5,
          6,
          7,
          8,
          9,
          10,
          11,
          12,
          13,
          14,
          15,
          16,
          17,
          18,
          19,
          20,
          21,
          22,
          23,
          24,
          25,
          26,
          27,
          28,
          29,
          30,
          31,
          32,
          33,
          34,
          35,
          36,
          37,
          38,
          39,
          40
         ],
         "xaxis": "x30",
         "y": [
          0,
          0,
          0,
          0,
          0,
          0,
          0,
          0,
          0,
          0,
          0,
          0,
          0,
          0,
          0,
          0,
          0,
          0,
          0,
          44.4055627827634,
          177.732833417087,
          451.102272140791,
          935.999219851744,
          1717.5525390003,
          2877.55555721757,
          4471.42116236434,
          6505.02197363855,
          8920.00826746791,
          11595.0100623521,
          14363.3282471715,
          17042.2439228309,
          19466.9689962563,
          21518.5971370382,
          23138.8330702738,
          24334.5977157389,
          25145.84335232,
          25642.6664710231,
          25910.1857859958,
          26060.8834395075,
          26211.5810930192
         ],
         "yaxis": "y30"
        },
        {
         "line": {
          "color": "rgb(179,222,105)"
         },
         "mode": "lines+text",
         "name": "C07",
         "text": [
          "",
          "",
          "",
          "",
          "",
          "",
          "",
          "",
          "",
          "",
          "",
          "",
          "",
          "",
          "",
          "",
          "",
          "",
          "",
          "",
          "",
          "",
          "",
          "",
          "",
          "",
          "",
          "",
          "",
          "",
          "",
          "",
          "42145.2",
          "",
          "",
          "",
          "",
          "",
          "",
          ""
         ],
         "textfont": {
          "color": "black",
          "family": "sans serif",
          "size": 8
         },
         "textposition": "top left",
         "type": "scatter",
         "x": [
          1,
          2,
          3,
          4,
          5,
          6,
          7,
          8,
          9,
          10,
          11,
          12,
          13,
          14,
          15,
          16,
          17,
          18,
          19,
          20,
          21,
          22,
          23,
          24,
          25,
          26,
          27,
          28,
          29,
          30,
          31,
          32,
          33,
          34,
          35,
          36,
          37,
          38,
          39,
          40
         ],
         "xaxis": "x31",
         "y": [
          0,
          0,
          0,
          0,
          0,
          0,
          0,
          0,
          0,
          0,
          0,
          0,
          0,
          0,
          0,
          0,
          0,
          0,
          0,
          42.1664741263852,
          183.185254495617,
          490.631532351495,
          1063.8937682145,
          2027.51888422409,
          3508.67962072468,
          5603.09254852407,
          8338.81979702556,
          11652.9298218331,
          15392.4824352014,
          19340.731861558,
          23260.8373671313,
          26942.1477516201,
          30233.9841294464,
          33056.8587025512,
          35403.8422347876,
          37298.234450664,
          38807.1544004676,
          40020.7289380052,
          41082.9817596766,
          42145.2345813481
         ],
         "yaxis": "y31"
        },
        {
         "line": {
          "color": "rgb(252,205,229)"
         },
         "mode": "lines+text",
         "name": "C08",
         "text": [
          "",
          "",
          "",
          "",
          "",
          "",
          "",
          "",
          "",
          "",
          "",
          "",
          "",
          "",
          "",
          "",
          "",
          "",
          "",
          "",
          "",
          "",
          "",
          "",
          "",
          "",
          "",
          "",
          "",
          "",
          "",
          "",
          "44880.9",
          "",
          "",
          "",
          "",
          "",
          "",
          ""
         ],
         "textfont": {
          "color": "black",
          "family": "sans serif",
          "size": 8
         },
         "textposition": "top left",
         "type": "scatter",
         "x": [
          1,
          2,
          3,
          4,
          5,
          6,
          7,
          8,
          9,
          10,
          11,
          12,
          13,
          14,
          15,
          16,
          17,
          18,
          19,
          20,
          21,
          22,
          23,
          24,
          25,
          26,
          27,
          28,
          29,
          30,
          31,
          32,
          33,
          34,
          35,
          36,
          37,
          38,
          39,
          40
         ],
         "xaxis": "x32",
         "y": [
          0,
          0,
          0,
          0,
          0,
          0,
          0,
          0,
          0,
          0,
          0,
          0,
          0,
          0,
          0,
          0,
          0,
          0,
          0,
          58.8535623593945,
          241.835855344587,
          626.312641799218,
          1322.66464073657,
          2464.02976175002,
          4179.24991807219,
          6554.98551888536,
          9599.97204672868,
          13225.8069325131,
          17253.8992849197,
          21448.3803938451,
          25563.773787037,
          29390.6922267317,
          32786.9009803496,
          35683.6222120054,
          38083.5402616663,
          40013.1604370547,
          41541.7763146458,
          42760.8430418573,
          43820.8930914966,
          44880.9431411359
         ],
         "yaxis": "y32"
        },
        {
         "line": {
          "color": "rgb(217,217,217)"
         },
         "mode": "lines+text",
         "name": "C09",
         "text": [
          "",
          "",
          "",
          "",
          "",
          "",
          "",
          "",
          "",
          "",
          "",
          "",
          "",
          "",
          "",
          "",
          "",
          "",
          "",
          "",
          "",
          "",
          "",
          "",
          "",
          "",
          "",
          "",
          "",
          "",
          "",
          "",
          "42745.0",
          "",
          "",
          "",
          "",
          "",
          "",
          ""
         ],
         "textfont": {
          "color": "black",
          "family": "sans serif",
          "size": 8
         },
         "textposition": "top left",
         "type": "scatter",
         "x": [
          1,
          2,
          3,
          4,
          5,
          6,
          7,
          8,
          9,
          10,
          11,
          12,
          13,
          14,
          15,
          16,
          17,
          18,
          19,
          20,
          21,
          22,
          23,
          24,
          25,
          26,
          27,
          28,
          29,
          30,
          31,
          32,
          33,
          34,
          35,
          36,
          37,
          38,
          39,
          40
         ],
         "xaxis": "x33",
         "y": [
          0,
          0,
          0,
          0,
          0,
          0,
          0,
          0,
          0,
          0,
          0,
          0,
          0,
          0,
          0,
          0,
          0,
          0,
          0,
          47.1850231184991,
          197.548024321676,
          518.588307971834,
          1109.50076807235,
          2094.18106416553,
          3598.24045707683,
          5714.76861173516,
          8469.47882976359,
          11798.5592934157,
          15549.7721450852,
          19508.951554514,
          23442.6016320751,
          27142.6094775866,
          30460.9957824622,
          33319.7322482883,
          35713.0105966585,
          37658.3509462924,
          39224.1237769123,
          40492.6227532538,
          41618.8220741287,
          42745.0213950036
         ],
         "yaxis": "y33"
        },
        {
         "line": {
          "color": "rgb(188,128,189)"
         },
         "mode": "lines+text",
         "name": "C10",
         "text": [
          "",
          "",
          "",
          "",
          "",
          "",
          "",
          "",
          "",
          "",
          "",
          "",
          "",
          "",
          "",
          "",
          "",
          "",
          "",
          "",
          "",
          "",
          "",
          "",
          "",
          "",
          "",
          "",
          "",
          "",
          "",
          "",
          "46226.4",
          "",
          "",
          "",
          "",
          "",
          "",
          ""
         ],
         "textfont": {
          "color": "black",
          "family": "sans serif",
          "size": 8
         },
         "textposition": "top left",
         "type": "scatter",
         "x": [
          1,
          2,
          3,
          4,
          5,
          6,
          7,
          8,
          9,
          10,
          11,
          12,
          13,
          14,
          15,
          16,
          17,
          18,
          19,
          20,
          21,
          22,
          23,
          24,
          25,
          26,
          27,
          28,
          29,
          30,
          31,
          32,
          33,
          34,
          35,
          36,
          37,
          38,
          39,
          40
         ],
         "xaxis": "x34",
         "y": [
          0,
          0,
          0,
          0,
          0,
          0,
          0,
          0,
          0,
          0,
          0,
          0,
          0,
          0,
          0,
          0,
          0,
          0,
          0,
          58.0641437367022,
          240.216191196347,
          624.664365316752,
          1322.77366943159,
          2468.36280431224,
          4189.90543506313,
          6572.23217833626,
          9620.73635929797,
          13243.5600223426,
          17258.7460610709,
          21426.721212787,
          25501.8288281157,
          29279.4181849891,
          32626.5697248722,
          35495.0548164502,
          37904.3508467727,
          39935.231113937,
          41679.4328906867,
          43257.742521482,
          44742.0739458136,
          46226.4053701451
         ],
         "yaxis": "y34"
        },
        {
         "line": {
          "color": "rgb(204,235,197)"
         },
         "mode": "lines+text",
         "name": "C11",
         "text": [
          "",
          "",
          "",
          "",
          "",
          "",
          "",
          "",
          "",
          "",
          "",
          "",
          "",
          "",
          "",
          "",
          "",
          "",
          "",
          "",
          "",
          "",
          "",
          "",
          "",
          "",
          "",
          "",
          "",
          "",
          "",
          "",
          "44534.2",
          "",
          "",
          "",
          "",
          "",
          "",
          ""
         ],
         "textfont": {
          "color": "black",
          "family": "sans serif",
          "size": 8
         },
         "textposition": "top left",
         "type": "scatter",
         "x": [
          1,
          2,
          3,
          4,
          5,
          6,
          7,
          8,
          9,
          10,
          11,
          12,
          13,
          14,
          15,
          16,
          17,
          18,
          19,
          20,
          21,
          22,
          23,
          24,
          25,
          26,
          27,
          28,
          29,
          30,
          31,
          32,
          33,
          34,
          35,
          36,
          37,
          38,
          39,
          40
         ],
         "xaxis": "x35",
         "y": [
          0,
          0,
          0,
          0,
          0,
          0,
          0,
          0,
          0,
          0,
          0,
          0,
          0,
          0,
          0,
          0,
          0,
          0,
          0,
          71.4686079661144,
          288.740127483075,
          735.959451760766,
          1527.09184194674,
          2791.82445986068,
          4645.36939185774,
          7151.67715326441,
          10292.9214509121,
          13957.7204090409,
          17955.624863717,
          22053.7851955435,
          26022.6053052873,
          29675.6722580394,
          32893.0844174732,
          35623.393535905,
          37877.8040606093,
          39691.3298792345,
          41130.3716901194,
          42264.9682618256,
          43399.5648335319,
          44534.1614052381
         ],
         "yaxis": "y35"
        },
        {
         "line": {
          "color": "rgb(255,237,111)"
         },
         "mode": "lines+text",
         "name": "C12",
         "text": [
          "",
          "",
          "",
          "",
          "",
          "",
          "",
          "",
          "",
          "",
          "",
          "",
          "",
          "",
          "",
          "",
          "",
          "",
          "",
          "",
          "",
          "",
          "",
          "",
          "",
          "",
          "",
          "",
          "",
          "",
          "",
          "",
          "42609.1",
          "",
          "",
          "",
          "",
          "",
          "",
          ""
         ],
         "textfont": {
          "color": "black",
          "family": "sans serif",
          "size": 8
         },
         "textposition": "top left",
         "type": "scatter",
         "x": [
          1,
          2,
          3,
          4,
          5,
          6,
          7,
          8,
          9,
          10,
          11,
          12,
          13,
          14,
          15,
          16,
          17,
          18,
          19,
          20,
          21,
          22,
          23,
          24,
          25,
          26,
          27,
          28,
          29,
          30,
          31,
          32,
          33,
          34,
          35,
          36,
          37,
          38,
          39,
          40
         ],
         "xaxis": "x36",
         "y": [
          0,
          0,
          0,
          0,
          0,
          0,
          0,
          0,
          0,
          0,
          0,
          0,
          0,
          0,
          0,
          0,
          0,
          0,
          0,
          63.4595005099521,
          258.463275426396,
          662.790099211417,
          1383.00114680277,
          2541.88289630009,
          4251.18495038222,
          6577.25966936109,
          9511.15410223434,
          12956.0168595401,
          16738.4191570153,
          20641.0100596078,
          24444.8926720864,
          27968.5077121836,
          31092.7202706843,
          33762.6545429076,
          35976.9840368888,
          37777.0371728506,
          39234.8595813275,
          40448.3167737562,
          41530.1318501765,
          42609.0807981127
         ],
         "yaxis": "y36"
        },
        {
         "line": {
          "color": "rgb(141,211,199)"
         },
         "mode": "lines+text",
         "name": "D01",
         "text": [
          "",
          "",
          "",
          "",
          "",
          "",
          "",
          "",
          "",
          "",
          "",
          "",
          "",
          "",
          "",
          "",
          "",
          "",
          "",
          "",
          "",
          "",
          "",
          "",
          "",
          "",
          "",
          "",
          "",
          "",
          "",
          "",
          "31382.4",
          "",
          "",
          "",
          "",
          "",
          "",
          ""
         ],
         "textfont": {
          "color": "black",
          "family": "sans serif",
          "size": 8
         },
         "textposition": "top left",
         "type": "scatter",
         "x": [
          1,
          2,
          3,
          4,
          5,
          6,
          7,
          8,
          9,
          10,
          11,
          12,
          13,
          14,
          15,
          16,
          17,
          18,
          19,
          20,
          21,
          22,
          23,
          24,
          25,
          26,
          27,
          28,
          29,
          30,
          31,
          32,
          33,
          34,
          35,
          36,
          37,
          38,
          39,
          40
         ],
         "xaxis": "x37",
         "y": [
          0,
          0,
          0,
          0,
          0,
          0,
          0,
          0,
          0,
          0,
          0,
          0,
          0,
          0,
          0,
          0,
          0,
          0,
          0,
          0,
          40.688050451235,
          163.277153056185,
          416.24450085199,
          869.848543335933,
          1612.13574626478,
          2734.91731732356,
          4311.64994651847,
          6373.35475044936,
          8890.41651552763,
          11767.4573765566,
          14854.5746952811,
          17971.0876478643,
          20935.6129065547,
          23591.80428701,
          25843.818176213,
          27610.0227857737,
          28884.8804248429,
          29717.388449499,
          30549.896474155,
          31382.4044988111
         ],
         "yaxis": "y37"
        },
        {
         "line": {
          "color": "rgb(255,255,179)"
         },
         "mode": "lines+text",
         "name": "D02",
         "text": [
          "",
          "",
          "",
          "",
          "",
          "",
          "",
          "",
          "",
          "",
          "",
          "",
          "",
          "",
          "",
          "",
          "",
          "",
          "",
          "",
          "",
          "",
          "",
          "",
          "",
          "",
          "",
          "",
          "",
          "",
          "",
          "",
          "23748.4",
          "",
          "",
          "",
          "",
          "",
          "",
          ""
         ],
         "textfont": {
          "color": "black",
          "family": "sans serif",
          "size": 8
         },
         "textposition": "top left",
         "type": "scatter",
         "x": [
          1,
          2,
          3,
          4,
          5,
          6,
          7,
          8,
          9,
          10,
          11,
          12,
          13,
          14,
          15,
          16,
          17,
          18,
          19,
          20,
          21,
          22,
          23,
          24,
          25,
          26,
          27,
          28,
          29,
          30,
          31,
          32,
          33,
          34,
          35,
          36,
          37,
          38,
          39,
          40
         ],
         "xaxis": "x38",
         "y": [
          0,
          0,
          0,
          0,
          0,
          0,
          0,
          0,
          0,
          0,
          0,
          0,
          0,
          0,
          0,
          0,
          0,
          0,
          0,
          0,
          0,
          36.1223852046129,
          137.658775521412,
          339.198113285808,
          692.212390336407,
          1263.77384218279,
          2127.17595757054,
          3345.42880847802,
          4950.57514494443,
          6925.7748444669,
          9197.8844845535,
          11642.7698039971,
          14104.2806305589,
          16420.2049696312,
          18449.8417433382,
          20104.3805080882,
          21371.4797869092,
          22296.966474948,
          23025.413456599,
          23748.3664607863
         ],
         "yaxis": "y38"
        },
        {
         "line": {
          "color": "rgb(190,186,218)"
         },
         "mode": "lines+text",
         "name": "D03",
         "text": [
          "",
          "",
          "",
          "",
          "",
          "",
          "",
          "",
          "",
          "",
          "",
          "",
          "",
          "",
          "",
          "",
          "",
          "",
          "",
          "",
          "",
          "",
          "",
          "",
          "",
          "",
          "",
          "",
          "",
          "",
          "",
          "",
          "36331.2",
          "",
          "",
          "",
          "",
          "",
          "",
          ""
         ],
         "textfont": {
          "color": "black",
          "family": "sans serif",
          "size": 8
         },
         "textposition": "top left",
         "type": "scatter",
         "x": [
          1,
          2,
          3,
          4,
          5,
          6,
          7,
          8,
          9,
          10,
          11,
          12,
          13,
          14,
          15,
          16,
          17,
          18,
          19,
          20,
          21,
          22,
          23,
          24,
          25,
          26,
          27,
          28,
          29,
          30,
          31,
          32,
          33,
          34,
          35,
          36,
          37,
          38,
          39,
          40
         ],
         "xaxis": "x39",
         "y": [
          0,
          0,
          0,
          0,
          0,
          0,
          0,
          0,
          0,
          0,
          0,
          0,
          0,
          0,
          0,
          0,
          0,
          0,
          0,
          40.6134288413167,
          167.732913804006,
          436.362733025557,
          927.331846402407,
          1742.75441988025,
          2989.04874654541,
          4750.16307952771,
          7059.25757556707,
          9878.75799964961,
          13097.0994512771,
          16545.1916931614,
          20027.2396362182,
          23355.160070395,
          26377.890644391,
          28993.0952472419,
          31162.9269034596,
          32856.3559232317,
          34106.5508341411,
          34978.8851739009,
          35655.0412974319,
          36331.1974209629
         ],
         "yaxis": "y39"
        },
        {
         "line": {
          "color": "rgb(251,128,114)"
         },
         "mode": "lines+text",
         "name": "D04",
         "text": [
          "",
          "",
          "",
          "",
          "",
          "",
          "",
          "",
          "",
          "",
          "",
          "",
          "",
          "",
          "",
          "",
          "",
          "",
          "",
          "",
          "",
          "",
          "",
          "",
          "",
          "",
          "",
          "",
          "",
          "",
          "",
          "",
          "34122.2",
          "",
          "",
          "",
          "",
          "",
          "",
          ""
         ],
         "textfont": {
          "color": "black",
          "family": "sans serif",
          "size": 8
         },
         "textposition": "top left",
         "type": "scatter",
         "x": [
          1,
          2,
          3,
          4,
          5,
          6,
          7,
          8,
          9,
          10,
          11,
          12,
          13,
          14,
          15,
          16,
          17,
          18,
          19,
          20,
          21,
          22,
          23,
          24,
          25,
          26,
          27,
          28,
          29,
          30,
          31,
          32,
          33,
          34,
          35,
          36,
          37,
          38,
          39,
          40
         ],
         "xaxis": "x40",
         "y": [
          0,
          0,
          0,
          0,
          0,
          0,
          0,
          0,
          0,
          0,
          0,
          0,
          0,
          0,
          0,
          0,
          0,
          0,
          0,
          38.2527622631435,
          157.875370019931,
          411.178584523852,
          876.560952556558,
          1655.40225551689,
          2856.67339100611,
          4570.86912261925,
          6840.24270070869,
          9635.52849346871,
          12848.1708998976,
          16303.0183909477,
          19788.8175254703,
          23095.5596936391,
          26047.619429977,
          28526.4937404195,
          30488.6214863619,
          31924.949841859,
          32876.4867408144,
          33441.2491622974,
          33781.7228867659,
          34122.1966112343
         ],
         "yaxis": "y40"
        },
        {
         "line": {
          "color": "rgb(128,177,211)"
         },
         "mode": "lines+text",
         "name": "D05",
         "text": [
          "",
          "",
          "",
          "",
          "",
          "",
          "",
          "",
          "",
          "",
          "",
          "",
          "",
          "",
          "",
          "",
          "",
          "",
          "",
          "",
          "",
          "",
          "",
          "",
          "",
          "",
          "",
          "",
          "",
          "",
          "",
          "",
          "43799.6",
          "",
          "",
          "",
          "",
          "",
          "",
          ""
         ],
         "textfont": {
          "color": "black",
          "family": "sans serif",
          "size": 8
         },
         "textposition": "top left",
         "type": "scatter",
         "x": [
          1,
          2,
          3,
          4,
          5,
          6,
          7,
          8,
          9,
          10,
          11,
          12,
          13,
          14,
          15,
          16,
          17,
          18,
          19,
          20,
          21,
          22,
          23,
          24,
          25,
          26,
          27,
          28,
          29,
          30,
          31,
          32,
          33,
          34,
          35,
          36,
          37,
          38,
          39,
          40
         ],
         "xaxis": "x41",
         "y": [
          0,
          0,
          0,
          0,
          0,
          0,
          0,
          0,
          0,
          0,
          0,
          0,
          0,
          0,
          0,
          0,
          0,
          0,
          0,
          63.395453995042,
          258.599568382383,
          664.443858440784,
          1389.75119053382,
          2561.24648108562,
          4295.9992485359,
          6665.87061896297,
          9666.04469893562,
          13200.8901827244,
          17094.3501940941,
          21122.73252577,
          25058.4032357629,
          28710.7769563207,
          31954.1445349257,
          34730.0518956723,
          37046.5682958658,
          38923.7843444886,
          40431.0159684744,
          41644.7293902946,
          42722.1726066462,
          43799.6158229979
         ],
         "yaxis": "y41"
        },
        {
         "line": {
          "color": "rgb(253,180,98)"
         },
         "mode": "lines+text",
         "name": "D06",
         "text": [
          "",
          "",
          "",
          "",
          "",
          "",
          "",
          "",
          "",
          "",
          "",
          "",
          "",
          "",
          "",
          "",
          "",
          "",
          "",
          "",
          "",
          "",
          "",
          "",
          "",
          "",
          "",
          "",
          "",
          "",
          "",
          "",
          "42932.2",
          "",
          "",
          "",
          "",
          "",
          "",
          ""
         ],
         "textfont": {
          "color": "black",
          "family": "sans serif",
          "size": 8
         },
         "textposition": "top left",
         "type": "scatter",
         "x": [
          1,
          2,
          3,
          4,
          5,
          6,
          7,
          8,
          9,
          10,
          11,
          12,
          13,
          14,
          15,
          16,
          17,
          18,
          19,
          20,
          21,
          22,
          23,
          24,
          25,
          26,
          27,
          28,
          29,
          30,
          31,
          32,
          33,
          34,
          35,
          36,
          37,
          38,
          39,
          40
         ],
         "xaxis": "x42",
         "y": [
          0,
          0,
          0,
          0,
          0,
          0,
          0,
          0,
          0,
          0,
          0,
          0,
          0,
          0,
          0,
          0,
          0,
          0,
          34.7404780095706,
          149.119032865083,
          398.590127899395,
          868.549451301755,
          1672.66382958952,
          2936.63041047278,
          4769.11542085355,
          7228.02778892088,
          10293.0485044771,
          13856.006512909,
          17735.4333102759,
          21710.9756336901,
          25565.0650949222,
          29119.7257774199,
          32260.0321333284,
          34931.0331420206,
          37139.7037887447,
          38887.0390532036,
          40230.9286434118,
          41237.0670699572,
          42084.6335230075,
          42932.1999760578
         ],
         "yaxis": "y42"
        },
        {
         "line": {
          "color": "rgb(179,222,105)"
         },
         "mode": "lines+text",
         "name": "D07",
         "text": [
          "",
          "",
          "",
          "",
          "",
          "",
          "",
          "",
          "",
          "",
          "",
          "",
          "",
          "",
          "",
          "",
          "",
          "",
          "",
          "",
          "",
          "",
          "",
          "",
          "",
          "",
          "",
          "",
          "",
          "",
          "",
          "",
          "45082.1",
          "",
          "",
          "",
          "",
          "",
          "",
          ""
         ],
         "textfont": {
          "color": "black",
          "family": "sans serif",
          "size": 8
         },
         "textposition": "top left",
         "type": "scatter",
         "x": [
          1,
          2,
          3,
          4,
          5,
          6,
          7,
          8,
          9,
          10,
          11,
          12,
          13,
          14,
          15,
          16,
          17,
          18,
          19,
          20,
          21,
          22,
          23,
          24,
          25,
          26,
          27,
          28,
          29,
          30,
          31,
          32,
          33,
          34,
          35,
          36,
          37,
          38,
          39,
          40
         ],
         "xaxis": "x43",
         "y": [
          0,
          0,
          0,
          0,
          0,
          0,
          0,
          0,
          0,
          0,
          0,
          0,
          0,
          0,
          0,
          0,
          0,
          0,
          0,
          50.7012857232585,
          212.444008657628,
          557.382312409216,
          1190.0940122567,
          2239.70002276032,
          3835.75574213476,
          6072.29573087322,
          8972.39248705953,
          12466.7823018861,
          16395.9693217355,
          20538.3186378848,
          24654.2881538911,
          28531.3339032469,
          32017.2151522376,
          35030.5554492106,
          37562.3476152732,
          39631.5607332939,
          41303.907647152,
          42668.1548686143,
          43875.1479691352,
          45082.141069656
         ],
         "yaxis": "y43"
        },
        {
         "line": {
          "color": "rgb(252,205,229)"
         },
         "mode": "lines+text",
         "name": "D08",
         "text": [
          "",
          "",
          "",
          "",
          "",
          "",
          "",
          "",
          "",
          "",
          "",
          "",
          "",
          "",
          "",
          "",
          "",
          "",
          "",
          "",
          "",
          "",
          "",
          "",
          "",
          "",
          "",
          "",
          "",
          "",
          "",
          "",
          "45404.8",
          "",
          "",
          "",
          "",
          "",
          "",
          ""
         ],
         "textfont": {
          "color": "black",
          "family": "sans serif",
          "size": 8
         },
         "textposition": "top left",
         "type": "scatter",
         "x": [
          1,
          2,
          3,
          4,
          5,
          6,
          7,
          8,
          9,
          10,
          11,
          12,
          13,
          14,
          15,
          16,
          17,
          18,
          19,
          20,
          21,
          22,
          23,
          24,
          25,
          26,
          27,
          28,
          29,
          30,
          31,
          32,
          33,
          34,
          35,
          36,
          37,
          38,
          39,
          40
         ],
         "xaxis": "x44",
         "y": [
          0,
          0,
          0,
          0,
          0,
          0,
          0,
          0,
          0,
          0,
          0,
          0,
          0,
          0,
          0,
          0,
          0,
          0,
          45.1084916992113,
          191.001597080023,
          505.080913437332,
          1087.3366736305,
          2064.27003745346,
          3566.9100431428,
          5696.24358040213,
          8487.09056950144,
          11883.9673021558,
          15739.9325037195,
          19841.1494860223,
          23949.6874010449,
          27849.2418712708,
          31379.4409488205,
          34451.1678026743,
          37040.200513795,
          39176.4155390317,
          40902.4884669545,
          42287.3244439287,
          43415.3850969864,
          44410.1065827766,
          45404.8280685669
         ],
         "yaxis": "y44"
        },
        {
         "line": {
          "color": "rgb(217,217,217)"
         },
         "mode": "lines+text",
         "name": "D09",
         "text": [
          "",
          "",
          "",
          "",
          "",
          "",
          "",
          "",
          "",
          "",
          "",
          "",
          "",
          "",
          "",
          "",
          "",
          "",
          "",
          "",
          "",
          "",
          "",
          "",
          "",
          "",
          "",
          "",
          "",
          "",
          "",
          "",
          "42343.9",
          "",
          "",
          "",
          "",
          "",
          "",
          ""
         ],
         "textfont": {
          "color": "black",
          "family": "sans serif",
          "size": 8
         },
         "textposition": "top left",
         "type": "scatter",
         "x": [
          1,
          2,
          3,
          4,
          5,
          6,
          7,
          8,
          9,
          10,
          11,
          12,
          13,
          14,
          15,
          16,
          17,
          18,
          19,
          20,
          21,
          22,
          23,
          24,
          25,
          26,
          27,
          28,
          29,
          30,
          31,
          32,
          33,
          34,
          35,
          36,
          37,
          38,
          39,
          40
         ],
         "xaxis": "x45",
         "y": [
          0,
          0,
          0,
          0,
          0,
          0,
          0,
          0,
          0,
          0,
          0,
          0,
          0,
          0,
          0,
          0,
          0,
          0,
          0,
          54.5334393611685,
          225.144272672314,
          584.336953115608,
          1235.01181478861,
          2300.56835952053,
          3899.36585184665,
          6110.14406645898,
          8939.59534029668,
          12305.2381375017,
          16042.5447515448,
          19935.468353667,
          23759.5558457631,
          27323.460621141,
          30496.7724941777,
          33216.474352847,
          35478.0966139719,
          37322.7982786665,
          38824.9884510917,
          40084.007509,
          41214.8860509517,
          42343.9174317804
         ],
         "yaxis": "y45"
        },
        {
         "line": {
          "color": "rgb(188,128,189)"
         },
         "mode": "lines+text",
         "name": "D10",
         "text": [
          "",
          "",
          "",
          "",
          "",
          "",
          "",
          "",
          "",
          "",
          "",
          "",
          "",
          "",
          "",
          "",
          "",
          "",
          "",
          "",
          "",
          "",
          "",
          "",
          "",
          "",
          "",
          "",
          "",
          "",
          "",
          "",
          "43184.6",
          "",
          "",
          "",
          "",
          "",
          "",
          ""
         ],
         "textfont": {
          "color": "black",
          "family": "sans serif",
          "size": 8
         },
         "textposition": "top left",
         "type": "scatter",
         "x": [
          1,
          2,
          3,
          4,
          5,
          6,
          7,
          8,
          9,
          10,
          11,
          12,
          13,
          14,
          15,
          16,
          17,
          18,
          19,
          20,
          21,
          22,
          23,
          24,
          25,
          26,
          27,
          28,
          29,
          30,
          31,
          32,
          33,
          34,
          35,
          36,
          37,
          38,
          39,
          40
         ],
         "xaxis": "x46",
         "y": [
          0,
          0,
          0,
          0,
          0,
          0,
          0,
          0,
          0,
          0,
          0,
          0,
          0,
          0,
          0,
          0,
          0,
          0,
          0,
          41.7924247616157,
          175.753256455242,
          463.867466368916,
          999.500941975633,
          1902.57641739735,
          3299.68803421792,
          5291.90684514406,
          7919.48966918542,
          11137.1336840378,
          14810.7404280449,
          18739.1612178758,
          22694.0281293214,
          26464.087413883,
          29890.5082607768,
          32880.1989461467,
          35402.8912168848,
          37483.0917157579,
          39188.4703641441,
          40619.7644868839,
          41903.6337176811,
          43184.6413786573
         ],
         "yaxis": "y46"
        },
        {
         "line": {
          "color": "rgb(204,235,197)"
         },
         "mode": "lines+text",
         "name": "D11",
         "text": [
          "",
          "",
          "",
          "",
          "",
          "",
          "",
          "",
          "",
          "",
          "",
          "",
          "",
          "",
          "",
          "",
          "",
          "",
          "",
          "",
          "",
          "",
          "",
          "",
          "",
          "",
          "",
          "",
          "",
          "",
          "",
          "",
          "44355.7",
          "",
          "",
          "",
          "",
          "",
          "",
          ""
         ],
         "textfont": {
          "color": "black",
          "family": "sans serif",
          "size": 8
         },
         "textposition": "top left",
         "type": "scatter",
         "x": [
          1,
          2,
          3,
          4,
          5,
          6,
          7,
          8,
          9,
          10,
          11,
          12,
          13,
          14,
          15,
          16,
          17,
          18,
          19,
          20,
          21,
          22,
          23,
          24,
          25,
          26,
          27,
          28,
          29,
          30,
          31,
          32,
          33,
          34,
          35,
          36,
          37,
          38,
          39,
          40
         ],
         "xaxis": "x47",
         "y": [
          0,
          0,
          0,
          0,
          0,
          0,
          0,
          0,
          0,
          0,
          0,
          0,
          0,
          0,
          0,
          0,
          0,
          0,
          0,
          57.7508002434374,
          238.667105494514,
          618.958727625804,
          1305.80169909549,
          2426.83992871007,
          4103.6541805746,
          6416.15146478497,
          9369.79282336332,
          12878.4305096162,
          16771.9446124155,
          20827.8606769932,
          24815.356317295,
          28537.3938404615,
          31859.1620059942,
          34714.2548275325,
          37095.5835081209,
          39043.1728535524,
          40632.2211081023,
          41964.87497291,
          43161.4301497976,
          44355.7397515445
         ],
         "yaxis": "y47"
        },
        {
         "line": {
          "color": "rgb(255,237,111)"
         },
         "mode": "lines+text",
         "name": "D12",
         "text": [
          "",
          "",
          "",
          "",
          "",
          "",
          "",
          "",
          "",
          "",
          "",
          "",
          "",
          "",
          "",
          "",
          "",
          "",
          "",
          "",
          "",
          "",
          "",
          "",
          "",
          "",
          "",
          "",
          "",
          "",
          "",
          "",
          "42582.1",
          "",
          "",
          "",
          "",
          "",
          "",
          ""
         ],
         "textfont": {
          "color": "black",
          "family": "sans serif",
          "size": 8
         },
         "textposition": "top left",
         "type": "scatter",
         "x": [
          1,
          2,
          3,
          4,
          5,
          6,
          7,
          8,
          9,
          10,
          11,
          12,
          13,
          14,
          15,
          16,
          17,
          18,
          19,
          20,
          21,
          22,
          23,
          24,
          25,
          26,
          27,
          28,
          29,
          30,
          31,
          32,
          33,
          34,
          35,
          36,
          37,
          38,
          39,
          40
         ],
         "xaxis": "x48",
         "y": [
          0,
          0,
          0,
          0,
          0,
          0,
          0,
          0,
          0,
          0,
          0,
          0,
          0,
          0,
          0,
          0,
          0,
          0,
          33.884661927748,
          144.663413399639,
          386.109282676559,
          841.736829551752,
          1622.86677461919,
          2852.5011383303,
          4636.31731750446,
          7029.1943449987,
          10008.4910361743,
          13465.4674670237,
          17220.6703988061,
          21058.8741390425,
          24770.6096104381,
          28188.1882332262,
          31206.7472828473,
          33783.8637080106,
          35934.1379675404,
          37689.0449874063,
          39112.5612678238,
          40269.081130316,
          41425.6009928082,
          42582.1208553005
         ],
         "yaxis": "y48"
        },
        {
         "line": {
          "color": "rgb(141,211,199)"
         },
         "mode": "lines+text",
         "name": "E01",
         "text": [
          "",
          "",
          "",
          "",
          "",
          "",
          "",
          "",
          "",
          "",
          "",
          "",
          "",
          "",
          "",
          "",
          "",
          "",
          "",
          "",
          "",
          "",
          "",
          "",
          "",
          "",
          "",
          "",
          "",
          "",
          "",
          "",
          "34765.3",
          "",
          "",
          "",
          "",
          "",
          "",
          ""
         ],
         "textfont": {
          "color": "black",
          "family": "sans serif",
          "size": 8
         },
         "textposition": "top left",
         "type": "scatter",
         "x": [
          1,
          2,
          3,
          4,
          5,
          6,
          7,
          8,
          9,
          10,
          11,
          12,
          13,
          14,
          15,
          16,
          17,
          18,
          19,
          20,
          21,
          22,
          23,
          24,
          25,
          26,
          27,
          28,
          29,
          30,
          31,
          32,
          33,
          34,
          35,
          36,
          37,
          38,
          39,
          40
         ],
         "xaxis": "x49",
         "y": [
          0,
          0,
          0,
          0,
          0,
          0,
          0,
          0,
          0,
          0,
          0,
          0,
          0,
          0,
          0,
          0,
          0,
          0,
          0,
          67.3648266660933,
          264.894037436832,
          662.828565011169,
          1356.11590142092,
          2454.37007305587,
          4058.57977506242,
          6230.13241818414,
          8962.66145085464,
          12167.0763251058,
          15676.9521135755,
          19274.7164809083,
          22730.9589739268,
          25845.292677893,
          28478.0073003001,
          30563.3515174992,
          32105.7773140459,
          33165.1118907601,
          33837.9354563378,
          34239.0296338633,
          34502.3730678151,
          34765.2981337661
         ],
         "yaxis": "y49"
        },
        {
         "line": {
          "color": "rgb(255,255,179)"
         },
         "mode": "lines+text",
         "name": "E02",
         "text": [
          "",
          "",
          "",
          "",
          "",
          "",
          "",
          "",
          "",
          "",
          "",
          "",
          "",
          "",
          "",
          "",
          "",
          "",
          "",
          "",
          "",
          "",
          "",
          "",
          "",
          "",
          "",
          "",
          "",
          "",
          "",
          "",
          "25631.0",
          "",
          "",
          "",
          "",
          "",
          "",
          ""
         ],
         "textfont": {
          "color": "black",
          "family": "sans serif",
          "size": 8
         },
         "textposition": "top left",
         "type": "scatter",
         "x": [
          1,
          2,
          3,
          4,
          5,
          6,
          7,
          8,
          9,
          10,
          11,
          12,
          13,
          14,
          15,
          16,
          17,
          18,
          19,
          20,
          21,
          22,
          23,
          24,
          25,
          26,
          27,
          28,
          29,
          30,
          31,
          32,
          33,
          34,
          35,
          36,
          37,
          38,
          39,
          40
         ],
         "xaxis": "x50",
         "y": [
          0,
          0,
          0,
          0,
          0,
          0,
          0,
          0,
          0,
          0,
          0,
          0,
          0,
          0,
          0,
          0,
          0,
          0,
          0,
          0,
          39.6113683820996,
          152.188314379046,
          377.110112378655,
          772.456293601521,
          1413.36891720098,
          2381.32994050216,
          3744.84179152062,
          5536.54045485884,
          7733.65977468525,
          10249.4018968488,
          12941.1171022031,
          15633.9049430901,
          18152.5221395287,
          20352.188183135,
          22152.157098653,
          23501.4891707952,
          24414.2075772059,
          24957.7058816925,
          25294.3286440309,
          25630.9514063694
         ],
         "yaxis": "y50"
        },
        {
         "line": {
          "color": "rgb(190,186,218)"
         },
         "mode": "lines+text",
         "name": "E03",
         "text": [
          "",
          "",
          "",
          "",
          "",
          "",
          "",
          "",
          "",
          "",
          "",
          "",
          "",
          "",
          "",
          "",
          "",
          "",
          "",
          "",
          "",
          "",
          "",
          "",
          "",
          "",
          "",
          "",
          "",
          "",
          "",
          "",
          "37045.5",
          "",
          "",
          "",
          "",
          "",
          "",
          ""
         ],
         "textfont": {
          "color": "black",
          "family": "sans serif",
          "size": 8
         },
         "textposition": "top left",
         "type": "scatter",
         "x": [
          1,
          2,
          3,
          4,
          5,
          6,
          7,
          8,
          9,
          10,
          11,
          12,
          13,
          14,
          15,
          16,
          17,
          18,
          19,
          20,
          21,
          22,
          23,
          24,
          25,
          26,
          27,
          28,
          29,
          30,
          31,
          32,
          33,
          34,
          35,
          36,
          37,
          38,
          39,
          40
         ],
         "xaxis": "x51",
         "y": [
          0,
          0,
          0,
          0,
          0,
          0,
          0,
          0,
          0,
          0,
          0,
          0,
          0,
          0,
          0,
          0,
          0,
          32.1634990355943,
          137.64814882294,
          366.933023574654,
          797.555562640801,
          1532.23832673036,
          2684.24927807703,
          4351.42691207968,
          6585.37238995081,
          9366.55014216623,
          12595.6940494315,
          16106.2008258615,
          19694.1152531792,
          23155.5122586139,
          26319.9363408701,
          29070.4054340128,
          31347.7233864037,
          33143.6702354786,
          34487.921767594,
          35436.5508054366,
          36067.1981355482,
          36471.95891838,
          36759.1744626156,
          37045.454805688
         ],
         "yaxis": "y51"
        },
        {
         "line": {
          "color": "rgb(251,128,114)"
         },
         "mode": "lines+text",
         "name": "E04",
         "text": [
          "",
          "",
          "",
          "",
          "",
          "",
          "",
          "",
          "",
          "",
          "",
          "",
          "",
          "",
          "",
          "",
          "",
          "",
          "",
          "",
          "",
          "",
          "",
          "",
          "",
          "",
          "",
          "",
          "",
          "",
          "",
          "",
          "34012.5",
          "",
          "",
          "",
          "",
          "",
          "",
          ""
         ],
         "textfont": {
          "color": "black",
          "family": "sans serif",
          "size": 8
         },
         "textposition": "top left",
         "type": "scatter",
         "x": [
          1,
          2,
          3,
          4,
          5,
          6,
          7,
          8,
          9,
          10,
          11,
          12,
          13,
          14,
          15,
          16,
          17,
          18,
          19,
          20,
          21,
          22,
          23,
          24,
          25,
          26,
          27,
          28,
          29,
          30,
          31,
          32,
          33,
          34,
          35,
          36,
          37,
          38,
          39,
          40
         ],
         "xaxis": "x52",
         "y": [
          0,
          0,
          0,
          0,
          0,
          0,
          0,
          0,
          0,
          0,
          0,
          0,
          0,
          0,
          0,
          0,
          0,
          0,
          47.4519057882676,
          192.134682166068,
          492.550326555246,
          1032.75053922327,
          1916.32893241635,
          3247.79557361411,
          5104.67831796347,
          7508.94450499611,
          10407.7976371554,
          13672.0197370299,
          17114.3828791358,
          20522.7754687786,
          23697.7182369048,
          26483.9301740332,
          28788.5601271773,
          30583.705951429,
          31902.0839178532,
          32799.4523833445,
          33353.8054368499,
          33660.5781490579,
          33836.5505377215,
          34012.522926385
         ],
         "yaxis": "y52"
        },
        {
         "line": {
          "color": "rgb(128,177,211)"
         },
         "mode": "lines+text",
         "name": "E05",
         "text": [
          "",
          "",
          "",
          "",
          "",
          "",
          "",
          "",
          "",
          "",
          "",
          "",
          "",
          "",
          "",
          "",
          "",
          "",
          "",
          "",
          "",
          "",
          "",
          "",
          "",
          "",
          "",
          "",
          "",
          "",
          "",
          "",
          "40964.7",
          "",
          "",
          "",
          "",
          "",
          "",
          ""
         ],
         "textfont": {
          "color": "black",
          "family": "sans serif",
          "size": 8
         },
         "textposition": "top left",
         "type": "scatter",
         "x": [
          1,
          2,
          3,
          4,
          5,
          6,
          7,
          8,
          9,
          10,
          11,
          12,
          13,
          14,
          15,
          16,
          17,
          18,
          19,
          20,
          21,
          22,
          23,
          24,
          25,
          26,
          27,
          28,
          29,
          30,
          31,
          32,
          33,
          34,
          35,
          36,
          37,
          38,
          39,
          40
         ],
         "xaxis": "x53",
         "y": [
          0,
          0,
          0,
          0,
          0,
          0,
          0,
          0,
          0,
          0,
          0,
          0,
          0,
          0,
          0,
          0,
          0,
          0,
          65.4553226390159,
          264.580713738318,
          673.846853796794,
          1395.36422492392,
          2543.86735020424,
          4220.37736545242,
          6479.85056597153,
          9305.17488009777,
          12598.0846066623,
          16191.8990558025,
          19882.8182432261,
          23469.5140944396,
          26787.3816737456,
          29728.4071008935,
          32244.8366694236,
          34337.1260083718,
          36037.1047068735,
          37397.1304843804,
          38484.3459441822,
          39380.0637441308,
          40173.3651681936,
          40964.6652577209
         ],
         "yaxis": "y53"
        },
        {
         "line": {
          "color": "rgb(253,180,98)"
         },
         "mode": "lines+text",
         "name": "E06",
         "text": [
          "",
          "",
          "",
          "",
          "",
          "",
          "",
          "",
          "",
          "",
          "",
          "",
          "",
          "",
          "",
          "",
          "",
          "",
          "",
          "",
          "",
          "",
          "",
          "",
          "",
          "",
          "",
          "",
          "",
          "",
          "",
          "",
          "42451.4",
          "",
          "",
          "",
          "",
          "",
          "",
          ""
         ],
         "textfont": {
          "color": "black",
          "family": "sans serif",
          "size": 8
         },
         "textposition": "top left",
         "type": "scatter",
         "x": [
          1,
          2,
          3,
          4,
          5,
          6,
          7,
          8,
          9,
          10,
          11,
          12,
          13,
          14,
          15,
          16,
          17,
          18,
          19,
          20,
          21,
          22,
          23,
          24,
          25,
          26,
          27,
          28,
          29,
          30,
          31,
          32,
          33,
          34,
          35,
          36,
          37,
          38,
          39,
          40
         ],
         "xaxis": "x54",
         "y": [
          0,
          0,
          0,
          0,
          0,
          0,
          0,
          0,
          0,
          0,
          0,
          0,
          0,
          0,
          0,
          0,
          0,
          51.5544225336988,
          213.966987053181,
          555.781888235023,
          1173.58259185978,
          2183.52604118689,
          3698.86275277582,
          5798.53221066794,
          8496.99356604326,
          11727.3778013827,
          15345.6338221585,
          19155.6025381201,
          22946.3018731288,
          26529.8410401167,
          29767.8309852079,
          32581.6241663032,
          34948.7558564029,
          36886.2801857364,
          38441.5797398813,
          39651.8699625721,
          40575.3866083877,
          41274.6050255345,
          41863.0252289546,
          42451.4454323748
         ],
         "yaxis": "y54"
        },
        {
         "line": {
          "color": "rgb(179,222,105)"
         },
         "mode": "lines+text",
         "name": "E07",
         "text": [
          "",
          "",
          "",
          "",
          "",
          "",
          "",
          "",
          "",
          "",
          "",
          "",
          "",
          "",
          "",
          "",
          "",
          "",
          "",
          "",
          "",
          "",
          "",
          "",
          "",
          "",
          "",
          "",
          "",
          "",
          "",
          "",
          "44387.8",
          "",
          "",
          "",
          "",
          "",
          "",
          ""
         ],
         "textfont": {
          "color": "black",
          "family": "sans serif",
          "size": 8
         },
         "textposition": "top left",
         "type": "scatter",
         "x": [
          1,
          2,
          3,
          4,
          5,
          6,
          7,
          8,
          9,
          10,
          11,
          12,
          13,
          14,
          15,
          16,
          17,
          18,
          19,
          20,
          21,
          22,
          23,
          24,
          25,
          26,
          27,
          28,
          29,
          30,
          31,
          32,
          33,
          34,
          35,
          36,
          37,
          38,
          39,
          40
         ],
         "xaxis": "x55",
         "y": [
          0,
          0,
          0,
          0,
          0,
          0,
          0,
          0,
          0,
          0,
          0,
          0,
          0,
          0,
          0,
          0,
          0,
          41.1048037489613,
          177.942720248702,
          476.899158336666,
          1037.85711954889,
          1989.02663880865,
          3464.98488852542,
          5570.82980736234,
          8343.65802283631,
          11726.2851081643,
          15565.4155292173,
          19637.6941775525,
          23695.472398464,
          27515.9895288306,
          30938.228253872,
          33877.8796293372,
          36320.5988933156,
          38301.830736713,
          39886.556173847,
          41142.6144844476,
          42139.01943972,
          42954.9572889778,
          43671.4032638512,
          44387.8492387245
         ],
         "yaxis": "y55"
        },
        {
         "line": {
          "color": "rgb(252,205,229)"
         },
         "mode": "lines+text",
         "name": "E08",
         "text": [
          "",
          "",
          "",
          "",
          "",
          "",
          "",
          "",
          "",
          "",
          "",
          "",
          "",
          "",
          "",
          "",
          "",
          "",
          "",
          "",
          "",
          "",
          "",
          "",
          "",
          "",
          "",
          "",
          "",
          "",
          "",
          "",
          "47147.7",
          "",
          "",
          "",
          "",
          "",
          "",
          ""
         ],
         "textfont": {
          "color": "black",
          "family": "sans serif",
          "size": 8
         },
         "textposition": "top left",
         "type": "scatter",
         "x": [
          1,
          2,
          3,
          4,
          5,
          6,
          7,
          8,
          9,
          10,
          11,
          12,
          13,
          14,
          15,
          16,
          17,
          18,
          19,
          20,
          21,
          22,
          23,
          24,
          25,
          26,
          27,
          28,
          29,
          30,
          31,
          32,
          33,
          34,
          35,
          36,
          37,
          38,
          39,
          40
         ],
         "xaxis": "x56",
         "y": [
          0,
          0,
          0,
          0,
          0,
          0,
          0,
          0,
          0,
          0,
          0,
          0,
          0,
          0,
          0,
          0,
          0,
          35.7568710161705,
          158.398032238517,
          432.375535890085,
          957.920693196495,
          1866.79362338626,
          3303.76715665594,
          5391.1876039283,
          8187.06845411808,
          11653.9362998428,
          15650.6628960841,
          19952.334185663,
          24295.359378385,
          28431.0525723275,
          32168.4488809953,
          35396.9336082995,
          38086.1984748429,
          40267.1463928026,
          42007.0002925278,
          43389.7603207516,
          44504.0227176995,
          45444.6054013691,
          46296.5813991206,
          47147.6911991682
         ],
         "yaxis": "y56"
        },
        {
         "line": {
          "color": "rgb(217,217,217)"
         },
         "mode": "lines+text",
         "name": "E09",
         "text": [
          "",
          "",
          "",
          "",
          "",
          "",
          "",
          "",
          "",
          "",
          "",
          "",
          "",
          "",
          "",
          "",
          "",
          "",
          "",
          "",
          "",
          "",
          "",
          "",
          "",
          "",
          "",
          "",
          "",
          "",
          "",
          "",
          "42858.1",
          "",
          "",
          "",
          "",
          "",
          "",
          ""
         ],
         "textfont": {
          "color": "black",
          "family": "sans serif",
          "size": 8
         },
         "textposition": "top left",
         "type": "scatter",
         "x": [
          1,
          2,
          3,
          4,
          5,
          6,
          7,
          8,
          9,
          10,
          11,
          12,
          13,
          14,
          15,
          16,
          17,
          18,
          19,
          20,
          21,
          22,
          23,
          24,
          25,
          26,
          27,
          28,
          29,
          30,
          31,
          32,
          33,
          34,
          35,
          36,
          37,
          38,
          39,
          40
         ],
         "xaxis": "x57",
         "y": [
          0,
          0,
          0,
          0,
          0,
          0,
          0,
          0,
          0,
          0,
          0,
          0,
          0,
          0,
          0,
          0,
          0,
          33.0015757137791,
          143.594755407423,
          388.459203159822,
          857.099908716602,
          1670.03848970962,
          2961.52913631209,
          4846.95362006662,
          7383.5101290763,
          10539.4752456974,
          14185.5259621266,
          18113.7008580553,
          22079.1939171125,
          25850.5530245101,
          29250.032775428,
          32175.1389847782,
          34601.2486429695,
          36561.7873970843,
          38124.1912735975,
          39371.9400154149,
          40388.2158548336,
          41261.2369391756,
          42060.3474183521,
          42858.0816677523
         ],
         "yaxis": "y57"
        },
        {
         "line": {
          "color": "rgb(188,128,189)"
         },
         "mode": "lines+text",
         "name": "E10",
         "text": [
          "",
          "",
          "",
          "",
          "",
          "",
          "",
          "",
          "",
          "",
          "",
          "",
          "",
          "",
          "",
          "",
          "",
          "",
          "",
          "",
          "",
          "",
          "",
          "",
          "",
          "",
          "",
          "",
          "",
          "",
          "",
          "",
          "42772.4",
          "",
          "",
          "",
          "",
          "",
          "",
          ""
         ],
         "textfont": {
          "color": "black",
          "family": "sans serif",
          "size": 8
         },
         "textposition": "top left",
         "type": "scatter",
         "x": [
          1,
          2,
          3,
          4,
          5,
          6,
          7,
          8,
          9,
          10,
          11,
          12,
          13,
          14,
          15,
          16,
          17,
          18,
          19,
          20,
          21,
          22,
          23,
          24,
          25,
          26,
          27,
          28,
          29,
          30,
          31,
          32,
          33,
          34,
          35,
          36,
          37,
          38,
          39,
          40
         ],
         "xaxis": "x58",
         "y": [
          0,
          0,
          0,
          0,
          0,
          0,
          0,
          0,
          0,
          0,
          0,
          0,
          0,
          0,
          0,
          0,
          0,
          0,
          61.5550322331427,
          255.563097058779,
          663.978876828885,
          1400.20166091809,
          2596.20767636341,
          4372.4784483643,
          6798.94801329854,
          9861.64165857507,
          13448.7842687246,
          17364.3104670203,
          21366.3429963851,
          25217.2045046402,
          28727.0470566732,
          31779.390493825,
          34335.2242848961,
          36415.3134788205,
          38081.5933145465,
          39396.0002310256,
          40435.6943381395,
          41276.9920374509,
          42024.6846290208,
          42772.3772205907
         ],
         "yaxis": "y58"
        },
        {
         "line": {
          "color": "rgb(204,235,197)"
         },
         "mode": "lines+text",
         "name": "E11",
         "text": [
          "",
          "",
          "",
          "",
          "",
          "",
          "",
          "",
          "",
          "",
          "",
          "",
          "",
          "",
          "",
          "",
          "",
          "",
          "",
          "",
          "",
          "",
          "",
          "",
          "",
          "",
          "",
          "",
          "",
          "",
          "",
          "",
          "47001.3",
          "",
          "",
          "",
          "",
          "",
          "",
          ""
         ],
         "textfont": {
          "color": "black",
          "family": "sans serif",
          "size": 8
         },
         "textposition": "top left",
         "type": "scatter",
         "x": [
          1,
          2,
          3,
          4,
          5,
          6,
          7,
          8,
          9,
          10,
          11,
          12,
          13,
          14,
          15,
          16,
          17,
          18,
          19,
          20,
          21,
          22,
          23,
          24,
          25,
          26,
          27,
          28,
          29,
          30,
          31,
          32,
          33,
          34,
          35,
          36,
          37,
          38,
          39,
          40
         ],
         "xaxis": "x59",
         "y": [
          0,
          0,
          0,
          0,
          0,
          0,
          0,
          0,
          0,
          0,
          0,
          0,
          0,
          0,
          0,
          0,
          0,
          0,
          64.6799358963992,
          268.915969850912,
          699.48619890128,
          1476.95066743702,
          2742.46607180807,
          4626.53022087225,
          7207.9270078605,
          10478.0181920974,
          14324.7691032873,
          18545.4889074168,
          22886.0057362519,
          27092.2803961986,
          30956.6924325166,
          34346.7140052837,
          37211.6422618886,
          39565.7546489029,
          41470.8469264606,
          42989.7566161671,
          44207.3647339979,
          45204.9254820456,
          46103.1193861163,
          47001.3132901871
         ],
         "yaxis": "y59"
        },
        {
         "line": {
          "color": "rgb(255,237,111)"
         },
         "mode": "lines+text",
         "name": "E12",
         "text": [
          "",
          "",
          "",
          "",
          "",
          "",
          "",
          "",
          "",
          "",
          "",
          "",
          "",
          "",
          "",
          "",
          "",
          "",
          "",
          "",
          "",
          "",
          "",
          "",
          "",
          "",
          "",
          "",
          "",
          "",
          "",
          "",
          "47272.2",
          "",
          "",
          "",
          "",
          "",
          "",
          ""
         ],
         "textfont": {
          "color": "black",
          "family": "sans serif",
          "size": 8
         },
         "textposition": "top left",
         "type": "scatter",
         "x": [
          1,
          2,
          3,
          4,
          5,
          6,
          7,
          8,
          9,
          10,
          11,
          12,
          13,
          14,
          15,
          16,
          17,
          18,
          19,
          20,
          21,
          22,
          23,
          24,
          25,
          26,
          27,
          28,
          29,
          30,
          31,
          32,
          33,
          34,
          35,
          36,
          37,
          38,
          39,
          40
         ],
         "xaxis": "x60",
         "y": [
          0,
          0,
          0,
          0,
          0,
          0,
          0,
          0,
          0,
          0,
          0,
          0,
          0,
          0,
          0,
          0,
          0,
          36.7810470661583,
          160.912249333441,
          434.598270633205,
          953.315375686284,
          1843.34799923412,
          3243.65565721434,
          5272.59187417115,
          7988.90738360364,
          11361.5199399351,
          15260.5553094945,
          19476.0509911095,
          23759.3125889978,
          27872.2978607907,
          31628.5672823852,
          34915.349065001,
          37694.7670038111,
          39985.8882845135,
          41847.8101279534,
          43340.0287466725,
          44537.885903242,
          45520.1776488333,
          46396.2024453443,
          47272.2272418554
         ],
         "yaxis": "y60"
        },
        {
         "line": {
          "color": "rgb(141,211,199)"
         },
         "mode": "lines+text",
         "name": "F01",
         "text": [
          "",
          "",
          "",
          "",
          "",
          "",
          "",
          "",
          "",
          "",
          "",
          "",
          "",
          "",
          "",
          "",
          "",
          "",
          "",
          "",
          "",
          "",
          "",
          "",
          "",
          "",
          "",
          "",
          "",
          "",
          "",
          "",
          "34029.3",
          "",
          "",
          "",
          "",
          "",
          "",
          ""
         ],
         "textfont": {
          "color": "black",
          "family": "sans serif",
          "size": 8
         },
         "textposition": "top left",
         "type": "scatter",
         "x": [
          1,
          2,
          3,
          4,
          5,
          6,
          7,
          8,
          9,
          10,
          11,
          12,
          13,
          14,
          15,
          16,
          17,
          18,
          19,
          20,
          21,
          22,
          23,
          24,
          25,
          26,
          27,
          28,
          29,
          30,
          31,
          32,
          33,
          34,
          35,
          36,
          37,
          38,
          39,
          40
         ],
         "xaxis": "x61",
         "y": [
          0,
          0,
          0,
          0,
          0,
          0,
          0,
          0,
          0,
          0,
          0,
          0,
          0,
          0,
          0,
          0,
          0,
          0,
          0,
          61.2072432825084,
          245.37999151917,
          624.3340447453,
          1299.09467418632,
          2390.12724154506,
          4011.89607637824,
          6237.02858813664,
          9061.6666178105,
          12386.0037228742,
          16020.0585043853,
          19715.6836805525,
          23215.6799020469,
          26304.1173269735,
          28842.6575829217,
          30783.0125681805,
          32163.1219884759,
          33056.7421993208,
          33568.3106529692,
          33809.4383829647,
          33919.3473750383,
          34029.2563671118
         ],
         "yaxis": "y61"
        },
        {
         "line": {
          "color": "rgb(255,255,179)"
         },
         "mode": "lines+text",
         "name": "F02",
         "text": [
          "",
          "",
          "",
          "",
          "",
          "",
          "",
          "",
          "",
          "",
          "",
          "",
          "",
          "",
          "",
          "",
          "",
          "",
          "",
          "",
          "",
          "",
          "",
          "",
          "",
          "",
          "",
          "",
          "",
          "",
          "",
          "",
          "24864.8",
          "",
          "",
          "",
          "",
          "",
          "",
          ""
         ],
         "textfont": {
          "color": "black",
          "family": "sans serif",
          "size": 8
         },
         "textposition": "top left",
         "type": "scatter",
         "x": [
          1,
          2,
          3,
          4,
          5,
          6,
          7,
          8,
          9,
          10,
          11,
          12,
          13,
          14,
          15,
          16,
          17,
          18,
          19,
          20,
          21,
          22,
          23,
          24,
          25,
          26,
          27,
          28,
          29,
          30,
          31,
          32,
          33,
          34,
          35,
          36,
          37,
          38,
          39,
          40
         ],
         "xaxis": "x62",
         "y": [
          0,
          0,
          0,
          0,
          0,
          0,
          0,
          0,
          0,
          0,
          0,
          0,
          0,
          0,
          0,
          0,
          0,
          0,
          0,
          0,
          36.6755451845575,
          140.501966423159,
          348.085140404531,
          715.074499582826,
          1315.65512776107,
          2232.98778816866,
          3540.42393810546,
          5277.01158452536,
          7425.15227723365,
          9899.40343238161,
          12553.1177295764,
          15203.352406577,
          17666.9003815331,
          19796.9366460832,
          21515.9186752678,
          22793.0318199756,
          23656.928399103,
          24185.1032551368,
          24524.9296253588,
          24864.7559955808
         ],
         "yaxis": "y62"
        },
        {
         "line": {
          "color": "rgb(190,186,218)"
         },
         "mode": "lines+text",
         "name": "F03",
         "text": [
          "",
          "",
          "",
          "",
          "",
          "",
          "",
          "",
          "",
          "",
          "",
          "",
          "",
          "",
          "",
          "",
          "",
          "",
          "",
          "",
          "",
          "",
          "",
          "",
          "",
          "",
          "",
          "",
          "",
          "",
          "",
          "",
          "41188.0",
          "",
          "",
          "",
          "",
          "",
          "",
          ""
         ],
         "textfont": {
          "color": "black",
          "family": "sans serif",
          "size": 8
         },
         "textposition": "top left",
         "type": "scatter",
         "x": [
          1,
          2,
          3,
          4,
          5,
          6,
          7,
          8,
          9,
          10,
          11,
          12,
          13,
          14,
          15,
          16,
          17,
          18,
          19,
          20,
          21,
          22,
          23,
          24,
          25,
          26,
          27,
          28,
          29,
          30,
          31,
          32,
          33,
          34,
          35,
          36,
          37,
          38,
          39,
          40
         ],
         "xaxis": "x63",
         "y": [
          0,
          0,
          0,
          0,
          0,
          0,
          0,
          0,
          0,
          0,
          0,
          0,
          0,
          0,
          0,
          0,
          0,
          48.9249374528232,
          208.669513861661,
          553.871776677106,
          1194.73078213756,
          2269.77180733759,
          3919.98054832332,
          6249.01720911434,
          9282.09865175053,
          12939.1810828812,
          17035.7330649283,
          21313.5874436369,
          25491.5938213347,
          29319.2886599602,
          32616.9044725899,
          35292.9140181576,
          37340.3839359424,
          38816.1122394254,
          39819.2019978206,
          40448.1257291981,
          40806.1854875393,
          40985.3657011175,
          41086.7017629342,
          41188.0378247508
         ],
         "yaxis": "y63"
        },
        {
         "line": {
          "color": "rgb(251,128,114)"
         },
         "mode": "lines+text",
         "name": "F04",
         "text": [
          "",
          "",
          "",
          "",
          "",
          "",
          "",
          "",
          "",
          "",
          "",
          "",
          "",
          "",
          "",
          "",
          "",
          "",
          "",
          "",
          "",
          "",
          "",
          "",
          "",
          "",
          "",
          "",
          "",
          "",
          "",
          "",
          "35573.9",
          "",
          "",
          "",
          "",
          "",
          "",
          ""
         ],
         "textfont": {
          "color": "black",
          "family": "sans serif",
          "size": 8
         },
         "textposition": "top left",
         "type": "scatter",
         "x": [
          1,
          2,
          3,
          4,
          5,
          6,
          7,
          8,
          9,
          10,
          11,
          12,
          13,
          14,
          15,
          16,
          17,
          18,
          19,
          20,
          21,
          22,
          23,
          24,
          25,
          26,
          27,
          28,
          29,
          30,
          31,
          32,
          33,
          34,
          35,
          36,
          37,
          38,
          39,
          40
         ],
         "xaxis": "x64",
         "y": [
          0,
          0,
          0,
          0,
          0,
          0,
          0,
          0,
          0,
          0,
          0,
          0,
          0,
          0,
          0,
          0,
          0,
          0,
          43.2749386910249,
          179.489857796676,
          470.140224919196,
          1008.49858389588,
          1915.04057763992,
          3317.03004125611,
          5314.66709456838,
          7943.30329815086,
          11145.7370203494,
          14767.0631588445,
          18576.830249203,
          22313.1670750603,
          25734.2418147242,
          28661.0034543303,
          31000.0728196541,
          32743.8787303847,
          33956.3265844698,
          34728.459244217,
          35165.4795490773,
          35376.4239354158,
          35475.1675024278,
          35573.9110694399
         ],
         "yaxis": "y64"
        },
        {
         "line": {
          "color": "rgb(128,177,211)"
         },
         "mode": "lines+text",
         "name": "F05",
         "text": [
          "",
          "",
          "",
          "",
          "",
          "",
          "",
          "",
          "",
          "",
          "",
          "",
          "",
          "",
          "",
          "",
          "",
          "",
          "",
          "",
          "",
          "",
          "",
          "",
          "",
          "",
          "",
          "",
          "",
          "",
          "",
          "",
          "41808.5",
          "",
          "",
          "",
          "",
          "",
          "",
          ""
         ],
         "textfont": {
          "color": "black",
          "family": "sans serif",
          "size": 8
         },
         "textposition": "top left",
         "type": "scatter",
         "x": [
          1,
          2,
          3,
          4,
          5,
          6,
          7,
          8,
          9,
          10,
          11,
          12,
          13,
          14,
          15,
          16,
          17,
          18,
          19,
          20,
          21,
          22,
          23,
          24,
          25,
          26,
          27,
          28,
          29,
          30,
          31,
          32,
          33,
          34,
          35,
          36,
          37,
          38,
          39,
          40
         ],
         "xaxis": "x65",
         "y": [
          0,
          0,
          0,
          0,
          0,
          0,
          0,
          0,
          0,
          0,
          0,
          0,
          0,
          0,
          0,
          0,
          0,
          48.016795584068,
          203.07420479156,
          538.093116023721,
          1161.62610623524,
          2209.53584707674,
          3818.31162073133,
          6084.88404679727,
          9026.05006255951,
          12554.7723347501,
          16485.1421836954,
          20566.8906589607,
          24538.2616781365,
          28178.3262700887,
          31341.5165111066,
          33966.8359934681,
          36064.9180121714,
          37691.0402141428,
          38918.7166892908,
          39825.2341969256,
          40487.2530653854,
          40985.8983786393,
          41398.0353886315,
          41808.5483985359
         ],
         "yaxis": "y65"
        },
        {
         "line": {
          "color": "rgb(253,180,98)"
         },
         "mode": "lines+text",
         "name": "F06",
         "text": [
          "",
          "",
          "",
          "",
          "",
          "",
          "",
          "",
          "",
          "",
          "",
          "",
          "",
          "",
          "",
          "",
          "",
          "",
          "",
          "",
          "",
          "",
          "",
          "",
          "",
          "",
          "",
          "",
          "",
          "",
          "",
          "",
          "40798.9",
          "",
          "",
          "",
          "",
          "",
          "",
          ""
         ],
         "textfont": {
          "color": "black",
          "family": "sans serif",
          "size": 8
         },
         "textposition": "top left",
         "type": "scatter",
         "x": [
          1,
          2,
          3,
          4,
          5,
          6,
          7,
          8,
          9,
          10,
          11,
          12,
          13,
          14,
          15,
          16,
          17,
          18,
          19,
          20,
          21,
          22,
          23,
          24,
          25,
          26,
          27,
          28,
          29,
          30,
          31,
          32,
          33,
          34,
          35,
          36,
          37,
          38,
          39,
          40
         ],
         "xaxis": "x66",
         "y": [
          0,
          0,
          0,
          0,
          0,
          0,
          0,
          0,
          0,
          0,
          0,
          0,
          0,
          0,
          0,
          0,
          0,
          45.4382261786911,
          192.876292276376,
          512.184044270701,
          1108.41435546253,
          2114.94006497845,
          3669.27941618314,
          5874.6366024998,
          8758.77469821148,
          12248.1254868503,
          16168.8255747064,
          20276.650053366,
          24307.1328756514,
          28027.7250764843,
          31274.4568788384,
          33965.4658714768,
          36093.2837881302,
          37701.8783472046,
          38868.5982475934,
          39663.0261586903,
          40161.4089082664,
          40447.304382514,
          40623.1246133556,
          40798.9448441971
         ],
         "yaxis": "y66"
        },
        {
         "line": {
          "color": "rgb(179,222,105)"
         },
         "mode": "lines+text",
         "name": "F07",
         "text": [
          "",
          "",
          "",
          "",
          "",
          "",
          "",
          "",
          "",
          "",
          "",
          "",
          "",
          "",
          "",
          "",
          "",
          "",
          "",
          "",
          "",
          "",
          "",
          "",
          "",
          "",
          "",
          "",
          "",
          "",
          "",
          "",
          "50082.9",
          "",
          "",
          "",
          "",
          "",
          "",
          ""
         ],
         "textfont": {
          "color": "black",
          "family": "sans serif",
          "size": 8
         },
         "textposition": "top left",
         "type": "scatter",
         "x": [
          1,
          2,
          3,
          4,
          5,
          6,
          7,
          8,
          9,
          10,
          11,
          12,
          13,
          14,
          15,
          16,
          17,
          18,
          19,
          20,
          21,
          22,
          23,
          24,
          25,
          26,
          27,
          28,
          29,
          30,
          31,
          32,
          33,
          34,
          35,
          36,
          37,
          38,
          39,
          40
         ],
         "xaxis": "x67",
         "y": [
          0,
          0,
          0,
          0,
          0,
          0,
          0,
          0,
          0,
          0,
          0,
          0,
          0,
          0,
          0,
          0,
          0,
          59.9474872564238,
          253.740710624381,
          669.180403391465,
          1433.84761397906,
          2704.70111707029,
          4636.09652998628,
          7333.60827137603,
          10808.6801227161,
          14952.7277822354,
          19545.9275157004,
          24299.0819491191,
          28914.5245707821,
          33145.2596104435,
          36832.722907803,
          39914.3781457898,
          42407.3185214271,
          44378.5606415979,
          45918.5758463805,
          47112.5330458229,
          48040.2217799325,
          48786.7899081136,
          49434.8662169161,
          50082.9425257186
         ],
         "yaxis": "y67"
        },
        {
         "line": {
          "color": "rgb(252,205,229)"
         },
         "mode": "lines+text",
         "name": "F08",
         "text": [
          "",
          "",
          "",
          "",
          "",
          "",
          "",
          "",
          "",
          "",
          "",
          "",
          "",
          "",
          "",
          "",
          "",
          "",
          "",
          "",
          "",
          "",
          "",
          "",
          "",
          "",
          "",
          "",
          "",
          "",
          "",
          "",
          "46929.1",
          "",
          "",
          "",
          "",
          "",
          "",
          ""
         ],
         "textfont": {
          "color": "black",
          "family": "sans serif",
          "size": 8
         },
         "textposition": "top left",
         "type": "scatter",
         "x": [
          1,
          2,
          3,
          4,
          5,
          6,
          7,
          8,
          9,
          10,
          11,
          12,
          13,
          14,
          15,
          16,
          17,
          18,
          19,
          20,
          21,
          22,
          23,
          24,
          25,
          26,
          27,
          28,
          29,
          30,
          31,
          32,
          33,
          34,
          35,
          36,
          37,
          38,
          39,
          40
         ],
         "xaxis": "x68",
         "y": [
          0,
          0,
          0,
          0,
          0,
          0,
          0,
          0,
          0,
          0,
          0,
          0,
          0,
          0,
          0,
          0,
          0,
          42.39388845263,
          178.734571993883,
          475.149185355188,
          1035.96398980636,
          2000.95046592949,
          3523.41380765774,
          5730.75270434841,
          8679.13254655575,
          12319.0849313634,
          16487.8111625119,
          20935.3811072053,
          25376.7031208741,
          29550.411157847,
          33265.4401663787,
          36421.9454973638,
          39004.4196030395,
          41057.8852224998,
          42662.0222941746,
          43900.3438409586,
          44854.678476621,
          45616.6359333075,
          46272.8611462388,
          46929.0863591701
         ],
         "yaxis": "y68"
        },
        {
         "line": {
          "color": "rgb(217,217,217)"
         },
         "mode": "lines+text",
         "name": "F09",
         "text": [
          "",
          "",
          "",
          "",
          "",
          "",
          "",
          "",
          "",
          "",
          "",
          "",
          "",
          "",
          "",
          "",
          "",
          "",
          "",
          "",
          "",
          "",
          "",
          "",
          "",
          "",
          "",
          "",
          "",
          "",
          "",
          "",
          "41431.0",
          "",
          "",
          "",
          "",
          "",
          "",
          ""
         ],
         "textfont": {
          "color": "black",
          "family": "sans serif",
          "size": 8
         },
         "textposition": "top left",
         "type": "scatter",
         "x": [
          1,
          2,
          3,
          4,
          5,
          6,
          7,
          8,
          9,
          10,
          11,
          12,
          13,
          14,
          15,
          16,
          17,
          18,
          19,
          20,
          21,
          22,
          23,
          24,
          25,
          26,
          27,
          28,
          29,
          30,
          31,
          32,
          33,
          34,
          35,
          36,
          37,
          38,
          39,
          40
         ],
         "xaxis": "x69",
         "y": [
          0,
          0,
          0,
          0,
          0,
          0,
          0,
          0,
          0,
          0,
          0,
          0,
          0,
          0,
          0,
          0,
          0,
          40.0496373681329,
          172.286426391321,
          461.802946683691,
          1008.16826082165,
          1940.37219457505,
          3394.13934751707,
          5474.29071985101,
          8213.92480639481,
          11547.1015551031,
          15308.0376887385,
          19260.3225925149,
          23147.2982534084,
          26744.9980121837,
          29899.6843824043,
          32541.3862822842,
          34674.2108006827,
          36352.6759444336,
          37656.1020044692,
          38669.1272456152,
          39472.3915503094,
          40125.2671817845,
          40778.1428132597,
          41431.0184447349
         ],
         "yaxis": "y69"
        },
        {
         "line": {
          "color": "rgb(188,128,189)"
         },
         "mode": "lines+text",
         "name": "F10",
         "text": [
          "",
          "",
          "",
          "",
          "",
          "",
          "",
          "",
          "",
          "",
          "",
          "",
          "",
          "",
          "",
          "",
          "",
          "",
          "",
          "",
          "",
          "",
          "",
          "",
          "",
          "",
          "",
          "",
          "",
          "",
          "",
          "",
          "43647.9",
          "",
          "",
          "",
          "",
          "",
          "",
          ""
         ],
         "textfont": {
          "color": "black",
          "family": "sans serif",
          "size": 8
         },
         "textposition": "top left",
         "type": "scatter",
         "x": [
          1,
          2,
          3,
          4,
          5,
          6,
          7,
          8,
          9,
          10,
          11,
          12,
          13,
          14,
          15,
          16,
          17,
          18,
          19,
          20,
          21,
          22,
          23,
          24,
          25,
          26,
          27,
          28,
          29,
          30,
          31,
          32,
          33,
          34,
          35,
          36,
          37,
          38,
          39,
          40
         ],
         "xaxis": "x70",
         "y": [
          0,
          0,
          0,
          0,
          0,
          0,
          0,
          0,
          0,
          0,
          0,
          0,
          0,
          0,
          0,
          0,
          0,
          43.0179134651219,
          185.522613282452,
          497.670165424936,
          1086.1180204902,
          2087.91452355536,
          3646.04831859057,
          5869.51584515297,
          8789.89332827703,
          12333.4169993453,
          16321.3703199691,
          20501.7001885849,
          24602.5717389054,
          28388.5533168633,
          31699.3024854241,
          34463.4834808332,
          36690.2215843366,
          38441.2367186206,
          39806.0809736285,
          40865.4965304232,
          41703.9703874007,
          42393.6992138929,
          43020.8240068808,
          43647.9487998687
         ],
         "yaxis": "y70"
        },
        {
         "line": {
          "color": "rgb(204,235,197)"
         },
         "mode": "lines+text",
         "name": "F11",
         "text": [
          "",
          "",
          "",
          "",
          "",
          "",
          "",
          "",
          "",
          "",
          "",
          "",
          "",
          "",
          "",
          "",
          "",
          "",
          "",
          "",
          "",
          "",
          "",
          "",
          "",
          "",
          "",
          "",
          "",
          "",
          "",
          "",
          "45737.0",
          "",
          "",
          "",
          "",
          "",
          "",
          ""
         ],
         "textfont": {
          "color": "black",
          "family": "sans serif",
          "size": 8
         },
         "textposition": "top left",
         "type": "scatter",
         "x": [
          1,
          2,
          3,
          4,
          5,
          6,
          7,
          8,
          9,
          10,
          11,
          12,
          13,
          14,
          15,
          16,
          17,
          18,
          19,
          20,
          21,
          22,
          23,
          24,
          25,
          26,
          27,
          28,
          29,
          30,
          31,
          32,
          33,
          34,
          35,
          36,
          37,
          38,
          39,
          40
         ],
         "xaxis": "x71",
         "y": [
          0,
          0,
          0,
          0,
          0,
          0,
          0,
          0,
          0,
          0,
          0,
          0,
          0,
          0,
          0,
          0,
          0,
          40.1959787602456,
          175.561738490417,
          475.3751159968,
          1047.21410774075,
          2032.79914245703,
          3584.73793759305,
          5825.58426801235,
          8801.71553201533,
          12450.4550919642,
          16595.9325613242,
          20978.7327099238,
          25311.0408025975,
          29336.8470863766,
          32876.4544409754,
          35844.5003915342,
          38241.8421481199,
          40128.2077088119,
          41591.9121880848,
          42728.3114124123,
          43627.6136759842,
          44380.4002724634,
          45059.0762167767,
          45737.0003552215
         ],
         "yaxis": "y71"
        },
        {
         "line": {
          "color": "rgb(255,237,111)"
         },
         "mode": "lines+text",
         "name": "F12",
         "text": [
          "",
          "",
          "",
          "",
          "",
          "",
          "",
          "",
          "",
          "",
          "",
          "",
          "",
          "",
          "",
          "",
          "",
          "",
          "",
          "",
          "",
          "",
          "",
          "",
          "",
          "",
          "",
          "",
          "",
          "",
          "",
          "",
          "46457.1",
          "",
          "",
          "",
          "",
          "",
          "",
          ""
         ],
         "textfont": {
          "color": "black",
          "family": "sans serif",
          "size": 8
         },
         "textposition": "top left",
         "type": "scatter",
         "x": [
          1,
          2,
          3,
          4,
          5,
          6,
          7,
          8,
          9,
          10,
          11,
          12,
          13,
          14,
          15,
          16,
          17,
          18,
          19,
          20,
          21,
          22,
          23,
          24,
          25,
          26,
          27,
          28,
          29,
          30,
          31,
          32,
          33,
          34,
          35,
          36,
          37,
          38,
          39,
          40
         ],
         "xaxis": "x72",
         "y": [
          0,
          0,
          0,
          0,
          0,
          0,
          0,
          0,
          0,
          0,
          0,
          0,
          0,
          0,
          0,
          0,
          0,
          50.305379061609,
          215.619652923774,
          574.507600836086,
          1242.8596070412,
          2365.34152772401,
          4087.6356807228,
          6513.93569588612,
          9664.03844605985,
          13448.0378390441,
          17670.829851476,
          22068.1158792912,
          26362.2080705795,
          30317.6150730097,
          33778.0605870345,
          36677.3220398293,
          39027.0389885292,
          40888.9749674494,
          42350.2557179988,
          43492.1763410377,
          44394.701238812,
          45135.5885952046,
          45796.3223265847,
          46457.0560579649
         ],
         "yaxis": "y72"
        },
        {
         "line": {
          "color": "rgb(141,211,199)"
         },
         "mode": "lines+text",
         "name": "G01",
         "text": [
          "",
          "",
          "",
          "",
          "",
          "",
          "",
          "",
          "",
          "",
          "",
          "",
          "",
          "",
          "",
          "",
          "",
          "",
          "",
          "",
          "",
          "",
          "",
          "",
          "",
          "",
          "",
          "",
          "",
          "",
          "",
          "",
          "51436.4",
          "",
          "",
          "",
          "",
          "",
          "",
          ""
         ],
         "textfont": {
          "color": "black",
          "family": "sans serif",
          "size": 8
         },
         "textposition": "top left",
         "type": "scatter",
         "x": [
          1,
          2,
          3,
          4,
          5,
          6,
          7,
          8,
          9,
          10,
          11,
          12,
          13,
          14,
          15,
          16,
          17,
          18,
          19,
          20,
          21,
          22,
          23,
          24,
          25,
          26,
          27,
          28,
          29,
          30,
          31,
          32,
          33,
          34,
          35,
          36,
          37,
          38,
          39,
          40
         ],
         "xaxis": "x73",
         "y": [
          0,
          87.8362289455163,
          253.074049364493,
          572.840773440869,
          1161.04918723866,
          2157.8934754085,
          3705.58509301101,
          5913.83596377282,
          8823.59220044465,
          12383.0425912364,
          16446.7692292934,
          20799.7276112266,
          25199.09600128,
          29420.0761425376,
          33290.6446088099,
          36707.3572907995,
          39632.3916215876,
          42078.3502240229,
          44089.0671493891,
          45722.7497366665,
          47040.2655878643,
          48097.9748519538,
          48943.9107126511,
          49616.4327108544,
          50145.063752252,
          50552.4372878747,
          50857.34753161,
          51077.1470322711,
          51228.7893535613,
          51328.3951588576,
          51390.1012675415,
          51422.6028670819,
          51436.5926340171,
          51440.8319210902,
          51440.8742780828,
          51439.6448489534,
          51438.4027127262,
          51437.7321098178,
          51437.0615069094,
          51436.390904001
         ],
         "yaxis": "y73"
        },
        {
         "line": {
          "color": "rgb(255,255,179)"
         },
         "mode": "lines+text",
         "name": "G02",
         "text": [
          "",
          "",
          "",
          "",
          "",
          "",
          "",
          "",
          "",
          "",
          "",
          "",
          "",
          "",
          "",
          "",
          "",
          "",
          "",
          "",
          "",
          "",
          "",
          "",
          "",
          "",
          "",
          "",
          "",
          "",
          "",
          "",
          "48340.2",
          "",
          "",
          "",
          "",
          "",
          "",
          ""
         ],
         "textfont": {
          "color": "black",
          "family": "sans serif",
          "size": 8
         },
         "textposition": "top left",
         "type": "scatter",
         "x": [
          1,
          2,
          3,
          4,
          5,
          6,
          7,
          8,
          9,
          10,
          11,
          12,
          13,
          14,
          15,
          16,
          17,
          18,
          19,
          20,
          21,
          22,
          23,
          24,
          25,
          26,
          27,
          28,
          29,
          30,
          31,
          32,
          33,
          34,
          35,
          36,
          37,
          38,
          39,
          40
         ],
         "xaxis": "x74",
         "y": [
          0,
          75.7473096004182,
          222.916375944471,
          516.104167781815,
          1064.89843177525,
          2003.94753661452,
          3469.56186598846,
          5566.67744650397,
          8334.35660874421,
          11722.4121083056,
          15590.7318856992,
          19732.5634717249,
          23914.4014430044,
          27919.9068106711,
          31583.5957652542,
          34806.0548785793,
          37551.6660587411,
          39834.7774955894,
          41700.7403891948,
          43208.9406535035,
          44420.6553984494,
          45390.9272274012,
          46164.7869007403,
          46777.1277824881,
          47254.193969098,
          47616.6265191539,
          47882.8937765666,
          48070.567265905,
          48196.5020113393,
          48276.2163030937,
          48319.4351817345,
          48338.739772849,
          48345.0787003712,
          48345.6262505591,
          48344.2721224903,
          48342.7537293652,
          48341.6415746607,
          48341.1571503992,
          48340.6727261377,
          48340.1883018762
         ],
         "yaxis": "y74"
        },
        {
         "line": {
          "color": "rgb(190,186,218)"
         },
         "mode": "lines+text",
         "name": "G03",
         "text": [
          "",
          "",
          "",
          "",
          "",
          "",
          "",
          "",
          "",
          "",
          "",
          "",
          "",
          "",
          "",
          "",
          "",
          "",
          "",
          "",
          "",
          "",
          "",
          "",
          "",
          "",
          "",
          "",
          "",
          "",
          "",
          "",
          "51047.6",
          "",
          "",
          "",
          "",
          "",
          "",
          ""
         ],
         "textfont": {
          "color": "black",
          "family": "sans serif",
          "size": 8
         },
         "textposition": "top left",
         "type": "scatter",
         "x": [
          1,
          2,
          3,
          4,
          5,
          6,
          7,
          8,
          9,
          10,
          11,
          12,
          13,
          14,
          15,
          16,
          17,
          18,
          19,
          20,
          21,
          22,
          23,
          24,
          25,
          26,
          27,
          28,
          29,
          30,
          31,
          32,
          33,
          34,
          35,
          36,
          37,
          38,
          39,
          40
         ],
         "xaxis": "x75",
         "y": [
          0,
          85.136508466644,
          246.234837316188,
          560.096448517041,
          1140.6792187729,
          2128.90793595873,
          3668.27203102409,
          5869.90028398008,
          8775.9919933394,
          12335.2356861009,
          16401.2981441624,
          20757.0893731645,
          25156.8443263542,
          29372.4259288212,
          33228.9676019363,
          36621.6654309241,
          39513.1113868107,
          41918.3838488467,
          43885.4869255954,
          45477.2008150787,
          46758.1354650204,
          47786.6861296096,
          48610.753784358,
          49267.0625362163,
          49783.2086198833,
          50180.5315167103,
          50477.4698051684,
          50691.8735082937,
          50840.9983763314,
          50940.4360978508,
          51002.5177389986,
          51034.7680636907,
          51048.3938960383,
          51052.3446309784,
          51052.2076162141,
          51050.8853809679,
          51049.6042501509,
          51048.9276533499,
          51048.2510565489,
          51047.5744597479
         ],
         "yaxis": "y75"
        },
        {
         "line": {
          "color": "rgb(251,128,114)"
         },
         "mode": "lines+text",
         "name": "G04",
         "text": [
          "",
          "",
          "",
          "",
          "",
          "",
          "",
          "",
          "",
          "",
          "",
          "",
          "",
          "",
          "",
          "",
          "",
          "",
          "",
          "",
          "",
          "",
          "",
          "",
          "",
          "",
          "",
          "",
          "",
          "",
          "",
          "",
          "47368.7",
          "",
          "",
          "",
          "",
          "",
          "",
          ""
         ],
         "textfont": {
          "color": "black",
          "family": "sans serif",
          "size": 8
         },
         "textposition": "top left",
         "type": "scatter",
         "x": [
          1,
          2,
          3,
          4,
          5,
          6,
          7,
          8,
          9,
          10,
          11,
          12,
          13,
          14,
          15,
          16,
          17,
          18,
          19,
          20,
          21,
          22,
          23,
          24,
          25,
          26,
          27,
          28,
          29,
          30,
          31,
          32,
          33,
          34,
          35,
          36,
          37,
          38,
          39,
          40
         ],
         "xaxis": "x76",
         "y": [
          0,
          0,
          0,
          0,
          0,
          26.0487130620588,
          133.047031716615,
          384.572801412604,
          873.854623728683,
          1719.63456954416,
          3048.69342204498,
          4966.15540084411,
          7521.89278133451,
          10685.4026346931,
          14339.3807895298,
          18296.5112334968,
          22335.1498547301,
          26241.5597542253,
          29845.3643100456,
          33039.3293547647,
          35780.4546490575,
          38077.0405471162,
          39969.9259966413,
          41514.3841899119,
          42767.0635816784,
          43779.3187110349,
          44594.8357501411,
          45249.4944620884,
          45772.4033809,
          46186.8273803415,
          46510.9713999069,
          46759.2823293262,
          46944.1621796924,
          47077.1696566147,
          47169.6884437255,
          47232.8002340969,
          47276.372643333,
          47307.1486031926,
          47337.9245630521,
          47368.7005229117
         ],
         "yaxis": "y76"
        },
        {
         "line": {
          "color": "rgb(128,177,211)"
         },
         "mode": "lines+text",
         "name": "G05",
         "text": [
          "",
          "",
          "",
          "",
          "",
          "",
          "",
          "",
          "",
          "",
          "",
          "",
          "",
          "",
          "",
          "",
          "",
          "",
          "",
          "",
          "",
          "",
          "",
          "",
          "",
          "",
          "",
          "",
          "",
          "",
          "",
          "",
          "47601.9",
          "",
          "",
          "",
          "",
          "",
          "",
          ""
         ],
         "textfont": {
          "color": "black",
          "family": "sans serif",
          "size": 8
         },
         "textposition": "top left",
         "type": "scatter",
         "x": [
          1,
          2,
          3,
          4,
          5,
          6,
          7,
          8,
          9,
          10,
          11,
          12,
          13,
          14,
          15,
          16,
          17,
          18,
          19,
          20,
          21,
          22,
          23,
          24,
          25,
          26,
          27,
          28,
          29,
          30,
          31,
          32,
          33,
          34,
          35,
          36,
          37,
          38,
          39,
          40
         ],
         "xaxis": "x77",
         "y": [
          0,
          0,
          0,
          0,
          0,
          25.9273398156018,
          132.545994362321,
          383.340192751464,
          871.589871894124,
          1716.21638663512,
          3044.23094964769,
          4961.3034048972,
          7518.31122497847,
          10686.0264302226,
          14348.4250517894,
          18319.2232491918,
          22377.0075786095,
          26307.3034819789,
          29938.3532279718,
          33161.3867812154,
          35932.0616693981,
          38257.8838057255,
          40179.3588246489,
          41751.4025030068,
          43029.9751779928,
          44065.5338255871,
          44900.6702842164,
          45570.1534232573,
          46102.4944574986,
          46521.2295187865,
          46845.5147688936,
          47091.3083676863,
          47272.4261893206,
          47400.9311317884,
          47487.5731892746,
          47541.7638620729,
          47572.2143741168,
          47587.1356930265,
          47594.5045411654,
          47601.8733893044
         ],
         "yaxis": "y77"
        },
        {
         "line": {
          "color": "rgb(253,180,98)"
         },
         "mode": "lines+text",
         "name": "G06",
         "text": [
          "",
          "",
          "",
          "",
          "",
          "",
          "",
          "",
          "",
          "",
          "",
          "",
          "",
          "",
          "",
          "",
          "",
          "",
          "",
          "",
          "",
          "",
          "",
          "",
          "",
          "",
          "",
          "",
          "",
          "",
          "",
          "",
          "45715.2",
          "",
          "",
          "",
          "",
          "",
          "",
          ""
         ],
         "textfont": {
          "color": "black",
          "family": "sans serif",
          "size": 8
         },
         "textposition": "top left",
         "type": "scatter",
         "x": [
          1,
          2,
          3,
          4,
          5,
          6,
          7,
          8,
          9,
          10,
          11,
          12,
          13,
          14,
          15,
          16,
          17,
          18,
          19,
          20,
          21,
          22,
          23,
          24,
          25,
          26,
          27,
          28,
          29,
          30,
          31,
          32,
          33,
          34,
          35,
          36,
          37,
          38,
          39,
          40
         ],
         "xaxis": "x78",
         "y": [
          0,
          0,
          0,
          0,
          0,
          25.7148952773587,
          132.562853478299,
          384.495243252138,
          874.762401135948,
          1721.35462092297,
          3048.98319807472,
          4959.19642967123,
          7497.33960184011,
          10628.3072195276,
          14231.3397014756,
          18118.0118899883,
          22068.378958679,
          25872.7107829704,
          29366.2554733817,
          32447.8418352195,
          35080.0484124157,
          37275.6760602043,
          39078.6626768331,
          40545.5224031907,
          41732.1464165888,
          42687.3740943136,
          43451.2690544398,
          44056.1250589644,
          44528.7097020339,
          44892.0150480227,
          45165.6272939554,
          45366.2712904015,
          45508.4012256828,
          45604.1292693907,
          45663.8908872902,
          45696.7154945183,
          45711.6116163765,
          45715.2047879299,
          45715.2047879299,
          45715.2047879299
         ],
         "yaxis": "y78"
        },
        {
         "line": {
          "color": "rgb(179,222,105)"
         },
         "mode": "lines+text",
         "name": "G07",
         "text": [
          "",
          "",
          "",
          "",
          "",
          "",
          "",
          "",
          "",
          "",
          "",
          "",
          "",
          "",
          "",
          "",
          "",
          "",
          "",
          "",
          "",
          "",
          "",
          "",
          "",
          "",
          "",
          "",
          "",
          "",
          "",
          "",
          "48175.1",
          "",
          "",
          "",
          "",
          "",
          "",
          ""
         ],
         "textfont": {
          "color": "black",
          "family": "sans serif",
          "size": 8
         },
         "textposition": "top left",
         "type": "scatter",
         "x": [
          1,
          2,
          3,
          4,
          5,
          6,
          7,
          8,
          9,
          10,
          11,
          12,
          13,
          14,
          15,
          16,
          17,
          18,
          19,
          20,
          21,
          22,
          23,
          24,
          25,
          26,
          27,
          28,
          29,
          30,
          31,
          32,
          33,
          34,
          35,
          36,
          37,
          38,
          39,
          40
         ],
         "xaxis": "x79",
         "y": [
          0,
          0,
          0,
          0,
          0,
          0,
          0,
          0,
          0,
          0,
          0,
          44.48745379924,
          188.297757576636,
          491.515212648622,
          1034.50560500685,
          1909.34139514939,
          3202.13256389277,
          4972.16890081413,
          7233.78159287195,
          9946.78673321073,
          13020.1977107574,
          16327.2693125452,
          19726.9429072257,
          23085.5009374199,
          26293.2849056918,
          29273.1175237132,
          31981.3016089489,
          34402.7860816121,
          36543.4923518183,
          38422.4411362275,
          40064.9225305977,
          41497.626807068,
          42746.7085007517,
          43835.5416316754,
          44787.400310819,
          45615.578553457,
          46340.1090567103,
          46979.4493176525,
          47577.2642865161,
          48175.0792553798
         ],
         "yaxis": "y79"
        },
        {
         "line": {
          "color": "rgb(252,205,229)"
         },
         "mode": "lines+text",
         "name": "G08",
         "text": [
          "",
          "",
          "",
          "",
          "",
          "",
          "",
          "",
          "",
          "",
          "",
          "",
          "",
          "",
          "",
          "",
          "",
          "",
          "",
          "",
          "",
          "",
          "",
          "",
          "",
          "",
          "",
          "",
          "",
          "",
          "",
          "",
          "50672.1",
          "",
          "",
          "",
          "",
          "",
          "",
          ""
         ],
         "textfont": {
          "color": "black",
          "family": "sans serif",
          "size": 8
         },
         "textposition": "top left",
         "type": "scatter",
         "x": [
          1,
          2,
          3,
          4,
          5,
          6,
          7,
          8,
          9,
          10,
          11,
          12,
          13,
          14,
          15,
          16,
          17,
          18,
          19,
          20,
          21,
          22,
          23,
          24,
          25,
          26,
          27,
          28,
          29,
          30,
          31,
          32,
          33,
          34,
          35,
          36,
          37,
          38,
          39,
          40
         ],
         "xaxis": "x80",
         "y": [
          0,
          0,
          0,
          0,
          0,
          0,
          0,
          0,
          0,
          0,
          0,
          61.2461234972213,
          260.092672699637,
          681.060910935522,
          1437.3785058073,
          2657.94049828386,
          4460.16007030905,
          6915.5029064264,
          10020.1364486172,
          13682.5642410719,
          17733.6762235503,
          21957.4460415675,
          26131.9619518553,
          30066.5904839808,
          33626.5727644267,
          36740.9514924474,
          39394.9035008302,
          41614.243193571,
          43448.4904175416,
          44955.5037192066,
          46191.1031403885,
          47203.7576637239,
          48032.0933493919,
          48704.6925765049,
          49245.6436261133,
          49666.2689887973,
          49982.3838918905,
          50212.2773468933,
          50442.1708018961,
          50672.0642568989
         ],
         "yaxis": "y80"
        },
        {
         "line": {
          "color": "rgb(217,217,217)"
         },
         "mode": "lines+text",
         "name": "G09",
         "text": [
          "",
          "",
          "",
          "",
          "",
          "",
          "",
          "",
          "",
          "",
          "",
          "",
          "",
          "",
          "",
          "",
          "",
          "",
          "",
          "",
          "",
          "",
          "",
          "",
          "",
          "",
          "",
          "",
          "",
          "",
          "",
          "",
          "44685.0",
          "",
          "",
          "",
          "",
          "",
          "",
          ""
         ],
         "textfont": {
          "color": "black",
          "family": "sans serif",
          "size": 8
         },
         "textposition": "top left",
         "type": "scatter",
         "x": [
          1,
          2,
          3,
          4,
          5,
          6,
          7,
          8,
          9,
          10,
          11,
          12,
          13,
          14,
          15,
          16,
          17,
          18,
          19,
          20,
          21,
          22,
          23,
          24,
          25,
          26,
          27,
          28,
          29,
          30,
          31,
          32,
          33,
          34,
          35,
          36,
          37,
          38,
          39,
          40
         ],
         "xaxis": "x81",
         "y": [
          0,
          0,
          0,
          0,
          0,
          0,
          0,
          0,
          0,
          0,
          0,
          57.1153595206487,
          241.850803181084,
          631.579958278886,
          1328.95247728026,
          2449.45201088465,
          4096.31537642152,
          6329.45450473063,
          9139.5281035657,
          12438.0971059518,
          16068.2064428965,
          19833.1822473032,
          23534.2372528179,
          27004.0181817569,
          30127.3643423486,
          32846.9712651841,
          35155.2752836735,
          37079.0755464268,
          38663.7410675587,
          39960.3252364415,
          41017.1142557596,
          41875.5985766539,
          42569.5116732169,
          43125.0906228966,
          43562.7469226862,
          43900.388714222,
          44157.2401296117,
          44354.7714302046,
          44520.2222213271,
          44685.0432347684
         ],
         "yaxis": "y81"
        },
        {
         "line": {
          "color": "rgb(188,128,189)"
         },
         "mode": "lines+text",
         "name": "G10",
         "text": [
          "",
          "",
          "",
          "",
          "",
          "",
          "",
          "",
          "",
          "",
          "",
          "",
          "",
          "",
          "",
          "",
          "",
          "",
          "",
          "",
          "",
          "",
          "",
          "",
          "",
          "",
          "",
          "",
          "",
          "",
          "",
          "",
          "45277.3",
          "",
          "",
          "",
          "",
          "",
          "",
          ""
         ],
         "textfont": {
          "color": "black",
          "family": "sans serif",
          "size": 8
         },
         "textposition": "top left",
         "type": "scatter",
         "x": [
          1,
          2,
          3,
          4,
          5,
          6,
          7,
          8,
          9,
          10,
          11,
          12,
          13,
          14,
          15,
          16,
          17,
          18,
          19,
          20,
          21,
          22,
          23,
          24,
          25,
          26,
          27,
          28,
          29,
          30,
          31,
          32,
          33,
          34,
          35,
          36,
          37,
          38,
          39,
          40
         ],
         "xaxis": "x82",
         "y": [
          0,
          0,
          0,
          0,
          0,
          0,
          0,
          0,
          0,
          0,
          0,
          0,
          0,
          0,
          0,
          65.0172519081214,
          267.404407423142,
          686.427534366006,
          1426.88069800783,
          2606.85812979601,
          4331.82908755457,
          6662.44666400451,
          9587.61306586801,
          13013.9027378075,
          16776.1961992816,
          20668.4157283096,
          24483.8153576548,
          28050.20855722,
          31251.5357809895,
          34032.9984557481,
          36391.1855878654,
          38356.1843379831,
          39974.16697931,
          41293.7577446244,
          42361.5286308718,
          43212.2795368912,
          43877.4247328689,
          44401.4248089659,
          44839.3540851223,
          45277.2833612786
         ],
         "yaxis": "y82"
        },
        {
         "line": {
          "color": "rgb(204,235,197)"
         },
         "mode": "lines+text",
         "name": "G11",
         "text": [
          "",
          "",
          "",
          "",
          "",
          "",
          "",
          "",
          "",
          "",
          "",
          "",
          "",
          "",
          "",
          "",
          "",
          "",
          "",
          "",
          "",
          "",
          "",
          "",
          "",
          "",
          "",
          "",
          "",
          "",
          "",
          "",
          "46722.9",
          "",
          "",
          "",
          "",
          "",
          "",
          ""
         ],
         "textfont": {
          "color": "black",
          "family": "sans serif",
          "size": 8
         },
         "textposition": "top left",
         "type": "scatter",
         "x": [
          1,
          2,
          3,
          4,
          5,
          6,
          7,
          8,
          9,
          10,
          11,
          12,
          13,
          14,
          15,
          16,
          17,
          18,
          19,
          20,
          21,
          22,
          23,
          24,
          25,
          26,
          27,
          28,
          29,
          30,
          31,
          32,
          33,
          34,
          35,
          36,
          37,
          38,
          39,
          40
         ],
         "xaxis": "x83",
         "y": [
          0,
          0,
          0,
          0,
          0,
          0,
          0,
          0,
          0,
          0,
          0,
          0,
          0,
          0,
          0,
          62.7811587027018,
          259.424501499347,
          669.223279833166,
          1398.88400523574,
          2570.18678986557,
          4293.76431144756,
          6636.13416790275,
          9591.43007766205,
          13069.2960869722,
          16905.329181286,
          20891.5581281149,
          24816.3169709354,
          28500.3854723649,
          31820.0279130037,
          34712.583344601,
          37167.9360827511,
          39212.7110171212,
          40893.696076509,
          42263.655961967,
          43373.2382877274,
          44270.001869047,
          45001.1841839805,
          45616.6693104153,
          46170.3199012885,
          46722.8619439842
         ],
         "yaxis": "y83"
        },
        {
         "line": {
          "color": "rgb(255,237,111)"
         },
         "mode": "lines+text",
         "name": "G12",
         "text": [
          "",
          "",
          "",
          "",
          "",
          "",
          "",
          "",
          "",
          "",
          "",
          "",
          "",
          "",
          "",
          "",
          "",
          "",
          "",
          "",
          "",
          "",
          "",
          "",
          "",
          "",
          "",
          "",
          "",
          "",
          "",
          "",
          "44985.4",
          "",
          "",
          "",
          "",
          "",
          "",
          ""
         ],
         "textfont": {
          "color": "black",
          "family": "sans serif",
          "size": 8
         },
         "textposition": "top left",
         "type": "scatter",
         "x": [
          1,
          2,
          3,
          4,
          5,
          6,
          7,
          8,
          9,
          10,
          11,
          12,
          13,
          14,
          15,
          16,
          17,
          18,
          19,
          20,
          21,
          22,
          23,
          24,
          25,
          26,
          27,
          28,
          29,
          30,
          31,
          32,
          33,
          34,
          35,
          36,
          37,
          38,
          39,
          40
         ],
         "xaxis": "x84",
         "y": [
          0,
          0,
          0,
          0,
          0,
          0,
          0,
          0,
          0,
          0,
          0,
          0,
          0,
          0,
          32.7611564265717,
          145.353595603521,
          394.670223001756,
          866.120228010617,
          1670.72800375844,
          2928.7242935258,
          4741.51492501659,
          7159.88429371849,
          10159.2558403912,
          13632.4993080557,
          17405.3123836102,
          21269.03245,
          25020.4139014303,
          28495.6348270929,
          31588.969510079,
          34254.6435036055,
          36495.8048879472,
          38347.3474749893,
          39860.0432548779,
          41087.5624747243,
          42082.5058226041,
          42882.2346415159,
          43526.2916661136,
          44052.1682449991,
          44518.7816754289,
          44985.3951058587
         ],
         "yaxis": "y84"
        },
        {
         "line": {
          "color": "rgb(141,211,199)"
         },
         "mode": "lines+text",
         "name": "H01",
         "text": [
          "",
          "",
          "",
          "",
          "",
          "",
          "",
          "",
          "",
          "",
          "",
          "",
          "",
          "",
          "",
          "",
          "",
          "",
          "",
          "",
          "",
          "",
          "",
          "",
          "",
          "",
          "",
          "",
          "",
          "",
          "",
          "",
          "46302.9",
          "",
          "",
          "",
          "",
          "",
          "",
          ""
         ],
         "textfont": {
          "color": "black",
          "family": "sans serif",
          "size": 8
         },
         "textposition": "top left",
         "type": "scatter",
         "x": [
          1,
          2,
          3,
          4,
          5,
          6,
          7,
          8,
          9,
          10,
          11,
          12,
          13,
          14,
          15,
          16,
          17,
          18,
          19,
          20,
          21,
          22,
          23,
          24,
          25,
          26,
          27,
          28,
          29,
          30,
          31,
          32,
          33,
          34,
          35,
          36,
          37,
          38,
          39,
          40
         ],
         "xaxis": "x85",
         "y": [
          0,
          0,
          0,
          0,
          0,
          0,
          0,
          0,
          0,
          0,
          0,
          0,
          0,
          0,
          0,
          0,
          0,
          0,
          37.0137592564847,
          158.12848642994,
          420.793541185676,
          911.940331380868,
          1744.76874205398,
          3042.14961635237,
          4908.58282789049,
          7398.09111531942,
          10489.5389674213,
          14079.5472430823,
          17996.7867440434,
          22033.6962837322,
          25984.9500434355,
          29680.6135031785,
          33006.8762092573,
          35906.5520597151,
          38379.8021418402,
          40435.1902919384,
          42127.1716033753,
          43519.0920530623,
          44911.0125027493,
          46302.9329524364
         ],
         "yaxis": "y85"
        },
        {
         "line": {
          "color": "rgb(255,255,179)"
         },
         "mode": "lines+text",
         "name": "H02",
         "text": [
          "",
          "",
          "",
          "",
          "",
          "",
          "",
          "",
          "",
          "",
          "",
          "",
          "",
          "",
          "",
          "",
          "",
          "",
          "",
          "",
          "",
          "",
          "",
          "",
          "",
          "",
          "",
          "",
          "",
          "",
          "",
          "",
          "47743.6",
          "",
          "",
          "",
          "",
          "",
          "",
          ""
         ],
         "textfont": {
          "color": "black",
          "family": "sans serif",
          "size": 8
         },
         "textposition": "top left",
         "type": "scatter",
         "x": [
          1,
          2,
          3,
          4,
          5,
          6,
          7,
          8,
          9,
          10,
          11,
          12,
          13,
          14,
          15,
          16,
          17,
          18,
          19,
          20,
          21,
          22,
          23,
          24,
          25,
          26,
          27,
          28,
          29,
          30,
          31,
          32,
          33,
          34,
          35,
          36,
          37,
          38,
          39,
          40
         ],
         "xaxis": "x86",
         "y": [
          0,
          0,
          0,
          0,
          0,
          0,
          0,
          0,
          0,
          0,
          0,
          0,
          0,
          0,
          0,
          0,
          0,
          0,
          0,
          51.1848394796826,
          212.725870732532,
          554.931750811161,
          1179.73528973608,
          2213.42911017396,
          3784.53424819286,
          5990.75148766543,
          8864.95927404137,
          12353.6145389576,
          16316.1140410338,
          20547.562982877,
          24817.6606850675,
          28912.8143624814,
          32670.577105446,
          35991.6102950295,
          38849.2775283753,
          41235.1904656219,
          43204.0125540299,
          44828.9060654301,
          46286.2579655271,
          47743.6098656241
         ],
         "yaxis": "y86"
        },
        {
         "line": {
          "color": "rgb(190,186,218)"
         },
         "mode": "lines+text",
         "name": "H03",
         "text": [
          "",
          "",
          "",
          "",
          "",
          "",
          "",
          "",
          "",
          "",
          "",
          "",
          "",
          "",
          "",
          "",
          "",
          "",
          "",
          "",
          "",
          "",
          "",
          "",
          "",
          "",
          "",
          "",
          "",
          "",
          "",
          "",
          "44338.2",
          "",
          "",
          "",
          "",
          "",
          "",
          ""
         ],
         "textfont": {
          "color": "black",
          "family": "sans serif",
          "size": 8
         },
         "textposition": "top left",
         "type": "scatter",
         "x": [
          1,
          2,
          3,
          4,
          5,
          6,
          7,
          8,
          9,
          10,
          11,
          12,
          13,
          14,
          15,
          16,
          17,
          18,
          19,
          20,
          21,
          22,
          23,
          24,
          25,
          26,
          27,
          28,
          29,
          30,
          31,
          32,
          33,
          34,
          35,
          36,
          37,
          38,
          39,
          40
         ],
         "xaxis": "x87",
         "y": [
          0,
          0,
          0,
          0,
          0,
          0,
          0,
          0,
          0,
          0,
          0,
          0,
          0,
          0,
          0,
          0,
          0,
          0,
          0,
          63.2006609139983,
          256.869265811311,
          657.549089756144,
          1369.8150513856,
          2514.80508403554,
          4204.56109243385,
          6509.0567966255,
          9427.38873847215,
          12874.1228791729,
          16687.934694932,
          20661.0360532363,
          24578.8553453453,
          28257.0353891809,
          31566.6623135622,
          34438.8194313811,
          36866.1745065234,
          38857.7163727547,
          40466.4262154887,
          41757.0060921667,
          43047.5859688447,
          44338.1658455227
         ],
         "yaxis": "y87"
        },
        {
         "line": {
          "color": "rgb(251,128,114)"
         },
         "mode": "lines+text",
         "name": "H04",
         "text": [
          "",
          "",
          "",
          "",
          "",
          "",
          "",
          "",
          "",
          "",
          "",
          "",
          "",
          "",
          "",
          "",
          "",
          "",
          "",
          "",
          "",
          "",
          "",
          "",
          "",
          "",
          "",
          "",
          "",
          "",
          "",
          "",
          "39099.5",
          "",
          "",
          "",
          "",
          "",
          "",
          ""
         ],
         "textfont": {
          "color": "black",
          "family": "sans serif",
          "size": 8
         },
         "textposition": "top left",
         "type": "scatter",
         "x": [
          1,
          2,
          3,
          4,
          5,
          6,
          7,
          8,
          9,
          10,
          11,
          12,
          13,
          14,
          15,
          16,
          17,
          18,
          19,
          20,
          21,
          22,
          23,
          24,
          25,
          26,
          27,
          28,
          29,
          30,
          31,
          32,
          33,
          34,
          35,
          36,
          37,
          38,
          39,
          40
         ],
         "xaxis": "x88",
         "y": [
          0,
          0,
          0,
          0,
          0,
          0,
          0,
          0,
          0,
          0,
          0,
          0,
          0,
          0,
          0,
          0,
          0,
          0,
          0,
          0,
          0,
          0,
          44.5921044446687,
          184.537347032382,
          481.208657445998,
          1025.22903473132,
          1931.1535175324,
          3318.26885296447,
          5280.40606353243,
          7854.09748832707,
          10996.7585022214,
          14583.2797734218,
          18426.2077413017,
          22306.0557169179,
          26035.2629414631,
          29408.5522601127,
          32331.5120037908,
          34768.4277715733,
          36933.9753726448,
          39099.5229737162
         ],
         "yaxis": "y88"
        },
        {
         "line": {
          "color": "rgb(128,177,211)"
         },
         "mode": "lines+text",
         "name": "H05",
         "text": [
          "",
          "",
          "",
          "",
          "",
          "",
          "",
          "",
          "",
          "",
          "",
          "",
          "",
          "",
          "",
          "",
          "",
          "",
          "",
          "",
          "",
          "",
          "",
          "",
          "",
          "",
          "",
          "",
          "",
          "",
          "",
          "",
          "38447.8",
          "",
          "",
          "",
          "",
          "",
          "",
          ""
         ],
         "textfont": {
          "color": "black",
          "family": "sans serif",
          "size": 8
         },
         "textposition": "top left",
         "type": "scatter",
         "x": [
          1,
          2,
          3,
          4,
          5,
          6,
          7,
          8,
          9,
          10,
          11,
          12,
          13,
          14,
          15,
          16,
          17,
          18,
          19,
          20,
          21,
          22,
          23,
          24,
          25,
          26,
          27,
          28,
          29,
          30,
          31,
          32,
          33,
          34,
          35,
          36,
          37,
          38,
          39,
          40
         ],
         "xaxis": "x89",
         "y": [
          0,
          0,
          0,
          0,
          0,
          0,
          0,
          0,
          0,
          0,
          0,
          0,
          0,
          0,
          0,
          0,
          0,
          0,
          0,
          0,
          0,
          0,
          46.4170360162901,
          183.935875011014,
          467.087297572115,
          976.631343555021,
          1815.59584731652,
          3092.87534396453,
          4897.21232561598,
          7269.63331253034,
          10183.5515639405,
          13539.7552430649,
          17181.668569657,
          20919.1028565614,
          24583.7649234197,
          27983.6107989829,
          31022.4621306803,
          33650.8940239674,
          36049.3377091784,
          38447.7813943894
         ],
         "yaxis": "y89"
        },
        {
         "line": {
          "color": "rgb(253,180,98)"
         },
         "mode": "lines+text",
         "name": "H06",
         "text": [
          "",
          "",
          "",
          "",
          "",
          "",
          "",
          "",
          "",
          "",
          "",
          "",
          "",
          "",
          "",
          "",
          "",
          "",
          "",
          "",
          "",
          "",
          "",
          "",
          "",
          "",
          "",
          "",
          "",
          "",
          "",
          "",
          "40718.9",
          "",
          "",
          "",
          "",
          "",
          "",
          ""
         ],
         "textfont": {
          "color": "black",
          "family": "sans serif",
          "size": 8
         },
         "textposition": "top left",
         "type": "scatter",
         "x": [
          1,
          2,
          3,
          4,
          5,
          6,
          7,
          8,
          9,
          10,
          11,
          12,
          13,
          14,
          15,
          16,
          17,
          18,
          19,
          20,
          21,
          22,
          23,
          24,
          25,
          26,
          27,
          28,
          29,
          30,
          31,
          32,
          33,
          34,
          35,
          36,
          37,
          38,
          39,
          40
         ],
         "xaxis": "x90",
         "y": [
          0,
          0,
          0,
          0,
          0,
          0,
          0,
          0,
          0,
          0,
          0,
          0,
          0,
          0,
          0,
          0,
          0,
          0,
          0,
          0,
          0,
          0,
          58.0803562786675,
          234.075194326969,
          598.368163847231,
          1250.98998258168,
          2312.47242182623,
          3899.80075544296,
          6093.58163524249,
          8906.7467156005,
          12266.8237893137,
          16020.6203730723,
          19962.2744127472,
          23867.5701481083,
          27557.094793356,
          30843.7486080837,
          33655.9210510427,
          36010.250348939,
          38364.5796468354,
          40718.9089447318
         ],
         "yaxis": "y90"
        },
        {
         "line": {
          "color": "rgb(179,222,105)"
         },
         "mode": "lines+text",
         "name": "H07",
         "text": [
          "",
          "",
          "",
          "",
          "",
          "",
          "",
          "",
          "",
          "",
          "",
          "",
          "",
          "",
          "",
          "",
          "",
          "",
          "",
          "",
          "",
          "",
          "",
          "",
          "",
          "",
          "",
          "",
          "",
          "",
          "",
          "",
          "29221.6",
          "",
          "",
          "",
          "",
          "",
          "",
          ""
         ],
         "textfont": {
          "color": "black",
          "family": "sans serif",
          "size": 8
         },
         "textposition": "top left",
         "type": "scatter",
         "x": [
          1,
          2,
          3,
          4,
          5,
          6,
          7,
          8,
          9,
          10,
          11,
          12,
          13,
          14,
          15,
          16,
          17,
          18,
          19,
          20,
          21,
          22,
          23,
          24,
          25,
          26,
          27,
          28,
          29,
          30,
          31,
          32,
          33,
          34,
          35,
          36,
          37,
          38,
          39,
          40
         ],
         "xaxis": "x91",
         "y": [
          0,
          0,
          0,
          0,
          0,
          0,
          0,
          0,
          0,
          0,
          0,
          0,
          0,
          0,
          0,
          0,
          0,
          0,
          0,
          0,
          0,
          0,
          0,
          0,
          0,
          0,
          55.0180259213134,
          213.209234660327,
          532.845402252163,
          1098.18999196112,
          2014.3164336459,
          3388.19996103943,
          5300.81658769154,
          7773.48868967496,
          10751.8856593987,
          14127.5508546723,
          17770.9237456576,
          21587.8318260135,
          25404.7399063694,
          29221.6479867252
         ],
         "yaxis": "y91"
        },
        {
         "line": {
          "color": "rgb(252,205,229)"
         },
         "mode": "lines+text",
         "name": "H08",
         "text": [
          "",
          "",
          "",
          "",
          "",
          "",
          "",
          "",
          "",
          "",
          "",
          "",
          "",
          "",
          "",
          "",
          "",
          "",
          "",
          "",
          "",
          "",
          "",
          "",
          "",
          "",
          "",
          "",
          "",
          "",
          "",
          "",
          "27851.3",
          "",
          "",
          "",
          "",
          "",
          "",
          ""
         ],
         "textfont": {
          "color": "black",
          "family": "sans serif",
          "size": 8
         },
         "textposition": "top left",
         "type": "scatter",
         "x": [
          1,
          2,
          3,
          4,
          5,
          6,
          7,
          8,
          9,
          10,
          11,
          12,
          13,
          14,
          15,
          16,
          17,
          18,
          19,
          20,
          21,
          22,
          23,
          24,
          25,
          26,
          27,
          28,
          29,
          30,
          31,
          32,
          33,
          34,
          35,
          36,
          37,
          38,
          39,
          40
         ],
         "xaxis": "x92",
         "y": [
          0,
          0,
          0,
          0,
          0,
          0,
          0,
          0,
          0,
          0,
          0,
          0,
          0,
          0,
          0,
          0,
          0,
          0,
          0,
          0,
          0,
          0,
          0,
          0,
          0,
          0,
          58.3673903460742,
          224.246657954502,
          556.659825775578,
          1139.87911396435,
          2077.52495326835,
          3472.63773937223,
          5399.54731981,
          7868.87021575365,
          10836.5601751162,
          14125.5961649674,
          17583.0732476354,
          21010.2039648962,
          24430.7539965873,
          27851.3040282785
         ],
         "yaxis": "y92"
        },
        {
         "line": {
          "color": "rgb(217,217,217)"
         },
         "mode": "lines+text",
         "name": "H09",
         "text": [
          "",
          "",
          "",
          "",
          "",
          "",
          "",
          "",
          "",
          "",
          "",
          "",
          "",
          "",
          "",
          "",
          "",
          "",
          "",
          "",
          "",
          "",
          "",
          "",
          "",
          "",
          "",
          "",
          "",
          "",
          "",
          "",
          "28875.0",
          "",
          "",
          "",
          "",
          "",
          "",
          ""
         ],
         "textfont": {
          "color": "black",
          "family": "sans serif",
          "size": 8
         },
         "textposition": "top left",
         "type": "scatter",
         "x": [
          1,
          2,
          3,
          4,
          5,
          6,
          7,
          8,
          9,
          10,
          11,
          12,
          13,
          14,
          15,
          16,
          17,
          18,
          19,
          20,
          21,
          22,
          23,
          24,
          25,
          26,
          27,
          28,
          29,
          30,
          31,
          32,
          33,
          34,
          35,
          36,
          37,
          38,
          39,
          40
         ],
         "xaxis": "x93",
         "y": [
          0,
          0,
          0,
          0,
          0,
          0,
          0,
          0,
          0,
          0,
          0,
          0,
          0,
          0,
          0,
          0,
          0,
          0,
          0,
          0,
          0,
          0,
          0,
          0,
          0,
          0,
          63.5277742262587,
          243.143854718798,
          601.437239147779,
          1226.54948423818,
          2224.51183805549,
          3696.99171029489,
          5712.4648047302,
          8269.02031236429,
          11280.5284107299,
          14610.4848771625,
          18115.5419638492,
          21702.0178517616,
          25288.4937396741,
          28874.9696275865
         ],
         "yaxis": "y93"
        },
        {
         "line": {
          "color": "rgb(188,128,189)"
         },
         "mode": "lines+text",
         "name": "H10",
         "text": [
          "",
          "",
          "",
          "",
          "",
          "",
          "",
          "",
          "",
          "",
          "",
          "",
          "",
          "",
          "",
          "",
          "",
          "",
          "",
          "",
          "",
          "",
          "",
          "",
          "",
          "",
          "",
          "",
          "",
          "",
          "",
          "",
          "0.0",
          "",
          "",
          "",
          "",
          "",
          "",
          ""
         ],
         "textfont": {
          "color": "black",
          "family": "sans serif",
          "size": 8
         },
         "textposition": "top left",
         "type": "scatter",
         "x": [
          1,
          2,
          3,
          4,
          5,
          6,
          7,
          8,
          9,
          10,
          11,
          12,
          13,
          14,
          15,
          16,
          17,
          18,
          19,
          20,
          21,
          22,
          23,
          24,
          25,
          26,
          27,
          28,
          29,
          30,
          31,
          32,
          33,
          34,
          35,
          36,
          37,
          38,
          39,
          40
         ],
         "xaxis": "x94",
         "y": [
          0,
          0,
          0,
          0,
          0,
          0,
          0,
          0,
          0,
          0,
          0,
          0,
          0,
          0,
          0,
          0,
          0,
          0,
          0,
          0,
          0,
          0,
          0,
          0,
          0,
          0,
          0,
          0,
          0,
          0,
          0,
          0,
          0,
          0,
          0,
          0,
          0,
          0,
          0,
          0
         ],
         "yaxis": "y94"
        },
        {
         "line": {
          "color": "rgb(204,235,197)"
         },
         "mode": "lines+text",
         "name": "H11",
         "text": [
          "",
          "",
          "",
          "",
          "",
          "",
          "",
          "",
          "",
          "",
          "",
          "",
          "",
          "",
          "",
          "",
          "",
          "",
          "",
          "",
          "",
          "",
          "",
          "",
          "",
          "",
          "",
          "",
          "",
          "",
          "",
          "",
          "0.0",
          "",
          "",
          "",
          "",
          "",
          "",
          ""
         ],
         "textfont": {
          "color": "black",
          "family": "sans serif",
          "size": 8
         },
         "textposition": "top left",
         "type": "scatter",
         "x": [
          1,
          2,
          3,
          4,
          5,
          6,
          7,
          8,
          9,
          10,
          11,
          12,
          13,
          14,
          15,
          16,
          17,
          18,
          19,
          20,
          21,
          22,
          23,
          24,
          25,
          26,
          27,
          28,
          29,
          30,
          31,
          32,
          33,
          34,
          35,
          36,
          37,
          38,
          39,
          40
         ],
         "xaxis": "x95",
         "y": [
          0,
          0,
          0,
          0,
          0,
          0,
          0,
          0,
          0,
          0,
          0,
          0,
          0,
          0,
          0,
          0,
          0,
          0,
          0,
          0,
          0,
          0,
          0,
          0,
          0,
          0,
          0,
          0,
          0,
          0,
          0,
          0,
          0,
          0,
          0,
          0,
          0,
          0,
          0,
          0
         ],
         "yaxis": "y95"
        },
        {
         "line": {
          "color": "rgb(255,237,111)"
         },
         "mode": "lines+text",
         "name": "H12",
         "text": [
          "",
          "",
          "",
          "",
          "",
          "",
          "",
          "",
          "",
          "",
          "",
          "",
          "",
          "",
          "",
          "",
          "",
          "",
          "",
          "",
          "",
          "",
          "",
          "",
          "",
          "",
          "",
          "",
          "",
          "",
          "",
          "",
          "0.0",
          "",
          "",
          "",
          "",
          "",
          "",
          ""
         ],
         "textfont": {
          "color": "black",
          "family": "sans serif",
          "size": 8
         },
         "textposition": "top left",
         "type": "scatter",
         "x": [
          1,
          2,
          3,
          4,
          5,
          6,
          7,
          8,
          9,
          10,
          11,
          12,
          13,
          14,
          15,
          16,
          17,
          18,
          19,
          20,
          21,
          22,
          23,
          24,
          25,
          26,
          27,
          28,
          29,
          30,
          31,
          32,
          33,
          34,
          35,
          36,
          37,
          38,
          39,
          40
         ],
         "xaxis": "x96",
         "y": [
          0,
          0,
          0,
          0,
          0,
          0,
          0,
          0,
          0,
          0,
          0,
          0,
          0,
          0,
          0,
          0,
          0,
          0,
          0,
          0,
          0,
          0,
          0,
          0,
          0,
          0,
          0,
          0,
          0,
          0,
          0,
          0,
          0,
          0,
          0,
          0,
          0,
          0,
          0,
          0
         ],
         "yaxis": "y96"
        }
       ],
       "layout": {
        "annotations": [
         {
          "font": {
           "size": 16
          },
          "showarrow": false,
          "text": "A01",
          "x": 0.034027777777777775,
          "xanchor": "center",
          "xref": "paper",
          "y": 1,
          "yanchor": "bottom",
          "yref": "paper"
         },
         {
          "font": {
           "size": 16
          },
          "showarrow": false,
          "text": "A02",
          "x": 0.11875,
          "xanchor": "center",
          "xref": "paper",
          "y": 1,
          "yanchor": "bottom",
          "yref": "paper"
         },
         {
          "font": {
           "size": 16
          },
          "showarrow": false,
          "text": "A03",
          "x": 0.20347222222222222,
          "xanchor": "center",
          "xref": "paper",
          "y": 1,
          "yanchor": "bottom",
          "yref": "paper"
         },
         {
          "font": {
           "size": 16
          },
          "showarrow": false,
          "text": "A04",
          "x": 0.2881944444444444,
          "xanchor": "center",
          "xref": "paper",
          "y": 1,
          "yanchor": "bottom",
          "yref": "paper"
         },
         {
          "font": {
           "size": 16
          },
          "showarrow": false,
          "text": "A05",
          "x": 0.3729166666666666,
          "xanchor": "center",
          "xref": "paper",
          "y": 1,
          "yanchor": "bottom",
          "yref": "paper"
         },
         {
          "font": {
           "size": 16
          },
          "showarrow": false,
          "text": "A06",
          "x": 0.4576388888888888,
          "xanchor": "center",
          "xref": "paper",
          "y": 1,
          "yanchor": "bottom",
          "yref": "paper"
         },
         {
          "font": {
           "size": 16
          },
          "showarrow": false,
          "text": "A07",
          "x": 0.5423611111111111,
          "xanchor": "center",
          "xref": "paper",
          "y": 1,
          "yanchor": "bottom",
          "yref": "paper"
         },
         {
          "font": {
           "size": 16
          },
          "showarrow": false,
          "text": "A08",
          "x": 0.6270833333333332,
          "xanchor": "center",
          "xref": "paper",
          "y": 1,
          "yanchor": "bottom",
          "yref": "paper"
         },
         {
          "font": {
           "size": 16
          },
          "showarrow": false,
          "text": "A09",
          "x": 0.7118055555555555,
          "xanchor": "center",
          "xref": "paper",
          "y": 1,
          "yanchor": "bottom",
          "yref": "paper"
         },
         {
          "font": {
           "size": 16
          },
          "showarrow": false,
          "text": "A10",
          "x": 0.7965277777777777,
          "xanchor": "center",
          "xref": "paper",
          "y": 1,
          "yanchor": "bottom",
          "yref": "paper"
         },
         {
          "font": {
           "size": 16
          },
          "showarrow": false,
          "text": "A11",
          "x": 0.8812499999999999,
          "xanchor": "center",
          "xref": "paper",
          "y": 1,
          "yanchor": "bottom",
          "yref": "paper"
         },
         {
          "font": {
           "size": 16
          },
          "showarrow": false,
          "text": "A12",
          "x": 0.9659722222222221,
          "xanchor": "center",
          "xref": "paper",
          "y": 1,
          "yanchor": "bottom",
          "yref": "paper"
         },
         {
          "font": {
           "size": 16
          },
          "showarrow": false,
          "text": "B01",
          "x": 0.034027777777777775,
          "xanchor": "center",
          "xref": "paper",
          "y": 0.8671875,
          "yanchor": "bottom",
          "yref": "paper"
         },
         {
          "font": {
           "size": 16
          },
          "showarrow": false,
          "text": "B02",
          "x": 0.11875,
          "xanchor": "center",
          "xref": "paper",
          "y": 0.8671875,
          "yanchor": "bottom",
          "yref": "paper"
         },
         {
          "font": {
           "size": 16
          },
          "showarrow": false,
          "text": "B03",
          "x": 0.20347222222222222,
          "xanchor": "center",
          "xref": "paper",
          "y": 0.8671875,
          "yanchor": "bottom",
          "yref": "paper"
         },
         {
          "font": {
           "size": 16
          },
          "showarrow": false,
          "text": "B04",
          "x": 0.2881944444444444,
          "xanchor": "center",
          "xref": "paper",
          "y": 0.8671875,
          "yanchor": "bottom",
          "yref": "paper"
         },
         {
          "font": {
           "size": 16
          },
          "showarrow": false,
          "text": "B05",
          "x": 0.3729166666666666,
          "xanchor": "center",
          "xref": "paper",
          "y": 0.8671875,
          "yanchor": "bottom",
          "yref": "paper"
         },
         {
          "font": {
           "size": 16
          },
          "showarrow": false,
          "text": "B06",
          "x": 0.4576388888888888,
          "xanchor": "center",
          "xref": "paper",
          "y": 0.8671875,
          "yanchor": "bottom",
          "yref": "paper"
         },
         {
          "font": {
           "size": 16
          },
          "showarrow": false,
          "text": "B07",
          "x": 0.5423611111111111,
          "xanchor": "center",
          "xref": "paper",
          "y": 0.8671875,
          "yanchor": "bottom",
          "yref": "paper"
         },
         {
          "font": {
           "size": 16
          },
          "showarrow": false,
          "text": "B08",
          "x": 0.6270833333333332,
          "xanchor": "center",
          "xref": "paper",
          "y": 0.8671875,
          "yanchor": "bottom",
          "yref": "paper"
         },
         {
          "font": {
           "size": 16
          },
          "showarrow": false,
          "text": "B09",
          "x": 0.7118055555555555,
          "xanchor": "center",
          "xref": "paper",
          "y": 0.8671875,
          "yanchor": "bottom",
          "yref": "paper"
         },
         {
          "font": {
           "size": 16
          },
          "showarrow": false,
          "text": "B10",
          "x": 0.7965277777777777,
          "xanchor": "center",
          "xref": "paper",
          "y": 0.8671875,
          "yanchor": "bottom",
          "yref": "paper"
         },
         {
          "font": {
           "size": 16
          },
          "showarrow": false,
          "text": "B11",
          "x": 0.8812499999999999,
          "xanchor": "center",
          "xref": "paper",
          "y": 0.8671875,
          "yanchor": "bottom",
          "yref": "paper"
         },
         {
          "font": {
           "size": 16
          },
          "showarrow": false,
          "text": "B12",
          "x": 0.9659722222222221,
          "xanchor": "center",
          "xref": "paper",
          "y": 0.8671875,
          "yanchor": "bottom",
          "yref": "paper"
         },
         {
          "font": {
           "size": 16
          },
          "showarrow": false,
          "text": "C01",
          "x": 0.034027777777777775,
          "xanchor": "center",
          "xref": "paper",
          "y": 0.734375,
          "yanchor": "bottom",
          "yref": "paper"
         },
         {
          "font": {
           "size": 16
          },
          "showarrow": false,
          "text": "C02",
          "x": 0.11875,
          "xanchor": "center",
          "xref": "paper",
          "y": 0.734375,
          "yanchor": "bottom",
          "yref": "paper"
         },
         {
          "font": {
           "size": 16
          },
          "showarrow": false,
          "text": "C03",
          "x": 0.20347222222222222,
          "xanchor": "center",
          "xref": "paper",
          "y": 0.734375,
          "yanchor": "bottom",
          "yref": "paper"
         },
         {
          "font": {
           "size": 16
          },
          "showarrow": false,
          "text": "C04",
          "x": 0.2881944444444444,
          "xanchor": "center",
          "xref": "paper",
          "y": 0.734375,
          "yanchor": "bottom",
          "yref": "paper"
         },
         {
          "font": {
           "size": 16
          },
          "showarrow": false,
          "text": "C05",
          "x": 0.3729166666666666,
          "xanchor": "center",
          "xref": "paper",
          "y": 0.734375,
          "yanchor": "bottom",
          "yref": "paper"
         },
         {
          "font": {
           "size": 16
          },
          "showarrow": false,
          "text": "C06",
          "x": 0.4576388888888888,
          "xanchor": "center",
          "xref": "paper",
          "y": 0.734375,
          "yanchor": "bottom",
          "yref": "paper"
         },
         {
          "font": {
           "size": 16
          },
          "showarrow": false,
          "text": "C07",
          "x": 0.5423611111111111,
          "xanchor": "center",
          "xref": "paper",
          "y": 0.734375,
          "yanchor": "bottom",
          "yref": "paper"
         },
         {
          "font": {
           "size": 16
          },
          "showarrow": false,
          "text": "C08",
          "x": 0.6270833333333332,
          "xanchor": "center",
          "xref": "paper",
          "y": 0.734375,
          "yanchor": "bottom",
          "yref": "paper"
         },
         {
          "font": {
           "size": 16
          },
          "showarrow": false,
          "text": "C09",
          "x": 0.7118055555555555,
          "xanchor": "center",
          "xref": "paper",
          "y": 0.734375,
          "yanchor": "bottom",
          "yref": "paper"
         },
         {
          "font": {
           "size": 16
          },
          "showarrow": false,
          "text": "C10",
          "x": 0.7965277777777777,
          "xanchor": "center",
          "xref": "paper",
          "y": 0.734375,
          "yanchor": "bottom",
          "yref": "paper"
         },
         {
          "font": {
           "size": 16
          },
          "showarrow": false,
          "text": "C11",
          "x": 0.8812499999999999,
          "xanchor": "center",
          "xref": "paper",
          "y": 0.734375,
          "yanchor": "bottom",
          "yref": "paper"
         },
         {
          "font": {
           "size": 16
          },
          "showarrow": false,
          "text": "C12",
          "x": 0.9659722222222221,
          "xanchor": "center",
          "xref": "paper",
          "y": 0.734375,
          "yanchor": "bottom",
          "yref": "paper"
         },
         {
          "font": {
           "size": 16
          },
          "showarrow": false,
          "text": "D01",
          "x": 0.034027777777777775,
          "xanchor": "center",
          "xref": "paper",
          "y": 0.6015625,
          "yanchor": "bottom",
          "yref": "paper"
         },
         {
          "font": {
           "size": 16
          },
          "showarrow": false,
          "text": "D02",
          "x": 0.11875,
          "xanchor": "center",
          "xref": "paper",
          "y": 0.6015625,
          "yanchor": "bottom",
          "yref": "paper"
         },
         {
          "font": {
           "size": 16
          },
          "showarrow": false,
          "text": "D03",
          "x": 0.20347222222222222,
          "xanchor": "center",
          "xref": "paper",
          "y": 0.6015625,
          "yanchor": "bottom",
          "yref": "paper"
         },
         {
          "font": {
           "size": 16
          },
          "showarrow": false,
          "text": "D04",
          "x": 0.2881944444444444,
          "xanchor": "center",
          "xref": "paper",
          "y": 0.6015625,
          "yanchor": "bottom",
          "yref": "paper"
         },
         {
          "font": {
           "size": 16
          },
          "showarrow": false,
          "text": "D05",
          "x": 0.3729166666666666,
          "xanchor": "center",
          "xref": "paper",
          "y": 0.6015625,
          "yanchor": "bottom",
          "yref": "paper"
         },
         {
          "font": {
           "size": 16
          },
          "showarrow": false,
          "text": "D06",
          "x": 0.4576388888888888,
          "xanchor": "center",
          "xref": "paper",
          "y": 0.6015625,
          "yanchor": "bottom",
          "yref": "paper"
         },
         {
          "font": {
           "size": 16
          },
          "showarrow": false,
          "text": "D07",
          "x": 0.5423611111111111,
          "xanchor": "center",
          "xref": "paper",
          "y": 0.6015625,
          "yanchor": "bottom",
          "yref": "paper"
         },
         {
          "font": {
           "size": 16
          },
          "showarrow": false,
          "text": "D08",
          "x": 0.6270833333333332,
          "xanchor": "center",
          "xref": "paper",
          "y": 0.6015625,
          "yanchor": "bottom",
          "yref": "paper"
         },
         {
          "font": {
           "size": 16
          },
          "showarrow": false,
          "text": "D09",
          "x": 0.7118055555555555,
          "xanchor": "center",
          "xref": "paper",
          "y": 0.6015625,
          "yanchor": "bottom",
          "yref": "paper"
         },
         {
          "font": {
           "size": 16
          },
          "showarrow": false,
          "text": "D10",
          "x": 0.7965277777777777,
          "xanchor": "center",
          "xref": "paper",
          "y": 0.6015625,
          "yanchor": "bottom",
          "yref": "paper"
         },
         {
          "font": {
           "size": 16
          },
          "showarrow": false,
          "text": "D11",
          "x": 0.8812499999999999,
          "xanchor": "center",
          "xref": "paper",
          "y": 0.6015625,
          "yanchor": "bottom",
          "yref": "paper"
         },
         {
          "font": {
           "size": 16
          },
          "showarrow": false,
          "text": "D12",
          "x": 0.9659722222222221,
          "xanchor": "center",
          "xref": "paper",
          "y": 0.6015625,
          "yanchor": "bottom",
          "yref": "paper"
         },
         {
          "font": {
           "size": 16
          },
          "showarrow": false,
          "text": "E01",
          "x": 0.034027777777777775,
          "xanchor": "center",
          "xref": "paper",
          "y": 0.46875,
          "yanchor": "bottom",
          "yref": "paper"
         },
         {
          "font": {
           "size": 16
          },
          "showarrow": false,
          "text": "E02",
          "x": 0.11875,
          "xanchor": "center",
          "xref": "paper",
          "y": 0.46875,
          "yanchor": "bottom",
          "yref": "paper"
         },
         {
          "font": {
           "size": 16
          },
          "showarrow": false,
          "text": "E03",
          "x": 0.20347222222222222,
          "xanchor": "center",
          "xref": "paper",
          "y": 0.46875,
          "yanchor": "bottom",
          "yref": "paper"
         },
         {
          "font": {
           "size": 16
          },
          "showarrow": false,
          "text": "E04",
          "x": 0.2881944444444444,
          "xanchor": "center",
          "xref": "paper",
          "y": 0.46875,
          "yanchor": "bottom",
          "yref": "paper"
         },
         {
          "font": {
           "size": 16
          },
          "showarrow": false,
          "text": "E05",
          "x": 0.3729166666666666,
          "xanchor": "center",
          "xref": "paper",
          "y": 0.46875,
          "yanchor": "bottom",
          "yref": "paper"
         },
         {
          "font": {
           "size": 16
          },
          "showarrow": false,
          "text": "E06",
          "x": 0.4576388888888888,
          "xanchor": "center",
          "xref": "paper",
          "y": 0.46875,
          "yanchor": "bottom",
          "yref": "paper"
         },
         {
          "font": {
           "size": 16
          },
          "showarrow": false,
          "text": "E07",
          "x": 0.5423611111111111,
          "xanchor": "center",
          "xref": "paper",
          "y": 0.46875,
          "yanchor": "bottom",
          "yref": "paper"
         },
         {
          "font": {
           "size": 16
          },
          "showarrow": false,
          "text": "E08",
          "x": 0.6270833333333332,
          "xanchor": "center",
          "xref": "paper",
          "y": 0.46875,
          "yanchor": "bottom",
          "yref": "paper"
         },
         {
          "font": {
           "size": 16
          },
          "showarrow": false,
          "text": "E09",
          "x": 0.7118055555555555,
          "xanchor": "center",
          "xref": "paper",
          "y": 0.46875,
          "yanchor": "bottom",
          "yref": "paper"
         },
         {
          "font": {
           "size": 16
          },
          "showarrow": false,
          "text": "E10",
          "x": 0.7965277777777777,
          "xanchor": "center",
          "xref": "paper",
          "y": 0.46875,
          "yanchor": "bottom",
          "yref": "paper"
         },
         {
          "font": {
           "size": 16
          },
          "showarrow": false,
          "text": "E11",
          "x": 0.8812499999999999,
          "xanchor": "center",
          "xref": "paper",
          "y": 0.46875,
          "yanchor": "bottom",
          "yref": "paper"
         },
         {
          "font": {
           "size": 16
          },
          "showarrow": false,
          "text": "E12",
          "x": 0.9659722222222221,
          "xanchor": "center",
          "xref": "paper",
          "y": 0.46875,
          "yanchor": "bottom",
          "yref": "paper"
         },
         {
          "font": {
           "size": 16
          },
          "showarrow": false,
          "text": "F01",
          "x": 0.034027777777777775,
          "xanchor": "center",
          "xref": "paper",
          "y": 0.3359375,
          "yanchor": "bottom",
          "yref": "paper"
         },
         {
          "font": {
           "size": 16
          },
          "showarrow": false,
          "text": "F02",
          "x": 0.11875,
          "xanchor": "center",
          "xref": "paper",
          "y": 0.3359375,
          "yanchor": "bottom",
          "yref": "paper"
         },
         {
          "font": {
           "size": 16
          },
          "showarrow": false,
          "text": "F03",
          "x": 0.20347222222222222,
          "xanchor": "center",
          "xref": "paper",
          "y": 0.3359375,
          "yanchor": "bottom",
          "yref": "paper"
         },
         {
          "font": {
           "size": 16
          },
          "showarrow": false,
          "text": "F04",
          "x": 0.2881944444444444,
          "xanchor": "center",
          "xref": "paper",
          "y": 0.3359375,
          "yanchor": "bottom",
          "yref": "paper"
         },
         {
          "font": {
           "size": 16
          },
          "showarrow": false,
          "text": "F05",
          "x": 0.3729166666666666,
          "xanchor": "center",
          "xref": "paper",
          "y": 0.3359375,
          "yanchor": "bottom",
          "yref": "paper"
         },
         {
          "font": {
           "size": 16
          },
          "showarrow": false,
          "text": "F06",
          "x": 0.4576388888888888,
          "xanchor": "center",
          "xref": "paper",
          "y": 0.3359375,
          "yanchor": "bottom",
          "yref": "paper"
         },
         {
          "font": {
           "size": 16
          },
          "showarrow": false,
          "text": "F07",
          "x": 0.5423611111111111,
          "xanchor": "center",
          "xref": "paper",
          "y": 0.3359375,
          "yanchor": "bottom",
          "yref": "paper"
         },
         {
          "font": {
           "size": 16
          },
          "showarrow": false,
          "text": "F08",
          "x": 0.6270833333333332,
          "xanchor": "center",
          "xref": "paper",
          "y": 0.3359375,
          "yanchor": "bottom",
          "yref": "paper"
         },
         {
          "font": {
           "size": 16
          },
          "showarrow": false,
          "text": "F09",
          "x": 0.7118055555555555,
          "xanchor": "center",
          "xref": "paper",
          "y": 0.3359375,
          "yanchor": "bottom",
          "yref": "paper"
         },
         {
          "font": {
           "size": 16
          },
          "showarrow": false,
          "text": "F10",
          "x": 0.7965277777777777,
          "xanchor": "center",
          "xref": "paper",
          "y": 0.3359375,
          "yanchor": "bottom",
          "yref": "paper"
         },
         {
          "font": {
           "size": 16
          },
          "showarrow": false,
          "text": "F11",
          "x": 0.8812499999999999,
          "xanchor": "center",
          "xref": "paper",
          "y": 0.3359375,
          "yanchor": "bottom",
          "yref": "paper"
         },
         {
          "font": {
           "size": 16
          },
          "showarrow": false,
          "text": "F12",
          "x": 0.9659722222222221,
          "xanchor": "center",
          "xref": "paper",
          "y": 0.3359375,
          "yanchor": "bottom",
          "yref": "paper"
         },
         {
          "font": {
           "size": 16
          },
          "showarrow": false,
          "text": "G01",
          "x": 0.034027777777777775,
          "xanchor": "center",
          "xref": "paper",
          "y": 0.203125,
          "yanchor": "bottom",
          "yref": "paper"
         },
         {
          "font": {
           "size": 16
          },
          "showarrow": false,
          "text": "G02",
          "x": 0.11875,
          "xanchor": "center",
          "xref": "paper",
          "y": 0.203125,
          "yanchor": "bottom",
          "yref": "paper"
         },
         {
          "font": {
           "size": 16
          },
          "showarrow": false,
          "text": "G03",
          "x": 0.20347222222222222,
          "xanchor": "center",
          "xref": "paper",
          "y": 0.203125,
          "yanchor": "bottom",
          "yref": "paper"
         },
         {
          "font": {
           "size": 16
          },
          "showarrow": false,
          "text": "G04",
          "x": 0.2881944444444444,
          "xanchor": "center",
          "xref": "paper",
          "y": 0.203125,
          "yanchor": "bottom",
          "yref": "paper"
         },
         {
          "font": {
           "size": 16
          },
          "showarrow": false,
          "text": "G05",
          "x": 0.3729166666666666,
          "xanchor": "center",
          "xref": "paper",
          "y": 0.203125,
          "yanchor": "bottom",
          "yref": "paper"
         },
         {
          "font": {
           "size": 16
          },
          "showarrow": false,
          "text": "G06",
          "x": 0.4576388888888888,
          "xanchor": "center",
          "xref": "paper",
          "y": 0.203125,
          "yanchor": "bottom",
          "yref": "paper"
         },
         {
          "font": {
           "size": 16
          },
          "showarrow": false,
          "text": "G07",
          "x": 0.5423611111111111,
          "xanchor": "center",
          "xref": "paper",
          "y": 0.203125,
          "yanchor": "bottom",
          "yref": "paper"
         },
         {
          "font": {
           "size": 16
          },
          "showarrow": false,
          "text": "G08",
          "x": 0.6270833333333332,
          "xanchor": "center",
          "xref": "paper",
          "y": 0.203125,
          "yanchor": "bottom",
          "yref": "paper"
         },
         {
          "font": {
           "size": 16
          },
          "showarrow": false,
          "text": "G09",
          "x": 0.7118055555555555,
          "xanchor": "center",
          "xref": "paper",
          "y": 0.203125,
          "yanchor": "bottom",
          "yref": "paper"
         },
         {
          "font": {
           "size": 16
          },
          "showarrow": false,
          "text": "G10",
          "x": 0.7965277777777777,
          "xanchor": "center",
          "xref": "paper",
          "y": 0.203125,
          "yanchor": "bottom",
          "yref": "paper"
         },
         {
          "font": {
           "size": 16
          },
          "showarrow": false,
          "text": "G11",
          "x": 0.8812499999999999,
          "xanchor": "center",
          "xref": "paper",
          "y": 0.203125,
          "yanchor": "bottom",
          "yref": "paper"
         },
         {
          "font": {
           "size": 16
          },
          "showarrow": false,
          "text": "G12",
          "x": 0.9659722222222221,
          "xanchor": "center",
          "xref": "paper",
          "y": 0.203125,
          "yanchor": "bottom",
          "yref": "paper"
         },
         {
          "font": {
           "size": 16
          },
          "showarrow": false,
          "text": "H01",
          "x": 0.034027777777777775,
          "xanchor": "center",
          "xref": "paper",
          "y": 0.0703125,
          "yanchor": "bottom",
          "yref": "paper"
         },
         {
          "font": {
           "size": 16
          },
          "showarrow": false,
          "text": "H02",
          "x": 0.11875,
          "xanchor": "center",
          "xref": "paper",
          "y": 0.0703125,
          "yanchor": "bottom",
          "yref": "paper"
         },
         {
          "font": {
           "size": 16
          },
          "showarrow": false,
          "text": "H03",
          "x": 0.20347222222222222,
          "xanchor": "center",
          "xref": "paper",
          "y": 0.0703125,
          "yanchor": "bottom",
          "yref": "paper"
         },
         {
          "font": {
           "size": 16
          },
          "showarrow": false,
          "text": "H04",
          "x": 0.2881944444444444,
          "xanchor": "center",
          "xref": "paper",
          "y": 0.0703125,
          "yanchor": "bottom",
          "yref": "paper"
         },
         {
          "font": {
           "size": 16
          },
          "showarrow": false,
          "text": "H05",
          "x": 0.3729166666666666,
          "xanchor": "center",
          "xref": "paper",
          "y": 0.0703125,
          "yanchor": "bottom",
          "yref": "paper"
         },
         {
          "font": {
           "size": 16
          },
          "showarrow": false,
          "text": "H06",
          "x": 0.4576388888888888,
          "xanchor": "center",
          "xref": "paper",
          "y": 0.0703125,
          "yanchor": "bottom",
          "yref": "paper"
         },
         {
          "font": {
           "size": 16
          },
          "showarrow": false,
          "text": "H07",
          "x": 0.5423611111111111,
          "xanchor": "center",
          "xref": "paper",
          "y": 0.0703125,
          "yanchor": "bottom",
          "yref": "paper"
         },
         {
          "font": {
           "size": 16
          },
          "showarrow": false,
          "text": "H08",
          "x": 0.6270833333333332,
          "xanchor": "center",
          "xref": "paper",
          "y": 0.0703125,
          "yanchor": "bottom",
          "yref": "paper"
         },
         {
          "font": {
           "size": 16
          },
          "showarrow": false,
          "text": "H09",
          "x": 0.7118055555555555,
          "xanchor": "center",
          "xref": "paper",
          "y": 0.0703125,
          "yanchor": "bottom",
          "yref": "paper"
         },
         {
          "font": {
           "size": 16
          },
          "showarrow": false,
          "text": "H10",
          "x": 0.7965277777777777,
          "xanchor": "center",
          "xref": "paper",
          "y": 0.0703125,
          "yanchor": "bottom",
          "yref": "paper"
         },
         {
          "font": {
           "size": 16
          },
          "showarrow": false,
          "text": "H11",
          "x": 0.8812499999999999,
          "xanchor": "center",
          "xref": "paper",
          "y": 0.0703125,
          "yanchor": "bottom",
          "yref": "paper"
         },
         {
          "font": {
           "size": 16
          },
          "showarrow": false,
          "text": "H12",
          "x": 0.9659722222222221,
          "xanchor": "center",
          "xref": "paper",
          "y": 0.0703125,
          "yanchor": "bottom",
          "yref": "paper"
         }
        ],
        "height": 800,
        "showlegend": false,
        "template": {
         "data": {
          "bar": [
           {
            "error_x": {
             "color": "#2a3f5f"
            },
            "error_y": {
             "color": "#2a3f5f"
            },
            "marker": {
             "line": {
              "color": "#E5ECF6",
              "width": 0.5
             },
             "pattern": {
              "fillmode": "overlay",
              "size": 10,
              "solidity": 0.2
             }
            },
            "type": "bar"
           }
          ],
          "barpolar": [
           {
            "marker": {
             "line": {
              "color": "#E5ECF6",
              "width": 0.5
             },
             "pattern": {
              "fillmode": "overlay",
              "size": 10,
              "solidity": 0.2
             }
            },
            "type": "barpolar"
           }
          ],
          "carpet": [
           {
            "aaxis": {
             "endlinecolor": "#2a3f5f",
             "gridcolor": "white",
             "linecolor": "white",
             "minorgridcolor": "white",
             "startlinecolor": "#2a3f5f"
            },
            "baxis": {
             "endlinecolor": "#2a3f5f",
             "gridcolor": "white",
             "linecolor": "white",
             "minorgridcolor": "white",
             "startlinecolor": "#2a3f5f"
            },
            "type": "carpet"
           }
          ],
          "choropleth": [
           {
            "colorbar": {
             "outlinewidth": 0,
             "ticks": ""
            },
            "type": "choropleth"
           }
          ],
          "contour": [
           {
            "colorbar": {
             "outlinewidth": 0,
             "ticks": ""
            },
            "colorscale": [
             [
              0,
              "#0d0887"
             ],
             [
              0.1111111111111111,
              "#46039f"
             ],
             [
              0.2222222222222222,
              "#7201a8"
             ],
             [
              0.3333333333333333,
              "#9c179e"
             ],
             [
              0.4444444444444444,
              "#bd3786"
             ],
             [
              0.5555555555555556,
              "#d8576b"
             ],
             [
              0.6666666666666666,
              "#ed7953"
             ],
             [
              0.7777777777777778,
              "#fb9f3a"
             ],
             [
              0.8888888888888888,
              "#fdca26"
             ],
             [
              1,
              "#f0f921"
             ]
            ],
            "type": "contour"
           }
          ],
          "contourcarpet": [
           {
            "colorbar": {
             "outlinewidth": 0,
             "ticks": ""
            },
            "type": "contourcarpet"
           }
          ],
          "heatmap": [
           {
            "colorbar": {
             "outlinewidth": 0,
             "ticks": ""
            },
            "colorscale": [
             [
              0,
              "#0d0887"
             ],
             [
              0.1111111111111111,
              "#46039f"
             ],
             [
              0.2222222222222222,
              "#7201a8"
             ],
             [
              0.3333333333333333,
              "#9c179e"
             ],
             [
              0.4444444444444444,
              "#bd3786"
             ],
             [
              0.5555555555555556,
              "#d8576b"
             ],
             [
              0.6666666666666666,
              "#ed7953"
             ],
             [
              0.7777777777777778,
              "#fb9f3a"
             ],
             [
              0.8888888888888888,
              "#fdca26"
             ],
             [
              1,
              "#f0f921"
             ]
            ],
            "type": "heatmap"
           }
          ],
          "heatmapgl": [
           {
            "colorbar": {
             "outlinewidth": 0,
             "ticks": ""
            },
            "colorscale": [
             [
              0,
              "#0d0887"
             ],
             [
              0.1111111111111111,
              "#46039f"
             ],
             [
              0.2222222222222222,
              "#7201a8"
             ],
             [
              0.3333333333333333,
              "#9c179e"
             ],
             [
              0.4444444444444444,
              "#bd3786"
             ],
             [
              0.5555555555555556,
              "#d8576b"
             ],
             [
              0.6666666666666666,
              "#ed7953"
             ],
             [
              0.7777777777777778,
              "#fb9f3a"
             ],
             [
              0.8888888888888888,
              "#fdca26"
             ],
             [
              1,
              "#f0f921"
             ]
            ],
            "type": "heatmapgl"
           }
          ],
          "histogram": [
           {
            "marker": {
             "pattern": {
              "fillmode": "overlay",
              "size": 10,
              "solidity": 0.2
             }
            },
            "type": "histogram"
           }
          ],
          "histogram2d": [
           {
            "colorbar": {
             "outlinewidth": 0,
             "ticks": ""
            },
            "colorscale": [
             [
              0,
              "#0d0887"
             ],
             [
              0.1111111111111111,
              "#46039f"
             ],
             [
              0.2222222222222222,
              "#7201a8"
             ],
             [
              0.3333333333333333,
              "#9c179e"
             ],
             [
              0.4444444444444444,
              "#bd3786"
             ],
             [
              0.5555555555555556,
              "#d8576b"
             ],
             [
              0.6666666666666666,
              "#ed7953"
             ],
             [
              0.7777777777777778,
              "#fb9f3a"
             ],
             [
              0.8888888888888888,
              "#fdca26"
             ],
             [
              1,
              "#f0f921"
             ]
            ],
            "type": "histogram2d"
           }
          ],
          "histogram2dcontour": [
           {
            "colorbar": {
             "outlinewidth": 0,
             "ticks": ""
            },
            "colorscale": [
             [
              0,
              "#0d0887"
             ],
             [
              0.1111111111111111,
              "#46039f"
             ],
             [
              0.2222222222222222,
              "#7201a8"
             ],
             [
              0.3333333333333333,
              "#9c179e"
             ],
             [
              0.4444444444444444,
              "#bd3786"
             ],
             [
              0.5555555555555556,
              "#d8576b"
             ],
             [
              0.6666666666666666,
              "#ed7953"
             ],
             [
              0.7777777777777778,
              "#fb9f3a"
             ],
             [
              0.8888888888888888,
              "#fdca26"
             ],
             [
              1,
              "#f0f921"
             ]
            ],
            "type": "histogram2dcontour"
           }
          ],
          "mesh3d": [
           {
            "colorbar": {
             "outlinewidth": 0,
             "ticks": ""
            },
            "type": "mesh3d"
           }
          ],
          "parcoords": [
           {
            "line": {
             "colorbar": {
              "outlinewidth": 0,
              "ticks": ""
             }
            },
            "type": "parcoords"
           }
          ],
          "pie": [
           {
            "automargin": true,
            "type": "pie"
           }
          ],
          "scatter": [
           {
            "fillpattern": {
             "fillmode": "overlay",
             "size": 10,
             "solidity": 0.2
            },
            "type": "scatter"
           }
          ],
          "scatter3d": [
           {
            "line": {
             "colorbar": {
              "outlinewidth": 0,
              "ticks": ""
             }
            },
            "marker": {
             "colorbar": {
              "outlinewidth": 0,
              "ticks": ""
             }
            },
            "type": "scatter3d"
           }
          ],
          "scattercarpet": [
           {
            "marker": {
             "colorbar": {
              "outlinewidth": 0,
              "ticks": ""
             }
            },
            "type": "scattercarpet"
           }
          ],
          "scattergeo": [
           {
            "marker": {
             "colorbar": {
              "outlinewidth": 0,
              "ticks": ""
             }
            },
            "type": "scattergeo"
           }
          ],
          "scattergl": [
           {
            "marker": {
             "colorbar": {
              "outlinewidth": 0,
              "ticks": ""
             }
            },
            "type": "scattergl"
           }
          ],
          "scattermapbox": [
           {
            "marker": {
             "colorbar": {
              "outlinewidth": 0,
              "ticks": ""
             }
            },
            "type": "scattermapbox"
           }
          ],
          "scatterpolar": [
           {
            "marker": {
             "colorbar": {
              "outlinewidth": 0,
              "ticks": ""
             }
            },
            "type": "scatterpolar"
           }
          ],
          "scatterpolargl": [
           {
            "marker": {
             "colorbar": {
              "outlinewidth": 0,
              "ticks": ""
             }
            },
            "type": "scatterpolargl"
           }
          ],
          "scatterternary": [
           {
            "marker": {
             "colorbar": {
              "outlinewidth": 0,
              "ticks": ""
             }
            },
            "type": "scatterternary"
           }
          ],
          "surface": [
           {
            "colorbar": {
             "outlinewidth": 0,
             "ticks": ""
            },
            "colorscale": [
             [
              0,
              "#0d0887"
             ],
             [
              0.1111111111111111,
              "#46039f"
             ],
             [
              0.2222222222222222,
              "#7201a8"
             ],
             [
              0.3333333333333333,
              "#9c179e"
             ],
             [
              0.4444444444444444,
              "#bd3786"
             ],
             [
              0.5555555555555556,
              "#d8576b"
             ],
             [
              0.6666666666666666,
              "#ed7953"
             ],
             [
              0.7777777777777778,
              "#fb9f3a"
             ],
             [
              0.8888888888888888,
              "#fdca26"
             ],
             [
              1,
              "#f0f921"
             ]
            ],
            "type": "surface"
           }
          ],
          "table": [
           {
            "cells": {
             "fill": {
              "color": "#EBF0F8"
             },
             "line": {
              "color": "white"
             }
            },
            "header": {
             "fill": {
              "color": "#C8D4E3"
             },
             "line": {
              "color": "white"
             }
            },
            "type": "table"
           }
          ]
         },
         "layout": {
          "annotationdefaults": {
           "arrowcolor": "#2a3f5f",
           "arrowhead": 0,
           "arrowwidth": 1
          },
          "autotypenumbers": "strict",
          "coloraxis": {
           "colorbar": {
            "outlinewidth": 0,
            "ticks": ""
           }
          },
          "colorscale": {
           "diverging": [
            [
             0,
             "#8e0152"
            ],
            [
             0.1,
             "#c51b7d"
            ],
            [
             0.2,
             "#de77ae"
            ],
            [
             0.3,
             "#f1b6da"
            ],
            [
             0.4,
             "#fde0ef"
            ],
            [
             0.5,
             "#f7f7f7"
            ],
            [
             0.6,
             "#e6f5d0"
            ],
            [
             0.7,
             "#b8e186"
            ],
            [
             0.8,
             "#7fbc41"
            ],
            [
             0.9,
             "#4d9221"
            ],
            [
             1,
             "#276419"
            ]
           ],
           "sequential": [
            [
             0,
             "#0d0887"
            ],
            [
             0.1111111111111111,
             "#46039f"
            ],
            [
             0.2222222222222222,
             "#7201a8"
            ],
            [
             0.3333333333333333,
             "#9c179e"
            ],
            [
             0.4444444444444444,
             "#bd3786"
            ],
            [
             0.5555555555555556,
             "#d8576b"
            ],
            [
             0.6666666666666666,
             "#ed7953"
            ],
            [
             0.7777777777777778,
             "#fb9f3a"
            ],
            [
             0.8888888888888888,
             "#fdca26"
            ],
            [
             1,
             "#f0f921"
            ]
           ],
           "sequentialminus": [
            [
             0,
             "#0d0887"
            ],
            [
             0.1111111111111111,
             "#46039f"
            ],
            [
             0.2222222222222222,
             "#7201a8"
            ],
            [
             0.3333333333333333,
             "#9c179e"
            ],
            [
             0.4444444444444444,
             "#bd3786"
            ],
            [
             0.5555555555555556,
             "#d8576b"
            ],
            [
             0.6666666666666666,
             "#ed7953"
            ],
            [
             0.7777777777777778,
             "#fb9f3a"
            ],
            [
             0.8888888888888888,
             "#fdca26"
            ],
            [
             1,
             "#f0f921"
            ]
           ]
          },
          "colorway": [
           "#636efa",
           "#EF553B",
           "#00cc96",
           "#ab63fa",
           "#FFA15A",
           "#19d3f3",
           "#FF6692",
           "#B6E880",
           "#FF97FF",
           "#FECB52"
          ],
          "font": {
           "color": "#2a3f5f"
          },
          "geo": {
           "bgcolor": "white",
           "lakecolor": "white",
           "landcolor": "#E5ECF6",
           "showlakes": true,
           "showland": true,
           "subunitcolor": "white"
          },
          "hoverlabel": {
           "align": "left"
          },
          "hovermode": "closest",
          "mapbox": {
           "style": "light"
          },
          "paper_bgcolor": "white",
          "plot_bgcolor": "#E5ECF6",
          "polar": {
           "angularaxis": {
            "gridcolor": "white",
            "linecolor": "white",
            "ticks": ""
           },
           "bgcolor": "#E5ECF6",
           "radialaxis": {
            "gridcolor": "white",
            "linecolor": "white",
            "ticks": ""
           }
          },
          "scene": {
           "xaxis": {
            "backgroundcolor": "#E5ECF6",
            "gridcolor": "white",
            "gridwidth": 2,
            "linecolor": "white",
            "showbackground": true,
            "ticks": "",
            "zerolinecolor": "white"
           },
           "yaxis": {
            "backgroundcolor": "#E5ECF6",
            "gridcolor": "white",
            "gridwidth": 2,
            "linecolor": "white",
            "showbackground": true,
            "ticks": "",
            "zerolinecolor": "white"
           },
           "zaxis": {
            "backgroundcolor": "#E5ECF6",
            "gridcolor": "white",
            "gridwidth": 2,
            "linecolor": "white",
            "showbackground": true,
            "ticks": "",
            "zerolinecolor": "white"
           }
          },
          "shapedefaults": {
           "line": {
            "color": "#2a3f5f"
           }
          },
          "ternary": {
           "aaxis": {
            "gridcolor": "white",
            "linecolor": "white",
            "ticks": ""
           },
           "baxis": {
            "gridcolor": "white",
            "linecolor": "white",
            "ticks": ""
           },
           "bgcolor": "#E5ECF6",
           "caxis": {
            "gridcolor": "white",
            "linecolor": "white",
            "ticks": ""
           }
          },
          "title": {
           "x": 0.05
          },
          "xaxis": {
           "automargin": true,
           "gridcolor": "white",
           "linecolor": "white",
           "ticks": "",
           "title": {
            "standoff": 15
           },
           "zerolinecolor": "white",
           "zerolinewidth": 2
          },
          "yaxis": {
           "automargin": true,
           "gridcolor": "white",
           "linecolor": "white",
           "ticks": "",
           "title": {
            "standoff": 15
           },
           "zerolinecolor": "white",
           "zerolinewidth": 2
          }
         }
        },
        "title": {
         "text": "Cycle vs Fluorescence (SYBR)"
        },
        "width": 1000,
        "xaxis": {
         "anchor": "y",
         "domain": [
          0,
          0.06805555555555555
         ],
         "matches": "x85",
         "showticklabels": false
        },
        "xaxis10": {
         "anchor": "y10",
         "domain": [
          0.7625,
          0.8305555555555555
         ],
         "matches": "x94",
         "showticklabels": false
        },
        "xaxis11": {
         "anchor": "y11",
         "domain": [
          0.8472222222222221,
          0.9152777777777776
         ],
         "matches": "x95",
         "showticklabels": false
        },
        "xaxis12": {
         "anchor": "y12",
         "domain": [
          0.9319444444444444,
          0.9999999999999999
         ],
         "matches": "x96",
         "showticklabels": false
        },
        "xaxis13": {
         "anchor": "y13",
         "domain": [
          0,
          0.06805555555555555
         ],
         "matches": "x85",
         "showticklabels": false
        },
        "xaxis14": {
         "anchor": "y14",
         "domain": [
          0.08472222222222221,
          0.15277777777777776
         ],
         "matches": "x86",
         "showticklabels": false
        },
        "xaxis15": {
         "anchor": "y15",
         "domain": [
          0.16944444444444443,
          0.2375
         ],
         "matches": "x87",
         "showticklabels": false
        },
        "xaxis16": {
         "anchor": "y16",
         "domain": [
          0.25416666666666665,
          0.3222222222222222
         ],
         "matches": "x88",
         "showticklabels": false
        },
        "xaxis17": {
         "anchor": "y17",
         "domain": [
          0.33888888888888885,
          0.4069444444444444
         ],
         "matches": "x89",
         "showticklabels": false
        },
        "xaxis18": {
         "anchor": "y18",
         "domain": [
          0.42361111111111105,
          0.4916666666666666
         ],
         "matches": "x90",
         "showticklabels": false
        },
        "xaxis19": {
         "anchor": "y19",
         "domain": [
          0.5083333333333333,
          0.5763888888888888
         ],
         "matches": "x91",
         "showticklabels": false
        },
        "xaxis2": {
         "anchor": "y2",
         "domain": [
          0.08472222222222221,
          0.15277777777777776
         ],
         "matches": "x86",
         "showticklabels": false
        },
        "xaxis20": {
         "anchor": "y20",
         "domain": [
          0.5930555555555554,
          0.661111111111111
         ],
         "matches": "x92",
         "showticklabels": false
        },
        "xaxis21": {
         "anchor": "y21",
         "domain": [
          0.6777777777777777,
          0.7458333333333332
         ],
         "matches": "x93",
         "showticklabels": false
        },
        "xaxis22": {
         "anchor": "y22",
         "domain": [
          0.7625,
          0.8305555555555555
         ],
         "matches": "x94",
         "showticklabels": false
        },
        "xaxis23": {
         "anchor": "y23",
         "domain": [
          0.8472222222222221,
          0.9152777777777776
         ],
         "matches": "x95",
         "showticklabels": false
        },
        "xaxis24": {
         "anchor": "y24",
         "domain": [
          0.9319444444444444,
          0.9999999999999999
         ],
         "matches": "x96",
         "showticklabels": false
        },
        "xaxis25": {
         "anchor": "y25",
         "domain": [
          0,
          0.06805555555555555
         ],
         "matches": "x85",
         "showticklabels": false
        },
        "xaxis26": {
         "anchor": "y26",
         "domain": [
          0.08472222222222221,
          0.15277777777777776
         ],
         "matches": "x86",
         "showticklabels": false
        },
        "xaxis27": {
         "anchor": "y27",
         "domain": [
          0.16944444444444443,
          0.2375
         ],
         "matches": "x87",
         "showticklabels": false
        },
        "xaxis28": {
         "anchor": "y28",
         "domain": [
          0.25416666666666665,
          0.3222222222222222
         ],
         "matches": "x88",
         "showticklabels": false
        },
        "xaxis29": {
         "anchor": "y29",
         "domain": [
          0.33888888888888885,
          0.4069444444444444
         ],
         "matches": "x89",
         "showticklabels": false
        },
        "xaxis3": {
         "anchor": "y3",
         "domain": [
          0.16944444444444443,
          0.2375
         ],
         "matches": "x87",
         "showticklabels": false
        },
        "xaxis30": {
         "anchor": "y30",
         "domain": [
          0.42361111111111105,
          0.4916666666666666
         ],
         "matches": "x90",
         "showticklabels": false
        },
        "xaxis31": {
         "anchor": "y31",
         "domain": [
          0.5083333333333333,
          0.5763888888888888
         ],
         "matches": "x91",
         "showticklabels": false
        },
        "xaxis32": {
         "anchor": "y32",
         "domain": [
          0.5930555555555554,
          0.661111111111111
         ],
         "matches": "x92",
         "showticklabels": false
        },
        "xaxis33": {
         "anchor": "y33",
         "domain": [
          0.6777777777777777,
          0.7458333333333332
         ],
         "matches": "x93",
         "showticklabels": false
        },
        "xaxis34": {
         "anchor": "y34",
         "domain": [
          0.7625,
          0.8305555555555555
         ],
         "matches": "x94",
         "showticklabels": false
        },
        "xaxis35": {
         "anchor": "y35",
         "domain": [
          0.8472222222222221,
          0.9152777777777776
         ],
         "matches": "x95",
         "showticklabels": false
        },
        "xaxis36": {
         "anchor": "y36",
         "domain": [
          0.9319444444444444,
          0.9999999999999999
         ],
         "matches": "x96",
         "showticklabels": false
        },
        "xaxis37": {
         "anchor": "y37",
         "domain": [
          0,
          0.06805555555555555
         ],
         "matches": "x85",
         "showticklabels": false
        },
        "xaxis38": {
         "anchor": "y38",
         "domain": [
          0.08472222222222221,
          0.15277777777777776
         ],
         "matches": "x86",
         "showticklabels": false
        },
        "xaxis39": {
         "anchor": "y39",
         "domain": [
          0.16944444444444443,
          0.2375
         ],
         "matches": "x87",
         "showticklabels": false
        },
        "xaxis4": {
         "anchor": "y4",
         "domain": [
          0.25416666666666665,
          0.3222222222222222
         ],
         "matches": "x88",
         "showticklabels": false
        },
        "xaxis40": {
         "anchor": "y40",
         "domain": [
          0.25416666666666665,
          0.3222222222222222
         ],
         "matches": "x88",
         "showticklabels": false
        },
        "xaxis41": {
         "anchor": "y41",
         "domain": [
          0.33888888888888885,
          0.4069444444444444
         ],
         "matches": "x89",
         "showticklabels": false
        },
        "xaxis42": {
         "anchor": "y42",
         "domain": [
          0.42361111111111105,
          0.4916666666666666
         ],
         "matches": "x90",
         "showticklabels": false
        },
        "xaxis43": {
         "anchor": "y43",
         "domain": [
          0.5083333333333333,
          0.5763888888888888
         ],
         "matches": "x91",
         "showticklabels": false
        },
        "xaxis44": {
         "anchor": "y44",
         "domain": [
          0.5930555555555554,
          0.661111111111111
         ],
         "matches": "x92",
         "showticklabels": false
        },
        "xaxis45": {
         "anchor": "y45",
         "domain": [
          0.6777777777777777,
          0.7458333333333332
         ],
         "matches": "x93",
         "showticklabels": false
        },
        "xaxis46": {
         "anchor": "y46",
         "domain": [
          0.7625,
          0.8305555555555555
         ],
         "matches": "x94",
         "showticklabels": false
        },
        "xaxis47": {
         "anchor": "y47",
         "domain": [
          0.8472222222222221,
          0.9152777777777776
         ],
         "matches": "x95",
         "showticklabels": false
        },
        "xaxis48": {
         "anchor": "y48",
         "domain": [
          0.9319444444444444,
          0.9999999999999999
         ],
         "matches": "x96",
         "showticklabels": false
        },
        "xaxis49": {
         "anchor": "y49",
         "domain": [
          0,
          0.06805555555555555
         ],
         "matches": "x85",
         "showticklabels": false
        },
        "xaxis5": {
         "anchor": "y5",
         "domain": [
          0.33888888888888885,
          0.4069444444444444
         ],
         "matches": "x89",
         "showticklabels": false
        },
        "xaxis50": {
         "anchor": "y50",
         "domain": [
          0.08472222222222221,
          0.15277777777777776
         ],
         "matches": "x86",
         "showticklabels": false
        },
        "xaxis51": {
         "anchor": "y51",
         "domain": [
          0.16944444444444443,
          0.2375
         ],
         "matches": "x87",
         "showticklabels": false
        },
        "xaxis52": {
         "anchor": "y52",
         "domain": [
          0.25416666666666665,
          0.3222222222222222
         ],
         "matches": "x88",
         "showticklabels": false
        },
        "xaxis53": {
         "anchor": "y53",
         "domain": [
          0.33888888888888885,
          0.4069444444444444
         ],
         "matches": "x89",
         "showticklabels": false
        },
        "xaxis54": {
         "anchor": "y54",
         "domain": [
          0.42361111111111105,
          0.4916666666666666
         ],
         "matches": "x90",
         "showticklabels": false
        },
        "xaxis55": {
         "anchor": "y55",
         "domain": [
          0.5083333333333333,
          0.5763888888888888
         ],
         "matches": "x91",
         "showticklabels": false
        },
        "xaxis56": {
         "anchor": "y56",
         "domain": [
          0.5930555555555554,
          0.661111111111111
         ],
         "matches": "x92",
         "showticklabels": false
        },
        "xaxis57": {
         "anchor": "y57",
         "domain": [
          0.6777777777777777,
          0.7458333333333332
         ],
         "matches": "x93",
         "showticklabels": false
        },
        "xaxis58": {
         "anchor": "y58",
         "domain": [
          0.7625,
          0.8305555555555555
         ],
         "matches": "x94",
         "showticklabels": false
        },
        "xaxis59": {
         "anchor": "y59",
         "domain": [
          0.8472222222222221,
          0.9152777777777776
         ],
         "matches": "x95",
         "showticklabels": false
        },
        "xaxis6": {
         "anchor": "y6",
         "domain": [
          0.42361111111111105,
          0.4916666666666666
         ],
         "matches": "x90",
         "showticklabels": false
        },
        "xaxis60": {
         "anchor": "y60",
         "domain": [
          0.9319444444444444,
          0.9999999999999999
         ],
         "matches": "x96",
         "showticklabels": false
        },
        "xaxis61": {
         "anchor": "y61",
         "domain": [
          0,
          0.06805555555555555
         ],
         "matches": "x85",
         "showticklabels": false
        },
        "xaxis62": {
         "anchor": "y62",
         "domain": [
          0.08472222222222221,
          0.15277777777777776
         ],
         "matches": "x86",
         "showticklabels": false
        },
        "xaxis63": {
         "anchor": "y63",
         "domain": [
          0.16944444444444443,
          0.2375
         ],
         "matches": "x87",
         "showticklabels": false
        },
        "xaxis64": {
         "anchor": "y64",
         "domain": [
          0.25416666666666665,
          0.3222222222222222
         ],
         "matches": "x88",
         "showticklabels": false
        },
        "xaxis65": {
         "anchor": "y65",
         "domain": [
          0.33888888888888885,
          0.4069444444444444
         ],
         "matches": "x89",
         "showticklabels": false
        },
        "xaxis66": {
         "anchor": "y66",
         "domain": [
          0.42361111111111105,
          0.4916666666666666
         ],
         "matches": "x90",
         "showticklabels": false
        },
        "xaxis67": {
         "anchor": "y67",
         "domain": [
          0.5083333333333333,
          0.5763888888888888
         ],
         "matches": "x91",
         "showticklabels": false
        },
        "xaxis68": {
         "anchor": "y68",
         "domain": [
          0.5930555555555554,
          0.661111111111111
         ],
         "matches": "x92",
         "showticklabels": false
        },
        "xaxis69": {
         "anchor": "y69",
         "domain": [
          0.6777777777777777,
          0.7458333333333332
         ],
         "matches": "x93",
         "showticklabels": false
        },
        "xaxis7": {
         "anchor": "y7",
         "domain": [
          0.5083333333333333,
          0.5763888888888888
         ],
         "matches": "x91",
         "showticklabels": false
        },
        "xaxis70": {
         "anchor": "y70",
         "domain": [
          0.7625,
          0.8305555555555555
         ],
         "matches": "x94",
         "showticklabels": false
        },
        "xaxis71": {
         "anchor": "y71",
         "domain": [
          0.8472222222222221,
          0.9152777777777776
         ],
         "matches": "x95",
         "showticklabels": false
        },
        "xaxis72": {
         "anchor": "y72",
         "domain": [
          0.9319444444444444,
          0.9999999999999999
         ],
         "matches": "x96",
         "showticklabels": false
        },
        "xaxis73": {
         "anchor": "y73",
         "domain": [
          0,
          0.06805555555555555
         ],
         "matches": "x85",
         "showticklabels": false
        },
        "xaxis74": {
         "anchor": "y74",
         "domain": [
          0.08472222222222221,
          0.15277777777777776
         ],
         "matches": "x86",
         "showticklabels": false
        },
        "xaxis75": {
         "anchor": "y75",
         "domain": [
          0.16944444444444443,
          0.2375
         ],
         "matches": "x87",
         "showticklabels": false
        },
        "xaxis76": {
         "anchor": "y76",
         "domain": [
          0.25416666666666665,
          0.3222222222222222
         ],
         "matches": "x88",
         "showticklabels": false
        },
        "xaxis77": {
         "anchor": "y77",
         "domain": [
          0.33888888888888885,
          0.4069444444444444
         ],
         "matches": "x89",
         "showticklabels": false
        },
        "xaxis78": {
         "anchor": "y78",
         "domain": [
          0.42361111111111105,
          0.4916666666666666
         ],
         "matches": "x90",
         "showticklabels": false
        },
        "xaxis79": {
         "anchor": "y79",
         "domain": [
          0.5083333333333333,
          0.5763888888888888
         ],
         "matches": "x91",
         "showticklabels": false
        },
        "xaxis8": {
         "anchor": "y8",
         "domain": [
          0.5930555555555554,
          0.661111111111111
         ],
         "matches": "x92",
         "showticklabels": false
        },
        "xaxis80": {
         "anchor": "y80",
         "domain": [
          0.5930555555555554,
          0.661111111111111
         ],
         "matches": "x92",
         "showticklabels": false
        },
        "xaxis81": {
         "anchor": "y81",
         "domain": [
          0.6777777777777777,
          0.7458333333333332
         ],
         "matches": "x93",
         "showticklabels": false
        },
        "xaxis82": {
         "anchor": "y82",
         "domain": [
          0.7625,
          0.8305555555555555
         ],
         "matches": "x94",
         "showticklabels": false
        },
        "xaxis83": {
         "anchor": "y83",
         "domain": [
          0.8472222222222221,
          0.9152777777777776
         ],
         "matches": "x95",
         "showticklabels": false
        },
        "xaxis84": {
         "anchor": "y84",
         "domain": [
          0.9319444444444444,
          0.9999999999999999
         ],
         "matches": "x96",
         "showticklabels": false
        },
        "xaxis85": {
         "anchor": "y85",
         "domain": [
          0,
          0.06805555555555555
         ]
        },
        "xaxis86": {
         "anchor": "y86",
         "domain": [
          0.08472222222222221,
          0.15277777777777776
         ]
        },
        "xaxis87": {
         "anchor": "y87",
         "domain": [
          0.16944444444444443,
          0.2375
         ]
        },
        "xaxis88": {
         "anchor": "y88",
         "domain": [
          0.25416666666666665,
          0.3222222222222222
         ]
        },
        "xaxis89": {
         "anchor": "y89",
         "domain": [
          0.33888888888888885,
          0.4069444444444444
         ]
        },
        "xaxis9": {
         "anchor": "y9",
         "domain": [
          0.6777777777777777,
          0.7458333333333332
         ],
         "matches": "x93",
         "showticklabels": false
        },
        "xaxis90": {
         "anchor": "y90",
         "domain": [
          0.42361111111111105,
          0.4916666666666666
         ]
        },
        "xaxis91": {
         "anchor": "y91",
         "domain": [
          0.5083333333333333,
          0.5763888888888888
         ]
        },
        "xaxis92": {
         "anchor": "y92",
         "domain": [
          0.5930555555555554,
          0.661111111111111
         ]
        },
        "xaxis93": {
         "anchor": "y93",
         "domain": [
          0.6777777777777777,
          0.7458333333333332
         ]
        },
        "xaxis94": {
         "anchor": "y94",
         "domain": [
          0.7625,
          0.8305555555555555
         ]
        },
        "xaxis95": {
         "anchor": "y95",
         "domain": [
          0.8472222222222221,
          0.9152777777777776
         ]
        },
        "xaxis96": {
         "anchor": "y96",
         "domain": [
          0.9319444444444444,
          0.9999999999999999
         ]
        },
        "yaxis": {
         "anchor": "x",
         "domain": [
          0.9296875,
          1
         ],
         "matches": "y85"
        },
        "yaxis10": {
         "anchor": "x10",
         "domain": [
          0.9296875,
          1
         ],
         "matches": "y85",
         "showticklabels": false
        },
        "yaxis11": {
         "anchor": "x11",
         "domain": [
          0.9296875,
          1
         ],
         "matches": "y85",
         "showticklabels": false
        },
        "yaxis12": {
         "anchor": "x12",
         "domain": [
          0.9296875,
          1
         ],
         "matches": "y85",
         "showticklabels": false
        },
        "yaxis13": {
         "anchor": "x13",
         "domain": [
          0.796875,
          0.8671875
         ],
         "matches": "y85"
        },
        "yaxis14": {
         "anchor": "x14",
         "domain": [
          0.796875,
          0.8671875
         ],
         "matches": "y85",
         "showticklabels": false
        },
        "yaxis15": {
         "anchor": "x15",
         "domain": [
          0.796875,
          0.8671875
         ],
         "matches": "y85",
         "showticklabels": false
        },
        "yaxis16": {
         "anchor": "x16",
         "domain": [
          0.796875,
          0.8671875
         ],
         "matches": "y85",
         "showticklabels": false
        },
        "yaxis17": {
         "anchor": "x17",
         "domain": [
          0.796875,
          0.8671875
         ],
         "matches": "y85",
         "showticklabels": false
        },
        "yaxis18": {
         "anchor": "x18",
         "domain": [
          0.796875,
          0.8671875
         ],
         "matches": "y85",
         "showticklabels": false
        },
        "yaxis19": {
         "anchor": "x19",
         "domain": [
          0.796875,
          0.8671875
         ],
         "matches": "y85",
         "showticklabels": false
        },
        "yaxis2": {
         "anchor": "x2",
         "domain": [
          0.9296875,
          1
         ],
         "matches": "y85",
         "showticklabels": false
        },
        "yaxis20": {
         "anchor": "x20",
         "domain": [
          0.796875,
          0.8671875
         ],
         "matches": "y85",
         "showticklabels": false
        },
        "yaxis21": {
         "anchor": "x21",
         "domain": [
          0.796875,
          0.8671875
         ],
         "matches": "y85",
         "showticklabels": false
        },
        "yaxis22": {
         "anchor": "x22",
         "domain": [
          0.796875,
          0.8671875
         ],
         "matches": "y85",
         "showticklabels": false
        },
        "yaxis23": {
         "anchor": "x23",
         "domain": [
          0.796875,
          0.8671875
         ],
         "matches": "y85",
         "showticklabels": false
        },
        "yaxis24": {
         "anchor": "x24",
         "domain": [
          0.796875,
          0.8671875
         ],
         "matches": "y85",
         "showticklabels": false
        },
        "yaxis25": {
         "anchor": "x25",
         "domain": [
          0.6640625,
          0.734375
         ],
         "matches": "y85"
        },
        "yaxis26": {
         "anchor": "x26",
         "domain": [
          0.6640625,
          0.734375
         ],
         "matches": "y85",
         "showticklabels": false
        },
        "yaxis27": {
         "anchor": "x27",
         "domain": [
          0.6640625,
          0.734375
         ],
         "matches": "y85",
         "showticklabels": false
        },
        "yaxis28": {
         "anchor": "x28",
         "domain": [
          0.6640625,
          0.734375
         ],
         "matches": "y85",
         "showticklabels": false
        },
        "yaxis29": {
         "anchor": "x29",
         "domain": [
          0.6640625,
          0.734375
         ],
         "matches": "y85",
         "showticklabels": false
        },
        "yaxis3": {
         "anchor": "x3",
         "domain": [
          0.9296875,
          1
         ],
         "matches": "y85",
         "showticklabels": false
        },
        "yaxis30": {
         "anchor": "x30",
         "domain": [
          0.6640625,
          0.734375
         ],
         "matches": "y85",
         "showticklabels": false
        },
        "yaxis31": {
         "anchor": "x31",
         "domain": [
          0.6640625,
          0.734375
         ],
         "matches": "y85",
         "showticklabels": false
        },
        "yaxis32": {
         "anchor": "x32",
         "domain": [
          0.6640625,
          0.734375
         ],
         "matches": "y85",
         "showticklabels": false
        },
        "yaxis33": {
         "anchor": "x33",
         "domain": [
          0.6640625,
          0.734375
         ],
         "matches": "y85",
         "showticklabels": false
        },
        "yaxis34": {
         "anchor": "x34",
         "domain": [
          0.6640625,
          0.734375
         ],
         "matches": "y85",
         "showticklabels": false
        },
        "yaxis35": {
         "anchor": "x35",
         "domain": [
          0.6640625,
          0.734375
         ],
         "matches": "y85",
         "showticklabels": false
        },
        "yaxis36": {
         "anchor": "x36",
         "domain": [
          0.6640625,
          0.734375
         ],
         "matches": "y85",
         "showticklabels": false
        },
        "yaxis37": {
         "anchor": "x37",
         "domain": [
          0.53125,
          0.6015625
         ],
         "matches": "y85"
        },
        "yaxis38": {
         "anchor": "x38",
         "domain": [
          0.53125,
          0.6015625
         ],
         "matches": "y85",
         "showticklabels": false
        },
        "yaxis39": {
         "anchor": "x39",
         "domain": [
          0.53125,
          0.6015625
         ],
         "matches": "y85",
         "showticklabels": false
        },
        "yaxis4": {
         "anchor": "x4",
         "domain": [
          0.9296875,
          1
         ],
         "matches": "y85",
         "showticklabels": false
        },
        "yaxis40": {
         "anchor": "x40",
         "domain": [
          0.53125,
          0.6015625
         ],
         "matches": "y85",
         "showticklabels": false
        },
        "yaxis41": {
         "anchor": "x41",
         "domain": [
          0.53125,
          0.6015625
         ],
         "matches": "y85",
         "showticklabels": false
        },
        "yaxis42": {
         "anchor": "x42",
         "domain": [
          0.53125,
          0.6015625
         ],
         "matches": "y85",
         "showticklabels": false
        },
        "yaxis43": {
         "anchor": "x43",
         "domain": [
          0.53125,
          0.6015625
         ],
         "matches": "y85",
         "showticklabels": false
        },
        "yaxis44": {
         "anchor": "x44",
         "domain": [
          0.53125,
          0.6015625
         ],
         "matches": "y85",
         "showticklabels": false
        },
        "yaxis45": {
         "anchor": "x45",
         "domain": [
          0.53125,
          0.6015625
         ],
         "matches": "y85",
         "showticklabels": false
        },
        "yaxis46": {
         "anchor": "x46",
         "domain": [
          0.53125,
          0.6015625
         ],
         "matches": "y85",
         "showticklabels": false
        },
        "yaxis47": {
         "anchor": "x47",
         "domain": [
          0.53125,
          0.6015625
         ],
         "matches": "y85",
         "showticklabels": false
        },
        "yaxis48": {
         "anchor": "x48",
         "domain": [
          0.53125,
          0.6015625
         ],
         "matches": "y85",
         "showticklabels": false
        },
        "yaxis49": {
         "anchor": "x49",
         "domain": [
          0.3984375,
          0.46875
         ],
         "matches": "y85"
        },
        "yaxis5": {
         "anchor": "x5",
         "domain": [
          0.9296875,
          1
         ],
         "matches": "y85",
         "showticklabels": false
        },
        "yaxis50": {
         "anchor": "x50",
         "domain": [
          0.3984375,
          0.46875
         ],
         "matches": "y85",
         "showticklabels": false
        },
        "yaxis51": {
         "anchor": "x51",
         "domain": [
          0.3984375,
          0.46875
         ],
         "matches": "y85",
         "showticklabels": false
        },
        "yaxis52": {
         "anchor": "x52",
         "domain": [
          0.3984375,
          0.46875
         ],
         "matches": "y85",
         "showticklabels": false
        },
        "yaxis53": {
         "anchor": "x53",
         "domain": [
          0.3984375,
          0.46875
         ],
         "matches": "y85",
         "showticklabels": false
        },
        "yaxis54": {
         "anchor": "x54",
         "domain": [
          0.3984375,
          0.46875
         ],
         "matches": "y85",
         "showticklabels": false
        },
        "yaxis55": {
         "anchor": "x55",
         "domain": [
          0.3984375,
          0.46875
         ],
         "matches": "y85",
         "showticklabels": false
        },
        "yaxis56": {
         "anchor": "x56",
         "domain": [
          0.3984375,
          0.46875
         ],
         "matches": "y85",
         "showticklabels": false
        },
        "yaxis57": {
         "anchor": "x57",
         "domain": [
          0.3984375,
          0.46875
         ],
         "matches": "y85",
         "showticklabels": false
        },
        "yaxis58": {
         "anchor": "x58",
         "domain": [
          0.3984375,
          0.46875
         ],
         "matches": "y85",
         "showticklabels": false
        },
        "yaxis59": {
         "anchor": "x59",
         "domain": [
          0.3984375,
          0.46875
         ],
         "matches": "y85",
         "showticklabels": false
        },
        "yaxis6": {
         "anchor": "x6",
         "domain": [
          0.9296875,
          1
         ],
         "matches": "y85",
         "showticklabels": false
        },
        "yaxis60": {
         "anchor": "x60",
         "domain": [
          0.3984375,
          0.46875
         ],
         "matches": "y85",
         "showticklabels": false
        },
        "yaxis61": {
         "anchor": "x61",
         "domain": [
          0.265625,
          0.3359375
         ],
         "matches": "y85"
        },
        "yaxis62": {
         "anchor": "x62",
         "domain": [
          0.265625,
          0.3359375
         ],
         "matches": "y85",
         "showticklabels": false
        },
        "yaxis63": {
         "anchor": "x63",
         "domain": [
          0.265625,
          0.3359375
         ],
         "matches": "y85",
         "showticklabels": false
        },
        "yaxis64": {
         "anchor": "x64",
         "domain": [
          0.265625,
          0.3359375
         ],
         "matches": "y85",
         "showticklabels": false
        },
        "yaxis65": {
         "anchor": "x65",
         "domain": [
          0.265625,
          0.3359375
         ],
         "matches": "y85",
         "showticklabels": false
        },
        "yaxis66": {
         "anchor": "x66",
         "domain": [
          0.265625,
          0.3359375
         ],
         "matches": "y85",
         "showticklabels": false
        },
        "yaxis67": {
         "anchor": "x67",
         "domain": [
          0.265625,
          0.3359375
         ],
         "matches": "y85",
         "showticklabels": false
        },
        "yaxis68": {
         "anchor": "x68",
         "domain": [
          0.265625,
          0.3359375
         ],
         "matches": "y85",
         "showticklabels": false
        },
        "yaxis69": {
         "anchor": "x69",
         "domain": [
          0.265625,
          0.3359375
         ],
         "matches": "y85",
         "showticklabels": false
        },
        "yaxis7": {
         "anchor": "x7",
         "domain": [
          0.9296875,
          1
         ],
         "matches": "y85",
         "showticklabels": false
        },
        "yaxis70": {
         "anchor": "x70",
         "domain": [
          0.265625,
          0.3359375
         ],
         "matches": "y85",
         "showticklabels": false
        },
        "yaxis71": {
         "anchor": "x71",
         "domain": [
          0.265625,
          0.3359375
         ],
         "matches": "y85",
         "showticklabels": false
        },
        "yaxis72": {
         "anchor": "x72",
         "domain": [
          0.265625,
          0.3359375
         ],
         "matches": "y85",
         "showticklabels": false
        },
        "yaxis73": {
         "anchor": "x73",
         "domain": [
          0.1328125,
          0.203125
         ],
         "matches": "y85"
        },
        "yaxis74": {
         "anchor": "x74",
         "domain": [
          0.1328125,
          0.203125
         ],
         "matches": "y85",
         "showticklabels": false
        },
        "yaxis75": {
         "anchor": "x75",
         "domain": [
          0.1328125,
          0.203125
         ],
         "matches": "y85",
         "showticklabels": false
        },
        "yaxis76": {
         "anchor": "x76",
         "domain": [
          0.1328125,
          0.203125
         ],
         "matches": "y85",
         "showticklabels": false
        },
        "yaxis77": {
         "anchor": "x77",
         "domain": [
          0.1328125,
          0.203125
         ],
         "matches": "y85",
         "showticklabels": false
        },
        "yaxis78": {
         "anchor": "x78",
         "domain": [
          0.1328125,
          0.203125
         ],
         "matches": "y85",
         "showticklabels": false
        },
        "yaxis79": {
         "anchor": "x79",
         "domain": [
          0.1328125,
          0.203125
         ],
         "matches": "y85",
         "showticklabels": false
        },
        "yaxis8": {
         "anchor": "x8",
         "domain": [
          0.9296875,
          1
         ],
         "matches": "y85",
         "showticklabels": false
        },
        "yaxis80": {
         "anchor": "x80",
         "domain": [
          0.1328125,
          0.203125
         ],
         "matches": "y85",
         "showticklabels": false
        },
        "yaxis81": {
         "anchor": "x81",
         "domain": [
          0.1328125,
          0.203125
         ],
         "matches": "y85",
         "showticklabels": false
        },
        "yaxis82": {
         "anchor": "x82",
         "domain": [
          0.1328125,
          0.203125
         ],
         "matches": "y85",
         "showticklabels": false
        },
        "yaxis83": {
         "anchor": "x83",
         "domain": [
          0.1328125,
          0.203125
         ],
         "matches": "y85",
         "showticklabels": false
        },
        "yaxis84": {
         "anchor": "x84",
         "domain": [
          0.1328125,
          0.203125
         ],
         "matches": "y85",
         "showticklabels": false
        },
        "yaxis85": {
         "anchor": "x85",
         "domain": [
          0,
          0.0703125
         ]
        },
        "yaxis86": {
         "anchor": "x86",
         "domain": [
          0,
          0.0703125
         ],
         "matches": "y85",
         "showticklabels": false
        },
        "yaxis87": {
         "anchor": "x87",
         "domain": [
          0,
          0.0703125
         ],
         "matches": "y85",
         "showticklabels": false
        },
        "yaxis88": {
         "anchor": "x88",
         "domain": [
          0,
          0.0703125
         ],
         "matches": "y85",
         "showticklabels": false
        },
        "yaxis89": {
         "anchor": "x89",
         "domain": [
          0,
          0.0703125
         ],
         "matches": "y85",
         "showticklabels": false
        },
        "yaxis9": {
         "anchor": "x9",
         "domain": [
          0.9296875,
          1
         ],
         "matches": "y85",
         "showticklabels": false
        },
        "yaxis90": {
         "anchor": "x90",
         "domain": [
          0,
          0.0703125
         ],
         "matches": "y85",
         "showticklabels": false
        },
        "yaxis91": {
         "anchor": "x91",
         "domain": [
          0,
          0.0703125
         ],
         "matches": "y85",
         "showticklabels": false
        },
        "yaxis92": {
         "anchor": "x92",
         "domain": [
          0,
          0.0703125
         ],
         "matches": "y85",
         "showticklabels": false
        },
        "yaxis93": {
         "anchor": "x93",
         "domain": [
          0,
          0.0703125
         ],
         "matches": "y85",
         "showticklabels": false
        },
        "yaxis94": {
         "anchor": "x94",
         "domain": [
          0,
          0.0703125
         ],
         "matches": "y85",
         "showticklabels": false
        },
        "yaxis95": {
         "anchor": "x95",
         "domain": [
          0,
          0.0703125
         ],
         "matches": "y85",
         "showticklabels": false
        },
        "yaxis96": {
         "anchor": "x96",
         "domain": [
          0,
          0.0703125
         ],
         "matches": "y85",
         "showticklabels": false
        }
       }
      }
     },
     "metadata": {},
     "output_type": "display_data"
    }
   ],
   "source": [
    "# instantiate probes\n",
    "# probeCy5 = FluorVis('Cy5')\n",
    "# probeFAM = FluorVis('FAM')\n",
    "# probeHEX = FluorVis('HEX')\n",
    "probeSYBR = FluorVis('SYBR')\n",
    "\n",
    "FluorVis.plotAllWells(probeSYBR)\n",
    "FluorVis.plotIndWells(probeSYBR)\n",
    "# FluorVis.plotAllWells(probeCy5)\n",
    "# FluorVis.plotIndWells(probeCy5)"
   ]
  },
  {
   "cell_type": "code",
   "execution_count": 35,
   "metadata": {},
   "outputs": [
    {
     "data": {
      "application/vnd.plotly.v1+json": {
       "config": {
        "plotlyServerURL": "https://plot.ly"
       },
       "data": [
        {
         "marker": {
          "color": "#2038A8"
         },
         "mode": "markers",
         "name": "Row Mean",
         "type": "scatter",
         "x": [
          50,
          100,
          200,
          400,
          600,
          800
         ],
         "y": [
          26.127499999999998,
          25.888333333333335,
          25.845833333333335,
          25.635,
          24.231666666666666,
          23.894166666666667
         ]
        },
        {
         "line": {
          "color": "#7564F5",
          "shape": "spline",
          "width": 1
         },
         "mode": "lines",
         "name": "Row (Modeled)",
         "type": "scatter",
         "x": [
          50,
          100,
          200,
          400,
          600,
          800
         ],
         "y": [
          26.218077559362428,
          26.06438182205693,
          25.75700306658655,
          25.14229642893315,
          24.527657616094075,
          23.91308662058327
         ]
        },
        {
         "marker": {
          "color": "#F58E17"
         },
         "mode": "markers",
         "name": "Col Mean",
         "type": "scatter",
         "x": [
          50,
          100,
          200,
          400,
          600,
          800
         ],
         "y": [
          27.52,
          25.176666666666666,
          24.91666666666667,
          24.647499999999997,
          24.851666666666663,
          24.51
         ]
        },
        {
         "line": {
          "color": "#F5BD69",
          "shape": "spline",
          "width": 1
         },
         "mode": "lines",
         "name": "Col (Modeled)",
         "type": "scatter",
         "x": [
          50,
          100,
          200,
          400,
          600,
          800
         ],
         "y": [
          27.518333821461333,
          25.191627606556224,
          24.7379053418909,
          24.724884511800987,
          24.72487436291009,
          24.724874354999688
         ]
        }
       ],
       "layout": {
        "template": {
         "data": {
          "bar": [
           {
            "error_x": {
             "color": "#2a3f5f"
            },
            "error_y": {
             "color": "#2a3f5f"
            },
            "marker": {
             "line": {
              "color": "#E5ECF6",
              "width": 0.5
             },
             "pattern": {
              "fillmode": "overlay",
              "size": 10,
              "solidity": 0.2
             }
            },
            "type": "bar"
           }
          ],
          "barpolar": [
           {
            "marker": {
             "line": {
              "color": "#E5ECF6",
              "width": 0.5
             },
             "pattern": {
              "fillmode": "overlay",
              "size": 10,
              "solidity": 0.2
             }
            },
            "type": "barpolar"
           }
          ],
          "carpet": [
           {
            "aaxis": {
             "endlinecolor": "#2a3f5f",
             "gridcolor": "white",
             "linecolor": "white",
             "minorgridcolor": "white",
             "startlinecolor": "#2a3f5f"
            },
            "baxis": {
             "endlinecolor": "#2a3f5f",
             "gridcolor": "white",
             "linecolor": "white",
             "minorgridcolor": "white",
             "startlinecolor": "#2a3f5f"
            },
            "type": "carpet"
           }
          ],
          "choropleth": [
           {
            "colorbar": {
             "outlinewidth": 0,
             "ticks": ""
            },
            "type": "choropleth"
           }
          ],
          "contour": [
           {
            "colorbar": {
             "outlinewidth": 0,
             "ticks": ""
            },
            "colorscale": [
             [
              0,
              "#0d0887"
             ],
             [
              0.1111111111111111,
              "#46039f"
             ],
             [
              0.2222222222222222,
              "#7201a8"
             ],
             [
              0.3333333333333333,
              "#9c179e"
             ],
             [
              0.4444444444444444,
              "#bd3786"
             ],
             [
              0.5555555555555556,
              "#d8576b"
             ],
             [
              0.6666666666666666,
              "#ed7953"
             ],
             [
              0.7777777777777778,
              "#fb9f3a"
             ],
             [
              0.8888888888888888,
              "#fdca26"
             ],
             [
              1,
              "#f0f921"
             ]
            ],
            "type": "contour"
           }
          ],
          "contourcarpet": [
           {
            "colorbar": {
             "outlinewidth": 0,
             "ticks": ""
            },
            "type": "contourcarpet"
           }
          ],
          "heatmap": [
           {
            "colorbar": {
             "outlinewidth": 0,
             "ticks": ""
            },
            "colorscale": [
             [
              0,
              "#0d0887"
             ],
             [
              0.1111111111111111,
              "#46039f"
             ],
             [
              0.2222222222222222,
              "#7201a8"
             ],
             [
              0.3333333333333333,
              "#9c179e"
             ],
             [
              0.4444444444444444,
              "#bd3786"
             ],
             [
              0.5555555555555556,
              "#d8576b"
             ],
             [
              0.6666666666666666,
              "#ed7953"
             ],
             [
              0.7777777777777778,
              "#fb9f3a"
             ],
             [
              0.8888888888888888,
              "#fdca26"
             ],
             [
              1,
              "#f0f921"
             ]
            ],
            "type": "heatmap"
           }
          ],
          "heatmapgl": [
           {
            "colorbar": {
             "outlinewidth": 0,
             "ticks": ""
            },
            "colorscale": [
             [
              0,
              "#0d0887"
             ],
             [
              0.1111111111111111,
              "#46039f"
             ],
             [
              0.2222222222222222,
              "#7201a8"
             ],
             [
              0.3333333333333333,
              "#9c179e"
             ],
             [
              0.4444444444444444,
              "#bd3786"
             ],
             [
              0.5555555555555556,
              "#d8576b"
             ],
             [
              0.6666666666666666,
              "#ed7953"
             ],
             [
              0.7777777777777778,
              "#fb9f3a"
             ],
             [
              0.8888888888888888,
              "#fdca26"
             ],
             [
              1,
              "#f0f921"
             ]
            ],
            "type": "heatmapgl"
           }
          ],
          "histogram": [
           {
            "marker": {
             "pattern": {
              "fillmode": "overlay",
              "size": 10,
              "solidity": 0.2
             }
            },
            "type": "histogram"
           }
          ],
          "histogram2d": [
           {
            "colorbar": {
             "outlinewidth": 0,
             "ticks": ""
            },
            "colorscale": [
             [
              0,
              "#0d0887"
             ],
             [
              0.1111111111111111,
              "#46039f"
             ],
             [
              0.2222222222222222,
              "#7201a8"
             ],
             [
              0.3333333333333333,
              "#9c179e"
             ],
             [
              0.4444444444444444,
              "#bd3786"
             ],
             [
              0.5555555555555556,
              "#d8576b"
             ],
             [
              0.6666666666666666,
              "#ed7953"
             ],
             [
              0.7777777777777778,
              "#fb9f3a"
             ],
             [
              0.8888888888888888,
              "#fdca26"
             ],
             [
              1,
              "#f0f921"
             ]
            ],
            "type": "histogram2d"
           }
          ],
          "histogram2dcontour": [
           {
            "colorbar": {
             "outlinewidth": 0,
             "ticks": ""
            },
            "colorscale": [
             [
              0,
              "#0d0887"
             ],
             [
              0.1111111111111111,
              "#46039f"
             ],
             [
              0.2222222222222222,
              "#7201a8"
             ],
             [
              0.3333333333333333,
              "#9c179e"
             ],
             [
              0.4444444444444444,
              "#bd3786"
             ],
             [
              0.5555555555555556,
              "#d8576b"
             ],
             [
              0.6666666666666666,
              "#ed7953"
             ],
             [
              0.7777777777777778,
              "#fb9f3a"
             ],
             [
              0.8888888888888888,
              "#fdca26"
             ],
             [
              1,
              "#f0f921"
             ]
            ],
            "type": "histogram2dcontour"
           }
          ],
          "mesh3d": [
           {
            "colorbar": {
             "outlinewidth": 0,
             "ticks": ""
            },
            "type": "mesh3d"
           }
          ],
          "parcoords": [
           {
            "line": {
             "colorbar": {
              "outlinewidth": 0,
              "ticks": ""
             }
            },
            "type": "parcoords"
           }
          ],
          "pie": [
           {
            "automargin": true,
            "type": "pie"
           }
          ],
          "scatter": [
           {
            "fillpattern": {
             "fillmode": "overlay",
             "size": 10,
             "solidity": 0.2
            },
            "type": "scatter"
           }
          ],
          "scatter3d": [
           {
            "line": {
             "colorbar": {
              "outlinewidth": 0,
              "ticks": ""
             }
            },
            "marker": {
             "colorbar": {
              "outlinewidth": 0,
              "ticks": ""
             }
            },
            "type": "scatter3d"
           }
          ],
          "scattercarpet": [
           {
            "marker": {
             "colorbar": {
              "outlinewidth": 0,
              "ticks": ""
             }
            },
            "type": "scattercarpet"
           }
          ],
          "scattergeo": [
           {
            "marker": {
             "colorbar": {
              "outlinewidth": 0,
              "ticks": ""
             }
            },
            "type": "scattergeo"
           }
          ],
          "scattergl": [
           {
            "marker": {
             "colorbar": {
              "outlinewidth": 0,
              "ticks": ""
             }
            },
            "type": "scattergl"
           }
          ],
          "scattermapbox": [
           {
            "marker": {
             "colorbar": {
              "outlinewidth": 0,
              "ticks": ""
             }
            },
            "type": "scattermapbox"
           }
          ],
          "scatterpolar": [
           {
            "marker": {
             "colorbar": {
              "outlinewidth": 0,
              "ticks": ""
             }
            },
            "type": "scatterpolar"
           }
          ],
          "scatterpolargl": [
           {
            "marker": {
             "colorbar": {
              "outlinewidth": 0,
              "ticks": ""
             }
            },
            "type": "scatterpolargl"
           }
          ],
          "scatterternary": [
           {
            "marker": {
             "colorbar": {
              "outlinewidth": 0,
              "ticks": ""
             }
            },
            "type": "scatterternary"
           }
          ],
          "surface": [
           {
            "colorbar": {
             "outlinewidth": 0,
             "ticks": ""
            },
            "colorscale": [
             [
              0,
              "#0d0887"
             ],
             [
              0.1111111111111111,
              "#46039f"
             ],
             [
              0.2222222222222222,
              "#7201a8"
             ],
             [
              0.3333333333333333,
              "#9c179e"
             ],
             [
              0.4444444444444444,
              "#bd3786"
             ],
             [
              0.5555555555555556,
              "#d8576b"
             ],
             [
              0.6666666666666666,
              "#ed7953"
             ],
             [
              0.7777777777777778,
              "#fb9f3a"
             ],
             [
              0.8888888888888888,
              "#fdca26"
             ],
             [
              1,
              "#f0f921"
             ]
            ],
            "type": "surface"
           }
          ],
          "table": [
           {
            "cells": {
             "fill": {
              "color": "#EBF0F8"
             },
             "line": {
              "color": "white"
             }
            },
            "header": {
             "fill": {
              "color": "#C8D4E3"
             },
             "line": {
              "color": "white"
             }
            },
            "type": "table"
           }
          ]
         },
         "layout": {
          "annotationdefaults": {
           "arrowcolor": "#2a3f5f",
           "arrowhead": 0,
           "arrowwidth": 1
          },
          "autotypenumbers": "strict",
          "coloraxis": {
           "colorbar": {
            "outlinewidth": 0,
            "ticks": ""
           }
          },
          "colorscale": {
           "diverging": [
            [
             0,
             "#8e0152"
            ],
            [
             0.1,
             "#c51b7d"
            ],
            [
             0.2,
             "#de77ae"
            ],
            [
             0.3,
             "#f1b6da"
            ],
            [
             0.4,
             "#fde0ef"
            ],
            [
             0.5,
             "#f7f7f7"
            ],
            [
             0.6,
             "#e6f5d0"
            ],
            [
             0.7,
             "#b8e186"
            ],
            [
             0.8,
             "#7fbc41"
            ],
            [
             0.9,
             "#4d9221"
            ],
            [
             1,
             "#276419"
            ]
           ],
           "sequential": [
            [
             0,
             "#0d0887"
            ],
            [
             0.1111111111111111,
             "#46039f"
            ],
            [
             0.2222222222222222,
             "#7201a8"
            ],
            [
             0.3333333333333333,
             "#9c179e"
            ],
            [
             0.4444444444444444,
             "#bd3786"
            ],
            [
             0.5555555555555556,
             "#d8576b"
            ],
            [
             0.6666666666666666,
             "#ed7953"
            ],
            [
             0.7777777777777778,
             "#fb9f3a"
            ],
            [
             0.8888888888888888,
             "#fdca26"
            ],
            [
             1,
             "#f0f921"
            ]
           ],
           "sequentialminus": [
            [
             0,
             "#0d0887"
            ],
            [
             0.1111111111111111,
             "#46039f"
            ],
            [
             0.2222222222222222,
             "#7201a8"
            ],
            [
             0.3333333333333333,
             "#9c179e"
            ],
            [
             0.4444444444444444,
             "#bd3786"
            ],
            [
             0.5555555555555556,
             "#d8576b"
            ],
            [
             0.6666666666666666,
             "#ed7953"
            ],
            [
             0.7777777777777778,
             "#fb9f3a"
            ],
            [
             0.8888888888888888,
             "#fdca26"
            ],
            [
             1,
             "#f0f921"
            ]
           ]
          },
          "colorway": [
           "#636efa",
           "#EF553B",
           "#00cc96",
           "#ab63fa",
           "#FFA15A",
           "#19d3f3",
           "#FF6692",
           "#B6E880",
           "#FF97FF",
           "#FECB52"
          ],
          "font": {
           "color": "#2a3f5f"
          },
          "geo": {
           "bgcolor": "white",
           "lakecolor": "white",
           "landcolor": "#E5ECF6",
           "showlakes": true,
           "showland": true,
           "subunitcolor": "white"
          },
          "hoverlabel": {
           "align": "left"
          },
          "hovermode": "closest",
          "mapbox": {
           "style": "light"
          },
          "paper_bgcolor": "white",
          "plot_bgcolor": "#E5ECF6",
          "polar": {
           "angularaxis": {
            "gridcolor": "white",
            "linecolor": "white",
            "ticks": ""
           },
           "bgcolor": "#E5ECF6",
           "radialaxis": {
            "gridcolor": "white",
            "linecolor": "white",
            "ticks": ""
           }
          },
          "scene": {
           "xaxis": {
            "backgroundcolor": "#E5ECF6",
            "gridcolor": "white",
            "gridwidth": 2,
            "linecolor": "white",
            "showbackground": true,
            "ticks": "",
            "zerolinecolor": "white"
           },
           "yaxis": {
            "backgroundcolor": "#E5ECF6",
            "gridcolor": "white",
            "gridwidth": 2,
            "linecolor": "white",
            "showbackground": true,
            "ticks": "",
            "zerolinecolor": "white"
           },
           "zaxis": {
            "backgroundcolor": "#E5ECF6",
            "gridcolor": "white",
            "gridwidth": 2,
            "linecolor": "white",
            "showbackground": true,
            "ticks": "",
            "zerolinecolor": "white"
           }
          },
          "shapedefaults": {
           "line": {
            "color": "#2a3f5f"
           }
          },
          "ternary": {
           "aaxis": {
            "gridcolor": "white",
            "linecolor": "white",
            "ticks": ""
           },
           "baxis": {
            "gridcolor": "white",
            "linecolor": "white",
            "ticks": ""
           },
           "bgcolor": "#E5ECF6",
           "caxis": {
            "gridcolor": "white",
            "linecolor": "white",
            "ticks": ""
           }
          },
          "title": {
           "x": 0.05
          },
          "xaxis": {
           "automargin": true,
           "gridcolor": "white",
           "linecolor": "white",
           "ticks": "",
           "title": {
            "standoff": 15
           },
           "zerolinecolor": "white",
           "zerolinewidth": 2
          },
          "yaxis": {
           "automargin": true,
           "gridcolor": "white",
           "linecolor": "white",
           "ticks": "",
           "title": {
            "standoff": 15
           },
           "zerolinecolor": "white",
           "zerolinewidth": 2
          }
         }
        },
        "title": {
         "text": "Row vs Col Means"
        },
        "xaxis": {
         "title": {
          "text": "Mean"
         }
        },
        "yaxis": {
         "title": {
          "text": "Cq"
         }
        }
       }
      }
     },
     "metadata": {},
     "output_type": "display_data"
    },
    {
     "data": {
      "application/vnd.plotly.v1+json": {
       "config": {
        "plotlyServerURL": "https://plot.ly"
       },
       "data": [
        {
         "alignmentgroup": "True",
         "hovertemplate": "F Primer Concentration=%{x}<br>Ct=%{y}<br>R_primer=%{marker.color}<extra></extra>",
         "legendgroup": "",
         "marker": {
          "color": [
           50,
           50,
           50,
           50,
           50,
           50,
           100,
           100,
           100,
           100,
           100,
           100,
           200,
           200,
           200,
           200,
           200,
           200,
           400,
           400,
           400,
           400,
           400,
           400,
           600,
           600,
           600,
           600,
           600,
           600,
           800,
           800,
           800,
           800,
           800,
           800
          ],
          "coloraxis": "coloraxis",
          "pattern": {
           "shape": ""
          }
         },
         "name": "",
         "offsetgroup": "",
         "orientation": "v",
         "showlegend": false,
         "textposition": "auto",
         "texttemplate": "%{y}",
         "type": "bar",
         "x": [
          "50.0_50.0",
          "100.0_50.0",
          "200.0_50.0",
          "400.0_50.0",
          "600.0_50.0",
          "800.0_50.0",
          "50.0_100.0",
          "100.0_100.0",
          "200.0_100.0",
          "400.0_100.0",
          "600.0_100.0",
          "800.0_100.0",
          "50.0_200.0",
          "100.0_200.0",
          "200.0_200.0",
          "400.0_200.0",
          "600.0_200.0",
          "800.0_200.0",
          "50.0_400.0",
          "100.0_400.0",
          "200.0_400.0",
          "400.0_400.0",
          "600.0_400.0",
          "800.0_400.0",
          "50.0_600.0",
          "100.0_600.0",
          "200.0_600.0",
          "400.0_600.0",
          "600.0_600.0",
          "800.0_600.0",
          "50.0_800.0",
          "100.0_800.0",
          "200.0_800.0",
          "400.0_800.0",
          "600.0_800.0",
          "800.0_800.0"
         ],
         "xaxis": "x",
         "y": [
          29.18,
          25.845,
          26.16,
          25.9,
          25.235,
          24.445,
          27.58,
          25.28,
          25.619999999999997,
          25.23,
          25.93,
          25.689999999999998,
          27.93,
          25.9,
          25.795,
          25.265,
          25.235,
          24.95,
          27.835,
          25.84,
          24.91,
          24.835,
          25.4,
          24.990000000000002,
          26.259999999999998,
          24.31,
          23.705,
          23.509999999999998,
          23.875,
          23.73,
          26.335,
          23.884999999999998,
          23.310000000000002,
          23.145000000000003,
          23.435000000000002,
          23.255000000000003
         ],
         "yaxis": "y"
        }
       ],
       "layout": {
        "barmode": "group",
        "coloraxis": {
         "colorbar": {
          "title": {
           "text": "R_primer"
          }
         },
         "colorscale": [
          [
           0,
           "#0d0887"
          ],
          [
           0.1111111111111111,
           "#46039f"
          ],
          [
           0.2222222222222222,
           "#7201a8"
          ],
          [
           0.3333333333333333,
           "#9c179e"
          ],
          [
           0.4444444444444444,
           "#bd3786"
          ],
          [
           0.5555555555555556,
           "#d8576b"
          ],
          [
           0.6666666666666666,
           "#ed7953"
          ],
          [
           0.7777777777777778,
           "#fb9f3a"
          ],
          [
           0.8888888888888888,
           "#fdca26"
          ],
          [
           1,
           "#f0f921"
          ]
         ]
        },
        "legend": {
         "tracegroupgap": 0
        },
        "template": {
         "data": {
          "bar": [
           {
            "error_x": {
             "color": "#2a3f5f"
            },
            "error_y": {
             "color": "#2a3f5f"
            },
            "marker": {
             "line": {
              "color": "#E5ECF6",
              "width": 0.5
             },
             "pattern": {
              "fillmode": "overlay",
              "size": 10,
              "solidity": 0.2
             }
            },
            "type": "bar"
           }
          ],
          "barpolar": [
           {
            "marker": {
             "line": {
              "color": "#E5ECF6",
              "width": 0.5
             },
             "pattern": {
              "fillmode": "overlay",
              "size": 10,
              "solidity": 0.2
             }
            },
            "type": "barpolar"
           }
          ],
          "carpet": [
           {
            "aaxis": {
             "endlinecolor": "#2a3f5f",
             "gridcolor": "white",
             "linecolor": "white",
             "minorgridcolor": "white",
             "startlinecolor": "#2a3f5f"
            },
            "baxis": {
             "endlinecolor": "#2a3f5f",
             "gridcolor": "white",
             "linecolor": "white",
             "minorgridcolor": "white",
             "startlinecolor": "#2a3f5f"
            },
            "type": "carpet"
           }
          ],
          "choropleth": [
           {
            "colorbar": {
             "outlinewidth": 0,
             "ticks": ""
            },
            "type": "choropleth"
           }
          ],
          "contour": [
           {
            "colorbar": {
             "outlinewidth": 0,
             "ticks": ""
            },
            "colorscale": [
             [
              0,
              "#0d0887"
             ],
             [
              0.1111111111111111,
              "#46039f"
             ],
             [
              0.2222222222222222,
              "#7201a8"
             ],
             [
              0.3333333333333333,
              "#9c179e"
             ],
             [
              0.4444444444444444,
              "#bd3786"
             ],
             [
              0.5555555555555556,
              "#d8576b"
             ],
             [
              0.6666666666666666,
              "#ed7953"
             ],
             [
              0.7777777777777778,
              "#fb9f3a"
             ],
             [
              0.8888888888888888,
              "#fdca26"
             ],
             [
              1,
              "#f0f921"
             ]
            ],
            "type": "contour"
           }
          ],
          "contourcarpet": [
           {
            "colorbar": {
             "outlinewidth": 0,
             "ticks": ""
            },
            "type": "contourcarpet"
           }
          ],
          "heatmap": [
           {
            "colorbar": {
             "outlinewidth": 0,
             "ticks": ""
            },
            "colorscale": [
             [
              0,
              "#0d0887"
             ],
             [
              0.1111111111111111,
              "#46039f"
             ],
             [
              0.2222222222222222,
              "#7201a8"
             ],
             [
              0.3333333333333333,
              "#9c179e"
             ],
             [
              0.4444444444444444,
              "#bd3786"
             ],
             [
              0.5555555555555556,
              "#d8576b"
             ],
             [
              0.6666666666666666,
              "#ed7953"
             ],
             [
              0.7777777777777778,
              "#fb9f3a"
             ],
             [
              0.8888888888888888,
              "#fdca26"
             ],
             [
              1,
              "#f0f921"
             ]
            ],
            "type": "heatmap"
           }
          ],
          "heatmapgl": [
           {
            "colorbar": {
             "outlinewidth": 0,
             "ticks": ""
            },
            "colorscale": [
             [
              0,
              "#0d0887"
             ],
             [
              0.1111111111111111,
              "#46039f"
             ],
             [
              0.2222222222222222,
              "#7201a8"
             ],
             [
              0.3333333333333333,
              "#9c179e"
             ],
             [
              0.4444444444444444,
              "#bd3786"
             ],
             [
              0.5555555555555556,
              "#d8576b"
             ],
             [
              0.6666666666666666,
              "#ed7953"
             ],
             [
              0.7777777777777778,
              "#fb9f3a"
             ],
             [
              0.8888888888888888,
              "#fdca26"
             ],
             [
              1,
              "#f0f921"
             ]
            ],
            "type": "heatmapgl"
           }
          ],
          "histogram": [
           {
            "marker": {
             "pattern": {
              "fillmode": "overlay",
              "size": 10,
              "solidity": 0.2
             }
            },
            "type": "histogram"
           }
          ],
          "histogram2d": [
           {
            "colorbar": {
             "outlinewidth": 0,
             "ticks": ""
            },
            "colorscale": [
             [
              0,
              "#0d0887"
             ],
             [
              0.1111111111111111,
              "#46039f"
             ],
             [
              0.2222222222222222,
              "#7201a8"
             ],
             [
              0.3333333333333333,
              "#9c179e"
             ],
             [
              0.4444444444444444,
              "#bd3786"
             ],
             [
              0.5555555555555556,
              "#d8576b"
             ],
             [
              0.6666666666666666,
              "#ed7953"
             ],
             [
              0.7777777777777778,
              "#fb9f3a"
             ],
             [
              0.8888888888888888,
              "#fdca26"
             ],
             [
              1,
              "#f0f921"
             ]
            ],
            "type": "histogram2d"
           }
          ],
          "histogram2dcontour": [
           {
            "colorbar": {
             "outlinewidth": 0,
             "ticks": ""
            },
            "colorscale": [
             [
              0,
              "#0d0887"
             ],
             [
              0.1111111111111111,
              "#46039f"
             ],
             [
              0.2222222222222222,
              "#7201a8"
             ],
             [
              0.3333333333333333,
              "#9c179e"
             ],
             [
              0.4444444444444444,
              "#bd3786"
             ],
             [
              0.5555555555555556,
              "#d8576b"
             ],
             [
              0.6666666666666666,
              "#ed7953"
             ],
             [
              0.7777777777777778,
              "#fb9f3a"
             ],
             [
              0.8888888888888888,
              "#fdca26"
             ],
             [
              1,
              "#f0f921"
             ]
            ],
            "type": "histogram2dcontour"
           }
          ],
          "mesh3d": [
           {
            "colorbar": {
             "outlinewidth": 0,
             "ticks": ""
            },
            "type": "mesh3d"
           }
          ],
          "parcoords": [
           {
            "line": {
             "colorbar": {
              "outlinewidth": 0,
              "ticks": ""
             }
            },
            "type": "parcoords"
           }
          ],
          "pie": [
           {
            "automargin": true,
            "type": "pie"
           }
          ],
          "scatter": [
           {
            "fillpattern": {
             "fillmode": "overlay",
             "size": 10,
             "solidity": 0.2
            },
            "type": "scatter"
           }
          ],
          "scatter3d": [
           {
            "line": {
             "colorbar": {
              "outlinewidth": 0,
              "ticks": ""
             }
            },
            "marker": {
             "colorbar": {
              "outlinewidth": 0,
              "ticks": ""
             }
            },
            "type": "scatter3d"
           }
          ],
          "scattercarpet": [
           {
            "marker": {
             "colorbar": {
              "outlinewidth": 0,
              "ticks": ""
             }
            },
            "type": "scattercarpet"
           }
          ],
          "scattergeo": [
           {
            "marker": {
             "colorbar": {
              "outlinewidth": 0,
              "ticks": ""
             }
            },
            "type": "scattergeo"
           }
          ],
          "scattergl": [
           {
            "marker": {
             "colorbar": {
              "outlinewidth": 0,
              "ticks": ""
             }
            },
            "type": "scattergl"
           }
          ],
          "scattermapbox": [
           {
            "marker": {
             "colorbar": {
              "outlinewidth": 0,
              "ticks": ""
             }
            },
            "type": "scattermapbox"
           }
          ],
          "scatterpolar": [
           {
            "marker": {
             "colorbar": {
              "outlinewidth": 0,
              "ticks": ""
             }
            },
            "type": "scatterpolar"
           }
          ],
          "scatterpolargl": [
           {
            "marker": {
             "colorbar": {
              "outlinewidth": 0,
              "ticks": ""
             }
            },
            "type": "scatterpolargl"
           }
          ],
          "scatterternary": [
           {
            "marker": {
             "colorbar": {
              "outlinewidth": 0,
              "ticks": ""
             }
            },
            "type": "scatterternary"
           }
          ],
          "surface": [
           {
            "colorbar": {
             "outlinewidth": 0,
             "ticks": ""
            },
            "colorscale": [
             [
              0,
              "#0d0887"
             ],
             [
              0.1111111111111111,
              "#46039f"
             ],
             [
              0.2222222222222222,
              "#7201a8"
             ],
             [
              0.3333333333333333,
              "#9c179e"
             ],
             [
              0.4444444444444444,
              "#bd3786"
             ],
             [
              0.5555555555555556,
              "#d8576b"
             ],
             [
              0.6666666666666666,
              "#ed7953"
             ],
             [
              0.7777777777777778,
              "#fb9f3a"
             ],
             [
              0.8888888888888888,
              "#fdca26"
             ],
             [
              1,
              "#f0f921"
             ]
            ],
            "type": "surface"
           }
          ],
          "table": [
           {
            "cells": {
             "fill": {
              "color": "#EBF0F8"
             },
             "line": {
              "color": "white"
             }
            },
            "header": {
             "fill": {
              "color": "#C8D4E3"
             },
             "line": {
              "color": "white"
             }
            },
            "type": "table"
           }
          ]
         },
         "layout": {
          "annotationdefaults": {
           "arrowcolor": "#2a3f5f",
           "arrowhead": 0,
           "arrowwidth": 1
          },
          "autotypenumbers": "strict",
          "coloraxis": {
           "colorbar": {
            "outlinewidth": 0,
            "ticks": ""
           }
          },
          "colorscale": {
           "diverging": [
            [
             0,
             "#8e0152"
            ],
            [
             0.1,
             "#c51b7d"
            ],
            [
             0.2,
             "#de77ae"
            ],
            [
             0.3,
             "#f1b6da"
            ],
            [
             0.4,
             "#fde0ef"
            ],
            [
             0.5,
             "#f7f7f7"
            ],
            [
             0.6,
             "#e6f5d0"
            ],
            [
             0.7,
             "#b8e186"
            ],
            [
             0.8,
             "#7fbc41"
            ],
            [
             0.9,
             "#4d9221"
            ],
            [
             1,
             "#276419"
            ]
           ],
           "sequential": [
            [
             0,
             "#0d0887"
            ],
            [
             0.1111111111111111,
             "#46039f"
            ],
            [
             0.2222222222222222,
             "#7201a8"
            ],
            [
             0.3333333333333333,
             "#9c179e"
            ],
            [
             0.4444444444444444,
             "#bd3786"
            ],
            [
             0.5555555555555556,
             "#d8576b"
            ],
            [
             0.6666666666666666,
             "#ed7953"
            ],
            [
             0.7777777777777778,
             "#fb9f3a"
            ],
            [
             0.8888888888888888,
             "#fdca26"
            ],
            [
             1,
             "#f0f921"
            ]
           ],
           "sequentialminus": [
            [
             0,
             "#0d0887"
            ],
            [
             0.1111111111111111,
             "#46039f"
            ],
            [
             0.2222222222222222,
             "#7201a8"
            ],
            [
             0.3333333333333333,
             "#9c179e"
            ],
            [
             0.4444444444444444,
             "#bd3786"
            ],
            [
             0.5555555555555556,
             "#d8576b"
            ],
            [
             0.6666666666666666,
             "#ed7953"
            ],
            [
             0.7777777777777778,
             "#fb9f3a"
            ],
            [
             0.8888888888888888,
             "#fdca26"
            ],
            [
             1,
             "#f0f921"
            ]
           ]
          },
          "colorway": [
           "#636efa",
           "#EF553B",
           "#00cc96",
           "#ab63fa",
           "#FFA15A",
           "#19d3f3",
           "#FF6692",
           "#B6E880",
           "#FF97FF",
           "#FECB52"
          ],
          "font": {
           "color": "#2a3f5f"
          },
          "geo": {
           "bgcolor": "white",
           "lakecolor": "white",
           "landcolor": "#E5ECF6",
           "showlakes": true,
           "showland": true,
           "subunitcolor": "white"
          },
          "hoverlabel": {
           "align": "left"
          },
          "hovermode": "closest",
          "mapbox": {
           "style": "light"
          },
          "paper_bgcolor": "white",
          "plot_bgcolor": "#E5ECF6",
          "polar": {
           "angularaxis": {
            "gridcolor": "white",
            "linecolor": "white",
            "ticks": ""
           },
           "bgcolor": "#E5ECF6",
           "radialaxis": {
            "gridcolor": "white",
            "linecolor": "white",
            "ticks": ""
           }
          },
          "scene": {
           "xaxis": {
            "backgroundcolor": "#E5ECF6",
            "gridcolor": "white",
            "gridwidth": 2,
            "linecolor": "white",
            "showbackground": true,
            "ticks": "",
            "zerolinecolor": "white"
           },
           "yaxis": {
            "backgroundcolor": "#E5ECF6",
            "gridcolor": "white",
            "gridwidth": 2,
            "linecolor": "white",
            "showbackground": true,
            "ticks": "",
            "zerolinecolor": "white"
           },
           "zaxis": {
            "backgroundcolor": "#E5ECF6",
            "gridcolor": "white",
            "gridwidth": 2,
            "linecolor": "white",
            "showbackground": true,
            "ticks": "",
            "zerolinecolor": "white"
           }
          },
          "shapedefaults": {
           "line": {
            "color": "#2a3f5f"
           }
          },
          "ternary": {
           "aaxis": {
            "gridcolor": "white",
            "linecolor": "white",
            "ticks": ""
           },
           "baxis": {
            "gridcolor": "white",
            "linecolor": "white",
            "ticks": ""
           },
           "bgcolor": "#E5ECF6",
           "caxis": {
            "gridcolor": "white",
            "linecolor": "white",
            "ticks": ""
           }
          },
          "title": {
           "x": 0.05
          },
          "xaxis": {
           "automargin": true,
           "gridcolor": "white",
           "linecolor": "white",
           "ticks": "",
           "title": {
            "standoff": 15
           },
           "zerolinecolor": "white",
           "zerolinewidth": 2
          },
          "yaxis": {
           "automargin": true,
           "gridcolor": "white",
           "linecolor": "white",
           "ticks": "",
           "title": {
            "standoff": 15
           },
           "zerolinecolor": "white",
           "zerolinewidth": 2
          }
         }
        },
        "title": {
         "text": "Periodicity in Increasing [Fwd] (Going Across Row)<br>[Rev] Held Constant, Two Points per Condition Averaged"
        },
        "xaxis": {
         "anchor": "y",
         "domain": [
          0,
          1
         ],
         "title": {
          "text": "F Primer Concentration"
         }
        },
        "yaxis": {
         "anchor": "x",
         "domain": [
          0,
          1
         ],
         "title": {
          "text": "Ct"
         }
        }
       }
      }
     },
     "metadata": {},
     "output_type": "display_data"
    },
    {
     "data": {
      "application/vnd.plotly.v1+json": {
       "config": {
        "plotlyServerURL": "https://plot.ly"
       },
       "data": [
        {
         "alignmentgroup": "True",
         "hovertemplate": "R Primer Concentration=%{x}<br>Ct=%{y}<br>F_primer=%{marker.color}<extra></extra>",
         "legendgroup": "",
         "marker": {
          "color": [
           50,
           50,
           50,
           50,
           50,
           50,
           100,
           100,
           100,
           100,
           100,
           100,
           200,
           200,
           200,
           200,
           200,
           200,
           400,
           400,
           400,
           400,
           400,
           400,
           600,
           600,
           600,
           600,
           600,
           600,
           800,
           800,
           800,
           800,
           800,
           800
          ],
          "coloraxis": "coloraxis",
          "pattern": {
           "shape": ""
          }
         },
         "name": "",
         "offsetgroup": "",
         "orientation": "v",
         "showlegend": false,
         "textposition": "auto",
         "texttemplate": "%{y}",
         "type": "bar",
         "x": [
          "50.0_50.0",
          "100.0_50.0",
          "200.0_50.0",
          "400.0_50.0",
          "600.0_50.0",
          "800.0_50.0",
          "50.0_100.0",
          "100.0_100.0",
          "200.0_100.0",
          "400.0_100.0",
          "600.0_100.0",
          "800.0_100.0",
          "50.0_200.0",
          "100.0_200.0",
          "200.0_200.0",
          "400.0_200.0",
          "600.0_200.0",
          "800.0_200.0",
          "50.0_400.0",
          "100.0_400.0",
          "200.0_400.0",
          "400.0_400.0",
          "600.0_400.0",
          "800.0_400.0",
          "50.0_600.0",
          "100.0_600.0",
          "200.0_600.0",
          "400.0_600.0",
          "600.0_600.0",
          "800.0_600.0",
          "50.0_800.0",
          "100.0_800.0",
          "200.0_800.0",
          "400.0_800.0",
          "600.0_800.0",
          "800.0_800.0"
         ],
         "xaxis": "x",
         "y": [
          29.18,
          27.58,
          27.93,
          27.835,
          26.259999999999998,
          26.335,
          25.845,
          25.28,
          25.9,
          25.84,
          24.31,
          23.884999999999998,
          26.16,
          25.619999999999997,
          25.795,
          24.91,
          23.705,
          23.310000000000002,
          25.9,
          25.23,
          25.265,
          24.835,
          23.509999999999998,
          23.145000000000003,
          25.235,
          25.93,
          25.235,
          25.4,
          23.875,
          23.435000000000002,
          24.445,
          25.689999999999998,
          24.95,
          24.990000000000002,
          23.73,
          23.255000000000003
         ],
         "yaxis": "y"
        }
       ],
       "layout": {
        "barmode": "group",
        "coloraxis": {
         "colorbar": {
          "title": {
           "text": "F_primer"
          }
         },
         "colorscale": [
          [
           0,
           "#0d0887"
          ],
          [
           0.1111111111111111,
           "#46039f"
          ],
          [
           0.2222222222222222,
           "#7201a8"
          ],
          [
           0.3333333333333333,
           "#9c179e"
          ],
          [
           0.4444444444444444,
           "#bd3786"
          ],
          [
           0.5555555555555556,
           "#d8576b"
          ],
          [
           0.6666666666666666,
           "#ed7953"
          ],
          [
           0.7777777777777778,
           "#fb9f3a"
          ],
          [
           0.8888888888888888,
           "#fdca26"
          ],
          [
           1,
           "#f0f921"
          ]
         ]
        },
        "legend": {
         "tracegroupgap": 0
        },
        "template": {
         "data": {
          "bar": [
           {
            "error_x": {
             "color": "#2a3f5f"
            },
            "error_y": {
             "color": "#2a3f5f"
            },
            "marker": {
             "line": {
              "color": "#E5ECF6",
              "width": 0.5
             },
             "pattern": {
              "fillmode": "overlay",
              "size": 10,
              "solidity": 0.2
             }
            },
            "type": "bar"
           }
          ],
          "barpolar": [
           {
            "marker": {
             "line": {
              "color": "#E5ECF6",
              "width": 0.5
             },
             "pattern": {
              "fillmode": "overlay",
              "size": 10,
              "solidity": 0.2
             }
            },
            "type": "barpolar"
           }
          ],
          "carpet": [
           {
            "aaxis": {
             "endlinecolor": "#2a3f5f",
             "gridcolor": "white",
             "linecolor": "white",
             "minorgridcolor": "white",
             "startlinecolor": "#2a3f5f"
            },
            "baxis": {
             "endlinecolor": "#2a3f5f",
             "gridcolor": "white",
             "linecolor": "white",
             "minorgridcolor": "white",
             "startlinecolor": "#2a3f5f"
            },
            "type": "carpet"
           }
          ],
          "choropleth": [
           {
            "colorbar": {
             "outlinewidth": 0,
             "ticks": ""
            },
            "type": "choropleth"
           }
          ],
          "contour": [
           {
            "colorbar": {
             "outlinewidth": 0,
             "ticks": ""
            },
            "colorscale": [
             [
              0,
              "#0d0887"
             ],
             [
              0.1111111111111111,
              "#46039f"
             ],
             [
              0.2222222222222222,
              "#7201a8"
             ],
             [
              0.3333333333333333,
              "#9c179e"
             ],
             [
              0.4444444444444444,
              "#bd3786"
             ],
             [
              0.5555555555555556,
              "#d8576b"
             ],
             [
              0.6666666666666666,
              "#ed7953"
             ],
             [
              0.7777777777777778,
              "#fb9f3a"
             ],
             [
              0.8888888888888888,
              "#fdca26"
             ],
             [
              1,
              "#f0f921"
             ]
            ],
            "type": "contour"
           }
          ],
          "contourcarpet": [
           {
            "colorbar": {
             "outlinewidth": 0,
             "ticks": ""
            },
            "type": "contourcarpet"
           }
          ],
          "heatmap": [
           {
            "colorbar": {
             "outlinewidth": 0,
             "ticks": ""
            },
            "colorscale": [
             [
              0,
              "#0d0887"
             ],
             [
              0.1111111111111111,
              "#46039f"
             ],
             [
              0.2222222222222222,
              "#7201a8"
             ],
             [
              0.3333333333333333,
              "#9c179e"
             ],
             [
              0.4444444444444444,
              "#bd3786"
             ],
             [
              0.5555555555555556,
              "#d8576b"
             ],
             [
              0.6666666666666666,
              "#ed7953"
             ],
             [
              0.7777777777777778,
              "#fb9f3a"
             ],
             [
              0.8888888888888888,
              "#fdca26"
             ],
             [
              1,
              "#f0f921"
             ]
            ],
            "type": "heatmap"
           }
          ],
          "heatmapgl": [
           {
            "colorbar": {
             "outlinewidth": 0,
             "ticks": ""
            },
            "colorscale": [
             [
              0,
              "#0d0887"
             ],
             [
              0.1111111111111111,
              "#46039f"
             ],
             [
              0.2222222222222222,
              "#7201a8"
             ],
             [
              0.3333333333333333,
              "#9c179e"
             ],
             [
              0.4444444444444444,
              "#bd3786"
             ],
             [
              0.5555555555555556,
              "#d8576b"
             ],
             [
              0.6666666666666666,
              "#ed7953"
             ],
             [
              0.7777777777777778,
              "#fb9f3a"
             ],
             [
              0.8888888888888888,
              "#fdca26"
             ],
             [
              1,
              "#f0f921"
             ]
            ],
            "type": "heatmapgl"
           }
          ],
          "histogram": [
           {
            "marker": {
             "pattern": {
              "fillmode": "overlay",
              "size": 10,
              "solidity": 0.2
             }
            },
            "type": "histogram"
           }
          ],
          "histogram2d": [
           {
            "colorbar": {
             "outlinewidth": 0,
             "ticks": ""
            },
            "colorscale": [
             [
              0,
              "#0d0887"
             ],
             [
              0.1111111111111111,
              "#46039f"
             ],
             [
              0.2222222222222222,
              "#7201a8"
             ],
             [
              0.3333333333333333,
              "#9c179e"
             ],
             [
              0.4444444444444444,
              "#bd3786"
             ],
             [
              0.5555555555555556,
              "#d8576b"
             ],
             [
              0.6666666666666666,
              "#ed7953"
             ],
             [
              0.7777777777777778,
              "#fb9f3a"
             ],
             [
              0.8888888888888888,
              "#fdca26"
             ],
             [
              1,
              "#f0f921"
             ]
            ],
            "type": "histogram2d"
           }
          ],
          "histogram2dcontour": [
           {
            "colorbar": {
             "outlinewidth": 0,
             "ticks": ""
            },
            "colorscale": [
             [
              0,
              "#0d0887"
             ],
             [
              0.1111111111111111,
              "#46039f"
             ],
             [
              0.2222222222222222,
              "#7201a8"
             ],
             [
              0.3333333333333333,
              "#9c179e"
             ],
             [
              0.4444444444444444,
              "#bd3786"
             ],
             [
              0.5555555555555556,
              "#d8576b"
             ],
             [
              0.6666666666666666,
              "#ed7953"
             ],
             [
              0.7777777777777778,
              "#fb9f3a"
             ],
             [
              0.8888888888888888,
              "#fdca26"
             ],
             [
              1,
              "#f0f921"
             ]
            ],
            "type": "histogram2dcontour"
           }
          ],
          "mesh3d": [
           {
            "colorbar": {
             "outlinewidth": 0,
             "ticks": ""
            },
            "type": "mesh3d"
           }
          ],
          "parcoords": [
           {
            "line": {
             "colorbar": {
              "outlinewidth": 0,
              "ticks": ""
             }
            },
            "type": "parcoords"
           }
          ],
          "pie": [
           {
            "automargin": true,
            "type": "pie"
           }
          ],
          "scatter": [
           {
            "fillpattern": {
             "fillmode": "overlay",
             "size": 10,
             "solidity": 0.2
            },
            "type": "scatter"
           }
          ],
          "scatter3d": [
           {
            "line": {
             "colorbar": {
              "outlinewidth": 0,
              "ticks": ""
             }
            },
            "marker": {
             "colorbar": {
              "outlinewidth": 0,
              "ticks": ""
             }
            },
            "type": "scatter3d"
           }
          ],
          "scattercarpet": [
           {
            "marker": {
             "colorbar": {
              "outlinewidth": 0,
              "ticks": ""
             }
            },
            "type": "scattercarpet"
           }
          ],
          "scattergeo": [
           {
            "marker": {
             "colorbar": {
              "outlinewidth": 0,
              "ticks": ""
             }
            },
            "type": "scattergeo"
           }
          ],
          "scattergl": [
           {
            "marker": {
             "colorbar": {
              "outlinewidth": 0,
              "ticks": ""
             }
            },
            "type": "scattergl"
           }
          ],
          "scattermapbox": [
           {
            "marker": {
             "colorbar": {
              "outlinewidth": 0,
              "ticks": ""
             }
            },
            "type": "scattermapbox"
           }
          ],
          "scatterpolar": [
           {
            "marker": {
             "colorbar": {
              "outlinewidth": 0,
              "ticks": ""
             }
            },
            "type": "scatterpolar"
           }
          ],
          "scatterpolargl": [
           {
            "marker": {
             "colorbar": {
              "outlinewidth": 0,
              "ticks": ""
             }
            },
            "type": "scatterpolargl"
           }
          ],
          "scatterternary": [
           {
            "marker": {
             "colorbar": {
              "outlinewidth": 0,
              "ticks": ""
             }
            },
            "type": "scatterternary"
           }
          ],
          "surface": [
           {
            "colorbar": {
             "outlinewidth": 0,
             "ticks": ""
            },
            "colorscale": [
             [
              0,
              "#0d0887"
             ],
             [
              0.1111111111111111,
              "#46039f"
             ],
             [
              0.2222222222222222,
              "#7201a8"
             ],
             [
              0.3333333333333333,
              "#9c179e"
             ],
             [
              0.4444444444444444,
              "#bd3786"
             ],
             [
              0.5555555555555556,
              "#d8576b"
             ],
             [
              0.6666666666666666,
              "#ed7953"
             ],
             [
              0.7777777777777778,
              "#fb9f3a"
             ],
             [
              0.8888888888888888,
              "#fdca26"
             ],
             [
              1,
              "#f0f921"
             ]
            ],
            "type": "surface"
           }
          ],
          "table": [
           {
            "cells": {
             "fill": {
              "color": "#EBF0F8"
             },
             "line": {
              "color": "white"
             }
            },
            "header": {
             "fill": {
              "color": "#C8D4E3"
             },
             "line": {
              "color": "white"
             }
            },
            "type": "table"
           }
          ]
         },
         "layout": {
          "annotationdefaults": {
           "arrowcolor": "#2a3f5f",
           "arrowhead": 0,
           "arrowwidth": 1
          },
          "autotypenumbers": "strict",
          "coloraxis": {
           "colorbar": {
            "outlinewidth": 0,
            "ticks": ""
           }
          },
          "colorscale": {
           "diverging": [
            [
             0,
             "#8e0152"
            ],
            [
             0.1,
             "#c51b7d"
            ],
            [
             0.2,
             "#de77ae"
            ],
            [
             0.3,
             "#f1b6da"
            ],
            [
             0.4,
             "#fde0ef"
            ],
            [
             0.5,
             "#f7f7f7"
            ],
            [
             0.6,
             "#e6f5d0"
            ],
            [
             0.7,
             "#b8e186"
            ],
            [
             0.8,
             "#7fbc41"
            ],
            [
             0.9,
             "#4d9221"
            ],
            [
             1,
             "#276419"
            ]
           ],
           "sequential": [
            [
             0,
             "#0d0887"
            ],
            [
             0.1111111111111111,
             "#46039f"
            ],
            [
             0.2222222222222222,
             "#7201a8"
            ],
            [
             0.3333333333333333,
             "#9c179e"
            ],
            [
             0.4444444444444444,
             "#bd3786"
            ],
            [
             0.5555555555555556,
             "#d8576b"
            ],
            [
             0.6666666666666666,
             "#ed7953"
            ],
            [
             0.7777777777777778,
             "#fb9f3a"
            ],
            [
             0.8888888888888888,
             "#fdca26"
            ],
            [
             1,
             "#f0f921"
            ]
           ],
           "sequentialminus": [
            [
             0,
             "#0d0887"
            ],
            [
             0.1111111111111111,
             "#46039f"
            ],
            [
             0.2222222222222222,
             "#7201a8"
            ],
            [
             0.3333333333333333,
             "#9c179e"
            ],
            [
             0.4444444444444444,
             "#bd3786"
            ],
            [
             0.5555555555555556,
             "#d8576b"
            ],
            [
             0.6666666666666666,
             "#ed7953"
            ],
            [
             0.7777777777777778,
             "#fb9f3a"
            ],
            [
             0.8888888888888888,
             "#fdca26"
            ],
            [
             1,
             "#f0f921"
            ]
           ]
          },
          "colorway": [
           "#636efa",
           "#EF553B",
           "#00cc96",
           "#ab63fa",
           "#FFA15A",
           "#19d3f3",
           "#FF6692",
           "#B6E880",
           "#FF97FF",
           "#FECB52"
          ],
          "font": {
           "color": "#2a3f5f"
          },
          "geo": {
           "bgcolor": "white",
           "lakecolor": "white",
           "landcolor": "#E5ECF6",
           "showlakes": true,
           "showland": true,
           "subunitcolor": "white"
          },
          "hoverlabel": {
           "align": "left"
          },
          "hovermode": "closest",
          "mapbox": {
           "style": "light"
          },
          "paper_bgcolor": "white",
          "plot_bgcolor": "#E5ECF6",
          "polar": {
           "angularaxis": {
            "gridcolor": "white",
            "linecolor": "white",
            "ticks": ""
           },
           "bgcolor": "#E5ECF6",
           "radialaxis": {
            "gridcolor": "white",
            "linecolor": "white",
            "ticks": ""
           }
          },
          "scene": {
           "xaxis": {
            "backgroundcolor": "#E5ECF6",
            "gridcolor": "white",
            "gridwidth": 2,
            "linecolor": "white",
            "showbackground": true,
            "ticks": "",
            "zerolinecolor": "white"
           },
           "yaxis": {
            "backgroundcolor": "#E5ECF6",
            "gridcolor": "white",
            "gridwidth": 2,
            "linecolor": "white",
            "showbackground": true,
            "ticks": "",
            "zerolinecolor": "white"
           },
           "zaxis": {
            "backgroundcolor": "#E5ECF6",
            "gridcolor": "white",
            "gridwidth": 2,
            "linecolor": "white",
            "showbackground": true,
            "ticks": "",
            "zerolinecolor": "white"
           }
          },
          "shapedefaults": {
           "line": {
            "color": "#2a3f5f"
           }
          },
          "ternary": {
           "aaxis": {
            "gridcolor": "white",
            "linecolor": "white",
            "ticks": ""
           },
           "baxis": {
            "gridcolor": "white",
            "linecolor": "white",
            "ticks": ""
           },
           "bgcolor": "#E5ECF6",
           "caxis": {
            "gridcolor": "white",
            "linecolor": "white",
            "ticks": ""
           }
          },
          "title": {
           "x": 0.05
          },
          "xaxis": {
           "automargin": true,
           "gridcolor": "white",
           "linecolor": "white",
           "ticks": "",
           "title": {
            "standoff": 15
           },
           "zerolinecolor": "white",
           "zerolinewidth": 2
          },
          "yaxis": {
           "automargin": true,
           "gridcolor": "white",
           "linecolor": "white",
           "ticks": "",
           "title": {
            "standoff": 15
           },
           "zerolinecolor": "white",
           "zerolinewidth": 2
          }
         }
        },
        "title": {
         "text": "Periodicity in Increasing [Rev] (Going Down Column)<br>[Fwd] Held Constant, Two Points per Condition Averaged"
        },
        "xaxis": {
         "anchor": "y",
         "domain": [
          0,
          1
         ],
         "title": {
          "text": "R Primer Concentration"
         }
        },
        "yaxis": {
         "anchor": "x",
         "domain": [
          0,
          1
         ],
         "title": {
          "text": "Ct"
         }
        }
       }
      }
     },
     "metadata": {},
     "output_type": "display_data"
    },
    {
     "data": {
      "application/vnd.plotly.v1+json": {
       "config": {
        "plotlyServerURL": "https://plot.ly"
       },
       "data": [
        {
         "line": {
          "color": "rgb(255, 0, 0)",
          "shape": "spline",
          "width": 2
         },
         "mode": "lines+markers",
         "name": "Cq Predicted (R^2 = 0.8)",
         "type": "scatter",
         "x": [
          50,
          100,
          200,
          400,
          600,
          800
         ],
         "y": [
          29.143889370890747,
          25.508598535636217,
          24.44422572946128,
          24.381227567457262,
          24.381029674766218,
          24.3810290531367
         ]
        },
        {
         "marker": {
          "color": "#636EFA"
         },
         "name": "Cq Actual",
         "text": [
          "29.18",
          "25.28",
          "25.8",
          "24.84",
          "23.88",
          "23.26"
         ],
         "textposition": "inside",
         "type": "bar",
         "x": [
          50,
          100,
          200,
          400,
          600,
          800
         ],
         "y": [
          29.18,
          25.28,
          25.8,
          24.84,
          23.88,
          23.26
         ]
        },
        {
         "marker": {
          "color": "#94B6FA"
         },
         "name": "Cq Predicted @300, 500, 700nM",
         "textposition": "inside",
         "type": "bar",
         "x": [
          300,
          500,
          700
         ],
         "y": [
          24.384571023713566,
          24.38104017738304,
          24.381029086127995
         ]
        }
       ],
       "layout": {
        "template": {
         "data": {
          "bar": [
           {
            "error_x": {
             "color": "#2a3f5f"
            },
            "error_y": {
             "color": "#2a3f5f"
            },
            "marker": {
             "line": {
              "color": "#E5ECF6",
              "width": 0.5
             },
             "pattern": {
              "fillmode": "overlay",
              "size": 10,
              "solidity": 0.2
             }
            },
            "type": "bar"
           }
          ],
          "barpolar": [
           {
            "marker": {
             "line": {
              "color": "#E5ECF6",
              "width": 0.5
             },
             "pattern": {
              "fillmode": "overlay",
              "size": 10,
              "solidity": 0.2
             }
            },
            "type": "barpolar"
           }
          ],
          "carpet": [
           {
            "aaxis": {
             "endlinecolor": "#2a3f5f",
             "gridcolor": "white",
             "linecolor": "white",
             "minorgridcolor": "white",
             "startlinecolor": "#2a3f5f"
            },
            "baxis": {
             "endlinecolor": "#2a3f5f",
             "gridcolor": "white",
             "linecolor": "white",
             "minorgridcolor": "white",
             "startlinecolor": "#2a3f5f"
            },
            "type": "carpet"
           }
          ],
          "choropleth": [
           {
            "colorbar": {
             "outlinewidth": 0,
             "ticks": ""
            },
            "type": "choropleth"
           }
          ],
          "contour": [
           {
            "colorbar": {
             "outlinewidth": 0,
             "ticks": ""
            },
            "colorscale": [
             [
              0,
              "#0d0887"
             ],
             [
              0.1111111111111111,
              "#46039f"
             ],
             [
              0.2222222222222222,
              "#7201a8"
             ],
             [
              0.3333333333333333,
              "#9c179e"
             ],
             [
              0.4444444444444444,
              "#bd3786"
             ],
             [
              0.5555555555555556,
              "#d8576b"
             ],
             [
              0.6666666666666666,
              "#ed7953"
             ],
             [
              0.7777777777777778,
              "#fb9f3a"
             ],
             [
              0.8888888888888888,
              "#fdca26"
             ],
             [
              1,
              "#f0f921"
             ]
            ],
            "type": "contour"
           }
          ],
          "contourcarpet": [
           {
            "colorbar": {
             "outlinewidth": 0,
             "ticks": ""
            },
            "type": "contourcarpet"
           }
          ],
          "heatmap": [
           {
            "colorbar": {
             "outlinewidth": 0,
             "ticks": ""
            },
            "colorscale": [
             [
              0,
              "#0d0887"
             ],
             [
              0.1111111111111111,
              "#46039f"
             ],
             [
              0.2222222222222222,
              "#7201a8"
             ],
             [
              0.3333333333333333,
              "#9c179e"
             ],
             [
              0.4444444444444444,
              "#bd3786"
             ],
             [
              0.5555555555555556,
              "#d8576b"
             ],
             [
              0.6666666666666666,
              "#ed7953"
             ],
             [
              0.7777777777777778,
              "#fb9f3a"
             ],
             [
              0.8888888888888888,
              "#fdca26"
             ],
             [
              1,
              "#f0f921"
             ]
            ],
            "type": "heatmap"
           }
          ],
          "heatmapgl": [
           {
            "colorbar": {
             "outlinewidth": 0,
             "ticks": ""
            },
            "colorscale": [
             [
              0,
              "#0d0887"
             ],
             [
              0.1111111111111111,
              "#46039f"
             ],
             [
              0.2222222222222222,
              "#7201a8"
             ],
             [
              0.3333333333333333,
              "#9c179e"
             ],
             [
              0.4444444444444444,
              "#bd3786"
             ],
             [
              0.5555555555555556,
              "#d8576b"
             ],
             [
              0.6666666666666666,
              "#ed7953"
             ],
             [
              0.7777777777777778,
              "#fb9f3a"
             ],
             [
              0.8888888888888888,
              "#fdca26"
             ],
             [
              1,
              "#f0f921"
             ]
            ],
            "type": "heatmapgl"
           }
          ],
          "histogram": [
           {
            "marker": {
             "pattern": {
              "fillmode": "overlay",
              "size": 10,
              "solidity": 0.2
             }
            },
            "type": "histogram"
           }
          ],
          "histogram2d": [
           {
            "colorbar": {
             "outlinewidth": 0,
             "ticks": ""
            },
            "colorscale": [
             [
              0,
              "#0d0887"
             ],
             [
              0.1111111111111111,
              "#46039f"
             ],
             [
              0.2222222222222222,
              "#7201a8"
             ],
             [
              0.3333333333333333,
              "#9c179e"
             ],
             [
              0.4444444444444444,
              "#bd3786"
             ],
             [
              0.5555555555555556,
              "#d8576b"
             ],
             [
              0.6666666666666666,
              "#ed7953"
             ],
             [
              0.7777777777777778,
              "#fb9f3a"
             ],
             [
              0.8888888888888888,
              "#fdca26"
             ],
             [
              1,
              "#f0f921"
             ]
            ],
            "type": "histogram2d"
           }
          ],
          "histogram2dcontour": [
           {
            "colorbar": {
             "outlinewidth": 0,
             "ticks": ""
            },
            "colorscale": [
             [
              0,
              "#0d0887"
             ],
             [
              0.1111111111111111,
              "#46039f"
             ],
             [
              0.2222222222222222,
              "#7201a8"
             ],
             [
              0.3333333333333333,
              "#9c179e"
             ],
             [
              0.4444444444444444,
              "#bd3786"
             ],
             [
              0.5555555555555556,
              "#d8576b"
             ],
             [
              0.6666666666666666,
              "#ed7953"
             ],
             [
              0.7777777777777778,
              "#fb9f3a"
             ],
             [
              0.8888888888888888,
              "#fdca26"
             ],
             [
              1,
              "#f0f921"
             ]
            ],
            "type": "histogram2dcontour"
           }
          ],
          "mesh3d": [
           {
            "colorbar": {
             "outlinewidth": 0,
             "ticks": ""
            },
            "type": "mesh3d"
           }
          ],
          "parcoords": [
           {
            "line": {
             "colorbar": {
              "outlinewidth": 0,
              "ticks": ""
             }
            },
            "type": "parcoords"
           }
          ],
          "pie": [
           {
            "automargin": true,
            "type": "pie"
           }
          ],
          "scatter": [
           {
            "fillpattern": {
             "fillmode": "overlay",
             "size": 10,
             "solidity": 0.2
            },
            "type": "scatter"
           }
          ],
          "scatter3d": [
           {
            "line": {
             "colorbar": {
              "outlinewidth": 0,
              "ticks": ""
             }
            },
            "marker": {
             "colorbar": {
              "outlinewidth": 0,
              "ticks": ""
             }
            },
            "type": "scatter3d"
           }
          ],
          "scattercarpet": [
           {
            "marker": {
             "colorbar": {
              "outlinewidth": 0,
              "ticks": ""
             }
            },
            "type": "scattercarpet"
           }
          ],
          "scattergeo": [
           {
            "marker": {
             "colorbar": {
              "outlinewidth": 0,
              "ticks": ""
             }
            },
            "type": "scattergeo"
           }
          ],
          "scattergl": [
           {
            "marker": {
             "colorbar": {
              "outlinewidth": 0,
              "ticks": ""
             }
            },
            "type": "scattergl"
           }
          ],
          "scattermapbox": [
           {
            "marker": {
             "colorbar": {
              "outlinewidth": 0,
              "ticks": ""
             }
            },
            "type": "scattermapbox"
           }
          ],
          "scatterpolar": [
           {
            "marker": {
             "colorbar": {
              "outlinewidth": 0,
              "ticks": ""
             }
            },
            "type": "scatterpolar"
           }
          ],
          "scatterpolargl": [
           {
            "marker": {
             "colorbar": {
              "outlinewidth": 0,
              "ticks": ""
             }
            },
            "type": "scatterpolargl"
           }
          ],
          "scatterternary": [
           {
            "marker": {
             "colorbar": {
              "outlinewidth": 0,
              "ticks": ""
             }
            },
            "type": "scatterternary"
           }
          ],
          "surface": [
           {
            "colorbar": {
             "outlinewidth": 0,
             "ticks": ""
            },
            "colorscale": [
             [
              0,
              "#0d0887"
             ],
             [
              0.1111111111111111,
              "#46039f"
             ],
             [
              0.2222222222222222,
              "#7201a8"
             ],
             [
              0.3333333333333333,
              "#9c179e"
             ],
             [
              0.4444444444444444,
              "#bd3786"
             ],
             [
              0.5555555555555556,
              "#d8576b"
             ],
             [
              0.6666666666666666,
              "#ed7953"
             ],
             [
              0.7777777777777778,
              "#fb9f3a"
             ],
             [
              0.8888888888888888,
              "#fdca26"
             ],
             [
              1,
              "#f0f921"
             ]
            ],
            "type": "surface"
           }
          ],
          "table": [
           {
            "cells": {
             "fill": {
              "color": "#EBF0F8"
             },
             "line": {
              "color": "white"
             }
            },
            "header": {
             "fill": {
              "color": "#C8D4E3"
             },
             "line": {
              "color": "white"
             }
            },
            "type": "table"
           }
          ]
         },
         "layout": {
          "annotationdefaults": {
           "arrowcolor": "#2a3f5f",
           "arrowhead": 0,
           "arrowwidth": 1
          },
          "autotypenumbers": "strict",
          "coloraxis": {
           "colorbar": {
            "outlinewidth": 0,
            "ticks": ""
           }
          },
          "colorscale": {
           "diverging": [
            [
             0,
             "#8e0152"
            ],
            [
             0.1,
             "#c51b7d"
            ],
            [
             0.2,
             "#de77ae"
            ],
            [
             0.3,
             "#f1b6da"
            ],
            [
             0.4,
             "#fde0ef"
            ],
            [
             0.5,
             "#f7f7f7"
            ],
            [
             0.6,
             "#e6f5d0"
            ],
            [
             0.7,
             "#b8e186"
            ],
            [
             0.8,
             "#7fbc41"
            ],
            [
             0.9,
             "#4d9221"
            ],
            [
             1,
             "#276419"
            ]
           ],
           "sequential": [
            [
             0,
             "#0d0887"
            ],
            [
             0.1111111111111111,
             "#46039f"
            ],
            [
             0.2222222222222222,
             "#7201a8"
            ],
            [
             0.3333333333333333,
             "#9c179e"
            ],
            [
             0.4444444444444444,
             "#bd3786"
            ],
            [
             0.5555555555555556,
             "#d8576b"
            ],
            [
             0.6666666666666666,
             "#ed7953"
            ],
            [
             0.7777777777777778,
             "#fb9f3a"
            ],
            [
             0.8888888888888888,
             "#fdca26"
            ],
            [
             1,
             "#f0f921"
            ]
           ],
           "sequentialminus": [
            [
             0,
             "#0d0887"
            ],
            [
             0.1111111111111111,
             "#46039f"
            ],
            [
             0.2222222222222222,
             "#7201a8"
            ],
            [
             0.3333333333333333,
             "#9c179e"
            ],
            [
             0.4444444444444444,
             "#bd3786"
            ],
            [
             0.5555555555555556,
             "#d8576b"
            ],
            [
             0.6666666666666666,
             "#ed7953"
            ],
            [
             0.7777777777777778,
             "#fb9f3a"
            ],
            [
             0.8888888888888888,
             "#fdca26"
            ],
            [
             1,
             "#f0f921"
            ]
           ]
          },
          "colorway": [
           "#636efa",
           "#EF553B",
           "#00cc96",
           "#ab63fa",
           "#FFA15A",
           "#19d3f3",
           "#FF6692",
           "#B6E880",
           "#FF97FF",
           "#FECB52"
          ],
          "font": {
           "color": "#2a3f5f"
          },
          "geo": {
           "bgcolor": "white",
           "lakecolor": "white",
           "landcolor": "#E5ECF6",
           "showlakes": true,
           "showland": true,
           "subunitcolor": "white"
          },
          "hoverlabel": {
           "align": "left"
          },
          "hovermode": "closest",
          "mapbox": {
           "style": "light"
          },
          "paper_bgcolor": "white",
          "plot_bgcolor": "#E5ECF6",
          "polar": {
           "angularaxis": {
            "gridcolor": "white",
            "linecolor": "white",
            "ticks": ""
           },
           "bgcolor": "#E5ECF6",
           "radialaxis": {
            "gridcolor": "white",
            "linecolor": "white",
            "ticks": ""
           }
          },
          "scene": {
           "xaxis": {
            "backgroundcolor": "#E5ECF6",
            "gridcolor": "white",
            "gridwidth": 2,
            "linecolor": "white",
            "showbackground": true,
            "ticks": "",
            "zerolinecolor": "white"
           },
           "yaxis": {
            "backgroundcolor": "#E5ECF6",
            "gridcolor": "white",
            "gridwidth": 2,
            "linecolor": "white",
            "showbackground": true,
            "ticks": "",
            "zerolinecolor": "white"
           },
           "zaxis": {
            "backgroundcolor": "#E5ECF6",
            "gridcolor": "white",
            "gridwidth": 2,
            "linecolor": "white",
            "showbackground": true,
            "ticks": "",
            "zerolinecolor": "white"
           }
          },
          "shapedefaults": {
           "line": {
            "color": "#2a3f5f"
           }
          },
          "ternary": {
           "aaxis": {
            "gridcolor": "white",
            "linecolor": "white",
            "ticks": ""
           },
           "baxis": {
            "gridcolor": "white",
            "linecolor": "white",
            "ticks": ""
           },
           "bgcolor": "#E5ECF6",
           "caxis": {
            "gridcolor": "white",
            "linecolor": "white",
            "ticks": ""
           }
          },
          "title": {
           "x": 0.05
          },
          "xaxis": {
           "automargin": true,
           "gridcolor": "white",
           "linecolor": "white",
           "ticks": "",
           "title": {
            "standoff": 15
           },
           "zerolinecolor": "white",
           "zerolinewidth": 2
          },
          "yaxis": {
           "automargin": true,
           "gridcolor": "white",
           "linecolor": "white",
           "ticks": "",
           "title": {
            "standoff": 15
           },
           "zerolinecolor": "white",
           "zerolinewidth": 2
          }
         }
        },
        "title": {
         "text": "<b>Cq when [Fwd] = [Rev]</b><br>Actual vs Predicted (One Phase Decay)<br>Two Points per Condition Averaged"
        },
        "xaxis": {
         "title": {
          "text": "[F=R] Primer Concentration"
         }
        },
        "yaxis": {
         "title": {
          "text": "Cq"
         }
        }
       }
      }
     },
     "metadata": {},
     "output_type": "display_data"
    },
    {
     "data": {
      "application/vnd.plotly.v1+json": {
       "config": {
        "plotlyServerURL": "https://plot.ly"
       },
       "data": [
        {
         "alignmentgroup": "True",
         "hovertemplate": "StandardNumber=%{x}<br>Ct=%{y}<extra></extra>",
         "legendgroup": "",
         "marker": {
          "color": "#636efa",
          "pattern": {
           "shape": ""
          }
         },
         "name": "",
         "offsetgroup": "",
         "orientation": "v",
         "showlegend": false,
         "textposition": "auto",
         "texttemplate": "%{y}",
         "type": "bar",
         "x": [
          "Std_1",
          "Std_2",
          "Std_3",
          "Std_4",
          "Std_5",
          "Std_6",
          "Std_7"
         ],
         "xaxis": "x",
         "y": [
          7.383333333333333,
          11.72,
          17.25,
          20.94333333333333,
          25.03333333333333,
          28.51,
          32.47
         ],
         "yaxis": "y"
        }
       ],
       "layout": {
        "barmode": "group",
        "legend": {
         "tracegroupgap": 0
        },
        "template": {
         "data": {
          "bar": [
           {
            "error_x": {
             "color": "#2a3f5f"
            },
            "error_y": {
             "color": "#2a3f5f"
            },
            "marker": {
             "line": {
              "color": "#E5ECF6",
              "width": 0.5
             },
             "pattern": {
              "fillmode": "overlay",
              "size": 10,
              "solidity": 0.2
             }
            },
            "type": "bar"
           }
          ],
          "barpolar": [
           {
            "marker": {
             "line": {
              "color": "#E5ECF6",
              "width": 0.5
             },
             "pattern": {
              "fillmode": "overlay",
              "size": 10,
              "solidity": 0.2
             }
            },
            "type": "barpolar"
           }
          ],
          "carpet": [
           {
            "aaxis": {
             "endlinecolor": "#2a3f5f",
             "gridcolor": "white",
             "linecolor": "white",
             "minorgridcolor": "white",
             "startlinecolor": "#2a3f5f"
            },
            "baxis": {
             "endlinecolor": "#2a3f5f",
             "gridcolor": "white",
             "linecolor": "white",
             "minorgridcolor": "white",
             "startlinecolor": "#2a3f5f"
            },
            "type": "carpet"
           }
          ],
          "choropleth": [
           {
            "colorbar": {
             "outlinewidth": 0,
             "ticks": ""
            },
            "type": "choropleth"
           }
          ],
          "contour": [
           {
            "colorbar": {
             "outlinewidth": 0,
             "ticks": ""
            },
            "colorscale": [
             [
              0,
              "#0d0887"
             ],
             [
              0.1111111111111111,
              "#46039f"
             ],
             [
              0.2222222222222222,
              "#7201a8"
             ],
             [
              0.3333333333333333,
              "#9c179e"
             ],
             [
              0.4444444444444444,
              "#bd3786"
             ],
             [
              0.5555555555555556,
              "#d8576b"
             ],
             [
              0.6666666666666666,
              "#ed7953"
             ],
             [
              0.7777777777777778,
              "#fb9f3a"
             ],
             [
              0.8888888888888888,
              "#fdca26"
             ],
             [
              1,
              "#f0f921"
             ]
            ],
            "type": "contour"
           }
          ],
          "contourcarpet": [
           {
            "colorbar": {
             "outlinewidth": 0,
             "ticks": ""
            },
            "type": "contourcarpet"
           }
          ],
          "heatmap": [
           {
            "colorbar": {
             "outlinewidth": 0,
             "ticks": ""
            },
            "colorscale": [
             [
              0,
              "#0d0887"
             ],
             [
              0.1111111111111111,
              "#46039f"
             ],
             [
              0.2222222222222222,
              "#7201a8"
             ],
             [
              0.3333333333333333,
              "#9c179e"
             ],
             [
              0.4444444444444444,
              "#bd3786"
             ],
             [
              0.5555555555555556,
              "#d8576b"
             ],
             [
              0.6666666666666666,
              "#ed7953"
             ],
             [
              0.7777777777777778,
              "#fb9f3a"
             ],
             [
              0.8888888888888888,
              "#fdca26"
             ],
             [
              1,
              "#f0f921"
             ]
            ],
            "type": "heatmap"
           }
          ],
          "heatmapgl": [
           {
            "colorbar": {
             "outlinewidth": 0,
             "ticks": ""
            },
            "colorscale": [
             [
              0,
              "#0d0887"
             ],
             [
              0.1111111111111111,
              "#46039f"
             ],
             [
              0.2222222222222222,
              "#7201a8"
             ],
             [
              0.3333333333333333,
              "#9c179e"
             ],
             [
              0.4444444444444444,
              "#bd3786"
             ],
             [
              0.5555555555555556,
              "#d8576b"
             ],
             [
              0.6666666666666666,
              "#ed7953"
             ],
             [
              0.7777777777777778,
              "#fb9f3a"
             ],
             [
              0.8888888888888888,
              "#fdca26"
             ],
             [
              1,
              "#f0f921"
             ]
            ],
            "type": "heatmapgl"
           }
          ],
          "histogram": [
           {
            "marker": {
             "pattern": {
              "fillmode": "overlay",
              "size": 10,
              "solidity": 0.2
             }
            },
            "type": "histogram"
           }
          ],
          "histogram2d": [
           {
            "colorbar": {
             "outlinewidth": 0,
             "ticks": ""
            },
            "colorscale": [
             [
              0,
              "#0d0887"
             ],
             [
              0.1111111111111111,
              "#46039f"
             ],
             [
              0.2222222222222222,
              "#7201a8"
             ],
             [
              0.3333333333333333,
              "#9c179e"
             ],
             [
              0.4444444444444444,
              "#bd3786"
             ],
             [
              0.5555555555555556,
              "#d8576b"
             ],
             [
              0.6666666666666666,
              "#ed7953"
             ],
             [
              0.7777777777777778,
              "#fb9f3a"
             ],
             [
              0.8888888888888888,
              "#fdca26"
             ],
             [
              1,
              "#f0f921"
             ]
            ],
            "type": "histogram2d"
           }
          ],
          "histogram2dcontour": [
           {
            "colorbar": {
             "outlinewidth": 0,
             "ticks": ""
            },
            "colorscale": [
             [
              0,
              "#0d0887"
             ],
             [
              0.1111111111111111,
              "#46039f"
             ],
             [
              0.2222222222222222,
              "#7201a8"
             ],
             [
              0.3333333333333333,
              "#9c179e"
             ],
             [
              0.4444444444444444,
              "#bd3786"
             ],
             [
              0.5555555555555556,
              "#d8576b"
             ],
             [
              0.6666666666666666,
              "#ed7953"
             ],
             [
              0.7777777777777778,
              "#fb9f3a"
             ],
             [
              0.8888888888888888,
              "#fdca26"
             ],
             [
              1,
              "#f0f921"
             ]
            ],
            "type": "histogram2dcontour"
           }
          ],
          "mesh3d": [
           {
            "colorbar": {
             "outlinewidth": 0,
             "ticks": ""
            },
            "type": "mesh3d"
           }
          ],
          "parcoords": [
           {
            "line": {
             "colorbar": {
              "outlinewidth": 0,
              "ticks": ""
             }
            },
            "type": "parcoords"
           }
          ],
          "pie": [
           {
            "automargin": true,
            "type": "pie"
           }
          ],
          "scatter": [
           {
            "fillpattern": {
             "fillmode": "overlay",
             "size": 10,
             "solidity": 0.2
            },
            "type": "scatter"
           }
          ],
          "scatter3d": [
           {
            "line": {
             "colorbar": {
              "outlinewidth": 0,
              "ticks": ""
             }
            },
            "marker": {
             "colorbar": {
              "outlinewidth": 0,
              "ticks": ""
             }
            },
            "type": "scatter3d"
           }
          ],
          "scattercarpet": [
           {
            "marker": {
             "colorbar": {
              "outlinewidth": 0,
              "ticks": ""
             }
            },
            "type": "scattercarpet"
           }
          ],
          "scattergeo": [
           {
            "marker": {
             "colorbar": {
              "outlinewidth": 0,
              "ticks": ""
             }
            },
            "type": "scattergeo"
           }
          ],
          "scattergl": [
           {
            "marker": {
             "colorbar": {
              "outlinewidth": 0,
              "ticks": ""
             }
            },
            "type": "scattergl"
           }
          ],
          "scattermapbox": [
           {
            "marker": {
             "colorbar": {
              "outlinewidth": 0,
              "ticks": ""
             }
            },
            "type": "scattermapbox"
           }
          ],
          "scatterpolar": [
           {
            "marker": {
             "colorbar": {
              "outlinewidth": 0,
              "ticks": ""
             }
            },
            "type": "scatterpolar"
           }
          ],
          "scatterpolargl": [
           {
            "marker": {
             "colorbar": {
              "outlinewidth": 0,
              "ticks": ""
             }
            },
            "type": "scatterpolargl"
           }
          ],
          "scatterternary": [
           {
            "marker": {
             "colorbar": {
              "outlinewidth": 0,
              "ticks": ""
             }
            },
            "type": "scatterternary"
           }
          ],
          "surface": [
           {
            "colorbar": {
             "outlinewidth": 0,
             "ticks": ""
            },
            "colorscale": [
             [
              0,
              "#0d0887"
             ],
             [
              0.1111111111111111,
              "#46039f"
             ],
             [
              0.2222222222222222,
              "#7201a8"
             ],
             [
              0.3333333333333333,
              "#9c179e"
             ],
             [
              0.4444444444444444,
              "#bd3786"
             ],
             [
              0.5555555555555556,
              "#d8576b"
             ],
             [
              0.6666666666666666,
              "#ed7953"
             ],
             [
              0.7777777777777778,
              "#fb9f3a"
             ],
             [
              0.8888888888888888,
              "#fdca26"
             ],
             [
              1,
              "#f0f921"
             ]
            ],
            "type": "surface"
           }
          ],
          "table": [
           {
            "cells": {
             "fill": {
              "color": "#EBF0F8"
             },
             "line": {
              "color": "white"
             }
            },
            "header": {
             "fill": {
              "color": "#C8D4E3"
             },
             "line": {
              "color": "white"
             }
            },
            "type": "table"
           }
          ]
         },
         "layout": {
          "annotationdefaults": {
           "arrowcolor": "#2a3f5f",
           "arrowhead": 0,
           "arrowwidth": 1
          },
          "autotypenumbers": "strict",
          "coloraxis": {
           "colorbar": {
            "outlinewidth": 0,
            "ticks": ""
           }
          },
          "colorscale": {
           "diverging": [
            [
             0,
             "#8e0152"
            ],
            [
             0.1,
             "#c51b7d"
            ],
            [
             0.2,
             "#de77ae"
            ],
            [
             0.3,
             "#f1b6da"
            ],
            [
             0.4,
             "#fde0ef"
            ],
            [
             0.5,
             "#f7f7f7"
            ],
            [
             0.6,
             "#e6f5d0"
            ],
            [
             0.7,
             "#b8e186"
            ],
            [
             0.8,
             "#7fbc41"
            ],
            [
             0.9,
             "#4d9221"
            ],
            [
             1,
             "#276419"
            ]
           ],
           "sequential": [
            [
             0,
             "#0d0887"
            ],
            [
             0.1111111111111111,
             "#46039f"
            ],
            [
             0.2222222222222222,
             "#7201a8"
            ],
            [
             0.3333333333333333,
             "#9c179e"
            ],
            [
             0.4444444444444444,
             "#bd3786"
            ],
            [
             0.5555555555555556,
             "#d8576b"
            ],
            [
             0.6666666666666666,
             "#ed7953"
            ],
            [
             0.7777777777777778,
             "#fb9f3a"
            ],
            [
             0.8888888888888888,
             "#fdca26"
            ],
            [
             1,
             "#f0f921"
            ]
           ],
           "sequentialminus": [
            [
             0,
             "#0d0887"
            ],
            [
             0.1111111111111111,
             "#46039f"
            ],
            [
             0.2222222222222222,
             "#7201a8"
            ],
            [
             0.3333333333333333,
             "#9c179e"
            ],
            [
             0.4444444444444444,
             "#bd3786"
            ],
            [
             0.5555555555555556,
             "#d8576b"
            ],
            [
             0.6666666666666666,
             "#ed7953"
            ],
            [
             0.7777777777777778,
             "#fb9f3a"
            ],
            [
             0.8888888888888888,
             "#fdca26"
            ],
            [
             1,
             "#f0f921"
            ]
           ]
          },
          "colorway": [
           "#636efa",
           "#EF553B",
           "#00cc96",
           "#ab63fa",
           "#FFA15A",
           "#19d3f3",
           "#FF6692",
           "#B6E880",
           "#FF97FF",
           "#FECB52"
          ],
          "font": {
           "color": "#2a3f5f"
          },
          "geo": {
           "bgcolor": "white",
           "lakecolor": "white",
           "landcolor": "#E5ECF6",
           "showlakes": true,
           "showland": true,
           "subunitcolor": "white"
          },
          "hoverlabel": {
           "align": "left"
          },
          "hovermode": "closest",
          "mapbox": {
           "style": "light"
          },
          "paper_bgcolor": "white",
          "plot_bgcolor": "#E5ECF6",
          "polar": {
           "angularaxis": {
            "gridcolor": "white",
            "linecolor": "white",
            "ticks": ""
           },
           "bgcolor": "#E5ECF6",
           "radialaxis": {
            "gridcolor": "white",
            "linecolor": "white",
            "ticks": ""
           }
          },
          "scene": {
           "xaxis": {
            "backgroundcolor": "#E5ECF6",
            "gridcolor": "white",
            "gridwidth": 2,
            "linecolor": "white",
            "showbackground": true,
            "ticks": "",
            "zerolinecolor": "white"
           },
           "yaxis": {
            "backgroundcolor": "#E5ECF6",
            "gridcolor": "white",
            "gridwidth": 2,
            "linecolor": "white",
            "showbackground": true,
            "ticks": "",
            "zerolinecolor": "white"
           },
           "zaxis": {
            "backgroundcolor": "#E5ECF6",
            "gridcolor": "white",
            "gridwidth": 2,
            "linecolor": "white",
            "showbackground": true,
            "ticks": "",
            "zerolinecolor": "white"
           }
          },
          "shapedefaults": {
           "line": {
            "color": "#2a3f5f"
           }
          },
          "ternary": {
           "aaxis": {
            "gridcolor": "white",
            "linecolor": "white",
            "ticks": ""
           },
           "baxis": {
            "gridcolor": "white",
            "linecolor": "white",
            "ticks": ""
           },
           "bgcolor": "#E5ECF6",
           "caxis": {
            "gridcolor": "white",
            "linecolor": "white",
            "ticks": ""
           }
          },
          "title": {
           "x": 0.05
          },
          "xaxis": {
           "automargin": true,
           "gridcolor": "white",
           "linecolor": "white",
           "ticks": "",
           "title": {
            "standoff": 15
           },
           "zerolinecolor": "white",
           "zerolinewidth": 2
          },
          "yaxis": {
           "automargin": true,
           "gridcolor": "white",
           "linecolor": "white",
           "ticks": "",
           "title": {
            "standoff": 15
           },
           "zerolinecolor": "white",
           "zerolinewidth": 2
          }
         }
        },
        "title": {
         "text": "Standard Number vs Cq"
        },
        "xaxis": {
         "anchor": "y",
         "domain": [
          0,
          1
         ],
         "title": {
          "text": "StandardNumber"
         }
        },
        "yaxis": {
         "anchor": "x",
         "domain": [
          0,
          1
         ],
         "title": {
          "text": "Ct"
         }
        }
       }
      }
     },
     "metadata": {},
     "output_type": "display_data"
    }
   ],
   "source": [
    "primerMatrix = PrimerMatrixVis('Quan. Result')\n",
    "# df = PrimerMatrixVis.dfCreate(primerMatrix)\n",
    "# df = PrimerMatrixVis.addPrimerConcToDf(primerMatrix)\n",
    "PrimerMatrixVis.RowAndColMeans(primerMatrix)\n",
    "PrimerMatrixVis.Periodicity(primerMatrix)\n",
    "PrimerMatrixVis.FwdAndRevEquivalence(primerMatrix)\n",
    "PrimerMatrixVis.plotStandards(primerMatrix)"
   ]
  }
 ],
 "metadata": {
  "kernelspec": {
   "display_name": "Python 3.8.5 ('base')",
   "language": "python",
   "name": "python3"
  },
  "language_info": {
   "codemirror_mode": {
    "name": "ipython",
    "version": 3
   },
   "file_extension": ".py",
   "mimetype": "text/x-python",
   "name": "python",
   "nbconvert_exporter": "python",
   "pygments_lexer": "ipython3",
   "version": "3.8.13"
  },
  "orig_nbformat": 2,
  "vscode": {
   "interpreter": {
    "hash": "1351e4052cb5e5ef8cb5e82d8be59617e857487b9d1507b0e4ba5c641efe6219"
   }
  }
 },
 "nbformat": 4,
 "nbformat_minor": 2
}
