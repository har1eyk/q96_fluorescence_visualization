{
 "cells": [
  {
   "cell_type": "code",
   "execution_count": 12,
   "metadata": {},
   "outputs": [],
   "source": [
    "import numpy as np\n",
    "import pandas as pd\n",
    "pd.options.plotting.backend = \"plotly\"\n",
    "import plotly.graph_objects as go\n",
    "from plotly.subplots import make_subplots\n",
    "import plotly.express as px\n",
    "from scipy.optimize import curve_fit\n",
    "from sklearn.metrics import r2_score\n",
    "# print(pd.__version__)"
   ]
  },
  {
   "cell_type": "code",
   "execution_count": 13,
   "metadata": {},
   "outputs": [],
   "source": [
    "# import Excel file from Windows\n",
    "# fileDir = r'C:\\Users\\HarleyKing\\OneDrive - LuminUltra Technologies Ltd\\Documents\\Python Scripts\\canonical_pcr_data'\n",
    "fileDir = r\"C:\\Users\\HarleyKing\\LuminUltra Technologies Ltd\\LTI Research & Development - Documents\\Automation and Assay Dev\\Exp800.24_vibrio_cholerae\\Exp800.24.03_primer_matrix\"\n",
    "# fileDir = r'qPCR_data'\n",
    "# fileName = r'20220708_122234_SRB_dsr_test_2.xls' #cy5 data\n",
    "# fileName = r'Exp800.05.create.primer.matrix.micH.xlsx' #fam data\n",
    "# fileName = r'AF Fuel Primer Matrix Run 2 01Jun21 GH.xls' #fam data\n",
    "# fileName = r'three_fluor_assay.xls' #fam data\n",
    "fileName = r'primer.matrix.xls' #fam data\n",
    "fileName = r'\\20220829_155250_Exp800.24_Vch_primermatrix.xls' #fam data\n",
    "\n",
    "# create dataframe\n",
    "dfExcel = pd.read_excel(fileDir+'\\\\'+fileName, sheet_name=None, header=None) #get all sheets"
   ]
  },
  {
   "cell_type": "code",
   "execution_count": 14,
   "metadata": {},
   "outputs": [],
   "source": [
    "class FluorVis:\n",
    "    probe: str\n",
    "    def __init__(self, probe):\n",
    "        self.probe = probe\n",
    "        # self.maxRow = self.getMaxRow()\n",
    "    def dfCreate(self): # make a df from the excel data\n",
    "        # find probe in sheet names\n",
    "        probe_sheet = [sheet for sheet in sheetNames if self.probe in sheet]\n",
    "        # create dataframe from sheet name\n",
    "        df = dfExcel[probe_sheet[0]]\n",
    "        # assign first row to be column header\n",
    "        df.columns = df.iloc[0]\n",
    "        # drop the first row (duplicate of header)\n",
    "        df = df.drop(df.index[0])\n",
    "        # convert all columns to numberic\n",
    "        df = df.apply(pd.to_numeric, errors='coerce')\n",
    "        # make index the first column\n",
    "        df.set_index('Cycle', inplace=True)\n",
    "        # fluor values less than 1 get 0\n",
    "        df = df.where(df>=1, 0)\n",
    "        return df\n",
    "    def getMaxRow(self):\n",
    "        df = self.dfCreate()\n",
    "        # get max value for each row and convert to list\n",
    "        maxRow = df.loc[df.index == 40].values.flatten().tolist()\n",
    "        # round every element in list to one decimal place, convert to str\n",
    "        maxRowRound = [str(round(x,1)) for x in maxRow]\n",
    "        return maxRowRound\n",
    "    def plotAllWells(self):\n",
    "        df = self.dfCreate()\n",
    "        # make plot of wells\n",
    "        fig = px.line(\n",
    "            df,\n",
    "            x=df.index,\n",
    "            y=list(df.columns),\n",
    "            color_discrete_sequence=px.colors.qualitative.Set3)\n",
    "        fig.update_layout(\n",
    "            height=500,\n",
    "            width=1000,\n",
    "            xaxis_title='Cycle',\n",
    "            yaxis_title='RFU ({})'.format(self.probe),\n",
    "            title_text='Cycle vs Fluorescence ({})'.format(self.probe),\n",
    "            legend_title='Well')\n",
    "        return fig.show()\n",
    "    def plotIndWells(self):\n",
    "        df = self.dfCreate() \n",
    "        maxRow = self.getMaxRow()\n",
    "        # make subplots of individual wells\n",
    "        colorsList = px.colors.qualitative.Set3\n",
    "        figSub = make_subplots(\n",
    "            rows=8, cols=12,\n",
    "            shared_xaxes=True,\n",
    "            shared_yaxes='all',\n",
    "            start_cell='top-left',\n",
    "            subplot_titles=list(df.columns)) #, subplot_titles=sub_titles, print_grid=False)\n",
    "        for r in range (0,8): #loop through rows\n",
    "            for c in range(0,12):\n",
    "                figSub.add_trace(go.Scatter(\n",
    "                    x=df.index,\n",
    "                    y=df.iloc[:,r+(r*11)+c], # this pattern translates r=8, c=12 to 0..95 columns in df (0 indexed)\n",
    "                    name=df.columns[r+(r*11)+c], # gets column name eg 'A01'\n",
    "                    mode=\"lines+text\", # allows for text to be inserted onto ind plot\n",
    "                    line_color=colorsList[c], # assign color to each well consistent with all-well plot\n",
    "                    text= ['']*32 + [maxRow[r+(r*11)+c]]+['']*7, # inserts max value onto plot at 33rd point; looks nice here\n",
    "                    textposition='top left',\n",
    "                    textfont=dict(\n",
    "                        family=\"sans serif\",\n",
    "                        size=8,\n",
    "                        color=\"black\")), # want to stand out\n",
    "                    row=r+1,\n",
    "                    col=c+1)\n",
    "        figSub.update_layout(\n",
    "            height=800,\n",
    "            width=1000,\n",
    "            showlegend=False,\n",
    "            title_text='Cycle vs Fluorescence ({})'.format(self.probe))\n",
    "        return figSub.show()\n",
    "    \n",
    "                \n"
   ]
  },
  {
   "cell_type": "code",
   "execution_count": 15,
   "metadata": {},
   "outputs": [],
   "source": [
    "class PrimerMatrixVis:\n",
    "    sheet: str\n",
    "    def __init__(self, sheet):\n",
    "        self.sheet = sheet\n",
    "    def dfCreate(self): # make a df from the excel data\n",
    "        # make df from passed sheet name\n",
    "        df = dfExcel[self.sheet]\n",
    "        # assign first row to be column header\n",
    "        df.columns = df.iloc[0]\n",
    "        # drop the first row (duplicate of header)\n",
    "        df = df.drop(df.index[0])\n",
    "        # convert all columns to numberic\n",
    "        # df = df.apply(pd.to_numeric, errors='coerce')\n",
    "        # make index the first column\n",
    "        # df.set_index('Cycle', inplace=True)\n",
    "        # fluor values less than 1 get 0\n",
    "        # df = df.where(df>=1, 0)\n",
    "        return df\n",
    "    def addPrimerConcToDf(self):\n",
    "        df = self.dfCreate()\n",
    "        primerConcs = [50, 100, 200, 400, 600, 800] # Fwd and rev primer concentrations\n",
    "        # add fwd primerConc values to two rows all the way to 72\n",
    "        df['F_primer'] =np.nan\n",
    "        for i in range(6): # loop through rows except last two rows containing standard curve\n",
    "            for j in range(6): # loop through primer concentration list\n",
    "                for k in range(2): # every concentration twice\n",
    "                    pos = (12*i)+(2*j)+(k+1) # translate row and column to position in df 1..96\n",
    "                    df.loc[pos, 'F_primer'] = primerConcs[j] # set value to primer concentration\n",
    "        # add rev primerConc values across single row for 6 rows\n",
    "        df['R_primer'] =np.nan\n",
    "        for m in range(6): # loop through primer concentration list\n",
    "            for n in range(12): # every concentration as a row\n",
    "                pos = (12*m)+(n+1) # translate row and column to position in df 1..96\n",
    "                df.loc[pos, 'R_primer'] = primerConcs[m] # set value to primer concentration\n",
    "        return df \n",
    "    def Periodicity(self):\n",
    "        df=self.addPrimerConcToDf()\n",
    "        # group by F and R primer concentrations and take mean\n",
    "        avg_across_row_fwd = df.groupby(by=['R_primer', 'F_primer'], as_index=False)['Ct'].mean()\n",
    "        avg_across_col_rev = df.groupby(by=['F_primer', 'R_primer'], as_index=False)['Ct'].mean()\n",
    "        # stringify 'F_primer' and 'R_primer' concentrations and concatenate and add to list\n",
    "        barHeadingsFwd = (avg_across_row_fwd['F_primer'].astype(str) + '_' + avg_across_row_fwd['R_primer'].astype(str)).tolist()\n",
    "        barHeadingsRev = (avg_across_col_rev['R_primer'].astype(str) + '_' + avg_across_col_rev['F_primer'].astype(str)).tolist()\n",
    "        figAvgFwd = px.bar(\n",
    "            avg_across_row_fwd,\n",
    "            y=avg_across_row_fwd['Ct'],\n",
    "            x=barHeadingsFwd, #avg_across_row['F_primer'],\n",
    "            labels={'x':'F Primer Concentration', 'y':'Cq'},\n",
    "            color='R_primer',\n",
    "            barmode='group',\n",
    "            text_auto=True,\n",
    "            title='Periodicity in Increasing [Fwd] (Going Across Row)<br>[Rev] Held Constant, Two Points per Condition Averaged')\n",
    "        figAvgFwd.show()\n",
    "        figAvgRev = px.bar(\n",
    "            avg_across_col_rev,\n",
    "            y=avg_across_col_rev['Ct'],\n",
    "            x=barHeadingsRev, #avg_across_row['F_primer'],\n",
    "            labels={'x':'R Primer Concentration', 'y':'Cq'},\n",
    "            color='F_primer',\n",
    "            barmode='group',\n",
    "            text_auto=True,\n",
    "            title='Periodicity in Increasing [Rev] (Going Down Column)<br>[Fwd] Held Constant, Two Points per Condition Averaged')\n",
    "        return figAvgRev.show()\n",
    "    def onePhaseDecay(self, X, y0, Plateau, K):\n",
    "        return (y0-Plateau)*np.exp(-K*X)+Plateau\n",
    "    def RowAndColMeans(self):  \n",
    "        df=self.addPrimerConcToDf()  \n",
    "        row_mean = df.groupby(by='R_primer', as_index=False)['Ct'].mean() # group by R primer concentration and take mean\n",
    "        col_mean = df.groupby(by='F_primer', as_index=False)['Ct'].mean() # group by F primer concentration and take mean\n",
    "        row_conc = row_mean['R_primer'].tolist() # make list of concentrations\n",
    "        row_cq_mean = row_mean['Ct'].tolist() # make list of Cqs\n",
    "        col_conc = col_mean['F_primer'].tolist() \n",
    "        col_cq_mean = col_mean['Ct'].tolist()\n",
    "        # solve for one phase decay with scipy\n",
    "        # initialGuesses = [y0, Plateau, K] \n",
    "        # Y0 is the Y value when X (Conc) is zero. It is expressed in the same units as Y,\n",
    "        # Plateau is the Y value at infinite conc, expressed in the same units as Y.\n",
    "        # K is the rate constant, expressed in reciprocal of the X axis conc units. If X is in nM, then K is expressed in inverse nM.\n",
    "        initialGuesses = [100, 15, 0.01] # converges faster with initial guesses\n",
    "        ropt,rcov = curve_fit(self.onePhaseDecay, row_conc, row_cq_mean, initialGuesses, maxfev=5000)\n",
    "        copt,ccov = curve_fit(self.onePhaseDecay, col_conc, col_cq_mean, initialGuesses, maxfev=5000)\n",
    "        row_cq_pred = np.empty(len(row_conc)) #empty list to receive data\n",
    "        for i in range(len(row_conc)): #loop through concentrations to make cq prediction\n",
    "            # cq_pred[i]=onePhaseDecay(f_r_conc[i], initialGuesses[0], initialGuesses[1], initialGuesses[2])\n",
    "            row_cq_pred[i]=self.onePhaseDecay(row_conc[i], ropt[0], ropt[1], ropt[2])\n",
    "        col_cq_pred = np.empty(len(col_conc)) #empty list to receive data\n",
    "        for i in range(len(col_conc)): #loop through concentrations to make cq prediction\n",
    "            # cq_pred[i]=onePhaseDecay(f_r_conc[i], initialGuesses[0], initialGuesses[1], initialGuesses[2])\n",
    "            col_cq_pred[i]=self.onePhaseDecay(col_conc[i], copt[0], copt[1], copt[2])\n",
    "        # from sklearn.metrics import r2_score\n",
    "        row_R2score = r2_score(row_cq_pred, row_cq_mean)\n",
    "        col_R2score = r2_score(col_cq_pred, col_cq_mean)\n",
    "        # Generate figure\n",
    "        figRowVsColMean = go.Figure()\n",
    "        figRowVsColMean.add_trace(\n",
    "            go.Scatter(\n",
    "                x=row_conc,\n",
    "                y=row_cq_mean,\n",
    "                name='Row Mean', \n",
    "                mode='markers',\n",
    "                marker_color='#2038A8'\n",
    "                # line=dict(color='rgb(255, 0, 0)', width=2),\n",
    "                # line_shape = 'spline' # make smooth line\n",
    "            ))\n",
    "        figRowVsColMean.add_trace(\n",
    "            go.Scatter(\n",
    "                x=row_conc,\n",
    "                y=row_cq_pred,\n",
    "                name='Row (Modeled)',\n",
    "                mode='lines',\n",
    "                line=dict(color='#7564F5', width=1),\n",
    "                line_shape = 'spline' # make smooth line\n",
    "            ))\n",
    "        figRowVsColMean.add_trace(\n",
    "            go.Scatter(\n",
    "                x=col_conc,\n",
    "                y=col_cq_mean,\n",
    "                name='Col Mean',\n",
    "                mode='markers',\n",
    "                marker_color='#F58E17'\n",
    "            ))\n",
    "        figRowVsColMean.add_trace(\n",
    "            go.Scatter(\n",
    "                x=col_conc,\n",
    "                y=col_cq_pred,\n",
    "                name='Col (Modeled)',\n",
    "                mode='lines',\n",
    "                # marker_color='#F5BD69', \n",
    "                line=dict(color='#F5BD69', width=1),\n",
    "                line_shape = 'spline' # make smooth line\n",
    "            ))\n",
    "        figRowVsColMean.update_layout(title='Row vs Col Means',\n",
    "        xaxis_title='Mean',\n",
    "        yaxis_title='Cq')\n",
    "        return figRowVsColMean.show()\n",
    "    def FwdAndRevEquivalence(self):\n",
    "        df=self.addPrimerConcToDf()  \n",
    "        # create a new df where 'F_primer' = 'R_primer' \n",
    "        df_fwd_rev = df[df['F_primer'] == df['R_primer']]\n",
    "        df_fwd_rev_mean = df_fwd_rev.groupby(by=['R_primer', 'F_primer'], as_index=False)['Ct'].mean().dropna() # take mean, remove NaN\n",
    "        # equivHeadings = (df_fwd_rev_mean['F_primer'].astype(str) + '_' + df_fwd_rev_mean['R_primer'].astype(str)).tolist()\n",
    "        # solve for one phase decay with scipy\n",
    "        # f_r_conc = [100, 200, 400, 600, 800] # F-R primer concentrations\n",
    "        # cq_actual = [37.32, 25.21, 21.27, 20.225, 18.81] # Cq values\n",
    "        f_r_conc = df_fwd_rev_mean['R_primer'].tolist() # both F_primer and R_primer are the same\n",
    "        cq_actual = df_fwd_rev_mean['Ct'].tolist()\n",
    "        # found each element in cq_actual to two decimal places\n",
    "        cq_actual = [round(x, 2) for x in cq_actual]\n",
    "        # initialGuesses = [y0, Plateau, K] \n",
    "        # Y0 is the Y value when X (Conc) is zero. It is expressed in the same units as Y,\n",
    "        # Plateau is the Y value at infinite conc, expressed in the same units as Y.\n",
    "        # K is the rate constant, expressed in reciprocal of the X axis conc units. If X is in nM, then K is expressed in inverse nM.\n",
    "        # initialGuesses = [73.29, 19.8, 0.01120] # GraphPad values\n",
    "        initialGuesses = [100, 15, 0.01]\n",
    "        popt,pcov = curve_fit(self.onePhaseDecay, f_r_conc, cq_actual, initialGuesses)\n",
    "        cq_pred = np.empty(len(cq_actual)) #empty list to receive data\n",
    "        for i in range(len(f_r_conc)): #loop through concentrations to make cq prediction\n",
    "            # cq_pred[i]=onePhaseDecay(f_r_conc[i], initialGuesses[0], initialGuesses[1], initialGuesses[2])\n",
    "            cq_pred[i]=self.onePhaseDecay(f_r_conc[i], popt[0], popt[1], popt[2])\n",
    "        # from sklearn.metrics import r2_score\n",
    "        equivR2score = r2_score(cq_pred, cq_actual)\n",
    "\n",
    "        # Plot 3 more predicted points @ 300, 500, 700nM\n",
    "        cq_pred_300 = self.onePhaseDecay(300, popt[0], popt[1], popt[2])\n",
    "        cq_pred_500 = self.onePhaseDecay(500, popt[0], popt[1], popt[2])\n",
    "        cq_pred_700 = self.onePhaseDecay(700, popt[0], popt[1], popt[2])\n",
    "        figEquivalent = go.Figure()\n",
    "        figEquivalent.add_trace(\n",
    "            go.Scatter(\n",
    "                x=f_r_conc,\n",
    "                y=cq_pred,\n",
    "                name='Cq Predicted (R^2 = ' + str(round(equivR2score, 4)) + ')', \n",
    "                mode='lines+markers',\n",
    "                line=dict(color='rgb(255, 0, 0)', width=2),\n",
    "                line_shape = 'spline' # make smooth line\n",
    "            ))\n",
    "        figEquivalent.add_trace(\n",
    "            go.Bar(\n",
    "                x=f_r_conc,\n",
    "                y=cq_actual,\n",
    "                text = cq_actual,\n",
    "                name='Cq Actual',\n",
    "                textposition='inside',\n",
    "                marker_color='#636EFA'\n",
    "            ))\n",
    "        figEquivalent.add_trace(\n",
    "            go.Bar(\n",
    "                x=[300, 500, 700],\n",
    "                y=[cq_pred_300, cq_pred_500, cq_pred_700],\n",
    "                name='Cq Predicted @300, 500, 700nM',\n",
    "                textposition='inside',\n",
    "                marker_color='#94B6FA'\n",
    "            ))\n",
    "        figEquivalent.update_layout(title='<b>Cq when [Fwd] = [Rev]</b><br>Actual vs Predicted (One Phase Decay)<br>Two Points per Condition Averaged',\n",
    "        xaxis_title='[F=R] Primer Concentration',\n",
    "        yaxis_title='Cq')\n",
    "        return figEquivalent.show()\n",
    "    def plotStandards(self):\n",
    "        # rename \"Property\" column with standard and Negative\n",
    "        df = self.dfCreate()\n",
    "        df.loc[73:93, \"Property\"]= \"Standard\" # make property in rows 73-93 \"Standard\"\n",
    "        df.loc[94:96, \"Property\"]= \"Negative\" \n",
    "        standardNumberList = ['Std_1', 'Std_2', 'Std_3', 'Std_4', 'Std_5', 'Std_6', 'Std_7', 'Negative']\n",
    "        # create a new column with the standard number e.g. std_1, std_2, etc.\n",
    "        df['StandardNumber'] =np.nan # create new column for standard number\n",
    "        for j in range(8): # 8 sets of triplicates on two rows\n",
    "            for k in range(3): # every concentration 3x for std curve\n",
    "                pos = 73+k+(j*3) # translate row and column to position in df 1..96\n",
    "                df.loc[pos, 'StandardNumber'] = standardNumberList[j] # set value to primer concentration\n",
    "        # select df with only standards; don't want negatives\n",
    "        standards = df.loc[df['Property'] == 'Standard']\n",
    "        standardNumberMeans = standards.groupby(by=['StandardNumber'], as_index=False)['Ct'].mean().dropna() # take mean, remove NaN\n",
    "        # display (standardNumberMeans)\n",
    "        figStandards = px.bar(\n",
    "            standardNumberMeans,\n",
    "            y=standardNumberMeans['Ct'],\n",
    "            x=standardNumberMeans['StandardNumber'], #avg_across_row['F_primer'],\n",
    "            labels={'x':'Standard', 'y':'Cq'},\n",
    "            # color='R_primer',\n",
    "            barmode='group',\n",
    "            text_auto=True,\n",
    "            title='Standard Number vs Cq' )\n",
    "        figStandards.show()\n",
    "        \n",
    "    "
   ]
  },
  {
   "cell_type": "code",
   "execution_count": 16,
   "metadata": {},
   "outputs": [
    {
     "name": "stdout",
     "output_type": "stream",
     "text": [
      "['Detectors', 'Sample', 'Plate', 'Program', 'Quan. Raw Data', 'Quan. Result', 'Quan. AmpData-CY5', 'Quan. AmpData-FAM']\n"
     ]
    }
   ],
   "source": [
    "# show all sheet names\n",
    "sheetNames = list(dfExcel.keys())\n",
    "print(sheetNames)"
   ]
  },
  {
   "cell_type": "code",
   "execution_count": 17,
   "metadata": {},
   "outputs": [
    {
     "data": {
      "application/vnd.plotly.v1+json": {
       "config": {
        "plotlyServerURL": "https://plot.ly"
       },
       "data": [
        {
         "hovertemplate": "variable=A01<br>Cycle=%{x}<br>value=%{y}<extra></extra>",
         "legendgroup": "A01",
         "line": {
          "color": "rgb(141,211,199)",
          "dash": "solid"
         },
         "marker": {
          "symbol": "circle"
         },
         "mode": "lines",
         "name": "A01",
         "showlegend": true,
         "type": "scattergl",
         "x": [
          1,
          2,
          3,
          4,
          5,
          6,
          7,
          8,
          9,
          10,
          11,
          12,
          13,
          14,
          15,
          16,
          17,
          18,
          19,
          20,
          21,
          22,
          23,
          24,
          25,
          26,
          27,
          28,
          29,
          30,
          31,
          32,
          33,
          34,
          35,
          36,
          37,
          38,
          39,
          40
         ],
         "xaxis": "x",
         "y": [
          0,
          0,
          0,
          0,
          0,
          0,
          0,
          0,
          0,
          0,
          0,
          0,
          0,
          0,
          0,
          0,
          0,
          0,
          0,
          0,
          0,
          0,
          0,
          0,
          0,
          8.02177570913227,
          29.2623561235287,
          70.2541414886737,
          140.421875517566,
          251.214978115502,
          414.294870624198,
          638.150845172891,
          924.467539846298,
          1265.32258753132,
          1643.26075889877,
          2036.94638092184,
          2428.7939151427,
          2805.59315695093,
          3169.15425797901,
          3531.28886571473
         ],
         "yaxis": "y"
        },
        {
         "hovertemplate": "variable=A02<br>Cycle=%{x}<br>value=%{y}<extra></extra>",
         "legendgroup": "A02",
         "line": {
          "color": "rgb(255,255,179)",
          "dash": "solid"
         },
         "marker": {
          "symbol": "circle"
         },
         "mode": "lines",
         "name": "A02",
         "showlegend": true,
         "type": "scattergl",
         "x": [
          1,
          2,
          3,
          4,
          5,
          6,
          7,
          8,
          9,
          10,
          11,
          12,
          13,
          14,
          15,
          16,
          17,
          18,
          19,
          20,
          21,
          22,
          23,
          24,
          25,
          26,
          27,
          28,
          29,
          30,
          31,
          32,
          33,
          34,
          35,
          36,
          37,
          38,
          39,
          40
         ],
         "xaxis": "x",
         "y": [
          0,
          0,
          0,
          0,
          0,
          0,
          0,
          0,
          0,
          0,
          0,
          0,
          0,
          0,
          0,
          0,
          0,
          0,
          0,
          0,
          0,
          0,
          0,
          0,
          0,
          0,
          0,
          3.22368272826407,
          11.6137753913954,
          27.3897882199362,
          53.6301414592526,
          93.9865413065936,
          151.936427325944,
          230.04627171508,
          329.171702501563,
          448.162309529223,
          583.977914394017,
          733.463446889063,
          882.948979384108,
          1032.43451187915
         ],
         "yaxis": "y"
        },
        {
         "hovertemplate": "variable=A03<br>Cycle=%{x}<br>value=%{y}<extra></extra>",
         "legendgroup": "A03",
         "line": {
          "color": "rgb(190,186,218)",
          "dash": "solid"
         },
         "marker": {
          "symbol": "circle"
         },
         "mode": "lines",
         "name": "A03",
         "showlegend": true,
         "type": "scattergl",
         "x": [
          1,
          2,
          3,
          4,
          5,
          6,
          7,
          8,
          9,
          10,
          11,
          12,
          13,
          14,
          15,
          16,
          17,
          18,
          19,
          20,
          21,
          22,
          23,
          24,
          25,
          26,
          27,
          28,
          29,
          30,
          31,
          32,
          33,
          34,
          35,
          36,
          37,
          38,
          39,
          40
         ],
         "xaxis": "x",
         "y": [
          0,
          0,
          0,
          0,
          0,
          0,
          0,
          0,
          0,
          0,
          0,
          0,
          0,
          0,
          0,
          0,
          0,
          0,
          0,
          0,
          0,
          7.73642375621694,
          29.4959216831448,
          74.0405688334304,
          154.951203642914,
          289.407758208714,
          494.470073780783,
          782.184137743407,
          1154.99324097741,
          1603.26662650688,
          2106.51755197894,
          2637.38474789593,
          3167.15475082799,
          3670.94680906144,
          4132.41747090518,
          4540.57757036821,
          4894.1497737181,
          5199.33783144866,
          5476.78476480665,
          5754.23169816463
         ],
         "yaxis": "y"
        },
        {
         "hovertemplate": "variable=A04<br>Cycle=%{x}<br>value=%{y}<extra></extra>",
         "legendgroup": "A04",
         "line": {
          "color": "rgb(251,128,114)",
          "dash": "solid"
         },
         "marker": {
          "symbol": "circle"
         },
         "mode": "lines",
         "name": "A04",
         "showlegend": true,
         "type": "scattergl",
         "x": [
          1,
          2,
          3,
          4,
          5,
          6,
          7,
          8,
          9,
          10,
          11,
          12,
          13,
          14,
          15,
          16,
          17,
          18,
          19,
          20,
          21,
          22,
          23,
          24,
          25,
          26,
          27,
          28,
          29,
          30,
          31,
          32,
          33,
          34,
          35,
          36,
          37,
          38,
          39,
          40
         ],
         "xaxis": "x",
         "y": [
          0,
          0,
          0,
          0,
          0,
          0,
          0,
          0,
          0,
          0,
          0,
          0,
          0,
          0,
          0,
          0,
          0,
          0,
          0,
          0,
          0,
          0,
          11.8600734712745,
          40.7883700390948,
          93.989581265806,
          182.611637548231,
          320.869744685174,
          523.229427991474,
          800.384281982604,
          1155.22521136544,
          1580.34036930145,
          2058.45709141267,
          2565.99060108643,
          3076.94918510272,
          3570.57320648609,
          4024.2061994698,
          4429.83911219076,
          4782.71761454052,
          5109.70295513798,
          5436.68829573543
         ],
         "yaxis": "y"
        },
        {
         "hovertemplate": "variable=A05<br>Cycle=%{x}<br>value=%{y}<extra></extra>",
         "legendgroup": "A05",
         "line": {
          "color": "rgb(128,177,211)",
          "dash": "solid"
         },
         "marker": {
          "symbol": "circle"
         },
         "mode": "lines",
         "name": "A05",
         "showlegend": true,
         "type": "scattergl",
         "x": [
          1,
          2,
          3,
          4,
          5,
          6,
          7,
          8,
          9,
          10,
          11,
          12,
          13,
          14,
          15,
          16,
          17,
          18,
          19,
          20,
          21,
          22,
          23,
          24,
          25,
          26,
          27,
          28,
          29,
          30,
          31,
          32,
          33,
          34,
          35,
          36,
          37,
          38,
          39,
          40
         ],
         "xaxis": "x",
         "y": [
          0,
          0,
          0,
          0,
          0,
          0,
          0,
          0,
          0,
          0,
          0,
          0,
          0,
          0,
          0,
          0,
          0,
          0,
          0,
          0,
          5.31249990991546,
          21.7274089690873,
          56.622122093795,
          121.383229471409,
          230.926860218297,
          401.421653733138,
          646.35779805568,
          972.188548950388,
          1375.02014880836,
          1839.7992696494,
          2342.55840817721,
          2855.26283166136,
          3351.78841979149,
          3811.31839171331,
          4222.95010756256,
          4576.01086254858,
          4873.84354890025,
          5120.02712967187,
          5344.45863952215,
          5568.89014937243
         ],
         "yaxis": "y"
        },
        {
         "hovertemplate": "variable=A06<br>Cycle=%{x}<br>value=%{y}<extra></extra>",
         "legendgroup": "A06",
         "line": {
          "color": "rgb(253,180,98)",
          "dash": "solid"
         },
         "marker": {
          "symbol": "circle"
         },
         "mode": "lines",
         "name": "A06",
         "showlegend": true,
         "type": "scattergl",
         "x": [
          1,
          2,
          3,
          4,
          5,
          6,
          7,
          8,
          9,
          10,
          11,
          12,
          13,
          14,
          15,
          16,
          17,
          18,
          19,
          20,
          21,
          22,
          23,
          24,
          25,
          26,
          27,
          28,
          29,
          30,
          31,
          32,
          33,
          34,
          35,
          36,
          37,
          38,
          39,
          40
         ],
         "xaxis": "x",
         "y": [
          0,
          0,
          0,
          0,
          0,
          0,
          0,
          0,
          0,
          0,
          0,
          0,
          0,
          0,
          0,
          0,
          0,
          0,
          0,
          0,
          0,
          8.06943565899292,
          29.7980982872168,
          72.4007503237162,
          146.52447497317,
          265.216507266861,
          441.12890346294,
          682.91655191002,
          991.804196195397,
          1359.60455727471,
          1769.56160026066,
          2199.44088434922,
          2626.15823195315,
          3029.32001921463,
          3393.879555829,
          3712.48600804271,
          3986.03116449576,
          4222.01057565807,
          4436.29514706774,
          4649.88492490605
         ],
         "yaxis": "y"
        },
        {
         "hovertemplate": "variable=A07<br>Cycle=%{x}<br>value=%{y}<extra></extra>",
         "legendgroup": "A07",
         "line": {
          "color": "rgb(179,222,105)",
          "dash": "solid"
         },
         "marker": {
          "symbol": "circle"
         },
         "mode": "lines",
         "name": "A07",
         "showlegend": true,
         "type": "scattergl",
         "x": [
          1,
          2,
          3,
          4,
          5,
          6,
          7,
          8,
          9,
          10,
          11,
          12,
          13,
          14,
          15,
          16,
          17,
          18,
          19,
          20,
          21,
          22,
          23,
          24,
          25,
          26,
          27,
          28,
          29,
          30,
          31,
          32,
          33,
          34,
          35,
          36,
          37,
          38,
          39,
          40
         ],
         "xaxis": "x",
         "y": [
          0,
          0,
          0,
          0,
          0,
          0,
          0,
          0,
          0,
          0,
          0,
          0,
          0,
          0,
          0,
          0,
          0,
          0,
          0,
          0,
          0,
          5.63192174122287,
          24.1107205781118,
          63.9944833427953,
          137.635384728955,
          260.303131383946,
          447.566795740208,
          711.439773027444,
          1056.53283991041,
          1477.56293456101,
          1959.53631816317,
          2480.41151458323,
          3015.83068942169,
          3542.1782392979,
          4042.69211787798,
          4497.60698844103,
          4901.99151712118,
          5252.34964809941,
          5577.84757506448,
          5903.34550202955
         ],
         "yaxis": "y"
        },
        {
         "hovertemplate": "variable=A08<br>Cycle=%{x}<br>value=%{y}<extra></extra>",
         "legendgroup": "A08",
         "line": {
          "color": "rgb(252,205,229)",
          "dash": "solid"
         },
         "marker": {
          "symbol": "circle"
         },
         "mode": "lines",
         "name": "A08",
         "showlegend": true,
         "type": "scattergl",
         "x": [
          1,
          2,
          3,
          4,
          5,
          6,
          7,
          8,
          9,
          10,
          11,
          12,
          13,
          14,
          15,
          16,
          17,
          18,
          19,
          20,
          21,
          22,
          23,
          24,
          25,
          26,
          27,
          28,
          29,
          30,
          31,
          32,
          33,
          34,
          35,
          36,
          37,
          38,
          39,
          40
         ],
         "xaxis": "x",
         "y": [
          0,
          0,
          0,
          0,
          0,
          0,
          0,
          0,
          0,
          0,
          0,
          0,
          0,
          0,
          0,
          0,
          0,
          0,
          0,
          0,
          0,
          6.83353452660867,
          27.3441556241096,
          69.6556324041976,
          145.537110034878,
          269.636959208122,
          457.050017596572,
          719.600544025163,
          1061.96596422356,
          1479.27896544798,
          1957.10558789195,
          2473.70694269911,
          3003.95713494594,
          3523.14142970363,
          4012.71134459963,
          4454.18426122444,
          4840.8398471919,
          5172.47247362533,
          5473.48870130008,
          5774.50492897483
         ],
         "yaxis": "y"
        },
        {
         "hovertemplate": "variable=A09<br>Cycle=%{x}<br>value=%{y}<extra></extra>",
         "legendgroup": "A09",
         "line": {
          "color": "rgb(217,217,217)",
          "dash": "solid"
         },
         "marker": {
          "symbol": "circle"
         },
         "mode": "lines",
         "name": "A09",
         "showlegend": true,
         "type": "scattergl",
         "x": [
          1,
          2,
          3,
          4,
          5,
          6,
          7,
          8,
          9,
          10,
          11,
          12,
          13,
          14,
          15,
          16,
          17,
          18,
          19,
          20,
          21,
          22,
          23,
          24,
          25,
          26,
          27,
          28,
          29,
          30,
          31,
          32,
          33,
          34,
          35,
          36,
          37,
          38,
          39,
          40
         ],
         "xaxis": "x",
         "y": [
          0,
          0,
          0,
          0,
          0,
          0,
          0,
          0,
          0,
          0,
          0,
          0,
          0,
          0,
          0,
          0,
          0,
          0,
          0,
          0,
          0,
          12.0439490823082,
          44.1162139575099,
          106.038899762929,
          211.903669021721,
          378.66963794033,
          622.594070544353,
          954.625588184414,
          1376.26877269272,
          1877.46327852256,
          2437.50127164868,
          3028.7136047362,
          3621.83620543693,
          4190.08248674143,
          4715.33923543274,
          5179.68721958361,
          5579.57376633623,
          5920.11859156365,
          6260.66341679107,
          6601.20824201849
         ],
         "yaxis": "y"
        },
        {
         "hovertemplate": "variable=A10<br>Cycle=%{x}<br>value=%{y}<extra></extra>",
         "legendgroup": "A10",
         "line": {
          "color": "rgb(188,128,189)",
          "dash": "solid"
         },
         "marker": {
          "symbol": "circle"
         },
         "mode": "lines",
         "name": "A10",
         "showlegend": true,
         "type": "scattergl",
         "x": [
          1,
          2,
          3,
          4,
          5,
          6,
          7,
          8,
          9,
          10,
          11,
          12,
          13,
          14,
          15,
          16,
          17,
          18,
          19,
          20,
          21,
          22,
          23,
          24,
          25,
          26,
          27,
          28,
          29,
          30,
          31,
          32,
          33,
          34,
          35,
          36,
          37,
          38,
          39,
          40
         ],
         "xaxis": "x",
         "y": [
          0,
          0,
          0,
          0,
          0,
          0,
          0,
          0,
          0,
          0,
          0,
          0,
          0,
          0,
          0,
          0,
          0,
          0,
          0,
          0,
          0,
          13.0373689211337,
          46.7639397972271,
          111.298438342526,
          221.382525447675,
          394.784097275853,
          648.371967003104,
          993.211414856818,
          1430.36809411175,
          1948.85918138498,
          2526.74475953861,
          3135.20587313078,
          3744.55739730998,
          4327.89866626505,
          4867.76317769676,
          5344.37651337122,
          5755.18996183199,
          6099.7506746148,
          6413.76222046533,
          6727.77376631585
         ],
         "yaxis": "y"
        },
        {
         "hovertemplate": "variable=A11<br>Cycle=%{x}<br>value=%{y}<extra></extra>",
         "legendgroup": "A11",
         "line": {
          "color": "rgb(204,235,197)",
          "dash": "solid"
         },
         "marker": {
          "symbol": "circle"
         },
         "mode": "lines",
         "name": "A11",
         "showlegend": true,
         "type": "scattergl",
         "x": [
          1,
          2,
          3,
          4,
          5,
          6,
          7,
          8,
          9,
          10,
          11,
          12,
          13,
          14,
          15,
          16,
          17,
          18,
          19,
          20,
          21,
          22,
          23,
          24,
          25,
          26,
          27,
          28,
          29,
          30,
          31,
          32,
          33,
          34,
          35,
          36,
          37,
          38,
          39,
          40
         ],
         "xaxis": "x",
         "y": [
          0,
          0,
          0,
          0,
          0,
          0,
          0,
          0,
          0,
          0,
          0,
          0,
          0,
          0,
          0,
          0,
          0,
          0,
          0,
          0,
          0,
          0,
          9.57300046728142,
          38.3372085662522,
          96.7177354587011,
          198.554359363955,
          359.521605897822,
          594.036403829011,
          911.508778614334,
          1312.73021256186,
          1788.39506612013,
          2319.94954641807,
          2882.46975327492,
          3448.28713887418,
          3994.43735136757,
          4495.58572853748,
          4940.18589517353,
          5328.82637867263,
          5717.46686217173,
          6106.10734567082
         ],
         "yaxis": "y"
        },
        {
         "hovertemplate": "variable=A12<br>Cycle=%{x}<br>value=%{y}<extra></extra>",
         "legendgroup": "A12",
         "line": {
          "color": "rgb(255,237,111)",
          "dash": "solid"
         },
         "marker": {
          "symbol": "circle"
         },
         "mode": "lines",
         "name": "A12",
         "showlegend": true,
         "type": "scattergl",
         "x": [
          1,
          2,
          3,
          4,
          5,
          6,
          7,
          8,
          9,
          10,
          11,
          12,
          13,
          14,
          15,
          16,
          17,
          18,
          19,
          20,
          21,
          22,
          23,
          24,
          25,
          26,
          27,
          28,
          29,
          30,
          31,
          32,
          33,
          34,
          35,
          36,
          37,
          38,
          39,
          40
         ],
         "xaxis": "x",
         "y": [
          0,
          0,
          0,
          0,
          0,
          0,
          0,
          0,
          0,
          0,
          0,
          0,
          0,
          0,
          0,
          0,
          0,
          0,
          0,
          0,
          0,
          12.073352698214,
          43.7262619804387,
          104.304398016418,
          207.390666802735,
          369.714796502584,
          607.73478460791,
          933.010855003063,
          1347.91406797315,
          1843.12640488024,
          2398.19278077256,
          2985.06296743856,
          3573.53368048234,
          4135.49329808914,
          4651.70807703637,
          5102.70623420346,
          5484.47295902173,
          5802.41456974601,
          6120.35618047029,
          6438.29779119457
         ],
         "yaxis": "y"
        },
        {
         "hovertemplate": "variable=B01<br>Cycle=%{x}<br>value=%{y}<extra></extra>",
         "legendgroup": "B01",
         "line": {
          "color": "rgb(141,211,199)",
          "dash": "solid"
         },
         "marker": {
          "symbol": "circle"
         },
         "mode": "lines",
         "name": "B01",
         "showlegend": true,
         "type": "scattergl",
         "x": [
          1,
          2,
          3,
          4,
          5,
          6,
          7,
          8,
          9,
          10,
          11,
          12,
          13,
          14,
          15,
          16,
          17,
          18,
          19,
          20,
          21,
          22,
          23,
          24,
          25,
          26,
          27,
          28,
          29,
          30,
          31,
          32,
          33,
          34,
          35,
          36,
          37,
          38,
          39,
          40
         ],
         "xaxis": "x",
         "y": [
          0,
          0,
          0,
          0,
          0,
          0,
          0,
          0,
          0,
          0,
          0,
          0,
          0,
          0,
          0,
          0,
          0,
          0,
          0,
          0,
          0,
          0,
          0,
          10.3081716473525,
          37.5869198809014,
          90.1139487381215,
          180.13839911396,
          323.201924096333,
          535.555503100145,
          830.206076770544,
          1213.02191419913,
          1679.54059160613,
          2213.74857865155,
          2789.91080276304,
          3377.0907257464,
          3947.05381604368,
          4482.99946869495,
          4977.16265713756,
          5444.13347109785,
          5909.75680070413
         ],
         "yaxis": "y"
        },
        {
         "hovertemplate": "variable=B02<br>Cycle=%{x}<br>value=%{y}<extra></extra>",
         "legendgroup": "B02",
         "line": {
          "color": "rgb(255,255,179)",
          "dash": "solid"
         },
         "marker": {
          "symbol": "circle"
         },
         "mode": "lines",
         "name": "B02",
         "showlegend": true,
         "type": "scattergl",
         "x": [
          1,
          2,
          3,
          4,
          5,
          6,
          7,
          8,
          9,
          10,
          11,
          12,
          13,
          14,
          15,
          16,
          17,
          18,
          19,
          20,
          21,
          22,
          23,
          24,
          25,
          26,
          27,
          28,
          29,
          30,
          31,
          32,
          33,
          34,
          35,
          36,
          37,
          38,
          39,
          40
         ],
         "xaxis": "x",
         "y": [
          0,
          0,
          0,
          0,
          0,
          0,
          0,
          0,
          0,
          0,
          0,
          0,
          0,
          0,
          0,
          0,
          0,
          0,
          0,
          0,
          0,
          0,
          0,
          0,
          0,
          0,
          0,
          0,
          0,
          0,
          0,
          0,
          0,
          0,
          0,
          0,
          0,
          0,
          0,
          0
         ],
         "yaxis": "y"
        },
        {
         "hovertemplate": "variable=B03<br>Cycle=%{x}<br>value=%{y}<extra></extra>",
         "legendgroup": "B03",
         "line": {
          "color": "rgb(190,186,218)",
          "dash": "solid"
         },
         "marker": {
          "symbol": "circle"
         },
         "mode": "lines",
         "name": "B03",
         "showlegend": true,
         "type": "scattergl",
         "x": [
          1,
          2,
          3,
          4,
          5,
          6,
          7,
          8,
          9,
          10,
          11,
          12,
          13,
          14,
          15,
          16,
          17,
          18,
          19,
          20,
          21,
          22,
          23,
          24,
          25,
          26,
          27,
          28,
          29,
          30,
          31,
          32,
          33,
          34,
          35,
          36,
          37,
          38,
          39,
          40
         ],
         "xaxis": "x",
         "y": [
          0,
          0,
          0,
          0,
          0,
          0,
          0,
          0,
          0,
          0,
          0,
          0,
          0,
          0,
          0,
          0,
          0,
          0,
          0,
          0,
          0,
          6.99213738980779,
          30.8076592145062,
          82.8850507194311,
          179.3113529374,
          339.887981875973,
          584.79480252527,
          929.435932652364,
          1379.64360596428,
          1928.59704547524,
          2556.73228651657,
          3235.19660029028,
          3931.44121139908,
          4614.27233317187,
          5261.06164199603,
          5850.42978481374,
          6375.78021024301,
          6840.77686792552,
          7305.77352560804,
          7770.77018329056
         ],
         "yaxis": "y"
        },
        {
         "hovertemplate": "variable=B04<br>Cycle=%{x}<br>value=%{y}<extra></extra>",
         "legendgroup": "B04",
         "line": {
          "color": "rgb(251,128,114)",
          "dash": "solid"
         },
         "marker": {
          "symbol": "circle"
         },
         "mode": "lines",
         "name": "B04",
         "showlegend": true,
         "type": "scattergl",
         "x": [
          1,
          2,
          3,
          4,
          5,
          6,
          7,
          8,
          9,
          10,
          11,
          12,
          13,
          14,
          15,
          16,
          17,
          18,
          19,
          20,
          21,
          22,
          23,
          24,
          25,
          26,
          27,
          28,
          29,
          30,
          31,
          32,
          33,
          34,
          35,
          36,
          37,
          38,
          39,
          40
         ],
         "xaxis": "x",
         "y": [
          0,
          0,
          0,
          0,
          0,
          0,
          0,
          0,
          0,
          0,
          0,
          0,
          0,
          0,
          0,
          0,
          0,
          0,
          0,
          0,
          0,
          0,
          0,
          14.3974480132874,
          52.1206319472867,
          123.367712349334,
          241.645185954671,
          422.182910760523,
          678.599499985651,
          1018.73569025805,
          1441.29948337318,
          1934.27084138384,
          2476.04947069046,
          3038.72019320862,
          3596.23562029718,
          4119.21158485537,
          4590.91912732754,
          5003.32178868831,
          5380.10352725193,
          5756.88526581556
         ],
         "yaxis": "y"
        },
        {
         "hovertemplate": "variable=B05<br>Cycle=%{x}<br>value=%{y}<extra></extra>",
         "legendgroup": "B05",
         "line": {
          "color": "rgb(128,177,211)",
          "dash": "solid"
         },
         "marker": {
          "symbol": "circle"
         },
         "mode": "lines",
         "name": "B05",
         "showlegend": true,
         "type": "scattergl",
         "x": [
          1,
          2,
          3,
          4,
          5,
          6,
          7,
          8,
          9,
          10,
          11,
          12,
          13,
          14,
          15,
          16,
          17,
          18,
          19,
          20,
          21,
          22,
          23,
          24,
          25,
          26,
          27,
          28,
          29,
          30,
          31,
          32,
          33,
          34,
          35,
          36,
          37,
          38,
          39,
          40
         ],
         "xaxis": "x",
         "y": [
          0,
          0,
          0,
          0,
          0,
          0,
          0,
          0,
          0,
          0,
          0,
          0,
          0,
          0,
          0,
          0,
          0,
          0,
          0,
          0,
          6.22542890216391,
          27.0926199567684,
          72.6367594304083,
          157.440359131849,
          299.460228171019,
          516.997303428307,
          824.184701681768,
          1226.4113828829,
          1717.58575182652,
          2280.24814607147,
          2888.60477571693,
          3513.36344531013,
          4126.61555063508,
          4705.4905655582,
          5235.79820475077,
          5707.5045197471,
          6119.35229048326,
          6478.34986434424,
          6805.99271102718,
          7133.63555771012
         ],
         "yaxis": "y"
        },
        {
         "hovertemplate": "variable=B06<br>Cycle=%{x}<br>value=%{y}<extra></extra>",
         "legendgroup": "B06",
         "line": {
          "color": "rgb(253,180,98)",
          "dash": "solid"
         },
         "marker": {
          "symbol": "circle"
         },
         "mode": "lines",
         "name": "B06",
         "showlegend": true,
         "type": "scattergl",
         "x": [
          1,
          2,
          3,
          4,
          5,
          6,
          7,
          8,
          9,
          10,
          11,
          12,
          13,
          14,
          15,
          16,
          17,
          18,
          19,
          20,
          21,
          22,
          23,
          24,
          25,
          26,
          27,
          28,
          29,
          30,
          31,
          32,
          33,
          34,
          35,
          36,
          37,
          38,
          39,
          40
         ],
         "xaxis": "x",
         "y": [
          0,
          0,
          0,
          0,
          0,
          0,
          0,
          0,
          0,
          0,
          0,
          0,
          0,
          0,
          0,
          0,
          0,
          0,
          0,
          0,
          0,
          9.54922693605022,
          38.6630505118073,
          98.2775995313432,
          202.988442199367,
          369.603681220337,
          613.94517374145,
          946.52172359487,
          1368.69982916142,
          1870.95352247378,
          2433.79242980936,
          3031.17722173067,
          3635.52404492613,
          4221.48376524367,
          4771.56481505589,
          5268.31139860546,
          5707.5774263577,
          6089.86736899996,
          6442.79936333919,
          6795.73135767842
         ],
         "yaxis": "y"
        },
        {
         "hovertemplate": "variable=B07<br>Cycle=%{x}<br>value=%{y}<extra></extra>",
         "legendgroup": "B07",
         "line": {
          "color": "rgb(179,222,105)",
          "dash": "solid"
         },
         "marker": {
          "symbol": "circle"
         },
         "mode": "lines",
         "name": "B07",
         "showlegend": true,
         "type": "scattergl",
         "x": [
          1,
          2,
          3,
          4,
          5,
          6,
          7,
          8,
          9,
          10,
          11,
          12,
          13,
          14,
          15,
          16,
          17,
          18,
          19,
          20,
          21,
          22,
          23,
          24,
          25,
          26,
          27,
          28,
          29,
          30,
          31,
          32,
          33,
          34,
          35,
          36,
          37,
          38,
          39,
          40
         ],
         "xaxis": "x",
         "y": [
          0,
          0,
          0,
          0,
          0,
          0,
          0,
          0,
          0,
          0,
          0,
          0,
          0,
          0,
          0,
          0,
          0,
          0,
          0,
          0,
          6.98460912610426,
          31.4259761528829,
          85.6085649350525,
          187.201758587,
          357.867789056214,
          619.525794609515,
          988.713030405173,
          1471.02639602611,
          2058.05536202781,
          2727.71092443937,
          3448.15337971995,
          4184.25929482387,
          4904.06266069706,
          5583.37360149861,
          6208.24819592729,
          6774.99026947031,
          7289.15120189544,
          7762.75291400315,
          8214.5956966169,
          8666.22426196819
         ],
         "yaxis": "y"
        },
        {
         "hovertemplate": "variable=B08<br>Cycle=%{x}<br>value=%{y}<extra></extra>",
         "legendgroup": "B08",
         "line": {
          "color": "rgb(252,205,229)",
          "dash": "solid"
         },
         "marker": {
          "symbol": "circle"
         },
         "mode": "lines",
         "name": "B08",
         "showlegend": true,
         "type": "scattergl",
         "x": [
          1,
          2,
          3,
          4,
          5,
          6,
          7,
          8,
          9,
          10,
          11,
          12,
          13,
          14,
          15,
          16,
          17,
          18,
          19,
          20,
          21,
          22,
          23,
          24,
          25,
          26,
          27,
          28,
          29,
          30,
          31,
          32,
          33,
          34,
          35,
          36,
          37,
          38,
          39,
          40
         ],
         "xaxis": "x",
         "y": [
          0,
          0,
          0,
          0,
          0,
          0,
          0,
          0,
          0,
          0,
          0,
          0,
          0,
          0,
          0,
          0,
          0,
          0,
          0,
          0,
          10.1950259685336,
          41.2323831752701,
          105.891345518106,
          222.570108938656,
          413.62465979425,
          701.110137884807,
          1100.90333682434,
          1617.13279842252,
          2239.31445227695,
          2943.34007782833,
          3696.08143629543,
          4461.8128269369,
          5208.39318310952,
          5910.63261452996,
          6551.69493964301,
          7124.58703911673,
          7632.86228056772,
          8088.48959878999,
          8514.10820721648,
          8938.80166120149
         ],
         "yaxis": "y"
        },
        {
         "hovertemplate": "variable=B09<br>Cycle=%{x}<br>value=%{y}<extra></extra>",
         "legendgroup": "B09",
         "line": {
          "color": "rgb(217,217,217)",
          "dash": "solid"
         },
         "marker": {
          "symbol": "circle"
         },
         "mode": "lines",
         "name": "B09",
         "showlegend": true,
         "type": "scattergl",
         "x": [
          1,
          2,
          3,
          4,
          5,
          6,
          7,
          8,
          9,
          10,
          11,
          12,
          13,
          14,
          15,
          16,
          17,
          18,
          19,
          20,
          21,
          22,
          23,
          24,
          25,
          26,
          27,
          28,
          29,
          30,
          31,
          32,
          33,
          34,
          35,
          36,
          37,
          38,
          39,
          40
         ],
         "xaxis": "x",
         "y": [
          0,
          0,
          0,
          0,
          0,
          0,
          0,
          0,
          0,
          0,
          0,
          0,
          0,
          0,
          0,
          0,
          0,
          0,
          0,
          0,
          8.34257282487033,
          35.6931853332862,
          94.4284423207018,
          202.207660490228,
          380.588091006663,
          651.035287712924,
          1029.41378157623,
          1520.83081829074,
          2116.57745349209,
          2794.6580935602,
          3523.81773922882,
          4269.6372491185,
          5000.92977789409,
          5692.81871041659,
          6331.49019527868,
          6902.30368101635,
          7406.0801973534,
          7850.23459434595,
          8294.3889913385,
          8738.54338833104
         ],
         "yaxis": "y"
        },
        {
         "hovertemplate": "variable=B10<br>Cycle=%{x}<br>value=%{y}<extra></extra>",
         "legendgroup": "B10",
         "line": {
          "color": "rgb(188,128,189)",
          "dash": "solid"
         },
         "marker": {
          "symbol": "circle"
         },
         "mode": "lines",
         "name": "B10",
         "showlegend": true,
         "type": "scattergl",
         "x": [
          1,
          2,
          3,
          4,
          5,
          6,
          7,
          8,
          9,
          10,
          11,
          12,
          13,
          14,
          15,
          16,
          17,
          18,
          19,
          20,
          21,
          22,
          23,
          24,
          25,
          26,
          27,
          28,
          29,
          30,
          31,
          32,
          33,
          34,
          35,
          36,
          37,
          38,
          39,
          40
         ],
         "xaxis": "x",
         "y": [
          0,
          0,
          0,
          0,
          0,
          0,
          0,
          0,
          0,
          0,
          0,
          0,
          0,
          0,
          0,
          0,
          0,
          0,
          0,
          0,
          10.1076819840291,
          43.8792744849425,
          116.548814094932,
          248.948822897525,
          465.385726044532,
          788.871215378135,
          1234.88907551519,
          1805.84920717222,
          2488.46054544225,
          3255.32228815056,
          4070.03276630547,
          4894.23360822587,
          5694.47548156924,
          6445.43543542622,
          7133.91892985839,
          7747.94166673027,
          8289.84702086444,
          8765.78199057479,
          9209.25588312573,
          9652.72977567667
         ],
         "yaxis": "y"
        },
        {
         "hovertemplate": "variable=B11<br>Cycle=%{x}<br>value=%{y}<extra></extra>",
         "legendgroup": "B11",
         "line": {
          "color": "rgb(204,235,197)",
          "dash": "solid"
         },
         "marker": {
          "symbol": "circle"
         },
         "mode": "lines",
         "name": "B11",
         "showlegend": true,
         "type": "scattergl",
         "x": [
          1,
          2,
          3,
          4,
          5,
          6,
          7,
          8,
          9,
          10,
          11,
          12,
          13,
          14,
          15,
          16,
          17,
          18,
          19,
          20,
          21,
          22,
          23,
          24,
          25,
          26,
          27,
          28,
          29,
          30,
          31,
          32,
          33,
          34,
          35,
          36,
          37,
          38,
          39,
          40
         ],
         "xaxis": "x",
         "y": [
          0,
          0,
          0,
          0,
          0,
          0,
          0,
          0,
          0,
          0,
          0,
          0,
          0,
          0,
          0,
          0,
          0,
          0,
          0,
          0,
          9.36659575382873,
          41.5875172777269,
          112.570895641987,
          244.675062176676,
          464.950708839407,
          800.487205759016,
          1271.36277030036,
          1884.21056503459,
          2628.56683753435,
          3477.09146196426,
          4390.22103624069,
          5323.96860481402,
          6237.96805289549,
          7100.03592050171,
          7892.2968280414,
          8598.36441285944,
          9220.34448676636,
          9764.16111859755,
          10270.7044532112,
          10777.2477878249
         ],
         "yaxis": "y"
        },
        {
         "hovertemplate": "variable=B12<br>Cycle=%{x}<br>value=%{y}<extra></extra>",
         "legendgroup": "B12",
         "line": {
          "color": "rgb(255,237,111)",
          "dash": "solid"
         },
         "marker": {
          "symbol": "circle"
         },
         "mode": "lines",
         "name": "B12",
         "showlegend": true,
         "type": "scattergl",
         "x": [
          1,
          2,
          3,
          4,
          5,
          6,
          7,
          8,
          9,
          10,
          11,
          12,
          13,
          14,
          15,
          16,
          17,
          18,
          19,
          20,
          21,
          22,
          23,
          24,
          25,
          26,
          27,
          28,
          29,
          30,
          31,
          32,
          33,
          34,
          35,
          36,
          37,
          38,
          39,
          40
         ],
         "xaxis": "x",
         "y": [
          0,
          0,
          0,
          0,
          0,
          0,
          0,
          0,
          0,
          0,
          0,
          0,
          0,
          0,
          0,
          0,
          0,
          0,
          0,
          0,
          10.9511192506588,
          45.8030848387298,
          119.852115654068,
          254.515219737696,
          475.040411548808,
          805.230322149655,
          1260.82838558282,
          1843.83603136105,
          2539.88106965975,
          3320.01479941001,
          4146.42481999287,
          4979.59356218904,
          5784.6336806649,
          6534.72000071825,
          7214.89478989236,
          7812.58066970776,
          8328.2819703889,
          8770.42690050458,
          9172.15337246047,
          9573.87984441635
         ],
         "yaxis": "y"
        },
        {
         "hovertemplate": "variable=C01<br>Cycle=%{x}<br>value=%{y}<extra></extra>",
         "legendgroup": "C01",
         "line": {
          "color": "rgb(141,211,199)",
          "dash": "solid"
         },
         "marker": {
          "symbol": "circle"
         },
         "mode": "lines",
         "name": "C01",
         "showlegend": true,
         "type": "scattergl",
         "x": [
          1,
          2,
          3,
          4,
          5,
          6,
          7,
          8,
          9,
          10,
          11,
          12,
          13,
          14,
          15,
          16,
          17,
          18,
          19,
          20,
          21,
          22,
          23,
          24,
          25,
          26,
          27,
          28,
          29,
          30,
          31,
          32,
          33,
          34,
          35,
          36,
          37,
          38,
          39,
          40
         ],
         "xaxis": "x",
         "y": [
          0,
          0,
          0,
          0,
          0,
          0,
          0,
          0,
          0,
          0,
          0,
          0,
          0,
          0,
          0,
          0,
          0,
          0,
          0,
          0,
          0,
          0,
          15.1417050686487,
          55.2386992965121,
          132.76644070298,
          265.717101975344,
          476.021466524504,
          785.184452007281,
          1208.27257745816,
          1748.80624779557,
          2396.30348109624,
          3127.14347968774,
          3908.9000659242,
          4706.57476697342,
          5488.64876815354,
          6232.90653679518,
          6930.75338535469,
          7583.06447891019,
          8208.55143395096,
          8833.21152928254
         ],
         "yaxis": "y"
        },
        {
         "hovertemplate": "variable=C02<br>Cycle=%{x}<br>value=%{y}<extra></extra>",
         "legendgroup": "C02",
         "line": {
          "color": "rgb(255,255,179)",
          "dash": "solid"
         },
         "marker": {
          "symbol": "circle"
         },
         "mode": "lines",
         "name": "C02",
         "showlegend": true,
         "type": "scattergl",
         "x": [
          1,
          2,
          3,
          4,
          5,
          6,
          7,
          8,
          9,
          10,
          11,
          12,
          13,
          14,
          15,
          16,
          17,
          18,
          19,
          20,
          21,
          22,
          23,
          24,
          25,
          26,
          27,
          28,
          29,
          30,
          31,
          32,
          33,
          34,
          35,
          36,
          37,
          38,
          39,
          40
         ],
         "xaxis": "x",
         "y": [
          0,
          0,
          0,
          0,
          0,
          0,
          0,
          0,
          0,
          0,
          0,
          0,
          0,
          0,
          0,
          0,
          0,
          0,
          0,
          0,
          0,
          0,
          0,
          0,
          0,
          0,
          0,
          0,
          6.10422156400364,
          21.2349848449339,
          48.6444040787464,
          92.6840287367359,
          158.664980139778,
          251.979177171961,
          376.846688941482,
          534.944348510089,
          723.804896305645,
          939.248495138748,
          1154.69209397185,
          1370.13569280495
         ],
         "yaxis": "y"
        },
        {
         "hovertemplate": "variable=C03<br>Cycle=%{x}<br>value=%{y}<extra></extra>",
         "legendgroup": "C03",
         "line": {
          "color": "rgb(190,186,218)",
          "dash": "solid"
         },
         "marker": {
          "symbol": "circle"
         },
         "mode": "lines",
         "name": "C03",
         "showlegend": true,
         "type": "scattergl",
         "x": [
          1,
          2,
          3,
          4,
          5,
          6,
          7,
          8,
          9,
          10,
          11,
          12,
          13,
          14,
          15,
          16,
          17,
          18,
          19,
          20,
          21,
          22,
          23,
          24,
          25,
          26,
          27,
          28,
          29,
          30,
          31,
          32,
          33,
          34,
          35,
          36,
          37,
          38,
          39,
          40
         ],
         "xaxis": "x",
         "y": [
          0,
          0,
          0,
          0,
          0,
          0,
          0,
          0,
          0,
          0,
          0,
          0,
          0,
          0,
          0,
          0,
          0,
          0,
          0,
          0,
          0,
          14.4801519856319,
          60.0053467971338,
          154.703942885152,
          322.626099517384,
          591.350369067749,
          986.285715043598,
          1523.38799903518,
          2203.41852914764,
          3009.67425895828,
          3910.31151106939,
          4864.27523793264,
          5827.84847127009,
          6761.40927174077,
          7636.21317495677,
          8430.7595794444,
          9135.43896146076,
          9755.23295743361,
          10375.0269534065,
          10994.8209493793
         ],
         "yaxis": "y"
        },
        {
         "hovertemplate": "variable=C04<br>Cycle=%{x}<br>value=%{y}<extra></extra>",
         "legendgroup": "C04",
         "line": {
          "color": "rgb(251,128,114)",
          "dash": "solid"
         },
         "marker": {
          "symbol": "circle"
         },
         "mode": "lines",
         "name": "C04",
         "showlegend": true,
         "type": "scattergl",
         "x": [
          1,
          2,
          3,
          4,
          5,
          6,
          7,
          8,
          9,
          10,
          11,
          12,
          13,
          14,
          15,
          16,
          17,
          18,
          19,
          20,
          21,
          22,
          23,
          24,
          25,
          26,
          27,
          28,
          29,
          30,
          31,
          32,
          33,
          34,
          35,
          36,
          37,
          38,
          39,
          40
         ],
         "xaxis": "x",
         "y": [
          0,
          0,
          0,
          0,
          0,
          0,
          0,
          0,
          0,
          0,
          0,
          0,
          0,
          0,
          0,
          0,
          0,
          0,
          0,
          0,
          0,
          0,
          0,
          11.2320907158673,
          43.4119191291657,
          107.072591859903,
          216.440154547688,
          388.384247357812,
          639.5229146785,
          982.353231212333,
          1421.48951680406,
          1950.81440514294,
          2552.44893173713,
          3198.72817618507,
          3860.13421353787,
          4500.37523134253,
          5093.72370923898,
          5633.18958026076,
          6172.65545128254,
          6712.12132230432
         ],
         "yaxis": "y"
        },
        {
         "hovertemplate": "variable=C05<br>Cycle=%{x}<br>value=%{y}<extra></extra>",
         "legendgroup": "C05",
         "line": {
          "color": "rgb(128,177,211)",
          "dash": "solid"
         },
         "marker": {
          "symbol": "circle"
         },
         "mode": "lines",
         "name": "C05",
         "showlegend": true,
         "type": "scattergl",
         "x": [
          1,
          2,
          3,
          4,
          5,
          6,
          7,
          8,
          9,
          10,
          11,
          12,
          13,
          14,
          15,
          16,
          17,
          18,
          19,
          20,
          21,
          22,
          23,
          24,
          25,
          26,
          27,
          28,
          29,
          30,
          31,
          32,
          33,
          34,
          35,
          36,
          37,
          38,
          39,
          40
         ],
         "xaxis": "x",
         "y": [
          0,
          0,
          0,
          0,
          0,
          0,
          0,
          0,
          0,
          0,
          0,
          0,
          0,
          0,
          0,
          0,
          0,
          0,
          0,
          0,
          11.5579537757221,
          48.6958918885675,
          127.674603302437,
          271.047690786942,
          505.107214502908,
          854.536699330144,
          1335.70425843201,
          1950.79364247432,
          2685.40027176752,
          3510.70236390502,
          4389.1713706288,
          5282.10888038431,
          6156.71763293466,
          6988.98614036171,
          7766.92417895495,
          8480.10970478413,
          9131.46950384941,
          9726.24658272333,
          10294.44962216,
          10862.6526615967
         ],
         "yaxis": "y"
        },
        {
         "hovertemplate": "variable=C06<br>Cycle=%{x}<br>value=%{y}<extra></extra>",
         "legendgroup": "C06",
         "line": {
          "color": "rgb(253,180,98)",
          "dash": "solid"
         },
         "marker": {
          "symbol": "circle"
         },
         "mode": "lines",
         "name": "C06",
         "showlegend": true,
         "type": "scattergl",
         "x": [
          1,
          2,
          3,
          4,
          5,
          6,
          7,
          8,
          9,
          10,
          11,
          12,
          13,
          14,
          15,
          16,
          17,
          18,
          19,
          20,
          21,
          22,
          23,
          24,
          25,
          26,
          27,
          28,
          29,
          30,
          31,
          32,
          33,
          34,
          35,
          36,
          37,
          38,
          39,
          40
         ],
         "xaxis": "x",
         "y": [
          0,
          0,
          0,
          0,
          0,
          0,
          0,
          0,
          0,
          0,
          0,
          0,
          0,
          0,
          0,
          0,
          0,
          0,
          0,
          0,
          0,
          13.6355731657268,
          56.5130295053877,
          145.685692252693,
          303.452181545886,
          554.558015322013,
          920.767923969109,
          1414.67345268923,
          2034.85537838918,
          2764.31551720898,
          3573.06912904685,
          4423.85320726908,
          5278.9539188124,
          6105.55505390537,
          6879.24198320758,
          7587.04997536298,
          8229.0482953358,
          8815.17499375774,
          9369.27903425127,
          9922.4126621192
         ],
         "yaxis": "y"
        },
        {
         "hovertemplate": "variable=C07<br>Cycle=%{x}<br>value=%{y}<extra></extra>",
         "legendgroup": "C07",
         "line": {
          "color": "rgb(179,222,105)",
          "dash": "solid"
         },
         "marker": {
          "symbol": "circle"
         },
         "mode": "lines",
         "name": "C07",
         "showlegend": true,
         "type": "scattergl",
         "x": [
          1,
          2,
          3,
          4,
          5,
          6,
          7,
          8,
          9,
          10,
          11,
          12,
          13,
          14,
          15,
          16,
          17,
          18,
          19,
          20,
          21,
          22,
          23,
          24,
          25,
          26,
          27,
          28,
          29,
          30,
          31,
          32,
          33,
          34,
          35,
          36,
          37,
          38,
          39,
          40
         ],
         "xaxis": "x",
         "y": [
          0,
          0,
          0,
          0,
          0,
          0,
          0,
          0,
          0,
          0,
          0,
          0,
          0,
          0,
          0,
          0,
          0,
          0,
          0,
          0,
          10.9026936595246,
          51.4774659604927,
          142.964202008543,
          314.410216737934,
          599.576994382576,
          1030.24513822504,
          1627.33044275565,
          2393.44918485154,
          3310.01490174487,
          4339.77839761763,
          5434.40983614585,
          6544.52579485468,
          7628.11257848805,
          8655.72792793008,
          9612.90034677722,
          10496.1707678439,
          11311.4210540705,
          12073.8653902613,
          12805.7474199994,
          13537.6294497375
         ],
         "yaxis": "y"
        },
        {
         "hovertemplate": "variable=C08<br>Cycle=%{x}<br>value=%{y}<extra></extra>",
         "legendgroup": "C08",
         "line": {
          "color": "rgb(252,205,229)",
          "dash": "solid"
         },
         "marker": {
          "symbol": "circle"
         },
         "mode": "lines",
         "name": "C08",
         "showlegend": true,
         "type": "scattergl",
         "x": [
          1,
          2,
          3,
          4,
          5,
          6,
          7,
          8,
          9,
          10,
          11,
          12,
          13,
          14,
          15,
          16,
          17,
          18,
          19,
          20,
          21,
          22,
          23,
          24,
          25,
          26,
          27,
          28,
          29,
          30,
          31,
          32,
          33,
          34,
          35,
          36,
          37,
          38,
          39,
          40
         ],
         "xaxis": "x",
         "y": [
          0,
          0,
          0,
          0,
          0,
          0,
          0,
          0,
          0,
          0,
          0,
          0,
          0,
          0,
          0,
          0,
          0,
          0,
          0,
          0,
          13.4755604918673,
          58.0156567490558,
          153.487466932095,
          326.994863204851,
          610.083436952384,
          1032.11035033284,
          1611.92799915736,
          2351.11684440434,
          3231.45688242419,
          4217.84350387092,
          5265.34913147527,
          6328.16921613009,
          7367.02869464189,
          8353.73898575982,
          9273.60789054941,
          10121.2712446326,
          10900.2626193157,
          11624.0381976323,
          12314.7863274283,
          13005.5344572244
         ],
         "yaxis": "y"
        },
        {
         "hovertemplate": "variable=C09<br>Cycle=%{x}<br>value=%{y}<extra></extra>",
         "legendgroup": "C09",
         "line": {
          "color": "rgb(217,217,217)",
          "dash": "solid"
         },
         "marker": {
          "symbol": "circle"
         },
         "mode": "lines",
         "name": "C09",
         "showlegend": true,
         "type": "scattergl",
         "x": [
          1,
          2,
          3,
          4,
          5,
          6,
          7,
          8,
          9,
          10,
          11,
          12,
          13,
          14,
          15,
          16,
          17,
          18,
          19,
          20,
          21,
          22,
          23,
          24,
          25,
          26,
          27,
          28,
          29,
          30,
          31,
          32,
          33,
          34,
          35,
          36,
          37,
          38,
          39,
          40
         ],
         "xaxis": "x",
         "y": [
          0,
          0,
          0,
          0,
          0,
          0,
          0,
          0,
          0,
          0,
          0,
          0,
          0,
          0,
          0,
          0,
          0,
          0,
          0,
          0,
          13.5509088847011,
          57.1442695254182,
          150.010876462755,
          318.922602068325,
          595.236598939382,
          1008.30341320559,
          1577.16371046683,
          2303.71505476989,
          3169.94693175389,
          4140.78233611138,
          5171.37814124657,
          6216.33787916611,
          7237.89051122956,
          8208.1160040463,
          9113.44199389526,
          9936.02429736497,
          10678.0925244001,
          11340.9128438307,
          11969.6946294,
          12598.4764149693
         ],
         "yaxis": "y"
        },
        {
         "hovertemplate": "variable=C10<br>Cycle=%{x}<br>value=%{y}<extra></extra>",
         "legendgroup": "C10",
         "line": {
          "color": "rgb(188,128,189)",
          "dash": "solid"
         },
         "marker": {
          "symbol": "circle"
         },
         "mode": "lines",
         "name": "C10",
         "showlegend": true,
         "type": "scattergl",
         "x": [
          1,
          2,
          3,
          4,
          5,
          6,
          7,
          8,
          9,
          10,
          11,
          12,
          13,
          14,
          15,
          16,
          17,
          18,
          19,
          20,
          21,
          22,
          23,
          24,
          25,
          26,
          27,
          28,
          29,
          30,
          31,
          32,
          33,
          34,
          35,
          36,
          37,
          38,
          39,
          40
         ],
         "xaxis": "x",
         "y": [
          0,
          0,
          0,
          0,
          0,
          0,
          0,
          0,
          0,
          0,
          0,
          0,
          0,
          0,
          0,
          0,
          0,
          0,
          0,
          0,
          13.7062872793585,
          60.4197508374191,
          162.308664205657,
          349.715705859178,
          657.525971136191,
          1117.57720573012,
          1749.569714975,
          2553.87232849833,
          3509.0116639155,
          4575.18181574569,
          5702.57280727328,
          6841.333400791,
          7950.19823352056,
          8999.50529672551,
          9975.02123023597,
          10862.9936314486,
          11666.9943921753,
          12393.5613630404,
          13083.3103203284,
          13773.0592776164
         ],
         "yaxis": "y"
        },
        {
         "hovertemplate": "variable=C11<br>Cycle=%{x}<br>value=%{y}<extra></extra>",
         "legendgroup": "C11",
         "line": {
          "color": "rgb(204,235,197)",
          "dash": "solid"
         },
         "marker": {
          "symbol": "circle"
         },
         "mode": "lines",
         "name": "C11",
         "showlegend": true,
         "type": "scattergl",
         "x": [
          1,
          2,
          3,
          4,
          5,
          6,
          7,
          8,
          9,
          10,
          11,
          12,
          13,
          14,
          15,
          16,
          17,
          18,
          19,
          20,
          21,
          22,
          23,
          24,
          25,
          26,
          27,
          28,
          29,
          30,
          31,
          32,
          33,
          34,
          35,
          36,
          37,
          38,
          39,
          40
         ],
         "xaxis": "x",
         "y": [
          0,
          0,
          0,
          0,
          0,
          0,
          0,
          0,
          0,
          0,
          0,
          0,
          0,
          0,
          0,
          0,
          0,
          0,
          0,
          0,
          14.8271478751349,
          63.4224772934003,
          168.030913899257,
          359.896139853669,
          675.88030818046,
          1150.93658060367,
          1808.48227602385,
          2652.09357683307,
          3662.0544923604,
          4798.28738182763,
          6008.62272534786,
          7239.04083507,
          8442.01829417765,
          9581.73172669832,
          10637.7933670315,
          11597.747605702,
          12461.8039699702,
          13243.5483105151,
          13975.8010733398,
          14708.0538361644
         ],
         "yaxis": "y"
        },
        {
         "hovertemplate": "variable=C12<br>Cycle=%{x}<br>value=%{y}<extra></extra>",
         "legendgroup": "C12",
         "line": {
          "color": "rgb(255,237,111)",
          "dash": "solid"
         },
         "marker": {
          "symbol": "circle"
         },
         "mode": "lines",
         "name": "C12",
         "showlegend": true,
         "type": "scattergl",
         "x": [
          1,
          2,
          3,
          4,
          5,
          6,
          7,
          8,
          9,
          10,
          11,
          12,
          13,
          14,
          15,
          16,
          17,
          18,
          19,
          20,
          21,
          22,
          23,
          24,
          25,
          26,
          27,
          28,
          29,
          30,
          31,
          32,
          33,
          34,
          35,
          36,
          37,
          38,
          39,
          40
         ],
         "xaxis": "x",
         "y": [
          0,
          0,
          0,
          0,
          0,
          0,
          0,
          0,
          0,
          0,
          0,
          0,
          0,
          0,
          0,
          0,
          0,
          0,
          0,
          0,
          20.1535845522749,
          78.6990077160335,
          197.771771258668,
          408.388948632763,
          746.459717172463,
          1244.73335402958,
          1923.29762099142,
          2781.92993753175,
          3797.80872864171,
          4929.64178738401,
          6126.36125394158,
          7337.42156337847,
          8521.42966091439,
          9649.20789172972,
          10706.8658796934,
          11682.4809061339,
          12580.0520776497,
          13406.8226646825,
          14199.7166182907,
          14992.610571899
         ],
         "yaxis": "y"
        },
        {
         "hovertemplate": "variable=D01<br>Cycle=%{x}<br>value=%{y}<extra></extra>",
         "legendgroup": "D01",
         "line": {
          "color": "rgb(141,211,199)",
          "dash": "solid"
         },
         "marker": {
          "symbol": "circle"
         },
         "mode": "lines",
         "name": "D01",
         "showlegend": true,
         "type": "scattergl",
         "x": [
          1,
          2,
          3,
          4,
          5,
          6,
          7,
          8,
          9,
          10,
          11,
          12,
          13,
          14,
          15,
          16,
          17,
          18,
          19,
          20,
          21,
          22,
          23,
          24,
          25,
          26,
          27,
          28,
          29,
          30,
          31,
          32,
          33,
          34,
          35,
          36,
          37,
          38,
          39,
          40
         ],
         "xaxis": "x",
         "y": [
          0,
          0,
          0,
          0,
          0,
          0,
          0,
          0,
          0,
          0,
          0,
          0,
          0,
          0,
          0,
          0,
          0,
          0,
          0,
          0,
          0,
          0,
          21.4056856047446,
          80.180509156361,
          194.08344530088,
          386.436349985188,
          683.164365210281,
          1107.11250137154,
          1671.58960627207,
          2375.30811916204,
          3200.95443188472,
          4117.79208737393,
          5088.00552618809,
          6071.86608453844,
          7038.05452098484,
          7950.39454145897,
          8794.80915344274,
          9560.83578444935,
          10288.7274933539,
          11016.6192022585
         ],
         "yaxis": "y"
        },
        {
         "hovertemplate": "variable=D02<br>Cycle=%{x}<br>value=%{y}<extra></extra>",
         "legendgroup": "D02",
         "line": {
          "color": "rgb(255,255,179)",
          "dash": "solid"
         },
         "marker": {
          "symbol": "circle"
         },
         "mode": "lines",
         "name": "D02",
         "showlegend": true,
         "type": "scattergl",
         "x": [
          1,
          2,
          3,
          4,
          5,
          6,
          7,
          8,
          9,
          10,
          11,
          12,
          13,
          14,
          15,
          16,
          17,
          18,
          19,
          20,
          21,
          22,
          23,
          24,
          25,
          26,
          27,
          28,
          29,
          30,
          31,
          32,
          33,
          34,
          35,
          36,
          37,
          38,
          39,
          40
         ],
         "xaxis": "x",
         "y": [
          0,
          0,
          0,
          0,
          0,
          0,
          0,
          0,
          0,
          0,
          0,
          0,
          0,
          0,
          0,
          0,
          0,
          0,
          0,
          0,
          0,
          0,
          0,
          0,
          0,
          0,
          0,
          0,
          5.38761777357558,
          19.2233917991834,
          44.6428878086699,
          85.9329663822518,
          148.573723776178,
          238.410824308619,
          360.449573438779,
          517.222698206215,
          706.69212447098,
          924.704165664742,
          1142.7162068585,
          1360.72824805227
         ],
         "yaxis": "y"
        },
        {
         "hovertemplate": "variable=D03<br>Cycle=%{x}<br>value=%{y}<extra></extra>",
         "legendgroup": "D03",
         "line": {
          "color": "rgb(190,186,218)",
          "dash": "solid"
         },
         "marker": {
          "symbol": "circle"
         },
         "mode": "lines",
         "name": "D03",
         "showlegend": true,
         "type": "scattergl",
         "x": [
          1,
          2,
          3,
          4,
          5,
          6,
          7,
          8,
          9,
          10,
          11,
          12,
          13,
          14,
          15,
          16,
          17,
          18,
          19,
          20,
          21,
          22,
          23,
          24,
          25,
          26,
          27,
          28,
          29,
          30,
          31,
          32,
          33,
          34,
          35,
          36,
          37,
          38,
          39,
          40
         ],
         "xaxis": "x",
         "y": [
          0,
          0,
          0,
          0,
          0,
          0,
          0,
          0,
          0,
          0,
          0,
          0,
          0,
          0,
          0,
          0,
          0,
          0,
          0,
          0,
          14.1726905422574,
          57.4908852008566,
          148.254489680254,
          312.394660828749,
          580.875711206348,
          983.582648409067,
          1541.36762779407,
          2259.28764349868,
          3123.54897434438,
          4103.26018691825,
          5156.39779474814,
          6238.40573776157,
          7309.83432823303,
          8341.4818349055,
          9317.51651524583,
          10231.6353854405,
          11087.6539364079,
          11896.8405100545,
          12680.2558809116,
          13463.6712517687
         ],
         "yaxis": "y"
        },
        {
         "hovertemplate": "variable=D04<br>Cycle=%{x}<br>value=%{y}<extra></extra>",
         "legendgroup": "D04",
         "line": {
          "color": "rgb(251,128,114)",
          "dash": "solid"
         },
         "marker": {
          "symbol": "circle"
         },
         "mode": "lines",
         "name": "D04",
         "showlegend": true,
         "type": "scattergl",
         "x": [
          1,
          2,
          3,
          4,
          5,
          6,
          7,
          8,
          9,
          10,
          11,
          12,
          13,
          14,
          15,
          16,
          17,
          18,
          19,
          20,
          21,
          22,
          23,
          24,
          25,
          26,
          27,
          28,
          29,
          30,
          31,
          32,
          33,
          34,
          35,
          36,
          37,
          38,
          39,
          40
         ],
         "xaxis": "x",
         "y": [
          0,
          0,
          0,
          0,
          0,
          0,
          0,
          0,
          0,
          0,
          0,
          0,
          0,
          0,
          0,
          0,
          0,
          0,
          0,
          0,
          0,
          0,
          0,
          16.2346370435389,
          61.9523550214471,
          151.339646263055,
          302.971490000715,
          537.929514235249,
          875.822409386997,
          1329.73733247248,
          1901.90367620007,
          2581.25748404699,
          3343.91396913225,
          4155.89726342983,
          4983.26886768896,
          5783.17309725432,
          6528.84688856131,
          7213.5907828633,
          7898.33467716529,
          8583.07857146728
         ],
         "yaxis": "y"
        },
        {
         "hovertemplate": "variable=D05<br>Cycle=%{x}<br>value=%{y}<extra></extra>",
         "legendgroup": "D05",
         "line": {
          "color": "rgb(128,177,211)",
          "dash": "solid"
         },
         "marker": {
          "symbol": "circle"
         },
         "mode": "lines",
         "name": "D05",
         "showlegend": true,
         "type": "scattergl",
         "x": [
          1,
          2,
          3,
          4,
          5,
          6,
          7,
          8,
          9,
          10,
          11,
          12,
          13,
          14,
          15,
          16,
          17,
          18,
          19,
          20,
          21,
          22,
          23,
          24,
          25,
          26,
          27,
          28,
          29,
          30,
          31,
          32,
          33,
          34,
          35,
          36,
          37,
          38,
          39,
          40
         ],
         "xaxis": "x",
         "y": [
          0,
          0,
          0,
          0,
          0,
          0,
          0,
          0,
          0,
          0,
          0,
          0,
          0,
          0,
          0,
          0,
          0,
          0,
          0,
          0,
          9.5266785159838,
          43.2244282639549,
          117.932466085392,
          257.100423059243,
          488.448282388961,
          838.688543970651,
          1326.30032816035,
          1955.26733552276,
          2712.18426853893,
          3567.94499756671,
          4483.60037838816,
          5418.3512657806,
          6336.60330370918,
          7211.66354042703,
          8026.92360269515,
          8776.47173422911,
          9464.57723157008,
          10103.7465761539,
          10715.1597492909,
          11325.7085055159
         ],
         "yaxis": "y"
        },
        {
         "hovertemplate": "variable=D06<br>Cycle=%{x}<br>value=%{y}<extra></extra>",
         "legendgroup": "D06",
         "line": {
          "color": "rgb(253,180,98)",
          "dash": "solid"
         },
         "marker": {
          "symbol": "circle"
         },
         "mode": "lines",
         "name": "D06",
         "showlegend": true,
         "type": "scattergl",
         "x": [
          1,
          2,
          3,
          4,
          5,
          6,
          7,
          8,
          9,
          10,
          11,
          12,
          13,
          14,
          15,
          16,
          17,
          18,
          19,
          20,
          21,
          22,
          23,
          24,
          25,
          26,
          27,
          28,
          29,
          30,
          31,
          32,
          33,
          34,
          35,
          36,
          37,
          38,
          39,
          40
         ],
         "xaxis": "x",
         "y": [
          0,
          0,
          0,
          0,
          0,
          0,
          0,
          0,
          0,
          0,
          0,
          0,
          0,
          0,
          0,
          0,
          0,
          0,
          0,
          0,
          8.18002703244019,
          37.2094548444875,
          102.32589838483,
          226.057727056095,
          437.26452317857,
          766.693556020571,
          1240.10448998843,
          1871.05021937212,
          2655.40610171043,
          3570.26228965662,
          4577.79465466537,
          5632.44105140984,
          6689.28461906798,
          7710.09691120881,
          8670.24697170506,
          9548.48188742571,
          10341.4408318622,
          11053.7828700775,
          11723.4061390893,
          12393.0294081011
         ],
         "yaxis": "y"
        },
        {
         "hovertemplate": "variable=D07<br>Cycle=%{x}<br>value=%{y}<extra></extra>",
         "legendgroup": "D07",
         "line": {
          "color": "rgb(179,222,105)",
          "dash": "solid"
         },
         "marker": {
          "symbol": "circle"
         },
         "mode": "lines",
         "name": "D07",
         "showlegend": true,
         "type": "scattergl",
         "x": [
          1,
          2,
          3,
          4,
          5,
          6,
          7,
          8,
          9,
          10,
          11,
          12,
          13,
          14,
          15,
          16,
          17,
          18,
          19,
          20,
          21,
          22,
          23,
          24,
          25,
          26,
          27,
          28,
          29,
          30,
          31,
          32,
          33,
          34,
          35,
          36,
          37,
          38,
          39,
          40
         ],
         "xaxis": "x",
         "y": [
          0,
          0,
          0,
          0,
          0,
          0,
          0,
          0,
          0,
          0,
          0,
          0,
          0,
          0,
          0,
          0,
          0,
          0,
          0,
          0,
          12.3920797757764,
          59.2717111181728,
          167.022562573001,
          373.344469064392,
          723.696345098451,
          1262.34907438925,
          2020.54506089776,
          3006.04153657905,
          4198.09491819084,
          5550.28521476402,
          7000.3682332925,
          8483.20358288942,
          9942.25792103185,
          11335.7079925872,
          12641.106258853,
          13843.1665513948,
          14944.2181670976,
          15956.4713472143,
          16920.7709955567,
          17885.0706438991
         ],
         "yaxis": "y"
        },
        {
         "hovertemplate": "variable=D08<br>Cycle=%{x}<br>value=%{y}<extra></extra>",
         "legendgroup": "D08",
         "line": {
          "color": "rgb(252,205,229)",
          "dash": "solid"
         },
         "marker": {
          "symbol": "circle"
         },
         "mode": "lines",
         "name": "D08",
         "showlegend": true,
         "type": "scattergl",
         "x": [
          1,
          2,
          3,
          4,
          5,
          6,
          7,
          8,
          9,
          10,
          11,
          12,
          13,
          14,
          15,
          16,
          17,
          18,
          19,
          20,
          21,
          22,
          23,
          24,
          25,
          26,
          27,
          28,
          29,
          30,
          31,
          32,
          33,
          34,
          35,
          36,
          37,
          38,
          39,
          40
         ],
         "xaxis": "x",
         "y": [
          0,
          0,
          0,
          0,
          0,
          0,
          0,
          0,
          0,
          0,
          0,
          0,
          0,
          0,
          0,
          0,
          0,
          0,
          0,
          0,
          13.3453841635901,
          59.6273194217465,
          162.183272269805,
          354.201118490035,
          675.444036400901,
          1164.62495631142,
          1849.26268825298,
          2736.61800841803,
          3809.13624898707,
          5026.62682738552,
          6334.35916321604,
          7674.19983862216,
          8995.38702653991,
          10259.7935141825,
          11447.1704331676,
          12540.6840370348,
          13543.4752921206,
          14463.0396648927,
          15342.8988238805,
          16222.7579828683
         ],
         "yaxis": "y"
        },
        {
         "hovertemplate": "variable=D09<br>Cycle=%{x}<br>value=%{y}<extra></extra>",
         "legendgroup": "D09",
         "line": {
          "color": "rgb(217,217,217)",
          "dash": "solid"
         },
         "marker": {
          "symbol": "circle"
         },
         "mode": "lines",
         "name": "D09",
         "showlegend": true,
         "type": "scattergl",
         "x": [
          1,
          2,
          3,
          4,
          5,
          6,
          7,
          8,
          9,
          10,
          11,
          12,
          13,
          14,
          15,
          16,
          17,
          18,
          19,
          20,
          21,
          22,
          23,
          24,
          25,
          26,
          27,
          28,
          29,
          30,
          31,
          32,
          33,
          34,
          35,
          36,
          37,
          38,
          39,
          40
         ],
         "xaxis": "x",
         "y": [
          0,
          0,
          0,
          0,
          0,
          0,
          0,
          0,
          0,
          0,
          0,
          0,
          0,
          0,
          0,
          0,
          0,
          0,
          0,
          0,
          13.4921803535381,
          60.1164613585888,
          163.547559067775,
          357.539662378994,
          682.509504020419,
          1177.41938489052,
          1869.12425227744,
          2763.25971322426,
          3840.31861995207,
          5058.44340648373,
          6362.33393769318,
          7694.7115631185,
          9006.14353718195,
          10259.7094615413,
          11435.7213855137,
          12517.526183848,
          13506.7851019088,
          14411.3154290328,
          15272.9302546204,
          16134.5450802081
         ],
         "yaxis": "y"
        },
        {
         "hovertemplate": "variable=D10<br>Cycle=%{x}<br>value=%{y}<extra></extra>",
         "legendgroup": "D10",
         "line": {
          "color": "rgb(188,128,189)",
          "dash": "solid"
         },
         "marker": {
          "symbol": "circle"
         },
         "mode": "lines",
         "name": "D10",
         "showlegend": true,
         "type": "scattergl",
         "x": [
          1,
          2,
          3,
          4,
          5,
          6,
          7,
          8,
          9,
          10,
          11,
          12,
          13,
          14,
          15,
          16,
          17,
          18,
          19,
          20,
          21,
          22,
          23,
          24,
          25,
          26,
          27,
          28,
          29,
          30,
          31,
          32,
          33,
          34,
          35,
          36,
          37,
          38,
          39,
          40
         ],
         "xaxis": "x",
         "y": [
          0,
          0,
          0,
          0,
          0,
          0,
          0,
          0,
          0,
          0,
          0,
          0,
          0,
          0,
          0,
          0,
          0,
          0,
          0,
          0,
          12.042322091891,
          55.9500321668174,
          155.306604217531,
          343.392819184143,
          659.814805826492,
          1142.52815238857,
          1817.41768542088,
          2689.53030164031,
          3739.44674681514,
          4926.13684483394,
          6195.79213581409,
          7492.90169704829,
          8769.59370409433,
          9990.00080512378,
          11134.7964384993,
          12187.2294593548,
          13148.2138220163,
          14025.140045395,
          14858.8515342193,
          15692.5630230436
         ],
         "yaxis": "y"
        },
        {
         "hovertemplate": "variable=D11<br>Cycle=%{x}<br>value=%{y}<extra></extra>",
         "legendgroup": "D11",
         "line": {
          "color": "rgb(204,235,197)",
          "dash": "solid"
         },
         "marker": {
          "symbol": "circle"
         },
         "mode": "lines",
         "name": "D11",
         "showlegend": true,
         "type": "scattergl",
         "x": [
          1,
          2,
          3,
          4,
          5,
          6,
          7,
          8,
          9,
          10,
          11,
          12,
          13,
          14,
          15,
          16,
          17,
          18,
          19,
          20,
          21,
          22,
          23,
          24,
          25,
          26,
          27,
          28,
          29,
          30,
          31,
          32,
          33,
          34,
          35,
          36,
          37,
          38,
          39,
          40
         ],
         "xaxis": "x",
         "y": [
          0,
          0,
          0,
          0,
          0,
          0,
          0,
          0,
          0,
          0,
          0,
          0,
          0,
          0,
          0,
          0,
          0,
          0,
          0,
          0,
          13.3592571808558,
          60.5244610666741,
          166.058178385313,
          365.592136327192,
          702.670445531403,
          1220.36375925329,
          1950.0552592543,
          2901.09327625451,
          4055.41710384622,
          5369.78307146043,
          6784.83179474353,
          8237.24966362919,
          9671.07647218182,
          11043.8135693569,
          12331.8087786073,
          13517.1766076625,
          14601.1857173224,
          15593.9669403209,
          16538.7141723517,
          17483.4614043826
         ],
         "yaxis": "y"
        },
        {
         "hovertemplate": "variable=D12<br>Cycle=%{x}<br>value=%{y}<extra></extra>",
         "legendgroup": "D12",
         "line": {
          "color": "rgb(255,237,111)",
          "dash": "solid"
         },
         "marker": {
          "symbol": "circle"
         },
         "mode": "lines",
         "name": "D12",
         "showlegend": true,
         "type": "scattergl",
         "x": [
          1,
          2,
          3,
          4,
          5,
          6,
          7,
          8,
          9,
          10,
          11,
          12,
          13,
          14,
          15,
          16,
          17,
          18,
          19,
          20,
          21,
          22,
          23,
          24,
          25,
          26,
          27,
          28,
          29,
          30,
          31,
          32,
          33,
          34,
          35,
          36,
          37,
          38,
          39,
          40
         ],
         "xaxis": "x",
         "y": [
          0,
          0,
          0,
          0,
          0,
          0,
          0,
          0,
          0,
          0,
          0,
          0,
          0,
          0,
          0,
          0,
          0,
          0,
          0,
          0,
          15.045572415539,
          66.0903237959583,
          178.44075303609,
          388.135443363462,
          738.10901643328,
          1269.21937142253,
          2008.93164325054,
          2961.84816202452,
          4105.62578368949,
          5394.50022962388,
          6769.19790084685,
          8169.20682607311,
          9543.49507300055,
          10854.81894247,
          12084.3650957739,
          13214.3385973088,
          14247.7325280076,
          15191.2132625846,
          16091.9404290046,
          16992.6675954246
         ],
         "yaxis": "y"
        },
        {
         "hovertemplate": "variable=E01<br>Cycle=%{x}<br>value=%{y}<extra></extra>",
         "legendgroup": "E01",
         "line": {
          "color": "rgb(141,211,199)",
          "dash": "solid"
         },
         "marker": {
          "symbol": "circle"
         },
         "mode": "lines",
         "name": "E01",
         "showlegend": true,
         "type": "scattergl",
         "x": [
          1,
          2,
          3,
          4,
          5,
          6,
          7,
          8,
          9,
          10,
          11,
          12,
          13,
          14,
          15,
          16,
          17,
          18,
          19,
          20,
          21,
          22,
          23,
          24,
          25,
          26,
          27,
          28,
          29,
          30,
          31,
          32,
          33,
          34,
          35,
          36,
          37,
          38,
          39,
          40
         ],
         "xaxis": "x",
         "y": [
          0,
          0,
          0,
          0,
          0,
          0,
          0,
          0,
          0,
          0,
          0,
          0,
          0,
          0,
          0,
          0,
          0,
          0,
          0,
          0,
          0,
          19.7149075550624,
          73.4121487544307,
          177.654673516746,
          354.823097875877,
          630.455645260216,
          1027.97328956916,
          1562.38308465023,
          2235.25975793537,
          3032.71070833121,
          3927.34150582975,
          4883.14012439369,
          5861.97543449586,
          6828.83527750359,
          7758.67920200078,
          8629.02979906569,
          9432.39618648475,
          10172.3395704182,
          10912.2829543516,
          11652.2263382851
         ],
         "yaxis": "y"
        },
        {
         "hovertemplate": "variable=E02<br>Cycle=%{x}<br>value=%{y}<extra></extra>",
         "legendgroup": "E02",
         "line": {
          "color": "rgb(255,255,179)",
          "dash": "solid"
         },
         "marker": {
          "symbol": "circle"
         },
         "mode": "lines",
         "name": "E02",
         "showlegend": true,
         "type": "scattergl",
         "x": [
          1,
          2,
          3,
          4,
          5,
          6,
          7,
          8,
          9,
          10,
          11,
          12,
          13,
          14,
          15,
          16,
          17,
          18,
          19,
          20,
          21,
          22,
          23,
          24,
          25,
          26,
          27,
          28,
          29,
          30,
          31,
          32,
          33,
          34,
          35,
          36,
          37,
          38,
          39,
          40
         ],
         "xaxis": "x",
         "y": [
          0,
          0,
          0,
          0,
          0,
          0,
          0,
          0,
          0,
          0,
          0,
          0,
          0,
          0,
          0,
          0,
          0,
          0,
          0,
          0,
          0,
          0,
          0,
          0,
          0,
          0,
          0,
          0,
          14.9985146974277,
          50.4129956573379,
          111.732558354669,
          205.789595134976,
          340.159690411402,
          521.561443141916,
          754.155463724278,
          1037.9521948216,
          1367.27192372751,
          1734.90831281616,
          2102.5447019048,
          2470.18109099345
         ],
         "yaxis": "y"
        },
        {
         "hovertemplate": "variable=E03<br>Cycle=%{x}<br>value=%{y}<extra></extra>",
         "legendgroup": "E03",
         "line": {
          "color": "rgb(190,186,218)",
          "dash": "solid"
         },
         "marker": {
          "symbol": "circle"
         },
         "mode": "lines",
         "name": "E03",
         "showlegend": true,
         "type": "scattergl",
         "x": [
          1,
          2,
          3,
          4,
          5,
          6,
          7,
          8,
          9,
          10,
          11,
          12,
          13,
          14,
          15,
          16,
          17,
          18,
          19,
          20,
          21,
          22,
          23,
          24,
          25,
          26,
          27,
          28,
          29,
          30,
          31,
          32,
          33,
          34,
          35,
          36,
          37,
          38,
          39,
          40
         ],
         "xaxis": "x",
         "y": [
          0,
          0,
          0,
          0,
          0,
          0,
          0,
          0,
          0,
          0,
          0,
          0,
          0,
          0,
          0,
          0,
          0,
          0,
          0,
          0,
          14.008974132089,
          58.2187117835028,
          150.698083571892,
          316.226383729822,
          584.120616266212,
          983.279204092531,
          1535.18245295976,
          2247.15359714803,
          3108.65890786336,
          4091.91297294885,
          5156.70268355079,
          6257.86524336146,
          7352.82804353881,
          8406.63665294244,
          9397.36048576027,
          10307.8593120186,
          11135.3213145708,
          11886.9984293912,
          12595.5300437843,
          13304.0616581774
         ],
         "yaxis": "y"
        },
        {
         "hovertemplate": "variable=E04<br>Cycle=%{x}<br>value=%{y}<extra></extra>",
         "legendgroup": "E04",
         "line": {
          "color": "rgb(251,128,114)",
          "dash": "solid"
         },
         "marker": {
          "symbol": "circle"
         },
         "mode": "lines",
         "name": "E04",
         "showlegend": true,
         "type": "scattergl",
         "x": [
          1,
          2,
          3,
          4,
          5,
          6,
          7,
          8,
          9,
          10,
          11,
          12,
          13,
          14,
          15,
          16,
          17,
          18,
          19,
          20,
          21,
          22,
          23,
          24,
          25,
          26,
          27,
          28,
          29,
          30,
          31,
          32,
          33,
          34,
          35,
          36,
          37,
          38,
          39,
          40
         ],
         "xaxis": "x",
         "y": [
          0,
          0,
          0,
          0,
          0,
          0,
          0,
          0,
          0,
          0,
          0,
          0,
          0,
          0,
          0,
          0,
          0,
          0,
          0,
          0,
          0,
          0,
          16.1999649875024,
          62.0380740964201,
          152.078473666805,
          305.714537602226,
          545.447269166159,
          893.327084567105,
          1366.02759225203,
          1969.96653728066,
          2698.58279999405,
          3532.1801578905,
          4440.60891247074,
          5386.96368402699,
          6333.09381754313,
          7248.12900804972,
          8115.55638350832,
          8930.75970332646,
          9712.28163184716,
          10492.0048619888
         ],
         "yaxis": "y"
        },
        {
         "hovertemplate": "variable=E05<br>Cycle=%{x}<br>value=%{y}<extra></extra>",
         "legendgroup": "E05",
         "line": {
          "color": "rgb(128,177,211)",
          "dash": "solid"
         },
         "marker": {
          "symbol": "circle"
         },
         "mode": "lines",
         "name": "E05",
         "showlegend": true,
         "type": "scattergl",
         "x": [
          1,
          2,
          3,
          4,
          5,
          6,
          7,
          8,
          9,
          10,
          11,
          12,
          13,
          14,
          15,
          16,
          17,
          18,
          19,
          20,
          21,
          22,
          23,
          24,
          25,
          26,
          27,
          28,
          29,
          30,
          31,
          32,
          33,
          34,
          35,
          36,
          37,
          38,
          39,
          40
         ],
         "xaxis": "x",
         "y": [
          0,
          0,
          0,
          0,
          0,
          0,
          0,
          0,
          0,
          0,
          0,
          0,
          0,
          0,
          0,
          0,
          0,
          0,
          0,
          12.3469878298129,
          53.9745443127349,
          145.069074564078,
          314.63133529818,
          597.89220535188,
          1029.76154935541,
          1635.9610582372,
          2424.67213727405,
          3382.15439368283,
          4474.33437151486,
          5653.65657865411,
          6868.79810107111,
          8073.86048972215,
          9234.37873985147,
          10327.7289384909,
          11344.864562809,
          12275.3453153962,
          13123.4580993862,
          13896.2082579508,
          14632.1361063433,
          15368.0639547359
         ],
         "yaxis": "y"
        },
        {
         "hovertemplate": "variable=E06<br>Cycle=%{x}<br>value=%{y}<extra></extra>",
         "legendgroup": "E06",
         "line": {
          "color": "rgb(253,180,98)",
          "dash": "solid"
         },
         "marker": {
          "symbol": "circle"
         },
         "mode": "lines",
         "name": "E06",
         "showlegend": true,
         "type": "scattergl",
         "x": [
          1,
          2,
          3,
          4,
          5,
          6,
          7,
          8,
          9,
          10,
          11,
          12,
          13,
          14,
          15,
          16,
          17,
          18,
          19,
          20,
          21,
          22,
          23,
          24,
          25,
          26,
          27,
          28,
          29,
          30,
          31,
          32,
          33,
          34,
          35,
          36,
          37,
          38,
          39,
          40
         ],
         "xaxis": "x",
         "y": [
          0,
          0,
          0,
          0,
          0,
          0,
          0,
          0,
          0,
          0,
          0,
          0,
          0,
          0,
          0,
          0,
          0,
          0,
          0,
          0,
          15.030055457617,
          63.0576363986693,
          163.893147723448,
          344.245027918101,
          635.262432692904,
          1066.76909685593,
          1660.04656562925,
          2421.43722455418,
          3338.79024191725,
          4382.42901073078,
          5510.55127000275,
          6676.61332102311,
          7836.74781333721,
          8954.81396139921,
          10005.035416626,
          10974.5503201983,
          11865.0675937867,
          12689.4874463885,
          13476.1569578632,
          14261.7326053702
         ],
         "yaxis": "y"
        },
        {
         "hovertemplate": "variable=E07<br>Cycle=%{x}<br>value=%{y}<extra></extra>",
         "legendgroup": "E07",
         "line": {
          "color": "rgb(179,222,105)",
          "dash": "solid"
         },
         "marker": {
          "symbol": "circle"
         },
         "mode": "lines",
         "name": "E07",
         "showlegend": true,
         "type": "scattergl",
         "x": [
          1,
          2,
          3,
          4,
          5,
          6,
          7,
          8,
          9,
          10,
          11,
          12,
          13,
          14,
          15,
          16,
          17,
          18,
          19,
          20,
          21,
          22,
          23,
          24,
          25,
          26,
          27,
          28,
          29,
          30,
          31,
          32,
          33,
          34,
          35,
          36,
          37,
          38,
          39,
          40
         ],
         "xaxis": "x",
         "y": [
          0,
          0,
          0,
          0,
          0,
          0,
          0,
          0,
          0,
          0,
          0,
          0,
          0,
          0,
          0,
          0,
          0,
          0,
          0,
          12.8756994212208,
          60.1890265632292,
          168.15195915682,
          374.898809607962,
          727.093144786967,
          1270.89326619574,
          2039.7669226771,
          3043.51862713995,
          4262.69651525507,
          5651.07064988159,
          7145.2633124948,
          8677.83097835748,
          10189.1385529113,
          11634.7247582843,
          12987.8377764441,
          14238.7614918774,
          15389.0175733915,
          16448.2778794848,
          17438.2797547559,
          18386.2936322655,
          19334.3075097751
         ],
         "yaxis": "y"
        },
        {
         "hovertemplate": "variable=E08<br>Cycle=%{x}<br>value=%{y}<extra></extra>",
         "legendgroup": "E08",
         "line": {
          "color": "rgb(252,205,229)",
          "dash": "solid"
         },
         "marker": {
          "symbol": "circle"
         },
         "mode": "lines",
         "name": "E08",
         "showlegend": true,
         "type": "scattergl",
         "x": [
          1,
          2,
          3,
          4,
          5,
          6,
          7,
          8,
          9,
          10,
          11,
          12,
          13,
          14,
          15,
          16,
          17,
          18,
          19,
          20,
          21,
          22,
          23,
          24,
          25,
          26,
          27,
          28,
          29,
          30,
          31,
          32,
          33,
          34,
          35,
          36,
          37,
          38,
          39,
          40
         ],
         "xaxis": "x",
         "y": [
          0,
          0,
          0,
          0,
          0,
          0,
          0,
          0,
          0,
          0,
          0,
          0,
          0,
          0,
          0,
          0,
          0,
          0,
          0,
          14.3388773828065,
          63.2717848742886,
          171.112377268252,
          372.7284549671,
          710.294226278505,
          1225.411272802,
          1948.3803168197,
          2888.38358373507,
          4028.55410053024,
          5327.86847023713,
          6729.34828394601,
          8171.68306705752,
          9599.93336459237,
          10972.6048123944,
          12263.0009530864,
          13460.4280295507,
          14557.1108260553,
          15559.294538657,
          16479.7169110073,
          17357.0960337707,
          18234.4751565341
         ],
         "yaxis": "y"
        },
        {
         "hovertemplate": "variable=E09<br>Cycle=%{x}<br>value=%{y}<extra></extra>",
         "legendgroup": "E09",
         "line": {
          "color": "rgb(217,217,217)",
          "dash": "solid"
         },
         "marker": {
          "symbol": "circle"
         },
         "mode": "lines",
         "name": "E09",
         "showlegend": true,
         "type": "scattergl",
         "x": [
          1,
          2,
          3,
          4,
          5,
          6,
          7,
          8,
          9,
          10,
          11,
          12,
          13,
          14,
          15,
          16,
          17,
          18,
          19,
          20,
          21,
          22,
          23,
          24,
          25,
          26,
          27,
          28,
          29,
          30,
          31,
          32,
          33,
          34,
          35,
          36,
          37,
          38,
          39,
          40
         ],
         "xaxis": "x",
         "y": [
          0,
          0,
          0,
          0,
          0,
          0,
          0,
          0,
          0,
          0,
          0,
          0,
          0,
          0,
          0,
          0,
          0,
          0,
          0,
          14.127896844594,
          62.3389119482026,
          169.093771905636,
          369.806469630458,
          707.331509076806,
          1223.5409896763,
          1948.19244316875,
          2888.99400508518,
          4026.93349205687,
          5318.95309214837,
          6707.01803614275,
          8130.17112298352,
          9535.01731073638,
          10882.0961841901,
          12146.3492980837,
          13314.756526774,
          14385.5401723456,
          15368.1212866333,
          16281.7248311946,
          17156.1377088988,
          18029.3290699899
         ],
         "yaxis": "y"
        },
        {
         "hovertemplate": "variable=E10<br>Cycle=%{x}<br>value=%{y}<extra></extra>",
         "legendgroup": "E10",
         "line": {
          "color": "rgb(188,128,189)",
          "dash": "solid"
         },
         "marker": {
          "symbol": "circle"
         },
         "mode": "lines",
         "name": "E10",
         "showlegend": true,
         "type": "scattergl",
         "x": [
          1,
          2,
          3,
          4,
          5,
          6,
          7,
          8,
          9,
          10,
          11,
          12,
          13,
          14,
          15,
          16,
          17,
          18,
          19,
          20,
          21,
          22,
          23,
          24,
          25,
          26,
          27,
          28,
          29,
          30,
          31,
          32,
          33,
          34,
          35,
          36,
          37,
          38,
          39,
          40
         ],
         "xaxis": "x",
         "y": [
          0,
          0,
          0,
          0,
          0,
          0,
          0,
          0,
          0,
          0,
          0,
          0,
          0,
          0,
          0,
          0,
          0,
          0,
          0,
          13.9761028098346,
          62.9925388870643,
          172.267674931588,
          377.62567457298,
          722.056096669798,
          1247.38706094313,
          1982.87403433922,
          2935.33982692651,
          4084.79321554027,
          5387.17917594179,
          6783.76299772985,
          8213.50489547963,
          9623.46543087832,
          10974.6337276363,
          12242.3673734804,
          13413.6867766422,
          14486.4135299669,
          15469.7950098927,
          16382.7871508505,
          17255.9186819309,
          18127.8328710733
         ],
         "yaxis": "y"
        },
        {
         "hovertemplate": "variable=E11<br>Cycle=%{x}<br>value=%{y}<extra></extra>",
         "legendgroup": "E11",
         "line": {
          "color": "rgb(204,235,197)",
          "dash": "solid"
         },
         "marker": {
          "symbol": "circle"
         },
         "mode": "lines",
         "name": "E11",
         "showlegend": true,
         "type": "scattergl",
         "x": [
          1,
          2,
          3,
          4,
          5,
          6,
          7,
          8,
          9,
          10,
          11,
          12,
          13,
          14,
          15,
          16,
          17,
          18,
          19,
          20,
          21,
          22,
          23,
          24,
          25,
          26,
          27,
          28,
          29,
          30,
          31,
          32,
          33,
          34,
          35,
          36,
          37,
          38,
          39,
          40
         ],
         "xaxis": "x",
         "y": [
          0,
          0,
          0,
          0,
          0,
          0,
          0,
          0,
          0,
          0,
          0,
          0,
          0,
          0,
          0,
          0,
          0,
          0,
          0,
          13.7620829054413,
          62.2940840999636,
          171.916640920187,
          381.353084571993,
          738.08229998621,
          1289.09870142383,
          2068.57912372449,
          3086.65915514981,
          4323.74497436751,
          5732.99809236616,
          7250.16127586214,
          8806.75052067388,
          10341.9478627416,
          11810.1663183777,
          13182.3135876116,
          14446.8581476728,
          15595.9545879424,
          16636.4351879041,
          17582.8609984624,
          18529.2868090207,
          19475.712619579
         ],
         "yaxis": "y"
        },
        {
         "hovertemplate": "variable=E12<br>Cycle=%{x}<br>value=%{y}<extra></extra>",
         "legendgroup": "E12",
         "line": {
          "color": "rgb(255,237,111)",
          "dash": "solid"
         },
         "marker": {
          "symbol": "circle"
         },
         "mode": "lines",
         "name": "E12",
         "showlegend": true,
         "type": "scattergl",
         "x": [
          1,
          2,
          3,
          4,
          5,
          6,
          7,
          8,
          9,
          10,
          11,
          12,
          13,
          14,
          15,
          16,
          17,
          18,
          19,
          20,
          21,
          22,
          23,
          24,
          25,
          26,
          27,
          28,
          29,
          30,
          31,
          32,
          33,
          34,
          35,
          36,
          37,
          38,
          39,
          40
         ],
         "xaxis": "x",
         "y": [
          0,
          0,
          0,
          0,
          0,
          0,
          0,
          0,
          0,
          0,
          0,
          0,
          0,
          0,
          0,
          0,
          0,
          0,
          0,
          15.523334645949,
          68.3117154603397,
          184.949107253376,
          403.995577369162,
          772.162526518317,
          1334.73518989284,
          2123.48529222905,
          3145.99801425956,
          4380.42252071917,
          5778.76060020562,
          7277.09646906038,
          8808.66744300392,
          10315.5083195273,
          11755.5296218505,
          13102.914522097,
          14348.4940935245,
          15485.7243688973,
          16521.9352070488,
          17471.4340664779,
          18374.7899847289,
          19278.1459029799
         ],
         "yaxis": "y"
        },
        {
         "hovertemplate": "variable=F01<br>Cycle=%{x}<br>value=%{y}<extra></extra>",
         "legendgroup": "F01",
         "line": {
          "color": "rgb(141,211,199)",
          "dash": "solid"
         },
         "marker": {
          "symbol": "circle"
         },
         "mode": "lines",
         "name": "F01",
         "showlegend": true,
         "type": "scattergl",
         "x": [
          1,
          2,
          3,
          4,
          5,
          6,
          7,
          8,
          9,
          10,
          11,
          12,
          13,
          14,
          15,
          16,
          17,
          18,
          19,
          20,
          21,
          22,
          23,
          24,
          25,
          26,
          27,
          28,
          29,
          30,
          31,
          32,
          33,
          34,
          35,
          36,
          37,
          38,
          39,
          40
         ],
         "xaxis": "x",
         "y": [
          0,
          0,
          0,
          0,
          0,
          0,
          0,
          0,
          0,
          0,
          0,
          0,
          0,
          0,
          0,
          0,
          0,
          0,
          0,
          0,
          0,
          14.9598527323833,
          55.1377843441715,
          132.942319645524,
          265.941582571738,
          475.490940250593,
          782.935108679535,
          1204.50573364713,
          1746.49935119577,
          2402.37709664361,
          3152.82592187373,
          3968.86939570812,
          4817.30174809559,
          5665.09040679857,
          6483.67048192113,
          7254.14558363963,
          7970.30020798525,
          8636.17892222919,
          9271.63762557007,
          9905.79724932936
         ],
         "yaxis": "y"
        },
        {
         "hovertemplate": "variable=F02<br>Cycle=%{x}<br>value=%{y}<extra></extra>",
         "legendgroup": "F02",
         "line": {
          "color": "rgb(255,255,179)",
          "dash": "solid"
         },
         "marker": {
          "symbol": "circle"
         },
         "mode": "lines",
         "name": "F02",
         "showlegend": true,
         "type": "scattergl",
         "x": [
          1,
          2,
          3,
          4,
          5,
          6,
          7,
          8,
          9,
          10,
          11,
          12,
          13,
          14,
          15,
          16,
          17,
          18,
          19,
          20,
          21,
          22,
          23,
          24,
          25,
          26,
          27,
          28,
          29,
          30,
          31,
          32,
          33,
          34,
          35,
          36,
          37,
          38,
          39,
          40
         ],
         "xaxis": "x",
         "y": [
          0,
          0,
          0,
          0,
          0,
          0,
          0,
          0,
          0,
          0,
          0,
          0,
          0,
          0,
          0,
          0,
          0,
          0,
          0,
          0,
          0,
          0,
          0,
          0,
          0,
          0,
          0,
          0,
          7.11362383795858,
          24.7241745665515,
          56.7433852382501,
          108.790605796016,
          188.209652632237,
          302.937959888274,
          459.745351633047,
          662.05671576053,
          907.267146717581,
          1189.95693659477,
          1472.64672647196,
          1755.33651634915
         ],
         "yaxis": "y"
        },
        {
         "hovertemplate": "variable=F03<br>Cycle=%{x}<br>value=%{y}<extra></extra>",
         "legendgroup": "F03",
         "line": {
          "color": "rgb(190,186,218)",
          "dash": "solid"
         },
         "marker": {
          "symbol": "circle"
         },
         "mode": "lines",
         "name": "F03",
         "showlegend": true,
         "type": "scattergl",
         "x": [
          1,
          2,
          3,
          4,
          5,
          6,
          7,
          8,
          9,
          10,
          11,
          12,
          13,
          14,
          15,
          16,
          17,
          18,
          19,
          20,
          21,
          22,
          23,
          24,
          25,
          26,
          27,
          28,
          29,
          30,
          31,
          32,
          33,
          34,
          35,
          36,
          37,
          38,
          39,
          40
         ],
         "xaxis": "x",
         "y": [
          0,
          0,
          0,
          0,
          0,
          0,
          0,
          0,
          0,
          0,
          0,
          0,
          0,
          0,
          0,
          0,
          0,
          0,
          0,
          0,
          11.7411538150309,
          52.0383486009669,
          139.484364004496,
          299.727013661815,
          563.710830652256,
          962.774120165516,
          1521.74453009276,
          2252.25413714708,
          3147.98432254994,
          4184.24718881003,
          5322.33017090629,
          6516.32687963984,
          7721.06658811313,
          8897.76005769406,
          10017.3548884726,
          11063.9163199265,
          12036.4992378184,
          12945.7065847532,
          13818.2688573409,
          14689.6296036837
         ],
         "yaxis": "y"
        },
        {
         "hovertemplate": "variable=F04<br>Cycle=%{x}<br>value=%{y}<extra></extra>",
         "legendgroup": "F04",
         "line": {
          "color": "rgb(251,128,114)",
          "dash": "solid"
         },
         "marker": {
          "symbol": "circle"
         },
         "mode": "lines",
         "name": "F04",
         "showlegend": true,
         "type": "scattergl",
         "x": [
          1,
          2,
          3,
          4,
          5,
          6,
          7,
          8,
          9,
          10,
          11,
          12,
          13,
          14,
          15,
          16,
          17,
          18,
          19,
          20,
          21,
          22,
          23,
          24,
          25,
          26,
          27,
          28,
          29,
          30,
          31,
          32,
          33,
          34,
          35,
          36,
          37,
          38,
          39,
          40
         ],
         "xaxis": "x",
         "y": [
          0,
          0,
          0,
          0,
          0,
          0,
          0,
          0,
          0,
          0,
          0,
          0,
          0,
          0,
          0,
          0,
          0,
          0,
          0,
          0,
          0,
          0,
          0,
          23.7966009100774,
          86.8083231576202,
          204.454985791408,
          395.2584281073,
          678.608793326335,
          1070.89266675763,
          1581.17945983955,
          2208.17790492783,
          2939.08749693768,
          3750.84698296197,
          4613.14862763458,
          5496.58596228654,
          6366.55970691002,
          7201.08129355182,
          7993.69111782427,
          8786.30094209673,
          9578.91076636918
         ],
         "yaxis": "y"
        },
        {
         "hovertemplate": "variable=F05<br>Cycle=%{x}<br>value=%{y}<extra></extra>",
         "legendgroup": "F05",
         "line": {
          "color": "rgb(128,177,211)",
          "dash": "solid"
         },
         "marker": {
          "symbol": "circle"
         },
         "mode": "lines",
         "name": "F05",
         "showlegend": true,
         "type": "scattergl",
         "x": [
          1,
          2,
          3,
          4,
          5,
          6,
          7,
          8,
          9,
          10,
          11,
          12,
          13,
          14,
          15,
          16,
          17,
          18,
          19,
          20,
          21,
          22,
          23,
          24,
          25,
          26,
          27,
          28,
          29,
          30,
          31,
          32,
          33,
          34,
          35,
          36,
          37,
          38,
          39,
          40
         ],
         "xaxis": "x",
         "y": [
          0,
          0,
          0,
          0,
          0,
          0,
          0,
          0,
          0,
          0,
          0,
          0,
          0,
          0,
          0,
          0,
          0,
          0,
          0,
          13.1737905702812,
          57.3533329600723,
          153.393983670507,
          330.463225118016,
          623.111721970314,
          1064.70382495068,
          1678.77600208818,
          2471.34170241266,
          3427.43367402083,
          4513.00374940416,
          5681.60134882593,
          6883.59684698309,
          8074.73536460177,
          9222.01339190471,
          10304.0956933111,
          11309.787170838,
          12237.7806454466,
          13095.593254103,
          13899.0851627859,
          14671.2666174797,
          15442.2919137389
         ],
         "yaxis": "y"
        },
        {
         "hovertemplate": "variable=F06<br>Cycle=%{x}<br>value=%{y}<extra></extra>",
         "legendgroup": "F06",
         "line": {
          "color": "rgb(253,180,98)",
          "dash": "solid"
         },
         "marker": {
          "symbol": "circle"
         },
         "mode": "lines",
         "name": "F06",
         "showlegend": true,
         "type": "scattergl",
         "x": [
          1,
          2,
          3,
          4,
          5,
          6,
          7,
          8,
          9,
          10,
          11,
          12,
          13,
          14,
          15,
          16,
          17,
          18,
          19,
          20,
          21,
          22,
          23,
          24,
          25,
          26,
          27,
          28,
          29,
          30,
          31,
          32,
          33,
          34,
          35,
          36,
          37,
          38,
          39,
          40
         ],
         "xaxis": "x",
         "y": [
          0,
          0,
          0,
          0,
          0,
          0,
          0,
          0,
          0,
          0,
          0,
          0,
          0,
          0,
          0,
          0,
          0,
          0,
          0,
          0,
          20.1440529659467,
          81.6217119909852,
          207.126876708909,
          425.806060550751,
          769.462561682648,
          1265.87961901181,
          1931.34195942028,
          2764.93925165148,
          3746.79168206172,
          4841.16820606359,
          6003.18407596267,
          7186.87719622802,
          8352.64891210247,
          9470.48670668194,
          10520.9556607542,
          11496.5079544482,
          12401.2133192233,
          13248.8778698377,
          14063.7578551657,
          14877.5116780154
         ],
         "yaxis": "y"
        },
        {
         "hovertemplate": "variable=F07<br>Cycle=%{x}<br>value=%{y}<extra></extra>",
         "legendgroup": "F07",
         "line": {
          "color": "rgb(179,222,105)",
          "dash": "solid"
         },
         "marker": {
          "symbol": "circle"
         },
         "mode": "lines",
         "name": "F07",
         "showlegend": true,
         "type": "scattergl",
         "x": [
          1,
          2,
          3,
          4,
          5,
          6,
          7,
          8,
          9,
          10,
          11,
          12,
          13,
          14,
          15,
          16,
          17,
          18,
          19,
          20,
          21,
          22,
          23,
          24,
          25,
          26,
          27,
          28,
          29,
          30,
          31,
          32,
          33,
          34,
          35,
          36,
          37,
          38,
          39,
          40
         ],
         "xaxis": "x",
         "y": [
          0,
          0,
          0,
          0,
          0,
          0,
          0,
          0,
          0,
          0,
          0,
          0,
          0,
          0,
          0,
          0,
          0,
          0,
          0,
          15.3688240723559,
          70.7778590978696,
          195.126271208735,
          429.003954702887,
          820.16148484699,
          1413.66626355229,
          2239.68376212956,
          3302.93093522551,
          4578.42318479186,
          6015.44966133703,
          7548.16683127166,
          9109.1203008646,
          10640.6899516263,
          12101.1139071959,
          13465.656887313,
          14723.9792068789,
          15877.6432010253,
          16939.7706324236,
          17932.2503577185,
          18886.8915723077,
          19840.8454066682
         ],
         "yaxis": "y"
        },
        {
         "hovertemplate": "variable=F08<br>Cycle=%{x}<br>value=%{y}<extra></extra>",
         "legendgroup": "F08",
         "line": {
          "color": "rgb(252,205,229)",
          "dash": "solid"
         },
         "marker": {
          "symbol": "circle"
         },
         "mode": "lines",
         "name": "F08",
         "showlegend": true,
         "type": "scattergl",
         "x": [
          1,
          2,
          3,
          4,
          5,
          6,
          7,
          8,
          9,
          10,
          11,
          12,
          13,
          14,
          15,
          16,
          17,
          18,
          19,
          20,
          21,
          22,
          23,
          24,
          25,
          26,
          27,
          28,
          29,
          30,
          31,
          32,
          33,
          34,
          35,
          36,
          37,
          38,
          39,
          40
         ],
         "xaxis": "x",
         "y": [
          0,
          0,
          0,
          0,
          0,
          0,
          0,
          0,
          0,
          0,
          0,
          0,
          0,
          0,
          0,
          0,
          0,
          0,
          0,
          14.378627377484,
          62.2349817050927,
          166.253565429353,
          358.341705000409,
          676.405563007622,
          1156.93970781542,
          1825.41871148771,
          2688.03405914252,
          3727.82211343009,
          4906.79380142884,
          6173.62664067101,
          7473.94992128177,
          8759.53697801835,
          9994.61237377031,
          11156.4858178264,
          12236.6707689988,
          13227.6983960807,
          14135.6171835989,
          14970.3762844519,
          15768.4527117707,
          16566.5291390895
         ],
         "yaxis": "y"
        },
        {
         "hovertemplate": "variable=F09<br>Cycle=%{x}<br>value=%{y}<extra></extra>",
         "legendgroup": "F09",
         "line": {
          "color": "rgb(217,217,217)",
          "dash": "solid"
         },
         "marker": {
          "symbol": "circle"
         },
         "mode": "lines",
         "name": "F09",
         "showlegend": true,
         "type": "scattergl",
         "x": [
          1,
          2,
          3,
          4,
          5,
          6,
          7,
          8,
          9,
          10,
          11,
          12,
          13,
          14,
          15,
          16,
          17,
          18,
          19,
          20,
          21,
          22,
          23,
          24,
          25,
          26,
          27,
          28,
          29,
          30,
          31,
          32,
          33,
          34,
          35,
          36,
          37,
          38,
          39,
          40
         ],
         "xaxis": "x",
         "y": [
          0,
          0,
          0,
          0,
          0,
          0,
          0,
          0,
          0,
          0,
          0,
          0,
          0,
          0,
          0,
          0,
          0,
          0,
          0,
          15.2303650319218,
          68.9795811671975,
          188.421456340633,
          411.077423601731,
          780.256199157771,
          1335.60637920511,
          2101.88349752385,
          3080.10038825901,
          4244.59548041832,
          5547.52396778955,
          6929.14618467601,
          8329.75331150696,
          9699.28682926246,
          11002.8139037008,
          12219.5903282869,
          13343.3994698247,
          14367.1362039954,
          15297.9551417364,
          16146.5945933264,
          16954.09807938,
          17761.6015654335
         ],
         "yaxis": "y"
        },
        {
         "hovertemplate": "variable=F10<br>Cycle=%{x}<br>value=%{y}<extra></extra>",
         "legendgroup": "F10",
         "line": {
          "color": "rgb(188,128,189)",
          "dash": "solid"
         },
         "marker": {
          "symbol": "circle"
         },
         "mode": "lines",
         "name": "F10",
         "showlegend": true,
         "type": "scattergl",
         "x": [
          1,
          2,
          3,
          4,
          5,
          6,
          7,
          8,
          9,
          10,
          11,
          12,
          13,
          14,
          15,
          16,
          17,
          18,
          19,
          20,
          21,
          22,
          23,
          24,
          25,
          26,
          27,
          28,
          29,
          30,
          31,
          32,
          33,
          34,
          35,
          36,
          37,
          38,
          39,
          40
         ],
         "xaxis": "x",
         "y": [
          0,
          0,
          0,
          0,
          0,
          0,
          0,
          0,
          0,
          0,
          0,
          0,
          0,
          0,
          0,
          0,
          0,
          0,
          0,
          15.9099618193686,
          71.3957961136239,
          194.055913719465,
          422.088320758438,
          799.659920888668,
          1367.47769580593,
          2151.4030158669,
          3153.25530729172,
          4347.78238489065,
          5686.99982992529,
          7110.30331956738,
          8556.65900270485,
          9974.56612394647,
          11327.3873080128,
          12593.1084413577,
          13764.4557749899,
          14835.5493686176,
          15813.4887199516,
          16710.9572022431,
          17566.272351271,
          18421.5875002989
         ],
         "yaxis": "y"
        },
        {
         "hovertemplate": "variable=F11<br>Cycle=%{x}<br>value=%{y}<extra></extra>",
         "legendgroup": "F11",
         "line": {
          "color": "rgb(204,235,197)",
          "dash": "solid"
         },
         "marker": {
          "symbol": "circle"
         },
         "mode": "lines",
         "name": "F11",
         "showlegend": true,
         "type": "scattergl",
         "x": [
          1,
          2,
          3,
          4,
          5,
          6,
          7,
          8,
          9,
          10,
          11,
          12,
          13,
          14,
          15,
          16,
          17,
          18,
          19,
          20,
          21,
          22,
          23,
          24,
          25,
          26,
          27,
          28,
          29,
          30,
          31,
          32,
          33,
          34,
          35,
          36,
          37,
          38,
          39,
          40
         ],
         "xaxis": "x",
         "y": [
          0,
          0,
          0,
          0,
          0,
          0,
          0,
          0,
          0,
          0,
          0,
          0,
          0,
          0,
          0,
          0,
          0,
          0,
          0,
          15.2419609533044,
          68.5975894488238,
          187.711072206186,
          412.037966349261,
          788.539641756623,
          1361.91035774306,
          2162.22691249493,
          3194.3684459272,
          4433.67439206362,
          5829.86319733115,
          7317.73925560896,
          8830.58429973475,
          10311.5671894266,
          11719.9713795081,
          13031.1541460586,
          14236.7991344052,
          15329.9340009546,
          16317.8108271455,
          17214.8326549161,
          18111.8544826867,
          19008.8763104573
         ],
         "yaxis": "y"
        },
        {
         "hovertemplate": "variable=F12<br>Cycle=%{x}<br>value=%{y}<extra></extra>",
         "legendgroup": "F12",
         "line": {
          "color": "rgb(255,237,111)",
          "dash": "solid"
         },
         "marker": {
          "symbol": "circle"
         },
         "mode": "lines",
         "name": "F12",
         "showlegend": true,
         "type": "scattergl",
         "x": [
          1,
          2,
          3,
          4,
          5,
          6,
          7,
          8,
          9,
          10,
          11,
          12,
          13,
          14,
          15,
          16,
          17,
          18,
          19,
          20,
          21,
          22,
          23,
          24,
          25,
          26,
          27,
          28,
          29,
          30,
          31,
          32,
          33,
          34,
          35,
          36,
          37,
          38,
          39,
          40
         ],
         "xaxis": "x",
         "y": [
          0,
          0,
          0,
          0,
          0,
          0,
          0,
          0,
          0,
          0,
          0,
          0,
          0,
          0,
          0,
          0,
          0,
          0,
          0,
          7.59769822360067,
          43.5243689045928,
          130.978121553151,
          301.685957930848,
          592.188907003438,
          1036.38573154987,
          1656.0898111124,
          2453.9002107462,
          3409.40556608577,
          4481.8579000951,
          5621.21021176478,
          6780.14988174806,
          7922.70358031314,
          9026.02083042728,
          10073.9376494034,
          11047.698161214,
          11930.1457046416,
          12715.6092881606,
          13411.6886541037,
          14051.0064293451,
          14686.2036556914
         ],
         "yaxis": "y"
        },
        {
         "hovertemplate": "variable=G01<br>Cycle=%{x}<br>value=%{y}<extra></extra>",
         "legendgroup": "G01",
         "line": {
          "color": "rgb(141,211,199)",
          "dash": "solid"
         },
         "marker": {
          "symbol": "circle"
         },
         "mode": "lines",
         "name": "G01",
         "showlegend": true,
         "type": "scattergl",
         "x": [
          1,
          2,
          3,
          4,
          5,
          6,
          7,
          8,
          9,
          10,
          11,
          12,
          13,
          14,
          15,
          16,
          17,
          18,
          19,
          20,
          21,
          22,
          23,
          24,
          25,
          26,
          27,
          28,
          29,
          30,
          31,
          32,
          33,
          34,
          35,
          36,
          37,
          38,
          39,
          40
         ],
         "xaxis": "x",
         "y": [
          0,
          0,
          0,
          0,
          0,
          8.23936785266596,
          32.615609169301,
          80.1038812846236,
          158.816183119563,
          277.448051416458,
          443.914366628054,
          663.645307317979,
          937.726447002052,
          1261.6216701948,
          1625.3212437573,
          2014.6036152129,
          2413.10998923382,
          2804.94855354153,
          3176.8930838479,
          3519.51720258886,
          3827.61052044182,
          4099.91187274422,
          4338.21448074862,
          4546.33268060186,
          4729.16198109246,
          4891.81006443824,
          5038.84528056497,
          5173.88016534639,
          5299.53349860729,
          5417.52761072878,
          5528.85318508565,
          5634.19072583638,
          5734.10909572662,
          5828.99859334898,
          5919.42441599823,
          6005.52129865416,
          6087.82889002971,
          6166.76844411266,
          6244.11823785674,
          6321.46803160081
         ],
         "yaxis": "y"
        },
        {
         "hovertemplate": "variable=G02<br>Cycle=%{x}<br>value=%{y}<extra></extra>",
         "legendgroup": "G02",
         "line": {
          "color": "rgb(255,255,179)",
          "dash": "solid"
         },
         "marker": {
          "symbol": "circle"
         },
         "mode": "lines",
         "name": "G02",
         "showlegend": true,
         "type": "scattergl",
         "x": [
          1,
          2,
          3,
          4,
          5,
          6,
          7,
          8,
          9,
          10,
          11,
          12,
          13,
          14,
          15,
          16,
          17,
          18,
          19,
          20,
          21,
          22,
          23,
          24,
          25,
          26,
          27,
          28,
          29,
          30,
          31,
          32,
          33,
          34,
          35,
          36,
          37,
          38,
          39,
          40
         ],
         "xaxis": "x",
         "y": [
          0,
          0,
          0,
          0,
          0,
          7.46041106188477,
          30.4457762533948,
          76.1815249032798,
          152.861684344569,
          268.994272075724,
          431.963306353007,
          646.111409201487,
          911.20608723982,
          1221.63481207634,
          1566.86291003901,
          1932.97283307683,
          2304.79466252873,
          2668.12560523405,
          3011.35186099872,
          3326.2202087989,
          3608.06589565833,
          3855.5411733311,
          4069.74334058336,
          4253.49561746808,
          4410.68816135487,
          4545.3712640709,
          4661.37107780338,
          4762.18904678123,
          4850.67891629734,
          4929.03857651332,
          4999.00377788494,
          5061.8117222698,
          5118.3123217891,
          5169.38743401233,
          5215.92265776002,
          5258.89111003819,
          5299.36622887096,
          5338.29274308287,
          5376.63145805439,
          5414.94819578942
         ],
         "yaxis": "y"
        },
        {
         "hovertemplate": "variable=G03<br>Cycle=%{x}<br>value=%{y}<extra></extra>",
         "legendgroup": "G03",
         "line": {
          "color": "rgb(190,186,218)",
          "dash": "solid"
         },
         "marker": {
          "symbol": "circle"
         },
         "mode": "lines",
         "name": "G03",
         "showlegend": true,
         "type": "scattergl",
         "x": [
          1,
          2,
          3,
          4,
          5,
          6,
          7,
          8,
          9,
          10,
          11,
          12,
          13,
          14,
          15,
          16,
          17,
          18,
          19,
          20,
          21,
          22,
          23,
          24,
          25,
          26,
          27,
          28,
          29,
          30,
          31,
          32,
          33,
          34,
          35,
          36,
          37,
          38,
          39,
          40
         ],
         "xaxis": "x",
         "y": [
          0,
          0,
          0,
          0,
          3.0027021563219,
          17.0508358534944,
          49.4955867434628,
          108.728343270064,
          203.020597658101,
          339.032555152289,
          520.821242232586,
          748.852986136101,
          1018.9773432908,
          1322.8482926444,
          1648.90791157332,
          1983.71093297932,
          2313.96247044509,
          2628.30855670038,
          2918.16132941028,
          3178.42606010552,
          3407.18550971984,
          3605.01222526719,
          3774.24938481578,
          3918.21630397227,
          4040.67622701858,
          4145.63427238215,
          4236.85416783316,
          4317.39670349576,
          4389.40464710671,
          4453.84937206623,
          4510.62601742068,
          4559.32001990905,
          4600.03462544436,
          4633.68783329265,
          4662.22824215562,
          4688.18648580949,
          4713.55524281311,
          4739.34985737737,
          4765.14447194162,
          4790.93908650587
         ],
         "yaxis": "y"
        },
        {
         "hovertemplate": "variable=G04<br>Cycle=%{x}<br>value=%{y}<extra></extra>",
         "legendgroup": "G04",
         "line": {
          "color": "rgb(251,128,114)",
          "dash": "solid"
         },
         "marker": {
          "symbol": "circle"
         },
         "mode": "lines",
         "name": "G04",
         "showlegend": true,
         "type": "scattergl",
         "x": [
          1,
          2,
          3,
          4,
          5,
          6,
          7,
          8,
          9,
          10,
          11,
          12,
          13,
          14,
          15,
          16,
          17,
          18,
          19,
          20,
          21,
          22,
          23,
          24,
          25,
          26,
          27,
          28,
          29,
          30,
          31,
          32,
          33,
          34,
          35,
          36,
          37,
          38,
          39,
          40
         ],
         "xaxis": "x",
         "y": [
          0,
          0,
          0,
          0,
          0,
          0,
          0,
          10.7626291230399,
          39.6926322353775,
          93.6247382867459,
          181.07988016363,
          311.690026597343,
          494.523255090075,
          735.83374385488,
          1036.64069379243,
          1391.29774364219,
          1787.81719206022,
          2209.52661185334,
          2637.80873955226,
          3055.24118018925,
          3447.79024652224,
          3806.01466825998,
          4125.21789983714,
          4404.71801081531,
          4646.79531585194,
          4855.53046615442,
          5035.76282740004,
          5192.30047106708,
          5329.35209540692,
          5450.31612480239,
          5557.99522843936,
          5654.74174573198,
          5742.66749267615,
          5823.57054916253,
          5899.01369572966,
          5969.14072207229,
          6034.62210613357,
          6095.48189412959,
          6154.43898347523,
          6213.39607282087
         ],
         "yaxis": "y"
        },
        {
         "hovertemplate": "variable=G05<br>Cycle=%{x}<br>value=%{y}<extra></extra>",
         "legendgroup": "G05",
         "line": {
          "color": "rgb(128,177,211)",
          "dash": "solid"
         },
         "marker": {
          "symbol": "circle"
         },
         "mode": "lines",
         "name": "G05",
         "showlegend": true,
         "type": "scattergl",
         "x": [
          1,
          2,
          3,
          4,
          5,
          6,
          7,
          8,
          9,
          10,
          11,
          12,
          13,
          14,
          15,
          16,
          17,
          18,
          19,
          20,
          21,
          22,
          23,
          24,
          25,
          26,
          27,
          28,
          29,
          30,
          31,
          32,
          33,
          34,
          35,
          36,
          37,
          38,
          39,
          40
         ],
         "xaxis": "x",
         "y": [
          0,
          0,
          0,
          0,
          0,
          0,
          0,
          0,
          7.52677455230241,
          30.9259513242241,
          77.7053309160001,
          156.51278047397,
          276.133334175326,
          443.944888046594,
          664.004600915376,
          935.256333438937,
          1251.10845855666,
          1600.12101988689,
          1967.56480200699,
          2337.87553147253,
          2696.91195905632,
          3033.43858337256,
          3339.97195738923,
          3612.92820893278,
          3852.03244497785,
          4059.50656780971,
          4239.02921861968,
          4394.70924714518,
          4530.43131032779,
          4649.41127572482,
          4754.0452770152,
          4845.97557765943,
          4926.22296392342,
          4995.31867915004,
          5053.91952502052,
          5102.15643934642,
          5140.75727969669,
          5171.22154684486,
          5196.9771516469,
          5222.73275644893
         ],
         "yaxis": "y"
        },
        {
         "hovertemplate": "variable=G06<br>Cycle=%{x}<br>value=%{y}<extra></extra>",
         "legendgroup": "G06",
         "line": {
          "color": "rgb(253,180,98)",
          "dash": "solid"
         },
         "marker": {
          "symbol": "circle"
         },
         "mode": "lines",
         "name": "G06",
         "showlegend": true,
         "type": "scattergl",
         "x": [
          1,
          2,
          3,
          4,
          5,
          6,
          7,
          8,
          9,
          10,
          11,
          12,
          13,
          14,
          15,
          16,
          17,
          18,
          19,
          20,
          21,
          22,
          23,
          24,
          25,
          26,
          27,
          28,
          29,
          30,
          31,
          32,
          33,
          34,
          35,
          36,
          37,
          38,
          39,
          40
         ],
         "xaxis": "x",
         "y": [
          0,
          0,
          0,
          0,
          0,
          0,
          6.63171051818063,
          27.2623641385189,
          68.8757517984486,
          140.119683951434,
          250.873710141123,
          410.861760020914,
          627.588373600764,
          904.18588331474,
          1237.81276874743,
          1619.15942753512,
          2033.62135143427,
          2463.59487116147,
          2891.30701589306,
          3301.3737783544,
          3682.5772850466,
          4028.40220002834,
          4336.49977095112,
          4607.59415687792,
          4844.19640366879,
          5049.36369243036,
          5226.04695956261,
          5377.04821570037,
          5505.04870176105,
          5612.80467812288,
          5703.31445749703,
          5779.47257364012,
          5843.72969314767,
          5897.93519080164,
          5943.44226570447,
          5981.18379766249,
          6011.74840657129,
          6036.68629277286,
          6057.69086773555,
          6078.69544269823
         ],
         "yaxis": "y"
        },
        {
         "hovertemplate": "variable=G07<br>Cycle=%{x}<br>value=%{y}<extra></extra>",
         "legendgroup": "G07",
         "line": {
          "color": "rgb(179,222,105)",
          "dash": "solid"
         },
         "marker": {
          "symbol": "circle"
         },
         "mode": "lines",
         "name": "G07",
         "showlegend": true,
         "type": "scattergl",
         "x": [
          1,
          2,
          3,
          4,
          5,
          6,
          7,
          8,
          9,
          10,
          11,
          12,
          13,
          14,
          15,
          16,
          17,
          18,
          19,
          20,
          21,
          22,
          23,
          24,
          25,
          26,
          27,
          28,
          29,
          30,
          31,
          32,
          33,
          34,
          35,
          36,
          37,
          38,
          39,
          40
         ],
         "xaxis": "x",
         "y": [
          0,
          0,
          0,
          0,
          0,
          0,
          0,
          0,
          0,
          0,
          0,
          0,
          0,
          0,
          0,
          0,
          12.8865964955367,
          48.1311762702417,
          114.406423123522,
          222.037801439112,
          382.058252694362,
          604.466252733077,
          895.717329945963,
          1256.36723888442,
          1679.96805946818,
          2153.38371488129,
          2658.23718728607,
          3173.78252898838,
          3679.68973272381,
          4158.16867430652,
          4595.5515861255,
          4982.93393581637,
          5315.98618613829,
          5594.75367507666,
          5823.36158984852,
          6007.99450540225,
          6156.54537329501,
          6276.45472548373,
          6396.36407767245,
          6516.27342986117
         ],
         "yaxis": "y"
        },
        {
         "hovertemplate": "variable=G08<br>Cycle=%{x}<br>value=%{y}<extra></extra>",
         "legendgroup": "G08",
         "line": {
          "color": "rgb(252,205,229)",
          "dash": "solid"
         },
         "marker": {
          "symbol": "circle"
         },
         "mode": "lines",
         "name": "G08",
         "showlegend": true,
         "type": "scattergl",
         "x": [
          1,
          2,
          3,
          4,
          5,
          6,
          7,
          8,
          9,
          10,
          11,
          12,
          13,
          14,
          15,
          16,
          17,
          18,
          19,
          20,
          21,
          22,
          23,
          24,
          25,
          26,
          27,
          28,
          29,
          30,
          31,
          32,
          33,
          34,
          35,
          36,
          37,
          38,
          39,
          40
         ],
         "xaxis": "x",
         "y": [
          0,
          0,
          0,
          0,
          0,
          0,
          0,
          0,
          0,
          0,
          0,
          0,
          0,
          0,
          7.29468841103426,
          28.4240214742204,
          69.8899161594072,
          140.202598383677,
          249.326483990048,
          407.179611614756,
          621.594497568188,
          896.233436444712,
          1228.82746341374,
          1610.85895944485,
          2028.70745733942,
          2465.5362218022,
          2903.70678127534,
          3327.34564660258,
          3723.83923554486,
          4084.35531545586,
          4404.014880658,
          4681.37722825153,
          4917.5183322826,
          5115.42719722316,
          5279.65798259267,
          5415.1310592231,
          5527.38630463179,
          5622.96036349979,
          5709.44452167412,
          5795.92867984845
         ],
         "yaxis": "y"
        },
        {
         "hovertemplate": "variable=G09<br>Cycle=%{x}<br>value=%{y}<extra></extra>",
         "legendgroup": "G09",
         "line": {
          "color": "rgb(217,217,217)",
          "dash": "solid"
         },
         "marker": {
          "symbol": "circle"
         },
         "mode": "lines",
         "name": "G09",
         "showlegend": true,
         "type": "scattergl",
         "x": [
          1,
          2,
          3,
          4,
          5,
          6,
          7,
          8,
          9,
          10,
          11,
          12,
          13,
          14,
          15,
          16,
          17,
          18,
          19,
          20,
          21,
          22,
          23,
          24,
          25,
          26,
          27,
          28,
          29,
          30,
          31,
          32,
          33,
          34,
          35,
          36,
          37,
          38,
          39,
          40
         ],
         "xaxis": "x",
         "y": [
          0,
          0,
          0,
          0,
          0,
          0,
          0,
          0,
          0,
          0,
          0,
          0,
          0,
          8.82523224165652,
          32.3787954404306,
          76.6440298032621,
          149.330604305358,
          259.330550394562,
          415.388951487057,
          624.18364725378,
          888.281661558436,
          1204.78709598373,
          1565.14884242941,
          1956.23440875412,
          2362.37593226749,
          2767.87984250657,
          3159.10361319592,
          3525.70653203746,
          3861.10569318405,
          4162.16243026087,
          4428.26107948518,
          4660.4838877993,
          4860.83758758967,
          5031.67204751404,
          5176.00001431333,
          5296.28207933316,
          5395.7464344173,
          5478.88566964442,
          5552.7166568765,
          5626.54764410856
         ],
         "yaxis": "y"
        },
        {
         "hovertemplate": "variable=G10<br>Cycle=%{x}<br>value=%{y}<extra></extra>",
         "legendgroup": "G10",
         "line": {
          "color": "rgb(188,128,189)",
          "dash": "solid"
         },
         "marker": {
          "symbol": "circle"
         },
         "mode": "lines",
         "name": "G10",
         "showlegend": true,
         "type": "scattergl",
         "x": [
          1,
          2,
          3,
          4,
          5,
          6,
          7,
          8,
          9,
          10,
          11,
          12,
          13,
          14,
          15,
          16,
          17,
          18,
          19,
          20,
          21,
          22,
          23,
          24,
          25,
          26,
          27,
          28,
          29,
          30,
          31,
          32,
          33,
          34,
          35,
          36,
          37,
          38,
          39,
          40
         ],
         "xaxis": "x",
         "y": [
          0,
          0,
          0,
          0,
          0,
          0,
          0,
          0,
          0,
          0,
          0,
          0,
          0,
          0,
          0,
          0,
          0,
          0,
          0,
          0,
          0,
          0,
          0,
          8.84415634377274,
          32.9805343311536,
          78.984620879316,
          155.08758831159,
          270.593171464508,
          434.317839263248,
          652.094747116723,
          924.576570266869,
          1245.88011211103,
          1603.79142342434,
          1981.06836252534,
          2358.57939677966,
          2720.22974372658,
          3057.11423057174,
          3366.48299994165,
          3657.99141005454,
          3948.59711634227
         ],
         "yaxis": "y"
        },
        {
         "hovertemplate": "variable=G11<br>Cycle=%{x}<br>value=%{y}<extra></extra>",
         "legendgroup": "G11",
         "line": {
          "color": "rgb(204,235,197)",
          "dash": "solid"
         },
         "marker": {
          "symbol": "circle"
         },
         "mode": "lines",
         "name": "G11",
         "showlegend": true,
         "type": "scattergl",
         "x": [
          1,
          2,
          3,
          4,
          5,
          6,
          7,
          8,
          9,
          10,
          11,
          12,
          13,
          14,
          15,
          16,
          17,
          18,
          19,
          20,
          21,
          22,
          23,
          24,
          25,
          26,
          27,
          28,
          29,
          30,
          31,
          32,
          33,
          34,
          35,
          36,
          37,
          38,
          39,
          40
         ],
         "xaxis": "x",
         "y": [
          0,
          0,
          0,
          0,
          0,
          0,
          0,
          0,
          0,
          0,
          0,
          0,
          0,
          0,
          0,
          0,
          0,
          0,
          0,
          0,
          0,
          0,
          9.57797149906037,
          34.8782070720235,
          82.4867207223733,
          161.063027198825,
          280.786758721266,
          451.67024505006,
          680.959968613504,
          970.612128849299,
          1315.71137422243,
          1703.98055067421,
          2116.94306159335,
          2532.78157575587,
          2929.89415734405,
          3291.73524855185,
          3611.80423716298,
          3891.06530472942,
          4145.98922240674,
          4400.09726485062
         ],
         "yaxis": "y"
        },
        {
         "hovertemplate": "variable=G12<br>Cycle=%{x}<br>value=%{y}<extra></extra>",
         "legendgroup": "G12",
         "line": {
          "color": "rgb(255,237,111)",
          "dash": "solid"
         },
         "marker": {
          "symbol": "circle"
         },
         "mode": "lines",
         "name": "G12",
         "showlegend": true,
         "type": "scattergl",
         "x": [
          1,
          2,
          3,
          4,
          5,
          6,
          7,
          8,
          9,
          10,
          11,
          12,
          13,
          14,
          15,
          16,
          17,
          18,
          19,
          20,
          21,
          22,
          23,
          24,
          25,
          26,
          27,
          28,
          29,
          30,
          31,
          32,
          33,
          34,
          35,
          36,
          37,
          38,
          39,
          40
         ],
         "xaxis": "x",
         "y": [
          0,
          0,
          0,
          0,
          0,
          0,
          0,
          0,
          0,
          0,
          0,
          0,
          0,
          0,
          0,
          0,
          0,
          0,
          0,
          0,
          0,
          8.07115817727026,
          28.5803415484279,
          66.1136174712465,
          126.807581331486,
          217.980830417751,
          346.89716841595,
          519.119276096779,
          736.674697601119,
          996.613036393253,
          1290.71963549681,
          1606.50121855182,
          1929.41306527707,
          2244.52412636702,
          2540.82481672754,
          2804.5645511746,
          3031.87538812305,
          3224.78939941606,
          3417.70341070906,
          3610.61742200207
         ],
         "yaxis": "y"
        },
        {
         "hovertemplate": "variable=H01<br>Cycle=%{x}<br>value=%{y}<extra></extra>",
         "legendgroup": "H01",
         "line": {
          "color": "rgb(141,211,199)",
          "dash": "solid"
         },
         "marker": {
          "symbol": "circle"
         },
         "mode": "lines",
         "name": "H01",
         "showlegend": true,
         "type": "scattergl",
         "x": [
          1,
          2,
          3,
          4,
          5,
          6,
          7,
          8,
          9,
          10,
          11,
          12,
          13,
          14,
          15,
          16,
          17,
          18,
          19,
          20,
          21,
          22,
          23,
          24,
          25,
          26,
          27,
          28,
          29,
          30,
          31,
          32,
          33,
          34,
          35,
          36,
          37,
          38,
          39,
          40
         ],
         "xaxis": "x",
         "y": [
          0,
          0,
          0,
          0,
          0,
          0,
          0,
          0,
          0,
          0,
          0,
          0,
          0,
          0,
          0,
          0,
          0,
          0,
          0,
          0,
          0,
          0,
          0,
          6.20492556470253,
          24.8334748113002,
          63.6622421031125,
          134.448699695704,
          252.476858375961,
          434.209335625203,
          693.305540279891,
          1036.39181946487,
          1460.16681794521,
          1951.50077444712,
          2489.06786439289,
          3051.04037600709,
          3607.76435407494,
          4142.44465602976,
          4638.83091132057,
          5116.68288713929,
          5594.534862958
         ],
         "yaxis": "y"
        },
        {
         "hovertemplate": "variable=H02<br>Cycle=%{x}<br>value=%{y}<extra></extra>",
         "legendgroup": "H02",
         "line": {
          "color": "rgb(255,255,179)",
          "dash": "solid"
         },
         "marker": {
          "symbol": "circle"
         },
         "mode": "lines",
         "name": "H02",
         "showlegend": true,
         "type": "scattergl",
         "x": [
          1,
          2,
          3,
          4,
          5,
          6,
          7,
          8,
          9,
          10,
          11,
          12,
          13,
          14,
          15,
          16,
          17,
          18,
          19,
          20,
          21,
          22,
          23,
          24,
          25,
          26,
          27,
          28,
          29,
          30,
          31,
          32,
          33,
          34,
          35,
          36,
          37,
          38,
          39,
          40
         ],
         "xaxis": "x",
         "y": [
          0,
          0,
          0,
          0,
          0,
          0,
          0,
          0,
          0,
          0,
          0,
          0,
          0,
          0,
          0,
          0,
          0,
          0,
          0,
          0,
          0,
          0,
          0,
          17.5298503175045,
          59.2819675852506,
          134.565192314936,
          257.084338790529,
          443.146504027498,
          707.83340325101,
          1060.25915755678,
          1499.83881329102,
          2014.88043214163,
          2584.09683687608,
          3180.53181223122,
          3779.01563636298,
          4353.97179379175,
          4889.93782140327,
          5379.97044301445,
          5840.79499446666,
          6301.61954591886
         ],
         "yaxis": "y"
        },
        {
         "hovertemplate": "variable=H03<br>Cycle=%{x}<br>value=%{y}<extra></extra>",
         "legendgroup": "H03",
         "line": {
          "color": "rgb(190,186,218)",
          "dash": "solid"
         },
         "marker": {
          "symbol": "circle"
         },
         "mode": "lines",
         "name": "H03",
         "showlegend": true,
         "type": "scattergl",
         "x": [
          1,
          2,
          3,
          4,
          5,
          6,
          7,
          8,
          9,
          10,
          11,
          12,
          13,
          14,
          15,
          16,
          17,
          18,
          19,
          20,
          21,
          22,
          23,
          24,
          25,
          26,
          27,
          28,
          29,
          30,
          31,
          32,
          33,
          34,
          35,
          36,
          37,
          38,
          39,
          40
         ],
         "xaxis": "x",
         "y": [
          0,
          0,
          0,
          0,
          0,
          0,
          0,
          0,
          0,
          0,
          0,
          0,
          0,
          0,
          0,
          0,
          0,
          0,
          0,
          0,
          0,
          0,
          12.5131832468787,
          46.4046850236182,
          112.595737306294,
          226.530723895708,
          406.502899681875,
          669.6432611981,
          1026.76302249711,
          1477.92836176447,
          2010.76608011744,
          2602.1052104397,
          3222.67193276715,
          3843.25651706062,
          4441.30842690845,
          5000.42171548624,
          5514.32082508572,
          5985.21965936166,
          6430.18599240529,
          6875.15232544891
         ],
         "yaxis": "y"
        },
        {
         "hovertemplate": "variable=H04<br>Cycle=%{x}<br>value=%{y}<extra></extra>",
         "legendgroup": "H04",
         "line": {
          "color": "rgb(251,128,114)",
          "dash": "solid"
         },
         "marker": {
          "symbol": "circle"
         },
         "mode": "lines",
         "name": "H04",
         "showlegend": true,
         "type": "scattergl",
         "x": [
          1,
          2,
          3,
          4,
          5,
          6,
          7,
          8,
          9,
          10,
          11,
          12,
          13,
          14,
          15,
          16,
          17,
          18,
          19,
          20,
          21,
          22,
          23,
          24,
          25,
          26,
          27,
          28,
          29,
          30,
          31,
          32,
          33,
          34,
          35,
          36,
          37,
          38,
          39,
          40
         ],
         "xaxis": "x",
         "y": [
          0,
          0,
          0,
          0,
          0,
          0,
          0,
          0,
          0,
          0,
          0,
          0,
          0,
          0,
          0,
          0,
          0,
          0,
          0,
          0,
          0,
          0,
          0,
          0,
          0,
          0,
          0,
          17.513312232315,
          52.0951387669384,
          108.82342627131,
          195.214872841669,
          321.766623118646,
          499.725845202985,
          738.059702487166,
          1040.88564318798,
          1406.0547269044,
          1824.76260010047,
          2287.42034430191,
          2750.07808850335,
          3212.7358327048
         ],
         "yaxis": "y"
        },
        {
         "hovertemplate": "variable=H05<br>Cycle=%{x}<br>value=%{y}<extra></extra>",
         "legendgroup": "H05",
         "line": {
          "color": "rgb(128,177,211)",
          "dash": "solid"
         },
         "marker": {
          "symbol": "circle"
         },
         "mode": "lines",
         "name": "H05",
         "showlegend": true,
         "type": "scattergl",
         "x": [
          1,
          2,
          3,
          4,
          5,
          6,
          7,
          8,
          9,
          10,
          11,
          12,
          13,
          14,
          15,
          16,
          17,
          18,
          19,
          20,
          21,
          22,
          23,
          24,
          25,
          26,
          27,
          28,
          29,
          30,
          31,
          32,
          33,
          34,
          35,
          36,
          37,
          38,
          39,
          40
         ],
         "xaxis": "x",
         "y": [
          0,
          0,
          0,
          0,
          0,
          0,
          0,
          0,
          0,
          0,
          0,
          0,
          0,
          0,
          0,
          0,
          0,
          0,
          0,
          0,
          0,
          0,
          0,
          0,
          0,
          0,
          11.2820411258981,
          40.7565702435195,
          97.6345903381543,
          195.639403342037,
          351.928800203149,
          583.435515488709,
          902.098808899859,
          1309.4901494957,
          1794.61081935501,
          2338.17617040858,
          2918.68216091646,
          3521.22798033722,
          4123.77379975798,
          4726.31961917874
         ],
         "yaxis": "y"
        },
        {
         "hovertemplate": "variable=H06<br>Cycle=%{x}<br>value=%{y}<extra></extra>",
         "legendgroup": "H06",
         "line": {
          "color": "rgb(253,180,98)",
          "dash": "solid"
         },
         "marker": {
          "symbol": "circle"
         },
         "mode": "lines",
         "name": "H06",
         "showlegend": true,
         "type": "scattergl",
         "x": [
          1,
          2,
          3,
          4,
          5,
          6,
          7,
          8,
          9,
          10,
          11,
          12,
          13,
          14,
          15,
          16,
          17,
          18,
          19,
          20,
          21,
          22,
          23,
          24,
          25,
          26,
          27,
          28,
          29,
          30,
          31,
          32,
          33,
          34,
          35,
          36,
          37,
          38,
          39,
          40
         ],
         "xaxis": "x",
         "y": [
          0,
          0,
          0,
          0,
          0,
          0,
          0,
          0,
          0,
          0,
          0,
          0,
          0,
          0,
          0,
          0,
          0,
          0,
          0,
          0,
          0,
          0,
          0,
          0,
          10.5908729653656,
          36.7496134587755,
          85.5677973385236,
          168.073273487428,
          298.474470416378,
          491.440759857039,
          758.152673066776,
          1102.35565948872,
          1517.94482389594,
          1988.22352735487,
          2488.6749571594,
          2994.2721499457,
          3487.04408619683,
          3955.54764382217,
          4405.87837850989,
          4854.74977778625
         ],
         "yaxis": "y"
        },
        {
         "hovertemplate": "variable=H07<br>Cycle=%{x}<br>value=%{y}<extra></extra>",
         "legendgroup": "H07",
         "line": {
          "color": "rgb(179,222,105)",
          "dash": "solid"
         },
         "marker": {
          "symbol": "circle"
         },
         "mode": "lines",
         "name": "H07",
         "showlegend": true,
         "type": "scattergl",
         "x": [
          1,
          2,
          3,
          4,
          5,
          6,
          7,
          8,
          9,
          10,
          11,
          12,
          13,
          14,
          15,
          16,
          17,
          18,
          19,
          20,
          21,
          22,
          23,
          24,
          25,
          26,
          27,
          28,
          29,
          30,
          31,
          32,
          33,
          34,
          35,
          36,
          37,
          38,
          39,
          40
         ],
         "xaxis": "x",
         "y": [
          0,
          0,
          0,
          0,
          0,
          0,
          0,
          0,
          0,
          0,
          0,
          0,
          0,
          0,
          0,
          0,
          0,
          0,
          0,
          0,
          0,
          0,
          0,
          0,
          0,
          0,
          0,
          0,
          0,
          0,
          0,
          0,
          0,
          0,
          0,
          0,
          0,
          0,
          0,
          0
         ],
         "yaxis": "y"
        },
        {
         "hovertemplate": "variable=H08<br>Cycle=%{x}<br>value=%{y}<extra></extra>",
         "legendgroup": "H08",
         "line": {
          "color": "rgb(252,205,229)",
          "dash": "solid"
         },
         "marker": {
          "symbol": "circle"
         },
         "mode": "lines",
         "name": "H08",
         "showlegend": true,
         "type": "scattergl",
         "x": [
          1,
          2,
          3,
          4,
          5,
          6,
          7,
          8,
          9,
          10,
          11,
          12,
          13,
          14,
          15,
          16,
          17,
          18,
          19,
          20,
          21,
          22,
          23,
          24,
          25,
          26,
          27,
          28,
          29,
          30,
          31,
          32,
          33,
          34,
          35,
          36,
          37,
          38,
          39,
          40
         ],
         "xaxis": "x",
         "y": [
          0,
          0,
          0,
          0,
          0,
          0,
          0,
          0,
          0,
          0,
          0,
          0,
          0,
          0,
          0,
          0,
          0,
          0,
          0,
          0,
          0,
          0,
          0,
          0,
          0,
          0,
          0,
          0,
          0,
          0,
          0,
          0,
          0,
          0,
          0,
          0,
          0,
          0,
          0,
          0
         ],
         "yaxis": "y"
        },
        {
         "hovertemplate": "variable=H09<br>Cycle=%{x}<br>value=%{y}<extra></extra>",
         "legendgroup": "H09",
         "line": {
          "color": "rgb(217,217,217)",
          "dash": "solid"
         },
         "marker": {
          "symbol": "circle"
         },
         "mode": "lines",
         "name": "H09",
         "showlegend": true,
         "type": "scattergl",
         "x": [
          1,
          2,
          3,
          4,
          5,
          6,
          7,
          8,
          9,
          10,
          11,
          12,
          13,
          14,
          15,
          16,
          17,
          18,
          19,
          20,
          21,
          22,
          23,
          24,
          25,
          26,
          27,
          28,
          29,
          30,
          31,
          32,
          33,
          34,
          35,
          36,
          37,
          38,
          39,
          40
         ],
         "xaxis": "x",
         "y": [
          0,
          0,
          0,
          0,
          0,
          0,
          0,
          2.12001003706428,
          7.02674405926427,
          14.9649916357785,
          25.6621204296234,
          38.6762078794427,
          53.5988032222513,
          70.1433667280526,
          88.176845337247,
          107.657722105546,
          128.585573228259,
          150.974171866877,
          174.814637329407,
          200.140147738222,
          227.082213358473,
          255.845919616806,
          286.731510264802,
          320.124708662432,
          356.230930001298,
          395.009015714239,
          436.164754662259,
          479.090087969904,
          523.018387135016,
          567.326635733528,
          611.590034916665,
          655.658904981688,
          699.726134803281,
          744.186290202954,
          789.470974449991,
          835.936980434414,
          883.697352876166,
          932.67135821286,
          981.645363549555,
          1030.61936888625
         ],
         "yaxis": "y"
        },
        {
         "hovertemplate": "variable=H10<br>Cycle=%{x}<br>value=%{y}<extra></extra>",
         "legendgroup": "H10",
         "line": {
          "color": "rgb(188,128,189)",
          "dash": "solid"
         },
         "marker": {
          "symbol": "circle"
         },
         "mode": "lines",
         "name": "H10",
         "showlegend": true,
         "type": "scattergl",
         "x": [
          1,
          2,
          3,
          4,
          5,
          6,
          7,
          8,
          9,
          10,
          11,
          12,
          13,
          14,
          15,
          16,
          17,
          18,
          19,
          20,
          21,
          22,
          23,
          24,
          25,
          26,
          27,
          28,
          29,
          30,
          31,
          32,
          33,
          34,
          35,
          36,
          37,
          38,
          39,
          40
         ],
         "xaxis": "x",
         "y": [
          0,
          0,
          0,
          0,
          0,
          0,
          0,
          0,
          0,
          0,
          0,
          0,
          0,
          0,
          0,
          0,
          0,
          0,
          0,
          0,
          0,
          0,
          0,
          0,
          0,
          0,
          0,
          0,
          0,
          0,
          0,
          0,
          0,
          0,
          0,
          0,
          0,
          0,
          0,
          0
         ],
         "yaxis": "y"
        },
        {
         "hovertemplate": "variable=H11<br>Cycle=%{x}<br>value=%{y}<extra></extra>",
         "legendgroup": "H11",
         "line": {
          "color": "rgb(204,235,197)",
          "dash": "solid"
         },
         "marker": {
          "symbol": "circle"
         },
         "mode": "lines",
         "name": "H11",
         "showlegend": true,
         "type": "scattergl",
         "x": [
          1,
          2,
          3,
          4,
          5,
          6,
          7,
          8,
          9,
          10,
          11,
          12,
          13,
          14,
          15,
          16,
          17,
          18,
          19,
          20,
          21,
          22,
          23,
          24,
          25,
          26,
          27,
          28,
          29,
          30,
          31,
          32,
          33,
          34,
          35,
          36,
          37,
          38,
          39,
          40
         ],
         "xaxis": "x",
         "y": [
          0,
          0,
          0,
          0,
          0,
          0,
          0,
          0,
          0,
          0,
          0,
          0,
          0,
          0,
          0,
          0,
          0,
          0,
          0,
          0,
          0,
          0,
          0,
          0,
          0,
          0,
          0,
          0,
          0,
          0,
          0,
          0,
          0,
          0,
          0,
          0,
          0,
          0,
          0,
          0
         ],
         "yaxis": "y"
        },
        {
         "hovertemplate": "variable=H12<br>Cycle=%{x}<br>value=%{y}<extra></extra>",
         "legendgroup": "H12",
         "line": {
          "color": "rgb(255,237,111)",
          "dash": "solid"
         },
         "marker": {
          "symbol": "circle"
         },
         "mode": "lines",
         "name": "H12",
         "showlegend": true,
         "type": "scattergl",
         "x": [
          1,
          2,
          3,
          4,
          5,
          6,
          7,
          8,
          9,
          10,
          11,
          12,
          13,
          14,
          15,
          16,
          17,
          18,
          19,
          20,
          21,
          22,
          23,
          24,
          25,
          26,
          27,
          28,
          29,
          30,
          31,
          32,
          33,
          34,
          35,
          36,
          37,
          38,
          39,
          40
         ],
         "xaxis": "x",
         "y": [
          0,
          0,
          0,
          0,
          0,
          0,
          0,
          0,
          0,
          0,
          0,
          0,
          0,
          0,
          0,
          0,
          0,
          0,
          0,
          0,
          0,
          0,
          0,
          0,
          0,
          0,
          0,
          0,
          0,
          0,
          0,
          0,
          0,
          0,
          0,
          0,
          0,
          0,
          0,
          0
         ],
         "yaxis": "y"
        }
       ],
       "layout": {
        "height": 500,
        "legend": {
         "title": {
          "text": "Well"
         },
         "tracegroupgap": 0
        },
        "margin": {
         "t": 60
        },
        "template": {
         "data": {
          "bar": [
           {
            "error_x": {
             "color": "#2a3f5f"
            },
            "error_y": {
             "color": "#2a3f5f"
            },
            "marker": {
             "line": {
              "color": "#E5ECF6",
              "width": 0.5
             },
             "pattern": {
              "fillmode": "overlay",
              "size": 10,
              "solidity": 0.2
             }
            },
            "type": "bar"
           }
          ],
          "barpolar": [
           {
            "marker": {
             "line": {
              "color": "#E5ECF6",
              "width": 0.5
             },
             "pattern": {
              "fillmode": "overlay",
              "size": 10,
              "solidity": 0.2
             }
            },
            "type": "barpolar"
           }
          ],
          "carpet": [
           {
            "aaxis": {
             "endlinecolor": "#2a3f5f",
             "gridcolor": "white",
             "linecolor": "white",
             "minorgridcolor": "white",
             "startlinecolor": "#2a3f5f"
            },
            "baxis": {
             "endlinecolor": "#2a3f5f",
             "gridcolor": "white",
             "linecolor": "white",
             "minorgridcolor": "white",
             "startlinecolor": "#2a3f5f"
            },
            "type": "carpet"
           }
          ],
          "choropleth": [
           {
            "colorbar": {
             "outlinewidth": 0,
             "ticks": ""
            },
            "type": "choropleth"
           }
          ],
          "contour": [
           {
            "colorbar": {
             "outlinewidth": 0,
             "ticks": ""
            },
            "colorscale": [
             [
              0,
              "#0d0887"
             ],
             [
              0.1111111111111111,
              "#46039f"
             ],
             [
              0.2222222222222222,
              "#7201a8"
             ],
             [
              0.3333333333333333,
              "#9c179e"
             ],
             [
              0.4444444444444444,
              "#bd3786"
             ],
             [
              0.5555555555555556,
              "#d8576b"
             ],
             [
              0.6666666666666666,
              "#ed7953"
             ],
             [
              0.7777777777777778,
              "#fb9f3a"
             ],
             [
              0.8888888888888888,
              "#fdca26"
             ],
             [
              1,
              "#f0f921"
             ]
            ],
            "type": "contour"
           }
          ],
          "contourcarpet": [
           {
            "colorbar": {
             "outlinewidth": 0,
             "ticks": ""
            },
            "type": "contourcarpet"
           }
          ],
          "heatmap": [
           {
            "colorbar": {
             "outlinewidth": 0,
             "ticks": ""
            },
            "colorscale": [
             [
              0,
              "#0d0887"
             ],
             [
              0.1111111111111111,
              "#46039f"
             ],
             [
              0.2222222222222222,
              "#7201a8"
             ],
             [
              0.3333333333333333,
              "#9c179e"
             ],
             [
              0.4444444444444444,
              "#bd3786"
             ],
             [
              0.5555555555555556,
              "#d8576b"
             ],
             [
              0.6666666666666666,
              "#ed7953"
             ],
             [
              0.7777777777777778,
              "#fb9f3a"
             ],
             [
              0.8888888888888888,
              "#fdca26"
             ],
             [
              1,
              "#f0f921"
             ]
            ],
            "type": "heatmap"
           }
          ],
          "heatmapgl": [
           {
            "colorbar": {
             "outlinewidth": 0,
             "ticks": ""
            },
            "colorscale": [
             [
              0,
              "#0d0887"
             ],
             [
              0.1111111111111111,
              "#46039f"
             ],
             [
              0.2222222222222222,
              "#7201a8"
             ],
             [
              0.3333333333333333,
              "#9c179e"
             ],
             [
              0.4444444444444444,
              "#bd3786"
             ],
             [
              0.5555555555555556,
              "#d8576b"
             ],
             [
              0.6666666666666666,
              "#ed7953"
             ],
             [
              0.7777777777777778,
              "#fb9f3a"
             ],
             [
              0.8888888888888888,
              "#fdca26"
             ],
             [
              1,
              "#f0f921"
             ]
            ],
            "type": "heatmapgl"
           }
          ],
          "histogram": [
           {
            "marker": {
             "pattern": {
              "fillmode": "overlay",
              "size": 10,
              "solidity": 0.2
             }
            },
            "type": "histogram"
           }
          ],
          "histogram2d": [
           {
            "colorbar": {
             "outlinewidth": 0,
             "ticks": ""
            },
            "colorscale": [
             [
              0,
              "#0d0887"
             ],
             [
              0.1111111111111111,
              "#46039f"
             ],
             [
              0.2222222222222222,
              "#7201a8"
             ],
             [
              0.3333333333333333,
              "#9c179e"
             ],
             [
              0.4444444444444444,
              "#bd3786"
             ],
             [
              0.5555555555555556,
              "#d8576b"
             ],
             [
              0.6666666666666666,
              "#ed7953"
             ],
             [
              0.7777777777777778,
              "#fb9f3a"
             ],
             [
              0.8888888888888888,
              "#fdca26"
             ],
             [
              1,
              "#f0f921"
             ]
            ],
            "type": "histogram2d"
           }
          ],
          "histogram2dcontour": [
           {
            "colorbar": {
             "outlinewidth": 0,
             "ticks": ""
            },
            "colorscale": [
             [
              0,
              "#0d0887"
             ],
             [
              0.1111111111111111,
              "#46039f"
             ],
             [
              0.2222222222222222,
              "#7201a8"
             ],
             [
              0.3333333333333333,
              "#9c179e"
             ],
             [
              0.4444444444444444,
              "#bd3786"
             ],
             [
              0.5555555555555556,
              "#d8576b"
             ],
             [
              0.6666666666666666,
              "#ed7953"
             ],
             [
              0.7777777777777778,
              "#fb9f3a"
             ],
             [
              0.8888888888888888,
              "#fdca26"
             ],
             [
              1,
              "#f0f921"
             ]
            ],
            "type": "histogram2dcontour"
           }
          ],
          "mesh3d": [
           {
            "colorbar": {
             "outlinewidth": 0,
             "ticks": ""
            },
            "type": "mesh3d"
           }
          ],
          "parcoords": [
           {
            "line": {
             "colorbar": {
              "outlinewidth": 0,
              "ticks": ""
             }
            },
            "type": "parcoords"
           }
          ],
          "pie": [
           {
            "automargin": true,
            "type": "pie"
           }
          ],
          "scatter": [
           {
            "fillpattern": {
             "fillmode": "overlay",
             "size": 10,
             "solidity": 0.2
            },
            "type": "scatter"
           }
          ],
          "scatter3d": [
           {
            "line": {
             "colorbar": {
              "outlinewidth": 0,
              "ticks": ""
             }
            },
            "marker": {
             "colorbar": {
              "outlinewidth": 0,
              "ticks": ""
             }
            },
            "type": "scatter3d"
           }
          ],
          "scattercarpet": [
           {
            "marker": {
             "colorbar": {
              "outlinewidth": 0,
              "ticks": ""
             }
            },
            "type": "scattercarpet"
           }
          ],
          "scattergeo": [
           {
            "marker": {
             "colorbar": {
              "outlinewidth": 0,
              "ticks": ""
             }
            },
            "type": "scattergeo"
           }
          ],
          "scattergl": [
           {
            "marker": {
             "colorbar": {
              "outlinewidth": 0,
              "ticks": ""
             }
            },
            "type": "scattergl"
           }
          ],
          "scattermapbox": [
           {
            "marker": {
             "colorbar": {
              "outlinewidth": 0,
              "ticks": ""
             }
            },
            "type": "scattermapbox"
           }
          ],
          "scatterpolar": [
           {
            "marker": {
             "colorbar": {
              "outlinewidth": 0,
              "ticks": ""
             }
            },
            "type": "scatterpolar"
           }
          ],
          "scatterpolargl": [
           {
            "marker": {
             "colorbar": {
              "outlinewidth": 0,
              "ticks": ""
             }
            },
            "type": "scatterpolargl"
           }
          ],
          "scatterternary": [
           {
            "marker": {
             "colorbar": {
              "outlinewidth": 0,
              "ticks": ""
             }
            },
            "type": "scatterternary"
           }
          ],
          "surface": [
           {
            "colorbar": {
             "outlinewidth": 0,
             "ticks": ""
            },
            "colorscale": [
             [
              0,
              "#0d0887"
             ],
             [
              0.1111111111111111,
              "#46039f"
             ],
             [
              0.2222222222222222,
              "#7201a8"
             ],
             [
              0.3333333333333333,
              "#9c179e"
             ],
             [
              0.4444444444444444,
              "#bd3786"
             ],
             [
              0.5555555555555556,
              "#d8576b"
             ],
             [
              0.6666666666666666,
              "#ed7953"
             ],
             [
              0.7777777777777778,
              "#fb9f3a"
             ],
             [
              0.8888888888888888,
              "#fdca26"
             ],
             [
              1,
              "#f0f921"
             ]
            ],
            "type": "surface"
           }
          ],
          "table": [
           {
            "cells": {
             "fill": {
              "color": "#EBF0F8"
             },
             "line": {
              "color": "white"
             }
            },
            "header": {
             "fill": {
              "color": "#C8D4E3"
             },
             "line": {
              "color": "white"
             }
            },
            "type": "table"
           }
          ]
         },
         "layout": {
          "annotationdefaults": {
           "arrowcolor": "#2a3f5f",
           "arrowhead": 0,
           "arrowwidth": 1
          },
          "autotypenumbers": "strict",
          "coloraxis": {
           "colorbar": {
            "outlinewidth": 0,
            "ticks": ""
           }
          },
          "colorscale": {
           "diverging": [
            [
             0,
             "#8e0152"
            ],
            [
             0.1,
             "#c51b7d"
            ],
            [
             0.2,
             "#de77ae"
            ],
            [
             0.3,
             "#f1b6da"
            ],
            [
             0.4,
             "#fde0ef"
            ],
            [
             0.5,
             "#f7f7f7"
            ],
            [
             0.6,
             "#e6f5d0"
            ],
            [
             0.7,
             "#b8e186"
            ],
            [
             0.8,
             "#7fbc41"
            ],
            [
             0.9,
             "#4d9221"
            ],
            [
             1,
             "#276419"
            ]
           ],
           "sequential": [
            [
             0,
             "#0d0887"
            ],
            [
             0.1111111111111111,
             "#46039f"
            ],
            [
             0.2222222222222222,
             "#7201a8"
            ],
            [
             0.3333333333333333,
             "#9c179e"
            ],
            [
             0.4444444444444444,
             "#bd3786"
            ],
            [
             0.5555555555555556,
             "#d8576b"
            ],
            [
             0.6666666666666666,
             "#ed7953"
            ],
            [
             0.7777777777777778,
             "#fb9f3a"
            ],
            [
             0.8888888888888888,
             "#fdca26"
            ],
            [
             1,
             "#f0f921"
            ]
           ],
           "sequentialminus": [
            [
             0,
             "#0d0887"
            ],
            [
             0.1111111111111111,
             "#46039f"
            ],
            [
             0.2222222222222222,
             "#7201a8"
            ],
            [
             0.3333333333333333,
             "#9c179e"
            ],
            [
             0.4444444444444444,
             "#bd3786"
            ],
            [
             0.5555555555555556,
             "#d8576b"
            ],
            [
             0.6666666666666666,
             "#ed7953"
            ],
            [
             0.7777777777777778,
             "#fb9f3a"
            ],
            [
             0.8888888888888888,
             "#fdca26"
            ],
            [
             1,
             "#f0f921"
            ]
           ]
          },
          "colorway": [
           "#636efa",
           "#EF553B",
           "#00cc96",
           "#ab63fa",
           "#FFA15A",
           "#19d3f3",
           "#FF6692",
           "#B6E880",
           "#FF97FF",
           "#FECB52"
          ],
          "font": {
           "color": "#2a3f5f"
          },
          "geo": {
           "bgcolor": "white",
           "lakecolor": "white",
           "landcolor": "#E5ECF6",
           "showlakes": true,
           "showland": true,
           "subunitcolor": "white"
          },
          "hoverlabel": {
           "align": "left"
          },
          "hovermode": "closest",
          "mapbox": {
           "style": "light"
          },
          "paper_bgcolor": "white",
          "plot_bgcolor": "#E5ECF6",
          "polar": {
           "angularaxis": {
            "gridcolor": "white",
            "linecolor": "white",
            "ticks": ""
           },
           "bgcolor": "#E5ECF6",
           "radialaxis": {
            "gridcolor": "white",
            "linecolor": "white",
            "ticks": ""
           }
          },
          "scene": {
           "xaxis": {
            "backgroundcolor": "#E5ECF6",
            "gridcolor": "white",
            "gridwidth": 2,
            "linecolor": "white",
            "showbackground": true,
            "ticks": "",
            "zerolinecolor": "white"
           },
           "yaxis": {
            "backgroundcolor": "#E5ECF6",
            "gridcolor": "white",
            "gridwidth": 2,
            "linecolor": "white",
            "showbackground": true,
            "ticks": "",
            "zerolinecolor": "white"
           },
           "zaxis": {
            "backgroundcolor": "#E5ECF6",
            "gridcolor": "white",
            "gridwidth": 2,
            "linecolor": "white",
            "showbackground": true,
            "ticks": "",
            "zerolinecolor": "white"
           }
          },
          "shapedefaults": {
           "line": {
            "color": "#2a3f5f"
           }
          },
          "ternary": {
           "aaxis": {
            "gridcolor": "white",
            "linecolor": "white",
            "ticks": ""
           },
           "baxis": {
            "gridcolor": "white",
            "linecolor": "white",
            "ticks": ""
           },
           "bgcolor": "#E5ECF6",
           "caxis": {
            "gridcolor": "white",
            "linecolor": "white",
            "ticks": ""
           }
          },
          "title": {
           "x": 0.05
          },
          "xaxis": {
           "automargin": true,
           "gridcolor": "white",
           "linecolor": "white",
           "ticks": "",
           "title": {
            "standoff": 15
           },
           "zerolinecolor": "white",
           "zerolinewidth": 2
          },
          "yaxis": {
           "automargin": true,
           "gridcolor": "white",
           "linecolor": "white",
           "ticks": "",
           "title": {
            "standoff": 15
           },
           "zerolinecolor": "white",
           "zerolinewidth": 2
          }
         }
        },
        "title": {
         "text": "Cycle vs Fluorescence (FAM)"
        },
        "width": 1000,
        "xaxis": {
         "anchor": "y",
         "domain": [
          0,
          1
         ],
         "title": {
          "text": "Cycle"
         }
        },
        "yaxis": {
         "anchor": "x",
         "domain": [
          0,
          1
         ],
         "title": {
          "text": "RFU (FAM)"
         }
        }
       }
      }
     },
     "metadata": {},
     "output_type": "display_data"
    },
    {
     "data": {
      "application/vnd.plotly.v1+json": {
       "config": {
        "plotlyServerURL": "https://plot.ly"
       },
       "data": [
        {
         "line": {
          "color": "rgb(141,211,199)"
         },
         "mode": "lines+text",
         "name": "A01",
         "text": [
          "",
          "",
          "",
          "",
          "",
          "",
          "",
          "",
          "",
          "",
          "",
          "",
          "",
          "",
          "",
          "",
          "",
          "",
          "",
          "",
          "",
          "",
          "",
          "",
          "",
          "",
          "",
          "",
          "",
          "",
          "",
          "",
          "3531.3",
          "",
          "",
          "",
          "",
          "",
          "",
          ""
         ],
         "textfont": {
          "color": "black",
          "family": "sans serif",
          "size": 8
         },
         "textposition": "top left",
         "type": "scatter",
         "x": [
          1,
          2,
          3,
          4,
          5,
          6,
          7,
          8,
          9,
          10,
          11,
          12,
          13,
          14,
          15,
          16,
          17,
          18,
          19,
          20,
          21,
          22,
          23,
          24,
          25,
          26,
          27,
          28,
          29,
          30,
          31,
          32,
          33,
          34,
          35,
          36,
          37,
          38,
          39,
          40
         ],
         "xaxis": "x",
         "y": [
          0,
          0,
          0,
          0,
          0,
          0,
          0,
          0,
          0,
          0,
          0,
          0,
          0,
          0,
          0,
          0,
          0,
          0,
          0,
          0,
          0,
          0,
          0,
          0,
          0,
          8.02177570913227,
          29.2623561235287,
          70.2541414886737,
          140.421875517566,
          251.214978115502,
          414.294870624198,
          638.150845172891,
          924.467539846298,
          1265.32258753132,
          1643.26075889877,
          2036.94638092184,
          2428.7939151427,
          2805.59315695093,
          3169.15425797901,
          3531.28886571473
         ],
         "yaxis": "y"
        },
        {
         "line": {
          "color": "rgb(255,255,179)"
         },
         "mode": "lines+text",
         "name": "A02",
         "text": [
          "",
          "",
          "",
          "",
          "",
          "",
          "",
          "",
          "",
          "",
          "",
          "",
          "",
          "",
          "",
          "",
          "",
          "",
          "",
          "",
          "",
          "",
          "",
          "",
          "",
          "",
          "",
          "",
          "",
          "",
          "",
          "",
          "1032.4",
          "",
          "",
          "",
          "",
          "",
          "",
          ""
         ],
         "textfont": {
          "color": "black",
          "family": "sans serif",
          "size": 8
         },
         "textposition": "top left",
         "type": "scatter",
         "x": [
          1,
          2,
          3,
          4,
          5,
          6,
          7,
          8,
          9,
          10,
          11,
          12,
          13,
          14,
          15,
          16,
          17,
          18,
          19,
          20,
          21,
          22,
          23,
          24,
          25,
          26,
          27,
          28,
          29,
          30,
          31,
          32,
          33,
          34,
          35,
          36,
          37,
          38,
          39,
          40
         ],
         "xaxis": "x2",
         "y": [
          0,
          0,
          0,
          0,
          0,
          0,
          0,
          0,
          0,
          0,
          0,
          0,
          0,
          0,
          0,
          0,
          0,
          0,
          0,
          0,
          0,
          0,
          0,
          0,
          0,
          0,
          0,
          3.22368272826407,
          11.6137753913954,
          27.3897882199362,
          53.6301414592526,
          93.9865413065936,
          151.936427325944,
          230.04627171508,
          329.171702501563,
          448.162309529223,
          583.977914394017,
          733.463446889063,
          882.948979384108,
          1032.43451187915
         ],
         "yaxis": "y2"
        },
        {
         "line": {
          "color": "rgb(190,186,218)"
         },
         "mode": "lines+text",
         "name": "A03",
         "text": [
          "",
          "",
          "",
          "",
          "",
          "",
          "",
          "",
          "",
          "",
          "",
          "",
          "",
          "",
          "",
          "",
          "",
          "",
          "",
          "",
          "",
          "",
          "",
          "",
          "",
          "",
          "",
          "",
          "",
          "",
          "",
          "",
          "5754.2",
          "",
          "",
          "",
          "",
          "",
          "",
          ""
         ],
         "textfont": {
          "color": "black",
          "family": "sans serif",
          "size": 8
         },
         "textposition": "top left",
         "type": "scatter",
         "x": [
          1,
          2,
          3,
          4,
          5,
          6,
          7,
          8,
          9,
          10,
          11,
          12,
          13,
          14,
          15,
          16,
          17,
          18,
          19,
          20,
          21,
          22,
          23,
          24,
          25,
          26,
          27,
          28,
          29,
          30,
          31,
          32,
          33,
          34,
          35,
          36,
          37,
          38,
          39,
          40
         ],
         "xaxis": "x3",
         "y": [
          0,
          0,
          0,
          0,
          0,
          0,
          0,
          0,
          0,
          0,
          0,
          0,
          0,
          0,
          0,
          0,
          0,
          0,
          0,
          0,
          0,
          7.73642375621694,
          29.4959216831448,
          74.0405688334304,
          154.951203642914,
          289.407758208714,
          494.470073780783,
          782.184137743407,
          1154.99324097741,
          1603.26662650688,
          2106.51755197894,
          2637.38474789593,
          3167.15475082799,
          3670.94680906144,
          4132.41747090518,
          4540.57757036821,
          4894.1497737181,
          5199.33783144866,
          5476.78476480665,
          5754.23169816463
         ],
         "yaxis": "y3"
        },
        {
         "line": {
          "color": "rgb(251,128,114)"
         },
         "mode": "lines+text",
         "name": "A04",
         "text": [
          "",
          "",
          "",
          "",
          "",
          "",
          "",
          "",
          "",
          "",
          "",
          "",
          "",
          "",
          "",
          "",
          "",
          "",
          "",
          "",
          "",
          "",
          "",
          "",
          "",
          "",
          "",
          "",
          "",
          "",
          "",
          "",
          "5436.7",
          "",
          "",
          "",
          "",
          "",
          "",
          ""
         ],
         "textfont": {
          "color": "black",
          "family": "sans serif",
          "size": 8
         },
         "textposition": "top left",
         "type": "scatter",
         "x": [
          1,
          2,
          3,
          4,
          5,
          6,
          7,
          8,
          9,
          10,
          11,
          12,
          13,
          14,
          15,
          16,
          17,
          18,
          19,
          20,
          21,
          22,
          23,
          24,
          25,
          26,
          27,
          28,
          29,
          30,
          31,
          32,
          33,
          34,
          35,
          36,
          37,
          38,
          39,
          40
         ],
         "xaxis": "x4",
         "y": [
          0,
          0,
          0,
          0,
          0,
          0,
          0,
          0,
          0,
          0,
          0,
          0,
          0,
          0,
          0,
          0,
          0,
          0,
          0,
          0,
          0,
          0,
          11.8600734712745,
          40.7883700390948,
          93.989581265806,
          182.611637548231,
          320.869744685174,
          523.229427991474,
          800.384281982604,
          1155.22521136544,
          1580.34036930145,
          2058.45709141267,
          2565.99060108643,
          3076.94918510272,
          3570.57320648609,
          4024.2061994698,
          4429.83911219076,
          4782.71761454052,
          5109.70295513798,
          5436.68829573543
         ],
         "yaxis": "y4"
        },
        {
         "line": {
          "color": "rgb(128,177,211)"
         },
         "mode": "lines+text",
         "name": "A05",
         "text": [
          "",
          "",
          "",
          "",
          "",
          "",
          "",
          "",
          "",
          "",
          "",
          "",
          "",
          "",
          "",
          "",
          "",
          "",
          "",
          "",
          "",
          "",
          "",
          "",
          "",
          "",
          "",
          "",
          "",
          "",
          "",
          "",
          "5568.9",
          "",
          "",
          "",
          "",
          "",
          "",
          ""
         ],
         "textfont": {
          "color": "black",
          "family": "sans serif",
          "size": 8
         },
         "textposition": "top left",
         "type": "scatter",
         "x": [
          1,
          2,
          3,
          4,
          5,
          6,
          7,
          8,
          9,
          10,
          11,
          12,
          13,
          14,
          15,
          16,
          17,
          18,
          19,
          20,
          21,
          22,
          23,
          24,
          25,
          26,
          27,
          28,
          29,
          30,
          31,
          32,
          33,
          34,
          35,
          36,
          37,
          38,
          39,
          40
         ],
         "xaxis": "x5",
         "y": [
          0,
          0,
          0,
          0,
          0,
          0,
          0,
          0,
          0,
          0,
          0,
          0,
          0,
          0,
          0,
          0,
          0,
          0,
          0,
          0,
          5.31249990991546,
          21.7274089690873,
          56.622122093795,
          121.383229471409,
          230.926860218297,
          401.421653733138,
          646.35779805568,
          972.188548950388,
          1375.02014880836,
          1839.7992696494,
          2342.55840817721,
          2855.26283166136,
          3351.78841979149,
          3811.31839171331,
          4222.95010756256,
          4576.01086254858,
          4873.84354890025,
          5120.02712967187,
          5344.45863952215,
          5568.89014937243
         ],
         "yaxis": "y5"
        },
        {
         "line": {
          "color": "rgb(253,180,98)"
         },
         "mode": "lines+text",
         "name": "A06",
         "text": [
          "",
          "",
          "",
          "",
          "",
          "",
          "",
          "",
          "",
          "",
          "",
          "",
          "",
          "",
          "",
          "",
          "",
          "",
          "",
          "",
          "",
          "",
          "",
          "",
          "",
          "",
          "",
          "",
          "",
          "",
          "",
          "",
          "4649.9",
          "",
          "",
          "",
          "",
          "",
          "",
          ""
         ],
         "textfont": {
          "color": "black",
          "family": "sans serif",
          "size": 8
         },
         "textposition": "top left",
         "type": "scatter",
         "x": [
          1,
          2,
          3,
          4,
          5,
          6,
          7,
          8,
          9,
          10,
          11,
          12,
          13,
          14,
          15,
          16,
          17,
          18,
          19,
          20,
          21,
          22,
          23,
          24,
          25,
          26,
          27,
          28,
          29,
          30,
          31,
          32,
          33,
          34,
          35,
          36,
          37,
          38,
          39,
          40
         ],
         "xaxis": "x6",
         "y": [
          0,
          0,
          0,
          0,
          0,
          0,
          0,
          0,
          0,
          0,
          0,
          0,
          0,
          0,
          0,
          0,
          0,
          0,
          0,
          0,
          0,
          8.06943565899292,
          29.7980982872168,
          72.4007503237162,
          146.52447497317,
          265.216507266861,
          441.12890346294,
          682.91655191002,
          991.804196195397,
          1359.60455727471,
          1769.56160026066,
          2199.44088434922,
          2626.15823195315,
          3029.32001921463,
          3393.879555829,
          3712.48600804271,
          3986.03116449576,
          4222.01057565807,
          4436.29514706774,
          4649.88492490605
         ],
         "yaxis": "y6"
        },
        {
         "line": {
          "color": "rgb(179,222,105)"
         },
         "mode": "lines+text",
         "name": "A07",
         "text": [
          "",
          "",
          "",
          "",
          "",
          "",
          "",
          "",
          "",
          "",
          "",
          "",
          "",
          "",
          "",
          "",
          "",
          "",
          "",
          "",
          "",
          "",
          "",
          "",
          "",
          "",
          "",
          "",
          "",
          "",
          "",
          "",
          "5903.3",
          "",
          "",
          "",
          "",
          "",
          "",
          ""
         ],
         "textfont": {
          "color": "black",
          "family": "sans serif",
          "size": 8
         },
         "textposition": "top left",
         "type": "scatter",
         "x": [
          1,
          2,
          3,
          4,
          5,
          6,
          7,
          8,
          9,
          10,
          11,
          12,
          13,
          14,
          15,
          16,
          17,
          18,
          19,
          20,
          21,
          22,
          23,
          24,
          25,
          26,
          27,
          28,
          29,
          30,
          31,
          32,
          33,
          34,
          35,
          36,
          37,
          38,
          39,
          40
         ],
         "xaxis": "x7",
         "y": [
          0,
          0,
          0,
          0,
          0,
          0,
          0,
          0,
          0,
          0,
          0,
          0,
          0,
          0,
          0,
          0,
          0,
          0,
          0,
          0,
          0,
          5.63192174122287,
          24.1107205781118,
          63.9944833427953,
          137.635384728955,
          260.303131383946,
          447.566795740208,
          711.439773027444,
          1056.53283991041,
          1477.56293456101,
          1959.53631816317,
          2480.41151458323,
          3015.83068942169,
          3542.1782392979,
          4042.69211787798,
          4497.60698844103,
          4901.99151712118,
          5252.34964809941,
          5577.84757506448,
          5903.34550202955
         ],
         "yaxis": "y7"
        },
        {
         "line": {
          "color": "rgb(252,205,229)"
         },
         "mode": "lines+text",
         "name": "A08",
         "text": [
          "",
          "",
          "",
          "",
          "",
          "",
          "",
          "",
          "",
          "",
          "",
          "",
          "",
          "",
          "",
          "",
          "",
          "",
          "",
          "",
          "",
          "",
          "",
          "",
          "",
          "",
          "",
          "",
          "",
          "",
          "",
          "",
          "5774.5",
          "",
          "",
          "",
          "",
          "",
          "",
          ""
         ],
         "textfont": {
          "color": "black",
          "family": "sans serif",
          "size": 8
         },
         "textposition": "top left",
         "type": "scatter",
         "x": [
          1,
          2,
          3,
          4,
          5,
          6,
          7,
          8,
          9,
          10,
          11,
          12,
          13,
          14,
          15,
          16,
          17,
          18,
          19,
          20,
          21,
          22,
          23,
          24,
          25,
          26,
          27,
          28,
          29,
          30,
          31,
          32,
          33,
          34,
          35,
          36,
          37,
          38,
          39,
          40
         ],
         "xaxis": "x8",
         "y": [
          0,
          0,
          0,
          0,
          0,
          0,
          0,
          0,
          0,
          0,
          0,
          0,
          0,
          0,
          0,
          0,
          0,
          0,
          0,
          0,
          0,
          6.83353452660867,
          27.3441556241096,
          69.6556324041976,
          145.537110034878,
          269.636959208122,
          457.050017596572,
          719.600544025163,
          1061.96596422356,
          1479.27896544798,
          1957.10558789195,
          2473.70694269911,
          3003.95713494594,
          3523.14142970363,
          4012.71134459963,
          4454.18426122444,
          4840.8398471919,
          5172.47247362533,
          5473.48870130008,
          5774.50492897483
         ],
         "yaxis": "y8"
        },
        {
         "line": {
          "color": "rgb(217,217,217)"
         },
         "mode": "lines+text",
         "name": "A09",
         "text": [
          "",
          "",
          "",
          "",
          "",
          "",
          "",
          "",
          "",
          "",
          "",
          "",
          "",
          "",
          "",
          "",
          "",
          "",
          "",
          "",
          "",
          "",
          "",
          "",
          "",
          "",
          "",
          "",
          "",
          "",
          "",
          "",
          "6601.2",
          "",
          "",
          "",
          "",
          "",
          "",
          ""
         ],
         "textfont": {
          "color": "black",
          "family": "sans serif",
          "size": 8
         },
         "textposition": "top left",
         "type": "scatter",
         "x": [
          1,
          2,
          3,
          4,
          5,
          6,
          7,
          8,
          9,
          10,
          11,
          12,
          13,
          14,
          15,
          16,
          17,
          18,
          19,
          20,
          21,
          22,
          23,
          24,
          25,
          26,
          27,
          28,
          29,
          30,
          31,
          32,
          33,
          34,
          35,
          36,
          37,
          38,
          39,
          40
         ],
         "xaxis": "x9",
         "y": [
          0,
          0,
          0,
          0,
          0,
          0,
          0,
          0,
          0,
          0,
          0,
          0,
          0,
          0,
          0,
          0,
          0,
          0,
          0,
          0,
          0,
          12.0439490823082,
          44.1162139575099,
          106.038899762929,
          211.903669021721,
          378.66963794033,
          622.594070544353,
          954.625588184414,
          1376.26877269272,
          1877.46327852256,
          2437.50127164868,
          3028.7136047362,
          3621.83620543693,
          4190.08248674143,
          4715.33923543274,
          5179.68721958361,
          5579.57376633623,
          5920.11859156365,
          6260.66341679107,
          6601.20824201849
         ],
         "yaxis": "y9"
        },
        {
         "line": {
          "color": "rgb(188,128,189)"
         },
         "mode": "lines+text",
         "name": "A10",
         "text": [
          "",
          "",
          "",
          "",
          "",
          "",
          "",
          "",
          "",
          "",
          "",
          "",
          "",
          "",
          "",
          "",
          "",
          "",
          "",
          "",
          "",
          "",
          "",
          "",
          "",
          "",
          "",
          "",
          "",
          "",
          "",
          "",
          "6727.8",
          "",
          "",
          "",
          "",
          "",
          "",
          ""
         ],
         "textfont": {
          "color": "black",
          "family": "sans serif",
          "size": 8
         },
         "textposition": "top left",
         "type": "scatter",
         "x": [
          1,
          2,
          3,
          4,
          5,
          6,
          7,
          8,
          9,
          10,
          11,
          12,
          13,
          14,
          15,
          16,
          17,
          18,
          19,
          20,
          21,
          22,
          23,
          24,
          25,
          26,
          27,
          28,
          29,
          30,
          31,
          32,
          33,
          34,
          35,
          36,
          37,
          38,
          39,
          40
         ],
         "xaxis": "x10",
         "y": [
          0,
          0,
          0,
          0,
          0,
          0,
          0,
          0,
          0,
          0,
          0,
          0,
          0,
          0,
          0,
          0,
          0,
          0,
          0,
          0,
          0,
          13.0373689211337,
          46.7639397972271,
          111.298438342526,
          221.382525447675,
          394.784097275853,
          648.371967003104,
          993.211414856818,
          1430.36809411175,
          1948.85918138498,
          2526.74475953861,
          3135.20587313078,
          3744.55739730998,
          4327.89866626505,
          4867.76317769676,
          5344.37651337122,
          5755.18996183199,
          6099.7506746148,
          6413.76222046533,
          6727.77376631585
         ],
         "yaxis": "y10"
        },
        {
         "line": {
          "color": "rgb(204,235,197)"
         },
         "mode": "lines+text",
         "name": "A11",
         "text": [
          "",
          "",
          "",
          "",
          "",
          "",
          "",
          "",
          "",
          "",
          "",
          "",
          "",
          "",
          "",
          "",
          "",
          "",
          "",
          "",
          "",
          "",
          "",
          "",
          "",
          "",
          "",
          "",
          "",
          "",
          "",
          "",
          "6106.1",
          "",
          "",
          "",
          "",
          "",
          "",
          ""
         ],
         "textfont": {
          "color": "black",
          "family": "sans serif",
          "size": 8
         },
         "textposition": "top left",
         "type": "scatter",
         "x": [
          1,
          2,
          3,
          4,
          5,
          6,
          7,
          8,
          9,
          10,
          11,
          12,
          13,
          14,
          15,
          16,
          17,
          18,
          19,
          20,
          21,
          22,
          23,
          24,
          25,
          26,
          27,
          28,
          29,
          30,
          31,
          32,
          33,
          34,
          35,
          36,
          37,
          38,
          39,
          40
         ],
         "xaxis": "x11",
         "y": [
          0,
          0,
          0,
          0,
          0,
          0,
          0,
          0,
          0,
          0,
          0,
          0,
          0,
          0,
          0,
          0,
          0,
          0,
          0,
          0,
          0,
          0,
          9.57300046728142,
          38.3372085662522,
          96.7177354587011,
          198.554359363955,
          359.521605897822,
          594.036403829011,
          911.508778614334,
          1312.73021256186,
          1788.39506612013,
          2319.94954641807,
          2882.46975327492,
          3448.28713887418,
          3994.43735136757,
          4495.58572853748,
          4940.18589517353,
          5328.82637867263,
          5717.46686217173,
          6106.10734567082
         ],
         "yaxis": "y11"
        },
        {
         "line": {
          "color": "rgb(255,237,111)"
         },
         "mode": "lines+text",
         "name": "A12",
         "text": [
          "",
          "",
          "",
          "",
          "",
          "",
          "",
          "",
          "",
          "",
          "",
          "",
          "",
          "",
          "",
          "",
          "",
          "",
          "",
          "",
          "",
          "",
          "",
          "",
          "",
          "",
          "",
          "",
          "",
          "",
          "",
          "",
          "6438.3",
          "",
          "",
          "",
          "",
          "",
          "",
          ""
         ],
         "textfont": {
          "color": "black",
          "family": "sans serif",
          "size": 8
         },
         "textposition": "top left",
         "type": "scatter",
         "x": [
          1,
          2,
          3,
          4,
          5,
          6,
          7,
          8,
          9,
          10,
          11,
          12,
          13,
          14,
          15,
          16,
          17,
          18,
          19,
          20,
          21,
          22,
          23,
          24,
          25,
          26,
          27,
          28,
          29,
          30,
          31,
          32,
          33,
          34,
          35,
          36,
          37,
          38,
          39,
          40
         ],
         "xaxis": "x12",
         "y": [
          0,
          0,
          0,
          0,
          0,
          0,
          0,
          0,
          0,
          0,
          0,
          0,
          0,
          0,
          0,
          0,
          0,
          0,
          0,
          0,
          0,
          12.073352698214,
          43.7262619804387,
          104.304398016418,
          207.390666802735,
          369.714796502584,
          607.73478460791,
          933.010855003063,
          1347.91406797315,
          1843.12640488024,
          2398.19278077256,
          2985.06296743856,
          3573.53368048234,
          4135.49329808914,
          4651.70807703637,
          5102.70623420346,
          5484.47295902173,
          5802.41456974601,
          6120.35618047029,
          6438.29779119457
         ],
         "yaxis": "y12"
        },
        {
         "line": {
          "color": "rgb(141,211,199)"
         },
         "mode": "lines+text",
         "name": "B01",
         "text": [
          "",
          "",
          "",
          "",
          "",
          "",
          "",
          "",
          "",
          "",
          "",
          "",
          "",
          "",
          "",
          "",
          "",
          "",
          "",
          "",
          "",
          "",
          "",
          "",
          "",
          "",
          "",
          "",
          "",
          "",
          "",
          "",
          "5909.8",
          "",
          "",
          "",
          "",
          "",
          "",
          ""
         ],
         "textfont": {
          "color": "black",
          "family": "sans serif",
          "size": 8
         },
         "textposition": "top left",
         "type": "scatter",
         "x": [
          1,
          2,
          3,
          4,
          5,
          6,
          7,
          8,
          9,
          10,
          11,
          12,
          13,
          14,
          15,
          16,
          17,
          18,
          19,
          20,
          21,
          22,
          23,
          24,
          25,
          26,
          27,
          28,
          29,
          30,
          31,
          32,
          33,
          34,
          35,
          36,
          37,
          38,
          39,
          40
         ],
         "xaxis": "x13",
         "y": [
          0,
          0,
          0,
          0,
          0,
          0,
          0,
          0,
          0,
          0,
          0,
          0,
          0,
          0,
          0,
          0,
          0,
          0,
          0,
          0,
          0,
          0,
          0,
          10.3081716473525,
          37.5869198809014,
          90.1139487381215,
          180.13839911396,
          323.201924096333,
          535.555503100145,
          830.206076770544,
          1213.02191419913,
          1679.54059160613,
          2213.74857865155,
          2789.91080276304,
          3377.0907257464,
          3947.05381604368,
          4482.99946869495,
          4977.16265713756,
          5444.13347109785,
          5909.75680070413
         ],
         "yaxis": "y13"
        },
        {
         "line": {
          "color": "rgb(255,255,179)"
         },
         "mode": "lines+text",
         "name": "B02",
         "text": [
          "",
          "",
          "",
          "",
          "",
          "",
          "",
          "",
          "",
          "",
          "",
          "",
          "",
          "",
          "",
          "",
          "",
          "",
          "",
          "",
          "",
          "",
          "",
          "",
          "",
          "",
          "",
          "",
          "",
          "",
          "",
          "",
          "0.0",
          "",
          "",
          "",
          "",
          "",
          "",
          ""
         ],
         "textfont": {
          "color": "black",
          "family": "sans serif",
          "size": 8
         },
         "textposition": "top left",
         "type": "scatter",
         "x": [
          1,
          2,
          3,
          4,
          5,
          6,
          7,
          8,
          9,
          10,
          11,
          12,
          13,
          14,
          15,
          16,
          17,
          18,
          19,
          20,
          21,
          22,
          23,
          24,
          25,
          26,
          27,
          28,
          29,
          30,
          31,
          32,
          33,
          34,
          35,
          36,
          37,
          38,
          39,
          40
         ],
         "xaxis": "x14",
         "y": [
          0,
          0,
          0,
          0,
          0,
          0,
          0,
          0,
          0,
          0,
          0,
          0,
          0,
          0,
          0,
          0,
          0,
          0,
          0,
          0,
          0,
          0,
          0,
          0,
          0,
          0,
          0,
          0,
          0,
          0,
          0,
          0,
          0,
          0,
          0,
          0,
          0,
          0,
          0,
          0
         ],
         "yaxis": "y14"
        },
        {
         "line": {
          "color": "rgb(190,186,218)"
         },
         "mode": "lines+text",
         "name": "B03",
         "text": [
          "",
          "",
          "",
          "",
          "",
          "",
          "",
          "",
          "",
          "",
          "",
          "",
          "",
          "",
          "",
          "",
          "",
          "",
          "",
          "",
          "",
          "",
          "",
          "",
          "",
          "",
          "",
          "",
          "",
          "",
          "",
          "",
          "7770.8",
          "",
          "",
          "",
          "",
          "",
          "",
          ""
         ],
         "textfont": {
          "color": "black",
          "family": "sans serif",
          "size": 8
         },
         "textposition": "top left",
         "type": "scatter",
         "x": [
          1,
          2,
          3,
          4,
          5,
          6,
          7,
          8,
          9,
          10,
          11,
          12,
          13,
          14,
          15,
          16,
          17,
          18,
          19,
          20,
          21,
          22,
          23,
          24,
          25,
          26,
          27,
          28,
          29,
          30,
          31,
          32,
          33,
          34,
          35,
          36,
          37,
          38,
          39,
          40
         ],
         "xaxis": "x15",
         "y": [
          0,
          0,
          0,
          0,
          0,
          0,
          0,
          0,
          0,
          0,
          0,
          0,
          0,
          0,
          0,
          0,
          0,
          0,
          0,
          0,
          0,
          6.99213738980779,
          30.8076592145062,
          82.8850507194311,
          179.3113529374,
          339.887981875973,
          584.79480252527,
          929.435932652364,
          1379.64360596428,
          1928.59704547524,
          2556.73228651657,
          3235.19660029028,
          3931.44121139908,
          4614.27233317187,
          5261.06164199603,
          5850.42978481374,
          6375.78021024301,
          6840.77686792552,
          7305.77352560804,
          7770.77018329056
         ],
         "yaxis": "y15"
        },
        {
         "line": {
          "color": "rgb(251,128,114)"
         },
         "mode": "lines+text",
         "name": "B04",
         "text": [
          "",
          "",
          "",
          "",
          "",
          "",
          "",
          "",
          "",
          "",
          "",
          "",
          "",
          "",
          "",
          "",
          "",
          "",
          "",
          "",
          "",
          "",
          "",
          "",
          "",
          "",
          "",
          "",
          "",
          "",
          "",
          "",
          "5756.9",
          "",
          "",
          "",
          "",
          "",
          "",
          ""
         ],
         "textfont": {
          "color": "black",
          "family": "sans serif",
          "size": 8
         },
         "textposition": "top left",
         "type": "scatter",
         "x": [
          1,
          2,
          3,
          4,
          5,
          6,
          7,
          8,
          9,
          10,
          11,
          12,
          13,
          14,
          15,
          16,
          17,
          18,
          19,
          20,
          21,
          22,
          23,
          24,
          25,
          26,
          27,
          28,
          29,
          30,
          31,
          32,
          33,
          34,
          35,
          36,
          37,
          38,
          39,
          40
         ],
         "xaxis": "x16",
         "y": [
          0,
          0,
          0,
          0,
          0,
          0,
          0,
          0,
          0,
          0,
          0,
          0,
          0,
          0,
          0,
          0,
          0,
          0,
          0,
          0,
          0,
          0,
          0,
          14.3974480132874,
          52.1206319472867,
          123.367712349334,
          241.645185954671,
          422.182910760523,
          678.599499985651,
          1018.73569025805,
          1441.29948337318,
          1934.27084138384,
          2476.04947069046,
          3038.72019320862,
          3596.23562029718,
          4119.21158485537,
          4590.91912732754,
          5003.32178868831,
          5380.10352725193,
          5756.88526581556
         ],
         "yaxis": "y16"
        },
        {
         "line": {
          "color": "rgb(128,177,211)"
         },
         "mode": "lines+text",
         "name": "B05",
         "text": [
          "",
          "",
          "",
          "",
          "",
          "",
          "",
          "",
          "",
          "",
          "",
          "",
          "",
          "",
          "",
          "",
          "",
          "",
          "",
          "",
          "",
          "",
          "",
          "",
          "",
          "",
          "",
          "",
          "",
          "",
          "",
          "",
          "7133.6",
          "",
          "",
          "",
          "",
          "",
          "",
          ""
         ],
         "textfont": {
          "color": "black",
          "family": "sans serif",
          "size": 8
         },
         "textposition": "top left",
         "type": "scatter",
         "x": [
          1,
          2,
          3,
          4,
          5,
          6,
          7,
          8,
          9,
          10,
          11,
          12,
          13,
          14,
          15,
          16,
          17,
          18,
          19,
          20,
          21,
          22,
          23,
          24,
          25,
          26,
          27,
          28,
          29,
          30,
          31,
          32,
          33,
          34,
          35,
          36,
          37,
          38,
          39,
          40
         ],
         "xaxis": "x17",
         "y": [
          0,
          0,
          0,
          0,
          0,
          0,
          0,
          0,
          0,
          0,
          0,
          0,
          0,
          0,
          0,
          0,
          0,
          0,
          0,
          0,
          6.22542890216391,
          27.0926199567684,
          72.6367594304083,
          157.440359131849,
          299.460228171019,
          516.997303428307,
          824.184701681768,
          1226.4113828829,
          1717.58575182652,
          2280.24814607147,
          2888.60477571693,
          3513.36344531013,
          4126.61555063508,
          4705.4905655582,
          5235.79820475077,
          5707.5045197471,
          6119.35229048326,
          6478.34986434424,
          6805.99271102718,
          7133.63555771012
         ],
         "yaxis": "y17"
        },
        {
         "line": {
          "color": "rgb(253,180,98)"
         },
         "mode": "lines+text",
         "name": "B06",
         "text": [
          "",
          "",
          "",
          "",
          "",
          "",
          "",
          "",
          "",
          "",
          "",
          "",
          "",
          "",
          "",
          "",
          "",
          "",
          "",
          "",
          "",
          "",
          "",
          "",
          "",
          "",
          "",
          "",
          "",
          "",
          "",
          "",
          "6795.7",
          "",
          "",
          "",
          "",
          "",
          "",
          ""
         ],
         "textfont": {
          "color": "black",
          "family": "sans serif",
          "size": 8
         },
         "textposition": "top left",
         "type": "scatter",
         "x": [
          1,
          2,
          3,
          4,
          5,
          6,
          7,
          8,
          9,
          10,
          11,
          12,
          13,
          14,
          15,
          16,
          17,
          18,
          19,
          20,
          21,
          22,
          23,
          24,
          25,
          26,
          27,
          28,
          29,
          30,
          31,
          32,
          33,
          34,
          35,
          36,
          37,
          38,
          39,
          40
         ],
         "xaxis": "x18",
         "y": [
          0,
          0,
          0,
          0,
          0,
          0,
          0,
          0,
          0,
          0,
          0,
          0,
          0,
          0,
          0,
          0,
          0,
          0,
          0,
          0,
          0,
          9.54922693605022,
          38.6630505118073,
          98.2775995313432,
          202.988442199367,
          369.603681220337,
          613.94517374145,
          946.52172359487,
          1368.69982916142,
          1870.95352247378,
          2433.79242980936,
          3031.17722173067,
          3635.52404492613,
          4221.48376524367,
          4771.56481505589,
          5268.31139860546,
          5707.5774263577,
          6089.86736899996,
          6442.79936333919,
          6795.73135767842
         ],
         "yaxis": "y18"
        },
        {
         "line": {
          "color": "rgb(179,222,105)"
         },
         "mode": "lines+text",
         "name": "B07",
         "text": [
          "",
          "",
          "",
          "",
          "",
          "",
          "",
          "",
          "",
          "",
          "",
          "",
          "",
          "",
          "",
          "",
          "",
          "",
          "",
          "",
          "",
          "",
          "",
          "",
          "",
          "",
          "",
          "",
          "",
          "",
          "",
          "",
          "8666.2",
          "",
          "",
          "",
          "",
          "",
          "",
          ""
         ],
         "textfont": {
          "color": "black",
          "family": "sans serif",
          "size": 8
         },
         "textposition": "top left",
         "type": "scatter",
         "x": [
          1,
          2,
          3,
          4,
          5,
          6,
          7,
          8,
          9,
          10,
          11,
          12,
          13,
          14,
          15,
          16,
          17,
          18,
          19,
          20,
          21,
          22,
          23,
          24,
          25,
          26,
          27,
          28,
          29,
          30,
          31,
          32,
          33,
          34,
          35,
          36,
          37,
          38,
          39,
          40
         ],
         "xaxis": "x19",
         "y": [
          0,
          0,
          0,
          0,
          0,
          0,
          0,
          0,
          0,
          0,
          0,
          0,
          0,
          0,
          0,
          0,
          0,
          0,
          0,
          0,
          6.98460912610426,
          31.4259761528829,
          85.6085649350525,
          187.201758587,
          357.867789056214,
          619.525794609515,
          988.713030405173,
          1471.02639602611,
          2058.05536202781,
          2727.71092443937,
          3448.15337971995,
          4184.25929482387,
          4904.06266069706,
          5583.37360149861,
          6208.24819592729,
          6774.99026947031,
          7289.15120189544,
          7762.75291400315,
          8214.5956966169,
          8666.22426196819
         ],
         "yaxis": "y19"
        },
        {
         "line": {
          "color": "rgb(252,205,229)"
         },
         "mode": "lines+text",
         "name": "B08",
         "text": [
          "",
          "",
          "",
          "",
          "",
          "",
          "",
          "",
          "",
          "",
          "",
          "",
          "",
          "",
          "",
          "",
          "",
          "",
          "",
          "",
          "",
          "",
          "",
          "",
          "",
          "",
          "",
          "",
          "",
          "",
          "",
          "",
          "8938.8",
          "",
          "",
          "",
          "",
          "",
          "",
          ""
         ],
         "textfont": {
          "color": "black",
          "family": "sans serif",
          "size": 8
         },
         "textposition": "top left",
         "type": "scatter",
         "x": [
          1,
          2,
          3,
          4,
          5,
          6,
          7,
          8,
          9,
          10,
          11,
          12,
          13,
          14,
          15,
          16,
          17,
          18,
          19,
          20,
          21,
          22,
          23,
          24,
          25,
          26,
          27,
          28,
          29,
          30,
          31,
          32,
          33,
          34,
          35,
          36,
          37,
          38,
          39,
          40
         ],
         "xaxis": "x20",
         "y": [
          0,
          0,
          0,
          0,
          0,
          0,
          0,
          0,
          0,
          0,
          0,
          0,
          0,
          0,
          0,
          0,
          0,
          0,
          0,
          0,
          10.1950259685336,
          41.2323831752701,
          105.891345518106,
          222.570108938656,
          413.62465979425,
          701.110137884807,
          1100.90333682434,
          1617.13279842252,
          2239.31445227695,
          2943.34007782833,
          3696.08143629543,
          4461.8128269369,
          5208.39318310952,
          5910.63261452996,
          6551.69493964301,
          7124.58703911673,
          7632.86228056772,
          8088.48959878999,
          8514.10820721648,
          8938.80166120149
         ],
         "yaxis": "y20"
        },
        {
         "line": {
          "color": "rgb(217,217,217)"
         },
         "mode": "lines+text",
         "name": "B09",
         "text": [
          "",
          "",
          "",
          "",
          "",
          "",
          "",
          "",
          "",
          "",
          "",
          "",
          "",
          "",
          "",
          "",
          "",
          "",
          "",
          "",
          "",
          "",
          "",
          "",
          "",
          "",
          "",
          "",
          "",
          "",
          "",
          "",
          "8738.5",
          "",
          "",
          "",
          "",
          "",
          "",
          ""
         ],
         "textfont": {
          "color": "black",
          "family": "sans serif",
          "size": 8
         },
         "textposition": "top left",
         "type": "scatter",
         "x": [
          1,
          2,
          3,
          4,
          5,
          6,
          7,
          8,
          9,
          10,
          11,
          12,
          13,
          14,
          15,
          16,
          17,
          18,
          19,
          20,
          21,
          22,
          23,
          24,
          25,
          26,
          27,
          28,
          29,
          30,
          31,
          32,
          33,
          34,
          35,
          36,
          37,
          38,
          39,
          40
         ],
         "xaxis": "x21",
         "y": [
          0,
          0,
          0,
          0,
          0,
          0,
          0,
          0,
          0,
          0,
          0,
          0,
          0,
          0,
          0,
          0,
          0,
          0,
          0,
          0,
          8.34257282487033,
          35.6931853332862,
          94.4284423207018,
          202.207660490228,
          380.588091006663,
          651.035287712924,
          1029.41378157623,
          1520.83081829074,
          2116.57745349209,
          2794.6580935602,
          3523.81773922882,
          4269.6372491185,
          5000.92977789409,
          5692.81871041659,
          6331.49019527868,
          6902.30368101635,
          7406.0801973534,
          7850.23459434595,
          8294.3889913385,
          8738.54338833104
         ],
         "yaxis": "y21"
        },
        {
         "line": {
          "color": "rgb(188,128,189)"
         },
         "mode": "lines+text",
         "name": "B10",
         "text": [
          "",
          "",
          "",
          "",
          "",
          "",
          "",
          "",
          "",
          "",
          "",
          "",
          "",
          "",
          "",
          "",
          "",
          "",
          "",
          "",
          "",
          "",
          "",
          "",
          "",
          "",
          "",
          "",
          "",
          "",
          "",
          "",
          "9652.7",
          "",
          "",
          "",
          "",
          "",
          "",
          ""
         ],
         "textfont": {
          "color": "black",
          "family": "sans serif",
          "size": 8
         },
         "textposition": "top left",
         "type": "scatter",
         "x": [
          1,
          2,
          3,
          4,
          5,
          6,
          7,
          8,
          9,
          10,
          11,
          12,
          13,
          14,
          15,
          16,
          17,
          18,
          19,
          20,
          21,
          22,
          23,
          24,
          25,
          26,
          27,
          28,
          29,
          30,
          31,
          32,
          33,
          34,
          35,
          36,
          37,
          38,
          39,
          40
         ],
         "xaxis": "x22",
         "y": [
          0,
          0,
          0,
          0,
          0,
          0,
          0,
          0,
          0,
          0,
          0,
          0,
          0,
          0,
          0,
          0,
          0,
          0,
          0,
          0,
          10.1076819840291,
          43.8792744849425,
          116.548814094932,
          248.948822897525,
          465.385726044532,
          788.871215378135,
          1234.88907551519,
          1805.84920717222,
          2488.46054544225,
          3255.32228815056,
          4070.03276630547,
          4894.23360822587,
          5694.47548156924,
          6445.43543542622,
          7133.91892985839,
          7747.94166673027,
          8289.84702086444,
          8765.78199057479,
          9209.25588312573,
          9652.72977567667
         ],
         "yaxis": "y22"
        },
        {
         "line": {
          "color": "rgb(204,235,197)"
         },
         "mode": "lines+text",
         "name": "B11",
         "text": [
          "",
          "",
          "",
          "",
          "",
          "",
          "",
          "",
          "",
          "",
          "",
          "",
          "",
          "",
          "",
          "",
          "",
          "",
          "",
          "",
          "",
          "",
          "",
          "",
          "",
          "",
          "",
          "",
          "",
          "",
          "",
          "",
          "10777.2",
          "",
          "",
          "",
          "",
          "",
          "",
          ""
         ],
         "textfont": {
          "color": "black",
          "family": "sans serif",
          "size": 8
         },
         "textposition": "top left",
         "type": "scatter",
         "x": [
          1,
          2,
          3,
          4,
          5,
          6,
          7,
          8,
          9,
          10,
          11,
          12,
          13,
          14,
          15,
          16,
          17,
          18,
          19,
          20,
          21,
          22,
          23,
          24,
          25,
          26,
          27,
          28,
          29,
          30,
          31,
          32,
          33,
          34,
          35,
          36,
          37,
          38,
          39,
          40
         ],
         "xaxis": "x23",
         "y": [
          0,
          0,
          0,
          0,
          0,
          0,
          0,
          0,
          0,
          0,
          0,
          0,
          0,
          0,
          0,
          0,
          0,
          0,
          0,
          0,
          9.36659575382873,
          41.5875172777269,
          112.570895641987,
          244.675062176676,
          464.950708839407,
          800.487205759016,
          1271.36277030036,
          1884.21056503459,
          2628.56683753435,
          3477.09146196426,
          4390.22103624069,
          5323.96860481402,
          6237.96805289549,
          7100.03592050171,
          7892.2968280414,
          8598.36441285944,
          9220.34448676636,
          9764.16111859755,
          10270.7044532112,
          10777.2477878249
         ],
         "yaxis": "y23"
        },
        {
         "line": {
          "color": "rgb(255,237,111)"
         },
         "mode": "lines+text",
         "name": "B12",
         "text": [
          "",
          "",
          "",
          "",
          "",
          "",
          "",
          "",
          "",
          "",
          "",
          "",
          "",
          "",
          "",
          "",
          "",
          "",
          "",
          "",
          "",
          "",
          "",
          "",
          "",
          "",
          "",
          "",
          "",
          "",
          "",
          "",
          "9573.9",
          "",
          "",
          "",
          "",
          "",
          "",
          ""
         ],
         "textfont": {
          "color": "black",
          "family": "sans serif",
          "size": 8
         },
         "textposition": "top left",
         "type": "scatter",
         "x": [
          1,
          2,
          3,
          4,
          5,
          6,
          7,
          8,
          9,
          10,
          11,
          12,
          13,
          14,
          15,
          16,
          17,
          18,
          19,
          20,
          21,
          22,
          23,
          24,
          25,
          26,
          27,
          28,
          29,
          30,
          31,
          32,
          33,
          34,
          35,
          36,
          37,
          38,
          39,
          40
         ],
         "xaxis": "x24",
         "y": [
          0,
          0,
          0,
          0,
          0,
          0,
          0,
          0,
          0,
          0,
          0,
          0,
          0,
          0,
          0,
          0,
          0,
          0,
          0,
          0,
          10.9511192506588,
          45.8030848387298,
          119.852115654068,
          254.515219737696,
          475.040411548808,
          805.230322149655,
          1260.82838558282,
          1843.83603136105,
          2539.88106965975,
          3320.01479941001,
          4146.42481999287,
          4979.59356218904,
          5784.6336806649,
          6534.72000071825,
          7214.89478989236,
          7812.58066970776,
          8328.2819703889,
          8770.42690050458,
          9172.15337246047,
          9573.87984441635
         ],
         "yaxis": "y24"
        },
        {
         "line": {
          "color": "rgb(141,211,199)"
         },
         "mode": "lines+text",
         "name": "C01",
         "text": [
          "",
          "",
          "",
          "",
          "",
          "",
          "",
          "",
          "",
          "",
          "",
          "",
          "",
          "",
          "",
          "",
          "",
          "",
          "",
          "",
          "",
          "",
          "",
          "",
          "",
          "",
          "",
          "",
          "",
          "",
          "",
          "",
          "8833.2",
          "",
          "",
          "",
          "",
          "",
          "",
          ""
         ],
         "textfont": {
          "color": "black",
          "family": "sans serif",
          "size": 8
         },
         "textposition": "top left",
         "type": "scatter",
         "x": [
          1,
          2,
          3,
          4,
          5,
          6,
          7,
          8,
          9,
          10,
          11,
          12,
          13,
          14,
          15,
          16,
          17,
          18,
          19,
          20,
          21,
          22,
          23,
          24,
          25,
          26,
          27,
          28,
          29,
          30,
          31,
          32,
          33,
          34,
          35,
          36,
          37,
          38,
          39,
          40
         ],
         "xaxis": "x25",
         "y": [
          0,
          0,
          0,
          0,
          0,
          0,
          0,
          0,
          0,
          0,
          0,
          0,
          0,
          0,
          0,
          0,
          0,
          0,
          0,
          0,
          0,
          0,
          15.1417050686487,
          55.2386992965121,
          132.76644070298,
          265.717101975344,
          476.021466524504,
          785.184452007281,
          1208.27257745816,
          1748.80624779557,
          2396.30348109624,
          3127.14347968774,
          3908.9000659242,
          4706.57476697342,
          5488.64876815354,
          6232.90653679518,
          6930.75338535469,
          7583.06447891019,
          8208.55143395096,
          8833.21152928254
         ],
         "yaxis": "y25"
        },
        {
         "line": {
          "color": "rgb(255,255,179)"
         },
         "mode": "lines+text",
         "name": "C02",
         "text": [
          "",
          "",
          "",
          "",
          "",
          "",
          "",
          "",
          "",
          "",
          "",
          "",
          "",
          "",
          "",
          "",
          "",
          "",
          "",
          "",
          "",
          "",
          "",
          "",
          "",
          "",
          "",
          "",
          "",
          "",
          "",
          "",
          "1370.1",
          "",
          "",
          "",
          "",
          "",
          "",
          ""
         ],
         "textfont": {
          "color": "black",
          "family": "sans serif",
          "size": 8
         },
         "textposition": "top left",
         "type": "scatter",
         "x": [
          1,
          2,
          3,
          4,
          5,
          6,
          7,
          8,
          9,
          10,
          11,
          12,
          13,
          14,
          15,
          16,
          17,
          18,
          19,
          20,
          21,
          22,
          23,
          24,
          25,
          26,
          27,
          28,
          29,
          30,
          31,
          32,
          33,
          34,
          35,
          36,
          37,
          38,
          39,
          40
         ],
         "xaxis": "x26",
         "y": [
          0,
          0,
          0,
          0,
          0,
          0,
          0,
          0,
          0,
          0,
          0,
          0,
          0,
          0,
          0,
          0,
          0,
          0,
          0,
          0,
          0,
          0,
          0,
          0,
          0,
          0,
          0,
          0,
          6.10422156400364,
          21.2349848449339,
          48.6444040787464,
          92.6840287367359,
          158.664980139778,
          251.979177171961,
          376.846688941482,
          534.944348510089,
          723.804896305645,
          939.248495138748,
          1154.69209397185,
          1370.13569280495
         ],
         "yaxis": "y26"
        },
        {
         "line": {
          "color": "rgb(190,186,218)"
         },
         "mode": "lines+text",
         "name": "C03",
         "text": [
          "",
          "",
          "",
          "",
          "",
          "",
          "",
          "",
          "",
          "",
          "",
          "",
          "",
          "",
          "",
          "",
          "",
          "",
          "",
          "",
          "",
          "",
          "",
          "",
          "",
          "",
          "",
          "",
          "",
          "",
          "",
          "",
          "10994.8",
          "",
          "",
          "",
          "",
          "",
          "",
          ""
         ],
         "textfont": {
          "color": "black",
          "family": "sans serif",
          "size": 8
         },
         "textposition": "top left",
         "type": "scatter",
         "x": [
          1,
          2,
          3,
          4,
          5,
          6,
          7,
          8,
          9,
          10,
          11,
          12,
          13,
          14,
          15,
          16,
          17,
          18,
          19,
          20,
          21,
          22,
          23,
          24,
          25,
          26,
          27,
          28,
          29,
          30,
          31,
          32,
          33,
          34,
          35,
          36,
          37,
          38,
          39,
          40
         ],
         "xaxis": "x27",
         "y": [
          0,
          0,
          0,
          0,
          0,
          0,
          0,
          0,
          0,
          0,
          0,
          0,
          0,
          0,
          0,
          0,
          0,
          0,
          0,
          0,
          0,
          14.4801519856319,
          60.0053467971338,
          154.703942885152,
          322.626099517384,
          591.350369067749,
          986.285715043598,
          1523.38799903518,
          2203.41852914764,
          3009.67425895828,
          3910.31151106939,
          4864.27523793264,
          5827.84847127009,
          6761.40927174077,
          7636.21317495677,
          8430.7595794444,
          9135.43896146076,
          9755.23295743361,
          10375.0269534065,
          10994.8209493793
         ],
         "yaxis": "y27"
        },
        {
         "line": {
          "color": "rgb(251,128,114)"
         },
         "mode": "lines+text",
         "name": "C04",
         "text": [
          "",
          "",
          "",
          "",
          "",
          "",
          "",
          "",
          "",
          "",
          "",
          "",
          "",
          "",
          "",
          "",
          "",
          "",
          "",
          "",
          "",
          "",
          "",
          "",
          "",
          "",
          "",
          "",
          "",
          "",
          "",
          "",
          "6712.1",
          "",
          "",
          "",
          "",
          "",
          "",
          ""
         ],
         "textfont": {
          "color": "black",
          "family": "sans serif",
          "size": 8
         },
         "textposition": "top left",
         "type": "scatter",
         "x": [
          1,
          2,
          3,
          4,
          5,
          6,
          7,
          8,
          9,
          10,
          11,
          12,
          13,
          14,
          15,
          16,
          17,
          18,
          19,
          20,
          21,
          22,
          23,
          24,
          25,
          26,
          27,
          28,
          29,
          30,
          31,
          32,
          33,
          34,
          35,
          36,
          37,
          38,
          39,
          40
         ],
         "xaxis": "x28",
         "y": [
          0,
          0,
          0,
          0,
          0,
          0,
          0,
          0,
          0,
          0,
          0,
          0,
          0,
          0,
          0,
          0,
          0,
          0,
          0,
          0,
          0,
          0,
          0,
          11.2320907158673,
          43.4119191291657,
          107.072591859903,
          216.440154547688,
          388.384247357812,
          639.5229146785,
          982.353231212333,
          1421.48951680406,
          1950.81440514294,
          2552.44893173713,
          3198.72817618507,
          3860.13421353787,
          4500.37523134253,
          5093.72370923898,
          5633.18958026076,
          6172.65545128254,
          6712.12132230432
         ],
         "yaxis": "y28"
        },
        {
         "line": {
          "color": "rgb(128,177,211)"
         },
         "mode": "lines+text",
         "name": "C05",
         "text": [
          "",
          "",
          "",
          "",
          "",
          "",
          "",
          "",
          "",
          "",
          "",
          "",
          "",
          "",
          "",
          "",
          "",
          "",
          "",
          "",
          "",
          "",
          "",
          "",
          "",
          "",
          "",
          "",
          "",
          "",
          "",
          "",
          "10862.7",
          "",
          "",
          "",
          "",
          "",
          "",
          ""
         ],
         "textfont": {
          "color": "black",
          "family": "sans serif",
          "size": 8
         },
         "textposition": "top left",
         "type": "scatter",
         "x": [
          1,
          2,
          3,
          4,
          5,
          6,
          7,
          8,
          9,
          10,
          11,
          12,
          13,
          14,
          15,
          16,
          17,
          18,
          19,
          20,
          21,
          22,
          23,
          24,
          25,
          26,
          27,
          28,
          29,
          30,
          31,
          32,
          33,
          34,
          35,
          36,
          37,
          38,
          39,
          40
         ],
         "xaxis": "x29",
         "y": [
          0,
          0,
          0,
          0,
          0,
          0,
          0,
          0,
          0,
          0,
          0,
          0,
          0,
          0,
          0,
          0,
          0,
          0,
          0,
          0,
          11.5579537757221,
          48.6958918885675,
          127.674603302437,
          271.047690786942,
          505.107214502908,
          854.536699330144,
          1335.70425843201,
          1950.79364247432,
          2685.40027176752,
          3510.70236390502,
          4389.1713706288,
          5282.10888038431,
          6156.71763293466,
          6988.98614036171,
          7766.92417895495,
          8480.10970478413,
          9131.46950384941,
          9726.24658272333,
          10294.44962216,
          10862.6526615967
         ],
         "yaxis": "y29"
        },
        {
         "line": {
          "color": "rgb(253,180,98)"
         },
         "mode": "lines+text",
         "name": "C06",
         "text": [
          "",
          "",
          "",
          "",
          "",
          "",
          "",
          "",
          "",
          "",
          "",
          "",
          "",
          "",
          "",
          "",
          "",
          "",
          "",
          "",
          "",
          "",
          "",
          "",
          "",
          "",
          "",
          "",
          "",
          "",
          "",
          "",
          "9922.4",
          "",
          "",
          "",
          "",
          "",
          "",
          ""
         ],
         "textfont": {
          "color": "black",
          "family": "sans serif",
          "size": 8
         },
         "textposition": "top left",
         "type": "scatter",
         "x": [
          1,
          2,
          3,
          4,
          5,
          6,
          7,
          8,
          9,
          10,
          11,
          12,
          13,
          14,
          15,
          16,
          17,
          18,
          19,
          20,
          21,
          22,
          23,
          24,
          25,
          26,
          27,
          28,
          29,
          30,
          31,
          32,
          33,
          34,
          35,
          36,
          37,
          38,
          39,
          40
         ],
         "xaxis": "x30",
         "y": [
          0,
          0,
          0,
          0,
          0,
          0,
          0,
          0,
          0,
          0,
          0,
          0,
          0,
          0,
          0,
          0,
          0,
          0,
          0,
          0,
          0,
          13.6355731657268,
          56.5130295053877,
          145.685692252693,
          303.452181545886,
          554.558015322013,
          920.767923969109,
          1414.67345268923,
          2034.85537838918,
          2764.31551720898,
          3573.06912904685,
          4423.85320726908,
          5278.9539188124,
          6105.55505390537,
          6879.24198320758,
          7587.04997536298,
          8229.0482953358,
          8815.17499375774,
          9369.27903425127,
          9922.4126621192
         ],
         "yaxis": "y30"
        },
        {
         "line": {
          "color": "rgb(179,222,105)"
         },
         "mode": "lines+text",
         "name": "C07",
         "text": [
          "",
          "",
          "",
          "",
          "",
          "",
          "",
          "",
          "",
          "",
          "",
          "",
          "",
          "",
          "",
          "",
          "",
          "",
          "",
          "",
          "",
          "",
          "",
          "",
          "",
          "",
          "",
          "",
          "",
          "",
          "",
          "",
          "13537.6",
          "",
          "",
          "",
          "",
          "",
          "",
          ""
         ],
         "textfont": {
          "color": "black",
          "family": "sans serif",
          "size": 8
         },
         "textposition": "top left",
         "type": "scatter",
         "x": [
          1,
          2,
          3,
          4,
          5,
          6,
          7,
          8,
          9,
          10,
          11,
          12,
          13,
          14,
          15,
          16,
          17,
          18,
          19,
          20,
          21,
          22,
          23,
          24,
          25,
          26,
          27,
          28,
          29,
          30,
          31,
          32,
          33,
          34,
          35,
          36,
          37,
          38,
          39,
          40
         ],
         "xaxis": "x31",
         "y": [
          0,
          0,
          0,
          0,
          0,
          0,
          0,
          0,
          0,
          0,
          0,
          0,
          0,
          0,
          0,
          0,
          0,
          0,
          0,
          0,
          10.9026936595246,
          51.4774659604927,
          142.964202008543,
          314.410216737934,
          599.576994382576,
          1030.24513822504,
          1627.33044275565,
          2393.44918485154,
          3310.01490174487,
          4339.77839761763,
          5434.40983614585,
          6544.52579485468,
          7628.11257848805,
          8655.72792793008,
          9612.90034677722,
          10496.1707678439,
          11311.4210540705,
          12073.8653902613,
          12805.7474199994,
          13537.6294497375
         ],
         "yaxis": "y31"
        },
        {
         "line": {
          "color": "rgb(252,205,229)"
         },
         "mode": "lines+text",
         "name": "C08",
         "text": [
          "",
          "",
          "",
          "",
          "",
          "",
          "",
          "",
          "",
          "",
          "",
          "",
          "",
          "",
          "",
          "",
          "",
          "",
          "",
          "",
          "",
          "",
          "",
          "",
          "",
          "",
          "",
          "",
          "",
          "",
          "",
          "",
          "13005.5",
          "",
          "",
          "",
          "",
          "",
          "",
          ""
         ],
         "textfont": {
          "color": "black",
          "family": "sans serif",
          "size": 8
         },
         "textposition": "top left",
         "type": "scatter",
         "x": [
          1,
          2,
          3,
          4,
          5,
          6,
          7,
          8,
          9,
          10,
          11,
          12,
          13,
          14,
          15,
          16,
          17,
          18,
          19,
          20,
          21,
          22,
          23,
          24,
          25,
          26,
          27,
          28,
          29,
          30,
          31,
          32,
          33,
          34,
          35,
          36,
          37,
          38,
          39,
          40
         ],
         "xaxis": "x32",
         "y": [
          0,
          0,
          0,
          0,
          0,
          0,
          0,
          0,
          0,
          0,
          0,
          0,
          0,
          0,
          0,
          0,
          0,
          0,
          0,
          0,
          13.4755604918673,
          58.0156567490558,
          153.487466932095,
          326.994863204851,
          610.083436952384,
          1032.11035033284,
          1611.92799915736,
          2351.11684440434,
          3231.45688242419,
          4217.84350387092,
          5265.34913147527,
          6328.16921613009,
          7367.02869464189,
          8353.73898575982,
          9273.60789054941,
          10121.2712446326,
          10900.2626193157,
          11624.0381976323,
          12314.7863274283,
          13005.5344572244
         ],
         "yaxis": "y32"
        },
        {
         "line": {
          "color": "rgb(217,217,217)"
         },
         "mode": "lines+text",
         "name": "C09",
         "text": [
          "",
          "",
          "",
          "",
          "",
          "",
          "",
          "",
          "",
          "",
          "",
          "",
          "",
          "",
          "",
          "",
          "",
          "",
          "",
          "",
          "",
          "",
          "",
          "",
          "",
          "",
          "",
          "",
          "",
          "",
          "",
          "",
          "12598.5",
          "",
          "",
          "",
          "",
          "",
          "",
          ""
         ],
         "textfont": {
          "color": "black",
          "family": "sans serif",
          "size": 8
         },
         "textposition": "top left",
         "type": "scatter",
         "x": [
          1,
          2,
          3,
          4,
          5,
          6,
          7,
          8,
          9,
          10,
          11,
          12,
          13,
          14,
          15,
          16,
          17,
          18,
          19,
          20,
          21,
          22,
          23,
          24,
          25,
          26,
          27,
          28,
          29,
          30,
          31,
          32,
          33,
          34,
          35,
          36,
          37,
          38,
          39,
          40
         ],
         "xaxis": "x33",
         "y": [
          0,
          0,
          0,
          0,
          0,
          0,
          0,
          0,
          0,
          0,
          0,
          0,
          0,
          0,
          0,
          0,
          0,
          0,
          0,
          0,
          13.5509088847011,
          57.1442695254182,
          150.010876462755,
          318.922602068325,
          595.236598939382,
          1008.30341320559,
          1577.16371046683,
          2303.71505476989,
          3169.94693175389,
          4140.78233611138,
          5171.37814124657,
          6216.33787916611,
          7237.89051122956,
          8208.1160040463,
          9113.44199389526,
          9936.02429736497,
          10678.0925244001,
          11340.9128438307,
          11969.6946294,
          12598.4764149693
         ],
         "yaxis": "y33"
        },
        {
         "line": {
          "color": "rgb(188,128,189)"
         },
         "mode": "lines+text",
         "name": "C10",
         "text": [
          "",
          "",
          "",
          "",
          "",
          "",
          "",
          "",
          "",
          "",
          "",
          "",
          "",
          "",
          "",
          "",
          "",
          "",
          "",
          "",
          "",
          "",
          "",
          "",
          "",
          "",
          "",
          "",
          "",
          "",
          "",
          "",
          "13773.1",
          "",
          "",
          "",
          "",
          "",
          "",
          ""
         ],
         "textfont": {
          "color": "black",
          "family": "sans serif",
          "size": 8
         },
         "textposition": "top left",
         "type": "scatter",
         "x": [
          1,
          2,
          3,
          4,
          5,
          6,
          7,
          8,
          9,
          10,
          11,
          12,
          13,
          14,
          15,
          16,
          17,
          18,
          19,
          20,
          21,
          22,
          23,
          24,
          25,
          26,
          27,
          28,
          29,
          30,
          31,
          32,
          33,
          34,
          35,
          36,
          37,
          38,
          39,
          40
         ],
         "xaxis": "x34",
         "y": [
          0,
          0,
          0,
          0,
          0,
          0,
          0,
          0,
          0,
          0,
          0,
          0,
          0,
          0,
          0,
          0,
          0,
          0,
          0,
          0,
          13.7062872793585,
          60.4197508374191,
          162.308664205657,
          349.715705859178,
          657.525971136191,
          1117.57720573012,
          1749.569714975,
          2553.87232849833,
          3509.0116639155,
          4575.18181574569,
          5702.57280727328,
          6841.333400791,
          7950.19823352056,
          8999.50529672551,
          9975.02123023597,
          10862.9936314486,
          11666.9943921753,
          12393.5613630404,
          13083.3103203284,
          13773.0592776164
         ],
         "yaxis": "y34"
        },
        {
         "line": {
          "color": "rgb(204,235,197)"
         },
         "mode": "lines+text",
         "name": "C11",
         "text": [
          "",
          "",
          "",
          "",
          "",
          "",
          "",
          "",
          "",
          "",
          "",
          "",
          "",
          "",
          "",
          "",
          "",
          "",
          "",
          "",
          "",
          "",
          "",
          "",
          "",
          "",
          "",
          "",
          "",
          "",
          "",
          "",
          "14708.1",
          "",
          "",
          "",
          "",
          "",
          "",
          ""
         ],
         "textfont": {
          "color": "black",
          "family": "sans serif",
          "size": 8
         },
         "textposition": "top left",
         "type": "scatter",
         "x": [
          1,
          2,
          3,
          4,
          5,
          6,
          7,
          8,
          9,
          10,
          11,
          12,
          13,
          14,
          15,
          16,
          17,
          18,
          19,
          20,
          21,
          22,
          23,
          24,
          25,
          26,
          27,
          28,
          29,
          30,
          31,
          32,
          33,
          34,
          35,
          36,
          37,
          38,
          39,
          40
         ],
         "xaxis": "x35",
         "y": [
          0,
          0,
          0,
          0,
          0,
          0,
          0,
          0,
          0,
          0,
          0,
          0,
          0,
          0,
          0,
          0,
          0,
          0,
          0,
          0,
          14.8271478751349,
          63.4224772934003,
          168.030913899257,
          359.896139853669,
          675.88030818046,
          1150.93658060367,
          1808.48227602385,
          2652.09357683307,
          3662.0544923604,
          4798.28738182763,
          6008.62272534786,
          7239.04083507,
          8442.01829417765,
          9581.73172669832,
          10637.7933670315,
          11597.747605702,
          12461.8039699702,
          13243.5483105151,
          13975.8010733398,
          14708.0538361644
         ],
         "yaxis": "y35"
        },
        {
         "line": {
          "color": "rgb(255,237,111)"
         },
         "mode": "lines+text",
         "name": "C12",
         "text": [
          "",
          "",
          "",
          "",
          "",
          "",
          "",
          "",
          "",
          "",
          "",
          "",
          "",
          "",
          "",
          "",
          "",
          "",
          "",
          "",
          "",
          "",
          "",
          "",
          "",
          "",
          "",
          "",
          "",
          "",
          "",
          "",
          "14992.6",
          "",
          "",
          "",
          "",
          "",
          "",
          ""
         ],
         "textfont": {
          "color": "black",
          "family": "sans serif",
          "size": 8
         },
         "textposition": "top left",
         "type": "scatter",
         "x": [
          1,
          2,
          3,
          4,
          5,
          6,
          7,
          8,
          9,
          10,
          11,
          12,
          13,
          14,
          15,
          16,
          17,
          18,
          19,
          20,
          21,
          22,
          23,
          24,
          25,
          26,
          27,
          28,
          29,
          30,
          31,
          32,
          33,
          34,
          35,
          36,
          37,
          38,
          39,
          40
         ],
         "xaxis": "x36",
         "y": [
          0,
          0,
          0,
          0,
          0,
          0,
          0,
          0,
          0,
          0,
          0,
          0,
          0,
          0,
          0,
          0,
          0,
          0,
          0,
          0,
          20.1535845522749,
          78.6990077160335,
          197.771771258668,
          408.388948632763,
          746.459717172463,
          1244.73335402958,
          1923.29762099142,
          2781.92993753175,
          3797.80872864171,
          4929.64178738401,
          6126.36125394158,
          7337.42156337847,
          8521.42966091439,
          9649.20789172972,
          10706.8658796934,
          11682.4809061339,
          12580.0520776497,
          13406.8226646825,
          14199.7166182907,
          14992.610571899
         ],
         "yaxis": "y36"
        },
        {
         "line": {
          "color": "rgb(141,211,199)"
         },
         "mode": "lines+text",
         "name": "D01",
         "text": [
          "",
          "",
          "",
          "",
          "",
          "",
          "",
          "",
          "",
          "",
          "",
          "",
          "",
          "",
          "",
          "",
          "",
          "",
          "",
          "",
          "",
          "",
          "",
          "",
          "",
          "",
          "",
          "",
          "",
          "",
          "",
          "",
          "11016.6",
          "",
          "",
          "",
          "",
          "",
          "",
          ""
         ],
         "textfont": {
          "color": "black",
          "family": "sans serif",
          "size": 8
         },
         "textposition": "top left",
         "type": "scatter",
         "x": [
          1,
          2,
          3,
          4,
          5,
          6,
          7,
          8,
          9,
          10,
          11,
          12,
          13,
          14,
          15,
          16,
          17,
          18,
          19,
          20,
          21,
          22,
          23,
          24,
          25,
          26,
          27,
          28,
          29,
          30,
          31,
          32,
          33,
          34,
          35,
          36,
          37,
          38,
          39,
          40
         ],
         "xaxis": "x37",
         "y": [
          0,
          0,
          0,
          0,
          0,
          0,
          0,
          0,
          0,
          0,
          0,
          0,
          0,
          0,
          0,
          0,
          0,
          0,
          0,
          0,
          0,
          0,
          21.4056856047446,
          80.180509156361,
          194.08344530088,
          386.436349985188,
          683.164365210281,
          1107.11250137154,
          1671.58960627207,
          2375.30811916204,
          3200.95443188472,
          4117.79208737393,
          5088.00552618809,
          6071.86608453844,
          7038.05452098484,
          7950.39454145897,
          8794.80915344274,
          9560.83578444935,
          10288.7274933539,
          11016.6192022585
         ],
         "yaxis": "y37"
        },
        {
         "line": {
          "color": "rgb(255,255,179)"
         },
         "mode": "lines+text",
         "name": "D02",
         "text": [
          "",
          "",
          "",
          "",
          "",
          "",
          "",
          "",
          "",
          "",
          "",
          "",
          "",
          "",
          "",
          "",
          "",
          "",
          "",
          "",
          "",
          "",
          "",
          "",
          "",
          "",
          "",
          "",
          "",
          "",
          "",
          "",
          "1360.7",
          "",
          "",
          "",
          "",
          "",
          "",
          ""
         ],
         "textfont": {
          "color": "black",
          "family": "sans serif",
          "size": 8
         },
         "textposition": "top left",
         "type": "scatter",
         "x": [
          1,
          2,
          3,
          4,
          5,
          6,
          7,
          8,
          9,
          10,
          11,
          12,
          13,
          14,
          15,
          16,
          17,
          18,
          19,
          20,
          21,
          22,
          23,
          24,
          25,
          26,
          27,
          28,
          29,
          30,
          31,
          32,
          33,
          34,
          35,
          36,
          37,
          38,
          39,
          40
         ],
         "xaxis": "x38",
         "y": [
          0,
          0,
          0,
          0,
          0,
          0,
          0,
          0,
          0,
          0,
          0,
          0,
          0,
          0,
          0,
          0,
          0,
          0,
          0,
          0,
          0,
          0,
          0,
          0,
          0,
          0,
          0,
          0,
          5.38761777357558,
          19.2233917991834,
          44.6428878086699,
          85.9329663822518,
          148.573723776178,
          238.410824308619,
          360.449573438779,
          517.222698206215,
          706.69212447098,
          924.704165664742,
          1142.7162068585,
          1360.72824805227
         ],
         "yaxis": "y38"
        },
        {
         "line": {
          "color": "rgb(190,186,218)"
         },
         "mode": "lines+text",
         "name": "D03",
         "text": [
          "",
          "",
          "",
          "",
          "",
          "",
          "",
          "",
          "",
          "",
          "",
          "",
          "",
          "",
          "",
          "",
          "",
          "",
          "",
          "",
          "",
          "",
          "",
          "",
          "",
          "",
          "",
          "",
          "",
          "",
          "",
          "",
          "13463.7",
          "",
          "",
          "",
          "",
          "",
          "",
          ""
         ],
         "textfont": {
          "color": "black",
          "family": "sans serif",
          "size": 8
         },
         "textposition": "top left",
         "type": "scatter",
         "x": [
          1,
          2,
          3,
          4,
          5,
          6,
          7,
          8,
          9,
          10,
          11,
          12,
          13,
          14,
          15,
          16,
          17,
          18,
          19,
          20,
          21,
          22,
          23,
          24,
          25,
          26,
          27,
          28,
          29,
          30,
          31,
          32,
          33,
          34,
          35,
          36,
          37,
          38,
          39,
          40
         ],
         "xaxis": "x39",
         "y": [
          0,
          0,
          0,
          0,
          0,
          0,
          0,
          0,
          0,
          0,
          0,
          0,
          0,
          0,
          0,
          0,
          0,
          0,
          0,
          0,
          14.1726905422574,
          57.4908852008566,
          148.254489680254,
          312.394660828749,
          580.875711206348,
          983.582648409067,
          1541.36762779407,
          2259.28764349868,
          3123.54897434438,
          4103.26018691825,
          5156.39779474814,
          6238.40573776157,
          7309.83432823303,
          8341.4818349055,
          9317.51651524583,
          10231.6353854405,
          11087.6539364079,
          11896.8405100545,
          12680.2558809116,
          13463.6712517687
         ],
         "yaxis": "y39"
        },
        {
         "line": {
          "color": "rgb(251,128,114)"
         },
         "mode": "lines+text",
         "name": "D04",
         "text": [
          "",
          "",
          "",
          "",
          "",
          "",
          "",
          "",
          "",
          "",
          "",
          "",
          "",
          "",
          "",
          "",
          "",
          "",
          "",
          "",
          "",
          "",
          "",
          "",
          "",
          "",
          "",
          "",
          "",
          "",
          "",
          "",
          "8583.1",
          "",
          "",
          "",
          "",
          "",
          "",
          ""
         ],
         "textfont": {
          "color": "black",
          "family": "sans serif",
          "size": 8
         },
         "textposition": "top left",
         "type": "scatter",
         "x": [
          1,
          2,
          3,
          4,
          5,
          6,
          7,
          8,
          9,
          10,
          11,
          12,
          13,
          14,
          15,
          16,
          17,
          18,
          19,
          20,
          21,
          22,
          23,
          24,
          25,
          26,
          27,
          28,
          29,
          30,
          31,
          32,
          33,
          34,
          35,
          36,
          37,
          38,
          39,
          40
         ],
         "xaxis": "x40",
         "y": [
          0,
          0,
          0,
          0,
          0,
          0,
          0,
          0,
          0,
          0,
          0,
          0,
          0,
          0,
          0,
          0,
          0,
          0,
          0,
          0,
          0,
          0,
          0,
          16.2346370435389,
          61.9523550214471,
          151.339646263055,
          302.971490000715,
          537.929514235249,
          875.822409386997,
          1329.73733247248,
          1901.90367620007,
          2581.25748404699,
          3343.91396913225,
          4155.89726342983,
          4983.26886768896,
          5783.17309725432,
          6528.84688856131,
          7213.5907828633,
          7898.33467716529,
          8583.07857146728
         ],
         "yaxis": "y40"
        },
        {
         "line": {
          "color": "rgb(128,177,211)"
         },
         "mode": "lines+text",
         "name": "D05",
         "text": [
          "",
          "",
          "",
          "",
          "",
          "",
          "",
          "",
          "",
          "",
          "",
          "",
          "",
          "",
          "",
          "",
          "",
          "",
          "",
          "",
          "",
          "",
          "",
          "",
          "",
          "",
          "",
          "",
          "",
          "",
          "",
          "",
          "11325.7",
          "",
          "",
          "",
          "",
          "",
          "",
          ""
         ],
         "textfont": {
          "color": "black",
          "family": "sans serif",
          "size": 8
         },
         "textposition": "top left",
         "type": "scatter",
         "x": [
          1,
          2,
          3,
          4,
          5,
          6,
          7,
          8,
          9,
          10,
          11,
          12,
          13,
          14,
          15,
          16,
          17,
          18,
          19,
          20,
          21,
          22,
          23,
          24,
          25,
          26,
          27,
          28,
          29,
          30,
          31,
          32,
          33,
          34,
          35,
          36,
          37,
          38,
          39,
          40
         ],
         "xaxis": "x41",
         "y": [
          0,
          0,
          0,
          0,
          0,
          0,
          0,
          0,
          0,
          0,
          0,
          0,
          0,
          0,
          0,
          0,
          0,
          0,
          0,
          0,
          9.5266785159838,
          43.2244282639549,
          117.932466085392,
          257.100423059243,
          488.448282388961,
          838.688543970651,
          1326.30032816035,
          1955.26733552276,
          2712.18426853893,
          3567.94499756671,
          4483.60037838816,
          5418.3512657806,
          6336.60330370918,
          7211.66354042703,
          8026.92360269515,
          8776.47173422911,
          9464.57723157008,
          10103.7465761539,
          10715.1597492909,
          11325.7085055159
         ],
         "yaxis": "y41"
        },
        {
         "line": {
          "color": "rgb(253,180,98)"
         },
         "mode": "lines+text",
         "name": "D06",
         "text": [
          "",
          "",
          "",
          "",
          "",
          "",
          "",
          "",
          "",
          "",
          "",
          "",
          "",
          "",
          "",
          "",
          "",
          "",
          "",
          "",
          "",
          "",
          "",
          "",
          "",
          "",
          "",
          "",
          "",
          "",
          "",
          "",
          "12393.0",
          "",
          "",
          "",
          "",
          "",
          "",
          ""
         ],
         "textfont": {
          "color": "black",
          "family": "sans serif",
          "size": 8
         },
         "textposition": "top left",
         "type": "scatter",
         "x": [
          1,
          2,
          3,
          4,
          5,
          6,
          7,
          8,
          9,
          10,
          11,
          12,
          13,
          14,
          15,
          16,
          17,
          18,
          19,
          20,
          21,
          22,
          23,
          24,
          25,
          26,
          27,
          28,
          29,
          30,
          31,
          32,
          33,
          34,
          35,
          36,
          37,
          38,
          39,
          40
         ],
         "xaxis": "x42",
         "y": [
          0,
          0,
          0,
          0,
          0,
          0,
          0,
          0,
          0,
          0,
          0,
          0,
          0,
          0,
          0,
          0,
          0,
          0,
          0,
          0,
          8.18002703244019,
          37.2094548444875,
          102.32589838483,
          226.057727056095,
          437.26452317857,
          766.693556020571,
          1240.10448998843,
          1871.05021937212,
          2655.40610171043,
          3570.26228965662,
          4577.79465466537,
          5632.44105140984,
          6689.28461906798,
          7710.09691120881,
          8670.24697170506,
          9548.48188742571,
          10341.4408318622,
          11053.7828700775,
          11723.4061390893,
          12393.0294081011
         ],
         "yaxis": "y42"
        },
        {
         "line": {
          "color": "rgb(179,222,105)"
         },
         "mode": "lines+text",
         "name": "D07",
         "text": [
          "",
          "",
          "",
          "",
          "",
          "",
          "",
          "",
          "",
          "",
          "",
          "",
          "",
          "",
          "",
          "",
          "",
          "",
          "",
          "",
          "",
          "",
          "",
          "",
          "",
          "",
          "",
          "",
          "",
          "",
          "",
          "",
          "17885.1",
          "",
          "",
          "",
          "",
          "",
          "",
          ""
         ],
         "textfont": {
          "color": "black",
          "family": "sans serif",
          "size": 8
         },
         "textposition": "top left",
         "type": "scatter",
         "x": [
          1,
          2,
          3,
          4,
          5,
          6,
          7,
          8,
          9,
          10,
          11,
          12,
          13,
          14,
          15,
          16,
          17,
          18,
          19,
          20,
          21,
          22,
          23,
          24,
          25,
          26,
          27,
          28,
          29,
          30,
          31,
          32,
          33,
          34,
          35,
          36,
          37,
          38,
          39,
          40
         ],
         "xaxis": "x43",
         "y": [
          0,
          0,
          0,
          0,
          0,
          0,
          0,
          0,
          0,
          0,
          0,
          0,
          0,
          0,
          0,
          0,
          0,
          0,
          0,
          0,
          12.3920797757764,
          59.2717111181728,
          167.022562573001,
          373.344469064392,
          723.696345098451,
          1262.34907438925,
          2020.54506089776,
          3006.04153657905,
          4198.09491819084,
          5550.28521476402,
          7000.3682332925,
          8483.20358288942,
          9942.25792103185,
          11335.7079925872,
          12641.106258853,
          13843.1665513948,
          14944.2181670976,
          15956.4713472143,
          16920.7709955567,
          17885.0706438991
         ],
         "yaxis": "y43"
        },
        {
         "line": {
          "color": "rgb(252,205,229)"
         },
         "mode": "lines+text",
         "name": "D08",
         "text": [
          "",
          "",
          "",
          "",
          "",
          "",
          "",
          "",
          "",
          "",
          "",
          "",
          "",
          "",
          "",
          "",
          "",
          "",
          "",
          "",
          "",
          "",
          "",
          "",
          "",
          "",
          "",
          "",
          "",
          "",
          "",
          "",
          "16222.8",
          "",
          "",
          "",
          "",
          "",
          "",
          ""
         ],
         "textfont": {
          "color": "black",
          "family": "sans serif",
          "size": 8
         },
         "textposition": "top left",
         "type": "scatter",
         "x": [
          1,
          2,
          3,
          4,
          5,
          6,
          7,
          8,
          9,
          10,
          11,
          12,
          13,
          14,
          15,
          16,
          17,
          18,
          19,
          20,
          21,
          22,
          23,
          24,
          25,
          26,
          27,
          28,
          29,
          30,
          31,
          32,
          33,
          34,
          35,
          36,
          37,
          38,
          39,
          40
         ],
         "xaxis": "x44",
         "y": [
          0,
          0,
          0,
          0,
          0,
          0,
          0,
          0,
          0,
          0,
          0,
          0,
          0,
          0,
          0,
          0,
          0,
          0,
          0,
          0,
          13.3453841635901,
          59.6273194217465,
          162.183272269805,
          354.201118490035,
          675.444036400901,
          1164.62495631142,
          1849.26268825298,
          2736.61800841803,
          3809.13624898707,
          5026.62682738552,
          6334.35916321604,
          7674.19983862216,
          8995.38702653991,
          10259.7935141825,
          11447.1704331676,
          12540.6840370348,
          13543.4752921206,
          14463.0396648927,
          15342.8988238805,
          16222.7579828683
         ],
         "yaxis": "y44"
        },
        {
         "line": {
          "color": "rgb(217,217,217)"
         },
         "mode": "lines+text",
         "name": "D09",
         "text": [
          "",
          "",
          "",
          "",
          "",
          "",
          "",
          "",
          "",
          "",
          "",
          "",
          "",
          "",
          "",
          "",
          "",
          "",
          "",
          "",
          "",
          "",
          "",
          "",
          "",
          "",
          "",
          "",
          "",
          "",
          "",
          "",
          "16134.5",
          "",
          "",
          "",
          "",
          "",
          "",
          ""
         ],
         "textfont": {
          "color": "black",
          "family": "sans serif",
          "size": 8
         },
         "textposition": "top left",
         "type": "scatter",
         "x": [
          1,
          2,
          3,
          4,
          5,
          6,
          7,
          8,
          9,
          10,
          11,
          12,
          13,
          14,
          15,
          16,
          17,
          18,
          19,
          20,
          21,
          22,
          23,
          24,
          25,
          26,
          27,
          28,
          29,
          30,
          31,
          32,
          33,
          34,
          35,
          36,
          37,
          38,
          39,
          40
         ],
         "xaxis": "x45",
         "y": [
          0,
          0,
          0,
          0,
          0,
          0,
          0,
          0,
          0,
          0,
          0,
          0,
          0,
          0,
          0,
          0,
          0,
          0,
          0,
          0,
          13.4921803535381,
          60.1164613585888,
          163.547559067775,
          357.539662378994,
          682.509504020419,
          1177.41938489052,
          1869.12425227744,
          2763.25971322426,
          3840.31861995207,
          5058.44340648373,
          6362.33393769318,
          7694.7115631185,
          9006.14353718195,
          10259.7094615413,
          11435.7213855137,
          12517.526183848,
          13506.7851019088,
          14411.3154290328,
          15272.9302546204,
          16134.5450802081
         ],
         "yaxis": "y45"
        },
        {
         "line": {
          "color": "rgb(188,128,189)"
         },
         "mode": "lines+text",
         "name": "D10",
         "text": [
          "",
          "",
          "",
          "",
          "",
          "",
          "",
          "",
          "",
          "",
          "",
          "",
          "",
          "",
          "",
          "",
          "",
          "",
          "",
          "",
          "",
          "",
          "",
          "",
          "",
          "",
          "",
          "",
          "",
          "",
          "",
          "",
          "15692.6",
          "",
          "",
          "",
          "",
          "",
          "",
          ""
         ],
         "textfont": {
          "color": "black",
          "family": "sans serif",
          "size": 8
         },
         "textposition": "top left",
         "type": "scatter",
         "x": [
          1,
          2,
          3,
          4,
          5,
          6,
          7,
          8,
          9,
          10,
          11,
          12,
          13,
          14,
          15,
          16,
          17,
          18,
          19,
          20,
          21,
          22,
          23,
          24,
          25,
          26,
          27,
          28,
          29,
          30,
          31,
          32,
          33,
          34,
          35,
          36,
          37,
          38,
          39,
          40
         ],
         "xaxis": "x46",
         "y": [
          0,
          0,
          0,
          0,
          0,
          0,
          0,
          0,
          0,
          0,
          0,
          0,
          0,
          0,
          0,
          0,
          0,
          0,
          0,
          0,
          12.042322091891,
          55.9500321668174,
          155.306604217531,
          343.392819184143,
          659.814805826492,
          1142.52815238857,
          1817.41768542088,
          2689.53030164031,
          3739.44674681514,
          4926.13684483394,
          6195.79213581409,
          7492.90169704829,
          8769.59370409433,
          9990.00080512378,
          11134.7964384993,
          12187.2294593548,
          13148.2138220163,
          14025.140045395,
          14858.8515342193,
          15692.5630230436
         ],
         "yaxis": "y46"
        },
        {
         "line": {
          "color": "rgb(204,235,197)"
         },
         "mode": "lines+text",
         "name": "D11",
         "text": [
          "",
          "",
          "",
          "",
          "",
          "",
          "",
          "",
          "",
          "",
          "",
          "",
          "",
          "",
          "",
          "",
          "",
          "",
          "",
          "",
          "",
          "",
          "",
          "",
          "",
          "",
          "",
          "",
          "",
          "",
          "",
          "",
          "17483.5",
          "",
          "",
          "",
          "",
          "",
          "",
          ""
         ],
         "textfont": {
          "color": "black",
          "family": "sans serif",
          "size": 8
         },
         "textposition": "top left",
         "type": "scatter",
         "x": [
          1,
          2,
          3,
          4,
          5,
          6,
          7,
          8,
          9,
          10,
          11,
          12,
          13,
          14,
          15,
          16,
          17,
          18,
          19,
          20,
          21,
          22,
          23,
          24,
          25,
          26,
          27,
          28,
          29,
          30,
          31,
          32,
          33,
          34,
          35,
          36,
          37,
          38,
          39,
          40
         ],
         "xaxis": "x47",
         "y": [
          0,
          0,
          0,
          0,
          0,
          0,
          0,
          0,
          0,
          0,
          0,
          0,
          0,
          0,
          0,
          0,
          0,
          0,
          0,
          0,
          13.3592571808558,
          60.5244610666741,
          166.058178385313,
          365.592136327192,
          702.670445531403,
          1220.36375925329,
          1950.0552592543,
          2901.09327625451,
          4055.41710384622,
          5369.78307146043,
          6784.83179474353,
          8237.24966362919,
          9671.07647218182,
          11043.8135693569,
          12331.8087786073,
          13517.1766076625,
          14601.1857173224,
          15593.9669403209,
          16538.7141723517,
          17483.4614043826
         ],
         "yaxis": "y47"
        },
        {
         "line": {
          "color": "rgb(255,237,111)"
         },
         "mode": "lines+text",
         "name": "D12",
         "text": [
          "",
          "",
          "",
          "",
          "",
          "",
          "",
          "",
          "",
          "",
          "",
          "",
          "",
          "",
          "",
          "",
          "",
          "",
          "",
          "",
          "",
          "",
          "",
          "",
          "",
          "",
          "",
          "",
          "",
          "",
          "",
          "",
          "16992.7",
          "",
          "",
          "",
          "",
          "",
          "",
          ""
         ],
         "textfont": {
          "color": "black",
          "family": "sans serif",
          "size": 8
         },
         "textposition": "top left",
         "type": "scatter",
         "x": [
          1,
          2,
          3,
          4,
          5,
          6,
          7,
          8,
          9,
          10,
          11,
          12,
          13,
          14,
          15,
          16,
          17,
          18,
          19,
          20,
          21,
          22,
          23,
          24,
          25,
          26,
          27,
          28,
          29,
          30,
          31,
          32,
          33,
          34,
          35,
          36,
          37,
          38,
          39,
          40
         ],
         "xaxis": "x48",
         "y": [
          0,
          0,
          0,
          0,
          0,
          0,
          0,
          0,
          0,
          0,
          0,
          0,
          0,
          0,
          0,
          0,
          0,
          0,
          0,
          0,
          15.045572415539,
          66.0903237959583,
          178.44075303609,
          388.135443363462,
          738.10901643328,
          1269.21937142253,
          2008.93164325054,
          2961.84816202452,
          4105.62578368949,
          5394.50022962388,
          6769.19790084685,
          8169.20682607311,
          9543.49507300055,
          10854.81894247,
          12084.3650957739,
          13214.3385973088,
          14247.7325280076,
          15191.2132625846,
          16091.9404290046,
          16992.6675954246
         ],
         "yaxis": "y48"
        },
        {
         "line": {
          "color": "rgb(141,211,199)"
         },
         "mode": "lines+text",
         "name": "E01",
         "text": [
          "",
          "",
          "",
          "",
          "",
          "",
          "",
          "",
          "",
          "",
          "",
          "",
          "",
          "",
          "",
          "",
          "",
          "",
          "",
          "",
          "",
          "",
          "",
          "",
          "",
          "",
          "",
          "",
          "",
          "",
          "",
          "",
          "11652.2",
          "",
          "",
          "",
          "",
          "",
          "",
          ""
         ],
         "textfont": {
          "color": "black",
          "family": "sans serif",
          "size": 8
         },
         "textposition": "top left",
         "type": "scatter",
         "x": [
          1,
          2,
          3,
          4,
          5,
          6,
          7,
          8,
          9,
          10,
          11,
          12,
          13,
          14,
          15,
          16,
          17,
          18,
          19,
          20,
          21,
          22,
          23,
          24,
          25,
          26,
          27,
          28,
          29,
          30,
          31,
          32,
          33,
          34,
          35,
          36,
          37,
          38,
          39,
          40
         ],
         "xaxis": "x49",
         "y": [
          0,
          0,
          0,
          0,
          0,
          0,
          0,
          0,
          0,
          0,
          0,
          0,
          0,
          0,
          0,
          0,
          0,
          0,
          0,
          0,
          0,
          19.7149075550624,
          73.4121487544307,
          177.654673516746,
          354.823097875877,
          630.455645260216,
          1027.97328956916,
          1562.38308465023,
          2235.25975793537,
          3032.71070833121,
          3927.34150582975,
          4883.14012439369,
          5861.97543449586,
          6828.83527750359,
          7758.67920200078,
          8629.02979906569,
          9432.39618648475,
          10172.3395704182,
          10912.2829543516,
          11652.2263382851
         ],
         "yaxis": "y49"
        },
        {
         "line": {
          "color": "rgb(255,255,179)"
         },
         "mode": "lines+text",
         "name": "E02",
         "text": [
          "",
          "",
          "",
          "",
          "",
          "",
          "",
          "",
          "",
          "",
          "",
          "",
          "",
          "",
          "",
          "",
          "",
          "",
          "",
          "",
          "",
          "",
          "",
          "",
          "",
          "",
          "",
          "",
          "",
          "",
          "",
          "",
          "2470.2",
          "",
          "",
          "",
          "",
          "",
          "",
          ""
         ],
         "textfont": {
          "color": "black",
          "family": "sans serif",
          "size": 8
         },
         "textposition": "top left",
         "type": "scatter",
         "x": [
          1,
          2,
          3,
          4,
          5,
          6,
          7,
          8,
          9,
          10,
          11,
          12,
          13,
          14,
          15,
          16,
          17,
          18,
          19,
          20,
          21,
          22,
          23,
          24,
          25,
          26,
          27,
          28,
          29,
          30,
          31,
          32,
          33,
          34,
          35,
          36,
          37,
          38,
          39,
          40
         ],
         "xaxis": "x50",
         "y": [
          0,
          0,
          0,
          0,
          0,
          0,
          0,
          0,
          0,
          0,
          0,
          0,
          0,
          0,
          0,
          0,
          0,
          0,
          0,
          0,
          0,
          0,
          0,
          0,
          0,
          0,
          0,
          0,
          14.9985146974277,
          50.4129956573379,
          111.732558354669,
          205.789595134976,
          340.159690411402,
          521.561443141916,
          754.155463724278,
          1037.9521948216,
          1367.27192372751,
          1734.90831281616,
          2102.5447019048,
          2470.18109099345
         ],
         "yaxis": "y50"
        },
        {
         "line": {
          "color": "rgb(190,186,218)"
         },
         "mode": "lines+text",
         "name": "E03",
         "text": [
          "",
          "",
          "",
          "",
          "",
          "",
          "",
          "",
          "",
          "",
          "",
          "",
          "",
          "",
          "",
          "",
          "",
          "",
          "",
          "",
          "",
          "",
          "",
          "",
          "",
          "",
          "",
          "",
          "",
          "",
          "",
          "",
          "13304.1",
          "",
          "",
          "",
          "",
          "",
          "",
          ""
         ],
         "textfont": {
          "color": "black",
          "family": "sans serif",
          "size": 8
         },
         "textposition": "top left",
         "type": "scatter",
         "x": [
          1,
          2,
          3,
          4,
          5,
          6,
          7,
          8,
          9,
          10,
          11,
          12,
          13,
          14,
          15,
          16,
          17,
          18,
          19,
          20,
          21,
          22,
          23,
          24,
          25,
          26,
          27,
          28,
          29,
          30,
          31,
          32,
          33,
          34,
          35,
          36,
          37,
          38,
          39,
          40
         ],
         "xaxis": "x51",
         "y": [
          0,
          0,
          0,
          0,
          0,
          0,
          0,
          0,
          0,
          0,
          0,
          0,
          0,
          0,
          0,
          0,
          0,
          0,
          0,
          0,
          14.008974132089,
          58.2187117835028,
          150.698083571892,
          316.226383729822,
          584.120616266212,
          983.279204092531,
          1535.18245295976,
          2247.15359714803,
          3108.65890786336,
          4091.91297294885,
          5156.70268355079,
          6257.86524336146,
          7352.82804353881,
          8406.63665294244,
          9397.36048576027,
          10307.8593120186,
          11135.3213145708,
          11886.9984293912,
          12595.5300437843,
          13304.0616581774
         ],
         "yaxis": "y51"
        },
        {
         "line": {
          "color": "rgb(251,128,114)"
         },
         "mode": "lines+text",
         "name": "E04",
         "text": [
          "",
          "",
          "",
          "",
          "",
          "",
          "",
          "",
          "",
          "",
          "",
          "",
          "",
          "",
          "",
          "",
          "",
          "",
          "",
          "",
          "",
          "",
          "",
          "",
          "",
          "",
          "",
          "",
          "",
          "",
          "",
          "",
          "10492.0",
          "",
          "",
          "",
          "",
          "",
          "",
          ""
         ],
         "textfont": {
          "color": "black",
          "family": "sans serif",
          "size": 8
         },
         "textposition": "top left",
         "type": "scatter",
         "x": [
          1,
          2,
          3,
          4,
          5,
          6,
          7,
          8,
          9,
          10,
          11,
          12,
          13,
          14,
          15,
          16,
          17,
          18,
          19,
          20,
          21,
          22,
          23,
          24,
          25,
          26,
          27,
          28,
          29,
          30,
          31,
          32,
          33,
          34,
          35,
          36,
          37,
          38,
          39,
          40
         ],
         "xaxis": "x52",
         "y": [
          0,
          0,
          0,
          0,
          0,
          0,
          0,
          0,
          0,
          0,
          0,
          0,
          0,
          0,
          0,
          0,
          0,
          0,
          0,
          0,
          0,
          0,
          16.1999649875024,
          62.0380740964201,
          152.078473666805,
          305.714537602226,
          545.447269166159,
          893.327084567105,
          1366.02759225203,
          1969.96653728066,
          2698.58279999405,
          3532.1801578905,
          4440.60891247074,
          5386.96368402699,
          6333.09381754313,
          7248.12900804972,
          8115.55638350832,
          8930.75970332646,
          9712.28163184716,
          10492.0048619888
         ],
         "yaxis": "y52"
        },
        {
         "line": {
          "color": "rgb(128,177,211)"
         },
         "mode": "lines+text",
         "name": "E05",
         "text": [
          "",
          "",
          "",
          "",
          "",
          "",
          "",
          "",
          "",
          "",
          "",
          "",
          "",
          "",
          "",
          "",
          "",
          "",
          "",
          "",
          "",
          "",
          "",
          "",
          "",
          "",
          "",
          "",
          "",
          "",
          "",
          "",
          "15368.1",
          "",
          "",
          "",
          "",
          "",
          "",
          ""
         ],
         "textfont": {
          "color": "black",
          "family": "sans serif",
          "size": 8
         },
         "textposition": "top left",
         "type": "scatter",
         "x": [
          1,
          2,
          3,
          4,
          5,
          6,
          7,
          8,
          9,
          10,
          11,
          12,
          13,
          14,
          15,
          16,
          17,
          18,
          19,
          20,
          21,
          22,
          23,
          24,
          25,
          26,
          27,
          28,
          29,
          30,
          31,
          32,
          33,
          34,
          35,
          36,
          37,
          38,
          39,
          40
         ],
         "xaxis": "x53",
         "y": [
          0,
          0,
          0,
          0,
          0,
          0,
          0,
          0,
          0,
          0,
          0,
          0,
          0,
          0,
          0,
          0,
          0,
          0,
          0,
          12.3469878298129,
          53.9745443127349,
          145.069074564078,
          314.63133529818,
          597.89220535188,
          1029.76154935541,
          1635.9610582372,
          2424.67213727405,
          3382.15439368283,
          4474.33437151486,
          5653.65657865411,
          6868.79810107111,
          8073.86048972215,
          9234.37873985147,
          10327.7289384909,
          11344.864562809,
          12275.3453153962,
          13123.4580993862,
          13896.2082579508,
          14632.1361063433,
          15368.0639547359
         ],
         "yaxis": "y53"
        },
        {
         "line": {
          "color": "rgb(253,180,98)"
         },
         "mode": "lines+text",
         "name": "E06",
         "text": [
          "",
          "",
          "",
          "",
          "",
          "",
          "",
          "",
          "",
          "",
          "",
          "",
          "",
          "",
          "",
          "",
          "",
          "",
          "",
          "",
          "",
          "",
          "",
          "",
          "",
          "",
          "",
          "",
          "",
          "",
          "",
          "",
          "14261.7",
          "",
          "",
          "",
          "",
          "",
          "",
          ""
         ],
         "textfont": {
          "color": "black",
          "family": "sans serif",
          "size": 8
         },
         "textposition": "top left",
         "type": "scatter",
         "x": [
          1,
          2,
          3,
          4,
          5,
          6,
          7,
          8,
          9,
          10,
          11,
          12,
          13,
          14,
          15,
          16,
          17,
          18,
          19,
          20,
          21,
          22,
          23,
          24,
          25,
          26,
          27,
          28,
          29,
          30,
          31,
          32,
          33,
          34,
          35,
          36,
          37,
          38,
          39,
          40
         ],
         "xaxis": "x54",
         "y": [
          0,
          0,
          0,
          0,
          0,
          0,
          0,
          0,
          0,
          0,
          0,
          0,
          0,
          0,
          0,
          0,
          0,
          0,
          0,
          0,
          15.030055457617,
          63.0576363986693,
          163.893147723448,
          344.245027918101,
          635.262432692904,
          1066.76909685593,
          1660.04656562925,
          2421.43722455418,
          3338.79024191725,
          4382.42901073078,
          5510.55127000275,
          6676.61332102311,
          7836.74781333721,
          8954.81396139921,
          10005.035416626,
          10974.5503201983,
          11865.0675937867,
          12689.4874463885,
          13476.1569578632,
          14261.7326053702
         ],
         "yaxis": "y54"
        },
        {
         "line": {
          "color": "rgb(179,222,105)"
         },
         "mode": "lines+text",
         "name": "E07",
         "text": [
          "",
          "",
          "",
          "",
          "",
          "",
          "",
          "",
          "",
          "",
          "",
          "",
          "",
          "",
          "",
          "",
          "",
          "",
          "",
          "",
          "",
          "",
          "",
          "",
          "",
          "",
          "",
          "",
          "",
          "",
          "",
          "",
          "19334.3",
          "",
          "",
          "",
          "",
          "",
          "",
          ""
         ],
         "textfont": {
          "color": "black",
          "family": "sans serif",
          "size": 8
         },
         "textposition": "top left",
         "type": "scatter",
         "x": [
          1,
          2,
          3,
          4,
          5,
          6,
          7,
          8,
          9,
          10,
          11,
          12,
          13,
          14,
          15,
          16,
          17,
          18,
          19,
          20,
          21,
          22,
          23,
          24,
          25,
          26,
          27,
          28,
          29,
          30,
          31,
          32,
          33,
          34,
          35,
          36,
          37,
          38,
          39,
          40
         ],
         "xaxis": "x55",
         "y": [
          0,
          0,
          0,
          0,
          0,
          0,
          0,
          0,
          0,
          0,
          0,
          0,
          0,
          0,
          0,
          0,
          0,
          0,
          0,
          12.8756994212208,
          60.1890265632292,
          168.15195915682,
          374.898809607962,
          727.093144786967,
          1270.89326619574,
          2039.7669226771,
          3043.51862713995,
          4262.69651525507,
          5651.07064988159,
          7145.2633124948,
          8677.83097835748,
          10189.1385529113,
          11634.7247582843,
          12987.8377764441,
          14238.7614918774,
          15389.0175733915,
          16448.2778794848,
          17438.2797547559,
          18386.2936322655,
          19334.3075097751
         ],
         "yaxis": "y55"
        },
        {
         "line": {
          "color": "rgb(252,205,229)"
         },
         "mode": "lines+text",
         "name": "E08",
         "text": [
          "",
          "",
          "",
          "",
          "",
          "",
          "",
          "",
          "",
          "",
          "",
          "",
          "",
          "",
          "",
          "",
          "",
          "",
          "",
          "",
          "",
          "",
          "",
          "",
          "",
          "",
          "",
          "",
          "",
          "",
          "",
          "",
          "18234.5",
          "",
          "",
          "",
          "",
          "",
          "",
          ""
         ],
         "textfont": {
          "color": "black",
          "family": "sans serif",
          "size": 8
         },
         "textposition": "top left",
         "type": "scatter",
         "x": [
          1,
          2,
          3,
          4,
          5,
          6,
          7,
          8,
          9,
          10,
          11,
          12,
          13,
          14,
          15,
          16,
          17,
          18,
          19,
          20,
          21,
          22,
          23,
          24,
          25,
          26,
          27,
          28,
          29,
          30,
          31,
          32,
          33,
          34,
          35,
          36,
          37,
          38,
          39,
          40
         ],
         "xaxis": "x56",
         "y": [
          0,
          0,
          0,
          0,
          0,
          0,
          0,
          0,
          0,
          0,
          0,
          0,
          0,
          0,
          0,
          0,
          0,
          0,
          0,
          14.3388773828065,
          63.2717848742886,
          171.112377268252,
          372.7284549671,
          710.294226278505,
          1225.411272802,
          1948.3803168197,
          2888.38358373507,
          4028.55410053024,
          5327.86847023713,
          6729.34828394601,
          8171.68306705752,
          9599.93336459237,
          10972.6048123944,
          12263.0009530864,
          13460.4280295507,
          14557.1108260553,
          15559.294538657,
          16479.7169110073,
          17357.0960337707,
          18234.4751565341
         ],
         "yaxis": "y56"
        },
        {
         "line": {
          "color": "rgb(217,217,217)"
         },
         "mode": "lines+text",
         "name": "E09",
         "text": [
          "",
          "",
          "",
          "",
          "",
          "",
          "",
          "",
          "",
          "",
          "",
          "",
          "",
          "",
          "",
          "",
          "",
          "",
          "",
          "",
          "",
          "",
          "",
          "",
          "",
          "",
          "",
          "",
          "",
          "",
          "",
          "",
          "18029.3",
          "",
          "",
          "",
          "",
          "",
          "",
          ""
         ],
         "textfont": {
          "color": "black",
          "family": "sans serif",
          "size": 8
         },
         "textposition": "top left",
         "type": "scatter",
         "x": [
          1,
          2,
          3,
          4,
          5,
          6,
          7,
          8,
          9,
          10,
          11,
          12,
          13,
          14,
          15,
          16,
          17,
          18,
          19,
          20,
          21,
          22,
          23,
          24,
          25,
          26,
          27,
          28,
          29,
          30,
          31,
          32,
          33,
          34,
          35,
          36,
          37,
          38,
          39,
          40
         ],
         "xaxis": "x57",
         "y": [
          0,
          0,
          0,
          0,
          0,
          0,
          0,
          0,
          0,
          0,
          0,
          0,
          0,
          0,
          0,
          0,
          0,
          0,
          0,
          14.127896844594,
          62.3389119482026,
          169.093771905636,
          369.806469630458,
          707.331509076806,
          1223.5409896763,
          1948.19244316875,
          2888.99400508518,
          4026.93349205687,
          5318.95309214837,
          6707.01803614275,
          8130.17112298352,
          9535.01731073638,
          10882.0961841901,
          12146.3492980837,
          13314.756526774,
          14385.5401723456,
          15368.1212866333,
          16281.7248311946,
          17156.1377088988,
          18029.3290699899
         ],
         "yaxis": "y57"
        },
        {
         "line": {
          "color": "rgb(188,128,189)"
         },
         "mode": "lines+text",
         "name": "E10",
         "text": [
          "",
          "",
          "",
          "",
          "",
          "",
          "",
          "",
          "",
          "",
          "",
          "",
          "",
          "",
          "",
          "",
          "",
          "",
          "",
          "",
          "",
          "",
          "",
          "",
          "",
          "",
          "",
          "",
          "",
          "",
          "",
          "",
          "18127.8",
          "",
          "",
          "",
          "",
          "",
          "",
          ""
         ],
         "textfont": {
          "color": "black",
          "family": "sans serif",
          "size": 8
         },
         "textposition": "top left",
         "type": "scatter",
         "x": [
          1,
          2,
          3,
          4,
          5,
          6,
          7,
          8,
          9,
          10,
          11,
          12,
          13,
          14,
          15,
          16,
          17,
          18,
          19,
          20,
          21,
          22,
          23,
          24,
          25,
          26,
          27,
          28,
          29,
          30,
          31,
          32,
          33,
          34,
          35,
          36,
          37,
          38,
          39,
          40
         ],
         "xaxis": "x58",
         "y": [
          0,
          0,
          0,
          0,
          0,
          0,
          0,
          0,
          0,
          0,
          0,
          0,
          0,
          0,
          0,
          0,
          0,
          0,
          0,
          13.9761028098346,
          62.9925388870643,
          172.267674931588,
          377.62567457298,
          722.056096669798,
          1247.38706094313,
          1982.87403433922,
          2935.33982692651,
          4084.79321554027,
          5387.17917594179,
          6783.76299772985,
          8213.50489547963,
          9623.46543087832,
          10974.6337276363,
          12242.3673734804,
          13413.6867766422,
          14486.4135299669,
          15469.7950098927,
          16382.7871508505,
          17255.9186819309,
          18127.8328710733
         ],
         "yaxis": "y58"
        },
        {
         "line": {
          "color": "rgb(204,235,197)"
         },
         "mode": "lines+text",
         "name": "E11",
         "text": [
          "",
          "",
          "",
          "",
          "",
          "",
          "",
          "",
          "",
          "",
          "",
          "",
          "",
          "",
          "",
          "",
          "",
          "",
          "",
          "",
          "",
          "",
          "",
          "",
          "",
          "",
          "",
          "",
          "",
          "",
          "",
          "",
          "19475.7",
          "",
          "",
          "",
          "",
          "",
          "",
          ""
         ],
         "textfont": {
          "color": "black",
          "family": "sans serif",
          "size": 8
         },
         "textposition": "top left",
         "type": "scatter",
         "x": [
          1,
          2,
          3,
          4,
          5,
          6,
          7,
          8,
          9,
          10,
          11,
          12,
          13,
          14,
          15,
          16,
          17,
          18,
          19,
          20,
          21,
          22,
          23,
          24,
          25,
          26,
          27,
          28,
          29,
          30,
          31,
          32,
          33,
          34,
          35,
          36,
          37,
          38,
          39,
          40
         ],
         "xaxis": "x59",
         "y": [
          0,
          0,
          0,
          0,
          0,
          0,
          0,
          0,
          0,
          0,
          0,
          0,
          0,
          0,
          0,
          0,
          0,
          0,
          0,
          13.7620829054413,
          62.2940840999636,
          171.916640920187,
          381.353084571993,
          738.08229998621,
          1289.09870142383,
          2068.57912372449,
          3086.65915514981,
          4323.74497436751,
          5732.99809236616,
          7250.16127586214,
          8806.75052067388,
          10341.9478627416,
          11810.1663183777,
          13182.3135876116,
          14446.8581476728,
          15595.9545879424,
          16636.4351879041,
          17582.8609984624,
          18529.2868090207,
          19475.712619579
         ],
         "yaxis": "y59"
        },
        {
         "line": {
          "color": "rgb(255,237,111)"
         },
         "mode": "lines+text",
         "name": "E12",
         "text": [
          "",
          "",
          "",
          "",
          "",
          "",
          "",
          "",
          "",
          "",
          "",
          "",
          "",
          "",
          "",
          "",
          "",
          "",
          "",
          "",
          "",
          "",
          "",
          "",
          "",
          "",
          "",
          "",
          "",
          "",
          "",
          "",
          "19278.1",
          "",
          "",
          "",
          "",
          "",
          "",
          ""
         ],
         "textfont": {
          "color": "black",
          "family": "sans serif",
          "size": 8
         },
         "textposition": "top left",
         "type": "scatter",
         "x": [
          1,
          2,
          3,
          4,
          5,
          6,
          7,
          8,
          9,
          10,
          11,
          12,
          13,
          14,
          15,
          16,
          17,
          18,
          19,
          20,
          21,
          22,
          23,
          24,
          25,
          26,
          27,
          28,
          29,
          30,
          31,
          32,
          33,
          34,
          35,
          36,
          37,
          38,
          39,
          40
         ],
         "xaxis": "x60",
         "y": [
          0,
          0,
          0,
          0,
          0,
          0,
          0,
          0,
          0,
          0,
          0,
          0,
          0,
          0,
          0,
          0,
          0,
          0,
          0,
          15.523334645949,
          68.3117154603397,
          184.949107253376,
          403.995577369162,
          772.162526518317,
          1334.73518989284,
          2123.48529222905,
          3145.99801425956,
          4380.42252071917,
          5778.76060020562,
          7277.09646906038,
          8808.66744300392,
          10315.5083195273,
          11755.5296218505,
          13102.914522097,
          14348.4940935245,
          15485.7243688973,
          16521.9352070488,
          17471.4340664779,
          18374.7899847289,
          19278.1459029799
         ],
         "yaxis": "y60"
        },
        {
         "line": {
          "color": "rgb(141,211,199)"
         },
         "mode": "lines+text",
         "name": "F01",
         "text": [
          "",
          "",
          "",
          "",
          "",
          "",
          "",
          "",
          "",
          "",
          "",
          "",
          "",
          "",
          "",
          "",
          "",
          "",
          "",
          "",
          "",
          "",
          "",
          "",
          "",
          "",
          "",
          "",
          "",
          "",
          "",
          "",
          "9905.8",
          "",
          "",
          "",
          "",
          "",
          "",
          ""
         ],
         "textfont": {
          "color": "black",
          "family": "sans serif",
          "size": 8
         },
         "textposition": "top left",
         "type": "scatter",
         "x": [
          1,
          2,
          3,
          4,
          5,
          6,
          7,
          8,
          9,
          10,
          11,
          12,
          13,
          14,
          15,
          16,
          17,
          18,
          19,
          20,
          21,
          22,
          23,
          24,
          25,
          26,
          27,
          28,
          29,
          30,
          31,
          32,
          33,
          34,
          35,
          36,
          37,
          38,
          39,
          40
         ],
         "xaxis": "x61",
         "y": [
          0,
          0,
          0,
          0,
          0,
          0,
          0,
          0,
          0,
          0,
          0,
          0,
          0,
          0,
          0,
          0,
          0,
          0,
          0,
          0,
          0,
          14.9598527323833,
          55.1377843441715,
          132.942319645524,
          265.941582571738,
          475.490940250593,
          782.935108679535,
          1204.50573364713,
          1746.49935119577,
          2402.37709664361,
          3152.82592187373,
          3968.86939570812,
          4817.30174809559,
          5665.09040679857,
          6483.67048192113,
          7254.14558363963,
          7970.30020798525,
          8636.17892222919,
          9271.63762557007,
          9905.79724932936
         ],
         "yaxis": "y61"
        },
        {
         "line": {
          "color": "rgb(255,255,179)"
         },
         "mode": "lines+text",
         "name": "F02",
         "text": [
          "",
          "",
          "",
          "",
          "",
          "",
          "",
          "",
          "",
          "",
          "",
          "",
          "",
          "",
          "",
          "",
          "",
          "",
          "",
          "",
          "",
          "",
          "",
          "",
          "",
          "",
          "",
          "",
          "",
          "",
          "",
          "",
          "1755.3",
          "",
          "",
          "",
          "",
          "",
          "",
          ""
         ],
         "textfont": {
          "color": "black",
          "family": "sans serif",
          "size": 8
         },
         "textposition": "top left",
         "type": "scatter",
         "x": [
          1,
          2,
          3,
          4,
          5,
          6,
          7,
          8,
          9,
          10,
          11,
          12,
          13,
          14,
          15,
          16,
          17,
          18,
          19,
          20,
          21,
          22,
          23,
          24,
          25,
          26,
          27,
          28,
          29,
          30,
          31,
          32,
          33,
          34,
          35,
          36,
          37,
          38,
          39,
          40
         ],
         "xaxis": "x62",
         "y": [
          0,
          0,
          0,
          0,
          0,
          0,
          0,
          0,
          0,
          0,
          0,
          0,
          0,
          0,
          0,
          0,
          0,
          0,
          0,
          0,
          0,
          0,
          0,
          0,
          0,
          0,
          0,
          0,
          7.11362383795858,
          24.7241745665515,
          56.7433852382501,
          108.790605796016,
          188.209652632237,
          302.937959888274,
          459.745351633047,
          662.05671576053,
          907.267146717581,
          1189.95693659477,
          1472.64672647196,
          1755.33651634915
         ],
         "yaxis": "y62"
        },
        {
         "line": {
          "color": "rgb(190,186,218)"
         },
         "mode": "lines+text",
         "name": "F03",
         "text": [
          "",
          "",
          "",
          "",
          "",
          "",
          "",
          "",
          "",
          "",
          "",
          "",
          "",
          "",
          "",
          "",
          "",
          "",
          "",
          "",
          "",
          "",
          "",
          "",
          "",
          "",
          "",
          "",
          "",
          "",
          "",
          "",
          "14689.6",
          "",
          "",
          "",
          "",
          "",
          "",
          ""
         ],
         "textfont": {
          "color": "black",
          "family": "sans serif",
          "size": 8
         },
         "textposition": "top left",
         "type": "scatter",
         "x": [
          1,
          2,
          3,
          4,
          5,
          6,
          7,
          8,
          9,
          10,
          11,
          12,
          13,
          14,
          15,
          16,
          17,
          18,
          19,
          20,
          21,
          22,
          23,
          24,
          25,
          26,
          27,
          28,
          29,
          30,
          31,
          32,
          33,
          34,
          35,
          36,
          37,
          38,
          39,
          40
         ],
         "xaxis": "x63",
         "y": [
          0,
          0,
          0,
          0,
          0,
          0,
          0,
          0,
          0,
          0,
          0,
          0,
          0,
          0,
          0,
          0,
          0,
          0,
          0,
          0,
          11.7411538150309,
          52.0383486009669,
          139.484364004496,
          299.727013661815,
          563.710830652256,
          962.774120165516,
          1521.74453009276,
          2252.25413714708,
          3147.98432254994,
          4184.24718881003,
          5322.33017090629,
          6516.32687963984,
          7721.06658811313,
          8897.76005769406,
          10017.3548884726,
          11063.9163199265,
          12036.4992378184,
          12945.7065847532,
          13818.2688573409,
          14689.6296036837
         ],
         "yaxis": "y63"
        },
        {
         "line": {
          "color": "rgb(251,128,114)"
         },
         "mode": "lines+text",
         "name": "F04",
         "text": [
          "",
          "",
          "",
          "",
          "",
          "",
          "",
          "",
          "",
          "",
          "",
          "",
          "",
          "",
          "",
          "",
          "",
          "",
          "",
          "",
          "",
          "",
          "",
          "",
          "",
          "",
          "",
          "",
          "",
          "",
          "",
          "",
          "9578.9",
          "",
          "",
          "",
          "",
          "",
          "",
          ""
         ],
         "textfont": {
          "color": "black",
          "family": "sans serif",
          "size": 8
         },
         "textposition": "top left",
         "type": "scatter",
         "x": [
          1,
          2,
          3,
          4,
          5,
          6,
          7,
          8,
          9,
          10,
          11,
          12,
          13,
          14,
          15,
          16,
          17,
          18,
          19,
          20,
          21,
          22,
          23,
          24,
          25,
          26,
          27,
          28,
          29,
          30,
          31,
          32,
          33,
          34,
          35,
          36,
          37,
          38,
          39,
          40
         ],
         "xaxis": "x64",
         "y": [
          0,
          0,
          0,
          0,
          0,
          0,
          0,
          0,
          0,
          0,
          0,
          0,
          0,
          0,
          0,
          0,
          0,
          0,
          0,
          0,
          0,
          0,
          0,
          23.7966009100774,
          86.8083231576202,
          204.454985791408,
          395.2584281073,
          678.608793326335,
          1070.89266675763,
          1581.17945983955,
          2208.17790492783,
          2939.08749693768,
          3750.84698296197,
          4613.14862763458,
          5496.58596228654,
          6366.55970691002,
          7201.08129355182,
          7993.69111782427,
          8786.30094209673,
          9578.91076636918
         ],
         "yaxis": "y64"
        },
        {
         "line": {
          "color": "rgb(128,177,211)"
         },
         "mode": "lines+text",
         "name": "F05",
         "text": [
          "",
          "",
          "",
          "",
          "",
          "",
          "",
          "",
          "",
          "",
          "",
          "",
          "",
          "",
          "",
          "",
          "",
          "",
          "",
          "",
          "",
          "",
          "",
          "",
          "",
          "",
          "",
          "",
          "",
          "",
          "",
          "",
          "15442.3",
          "",
          "",
          "",
          "",
          "",
          "",
          ""
         ],
         "textfont": {
          "color": "black",
          "family": "sans serif",
          "size": 8
         },
         "textposition": "top left",
         "type": "scatter",
         "x": [
          1,
          2,
          3,
          4,
          5,
          6,
          7,
          8,
          9,
          10,
          11,
          12,
          13,
          14,
          15,
          16,
          17,
          18,
          19,
          20,
          21,
          22,
          23,
          24,
          25,
          26,
          27,
          28,
          29,
          30,
          31,
          32,
          33,
          34,
          35,
          36,
          37,
          38,
          39,
          40
         ],
         "xaxis": "x65",
         "y": [
          0,
          0,
          0,
          0,
          0,
          0,
          0,
          0,
          0,
          0,
          0,
          0,
          0,
          0,
          0,
          0,
          0,
          0,
          0,
          13.1737905702812,
          57.3533329600723,
          153.393983670507,
          330.463225118016,
          623.111721970314,
          1064.70382495068,
          1678.77600208818,
          2471.34170241266,
          3427.43367402083,
          4513.00374940416,
          5681.60134882593,
          6883.59684698309,
          8074.73536460177,
          9222.01339190471,
          10304.0956933111,
          11309.787170838,
          12237.7806454466,
          13095.593254103,
          13899.0851627859,
          14671.2666174797,
          15442.2919137389
         ],
         "yaxis": "y65"
        },
        {
         "line": {
          "color": "rgb(253,180,98)"
         },
         "mode": "lines+text",
         "name": "F06",
         "text": [
          "",
          "",
          "",
          "",
          "",
          "",
          "",
          "",
          "",
          "",
          "",
          "",
          "",
          "",
          "",
          "",
          "",
          "",
          "",
          "",
          "",
          "",
          "",
          "",
          "",
          "",
          "",
          "",
          "",
          "",
          "",
          "",
          "14877.5",
          "",
          "",
          "",
          "",
          "",
          "",
          ""
         ],
         "textfont": {
          "color": "black",
          "family": "sans serif",
          "size": 8
         },
         "textposition": "top left",
         "type": "scatter",
         "x": [
          1,
          2,
          3,
          4,
          5,
          6,
          7,
          8,
          9,
          10,
          11,
          12,
          13,
          14,
          15,
          16,
          17,
          18,
          19,
          20,
          21,
          22,
          23,
          24,
          25,
          26,
          27,
          28,
          29,
          30,
          31,
          32,
          33,
          34,
          35,
          36,
          37,
          38,
          39,
          40
         ],
         "xaxis": "x66",
         "y": [
          0,
          0,
          0,
          0,
          0,
          0,
          0,
          0,
          0,
          0,
          0,
          0,
          0,
          0,
          0,
          0,
          0,
          0,
          0,
          0,
          20.1440529659467,
          81.6217119909852,
          207.126876708909,
          425.806060550751,
          769.462561682648,
          1265.87961901181,
          1931.34195942028,
          2764.93925165148,
          3746.79168206172,
          4841.16820606359,
          6003.18407596267,
          7186.87719622802,
          8352.64891210247,
          9470.48670668194,
          10520.9556607542,
          11496.5079544482,
          12401.2133192233,
          13248.8778698377,
          14063.7578551657,
          14877.5116780154
         ],
         "yaxis": "y66"
        },
        {
         "line": {
          "color": "rgb(179,222,105)"
         },
         "mode": "lines+text",
         "name": "F07",
         "text": [
          "",
          "",
          "",
          "",
          "",
          "",
          "",
          "",
          "",
          "",
          "",
          "",
          "",
          "",
          "",
          "",
          "",
          "",
          "",
          "",
          "",
          "",
          "",
          "",
          "",
          "",
          "",
          "",
          "",
          "",
          "",
          "",
          "19840.8",
          "",
          "",
          "",
          "",
          "",
          "",
          ""
         ],
         "textfont": {
          "color": "black",
          "family": "sans serif",
          "size": 8
         },
         "textposition": "top left",
         "type": "scatter",
         "x": [
          1,
          2,
          3,
          4,
          5,
          6,
          7,
          8,
          9,
          10,
          11,
          12,
          13,
          14,
          15,
          16,
          17,
          18,
          19,
          20,
          21,
          22,
          23,
          24,
          25,
          26,
          27,
          28,
          29,
          30,
          31,
          32,
          33,
          34,
          35,
          36,
          37,
          38,
          39,
          40
         ],
         "xaxis": "x67",
         "y": [
          0,
          0,
          0,
          0,
          0,
          0,
          0,
          0,
          0,
          0,
          0,
          0,
          0,
          0,
          0,
          0,
          0,
          0,
          0,
          15.3688240723559,
          70.7778590978696,
          195.126271208735,
          429.003954702887,
          820.16148484699,
          1413.66626355229,
          2239.68376212956,
          3302.93093522551,
          4578.42318479186,
          6015.44966133703,
          7548.16683127166,
          9109.1203008646,
          10640.6899516263,
          12101.1139071959,
          13465.656887313,
          14723.9792068789,
          15877.6432010253,
          16939.7706324236,
          17932.2503577185,
          18886.8915723077,
          19840.8454066682
         ],
         "yaxis": "y67"
        },
        {
         "line": {
          "color": "rgb(252,205,229)"
         },
         "mode": "lines+text",
         "name": "F08",
         "text": [
          "",
          "",
          "",
          "",
          "",
          "",
          "",
          "",
          "",
          "",
          "",
          "",
          "",
          "",
          "",
          "",
          "",
          "",
          "",
          "",
          "",
          "",
          "",
          "",
          "",
          "",
          "",
          "",
          "",
          "",
          "",
          "",
          "16566.5",
          "",
          "",
          "",
          "",
          "",
          "",
          ""
         ],
         "textfont": {
          "color": "black",
          "family": "sans serif",
          "size": 8
         },
         "textposition": "top left",
         "type": "scatter",
         "x": [
          1,
          2,
          3,
          4,
          5,
          6,
          7,
          8,
          9,
          10,
          11,
          12,
          13,
          14,
          15,
          16,
          17,
          18,
          19,
          20,
          21,
          22,
          23,
          24,
          25,
          26,
          27,
          28,
          29,
          30,
          31,
          32,
          33,
          34,
          35,
          36,
          37,
          38,
          39,
          40
         ],
         "xaxis": "x68",
         "y": [
          0,
          0,
          0,
          0,
          0,
          0,
          0,
          0,
          0,
          0,
          0,
          0,
          0,
          0,
          0,
          0,
          0,
          0,
          0,
          14.378627377484,
          62.2349817050927,
          166.253565429353,
          358.341705000409,
          676.405563007622,
          1156.93970781542,
          1825.41871148771,
          2688.03405914252,
          3727.82211343009,
          4906.79380142884,
          6173.62664067101,
          7473.94992128177,
          8759.53697801835,
          9994.61237377031,
          11156.4858178264,
          12236.6707689988,
          13227.6983960807,
          14135.6171835989,
          14970.3762844519,
          15768.4527117707,
          16566.5291390895
         ],
         "yaxis": "y68"
        },
        {
         "line": {
          "color": "rgb(217,217,217)"
         },
         "mode": "lines+text",
         "name": "F09",
         "text": [
          "",
          "",
          "",
          "",
          "",
          "",
          "",
          "",
          "",
          "",
          "",
          "",
          "",
          "",
          "",
          "",
          "",
          "",
          "",
          "",
          "",
          "",
          "",
          "",
          "",
          "",
          "",
          "",
          "",
          "",
          "",
          "",
          "17761.6",
          "",
          "",
          "",
          "",
          "",
          "",
          ""
         ],
         "textfont": {
          "color": "black",
          "family": "sans serif",
          "size": 8
         },
         "textposition": "top left",
         "type": "scatter",
         "x": [
          1,
          2,
          3,
          4,
          5,
          6,
          7,
          8,
          9,
          10,
          11,
          12,
          13,
          14,
          15,
          16,
          17,
          18,
          19,
          20,
          21,
          22,
          23,
          24,
          25,
          26,
          27,
          28,
          29,
          30,
          31,
          32,
          33,
          34,
          35,
          36,
          37,
          38,
          39,
          40
         ],
         "xaxis": "x69",
         "y": [
          0,
          0,
          0,
          0,
          0,
          0,
          0,
          0,
          0,
          0,
          0,
          0,
          0,
          0,
          0,
          0,
          0,
          0,
          0,
          15.2303650319218,
          68.9795811671975,
          188.421456340633,
          411.077423601731,
          780.256199157771,
          1335.60637920511,
          2101.88349752385,
          3080.10038825901,
          4244.59548041832,
          5547.52396778955,
          6929.14618467601,
          8329.75331150696,
          9699.28682926246,
          11002.8139037008,
          12219.5903282869,
          13343.3994698247,
          14367.1362039954,
          15297.9551417364,
          16146.5945933264,
          16954.09807938,
          17761.6015654335
         ],
         "yaxis": "y69"
        },
        {
         "line": {
          "color": "rgb(188,128,189)"
         },
         "mode": "lines+text",
         "name": "F10",
         "text": [
          "",
          "",
          "",
          "",
          "",
          "",
          "",
          "",
          "",
          "",
          "",
          "",
          "",
          "",
          "",
          "",
          "",
          "",
          "",
          "",
          "",
          "",
          "",
          "",
          "",
          "",
          "",
          "",
          "",
          "",
          "",
          "",
          "18421.6",
          "",
          "",
          "",
          "",
          "",
          "",
          ""
         ],
         "textfont": {
          "color": "black",
          "family": "sans serif",
          "size": 8
         },
         "textposition": "top left",
         "type": "scatter",
         "x": [
          1,
          2,
          3,
          4,
          5,
          6,
          7,
          8,
          9,
          10,
          11,
          12,
          13,
          14,
          15,
          16,
          17,
          18,
          19,
          20,
          21,
          22,
          23,
          24,
          25,
          26,
          27,
          28,
          29,
          30,
          31,
          32,
          33,
          34,
          35,
          36,
          37,
          38,
          39,
          40
         ],
         "xaxis": "x70",
         "y": [
          0,
          0,
          0,
          0,
          0,
          0,
          0,
          0,
          0,
          0,
          0,
          0,
          0,
          0,
          0,
          0,
          0,
          0,
          0,
          15.9099618193686,
          71.3957961136239,
          194.055913719465,
          422.088320758438,
          799.659920888668,
          1367.47769580593,
          2151.4030158669,
          3153.25530729172,
          4347.78238489065,
          5686.99982992529,
          7110.30331956738,
          8556.65900270485,
          9974.56612394647,
          11327.3873080128,
          12593.1084413577,
          13764.4557749899,
          14835.5493686176,
          15813.4887199516,
          16710.9572022431,
          17566.272351271,
          18421.5875002989
         ],
         "yaxis": "y70"
        },
        {
         "line": {
          "color": "rgb(204,235,197)"
         },
         "mode": "lines+text",
         "name": "F11",
         "text": [
          "",
          "",
          "",
          "",
          "",
          "",
          "",
          "",
          "",
          "",
          "",
          "",
          "",
          "",
          "",
          "",
          "",
          "",
          "",
          "",
          "",
          "",
          "",
          "",
          "",
          "",
          "",
          "",
          "",
          "",
          "",
          "",
          "19008.9",
          "",
          "",
          "",
          "",
          "",
          "",
          ""
         ],
         "textfont": {
          "color": "black",
          "family": "sans serif",
          "size": 8
         },
         "textposition": "top left",
         "type": "scatter",
         "x": [
          1,
          2,
          3,
          4,
          5,
          6,
          7,
          8,
          9,
          10,
          11,
          12,
          13,
          14,
          15,
          16,
          17,
          18,
          19,
          20,
          21,
          22,
          23,
          24,
          25,
          26,
          27,
          28,
          29,
          30,
          31,
          32,
          33,
          34,
          35,
          36,
          37,
          38,
          39,
          40
         ],
         "xaxis": "x71",
         "y": [
          0,
          0,
          0,
          0,
          0,
          0,
          0,
          0,
          0,
          0,
          0,
          0,
          0,
          0,
          0,
          0,
          0,
          0,
          0,
          15.2419609533044,
          68.5975894488238,
          187.711072206186,
          412.037966349261,
          788.539641756623,
          1361.91035774306,
          2162.22691249493,
          3194.3684459272,
          4433.67439206362,
          5829.86319733115,
          7317.73925560896,
          8830.58429973475,
          10311.5671894266,
          11719.9713795081,
          13031.1541460586,
          14236.7991344052,
          15329.9340009546,
          16317.8108271455,
          17214.8326549161,
          18111.8544826867,
          19008.8763104573
         ],
         "yaxis": "y71"
        },
        {
         "line": {
          "color": "rgb(255,237,111)"
         },
         "mode": "lines+text",
         "name": "F12",
         "text": [
          "",
          "",
          "",
          "",
          "",
          "",
          "",
          "",
          "",
          "",
          "",
          "",
          "",
          "",
          "",
          "",
          "",
          "",
          "",
          "",
          "",
          "",
          "",
          "",
          "",
          "",
          "",
          "",
          "",
          "",
          "",
          "",
          "14686.2",
          "",
          "",
          "",
          "",
          "",
          "",
          ""
         ],
         "textfont": {
          "color": "black",
          "family": "sans serif",
          "size": 8
         },
         "textposition": "top left",
         "type": "scatter",
         "x": [
          1,
          2,
          3,
          4,
          5,
          6,
          7,
          8,
          9,
          10,
          11,
          12,
          13,
          14,
          15,
          16,
          17,
          18,
          19,
          20,
          21,
          22,
          23,
          24,
          25,
          26,
          27,
          28,
          29,
          30,
          31,
          32,
          33,
          34,
          35,
          36,
          37,
          38,
          39,
          40
         ],
         "xaxis": "x72",
         "y": [
          0,
          0,
          0,
          0,
          0,
          0,
          0,
          0,
          0,
          0,
          0,
          0,
          0,
          0,
          0,
          0,
          0,
          0,
          0,
          7.59769822360067,
          43.5243689045928,
          130.978121553151,
          301.685957930848,
          592.188907003438,
          1036.38573154987,
          1656.0898111124,
          2453.9002107462,
          3409.40556608577,
          4481.8579000951,
          5621.21021176478,
          6780.14988174806,
          7922.70358031314,
          9026.02083042728,
          10073.9376494034,
          11047.698161214,
          11930.1457046416,
          12715.6092881606,
          13411.6886541037,
          14051.0064293451,
          14686.2036556914
         ],
         "yaxis": "y72"
        },
        {
         "line": {
          "color": "rgb(141,211,199)"
         },
         "mode": "lines+text",
         "name": "G01",
         "text": [
          "",
          "",
          "",
          "",
          "",
          "",
          "",
          "",
          "",
          "",
          "",
          "",
          "",
          "",
          "",
          "",
          "",
          "",
          "",
          "",
          "",
          "",
          "",
          "",
          "",
          "",
          "",
          "",
          "",
          "",
          "",
          "",
          "6321.5",
          "",
          "",
          "",
          "",
          "",
          "",
          ""
         ],
         "textfont": {
          "color": "black",
          "family": "sans serif",
          "size": 8
         },
         "textposition": "top left",
         "type": "scatter",
         "x": [
          1,
          2,
          3,
          4,
          5,
          6,
          7,
          8,
          9,
          10,
          11,
          12,
          13,
          14,
          15,
          16,
          17,
          18,
          19,
          20,
          21,
          22,
          23,
          24,
          25,
          26,
          27,
          28,
          29,
          30,
          31,
          32,
          33,
          34,
          35,
          36,
          37,
          38,
          39,
          40
         ],
         "xaxis": "x73",
         "y": [
          0,
          0,
          0,
          0,
          0,
          8.23936785266596,
          32.615609169301,
          80.1038812846236,
          158.816183119563,
          277.448051416458,
          443.914366628054,
          663.645307317979,
          937.726447002052,
          1261.6216701948,
          1625.3212437573,
          2014.6036152129,
          2413.10998923382,
          2804.94855354153,
          3176.8930838479,
          3519.51720258886,
          3827.61052044182,
          4099.91187274422,
          4338.21448074862,
          4546.33268060186,
          4729.16198109246,
          4891.81006443824,
          5038.84528056497,
          5173.88016534639,
          5299.53349860729,
          5417.52761072878,
          5528.85318508565,
          5634.19072583638,
          5734.10909572662,
          5828.99859334898,
          5919.42441599823,
          6005.52129865416,
          6087.82889002971,
          6166.76844411266,
          6244.11823785674,
          6321.46803160081
         ],
         "yaxis": "y73"
        },
        {
         "line": {
          "color": "rgb(255,255,179)"
         },
         "mode": "lines+text",
         "name": "G02",
         "text": [
          "",
          "",
          "",
          "",
          "",
          "",
          "",
          "",
          "",
          "",
          "",
          "",
          "",
          "",
          "",
          "",
          "",
          "",
          "",
          "",
          "",
          "",
          "",
          "",
          "",
          "",
          "",
          "",
          "",
          "",
          "",
          "",
          "5414.9",
          "",
          "",
          "",
          "",
          "",
          "",
          ""
         ],
         "textfont": {
          "color": "black",
          "family": "sans serif",
          "size": 8
         },
         "textposition": "top left",
         "type": "scatter",
         "x": [
          1,
          2,
          3,
          4,
          5,
          6,
          7,
          8,
          9,
          10,
          11,
          12,
          13,
          14,
          15,
          16,
          17,
          18,
          19,
          20,
          21,
          22,
          23,
          24,
          25,
          26,
          27,
          28,
          29,
          30,
          31,
          32,
          33,
          34,
          35,
          36,
          37,
          38,
          39,
          40
         ],
         "xaxis": "x74",
         "y": [
          0,
          0,
          0,
          0,
          0,
          7.46041106188477,
          30.4457762533948,
          76.1815249032798,
          152.861684344569,
          268.994272075724,
          431.963306353007,
          646.111409201487,
          911.20608723982,
          1221.63481207634,
          1566.86291003901,
          1932.97283307683,
          2304.79466252873,
          2668.12560523405,
          3011.35186099872,
          3326.2202087989,
          3608.06589565833,
          3855.5411733311,
          4069.74334058336,
          4253.49561746808,
          4410.68816135487,
          4545.3712640709,
          4661.37107780338,
          4762.18904678123,
          4850.67891629734,
          4929.03857651332,
          4999.00377788494,
          5061.8117222698,
          5118.3123217891,
          5169.38743401233,
          5215.92265776002,
          5258.89111003819,
          5299.36622887096,
          5338.29274308287,
          5376.63145805439,
          5414.94819578942
         ],
         "yaxis": "y74"
        },
        {
         "line": {
          "color": "rgb(190,186,218)"
         },
         "mode": "lines+text",
         "name": "G03",
         "text": [
          "",
          "",
          "",
          "",
          "",
          "",
          "",
          "",
          "",
          "",
          "",
          "",
          "",
          "",
          "",
          "",
          "",
          "",
          "",
          "",
          "",
          "",
          "",
          "",
          "",
          "",
          "",
          "",
          "",
          "",
          "",
          "",
          "4790.9",
          "",
          "",
          "",
          "",
          "",
          "",
          ""
         ],
         "textfont": {
          "color": "black",
          "family": "sans serif",
          "size": 8
         },
         "textposition": "top left",
         "type": "scatter",
         "x": [
          1,
          2,
          3,
          4,
          5,
          6,
          7,
          8,
          9,
          10,
          11,
          12,
          13,
          14,
          15,
          16,
          17,
          18,
          19,
          20,
          21,
          22,
          23,
          24,
          25,
          26,
          27,
          28,
          29,
          30,
          31,
          32,
          33,
          34,
          35,
          36,
          37,
          38,
          39,
          40
         ],
         "xaxis": "x75",
         "y": [
          0,
          0,
          0,
          0,
          3.0027021563219,
          17.0508358534944,
          49.4955867434628,
          108.728343270064,
          203.020597658101,
          339.032555152289,
          520.821242232586,
          748.852986136101,
          1018.9773432908,
          1322.8482926444,
          1648.90791157332,
          1983.71093297932,
          2313.96247044509,
          2628.30855670038,
          2918.16132941028,
          3178.42606010552,
          3407.18550971984,
          3605.01222526719,
          3774.24938481578,
          3918.21630397227,
          4040.67622701858,
          4145.63427238215,
          4236.85416783316,
          4317.39670349576,
          4389.40464710671,
          4453.84937206623,
          4510.62601742068,
          4559.32001990905,
          4600.03462544436,
          4633.68783329265,
          4662.22824215562,
          4688.18648580949,
          4713.55524281311,
          4739.34985737737,
          4765.14447194162,
          4790.93908650587
         ],
         "yaxis": "y75"
        },
        {
         "line": {
          "color": "rgb(251,128,114)"
         },
         "mode": "lines+text",
         "name": "G04",
         "text": [
          "",
          "",
          "",
          "",
          "",
          "",
          "",
          "",
          "",
          "",
          "",
          "",
          "",
          "",
          "",
          "",
          "",
          "",
          "",
          "",
          "",
          "",
          "",
          "",
          "",
          "",
          "",
          "",
          "",
          "",
          "",
          "",
          "6213.4",
          "",
          "",
          "",
          "",
          "",
          "",
          ""
         ],
         "textfont": {
          "color": "black",
          "family": "sans serif",
          "size": 8
         },
         "textposition": "top left",
         "type": "scatter",
         "x": [
          1,
          2,
          3,
          4,
          5,
          6,
          7,
          8,
          9,
          10,
          11,
          12,
          13,
          14,
          15,
          16,
          17,
          18,
          19,
          20,
          21,
          22,
          23,
          24,
          25,
          26,
          27,
          28,
          29,
          30,
          31,
          32,
          33,
          34,
          35,
          36,
          37,
          38,
          39,
          40
         ],
         "xaxis": "x76",
         "y": [
          0,
          0,
          0,
          0,
          0,
          0,
          0,
          10.7626291230399,
          39.6926322353775,
          93.6247382867459,
          181.07988016363,
          311.690026597343,
          494.523255090075,
          735.83374385488,
          1036.64069379243,
          1391.29774364219,
          1787.81719206022,
          2209.52661185334,
          2637.80873955226,
          3055.24118018925,
          3447.79024652224,
          3806.01466825998,
          4125.21789983714,
          4404.71801081531,
          4646.79531585194,
          4855.53046615442,
          5035.76282740004,
          5192.30047106708,
          5329.35209540692,
          5450.31612480239,
          5557.99522843936,
          5654.74174573198,
          5742.66749267615,
          5823.57054916253,
          5899.01369572966,
          5969.14072207229,
          6034.62210613357,
          6095.48189412959,
          6154.43898347523,
          6213.39607282087
         ],
         "yaxis": "y76"
        },
        {
         "line": {
          "color": "rgb(128,177,211)"
         },
         "mode": "lines+text",
         "name": "G05",
         "text": [
          "",
          "",
          "",
          "",
          "",
          "",
          "",
          "",
          "",
          "",
          "",
          "",
          "",
          "",
          "",
          "",
          "",
          "",
          "",
          "",
          "",
          "",
          "",
          "",
          "",
          "",
          "",
          "",
          "",
          "",
          "",
          "",
          "5222.7",
          "",
          "",
          "",
          "",
          "",
          "",
          ""
         ],
         "textfont": {
          "color": "black",
          "family": "sans serif",
          "size": 8
         },
         "textposition": "top left",
         "type": "scatter",
         "x": [
          1,
          2,
          3,
          4,
          5,
          6,
          7,
          8,
          9,
          10,
          11,
          12,
          13,
          14,
          15,
          16,
          17,
          18,
          19,
          20,
          21,
          22,
          23,
          24,
          25,
          26,
          27,
          28,
          29,
          30,
          31,
          32,
          33,
          34,
          35,
          36,
          37,
          38,
          39,
          40
         ],
         "xaxis": "x77",
         "y": [
          0,
          0,
          0,
          0,
          0,
          0,
          0,
          0,
          7.52677455230241,
          30.9259513242241,
          77.7053309160001,
          156.51278047397,
          276.133334175326,
          443.944888046594,
          664.004600915376,
          935.256333438937,
          1251.10845855666,
          1600.12101988689,
          1967.56480200699,
          2337.87553147253,
          2696.91195905632,
          3033.43858337256,
          3339.97195738923,
          3612.92820893278,
          3852.03244497785,
          4059.50656780971,
          4239.02921861968,
          4394.70924714518,
          4530.43131032779,
          4649.41127572482,
          4754.0452770152,
          4845.97557765943,
          4926.22296392342,
          4995.31867915004,
          5053.91952502052,
          5102.15643934642,
          5140.75727969669,
          5171.22154684486,
          5196.9771516469,
          5222.73275644893
         ],
         "yaxis": "y77"
        },
        {
         "line": {
          "color": "rgb(253,180,98)"
         },
         "mode": "lines+text",
         "name": "G06",
         "text": [
          "",
          "",
          "",
          "",
          "",
          "",
          "",
          "",
          "",
          "",
          "",
          "",
          "",
          "",
          "",
          "",
          "",
          "",
          "",
          "",
          "",
          "",
          "",
          "",
          "",
          "",
          "",
          "",
          "",
          "",
          "",
          "",
          "6078.7",
          "",
          "",
          "",
          "",
          "",
          "",
          ""
         ],
         "textfont": {
          "color": "black",
          "family": "sans serif",
          "size": 8
         },
         "textposition": "top left",
         "type": "scatter",
         "x": [
          1,
          2,
          3,
          4,
          5,
          6,
          7,
          8,
          9,
          10,
          11,
          12,
          13,
          14,
          15,
          16,
          17,
          18,
          19,
          20,
          21,
          22,
          23,
          24,
          25,
          26,
          27,
          28,
          29,
          30,
          31,
          32,
          33,
          34,
          35,
          36,
          37,
          38,
          39,
          40
         ],
         "xaxis": "x78",
         "y": [
          0,
          0,
          0,
          0,
          0,
          0,
          6.63171051818063,
          27.2623641385189,
          68.8757517984486,
          140.119683951434,
          250.873710141123,
          410.861760020914,
          627.588373600764,
          904.18588331474,
          1237.81276874743,
          1619.15942753512,
          2033.62135143427,
          2463.59487116147,
          2891.30701589306,
          3301.3737783544,
          3682.5772850466,
          4028.40220002834,
          4336.49977095112,
          4607.59415687792,
          4844.19640366879,
          5049.36369243036,
          5226.04695956261,
          5377.04821570037,
          5505.04870176105,
          5612.80467812288,
          5703.31445749703,
          5779.47257364012,
          5843.72969314767,
          5897.93519080164,
          5943.44226570447,
          5981.18379766249,
          6011.74840657129,
          6036.68629277286,
          6057.69086773555,
          6078.69544269823
         ],
         "yaxis": "y78"
        },
        {
         "line": {
          "color": "rgb(179,222,105)"
         },
         "mode": "lines+text",
         "name": "G07",
         "text": [
          "",
          "",
          "",
          "",
          "",
          "",
          "",
          "",
          "",
          "",
          "",
          "",
          "",
          "",
          "",
          "",
          "",
          "",
          "",
          "",
          "",
          "",
          "",
          "",
          "",
          "",
          "",
          "",
          "",
          "",
          "",
          "",
          "6516.3",
          "",
          "",
          "",
          "",
          "",
          "",
          ""
         ],
         "textfont": {
          "color": "black",
          "family": "sans serif",
          "size": 8
         },
         "textposition": "top left",
         "type": "scatter",
         "x": [
          1,
          2,
          3,
          4,
          5,
          6,
          7,
          8,
          9,
          10,
          11,
          12,
          13,
          14,
          15,
          16,
          17,
          18,
          19,
          20,
          21,
          22,
          23,
          24,
          25,
          26,
          27,
          28,
          29,
          30,
          31,
          32,
          33,
          34,
          35,
          36,
          37,
          38,
          39,
          40
         ],
         "xaxis": "x79",
         "y": [
          0,
          0,
          0,
          0,
          0,
          0,
          0,
          0,
          0,
          0,
          0,
          0,
          0,
          0,
          0,
          0,
          12.8865964955367,
          48.1311762702417,
          114.406423123522,
          222.037801439112,
          382.058252694362,
          604.466252733077,
          895.717329945963,
          1256.36723888442,
          1679.96805946818,
          2153.38371488129,
          2658.23718728607,
          3173.78252898838,
          3679.68973272381,
          4158.16867430652,
          4595.5515861255,
          4982.93393581637,
          5315.98618613829,
          5594.75367507666,
          5823.36158984852,
          6007.99450540225,
          6156.54537329501,
          6276.45472548373,
          6396.36407767245,
          6516.27342986117
         ],
         "yaxis": "y79"
        },
        {
         "line": {
          "color": "rgb(252,205,229)"
         },
         "mode": "lines+text",
         "name": "G08",
         "text": [
          "",
          "",
          "",
          "",
          "",
          "",
          "",
          "",
          "",
          "",
          "",
          "",
          "",
          "",
          "",
          "",
          "",
          "",
          "",
          "",
          "",
          "",
          "",
          "",
          "",
          "",
          "",
          "",
          "",
          "",
          "",
          "",
          "5795.9",
          "",
          "",
          "",
          "",
          "",
          "",
          ""
         ],
         "textfont": {
          "color": "black",
          "family": "sans serif",
          "size": 8
         },
         "textposition": "top left",
         "type": "scatter",
         "x": [
          1,
          2,
          3,
          4,
          5,
          6,
          7,
          8,
          9,
          10,
          11,
          12,
          13,
          14,
          15,
          16,
          17,
          18,
          19,
          20,
          21,
          22,
          23,
          24,
          25,
          26,
          27,
          28,
          29,
          30,
          31,
          32,
          33,
          34,
          35,
          36,
          37,
          38,
          39,
          40
         ],
         "xaxis": "x80",
         "y": [
          0,
          0,
          0,
          0,
          0,
          0,
          0,
          0,
          0,
          0,
          0,
          0,
          0,
          0,
          7.29468841103426,
          28.4240214742204,
          69.8899161594072,
          140.202598383677,
          249.326483990048,
          407.179611614756,
          621.594497568188,
          896.233436444712,
          1228.82746341374,
          1610.85895944485,
          2028.70745733942,
          2465.5362218022,
          2903.70678127534,
          3327.34564660258,
          3723.83923554486,
          4084.35531545586,
          4404.014880658,
          4681.37722825153,
          4917.5183322826,
          5115.42719722316,
          5279.65798259267,
          5415.1310592231,
          5527.38630463179,
          5622.96036349979,
          5709.44452167412,
          5795.92867984845
         ],
         "yaxis": "y80"
        },
        {
         "line": {
          "color": "rgb(217,217,217)"
         },
         "mode": "lines+text",
         "name": "G09",
         "text": [
          "",
          "",
          "",
          "",
          "",
          "",
          "",
          "",
          "",
          "",
          "",
          "",
          "",
          "",
          "",
          "",
          "",
          "",
          "",
          "",
          "",
          "",
          "",
          "",
          "",
          "",
          "",
          "",
          "",
          "",
          "",
          "",
          "5626.5",
          "",
          "",
          "",
          "",
          "",
          "",
          ""
         ],
         "textfont": {
          "color": "black",
          "family": "sans serif",
          "size": 8
         },
         "textposition": "top left",
         "type": "scatter",
         "x": [
          1,
          2,
          3,
          4,
          5,
          6,
          7,
          8,
          9,
          10,
          11,
          12,
          13,
          14,
          15,
          16,
          17,
          18,
          19,
          20,
          21,
          22,
          23,
          24,
          25,
          26,
          27,
          28,
          29,
          30,
          31,
          32,
          33,
          34,
          35,
          36,
          37,
          38,
          39,
          40
         ],
         "xaxis": "x81",
         "y": [
          0,
          0,
          0,
          0,
          0,
          0,
          0,
          0,
          0,
          0,
          0,
          0,
          0,
          8.82523224165652,
          32.3787954404306,
          76.6440298032621,
          149.330604305358,
          259.330550394562,
          415.388951487057,
          624.18364725378,
          888.281661558436,
          1204.78709598373,
          1565.14884242941,
          1956.23440875412,
          2362.37593226749,
          2767.87984250657,
          3159.10361319592,
          3525.70653203746,
          3861.10569318405,
          4162.16243026087,
          4428.26107948518,
          4660.4838877993,
          4860.83758758967,
          5031.67204751404,
          5176.00001431333,
          5296.28207933316,
          5395.7464344173,
          5478.88566964442,
          5552.7166568765,
          5626.54764410856
         ],
         "yaxis": "y81"
        },
        {
         "line": {
          "color": "rgb(188,128,189)"
         },
         "mode": "lines+text",
         "name": "G10",
         "text": [
          "",
          "",
          "",
          "",
          "",
          "",
          "",
          "",
          "",
          "",
          "",
          "",
          "",
          "",
          "",
          "",
          "",
          "",
          "",
          "",
          "",
          "",
          "",
          "",
          "",
          "",
          "",
          "",
          "",
          "",
          "",
          "",
          "3948.6",
          "",
          "",
          "",
          "",
          "",
          "",
          ""
         ],
         "textfont": {
          "color": "black",
          "family": "sans serif",
          "size": 8
         },
         "textposition": "top left",
         "type": "scatter",
         "x": [
          1,
          2,
          3,
          4,
          5,
          6,
          7,
          8,
          9,
          10,
          11,
          12,
          13,
          14,
          15,
          16,
          17,
          18,
          19,
          20,
          21,
          22,
          23,
          24,
          25,
          26,
          27,
          28,
          29,
          30,
          31,
          32,
          33,
          34,
          35,
          36,
          37,
          38,
          39,
          40
         ],
         "xaxis": "x82",
         "y": [
          0,
          0,
          0,
          0,
          0,
          0,
          0,
          0,
          0,
          0,
          0,
          0,
          0,
          0,
          0,
          0,
          0,
          0,
          0,
          0,
          0,
          0,
          0,
          8.84415634377274,
          32.9805343311536,
          78.984620879316,
          155.08758831159,
          270.593171464508,
          434.317839263248,
          652.094747116723,
          924.576570266869,
          1245.88011211103,
          1603.79142342434,
          1981.06836252534,
          2358.57939677966,
          2720.22974372658,
          3057.11423057174,
          3366.48299994165,
          3657.99141005454,
          3948.59711634227
         ],
         "yaxis": "y82"
        },
        {
         "line": {
          "color": "rgb(204,235,197)"
         },
         "mode": "lines+text",
         "name": "G11",
         "text": [
          "",
          "",
          "",
          "",
          "",
          "",
          "",
          "",
          "",
          "",
          "",
          "",
          "",
          "",
          "",
          "",
          "",
          "",
          "",
          "",
          "",
          "",
          "",
          "",
          "",
          "",
          "",
          "",
          "",
          "",
          "",
          "",
          "4400.1",
          "",
          "",
          "",
          "",
          "",
          "",
          ""
         ],
         "textfont": {
          "color": "black",
          "family": "sans serif",
          "size": 8
         },
         "textposition": "top left",
         "type": "scatter",
         "x": [
          1,
          2,
          3,
          4,
          5,
          6,
          7,
          8,
          9,
          10,
          11,
          12,
          13,
          14,
          15,
          16,
          17,
          18,
          19,
          20,
          21,
          22,
          23,
          24,
          25,
          26,
          27,
          28,
          29,
          30,
          31,
          32,
          33,
          34,
          35,
          36,
          37,
          38,
          39,
          40
         ],
         "xaxis": "x83",
         "y": [
          0,
          0,
          0,
          0,
          0,
          0,
          0,
          0,
          0,
          0,
          0,
          0,
          0,
          0,
          0,
          0,
          0,
          0,
          0,
          0,
          0,
          0,
          9.57797149906037,
          34.8782070720235,
          82.4867207223733,
          161.063027198825,
          280.786758721266,
          451.67024505006,
          680.959968613504,
          970.612128849299,
          1315.71137422243,
          1703.98055067421,
          2116.94306159335,
          2532.78157575587,
          2929.89415734405,
          3291.73524855185,
          3611.80423716298,
          3891.06530472942,
          4145.98922240674,
          4400.09726485062
         ],
         "yaxis": "y83"
        },
        {
         "line": {
          "color": "rgb(255,237,111)"
         },
         "mode": "lines+text",
         "name": "G12",
         "text": [
          "",
          "",
          "",
          "",
          "",
          "",
          "",
          "",
          "",
          "",
          "",
          "",
          "",
          "",
          "",
          "",
          "",
          "",
          "",
          "",
          "",
          "",
          "",
          "",
          "",
          "",
          "",
          "",
          "",
          "",
          "",
          "",
          "3610.6",
          "",
          "",
          "",
          "",
          "",
          "",
          ""
         ],
         "textfont": {
          "color": "black",
          "family": "sans serif",
          "size": 8
         },
         "textposition": "top left",
         "type": "scatter",
         "x": [
          1,
          2,
          3,
          4,
          5,
          6,
          7,
          8,
          9,
          10,
          11,
          12,
          13,
          14,
          15,
          16,
          17,
          18,
          19,
          20,
          21,
          22,
          23,
          24,
          25,
          26,
          27,
          28,
          29,
          30,
          31,
          32,
          33,
          34,
          35,
          36,
          37,
          38,
          39,
          40
         ],
         "xaxis": "x84",
         "y": [
          0,
          0,
          0,
          0,
          0,
          0,
          0,
          0,
          0,
          0,
          0,
          0,
          0,
          0,
          0,
          0,
          0,
          0,
          0,
          0,
          0,
          8.07115817727026,
          28.5803415484279,
          66.1136174712465,
          126.807581331486,
          217.980830417751,
          346.89716841595,
          519.119276096779,
          736.674697601119,
          996.613036393253,
          1290.71963549681,
          1606.50121855182,
          1929.41306527707,
          2244.52412636702,
          2540.82481672754,
          2804.5645511746,
          3031.87538812305,
          3224.78939941606,
          3417.70341070906,
          3610.61742200207
         ],
         "yaxis": "y84"
        },
        {
         "line": {
          "color": "rgb(141,211,199)"
         },
         "mode": "lines+text",
         "name": "H01",
         "text": [
          "",
          "",
          "",
          "",
          "",
          "",
          "",
          "",
          "",
          "",
          "",
          "",
          "",
          "",
          "",
          "",
          "",
          "",
          "",
          "",
          "",
          "",
          "",
          "",
          "",
          "",
          "",
          "",
          "",
          "",
          "",
          "",
          "5594.5",
          "",
          "",
          "",
          "",
          "",
          "",
          ""
         ],
         "textfont": {
          "color": "black",
          "family": "sans serif",
          "size": 8
         },
         "textposition": "top left",
         "type": "scatter",
         "x": [
          1,
          2,
          3,
          4,
          5,
          6,
          7,
          8,
          9,
          10,
          11,
          12,
          13,
          14,
          15,
          16,
          17,
          18,
          19,
          20,
          21,
          22,
          23,
          24,
          25,
          26,
          27,
          28,
          29,
          30,
          31,
          32,
          33,
          34,
          35,
          36,
          37,
          38,
          39,
          40
         ],
         "xaxis": "x85",
         "y": [
          0,
          0,
          0,
          0,
          0,
          0,
          0,
          0,
          0,
          0,
          0,
          0,
          0,
          0,
          0,
          0,
          0,
          0,
          0,
          0,
          0,
          0,
          0,
          6.20492556470253,
          24.8334748113002,
          63.6622421031125,
          134.448699695704,
          252.476858375961,
          434.209335625203,
          693.305540279891,
          1036.39181946487,
          1460.16681794521,
          1951.50077444712,
          2489.06786439289,
          3051.04037600709,
          3607.76435407494,
          4142.44465602976,
          4638.83091132057,
          5116.68288713929,
          5594.534862958
         ],
         "yaxis": "y85"
        },
        {
         "line": {
          "color": "rgb(255,255,179)"
         },
         "mode": "lines+text",
         "name": "H02",
         "text": [
          "",
          "",
          "",
          "",
          "",
          "",
          "",
          "",
          "",
          "",
          "",
          "",
          "",
          "",
          "",
          "",
          "",
          "",
          "",
          "",
          "",
          "",
          "",
          "",
          "",
          "",
          "",
          "",
          "",
          "",
          "",
          "",
          "6301.6",
          "",
          "",
          "",
          "",
          "",
          "",
          ""
         ],
         "textfont": {
          "color": "black",
          "family": "sans serif",
          "size": 8
         },
         "textposition": "top left",
         "type": "scatter",
         "x": [
          1,
          2,
          3,
          4,
          5,
          6,
          7,
          8,
          9,
          10,
          11,
          12,
          13,
          14,
          15,
          16,
          17,
          18,
          19,
          20,
          21,
          22,
          23,
          24,
          25,
          26,
          27,
          28,
          29,
          30,
          31,
          32,
          33,
          34,
          35,
          36,
          37,
          38,
          39,
          40
         ],
         "xaxis": "x86",
         "y": [
          0,
          0,
          0,
          0,
          0,
          0,
          0,
          0,
          0,
          0,
          0,
          0,
          0,
          0,
          0,
          0,
          0,
          0,
          0,
          0,
          0,
          0,
          0,
          17.5298503175045,
          59.2819675852506,
          134.565192314936,
          257.084338790529,
          443.146504027498,
          707.83340325101,
          1060.25915755678,
          1499.83881329102,
          2014.88043214163,
          2584.09683687608,
          3180.53181223122,
          3779.01563636298,
          4353.97179379175,
          4889.93782140327,
          5379.97044301445,
          5840.79499446666,
          6301.61954591886
         ],
         "yaxis": "y86"
        },
        {
         "line": {
          "color": "rgb(190,186,218)"
         },
         "mode": "lines+text",
         "name": "H03",
         "text": [
          "",
          "",
          "",
          "",
          "",
          "",
          "",
          "",
          "",
          "",
          "",
          "",
          "",
          "",
          "",
          "",
          "",
          "",
          "",
          "",
          "",
          "",
          "",
          "",
          "",
          "",
          "",
          "",
          "",
          "",
          "",
          "",
          "6875.2",
          "",
          "",
          "",
          "",
          "",
          "",
          ""
         ],
         "textfont": {
          "color": "black",
          "family": "sans serif",
          "size": 8
         },
         "textposition": "top left",
         "type": "scatter",
         "x": [
          1,
          2,
          3,
          4,
          5,
          6,
          7,
          8,
          9,
          10,
          11,
          12,
          13,
          14,
          15,
          16,
          17,
          18,
          19,
          20,
          21,
          22,
          23,
          24,
          25,
          26,
          27,
          28,
          29,
          30,
          31,
          32,
          33,
          34,
          35,
          36,
          37,
          38,
          39,
          40
         ],
         "xaxis": "x87",
         "y": [
          0,
          0,
          0,
          0,
          0,
          0,
          0,
          0,
          0,
          0,
          0,
          0,
          0,
          0,
          0,
          0,
          0,
          0,
          0,
          0,
          0,
          0,
          12.5131832468787,
          46.4046850236182,
          112.595737306294,
          226.530723895708,
          406.502899681875,
          669.6432611981,
          1026.76302249711,
          1477.92836176447,
          2010.76608011744,
          2602.1052104397,
          3222.67193276715,
          3843.25651706062,
          4441.30842690845,
          5000.42171548624,
          5514.32082508572,
          5985.21965936166,
          6430.18599240529,
          6875.15232544891
         ],
         "yaxis": "y87"
        },
        {
         "line": {
          "color": "rgb(251,128,114)"
         },
         "mode": "lines+text",
         "name": "H04",
         "text": [
          "",
          "",
          "",
          "",
          "",
          "",
          "",
          "",
          "",
          "",
          "",
          "",
          "",
          "",
          "",
          "",
          "",
          "",
          "",
          "",
          "",
          "",
          "",
          "",
          "",
          "",
          "",
          "",
          "",
          "",
          "",
          "",
          "3212.7",
          "",
          "",
          "",
          "",
          "",
          "",
          ""
         ],
         "textfont": {
          "color": "black",
          "family": "sans serif",
          "size": 8
         },
         "textposition": "top left",
         "type": "scatter",
         "x": [
          1,
          2,
          3,
          4,
          5,
          6,
          7,
          8,
          9,
          10,
          11,
          12,
          13,
          14,
          15,
          16,
          17,
          18,
          19,
          20,
          21,
          22,
          23,
          24,
          25,
          26,
          27,
          28,
          29,
          30,
          31,
          32,
          33,
          34,
          35,
          36,
          37,
          38,
          39,
          40
         ],
         "xaxis": "x88",
         "y": [
          0,
          0,
          0,
          0,
          0,
          0,
          0,
          0,
          0,
          0,
          0,
          0,
          0,
          0,
          0,
          0,
          0,
          0,
          0,
          0,
          0,
          0,
          0,
          0,
          0,
          0,
          0,
          17.513312232315,
          52.0951387669384,
          108.82342627131,
          195.214872841669,
          321.766623118646,
          499.725845202985,
          738.059702487166,
          1040.88564318798,
          1406.0547269044,
          1824.76260010047,
          2287.42034430191,
          2750.07808850335,
          3212.7358327048
         ],
         "yaxis": "y88"
        },
        {
         "line": {
          "color": "rgb(128,177,211)"
         },
         "mode": "lines+text",
         "name": "H05",
         "text": [
          "",
          "",
          "",
          "",
          "",
          "",
          "",
          "",
          "",
          "",
          "",
          "",
          "",
          "",
          "",
          "",
          "",
          "",
          "",
          "",
          "",
          "",
          "",
          "",
          "",
          "",
          "",
          "",
          "",
          "",
          "",
          "",
          "4726.3",
          "",
          "",
          "",
          "",
          "",
          "",
          ""
         ],
         "textfont": {
          "color": "black",
          "family": "sans serif",
          "size": 8
         },
         "textposition": "top left",
         "type": "scatter",
         "x": [
          1,
          2,
          3,
          4,
          5,
          6,
          7,
          8,
          9,
          10,
          11,
          12,
          13,
          14,
          15,
          16,
          17,
          18,
          19,
          20,
          21,
          22,
          23,
          24,
          25,
          26,
          27,
          28,
          29,
          30,
          31,
          32,
          33,
          34,
          35,
          36,
          37,
          38,
          39,
          40
         ],
         "xaxis": "x89",
         "y": [
          0,
          0,
          0,
          0,
          0,
          0,
          0,
          0,
          0,
          0,
          0,
          0,
          0,
          0,
          0,
          0,
          0,
          0,
          0,
          0,
          0,
          0,
          0,
          0,
          0,
          0,
          11.2820411258981,
          40.7565702435195,
          97.6345903381543,
          195.639403342037,
          351.928800203149,
          583.435515488709,
          902.098808899859,
          1309.4901494957,
          1794.61081935501,
          2338.17617040858,
          2918.68216091646,
          3521.22798033722,
          4123.77379975798,
          4726.31961917874
         ],
         "yaxis": "y89"
        },
        {
         "line": {
          "color": "rgb(253,180,98)"
         },
         "mode": "lines+text",
         "name": "H06",
         "text": [
          "",
          "",
          "",
          "",
          "",
          "",
          "",
          "",
          "",
          "",
          "",
          "",
          "",
          "",
          "",
          "",
          "",
          "",
          "",
          "",
          "",
          "",
          "",
          "",
          "",
          "",
          "",
          "",
          "",
          "",
          "",
          "",
          "4854.7",
          "",
          "",
          "",
          "",
          "",
          "",
          ""
         ],
         "textfont": {
          "color": "black",
          "family": "sans serif",
          "size": 8
         },
         "textposition": "top left",
         "type": "scatter",
         "x": [
          1,
          2,
          3,
          4,
          5,
          6,
          7,
          8,
          9,
          10,
          11,
          12,
          13,
          14,
          15,
          16,
          17,
          18,
          19,
          20,
          21,
          22,
          23,
          24,
          25,
          26,
          27,
          28,
          29,
          30,
          31,
          32,
          33,
          34,
          35,
          36,
          37,
          38,
          39,
          40
         ],
         "xaxis": "x90",
         "y": [
          0,
          0,
          0,
          0,
          0,
          0,
          0,
          0,
          0,
          0,
          0,
          0,
          0,
          0,
          0,
          0,
          0,
          0,
          0,
          0,
          0,
          0,
          0,
          0,
          10.5908729653656,
          36.7496134587755,
          85.5677973385236,
          168.073273487428,
          298.474470416378,
          491.440759857039,
          758.152673066776,
          1102.35565948872,
          1517.94482389594,
          1988.22352735487,
          2488.6749571594,
          2994.2721499457,
          3487.04408619683,
          3955.54764382217,
          4405.87837850989,
          4854.74977778625
         ],
         "yaxis": "y90"
        },
        {
         "line": {
          "color": "rgb(179,222,105)"
         },
         "mode": "lines+text",
         "name": "H07",
         "text": [
          "",
          "",
          "",
          "",
          "",
          "",
          "",
          "",
          "",
          "",
          "",
          "",
          "",
          "",
          "",
          "",
          "",
          "",
          "",
          "",
          "",
          "",
          "",
          "",
          "",
          "",
          "",
          "",
          "",
          "",
          "",
          "",
          "0.0",
          "",
          "",
          "",
          "",
          "",
          "",
          ""
         ],
         "textfont": {
          "color": "black",
          "family": "sans serif",
          "size": 8
         },
         "textposition": "top left",
         "type": "scatter",
         "x": [
          1,
          2,
          3,
          4,
          5,
          6,
          7,
          8,
          9,
          10,
          11,
          12,
          13,
          14,
          15,
          16,
          17,
          18,
          19,
          20,
          21,
          22,
          23,
          24,
          25,
          26,
          27,
          28,
          29,
          30,
          31,
          32,
          33,
          34,
          35,
          36,
          37,
          38,
          39,
          40
         ],
         "xaxis": "x91",
         "y": [
          0,
          0,
          0,
          0,
          0,
          0,
          0,
          0,
          0,
          0,
          0,
          0,
          0,
          0,
          0,
          0,
          0,
          0,
          0,
          0,
          0,
          0,
          0,
          0,
          0,
          0,
          0,
          0,
          0,
          0,
          0,
          0,
          0,
          0,
          0,
          0,
          0,
          0,
          0,
          0
         ],
         "yaxis": "y91"
        },
        {
         "line": {
          "color": "rgb(252,205,229)"
         },
         "mode": "lines+text",
         "name": "H08",
         "text": [
          "",
          "",
          "",
          "",
          "",
          "",
          "",
          "",
          "",
          "",
          "",
          "",
          "",
          "",
          "",
          "",
          "",
          "",
          "",
          "",
          "",
          "",
          "",
          "",
          "",
          "",
          "",
          "",
          "",
          "",
          "",
          "",
          "0.0",
          "",
          "",
          "",
          "",
          "",
          "",
          ""
         ],
         "textfont": {
          "color": "black",
          "family": "sans serif",
          "size": 8
         },
         "textposition": "top left",
         "type": "scatter",
         "x": [
          1,
          2,
          3,
          4,
          5,
          6,
          7,
          8,
          9,
          10,
          11,
          12,
          13,
          14,
          15,
          16,
          17,
          18,
          19,
          20,
          21,
          22,
          23,
          24,
          25,
          26,
          27,
          28,
          29,
          30,
          31,
          32,
          33,
          34,
          35,
          36,
          37,
          38,
          39,
          40
         ],
         "xaxis": "x92",
         "y": [
          0,
          0,
          0,
          0,
          0,
          0,
          0,
          0,
          0,
          0,
          0,
          0,
          0,
          0,
          0,
          0,
          0,
          0,
          0,
          0,
          0,
          0,
          0,
          0,
          0,
          0,
          0,
          0,
          0,
          0,
          0,
          0,
          0,
          0,
          0,
          0,
          0,
          0,
          0,
          0
         ],
         "yaxis": "y92"
        },
        {
         "line": {
          "color": "rgb(217,217,217)"
         },
         "mode": "lines+text",
         "name": "H09",
         "text": [
          "",
          "",
          "",
          "",
          "",
          "",
          "",
          "",
          "",
          "",
          "",
          "",
          "",
          "",
          "",
          "",
          "",
          "",
          "",
          "",
          "",
          "",
          "",
          "",
          "",
          "",
          "",
          "",
          "",
          "",
          "",
          "",
          "1030.6",
          "",
          "",
          "",
          "",
          "",
          "",
          ""
         ],
         "textfont": {
          "color": "black",
          "family": "sans serif",
          "size": 8
         },
         "textposition": "top left",
         "type": "scatter",
         "x": [
          1,
          2,
          3,
          4,
          5,
          6,
          7,
          8,
          9,
          10,
          11,
          12,
          13,
          14,
          15,
          16,
          17,
          18,
          19,
          20,
          21,
          22,
          23,
          24,
          25,
          26,
          27,
          28,
          29,
          30,
          31,
          32,
          33,
          34,
          35,
          36,
          37,
          38,
          39,
          40
         ],
         "xaxis": "x93",
         "y": [
          0,
          0,
          0,
          0,
          0,
          0,
          0,
          2.12001003706428,
          7.02674405926427,
          14.9649916357785,
          25.6621204296234,
          38.6762078794427,
          53.5988032222513,
          70.1433667280526,
          88.176845337247,
          107.657722105546,
          128.585573228259,
          150.974171866877,
          174.814637329407,
          200.140147738222,
          227.082213358473,
          255.845919616806,
          286.731510264802,
          320.124708662432,
          356.230930001298,
          395.009015714239,
          436.164754662259,
          479.090087969904,
          523.018387135016,
          567.326635733528,
          611.590034916665,
          655.658904981688,
          699.726134803281,
          744.186290202954,
          789.470974449991,
          835.936980434414,
          883.697352876166,
          932.67135821286,
          981.645363549555,
          1030.61936888625
         ],
         "yaxis": "y93"
        },
        {
         "line": {
          "color": "rgb(188,128,189)"
         },
         "mode": "lines+text",
         "name": "H10",
         "text": [
          "",
          "",
          "",
          "",
          "",
          "",
          "",
          "",
          "",
          "",
          "",
          "",
          "",
          "",
          "",
          "",
          "",
          "",
          "",
          "",
          "",
          "",
          "",
          "",
          "",
          "",
          "",
          "",
          "",
          "",
          "",
          "",
          "0.0",
          "",
          "",
          "",
          "",
          "",
          "",
          ""
         ],
         "textfont": {
          "color": "black",
          "family": "sans serif",
          "size": 8
         },
         "textposition": "top left",
         "type": "scatter",
         "x": [
          1,
          2,
          3,
          4,
          5,
          6,
          7,
          8,
          9,
          10,
          11,
          12,
          13,
          14,
          15,
          16,
          17,
          18,
          19,
          20,
          21,
          22,
          23,
          24,
          25,
          26,
          27,
          28,
          29,
          30,
          31,
          32,
          33,
          34,
          35,
          36,
          37,
          38,
          39,
          40
         ],
         "xaxis": "x94",
         "y": [
          0,
          0,
          0,
          0,
          0,
          0,
          0,
          0,
          0,
          0,
          0,
          0,
          0,
          0,
          0,
          0,
          0,
          0,
          0,
          0,
          0,
          0,
          0,
          0,
          0,
          0,
          0,
          0,
          0,
          0,
          0,
          0,
          0,
          0,
          0,
          0,
          0,
          0,
          0,
          0
         ],
         "yaxis": "y94"
        },
        {
         "line": {
          "color": "rgb(204,235,197)"
         },
         "mode": "lines+text",
         "name": "H11",
         "text": [
          "",
          "",
          "",
          "",
          "",
          "",
          "",
          "",
          "",
          "",
          "",
          "",
          "",
          "",
          "",
          "",
          "",
          "",
          "",
          "",
          "",
          "",
          "",
          "",
          "",
          "",
          "",
          "",
          "",
          "",
          "",
          "",
          "0.0",
          "",
          "",
          "",
          "",
          "",
          "",
          ""
         ],
         "textfont": {
          "color": "black",
          "family": "sans serif",
          "size": 8
         },
         "textposition": "top left",
         "type": "scatter",
         "x": [
          1,
          2,
          3,
          4,
          5,
          6,
          7,
          8,
          9,
          10,
          11,
          12,
          13,
          14,
          15,
          16,
          17,
          18,
          19,
          20,
          21,
          22,
          23,
          24,
          25,
          26,
          27,
          28,
          29,
          30,
          31,
          32,
          33,
          34,
          35,
          36,
          37,
          38,
          39,
          40
         ],
         "xaxis": "x95",
         "y": [
          0,
          0,
          0,
          0,
          0,
          0,
          0,
          0,
          0,
          0,
          0,
          0,
          0,
          0,
          0,
          0,
          0,
          0,
          0,
          0,
          0,
          0,
          0,
          0,
          0,
          0,
          0,
          0,
          0,
          0,
          0,
          0,
          0,
          0,
          0,
          0,
          0,
          0,
          0,
          0
         ],
         "yaxis": "y95"
        },
        {
         "line": {
          "color": "rgb(255,237,111)"
         },
         "mode": "lines+text",
         "name": "H12",
         "text": [
          "",
          "",
          "",
          "",
          "",
          "",
          "",
          "",
          "",
          "",
          "",
          "",
          "",
          "",
          "",
          "",
          "",
          "",
          "",
          "",
          "",
          "",
          "",
          "",
          "",
          "",
          "",
          "",
          "",
          "",
          "",
          "",
          "0.0",
          "",
          "",
          "",
          "",
          "",
          "",
          ""
         ],
         "textfont": {
          "color": "black",
          "family": "sans serif",
          "size": 8
         },
         "textposition": "top left",
         "type": "scatter",
         "x": [
          1,
          2,
          3,
          4,
          5,
          6,
          7,
          8,
          9,
          10,
          11,
          12,
          13,
          14,
          15,
          16,
          17,
          18,
          19,
          20,
          21,
          22,
          23,
          24,
          25,
          26,
          27,
          28,
          29,
          30,
          31,
          32,
          33,
          34,
          35,
          36,
          37,
          38,
          39,
          40
         ],
         "xaxis": "x96",
         "y": [
          0,
          0,
          0,
          0,
          0,
          0,
          0,
          0,
          0,
          0,
          0,
          0,
          0,
          0,
          0,
          0,
          0,
          0,
          0,
          0,
          0,
          0,
          0,
          0,
          0,
          0,
          0,
          0,
          0,
          0,
          0,
          0,
          0,
          0,
          0,
          0,
          0,
          0,
          0,
          0
         ],
         "yaxis": "y96"
        }
       ],
       "layout": {
        "annotations": [
         {
          "font": {
           "size": 16
          },
          "showarrow": false,
          "text": "A01",
          "x": 0.034027777777777775,
          "xanchor": "center",
          "xref": "paper",
          "y": 1,
          "yanchor": "bottom",
          "yref": "paper"
         },
         {
          "font": {
           "size": 16
          },
          "showarrow": false,
          "text": "A02",
          "x": 0.11875,
          "xanchor": "center",
          "xref": "paper",
          "y": 1,
          "yanchor": "bottom",
          "yref": "paper"
         },
         {
          "font": {
           "size": 16
          },
          "showarrow": false,
          "text": "A03",
          "x": 0.20347222222222222,
          "xanchor": "center",
          "xref": "paper",
          "y": 1,
          "yanchor": "bottom",
          "yref": "paper"
         },
         {
          "font": {
           "size": 16
          },
          "showarrow": false,
          "text": "A04",
          "x": 0.2881944444444444,
          "xanchor": "center",
          "xref": "paper",
          "y": 1,
          "yanchor": "bottom",
          "yref": "paper"
         },
         {
          "font": {
           "size": 16
          },
          "showarrow": false,
          "text": "A05",
          "x": 0.3729166666666666,
          "xanchor": "center",
          "xref": "paper",
          "y": 1,
          "yanchor": "bottom",
          "yref": "paper"
         },
         {
          "font": {
           "size": 16
          },
          "showarrow": false,
          "text": "A06",
          "x": 0.4576388888888888,
          "xanchor": "center",
          "xref": "paper",
          "y": 1,
          "yanchor": "bottom",
          "yref": "paper"
         },
         {
          "font": {
           "size": 16
          },
          "showarrow": false,
          "text": "A07",
          "x": 0.5423611111111111,
          "xanchor": "center",
          "xref": "paper",
          "y": 1,
          "yanchor": "bottom",
          "yref": "paper"
         },
         {
          "font": {
           "size": 16
          },
          "showarrow": false,
          "text": "A08",
          "x": 0.6270833333333332,
          "xanchor": "center",
          "xref": "paper",
          "y": 1,
          "yanchor": "bottom",
          "yref": "paper"
         },
         {
          "font": {
           "size": 16
          },
          "showarrow": false,
          "text": "A09",
          "x": 0.7118055555555555,
          "xanchor": "center",
          "xref": "paper",
          "y": 1,
          "yanchor": "bottom",
          "yref": "paper"
         },
         {
          "font": {
           "size": 16
          },
          "showarrow": false,
          "text": "A10",
          "x": 0.7965277777777777,
          "xanchor": "center",
          "xref": "paper",
          "y": 1,
          "yanchor": "bottom",
          "yref": "paper"
         },
         {
          "font": {
           "size": 16
          },
          "showarrow": false,
          "text": "A11",
          "x": 0.8812499999999999,
          "xanchor": "center",
          "xref": "paper",
          "y": 1,
          "yanchor": "bottom",
          "yref": "paper"
         },
         {
          "font": {
           "size": 16
          },
          "showarrow": false,
          "text": "A12",
          "x": 0.9659722222222221,
          "xanchor": "center",
          "xref": "paper",
          "y": 1,
          "yanchor": "bottom",
          "yref": "paper"
         },
         {
          "font": {
           "size": 16
          },
          "showarrow": false,
          "text": "B01",
          "x": 0.034027777777777775,
          "xanchor": "center",
          "xref": "paper",
          "y": 0.8671875,
          "yanchor": "bottom",
          "yref": "paper"
         },
         {
          "font": {
           "size": 16
          },
          "showarrow": false,
          "text": "B02",
          "x": 0.11875,
          "xanchor": "center",
          "xref": "paper",
          "y": 0.8671875,
          "yanchor": "bottom",
          "yref": "paper"
         },
         {
          "font": {
           "size": 16
          },
          "showarrow": false,
          "text": "B03",
          "x": 0.20347222222222222,
          "xanchor": "center",
          "xref": "paper",
          "y": 0.8671875,
          "yanchor": "bottom",
          "yref": "paper"
         },
         {
          "font": {
           "size": 16
          },
          "showarrow": false,
          "text": "B04",
          "x": 0.2881944444444444,
          "xanchor": "center",
          "xref": "paper",
          "y": 0.8671875,
          "yanchor": "bottom",
          "yref": "paper"
         },
         {
          "font": {
           "size": 16
          },
          "showarrow": false,
          "text": "B05",
          "x": 0.3729166666666666,
          "xanchor": "center",
          "xref": "paper",
          "y": 0.8671875,
          "yanchor": "bottom",
          "yref": "paper"
         },
         {
          "font": {
           "size": 16
          },
          "showarrow": false,
          "text": "B06",
          "x": 0.4576388888888888,
          "xanchor": "center",
          "xref": "paper",
          "y": 0.8671875,
          "yanchor": "bottom",
          "yref": "paper"
         },
         {
          "font": {
           "size": 16
          },
          "showarrow": false,
          "text": "B07",
          "x": 0.5423611111111111,
          "xanchor": "center",
          "xref": "paper",
          "y": 0.8671875,
          "yanchor": "bottom",
          "yref": "paper"
         },
         {
          "font": {
           "size": 16
          },
          "showarrow": false,
          "text": "B08",
          "x": 0.6270833333333332,
          "xanchor": "center",
          "xref": "paper",
          "y": 0.8671875,
          "yanchor": "bottom",
          "yref": "paper"
         },
         {
          "font": {
           "size": 16
          },
          "showarrow": false,
          "text": "B09",
          "x": 0.7118055555555555,
          "xanchor": "center",
          "xref": "paper",
          "y": 0.8671875,
          "yanchor": "bottom",
          "yref": "paper"
         },
         {
          "font": {
           "size": 16
          },
          "showarrow": false,
          "text": "B10",
          "x": 0.7965277777777777,
          "xanchor": "center",
          "xref": "paper",
          "y": 0.8671875,
          "yanchor": "bottom",
          "yref": "paper"
         },
         {
          "font": {
           "size": 16
          },
          "showarrow": false,
          "text": "B11",
          "x": 0.8812499999999999,
          "xanchor": "center",
          "xref": "paper",
          "y": 0.8671875,
          "yanchor": "bottom",
          "yref": "paper"
         },
         {
          "font": {
           "size": 16
          },
          "showarrow": false,
          "text": "B12",
          "x": 0.9659722222222221,
          "xanchor": "center",
          "xref": "paper",
          "y": 0.8671875,
          "yanchor": "bottom",
          "yref": "paper"
         },
         {
          "font": {
           "size": 16
          },
          "showarrow": false,
          "text": "C01",
          "x": 0.034027777777777775,
          "xanchor": "center",
          "xref": "paper",
          "y": 0.734375,
          "yanchor": "bottom",
          "yref": "paper"
         },
         {
          "font": {
           "size": 16
          },
          "showarrow": false,
          "text": "C02",
          "x": 0.11875,
          "xanchor": "center",
          "xref": "paper",
          "y": 0.734375,
          "yanchor": "bottom",
          "yref": "paper"
         },
         {
          "font": {
           "size": 16
          },
          "showarrow": false,
          "text": "C03",
          "x": 0.20347222222222222,
          "xanchor": "center",
          "xref": "paper",
          "y": 0.734375,
          "yanchor": "bottom",
          "yref": "paper"
         },
         {
          "font": {
           "size": 16
          },
          "showarrow": false,
          "text": "C04",
          "x": 0.2881944444444444,
          "xanchor": "center",
          "xref": "paper",
          "y": 0.734375,
          "yanchor": "bottom",
          "yref": "paper"
         },
         {
          "font": {
           "size": 16
          },
          "showarrow": false,
          "text": "C05",
          "x": 0.3729166666666666,
          "xanchor": "center",
          "xref": "paper",
          "y": 0.734375,
          "yanchor": "bottom",
          "yref": "paper"
         },
         {
          "font": {
           "size": 16
          },
          "showarrow": false,
          "text": "C06",
          "x": 0.4576388888888888,
          "xanchor": "center",
          "xref": "paper",
          "y": 0.734375,
          "yanchor": "bottom",
          "yref": "paper"
         },
         {
          "font": {
           "size": 16
          },
          "showarrow": false,
          "text": "C07",
          "x": 0.5423611111111111,
          "xanchor": "center",
          "xref": "paper",
          "y": 0.734375,
          "yanchor": "bottom",
          "yref": "paper"
         },
         {
          "font": {
           "size": 16
          },
          "showarrow": false,
          "text": "C08",
          "x": 0.6270833333333332,
          "xanchor": "center",
          "xref": "paper",
          "y": 0.734375,
          "yanchor": "bottom",
          "yref": "paper"
         },
         {
          "font": {
           "size": 16
          },
          "showarrow": false,
          "text": "C09",
          "x": 0.7118055555555555,
          "xanchor": "center",
          "xref": "paper",
          "y": 0.734375,
          "yanchor": "bottom",
          "yref": "paper"
         },
         {
          "font": {
           "size": 16
          },
          "showarrow": false,
          "text": "C10",
          "x": 0.7965277777777777,
          "xanchor": "center",
          "xref": "paper",
          "y": 0.734375,
          "yanchor": "bottom",
          "yref": "paper"
         },
         {
          "font": {
           "size": 16
          },
          "showarrow": false,
          "text": "C11",
          "x": 0.8812499999999999,
          "xanchor": "center",
          "xref": "paper",
          "y": 0.734375,
          "yanchor": "bottom",
          "yref": "paper"
         },
         {
          "font": {
           "size": 16
          },
          "showarrow": false,
          "text": "C12",
          "x": 0.9659722222222221,
          "xanchor": "center",
          "xref": "paper",
          "y": 0.734375,
          "yanchor": "bottom",
          "yref": "paper"
         },
         {
          "font": {
           "size": 16
          },
          "showarrow": false,
          "text": "D01",
          "x": 0.034027777777777775,
          "xanchor": "center",
          "xref": "paper",
          "y": 0.6015625,
          "yanchor": "bottom",
          "yref": "paper"
         },
         {
          "font": {
           "size": 16
          },
          "showarrow": false,
          "text": "D02",
          "x": 0.11875,
          "xanchor": "center",
          "xref": "paper",
          "y": 0.6015625,
          "yanchor": "bottom",
          "yref": "paper"
         },
         {
          "font": {
           "size": 16
          },
          "showarrow": false,
          "text": "D03",
          "x": 0.20347222222222222,
          "xanchor": "center",
          "xref": "paper",
          "y": 0.6015625,
          "yanchor": "bottom",
          "yref": "paper"
         },
         {
          "font": {
           "size": 16
          },
          "showarrow": false,
          "text": "D04",
          "x": 0.2881944444444444,
          "xanchor": "center",
          "xref": "paper",
          "y": 0.6015625,
          "yanchor": "bottom",
          "yref": "paper"
         },
         {
          "font": {
           "size": 16
          },
          "showarrow": false,
          "text": "D05",
          "x": 0.3729166666666666,
          "xanchor": "center",
          "xref": "paper",
          "y": 0.6015625,
          "yanchor": "bottom",
          "yref": "paper"
         },
         {
          "font": {
           "size": 16
          },
          "showarrow": false,
          "text": "D06",
          "x": 0.4576388888888888,
          "xanchor": "center",
          "xref": "paper",
          "y": 0.6015625,
          "yanchor": "bottom",
          "yref": "paper"
         },
         {
          "font": {
           "size": 16
          },
          "showarrow": false,
          "text": "D07",
          "x": 0.5423611111111111,
          "xanchor": "center",
          "xref": "paper",
          "y": 0.6015625,
          "yanchor": "bottom",
          "yref": "paper"
         },
         {
          "font": {
           "size": 16
          },
          "showarrow": false,
          "text": "D08",
          "x": 0.6270833333333332,
          "xanchor": "center",
          "xref": "paper",
          "y": 0.6015625,
          "yanchor": "bottom",
          "yref": "paper"
         },
         {
          "font": {
           "size": 16
          },
          "showarrow": false,
          "text": "D09",
          "x": 0.7118055555555555,
          "xanchor": "center",
          "xref": "paper",
          "y": 0.6015625,
          "yanchor": "bottom",
          "yref": "paper"
         },
         {
          "font": {
           "size": 16
          },
          "showarrow": false,
          "text": "D10",
          "x": 0.7965277777777777,
          "xanchor": "center",
          "xref": "paper",
          "y": 0.6015625,
          "yanchor": "bottom",
          "yref": "paper"
         },
         {
          "font": {
           "size": 16
          },
          "showarrow": false,
          "text": "D11",
          "x": 0.8812499999999999,
          "xanchor": "center",
          "xref": "paper",
          "y": 0.6015625,
          "yanchor": "bottom",
          "yref": "paper"
         },
         {
          "font": {
           "size": 16
          },
          "showarrow": false,
          "text": "D12",
          "x": 0.9659722222222221,
          "xanchor": "center",
          "xref": "paper",
          "y": 0.6015625,
          "yanchor": "bottom",
          "yref": "paper"
         },
         {
          "font": {
           "size": 16
          },
          "showarrow": false,
          "text": "E01",
          "x": 0.034027777777777775,
          "xanchor": "center",
          "xref": "paper",
          "y": 0.46875,
          "yanchor": "bottom",
          "yref": "paper"
         },
         {
          "font": {
           "size": 16
          },
          "showarrow": false,
          "text": "E02",
          "x": 0.11875,
          "xanchor": "center",
          "xref": "paper",
          "y": 0.46875,
          "yanchor": "bottom",
          "yref": "paper"
         },
         {
          "font": {
           "size": 16
          },
          "showarrow": false,
          "text": "E03",
          "x": 0.20347222222222222,
          "xanchor": "center",
          "xref": "paper",
          "y": 0.46875,
          "yanchor": "bottom",
          "yref": "paper"
         },
         {
          "font": {
           "size": 16
          },
          "showarrow": false,
          "text": "E04",
          "x": 0.2881944444444444,
          "xanchor": "center",
          "xref": "paper",
          "y": 0.46875,
          "yanchor": "bottom",
          "yref": "paper"
         },
         {
          "font": {
           "size": 16
          },
          "showarrow": false,
          "text": "E05",
          "x": 0.3729166666666666,
          "xanchor": "center",
          "xref": "paper",
          "y": 0.46875,
          "yanchor": "bottom",
          "yref": "paper"
         },
         {
          "font": {
           "size": 16
          },
          "showarrow": false,
          "text": "E06",
          "x": 0.4576388888888888,
          "xanchor": "center",
          "xref": "paper",
          "y": 0.46875,
          "yanchor": "bottom",
          "yref": "paper"
         },
         {
          "font": {
           "size": 16
          },
          "showarrow": false,
          "text": "E07",
          "x": 0.5423611111111111,
          "xanchor": "center",
          "xref": "paper",
          "y": 0.46875,
          "yanchor": "bottom",
          "yref": "paper"
         },
         {
          "font": {
           "size": 16
          },
          "showarrow": false,
          "text": "E08",
          "x": 0.6270833333333332,
          "xanchor": "center",
          "xref": "paper",
          "y": 0.46875,
          "yanchor": "bottom",
          "yref": "paper"
         },
         {
          "font": {
           "size": 16
          },
          "showarrow": false,
          "text": "E09",
          "x": 0.7118055555555555,
          "xanchor": "center",
          "xref": "paper",
          "y": 0.46875,
          "yanchor": "bottom",
          "yref": "paper"
         },
         {
          "font": {
           "size": 16
          },
          "showarrow": false,
          "text": "E10",
          "x": 0.7965277777777777,
          "xanchor": "center",
          "xref": "paper",
          "y": 0.46875,
          "yanchor": "bottom",
          "yref": "paper"
         },
         {
          "font": {
           "size": 16
          },
          "showarrow": false,
          "text": "E11",
          "x": 0.8812499999999999,
          "xanchor": "center",
          "xref": "paper",
          "y": 0.46875,
          "yanchor": "bottom",
          "yref": "paper"
         },
         {
          "font": {
           "size": 16
          },
          "showarrow": false,
          "text": "E12",
          "x": 0.9659722222222221,
          "xanchor": "center",
          "xref": "paper",
          "y": 0.46875,
          "yanchor": "bottom",
          "yref": "paper"
         },
         {
          "font": {
           "size": 16
          },
          "showarrow": false,
          "text": "F01",
          "x": 0.034027777777777775,
          "xanchor": "center",
          "xref": "paper",
          "y": 0.3359375,
          "yanchor": "bottom",
          "yref": "paper"
         },
         {
          "font": {
           "size": 16
          },
          "showarrow": false,
          "text": "F02",
          "x": 0.11875,
          "xanchor": "center",
          "xref": "paper",
          "y": 0.3359375,
          "yanchor": "bottom",
          "yref": "paper"
         },
         {
          "font": {
           "size": 16
          },
          "showarrow": false,
          "text": "F03",
          "x": 0.20347222222222222,
          "xanchor": "center",
          "xref": "paper",
          "y": 0.3359375,
          "yanchor": "bottom",
          "yref": "paper"
         },
         {
          "font": {
           "size": 16
          },
          "showarrow": false,
          "text": "F04",
          "x": 0.2881944444444444,
          "xanchor": "center",
          "xref": "paper",
          "y": 0.3359375,
          "yanchor": "bottom",
          "yref": "paper"
         },
         {
          "font": {
           "size": 16
          },
          "showarrow": false,
          "text": "F05",
          "x": 0.3729166666666666,
          "xanchor": "center",
          "xref": "paper",
          "y": 0.3359375,
          "yanchor": "bottom",
          "yref": "paper"
         },
         {
          "font": {
           "size": 16
          },
          "showarrow": false,
          "text": "F06",
          "x": 0.4576388888888888,
          "xanchor": "center",
          "xref": "paper",
          "y": 0.3359375,
          "yanchor": "bottom",
          "yref": "paper"
         },
         {
          "font": {
           "size": 16
          },
          "showarrow": false,
          "text": "F07",
          "x": 0.5423611111111111,
          "xanchor": "center",
          "xref": "paper",
          "y": 0.3359375,
          "yanchor": "bottom",
          "yref": "paper"
         },
         {
          "font": {
           "size": 16
          },
          "showarrow": false,
          "text": "F08",
          "x": 0.6270833333333332,
          "xanchor": "center",
          "xref": "paper",
          "y": 0.3359375,
          "yanchor": "bottom",
          "yref": "paper"
         },
         {
          "font": {
           "size": 16
          },
          "showarrow": false,
          "text": "F09",
          "x": 0.7118055555555555,
          "xanchor": "center",
          "xref": "paper",
          "y": 0.3359375,
          "yanchor": "bottom",
          "yref": "paper"
         },
         {
          "font": {
           "size": 16
          },
          "showarrow": false,
          "text": "F10",
          "x": 0.7965277777777777,
          "xanchor": "center",
          "xref": "paper",
          "y": 0.3359375,
          "yanchor": "bottom",
          "yref": "paper"
         },
         {
          "font": {
           "size": 16
          },
          "showarrow": false,
          "text": "F11",
          "x": 0.8812499999999999,
          "xanchor": "center",
          "xref": "paper",
          "y": 0.3359375,
          "yanchor": "bottom",
          "yref": "paper"
         },
         {
          "font": {
           "size": 16
          },
          "showarrow": false,
          "text": "F12",
          "x": 0.9659722222222221,
          "xanchor": "center",
          "xref": "paper",
          "y": 0.3359375,
          "yanchor": "bottom",
          "yref": "paper"
         },
         {
          "font": {
           "size": 16
          },
          "showarrow": false,
          "text": "G01",
          "x": 0.034027777777777775,
          "xanchor": "center",
          "xref": "paper",
          "y": 0.203125,
          "yanchor": "bottom",
          "yref": "paper"
         },
         {
          "font": {
           "size": 16
          },
          "showarrow": false,
          "text": "G02",
          "x": 0.11875,
          "xanchor": "center",
          "xref": "paper",
          "y": 0.203125,
          "yanchor": "bottom",
          "yref": "paper"
         },
         {
          "font": {
           "size": 16
          },
          "showarrow": false,
          "text": "G03",
          "x": 0.20347222222222222,
          "xanchor": "center",
          "xref": "paper",
          "y": 0.203125,
          "yanchor": "bottom",
          "yref": "paper"
         },
         {
          "font": {
           "size": 16
          },
          "showarrow": false,
          "text": "G04",
          "x": 0.2881944444444444,
          "xanchor": "center",
          "xref": "paper",
          "y": 0.203125,
          "yanchor": "bottom",
          "yref": "paper"
         },
         {
          "font": {
           "size": 16
          },
          "showarrow": false,
          "text": "G05",
          "x": 0.3729166666666666,
          "xanchor": "center",
          "xref": "paper",
          "y": 0.203125,
          "yanchor": "bottom",
          "yref": "paper"
         },
         {
          "font": {
           "size": 16
          },
          "showarrow": false,
          "text": "G06",
          "x": 0.4576388888888888,
          "xanchor": "center",
          "xref": "paper",
          "y": 0.203125,
          "yanchor": "bottom",
          "yref": "paper"
         },
         {
          "font": {
           "size": 16
          },
          "showarrow": false,
          "text": "G07",
          "x": 0.5423611111111111,
          "xanchor": "center",
          "xref": "paper",
          "y": 0.203125,
          "yanchor": "bottom",
          "yref": "paper"
         },
         {
          "font": {
           "size": 16
          },
          "showarrow": false,
          "text": "G08",
          "x": 0.6270833333333332,
          "xanchor": "center",
          "xref": "paper",
          "y": 0.203125,
          "yanchor": "bottom",
          "yref": "paper"
         },
         {
          "font": {
           "size": 16
          },
          "showarrow": false,
          "text": "G09",
          "x": 0.7118055555555555,
          "xanchor": "center",
          "xref": "paper",
          "y": 0.203125,
          "yanchor": "bottom",
          "yref": "paper"
         },
         {
          "font": {
           "size": 16
          },
          "showarrow": false,
          "text": "G10",
          "x": 0.7965277777777777,
          "xanchor": "center",
          "xref": "paper",
          "y": 0.203125,
          "yanchor": "bottom",
          "yref": "paper"
         },
         {
          "font": {
           "size": 16
          },
          "showarrow": false,
          "text": "G11",
          "x": 0.8812499999999999,
          "xanchor": "center",
          "xref": "paper",
          "y": 0.203125,
          "yanchor": "bottom",
          "yref": "paper"
         },
         {
          "font": {
           "size": 16
          },
          "showarrow": false,
          "text": "G12",
          "x": 0.9659722222222221,
          "xanchor": "center",
          "xref": "paper",
          "y": 0.203125,
          "yanchor": "bottom",
          "yref": "paper"
         },
         {
          "font": {
           "size": 16
          },
          "showarrow": false,
          "text": "H01",
          "x": 0.034027777777777775,
          "xanchor": "center",
          "xref": "paper",
          "y": 0.0703125,
          "yanchor": "bottom",
          "yref": "paper"
         },
         {
          "font": {
           "size": 16
          },
          "showarrow": false,
          "text": "H02",
          "x": 0.11875,
          "xanchor": "center",
          "xref": "paper",
          "y": 0.0703125,
          "yanchor": "bottom",
          "yref": "paper"
         },
         {
          "font": {
           "size": 16
          },
          "showarrow": false,
          "text": "H03",
          "x": 0.20347222222222222,
          "xanchor": "center",
          "xref": "paper",
          "y": 0.0703125,
          "yanchor": "bottom",
          "yref": "paper"
         },
         {
          "font": {
           "size": 16
          },
          "showarrow": false,
          "text": "H04",
          "x": 0.2881944444444444,
          "xanchor": "center",
          "xref": "paper",
          "y": 0.0703125,
          "yanchor": "bottom",
          "yref": "paper"
         },
         {
          "font": {
           "size": 16
          },
          "showarrow": false,
          "text": "H05",
          "x": 0.3729166666666666,
          "xanchor": "center",
          "xref": "paper",
          "y": 0.0703125,
          "yanchor": "bottom",
          "yref": "paper"
         },
         {
          "font": {
           "size": 16
          },
          "showarrow": false,
          "text": "H06",
          "x": 0.4576388888888888,
          "xanchor": "center",
          "xref": "paper",
          "y": 0.0703125,
          "yanchor": "bottom",
          "yref": "paper"
         },
         {
          "font": {
           "size": 16
          },
          "showarrow": false,
          "text": "H07",
          "x": 0.5423611111111111,
          "xanchor": "center",
          "xref": "paper",
          "y": 0.0703125,
          "yanchor": "bottom",
          "yref": "paper"
         },
         {
          "font": {
           "size": 16
          },
          "showarrow": false,
          "text": "H08",
          "x": 0.6270833333333332,
          "xanchor": "center",
          "xref": "paper",
          "y": 0.0703125,
          "yanchor": "bottom",
          "yref": "paper"
         },
         {
          "font": {
           "size": 16
          },
          "showarrow": false,
          "text": "H09",
          "x": 0.7118055555555555,
          "xanchor": "center",
          "xref": "paper",
          "y": 0.0703125,
          "yanchor": "bottom",
          "yref": "paper"
         },
         {
          "font": {
           "size": 16
          },
          "showarrow": false,
          "text": "H10",
          "x": 0.7965277777777777,
          "xanchor": "center",
          "xref": "paper",
          "y": 0.0703125,
          "yanchor": "bottom",
          "yref": "paper"
         },
         {
          "font": {
           "size": 16
          },
          "showarrow": false,
          "text": "H11",
          "x": 0.8812499999999999,
          "xanchor": "center",
          "xref": "paper",
          "y": 0.0703125,
          "yanchor": "bottom",
          "yref": "paper"
         },
         {
          "font": {
           "size": 16
          },
          "showarrow": false,
          "text": "H12",
          "x": 0.9659722222222221,
          "xanchor": "center",
          "xref": "paper",
          "y": 0.0703125,
          "yanchor": "bottom",
          "yref": "paper"
         }
        ],
        "height": 800,
        "showlegend": false,
        "template": {
         "data": {
          "bar": [
           {
            "error_x": {
             "color": "#2a3f5f"
            },
            "error_y": {
             "color": "#2a3f5f"
            },
            "marker": {
             "line": {
              "color": "#E5ECF6",
              "width": 0.5
             },
             "pattern": {
              "fillmode": "overlay",
              "size": 10,
              "solidity": 0.2
             }
            },
            "type": "bar"
           }
          ],
          "barpolar": [
           {
            "marker": {
             "line": {
              "color": "#E5ECF6",
              "width": 0.5
             },
             "pattern": {
              "fillmode": "overlay",
              "size": 10,
              "solidity": 0.2
             }
            },
            "type": "barpolar"
           }
          ],
          "carpet": [
           {
            "aaxis": {
             "endlinecolor": "#2a3f5f",
             "gridcolor": "white",
             "linecolor": "white",
             "minorgridcolor": "white",
             "startlinecolor": "#2a3f5f"
            },
            "baxis": {
             "endlinecolor": "#2a3f5f",
             "gridcolor": "white",
             "linecolor": "white",
             "minorgridcolor": "white",
             "startlinecolor": "#2a3f5f"
            },
            "type": "carpet"
           }
          ],
          "choropleth": [
           {
            "colorbar": {
             "outlinewidth": 0,
             "ticks": ""
            },
            "type": "choropleth"
           }
          ],
          "contour": [
           {
            "colorbar": {
             "outlinewidth": 0,
             "ticks": ""
            },
            "colorscale": [
             [
              0,
              "#0d0887"
             ],
             [
              0.1111111111111111,
              "#46039f"
             ],
             [
              0.2222222222222222,
              "#7201a8"
             ],
             [
              0.3333333333333333,
              "#9c179e"
             ],
             [
              0.4444444444444444,
              "#bd3786"
             ],
             [
              0.5555555555555556,
              "#d8576b"
             ],
             [
              0.6666666666666666,
              "#ed7953"
             ],
             [
              0.7777777777777778,
              "#fb9f3a"
             ],
             [
              0.8888888888888888,
              "#fdca26"
             ],
             [
              1,
              "#f0f921"
             ]
            ],
            "type": "contour"
           }
          ],
          "contourcarpet": [
           {
            "colorbar": {
             "outlinewidth": 0,
             "ticks": ""
            },
            "type": "contourcarpet"
           }
          ],
          "heatmap": [
           {
            "colorbar": {
             "outlinewidth": 0,
             "ticks": ""
            },
            "colorscale": [
             [
              0,
              "#0d0887"
             ],
             [
              0.1111111111111111,
              "#46039f"
             ],
             [
              0.2222222222222222,
              "#7201a8"
             ],
             [
              0.3333333333333333,
              "#9c179e"
             ],
             [
              0.4444444444444444,
              "#bd3786"
             ],
             [
              0.5555555555555556,
              "#d8576b"
             ],
             [
              0.6666666666666666,
              "#ed7953"
             ],
             [
              0.7777777777777778,
              "#fb9f3a"
             ],
             [
              0.8888888888888888,
              "#fdca26"
             ],
             [
              1,
              "#f0f921"
             ]
            ],
            "type": "heatmap"
           }
          ],
          "heatmapgl": [
           {
            "colorbar": {
             "outlinewidth": 0,
             "ticks": ""
            },
            "colorscale": [
             [
              0,
              "#0d0887"
             ],
             [
              0.1111111111111111,
              "#46039f"
             ],
             [
              0.2222222222222222,
              "#7201a8"
             ],
             [
              0.3333333333333333,
              "#9c179e"
             ],
             [
              0.4444444444444444,
              "#bd3786"
             ],
             [
              0.5555555555555556,
              "#d8576b"
             ],
             [
              0.6666666666666666,
              "#ed7953"
             ],
             [
              0.7777777777777778,
              "#fb9f3a"
             ],
             [
              0.8888888888888888,
              "#fdca26"
             ],
             [
              1,
              "#f0f921"
             ]
            ],
            "type": "heatmapgl"
           }
          ],
          "histogram": [
           {
            "marker": {
             "pattern": {
              "fillmode": "overlay",
              "size": 10,
              "solidity": 0.2
             }
            },
            "type": "histogram"
           }
          ],
          "histogram2d": [
           {
            "colorbar": {
             "outlinewidth": 0,
             "ticks": ""
            },
            "colorscale": [
             [
              0,
              "#0d0887"
             ],
             [
              0.1111111111111111,
              "#46039f"
             ],
             [
              0.2222222222222222,
              "#7201a8"
             ],
             [
              0.3333333333333333,
              "#9c179e"
             ],
             [
              0.4444444444444444,
              "#bd3786"
             ],
             [
              0.5555555555555556,
              "#d8576b"
             ],
             [
              0.6666666666666666,
              "#ed7953"
             ],
             [
              0.7777777777777778,
              "#fb9f3a"
             ],
             [
              0.8888888888888888,
              "#fdca26"
             ],
             [
              1,
              "#f0f921"
             ]
            ],
            "type": "histogram2d"
           }
          ],
          "histogram2dcontour": [
           {
            "colorbar": {
             "outlinewidth": 0,
             "ticks": ""
            },
            "colorscale": [
             [
              0,
              "#0d0887"
             ],
             [
              0.1111111111111111,
              "#46039f"
             ],
             [
              0.2222222222222222,
              "#7201a8"
             ],
             [
              0.3333333333333333,
              "#9c179e"
             ],
             [
              0.4444444444444444,
              "#bd3786"
             ],
             [
              0.5555555555555556,
              "#d8576b"
             ],
             [
              0.6666666666666666,
              "#ed7953"
             ],
             [
              0.7777777777777778,
              "#fb9f3a"
             ],
             [
              0.8888888888888888,
              "#fdca26"
             ],
             [
              1,
              "#f0f921"
             ]
            ],
            "type": "histogram2dcontour"
           }
          ],
          "mesh3d": [
           {
            "colorbar": {
             "outlinewidth": 0,
             "ticks": ""
            },
            "type": "mesh3d"
           }
          ],
          "parcoords": [
           {
            "line": {
             "colorbar": {
              "outlinewidth": 0,
              "ticks": ""
             }
            },
            "type": "parcoords"
           }
          ],
          "pie": [
           {
            "automargin": true,
            "type": "pie"
           }
          ],
          "scatter": [
           {
            "fillpattern": {
             "fillmode": "overlay",
             "size": 10,
             "solidity": 0.2
            },
            "type": "scatter"
           }
          ],
          "scatter3d": [
           {
            "line": {
             "colorbar": {
              "outlinewidth": 0,
              "ticks": ""
             }
            },
            "marker": {
             "colorbar": {
              "outlinewidth": 0,
              "ticks": ""
             }
            },
            "type": "scatter3d"
           }
          ],
          "scattercarpet": [
           {
            "marker": {
             "colorbar": {
              "outlinewidth": 0,
              "ticks": ""
             }
            },
            "type": "scattercarpet"
           }
          ],
          "scattergeo": [
           {
            "marker": {
             "colorbar": {
              "outlinewidth": 0,
              "ticks": ""
             }
            },
            "type": "scattergeo"
           }
          ],
          "scattergl": [
           {
            "marker": {
             "colorbar": {
              "outlinewidth": 0,
              "ticks": ""
             }
            },
            "type": "scattergl"
           }
          ],
          "scattermapbox": [
           {
            "marker": {
             "colorbar": {
              "outlinewidth": 0,
              "ticks": ""
             }
            },
            "type": "scattermapbox"
           }
          ],
          "scatterpolar": [
           {
            "marker": {
             "colorbar": {
              "outlinewidth": 0,
              "ticks": ""
             }
            },
            "type": "scatterpolar"
           }
          ],
          "scatterpolargl": [
           {
            "marker": {
             "colorbar": {
              "outlinewidth": 0,
              "ticks": ""
             }
            },
            "type": "scatterpolargl"
           }
          ],
          "scatterternary": [
           {
            "marker": {
             "colorbar": {
              "outlinewidth": 0,
              "ticks": ""
             }
            },
            "type": "scatterternary"
           }
          ],
          "surface": [
           {
            "colorbar": {
             "outlinewidth": 0,
             "ticks": ""
            },
            "colorscale": [
             [
              0,
              "#0d0887"
             ],
             [
              0.1111111111111111,
              "#46039f"
             ],
             [
              0.2222222222222222,
              "#7201a8"
             ],
             [
              0.3333333333333333,
              "#9c179e"
             ],
             [
              0.4444444444444444,
              "#bd3786"
             ],
             [
              0.5555555555555556,
              "#d8576b"
             ],
             [
              0.6666666666666666,
              "#ed7953"
             ],
             [
              0.7777777777777778,
              "#fb9f3a"
             ],
             [
              0.8888888888888888,
              "#fdca26"
             ],
             [
              1,
              "#f0f921"
             ]
            ],
            "type": "surface"
           }
          ],
          "table": [
           {
            "cells": {
             "fill": {
              "color": "#EBF0F8"
             },
             "line": {
              "color": "white"
             }
            },
            "header": {
             "fill": {
              "color": "#C8D4E3"
             },
             "line": {
              "color": "white"
             }
            },
            "type": "table"
           }
          ]
         },
         "layout": {
          "annotationdefaults": {
           "arrowcolor": "#2a3f5f",
           "arrowhead": 0,
           "arrowwidth": 1
          },
          "autotypenumbers": "strict",
          "coloraxis": {
           "colorbar": {
            "outlinewidth": 0,
            "ticks": ""
           }
          },
          "colorscale": {
           "diverging": [
            [
             0,
             "#8e0152"
            ],
            [
             0.1,
             "#c51b7d"
            ],
            [
             0.2,
             "#de77ae"
            ],
            [
             0.3,
             "#f1b6da"
            ],
            [
             0.4,
             "#fde0ef"
            ],
            [
             0.5,
             "#f7f7f7"
            ],
            [
             0.6,
             "#e6f5d0"
            ],
            [
             0.7,
             "#b8e186"
            ],
            [
             0.8,
             "#7fbc41"
            ],
            [
             0.9,
             "#4d9221"
            ],
            [
             1,
             "#276419"
            ]
           ],
           "sequential": [
            [
             0,
             "#0d0887"
            ],
            [
             0.1111111111111111,
             "#46039f"
            ],
            [
             0.2222222222222222,
             "#7201a8"
            ],
            [
             0.3333333333333333,
             "#9c179e"
            ],
            [
             0.4444444444444444,
             "#bd3786"
            ],
            [
             0.5555555555555556,
             "#d8576b"
            ],
            [
             0.6666666666666666,
             "#ed7953"
            ],
            [
             0.7777777777777778,
             "#fb9f3a"
            ],
            [
             0.8888888888888888,
             "#fdca26"
            ],
            [
             1,
             "#f0f921"
            ]
           ],
           "sequentialminus": [
            [
             0,
             "#0d0887"
            ],
            [
             0.1111111111111111,
             "#46039f"
            ],
            [
             0.2222222222222222,
             "#7201a8"
            ],
            [
             0.3333333333333333,
             "#9c179e"
            ],
            [
             0.4444444444444444,
             "#bd3786"
            ],
            [
             0.5555555555555556,
             "#d8576b"
            ],
            [
             0.6666666666666666,
             "#ed7953"
            ],
            [
             0.7777777777777778,
             "#fb9f3a"
            ],
            [
             0.8888888888888888,
             "#fdca26"
            ],
            [
             1,
             "#f0f921"
            ]
           ]
          },
          "colorway": [
           "#636efa",
           "#EF553B",
           "#00cc96",
           "#ab63fa",
           "#FFA15A",
           "#19d3f3",
           "#FF6692",
           "#B6E880",
           "#FF97FF",
           "#FECB52"
          ],
          "font": {
           "color": "#2a3f5f"
          },
          "geo": {
           "bgcolor": "white",
           "lakecolor": "white",
           "landcolor": "#E5ECF6",
           "showlakes": true,
           "showland": true,
           "subunitcolor": "white"
          },
          "hoverlabel": {
           "align": "left"
          },
          "hovermode": "closest",
          "mapbox": {
           "style": "light"
          },
          "paper_bgcolor": "white",
          "plot_bgcolor": "#E5ECF6",
          "polar": {
           "angularaxis": {
            "gridcolor": "white",
            "linecolor": "white",
            "ticks": ""
           },
           "bgcolor": "#E5ECF6",
           "radialaxis": {
            "gridcolor": "white",
            "linecolor": "white",
            "ticks": ""
           }
          },
          "scene": {
           "xaxis": {
            "backgroundcolor": "#E5ECF6",
            "gridcolor": "white",
            "gridwidth": 2,
            "linecolor": "white",
            "showbackground": true,
            "ticks": "",
            "zerolinecolor": "white"
           },
           "yaxis": {
            "backgroundcolor": "#E5ECF6",
            "gridcolor": "white",
            "gridwidth": 2,
            "linecolor": "white",
            "showbackground": true,
            "ticks": "",
            "zerolinecolor": "white"
           },
           "zaxis": {
            "backgroundcolor": "#E5ECF6",
            "gridcolor": "white",
            "gridwidth": 2,
            "linecolor": "white",
            "showbackground": true,
            "ticks": "",
            "zerolinecolor": "white"
           }
          },
          "shapedefaults": {
           "line": {
            "color": "#2a3f5f"
           }
          },
          "ternary": {
           "aaxis": {
            "gridcolor": "white",
            "linecolor": "white",
            "ticks": ""
           },
           "baxis": {
            "gridcolor": "white",
            "linecolor": "white",
            "ticks": ""
           },
           "bgcolor": "#E5ECF6",
           "caxis": {
            "gridcolor": "white",
            "linecolor": "white",
            "ticks": ""
           }
          },
          "title": {
           "x": 0.05
          },
          "xaxis": {
           "automargin": true,
           "gridcolor": "white",
           "linecolor": "white",
           "ticks": "",
           "title": {
            "standoff": 15
           },
           "zerolinecolor": "white",
           "zerolinewidth": 2
          },
          "yaxis": {
           "automargin": true,
           "gridcolor": "white",
           "linecolor": "white",
           "ticks": "",
           "title": {
            "standoff": 15
           },
           "zerolinecolor": "white",
           "zerolinewidth": 2
          }
         }
        },
        "title": {
         "text": "Cycle vs Fluorescence (FAM)"
        },
        "width": 1000,
        "xaxis": {
         "anchor": "y",
         "domain": [
          0,
          0.06805555555555555
         ],
         "matches": "x85",
         "showticklabels": false
        },
        "xaxis10": {
         "anchor": "y10",
         "domain": [
          0.7625,
          0.8305555555555555
         ],
         "matches": "x94",
         "showticklabels": false
        },
        "xaxis11": {
         "anchor": "y11",
         "domain": [
          0.8472222222222221,
          0.9152777777777776
         ],
         "matches": "x95",
         "showticklabels": false
        },
        "xaxis12": {
         "anchor": "y12",
         "domain": [
          0.9319444444444444,
          0.9999999999999999
         ],
         "matches": "x96",
         "showticklabels": false
        },
        "xaxis13": {
         "anchor": "y13",
         "domain": [
          0,
          0.06805555555555555
         ],
         "matches": "x85",
         "showticklabels": false
        },
        "xaxis14": {
         "anchor": "y14",
         "domain": [
          0.08472222222222221,
          0.15277777777777776
         ],
         "matches": "x86",
         "showticklabels": false
        },
        "xaxis15": {
         "anchor": "y15",
         "domain": [
          0.16944444444444443,
          0.2375
         ],
         "matches": "x87",
         "showticklabels": false
        },
        "xaxis16": {
         "anchor": "y16",
         "domain": [
          0.25416666666666665,
          0.3222222222222222
         ],
         "matches": "x88",
         "showticklabels": false
        },
        "xaxis17": {
         "anchor": "y17",
         "domain": [
          0.33888888888888885,
          0.4069444444444444
         ],
         "matches": "x89",
         "showticklabels": false
        },
        "xaxis18": {
         "anchor": "y18",
         "domain": [
          0.42361111111111105,
          0.4916666666666666
         ],
         "matches": "x90",
         "showticklabels": false
        },
        "xaxis19": {
         "anchor": "y19",
         "domain": [
          0.5083333333333333,
          0.5763888888888888
         ],
         "matches": "x91",
         "showticklabels": false
        },
        "xaxis2": {
         "anchor": "y2",
         "domain": [
          0.08472222222222221,
          0.15277777777777776
         ],
         "matches": "x86",
         "showticklabels": false
        },
        "xaxis20": {
         "anchor": "y20",
         "domain": [
          0.5930555555555554,
          0.661111111111111
         ],
         "matches": "x92",
         "showticklabels": false
        },
        "xaxis21": {
         "anchor": "y21",
         "domain": [
          0.6777777777777777,
          0.7458333333333332
         ],
         "matches": "x93",
         "showticklabels": false
        },
        "xaxis22": {
         "anchor": "y22",
         "domain": [
          0.7625,
          0.8305555555555555
         ],
         "matches": "x94",
         "showticklabels": false
        },
        "xaxis23": {
         "anchor": "y23",
         "domain": [
          0.8472222222222221,
          0.9152777777777776
         ],
         "matches": "x95",
         "showticklabels": false
        },
        "xaxis24": {
         "anchor": "y24",
         "domain": [
          0.9319444444444444,
          0.9999999999999999
         ],
         "matches": "x96",
         "showticklabels": false
        },
        "xaxis25": {
         "anchor": "y25",
         "domain": [
          0,
          0.06805555555555555
         ],
         "matches": "x85",
         "showticklabels": false
        },
        "xaxis26": {
         "anchor": "y26",
         "domain": [
          0.08472222222222221,
          0.15277777777777776
         ],
         "matches": "x86",
         "showticklabels": false
        },
        "xaxis27": {
         "anchor": "y27",
         "domain": [
          0.16944444444444443,
          0.2375
         ],
         "matches": "x87",
         "showticklabels": false
        },
        "xaxis28": {
         "anchor": "y28",
         "domain": [
          0.25416666666666665,
          0.3222222222222222
         ],
         "matches": "x88",
         "showticklabels": false
        },
        "xaxis29": {
         "anchor": "y29",
         "domain": [
          0.33888888888888885,
          0.4069444444444444
         ],
         "matches": "x89",
         "showticklabels": false
        },
        "xaxis3": {
         "anchor": "y3",
         "domain": [
          0.16944444444444443,
          0.2375
         ],
         "matches": "x87",
         "showticklabels": false
        },
        "xaxis30": {
         "anchor": "y30",
         "domain": [
          0.42361111111111105,
          0.4916666666666666
         ],
         "matches": "x90",
         "showticklabels": false
        },
        "xaxis31": {
         "anchor": "y31",
         "domain": [
          0.5083333333333333,
          0.5763888888888888
         ],
         "matches": "x91",
         "showticklabels": false
        },
        "xaxis32": {
         "anchor": "y32",
         "domain": [
          0.5930555555555554,
          0.661111111111111
         ],
         "matches": "x92",
         "showticklabels": false
        },
        "xaxis33": {
         "anchor": "y33",
         "domain": [
          0.6777777777777777,
          0.7458333333333332
         ],
         "matches": "x93",
         "showticklabels": false
        },
        "xaxis34": {
         "anchor": "y34",
         "domain": [
          0.7625,
          0.8305555555555555
         ],
         "matches": "x94",
         "showticklabels": false
        },
        "xaxis35": {
         "anchor": "y35",
         "domain": [
          0.8472222222222221,
          0.9152777777777776
         ],
         "matches": "x95",
         "showticklabels": false
        },
        "xaxis36": {
         "anchor": "y36",
         "domain": [
          0.9319444444444444,
          0.9999999999999999
         ],
         "matches": "x96",
         "showticklabels": false
        },
        "xaxis37": {
         "anchor": "y37",
         "domain": [
          0,
          0.06805555555555555
         ],
         "matches": "x85",
         "showticklabels": false
        },
        "xaxis38": {
         "anchor": "y38",
         "domain": [
          0.08472222222222221,
          0.15277777777777776
         ],
         "matches": "x86",
         "showticklabels": false
        },
        "xaxis39": {
         "anchor": "y39",
         "domain": [
          0.16944444444444443,
          0.2375
         ],
         "matches": "x87",
         "showticklabels": false
        },
        "xaxis4": {
         "anchor": "y4",
         "domain": [
          0.25416666666666665,
          0.3222222222222222
         ],
         "matches": "x88",
         "showticklabels": false
        },
        "xaxis40": {
         "anchor": "y40",
         "domain": [
          0.25416666666666665,
          0.3222222222222222
         ],
         "matches": "x88",
         "showticklabels": false
        },
        "xaxis41": {
         "anchor": "y41",
         "domain": [
          0.33888888888888885,
          0.4069444444444444
         ],
         "matches": "x89",
         "showticklabels": false
        },
        "xaxis42": {
         "anchor": "y42",
         "domain": [
          0.42361111111111105,
          0.4916666666666666
         ],
         "matches": "x90",
         "showticklabels": false
        },
        "xaxis43": {
         "anchor": "y43",
         "domain": [
          0.5083333333333333,
          0.5763888888888888
         ],
         "matches": "x91",
         "showticklabels": false
        },
        "xaxis44": {
         "anchor": "y44",
         "domain": [
          0.5930555555555554,
          0.661111111111111
         ],
         "matches": "x92",
         "showticklabels": false
        },
        "xaxis45": {
         "anchor": "y45",
         "domain": [
          0.6777777777777777,
          0.7458333333333332
         ],
         "matches": "x93",
         "showticklabels": false
        },
        "xaxis46": {
         "anchor": "y46",
         "domain": [
          0.7625,
          0.8305555555555555
         ],
         "matches": "x94",
         "showticklabels": false
        },
        "xaxis47": {
         "anchor": "y47",
         "domain": [
          0.8472222222222221,
          0.9152777777777776
         ],
         "matches": "x95",
         "showticklabels": false
        },
        "xaxis48": {
         "anchor": "y48",
         "domain": [
          0.9319444444444444,
          0.9999999999999999
         ],
         "matches": "x96",
         "showticklabels": false
        },
        "xaxis49": {
         "anchor": "y49",
         "domain": [
          0,
          0.06805555555555555
         ],
         "matches": "x85",
         "showticklabels": false
        },
        "xaxis5": {
         "anchor": "y5",
         "domain": [
          0.33888888888888885,
          0.4069444444444444
         ],
         "matches": "x89",
         "showticklabels": false
        },
        "xaxis50": {
         "anchor": "y50",
         "domain": [
          0.08472222222222221,
          0.15277777777777776
         ],
         "matches": "x86",
         "showticklabels": false
        },
        "xaxis51": {
         "anchor": "y51",
         "domain": [
          0.16944444444444443,
          0.2375
         ],
         "matches": "x87",
         "showticklabels": false
        },
        "xaxis52": {
         "anchor": "y52",
         "domain": [
          0.25416666666666665,
          0.3222222222222222
         ],
         "matches": "x88",
         "showticklabels": false
        },
        "xaxis53": {
         "anchor": "y53",
         "domain": [
          0.33888888888888885,
          0.4069444444444444
         ],
         "matches": "x89",
         "showticklabels": false
        },
        "xaxis54": {
         "anchor": "y54",
         "domain": [
          0.42361111111111105,
          0.4916666666666666
         ],
         "matches": "x90",
         "showticklabels": false
        },
        "xaxis55": {
         "anchor": "y55",
         "domain": [
          0.5083333333333333,
          0.5763888888888888
         ],
         "matches": "x91",
         "showticklabels": false
        },
        "xaxis56": {
         "anchor": "y56",
         "domain": [
          0.5930555555555554,
          0.661111111111111
         ],
         "matches": "x92",
         "showticklabels": false
        },
        "xaxis57": {
         "anchor": "y57",
         "domain": [
          0.6777777777777777,
          0.7458333333333332
         ],
         "matches": "x93",
         "showticklabels": false
        },
        "xaxis58": {
         "anchor": "y58",
         "domain": [
          0.7625,
          0.8305555555555555
         ],
         "matches": "x94",
         "showticklabels": false
        },
        "xaxis59": {
         "anchor": "y59",
         "domain": [
          0.8472222222222221,
          0.9152777777777776
         ],
         "matches": "x95",
         "showticklabels": false
        },
        "xaxis6": {
         "anchor": "y6",
         "domain": [
          0.42361111111111105,
          0.4916666666666666
         ],
         "matches": "x90",
         "showticklabels": false
        },
        "xaxis60": {
         "anchor": "y60",
         "domain": [
          0.9319444444444444,
          0.9999999999999999
         ],
         "matches": "x96",
         "showticklabels": false
        },
        "xaxis61": {
         "anchor": "y61",
         "domain": [
          0,
          0.06805555555555555
         ],
         "matches": "x85",
         "showticklabels": false
        },
        "xaxis62": {
         "anchor": "y62",
         "domain": [
          0.08472222222222221,
          0.15277777777777776
         ],
         "matches": "x86",
         "showticklabels": false
        },
        "xaxis63": {
         "anchor": "y63",
         "domain": [
          0.16944444444444443,
          0.2375
         ],
         "matches": "x87",
         "showticklabels": false
        },
        "xaxis64": {
         "anchor": "y64",
         "domain": [
          0.25416666666666665,
          0.3222222222222222
         ],
         "matches": "x88",
         "showticklabels": false
        },
        "xaxis65": {
         "anchor": "y65",
         "domain": [
          0.33888888888888885,
          0.4069444444444444
         ],
         "matches": "x89",
         "showticklabels": false
        },
        "xaxis66": {
         "anchor": "y66",
         "domain": [
          0.42361111111111105,
          0.4916666666666666
         ],
         "matches": "x90",
         "showticklabels": false
        },
        "xaxis67": {
         "anchor": "y67",
         "domain": [
          0.5083333333333333,
          0.5763888888888888
         ],
         "matches": "x91",
         "showticklabels": false
        },
        "xaxis68": {
         "anchor": "y68",
         "domain": [
          0.5930555555555554,
          0.661111111111111
         ],
         "matches": "x92",
         "showticklabels": false
        },
        "xaxis69": {
         "anchor": "y69",
         "domain": [
          0.6777777777777777,
          0.7458333333333332
         ],
         "matches": "x93",
         "showticklabels": false
        },
        "xaxis7": {
         "anchor": "y7",
         "domain": [
          0.5083333333333333,
          0.5763888888888888
         ],
         "matches": "x91",
         "showticklabels": false
        },
        "xaxis70": {
         "anchor": "y70",
         "domain": [
          0.7625,
          0.8305555555555555
         ],
         "matches": "x94",
         "showticklabels": false
        },
        "xaxis71": {
         "anchor": "y71",
         "domain": [
          0.8472222222222221,
          0.9152777777777776
         ],
         "matches": "x95",
         "showticklabels": false
        },
        "xaxis72": {
         "anchor": "y72",
         "domain": [
          0.9319444444444444,
          0.9999999999999999
         ],
         "matches": "x96",
         "showticklabels": false
        },
        "xaxis73": {
         "anchor": "y73",
         "domain": [
          0,
          0.06805555555555555
         ],
         "matches": "x85",
         "showticklabels": false
        },
        "xaxis74": {
         "anchor": "y74",
         "domain": [
          0.08472222222222221,
          0.15277777777777776
         ],
         "matches": "x86",
         "showticklabels": false
        },
        "xaxis75": {
         "anchor": "y75",
         "domain": [
          0.16944444444444443,
          0.2375
         ],
         "matches": "x87",
         "showticklabels": false
        },
        "xaxis76": {
         "anchor": "y76",
         "domain": [
          0.25416666666666665,
          0.3222222222222222
         ],
         "matches": "x88",
         "showticklabels": false
        },
        "xaxis77": {
         "anchor": "y77",
         "domain": [
          0.33888888888888885,
          0.4069444444444444
         ],
         "matches": "x89",
         "showticklabels": false
        },
        "xaxis78": {
         "anchor": "y78",
         "domain": [
          0.42361111111111105,
          0.4916666666666666
         ],
         "matches": "x90",
         "showticklabels": false
        },
        "xaxis79": {
         "anchor": "y79",
         "domain": [
          0.5083333333333333,
          0.5763888888888888
         ],
         "matches": "x91",
         "showticklabels": false
        },
        "xaxis8": {
         "anchor": "y8",
         "domain": [
          0.5930555555555554,
          0.661111111111111
         ],
         "matches": "x92",
         "showticklabels": false
        },
        "xaxis80": {
         "anchor": "y80",
         "domain": [
          0.5930555555555554,
          0.661111111111111
         ],
         "matches": "x92",
         "showticklabels": false
        },
        "xaxis81": {
         "anchor": "y81",
         "domain": [
          0.6777777777777777,
          0.7458333333333332
         ],
         "matches": "x93",
         "showticklabels": false
        },
        "xaxis82": {
         "anchor": "y82",
         "domain": [
          0.7625,
          0.8305555555555555
         ],
         "matches": "x94",
         "showticklabels": false
        },
        "xaxis83": {
         "anchor": "y83",
         "domain": [
          0.8472222222222221,
          0.9152777777777776
         ],
         "matches": "x95",
         "showticklabels": false
        },
        "xaxis84": {
         "anchor": "y84",
         "domain": [
          0.9319444444444444,
          0.9999999999999999
         ],
         "matches": "x96",
         "showticklabels": false
        },
        "xaxis85": {
         "anchor": "y85",
         "domain": [
          0,
          0.06805555555555555
         ]
        },
        "xaxis86": {
         "anchor": "y86",
         "domain": [
          0.08472222222222221,
          0.15277777777777776
         ]
        },
        "xaxis87": {
         "anchor": "y87",
         "domain": [
          0.16944444444444443,
          0.2375
         ]
        },
        "xaxis88": {
         "anchor": "y88",
         "domain": [
          0.25416666666666665,
          0.3222222222222222
         ]
        },
        "xaxis89": {
         "anchor": "y89",
         "domain": [
          0.33888888888888885,
          0.4069444444444444
         ]
        },
        "xaxis9": {
         "anchor": "y9",
         "domain": [
          0.6777777777777777,
          0.7458333333333332
         ],
         "matches": "x93",
         "showticklabels": false
        },
        "xaxis90": {
         "anchor": "y90",
         "domain": [
          0.42361111111111105,
          0.4916666666666666
         ]
        },
        "xaxis91": {
         "anchor": "y91",
         "domain": [
          0.5083333333333333,
          0.5763888888888888
         ]
        },
        "xaxis92": {
         "anchor": "y92",
         "domain": [
          0.5930555555555554,
          0.661111111111111
         ]
        },
        "xaxis93": {
         "anchor": "y93",
         "domain": [
          0.6777777777777777,
          0.7458333333333332
         ]
        },
        "xaxis94": {
         "anchor": "y94",
         "domain": [
          0.7625,
          0.8305555555555555
         ]
        },
        "xaxis95": {
         "anchor": "y95",
         "domain": [
          0.8472222222222221,
          0.9152777777777776
         ]
        },
        "xaxis96": {
         "anchor": "y96",
         "domain": [
          0.9319444444444444,
          0.9999999999999999
         ]
        },
        "yaxis": {
         "anchor": "x",
         "domain": [
          0.9296875,
          1
         ],
         "matches": "y85"
        },
        "yaxis10": {
         "anchor": "x10",
         "domain": [
          0.9296875,
          1
         ],
         "matches": "y85",
         "showticklabels": false
        },
        "yaxis11": {
         "anchor": "x11",
         "domain": [
          0.9296875,
          1
         ],
         "matches": "y85",
         "showticklabels": false
        },
        "yaxis12": {
         "anchor": "x12",
         "domain": [
          0.9296875,
          1
         ],
         "matches": "y85",
         "showticklabels": false
        },
        "yaxis13": {
         "anchor": "x13",
         "domain": [
          0.796875,
          0.8671875
         ],
         "matches": "y85"
        },
        "yaxis14": {
         "anchor": "x14",
         "domain": [
          0.796875,
          0.8671875
         ],
         "matches": "y85",
         "showticklabels": false
        },
        "yaxis15": {
         "anchor": "x15",
         "domain": [
          0.796875,
          0.8671875
         ],
         "matches": "y85",
         "showticklabels": false
        },
        "yaxis16": {
         "anchor": "x16",
         "domain": [
          0.796875,
          0.8671875
         ],
         "matches": "y85",
         "showticklabels": false
        },
        "yaxis17": {
         "anchor": "x17",
         "domain": [
          0.796875,
          0.8671875
         ],
         "matches": "y85",
         "showticklabels": false
        },
        "yaxis18": {
         "anchor": "x18",
         "domain": [
          0.796875,
          0.8671875
         ],
         "matches": "y85",
         "showticklabels": false
        },
        "yaxis19": {
         "anchor": "x19",
         "domain": [
          0.796875,
          0.8671875
         ],
         "matches": "y85",
         "showticklabels": false
        },
        "yaxis2": {
         "anchor": "x2",
         "domain": [
          0.9296875,
          1
         ],
         "matches": "y85",
         "showticklabels": false
        },
        "yaxis20": {
         "anchor": "x20",
         "domain": [
          0.796875,
          0.8671875
         ],
         "matches": "y85",
         "showticklabels": false
        },
        "yaxis21": {
         "anchor": "x21",
         "domain": [
          0.796875,
          0.8671875
         ],
         "matches": "y85",
         "showticklabels": false
        },
        "yaxis22": {
         "anchor": "x22",
         "domain": [
          0.796875,
          0.8671875
         ],
         "matches": "y85",
         "showticklabels": false
        },
        "yaxis23": {
         "anchor": "x23",
         "domain": [
          0.796875,
          0.8671875
         ],
         "matches": "y85",
         "showticklabels": false
        },
        "yaxis24": {
         "anchor": "x24",
         "domain": [
          0.796875,
          0.8671875
         ],
         "matches": "y85",
         "showticklabels": false
        },
        "yaxis25": {
         "anchor": "x25",
         "domain": [
          0.6640625,
          0.734375
         ],
         "matches": "y85"
        },
        "yaxis26": {
         "anchor": "x26",
         "domain": [
          0.6640625,
          0.734375
         ],
         "matches": "y85",
         "showticklabels": false
        },
        "yaxis27": {
         "anchor": "x27",
         "domain": [
          0.6640625,
          0.734375
         ],
         "matches": "y85",
         "showticklabels": false
        },
        "yaxis28": {
         "anchor": "x28",
         "domain": [
          0.6640625,
          0.734375
         ],
         "matches": "y85",
         "showticklabels": false
        },
        "yaxis29": {
         "anchor": "x29",
         "domain": [
          0.6640625,
          0.734375
         ],
         "matches": "y85",
         "showticklabels": false
        },
        "yaxis3": {
         "anchor": "x3",
         "domain": [
          0.9296875,
          1
         ],
         "matches": "y85",
         "showticklabels": false
        },
        "yaxis30": {
         "anchor": "x30",
         "domain": [
          0.6640625,
          0.734375
         ],
         "matches": "y85",
         "showticklabels": false
        },
        "yaxis31": {
         "anchor": "x31",
         "domain": [
          0.6640625,
          0.734375
         ],
         "matches": "y85",
         "showticklabels": false
        },
        "yaxis32": {
         "anchor": "x32",
         "domain": [
          0.6640625,
          0.734375
         ],
         "matches": "y85",
         "showticklabels": false
        },
        "yaxis33": {
         "anchor": "x33",
         "domain": [
          0.6640625,
          0.734375
         ],
         "matches": "y85",
         "showticklabels": false
        },
        "yaxis34": {
         "anchor": "x34",
         "domain": [
          0.6640625,
          0.734375
         ],
         "matches": "y85",
         "showticklabels": false
        },
        "yaxis35": {
         "anchor": "x35",
         "domain": [
          0.6640625,
          0.734375
         ],
         "matches": "y85",
         "showticklabels": false
        },
        "yaxis36": {
         "anchor": "x36",
         "domain": [
          0.6640625,
          0.734375
         ],
         "matches": "y85",
         "showticklabels": false
        },
        "yaxis37": {
         "anchor": "x37",
         "domain": [
          0.53125,
          0.6015625
         ],
         "matches": "y85"
        },
        "yaxis38": {
         "anchor": "x38",
         "domain": [
          0.53125,
          0.6015625
         ],
         "matches": "y85",
         "showticklabels": false
        },
        "yaxis39": {
         "anchor": "x39",
         "domain": [
          0.53125,
          0.6015625
         ],
         "matches": "y85",
         "showticklabels": false
        },
        "yaxis4": {
         "anchor": "x4",
         "domain": [
          0.9296875,
          1
         ],
         "matches": "y85",
         "showticklabels": false
        },
        "yaxis40": {
         "anchor": "x40",
         "domain": [
          0.53125,
          0.6015625
         ],
         "matches": "y85",
         "showticklabels": false
        },
        "yaxis41": {
         "anchor": "x41",
         "domain": [
          0.53125,
          0.6015625
         ],
         "matches": "y85",
         "showticklabels": false
        },
        "yaxis42": {
         "anchor": "x42",
         "domain": [
          0.53125,
          0.6015625
         ],
         "matches": "y85",
         "showticklabels": false
        },
        "yaxis43": {
         "anchor": "x43",
         "domain": [
          0.53125,
          0.6015625
         ],
         "matches": "y85",
         "showticklabels": false
        },
        "yaxis44": {
         "anchor": "x44",
         "domain": [
          0.53125,
          0.6015625
         ],
         "matches": "y85",
         "showticklabels": false
        },
        "yaxis45": {
         "anchor": "x45",
         "domain": [
          0.53125,
          0.6015625
         ],
         "matches": "y85",
         "showticklabels": false
        },
        "yaxis46": {
         "anchor": "x46",
         "domain": [
          0.53125,
          0.6015625
         ],
         "matches": "y85",
         "showticklabels": false
        },
        "yaxis47": {
         "anchor": "x47",
         "domain": [
          0.53125,
          0.6015625
         ],
         "matches": "y85",
         "showticklabels": false
        },
        "yaxis48": {
         "anchor": "x48",
         "domain": [
          0.53125,
          0.6015625
         ],
         "matches": "y85",
         "showticklabels": false
        },
        "yaxis49": {
         "anchor": "x49",
         "domain": [
          0.3984375,
          0.46875
         ],
         "matches": "y85"
        },
        "yaxis5": {
         "anchor": "x5",
         "domain": [
          0.9296875,
          1
         ],
         "matches": "y85",
         "showticklabels": false
        },
        "yaxis50": {
         "anchor": "x50",
         "domain": [
          0.3984375,
          0.46875
         ],
         "matches": "y85",
         "showticklabels": false
        },
        "yaxis51": {
         "anchor": "x51",
         "domain": [
          0.3984375,
          0.46875
         ],
         "matches": "y85",
         "showticklabels": false
        },
        "yaxis52": {
         "anchor": "x52",
         "domain": [
          0.3984375,
          0.46875
         ],
         "matches": "y85",
         "showticklabels": false
        },
        "yaxis53": {
         "anchor": "x53",
         "domain": [
          0.3984375,
          0.46875
         ],
         "matches": "y85",
         "showticklabels": false
        },
        "yaxis54": {
         "anchor": "x54",
         "domain": [
          0.3984375,
          0.46875
         ],
         "matches": "y85",
         "showticklabels": false
        },
        "yaxis55": {
         "anchor": "x55",
         "domain": [
          0.3984375,
          0.46875
         ],
         "matches": "y85",
         "showticklabels": false
        },
        "yaxis56": {
         "anchor": "x56",
         "domain": [
          0.3984375,
          0.46875
         ],
         "matches": "y85",
         "showticklabels": false
        },
        "yaxis57": {
         "anchor": "x57",
         "domain": [
          0.3984375,
          0.46875
         ],
         "matches": "y85",
         "showticklabels": false
        },
        "yaxis58": {
         "anchor": "x58",
         "domain": [
          0.3984375,
          0.46875
         ],
         "matches": "y85",
         "showticklabels": false
        },
        "yaxis59": {
         "anchor": "x59",
         "domain": [
          0.3984375,
          0.46875
         ],
         "matches": "y85",
         "showticklabels": false
        },
        "yaxis6": {
         "anchor": "x6",
         "domain": [
          0.9296875,
          1
         ],
         "matches": "y85",
         "showticklabels": false
        },
        "yaxis60": {
         "anchor": "x60",
         "domain": [
          0.3984375,
          0.46875
         ],
         "matches": "y85",
         "showticklabels": false
        },
        "yaxis61": {
         "anchor": "x61",
         "domain": [
          0.265625,
          0.3359375
         ],
         "matches": "y85"
        },
        "yaxis62": {
         "anchor": "x62",
         "domain": [
          0.265625,
          0.3359375
         ],
         "matches": "y85",
         "showticklabels": false
        },
        "yaxis63": {
         "anchor": "x63",
         "domain": [
          0.265625,
          0.3359375
         ],
         "matches": "y85",
         "showticklabels": false
        },
        "yaxis64": {
         "anchor": "x64",
         "domain": [
          0.265625,
          0.3359375
         ],
         "matches": "y85",
         "showticklabels": false
        },
        "yaxis65": {
         "anchor": "x65",
         "domain": [
          0.265625,
          0.3359375
         ],
         "matches": "y85",
         "showticklabels": false
        },
        "yaxis66": {
         "anchor": "x66",
         "domain": [
          0.265625,
          0.3359375
         ],
         "matches": "y85",
         "showticklabels": false
        },
        "yaxis67": {
         "anchor": "x67",
         "domain": [
          0.265625,
          0.3359375
         ],
         "matches": "y85",
         "showticklabels": false
        },
        "yaxis68": {
         "anchor": "x68",
         "domain": [
          0.265625,
          0.3359375
         ],
         "matches": "y85",
         "showticklabels": false
        },
        "yaxis69": {
         "anchor": "x69",
         "domain": [
          0.265625,
          0.3359375
         ],
         "matches": "y85",
         "showticklabels": false
        },
        "yaxis7": {
         "anchor": "x7",
         "domain": [
          0.9296875,
          1
         ],
         "matches": "y85",
         "showticklabels": false
        },
        "yaxis70": {
         "anchor": "x70",
         "domain": [
          0.265625,
          0.3359375
         ],
         "matches": "y85",
         "showticklabels": false
        },
        "yaxis71": {
         "anchor": "x71",
         "domain": [
          0.265625,
          0.3359375
         ],
         "matches": "y85",
         "showticklabels": false
        },
        "yaxis72": {
         "anchor": "x72",
         "domain": [
          0.265625,
          0.3359375
         ],
         "matches": "y85",
         "showticklabels": false
        },
        "yaxis73": {
         "anchor": "x73",
         "domain": [
          0.1328125,
          0.203125
         ],
         "matches": "y85"
        },
        "yaxis74": {
         "anchor": "x74",
         "domain": [
          0.1328125,
          0.203125
         ],
         "matches": "y85",
         "showticklabels": false
        },
        "yaxis75": {
         "anchor": "x75",
         "domain": [
          0.1328125,
          0.203125
         ],
         "matches": "y85",
         "showticklabels": false
        },
        "yaxis76": {
         "anchor": "x76",
         "domain": [
          0.1328125,
          0.203125
         ],
         "matches": "y85",
         "showticklabels": false
        },
        "yaxis77": {
         "anchor": "x77",
         "domain": [
          0.1328125,
          0.203125
         ],
         "matches": "y85",
         "showticklabels": false
        },
        "yaxis78": {
         "anchor": "x78",
         "domain": [
          0.1328125,
          0.203125
         ],
         "matches": "y85",
         "showticklabels": false
        },
        "yaxis79": {
         "anchor": "x79",
         "domain": [
          0.1328125,
          0.203125
         ],
         "matches": "y85",
         "showticklabels": false
        },
        "yaxis8": {
         "anchor": "x8",
         "domain": [
          0.9296875,
          1
         ],
         "matches": "y85",
         "showticklabels": false
        },
        "yaxis80": {
         "anchor": "x80",
         "domain": [
          0.1328125,
          0.203125
         ],
         "matches": "y85",
         "showticklabels": false
        },
        "yaxis81": {
         "anchor": "x81",
         "domain": [
          0.1328125,
          0.203125
         ],
         "matches": "y85",
         "showticklabels": false
        },
        "yaxis82": {
         "anchor": "x82",
         "domain": [
          0.1328125,
          0.203125
         ],
         "matches": "y85",
         "showticklabels": false
        },
        "yaxis83": {
         "anchor": "x83",
         "domain": [
          0.1328125,
          0.203125
         ],
         "matches": "y85",
         "showticklabels": false
        },
        "yaxis84": {
         "anchor": "x84",
         "domain": [
          0.1328125,
          0.203125
         ],
         "matches": "y85",
         "showticklabels": false
        },
        "yaxis85": {
         "anchor": "x85",
         "domain": [
          0,
          0.0703125
         ]
        },
        "yaxis86": {
         "anchor": "x86",
         "domain": [
          0,
          0.0703125
         ],
         "matches": "y85",
         "showticklabels": false
        },
        "yaxis87": {
         "anchor": "x87",
         "domain": [
          0,
          0.0703125
         ],
         "matches": "y85",
         "showticklabels": false
        },
        "yaxis88": {
         "anchor": "x88",
         "domain": [
          0,
          0.0703125
         ],
         "matches": "y85",
         "showticklabels": false
        },
        "yaxis89": {
         "anchor": "x89",
         "domain": [
          0,
          0.0703125
         ],
         "matches": "y85",
         "showticklabels": false
        },
        "yaxis9": {
         "anchor": "x9",
         "domain": [
          0.9296875,
          1
         ],
         "matches": "y85",
         "showticklabels": false
        },
        "yaxis90": {
         "anchor": "x90",
         "domain": [
          0,
          0.0703125
         ],
         "matches": "y85",
         "showticklabels": false
        },
        "yaxis91": {
         "anchor": "x91",
         "domain": [
          0,
          0.0703125
         ],
         "matches": "y85",
         "showticklabels": false
        },
        "yaxis92": {
         "anchor": "x92",
         "domain": [
          0,
          0.0703125
         ],
         "matches": "y85",
         "showticklabels": false
        },
        "yaxis93": {
         "anchor": "x93",
         "domain": [
          0,
          0.0703125
         ],
         "matches": "y85",
         "showticklabels": false
        },
        "yaxis94": {
         "anchor": "x94",
         "domain": [
          0,
          0.0703125
         ],
         "matches": "y85",
         "showticklabels": false
        },
        "yaxis95": {
         "anchor": "x95",
         "domain": [
          0,
          0.0703125
         ],
         "matches": "y85",
         "showticklabels": false
        },
        "yaxis96": {
         "anchor": "x96",
         "domain": [
          0,
          0.0703125
         ],
         "matches": "y85",
         "showticklabels": false
        }
       }
      }
     },
     "metadata": {},
     "output_type": "display_data"
    }
   ],
   "source": [
    "# instantiate probes\n",
    "probeCy5 = FluorVis('Cy5')\n",
    "probeFAM = FluorVis('FAM')\n",
    "probeHEX = FluorVis('HEX')\n",
    "probeSYBR = FluorVis('SYBR')\n",
    "\n",
    "FluorVis.plotAllWells(probeFAM)\n",
    "FluorVis.plotIndWells(probeFAM)\n",
    "# FluorVis.plotAllWells(probeCy5)\n",
    "# FluorVis.plotIndWells(probeCy5)"
   ]
  },
  {
   "cell_type": "code",
   "execution_count": 21,
   "metadata": {},
   "outputs": [
    {
     "data": {
      "application/vnd.plotly.v1+json": {
       "config": {
        "plotlyServerURL": "https://plot.ly"
       },
       "data": [
        {
         "marker": {
          "color": "#2038A8"
         },
         "mode": "markers",
         "name": "Row Mean",
         "type": "scatter",
         "x": [
          50,
          100,
          200,
          400,
          600,
          800
         ],
         "y": [
          33.39666666666667,
          32.49666666666667,
          32.54909090909091,
          31.60166666666667,
          32.60916666666667,
          30.894545454545458
         ]
        },
        {
         "line": {
          "color": "#7564F5",
          "shape": "spline",
          "width": 1
         },
         "mode": "lines",
         "name": "Row (Modeled)",
         "type": "scatter",
         "x": [
          50,
          100,
          200,
          400,
          600,
          800
         ],
         "y": [
          32.958106738779975,
          32.84446441132775,
          32.61724424749343,
          32.16306177025706,
          31.709222876855733,
          31.255727307372354
         ]
        },
        {
         "marker": {
          "color": "#F58E17"
         },
         "mode": "markers",
         "name": "Col Mean",
         "type": "scatter",
         "x": [
          50,
          100,
          200,
          400,
          600,
          800
         ],
         "y": [
          32.53333333333334,
          34.18,
          31.724999999999994,
          32.11083333333334,
          31.55818181818182,
          31.63166666666667
         ]
        },
        {
         "line": {
          "color": "#F5BD69",
          "shape": "spline",
          "width": 1
         },
         "mode": "lines",
         "name": "Col (Modeled)",
         "type": "scatter",
         "x": [
          50,
          100,
          200,
          400,
          600,
          800
         ],
         "y": [
          33.19709792649377,
          32.91129580663947,
          32.46990946414501,
          31.939528945827977,
          31.676040927753156,
          31.54514257596359
         ]
        }
       ],
       "layout": {
        "template": {
         "data": {
          "bar": [
           {
            "error_x": {
             "color": "#2a3f5f"
            },
            "error_y": {
             "color": "#2a3f5f"
            },
            "marker": {
             "line": {
              "color": "#E5ECF6",
              "width": 0.5
             },
             "pattern": {
              "fillmode": "overlay",
              "size": 10,
              "solidity": 0.2
             }
            },
            "type": "bar"
           }
          ],
          "barpolar": [
           {
            "marker": {
             "line": {
              "color": "#E5ECF6",
              "width": 0.5
             },
             "pattern": {
              "fillmode": "overlay",
              "size": 10,
              "solidity": 0.2
             }
            },
            "type": "barpolar"
           }
          ],
          "carpet": [
           {
            "aaxis": {
             "endlinecolor": "#2a3f5f",
             "gridcolor": "white",
             "linecolor": "white",
             "minorgridcolor": "white",
             "startlinecolor": "#2a3f5f"
            },
            "baxis": {
             "endlinecolor": "#2a3f5f",
             "gridcolor": "white",
             "linecolor": "white",
             "minorgridcolor": "white",
             "startlinecolor": "#2a3f5f"
            },
            "type": "carpet"
           }
          ],
          "choropleth": [
           {
            "colorbar": {
             "outlinewidth": 0,
             "ticks": ""
            },
            "type": "choropleth"
           }
          ],
          "contour": [
           {
            "colorbar": {
             "outlinewidth": 0,
             "ticks": ""
            },
            "colorscale": [
             [
              0,
              "#0d0887"
             ],
             [
              0.1111111111111111,
              "#46039f"
             ],
             [
              0.2222222222222222,
              "#7201a8"
             ],
             [
              0.3333333333333333,
              "#9c179e"
             ],
             [
              0.4444444444444444,
              "#bd3786"
             ],
             [
              0.5555555555555556,
              "#d8576b"
             ],
             [
              0.6666666666666666,
              "#ed7953"
             ],
             [
              0.7777777777777778,
              "#fb9f3a"
             ],
             [
              0.8888888888888888,
              "#fdca26"
             ],
             [
              1,
              "#f0f921"
             ]
            ],
            "type": "contour"
           }
          ],
          "contourcarpet": [
           {
            "colorbar": {
             "outlinewidth": 0,
             "ticks": ""
            },
            "type": "contourcarpet"
           }
          ],
          "heatmap": [
           {
            "colorbar": {
             "outlinewidth": 0,
             "ticks": ""
            },
            "colorscale": [
             [
              0,
              "#0d0887"
             ],
             [
              0.1111111111111111,
              "#46039f"
             ],
             [
              0.2222222222222222,
              "#7201a8"
             ],
             [
              0.3333333333333333,
              "#9c179e"
             ],
             [
              0.4444444444444444,
              "#bd3786"
             ],
             [
              0.5555555555555556,
              "#d8576b"
             ],
             [
              0.6666666666666666,
              "#ed7953"
             ],
             [
              0.7777777777777778,
              "#fb9f3a"
             ],
             [
              0.8888888888888888,
              "#fdca26"
             ],
             [
              1,
              "#f0f921"
             ]
            ],
            "type": "heatmap"
           }
          ],
          "heatmapgl": [
           {
            "colorbar": {
             "outlinewidth": 0,
             "ticks": ""
            },
            "colorscale": [
             [
              0,
              "#0d0887"
             ],
             [
              0.1111111111111111,
              "#46039f"
             ],
             [
              0.2222222222222222,
              "#7201a8"
             ],
             [
              0.3333333333333333,
              "#9c179e"
             ],
             [
              0.4444444444444444,
              "#bd3786"
             ],
             [
              0.5555555555555556,
              "#d8576b"
             ],
             [
              0.6666666666666666,
              "#ed7953"
             ],
             [
              0.7777777777777778,
              "#fb9f3a"
             ],
             [
              0.8888888888888888,
              "#fdca26"
             ],
             [
              1,
              "#f0f921"
             ]
            ],
            "type": "heatmapgl"
           }
          ],
          "histogram": [
           {
            "marker": {
             "pattern": {
              "fillmode": "overlay",
              "size": 10,
              "solidity": 0.2
             }
            },
            "type": "histogram"
           }
          ],
          "histogram2d": [
           {
            "colorbar": {
             "outlinewidth": 0,
             "ticks": ""
            },
            "colorscale": [
             [
              0,
              "#0d0887"
             ],
             [
              0.1111111111111111,
              "#46039f"
             ],
             [
              0.2222222222222222,
              "#7201a8"
             ],
             [
              0.3333333333333333,
              "#9c179e"
             ],
             [
              0.4444444444444444,
              "#bd3786"
             ],
             [
              0.5555555555555556,
              "#d8576b"
             ],
             [
              0.6666666666666666,
              "#ed7953"
             ],
             [
              0.7777777777777778,
              "#fb9f3a"
             ],
             [
              0.8888888888888888,
              "#fdca26"
             ],
             [
              1,
              "#f0f921"
             ]
            ],
            "type": "histogram2d"
           }
          ],
          "histogram2dcontour": [
           {
            "colorbar": {
             "outlinewidth": 0,
             "ticks": ""
            },
            "colorscale": [
             [
              0,
              "#0d0887"
             ],
             [
              0.1111111111111111,
              "#46039f"
             ],
             [
              0.2222222222222222,
              "#7201a8"
             ],
             [
              0.3333333333333333,
              "#9c179e"
             ],
             [
              0.4444444444444444,
              "#bd3786"
             ],
             [
              0.5555555555555556,
              "#d8576b"
             ],
             [
              0.6666666666666666,
              "#ed7953"
             ],
             [
              0.7777777777777778,
              "#fb9f3a"
             ],
             [
              0.8888888888888888,
              "#fdca26"
             ],
             [
              1,
              "#f0f921"
             ]
            ],
            "type": "histogram2dcontour"
           }
          ],
          "mesh3d": [
           {
            "colorbar": {
             "outlinewidth": 0,
             "ticks": ""
            },
            "type": "mesh3d"
           }
          ],
          "parcoords": [
           {
            "line": {
             "colorbar": {
              "outlinewidth": 0,
              "ticks": ""
             }
            },
            "type": "parcoords"
           }
          ],
          "pie": [
           {
            "automargin": true,
            "type": "pie"
           }
          ],
          "scatter": [
           {
            "fillpattern": {
             "fillmode": "overlay",
             "size": 10,
             "solidity": 0.2
            },
            "type": "scatter"
           }
          ],
          "scatter3d": [
           {
            "line": {
             "colorbar": {
              "outlinewidth": 0,
              "ticks": ""
             }
            },
            "marker": {
             "colorbar": {
              "outlinewidth": 0,
              "ticks": ""
             }
            },
            "type": "scatter3d"
           }
          ],
          "scattercarpet": [
           {
            "marker": {
             "colorbar": {
              "outlinewidth": 0,
              "ticks": ""
             }
            },
            "type": "scattercarpet"
           }
          ],
          "scattergeo": [
           {
            "marker": {
             "colorbar": {
              "outlinewidth": 0,
              "ticks": ""
             }
            },
            "type": "scattergeo"
           }
          ],
          "scattergl": [
           {
            "marker": {
             "colorbar": {
              "outlinewidth": 0,
              "ticks": ""
             }
            },
            "type": "scattergl"
           }
          ],
          "scattermapbox": [
           {
            "marker": {
             "colorbar": {
              "outlinewidth": 0,
              "ticks": ""
             }
            },
            "type": "scattermapbox"
           }
          ],
          "scatterpolar": [
           {
            "marker": {
             "colorbar": {
              "outlinewidth": 0,
              "ticks": ""
             }
            },
            "type": "scatterpolar"
           }
          ],
          "scatterpolargl": [
           {
            "marker": {
             "colorbar": {
              "outlinewidth": 0,
              "ticks": ""
             }
            },
            "type": "scatterpolargl"
           }
          ],
          "scatterternary": [
           {
            "marker": {
             "colorbar": {
              "outlinewidth": 0,
              "ticks": ""
             }
            },
            "type": "scatterternary"
           }
          ],
          "surface": [
           {
            "colorbar": {
             "outlinewidth": 0,
             "ticks": ""
            },
            "colorscale": [
             [
              0,
              "#0d0887"
             ],
             [
              0.1111111111111111,
              "#46039f"
             ],
             [
              0.2222222222222222,
              "#7201a8"
             ],
             [
              0.3333333333333333,
              "#9c179e"
             ],
             [
              0.4444444444444444,
              "#bd3786"
             ],
             [
              0.5555555555555556,
              "#d8576b"
             ],
             [
              0.6666666666666666,
              "#ed7953"
             ],
             [
              0.7777777777777778,
              "#fb9f3a"
             ],
             [
              0.8888888888888888,
              "#fdca26"
             ],
             [
              1,
              "#f0f921"
             ]
            ],
            "type": "surface"
           }
          ],
          "table": [
           {
            "cells": {
             "fill": {
              "color": "#EBF0F8"
             },
             "line": {
              "color": "white"
             }
            },
            "header": {
             "fill": {
              "color": "#C8D4E3"
             },
             "line": {
              "color": "white"
             }
            },
            "type": "table"
           }
          ]
         },
         "layout": {
          "annotationdefaults": {
           "arrowcolor": "#2a3f5f",
           "arrowhead": 0,
           "arrowwidth": 1
          },
          "autotypenumbers": "strict",
          "coloraxis": {
           "colorbar": {
            "outlinewidth": 0,
            "ticks": ""
           }
          },
          "colorscale": {
           "diverging": [
            [
             0,
             "#8e0152"
            ],
            [
             0.1,
             "#c51b7d"
            ],
            [
             0.2,
             "#de77ae"
            ],
            [
             0.3,
             "#f1b6da"
            ],
            [
             0.4,
             "#fde0ef"
            ],
            [
             0.5,
             "#f7f7f7"
            ],
            [
             0.6,
             "#e6f5d0"
            ],
            [
             0.7,
             "#b8e186"
            ],
            [
             0.8,
             "#7fbc41"
            ],
            [
             0.9,
             "#4d9221"
            ],
            [
             1,
             "#276419"
            ]
           ],
           "sequential": [
            [
             0,
             "#0d0887"
            ],
            [
             0.1111111111111111,
             "#46039f"
            ],
            [
             0.2222222222222222,
             "#7201a8"
            ],
            [
             0.3333333333333333,
             "#9c179e"
            ],
            [
             0.4444444444444444,
             "#bd3786"
            ],
            [
             0.5555555555555556,
             "#d8576b"
            ],
            [
             0.6666666666666666,
             "#ed7953"
            ],
            [
             0.7777777777777778,
             "#fb9f3a"
            ],
            [
             0.8888888888888888,
             "#fdca26"
            ],
            [
             1,
             "#f0f921"
            ]
           ],
           "sequentialminus": [
            [
             0,
             "#0d0887"
            ],
            [
             0.1111111111111111,
             "#46039f"
            ],
            [
             0.2222222222222222,
             "#7201a8"
            ],
            [
             0.3333333333333333,
             "#9c179e"
            ],
            [
             0.4444444444444444,
             "#bd3786"
            ],
            [
             0.5555555555555556,
             "#d8576b"
            ],
            [
             0.6666666666666666,
             "#ed7953"
            ],
            [
             0.7777777777777778,
             "#fb9f3a"
            ],
            [
             0.8888888888888888,
             "#fdca26"
            ],
            [
             1,
             "#f0f921"
            ]
           ]
          },
          "colorway": [
           "#636efa",
           "#EF553B",
           "#00cc96",
           "#ab63fa",
           "#FFA15A",
           "#19d3f3",
           "#FF6692",
           "#B6E880",
           "#FF97FF",
           "#FECB52"
          ],
          "font": {
           "color": "#2a3f5f"
          },
          "geo": {
           "bgcolor": "white",
           "lakecolor": "white",
           "landcolor": "#E5ECF6",
           "showlakes": true,
           "showland": true,
           "subunitcolor": "white"
          },
          "hoverlabel": {
           "align": "left"
          },
          "hovermode": "closest",
          "mapbox": {
           "style": "light"
          },
          "paper_bgcolor": "white",
          "plot_bgcolor": "#E5ECF6",
          "polar": {
           "angularaxis": {
            "gridcolor": "white",
            "linecolor": "white",
            "ticks": ""
           },
           "bgcolor": "#E5ECF6",
           "radialaxis": {
            "gridcolor": "white",
            "linecolor": "white",
            "ticks": ""
           }
          },
          "scene": {
           "xaxis": {
            "backgroundcolor": "#E5ECF6",
            "gridcolor": "white",
            "gridwidth": 2,
            "linecolor": "white",
            "showbackground": true,
            "ticks": "",
            "zerolinecolor": "white"
           },
           "yaxis": {
            "backgroundcolor": "#E5ECF6",
            "gridcolor": "white",
            "gridwidth": 2,
            "linecolor": "white",
            "showbackground": true,
            "ticks": "",
            "zerolinecolor": "white"
           },
           "zaxis": {
            "backgroundcolor": "#E5ECF6",
            "gridcolor": "white",
            "gridwidth": 2,
            "linecolor": "white",
            "showbackground": true,
            "ticks": "",
            "zerolinecolor": "white"
           }
          },
          "shapedefaults": {
           "line": {
            "color": "#2a3f5f"
           }
          },
          "ternary": {
           "aaxis": {
            "gridcolor": "white",
            "linecolor": "white",
            "ticks": ""
           },
           "baxis": {
            "gridcolor": "white",
            "linecolor": "white",
            "ticks": ""
           },
           "bgcolor": "#E5ECF6",
           "caxis": {
            "gridcolor": "white",
            "linecolor": "white",
            "ticks": ""
           }
          },
          "title": {
           "x": 0.05
          },
          "xaxis": {
           "automargin": true,
           "gridcolor": "white",
           "linecolor": "white",
           "ticks": "",
           "title": {
            "standoff": 15
           },
           "zerolinecolor": "white",
           "zerolinewidth": 2
          },
          "yaxis": {
           "automargin": true,
           "gridcolor": "white",
           "linecolor": "white",
           "ticks": "",
           "title": {
            "standoff": 15
           },
           "zerolinecolor": "white",
           "zerolinewidth": 2
          }
         }
        },
        "title": {
         "text": "Row vs Col Means"
        },
        "xaxis": {
         "title": {
          "text": "Mean"
         }
        },
        "yaxis": {
         "title": {
          "text": "Cq"
         }
        }
       }
      }
     },
     "metadata": {},
     "output_type": "display_data"
    },
    {
     "data": {
      "application/vnd.plotly.v1+json": {
       "config": {
        "plotlyServerURL": "https://plot.ly"
       },
       "data": [
        {
         "alignmentgroup": "True",
         "hovertemplate": "F Primer Concentration=%{x}<br>Ct=%{y}<br>R_primer=%{marker.color}<extra></extra>",
         "legendgroup": "",
         "marker": {
          "color": [
           50,
           50,
           50,
           50,
           50,
           50,
           100,
           100,
           100,
           100,
           100,
           100,
           200,
           200,
           200,
           200,
           200,
           200,
           400,
           400,
           400,
           400,
           400,
           400,
           600,
           600,
           600,
           600,
           600,
           600,
           800,
           800,
           800,
           800,
           800,
           800
          ],
          "coloraxis": "coloraxis",
          "pattern": {
           "shape": ""
          }
         },
         "name": "",
         "offsetgroup": "",
         "orientation": "v",
         "showlegend": false,
         "textposition": "auto",
         "texttemplate": "%{y}",
         "type": "bar",
         "x": [
          "50.0_50.0",
          "100.0_50.0",
          "200.0_50.0",
          "400.0_50.0",
          "600.0_50.0",
          "800.0_50.0",
          "50.0_100.0",
          "100.0_100.0",
          "200.0_100.0",
          "400.0_100.0",
          "600.0_100.0",
          "800.0_100.0",
          "50.0_200.0",
          "100.0_200.0",
          "200.0_200.0",
          "400.0_200.0",
          "600.0_200.0",
          "800.0_200.0",
          "50.0_400.0",
          "100.0_400.0",
          "200.0_400.0",
          "400.0_400.0",
          "600.0_400.0",
          "800.0_400.0",
          "50.0_600.0",
          "100.0_600.0",
          "200.0_600.0",
          "400.0_600.0",
          "600.0_600.0",
          "800.0_600.0",
          "50.0_800.0",
          "100.0_800.0",
          "200.0_800.0",
          "400.0_800.0",
          "600.0_800.0",
          "800.0_800.0"
         ],
         "xaxis": "x",
         "y": [
          34.8,
          37.695,
          31.61,
          32.74,
          31.46,
          32.075,
          33.22,
          32.805,
          31.919999999999998,
          32.15,
          33.115,
          31.769999999999996,
          33.095,
          34.79,
          32.07,
          32.25,
          31.7,
          32.51,
          31.765,
          31.32,
          31.700000000000003,
          31.755,
          31.75,
          31.32,
          31.14,
          36.685,
          31.099999999999998,
          32.885000000000005,
          32.66,
          31.185000000000002,
          31.18,
          32.09,
          31.950000000000003,
          30.884999999999998,
          25.77,
          30.93
         ],
         "yaxis": "y"
        }
       ],
       "layout": {
        "barmode": "group",
        "coloraxis": {
         "colorbar": {
          "title": {
           "text": "R_primer"
          }
         },
         "colorscale": [
          [
           0,
           "#0d0887"
          ],
          [
           0.1111111111111111,
           "#46039f"
          ],
          [
           0.2222222222222222,
           "#7201a8"
          ],
          [
           0.3333333333333333,
           "#9c179e"
          ],
          [
           0.4444444444444444,
           "#bd3786"
          ],
          [
           0.5555555555555556,
           "#d8576b"
          ],
          [
           0.6666666666666666,
           "#ed7953"
          ],
          [
           0.7777777777777778,
           "#fb9f3a"
          ],
          [
           0.8888888888888888,
           "#fdca26"
          ],
          [
           1,
           "#f0f921"
          ]
         ]
        },
        "legend": {
         "tracegroupgap": 0
        },
        "template": {
         "data": {
          "bar": [
           {
            "error_x": {
             "color": "#2a3f5f"
            },
            "error_y": {
             "color": "#2a3f5f"
            },
            "marker": {
             "line": {
              "color": "#E5ECF6",
              "width": 0.5
             },
             "pattern": {
              "fillmode": "overlay",
              "size": 10,
              "solidity": 0.2
             }
            },
            "type": "bar"
           }
          ],
          "barpolar": [
           {
            "marker": {
             "line": {
              "color": "#E5ECF6",
              "width": 0.5
             },
             "pattern": {
              "fillmode": "overlay",
              "size": 10,
              "solidity": 0.2
             }
            },
            "type": "barpolar"
           }
          ],
          "carpet": [
           {
            "aaxis": {
             "endlinecolor": "#2a3f5f",
             "gridcolor": "white",
             "linecolor": "white",
             "minorgridcolor": "white",
             "startlinecolor": "#2a3f5f"
            },
            "baxis": {
             "endlinecolor": "#2a3f5f",
             "gridcolor": "white",
             "linecolor": "white",
             "minorgridcolor": "white",
             "startlinecolor": "#2a3f5f"
            },
            "type": "carpet"
           }
          ],
          "choropleth": [
           {
            "colorbar": {
             "outlinewidth": 0,
             "ticks": ""
            },
            "type": "choropleth"
           }
          ],
          "contour": [
           {
            "colorbar": {
             "outlinewidth": 0,
             "ticks": ""
            },
            "colorscale": [
             [
              0,
              "#0d0887"
             ],
             [
              0.1111111111111111,
              "#46039f"
             ],
             [
              0.2222222222222222,
              "#7201a8"
             ],
             [
              0.3333333333333333,
              "#9c179e"
             ],
             [
              0.4444444444444444,
              "#bd3786"
             ],
             [
              0.5555555555555556,
              "#d8576b"
             ],
             [
              0.6666666666666666,
              "#ed7953"
             ],
             [
              0.7777777777777778,
              "#fb9f3a"
             ],
             [
              0.8888888888888888,
              "#fdca26"
             ],
             [
              1,
              "#f0f921"
             ]
            ],
            "type": "contour"
           }
          ],
          "contourcarpet": [
           {
            "colorbar": {
             "outlinewidth": 0,
             "ticks": ""
            },
            "type": "contourcarpet"
           }
          ],
          "heatmap": [
           {
            "colorbar": {
             "outlinewidth": 0,
             "ticks": ""
            },
            "colorscale": [
             [
              0,
              "#0d0887"
             ],
             [
              0.1111111111111111,
              "#46039f"
             ],
             [
              0.2222222222222222,
              "#7201a8"
             ],
             [
              0.3333333333333333,
              "#9c179e"
             ],
             [
              0.4444444444444444,
              "#bd3786"
             ],
             [
              0.5555555555555556,
              "#d8576b"
             ],
             [
              0.6666666666666666,
              "#ed7953"
             ],
             [
              0.7777777777777778,
              "#fb9f3a"
             ],
             [
              0.8888888888888888,
              "#fdca26"
             ],
             [
              1,
              "#f0f921"
             ]
            ],
            "type": "heatmap"
           }
          ],
          "heatmapgl": [
           {
            "colorbar": {
             "outlinewidth": 0,
             "ticks": ""
            },
            "colorscale": [
             [
              0,
              "#0d0887"
             ],
             [
              0.1111111111111111,
              "#46039f"
             ],
             [
              0.2222222222222222,
              "#7201a8"
             ],
             [
              0.3333333333333333,
              "#9c179e"
             ],
             [
              0.4444444444444444,
              "#bd3786"
             ],
             [
              0.5555555555555556,
              "#d8576b"
             ],
             [
              0.6666666666666666,
              "#ed7953"
             ],
             [
              0.7777777777777778,
              "#fb9f3a"
             ],
             [
              0.8888888888888888,
              "#fdca26"
             ],
             [
              1,
              "#f0f921"
             ]
            ],
            "type": "heatmapgl"
           }
          ],
          "histogram": [
           {
            "marker": {
             "pattern": {
              "fillmode": "overlay",
              "size": 10,
              "solidity": 0.2
             }
            },
            "type": "histogram"
           }
          ],
          "histogram2d": [
           {
            "colorbar": {
             "outlinewidth": 0,
             "ticks": ""
            },
            "colorscale": [
             [
              0,
              "#0d0887"
             ],
             [
              0.1111111111111111,
              "#46039f"
             ],
             [
              0.2222222222222222,
              "#7201a8"
             ],
             [
              0.3333333333333333,
              "#9c179e"
             ],
             [
              0.4444444444444444,
              "#bd3786"
             ],
             [
              0.5555555555555556,
              "#d8576b"
             ],
             [
              0.6666666666666666,
              "#ed7953"
             ],
             [
              0.7777777777777778,
              "#fb9f3a"
             ],
             [
              0.8888888888888888,
              "#fdca26"
             ],
             [
              1,
              "#f0f921"
             ]
            ],
            "type": "histogram2d"
           }
          ],
          "histogram2dcontour": [
           {
            "colorbar": {
             "outlinewidth": 0,
             "ticks": ""
            },
            "colorscale": [
             [
              0,
              "#0d0887"
             ],
             [
              0.1111111111111111,
              "#46039f"
             ],
             [
              0.2222222222222222,
              "#7201a8"
             ],
             [
              0.3333333333333333,
              "#9c179e"
             ],
             [
              0.4444444444444444,
              "#bd3786"
             ],
             [
              0.5555555555555556,
              "#d8576b"
             ],
             [
              0.6666666666666666,
              "#ed7953"
             ],
             [
              0.7777777777777778,
              "#fb9f3a"
             ],
             [
              0.8888888888888888,
              "#fdca26"
             ],
             [
              1,
              "#f0f921"
             ]
            ],
            "type": "histogram2dcontour"
           }
          ],
          "mesh3d": [
           {
            "colorbar": {
             "outlinewidth": 0,
             "ticks": ""
            },
            "type": "mesh3d"
           }
          ],
          "parcoords": [
           {
            "line": {
             "colorbar": {
              "outlinewidth": 0,
              "ticks": ""
             }
            },
            "type": "parcoords"
           }
          ],
          "pie": [
           {
            "automargin": true,
            "type": "pie"
           }
          ],
          "scatter": [
           {
            "fillpattern": {
             "fillmode": "overlay",
             "size": 10,
             "solidity": 0.2
            },
            "type": "scatter"
           }
          ],
          "scatter3d": [
           {
            "line": {
             "colorbar": {
              "outlinewidth": 0,
              "ticks": ""
             }
            },
            "marker": {
             "colorbar": {
              "outlinewidth": 0,
              "ticks": ""
             }
            },
            "type": "scatter3d"
           }
          ],
          "scattercarpet": [
           {
            "marker": {
             "colorbar": {
              "outlinewidth": 0,
              "ticks": ""
             }
            },
            "type": "scattercarpet"
           }
          ],
          "scattergeo": [
           {
            "marker": {
             "colorbar": {
              "outlinewidth": 0,
              "ticks": ""
             }
            },
            "type": "scattergeo"
           }
          ],
          "scattergl": [
           {
            "marker": {
             "colorbar": {
              "outlinewidth": 0,
              "ticks": ""
             }
            },
            "type": "scattergl"
           }
          ],
          "scattermapbox": [
           {
            "marker": {
             "colorbar": {
              "outlinewidth": 0,
              "ticks": ""
             }
            },
            "type": "scattermapbox"
           }
          ],
          "scatterpolar": [
           {
            "marker": {
             "colorbar": {
              "outlinewidth": 0,
              "ticks": ""
             }
            },
            "type": "scatterpolar"
           }
          ],
          "scatterpolargl": [
           {
            "marker": {
             "colorbar": {
              "outlinewidth": 0,
              "ticks": ""
             }
            },
            "type": "scatterpolargl"
           }
          ],
          "scatterternary": [
           {
            "marker": {
             "colorbar": {
              "outlinewidth": 0,
              "ticks": ""
             }
            },
            "type": "scatterternary"
           }
          ],
          "surface": [
           {
            "colorbar": {
             "outlinewidth": 0,
             "ticks": ""
            },
            "colorscale": [
             [
              0,
              "#0d0887"
             ],
             [
              0.1111111111111111,
              "#46039f"
             ],
             [
              0.2222222222222222,
              "#7201a8"
             ],
             [
              0.3333333333333333,
              "#9c179e"
             ],
             [
              0.4444444444444444,
              "#bd3786"
             ],
             [
              0.5555555555555556,
              "#d8576b"
             ],
             [
              0.6666666666666666,
              "#ed7953"
             ],
             [
              0.7777777777777778,
              "#fb9f3a"
             ],
             [
              0.8888888888888888,
              "#fdca26"
             ],
             [
              1,
              "#f0f921"
             ]
            ],
            "type": "surface"
           }
          ],
          "table": [
           {
            "cells": {
             "fill": {
              "color": "#EBF0F8"
             },
             "line": {
              "color": "white"
             }
            },
            "header": {
             "fill": {
              "color": "#C8D4E3"
             },
             "line": {
              "color": "white"
             }
            },
            "type": "table"
           }
          ]
         },
         "layout": {
          "annotationdefaults": {
           "arrowcolor": "#2a3f5f",
           "arrowhead": 0,
           "arrowwidth": 1
          },
          "autotypenumbers": "strict",
          "coloraxis": {
           "colorbar": {
            "outlinewidth": 0,
            "ticks": ""
           }
          },
          "colorscale": {
           "diverging": [
            [
             0,
             "#8e0152"
            ],
            [
             0.1,
             "#c51b7d"
            ],
            [
             0.2,
             "#de77ae"
            ],
            [
             0.3,
             "#f1b6da"
            ],
            [
             0.4,
             "#fde0ef"
            ],
            [
             0.5,
             "#f7f7f7"
            ],
            [
             0.6,
             "#e6f5d0"
            ],
            [
             0.7,
             "#b8e186"
            ],
            [
             0.8,
             "#7fbc41"
            ],
            [
             0.9,
             "#4d9221"
            ],
            [
             1,
             "#276419"
            ]
           ],
           "sequential": [
            [
             0,
             "#0d0887"
            ],
            [
             0.1111111111111111,
             "#46039f"
            ],
            [
             0.2222222222222222,
             "#7201a8"
            ],
            [
             0.3333333333333333,
             "#9c179e"
            ],
            [
             0.4444444444444444,
             "#bd3786"
            ],
            [
             0.5555555555555556,
             "#d8576b"
            ],
            [
             0.6666666666666666,
             "#ed7953"
            ],
            [
             0.7777777777777778,
             "#fb9f3a"
            ],
            [
             0.8888888888888888,
             "#fdca26"
            ],
            [
             1,
             "#f0f921"
            ]
           ],
           "sequentialminus": [
            [
             0,
             "#0d0887"
            ],
            [
             0.1111111111111111,
             "#46039f"
            ],
            [
             0.2222222222222222,
             "#7201a8"
            ],
            [
             0.3333333333333333,
             "#9c179e"
            ],
            [
             0.4444444444444444,
             "#bd3786"
            ],
            [
             0.5555555555555556,
             "#d8576b"
            ],
            [
             0.6666666666666666,
             "#ed7953"
            ],
            [
             0.7777777777777778,
             "#fb9f3a"
            ],
            [
             0.8888888888888888,
             "#fdca26"
            ],
            [
             1,
             "#f0f921"
            ]
           ]
          },
          "colorway": [
           "#636efa",
           "#EF553B",
           "#00cc96",
           "#ab63fa",
           "#FFA15A",
           "#19d3f3",
           "#FF6692",
           "#B6E880",
           "#FF97FF",
           "#FECB52"
          ],
          "font": {
           "color": "#2a3f5f"
          },
          "geo": {
           "bgcolor": "white",
           "lakecolor": "white",
           "landcolor": "#E5ECF6",
           "showlakes": true,
           "showland": true,
           "subunitcolor": "white"
          },
          "hoverlabel": {
           "align": "left"
          },
          "hovermode": "closest",
          "mapbox": {
           "style": "light"
          },
          "paper_bgcolor": "white",
          "plot_bgcolor": "#E5ECF6",
          "polar": {
           "angularaxis": {
            "gridcolor": "white",
            "linecolor": "white",
            "ticks": ""
           },
           "bgcolor": "#E5ECF6",
           "radialaxis": {
            "gridcolor": "white",
            "linecolor": "white",
            "ticks": ""
           }
          },
          "scene": {
           "xaxis": {
            "backgroundcolor": "#E5ECF6",
            "gridcolor": "white",
            "gridwidth": 2,
            "linecolor": "white",
            "showbackground": true,
            "ticks": "",
            "zerolinecolor": "white"
           },
           "yaxis": {
            "backgroundcolor": "#E5ECF6",
            "gridcolor": "white",
            "gridwidth": 2,
            "linecolor": "white",
            "showbackground": true,
            "ticks": "",
            "zerolinecolor": "white"
           },
           "zaxis": {
            "backgroundcolor": "#E5ECF6",
            "gridcolor": "white",
            "gridwidth": 2,
            "linecolor": "white",
            "showbackground": true,
            "ticks": "",
            "zerolinecolor": "white"
           }
          },
          "shapedefaults": {
           "line": {
            "color": "#2a3f5f"
           }
          },
          "ternary": {
           "aaxis": {
            "gridcolor": "white",
            "linecolor": "white",
            "ticks": ""
           },
           "baxis": {
            "gridcolor": "white",
            "linecolor": "white",
            "ticks": ""
           },
           "bgcolor": "#E5ECF6",
           "caxis": {
            "gridcolor": "white",
            "linecolor": "white",
            "ticks": ""
           }
          },
          "title": {
           "x": 0.05
          },
          "xaxis": {
           "automargin": true,
           "gridcolor": "white",
           "linecolor": "white",
           "ticks": "",
           "title": {
            "standoff": 15
           },
           "zerolinecolor": "white",
           "zerolinewidth": 2
          },
          "yaxis": {
           "automargin": true,
           "gridcolor": "white",
           "linecolor": "white",
           "ticks": "",
           "title": {
            "standoff": 15
           },
           "zerolinecolor": "white",
           "zerolinewidth": 2
          }
         }
        },
        "title": {
         "text": "Periodicity in Increasing [Fwd] (Going Across Row)<br>[Rev] Held Constant, Two Points per Condition Averaged"
        },
        "xaxis": {
         "anchor": "y",
         "domain": [
          0,
          1
         ],
         "title": {
          "text": "F Primer Concentration"
         }
        },
        "yaxis": {
         "anchor": "x",
         "domain": [
          0,
          1
         ],
         "title": {
          "text": "Ct"
         }
        }
       }
      }
     },
     "metadata": {},
     "output_type": "display_data"
    },
    {
     "data": {
      "application/vnd.plotly.v1+json": {
       "config": {
        "plotlyServerURL": "https://plot.ly"
       },
       "data": [
        {
         "alignmentgroup": "True",
         "hovertemplate": "R Primer Concentration=%{x}<br>Ct=%{y}<br>F_primer=%{marker.color}<extra></extra>",
         "legendgroup": "",
         "marker": {
          "color": [
           50,
           50,
           50,
           50,
           50,
           50,
           100,
           100,
           100,
           100,
           100,
           100,
           200,
           200,
           200,
           200,
           200,
           200,
           400,
           400,
           400,
           400,
           400,
           400,
           600,
           600,
           600,
           600,
           600,
           600,
           800,
           800,
           800,
           800,
           800,
           800
          ],
          "coloraxis": "coloraxis",
          "pattern": {
           "shape": ""
          }
         },
         "name": "",
         "offsetgroup": "",
         "orientation": "v",
         "showlegend": false,
         "textposition": "auto",
         "texttemplate": "%{y}",
         "type": "bar",
         "x": [
          "50.0_50.0",
          "100.0_50.0",
          "200.0_50.0",
          "400.0_50.0",
          "600.0_50.0",
          "800.0_50.0",
          "50.0_100.0",
          "100.0_100.0",
          "200.0_100.0",
          "400.0_100.0",
          "600.0_100.0",
          "800.0_100.0",
          "50.0_200.0",
          "100.0_200.0",
          "200.0_200.0",
          "400.0_200.0",
          "600.0_200.0",
          "800.0_200.0",
          "50.0_400.0",
          "100.0_400.0",
          "200.0_400.0",
          "400.0_400.0",
          "600.0_400.0",
          "800.0_400.0",
          "50.0_600.0",
          "100.0_600.0",
          "200.0_600.0",
          "400.0_600.0",
          "600.0_600.0",
          "800.0_600.0",
          "50.0_800.0",
          "100.0_800.0",
          "200.0_800.0",
          "400.0_800.0",
          "600.0_800.0",
          "800.0_800.0"
         ],
         "xaxis": "x",
         "y": [
          34.8,
          33.22,
          33.095,
          31.765,
          31.14,
          31.18,
          37.695,
          32.805,
          34.79,
          31.32,
          36.685,
          32.09,
          31.61,
          31.919999999999998,
          32.07,
          31.700000000000003,
          31.099999999999998,
          31.950000000000003,
          32.74,
          32.15,
          32.25,
          31.755,
          32.885000000000005,
          30.884999999999998,
          31.46,
          33.115,
          31.7,
          31.75,
          32.66,
          25.77,
          32.075,
          31.769999999999996,
          32.51,
          31.32,
          31.185000000000002,
          30.93
         ],
         "yaxis": "y"
        }
       ],
       "layout": {
        "barmode": "group",
        "coloraxis": {
         "colorbar": {
          "title": {
           "text": "F_primer"
          }
         },
         "colorscale": [
          [
           0,
           "#0d0887"
          ],
          [
           0.1111111111111111,
           "#46039f"
          ],
          [
           0.2222222222222222,
           "#7201a8"
          ],
          [
           0.3333333333333333,
           "#9c179e"
          ],
          [
           0.4444444444444444,
           "#bd3786"
          ],
          [
           0.5555555555555556,
           "#d8576b"
          ],
          [
           0.6666666666666666,
           "#ed7953"
          ],
          [
           0.7777777777777778,
           "#fb9f3a"
          ],
          [
           0.8888888888888888,
           "#fdca26"
          ],
          [
           1,
           "#f0f921"
          ]
         ]
        },
        "legend": {
         "tracegroupgap": 0
        },
        "template": {
         "data": {
          "bar": [
           {
            "error_x": {
             "color": "#2a3f5f"
            },
            "error_y": {
             "color": "#2a3f5f"
            },
            "marker": {
             "line": {
              "color": "#E5ECF6",
              "width": 0.5
             },
             "pattern": {
              "fillmode": "overlay",
              "size": 10,
              "solidity": 0.2
             }
            },
            "type": "bar"
           }
          ],
          "barpolar": [
           {
            "marker": {
             "line": {
              "color": "#E5ECF6",
              "width": 0.5
             },
             "pattern": {
              "fillmode": "overlay",
              "size": 10,
              "solidity": 0.2
             }
            },
            "type": "barpolar"
           }
          ],
          "carpet": [
           {
            "aaxis": {
             "endlinecolor": "#2a3f5f",
             "gridcolor": "white",
             "linecolor": "white",
             "minorgridcolor": "white",
             "startlinecolor": "#2a3f5f"
            },
            "baxis": {
             "endlinecolor": "#2a3f5f",
             "gridcolor": "white",
             "linecolor": "white",
             "minorgridcolor": "white",
             "startlinecolor": "#2a3f5f"
            },
            "type": "carpet"
           }
          ],
          "choropleth": [
           {
            "colorbar": {
             "outlinewidth": 0,
             "ticks": ""
            },
            "type": "choropleth"
           }
          ],
          "contour": [
           {
            "colorbar": {
             "outlinewidth": 0,
             "ticks": ""
            },
            "colorscale": [
             [
              0,
              "#0d0887"
             ],
             [
              0.1111111111111111,
              "#46039f"
             ],
             [
              0.2222222222222222,
              "#7201a8"
             ],
             [
              0.3333333333333333,
              "#9c179e"
             ],
             [
              0.4444444444444444,
              "#bd3786"
             ],
             [
              0.5555555555555556,
              "#d8576b"
             ],
             [
              0.6666666666666666,
              "#ed7953"
             ],
             [
              0.7777777777777778,
              "#fb9f3a"
             ],
             [
              0.8888888888888888,
              "#fdca26"
             ],
             [
              1,
              "#f0f921"
             ]
            ],
            "type": "contour"
           }
          ],
          "contourcarpet": [
           {
            "colorbar": {
             "outlinewidth": 0,
             "ticks": ""
            },
            "type": "contourcarpet"
           }
          ],
          "heatmap": [
           {
            "colorbar": {
             "outlinewidth": 0,
             "ticks": ""
            },
            "colorscale": [
             [
              0,
              "#0d0887"
             ],
             [
              0.1111111111111111,
              "#46039f"
             ],
             [
              0.2222222222222222,
              "#7201a8"
             ],
             [
              0.3333333333333333,
              "#9c179e"
             ],
             [
              0.4444444444444444,
              "#bd3786"
             ],
             [
              0.5555555555555556,
              "#d8576b"
             ],
             [
              0.6666666666666666,
              "#ed7953"
             ],
             [
              0.7777777777777778,
              "#fb9f3a"
             ],
             [
              0.8888888888888888,
              "#fdca26"
             ],
             [
              1,
              "#f0f921"
             ]
            ],
            "type": "heatmap"
           }
          ],
          "heatmapgl": [
           {
            "colorbar": {
             "outlinewidth": 0,
             "ticks": ""
            },
            "colorscale": [
             [
              0,
              "#0d0887"
             ],
             [
              0.1111111111111111,
              "#46039f"
             ],
             [
              0.2222222222222222,
              "#7201a8"
             ],
             [
              0.3333333333333333,
              "#9c179e"
             ],
             [
              0.4444444444444444,
              "#bd3786"
             ],
             [
              0.5555555555555556,
              "#d8576b"
             ],
             [
              0.6666666666666666,
              "#ed7953"
             ],
             [
              0.7777777777777778,
              "#fb9f3a"
             ],
             [
              0.8888888888888888,
              "#fdca26"
             ],
             [
              1,
              "#f0f921"
             ]
            ],
            "type": "heatmapgl"
           }
          ],
          "histogram": [
           {
            "marker": {
             "pattern": {
              "fillmode": "overlay",
              "size": 10,
              "solidity": 0.2
             }
            },
            "type": "histogram"
           }
          ],
          "histogram2d": [
           {
            "colorbar": {
             "outlinewidth": 0,
             "ticks": ""
            },
            "colorscale": [
             [
              0,
              "#0d0887"
             ],
             [
              0.1111111111111111,
              "#46039f"
             ],
             [
              0.2222222222222222,
              "#7201a8"
             ],
             [
              0.3333333333333333,
              "#9c179e"
             ],
             [
              0.4444444444444444,
              "#bd3786"
             ],
             [
              0.5555555555555556,
              "#d8576b"
             ],
             [
              0.6666666666666666,
              "#ed7953"
             ],
             [
              0.7777777777777778,
              "#fb9f3a"
             ],
             [
              0.8888888888888888,
              "#fdca26"
             ],
             [
              1,
              "#f0f921"
             ]
            ],
            "type": "histogram2d"
           }
          ],
          "histogram2dcontour": [
           {
            "colorbar": {
             "outlinewidth": 0,
             "ticks": ""
            },
            "colorscale": [
             [
              0,
              "#0d0887"
             ],
             [
              0.1111111111111111,
              "#46039f"
             ],
             [
              0.2222222222222222,
              "#7201a8"
             ],
             [
              0.3333333333333333,
              "#9c179e"
             ],
             [
              0.4444444444444444,
              "#bd3786"
             ],
             [
              0.5555555555555556,
              "#d8576b"
             ],
             [
              0.6666666666666666,
              "#ed7953"
             ],
             [
              0.7777777777777778,
              "#fb9f3a"
             ],
             [
              0.8888888888888888,
              "#fdca26"
             ],
             [
              1,
              "#f0f921"
             ]
            ],
            "type": "histogram2dcontour"
           }
          ],
          "mesh3d": [
           {
            "colorbar": {
             "outlinewidth": 0,
             "ticks": ""
            },
            "type": "mesh3d"
           }
          ],
          "parcoords": [
           {
            "line": {
             "colorbar": {
              "outlinewidth": 0,
              "ticks": ""
             }
            },
            "type": "parcoords"
           }
          ],
          "pie": [
           {
            "automargin": true,
            "type": "pie"
           }
          ],
          "scatter": [
           {
            "fillpattern": {
             "fillmode": "overlay",
             "size": 10,
             "solidity": 0.2
            },
            "type": "scatter"
           }
          ],
          "scatter3d": [
           {
            "line": {
             "colorbar": {
              "outlinewidth": 0,
              "ticks": ""
             }
            },
            "marker": {
             "colorbar": {
              "outlinewidth": 0,
              "ticks": ""
             }
            },
            "type": "scatter3d"
           }
          ],
          "scattercarpet": [
           {
            "marker": {
             "colorbar": {
              "outlinewidth": 0,
              "ticks": ""
             }
            },
            "type": "scattercarpet"
           }
          ],
          "scattergeo": [
           {
            "marker": {
             "colorbar": {
              "outlinewidth": 0,
              "ticks": ""
             }
            },
            "type": "scattergeo"
           }
          ],
          "scattergl": [
           {
            "marker": {
             "colorbar": {
              "outlinewidth": 0,
              "ticks": ""
             }
            },
            "type": "scattergl"
           }
          ],
          "scattermapbox": [
           {
            "marker": {
             "colorbar": {
              "outlinewidth": 0,
              "ticks": ""
             }
            },
            "type": "scattermapbox"
           }
          ],
          "scatterpolar": [
           {
            "marker": {
             "colorbar": {
              "outlinewidth": 0,
              "ticks": ""
             }
            },
            "type": "scatterpolar"
           }
          ],
          "scatterpolargl": [
           {
            "marker": {
             "colorbar": {
              "outlinewidth": 0,
              "ticks": ""
             }
            },
            "type": "scatterpolargl"
           }
          ],
          "scatterternary": [
           {
            "marker": {
             "colorbar": {
              "outlinewidth": 0,
              "ticks": ""
             }
            },
            "type": "scatterternary"
           }
          ],
          "surface": [
           {
            "colorbar": {
             "outlinewidth": 0,
             "ticks": ""
            },
            "colorscale": [
             [
              0,
              "#0d0887"
             ],
             [
              0.1111111111111111,
              "#46039f"
             ],
             [
              0.2222222222222222,
              "#7201a8"
             ],
             [
              0.3333333333333333,
              "#9c179e"
             ],
             [
              0.4444444444444444,
              "#bd3786"
             ],
             [
              0.5555555555555556,
              "#d8576b"
             ],
             [
              0.6666666666666666,
              "#ed7953"
             ],
             [
              0.7777777777777778,
              "#fb9f3a"
             ],
             [
              0.8888888888888888,
              "#fdca26"
             ],
             [
              1,
              "#f0f921"
             ]
            ],
            "type": "surface"
           }
          ],
          "table": [
           {
            "cells": {
             "fill": {
              "color": "#EBF0F8"
             },
             "line": {
              "color": "white"
             }
            },
            "header": {
             "fill": {
              "color": "#C8D4E3"
             },
             "line": {
              "color": "white"
             }
            },
            "type": "table"
           }
          ]
         },
         "layout": {
          "annotationdefaults": {
           "arrowcolor": "#2a3f5f",
           "arrowhead": 0,
           "arrowwidth": 1
          },
          "autotypenumbers": "strict",
          "coloraxis": {
           "colorbar": {
            "outlinewidth": 0,
            "ticks": ""
           }
          },
          "colorscale": {
           "diverging": [
            [
             0,
             "#8e0152"
            ],
            [
             0.1,
             "#c51b7d"
            ],
            [
             0.2,
             "#de77ae"
            ],
            [
             0.3,
             "#f1b6da"
            ],
            [
             0.4,
             "#fde0ef"
            ],
            [
             0.5,
             "#f7f7f7"
            ],
            [
             0.6,
             "#e6f5d0"
            ],
            [
             0.7,
             "#b8e186"
            ],
            [
             0.8,
             "#7fbc41"
            ],
            [
             0.9,
             "#4d9221"
            ],
            [
             1,
             "#276419"
            ]
           ],
           "sequential": [
            [
             0,
             "#0d0887"
            ],
            [
             0.1111111111111111,
             "#46039f"
            ],
            [
             0.2222222222222222,
             "#7201a8"
            ],
            [
             0.3333333333333333,
             "#9c179e"
            ],
            [
             0.4444444444444444,
             "#bd3786"
            ],
            [
             0.5555555555555556,
             "#d8576b"
            ],
            [
             0.6666666666666666,
             "#ed7953"
            ],
            [
             0.7777777777777778,
             "#fb9f3a"
            ],
            [
             0.8888888888888888,
             "#fdca26"
            ],
            [
             1,
             "#f0f921"
            ]
           ],
           "sequentialminus": [
            [
             0,
             "#0d0887"
            ],
            [
             0.1111111111111111,
             "#46039f"
            ],
            [
             0.2222222222222222,
             "#7201a8"
            ],
            [
             0.3333333333333333,
             "#9c179e"
            ],
            [
             0.4444444444444444,
             "#bd3786"
            ],
            [
             0.5555555555555556,
             "#d8576b"
            ],
            [
             0.6666666666666666,
             "#ed7953"
            ],
            [
             0.7777777777777778,
             "#fb9f3a"
            ],
            [
             0.8888888888888888,
             "#fdca26"
            ],
            [
             1,
             "#f0f921"
            ]
           ]
          },
          "colorway": [
           "#636efa",
           "#EF553B",
           "#00cc96",
           "#ab63fa",
           "#FFA15A",
           "#19d3f3",
           "#FF6692",
           "#B6E880",
           "#FF97FF",
           "#FECB52"
          ],
          "font": {
           "color": "#2a3f5f"
          },
          "geo": {
           "bgcolor": "white",
           "lakecolor": "white",
           "landcolor": "#E5ECF6",
           "showlakes": true,
           "showland": true,
           "subunitcolor": "white"
          },
          "hoverlabel": {
           "align": "left"
          },
          "hovermode": "closest",
          "mapbox": {
           "style": "light"
          },
          "paper_bgcolor": "white",
          "plot_bgcolor": "#E5ECF6",
          "polar": {
           "angularaxis": {
            "gridcolor": "white",
            "linecolor": "white",
            "ticks": ""
           },
           "bgcolor": "#E5ECF6",
           "radialaxis": {
            "gridcolor": "white",
            "linecolor": "white",
            "ticks": ""
           }
          },
          "scene": {
           "xaxis": {
            "backgroundcolor": "#E5ECF6",
            "gridcolor": "white",
            "gridwidth": 2,
            "linecolor": "white",
            "showbackground": true,
            "ticks": "",
            "zerolinecolor": "white"
           },
           "yaxis": {
            "backgroundcolor": "#E5ECF6",
            "gridcolor": "white",
            "gridwidth": 2,
            "linecolor": "white",
            "showbackground": true,
            "ticks": "",
            "zerolinecolor": "white"
           },
           "zaxis": {
            "backgroundcolor": "#E5ECF6",
            "gridcolor": "white",
            "gridwidth": 2,
            "linecolor": "white",
            "showbackground": true,
            "ticks": "",
            "zerolinecolor": "white"
           }
          },
          "shapedefaults": {
           "line": {
            "color": "#2a3f5f"
           }
          },
          "ternary": {
           "aaxis": {
            "gridcolor": "white",
            "linecolor": "white",
            "ticks": ""
           },
           "baxis": {
            "gridcolor": "white",
            "linecolor": "white",
            "ticks": ""
           },
           "bgcolor": "#E5ECF6",
           "caxis": {
            "gridcolor": "white",
            "linecolor": "white",
            "ticks": ""
           }
          },
          "title": {
           "x": 0.05
          },
          "xaxis": {
           "automargin": true,
           "gridcolor": "white",
           "linecolor": "white",
           "ticks": "",
           "title": {
            "standoff": 15
           },
           "zerolinecolor": "white",
           "zerolinewidth": 2
          },
          "yaxis": {
           "automargin": true,
           "gridcolor": "white",
           "linecolor": "white",
           "ticks": "",
           "title": {
            "standoff": 15
           },
           "zerolinecolor": "white",
           "zerolinewidth": 2
          }
         }
        },
        "title": {
         "text": "Periodicity in Increasing [Rev] (Going Down Column)<br>[Fwd] Held Constant, Two Points per Condition Averaged"
        },
        "xaxis": {
         "anchor": "y",
         "domain": [
          0,
          1
         ],
         "title": {
          "text": "R Primer Concentration"
         }
        },
        "yaxis": {
         "anchor": "x",
         "domain": [
          0,
          1
         ],
         "title": {
          "text": "Ct"
         }
        }
       }
      }
     },
     "metadata": {},
     "output_type": "display_data"
    },
    {
     "data": {
      "application/vnd.plotly.v1+json": {
       "config": {
        "plotlyServerURL": "https://plot.ly"
       },
       "data": [
        {
         "line": {
          "color": "rgb(255, 0, 0)",
          "shape": "spline",
          "width": 2
         },
         "mode": "lines+markers",
         "name": "Cq Predicted (R^2 = 0.7857)",
         "type": "scatter",
         "x": [
          50,
          100,
          200,
          400,
          600,
          800
         ],
         "y": [
          34.78894001115503,
          32.84779669947432,
          31.937007896084214,
          31.813304317976087,
          31.81148885090217,
          31.81146220720482
         ]
        },
        {
         "marker": {
          "color": "#636EFA"
         },
         "name": "Cq Actual",
         "text": [
          "34.8",
          "32.8",
          "32.07",
          "31.75",
          "32.66",
          "30.93"
         ],
         "textposition": "inside",
         "type": "bar",
         "x": [
          50,
          100,
          200,
          400,
          600,
          800
         ],
         "y": [
          34.8,
          32.8,
          32.07,
          31.75,
          32.66,
          30.93
         ]
        },
        {
         "marker": {
          "color": "#94B6FA"
         },
         "name": "Cq Predicted @300, 500, 700nM",
         "textposition": "inside",
         "type": "bar",
         "x": [
          300,
          500,
          700
         ],
         "y": [
          31.826671005578305,
          31.811685019692113,
          31.811465086167452
         ]
        }
       ],
       "layout": {
        "template": {
         "data": {
          "bar": [
           {
            "error_x": {
             "color": "#2a3f5f"
            },
            "error_y": {
             "color": "#2a3f5f"
            },
            "marker": {
             "line": {
              "color": "#E5ECF6",
              "width": 0.5
             },
             "pattern": {
              "fillmode": "overlay",
              "size": 10,
              "solidity": 0.2
             }
            },
            "type": "bar"
           }
          ],
          "barpolar": [
           {
            "marker": {
             "line": {
              "color": "#E5ECF6",
              "width": 0.5
             },
             "pattern": {
              "fillmode": "overlay",
              "size": 10,
              "solidity": 0.2
             }
            },
            "type": "barpolar"
           }
          ],
          "carpet": [
           {
            "aaxis": {
             "endlinecolor": "#2a3f5f",
             "gridcolor": "white",
             "linecolor": "white",
             "minorgridcolor": "white",
             "startlinecolor": "#2a3f5f"
            },
            "baxis": {
             "endlinecolor": "#2a3f5f",
             "gridcolor": "white",
             "linecolor": "white",
             "minorgridcolor": "white",
             "startlinecolor": "#2a3f5f"
            },
            "type": "carpet"
           }
          ],
          "choropleth": [
           {
            "colorbar": {
             "outlinewidth": 0,
             "ticks": ""
            },
            "type": "choropleth"
           }
          ],
          "contour": [
           {
            "colorbar": {
             "outlinewidth": 0,
             "ticks": ""
            },
            "colorscale": [
             [
              0,
              "#0d0887"
             ],
             [
              0.1111111111111111,
              "#46039f"
             ],
             [
              0.2222222222222222,
              "#7201a8"
             ],
             [
              0.3333333333333333,
              "#9c179e"
             ],
             [
              0.4444444444444444,
              "#bd3786"
             ],
             [
              0.5555555555555556,
              "#d8576b"
             ],
             [
              0.6666666666666666,
              "#ed7953"
             ],
             [
              0.7777777777777778,
              "#fb9f3a"
             ],
             [
              0.8888888888888888,
              "#fdca26"
             ],
             [
              1,
              "#f0f921"
             ]
            ],
            "type": "contour"
           }
          ],
          "contourcarpet": [
           {
            "colorbar": {
             "outlinewidth": 0,
             "ticks": ""
            },
            "type": "contourcarpet"
           }
          ],
          "heatmap": [
           {
            "colorbar": {
             "outlinewidth": 0,
             "ticks": ""
            },
            "colorscale": [
             [
              0,
              "#0d0887"
             ],
             [
              0.1111111111111111,
              "#46039f"
             ],
             [
              0.2222222222222222,
              "#7201a8"
             ],
             [
              0.3333333333333333,
              "#9c179e"
             ],
             [
              0.4444444444444444,
              "#bd3786"
             ],
             [
              0.5555555555555556,
              "#d8576b"
             ],
             [
              0.6666666666666666,
              "#ed7953"
             ],
             [
              0.7777777777777778,
              "#fb9f3a"
             ],
             [
              0.8888888888888888,
              "#fdca26"
             ],
             [
              1,
              "#f0f921"
             ]
            ],
            "type": "heatmap"
           }
          ],
          "heatmapgl": [
           {
            "colorbar": {
             "outlinewidth": 0,
             "ticks": ""
            },
            "colorscale": [
             [
              0,
              "#0d0887"
             ],
             [
              0.1111111111111111,
              "#46039f"
             ],
             [
              0.2222222222222222,
              "#7201a8"
             ],
             [
              0.3333333333333333,
              "#9c179e"
             ],
             [
              0.4444444444444444,
              "#bd3786"
             ],
             [
              0.5555555555555556,
              "#d8576b"
             ],
             [
              0.6666666666666666,
              "#ed7953"
             ],
             [
              0.7777777777777778,
              "#fb9f3a"
             ],
             [
              0.8888888888888888,
              "#fdca26"
             ],
             [
              1,
              "#f0f921"
             ]
            ],
            "type": "heatmapgl"
           }
          ],
          "histogram": [
           {
            "marker": {
             "pattern": {
              "fillmode": "overlay",
              "size": 10,
              "solidity": 0.2
             }
            },
            "type": "histogram"
           }
          ],
          "histogram2d": [
           {
            "colorbar": {
             "outlinewidth": 0,
             "ticks": ""
            },
            "colorscale": [
             [
              0,
              "#0d0887"
             ],
             [
              0.1111111111111111,
              "#46039f"
             ],
             [
              0.2222222222222222,
              "#7201a8"
             ],
             [
              0.3333333333333333,
              "#9c179e"
             ],
             [
              0.4444444444444444,
              "#bd3786"
             ],
             [
              0.5555555555555556,
              "#d8576b"
             ],
             [
              0.6666666666666666,
              "#ed7953"
             ],
             [
              0.7777777777777778,
              "#fb9f3a"
             ],
             [
              0.8888888888888888,
              "#fdca26"
             ],
             [
              1,
              "#f0f921"
             ]
            ],
            "type": "histogram2d"
           }
          ],
          "histogram2dcontour": [
           {
            "colorbar": {
             "outlinewidth": 0,
             "ticks": ""
            },
            "colorscale": [
             [
              0,
              "#0d0887"
             ],
             [
              0.1111111111111111,
              "#46039f"
             ],
             [
              0.2222222222222222,
              "#7201a8"
             ],
             [
              0.3333333333333333,
              "#9c179e"
             ],
             [
              0.4444444444444444,
              "#bd3786"
             ],
             [
              0.5555555555555556,
              "#d8576b"
             ],
             [
              0.6666666666666666,
              "#ed7953"
             ],
             [
              0.7777777777777778,
              "#fb9f3a"
             ],
             [
              0.8888888888888888,
              "#fdca26"
             ],
             [
              1,
              "#f0f921"
             ]
            ],
            "type": "histogram2dcontour"
           }
          ],
          "mesh3d": [
           {
            "colorbar": {
             "outlinewidth": 0,
             "ticks": ""
            },
            "type": "mesh3d"
           }
          ],
          "parcoords": [
           {
            "line": {
             "colorbar": {
              "outlinewidth": 0,
              "ticks": ""
             }
            },
            "type": "parcoords"
           }
          ],
          "pie": [
           {
            "automargin": true,
            "type": "pie"
           }
          ],
          "scatter": [
           {
            "fillpattern": {
             "fillmode": "overlay",
             "size": 10,
             "solidity": 0.2
            },
            "type": "scatter"
           }
          ],
          "scatter3d": [
           {
            "line": {
             "colorbar": {
              "outlinewidth": 0,
              "ticks": ""
             }
            },
            "marker": {
             "colorbar": {
              "outlinewidth": 0,
              "ticks": ""
             }
            },
            "type": "scatter3d"
           }
          ],
          "scattercarpet": [
           {
            "marker": {
             "colorbar": {
              "outlinewidth": 0,
              "ticks": ""
             }
            },
            "type": "scattercarpet"
           }
          ],
          "scattergeo": [
           {
            "marker": {
             "colorbar": {
              "outlinewidth": 0,
              "ticks": ""
             }
            },
            "type": "scattergeo"
           }
          ],
          "scattergl": [
           {
            "marker": {
             "colorbar": {
              "outlinewidth": 0,
              "ticks": ""
             }
            },
            "type": "scattergl"
           }
          ],
          "scattermapbox": [
           {
            "marker": {
             "colorbar": {
              "outlinewidth": 0,
              "ticks": ""
             }
            },
            "type": "scattermapbox"
           }
          ],
          "scatterpolar": [
           {
            "marker": {
             "colorbar": {
              "outlinewidth": 0,
              "ticks": ""
             }
            },
            "type": "scatterpolar"
           }
          ],
          "scatterpolargl": [
           {
            "marker": {
             "colorbar": {
              "outlinewidth": 0,
              "ticks": ""
             }
            },
            "type": "scatterpolargl"
           }
          ],
          "scatterternary": [
           {
            "marker": {
             "colorbar": {
              "outlinewidth": 0,
              "ticks": ""
             }
            },
            "type": "scatterternary"
           }
          ],
          "surface": [
           {
            "colorbar": {
             "outlinewidth": 0,
             "ticks": ""
            },
            "colorscale": [
             [
              0,
              "#0d0887"
             ],
             [
              0.1111111111111111,
              "#46039f"
             ],
             [
              0.2222222222222222,
              "#7201a8"
             ],
             [
              0.3333333333333333,
              "#9c179e"
             ],
             [
              0.4444444444444444,
              "#bd3786"
             ],
             [
              0.5555555555555556,
              "#d8576b"
             ],
             [
              0.6666666666666666,
              "#ed7953"
             ],
             [
              0.7777777777777778,
              "#fb9f3a"
             ],
             [
              0.8888888888888888,
              "#fdca26"
             ],
             [
              1,
              "#f0f921"
             ]
            ],
            "type": "surface"
           }
          ],
          "table": [
           {
            "cells": {
             "fill": {
              "color": "#EBF0F8"
             },
             "line": {
              "color": "white"
             }
            },
            "header": {
             "fill": {
              "color": "#C8D4E3"
             },
             "line": {
              "color": "white"
             }
            },
            "type": "table"
           }
          ]
         },
         "layout": {
          "annotationdefaults": {
           "arrowcolor": "#2a3f5f",
           "arrowhead": 0,
           "arrowwidth": 1
          },
          "autotypenumbers": "strict",
          "coloraxis": {
           "colorbar": {
            "outlinewidth": 0,
            "ticks": ""
           }
          },
          "colorscale": {
           "diverging": [
            [
             0,
             "#8e0152"
            ],
            [
             0.1,
             "#c51b7d"
            ],
            [
             0.2,
             "#de77ae"
            ],
            [
             0.3,
             "#f1b6da"
            ],
            [
             0.4,
             "#fde0ef"
            ],
            [
             0.5,
             "#f7f7f7"
            ],
            [
             0.6,
             "#e6f5d0"
            ],
            [
             0.7,
             "#b8e186"
            ],
            [
             0.8,
             "#7fbc41"
            ],
            [
             0.9,
             "#4d9221"
            ],
            [
             1,
             "#276419"
            ]
           ],
           "sequential": [
            [
             0,
             "#0d0887"
            ],
            [
             0.1111111111111111,
             "#46039f"
            ],
            [
             0.2222222222222222,
             "#7201a8"
            ],
            [
             0.3333333333333333,
             "#9c179e"
            ],
            [
             0.4444444444444444,
             "#bd3786"
            ],
            [
             0.5555555555555556,
             "#d8576b"
            ],
            [
             0.6666666666666666,
             "#ed7953"
            ],
            [
             0.7777777777777778,
             "#fb9f3a"
            ],
            [
             0.8888888888888888,
             "#fdca26"
            ],
            [
             1,
             "#f0f921"
            ]
           ],
           "sequentialminus": [
            [
             0,
             "#0d0887"
            ],
            [
             0.1111111111111111,
             "#46039f"
            ],
            [
             0.2222222222222222,
             "#7201a8"
            ],
            [
             0.3333333333333333,
             "#9c179e"
            ],
            [
             0.4444444444444444,
             "#bd3786"
            ],
            [
             0.5555555555555556,
             "#d8576b"
            ],
            [
             0.6666666666666666,
             "#ed7953"
            ],
            [
             0.7777777777777778,
             "#fb9f3a"
            ],
            [
             0.8888888888888888,
             "#fdca26"
            ],
            [
             1,
             "#f0f921"
            ]
           ]
          },
          "colorway": [
           "#636efa",
           "#EF553B",
           "#00cc96",
           "#ab63fa",
           "#FFA15A",
           "#19d3f3",
           "#FF6692",
           "#B6E880",
           "#FF97FF",
           "#FECB52"
          ],
          "font": {
           "color": "#2a3f5f"
          },
          "geo": {
           "bgcolor": "white",
           "lakecolor": "white",
           "landcolor": "#E5ECF6",
           "showlakes": true,
           "showland": true,
           "subunitcolor": "white"
          },
          "hoverlabel": {
           "align": "left"
          },
          "hovermode": "closest",
          "mapbox": {
           "style": "light"
          },
          "paper_bgcolor": "white",
          "plot_bgcolor": "#E5ECF6",
          "polar": {
           "angularaxis": {
            "gridcolor": "white",
            "linecolor": "white",
            "ticks": ""
           },
           "bgcolor": "#E5ECF6",
           "radialaxis": {
            "gridcolor": "white",
            "linecolor": "white",
            "ticks": ""
           }
          },
          "scene": {
           "xaxis": {
            "backgroundcolor": "#E5ECF6",
            "gridcolor": "white",
            "gridwidth": 2,
            "linecolor": "white",
            "showbackground": true,
            "ticks": "",
            "zerolinecolor": "white"
           },
           "yaxis": {
            "backgroundcolor": "#E5ECF6",
            "gridcolor": "white",
            "gridwidth": 2,
            "linecolor": "white",
            "showbackground": true,
            "ticks": "",
            "zerolinecolor": "white"
           },
           "zaxis": {
            "backgroundcolor": "#E5ECF6",
            "gridcolor": "white",
            "gridwidth": 2,
            "linecolor": "white",
            "showbackground": true,
            "ticks": "",
            "zerolinecolor": "white"
           }
          },
          "shapedefaults": {
           "line": {
            "color": "#2a3f5f"
           }
          },
          "ternary": {
           "aaxis": {
            "gridcolor": "white",
            "linecolor": "white",
            "ticks": ""
           },
           "baxis": {
            "gridcolor": "white",
            "linecolor": "white",
            "ticks": ""
           },
           "bgcolor": "#E5ECF6",
           "caxis": {
            "gridcolor": "white",
            "linecolor": "white",
            "ticks": ""
           }
          },
          "title": {
           "x": 0.05
          },
          "xaxis": {
           "automargin": true,
           "gridcolor": "white",
           "linecolor": "white",
           "ticks": "",
           "title": {
            "standoff": 15
           },
           "zerolinecolor": "white",
           "zerolinewidth": 2
          },
          "yaxis": {
           "automargin": true,
           "gridcolor": "white",
           "linecolor": "white",
           "ticks": "",
           "title": {
            "standoff": 15
           },
           "zerolinecolor": "white",
           "zerolinewidth": 2
          }
         }
        },
        "title": {
         "text": "<b>Cq when [Fwd] = [Rev]</b><br>Actual vs Predicted (One Phase Decay)<br>Two Points per Condition Averaged"
        },
        "xaxis": {
         "title": {
          "text": "[F=R] Primer Concentration"
         }
        },
        "yaxis": {
         "title": {
          "text": "Cq"
         }
        }
       }
      }
     },
     "metadata": {},
     "output_type": "display_data"
    },
    {
     "data": {
      "application/vnd.plotly.v1+json": {
       "config": {
        "plotlyServerURL": "https://plot.ly"
       },
       "data": [
        {
         "alignmentgroup": "True",
         "hovertemplate": "StandardNumber=%{x}<br>Ct=%{y}<extra></extra>",
         "legendgroup": "",
         "marker": {
          "color": "#636efa",
          "pattern": {
           "shape": ""
          }
         },
         "name": "",
         "offsetgroup": "",
         "orientation": "v",
         "showlegend": false,
         "textposition": "auto",
         "texttemplate": "%{y}",
         "type": "bar",
         "x": [
          "Std_1",
          "Std_2",
          "Std_3",
          "Std_4",
          "Std_5",
          "Std_6",
          "Std_7"
         ],
         "xaxis": "x",
         "y": [
          32.32666666666666,
          33.413333333333334,
          33.98666666666667,
          29.276666666666667,
          33.50666666666667,
          30.08333333333333,
          31.695
         ],
         "yaxis": "y"
        }
       ],
       "layout": {
        "barmode": "group",
        "legend": {
         "tracegroupgap": 0
        },
        "template": {
         "data": {
          "bar": [
           {
            "error_x": {
             "color": "#2a3f5f"
            },
            "error_y": {
             "color": "#2a3f5f"
            },
            "marker": {
             "line": {
              "color": "#E5ECF6",
              "width": 0.5
             },
             "pattern": {
              "fillmode": "overlay",
              "size": 10,
              "solidity": 0.2
             }
            },
            "type": "bar"
           }
          ],
          "barpolar": [
           {
            "marker": {
             "line": {
              "color": "#E5ECF6",
              "width": 0.5
             },
             "pattern": {
              "fillmode": "overlay",
              "size": 10,
              "solidity": 0.2
             }
            },
            "type": "barpolar"
           }
          ],
          "carpet": [
           {
            "aaxis": {
             "endlinecolor": "#2a3f5f",
             "gridcolor": "white",
             "linecolor": "white",
             "minorgridcolor": "white",
             "startlinecolor": "#2a3f5f"
            },
            "baxis": {
             "endlinecolor": "#2a3f5f",
             "gridcolor": "white",
             "linecolor": "white",
             "minorgridcolor": "white",
             "startlinecolor": "#2a3f5f"
            },
            "type": "carpet"
           }
          ],
          "choropleth": [
           {
            "colorbar": {
             "outlinewidth": 0,
             "ticks": ""
            },
            "type": "choropleth"
           }
          ],
          "contour": [
           {
            "colorbar": {
             "outlinewidth": 0,
             "ticks": ""
            },
            "colorscale": [
             [
              0,
              "#0d0887"
             ],
             [
              0.1111111111111111,
              "#46039f"
             ],
             [
              0.2222222222222222,
              "#7201a8"
             ],
             [
              0.3333333333333333,
              "#9c179e"
             ],
             [
              0.4444444444444444,
              "#bd3786"
             ],
             [
              0.5555555555555556,
              "#d8576b"
             ],
             [
              0.6666666666666666,
              "#ed7953"
             ],
             [
              0.7777777777777778,
              "#fb9f3a"
             ],
             [
              0.8888888888888888,
              "#fdca26"
             ],
             [
              1,
              "#f0f921"
             ]
            ],
            "type": "contour"
           }
          ],
          "contourcarpet": [
           {
            "colorbar": {
             "outlinewidth": 0,
             "ticks": ""
            },
            "type": "contourcarpet"
           }
          ],
          "heatmap": [
           {
            "colorbar": {
             "outlinewidth": 0,
             "ticks": ""
            },
            "colorscale": [
             [
              0,
              "#0d0887"
             ],
             [
              0.1111111111111111,
              "#46039f"
             ],
             [
              0.2222222222222222,
              "#7201a8"
             ],
             [
              0.3333333333333333,
              "#9c179e"
             ],
             [
              0.4444444444444444,
              "#bd3786"
             ],
             [
              0.5555555555555556,
              "#d8576b"
             ],
             [
              0.6666666666666666,
              "#ed7953"
             ],
             [
              0.7777777777777778,
              "#fb9f3a"
             ],
             [
              0.8888888888888888,
              "#fdca26"
             ],
             [
              1,
              "#f0f921"
             ]
            ],
            "type": "heatmap"
           }
          ],
          "heatmapgl": [
           {
            "colorbar": {
             "outlinewidth": 0,
             "ticks": ""
            },
            "colorscale": [
             [
              0,
              "#0d0887"
             ],
             [
              0.1111111111111111,
              "#46039f"
             ],
             [
              0.2222222222222222,
              "#7201a8"
             ],
             [
              0.3333333333333333,
              "#9c179e"
             ],
             [
              0.4444444444444444,
              "#bd3786"
             ],
             [
              0.5555555555555556,
              "#d8576b"
             ],
             [
              0.6666666666666666,
              "#ed7953"
             ],
             [
              0.7777777777777778,
              "#fb9f3a"
             ],
             [
              0.8888888888888888,
              "#fdca26"
             ],
             [
              1,
              "#f0f921"
             ]
            ],
            "type": "heatmapgl"
           }
          ],
          "histogram": [
           {
            "marker": {
             "pattern": {
              "fillmode": "overlay",
              "size": 10,
              "solidity": 0.2
             }
            },
            "type": "histogram"
           }
          ],
          "histogram2d": [
           {
            "colorbar": {
             "outlinewidth": 0,
             "ticks": ""
            },
            "colorscale": [
             [
              0,
              "#0d0887"
             ],
             [
              0.1111111111111111,
              "#46039f"
             ],
             [
              0.2222222222222222,
              "#7201a8"
             ],
             [
              0.3333333333333333,
              "#9c179e"
             ],
             [
              0.4444444444444444,
              "#bd3786"
             ],
             [
              0.5555555555555556,
              "#d8576b"
             ],
             [
              0.6666666666666666,
              "#ed7953"
             ],
             [
              0.7777777777777778,
              "#fb9f3a"
             ],
             [
              0.8888888888888888,
              "#fdca26"
             ],
             [
              1,
              "#f0f921"
             ]
            ],
            "type": "histogram2d"
           }
          ],
          "histogram2dcontour": [
           {
            "colorbar": {
             "outlinewidth": 0,
             "ticks": ""
            },
            "colorscale": [
             [
              0,
              "#0d0887"
             ],
             [
              0.1111111111111111,
              "#46039f"
             ],
             [
              0.2222222222222222,
              "#7201a8"
             ],
             [
              0.3333333333333333,
              "#9c179e"
             ],
             [
              0.4444444444444444,
              "#bd3786"
             ],
             [
              0.5555555555555556,
              "#d8576b"
             ],
             [
              0.6666666666666666,
              "#ed7953"
             ],
             [
              0.7777777777777778,
              "#fb9f3a"
             ],
             [
              0.8888888888888888,
              "#fdca26"
             ],
             [
              1,
              "#f0f921"
             ]
            ],
            "type": "histogram2dcontour"
           }
          ],
          "mesh3d": [
           {
            "colorbar": {
             "outlinewidth": 0,
             "ticks": ""
            },
            "type": "mesh3d"
           }
          ],
          "parcoords": [
           {
            "line": {
             "colorbar": {
              "outlinewidth": 0,
              "ticks": ""
             }
            },
            "type": "parcoords"
           }
          ],
          "pie": [
           {
            "automargin": true,
            "type": "pie"
           }
          ],
          "scatter": [
           {
            "fillpattern": {
             "fillmode": "overlay",
             "size": 10,
             "solidity": 0.2
            },
            "type": "scatter"
           }
          ],
          "scatter3d": [
           {
            "line": {
             "colorbar": {
              "outlinewidth": 0,
              "ticks": ""
             }
            },
            "marker": {
             "colorbar": {
              "outlinewidth": 0,
              "ticks": ""
             }
            },
            "type": "scatter3d"
           }
          ],
          "scattercarpet": [
           {
            "marker": {
             "colorbar": {
              "outlinewidth": 0,
              "ticks": ""
             }
            },
            "type": "scattercarpet"
           }
          ],
          "scattergeo": [
           {
            "marker": {
             "colorbar": {
              "outlinewidth": 0,
              "ticks": ""
             }
            },
            "type": "scattergeo"
           }
          ],
          "scattergl": [
           {
            "marker": {
             "colorbar": {
              "outlinewidth": 0,
              "ticks": ""
             }
            },
            "type": "scattergl"
           }
          ],
          "scattermapbox": [
           {
            "marker": {
             "colorbar": {
              "outlinewidth": 0,
              "ticks": ""
             }
            },
            "type": "scattermapbox"
           }
          ],
          "scatterpolar": [
           {
            "marker": {
             "colorbar": {
              "outlinewidth": 0,
              "ticks": ""
             }
            },
            "type": "scatterpolar"
           }
          ],
          "scatterpolargl": [
           {
            "marker": {
             "colorbar": {
              "outlinewidth": 0,
              "ticks": ""
             }
            },
            "type": "scatterpolargl"
           }
          ],
          "scatterternary": [
           {
            "marker": {
             "colorbar": {
              "outlinewidth": 0,
              "ticks": ""
             }
            },
            "type": "scatterternary"
           }
          ],
          "surface": [
           {
            "colorbar": {
             "outlinewidth": 0,
             "ticks": ""
            },
            "colorscale": [
             [
              0,
              "#0d0887"
             ],
             [
              0.1111111111111111,
              "#46039f"
             ],
             [
              0.2222222222222222,
              "#7201a8"
             ],
             [
              0.3333333333333333,
              "#9c179e"
             ],
             [
              0.4444444444444444,
              "#bd3786"
             ],
             [
              0.5555555555555556,
              "#d8576b"
             ],
             [
              0.6666666666666666,
              "#ed7953"
             ],
             [
              0.7777777777777778,
              "#fb9f3a"
             ],
             [
              0.8888888888888888,
              "#fdca26"
             ],
             [
              1,
              "#f0f921"
             ]
            ],
            "type": "surface"
           }
          ],
          "table": [
           {
            "cells": {
             "fill": {
              "color": "#EBF0F8"
             },
             "line": {
              "color": "white"
             }
            },
            "header": {
             "fill": {
              "color": "#C8D4E3"
             },
             "line": {
              "color": "white"
             }
            },
            "type": "table"
           }
          ]
         },
         "layout": {
          "annotationdefaults": {
           "arrowcolor": "#2a3f5f",
           "arrowhead": 0,
           "arrowwidth": 1
          },
          "autotypenumbers": "strict",
          "coloraxis": {
           "colorbar": {
            "outlinewidth": 0,
            "ticks": ""
           }
          },
          "colorscale": {
           "diverging": [
            [
             0,
             "#8e0152"
            ],
            [
             0.1,
             "#c51b7d"
            ],
            [
             0.2,
             "#de77ae"
            ],
            [
             0.3,
             "#f1b6da"
            ],
            [
             0.4,
             "#fde0ef"
            ],
            [
             0.5,
             "#f7f7f7"
            ],
            [
             0.6,
             "#e6f5d0"
            ],
            [
             0.7,
             "#b8e186"
            ],
            [
             0.8,
             "#7fbc41"
            ],
            [
             0.9,
             "#4d9221"
            ],
            [
             1,
             "#276419"
            ]
           ],
           "sequential": [
            [
             0,
             "#0d0887"
            ],
            [
             0.1111111111111111,
             "#46039f"
            ],
            [
             0.2222222222222222,
             "#7201a8"
            ],
            [
             0.3333333333333333,
             "#9c179e"
            ],
            [
             0.4444444444444444,
             "#bd3786"
            ],
            [
             0.5555555555555556,
             "#d8576b"
            ],
            [
             0.6666666666666666,
             "#ed7953"
            ],
            [
             0.7777777777777778,
             "#fb9f3a"
            ],
            [
             0.8888888888888888,
             "#fdca26"
            ],
            [
             1,
             "#f0f921"
            ]
           ],
           "sequentialminus": [
            [
             0,
             "#0d0887"
            ],
            [
             0.1111111111111111,
             "#46039f"
            ],
            [
             0.2222222222222222,
             "#7201a8"
            ],
            [
             0.3333333333333333,
             "#9c179e"
            ],
            [
             0.4444444444444444,
             "#bd3786"
            ],
            [
             0.5555555555555556,
             "#d8576b"
            ],
            [
             0.6666666666666666,
             "#ed7953"
            ],
            [
             0.7777777777777778,
             "#fb9f3a"
            ],
            [
             0.8888888888888888,
             "#fdca26"
            ],
            [
             1,
             "#f0f921"
            ]
           ]
          },
          "colorway": [
           "#636efa",
           "#EF553B",
           "#00cc96",
           "#ab63fa",
           "#FFA15A",
           "#19d3f3",
           "#FF6692",
           "#B6E880",
           "#FF97FF",
           "#FECB52"
          ],
          "font": {
           "color": "#2a3f5f"
          },
          "geo": {
           "bgcolor": "white",
           "lakecolor": "white",
           "landcolor": "#E5ECF6",
           "showlakes": true,
           "showland": true,
           "subunitcolor": "white"
          },
          "hoverlabel": {
           "align": "left"
          },
          "hovermode": "closest",
          "mapbox": {
           "style": "light"
          },
          "paper_bgcolor": "white",
          "plot_bgcolor": "#E5ECF6",
          "polar": {
           "angularaxis": {
            "gridcolor": "white",
            "linecolor": "white",
            "ticks": ""
           },
           "bgcolor": "#E5ECF6",
           "radialaxis": {
            "gridcolor": "white",
            "linecolor": "white",
            "ticks": ""
           }
          },
          "scene": {
           "xaxis": {
            "backgroundcolor": "#E5ECF6",
            "gridcolor": "white",
            "gridwidth": 2,
            "linecolor": "white",
            "showbackground": true,
            "ticks": "",
            "zerolinecolor": "white"
           },
           "yaxis": {
            "backgroundcolor": "#E5ECF6",
            "gridcolor": "white",
            "gridwidth": 2,
            "linecolor": "white",
            "showbackground": true,
            "ticks": "",
            "zerolinecolor": "white"
           },
           "zaxis": {
            "backgroundcolor": "#E5ECF6",
            "gridcolor": "white",
            "gridwidth": 2,
            "linecolor": "white",
            "showbackground": true,
            "ticks": "",
            "zerolinecolor": "white"
           }
          },
          "shapedefaults": {
           "line": {
            "color": "#2a3f5f"
           }
          },
          "ternary": {
           "aaxis": {
            "gridcolor": "white",
            "linecolor": "white",
            "ticks": ""
           },
           "baxis": {
            "gridcolor": "white",
            "linecolor": "white",
            "ticks": ""
           },
           "bgcolor": "#E5ECF6",
           "caxis": {
            "gridcolor": "white",
            "linecolor": "white",
            "ticks": ""
           }
          },
          "title": {
           "x": 0.05
          },
          "xaxis": {
           "automargin": true,
           "gridcolor": "white",
           "linecolor": "white",
           "ticks": "",
           "title": {
            "standoff": 15
           },
           "zerolinecolor": "white",
           "zerolinewidth": 2
          },
          "yaxis": {
           "automargin": true,
           "gridcolor": "white",
           "linecolor": "white",
           "ticks": "",
           "title": {
            "standoff": 15
           },
           "zerolinecolor": "white",
           "zerolinewidth": 2
          }
         }
        },
        "title": {
         "text": "Standard Number vs Cq"
        },
        "xaxis": {
         "anchor": "y",
         "domain": [
          0,
          1
         ],
         "title": {
          "text": "StandardNumber"
         }
        },
        "yaxis": {
         "anchor": "x",
         "domain": [
          0,
          1
         ],
         "title": {
          "text": "Ct"
         }
        }
       }
      }
     },
     "metadata": {},
     "output_type": "display_data"
    }
   ],
   "source": [
    "primerMatrix = PrimerMatrixVis('Quan. Result')\n",
    "# df = PrimerMatrixVis.dfCreate(primerMatrix)\n",
    "# df = PrimerMatrixVis.addPrimerConcToDf(primerMatrix)\n",
    "PrimerMatrixVis.RowAndColMeans(primerMatrix)\n",
    "PrimerMatrixVis.Periodicity(primerMatrix)\n",
    "PrimerMatrixVis.FwdAndRevEquivalence(primerMatrix)\n",
    "PrimerMatrixVis.plotStandards(primerMatrix)"
   ]
  }
 ],
 "metadata": {
  "kernelspec": {
   "display_name": "Python 3.8.5 ('base')",
   "language": "python",
   "name": "python3"
  },
  "language_info": {
   "codemirror_mode": {
    "name": "ipython",
    "version": 3
   },
   "file_extension": ".py",
   "mimetype": "text/x-python",
   "name": "python",
   "nbconvert_exporter": "python",
   "pygments_lexer": "ipython3",
   "version": "3.8.5"
  },
  "orig_nbformat": 2,
  "vscode": {
   "interpreter": {
    "hash": "1351e4052cb5e5ef8cb5e82d8be59617e857487b9d1507b0e4ba5c641efe6219"
   }
  }
 },
 "nbformat": 4,
 "nbformat_minor": 2
}
