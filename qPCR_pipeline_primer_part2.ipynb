{
 "cells": [
  {
   "cell_type": "code",
   "execution_count": 22,
   "metadata": {},
   "outputs": [],
   "source": [
    "import numpy as np\n",
    "import pandas as pd\n",
    "pd.options.plotting.backend = \"plotly\"\n",
    "import plotly.graph_objects as go\n",
    "from plotly.subplots import make_subplots\n",
    "import plotly.express as px\n",
    "from scipy.optimize import curve_fit\n",
    "from sklearn.metrics import r2_score\n",
    "# print(pd.__version__)"
   ]
  },
  {
   "cell_type": "code",
   "execution_count": 23,
   "metadata": {},
   "outputs": [],
   "source": [
    "# import Excel file from Windows\n",
    "# fileDir = r'C:\\Users\\HarleyKing\\OneDrive - LuminUltra Technologies Ltd\\Documents\\Python Scripts\\canonical_pcr_data'\n",
    "# fileDir = r\"C:\\Users\\HarleyKing\\LuminUltra Technologies Ltd\\LTI Research & Development - Documents\\Automation and Assay Dev\\Exp800.24_vibrio_cholerae\\Exp800.24.03_primer_matrix\"\n",
    "# fileDir = r\"C:\\Users\\HarleyKing\\OneDrive - LuminUltra Technologies Ltd\\Documents - LTI Research & Development\\Automation and Assay Dev\\Exp800.28_Nitrifiers_for_Lab_Services\\Exp800.28.02_arch_amoA\"\n",
    "fileDir = r\"C:\\Users\\HarleyKing\\OneDrive - LuminUltra Technologies Ltd\\Documents - LTI Research & Development\\Automation and Assay Dev\\Exp800.28_Nitrifiers_for_Lab_Services\\Exp800.28.05 repeat primer matrix with LyoReady\"\n",
    "# fileDir = r'qPCR_data'\n",
    "# fileName = r'20220708_122234_SRB_dsr_test_2.xls' #cy5 data\n",
    "# fileName = r'Exp800.05.create.primer.matrix.micH.xlsx' #fam data\n",
    "# fileName = r'AF Fuel Primer Matrix Run 2 01Jun21 GH.xls' #fam data\n",
    "# fileName = r'three_fluor_assay.xls' #fam data\n",
    "# fileName = r'primer.matrix.xls' #fam data\n",
    "# fileName = r'\\20220829_155250_Exp800.24_Vch_primermatrix.xls' #fam data\n",
    "# fileName = r'20230124_145330_Exp800.28_a_amoA_primer_opt.xls' #fam data\n",
    "# fileName = r\"20230223_112423_AoB_prim_matrix_LyoReady.xls\" #fam data\n",
    "fileName = r\"20230224_002749_AoA_primer_matrix_LyoReady.xls\" #fam data\n",
    "\n",
    "# create dataframe\n",
    "dfExcel = pd.read_excel(fileDir+'\\\\'+fileName, sheet_name=None, header=None) #get all sheets"
   ]
  },
  {
   "cell_type": "code",
   "execution_count": 24,
   "metadata": {},
   "outputs": [],
   "source": [
    "class FluorVis:\n",
    "    probe: str\n",
    "    def __init__(self, probe):\n",
    "        self.probe = probe\n",
    "        # self.maxRow = self.getMaxRow()\n",
    "    def dfCreate(self): # make a df from the excel data\n",
    "        # find probe in sheet names\n",
    "        probe_sheet = [sheet for sheet in sheetNames if self.probe in sheet]\n",
    "        # create dataframe from sheet name\n",
    "        df = dfExcel[probe_sheet[0]]\n",
    "        # assign first row to be column header\n",
    "        df.columns = df.iloc[0]\n",
    "        # drop the first row (duplicate of header)\n",
    "        df = df.drop(df.index[0])\n",
    "        # convert all columns to numberic\n",
    "        df = df.apply(pd.to_numeric, errors='coerce')\n",
    "        # make index the first column\n",
    "        df.set_index('Cycle', inplace=True)\n",
    "        # fluor values less than 1 get 0\n",
    "        df = df.where(df>=1, 0)\n",
    "        return df\n",
    "    def getMaxRow(self):\n",
    "        df = self.dfCreate()\n",
    "        # get max value for each row and convert to list\n",
    "        maxRow = df.loc[df.index == 40].values.flatten().tolist()\n",
    "        # round every element in list to one decimal place, convert to str\n",
    "        maxRowRound = [str(round(x,1)) for x in maxRow]\n",
    "        return maxRowRound\n",
    "    def plotAllWells(self):\n",
    "        df = self.dfCreate()\n",
    "        # make plot of wells\n",
    "        fig = px.line(\n",
    "            df,\n",
    "            x=df.index,\n",
    "            y=list(df.columns),\n",
    "            color_discrete_sequence=px.colors.qualitative.Set3)\n",
    "        fig.update_layout(\n",
    "            height=500,\n",
    "            width=1000,\n",
    "            xaxis_title='Cycle',\n",
    "            yaxis_title='RFU ({})'.format(self.probe),\n",
    "            title_text='Cycle vs Fluorescence ({})'.format(self.probe),\n",
    "            legend_title='Well')\n",
    "        return fig.show()\n",
    "    def plotIndWells(self):\n",
    "        df = self.dfCreate() \n",
    "        maxRow = self.getMaxRow()\n",
    "        # make subplots of individual wells\n",
    "        colorsList = px.colors.qualitative.Set3\n",
    "        figSub = make_subplots(\n",
    "            rows=8, cols=12,\n",
    "            shared_xaxes=True,\n",
    "            shared_yaxes='all',\n",
    "            start_cell='top-left',\n",
    "            subplot_titles=list(df.columns)) #, subplot_titles=sub_titles, print_grid=False)\n",
    "        for r in range (0,8): #loop through rows\n",
    "            for c in range(0,12):\n",
    "                figSub.add_trace(go.Scatter(\n",
    "                    x=df.index,\n",
    "                    y=df.iloc[:,r+(r*11)+c], # this pattern translates r=8, c=12 to 0..95 columns in df (0 indexed)\n",
    "                    name=df.columns[r+(r*11)+c], # gets column name eg 'A01'\n",
    "                    mode=\"lines+text\", # allows for text to be inserted onto ind plot\n",
    "                    line_color=colorsList[c], # assign color to each well consistent with all-well plot\n",
    "                    text= ['']*32 + [maxRow[r+(r*11)+c]]+['']*7, # inserts max value onto plot at 33rd point; looks nice here\n",
    "                    textposition='top left',\n",
    "                    textfont=dict(\n",
    "                        family=\"sans serif\",\n",
    "                        size=8,\n",
    "                        color=\"black\")), # want to stand out\n",
    "                    row=r+1,\n",
    "                    col=c+1)\n",
    "        figSub.update_layout(\n",
    "            height=800,\n",
    "            width=1000,\n",
    "            showlegend=False,\n",
    "            title_text='Cycle vs Fluorescence ({})'.format(self.probe))\n",
    "        return figSub.show()\n",
    "    \n",
    "                \n"
   ]
  },
  {
   "cell_type": "code",
   "execution_count": 25,
   "metadata": {},
   "outputs": [],
   "source": [
    "class PrimerMatrixVis:\n",
    "    sheet: str\n",
    "    def __init__(self, sheet):\n",
    "        self.sheet = sheet\n",
    "    def dfCreate(self): # make a df from the excel data\n",
    "        # make df from passed sheet name\n",
    "        df = dfExcel[self.sheet]\n",
    "        # assign first row to be column header\n",
    "        df.columns = df.iloc[0]\n",
    "        # drop the first row (duplicate of header)\n",
    "        df = df.drop(df.index[0])\n",
    "        # convert all columns to numberic\n",
    "        # df = df.apply(pd.to_numeric, errors='coerce')\n",
    "        # make index the first column\n",
    "        # df.set_index('Cycle', inplace=True)\n",
    "        # fluor values less than 1 get 0\n",
    "        # df = df.where(df>=1, 0)\n",
    "        return df\n",
    "    def addPrimerConcToDf(self):\n",
    "        df = self.dfCreate()\n",
    "        primerConcs = [50, 100, 200, 400, 600, 800] # Fwd and rev primer concentrations\n",
    "        # add fwd primerConc values to two rows all the way to 72\n",
    "        df['F_primer'] =np.nan\n",
    "        for i in range(6): # loop through rows except last two rows containing standard curve\n",
    "            for j in range(6): # loop through primer concentration list\n",
    "                for k in range(2): # every concentration twice\n",
    "                    pos = (12*i)+(2*j)+(k+1) # translate row and column to position in df 1..96\n",
    "                    df.loc[pos, 'F_primer'] = primerConcs[j] # set value to primer concentration\n",
    "        # add rev primerConc values across single row for 6 rows\n",
    "        df['R_primer'] =np.nan\n",
    "        for m in range(6): # loop through primer concentration list\n",
    "            for n in range(12): # every concentration as a row\n",
    "                pos = (12*m)+(n+1) # translate row and column to position in df 1..96\n",
    "                df.loc[pos, 'R_primer'] = primerConcs[m] # set value to primer concentration\n",
    "        return df \n",
    "    def Periodicity(self):\n",
    "        df=self.addPrimerConcToDf()\n",
    "        # group by F and R primer concentrations and take mean\n",
    "        avg_across_row_fwd = df.groupby(by=['R_primer', 'F_primer'], as_index=False)['Ct'].mean()\n",
    "        avg_across_col_rev = df.groupby(by=['F_primer', 'R_primer'], as_index=False)['Ct'].mean()\n",
    "        # stringify 'F_primer' and 'R_primer' concentrations and concatenate and add to list\n",
    "        barHeadingsFwd = (avg_across_row_fwd['F_primer'].astype(str) + '_' + avg_across_row_fwd['R_primer'].astype(str)).tolist()\n",
    "        barHeadingsRev = (avg_across_col_rev['R_primer'].astype(str) + '_' + avg_across_col_rev['F_primer'].astype(str)).tolist()\n",
    "        figAvgFwd = px.bar(\n",
    "            avg_across_row_fwd,\n",
    "            y=avg_across_row_fwd['Ct'],\n",
    "            x=barHeadingsFwd, #avg_across_row['F_primer'],\n",
    "            labels={'x':'F Primer Concentration', 'y':'Cq'},\n",
    "            color='R_primer',\n",
    "            barmode='group',\n",
    "            text_auto=True,\n",
    "            title='Periodicity in Increasing [Fwd] (Going Across Row)<br>[Rev] Held Constant, Two Points per Condition Averaged')\n",
    "        figAvgFwd.show()\n",
    "        figAvgRev = px.bar(\n",
    "            avg_across_col_rev,\n",
    "            y=avg_across_col_rev['Ct'],\n",
    "            x=barHeadingsRev, #avg_across_row['F_primer'],\n",
    "            labels={'x':'R Primer Concentration', 'y':'Cq'},\n",
    "            color='F_primer',\n",
    "            barmode='group',\n",
    "            text_auto=True,\n",
    "            title='Periodicity in Increasing [Rev] (Going Down Column)<br>[Fwd] Held Constant, Two Points per Condition Averaged')\n",
    "        return figAvgRev.show()\n",
    "    def onePhaseDecay(self, X, y0, Plateau, K):\n",
    "        return (y0-Plateau)*np.exp(-K*X)+Plateau\n",
    "    def RowAndColMeans(self):  \n",
    "        df=self.addPrimerConcToDf()  \n",
    "        row_mean = df.groupby(by='R_primer', as_index=False)['Ct'].mean() # group by R primer concentration and take mean\n",
    "        col_mean = df.groupby(by='F_primer', as_index=False)['Ct'].mean() # group by F primer concentration and take mean\n",
    "        row_conc = row_mean['R_primer'].tolist() # make list of concentrations\n",
    "        row_cq_mean = row_mean['Ct'].tolist() # make list of Cqs\n",
    "        col_conc = col_mean['F_primer'].tolist() \n",
    "        col_cq_mean = col_mean['Ct'].tolist()\n",
    "        # solve for one phase decay with scipy\n",
    "        # initialGuesses = [y0, Plateau, K] \n",
    "        # Y0 is the Y value when X (Conc) is zero. It is expressed in the same units as Y,\n",
    "        # Plateau is the Y value at infinite conc, expressed in the same units as Y.\n",
    "        # K is the rate constant, expressed in reciprocal of the X axis conc units. If X is in nM, then K is expressed in inverse nM.\n",
    "        initialGuesses = [100, 15, 0.01] # converges faster with initial guesses\n",
    "        ropt,rcov = curve_fit(self.onePhaseDecay, row_conc, row_cq_mean, initialGuesses, maxfev=5000)\n",
    "        copt,ccov = curve_fit(self.onePhaseDecay, col_conc, col_cq_mean, initialGuesses, maxfev=5000)\n",
    "        row_cq_pred = np.empty(len(row_conc)) #empty list to receive data\n",
    "        for i in range(len(row_conc)): #loop through concentrations to make cq prediction\n",
    "            # cq_pred[i]=onePhaseDecay(f_r_conc[i], initialGuesses[0], initialGuesses[1], initialGuesses[2])\n",
    "            row_cq_pred[i]=self.onePhaseDecay(row_conc[i], ropt[0], ropt[1], ropt[2])\n",
    "        col_cq_pred = np.empty(len(col_conc)) #empty list to receive data\n",
    "        for i in range(len(col_conc)): #loop through concentrations to make cq prediction\n",
    "            # cq_pred[i]=onePhaseDecay(f_r_conc[i], initialGuesses[0], initialGuesses[1], initialGuesses[2])\n",
    "            col_cq_pred[i]=self.onePhaseDecay(col_conc[i], copt[0], copt[1], copt[2])\n",
    "        # from sklearn.metrics import r2_score\n",
    "        row_R2score = r2_score(row_cq_pred, row_cq_mean)\n",
    "        col_R2score = r2_score(col_cq_pred, col_cq_mean)\n",
    "        # Generate figure\n",
    "        figRowVsColMean = go.Figure()\n",
    "        figRowVsColMean.add_trace(\n",
    "            go.Scatter(\n",
    "                x=row_conc,\n",
    "                y=row_cq_mean,\n",
    "                name='Row Mean', \n",
    "                mode='markers',\n",
    "                marker_color='#2038A8'\n",
    "                # line=dict(color='rgb(255, 0, 0)', width=2),\n",
    "                # line_shape = 'spline' # make smooth line\n",
    "            ))\n",
    "        figRowVsColMean.add_trace(\n",
    "            go.Scatter(\n",
    "                x=row_conc,\n",
    "                y=row_cq_pred,\n",
    "                name='Row (Modeled)',\n",
    "                mode='lines',\n",
    "                line=dict(color='#7564F5', width=1),\n",
    "                line_shape = 'spline' # make smooth line\n",
    "            ))\n",
    "        figRowVsColMean.add_trace(\n",
    "            go.Scatter(\n",
    "                x=col_conc,\n",
    "                y=col_cq_mean,\n",
    "                name='Col Mean',\n",
    "                mode='markers',\n",
    "                marker_color='#F58E17'\n",
    "            ))\n",
    "        figRowVsColMean.add_trace(\n",
    "            go.Scatter(\n",
    "                x=col_conc,\n",
    "                y=col_cq_pred,\n",
    "                name='Col (Modeled)',\n",
    "                mode='lines',\n",
    "                # marker_color='#F5BD69', \n",
    "                line=dict(color='#F5BD69', width=1),\n",
    "                line_shape = 'spline' # make smooth line\n",
    "            ))\n",
    "        figRowVsColMean.update_layout(title='Row vs Col Means',\n",
    "        xaxis_title='Mean',\n",
    "        yaxis_title='Cq')\n",
    "        return figRowVsColMean.show()\n",
    "    def FwdAndRevEquivalence(self):\n",
    "        df=self.addPrimerConcToDf()  \n",
    "        # create a new df where 'F_primer' = 'R_primer' \n",
    "        df_fwd_rev = df[df['F_primer'] == df['R_primer']]\n",
    "        df_fwd_rev_mean = df_fwd_rev.groupby(by=['R_primer', 'F_primer'], as_index=False)['Ct'].mean().dropna() # take mean, remove NaN\n",
    "        # equivHeadings = (df_fwd_rev_mean['F_primer'].astype(str) + '_' + df_fwd_rev_mean['R_primer'].astype(str)).tolist()\n",
    "        # solve for one phase decay with scipy\n",
    "        # f_r_conc = [100, 200, 400, 600, 800] # F-R primer concentrations\n",
    "        # cq_actual = [37.32, 25.21, 21.27, 20.225, 18.81] # Cq values\n",
    "        f_r_conc = df_fwd_rev_mean['R_primer'].tolist() # both F_primer and R_primer are the same\n",
    "        cq_actual = df_fwd_rev_mean['Ct'].tolist()\n",
    "        # found each element in cq_actual to two decimal places\n",
    "        cq_actual = [round(x, 2) for x in cq_actual]\n",
    "        # initialGuesses = [y0, Plateau, K] \n",
    "        # Y0 is the Y value when X (Conc) is zero. It is expressed in the same units as Y,\n",
    "        # Plateau is the Y value at infinite conc, expressed in the same units as Y.\n",
    "        # K is the rate constant, expressed in reciprocal of the X axis conc units. If X is in nM, then K is expressed in inverse nM.\n",
    "        # initialGuesses = [73.29, 19.8, 0.01120] # GraphPad values\n",
    "        initialGuesses = [100, 15, 0.01]\n",
    "        popt,pcov = curve_fit(self.onePhaseDecay, f_r_conc, cq_actual, initialGuesses)\n",
    "        cq_pred = np.empty(len(cq_actual)) #empty list to receive data\n",
    "        for i in range(len(f_r_conc)): #loop through concentrations to make cq prediction\n",
    "            # cq_pred[i]=onePhaseDecay(f_r_conc[i], initialGuesses[0], initialGuesses[1], initialGuesses[2])\n",
    "            cq_pred[i]=self.onePhaseDecay(f_r_conc[i], popt[0], popt[1], popt[2])\n",
    "        # from sklearn.metrics import r2_score\n",
    "        equivR2score = r2_score(cq_pred, cq_actual)\n",
    "\n",
    "        # Plot 3 more predicted points @ 300, 500, 700nM\n",
    "        cq_pred_300 = self.onePhaseDecay(300, popt[0], popt[1], popt[2])\n",
    "        cq_pred_500 = self.onePhaseDecay(500, popt[0], popt[1], popt[2])\n",
    "        cq_pred_700 = self.onePhaseDecay(700, popt[0], popt[1], popt[2])\n",
    "        figEquivalent = go.Figure()\n",
    "        figEquivalent.add_trace(\n",
    "            go.Scatter(\n",
    "                x=f_r_conc,\n",
    "                y=cq_pred,\n",
    "                name='Cq Predicted (R^2 = ' + str(round(equivR2score, 4)) + ')', \n",
    "                mode='lines+markers',\n",
    "                line=dict(color='rgb(255, 0, 0)', width=2),\n",
    "                line_shape = 'spline' # make smooth line\n",
    "            ))\n",
    "        figEquivalent.add_trace(\n",
    "            go.Bar(\n",
    "                x=f_r_conc,\n",
    "                y=cq_actual,\n",
    "                text = cq_actual,\n",
    "                name='Cq Actual',\n",
    "                textposition='inside',\n",
    "                marker_color='#636EFA'\n",
    "            ))\n",
    "        figEquivalent.add_trace(\n",
    "            go.Bar(\n",
    "                x=[300, 500, 700],\n",
    "                y=[cq_pred_300, cq_pred_500, cq_pred_700],\n",
    "                name='Cq Predicted @300, 500, 700nM',\n",
    "                textposition='inside',\n",
    "                marker_color='#94B6FA'\n",
    "            ))\n",
    "        figEquivalent.update_layout(title='<b>Cq when [Fwd] = [Rev]</b><br>Actual vs Predicted (One Phase Decay)<br>Two Points per Condition Averaged',\n",
    "        xaxis_title='[F=R] Primer Concentration',\n",
    "        yaxis_title='Cq')\n",
    "        return figEquivalent.show()\n",
    "    def plotStandards(self):\n",
    "        # rename \"Property\" column with standard and Negative\n",
    "        df = self.dfCreate()\n",
    "        df.loc[73:93, \"Property\"]= \"Standard\" # make property in rows 73-93 \"Standard\"\n",
    "        df.loc[94:96, \"Property\"]= \"Negative\" \n",
    "        standardNumberList = ['Std_1', 'Std_2', 'Std_3', 'Std_4', 'Std_5', 'Std_6', 'Std_7', 'Negative']\n",
    "        # create a new column with the standard number e.g. std_1, std_2, etc.\n",
    "        df['StandardNumber'] =np.nan # create new column for standard number\n",
    "        for j in range(8): # 8 sets of triplicates on two rows\n",
    "            for k in range(3): # every concentration 3x for std curve\n",
    "                pos = 73+k+(j*3) # translate row and column to position in df 1..96\n",
    "                df.loc[pos, 'StandardNumber'] = standardNumberList[j] # set value to primer concentration\n",
    "        # select df with only standards; don't want negatives\n",
    "        standards = df.loc[df['Property'] == 'Standard']\n",
    "        standardNumberMeans = standards.groupby(by=['StandardNumber'], as_index=False)['Ct'].mean().dropna() # take mean, remove NaN\n",
    "        # display (standardNumberMeans)\n",
    "        figStandards = px.bar(\n",
    "            standardNumberMeans,\n",
    "            y=standardNumberMeans['Ct'],\n",
    "            x=standardNumberMeans['StandardNumber'], #avg_across_row['F_primer'],\n",
    "            labels={'x':'Standard', 'y':'Cq'},\n",
    "            # color='R_primer',\n",
    "            barmode='group',\n",
    "            text_auto=True,\n",
    "            title='Standard Number vs Cq' )\n",
    "        figStandards.show()\n",
    "        \n",
    "    "
   ]
  },
  {
   "cell_type": "code",
   "execution_count": 26,
   "metadata": {},
   "outputs": [
    {
     "name": "stdout",
     "output_type": "stream",
     "text": [
      "['Detectors', 'Sample', 'Plate', 'Program', 'Quan. Raw Data', 'Melt Raw Data', 'Quan. Result', 'Melt Result', 'Detail Melt Result', 'Quan. AmpData-SYBR']\n"
     ]
    }
   ],
   "source": [
    "# show all sheet names\n",
    "sheetNames = list(dfExcel.keys())\n",
    "print(sheetNames)"
   ]
  },
  {
   "cell_type": "code",
   "execution_count": 27,
   "metadata": {},
   "outputs": [
    {
     "data": {
      "application/vnd.plotly.v1+json": {
       "config": {
        "plotlyServerURL": "https://plot.ly"
       },
       "data": [
        {
         "hovertemplate": "variable=A01<br>Cycle=%{x}<br>value=%{y}<extra></extra>",
         "legendgroup": "A01",
         "line": {
          "color": "rgb(141,211,199)",
          "dash": "solid"
         },
         "marker": {
          "symbol": "circle"
         },
         "mode": "lines",
         "name": "A01",
         "showlegend": true,
         "type": "scattergl",
         "x": [
          1,
          2,
          3,
          4,
          5,
          6,
          7,
          8,
          9,
          10,
          11,
          12,
          13,
          14,
          15,
          16,
          17,
          18,
          19,
          20,
          21,
          22,
          23,
          24,
          25,
          26,
          27,
          28,
          29,
          30,
          31,
          32,
          33,
          34,
          35,
          36,
          37,
          38,
          39,
          40
         ],
         "xaxis": "x",
         "y": [
          0,
          0,
          0,
          0,
          0,
          0,
          0,
          0,
          0,
          0,
          0,
          0,
          0,
          0,
          0,
          0,
          0,
          0,
          0,
          0,
          0,
          0,
          0,
          42.2355564044568,
          160.646117222125,
          395.370876328876,
          804.630666458518,
          1462.08015260207,
          2445.18123188888,
          3816.61747983665,
          5604.32012188375,
          7785.04610245617,
          10279.9601468238,
          12956.8244685812,
          15676.8276012991,
          18233.2636037615,
          20505.0073710323,
          22465.8575767411,
          24426.70778245,
          26387.5579881589
         ],
         "yaxis": "y"
        },
        {
         "hovertemplate": "variable=A02<br>Cycle=%{x}<br>value=%{y}<extra></extra>",
         "legendgroup": "A02",
         "line": {
          "color": "rgb(255,255,179)",
          "dash": "solid"
         },
         "marker": {
          "symbol": "circle"
         },
         "mode": "lines",
         "name": "A02",
         "showlegend": true,
         "type": "scattergl",
         "x": [
          1,
          2,
          3,
          4,
          5,
          6,
          7,
          8,
          9,
          10,
          11,
          12,
          13,
          14,
          15,
          16,
          17,
          18,
          19,
          20,
          21,
          22,
          23,
          24,
          25,
          26,
          27,
          28,
          29,
          30,
          31,
          32,
          33,
          34,
          35,
          36,
          37,
          38,
          39,
          40
         ],
         "xaxis": "x",
         "y": [
          0,
          0,
          0,
          0,
          0,
          0,
          0,
          0,
          0,
          0,
          0,
          0,
          0,
          0,
          0,
          0,
          0,
          0,
          0,
          0,
          0,
          0,
          0,
          0,
          44.5400778020951,
          165.898452470924,
          400.725283744644,
          799.704075259167,
          1423.43117333113,
          2331.17753332128,
          3565.32797243165,
          5134.76613656271,
          7005.12426204223,
          9091.66630754139,
          11269.8689483977,
          13414.3501003542,
          15438.4395681586,
          17295.8055197866,
          19033.342718952,
          20761.6401926635
         ],
         "yaxis": "y"
        },
        {
         "hovertemplate": "variable=A03<br>Cycle=%{x}<br>value=%{y}<extra></extra>",
         "legendgroup": "A03",
         "line": {
          "color": "rgb(190,186,218)",
          "dash": "solid"
         },
         "marker": {
          "symbol": "circle"
         },
         "mode": "lines",
         "name": "A03",
         "showlegend": true,
         "type": "scattergl",
         "x": [
          1,
          2,
          3,
          4,
          5,
          6,
          7,
          8,
          9,
          10,
          11,
          12,
          13,
          14,
          15,
          16,
          17,
          18,
          19,
          20,
          21,
          22,
          23,
          24,
          25,
          26,
          27,
          28,
          29,
          30,
          31,
          32,
          33,
          34,
          35,
          36,
          37,
          38,
          39,
          40
         ],
         "xaxis": "x",
         "y": [
          0,
          0,
          0,
          0,
          0,
          0,
          0,
          0,
          0,
          0,
          0,
          0,
          0,
          0,
          0,
          0,
          0,
          0,
          0,
          0,
          0,
          0,
          0,
          59.2689429396521,
          220.471040753099,
          530.746096951764,
          1053.01572819117,
          1858.91318707359,
          3013.17047833246,
          4554.36545553041,
          6478.10884876169,
          8727.58096349947,
          11198.6706689342,
          13748.9885012869,
          16244.1504689647,
          18501.4083661512,
          20424.74958194,
          21958.6881444637,
          23277.7729714411,
          24596.8577984185
         ],
         "yaxis": "y"
        },
        {
         "hovertemplate": "variable=A04<br>Cycle=%{x}<br>value=%{y}<extra></extra>",
         "legendgroup": "A04",
         "line": {
          "color": "rgb(251,128,114)",
          "dash": "solid"
         },
         "marker": {
          "symbol": "circle"
         },
         "mode": "lines",
         "name": "A04",
         "showlegend": true,
         "type": "scattergl",
         "x": [
          1,
          2,
          3,
          4,
          5,
          6,
          7,
          8,
          9,
          10,
          11,
          12,
          13,
          14,
          15,
          16,
          17,
          18,
          19,
          20,
          21,
          22,
          23,
          24,
          25,
          26,
          27,
          28,
          29,
          30,
          31,
          32,
          33,
          34,
          35,
          36,
          37,
          38,
          39,
          40
         ],
         "xaxis": "x",
         "y": [
          0,
          0,
          0,
          0,
          0,
          0,
          0,
          0,
          0,
          0,
          0,
          0,
          0,
          0,
          0,
          0,
          0,
          0,
          0,
          0,
          0,
          0,
          49.1731557948012,
          183.100572734646,
          441.646452732875,
          878.370439907693,
          1555.05863632196,
          2529.17285239806,
          3838.02985641094,
          5484.8984851801,
          7431.61656070671,
          9600.73825863097,
          11888.7418881204,
          14178.0223997933,
          16354.2533953,
          18333.8632583661,
          20083.6729552172,
          21614.1415415264,
          23008.9062077937,
          24397.22389336
         ],
         "yaxis": "y"
        },
        {
         "hovertemplate": "variable=A05<br>Cycle=%{x}<br>value=%{y}<extra></extra>",
         "legendgroup": "A05",
         "line": {
          "color": "rgb(128,177,211)",
          "dash": "solid"
         },
         "marker": {
          "symbol": "circle"
         },
         "mode": "lines",
         "name": "A05",
         "showlegend": true,
         "type": "scattergl",
         "x": [
          1,
          2,
          3,
          4,
          5,
          6,
          7,
          8,
          9,
          10,
          11,
          12,
          13,
          14,
          15,
          16,
          17,
          18,
          19,
          20,
          21,
          22,
          23,
          24,
          25,
          26,
          27,
          28,
          29,
          30,
          31,
          32,
          33,
          34,
          35,
          36,
          37,
          38,
          39,
          40
         ],
         "xaxis": "x",
         "y": [
          0,
          0,
          0,
          0,
          0,
          0,
          0,
          0,
          0,
          0,
          0,
          0,
          0,
          0,
          0,
          0,
          0,
          0,
          0,
          0,
          0,
          0,
          37.8924203299594,
          146.438542048247,
          363.794914812139,
          744.708329487111,
          1357.21897509815,
          2271.42118517574,
          3542.10198530665,
          5190.30487349636,
          7190.06376310392,
          9465.06258791659,
          11898.9236092044,
          14349.0406369949,
          16690.837116017,
          18766.9948907403,
          20504.5168842532,
          21869.024236995,
          23031.3593923967,
          24193.6945477983
         ],
         "yaxis": "y"
        },
        {
         "hovertemplate": "variable=A06<br>Cycle=%{x}<br>value=%{y}<extra></extra>",
         "legendgroup": "A06",
         "line": {
          "color": "rgb(253,180,98)",
          "dash": "solid"
         },
         "marker": {
          "symbol": "circle"
         },
         "mode": "lines",
         "name": "A06",
         "showlegend": true,
         "type": "scattergl",
         "x": [
          1,
          2,
          3,
          4,
          5,
          6,
          7,
          8,
          9,
          10,
          11,
          12,
          13,
          14,
          15,
          16,
          17,
          18,
          19,
          20,
          21,
          22,
          23,
          24,
          25,
          26,
          27,
          28,
          29,
          30,
          31,
          32,
          33,
          34,
          35,
          36,
          37,
          38,
          39,
          40
         ],
         "xaxis": "x",
         "y": [
          0,
          0,
          0,
          0,
          0,
          0,
          0,
          0,
          0,
          0,
          0,
          0,
          0,
          0,
          0,
          0,
          0,
          0,
          0,
          0,
          0,
          0,
          31.4930516220168,
          120.433034112033,
          297.756327973856,
          608.986342468961,
          1112.40898692344,
          1870.33193522667,
          2934.74391173977,
          4331.17276524699,
          6046.05082517316,
          8021.52790869388,
          10161.9194807848,
          12344.5608851443,
          14457.891576731,
          16360.5039795387,
          17980.3681030181,
          19281.9373613316,
          20405.3756089438,
          21528.813856556
         ],
         "yaxis": "y"
        },
        {
         "hovertemplate": "variable=A07<br>Cycle=%{x}<br>value=%{y}<extra></extra>",
         "legendgroup": "A07",
         "line": {
          "color": "rgb(179,222,105)",
          "dash": "solid"
         },
         "marker": {
          "symbol": "circle"
         },
         "mode": "lines",
         "name": "A07",
         "showlegend": true,
         "type": "scattergl",
         "x": [
          1,
          2,
          3,
          4,
          5,
          6,
          7,
          8,
          9,
          10,
          11,
          12,
          13,
          14,
          15,
          16,
          17,
          18,
          19,
          20,
          21,
          22,
          23,
          24,
          25,
          26,
          27,
          28,
          29,
          30,
          31,
          32,
          33,
          34,
          35,
          36,
          37,
          38,
          39,
          40
         ],
         "xaxis": "x",
         "y": [
          0,
          0,
          0,
          0,
          0,
          0,
          0,
          0,
          0,
          0,
          0,
          0,
          0,
          0,
          0,
          0,
          0,
          0,
          0,
          0,
          0,
          0,
          41.5596029384137,
          153.945789675292,
          368.492508718862,
          724.77260036897,
          1265.73529855565,
          2028.22452680617,
          3032.15766649114,
          4272.86294864442,
          5718.80217380736,
          7315.26557706497,
          8995.75955820684,
          10687.7755710427,
          12334.0495789311,
          13853.5693445515,
          15216.7773372995,
          16395.4379504211,
          17489.905138424,
          18584.3723264268
         ],
         "yaxis": "y"
        },
        {
         "hovertemplate": "variable=A08<br>Cycle=%{x}<br>value=%{y}<extra></extra>",
         "legendgroup": "A08",
         "line": {
          "color": "rgb(252,205,229)",
          "dash": "solid"
         },
         "marker": {
          "symbol": "circle"
         },
         "mode": "lines",
         "name": "A08",
         "showlegend": true,
         "type": "scattergl",
         "x": [
          1,
          2,
          3,
          4,
          5,
          6,
          7,
          8,
          9,
          10,
          11,
          12,
          13,
          14,
          15,
          16,
          17,
          18,
          19,
          20,
          21,
          22,
          23,
          24,
          25,
          26,
          27,
          28,
          29,
          30,
          31,
          32,
          33,
          34,
          35,
          36,
          37,
          38,
          39,
          40
         ],
         "xaxis": "x",
         "y": [
          0,
          0,
          0,
          0,
          0,
          0,
          0,
          0,
          0,
          0,
          0,
          0,
          0,
          0,
          0,
          0,
          0,
          0,
          0,
          0,
          0,
          0,
          0,
          51.9585411639525,
          195.935361983966,
          476.865968420287,
          955.776379919278,
          1703.69840498222,
          2787.21837824998,
          4249.91013861969,
          6095.15617586747,
          8275.24352024248,
          10693.3197280517,
          13211.4554328549,
          15695.5563402197,
          17963.3215026521,
          19913.6639018103,
          21488.1107837396,
          22849.9775187623,
          24211.844253785
         ],
         "yaxis": "y"
        },
        {
         "hovertemplate": "variable=A09<br>Cycle=%{x}<br>value=%{y}<extra></extra>",
         "legendgroup": "A09",
         "line": {
          "color": "rgb(217,217,217)",
          "dash": "solid"
         },
         "marker": {
          "symbol": "circle"
         },
         "mode": "lines",
         "name": "A09",
         "showlegend": true,
         "type": "scattergl",
         "x": [
          1,
          2,
          3,
          4,
          5,
          6,
          7,
          8,
          9,
          10,
          11,
          12,
          13,
          14,
          15,
          16,
          17,
          18,
          19,
          20,
          21,
          22,
          23,
          24,
          25,
          26,
          27,
          28,
          29,
          30,
          31,
          32,
          33,
          34,
          35,
          36,
          37,
          38,
          39,
          40
         ],
         "xaxis": "x",
         "y": [
          0,
          0,
          0,
          0,
          0,
          0,
          0,
          0,
          0,
          0,
          0,
          0,
          0,
          0,
          0,
          0,
          0,
          0,
          0,
          0,
          0,
          0,
          0,
          47.6357272562377,
          179.831747824063,
          438.067630854613,
          878.970561454447,
          1568.95576038291,
          2570.94535838069,
          3926.52172099611,
          5638.93798826121,
          7662.23946830663,
          9903.29639953656,
          12229.4653395021,
          14512.7262908023,
          16578.3985789837,
          18332.2390454665,
          19763.339690716,
          21194.4403359656,
          22625.5409812152
         ],
         "yaxis": "y"
        },
        {
         "hovertemplate": "variable=A10<br>Cycle=%{x}<br>value=%{y}<extra></extra>",
         "legendgroup": "A10",
         "line": {
          "color": "rgb(188,128,189)",
          "dash": "solid"
         },
         "marker": {
          "symbol": "circle"
         },
         "mode": "lines",
         "name": "A10",
         "showlegend": true,
         "type": "scattergl",
         "x": [
          1,
          2,
          3,
          4,
          5,
          6,
          7,
          8,
          9,
          10,
          11,
          12,
          13,
          14,
          15,
          16,
          17,
          18,
          19,
          20,
          21,
          22,
          23,
          24,
          25,
          26,
          27,
          28,
          29,
          30,
          31,
          32,
          33,
          34,
          35,
          36,
          37,
          38,
          39,
          40
         ],
         "xaxis": "x",
         "y": [
          0,
          0,
          0,
          0,
          0,
          0,
          0,
          0,
          0,
          0,
          0,
          0,
          0,
          0,
          0,
          0,
          0,
          0,
          0,
          0,
          0,
          0,
          0,
          52.287490864703,
          197.540376734778,
          481.417784263478,
          966.130793391134,
          1724.57855386231,
          2825.85228209996,
          4315.89270512118,
          6199.35187406154,
          8427.98987120187,
          10902.7476423538,
          13481.5702960245,
          16002.2487476095,
          18327.2658549509,
          20384.3469240059,
          22160.0535641487,
          23755.3588858629,
          25341.1156025466
         ],
         "yaxis": "y"
        },
        {
         "hovertemplate": "variable=A11<br>Cycle=%{x}<br>value=%{y}<extra></extra>",
         "legendgroup": "A11",
         "line": {
          "color": "rgb(204,235,197)",
          "dash": "solid"
         },
         "marker": {
          "symbol": "circle"
         },
         "mode": "lines",
         "name": "A11",
         "showlegend": true,
         "type": "scattergl",
         "x": [
          1,
          2,
          3,
          4,
          5,
          6,
          7,
          8,
          9,
          10,
          11,
          12,
          13,
          14,
          15,
          16,
          17,
          18,
          19,
          20,
          21,
          22,
          23,
          24,
          25,
          26,
          27,
          28,
          29,
          30,
          31,
          32,
          33,
          34,
          35,
          36,
          37,
          38,
          39,
          40
         ],
         "xaxis": "x",
         "y": [
          0,
          0,
          0,
          0,
          0,
          0,
          0,
          0,
          0,
          0,
          0,
          0,
          0,
          0,
          0,
          0,
          0,
          0,
          0,
          0,
          0,
          0,
          0,
          41.337622140062,
          157.381992299116,
          387.676068918754,
          790.305554740793,
          1439.50465110951,
          2414.36531708314,
          3780.40239179184,
          5569.21725828325,
          7760.83873800773,
          10276.7628357777,
          12985.9336897281,
          15747.1176706802,
          18373.3478445692,
          20740.6117850894,
          22776.08954401,
          24602.8807748817,
          26429.6720057535
         ],
         "yaxis": "y"
        },
        {
         "hovertemplate": "variable=A12<br>Cycle=%{x}<br>value=%{y}<extra></extra>",
         "legendgroup": "A12",
         "line": {
          "color": "rgb(255,237,111)",
          "dash": "solid"
         },
         "marker": {
          "symbol": "circle"
         },
         "mode": "lines",
         "name": "A12",
         "showlegend": true,
         "type": "scattergl",
         "x": [
          1,
          2,
          3,
          4,
          5,
          6,
          7,
          8,
          9,
          10,
          11,
          12,
          13,
          14,
          15,
          16,
          17,
          18,
          19,
          20,
          21,
          22,
          23,
          24,
          25,
          26,
          27,
          28,
          29,
          30,
          31,
          32,
          33,
          34,
          35,
          36,
          37,
          38,
          39,
          40
         ],
         "xaxis": "x",
         "y": [
          0,
          0,
          0,
          0,
          0,
          0,
          0,
          0,
          0,
          0,
          0,
          0,
          0,
          0,
          0,
          0,
          0,
          0,
          0,
          0,
          0,
          0,
          0,
          39.5913453755666,
          149.03676809163,
          363.440069868364,
          732.883784453369,
          1319.12680966268,
          2185.10581087213,
          3379.02549886663,
          4917.37559859752,
          6771.41882404215,
          8864.09104093775,
          11073.6788009159,
          13252.8497430234,
          15270.7654176368,
          17054.6854327944,
          18585.1030610309,
          19951.3594121427,
          21308.654242721
         ],
         "yaxis": "y"
        },
        {
         "hovertemplate": "variable=B01<br>Cycle=%{x}<br>value=%{y}<extra></extra>",
         "legendgroup": "B01",
         "line": {
          "color": "rgb(141,211,199)",
          "dash": "solid"
         },
         "marker": {
          "symbol": "circle"
         },
         "mode": "lines",
         "name": "B01",
         "showlegend": true,
         "type": "scattergl",
         "x": [
          1,
          2,
          3,
          4,
          5,
          6,
          7,
          8,
          9,
          10,
          11,
          12,
          13,
          14,
          15,
          16,
          17,
          18,
          19,
          20,
          21,
          22,
          23,
          24,
          25,
          26,
          27,
          28,
          29,
          30,
          31,
          32,
          33,
          34,
          35,
          36,
          37,
          38,
          39,
          40
         ],
         "xaxis": "x",
         "y": [
          0,
          0,
          0,
          0,
          0,
          0,
          0,
          0,
          0,
          0,
          0,
          0,
          0,
          0,
          0,
          0,
          0,
          0,
          0,
          0,
          0,
          0,
          63.2742727802008,
          240.81841080379,
          588.02826851959,
          1177.0895624313,
          2088.21336596447,
          3391.80946561392,
          5127.09222594799,
          7284.09258621741,
          9796.17616531148,
          12545.6389203387,
          15382.5821656225,
          18146.5448037834,
          20710.1313934804,
          22936.0235861976,
          24769.1519774581,
          26205.1794313439,
          27418.4001826006,
          28631.6209338574
         ],
         "yaxis": "y"
        },
        {
         "hovertemplate": "variable=B02<br>Cycle=%{x}<br>value=%{y}<extra></extra>",
         "legendgroup": "B02",
         "line": {
          "color": "rgb(255,255,179)",
          "dash": "solid"
         },
         "marker": {
          "symbol": "circle"
         },
         "mode": "lines",
         "name": "B02",
         "showlegend": true,
         "type": "scattergl",
         "x": [
          1,
          2,
          3,
          4,
          5,
          6,
          7,
          8,
          9,
          10,
          11,
          12,
          13,
          14,
          15,
          16,
          17,
          18,
          19,
          20,
          21,
          22,
          23,
          24,
          25,
          26,
          27,
          28,
          29,
          30,
          31,
          32,
          33,
          34,
          35,
          36,
          37,
          38,
          39,
          40
         ],
         "xaxis": "x",
         "y": [
          0,
          0,
          0,
          0,
          0,
          0,
          0,
          0,
          0,
          0,
          0,
          0,
          0,
          0,
          0,
          0,
          0,
          0,
          0,
          0,
          0,
          0,
          30.9856117437758,
          119.369525919353,
          295.951630676954,
          605.246217685202,
          1103.22270722591,
          1848.16293971623,
          2886.01757538625,
          4234.37322066123,
          5870.69939784142,
          7729.39450029321,
          9710.66995665318,
          11699.1390297878,
          13595.2638906012,
          15306.1162482417,
          16784.4099768502,
          18026.6248553716,
          19122.247030002,
          20217.8692046324
         ],
         "yaxis": "y"
        },
        {
         "hovertemplate": "variable=B03<br>Cycle=%{x}<br>value=%{y}<extra></extra>",
         "legendgroup": "B03",
         "line": {
          "color": "rgb(190,186,218)",
          "dash": "solid"
         },
         "marker": {
          "symbol": "circle"
         },
         "mode": "lines",
         "name": "B03",
         "showlegend": true,
         "type": "scattergl",
         "x": [
          1,
          2,
          3,
          4,
          5,
          6,
          7,
          8,
          9,
          10,
          11,
          12,
          13,
          14,
          15,
          16,
          17,
          18,
          19,
          20,
          21,
          22,
          23,
          24,
          25,
          26,
          27,
          28,
          29,
          30,
          31,
          32,
          33,
          34,
          35,
          36,
          37,
          38,
          39,
          40
         ],
         "xaxis": "x",
         "y": [
          0,
          0,
          0,
          0,
          0,
          0,
          0,
          0,
          0,
          0,
          0,
          0,
          0,
          0,
          0,
          0,
          0,
          0,
          0,
          0,
          0,
          44.6848567096941,
          174.852778768462,
          438.160645411179,
          903.26892840694,
          1655.8358781187,
          2785.51508788999,
          4364.32314855041,
          6423.05168992371,
          8935.4512199998,
          11815.3041208941,
          14927.6662254832,
          18115.2484385512,
          21218.6021237522,
          24118.722859179,
          26677.3600658588,
          28851.0358595683,
          30625.6325810368,
          32197.1933787776,
          33768.7541765185
         ],
         "yaxis": "y"
        },
        {
         "hovertemplate": "variable=B04<br>Cycle=%{x}<br>value=%{y}<extra></extra>",
         "legendgroup": "B04",
         "line": {
          "color": "rgb(251,128,114)",
          "dash": "solid"
         },
         "marker": {
          "symbol": "circle"
         },
         "mode": "lines",
         "name": "B04",
         "showlegend": true,
         "type": "scattergl",
         "x": [
          1,
          2,
          3,
          4,
          5,
          6,
          7,
          8,
          9,
          10,
          11,
          12,
          13,
          14,
          15,
          16,
          17,
          18,
          19,
          20,
          21,
          22,
          23,
          24,
          25,
          26,
          27,
          28,
          29,
          30,
          31,
          32,
          33,
          34,
          35,
          36,
          37,
          38,
          39,
          40
         ],
         "xaxis": "x",
         "y": [
          0,
          0,
          0,
          0,
          0,
          0,
          0,
          0,
          0,
          0,
          0,
          0,
          0,
          0,
          0,
          0,
          0,
          0,
          0,
          0,
          0,
          47.449788119131,
          184.733892976026,
          459.35279814761,
          935.995297292976,
          1690.55010549994,
          2795.48225278507,
          4300.41959981402,
          6213.75871947087,
          8491.90376397052,
          11040.9219031935,
          13729.7726729393,
          16412.8079454714,
          18950.0003248361,
          21226.0794519177,
          23172.9421186622,
          24785.2384357743,
          26107.0815500989,
          27259.9967928679,
          28407.4591107431
         ],
         "yaxis": "y"
        },
        {
         "hovertemplate": "variable=B05<br>Cycle=%{x}<br>value=%{y}<extra></extra>",
         "legendgroup": "B05",
         "line": {
          "color": "rgb(128,177,211)",
          "dash": "solid"
         },
         "marker": {
          "symbol": "circle"
         },
         "mode": "lines",
         "name": "B05",
         "showlegend": true,
         "type": "scattergl",
         "x": [
          1,
          2,
          3,
          4,
          5,
          6,
          7,
          8,
          9,
          10,
          11,
          12,
          13,
          14,
          15,
          16,
          17,
          18,
          19,
          20,
          21,
          22,
          23,
          24,
          25,
          26,
          27,
          28,
          29,
          30,
          31,
          32,
          33,
          34,
          35,
          36,
          37,
          38,
          39,
          40
         ],
         "xaxis": "x",
         "y": [
          0,
          0,
          0,
          0,
          0,
          0,
          0,
          0,
          0,
          0,
          0,
          0,
          0,
          0,
          0,
          0,
          0,
          0,
          0,
          0,
          0,
          41.0248242608578,
          160.250276489259,
          400.400139805506,
          821.485582611987,
          1496.11169703989,
          2496.4730330958,
          3875.93500529485,
          5650.38711507734,
          7786.86369571981,
          10203.9427520864,
          12783.7033057081,
          15393.1308436291,
          17902.9486252008,
          20219.4777396879,
          22246.0792404161,
          23954.3213136319,
          25348.1348519942,
          26573.2691203632,
          27798.4033887321
         ],
         "yaxis": "y"
        },
        {
         "hovertemplate": "variable=B06<br>Cycle=%{x}<br>value=%{y}<extra></extra>",
         "legendgroup": "B06",
         "line": {
          "color": "rgb(253,180,98)",
          "dash": "solid"
         },
         "marker": {
          "symbol": "circle"
         },
         "mode": "lines",
         "name": "B06",
         "showlegend": true,
         "type": "scattergl",
         "x": [
          1,
          2,
          3,
          4,
          5,
          6,
          7,
          8,
          9,
          10,
          11,
          12,
          13,
          14,
          15,
          16,
          17,
          18,
          19,
          20,
          21,
          22,
          23,
          24,
          25,
          26,
          27,
          28,
          29,
          30,
          31,
          32,
          33,
          34,
          35,
          36,
          37,
          38,
          39,
          40
         ],
         "xaxis": "x",
         "y": [
          0,
          0,
          0,
          0,
          0,
          0,
          0,
          0,
          0,
          0,
          0,
          0,
          0,
          0,
          0,
          0,
          0,
          0,
          0,
          0,
          0,
          45.4265678104464,
          176.090789021844,
          436.443906160498,
          886.452715834567,
          1595.60186087007,
          2628.99254763652,
          4029.36438212994,
          5801.18442471117,
          7902.78693007512,
          10249.9403290076,
          12729.7578664209,
          15221.1194097252,
          17610.348890651,
          19804.8324519306,
          21749.9128109502,
          23439.4295451803,
          24906.4446041425,
          26242.681236822,
          27574.1290053163
         ],
         "yaxis": "y"
        },
        {
         "hovertemplate": "variable=B07<br>Cycle=%{x}<br>value=%{y}<extra></extra>",
         "legendgroup": "B07",
         "line": {
          "color": "rgb(179,222,105)",
          "dash": "solid"
         },
         "marker": {
          "symbol": "circle"
         },
         "mode": "lines",
         "name": "B07",
         "showlegend": true,
         "type": "scattergl",
         "x": [
          1,
          2,
          3,
          4,
          5,
          6,
          7,
          8,
          9,
          10,
          11,
          12,
          13,
          14,
          15,
          16,
          17,
          18,
          19,
          20,
          21,
          22,
          23,
          24,
          25,
          26,
          27,
          28,
          29,
          30,
          31,
          32,
          33,
          34,
          35,
          36,
          37,
          38,
          39,
          40
         ],
         "xaxis": "x",
         "y": [
          0,
          0,
          0,
          0,
          0,
          0,
          0,
          0,
          0,
          0,
          0,
          0,
          0,
          0,
          0,
          0,
          0,
          0,
          0,
          0,
          0,
          47.9745404098874,
          185.033574223632,
          457.369584632179,
          927.981709959211,
          1670.6248597029,
          2755.81374061918,
          4231.68404451715,
          6105.83083937207,
          8335.96361031806,
          10832.9005667341,
          13474.4346557103,
          16128.8352946781,
          18671.016877432,
          20997.3539650014,
          23046.1205594978,
          24808.9766744499,
          26322.3764370137,
          27687.6743848811,
          29047.0967819564
         ],
         "yaxis": "y"
        },
        {
         "hovertemplate": "variable=B08<br>Cycle=%{x}<br>value=%{y}<extra></extra>",
         "legendgroup": "B08",
         "line": {
          "color": "rgb(252,205,229)",
          "dash": "solid"
         },
         "marker": {
          "symbol": "circle"
         },
         "mode": "lines",
         "name": "B08",
         "showlegend": true,
         "type": "scattergl",
         "x": [
          1,
          2,
          3,
          4,
          5,
          6,
          7,
          8,
          9,
          10,
          11,
          12,
          13,
          14,
          15,
          16,
          17,
          18,
          19,
          20,
          21,
          22,
          23,
          24,
          25,
          26,
          27,
          28,
          29,
          30,
          31,
          32,
          33,
          34,
          35,
          36,
          37,
          38,
          39,
          40
         ],
         "xaxis": "x",
         "y": [
          0,
          0,
          0,
          0,
          0,
          0,
          0,
          0,
          0,
          0,
          0,
          0,
          0,
          0,
          0,
          0,
          0,
          0,
          0,
          0,
          0,
          46.8842392878919,
          184.081316026418,
          461.031161681919,
          946.640334696198,
          1723.92620475447,
          2875.2870427386,
          4461.75971560634,
          6502.15896114583,
          8960.17339061715,
          11744.5159274248,
          14722.5877173404,
          17745.6898517515,
          20668.4009779761,
          23386.1964638305,
          25782.0169522398,
          27824.3040065513,
          29506.952338342,
          31008.1465146824,
          32509.3406910227
         ],
         "yaxis": "y"
        },
        {
         "hovertemplate": "variable=B09<br>Cycle=%{x}<br>value=%{y}<extra></extra>",
         "legendgroup": "B09",
         "line": {
          "color": "rgb(217,217,217)",
          "dash": "solid"
         },
         "marker": {
          "symbol": "circle"
         },
         "mode": "lines",
         "name": "B09",
         "showlegend": true,
         "type": "scattergl",
         "x": [
          1,
          2,
          3,
          4,
          5,
          6,
          7,
          8,
          9,
          10,
          11,
          12,
          13,
          14,
          15,
          16,
          17,
          18,
          19,
          20,
          21,
          22,
          23,
          24,
          25,
          26,
          27,
          28,
          29,
          30,
          31,
          32,
          33,
          34,
          35,
          36,
          37,
          38,
          39,
          40
         ],
         "xaxis": "x",
         "y": [
          0,
          0,
          0,
          0,
          0,
          0,
          0,
          0,
          0,
          0,
          0,
          0,
          0,
          0,
          0,
          0,
          0,
          0,
          0,
          0,
          0,
          33.4192553263138,
          133.422145536341,
          339.248308358974,
          708.517669252932,
          1314.8212407369,
          2236.96971609336,
          3541.26502905774,
          5261.51589334547,
          7383.61063349032,
          9840.24387753892,
          12518.4650689629,
          15280.1846183573,
          17977.5951930132,
          20473.4943142078,
          22673.8779902955,
          24549.1339367374,
          26126.7220762232,
          27522.2024475855,
          28909.2269737528
         ],
         "yaxis": "y"
        },
        {
         "hovertemplate": "variable=B10<br>Cycle=%{x}<br>value=%{y}<extra></extra>",
         "legendgroup": "B10",
         "line": {
          "color": "rgb(188,128,189)",
          "dash": "solid"
         },
         "marker": {
          "symbol": "circle"
         },
         "mode": "lines",
         "name": "B10",
         "showlegend": true,
         "type": "scattergl",
         "x": [
          1,
          2,
          3,
          4,
          5,
          6,
          7,
          8,
          9,
          10,
          11,
          12,
          13,
          14,
          15,
          16,
          17,
          18,
          19,
          20,
          21,
          22,
          23,
          24,
          25,
          26,
          27,
          28,
          29,
          30,
          31,
          32,
          33,
          34,
          35,
          36,
          37,
          38,
          39,
          40
         ],
         "xaxis": "x",
         "y": [
          0,
          0,
          0,
          0,
          0,
          0,
          0,
          0,
          0,
          0,
          0,
          0,
          0,
          0,
          0,
          0,
          0,
          0,
          0,
          0,
          0,
          41.0027389648784,
          162.515153515762,
          410.279409794653,
          849.508899546233,
          1560.80221764117,
          2626.84343448981,
          4112.40930754035,
          6043.69113140163,
          8394.2372312441,
          11082.9232598444,
          13985.4198353351,
          16957.1907867408,
          19853.2787174631,
          22565.7622238755,
          24977.4130931248,
          27050.6419396421,
          28803.559692247,
          30556.4774448519,
          32309.3951974568
         ],
         "yaxis": "y"
        },
        {
         "hovertemplate": "variable=B11<br>Cycle=%{x}<br>value=%{y}<extra></extra>",
         "legendgroup": "B11",
         "line": {
          "color": "rgb(204,235,197)",
          "dash": "solid"
         },
         "marker": {
          "symbol": "circle"
         },
         "mode": "lines",
         "name": "B11",
         "showlegend": true,
         "type": "scattergl",
         "x": [
          1,
          2,
          3,
          4,
          5,
          6,
          7,
          8,
          9,
          10,
          11,
          12,
          13,
          14,
          15,
          16,
          17,
          18,
          19,
          20,
          21,
          22,
          23,
          24,
          25,
          26,
          27,
          28,
          29,
          30,
          31,
          32,
          33,
          34,
          35,
          36,
          37,
          38,
          39,
          40
         ],
         "xaxis": "x",
         "y": [
          0,
          0,
          0,
          0,
          0,
          0,
          0,
          0,
          0,
          0,
          0,
          0,
          0,
          0,
          0,
          0,
          0,
          0,
          0,
          0,
          0,
          40.3151590670155,
          156.842470106097,
          391.458824221206,
          804.427976174566,
          1471.08345119583,
          2469.88083352273,
          3863.64311578358,
          5679.47008154022,
          7894.38804758029,
          10432.1339975021,
          13172.7848568269,
          15974.2406585525,
          18690.0728632939,
          21209.6366975254,
          23402.8493885331,
          25226.811075408,
          26670.5841609901,
          27917.4143349142,
          29164.2445088383
         ],
         "yaxis": "y"
        },
        {
         "hovertemplate": "variable=B12<br>Cycle=%{x}<br>value=%{y}<extra></extra>",
         "legendgroup": "B12",
         "line": {
          "color": "rgb(255,237,111)",
          "dash": "solid"
         },
         "marker": {
          "symbol": "circle"
         },
         "mode": "lines",
         "name": "B12",
         "showlegend": true,
         "type": "scattergl",
         "x": [
          1,
          2,
          3,
          4,
          5,
          6,
          7,
          8,
          9,
          10,
          11,
          12,
          13,
          14,
          15,
          16,
          17,
          18,
          19,
          20,
          21,
          22,
          23,
          24,
          25,
          26,
          27,
          28,
          29,
          30,
          31,
          32,
          33,
          34,
          35,
          36,
          37,
          38,
          39,
          40
         ],
         "xaxis": "x",
         "y": [
          0,
          0,
          0,
          0,
          0,
          0,
          0,
          0,
          0,
          0,
          0,
          0,
          0,
          0,
          0,
          0,
          0,
          0,
          0,
          0,
          0,
          44.3889521446541,
          170.386884016214,
          420.531096188026,
          854.155556031632,
          1542.62762596079,
          2556.33024958058,
          3946.39039412753,
          5726.59796860044,
          7862.39630620009,
          10271.4117286182,
          12835.4693924137,
          15421.8539391254,
          17901.2472065642,
          20180.2762280129,
          22159.4615011578,
          23810.0178876227,
          25135.1958749616,
          26287.3138693118,
          27439.4318636621
         ],
         "yaxis": "y"
        },
        {
         "hovertemplate": "variable=C01<br>Cycle=%{x}<br>value=%{y}<extra></extra>",
         "legendgroup": "C01",
         "line": {
          "color": "rgb(141,211,199)",
          "dash": "solid"
         },
         "marker": {
          "symbol": "circle"
         },
         "mode": "lines",
         "name": "C01",
         "showlegend": true,
         "type": "scattergl",
         "x": [
          1,
          2,
          3,
          4,
          5,
          6,
          7,
          8,
          9,
          10,
          11,
          12,
          13,
          14,
          15,
          16,
          17,
          18,
          19,
          20,
          21,
          22,
          23,
          24,
          25,
          26,
          27,
          28,
          29,
          30,
          31,
          32,
          33,
          34,
          35,
          36,
          37,
          38,
          39,
          40
         ],
         "xaxis": "x",
         "y": [
          0,
          0,
          0,
          0,
          0,
          0,
          0,
          0,
          0,
          0,
          0,
          0,
          0,
          0,
          0,
          0,
          0,
          0,
          0,
          0,
          0,
          38.8473678725165,
          153.514458609484,
          387.09210940815,
          801.691144394668,
          1474.7363890756,
          2486.4755465146,
          3900.74361302646,
          5744.05099991553,
          7990.29006598278,
          10557.6738946942,
          13317.4634166915,
          16112.8614371071,
          18783.7505796869,
          21205.8575047727,
          23262.1839737191,
          24903.0075134956,
          26148.4567340073,
          27152.9989344259,
          28157.5411348445
         ],
         "yaxis": "y"
        },
        {
         "hovertemplate": "variable=C02<br>Cycle=%{x}<br>value=%{y}<extra></extra>",
         "legendgroup": "C02",
         "line": {
          "color": "rgb(255,255,179)",
          "dash": "solid"
         },
         "marker": {
          "symbol": "circle"
         },
         "mode": "lines",
         "name": "C02",
         "showlegend": true,
         "type": "scattergl",
         "x": [
          1,
          2,
          3,
          4,
          5,
          6,
          7,
          8,
          9,
          10,
          11,
          12,
          13,
          14,
          15,
          16,
          17,
          18,
          19,
          20,
          21,
          22,
          23,
          24,
          25,
          26,
          27,
          28,
          29,
          30,
          31,
          32,
          33,
          34,
          35,
          36,
          37,
          38,
          39,
          40
         ],
         "xaxis": "x",
         "y": [
          0,
          0,
          0,
          0,
          0,
          0,
          0,
          0,
          0,
          0,
          0,
          0,
          0,
          0,
          0,
          0,
          0,
          0,
          0,
          0,
          0,
          0,
          31.0071917677579,
          119.726044752832,
          297.255147409566,
          608.080408363434,
          1107.24420173906,
          1850.71969268133,
          2880.55820506523,
          4209.28640294691,
          5809.38830741958,
          7612.25107111301,
          9518.93765142809,
          11420.2365581286,
          13225.2535970853,
          14858.0786004144,
          16283.1340319883,
          17505.7517900186,
          18728.369548049,
          19950.9873060793
         ],
         "yaxis": "y"
        },
        {
         "hovertemplate": "variable=C03<br>Cycle=%{x}<br>value=%{y}<extra></extra>",
         "legendgroup": "C03",
         "line": {
          "color": "rgb(190,186,218)",
          "dash": "solid"
         },
         "marker": {
          "symbol": "circle"
         },
         "mode": "lines",
         "name": "C03",
         "showlegend": true,
         "type": "scattergl",
         "x": [
          1,
          2,
          3,
          4,
          5,
          6,
          7,
          8,
          9,
          10,
          11,
          12,
          13,
          14,
          15,
          16,
          17,
          18,
          19,
          20,
          21,
          22,
          23,
          24,
          25,
          26,
          27,
          28,
          29,
          30,
          31,
          32,
          33,
          34,
          35,
          36,
          37,
          38,
          39,
          40
         ],
         "xaxis": "x",
         "y": [
          0,
          0,
          0,
          0,
          0,
          0,
          0,
          0,
          0,
          0,
          0,
          0,
          0,
          0,
          0,
          0,
          0,
          0,
          0,
          0,
          0,
          53.9965491111615,
          211.948514018321,
          530.841683722296,
          1090.08512673126,
          1984.34104793515,
          3306.195565342,
          5122.05672708332,
          7448.12727559751,
          10237.3059622192,
          13382.0500016809,
          16731.4245330181,
          20122.2499303885,
          23398.9748684083,
          26432.159988727,
          29144.4873494864,
          31522.4526402919,
          33607.5094720112,
          35516.7837526543,
          37418.4614805277
         ],
         "yaxis": "y"
        },
        {
         "hovertemplate": "variable=C04<br>Cycle=%{x}<br>value=%{y}<extra></extra>",
         "legendgroup": "C04",
         "line": {
          "color": "rgb(251,128,114)",
          "dash": "solid"
         },
         "marker": {
          "symbol": "circle"
         },
         "mode": "lines",
         "name": "C04",
         "showlegend": true,
         "type": "scattergl",
         "x": [
          1,
          2,
          3,
          4,
          5,
          6,
          7,
          8,
          9,
          10,
          11,
          12,
          13,
          14,
          15,
          16,
          17,
          18,
          19,
          20,
          21,
          22,
          23,
          24,
          25,
          26,
          27,
          28,
          29,
          30,
          31,
          32,
          33,
          34,
          35,
          36,
          37,
          38,
          39,
          40
         ],
         "xaxis": "x",
         "y": [
          0,
          0,
          0,
          0,
          0,
          0,
          0,
          0,
          0,
          0,
          0,
          0,
          0,
          0,
          0,
          0,
          0,
          0,
          0,
          0,
          0,
          41.4040976696131,
          160.508499009767,
          398.307179672168,
          811.202578274019,
          1465.94008114487,
          2427.09878250476,
          3739.67320120409,
          5411.44394879991,
          7401.66005559075,
          9620.96928573229,
          11943.6867648361,
          14229.7378718188,
          16351.3348298873,
          18221.5897712176,
          19786.6700171176,
          21039.8523868467,
          22010.7543207712,
          22981.6562546958,
          23952.5581886204
         ],
         "yaxis": "y"
        },
        {
         "hovertemplate": "variable=C05<br>Cycle=%{x}<br>value=%{y}<extra></extra>",
         "legendgroup": "C05",
         "line": {
          "color": "rgb(128,177,211)",
          "dash": "solid"
         },
         "marker": {
          "symbol": "circle"
         },
         "mode": "lines",
         "name": "C05",
         "showlegend": true,
         "type": "scattergl",
         "x": [
          1,
          2,
          3,
          4,
          5,
          6,
          7,
          8,
          9,
          10,
          11,
          12,
          13,
          14,
          15,
          16,
          17,
          18,
          19,
          20,
          21,
          22,
          23,
          24,
          25,
          26,
          27,
          28,
          29,
          30,
          31,
          32,
          33,
          34,
          35,
          36,
          37,
          38,
          39,
          40
         ],
         "xaxis": "x",
         "y": [
          0,
          0,
          0,
          0,
          0,
          0,
          0,
          0,
          0,
          0,
          0,
          0,
          0,
          0,
          0,
          0,
          0,
          0,
          0,
          0,
          0,
          55.017521880334,
          213.838719743138,
          530.829307693435,
          1079.15911972076,
          1942.88734521261,
          3199.65758671987,
          4899.03230402924,
          7043.35137081236,
          9578.59164837403,
          12399.8305532423,
          15369.167248883101,
          18341.0918481629,
          21183.655444809,
          23795.0748120414,
          26119.9108037168,
          28157.8097235485,
          29950.7878487631,
          31602.6446283114,
          33250.1410175527
         ],
         "yaxis": "y"
        },
        {
         "hovertemplate": "variable=C06<br>Cycle=%{x}<br>value=%{y}<extra></extra>",
         "legendgroup": "C06",
         "line": {
          "color": "rgb(253,180,98)",
          "dash": "solid"
         },
         "marker": {
          "symbol": "circle"
         },
         "mode": "lines",
         "name": "C06",
         "showlegend": true,
         "type": "scattergl",
         "x": [
          1,
          2,
          3,
          4,
          5,
          6,
          7,
          8,
          9,
          10,
          11,
          12,
          13,
          14,
          15,
          16,
          17,
          18,
          19,
          20,
          21,
          22,
          23,
          24,
          25,
          26,
          27,
          28,
          29,
          30,
          31,
          32,
          33,
          34,
          35,
          36,
          37,
          38,
          39,
          40
         ],
         "xaxis": "x",
         "y": [
          0,
          0,
          0,
          0,
          0,
          0,
          0,
          0,
          0,
          0,
          0,
          0,
          0,
          0,
          0,
          0,
          0,
          0,
          0,
          0,
          0,
          62.4963826967046,
          240.060785389391,
          589.442712485403,
          1184.03131635669,
          2104.6675455033,
          3421.71898812891,
          5174.37096213201,
          7354.14908009724,
          9899.11125593797,
          12701.8783089069,
          15628.3300478388,
          18541.668814258,
          21320.1500859482,
          23870.4165488766,
          26142.1484393315,
          28136.1898758964,
          29893.968234552,
          31514.7478028918,
          33130.9635506039
         ],
         "yaxis": "y"
        },
        {
         "hovertemplate": "variable=C07<br>Cycle=%{x}<br>value=%{y}<extra></extra>",
         "legendgroup": "C07",
         "line": {
          "color": "rgb(179,222,105)",
          "dash": "solid"
         },
         "marker": {
          "symbol": "circle"
         },
         "mode": "lines",
         "name": "C07",
         "showlegend": true,
         "type": "scattergl",
         "x": [
          1,
          2,
          3,
          4,
          5,
          6,
          7,
          8,
          9,
          10,
          11,
          12,
          13,
          14,
          15,
          16,
          17,
          18,
          19,
          20,
          21,
          22,
          23,
          24,
          25,
          26,
          27,
          28,
          29,
          30,
          31,
          32,
          33,
          34,
          35,
          36,
          37,
          38,
          39,
          40
         ],
         "xaxis": "x",
         "y": [
          0,
          0,
          0,
          0,
          0,
          0,
          0,
          0,
          0,
          0,
          0,
          0,
          0,
          0,
          0,
          0,
          0,
          0,
          0,
          0,
          0,
          54.3164659753975,
          211.942293080566,
          528.281687125583,
          1079.71060899562,
          1956.9673689652,
          3248.19250499521,
          5015.33815824409,
          7271.87165207493,
          9970.61631348393,
          13006.5657174907,
          16234.0000525623,
          19495.4801837488,
          22641.4675990812,
          25567.6022032338,
          28156.8893723734,
          30380.4357977448,
          32233.533812666,
          33901.2940887586,
          35569.0543648512
         ],
         "yaxis": "y"
        },
        {
         "hovertemplate": "variable=C08<br>Cycle=%{x}<br>value=%{y}<extra></extra>",
         "legendgroup": "C08",
         "line": {
          "color": "rgb(252,205,229)",
          "dash": "solid"
         },
         "marker": {
          "symbol": "circle"
         },
         "mode": "lines",
         "name": "C08",
         "showlegend": true,
         "type": "scattergl",
         "x": [
          1,
          2,
          3,
          4,
          5,
          6,
          7,
          8,
          9,
          10,
          11,
          12,
          13,
          14,
          15,
          16,
          17,
          18,
          19,
          20,
          21,
          22,
          23,
          24,
          25,
          26,
          27,
          28,
          29,
          30,
          31,
          32,
          33,
          34,
          35,
          36,
          37,
          38,
          39,
          40
         ],
         "xaxis": "x",
         "y": [
          0,
          0,
          0,
          0,
          0,
          0,
          0,
          0,
          0,
          0,
          0,
          0,
          0,
          0,
          0,
          0,
          0,
          0,
          0,
          0,
          0,
          64.3444396980117,
          248.145300856811,
          611.994257531466,
          1235.91753288967,
          2210.14287669174,
          3616.16981425409,
          5503.56806076563,
          7870.19401556139,
          10653.9531611088,
          13739.6232540349,
          16978.6933125636,
          20217.4967844007,
          23317.7962985598,
          26187.7242716909,
          28736.8314919625,
          30949.7414074647,
          32836.5026716211,
          34557.0613882385,
          36277.6201048559
         ],
         "yaxis": "y"
        },
        {
         "hovertemplate": "variable=C09<br>Cycle=%{x}<br>value=%{y}<extra></extra>",
         "legendgroup": "C09",
         "line": {
          "color": "rgb(217,217,217)",
          "dash": "solid"
         },
         "marker": {
          "symbol": "circle"
         },
         "mode": "lines",
         "name": "C09",
         "showlegend": true,
         "type": "scattergl",
         "x": [
          1,
          2,
          3,
          4,
          5,
          6,
          7,
          8,
          9,
          10,
          11,
          12,
          13,
          14,
          15,
          16,
          17,
          18,
          19,
          20,
          21,
          22,
          23,
          24,
          25,
          26,
          27,
          28,
          29,
          30,
          31,
          32,
          33,
          34,
          35,
          36,
          37,
          38,
          39,
          40
         ],
         "xaxis": "x",
         "y": [
          0,
          0,
          0,
          0,
          0,
          0,
          0,
          0,
          0,
          0,
          0,
          0,
          0,
          0,
          0,
          0,
          0,
          0,
          0,
          0,
          0,
          41.3989998759718,
          162.834674155968,
          409.297198133803,
          844.808796492621,
          1547.9572407039,
          2598.36854132338,
          4056.8973111361,
          5945.13395365399,
          8232.07406484789,
          10833.2100741282,
          13623.1480150091,
          16459.8746636507,
          19206.0188718467,
          21763.0556161753,
          24032.5416443942,
          25989.1213260318,
          27653.8917944618,
          29318.6622628918,
          30983.4327313218
         ],
         "yaxis": "y"
        },
        {
         "hovertemplate": "variable=C10<br>Cycle=%{x}<br>value=%{y}<extra></extra>",
         "legendgroup": "C10",
         "line": {
          "color": "rgb(188,128,189)",
          "dash": "solid"
         },
         "marker": {
          "symbol": "circle"
         },
         "mode": "lines",
         "name": "C10",
         "showlegend": true,
         "type": "scattergl",
         "x": [
          1,
          2,
          3,
          4,
          5,
          6,
          7,
          8,
          9,
          10,
          11,
          12,
          13,
          14,
          15,
          16,
          17,
          18,
          19,
          20,
          21,
          22,
          23,
          24,
          25,
          26,
          27,
          28,
          29,
          30,
          31,
          32,
          33,
          34,
          35,
          36,
          37,
          38,
          39,
          40
         ],
         "xaxis": "x",
         "y": [
          0,
          0,
          0,
          0,
          0,
          0,
          0,
          0,
          0,
          0,
          0,
          0,
          0,
          0,
          0,
          0,
          0,
          0,
          0,
          0,
          0,
          52.7913737961766,
          206.335577460371,
          514.537675286699,
          1050.84742715205,
          1901.38057150488,
          3148.28408612442,
          4847.68890421643,
          7009.45535680369,
          9586.43682367289,
          12477.5010826924,
          15544.0636946675,
          18635.7104016354,
          21612.0450282075,
          24374.7868790241,
          26831.2979233849,
          28958.2951769137,
          30766.4035477859,
          32402.7331320052,
          34039.0627162244
         ],
         "yaxis": "y"
        },
        {
         "hovertemplate": "variable=C11<br>Cycle=%{x}<br>value=%{y}<extra></extra>",
         "legendgroup": "C11",
         "line": {
          "color": "rgb(204,235,197)",
          "dash": "solid"
         },
         "marker": {
          "symbol": "circle"
         },
         "mode": "lines",
         "name": "C11",
         "showlegend": true,
         "type": "scattergl",
         "x": [
          1,
          2,
          3,
          4,
          5,
          6,
          7,
          8,
          9,
          10,
          11,
          12,
          13,
          14,
          15,
          16,
          17,
          18,
          19,
          20,
          21,
          22,
          23,
          24,
          25,
          26,
          27,
          28,
          29,
          30,
          31,
          32,
          33,
          34,
          35,
          36,
          37,
          38,
          39,
          40
         ],
         "xaxis": "x",
         "y": [
          0,
          0,
          0,
          0,
          0,
          0,
          0,
          0,
          0,
          0,
          0,
          0,
          0,
          0,
          0,
          0,
          0,
          0,
          0,
          0,
          0,
          43.3590472488578,
          167.483465579889,
          414.93044129216,
          844.514715369813,
          1526.23988233598,
          2527.91765112644,
          3897.08659382547,
          5643.71591647747,
          7730.38286570086,
          10074.1006120268,
          12559.7863674564,
          15061.9491471742,
          17462.9208168706,
          19680.8338017712,
          21635.3272340846,
          23308.0837016709,
          24706.1571299773,
          25960.5543923116,
          27214.9516546459
         ],
         "yaxis": "y"
        },
        {
         "hovertemplate": "variable=C12<br>Cycle=%{x}<br>value=%{y}<extra></extra>",
         "legendgroup": "C12",
         "line": {
          "color": "rgb(255,237,111)",
          "dash": "solid"
         },
         "marker": {
          "symbol": "circle"
         },
         "mode": "lines",
         "name": "C12",
         "showlegend": true,
         "type": "scattergl",
         "x": [
          1,
          2,
          3,
          4,
          5,
          6,
          7,
          8,
          9,
          10,
          11,
          12,
          13,
          14,
          15,
          16,
          17,
          18,
          19,
          20,
          21,
          22,
          23,
          24,
          25,
          26,
          27,
          28,
          29,
          30,
          31,
          32,
          33,
          34,
          35,
          36,
          37,
          38,
          39,
          40
         ],
         "xaxis": "x",
         "y": [
          0,
          0,
          0,
          0,
          0,
          0,
          0,
          0,
          0,
          0,
          0,
          0,
          0,
          0,
          0,
          0,
          0,
          0,
          0,
          0,
          0,
          45.8002191799276,
          177.638941589259,
          440.900201531916,
          897.76680730182,
          1621.45273455724,
          2682.06983823801,
          4128.0866274859,
          5968.95128445538,
          8165.3454594252,
          10631.6175180134,
          13249.8259404428,
          15892.0119340445,
          18437.5197256228,
          20802.4859316912,
          22898.4608839112,
          24705.3447239031,
          26223.8630323592,
          27596.8596000815,
          28969.8561678038
         ],
         "yaxis": "y"
        },
        {
         "hovertemplate": "variable=D01<br>Cycle=%{x}<br>value=%{y}<extra></extra>",
         "legendgroup": "D01",
         "line": {
          "color": "rgb(141,211,199)",
          "dash": "solid"
         },
         "marker": {
          "symbol": "circle"
         },
         "mode": "lines",
         "name": "D01",
         "showlegend": true,
         "type": "scattergl",
         "x": [
          1,
          2,
          3,
          4,
          5,
          6,
          7,
          8,
          9,
          10,
          11,
          12,
          13,
          14,
          15,
          16,
          17,
          18,
          19,
          20,
          21,
          22,
          23,
          24,
          25,
          26,
          27,
          28,
          29,
          30,
          31,
          32,
          33,
          34,
          35,
          36,
          37,
          38,
          39,
          40
         ],
         "xaxis": "x",
         "y": [
          0,
          0,
          0,
          0,
          0,
          0,
          0,
          0,
          0,
          0,
          0,
          0,
          0,
          0,
          0,
          0,
          0,
          0,
          0,
          0,
          0,
          59.5114997534982,
          228.11500102826,
          559.943557012284,
          1125.63835865477,
          2003.84507940049,
          3263.62634091991,
          4943.0793976989,
          7031.29162910183,
          9460.28710107622,
          12110.8722896961,
          14831.5528186751,
          17464.8481024817,
          19875.0054658209,
          21976.0132188443,
          23717.4029785599,
          25099.8201328228,
          26176.9870145231,
          27071.8947278342,
          27966.8024411453
         ],
         "yaxis": "y"
        },
        {
         "hovertemplate": "variable=D02<br>Cycle=%{x}<br>value=%{y}<extra></extra>",
         "legendgroup": "D02",
         "line": {
          "color": "rgb(255,255,179)",
          "dash": "solid"
         },
         "marker": {
          "symbol": "circle"
         },
         "mode": "lines",
         "name": "D02",
         "showlegend": true,
         "type": "scattergl",
         "x": [
          1,
          2,
          3,
          4,
          5,
          6,
          7,
          8,
          9,
          10,
          11,
          12,
          13,
          14,
          15,
          16,
          17,
          18,
          19,
          20,
          21,
          22,
          23,
          24,
          25,
          26,
          27,
          28,
          29,
          30,
          31,
          32,
          33,
          34,
          35,
          36,
          37,
          38,
          39,
          40
         ],
         "xaxis": "x",
         "y": [
          0,
          0,
          0,
          0,
          0,
          0,
          0,
          0,
          0,
          0,
          0,
          0,
          0,
          0,
          0,
          0,
          0,
          0,
          0,
          0,
          0,
          33.0943405985513,
          130.069862330544,
          327.142443645255,
          676.699622259544,
          1244.27749705505,
          2097.29145622226,
          3287.18220595012,
          4830.25978345305,
          6693.94464672983,
          8794.8712621399,
          11012.0021813483,
          13211.1467077026,
          15273.3101814986,
          17120.7181394589,
          18713.8479316723,
          20058.1185408324,
          21193.9587176757,
          22211.7890065386,
          23229.6192954014
         ],
         "yaxis": "y"
        },
        {
         "hovertemplate": "variable=D03<br>Cycle=%{x}<br>value=%{y}<extra></extra>",
         "legendgroup": "D03",
         "line": {
          "color": "rgb(190,186,218)",
          "dash": "solid"
         },
         "marker": {
          "symbol": "circle"
         },
         "mode": "lines",
         "name": "D03",
         "showlegend": true,
         "type": "scattergl",
         "x": [
          1,
          2,
          3,
          4,
          5,
          6,
          7,
          8,
          9,
          10,
          11,
          12,
          13,
          14,
          15,
          16,
          17,
          18,
          19,
          20,
          21,
          22,
          23,
          24,
          25,
          26,
          27,
          28,
          29,
          30,
          31,
          32,
          33,
          34,
          35,
          36,
          37,
          38,
          39,
          40
         ],
         "xaxis": "x",
         "y": [
          0,
          0,
          0,
          0,
          0,
          0,
          0,
          0,
          0,
          0,
          0,
          0,
          0,
          0,
          0,
          0,
          0,
          0,
          0,
          0,
          0,
          59.8383869281561,
          230.407424530426,
          568.172686116954,
          1148.40699889051,
          2055.61581379741,
          3365.19219640454,
          5122.66698032359,
          7325.69183490646,
          9917.23562758728,
          12794.2111904118,
          15824.9403374086,
          18871.4001315684,
          21803.0892196667,
          24527.8159343019,
          26930.3328220497,
          28977.6087359148,
          30659.9496892042,
          32157.3804573145,
          33654.8112254248
         ],
         "yaxis": "y"
        },
        {
         "hovertemplate": "variable=D04<br>Cycle=%{x}<br>value=%{y}<extra></extra>",
         "legendgroup": "D04",
         "line": {
          "color": "rgb(251,128,114)",
          "dash": "solid"
         },
         "marker": {
          "symbol": "circle"
         },
         "mode": "lines",
         "name": "D04",
         "showlegend": true,
         "type": "scattergl",
         "x": [
          1,
          2,
          3,
          4,
          5,
          6,
          7,
          8,
          9,
          10,
          11,
          12,
          13,
          14,
          15,
          16,
          17,
          18,
          19,
          20,
          21,
          22,
          23,
          24,
          25,
          26,
          27,
          28,
          29,
          30,
          31,
          32,
          33,
          34,
          35,
          36,
          37,
          38,
          39,
          40
         ],
         "xaxis": "x",
         "y": [
          0,
          0,
          0,
          0,
          0,
          0,
          0,
          0,
          0,
          0,
          0,
          0,
          0,
          0,
          0,
          0,
          0,
          0,
          0,
          0,
          29.1035946002867,
          117.502412288796,
          301.357949575062,
          634.548761680961,
          1186.70877264222,
          2033.33033313761,
          3238.9259789558,
          4836.96167910661,
          6812.97169097203,
          9097.866008088,
          11574.6566502475,
          14098.255972198,
          16524.2344613955,
          18735.9515259969,
          20666.9036795348,
          22292.4342791599,
          23633.066335905,
          24744.3338288555,
          25727.8937148382,
          26711.4536008209
         ],
         "yaxis": "y"
        },
        {
         "hovertemplate": "variable=D05<br>Cycle=%{x}<br>value=%{y}<extra></extra>",
         "legendgroup": "D05",
         "line": {
          "color": "rgb(128,177,211)",
          "dash": "solid"
         },
         "marker": {
          "symbol": "circle"
         },
         "mode": "lines",
         "name": "D05",
         "showlegend": true,
         "type": "scattergl",
         "x": [
          1,
          2,
          3,
          4,
          5,
          6,
          7,
          8,
          9,
          10,
          11,
          12,
          13,
          14,
          15,
          16,
          17,
          18,
          19,
          20,
          21,
          22,
          23,
          24,
          25,
          26,
          27,
          28,
          29,
          30,
          31,
          32,
          33,
          34,
          35,
          36,
          37,
          38,
          39,
          40
         ],
         "xaxis": "x",
         "y": [
          0,
          0,
          0,
          0,
          0,
          0,
          0,
          0,
          0,
          0,
          0,
          0,
          0,
          0,
          0,
          0,
          0,
          0,
          0,
          0,
          0,
          60.7285742141099,
          237.045023318634,
          589.56901010348,
          1198.87978882788,
          2156.29745811559,
          3544.63517891305,
          5414.69838719303,
          7765.08191819129,
          10533.4667623747,
          13603.4537666952,
          16824.4670484325,
          20039.5543355933,
          23106.1259879536,
          25928.394561391,
          28409.6440986363,
          30530.9120505466,
          32302.7403244611,
          33893.6365935094,
          35484.5328625577
         ],
         "yaxis": "y"
        },
        {
         "hovertemplate": "variable=D06<br>Cycle=%{x}<br>value=%{y}<extra></extra>",
         "legendgroup": "D06",
         "line": {
          "color": "rgb(253,180,98)",
          "dash": "solid"
         },
         "marker": {
          "symbol": "circle"
         },
         "mode": "lines",
         "name": "D06",
         "showlegend": true,
         "type": "scattergl",
         "x": [
          1,
          2,
          3,
          4,
          5,
          6,
          7,
          8,
          9,
          10,
          11,
          12,
          13,
          14,
          15,
          16,
          17,
          18,
          19,
          20,
          21,
          22,
          23,
          24,
          25,
          26,
          27,
          28,
          29,
          30,
          31,
          32,
          33,
          34,
          35,
          36,
          37,
          38,
          39,
          40
         ],
         "xaxis": "x",
         "y": [
          0,
          0,
          0,
          0,
          0,
          0,
          0,
          0,
          0,
          0,
          0,
          0,
          0,
          0,
          0,
          0,
          0,
          0,
          0,
          0,
          33.3512940092171,
          136.66949046965,
          353.458218707689,
          747.720021779776,
          1401.13414178712,
          2401.15787077792,
          3821.70426865143,
          5701.90090880768,
          8029.98429898771,
          10738.6638303524,
          13714.280836043,
          16816.5234989557,
          19903.5111255707,
          22848.5055144604,
          25567.7416497008,
          27974.4148691524,
          30051.731290549,
          31808.7207879027,
          33399.8241782488,
          34990.927568595
         ],
         "yaxis": "y"
        },
        {
         "hovertemplate": "variable=D07<br>Cycle=%{x}<br>value=%{y}<extra></extra>",
         "legendgroup": "D07",
         "line": {
          "color": "rgb(179,222,105)",
          "dash": "solid"
         },
         "marker": {
          "symbol": "circle"
         },
         "mode": "lines",
         "name": "D07",
         "showlegend": true,
         "type": "scattergl",
         "x": [
          1,
          2,
          3,
          4,
          5,
          6,
          7,
          8,
          9,
          10,
          11,
          12,
          13,
          14,
          15,
          16,
          17,
          18,
          19,
          20,
          21,
          22,
          23,
          24,
          25,
          26,
          27,
          28,
          29,
          30,
          31,
          32,
          33,
          34,
          35,
          36,
          37,
          38,
          39,
          40
         ],
         "xaxis": "x",
         "y": [
          0,
          0,
          0,
          0,
          0,
          0,
          0,
          0,
          0,
          0,
          0,
          0,
          0,
          0,
          0,
          0,
          0,
          0,
          0,
          0,
          43.3960965548094,
          174.21456514926,
          443.608040495349,
          925.792819547321,
          1713.95486744204,
          2905.57543309671,
          4580.02287557987,
          6773.89081491191,
          9463.02951179171,
          12559.6880783448,
          15925.7668176457,
          19397.8282510127,
          22819.4920590293,
          26055.972873994,
          29025.1377042798,
          31625.0638034895,
          33846.1934257511,
          35689.3537549802,
          37357.0877759009,
          39024.8217968215
         ],
         "yaxis": "y"
        },
        {
         "hovertemplate": "variable=D08<br>Cycle=%{x}<br>value=%{y}<extra></extra>",
         "legendgroup": "D08",
         "line": {
          "color": "rgb(252,205,229)",
          "dash": "solid"
         },
         "marker": {
          "symbol": "circle"
         },
         "mode": "lines",
         "name": "D08",
         "showlegend": true,
         "type": "scattergl",
         "x": [
          1,
          2,
          3,
          4,
          5,
          6,
          7,
          8,
          9,
          10,
          11,
          12,
          13,
          14,
          15,
          16,
          17,
          18,
          19,
          20,
          21,
          22,
          23,
          24,
          25,
          26,
          27,
          28,
          29,
          30,
          31,
          32,
          33,
          34,
          35,
          36,
          37,
          38,
          39,
          40
         ],
         "xaxis": "x",
         "y": [
          0,
          0,
          0,
          0,
          0,
          0,
          0,
          0,
          0,
          0,
          0,
          0,
          0,
          0,
          0,
          0,
          0,
          0,
          0,
          0,
          0,
          61.6354281001654,
          240.383207440102,
          597.710658910971,
          1215.89710691678,
          2189.25459655702,
          3605.1000165013,
          5519.58126053792,
          7936.48369363286,
          10797.4759385194,
          13987.8753208394,
          17356.2181881014,
          20743.2833754613,
          24002.2732838812,
          27033.2443105631,
          29729.732851698,
          32068.8246284828,
          34052.0894706864,
          35856.238776177,
          37660.3880816676
         ],
         "yaxis": "y"
        },
        {
         "hovertemplate": "variable=D09<br>Cycle=%{x}<br>value=%{y}<extra></extra>",
         "legendgroup": "D09",
         "line": {
          "color": "rgb(217,217,217)",
          "dash": "solid"
         },
         "marker": {
          "symbol": "circle"
         },
         "mode": "lines",
         "name": "D09",
         "showlegend": true,
         "type": "scattergl",
         "x": [
          1,
          2,
          3,
          4,
          5,
          6,
          7,
          8,
          9,
          10,
          11,
          12,
          13,
          14,
          15,
          16,
          17,
          18,
          19,
          20,
          21,
          22,
          23,
          24,
          25,
          26,
          27,
          28,
          29,
          30,
          31,
          32,
          33,
          34,
          35,
          36,
          37,
          38,
          39,
          40
         ],
         "xaxis": "x",
         "y": [
          0,
          0,
          0,
          0,
          0,
          0,
          0,
          0,
          0,
          0,
          0,
          0,
          0,
          0,
          0,
          0,
          0,
          0,
          0,
          0,
          0,
          52.8743796935286,
          205.258604541227,
          509.013289716393,
          1033.98219974204,
          1860.48777438688,
          3062.80068223206,
          4688.4902178481,
          6739.8242527169,
          9164.7023127255,
          11861.6923281206,
          14697.3215685348,
          17530.9042102529,
          20236.6298122385,
          22730.407456913,
          24942.8135950488,
          26863.0955911407,
          28511.6652241379,
          30013.3547419777,
          31515.0442598176
         ],
         "yaxis": "y"
        },
        {
         "hovertemplate": "variable=D10<br>Cycle=%{x}<br>value=%{y}<extra></extra>",
         "legendgroup": "D10",
         "line": {
          "color": "rgb(188,128,189)",
          "dash": "solid"
         },
         "marker": {
          "symbol": "circle"
         },
         "mode": "lines",
         "name": "D10",
         "showlegend": true,
         "type": "scattergl",
         "x": [
          1,
          2,
          3,
          4,
          5,
          6,
          7,
          8,
          9,
          10,
          11,
          12,
          13,
          14,
          15,
          16,
          17,
          18,
          19,
          20,
          21,
          22,
          23,
          24,
          25,
          26,
          27,
          28,
          29,
          30,
          31,
          32,
          33,
          34,
          35,
          36,
          37,
          38,
          39,
          40
         ],
         "xaxis": "x",
         "y": [
          0,
          0,
          0,
          0,
          0,
          0,
          0,
          0,
          0,
          0,
          0,
          0,
          0,
          0,
          0,
          0,
          0,
          0,
          0,
          0,
          0,
          52.9004996802632,
          205.133893885379,
          507.889902779981,
          1029.11961661217,
          1845.93656637157,
          3028.49529875804,
          4619.90844853932,
          6619.17917521388,
          8973.94773570778,
          11586.2400206873,
          14329.1831434872,
          17069.5140446972,
          19687.2628778949,
          22100.5176511852,
          24239.4333994457,
          26087.6085478464,
          27664.2936858151,
          29087.7086503278,
          30511.1236148405
         ],
         "yaxis": "y"
        },
        {
         "hovertemplate": "variable=D11<br>Cycle=%{x}<br>value=%{y}<extra></extra>",
         "legendgroup": "D11",
         "line": {
          "color": "rgb(204,235,197)",
          "dash": "solid"
         },
         "marker": {
          "symbol": "circle"
         },
         "mode": "lines",
         "name": "D11",
         "showlegend": true,
         "type": "scattergl",
         "x": [
          1,
          2,
          3,
          4,
          5,
          6,
          7,
          8,
          9,
          10,
          11,
          12,
          13,
          14,
          15,
          16,
          17,
          18,
          19,
          20,
          21,
          22,
          23,
          24,
          25,
          26,
          27,
          28,
          29,
          30,
          31,
          32,
          33,
          34,
          35,
          36,
          37,
          38,
          39,
          40
         ],
         "xaxis": "x",
         "y": [
          0,
          0,
          0,
          0,
          0,
          0,
          0,
          0,
          0,
          0,
          0,
          0,
          0,
          0,
          0,
          0,
          0,
          0,
          0,
          0,
          0,
          53.850768417009,
          206.992777404778,
          509.773923817536,
          1028.90224628165,
          1839.86543026781,
          3010.99762340046,
          4583.56584672512,
          6554.95668652527,
          8871.44402283914,
          11433.5661114579,
          14113.1996372039,
          16777.9874664595,
          19309.8323768625,
          21619.5427833083,
          23661.22769234,
          25438.1103424409,
          26991.904533667,
          28417.1296967967,
          29838.2269224805
         ],
         "yaxis": "y"
        },
        {
         "hovertemplate": "variable=D12<br>Cycle=%{x}<br>value=%{y}<extra></extra>",
         "legendgroup": "D12",
         "line": {
          "color": "rgb(255,237,111)",
          "dash": "solid"
         },
         "marker": {
          "symbol": "circle"
         },
         "mode": "lines",
         "name": "D12",
         "showlegend": true,
         "type": "scattergl",
         "x": [
          1,
          2,
          3,
          4,
          5,
          6,
          7,
          8,
          9,
          10,
          11,
          12,
          13,
          14,
          15,
          16,
          17,
          18,
          19,
          20,
          21,
          22,
          23,
          24,
          25,
          26,
          27,
          28,
          29,
          30,
          31,
          32,
          33,
          34,
          35,
          36,
          37,
          38,
          39,
          40
         ],
         "xaxis": "x",
         "y": [
          0,
          0,
          0,
          0,
          0,
          0,
          0,
          0,
          0,
          0,
          0,
          0,
          0,
          0,
          0,
          0,
          0,
          0,
          0,
          0,
          0,
          57.7478191065578,
          222.084004143684,
          546.436607369969,
          1100.52734374215,
          1962.09105292155,
          3200.09007576669,
          4854.54885911261,
          6920.24207862584,
          9340.44511900432,
          12013.3136502481,
          14809.606953445,
          17597.3996863579,
          20258.9524251248,
          22717.3833429441,
          24895.3176124918,
          26781.6905942145,
          28384.8165499633,
          29846.3631649756,
          31307.9097799879
         ],
         "yaxis": "y"
        },
        {
         "hovertemplate": "variable=E01<br>Cycle=%{x}<br>value=%{y}<extra></extra>",
         "legendgroup": "E01",
         "line": {
          "color": "rgb(141,211,199)",
          "dash": "solid"
         },
         "marker": {
          "symbol": "circle"
         },
         "mode": "lines",
         "name": "E01",
         "showlegend": true,
         "type": "scattergl",
         "x": [
          1,
          2,
          3,
          4,
          5,
          6,
          7,
          8,
          9,
          10,
          11,
          12,
          13,
          14,
          15,
          16,
          17,
          18,
          19,
          20,
          21,
          22,
          23,
          24,
          25,
          26,
          27,
          28,
          29,
          30,
          31,
          32,
          33,
          34,
          35,
          36,
          37,
          38,
          39,
          40
         ],
         "xaxis": "x",
         "y": [
          0,
          0,
          0,
          0,
          0,
          0,
          0,
          0,
          0,
          0,
          0,
          0,
          0,
          0,
          0,
          0,
          0,
          0,
          0,
          0,
          38.7597653653129,
          154.038625180709,
          389.82121286798,
          808.815296004437,
          1488.01889918375,
          2505.37862950446,
          3919.32267436461,
          5746.73914471037,
          7947.60986347336,
          10423.1157650123,
          13029.6255509612,
          15606.2108654081,
          18007.3034625867,
          20129.8482600121,
          21928.6572736036,
          23407.9563877396,
          24612.1617310357,
          25612.8004766735,
          26506.5992942328,
          27400.3981117922
         ],
         "yaxis": "y"
        },
        {
         "hovertemplate": "variable=E02<br>Cycle=%{x}<br>value=%{y}<extra></extra>",
         "legendgroup": "E02",
         "line": {
          "color": "rgb(255,255,179)",
          "dash": "solid"
         },
         "marker": {
          "symbol": "circle"
         },
         "mode": "lines",
         "name": "E02",
         "showlegend": true,
         "type": "scattergl",
         "x": [
          1,
          2,
          3,
          4,
          5,
          6,
          7,
          8,
          9,
          10,
          11,
          12,
          13,
          14,
          15,
          16,
          17,
          18,
          19,
          20,
          21,
          22,
          23,
          24,
          25,
          26,
          27,
          28,
          29,
          30,
          31,
          32,
          33,
          34,
          35,
          36,
          37,
          38,
          39,
          40
         ],
         "xaxis": "x",
         "y": [
          0,
          0,
          0,
          0,
          0,
          0,
          0,
          0,
          0,
          0,
          0,
          0,
          0,
          0,
          0,
          0,
          0,
          0,
          0,
          0,
          24.1293604776081,
          96.4951666321681,
          246.26997925908,
          517.175393046213,
          966.088609915281,
          1655.03307017848,
          2636.49106878726,
          3935.83988432748,
          5537.1331614424,
          7378.10384826968,
          9357.36406384626,
          11354.5152184279,
          13257.0594043674,
          14982.7248674802,
          16493.3805552549,
          17789.6149434311,
          18906.5894313929,
          19893.18583554,
          20820.2060310464,
          21747.2262265528
         ],
         "yaxis": "y"
        },
        {
         "hovertemplate": "variable=E03<br>Cycle=%{x}<br>value=%{y}<extra></extra>",
         "legendgroup": "E03",
         "line": {
          "color": "rgb(190,186,218)",
          "dash": "solid"
         },
         "marker": {
          "symbol": "circle"
         },
         "mode": "lines",
         "name": "E03",
         "showlegend": true,
         "type": "scattergl",
         "x": [
          1,
          2,
          3,
          4,
          5,
          6,
          7,
          8,
          9,
          10,
          11,
          12,
          13,
          14,
          15,
          16,
          17,
          18,
          19,
          20,
          21,
          22,
          23,
          24,
          25,
          26,
          27,
          28,
          29,
          30,
          31,
          32,
          33,
          34,
          35,
          36,
          37,
          38,
          39,
          40
         ],
         "xaxis": "x",
         "y": [
          0,
          0,
          0,
          0,
          0,
          0,
          0,
          0,
          0,
          0,
          0,
          0,
          0,
          0,
          0,
          0,
          0,
          0,
          0,
          0,
          57.9665525896703,
          228.444492817914,
          571.57801474595,
          1167.92997296557,
          2109.84984735651,
          3481.87453417398,
          5336.51815694997,
          7673.36624871654,
          10429.0928138621,
          13484.3788029258,
          16685.5506741831,
          19871.2363524236,
          22899.7083537508,
          25654.5322320609,
          28047.0173011555,
          30033.3573214003,
          31624.9508180699,
          32887.2089409762,
          33952.3385260482,
          35008.6169628393
         ],
         "yaxis": "y"
        },
        {
         "hovertemplate": "variable=E04<br>Cycle=%{x}<br>value=%{y}<extra></extra>",
         "legendgroup": "E04",
         "line": {
          "color": "rgb(251,128,114)",
          "dash": "solid"
         },
         "marker": {
          "symbol": "circle"
         },
         "mode": "lines",
         "name": "E04",
         "showlegend": true,
         "type": "scattergl",
         "x": [
          1,
          2,
          3,
          4,
          5,
          6,
          7,
          8,
          9,
          10,
          11,
          12,
          13,
          14,
          15,
          16,
          17,
          18,
          19,
          20,
          21,
          22,
          23,
          24,
          25,
          26,
          27,
          28,
          29,
          30,
          31,
          32,
          33,
          34,
          35,
          36,
          37,
          38,
          39,
          40
         ],
         "xaxis": "x",
         "y": [
          0,
          0,
          0,
          0,
          0,
          0,
          0,
          0,
          0,
          0,
          0,
          0,
          0,
          0,
          0,
          0,
          0,
          0,
          0,
          0,
          54.775880259672,
          214.037252295207,
          532.830221336209,
          1085.08442321667,
          1955.85975241745,
          3223.70535931062,
          4937.74335968425,
          7095.88465534805,
          9632.3598515055,
          12421.6478600859,
          15297.5754943149,
          18085.2494135235,
          20638.7446611947,
          22866.136300934,
          24741.267651378,
          26288.49333709,
          27577.6710043611,
          28687.489060319,
          29724.1362596729,
          30760.7834590268
         ],
         "yaxis": "y"
        },
        {
         "hovertemplate": "variable=E05<br>Cycle=%{x}<br>value=%{y}<extra></extra>",
         "legendgroup": "E05",
         "line": {
          "color": "rgb(128,177,211)",
          "dash": "solid"
         },
         "marker": {
          "symbol": "circle"
         },
         "mode": "lines",
         "name": "E05",
         "showlegend": true,
         "type": "scattergl",
         "x": [
          1,
          2,
          3,
          4,
          5,
          6,
          7,
          8,
          9,
          10,
          11,
          12,
          13,
          14,
          15,
          16,
          17,
          18,
          19,
          20,
          21,
          22,
          23,
          24,
          25,
          26,
          27,
          28,
          29,
          30,
          31,
          32,
          33,
          34,
          35,
          36,
          37,
          38,
          39,
          40
         ],
         "xaxis": "x",
         "y": [
          0,
          0,
          0,
          0,
          0,
          0,
          0,
          0,
          0,
          0,
          0,
          0,
          0,
          0,
          0,
          0,
          0,
          0,
          0,
          0,
          59.9615059432422,
          233.97723611456,
          582.068322555548,
          1184.38122379216,
          2132.08363808347,
          3508.01250336534,
          5362.49230751219,
          7692.79549963467,
          10434.2774484078,
          13467.4861339375,
          16639.3009068993,
          19791.3734841887,
          22787.9431427748,
          25529.9552654084,
          27970.633032811,
          30075.3507741885,
          31865.4478891265,
          33380.9490979658,
          34759.6431182443,
          36138.3371385229
         ],
         "yaxis": "y"
        },
        {
         "hovertemplate": "variable=E06<br>Cycle=%{x}<br>value=%{y}<extra></extra>",
         "legendgroup": "E06",
         "line": {
          "color": "rgb(253,180,98)",
          "dash": "solid"
         },
         "marker": {
          "symbol": "circle"
         },
         "mode": "lines",
         "name": "E06",
         "showlegend": true,
         "type": "scattergl",
         "x": [
          1,
          2,
          3,
          4,
          5,
          6,
          7,
          8,
          9,
          10,
          11,
          12,
          13,
          14,
          15,
          16,
          17,
          18,
          19,
          20,
          21,
          22,
          23,
          24,
          25,
          26,
          27,
          28,
          29,
          30,
          31,
          32,
          33,
          34,
          35,
          36,
          37,
          38,
          39,
          40
         ],
         "xaxis": "x",
         "y": [
          0,
          0,
          0,
          0,
          0,
          0,
          0,
          0,
          0,
          0,
          0,
          0,
          0,
          0,
          0,
          0,
          0,
          0,
          0,
          0,
          68.5721415546857,
          266.160429390837,
          657.777366272379,
          1327.25797966325,
          2366.39022664947,
          3854.64652274289,
          5835.70616631368,
          8298.39584235215,
          11170.4983664245,
          14328.2349743218,
          17617.5326786949,
          20878.8346214614,
          23968.5789833389,
          26767.6243651181,
          29204.8174317419,
          31194.665838186,
          32722.5847676742,
          33823.2818250136,
          34686.9598875392,
          35550.6379500647
         ],
         "yaxis": "y"
        },
        {
         "hovertemplate": "variable=E07<br>Cycle=%{x}<br>value=%{y}<extra></extra>",
         "legendgroup": "E07",
         "line": {
          "color": "rgb(179,222,105)",
          "dash": "solid"
         },
         "marker": {
          "symbol": "circle"
         },
         "mode": "lines",
         "name": "E07",
         "showlegend": true,
         "type": "scattergl",
         "x": [
          1,
          2,
          3,
          4,
          5,
          6,
          7,
          8,
          9,
          10,
          11,
          12,
          13,
          14,
          15,
          16,
          17,
          18,
          19,
          20,
          21,
          22,
          23,
          24,
          25,
          26,
          27,
          28,
          29,
          30,
          31,
          32,
          33,
          34,
          35,
          36,
          37,
          38,
          39,
          40
         ],
         "xaxis": "x",
         "y": [
          0,
          0,
          0,
          0,
          0,
          0,
          0,
          0,
          0,
          0,
          0,
          0,
          0,
          0,
          0,
          0,
          0,
          0,
          0,
          0,
          73.0993365178228,
          282.283003550706,
          695.937157332907,
          1403.53793936633,
          2504.57950800541,
          4085.92960139135,
          6195.39391998467,
          8820.36322988322,
          11879.7001845519,
          15234.290699123,
          18713.2808170425,
          22145.2483057358,
          25388.1907515844,
          28340.602519601,
          30956.963413674,
          33192.8903618551,
          35068.7819949625,
          36622.1731000079,
          38017.1464179375,
          39412.1197358671
         ],
         "yaxis": "y"
        },
        {
         "hovertemplate": "variable=E08<br>Cycle=%{x}<br>value=%{y}<extra></extra>",
         "legendgroup": "E08",
         "line": {
          "color": "rgb(252,205,229)",
          "dash": "solid"
         },
         "marker": {
          "symbol": "circle"
         },
         "mode": "lines",
         "name": "E08",
         "showlegend": true,
         "type": "scattergl",
         "x": [
          1,
          2,
          3,
          4,
          5,
          6,
          7,
          8,
          9,
          10,
          11,
          12,
          13,
          14,
          15,
          16,
          17,
          18,
          19,
          20,
          21,
          22,
          23,
          24,
          25,
          26,
          27,
          28,
          29,
          30,
          31,
          32,
          33,
          34,
          35,
          36,
          37,
          38,
          39,
          40
         ],
         "xaxis": "x",
         "y": [
          0,
          0,
          0,
          0,
          0,
          0,
          0,
          0,
          0,
          0,
          0,
          0,
          0,
          0,
          0,
          0,
          0,
          0,
          0,
          0,
          72.3865629894162,
          279.527607775891,
          688.672206022244,
          1387.95453052188,
          2475.78728291783,
          4039.01969301223,
          6127.30043181984,
          8731.78037127826,
          11776.0214414635,
          15125.1521859574,
          18610.253006461,
          22059.0832780013,
          25326.2533191634,
          28306.9209514695,
          30953.1933810704,
          33225.1346400293,
          35146.1656343965,
          36757.5523501749,
          38216.9341858088,
          39676.3160214427
         ],
         "yaxis": "y"
        },
        {
         "hovertemplate": "variable=E09<br>Cycle=%{x}<br>value=%{y}<extra></extra>",
         "legendgroup": "E09",
         "line": {
          "color": "rgb(217,217,217)",
          "dash": "solid"
         },
         "marker": {
          "symbol": "circle"
         },
         "mode": "lines",
         "name": "E09",
         "showlegend": true,
         "type": "scattergl",
         "x": [
          1,
          2,
          3,
          4,
          5,
          6,
          7,
          8,
          9,
          10,
          11,
          12,
          13,
          14,
          15,
          16,
          17,
          18,
          19,
          20,
          21,
          22,
          23,
          24,
          25,
          26,
          27,
          28,
          29,
          30,
          31,
          32,
          33,
          34,
          35,
          36,
          37,
          38,
          39,
          40
         ],
         "xaxis": "x",
         "y": [
          0,
          0,
          0,
          0,
          0,
          0,
          0,
          0,
          0,
          0,
          0,
          0,
          0,
          0,
          0,
          0,
          0,
          0,
          0,
          0,
          50.4453337532575,
          197.603589613428,
          493.31502202683,
          1007.89625767625,
          1822.83246984891,
          3013.97189451344,
          4629.85432439328,
          6672.07860605604,
          9085.58426817359,
          11763.7650463452,
          14567.0853605395,
          17349.4858309553,
          19985.1759123916,
          22383.0876518233,
          24501.091293502,
          26311.0296953285,
          27835.5355821425,
          29114.0519286706,
          30270.9094161286,
          31427.7669035866
         ],
         "yaxis": "y"
        },
        {
         "hovertemplate": "variable=E10<br>Cycle=%{x}<br>value=%{y}<extra></extra>",
         "legendgroup": "E10",
         "line": {
          "color": "rgb(188,128,189)",
          "dash": "solid"
         },
         "marker": {
          "symbol": "circle"
         },
         "mode": "lines",
         "name": "E10",
         "showlegend": true,
         "type": "scattergl",
         "x": [
          1,
          2,
          3,
          4,
          5,
          6,
          7,
          8,
          9,
          10,
          11,
          12,
          13,
          14,
          15,
          16,
          17,
          18,
          19,
          20,
          21,
          22,
          23,
          24,
          25,
          26,
          27,
          28,
          29,
          30,
          31,
          32,
          33,
          34,
          35,
          36,
          37,
          38,
          39,
          40
         ],
         "xaxis": "x",
         "y": [
          0,
          0,
          0,
          0,
          0,
          0,
          0,
          0,
          0,
          0,
          0,
          0,
          0,
          0,
          0,
          0,
          0,
          0,
          0,
          0,
          57.5529062176691,
          222.531137735067,
          549.889597299429,
          1112.39387505754,
          1992.09399785383,
          3262.72528902583,
          4967.83468921339,
          7102.02315370968,
          9603.26102829822,
          12360.2252226728,
          15232.0975056542,
          18074.7890863313,
          20766.1036870375,
          23217.0184411765,
          25385.6721760638,
          27236.6489968011,
          28786.5789513732,
          30070.574474357,
          31220.2792152099,
          32369.9839560628
         ],
         "yaxis": "y"
        },
        {
         "hovertemplate": "variable=E11<br>Cycle=%{x}<br>value=%{y}<extra></extra>",
         "legendgroup": "E11",
         "line": {
          "color": "rgb(204,235,197)",
          "dash": "solid"
         },
         "marker": {
          "symbol": "circle"
         },
         "mode": "lines",
         "name": "E11",
         "showlegend": true,
         "type": "scattergl",
         "x": [
          1,
          2,
          3,
          4,
          5,
          6,
          7,
          8,
          9,
          10,
          11,
          12,
          13,
          14,
          15,
          16,
          17,
          18,
          19,
          20,
          21,
          22,
          23,
          24,
          25,
          26,
          27,
          28,
          29,
          30,
          31,
          32,
          33,
          34,
          35,
          36,
          37,
          38,
          39,
          40
         ],
         "xaxis": "x",
         "y": [
          0,
          0,
          0,
          0,
          0,
          0,
          0,
          0,
          0,
          0,
          0,
          0,
          0,
          0,
          0,
          0,
          0,
          0,
          0,
          0,
          53.770741849213,
          209.500803587221,
          520.744771482251,
          1059.44120257063,
          1907.96387502715,
          3141.52221073792,
          4806.32904207092,
          6900.65392585049,
          9366.15516138069,
          12094.1727117126,
          14945.2870705823,
          17774.9801753342,
          20458.3989451844,
          22904.120231922,
          25067.5668854368,
          26918.8158212231,
          28474.804145094,
          29776.6481763966,
          30944.3301421749,
          32112.0121079533
         ],
         "yaxis": "y"
        },
        {
         "hovertemplate": "variable=E12<br>Cycle=%{x}<br>value=%{y}<extra></extra>",
         "legendgroup": "E12",
         "line": {
          "color": "rgb(255,237,111)",
          "dash": "solid"
         },
         "marker": {
          "symbol": "circle"
         },
         "mode": "lines",
         "name": "E12",
         "showlegend": true,
         "type": "scattergl",
         "x": [
          1,
          2,
          3,
          4,
          5,
          6,
          7,
          8,
          9,
          10,
          11,
          12,
          13,
          14,
          15,
          16,
          17,
          18,
          19,
          20,
          21,
          22,
          23,
          24,
          25,
          26,
          27,
          28,
          29,
          30,
          31,
          32,
          33,
          34,
          35,
          36,
          37,
          38,
          39,
          40
         ],
         "xaxis": "x",
         "y": [
          0,
          0,
          0,
          0,
          0,
          0,
          0,
          0,
          0,
          0,
          0,
          0,
          0,
          0,
          0,
          0,
          0,
          0,
          0,
          0,
          54.5656276003867,
          210.023989846186,
          517.535651461602,
          1045.1241913159,
          1870.08941001817,
          3062.28139887599,
          4663.47919964061,
          6670.14668059849,
          9025.69357152256,
          11626.613417397,
          14340.9277049251,
          17032.2655522201,
          19583.1771365624,
          21907.757269341,
          23956.1855828906,
          25717.7858093305,
          27219.71796772,
          28518.6332719515,
          29704.5407111579,
          30887.5295313032
         ],
         "yaxis": "y"
        },
        {
         "hovertemplate": "variable=F01<br>Cycle=%{x}<br>value=%{y}<extra></extra>",
         "legendgroup": "F01",
         "line": {
          "color": "rgb(141,211,199)",
          "dash": "solid"
         },
         "marker": {
          "symbol": "circle"
         },
         "mode": "lines",
         "name": "F01",
         "showlegend": true,
         "type": "scattergl",
         "x": [
          1,
          2,
          3,
          4,
          5,
          6,
          7,
          8,
          9,
          10,
          11,
          12,
          13,
          14,
          15,
          16,
          17,
          18,
          19,
          20,
          21,
          22,
          23,
          24,
          25,
          26,
          27,
          28,
          29,
          30,
          31,
          32,
          33,
          34,
          35,
          36,
          37,
          38,
          39,
          40
         ],
         "xaxis": "x",
         "y": [
          0,
          0,
          0,
          0,
          0,
          0,
          0,
          0,
          0,
          0,
          0,
          0,
          0,
          0,
          0,
          0,
          0,
          0,
          0,
          0,
          51.164017822111,
          199.60757047094,
          497.165227572469,
          1014.75045240663,
          1834.9642581452,
          3034.12628665435,
          4658.2461250321,
          6700.1982674896,
          9087.5865923071,
          11688.5882218341,
          14335.870635941,
          16861.1010115314,
          19129.7536245641,
          21064.4789171789,
          22649.8738907903,
          23921.0662763069,
          24944.3946831092,
          25777.2612908651,
          26610.1278986209,
          27442.9945063767
         ],
         "yaxis": "y"
        },
        {
         "hovertemplate": "variable=F02<br>Cycle=%{x}<br>value=%{y}<extra></extra>",
         "legendgroup": "F02",
         "line": {
          "color": "rgb(255,255,179)",
          "dash": "solid"
         },
         "marker": {
          "symbol": "circle"
         },
         "mode": "lines",
         "name": "F02",
         "showlegend": true,
         "type": "scattergl",
         "x": [
          1,
          2,
          3,
          4,
          5,
          6,
          7,
          8,
          9,
          10,
          11,
          12,
          13,
          14,
          15,
          16,
          17,
          18,
          19,
          20,
          21,
          22,
          23,
          24,
          25,
          26,
          27,
          28,
          29,
          30,
          31,
          32,
          33,
          34,
          35,
          36,
          37,
          38,
          39,
          40
         ],
         "xaxis": "x",
         "y": [
          0,
          0,
          0,
          0,
          0,
          0,
          0,
          0,
          0,
          0,
          0,
          0,
          0,
          0,
          0,
          0,
          0,
          0,
          0,
          0,
          32.6288452857439,
          127.823492721801,
          321.818267459406,
          668.957304669139,
          1239.74761493188,
          2109.82007499511,
          3340.40628155671,
          4955.96254273065,
          6926.87545556566,
          9165.43861491935,
          11538.6336255193,
          13896.5040600661,
          16106.9375186012,
          18081.6308727061,
          19788.4804261167,
          21241.9241838163,
          22496.8493429005,
          23616.0286643586,
          24683.2014446793,
          25750.3742249999
         ],
         "yaxis": "y"
        },
        {
         "hovertemplate": "variable=F03<br>Cycle=%{x}<br>value=%{y}<extra></extra>",
         "legendgroup": "F03",
         "line": {
          "color": "rgb(190,186,218)",
          "dash": "solid"
         },
         "marker": {
          "symbol": "circle"
         },
         "mode": "lines",
         "name": "F03",
         "showlegend": true,
         "type": "scattergl",
         "x": [
          1,
          2,
          3,
          4,
          5,
          6,
          7,
          8,
          9,
          10,
          11,
          12,
          13,
          14,
          15,
          16,
          17,
          18,
          19,
          20,
          21,
          22,
          23,
          24,
          25,
          26,
          27,
          28,
          29,
          30,
          31,
          32,
          33,
          34,
          35,
          36,
          37,
          38,
          39,
          40
         ],
         "xaxis": "x",
         "y": [
          0,
          0,
          0,
          0,
          0,
          0,
          0,
          0,
          0,
          0,
          0,
          0,
          0,
          0,
          0,
          0,
          0,
          0,
          78.1163621969031,
          310.519710549285,
          781.034121052854,
          1601.633951486,
          2899.3583819843,
          4788.74032512159,
          7336.14258496464,
          10528.4529784429,
          14259.8085795455,
          18343.3565810227,
          22543.777319725,
          26621.5664906386,
          30374.5487542424,
          33662.4224290412,
          36414.3656603298,
          38619.7450004981,
          40310.9434382596,
          41550.5791098457,
          42425.4777280645,
          43041.0432940559,
          43519.8061926237,
          43996.8818783777
         ],
         "yaxis": "y"
        },
        {
         "hovertemplate": "variable=F04<br>Cycle=%{x}<br>value=%{y}<extra></extra>",
         "legendgroup": "F04",
         "line": {
          "color": "rgb(251,128,114)",
          "dash": "solid"
         },
         "marker": {
          "symbol": "circle"
         },
         "mode": "lines",
         "name": "F04",
         "showlegend": true,
         "type": "scattergl",
         "x": [
          1,
          2,
          3,
          4,
          5,
          6,
          7,
          8,
          9,
          10,
          11,
          12,
          13,
          14,
          15,
          16,
          17,
          18,
          19,
          20,
          21,
          22,
          23,
          24,
          25,
          26,
          27,
          28,
          29,
          30,
          31,
          32,
          33,
          34,
          35,
          36,
          37,
          38,
          39,
          40
         ],
         "xaxis": "x",
         "y": [
          0,
          0,
          0,
          0,
          0,
          0,
          0,
          0,
          0,
          0,
          0,
          0,
          0,
          0,
          0,
          0,
          0,
          0,
          0,
          0,
          48.0385305516996,
          183.532805649752,
          452.358696133688,
          920.110635277025,
          1667.28083433193,
          2773.39700255362,
          4293.80830488026,
          6235.91446940062,
          8544.18333014621,
          11102.7454784142,
          13756.5815672804,
          16344.9718689555,
          18736.5520598176,
          20852.0231509336,
          22669.7014074915,
          24215.7280021961,
          25545.3517754578,
          26707.2406002845,
          27869.1294251113,
          29031.018249938
         ],
         "yaxis": "y"
        },
        {
         "hovertemplate": "variable=F05<br>Cycle=%{x}<br>value=%{y}<extra></extra>",
         "legendgroup": "F05",
         "line": {
          "color": "rgb(128,177,211)",
          "dash": "solid"
         },
         "marker": {
          "symbol": "circle"
         },
         "mode": "lines",
         "name": "F05",
         "showlegend": true,
         "type": "scattergl",
         "x": [
          1,
          2,
          3,
          4,
          5,
          6,
          7,
          8,
          9,
          10,
          11,
          12,
          13,
          14,
          15,
          16,
          17,
          18,
          19,
          20,
          21,
          22,
          23,
          24,
          25,
          26,
          27,
          28,
          29,
          30,
          31,
          32,
          33,
          34,
          35,
          36,
          37,
          38,
          39,
          40
         ],
         "xaxis": "x",
         "y": [
          0,
          0,
          0,
          0,
          0,
          0,
          0,
          0,
          0,
          0,
          0,
          0,
          0,
          0,
          0,
          0,
          0,
          0,
          0,
          48.4567516818234,
          194.736157465676,
          497.307156534965,
          1041.317757591,
          1933.07490538819,
          3281.10291763622,
          5167.48730526021,
          7618.0993153113,
          10582.5144195859,
          13933.467511131,
          17488.026836006,
          21042.9545656124,
          24413.5081733241,
          27464.5542803983,
          30118.5647706093,
          32362.2410288241,
          34191.6849063408,
          35659.3694587661,
          36827.3729973761,
          37855.4474446056,
          38883.5218918351
         ],
         "yaxis": "y"
        },
        {
         "hovertemplate": "variable=F06<br>Cycle=%{x}<br>value=%{y}<extra></extra>",
         "legendgroup": "F06",
         "line": {
          "color": "rgb(253,180,98)",
          "dash": "solid"
         },
         "marker": {
          "symbol": "circle"
         },
         "mode": "lines",
         "name": "F06",
         "showlegend": true,
         "type": "scattergl",
         "x": [
          1,
          2,
          3,
          4,
          5,
          6,
          7,
          8,
          9,
          10,
          11,
          12,
          13,
          14,
          15,
          16,
          17,
          18,
          19,
          20,
          21,
          22,
          23,
          24,
          25,
          26,
          27,
          28,
          29,
          30,
          31,
          32,
          33,
          34,
          35,
          36,
          37,
          38,
          39,
          40
         ],
         "xaxis": "x",
         "y": [
          0,
          0,
          0,
          0,
          0,
          0,
          0,
          0,
          0,
          0,
          0,
          0,
          0,
          0,
          0,
          0,
          0,
          0,
          0,
          52.8007415292075,
          209.381329148957,
          529.283934229192,
          1097.36911833429,
          2017.22807213313,
          3392.08112418459,
          5296.98130511941,
          7751.0786146268,
          10700.670153289,
          14020.1881891444,
          17531.8199138028,
          21038.2536829915,
          24355.651797738,
          27337.717678173,
          29887.612059424,
          31969.7746746352,
          33568.1127945787,
          34712.0568305677,
          35484.1073044929,
          36039.2246540842,
          36594.3420036754
         ],
         "yaxis": "y"
        },
        {
         "hovertemplate": "variable=F07<br>Cycle=%{x}<br>value=%{y}<extra></extra>",
         "legendgroup": "F07",
         "line": {
          "color": "rgb(179,222,105)",
          "dash": "solid"
         },
         "marker": {
          "symbol": "circle"
         },
         "mode": "lines",
         "name": "F07",
         "showlegend": true,
         "type": "scattergl",
         "x": [
          1,
          2,
          3,
          4,
          5,
          6,
          7,
          8,
          9,
          10,
          11,
          12,
          13,
          14,
          15,
          16,
          17,
          18,
          19,
          20,
          21,
          22,
          23,
          24,
          25,
          26,
          27,
          28,
          29,
          30,
          31,
          32,
          33,
          34,
          35,
          36,
          37,
          38,
          39,
          40
         ],
         "xaxis": "x",
         "y": [
          0,
          0,
          0,
          0,
          0,
          0,
          0,
          0,
          0,
          0,
          0,
          0,
          0,
          0,
          0,
          0,
          0,
          0,
          0,
          61.3596017573605,
          244.986130746123,
          621.035452632338,
          1287.69140476337,
          2363.13815133998,
          3962.53305479549,
          6164.61375210401,
          8980.30451612265,
          12334.879060188,
          16071.443920012,
          19979.305206779,
          23836.7957908539,
          27451.7617830109,
          30692.748644195,
          33491.197108645,
          35844.0827014221,
          37747.0453107781,
          39254.3030299417,
          40428.9030236841,
          41447.0222087539,
          42465.1413938237
         ],
         "yaxis": "y"
        },
        {
         "hovertemplate": "variable=F08<br>Cycle=%{x}<br>value=%{y}<extra></extra>",
         "legendgroup": "F08",
         "line": {
          "color": "rgb(252,205,229)",
          "dash": "solid"
         },
         "marker": {
          "symbol": "circle"
         },
         "mode": "lines",
         "name": "F08",
         "showlegend": true,
         "type": "scattergl",
         "x": [
          1,
          2,
          3,
          4,
          5,
          6,
          7,
          8,
          9,
          10,
          11,
          12,
          13,
          14,
          15,
          16,
          17,
          18,
          19,
          20,
          21,
          22,
          23,
          24,
          25,
          26,
          27,
          28,
          29,
          30,
          31,
          32,
          33,
          34,
          35,
          36,
          37,
          38,
          39,
          40
         ],
         "xaxis": "x",
         "y": [
          0,
          0,
          0,
          0,
          0,
          0,
          0,
          0,
          0,
          0,
          0,
          0,
          0,
          0,
          0,
          0,
          0,
          0,
          0,
          51.7290861152005,
          207.816716945896,
          529.463748563696,
          1103.91910293392,
          2038.02023226744,
          3438.42722082106,
          5382.8454709003,
          7891.24570223158,
          10907.603606835,
          14300.8124907307,
          17886.7081223474,
          21463.5109968503,
          24849.3036441122,
          27911.9749381014,
          30576.2760799151,
          32818.6925935852,
          34662.1706229061,
          36165.9128529866,
          37419.9893794877,
          38536.7478251384,
          39649.8300610064
         ],
         "yaxis": "y"
        },
        {
         "hovertemplate": "variable=F09<br>Cycle=%{x}<br>value=%{y}<extra></extra>",
         "legendgroup": "F09",
         "line": {
          "color": "rgb(217,217,217)",
          "dash": "solid"
         },
         "marker": {
          "symbol": "circle"
         },
         "mode": "lines",
         "name": "F09",
         "showlegend": true,
         "type": "scattergl",
         "x": [
          1,
          2,
          3,
          4,
          5,
          6,
          7,
          8,
          9,
          10,
          11,
          12,
          13,
          14,
          15,
          16,
          17,
          18,
          19,
          20,
          21,
          22,
          23,
          24,
          25,
          26,
          27,
          28,
          29,
          30,
          31,
          32,
          33,
          34,
          35,
          36,
          37,
          38,
          39,
          40
         ],
         "xaxis": "x",
         "y": [
          0,
          0,
          0,
          0,
          0,
          0,
          0,
          0,
          0,
          0,
          0,
          0,
          0,
          0,
          0,
          0,
          0,
          0,
          0,
          50.9751166088215,
          201.488759589373,
          507.190176057508,
          1044.87714117819,
          1904.57236674252,
          3170.21308871461,
          4893.65214285304,
          7071.42051647459,
          9633.62488264432,
          12450.569057323,
          15356.8887446964,
          18184.7666956604,
          20794.6001096907,
          23094.9346423085,
          25045.1731289462,
          26652.6300846252,
          27938.7899534574,
          28953.6553252789,
          29759.8438917839,
          30460.7106267061,
          31161.5773616283
         ],
         "yaxis": "y"
        },
        {
         "hovertemplate": "variable=F10<br>Cycle=%{x}<br>value=%{y}<extra></extra>",
         "legendgroup": "F10",
         "line": {
          "color": "rgb(188,128,189)",
          "dash": "solid"
         },
         "marker": {
          "symbol": "circle"
         },
         "mode": "lines",
         "name": "F10",
         "showlegend": true,
         "type": "scattergl",
         "x": [
          1,
          2,
          3,
          4,
          5,
          6,
          7,
          8,
          9,
          10,
          11,
          12,
          13,
          14,
          15,
          16,
          17,
          18,
          19,
          20,
          21,
          22,
          23,
          24,
          25,
          26,
          27,
          28,
          29,
          30,
          31,
          32,
          33,
          34,
          35,
          36,
          37,
          38,
          39,
          40
         ],
         "xaxis": "x",
         "y": [
          0,
          0,
          0,
          0,
          0,
          0,
          0,
          0,
          0,
          0,
          0,
          0,
          0,
          0,
          0,
          0,
          0,
          0,
          0,
          52.9703024540007,
          211.575954165147,
          536.427491139011,
          1112.69656056838,
          2042.53025220826,
          3424.64108565544,
          5325.49467005979,
          7751.85659004331,
          10635.8544410796,
          13839.5566785904,
          17179.8847946401,
          20465.2740919951,
          23531.0930961839,
          26263.4934223273,
          28604.5761092185,
          30552.09460921,
          32119.3169045263,
          33356.1112796926,
          34331.8873137629,
          35172.1940815584,
          36012.500849354
         ],
         "yaxis": "y"
        },
        {
         "hovertemplate": "variable=F11<br>Cycle=%{x}<br>value=%{y}<extra></extra>",
         "legendgroup": "F11",
         "line": {
          "color": "rgb(204,235,197)",
          "dash": "solid"
         },
         "marker": {
          "symbol": "circle"
         },
         "mode": "lines",
         "name": "F11",
         "showlegend": true,
         "type": "scattergl",
         "x": [
          1,
          2,
          3,
          4,
          5,
          6,
          7,
          8,
          9,
          10,
          11,
          12,
          13,
          14,
          15,
          16,
          17,
          18,
          19,
          20,
          21,
          22,
          23,
          24,
          25,
          26,
          27,
          28,
          29,
          30,
          31,
          32,
          33,
          34,
          35,
          36,
          37,
          38,
          39,
          40
         ],
         "xaxis": "x",
         "y": [
          0,
          0,
          0,
          0,
          0,
          0,
          0,
          0,
          0,
          0,
          0,
          0,
          0,
          0,
          0,
          0,
          0,
          0,
          0,
          44.2177195066884,
          176.19219221058,
          446.478742866552,
          926.843120813013,
          1704.01593732591,
          2862.34791079704,
          4459.11427554766,
          6500.58272950022,
          8928.73136656505,
          11625.1288304401,
          14432.3828032208,
          17185.8737237088,
          19744.9613493522,
          22014.7351417144,
          23949.1882071365,
          25551.1174043363,
          26831.7682845801,
          27838.1101919975,
          28620.6737028092,
          29403.2372136209,
          30185.8007244326
         ],
         "yaxis": "y"
        },
        {
         "hovertemplate": "variable=F12<br>Cycle=%{x}<br>value=%{y}<extra></extra>",
         "legendgroup": "F12",
         "line": {
          "color": "rgb(255,237,111)",
          "dash": "solid"
         },
         "marker": {
          "symbol": "circle"
         },
         "mode": "lines",
         "name": "F12",
         "showlegend": true,
         "type": "scattergl",
         "x": [
          1,
          2,
          3,
          4,
          5,
          6,
          7,
          8,
          9,
          10,
          11,
          12,
          13,
          14,
          15,
          16,
          17,
          18,
          19,
          20,
          21,
          22,
          23,
          24,
          25,
          26,
          27,
          28,
          29,
          30,
          31,
          32,
          33,
          34,
          35,
          36,
          37,
          38,
          39,
          40
         ],
         "xaxis": "x",
         "y": [
          0,
          0,
          0,
          0,
          0,
          0,
          0,
          0,
          0,
          0,
          0,
          0,
          0,
          0,
          0,
          0,
          0,
          0,
          0,
          56.1819567396981,
          221.265627967248,
          554.292267713561,
          1135.29984071346,
          2056.4329376726,
          3401.70736770379,
          5221.13470046476,
          7507.76114729121,
          10187.3164536065,
          13126.2042165705,
          16156.1293224976,
          19107.0812243721,
          21837.6860503533,
          24254.1039603967,
          26312.6776543015,
          28017.6980513848,
          29388.6283001704,
          30473.0505288578,
          31323.0591569326,
          32173.0677850074,
          33023.0764130821
         ],
         "yaxis": "y"
        },
        {
         "hovertemplate": "variable=G01<br>Cycle=%{x}<br>value=%{y}<extra></extra>",
         "legendgroup": "G01",
         "line": {
          "color": "rgb(141,211,199)",
          "dash": "solid"
         },
         "marker": {
          "symbol": "circle"
         },
         "mode": "lines",
         "name": "G01",
         "showlegend": true,
         "type": "scattergl",
         "x": [
          1,
          2,
          3,
          4,
          5,
          6,
          7,
          8,
          9,
          10,
          11,
          12,
          13,
          14,
          15,
          16,
          17,
          18,
          19,
          20,
          21,
          22,
          23,
          24,
          25,
          26,
          27,
          28,
          29,
          30,
          31,
          32,
          33,
          34,
          35,
          36,
          37,
          38,
          39,
          40
         ],
         "xaxis": "x",
         "y": [
          0,
          0,
          0,
          0,
          0,
          42.3692226620788,
          187.330257421429,
          496.397388460992,
          1047.95755889344,
          1928.53386842977,
          3215.46246004808,
          4955.76466662311,
          7148.16936128734,
          9735.52260509276,
          12611.3635463707,
          15638.7108945627,
          18675.0487752691,
          21595.5626890946,
          24307.966269482,
          26757.396869198,
          28922.9902156504,
          30809.0844853568,
          32436.0206584877,
          33832.4491875284,
          35028.9835833468,
          36053.8545284463,
          36931.0794192825,
          37679.3725215116,
          38312.9418338805,
          38843.6786212328,
          39282.7570632382,
          39641.5068993287,
          39931.9375155712,
          40165.0113571185,
          40350.81296256,
          40492.8429307408,
          40598.0639230342,
          40671.7483212799,
          40731.7131547233,
          40791.6779881667
         ],
         "yaxis": "y"
        },
        {
         "hovertemplate": "variable=G02<br>Cycle=%{x}<br>value=%{y}<extra></extra>",
         "legendgroup": "G02",
         "line": {
          "color": "rgb(255,255,179)",
          "dash": "solid"
         },
         "marker": {
          "symbol": "circle"
         },
         "mode": "lines",
         "name": "G02",
         "showlegend": true,
         "type": "scattergl",
         "x": [
          1,
          2,
          3,
          4,
          5,
          6,
          7,
          8,
          9,
          10,
          11,
          12,
          13,
          14,
          15,
          16,
          17,
          18,
          19,
          20,
          21,
          22,
          23,
          24,
          25,
          26,
          27,
          28,
          29,
          30,
          31,
          32,
          33,
          34,
          35,
          36,
          37,
          38,
          39,
          40
         ],
         "xaxis": "x",
         "y": [
          0,
          0,
          0,
          0,
          0,
          40.4990349859947,
          182.137763414656,
          486.828130031946,
          1033.15294682386,
          1907.12822078605,
          3184.75958431883,
          4911.11639340074,
          7082.88644110141,
          9641.60294386833,
          12480.9504399991,
          15465.4979627422,
          18455.3032369919,
          21328.3643620312,
          23994.6151987233,
          26400.5158904902,
          28525.5206936517,
          30373.6361798832,
          31964.532099057302,
          33325.8417192265,
          34487.0180379889,
          35475.6309915992,
          36315.6993300641,
          37026.7732261205,
          37624.8274014094,
          38123.8339069336,
          38536.4768296379,
          38874.7563888349,
          39149.9739093187,
          39372.2157577195,
          39550.4252899542,
          39691.7844768425,
          39802.8935928255,
          39891.7335822955,
          39967.6107788084,
          40043.4879753212
         ],
         "yaxis": "y"
        },
        {
         "hovertemplate": "variable=G03<br>Cycle=%{x}<br>value=%{y}<extra></extra>",
         "legendgroup": "G03",
         "line": {
          "color": "rgb(190,186,218)",
          "dash": "solid"
         },
         "marker": {
          "symbol": "circle"
         },
         "mode": "lines",
         "name": "G03",
         "showlegend": true,
         "type": "scattergl",
         "x": [
          1,
          2,
          3,
          4,
          5,
          6,
          7,
          8,
          9,
          10,
          11,
          12,
          13,
          14,
          15,
          16,
          17,
          18,
          19,
          20,
          21,
          22,
          23,
          24,
          25,
          26,
          27,
          28,
          29,
          30,
          31,
          32,
          33,
          34,
          35,
          36,
          37,
          38,
          39,
          40
         ],
         "xaxis": "x",
         "y": [
          0,
          0,
          0,
          0,
          16.4800153914177,
          91.2325907450008,
          270.485657193621,
          620.075068582103,
          1222.45042996195,
          2165.45304194512,
          3523.69207465445,
          5337.40115350653,
          7596.06587343059,
          10233.344569399,
          13136.3936459747,
          16166.2716028474,
          19182.7453686365,
          22066.383496672,
          24731.9083809704,
          27130.5529325014,
          29245.5206468287,
          31083.6208649365,
          32665.2904952684,
          34018.5854636927,
          35174.6556619486,
          36162.8902614411,
          37008.9172826113,
          37733.818893564,
          38352.3596145522,
          38874.5995391524,
          39309.9369410008,
          39667.5078281861,
          39957.3097451821,
          40190.8309298899,
          40377.2749102719,
          40529.5734102898,
          40652.3048517897,
          40759.4683576051,
          40847.5090316037,
          40935.5497056023
         ],
         "yaxis": "y"
        },
        {
         "hovertemplate": "variable=G04<br>Cycle=%{x}<br>value=%{y}<extra></extra>",
         "legendgroup": "G04",
         "line": {
          "color": "rgb(251,128,114)",
          "dash": "solid"
         },
         "marker": {
          "symbol": "circle"
         },
         "mode": "lines",
         "name": "G04",
         "showlegend": true,
         "type": "scattergl",
         "x": [
          1,
          2,
          3,
          4,
          5,
          6,
          7,
          8,
          9,
          10,
          11,
          12,
          13,
          14,
          15,
          16,
          17,
          18,
          19,
          20,
          21,
          22,
          23,
          24,
          25,
          26,
          27,
          28,
          29,
          30,
          31,
          32,
          33,
          34,
          35,
          36,
          37,
          38,
          39,
          40
         ],
         "xaxis": "x",
         "y": [
          0,
          0,
          0,
          0,
          0,
          0,
          0,
          0,
          0,
          0,
          29.8691253704103,
          125.664710228256,
          328.792276869137,
          699.049617628501,
          1311.66829012588,
          2246.16221926796,
          3568.66813457517,
          5312.32803940065,
          7462.53610276475,
          9953.31862016697,
          12676.5104265351,
          15501.4284439801,
          18298.5864556089,
          20960.1417106034,
          23411.476914662,
          25612.9069342858,
          27554.176502026,
          29245.2586916357,
          30707.142369388,
          31965.2964843006,
          33045.5061879269,
          33971.5582281471,
          34766.2768400469,
          35447.4752200606,
          36026.7464600194,
          36514.8298691603,
          36923.6917343852,
          37271.3915203487,
          37581.4054067085,
          37889.1746488572
         ],
         "yaxis": "y"
        },
        {
         "hovertemplate": "variable=G05<br>Cycle=%{x}<br>value=%{y}<extra></extra>",
         "legendgroup": "G05",
         "line": {
          "color": "rgb(128,177,211)",
          "dash": "solid"
         },
         "marker": {
          "symbol": "circle"
         },
         "mode": "lines",
         "name": "G05",
         "showlegend": true,
         "type": "scattergl",
         "x": [
          1,
          2,
          3,
          4,
          5,
          6,
          7,
          8,
          9,
          10,
          11,
          12,
          13,
          14,
          15,
          16,
          17,
          18,
          19,
          20,
          21,
          22,
          23,
          24,
          25,
          26,
          27,
          28,
          29,
          30,
          31,
          32,
          33,
          34,
          35,
          36,
          37,
          38,
          39,
          40
         ],
         "xaxis": "x",
         "y": [
          0,
          0,
          0,
          0,
          0,
          0,
          0,
          0,
          0,
          0,
          28.7633723605326,
          122.087217473406,
          321.208736100265,
          685.722647853484,
          1290.57466972533,
          2214.88302717397,
          3524.43751925229,
          5252.26187506755,
          7384.18883496626,
          9855.32133030965,
          12559.4370840827,
          15368.1494139951,
          18154.1378483895,
          20810.7762467066,
          23263.3591918674,
          25470.9117626943,
          27421.0442676714,
          29121.1884465794,
          30590.3562886092,
          31853.0709740893,
          32935.3695855266,
          33862.0485806164,
          34654.7577910732,
          35329.6426323442,
          35900.634538193,
          36368.216977903,
          36739.0793695386,
          37024.3243201863,
          37262.636728145,
          37500.9491361036
         ],
         "yaxis": "y"
        },
        {
         "hovertemplate": "variable=G06<br>Cycle=%{x}<br>value=%{y}<extra></extra>",
         "legendgroup": "G06",
         "line": {
          "color": "rgb(253,180,98)",
          "dash": "solid"
         },
         "marker": {
          "symbol": "circle"
         },
         "mode": "lines",
         "name": "G06",
         "showlegend": true,
         "type": "scattergl",
         "x": [
          1,
          2,
          3,
          4,
          5,
          6,
          7,
          8,
          9,
          10,
          11,
          12,
          13,
          14,
          15,
          16,
          17,
          18,
          19,
          20,
          21,
          22,
          23,
          24,
          25,
          26,
          27,
          28,
          29,
          30,
          31,
          32,
          33,
          34,
          35,
          36,
          37,
          38,
          39,
          40
         ],
         "xaxis": "x",
         "y": [
          0,
          0,
          0,
          0,
          0,
          0,
          0,
          0,
          0,
          0,
          33.7792260917284,
          142.56637837451,
          373.724195377919,
          795.018580740045,
          1490.90908197788,
          2549.37223471953,
          4041.72761758799,
          6001.34663006456,
          8408.14981130405,
          11185.3678710938,
          14210.9651559721,
          17339.7453401758,
          20429.0983712619,
          23360.9973794266,
          26054.3936528828,
          28466.7759891234,
          30588.1249645888,
          32430.8814778093,
          34019.643462888,
          35383.6443885595,
          36551.7553827647,
          37549.8007260905,
          38400.6233476841,
          39121.9742357823,
          39731.2187089819,
          40229.124544447,
          40628.5789405794,
          40938.8298822206,
          41209.1749353789,
          41479.5199885371
         ],
         "yaxis": "y"
        },
        {
         "hovertemplate": "variable=G07<br>Cycle=%{x}<br>value=%{y}<extra></extra>",
         "legendgroup": "G07",
         "line": {
          "color": "rgb(179,222,105)",
          "dash": "solid"
         },
         "marker": {
          "symbol": "circle"
         },
         "mode": "lines",
         "name": "G07",
         "showlegend": true,
         "type": "scattergl",
         "x": [
          1,
          2,
          3,
          4,
          5,
          6,
          7,
          8,
          9,
          10,
          11,
          12,
          13,
          14,
          15,
          16,
          17,
          18,
          19,
          20,
          21,
          22,
          23,
          24,
          25,
          26,
          27,
          28,
          29,
          30,
          31,
          32,
          33,
          34,
          35,
          36,
          37,
          38,
          39,
          40
         ],
         "xaxis": "x",
         "y": [
          0,
          0,
          0,
          0,
          0,
          0,
          0,
          0,
          0,
          0,
          0,
          0,
          0,
          52.3952135095897,
          212.984877494848,
          542.951546181574,
          1123.83899445191,
          2048.8973396061,
          3404.50542719934,
          5247.08604911858,
          7583.05618025456,
          10359.708131628,
          13470.1463549093,
          16772.7948616388,
          20117.0405149023,
          23367.2254688115,
          26419.4515863532,
          29208.1789334985,
          31702.8265641549,
          33900.3461452446,
          35816.7974147203,
          37478.6629789887,
          38920.2315396054,
          40171.3051687416,
          41263.4135404407,
          42181.883201599,
          42945.8399346846,
          43550.9396131642,
          44101.5323934781,
          44652.1251737919
         ],
         "yaxis": "y"
        },
        {
         "hovertemplate": "variable=G08<br>Cycle=%{x}<br>value=%{y}<extra></extra>",
         "legendgroup": "G08",
         "line": {
          "color": "rgb(252,205,229)",
          "dash": "solid"
         },
         "marker": {
          "symbol": "circle"
         },
         "mode": "lines",
         "name": "G08",
         "showlegend": true,
         "type": "scattergl",
         "x": [
          1,
          2,
          3,
          4,
          5,
          6,
          7,
          8,
          9,
          10,
          11,
          12,
          13,
          14,
          15,
          16,
          17,
          18,
          19,
          20,
          21,
          22,
          23,
          24,
          25,
          26,
          27,
          28,
          29,
          30,
          31,
          32,
          33,
          34,
          35,
          36,
          37,
          38,
          39,
          40
         ],
         "xaxis": "x",
         "y": [
          0,
          0,
          0,
          0,
          0,
          0,
          0,
          0,
          0,
          0,
          0,
          0,
          0,
          56.4911706197511,
          228.280173716874,
          577.916097650158,
          1185.85583212814,
          2140.6766513935,
          3520.25559290336,
          5369.43423495723,
          7682.44119969586,
          10396.4492493006,
          13399.3235326133,
          16549.9711728574,
          19703.727238277,
          22734.5319391263,
          25549.6624102711,
          28094.2755068495,
          30347.0940918619,
          32312.5169217572,
          34011.4899062916,
          35473.055672197,
          36729.6722768703,
          37809.6999531058,
          38741.0129728745,
          39524.6418088622,
          40179.017250225,
          40712.8455493774,
          41196.1070936099,
          41679.3686378424
         ],
         "yaxis": "y"
        },
        {
         "hovertemplate": "variable=G09<br>Cycle=%{x}<br>value=%{y}<extra></extra>",
         "legendgroup": "G09",
         "line": {
          "color": "rgb(217,217,217)",
          "dash": "solid"
         },
         "marker": {
          "symbol": "circle"
         },
         "mode": "lines",
         "name": "G09",
         "showlegend": true,
         "type": "scattergl",
         "x": [
          1,
          2,
          3,
          4,
          5,
          6,
          7,
          8,
          9,
          10,
          11,
          12,
          13,
          14,
          15,
          16,
          17,
          18,
          19,
          20,
          21,
          22,
          23,
          24,
          25,
          26,
          27,
          28,
          29,
          30,
          31,
          32,
          33,
          34,
          35,
          36,
          37,
          38,
          39,
          40
         ],
         "xaxis": "x",
         "y": [
          0,
          0,
          0,
          0,
          0,
          0,
          0,
          0,
          0,
          0,
          0,
          0,
          0,
          47.0874325415084,
          190.841358921351,
          484.87830654455,
          999.451834726471,
          1813.29141451198,
          2997.50100721733,
          4595.65338087538,
          6607.04039419615,
          8979.97844946782,
          11617.6318060181,
          14394.9256983275,
          17181.5424755406,
          19862.7771405662,
          22353.3318903951,
          24602.3335400189,
          26590.1942246977,
          28320.6596167111,
          29812.023528626,
          31089.6004823586,
          32181.5438618938,
          33113.5589198474,
          33911.8792704992,
          34584.6174587765,
          35152.7329070248,
          35636.9079810243,
          36121.0830550239,
          36605.2581290234
         ],
         "yaxis": "y"
        },
        {
         "hovertemplate": "variable=G10<br>Cycle=%{x}<br>value=%{y}<extra></extra>",
         "legendgroup": "G10",
         "line": {
          "color": "rgb(188,128,189)",
          "dash": "solid"
         },
         "marker": {
          "symbol": "circle"
         },
         "mode": "lines",
         "name": "G10",
         "showlegend": true,
         "type": "scattergl",
         "x": [
          1,
          2,
          3,
          4,
          5,
          6,
          7,
          8,
          9,
          10,
          11,
          12,
          13,
          14,
          15,
          16,
          17,
          18,
          19,
          20,
          21,
          22,
          23,
          24,
          25,
          26,
          27,
          28,
          29,
          30,
          31,
          32,
          33,
          34,
          35,
          36,
          37,
          38,
          39,
          40
         ],
         "xaxis": "x",
         "y": [
          0,
          0,
          0,
          0,
          0,
          0,
          0,
          0,
          0,
          0,
          0,
          0,
          0,
          0,
          0,
          0,
          27.9967378433012,
          118.36733426512,
          311.139315962583,
          664.595241371077,
          1252.98934043925,
          2155.89302217378,
          3440.8652431933,
          5144.34187145299,
          7256.7342016066,
          9717.43487022791,
          12423.2594546251,
          15247.0292078424,
          18059.8832455042,
          20751.698080008,
          23243.6418933603,
          25490.8987203032,
          27478.6300136515,
          29212.74851003,
          30710.9212726257,
          31999.9669074119,
          33116.5376635915,
          34107.0766863064,
          35028.7285139453,
          35948.7268532375
         ],
         "yaxis": "y"
        },
        {
         "hovertemplate": "variable=G11<br>Cycle=%{x}<br>value=%{y}<extra></extra>",
         "legendgroup": "G11",
         "line": {
          "color": "rgb(204,235,197)",
          "dash": "solid"
         },
         "marker": {
          "symbol": "circle"
         },
         "mode": "lines",
         "name": "G11",
         "showlegend": true,
         "type": "scattergl",
         "x": [
          1,
          2,
          3,
          4,
          5,
          6,
          7,
          8,
          9,
          10,
          11,
          12,
          13,
          14,
          15,
          16,
          17,
          18,
          19,
          20,
          21,
          22,
          23,
          24,
          25,
          26,
          27,
          28,
          29,
          30,
          31,
          32,
          33,
          34,
          35,
          36,
          37,
          38,
          39,
          40
         ],
         "xaxis": "x",
         "y": [
          0,
          0,
          0,
          0,
          0,
          0,
          0,
          0,
          0,
          0,
          0,
          0,
          0,
          0,
          0,
          0,
          0,
          59.134883845926,
          232.442464924622,
          577.602239155775,
          1167.67136656829,
          2081.89083033429,
          3388.55006998839,
          5125.09811231562,
          7282.43344999211,
          9799.4876455981,
          12570.955461783,
          15465.7630011016,
          18350.4161681307,
          21110.1283233063,
          23662.2165413779,
          25959.7544009049,
          27988.0478687917,
          29753.4023618948,
          31279.7250941116,
          32579.2361600504,
          33682.8810262472,
          34623.1455459898,
          35483.1368406428,
          36343.1281352959
         ],
         "yaxis": "y"
        },
        {
         "hovertemplate": "variable=G12<br>Cycle=%{x}<br>value=%{y}<extra></extra>",
         "legendgroup": "G12",
         "line": {
          "color": "rgb(255,237,111)",
          "dash": "solid"
         },
         "marker": {
          "symbol": "circle"
         },
         "mode": "lines",
         "name": "G12",
         "showlegend": true,
         "type": "scattergl",
         "x": [
          1,
          2,
          3,
          4,
          5,
          6,
          7,
          8,
          9,
          10,
          11,
          12,
          13,
          14,
          15,
          16,
          17,
          18,
          19,
          20,
          21,
          22,
          23,
          24,
          25,
          26,
          27,
          28,
          29,
          30,
          31,
          32,
          33,
          34,
          35,
          36,
          37,
          38,
          39,
          40
         ],
         "xaxis": "x",
         "y": [
          0,
          0,
          0,
          0,
          0,
          0,
          0,
          0,
          0,
          0,
          0,
          0,
          0,
          0,
          0,
          0,
          26.8345050213846,
          114.286509994324,
          301.422137907068,
          644.874969584827,
          1216.31279886364,
          2092.14006761739,
          3336.67749385754,
          4983.5084121094,
          7021.2587486656,
          9389.25808221981,
          11985.5720872002,
          14685.459618104,
          17363.5068713459,
          19913.2175015503,
          22259.2894535564,
          24360.523047659,
          26205.8575612532,
          27804.2120193062,
          29175.3405053806,
          30347.1452782164,
          31355.3297032941,
          32244.945826754,
          33068.9546385628,
          33891.1651490846
         ],
         "yaxis": "y"
        },
        {
         "hovertemplate": "variable=H01<br>Cycle=%{x}<br>value=%{y}<extra></extra>",
         "legendgroup": "H01",
         "line": {
          "color": "rgb(141,211,199)",
          "dash": "solid"
         },
         "marker": {
          "symbol": "circle"
         },
         "mode": "lines",
         "name": "H01",
         "showlegend": true,
         "type": "scattergl",
         "x": [
          1,
          2,
          3,
          4,
          5,
          6,
          7,
          8,
          9,
          10,
          11,
          12,
          13,
          14,
          15,
          16,
          17,
          18,
          19,
          20,
          21,
          22,
          23,
          24,
          25,
          26,
          27,
          28,
          29,
          30,
          31,
          32,
          33,
          34,
          35,
          36,
          37,
          38,
          39,
          40
         ],
         "xaxis": "x",
         "y": [
          0,
          0,
          0,
          0,
          0,
          0,
          0,
          0,
          0,
          0,
          0,
          0,
          0,
          0,
          0,
          0,
          0,
          0,
          0,
          0,
          0,
          57.1027791470153,
          219.239417651256,
          538.657705262007,
          1083.42432479829,
          1929.06361669696,
          3142.22479548375,
          4761.98530386463,
          6784.68152094834,
          9158.30144119458,
          11789.1707940154,
          14558.2316887037,
          17342.1952114133,
          20029.8145524455,
          22545.3727164143,
          24816.1088727096,
          26825.4942065261,
          28593.3021923809,
          30361.1101782358,
          32128.9181640906
         ],
         "yaxis": "y"
        },
        {
         "hovertemplate": "variable=H02<br>Cycle=%{x}<br>value=%{y}<extra></extra>",
         "legendgroup": "H02",
         "line": {
          "color": "rgb(255,255,179)",
          "dash": "solid"
         },
         "marker": {
          "symbol": "circle"
         },
         "mode": "lines",
         "name": "H02",
         "showlegend": true,
         "type": "scattergl",
         "x": [
          1,
          2,
          3,
          4,
          5,
          6,
          7,
          8,
          9,
          10,
          11,
          12,
          13,
          14,
          15,
          16,
          17,
          18,
          19,
          20,
          21,
          22,
          23,
          24,
          25,
          26,
          27,
          28,
          29,
          30,
          31,
          32,
          33,
          34,
          35,
          36,
          37,
          38,
          39,
          40
         ],
         "xaxis": "x",
         "y": [
          0,
          0,
          0,
          0,
          0,
          0,
          0,
          0,
          0,
          0,
          0,
          0,
          0,
          0,
          0,
          0,
          0,
          0,
          0,
          0,
          0,
          46.2721367066388,
          183.738802120452,
          463.190861512977,
          954.403838156921,
          1739.91769422851,
          2899.91306684084,
          4491.9607287836,
          6531.79056937482,
          8982.21790817512,
          11755.0257444602,
          14725.1204284968,
          17753.8144401291,
          20708.1892160061,
          23492.5311046959,
          26009.056725424,
          28229.6897540857,
          30172.4823496767,
          32115.2749452676,
          34058.0675408586
         ],
         "yaxis": "y"
        },
        {
         "hovertemplate": "variable=H03<br>Cycle=%{x}<br>value=%{y}<extra></extra>",
         "legendgroup": "H03",
         "line": {
          "color": "rgb(190,186,218)",
          "dash": "solid"
         },
         "marker": {
          "symbol": "circle"
         },
         "mode": "lines",
         "name": "H03",
         "showlegend": true,
         "type": "scattergl",
         "x": [
          1,
          2,
          3,
          4,
          5,
          6,
          7,
          8,
          9,
          10,
          11,
          12,
          13,
          14,
          15,
          16,
          17,
          18,
          19,
          20,
          21,
          22,
          23,
          24,
          25,
          26,
          27,
          28,
          29,
          30,
          31,
          32,
          33,
          34,
          35,
          36,
          37,
          38,
          39,
          40
         ],
         "xaxis": "x",
         "y": [
          0,
          0,
          0,
          0,
          0,
          0,
          0,
          0,
          0,
          0,
          0,
          0,
          0,
          0,
          0,
          0,
          0,
          0,
          0,
          0,
          0,
          47.2934327860071,
          183.280332406472,
          456.474503639359,
          935.871844030966,
          1705.44359090598,
          2849.18909081177,
          4430.26035994775,
          6469.91033797214,
          8935.16664207039,
          11740.0836552243,
          14759.3117571671,
          17852.6845148728,
          20882.1231903263,
          23746.62361631,
          26327.0493766696,
          28586.9937496023,
          30509.5667436972,
          32264.3289008387,
          34019.0910579802
         ],
         "yaxis": "y"
        },
        {
         "hovertemplate": "variable=H04<br>Cycle=%{x}<br>value=%{y}<extra></extra>",
         "legendgroup": "H04",
         "line": {
          "color": "rgb(251,128,114)",
          "dash": "solid"
         },
         "marker": {
          "symbol": "circle"
         },
         "mode": "lines",
         "name": "H04",
         "showlegend": true,
         "type": "scattergl",
         "x": [
          1,
          2,
          3,
          4,
          5,
          6,
          7,
          8,
          9,
          10,
          11,
          12,
          13,
          14,
          15,
          16,
          17,
          18,
          19,
          20,
          21,
          22,
          23,
          24,
          25,
          26,
          27,
          28,
          29,
          30,
          31,
          32,
          33,
          34,
          35,
          36,
          37,
          38,
          39,
          40
         ],
         "xaxis": "x",
         "y": [
          0,
          0,
          0,
          0,
          0,
          0,
          0,
          0,
          0,
          0,
          0,
          0,
          0,
          0,
          0,
          0,
          0,
          0,
          0,
          0,
          0,
          0,
          0,
          0,
          49.0048702501289,
          190.075517482679,
          472.852081252714,
          966.238331464704,
          1752.12208175726,
          2910.41225319372,
          4499.1850511139,
          6534.44868018054,
          8979.03151255286,
          11736.2291966162,
          14663.1318606111,
          17613.7898435391,
          20482.3083489146,
          23203.0912856013,
          25811.6132848274,
          28410.4489309155
         ],
         "yaxis": "y"
        },
        {
         "hovertemplate": "variable=H05<br>Cycle=%{x}<br>value=%{y}<extra></extra>",
         "legendgroup": "H05",
         "line": {
          "color": "rgb(128,177,211)",
          "dash": "solid"
         },
         "marker": {
          "symbol": "circle"
         },
         "mode": "lines",
         "name": "H05",
         "showlegend": true,
         "type": "scattergl",
         "x": [
          1,
          2,
          3,
          4,
          5,
          6,
          7,
          8,
          9,
          10,
          11,
          12,
          13,
          14,
          15,
          16,
          17,
          18,
          19,
          20,
          21,
          22,
          23,
          24,
          25,
          26,
          27,
          28,
          29,
          30,
          31,
          32,
          33,
          34,
          35,
          36,
          37,
          38,
          39,
          40
         ],
         "xaxis": "x",
         "y": [
          0,
          0,
          0,
          0,
          0,
          0,
          0,
          0,
          0,
          0,
          0,
          0,
          0,
          0,
          0,
          0,
          0,
          0,
          0,
          0,
          0,
          0,
          0,
          25.5075206464417,
          93.2708264103744,
          221.479508196907,
          433.872291415115,
          757.534687842185,
          1218.13569591688,
          1833.92907474196,
          2610.70136074003,
          3538.78895448912,
          4593.65275059411,
          5737.78626228928,
          6932.4108501072,
          8123.13629002633,
          9275.94982278808,
          10359.8558577327,
          11406.7841619124,
          12453.7124660921
         ],
         "yaxis": "y"
        },
        {
         "hovertemplate": "variable=H06<br>Cycle=%{x}<br>value=%{y}<extra></extra>",
         "legendgroup": "H06",
         "line": {
          "color": "rgb(253,180,98)",
          "dash": "solid"
         },
         "marker": {
          "symbol": "circle"
         },
         "mode": "lines",
         "name": "H06",
         "showlegend": true,
         "type": "scattergl",
         "x": [
          1,
          2,
          3,
          4,
          5,
          6,
          7,
          8,
          9,
          10,
          11,
          12,
          13,
          14,
          15,
          16,
          17,
          18,
          19,
          20,
          21,
          22,
          23,
          24,
          25,
          26,
          27,
          28,
          29,
          30,
          31,
          32,
          33,
          34,
          35,
          36,
          37,
          38,
          39,
          40
         ],
         "xaxis": "x",
         "y": [
          0,
          0,
          0,
          0,
          0,
          0,
          0,
          0,
          0,
          0,
          0,
          0,
          0,
          0,
          0,
          0,
          0,
          0,
          0,
          0,
          0,
          0,
          0,
          34.8764013898181,
          130.537004420351,
          315.218137120765,
          627.146341083207,
          1111.34024907388,
          1811.79278313467,
          2761.47237109027,
          3973.08916399318,
          5433.83111526654,
          7106.91989322432,
          8934.51349498635,
          10856.668973601,
          12787.1747318588,
          14673.7159246259,
          16463.2229945785,
          18205.7302805595,
          19948.2375665406
         ],
         "yaxis": "y"
        },
        {
         "hovertemplate": "variable=H07<br>Cycle=%{x}<br>value=%{y}<extra></extra>",
         "legendgroup": "H07",
         "line": {
          "color": "rgb(179,222,105)",
          "dash": "solid"
         },
         "marker": {
          "symbol": "circle"
         },
         "mode": "lines",
         "name": "H07",
         "showlegend": true,
         "type": "scattergl",
         "x": [
          1,
          2,
          3,
          4,
          5,
          6,
          7,
          8,
          9,
          10,
          11,
          12,
          13,
          14,
          15,
          16,
          17,
          18,
          19,
          20,
          21,
          22,
          23,
          24,
          25,
          26,
          27,
          28,
          29,
          30,
          31,
          32,
          33,
          34,
          35,
          36,
          37,
          38,
          39,
          40
         ],
         "xaxis": "x",
         "y": [
          0,
          0,
          0,
          0,
          0,
          0,
          0,
          0,
          0,
          0,
          0,
          0,
          0,
          0,
          0,
          0,
          0,
          0,
          0,
          0,
          0,
          0,
          0,
          0,
          0,
          0,
          0,
          28.8005424421149,
          118.800675161028,
          302.593306392133,
          621.408524401284,
          1121.44380811629,
          1847.00917351529,
          2831.72274993697,
          4090.43411671653,
          5614.31962650005,
          7367.57386229644,
          9310.15011923403,
          11252.7263761716,
          13195.3026331092
         ],
         "yaxis": "y"
        },
        {
         "hovertemplate": "variable=H08<br>Cycle=%{x}<br>value=%{y}<extra></extra>",
         "legendgroup": "H08",
         "line": {
          "color": "rgb(252,205,229)",
          "dash": "solid"
         },
         "marker": {
          "symbol": "circle"
         },
         "mode": "lines",
         "name": "H08",
         "showlegend": true,
         "type": "scattergl",
         "x": [
          1,
          2,
          3,
          4,
          5,
          6,
          7,
          8,
          9,
          10,
          11,
          12,
          13,
          14,
          15,
          16,
          17,
          18,
          19,
          20,
          21,
          22,
          23,
          24,
          25,
          26,
          27,
          28,
          29,
          30,
          31,
          32,
          33,
          34,
          35,
          36,
          37,
          38,
          39,
          40
         ],
         "xaxis": "x",
         "y": [
          0,
          0,
          0,
          0,
          0,
          0,
          0,
          0,
          0,
          0,
          0,
          0,
          0,
          0,
          0,
          0,
          0,
          0,
          0,
          0,
          0,
          0,
          0,
          0,
          0,
          0,
          0,
          35.9163563775866,
          135.094880326055,
          329.953903842905,
          667.234736984136,
          1204.92280088972,
          2003.29602790873,
          3112.30513895265,
          4559.18574933302,
          6340.01272937862,
          8413.9515426563,
          10732.229573948,
          13050.5076052398,
          15368.7856365315
         ],
         "yaxis": "y"
        },
        {
         "hovertemplate": "variable=H09<br>Cycle=%{x}<br>value=%{y}<extra></extra>",
         "legendgroup": "H09",
         "line": {
          "color": "rgb(217,217,217)",
          "dash": "solid"
         },
         "marker": {
          "symbol": "circle"
         },
         "mode": "lines",
         "name": "H09",
         "showlegend": true,
         "type": "scattergl",
         "x": [
          1,
          2,
          3,
          4,
          5,
          6,
          7,
          8,
          9,
          10,
          11,
          12,
          13,
          14,
          15,
          16,
          17,
          18,
          19,
          20,
          21,
          22,
          23,
          24,
          25,
          26,
          27,
          28,
          29,
          30,
          31,
          32,
          33,
          34,
          35,
          36,
          37,
          38,
          39,
          40
         ],
         "xaxis": "x",
         "y": [
          0,
          0,
          0,
          0,
          0,
          0,
          0,
          0,
          0,
          0,
          0,
          0,
          0,
          0,
          0,
          0,
          0,
          0,
          0,
          0,
          0,
          0,
          0,
          0,
          0,
          0,
          0,
          34.3012135587952,
          131.243780467038,
          324.639215169827,
          663.27395401797,
          1207.37968907618,
          2018.99734422659,
          3148.56150301687,
          4622.07996272302,
          6433.23018801361,
          8538.82085182623,
          10888.686295186,
          13238.5517385457,
          15588.4171819054
         ],
         "yaxis": "y"
        },
        {
         "hovertemplate": "variable=H10<br>Cycle=%{x}<br>value=%{y}<extra></extra>",
         "legendgroup": "H10",
         "line": {
          "color": "rgb(188,128,189)",
          "dash": "solid"
         },
         "marker": {
          "symbol": "circle"
         },
         "mode": "lines",
         "name": "H10",
         "showlegend": true,
         "type": "scattergl",
         "x": [
          1,
          2,
          3,
          4,
          5,
          6,
          7,
          8,
          9,
          10,
          11,
          12,
          13,
          14,
          15,
          16,
          17,
          18,
          19,
          20,
          21,
          22,
          23,
          24,
          25,
          26,
          27,
          28,
          29,
          30,
          31,
          32,
          33,
          34,
          35,
          36,
          37,
          38,
          39,
          40
         ],
         "xaxis": "x",
         "y": [
          0,
          0,
          0,
          0,
          0,
          0,
          0,
          0,
          0,
          0,
          0,
          0,
          0,
          0,
          0,
          0,
          0,
          0,
          0,
          0,
          0,
          0,
          0,
          0,
          0,
          0,
          0,
          0,
          0,
          10.6389337092446,
          39.9624299526076,
          101.36305786105,
          221.775641709493,
          440.254038900541,
          802.673407662197,
          1347.51593670688,
          2082.5801028586,
          2993.76525559475,
          3904.95040833089,
          4816.13556106703
         ],
         "yaxis": "y"
        },
        {
         "hovertemplate": "variable=H11<br>Cycle=%{x}<br>value=%{y}<extra></extra>",
         "legendgroup": "H11",
         "line": {
          "color": "rgb(204,235,197)",
          "dash": "solid"
         },
         "marker": {
          "symbol": "circle"
         },
         "mode": "lines",
         "name": "H11",
         "showlegend": true,
         "type": "scattergl",
         "x": [
          1,
          2,
          3,
          4,
          5,
          6,
          7,
          8,
          9,
          10,
          11,
          12,
          13,
          14,
          15,
          16,
          17,
          18,
          19,
          20,
          21,
          22,
          23,
          24,
          25,
          26,
          27,
          28,
          29,
          30,
          31,
          32,
          33,
          34,
          35,
          36,
          37,
          38,
          39,
          40
         ],
         "xaxis": "x",
         "y": [
          0,
          0,
          0,
          0,
          0,
          0,
          0,
          0,
          0,
          0,
          0,
          0,
          0,
          0,
          0,
          0,
          0,
          0,
          0,
          0,
          0,
          0,
          0,
          0,
          0,
          0,
          0,
          0,
          0,
          0,
          0,
          0,
          0,
          0,
          0,
          0,
          0,
          0,
          0,
          0
         ],
         "yaxis": "y"
        },
        {
         "hovertemplate": "variable=H12<br>Cycle=%{x}<br>value=%{y}<extra></extra>",
         "legendgroup": "H12",
         "line": {
          "color": "rgb(255,237,111)",
          "dash": "solid"
         },
         "marker": {
          "symbol": "circle"
         },
         "mode": "lines",
         "name": "H12",
         "showlegend": true,
         "type": "scattergl",
         "x": [
          1,
          2,
          3,
          4,
          5,
          6,
          7,
          8,
          9,
          10,
          11,
          12,
          13,
          14,
          15,
          16,
          17,
          18,
          19,
          20,
          21,
          22,
          23,
          24,
          25,
          26,
          27,
          28,
          29,
          30,
          31,
          32,
          33,
          34,
          35,
          36,
          37,
          38,
          39,
          40
         ],
         "xaxis": "x",
         "y": [
          0,
          0,
          0,
          0,
          0,
          0,
          0,
          0,
          0,
          0,
          0,
          0,
          0,
          0,
          0,
          0,
          0,
          0,
          0,
          0,
          0,
          0,
          0,
          0,
          0,
          0,
          0,
          0,
          0,
          9.86678348332316,
          39.4370523466818,
          103.826010929771,
          231.846399207408,
          464.046938419057,
          846.897623389408,
          1418.49572096664,
          2185.52724529313,
          3132.81544418119,
          4080.10364306924,
          5027.3918419573
         ],
         "yaxis": "y"
        }
       ],
       "layout": {
        "height": 500,
        "legend": {
         "title": {
          "text": "Well"
         },
         "tracegroupgap": 0
        },
        "margin": {
         "t": 60
        },
        "template": {
         "data": {
          "bar": [
           {
            "error_x": {
             "color": "#2a3f5f"
            },
            "error_y": {
             "color": "#2a3f5f"
            },
            "marker": {
             "line": {
              "color": "#E5ECF6",
              "width": 0.5
             },
             "pattern": {
              "fillmode": "overlay",
              "size": 10,
              "solidity": 0.2
             }
            },
            "type": "bar"
           }
          ],
          "barpolar": [
           {
            "marker": {
             "line": {
              "color": "#E5ECF6",
              "width": 0.5
             },
             "pattern": {
              "fillmode": "overlay",
              "size": 10,
              "solidity": 0.2
             }
            },
            "type": "barpolar"
           }
          ],
          "carpet": [
           {
            "aaxis": {
             "endlinecolor": "#2a3f5f",
             "gridcolor": "white",
             "linecolor": "white",
             "minorgridcolor": "white",
             "startlinecolor": "#2a3f5f"
            },
            "baxis": {
             "endlinecolor": "#2a3f5f",
             "gridcolor": "white",
             "linecolor": "white",
             "minorgridcolor": "white",
             "startlinecolor": "#2a3f5f"
            },
            "type": "carpet"
           }
          ],
          "choropleth": [
           {
            "colorbar": {
             "outlinewidth": 0,
             "ticks": ""
            },
            "type": "choropleth"
           }
          ],
          "contour": [
           {
            "colorbar": {
             "outlinewidth": 0,
             "ticks": ""
            },
            "colorscale": [
             [
              0,
              "#0d0887"
             ],
             [
              0.1111111111111111,
              "#46039f"
             ],
             [
              0.2222222222222222,
              "#7201a8"
             ],
             [
              0.3333333333333333,
              "#9c179e"
             ],
             [
              0.4444444444444444,
              "#bd3786"
             ],
             [
              0.5555555555555556,
              "#d8576b"
             ],
             [
              0.6666666666666666,
              "#ed7953"
             ],
             [
              0.7777777777777778,
              "#fb9f3a"
             ],
             [
              0.8888888888888888,
              "#fdca26"
             ],
             [
              1,
              "#f0f921"
             ]
            ],
            "type": "contour"
           }
          ],
          "contourcarpet": [
           {
            "colorbar": {
             "outlinewidth": 0,
             "ticks": ""
            },
            "type": "contourcarpet"
           }
          ],
          "heatmap": [
           {
            "colorbar": {
             "outlinewidth": 0,
             "ticks": ""
            },
            "colorscale": [
             [
              0,
              "#0d0887"
             ],
             [
              0.1111111111111111,
              "#46039f"
             ],
             [
              0.2222222222222222,
              "#7201a8"
             ],
             [
              0.3333333333333333,
              "#9c179e"
             ],
             [
              0.4444444444444444,
              "#bd3786"
             ],
             [
              0.5555555555555556,
              "#d8576b"
             ],
             [
              0.6666666666666666,
              "#ed7953"
             ],
             [
              0.7777777777777778,
              "#fb9f3a"
             ],
             [
              0.8888888888888888,
              "#fdca26"
             ],
             [
              1,
              "#f0f921"
             ]
            ],
            "type": "heatmap"
           }
          ],
          "heatmapgl": [
           {
            "colorbar": {
             "outlinewidth": 0,
             "ticks": ""
            },
            "colorscale": [
             [
              0,
              "#0d0887"
             ],
             [
              0.1111111111111111,
              "#46039f"
             ],
             [
              0.2222222222222222,
              "#7201a8"
             ],
             [
              0.3333333333333333,
              "#9c179e"
             ],
             [
              0.4444444444444444,
              "#bd3786"
             ],
             [
              0.5555555555555556,
              "#d8576b"
             ],
             [
              0.6666666666666666,
              "#ed7953"
             ],
             [
              0.7777777777777778,
              "#fb9f3a"
             ],
             [
              0.8888888888888888,
              "#fdca26"
             ],
             [
              1,
              "#f0f921"
             ]
            ],
            "type": "heatmapgl"
           }
          ],
          "histogram": [
           {
            "marker": {
             "pattern": {
              "fillmode": "overlay",
              "size": 10,
              "solidity": 0.2
             }
            },
            "type": "histogram"
           }
          ],
          "histogram2d": [
           {
            "colorbar": {
             "outlinewidth": 0,
             "ticks": ""
            },
            "colorscale": [
             [
              0,
              "#0d0887"
             ],
             [
              0.1111111111111111,
              "#46039f"
             ],
             [
              0.2222222222222222,
              "#7201a8"
             ],
             [
              0.3333333333333333,
              "#9c179e"
             ],
             [
              0.4444444444444444,
              "#bd3786"
             ],
             [
              0.5555555555555556,
              "#d8576b"
             ],
             [
              0.6666666666666666,
              "#ed7953"
             ],
             [
              0.7777777777777778,
              "#fb9f3a"
             ],
             [
              0.8888888888888888,
              "#fdca26"
             ],
             [
              1,
              "#f0f921"
             ]
            ],
            "type": "histogram2d"
           }
          ],
          "histogram2dcontour": [
           {
            "colorbar": {
             "outlinewidth": 0,
             "ticks": ""
            },
            "colorscale": [
             [
              0,
              "#0d0887"
             ],
             [
              0.1111111111111111,
              "#46039f"
             ],
             [
              0.2222222222222222,
              "#7201a8"
             ],
             [
              0.3333333333333333,
              "#9c179e"
             ],
             [
              0.4444444444444444,
              "#bd3786"
             ],
             [
              0.5555555555555556,
              "#d8576b"
             ],
             [
              0.6666666666666666,
              "#ed7953"
             ],
             [
              0.7777777777777778,
              "#fb9f3a"
             ],
             [
              0.8888888888888888,
              "#fdca26"
             ],
             [
              1,
              "#f0f921"
             ]
            ],
            "type": "histogram2dcontour"
           }
          ],
          "mesh3d": [
           {
            "colorbar": {
             "outlinewidth": 0,
             "ticks": ""
            },
            "type": "mesh3d"
           }
          ],
          "parcoords": [
           {
            "line": {
             "colorbar": {
              "outlinewidth": 0,
              "ticks": ""
             }
            },
            "type": "parcoords"
           }
          ],
          "pie": [
           {
            "automargin": true,
            "type": "pie"
           }
          ],
          "scatter": [
           {
            "fillpattern": {
             "fillmode": "overlay",
             "size": 10,
             "solidity": 0.2
            },
            "type": "scatter"
           }
          ],
          "scatter3d": [
           {
            "line": {
             "colorbar": {
              "outlinewidth": 0,
              "ticks": ""
             }
            },
            "marker": {
             "colorbar": {
              "outlinewidth": 0,
              "ticks": ""
             }
            },
            "type": "scatter3d"
           }
          ],
          "scattercarpet": [
           {
            "marker": {
             "colorbar": {
              "outlinewidth": 0,
              "ticks": ""
             }
            },
            "type": "scattercarpet"
           }
          ],
          "scattergeo": [
           {
            "marker": {
             "colorbar": {
              "outlinewidth": 0,
              "ticks": ""
             }
            },
            "type": "scattergeo"
           }
          ],
          "scattergl": [
           {
            "marker": {
             "colorbar": {
              "outlinewidth": 0,
              "ticks": ""
             }
            },
            "type": "scattergl"
           }
          ],
          "scattermapbox": [
           {
            "marker": {
             "colorbar": {
              "outlinewidth": 0,
              "ticks": ""
             }
            },
            "type": "scattermapbox"
           }
          ],
          "scatterpolar": [
           {
            "marker": {
             "colorbar": {
              "outlinewidth": 0,
              "ticks": ""
             }
            },
            "type": "scatterpolar"
           }
          ],
          "scatterpolargl": [
           {
            "marker": {
             "colorbar": {
              "outlinewidth": 0,
              "ticks": ""
             }
            },
            "type": "scatterpolargl"
           }
          ],
          "scatterternary": [
           {
            "marker": {
             "colorbar": {
              "outlinewidth": 0,
              "ticks": ""
             }
            },
            "type": "scatterternary"
           }
          ],
          "surface": [
           {
            "colorbar": {
             "outlinewidth": 0,
             "ticks": ""
            },
            "colorscale": [
             [
              0,
              "#0d0887"
             ],
             [
              0.1111111111111111,
              "#46039f"
             ],
             [
              0.2222222222222222,
              "#7201a8"
             ],
             [
              0.3333333333333333,
              "#9c179e"
             ],
             [
              0.4444444444444444,
              "#bd3786"
             ],
             [
              0.5555555555555556,
              "#d8576b"
             ],
             [
              0.6666666666666666,
              "#ed7953"
             ],
             [
              0.7777777777777778,
              "#fb9f3a"
             ],
             [
              0.8888888888888888,
              "#fdca26"
             ],
             [
              1,
              "#f0f921"
             ]
            ],
            "type": "surface"
           }
          ],
          "table": [
           {
            "cells": {
             "fill": {
              "color": "#EBF0F8"
             },
             "line": {
              "color": "white"
             }
            },
            "header": {
             "fill": {
              "color": "#C8D4E3"
             },
             "line": {
              "color": "white"
             }
            },
            "type": "table"
           }
          ]
         },
         "layout": {
          "annotationdefaults": {
           "arrowcolor": "#2a3f5f",
           "arrowhead": 0,
           "arrowwidth": 1
          },
          "autotypenumbers": "strict",
          "coloraxis": {
           "colorbar": {
            "outlinewidth": 0,
            "ticks": ""
           }
          },
          "colorscale": {
           "diverging": [
            [
             0,
             "#8e0152"
            ],
            [
             0.1,
             "#c51b7d"
            ],
            [
             0.2,
             "#de77ae"
            ],
            [
             0.3,
             "#f1b6da"
            ],
            [
             0.4,
             "#fde0ef"
            ],
            [
             0.5,
             "#f7f7f7"
            ],
            [
             0.6,
             "#e6f5d0"
            ],
            [
             0.7,
             "#b8e186"
            ],
            [
             0.8,
             "#7fbc41"
            ],
            [
             0.9,
             "#4d9221"
            ],
            [
             1,
             "#276419"
            ]
           ],
           "sequential": [
            [
             0,
             "#0d0887"
            ],
            [
             0.1111111111111111,
             "#46039f"
            ],
            [
             0.2222222222222222,
             "#7201a8"
            ],
            [
             0.3333333333333333,
             "#9c179e"
            ],
            [
             0.4444444444444444,
             "#bd3786"
            ],
            [
             0.5555555555555556,
             "#d8576b"
            ],
            [
             0.6666666666666666,
             "#ed7953"
            ],
            [
             0.7777777777777778,
             "#fb9f3a"
            ],
            [
             0.8888888888888888,
             "#fdca26"
            ],
            [
             1,
             "#f0f921"
            ]
           ],
           "sequentialminus": [
            [
             0,
             "#0d0887"
            ],
            [
             0.1111111111111111,
             "#46039f"
            ],
            [
             0.2222222222222222,
             "#7201a8"
            ],
            [
             0.3333333333333333,
             "#9c179e"
            ],
            [
             0.4444444444444444,
             "#bd3786"
            ],
            [
             0.5555555555555556,
             "#d8576b"
            ],
            [
             0.6666666666666666,
             "#ed7953"
            ],
            [
             0.7777777777777778,
             "#fb9f3a"
            ],
            [
             0.8888888888888888,
             "#fdca26"
            ],
            [
             1,
             "#f0f921"
            ]
           ]
          },
          "colorway": [
           "#636efa",
           "#EF553B",
           "#00cc96",
           "#ab63fa",
           "#FFA15A",
           "#19d3f3",
           "#FF6692",
           "#B6E880",
           "#FF97FF",
           "#FECB52"
          ],
          "font": {
           "color": "#2a3f5f"
          },
          "geo": {
           "bgcolor": "white",
           "lakecolor": "white",
           "landcolor": "#E5ECF6",
           "showlakes": true,
           "showland": true,
           "subunitcolor": "white"
          },
          "hoverlabel": {
           "align": "left"
          },
          "hovermode": "closest",
          "mapbox": {
           "style": "light"
          },
          "paper_bgcolor": "white",
          "plot_bgcolor": "#E5ECF6",
          "polar": {
           "angularaxis": {
            "gridcolor": "white",
            "linecolor": "white",
            "ticks": ""
           },
           "bgcolor": "#E5ECF6",
           "radialaxis": {
            "gridcolor": "white",
            "linecolor": "white",
            "ticks": ""
           }
          },
          "scene": {
           "xaxis": {
            "backgroundcolor": "#E5ECF6",
            "gridcolor": "white",
            "gridwidth": 2,
            "linecolor": "white",
            "showbackground": true,
            "ticks": "",
            "zerolinecolor": "white"
           },
           "yaxis": {
            "backgroundcolor": "#E5ECF6",
            "gridcolor": "white",
            "gridwidth": 2,
            "linecolor": "white",
            "showbackground": true,
            "ticks": "",
            "zerolinecolor": "white"
           },
           "zaxis": {
            "backgroundcolor": "#E5ECF6",
            "gridcolor": "white",
            "gridwidth": 2,
            "linecolor": "white",
            "showbackground": true,
            "ticks": "",
            "zerolinecolor": "white"
           }
          },
          "shapedefaults": {
           "line": {
            "color": "#2a3f5f"
           }
          },
          "ternary": {
           "aaxis": {
            "gridcolor": "white",
            "linecolor": "white",
            "ticks": ""
           },
           "baxis": {
            "gridcolor": "white",
            "linecolor": "white",
            "ticks": ""
           },
           "bgcolor": "#E5ECF6",
           "caxis": {
            "gridcolor": "white",
            "linecolor": "white",
            "ticks": ""
           }
          },
          "title": {
           "x": 0.05
          },
          "xaxis": {
           "automargin": true,
           "gridcolor": "white",
           "linecolor": "white",
           "ticks": "",
           "title": {
            "standoff": 15
           },
           "zerolinecolor": "white",
           "zerolinewidth": 2
          },
          "yaxis": {
           "automargin": true,
           "gridcolor": "white",
           "linecolor": "white",
           "ticks": "",
           "title": {
            "standoff": 15
           },
           "zerolinecolor": "white",
           "zerolinewidth": 2
          }
         }
        },
        "title": {
         "text": "Cycle vs Fluorescence (SYBR)"
        },
        "width": 1000,
        "xaxis": {
         "anchor": "y",
         "domain": [
          0,
          1
         ],
         "title": {
          "text": "Cycle"
         }
        },
        "yaxis": {
         "anchor": "x",
         "domain": [
          0,
          1
         ],
         "title": {
          "text": "RFU (SYBR)"
         }
        }
       }
      }
     },
     "metadata": {},
     "output_type": "display_data"
    },
    {
     "data": {
      "application/vnd.plotly.v1+json": {
       "config": {
        "plotlyServerURL": "https://plot.ly"
       },
       "data": [
        {
         "line": {
          "color": "rgb(141,211,199)"
         },
         "mode": "lines+text",
         "name": "A01",
         "text": [
          "",
          "",
          "",
          "",
          "",
          "",
          "",
          "",
          "",
          "",
          "",
          "",
          "",
          "",
          "",
          "",
          "",
          "",
          "",
          "",
          "",
          "",
          "",
          "",
          "",
          "",
          "",
          "",
          "",
          "",
          "",
          "",
          "26387.6",
          "",
          "",
          "",
          "",
          "",
          "",
          ""
         ],
         "textfont": {
          "color": "black",
          "family": "sans serif",
          "size": 8
         },
         "textposition": "top left",
         "type": "scatter",
         "x": [
          1,
          2,
          3,
          4,
          5,
          6,
          7,
          8,
          9,
          10,
          11,
          12,
          13,
          14,
          15,
          16,
          17,
          18,
          19,
          20,
          21,
          22,
          23,
          24,
          25,
          26,
          27,
          28,
          29,
          30,
          31,
          32,
          33,
          34,
          35,
          36,
          37,
          38,
          39,
          40
         ],
         "xaxis": "x",
         "y": [
          0,
          0,
          0,
          0,
          0,
          0,
          0,
          0,
          0,
          0,
          0,
          0,
          0,
          0,
          0,
          0,
          0,
          0,
          0,
          0,
          0,
          0,
          0,
          42.2355564044568,
          160.646117222125,
          395.370876328876,
          804.630666458518,
          1462.08015260207,
          2445.18123188888,
          3816.61747983665,
          5604.32012188375,
          7785.04610245617,
          10279.9601468238,
          12956.8244685812,
          15676.8276012991,
          18233.2636037615,
          20505.0073710323,
          22465.8575767411,
          24426.70778245,
          26387.5579881589
         ],
         "yaxis": "y"
        },
        {
         "line": {
          "color": "rgb(255,255,179)"
         },
         "mode": "lines+text",
         "name": "A02",
         "text": [
          "",
          "",
          "",
          "",
          "",
          "",
          "",
          "",
          "",
          "",
          "",
          "",
          "",
          "",
          "",
          "",
          "",
          "",
          "",
          "",
          "",
          "",
          "",
          "",
          "",
          "",
          "",
          "",
          "",
          "",
          "",
          "",
          "20761.6",
          "",
          "",
          "",
          "",
          "",
          "",
          ""
         ],
         "textfont": {
          "color": "black",
          "family": "sans serif",
          "size": 8
         },
         "textposition": "top left",
         "type": "scatter",
         "x": [
          1,
          2,
          3,
          4,
          5,
          6,
          7,
          8,
          9,
          10,
          11,
          12,
          13,
          14,
          15,
          16,
          17,
          18,
          19,
          20,
          21,
          22,
          23,
          24,
          25,
          26,
          27,
          28,
          29,
          30,
          31,
          32,
          33,
          34,
          35,
          36,
          37,
          38,
          39,
          40
         ],
         "xaxis": "x2",
         "y": [
          0,
          0,
          0,
          0,
          0,
          0,
          0,
          0,
          0,
          0,
          0,
          0,
          0,
          0,
          0,
          0,
          0,
          0,
          0,
          0,
          0,
          0,
          0,
          0,
          44.5400778020951,
          165.898452470924,
          400.725283744644,
          799.704075259167,
          1423.43117333113,
          2331.17753332128,
          3565.32797243165,
          5134.76613656271,
          7005.12426204223,
          9091.66630754139,
          11269.8689483977,
          13414.3501003542,
          15438.4395681586,
          17295.8055197866,
          19033.342718952,
          20761.6401926635
         ],
         "yaxis": "y2"
        },
        {
         "line": {
          "color": "rgb(190,186,218)"
         },
         "mode": "lines+text",
         "name": "A03",
         "text": [
          "",
          "",
          "",
          "",
          "",
          "",
          "",
          "",
          "",
          "",
          "",
          "",
          "",
          "",
          "",
          "",
          "",
          "",
          "",
          "",
          "",
          "",
          "",
          "",
          "",
          "",
          "",
          "",
          "",
          "",
          "",
          "",
          "24596.9",
          "",
          "",
          "",
          "",
          "",
          "",
          ""
         ],
         "textfont": {
          "color": "black",
          "family": "sans serif",
          "size": 8
         },
         "textposition": "top left",
         "type": "scatter",
         "x": [
          1,
          2,
          3,
          4,
          5,
          6,
          7,
          8,
          9,
          10,
          11,
          12,
          13,
          14,
          15,
          16,
          17,
          18,
          19,
          20,
          21,
          22,
          23,
          24,
          25,
          26,
          27,
          28,
          29,
          30,
          31,
          32,
          33,
          34,
          35,
          36,
          37,
          38,
          39,
          40
         ],
         "xaxis": "x3",
         "y": [
          0,
          0,
          0,
          0,
          0,
          0,
          0,
          0,
          0,
          0,
          0,
          0,
          0,
          0,
          0,
          0,
          0,
          0,
          0,
          0,
          0,
          0,
          0,
          59.2689429396521,
          220.471040753099,
          530.746096951764,
          1053.01572819117,
          1858.91318707359,
          3013.17047833246,
          4554.36545553041,
          6478.10884876169,
          8727.58096349947,
          11198.6706689342,
          13748.9885012869,
          16244.1504689647,
          18501.4083661512,
          20424.74958194,
          21958.6881444637,
          23277.7729714411,
          24596.8577984185
         ],
         "yaxis": "y3"
        },
        {
         "line": {
          "color": "rgb(251,128,114)"
         },
         "mode": "lines+text",
         "name": "A04",
         "text": [
          "",
          "",
          "",
          "",
          "",
          "",
          "",
          "",
          "",
          "",
          "",
          "",
          "",
          "",
          "",
          "",
          "",
          "",
          "",
          "",
          "",
          "",
          "",
          "",
          "",
          "",
          "",
          "",
          "",
          "",
          "",
          "",
          "24397.2",
          "",
          "",
          "",
          "",
          "",
          "",
          ""
         ],
         "textfont": {
          "color": "black",
          "family": "sans serif",
          "size": 8
         },
         "textposition": "top left",
         "type": "scatter",
         "x": [
          1,
          2,
          3,
          4,
          5,
          6,
          7,
          8,
          9,
          10,
          11,
          12,
          13,
          14,
          15,
          16,
          17,
          18,
          19,
          20,
          21,
          22,
          23,
          24,
          25,
          26,
          27,
          28,
          29,
          30,
          31,
          32,
          33,
          34,
          35,
          36,
          37,
          38,
          39,
          40
         ],
         "xaxis": "x4",
         "y": [
          0,
          0,
          0,
          0,
          0,
          0,
          0,
          0,
          0,
          0,
          0,
          0,
          0,
          0,
          0,
          0,
          0,
          0,
          0,
          0,
          0,
          0,
          49.1731557948012,
          183.100572734646,
          441.646452732875,
          878.370439907693,
          1555.05863632196,
          2529.17285239806,
          3838.02985641094,
          5484.8984851801,
          7431.61656070671,
          9600.73825863097,
          11888.7418881204,
          14178.0223997933,
          16354.2533953,
          18333.8632583661,
          20083.6729552172,
          21614.1415415264,
          23008.9062077937,
          24397.22389336
         ],
         "yaxis": "y4"
        },
        {
         "line": {
          "color": "rgb(128,177,211)"
         },
         "mode": "lines+text",
         "name": "A05",
         "text": [
          "",
          "",
          "",
          "",
          "",
          "",
          "",
          "",
          "",
          "",
          "",
          "",
          "",
          "",
          "",
          "",
          "",
          "",
          "",
          "",
          "",
          "",
          "",
          "",
          "",
          "",
          "",
          "",
          "",
          "",
          "",
          "",
          "24193.7",
          "",
          "",
          "",
          "",
          "",
          "",
          ""
         ],
         "textfont": {
          "color": "black",
          "family": "sans serif",
          "size": 8
         },
         "textposition": "top left",
         "type": "scatter",
         "x": [
          1,
          2,
          3,
          4,
          5,
          6,
          7,
          8,
          9,
          10,
          11,
          12,
          13,
          14,
          15,
          16,
          17,
          18,
          19,
          20,
          21,
          22,
          23,
          24,
          25,
          26,
          27,
          28,
          29,
          30,
          31,
          32,
          33,
          34,
          35,
          36,
          37,
          38,
          39,
          40
         ],
         "xaxis": "x5",
         "y": [
          0,
          0,
          0,
          0,
          0,
          0,
          0,
          0,
          0,
          0,
          0,
          0,
          0,
          0,
          0,
          0,
          0,
          0,
          0,
          0,
          0,
          0,
          37.8924203299594,
          146.438542048247,
          363.794914812139,
          744.708329487111,
          1357.21897509815,
          2271.42118517574,
          3542.10198530665,
          5190.30487349636,
          7190.06376310392,
          9465.06258791659,
          11898.9236092044,
          14349.0406369949,
          16690.837116017,
          18766.9948907403,
          20504.5168842532,
          21869.024236995,
          23031.3593923967,
          24193.6945477983
         ],
         "yaxis": "y5"
        },
        {
         "line": {
          "color": "rgb(253,180,98)"
         },
         "mode": "lines+text",
         "name": "A06",
         "text": [
          "",
          "",
          "",
          "",
          "",
          "",
          "",
          "",
          "",
          "",
          "",
          "",
          "",
          "",
          "",
          "",
          "",
          "",
          "",
          "",
          "",
          "",
          "",
          "",
          "",
          "",
          "",
          "",
          "",
          "",
          "",
          "",
          "21528.8",
          "",
          "",
          "",
          "",
          "",
          "",
          ""
         ],
         "textfont": {
          "color": "black",
          "family": "sans serif",
          "size": 8
         },
         "textposition": "top left",
         "type": "scatter",
         "x": [
          1,
          2,
          3,
          4,
          5,
          6,
          7,
          8,
          9,
          10,
          11,
          12,
          13,
          14,
          15,
          16,
          17,
          18,
          19,
          20,
          21,
          22,
          23,
          24,
          25,
          26,
          27,
          28,
          29,
          30,
          31,
          32,
          33,
          34,
          35,
          36,
          37,
          38,
          39,
          40
         ],
         "xaxis": "x6",
         "y": [
          0,
          0,
          0,
          0,
          0,
          0,
          0,
          0,
          0,
          0,
          0,
          0,
          0,
          0,
          0,
          0,
          0,
          0,
          0,
          0,
          0,
          0,
          31.4930516220168,
          120.433034112033,
          297.756327973856,
          608.986342468961,
          1112.40898692344,
          1870.33193522667,
          2934.74391173977,
          4331.17276524699,
          6046.05082517316,
          8021.52790869388,
          10161.9194807848,
          12344.5608851443,
          14457.891576731,
          16360.5039795387,
          17980.3681030181,
          19281.9373613316,
          20405.3756089438,
          21528.813856556
         ],
         "yaxis": "y6"
        },
        {
         "line": {
          "color": "rgb(179,222,105)"
         },
         "mode": "lines+text",
         "name": "A07",
         "text": [
          "",
          "",
          "",
          "",
          "",
          "",
          "",
          "",
          "",
          "",
          "",
          "",
          "",
          "",
          "",
          "",
          "",
          "",
          "",
          "",
          "",
          "",
          "",
          "",
          "",
          "",
          "",
          "",
          "",
          "",
          "",
          "",
          "18584.4",
          "",
          "",
          "",
          "",
          "",
          "",
          ""
         ],
         "textfont": {
          "color": "black",
          "family": "sans serif",
          "size": 8
         },
         "textposition": "top left",
         "type": "scatter",
         "x": [
          1,
          2,
          3,
          4,
          5,
          6,
          7,
          8,
          9,
          10,
          11,
          12,
          13,
          14,
          15,
          16,
          17,
          18,
          19,
          20,
          21,
          22,
          23,
          24,
          25,
          26,
          27,
          28,
          29,
          30,
          31,
          32,
          33,
          34,
          35,
          36,
          37,
          38,
          39,
          40
         ],
         "xaxis": "x7",
         "y": [
          0,
          0,
          0,
          0,
          0,
          0,
          0,
          0,
          0,
          0,
          0,
          0,
          0,
          0,
          0,
          0,
          0,
          0,
          0,
          0,
          0,
          0,
          41.5596029384137,
          153.945789675292,
          368.492508718862,
          724.77260036897,
          1265.73529855565,
          2028.22452680617,
          3032.15766649114,
          4272.86294864442,
          5718.80217380736,
          7315.26557706497,
          8995.75955820684,
          10687.7755710427,
          12334.0495789311,
          13853.5693445515,
          15216.7773372995,
          16395.4379504211,
          17489.905138424,
          18584.3723264268
         ],
         "yaxis": "y7"
        },
        {
         "line": {
          "color": "rgb(252,205,229)"
         },
         "mode": "lines+text",
         "name": "A08",
         "text": [
          "",
          "",
          "",
          "",
          "",
          "",
          "",
          "",
          "",
          "",
          "",
          "",
          "",
          "",
          "",
          "",
          "",
          "",
          "",
          "",
          "",
          "",
          "",
          "",
          "",
          "",
          "",
          "",
          "",
          "",
          "",
          "",
          "24211.8",
          "",
          "",
          "",
          "",
          "",
          "",
          ""
         ],
         "textfont": {
          "color": "black",
          "family": "sans serif",
          "size": 8
         },
         "textposition": "top left",
         "type": "scatter",
         "x": [
          1,
          2,
          3,
          4,
          5,
          6,
          7,
          8,
          9,
          10,
          11,
          12,
          13,
          14,
          15,
          16,
          17,
          18,
          19,
          20,
          21,
          22,
          23,
          24,
          25,
          26,
          27,
          28,
          29,
          30,
          31,
          32,
          33,
          34,
          35,
          36,
          37,
          38,
          39,
          40
         ],
         "xaxis": "x8",
         "y": [
          0,
          0,
          0,
          0,
          0,
          0,
          0,
          0,
          0,
          0,
          0,
          0,
          0,
          0,
          0,
          0,
          0,
          0,
          0,
          0,
          0,
          0,
          0,
          51.9585411639525,
          195.935361983966,
          476.865968420287,
          955.776379919278,
          1703.69840498222,
          2787.21837824998,
          4249.91013861969,
          6095.15617586747,
          8275.24352024248,
          10693.3197280517,
          13211.4554328549,
          15695.5563402197,
          17963.3215026521,
          19913.6639018103,
          21488.1107837396,
          22849.9775187623,
          24211.844253785
         ],
         "yaxis": "y8"
        },
        {
         "line": {
          "color": "rgb(217,217,217)"
         },
         "mode": "lines+text",
         "name": "A09",
         "text": [
          "",
          "",
          "",
          "",
          "",
          "",
          "",
          "",
          "",
          "",
          "",
          "",
          "",
          "",
          "",
          "",
          "",
          "",
          "",
          "",
          "",
          "",
          "",
          "",
          "",
          "",
          "",
          "",
          "",
          "",
          "",
          "",
          "22625.5",
          "",
          "",
          "",
          "",
          "",
          "",
          ""
         ],
         "textfont": {
          "color": "black",
          "family": "sans serif",
          "size": 8
         },
         "textposition": "top left",
         "type": "scatter",
         "x": [
          1,
          2,
          3,
          4,
          5,
          6,
          7,
          8,
          9,
          10,
          11,
          12,
          13,
          14,
          15,
          16,
          17,
          18,
          19,
          20,
          21,
          22,
          23,
          24,
          25,
          26,
          27,
          28,
          29,
          30,
          31,
          32,
          33,
          34,
          35,
          36,
          37,
          38,
          39,
          40
         ],
         "xaxis": "x9",
         "y": [
          0,
          0,
          0,
          0,
          0,
          0,
          0,
          0,
          0,
          0,
          0,
          0,
          0,
          0,
          0,
          0,
          0,
          0,
          0,
          0,
          0,
          0,
          0,
          47.6357272562377,
          179.831747824063,
          438.067630854613,
          878.970561454447,
          1568.95576038291,
          2570.94535838069,
          3926.52172099611,
          5638.93798826121,
          7662.23946830663,
          9903.29639953656,
          12229.4653395021,
          14512.7262908023,
          16578.3985789837,
          18332.2390454665,
          19763.339690716,
          21194.4403359656,
          22625.5409812152
         ],
         "yaxis": "y9"
        },
        {
         "line": {
          "color": "rgb(188,128,189)"
         },
         "mode": "lines+text",
         "name": "A10",
         "text": [
          "",
          "",
          "",
          "",
          "",
          "",
          "",
          "",
          "",
          "",
          "",
          "",
          "",
          "",
          "",
          "",
          "",
          "",
          "",
          "",
          "",
          "",
          "",
          "",
          "",
          "",
          "",
          "",
          "",
          "",
          "",
          "",
          "25341.1",
          "",
          "",
          "",
          "",
          "",
          "",
          ""
         ],
         "textfont": {
          "color": "black",
          "family": "sans serif",
          "size": 8
         },
         "textposition": "top left",
         "type": "scatter",
         "x": [
          1,
          2,
          3,
          4,
          5,
          6,
          7,
          8,
          9,
          10,
          11,
          12,
          13,
          14,
          15,
          16,
          17,
          18,
          19,
          20,
          21,
          22,
          23,
          24,
          25,
          26,
          27,
          28,
          29,
          30,
          31,
          32,
          33,
          34,
          35,
          36,
          37,
          38,
          39,
          40
         ],
         "xaxis": "x10",
         "y": [
          0,
          0,
          0,
          0,
          0,
          0,
          0,
          0,
          0,
          0,
          0,
          0,
          0,
          0,
          0,
          0,
          0,
          0,
          0,
          0,
          0,
          0,
          0,
          52.287490864703,
          197.540376734778,
          481.417784263478,
          966.130793391134,
          1724.57855386231,
          2825.85228209996,
          4315.89270512118,
          6199.35187406154,
          8427.98987120187,
          10902.7476423538,
          13481.5702960245,
          16002.2487476095,
          18327.2658549509,
          20384.3469240059,
          22160.0535641487,
          23755.3588858629,
          25341.1156025466
         ],
         "yaxis": "y10"
        },
        {
         "line": {
          "color": "rgb(204,235,197)"
         },
         "mode": "lines+text",
         "name": "A11",
         "text": [
          "",
          "",
          "",
          "",
          "",
          "",
          "",
          "",
          "",
          "",
          "",
          "",
          "",
          "",
          "",
          "",
          "",
          "",
          "",
          "",
          "",
          "",
          "",
          "",
          "",
          "",
          "",
          "",
          "",
          "",
          "",
          "",
          "26429.7",
          "",
          "",
          "",
          "",
          "",
          "",
          ""
         ],
         "textfont": {
          "color": "black",
          "family": "sans serif",
          "size": 8
         },
         "textposition": "top left",
         "type": "scatter",
         "x": [
          1,
          2,
          3,
          4,
          5,
          6,
          7,
          8,
          9,
          10,
          11,
          12,
          13,
          14,
          15,
          16,
          17,
          18,
          19,
          20,
          21,
          22,
          23,
          24,
          25,
          26,
          27,
          28,
          29,
          30,
          31,
          32,
          33,
          34,
          35,
          36,
          37,
          38,
          39,
          40
         ],
         "xaxis": "x11",
         "y": [
          0,
          0,
          0,
          0,
          0,
          0,
          0,
          0,
          0,
          0,
          0,
          0,
          0,
          0,
          0,
          0,
          0,
          0,
          0,
          0,
          0,
          0,
          0,
          41.337622140062,
          157.381992299116,
          387.676068918754,
          790.305554740793,
          1439.50465110951,
          2414.36531708314,
          3780.40239179184,
          5569.21725828325,
          7760.83873800773,
          10276.7628357777,
          12985.9336897281,
          15747.1176706802,
          18373.3478445692,
          20740.6117850894,
          22776.08954401,
          24602.8807748817,
          26429.6720057535
         ],
         "yaxis": "y11"
        },
        {
         "line": {
          "color": "rgb(255,237,111)"
         },
         "mode": "lines+text",
         "name": "A12",
         "text": [
          "",
          "",
          "",
          "",
          "",
          "",
          "",
          "",
          "",
          "",
          "",
          "",
          "",
          "",
          "",
          "",
          "",
          "",
          "",
          "",
          "",
          "",
          "",
          "",
          "",
          "",
          "",
          "",
          "",
          "",
          "",
          "",
          "21308.7",
          "",
          "",
          "",
          "",
          "",
          "",
          ""
         ],
         "textfont": {
          "color": "black",
          "family": "sans serif",
          "size": 8
         },
         "textposition": "top left",
         "type": "scatter",
         "x": [
          1,
          2,
          3,
          4,
          5,
          6,
          7,
          8,
          9,
          10,
          11,
          12,
          13,
          14,
          15,
          16,
          17,
          18,
          19,
          20,
          21,
          22,
          23,
          24,
          25,
          26,
          27,
          28,
          29,
          30,
          31,
          32,
          33,
          34,
          35,
          36,
          37,
          38,
          39,
          40
         ],
         "xaxis": "x12",
         "y": [
          0,
          0,
          0,
          0,
          0,
          0,
          0,
          0,
          0,
          0,
          0,
          0,
          0,
          0,
          0,
          0,
          0,
          0,
          0,
          0,
          0,
          0,
          0,
          39.5913453755666,
          149.03676809163,
          363.440069868364,
          732.883784453369,
          1319.12680966268,
          2185.10581087213,
          3379.02549886663,
          4917.37559859752,
          6771.41882404215,
          8864.09104093775,
          11073.6788009159,
          13252.8497430234,
          15270.7654176368,
          17054.6854327944,
          18585.1030610309,
          19951.3594121427,
          21308.654242721
         ],
         "yaxis": "y12"
        },
        {
         "line": {
          "color": "rgb(141,211,199)"
         },
         "mode": "lines+text",
         "name": "B01",
         "text": [
          "",
          "",
          "",
          "",
          "",
          "",
          "",
          "",
          "",
          "",
          "",
          "",
          "",
          "",
          "",
          "",
          "",
          "",
          "",
          "",
          "",
          "",
          "",
          "",
          "",
          "",
          "",
          "",
          "",
          "",
          "",
          "",
          "28631.6",
          "",
          "",
          "",
          "",
          "",
          "",
          ""
         ],
         "textfont": {
          "color": "black",
          "family": "sans serif",
          "size": 8
         },
         "textposition": "top left",
         "type": "scatter",
         "x": [
          1,
          2,
          3,
          4,
          5,
          6,
          7,
          8,
          9,
          10,
          11,
          12,
          13,
          14,
          15,
          16,
          17,
          18,
          19,
          20,
          21,
          22,
          23,
          24,
          25,
          26,
          27,
          28,
          29,
          30,
          31,
          32,
          33,
          34,
          35,
          36,
          37,
          38,
          39,
          40
         ],
         "xaxis": "x13",
         "y": [
          0,
          0,
          0,
          0,
          0,
          0,
          0,
          0,
          0,
          0,
          0,
          0,
          0,
          0,
          0,
          0,
          0,
          0,
          0,
          0,
          0,
          0,
          63.2742727802008,
          240.81841080379,
          588.02826851959,
          1177.0895624313,
          2088.21336596447,
          3391.80946561392,
          5127.09222594799,
          7284.09258621741,
          9796.17616531148,
          12545.6389203387,
          15382.5821656225,
          18146.5448037834,
          20710.1313934804,
          22936.0235861976,
          24769.1519774581,
          26205.1794313439,
          27418.4001826006,
          28631.6209338574
         ],
         "yaxis": "y13"
        },
        {
         "line": {
          "color": "rgb(255,255,179)"
         },
         "mode": "lines+text",
         "name": "B02",
         "text": [
          "",
          "",
          "",
          "",
          "",
          "",
          "",
          "",
          "",
          "",
          "",
          "",
          "",
          "",
          "",
          "",
          "",
          "",
          "",
          "",
          "",
          "",
          "",
          "",
          "",
          "",
          "",
          "",
          "",
          "",
          "",
          "",
          "20217.9",
          "",
          "",
          "",
          "",
          "",
          "",
          ""
         ],
         "textfont": {
          "color": "black",
          "family": "sans serif",
          "size": 8
         },
         "textposition": "top left",
         "type": "scatter",
         "x": [
          1,
          2,
          3,
          4,
          5,
          6,
          7,
          8,
          9,
          10,
          11,
          12,
          13,
          14,
          15,
          16,
          17,
          18,
          19,
          20,
          21,
          22,
          23,
          24,
          25,
          26,
          27,
          28,
          29,
          30,
          31,
          32,
          33,
          34,
          35,
          36,
          37,
          38,
          39,
          40
         ],
         "xaxis": "x14",
         "y": [
          0,
          0,
          0,
          0,
          0,
          0,
          0,
          0,
          0,
          0,
          0,
          0,
          0,
          0,
          0,
          0,
          0,
          0,
          0,
          0,
          0,
          0,
          30.9856117437758,
          119.369525919353,
          295.951630676954,
          605.246217685202,
          1103.22270722591,
          1848.16293971623,
          2886.01757538625,
          4234.37322066123,
          5870.69939784142,
          7729.39450029321,
          9710.66995665318,
          11699.1390297878,
          13595.2638906012,
          15306.1162482417,
          16784.4099768502,
          18026.6248553716,
          19122.247030002,
          20217.8692046324
         ],
         "yaxis": "y14"
        },
        {
         "line": {
          "color": "rgb(190,186,218)"
         },
         "mode": "lines+text",
         "name": "B03",
         "text": [
          "",
          "",
          "",
          "",
          "",
          "",
          "",
          "",
          "",
          "",
          "",
          "",
          "",
          "",
          "",
          "",
          "",
          "",
          "",
          "",
          "",
          "",
          "",
          "",
          "",
          "",
          "",
          "",
          "",
          "",
          "",
          "",
          "33768.8",
          "",
          "",
          "",
          "",
          "",
          "",
          ""
         ],
         "textfont": {
          "color": "black",
          "family": "sans serif",
          "size": 8
         },
         "textposition": "top left",
         "type": "scatter",
         "x": [
          1,
          2,
          3,
          4,
          5,
          6,
          7,
          8,
          9,
          10,
          11,
          12,
          13,
          14,
          15,
          16,
          17,
          18,
          19,
          20,
          21,
          22,
          23,
          24,
          25,
          26,
          27,
          28,
          29,
          30,
          31,
          32,
          33,
          34,
          35,
          36,
          37,
          38,
          39,
          40
         ],
         "xaxis": "x15",
         "y": [
          0,
          0,
          0,
          0,
          0,
          0,
          0,
          0,
          0,
          0,
          0,
          0,
          0,
          0,
          0,
          0,
          0,
          0,
          0,
          0,
          0,
          44.6848567096941,
          174.852778768462,
          438.160645411179,
          903.26892840694,
          1655.8358781187,
          2785.51508788999,
          4364.32314855041,
          6423.05168992371,
          8935.4512199998,
          11815.3041208941,
          14927.6662254832,
          18115.2484385512,
          21218.6021237522,
          24118.722859179,
          26677.3600658588,
          28851.0358595683,
          30625.6325810368,
          32197.1933787776,
          33768.7541765185
         ],
         "yaxis": "y15"
        },
        {
         "line": {
          "color": "rgb(251,128,114)"
         },
         "mode": "lines+text",
         "name": "B04",
         "text": [
          "",
          "",
          "",
          "",
          "",
          "",
          "",
          "",
          "",
          "",
          "",
          "",
          "",
          "",
          "",
          "",
          "",
          "",
          "",
          "",
          "",
          "",
          "",
          "",
          "",
          "",
          "",
          "",
          "",
          "",
          "",
          "",
          "28407.5",
          "",
          "",
          "",
          "",
          "",
          "",
          ""
         ],
         "textfont": {
          "color": "black",
          "family": "sans serif",
          "size": 8
         },
         "textposition": "top left",
         "type": "scatter",
         "x": [
          1,
          2,
          3,
          4,
          5,
          6,
          7,
          8,
          9,
          10,
          11,
          12,
          13,
          14,
          15,
          16,
          17,
          18,
          19,
          20,
          21,
          22,
          23,
          24,
          25,
          26,
          27,
          28,
          29,
          30,
          31,
          32,
          33,
          34,
          35,
          36,
          37,
          38,
          39,
          40
         ],
         "xaxis": "x16",
         "y": [
          0,
          0,
          0,
          0,
          0,
          0,
          0,
          0,
          0,
          0,
          0,
          0,
          0,
          0,
          0,
          0,
          0,
          0,
          0,
          0,
          0,
          47.449788119131,
          184.733892976026,
          459.35279814761,
          935.995297292976,
          1690.55010549994,
          2795.48225278507,
          4300.41959981402,
          6213.75871947087,
          8491.90376397052,
          11040.9219031935,
          13729.7726729393,
          16412.8079454714,
          18950.0003248361,
          21226.0794519177,
          23172.9421186622,
          24785.2384357743,
          26107.0815500989,
          27259.9967928679,
          28407.4591107431
         ],
         "yaxis": "y16"
        },
        {
         "line": {
          "color": "rgb(128,177,211)"
         },
         "mode": "lines+text",
         "name": "B05",
         "text": [
          "",
          "",
          "",
          "",
          "",
          "",
          "",
          "",
          "",
          "",
          "",
          "",
          "",
          "",
          "",
          "",
          "",
          "",
          "",
          "",
          "",
          "",
          "",
          "",
          "",
          "",
          "",
          "",
          "",
          "",
          "",
          "",
          "27798.4",
          "",
          "",
          "",
          "",
          "",
          "",
          ""
         ],
         "textfont": {
          "color": "black",
          "family": "sans serif",
          "size": 8
         },
         "textposition": "top left",
         "type": "scatter",
         "x": [
          1,
          2,
          3,
          4,
          5,
          6,
          7,
          8,
          9,
          10,
          11,
          12,
          13,
          14,
          15,
          16,
          17,
          18,
          19,
          20,
          21,
          22,
          23,
          24,
          25,
          26,
          27,
          28,
          29,
          30,
          31,
          32,
          33,
          34,
          35,
          36,
          37,
          38,
          39,
          40
         ],
         "xaxis": "x17",
         "y": [
          0,
          0,
          0,
          0,
          0,
          0,
          0,
          0,
          0,
          0,
          0,
          0,
          0,
          0,
          0,
          0,
          0,
          0,
          0,
          0,
          0,
          41.0248242608578,
          160.250276489259,
          400.400139805506,
          821.485582611987,
          1496.11169703989,
          2496.4730330958,
          3875.93500529485,
          5650.38711507734,
          7786.86369571981,
          10203.9427520864,
          12783.7033057081,
          15393.1308436291,
          17902.9486252008,
          20219.4777396879,
          22246.0792404161,
          23954.3213136319,
          25348.1348519942,
          26573.2691203632,
          27798.4033887321
         ],
         "yaxis": "y17"
        },
        {
         "line": {
          "color": "rgb(253,180,98)"
         },
         "mode": "lines+text",
         "name": "B06",
         "text": [
          "",
          "",
          "",
          "",
          "",
          "",
          "",
          "",
          "",
          "",
          "",
          "",
          "",
          "",
          "",
          "",
          "",
          "",
          "",
          "",
          "",
          "",
          "",
          "",
          "",
          "",
          "",
          "",
          "",
          "",
          "",
          "",
          "27574.1",
          "",
          "",
          "",
          "",
          "",
          "",
          ""
         ],
         "textfont": {
          "color": "black",
          "family": "sans serif",
          "size": 8
         },
         "textposition": "top left",
         "type": "scatter",
         "x": [
          1,
          2,
          3,
          4,
          5,
          6,
          7,
          8,
          9,
          10,
          11,
          12,
          13,
          14,
          15,
          16,
          17,
          18,
          19,
          20,
          21,
          22,
          23,
          24,
          25,
          26,
          27,
          28,
          29,
          30,
          31,
          32,
          33,
          34,
          35,
          36,
          37,
          38,
          39,
          40
         ],
         "xaxis": "x18",
         "y": [
          0,
          0,
          0,
          0,
          0,
          0,
          0,
          0,
          0,
          0,
          0,
          0,
          0,
          0,
          0,
          0,
          0,
          0,
          0,
          0,
          0,
          45.4265678104464,
          176.090789021844,
          436.443906160498,
          886.452715834567,
          1595.60186087007,
          2628.99254763652,
          4029.36438212994,
          5801.18442471117,
          7902.78693007512,
          10249.9403290076,
          12729.7578664209,
          15221.1194097252,
          17610.348890651,
          19804.8324519306,
          21749.9128109502,
          23439.4295451803,
          24906.4446041425,
          26242.681236822,
          27574.1290053163
         ],
         "yaxis": "y18"
        },
        {
         "line": {
          "color": "rgb(179,222,105)"
         },
         "mode": "lines+text",
         "name": "B07",
         "text": [
          "",
          "",
          "",
          "",
          "",
          "",
          "",
          "",
          "",
          "",
          "",
          "",
          "",
          "",
          "",
          "",
          "",
          "",
          "",
          "",
          "",
          "",
          "",
          "",
          "",
          "",
          "",
          "",
          "",
          "",
          "",
          "",
          "29047.1",
          "",
          "",
          "",
          "",
          "",
          "",
          ""
         ],
         "textfont": {
          "color": "black",
          "family": "sans serif",
          "size": 8
         },
         "textposition": "top left",
         "type": "scatter",
         "x": [
          1,
          2,
          3,
          4,
          5,
          6,
          7,
          8,
          9,
          10,
          11,
          12,
          13,
          14,
          15,
          16,
          17,
          18,
          19,
          20,
          21,
          22,
          23,
          24,
          25,
          26,
          27,
          28,
          29,
          30,
          31,
          32,
          33,
          34,
          35,
          36,
          37,
          38,
          39,
          40
         ],
         "xaxis": "x19",
         "y": [
          0,
          0,
          0,
          0,
          0,
          0,
          0,
          0,
          0,
          0,
          0,
          0,
          0,
          0,
          0,
          0,
          0,
          0,
          0,
          0,
          0,
          47.9745404098874,
          185.033574223632,
          457.369584632179,
          927.981709959211,
          1670.6248597029,
          2755.81374061918,
          4231.68404451715,
          6105.83083937207,
          8335.96361031806,
          10832.9005667341,
          13474.4346557103,
          16128.8352946781,
          18671.016877432,
          20997.3539650014,
          23046.1205594978,
          24808.9766744499,
          26322.3764370137,
          27687.6743848811,
          29047.0967819564
         ],
         "yaxis": "y19"
        },
        {
         "line": {
          "color": "rgb(252,205,229)"
         },
         "mode": "lines+text",
         "name": "B08",
         "text": [
          "",
          "",
          "",
          "",
          "",
          "",
          "",
          "",
          "",
          "",
          "",
          "",
          "",
          "",
          "",
          "",
          "",
          "",
          "",
          "",
          "",
          "",
          "",
          "",
          "",
          "",
          "",
          "",
          "",
          "",
          "",
          "",
          "32509.3",
          "",
          "",
          "",
          "",
          "",
          "",
          ""
         ],
         "textfont": {
          "color": "black",
          "family": "sans serif",
          "size": 8
         },
         "textposition": "top left",
         "type": "scatter",
         "x": [
          1,
          2,
          3,
          4,
          5,
          6,
          7,
          8,
          9,
          10,
          11,
          12,
          13,
          14,
          15,
          16,
          17,
          18,
          19,
          20,
          21,
          22,
          23,
          24,
          25,
          26,
          27,
          28,
          29,
          30,
          31,
          32,
          33,
          34,
          35,
          36,
          37,
          38,
          39,
          40
         ],
         "xaxis": "x20",
         "y": [
          0,
          0,
          0,
          0,
          0,
          0,
          0,
          0,
          0,
          0,
          0,
          0,
          0,
          0,
          0,
          0,
          0,
          0,
          0,
          0,
          0,
          46.8842392878919,
          184.081316026418,
          461.031161681919,
          946.640334696198,
          1723.92620475447,
          2875.2870427386,
          4461.75971560634,
          6502.15896114583,
          8960.17339061715,
          11744.5159274248,
          14722.5877173404,
          17745.6898517515,
          20668.4009779761,
          23386.1964638305,
          25782.0169522398,
          27824.3040065513,
          29506.952338342,
          31008.1465146824,
          32509.3406910227
         ],
         "yaxis": "y20"
        },
        {
         "line": {
          "color": "rgb(217,217,217)"
         },
         "mode": "lines+text",
         "name": "B09",
         "text": [
          "",
          "",
          "",
          "",
          "",
          "",
          "",
          "",
          "",
          "",
          "",
          "",
          "",
          "",
          "",
          "",
          "",
          "",
          "",
          "",
          "",
          "",
          "",
          "",
          "",
          "",
          "",
          "",
          "",
          "",
          "",
          "",
          "28909.2",
          "",
          "",
          "",
          "",
          "",
          "",
          ""
         ],
         "textfont": {
          "color": "black",
          "family": "sans serif",
          "size": 8
         },
         "textposition": "top left",
         "type": "scatter",
         "x": [
          1,
          2,
          3,
          4,
          5,
          6,
          7,
          8,
          9,
          10,
          11,
          12,
          13,
          14,
          15,
          16,
          17,
          18,
          19,
          20,
          21,
          22,
          23,
          24,
          25,
          26,
          27,
          28,
          29,
          30,
          31,
          32,
          33,
          34,
          35,
          36,
          37,
          38,
          39,
          40
         ],
         "xaxis": "x21",
         "y": [
          0,
          0,
          0,
          0,
          0,
          0,
          0,
          0,
          0,
          0,
          0,
          0,
          0,
          0,
          0,
          0,
          0,
          0,
          0,
          0,
          0,
          33.4192553263138,
          133.422145536341,
          339.248308358974,
          708.517669252932,
          1314.8212407369,
          2236.96971609336,
          3541.26502905774,
          5261.51589334547,
          7383.61063349032,
          9840.24387753892,
          12518.4650689629,
          15280.1846183573,
          17977.5951930132,
          20473.4943142078,
          22673.8779902955,
          24549.1339367374,
          26126.7220762232,
          27522.2024475855,
          28909.2269737528
         ],
         "yaxis": "y21"
        },
        {
         "line": {
          "color": "rgb(188,128,189)"
         },
         "mode": "lines+text",
         "name": "B10",
         "text": [
          "",
          "",
          "",
          "",
          "",
          "",
          "",
          "",
          "",
          "",
          "",
          "",
          "",
          "",
          "",
          "",
          "",
          "",
          "",
          "",
          "",
          "",
          "",
          "",
          "",
          "",
          "",
          "",
          "",
          "",
          "",
          "",
          "32309.4",
          "",
          "",
          "",
          "",
          "",
          "",
          ""
         ],
         "textfont": {
          "color": "black",
          "family": "sans serif",
          "size": 8
         },
         "textposition": "top left",
         "type": "scatter",
         "x": [
          1,
          2,
          3,
          4,
          5,
          6,
          7,
          8,
          9,
          10,
          11,
          12,
          13,
          14,
          15,
          16,
          17,
          18,
          19,
          20,
          21,
          22,
          23,
          24,
          25,
          26,
          27,
          28,
          29,
          30,
          31,
          32,
          33,
          34,
          35,
          36,
          37,
          38,
          39,
          40
         ],
         "xaxis": "x22",
         "y": [
          0,
          0,
          0,
          0,
          0,
          0,
          0,
          0,
          0,
          0,
          0,
          0,
          0,
          0,
          0,
          0,
          0,
          0,
          0,
          0,
          0,
          41.0027389648784,
          162.515153515762,
          410.279409794653,
          849.508899546233,
          1560.80221764117,
          2626.84343448981,
          4112.40930754035,
          6043.69113140163,
          8394.2372312441,
          11082.9232598444,
          13985.4198353351,
          16957.1907867408,
          19853.2787174631,
          22565.7622238755,
          24977.4130931248,
          27050.6419396421,
          28803.559692247,
          30556.4774448519,
          32309.3951974568
         ],
         "yaxis": "y22"
        },
        {
         "line": {
          "color": "rgb(204,235,197)"
         },
         "mode": "lines+text",
         "name": "B11",
         "text": [
          "",
          "",
          "",
          "",
          "",
          "",
          "",
          "",
          "",
          "",
          "",
          "",
          "",
          "",
          "",
          "",
          "",
          "",
          "",
          "",
          "",
          "",
          "",
          "",
          "",
          "",
          "",
          "",
          "",
          "",
          "",
          "",
          "29164.2",
          "",
          "",
          "",
          "",
          "",
          "",
          ""
         ],
         "textfont": {
          "color": "black",
          "family": "sans serif",
          "size": 8
         },
         "textposition": "top left",
         "type": "scatter",
         "x": [
          1,
          2,
          3,
          4,
          5,
          6,
          7,
          8,
          9,
          10,
          11,
          12,
          13,
          14,
          15,
          16,
          17,
          18,
          19,
          20,
          21,
          22,
          23,
          24,
          25,
          26,
          27,
          28,
          29,
          30,
          31,
          32,
          33,
          34,
          35,
          36,
          37,
          38,
          39,
          40
         ],
         "xaxis": "x23",
         "y": [
          0,
          0,
          0,
          0,
          0,
          0,
          0,
          0,
          0,
          0,
          0,
          0,
          0,
          0,
          0,
          0,
          0,
          0,
          0,
          0,
          0,
          40.3151590670155,
          156.842470106097,
          391.458824221206,
          804.427976174566,
          1471.08345119583,
          2469.88083352273,
          3863.64311578358,
          5679.47008154022,
          7894.38804758029,
          10432.1339975021,
          13172.7848568269,
          15974.2406585525,
          18690.0728632939,
          21209.6366975254,
          23402.8493885331,
          25226.811075408,
          26670.5841609901,
          27917.4143349142,
          29164.2445088383
         ],
         "yaxis": "y23"
        },
        {
         "line": {
          "color": "rgb(255,237,111)"
         },
         "mode": "lines+text",
         "name": "B12",
         "text": [
          "",
          "",
          "",
          "",
          "",
          "",
          "",
          "",
          "",
          "",
          "",
          "",
          "",
          "",
          "",
          "",
          "",
          "",
          "",
          "",
          "",
          "",
          "",
          "",
          "",
          "",
          "",
          "",
          "",
          "",
          "",
          "",
          "27439.4",
          "",
          "",
          "",
          "",
          "",
          "",
          ""
         ],
         "textfont": {
          "color": "black",
          "family": "sans serif",
          "size": 8
         },
         "textposition": "top left",
         "type": "scatter",
         "x": [
          1,
          2,
          3,
          4,
          5,
          6,
          7,
          8,
          9,
          10,
          11,
          12,
          13,
          14,
          15,
          16,
          17,
          18,
          19,
          20,
          21,
          22,
          23,
          24,
          25,
          26,
          27,
          28,
          29,
          30,
          31,
          32,
          33,
          34,
          35,
          36,
          37,
          38,
          39,
          40
         ],
         "xaxis": "x24",
         "y": [
          0,
          0,
          0,
          0,
          0,
          0,
          0,
          0,
          0,
          0,
          0,
          0,
          0,
          0,
          0,
          0,
          0,
          0,
          0,
          0,
          0,
          44.3889521446541,
          170.386884016214,
          420.531096188026,
          854.155556031632,
          1542.62762596079,
          2556.33024958058,
          3946.39039412753,
          5726.59796860044,
          7862.39630620009,
          10271.4117286182,
          12835.4693924137,
          15421.8539391254,
          17901.2472065642,
          20180.2762280129,
          22159.4615011578,
          23810.0178876227,
          25135.1958749616,
          26287.3138693118,
          27439.4318636621
         ],
         "yaxis": "y24"
        },
        {
         "line": {
          "color": "rgb(141,211,199)"
         },
         "mode": "lines+text",
         "name": "C01",
         "text": [
          "",
          "",
          "",
          "",
          "",
          "",
          "",
          "",
          "",
          "",
          "",
          "",
          "",
          "",
          "",
          "",
          "",
          "",
          "",
          "",
          "",
          "",
          "",
          "",
          "",
          "",
          "",
          "",
          "",
          "",
          "",
          "",
          "28157.5",
          "",
          "",
          "",
          "",
          "",
          "",
          ""
         ],
         "textfont": {
          "color": "black",
          "family": "sans serif",
          "size": 8
         },
         "textposition": "top left",
         "type": "scatter",
         "x": [
          1,
          2,
          3,
          4,
          5,
          6,
          7,
          8,
          9,
          10,
          11,
          12,
          13,
          14,
          15,
          16,
          17,
          18,
          19,
          20,
          21,
          22,
          23,
          24,
          25,
          26,
          27,
          28,
          29,
          30,
          31,
          32,
          33,
          34,
          35,
          36,
          37,
          38,
          39,
          40
         ],
         "xaxis": "x25",
         "y": [
          0,
          0,
          0,
          0,
          0,
          0,
          0,
          0,
          0,
          0,
          0,
          0,
          0,
          0,
          0,
          0,
          0,
          0,
          0,
          0,
          0,
          38.8473678725165,
          153.514458609484,
          387.09210940815,
          801.691144394668,
          1474.7363890756,
          2486.4755465146,
          3900.74361302646,
          5744.05099991553,
          7990.29006598278,
          10557.6738946942,
          13317.4634166915,
          16112.8614371071,
          18783.7505796869,
          21205.8575047727,
          23262.1839737191,
          24903.0075134956,
          26148.4567340073,
          27152.9989344259,
          28157.5411348445
         ],
         "yaxis": "y25"
        },
        {
         "line": {
          "color": "rgb(255,255,179)"
         },
         "mode": "lines+text",
         "name": "C02",
         "text": [
          "",
          "",
          "",
          "",
          "",
          "",
          "",
          "",
          "",
          "",
          "",
          "",
          "",
          "",
          "",
          "",
          "",
          "",
          "",
          "",
          "",
          "",
          "",
          "",
          "",
          "",
          "",
          "",
          "",
          "",
          "",
          "",
          "19951.0",
          "",
          "",
          "",
          "",
          "",
          "",
          ""
         ],
         "textfont": {
          "color": "black",
          "family": "sans serif",
          "size": 8
         },
         "textposition": "top left",
         "type": "scatter",
         "x": [
          1,
          2,
          3,
          4,
          5,
          6,
          7,
          8,
          9,
          10,
          11,
          12,
          13,
          14,
          15,
          16,
          17,
          18,
          19,
          20,
          21,
          22,
          23,
          24,
          25,
          26,
          27,
          28,
          29,
          30,
          31,
          32,
          33,
          34,
          35,
          36,
          37,
          38,
          39,
          40
         ],
         "xaxis": "x26",
         "y": [
          0,
          0,
          0,
          0,
          0,
          0,
          0,
          0,
          0,
          0,
          0,
          0,
          0,
          0,
          0,
          0,
          0,
          0,
          0,
          0,
          0,
          0,
          31.0071917677579,
          119.726044752832,
          297.255147409566,
          608.080408363434,
          1107.24420173906,
          1850.71969268133,
          2880.55820506523,
          4209.28640294691,
          5809.38830741958,
          7612.25107111301,
          9518.93765142809,
          11420.2365581286,
          13225.2535970853,
          14858.0786004144,
          16283.1340319883,
          17505.7517900186,
          18728.369548049,
          19950.9873060793
         ],
         "yaxis": "y26"
        },
        {
         "line": {
          "color": "rgb(190,186,218)"
         },
         "mode": "lines+text",
         "name": "C03",
         "text": [
          "",
          "",
          "",
          "",
          "",
          "",
          "",
          "",
          "",
          "",
          "",
          "",
          "",
          "",
          "",
          "",
          "",
          "",
          "",
          "",
          "",
          "",
          "",
          "",
          "",
          "",
          "",
          "",
          "",
          "",
          "",
          "",
          "37418.5",
          "",
          "",
          "",
          "",
          "",
          "",
          ""
         ],
         "textfont": {
          "color": "black",
          "family": "sans serif",
          "size": 8
         },
         "textposition": "top left",
         "type": "scatter",
         "x": [
          1,
          2,
          3,
          4,
          5,
          6,
          7,
          8,
          9,
          10,
          11,
          12,
          13,
          14,
          15,
          16,
          17,
          18,
          19,
          20,
          21,
          22,
          23,
          24,
          25,
          26,
          27,
          28,
          29,
          30,
          31,
          32,
          33,
          34,
          35,
          36,
          37,
          38,
          39,
          40
         ],
         "xaxis": "x27",
         "y": [
          0,
          0,
          0,
          0,
          0,
          0,
          0,
          0,
          0,
          0,
          0,
          0,
          0,
          0,
          0,
          0,
          0,
          0,
          0,
          0,
          0,
          53.9965491111615,
          211.948514018321,
          530.841683722296,
          1090.08512673126,
          1984.34104793515,
          3306.195565342,
          5122.05672708332,
          7448.12727559751,
          10237.3059622192,
          13382.0500016809,
          16731.4245330181,
          20122.2499303885,
          23398.9748684083,
          26432.159988727,
          29144.4873494864,
          31522.4526402919,
          33607.5094720112,
          35516.7837526543,
          37418.4614805277
         ],
         "yaxis": "y27"
        },
        {
         "line": {
          "color": "rgb(251,128,114)"
         },
         "mode": "lines+text",
         "name": "C04",
         "text": [
          "",
          "",
          "",
          "",
          "",
          "",
          "",
          "",
          "",
          "",
          "",
          "",
          "",
          "",
          "",
          "",
          "",
          "",
          "",
          "",
          "",
          "",
          "",
          "",
          "",
          "",
          "",
          "",
          "",
          "",
          "",
          "",
          "23952.6",
          "",
          "",
          "",
          "",
          "",
          "",
          ""
         ],
         "textfont": {
          "color": "black",
          "family": "sans serif",
          "size": 8
         },
         "textposition": "top left",
         "type": "scatter",
         "x": [
          1,
          2,
          3,
          4,
          5,
          6,
          7,
          8,
          9,
          10,
          11,
          12,
          13,
          14,
          15,
          16,
          17,
          18,
          19,
          20,
          21,
          22,
          23,
          24,
          25,
          26,
          27,
          28,
          29,
          30,
          31,
          32,
          33,
          34,
          35,
          36,
          37,
          38,
          39,
          40
         ],
         "xaxis": "x28",
         "y": [
          0,
          0,
          0,
          0,
          0,
          0,
          0,
          0,
          0,
          0,
          0,
          0,
          0,
          0,
          0,
          0,
          0,
          0,
          0,
          0,
          0,
          41.4040976696131,
          160.508499009767,
          398.307179672168,
          811.202578274019,
          1465.94008114487,
          2427.09878250476,
          3739.67320120409,
          5411.44394879991,
          7401.66005559075,
          9620.96928573229,
          11943.6867648361,
          14229.7378718188,
          16351.3348298873,
          18221.5897712176,
          19786.6700171176,
          21039.8523868467,
          22010.7543207712,
          22981.6562546958,
          23952.5581886204
         ],
         "yaxis": "y28"
        },
        {
         "line": {
          "color": "rgb(128,177,211)"
         },
         "mode": "lines+text",
         "name": "C05",
         "text": [
          "",
          "",
          "",
          "",
          "",
          "",
          "",
          "",
          "",
          "",
          "",
          "",
          "",
          "",
          "",
          "",
          "",
          "",
          "",
          "",
          "",
          "",
          "",
          "",
          "",
          "",
          "",
          "",
          "",
          "",
          "",
          "",
          "33250.1",
          "",
          "",
          "",
          "",
          "",
          "",
          ""
         ],
         "textfont": {
          "color": "black",
          "family": "sans serif",
          "size": 8
         },
         "textposition": "top left",
         "type": "scatter",
         "x": [
          1,
          2,
          3,
          4,
          5,
          6,
          7,
          8,
          9,
          10,
          11,
          12,
          13,
          14,
          15,
          16,
          17,
          18,
          19,
          20,
          21,
          22,
          23,
          24,
          25,
          26,
          27,
          28,
          29,
          30,
          31,
          32,
          33,
          34,
          35,
          36,
          37,
          38,
          39,
          40
         ],
         "xaxis": "x29",
         "y": [
          0,
          0,
          0,
          0,
          0,
          0,
          0,
          0,
          0,
          0,
          0,
          0,
          0,
          0,
          0,
          0,
          0,
          0,
          0,
          0,
          0,
          55.017521880334,
          213.838719743138,
          530.829307693435,
          1079.15911972076,
          1942.88734521261,
          3199.65758671987,
          4899.03230402924,
          7043.35137081236,
          9578.59164837403,
          12399.8305532423,
          15369.167248883101,
          18341.0918481629,
          21183.655444809,
          23795.0748120414,
          26119.9108037168,
          28157.8097235485,
          29950.7878487631,
          31602.6446283114,
          33250.1410175527
         ],
         "yaxis": "y29"
        },
        {
         "line": {
          "color": "rgb(253,180,98)"
         },
         "mode": "lines+text",
         "name": "C06",
         "text": [
          "",
          "",
          "",
          "",
          "",
          "",
          "",
          "",
          "",
          "",
          "",
          "",
          "",
          "",
          "",
          "",
          "",
          "",
          "",
          "",
          "",
          "",
          "",
          "",
          "",
          "",
          "",
          "",
          "",
          "",
          "",
          "",
          "33131.0",
          "",
          "",
          "",
          "",
          "",
          "",
          ""
         ],
         "textfont": {
          "color": "black",
          "family": "sans serif",
          "size": 8
         },
         "textposition": "top left",
         "type": "scatter",
         "x": [
          1,
          2,
          3,
          4,
          5,
          6,
          7,
          8,
          9,
          10,
          11,
          12,
          13,
          14,
          15,
          16,
          17,
          18,
          19,
          20,
          21,
          22,
          23,
          24,
          25,
          26,
          27,
          28,
          29,
          30,
          31,
          32,
          33,
          34,
          35,
          36,
          37,
          38,
          39,
          40
         ],
         "xaxis": "x30",
         "y": [
          0,
          0,
          0,
          0,
          0,
          0,
          0,
          0,
          0,
          0,
          0,
          0,
          0,
          0,
          0,
          0,
          0,
          0,
          0,
          0,
          0,
          62.4963826967046,
          240.060785389391,
          589.442712485403,
          1184.03131635669,
          2104.6675455033,
          3421.71898812891,
          5174.37096213201,
          7354.14908009724,
          9899.11125593797,
          12701.8783089069,
          15628.3300478388,
          18541.668814258,
          21320.1500859482,
          23870.4165488766,
          26142.1484393315,
          28136.1898758964,
          29893.968234552,
          31514.7478028918,
          33130.9635506039
         ],
         "yaxis": "y30"
        },
        {
         "line": {
          "color": "rgb(179,222,105)"
         },
         "mode": "lines+text",
         "name": "C07",
         "text": [
          "",
          "",
          "",
          "",
          "",
          "",
          "",
          "",
          "",
          "",
          "",
          "",
          "",
          "",
          "",
          "",
          "",
          "",
          "",
          "",
          "",
          "",
          "",
          "",
          "",
          "",
          "",
          "",
          "",
          "",
          "",
          "",
          "35569.1",
          "",
          "",
          "",
          "",
          "",
          "",
          ""
         ],
         "textfont": {
          "color": "black",
          "family": "sans serif",
          "size": 8
         },
         "textposition": "top left",
         "type": "scatter",
         "x": [
          1,
          2,
          3,
          4,
          5,
          6,
          7,
          8,
          9,
          10,
          11,
          12,
          13,
          14,
          15,
          16,
          17,
          18,
          19,
          20,
          21,
          22,
          23,
          24,
          25,
          26,
          27,
          28,
          29,
          30,
          31,
          32,
          33,
          34,
          35,
          36,
          37,
          38,
          39,
          40
         ],
         "xaxis": "x31",
         "y": [
          0,
          0,
          0,
          0,
          0,
          0,
          0,
          0,
          0,
          0,
          0,
          0,
          0,
          0,
          0,
          0,
          0,
          0,
          0,
          0,
          0,
          54.3164659753975,
          211.942293080566,
          528.281687125583,
          1079.71060899562,
          1956.9673689652,
          3248.19250499521,
          5015.33815824409,
          7271.87165207493,
          9970.61631348393,
          13006.5657174907,
          16234.0000525623,
          19495.4801837488,
          22641.4675990812,
          25567.6022032338,
          28156.8893723734,
          30380.4357977448,
          32233.533812666,
          33901.2940887586,
          35569.0543648512
         ],
         "yaxis": "y31"
        },
        {
         "line": {
          "color": "rgb(252,205,229)"
         },
         "mode": "lines+text",
         "name": "C08",
         "text": [
          "",
          "",
          "",
          "",
          "",
          "",
          "",
          "",
          "",
          "",
          "",
          "",
          "",
          "",
          "",
          "",
          "",
          "",
          "",
          "",
          "",
          "",
          "",
          "",
          "",
          "",
          "",
          "",
          "",
          "",
          "",
          "",
          "36277.6",
          "",
          "",
          "",
          "",
          "",
          "",
          ""
         ],
         "textfont": {
          "color": "black",
          "family": "sans serif",
          "size": 8
         },
         "textposition": "top left",
         "type": "scatter",
         "x": [
          1,
          2,
          3,
          4,
          5,
          6,
          7,
          8,
          9,
          10,
          11,
          12,
          13,
          14,
          15,
          16,
          17,
          18,
          19,
          20,
          21,
          22,
          23,
          24,
          25,
          26,
          27,
          28,
          29,
          30,
          31,
          32,
          33,
          34,
          35,
          36,
          37,
          38,
          39,
          40
         ],
         "xaxis": "x32",
         "y": [
          0,
          0,
          0,
          0,
          0,
          0,
          0,
          0,
          0,
          0,
          0,
          0,
          0,
          0,
          0,
          0,
          0,
          0,
          0,
          0,
          0,
          64.3444396980117,
          248.145300856811,
          611.994257531466,
          1235.91753288967,
          2210.14287669174,
          3616.16981425409,
          5503.56806076563,
          7870.19401556139,
          10653.9531611088,
          13739.6232540349,
          16978.6933125636,
          20217.4967844007,
          23317.7962985598,
          26187.7242716909,
          28736.8314919625,
          30949.7414074647,
          32836.5026716211,
          34557.0613882385,
          36277.6201048559
         ],
         "yaxis": "y32"
        },
        {
         "line": {
          "color": "rgb(217,217,217)"
         },
         "mode": "lines+text",
         "name": "C09",
         "text": [
          "",
          "",
          "",
          "",
          "",
          "",
          "",
          "",
          "",
          "",
          "",
          "",
          "",
          "",
          "",
          "",
          "",
          "",
          "",
          "",
          "",
          "",
          "",
          "",
          "",
          "",
          "",
          "",
          "",
          "",
          "",
          "",
          "30983.4",
          "",
          "",
          "",
          "",
          "",
          "",
          ""
         ],
         "textfont": {
          "color": "black",
          "family": "sans serif",
          "size": 8
         },
         "textposition": "top left",
         "type": "scatter",
         "x": [
          1,
          2,
          3,
          4,
          5,
          6,
          7,
          8,
          9,
          10,
          11,
          12,
          13,
          14,
          15,
          16,
          17,
          18,
          19,
          20,
          21,
          22,
          23,
          24,
          25,
          26,
          27,
          28,
          29,
          30,
          31,
          32,
          33,
          34,
          35,
          36,
          37,
          38,
          39,
          40
         ],
         "xaxis": "x33",
         "y": [
          0,
          0,
          0,
          0,
          0,
          0,
          0,
          0,
          0,
          0,
          0,
          0,
          0,
          0,
          0,
          0,
          0,
          0,
          0,
          0,
          0,
          41.3989998759718,
          162.834674155968,
          409.297198133803,
          844.808796492621,
          1547.9572407039,
          2598.36854132338,
          4056.8973111361,
          5945.13395365399,
          8232.07406484789,
          10833.2100741282,
          13623.1480150091,
          16459.8746636507,
          19206.0188718467,
          21763.0556161753,
          24032.5416443942,
          25989.1213260318,
          27653.8917944618,
          29318.6622628918,
          30983.4327313218
         ],
         "yaxis": "y33"
        },
        {
         "line": {
          "color": "rgb(188,128,189)"
         },
         "mode": "lines+text",
         "name": "C10",
         "text": [
          "",
          "",
          "",
          "",
          "",
          "",
          "",
          "",
          "",
          "",
          "",
          "",
          "",
          "",
          "",
          "",
          "",
          "",
          "",
          "",
          "",
          "",
          "",
          "",
          "",
          "",
          "",
          "",
          "",
          "",
          "",
          "",
          "34039.1",
          "",
          "",
          "",
          "",
          "",
          "",
          ""
         ],
         "textfont": {
          "color": "black",
          "family": "sans serif",
          "size": 8
         },
         "textposition": "top left",
         "type": "scatter",
         "x": [
          1,
          2,
          3,
          4,
          5,
          6,
          7,
          8,
          9,
          10,
          11,
          12,
          13,
          14,
          15,
          16,
          17,
          18,
          19,
          20,
          21,
          22,
          23,
          24,
          25,
          26,
          27,
          28,
          29,
          30,
          31,
          32,
          33,
          34,
          35,
          36,
          37,
          38,
          39,
          40
         ],
         "xaxis": "x34",
         "y": [
          0,
          0,
          0,
          0,
          0,
          0,
          0,
          0,
          0,
          0,
          0,
          0,
          0,
          0,
          0,
          0,
          0,
          0,
          0,
          0,
          0,
          52.7913737961766,
          206.335577460371,
          514.537675286699,
          1050.84742715205,
          1901.38057150488,
          3148.28408612442,
          4847.68890421643,
          7009.45535680369,
          9586.43682367289,
          12477.5010826924,
          15544.0636946675,
          18635.7104016354,
          21612.0450282075,
          24374.7868790241,
          26831.2979233849,
          28958.2951769137,
          30766.4035477859,
          32402.7331320052,
          34039.0627162244
         ],
         "yaxis": "y34"
        },
        {
         "line": {
          "color": "rgb(204,235,197)"
         },
         "mode": "lines+text",
         "name": "C11",
         "text": [
          "",
          "",
          "",
          "",
          "",
          "",
          "",
          "",
          "",
          "",
          "",
          "",
          "",
          "",
          "",
          "",
          "",
          "",
          "",
          "",
          "",
          "",
          "",
          "",
          "",
          "",
          "",
          "",
          "",
          "",
          "",
          "",
          "27215.0",
          "",
          "",
          "",
          "",
          "",
          "",
          ""
         ],
         "textfont": {
          "color": "black",
          "family": "sans serif",
          "size": 8
         },
         "textposition": "top left",
         "type": "scatter",
         "x": [
          1,
          2,
          3,
          4,
          5,
          6,
          7,
          8,
          9,
          10,
          11,
          12,
          13,
          14,
          15,
          16,
          17,
          18,
          19,
          20,
          21,
          22,
          23,
          24,
          25,
          26,
          27,
          28,
          29,
          30,
          31,
          32,
          33,
          34,
          35,
          36,
          37,
          38,
          39,
          40
         ],
         "xaxis": "x35",
         "y": [
          0,
          0,
          0,
          0,
          0,
          0,
          0,
          0,
          0,
          0,
          0,
          0,
          0,
          0,
          0,
          0,
          0,
          0,
          0,
          0,
          0,
          43.3590472488578,
          167.483465579889,
          414.93044129216,
          844.514715369813,
          1526.23988233598,
          2527.91765112644,
          3897.08659382547,
          5643.71591647747,
          7730.38286570086,
          10074.1006120268,
          12559.7863674564,
          15061.9491471742,
          17462.9208168706,
          19680.8338017712,
          21635.3272340846,
          23308.0837016709,
          24706.1571299773,
          25960.5543923116,
          27214.9516546459
         ],
         "yaxis": "y35"
        },
        {
         "line": {
          "color": "rgb(255,237,111)"
         },
         "mode": "lines+text",
         "name": "C12",
         "text": [
          "",
          "",
          "",
          "",
          "",
          "",
          "",
          "",
          "",
          "",
          "",
          "",
          "",
          "",
          "",
          "",
          "",
          "",
          "",
          "",
          "",
          "",
          "",
          "",
          "",
          "",
          "",
          "",
          "",
          "",
          "",
          "",
          "28969.9",
          "",
          "",
          "",
          "",
          "",
          "",
          ""
         ],
         "textfont": {
          "color": "black",
          "family": "sans serif",
          "size": 8
         },
         "textposition": "top left",
         "type": "scatter",
         "x": [
          1,
          2,
          3,
          4,
          5,
          6,
          7,
          8,
          9,
          10,
          11,
          12,
          13,
          14,
          15,
          16,
          17,
          18,
          19,
          20,
          21,
          22,
          23,
          24,
          25,
          26,
          27,
          28,
          29,
          30,
          31,
          32,
          33,
          34,
          35,
          36,
          37,
          38,
          39,
          40
         ],
         "xaxis": "x36",
         "y": [
          0,
          0,
          0,
          0,
          0,
          0,
          0,
          0,
          0,
          0,
          0,
          0,
          0,
          0,
          0,
          0,
          0,
          0,
          0,
          0,
          0,
          45.8002191799276,
          177.638941589259,
          440.900201531916,
          897.76680730182,
          1621.45273455724,
          2682.06983823801,
          4128.0866274859,
          5968.95128445538,
          8165.3454594252,
          10631.6175180134,
          13249.8259404428,
          15892.0119340445,
          18437.5197256228,
          20802.4859316912,
          22898.4608839112,
          24705.3447239031,
          26223.8630323592,
          27596.8596000815,
          28969.8561678038
         ],
         "yaxis": "y36"
        },
        {
         "line": {
          "color": "rgb(141,211,199)"
         },
         "mode": "lines+text",
         "name": "D01",
         "text": [
          "",
          "",
          "",
          "",
          "",
          "",
          "",
          "",
          "",
          "",
          "",
          "",
          "",
          "",
          "",
          "",
          "",
          "",
          "",
          "",
          "",
          "",
          "",
          "",
          "",
          "",
          "",
          "",
          "",
          "",
          "",
          "",
          "27966.8",
          "",
          "",
          "",
          "",
          "",
          "",
          ""
         ],
         "textfont": {
          "color": "black",
          "family": "sans serif",
          "size": 8
         },
         "textposition": "top left",
         "type": "scatter",
         "x": [
          1,
          2,
          3,
          4,
          5,
          6,
          7,
          8,
          9,
          10,
          11,
          12,
          13,
          14,
          15,
          16,
          17,
          18,
          19,
          20,
          21,
          22,
          23,
          24,
          25,
          26,
          27,
          28,
          29,
          30,
          31,
          32,
          33,
          34,
          35,
          36,
          37,
          38,
          39,
          40
         ],
         "xaxis": "x37",
         "y": [
          0,
          0,
          0,
          0,
          0,
          0,
          0,
          0,
          0,
          0,
          0,
          0,
          0,
          0,
          0,
          0,
          0,
          0,
          0,
          0,
          0,
          59.5114997534982,
          228.11500102826,
          559.943557012284,
          1125.63835865477,
          2003.84507940049,
          3263.62634091991,
          4943.0793976989,
          7031.29162910183,
          9460.28710107622,
          12110.8722896961,
          14831.5528186751,
          17464.8481024817,
          19875.0054658209,
          21976.0132188443,
          23717.4029785599,
          25099.8201328228,
          26176.9870145231,
          27071.8947278342,
          27966.8024411453
         ],
         "yaxis": "y37"
        },
        {
         "line": {
          "color": "rgb(255,255,179)"
         },
         "mode": "lines+text",
         "name": "D02",
         "text": [
          "",
          "",
          "",
          "",
          "",
          "",
          "",
          "",
          "",
          "",
          "",
          "",
          "",
          "",
          "",
          "",
          "",
          "",
          "",
          "",
          "",
          "",
          "",
          "",
          "",
          "",
          "",
          "",
          "",
          "",
          "",
          "",
          "23229.6",
          "",
          "",
          "",
          "",
          "",
          "",
          ""
         ],
         "textfont": {
          "color": "black",
          "family": "sans serif",
          "size": 8
         },
         "textposition": "top left",
         "type": "scatter",
         "x": [
          1,
          2,
          3,
          4,
          5,
          6,
          7,
          8,
          9,
          10,
          11,
          12,
          13,
          14,
          15,
          16,
          17,
          18,
          19,
          20,
          21,
          22,
          23,
          24,
          25,
          26,
          27,
          28,
          29,
          30,
          31,
          32,
          33,
          34,
          35,
          36,
          37,
          38,
          39,
          40
         ],
         "xaxis": "x38",
         "y": [
          0,
          0,
          0,
          0,
          0,
          0,
          0,
          0,
          0,
          0,
          0,
          0,
          0,
          0,
          0,
          0,
          0,
          0,
          0,
          0,
          0,
          33.0943405985513,
          130.069862330544,
          327.142443645255,
          676.699622259544,
          1244.27749705505,
          2097.29145622226,
          3287.18220595012,
          4830.25978345305,
          6693.94464672983,
          8794.8712621399,
          11012.0021813483,
          13211.1467077026,
          15273.3101814986,
          17120.7181394589,
          18713.8479316723,
          20058.1185408324,
          21193.9587176757,
          22211.7890065386,
          23229.6192954014
         ],
         "yaxis": "y38"
        },
        {
         "line": {
          "color": "rgb(190,186,218)"
         },
         "mode": "lines+text",
         "name": "D03",
         "text": [
          "",
          "",
          "",
          "",
          "",
          "",
          "",
          "",
          "",
          "",
          "",
          "",
          "",
          "",
          "",
          "",
          "",
          "",
          "",
          "",
          "",
          "",
          "",
          "",
          "",
          "",
          "",
          "",
          "",
          "",
          "",
          "",
          "33654.8",
          "",
          "",
          "",
          "",
          "",
          "",
          ""
         ],
         "textfont": {
          "color": "black",
          "family": "sans serif",
          "size": 8
         },
         "textposition": "top left",
         "type": "scatter",
         "x": [
          1,
          2,
          3,
          4,
          5,
          6,
          7,
          8,
          9,
          10,
          11,
          12,
          13,
          14,
          15,
          16,
          17,
          18,
          19,
          20,
          21,
          22,
          23,
          24,
          25,
          26,
          27,
          28,
          29,
          30,
          31,
          32,
          33,
          34,
          35,
          36,
          37,
          38,
          39,
          40
         ],
         "xaxis": "x39",
         "y": [
          0,
          0,
          0,
          0,
          0,
          0,
          0,
          0,
          0,
          0,
          0,
          0,
          0,
          0,
          0,
          0,
          0,
          0,
          0,
          0,
          0,
          59.8383869281561,
          230.407424530426,
          568.172686116954,
          1148.40699889051,
          2055.61581379741,
          3365.19219640454,
          5122.66698032359,
          7325.69183490646,
          9917.23562758728,
          12794.2111904118,
          15824.9403374086,
          18871.4001315684,
          21803.0892196667,
          24527.8159343019,
          26930.3328220497,
          28977.6087359148,
          30659.9496892042,
          32157.3804573145,
          33654.8112254248
         ],
         "yaxis": "y39"
        },
        {
         "line": {
          "color": "rgb(251,128,114)"
         },
         "mode": "lines+text",
         "name": "D04",
         "text": [
          "",
          "",
          "",
          "",
          "",
          "",
          "",
          "",
          "",
          "",
          "",
          "",
          "",
          "",
          "",
          "",
          "",
          "",
          "",
          "",
          "",
          "",
          "",
          "",
          "",
          "",
          "",
          "",
          "",
          "",
          "",
          "",
          "26711.5",
          "",
          "",
          "",
          "",
          "",
          "",
          ""
         ],
         "textfont": {
          "color": "black",
          "family": "sans serif",
          "size": 8
         },
         "textposition": "top left",
         "type": "scatter",
         "x": [
          1,
          2,
          3,
          4,
          5,
          6,
          7,
          8,
          9,
          10,
          11,
          12,
          13,
          14,
          15,
          16,
          17,
          18,
          19,
          20,
          21,
          22,
          23,
          24,
          25,
          26,
          27,
          28,
          29,
          30,
          31,
          32,
          33,
          34,
          35,
          36,
          37,
          38,
          39,
          40
         ],
         "xaxis": "x40",
         "y": [
          0,
          0,
          0,
          0,
          0,
          0,
          0,
          0,
          0,
          0,
          0,
          0,
          0,
          0,
          0,
          0,
          0,
          0,
          0,
          0,
          29.1035946002867,
          117.502412288796,
          301.357949575062,
          634.548761680961,
          1186.70877264222,
          2033.33033313761,
          3238.9259789558,
          4836.96167910661,
          6812.97169097203,
          9097.866008088,
          11574.6566502475,
          14098.255972198,
          16524.2344613955,
          18735.9515259969,
          20666.9036795348,
          22292.4342791599,
          23633.066335905,
          24744.3338288555,
          25727.8937148382,
          26711.4536008209
         ],
         "yaxis": "y40"
        },
        {
         "line": {
          "color": "rgb(128,177,211)"
         },
         "mode": "lines+text",
         "name": "D05",
         "text": [
          "",
          "",
          "",
          "",
          "",
          "",
          "",
          "",
          "",
          "",
          "",
          "",
          "",
          "",
          "",
          "",
          "",
          "",
          "",
          "",
          "",
          "",
          "",
          "",
          "",
          "",
          "",
          "",
          "",
          "",
          "",
          "",
          "35484.5",
          "",
          "",
          "",
          "",
          "",
          "",
          ""
         ],
         "textfont": {
          "color": "black",
          "family": "sans serif",
          "size": 8
         },
         "textposition": "top left",
         "type": "scatter",
         "x": [
          1,
          2,
          3,
          4,
          5,
          6,
          7,
          8,
          9,
          10,
          11,
          12,
          13,
          14,
          15,
          16,
          17,
          18,
          19,
          20,
          21,
          22,
          23,
          24,
          25,
          26,
          27,
          28,
          29,
          30,
          31,
          32,
          33,
          34,
          35,
          36,
          37,
          38,
          39,
          40
         ],
         "xaxis": "x41",
         "y": [
          0,
          0,
          0,
          0,
          0,
          0,
          0,
          0,
          0,
          0,
          0,
          0,
          0,
          0,
          0,
          0,
          0,
          0,
          0,
          0,
          0,
          60.7285742141099,
          237.045023318634,
          589.56901010348,
          1198.87978882788,
          2156.29745811559,
          3544.63517891305,
          5414.69838719303,
          7765.08191819129,
          10533.4667623747,
          13603.4537666952,
          16824.4670484325,
          20039.5543355933,
          23106.1259879536,
          25928.394561391,
          28409.6440986363,
          30530.9120505466,
          32302.7403244611,
          33893.6365935094,
          35484.5328625577
         ],
         "yaxis": "y41"
        },
        {
         "line": {
          "color": "rgb(253,180,98)"
         },
         "mode": "lines+text",
         "name": "D06",
         "text": [
          "",
          "",
          "",
          "",
          "",
          "",
          "",
          "",
          "",
          "",
          "",
          "",
          "",
          "",
          "",
          "",
          "",
          "",
          "",
          "",
          "",
          "",
          "",
          "",
          "",
          "",
          "",
          "",
          "",
          "",
          "",
          "",
          "34990.9",
          "",
          "",
          "",
          "",
          "",
          "",
          ""
         ],
         "textfont": {
          "color": "black",
          "family": "sans serif",
          "size": 8
         },
         "textposition": "top left",
         "type": "scatter",
         "x": [
          1,
          2,
          3,
          4,
          5,
          6,
          7,
          8,
          9,
          10,
          11,
          12,
          13,
          14,
          15,
          16,
          17,
          18,
          19,
          20,
          21,
          22,
          23,
          24,
          25,
          26,
          27,
          28,
          29,
          30,
          31,
          32,
          33,
          34,
          35,
          36,
          37,
          38,
          39,
          40
         ],
         "xaxis": "x42",
         "y": [
          0,
          0,
          0,
          0,
          0,
          0,
          0,
          0,
          0,
          0,
          0,
          0,
          0,
          0,
          0,
          0,
          0,
          0,
          0,
          0,
          33.3512940092171,
          136.66949046965,
          353.458218707689,
          747.720021779776,
          1401.13414178712,
          2401.15787077792,
          3821.70426865143,
          5701.90090880768,
          8029.98429898771,
          10738.6638303524,
          13714.280836043,
          16816.5234989557,
          19903.5111255707,
          22848.5055144604,
          25567.7416497008,
          27974.4148691524,
          30051.731290549,
          31808.7207879027,
          33399.8241782488,
          34990.927568595
         ],
         "yaxis": "y42"
        },
        {
         "line": {
          "color": "rgb(179,222,105)"
         },
         "mode": "lines+text",
         "name": "D07",
         "text": [
          "",
          "",
          "",
          "",
          "",
          "",
          "",
          "",
          "",
          "",
          "",
          "",
          "",
          "",
          "",
          "",
          "",
          "",
          "",
          "",
          "",
          "",
          "",
          "",
          "",
          "",
          "",
          "",
          "",
          "",
          "",
          "",
          "39024.8",
          "",
          "",
          "",
          "",
          "",
          "",
          ""
         ],
         "textfont": {
          "color": "black",
          "family": "sans serif",
          "size": 8
         },
         "textposition": "top left",
         "type": "scatter",
         "x": [
          1,
          2,
          3,
          4,
          5,
          6,
          7,
          8,
          9,
          10,
          11,
          12,
          13,
          14,
          15,
          16,
          17,
          18,
          19,
          20,
          21,
          22,
          23,
          24,
          25,
          26,
          27,
          28,
          29,
          30,
          31,
          32,
          33,
          34,
          35,
          36,
          37,
          38,
          39,
          40
         ],
         "xaxis": "x43",
         "y": [
          0,
          0,
          0,
          0,
          0,
          0,
          0,
          0,
          0,
          0,
          0,
          0,
          0,
          0,
          0,
          0,
          0,
          0,
          0,
          0,
          43.3960965548094,
          174.21456514926,
          443.608040495349,
          925.792819547321,
          1713.95486744204,
          2905.57543309671,
          4580.02287557987,
          6773.89081491191,
          9463.02951179171,
          12559.6880783448,
          15925.7668176457,
          19397.8282510127,
          22819.4920590293,
          26055.972873994,
          29025.1377042798,
          31625.0638034895,
          33846.1934257511,
          35689.3537549802,
          37357.0877759009,
          39024.8217968215
         ],
         "yaxis": "y43"
        },
        {
         "line": {
          "color": "rgb(252,205,229)"
         },
         "mode": "lines+text",
         "name": "D08",
         "text": [
          "",
          "",
          "",
          "",
          "",
          "",
          "",
          "",
          "",
          "",
          "",
          "",
          "",
          "",
          "",
          "",
          "",
          "",
          "",
          "",
          "",
          "",
          "",
          "",
          "",
          "",
          "",
          "",
          "",
          "",
          "",
          "",
          "37660.4",
          "",
          "",
          "",
          "",
          "",
          "",
          ""
         ],
         "textfont": {
          "color": "black",
          "family": "sans serif",
          "size": 8
         },
         "textposition": "top left",
         "type": "scatter",
         "x": [
          1,
          2,
          3,
          4,
          5,
          6,
          7,
          8,
          9,
          10,
          11,
          12,
          13,
          14,
          15,
          16,
          17,
          18,
          19,
          20,
          21,
          22,
          23,
          24,
          25,
          26,
          27,
          28,
          29,
          30,
          31,
          32,
          33,
          34,
          35,
          36,
          37,
          38,
          39,
          40
         ],
         "xaxis": "x44",
         "y": [
          0,
          0,
          0,
          0,
          0,
          0,
          0,
          0,
          0,
          0,
          0,
          0,
          0,
          0,
          0,
          0,
          0,
          0,
          0,
          0,
          0,
          61.6354281001654,
          240.383207440102,
          597.710658910971,
          1215.89710691678,
          2189.25459655702,
          3605.1000165013,
          5519.58126053792,
          7936.48369363286,
          10797.4759385194,
          13987.8753208394,
          17356.2181881014,
          20743.2833754613,
          24002.2732838812,
          27033.2443105631,
          29729.732851698,
          32068.8246284828,
          34052.0894706864,
          35856.238776177,
          37660.3880816676
         ],
         "yaxis": "y44"
        },
        {
         "line": {
          "color": "rgb(217,217,217)"
         },
         "mode": "lines+text",
         "name": "D09",
         "text": [
          "",
          "",
          "",
          "",
          "",
          "",
          "",
          "",
          "",
          "",
          "",
          "",
          "",
          "",
          "",
          "",
          "",
          "",
          "",
          "",
          "",
          "",
          "",
          "",
          "",
          "",
          "",
          "",
          "",
          "",
          "",
          "",
          "31515.0",
          "",
          "",
          "",
          "",
          "",
          "",
          ""
         ],
         "textfont": {
          "color": "black",
          "family": "sans serif",
          "size": 8
         },
         "textposition": "top left",
         "type": "scatter",
         "x": [
          1,
          2,
          3,
          4,
          5,
          6,
          7,
          8,
          9,
          10,
          11,
          12,
          13,
          14,
          15,
          16,
          17,
          18,
          19,
          20,
          21,
          22,
          23,
          24,
          25,
          26,
          27,
          28,
          29,
          30,
          31,
          32,
          33,
          34,
          35,
          36,
          37,
          38,
          39,
          40
         ],
         "xaxis": "x45",
         "y": [
          0,
          0,
          0,
          0,
          0,
          0,
          0,
          0,
          0,
          0,
          0,
          0,
          0,
          0,
          0,
          0,
          0,
          0,
          0,
          0,
          0,
          52.8743796935286,
          205.258604541227,
          509.013289716393,
          1033.98219974204,
          1860.48777438688,
          3062.80068223206,
          4688.4902178481,
          6739.8242527169,
          9164.7023127255,
          11861.6923281206,
          14697.3215685348,
          17530.9042102529,
          20236.6298122385,
          22730.407456913,
          24942.8135950488,
          26863.0955911407,
          28511.6652241379,
          30013.3547419777,
          31515.0442598176
         ],
         "yaxis": "y45"
        },
        {
         "line": {
          "color": "rgb(188,128,189)"
         },
         "mode": "lines+text",
         "name": "D10",
         "text": [
          "",
          "",
          "",
          "",
          "",
          "",
          "",
          "",
          "",
          "",
          "",
          "",
          "",
          "",
          "",
          "",
          "",
          "",
          "",
          "",
          "",
          "",
          "",
          "",
          "",
          "",
          "",
          "",
          "",
          "",
          "",
          "",
          "30511.1",
          "",
          "",
          "",
          "",
          "",
          "",
          ""
         ],
         "textfont": {
          "color": "black",
          "family": "sans serif",
          "size": 8
         },
         "textposition": "top left",
         "type": "scatter",
         "x": [
          1,
          2,
          3,
          4,
          5,
          6,
          7,
          8,
          9,
          10,
          11,
          12,
          13,
          14,
          15,
          16,
          17,
          18,
          19,
          20,
          21,
          22,
          23,
          24,
          25,
          26,
          27,
          28,
          29,
          30,
          31,
          32,
          33,
          34,
          35,
          36,
          37,
          38,
          39,
          40
         ],
         "xaxis": "x46",
         "y": [
          0,
          0,
          0,
          0,
          0,
          0,
          0,
          0,
          0,
          0,
          0,
          0,
          0,
          0,
          0,
          0,
          0,
          0,
          0,
          0,
          0,
          52.9004996802632,
          205.133893885379,
          507.889902779981,
          1029.11961661217,
          1845.93656637157,
          3028.49529875804,
          4619.90844853932,
          6619.17917521388,
          8973.94773570778,
          11586.2400206873,
          14329.1831434872,
          17069.5140446972,
          19687.2628778949,
          22100.5176511852,
          24239.4333994457,
          26087.6085478464,
          27664.2936858151,
          29087.7086503278,
          30511.1236148405
         ],
         "yaxis": "y46"
        },
        {
         "line": {
          "color": "rgb(204,235,197)"
         },
         "mode": "lines+text",
         "name": "D11",
         "text": [
          "",
          "",
          "",
          "",
          "",
          "",
          "",
          "",
          "",
          "",
          "",
          "",
          "",
          "",
          "",
          "",
          "",
          "",
          "",
          "",
          "",
          "",
          "",
          "",
          "",
          "",
          "",
          "",
          "",
          "",
          "",
          "",
          "29838.2",
          "",
          "",
          "",
          "",
          "",
          "",
          ""
         ],
         "textfont": {
          "color": "black",
          "family": "sans serif",
          "size": 8
         },
         "textposition": "top left",
         "type": "scatter",
         "x": [
          1,
          2,
          3,
          4,
          5,
          6,
          7,
          8,
          9,
          10,
          11,
          12,
          13,
          14,
          15,
          16,
          17,
          18,
          19,
          20,
          21,
          22,
          23,
          24,
          25,
          26,
          27,
          28,
          29,
          30,
          31,
          32,
          33,
          34,
          35,
          36,
          37,
          38,
          39,
          40
         ],
         "xaxis": "x47",
         "y": [
          0,
          0,
          0,
          0,
          0,
          0,
          0,
          0,
          0,
          0,
          0,
          0,
          0,
          0,
          0,
          0,
          0,
          0,
          0,
          0,
          0,
          53.850768417009,
          206.992777404778,
          509.773923817536,
          1028.90224628165,
          1839.86543026781,
          3010.99762340046,
          4583.56584672512,
          6554.95668652527,
          8871.44402283914,
          11433.5661114579,
          14113.1996372039,
          16777.9874664595,
          19309.8323768625,
          21619.5427833083,
          23661.22769234,
          25438.1103424409,
          26991.904533667,
          28417.1296967967,
          29838.2269224805
         ],
         "yaxis": "y47"
        },
        {
         "line": {
          "color": "rgb(255,237,111)"
         },
         "mode": "lines+text",
         "name": "D12",
         "text": [
          "",
          "",
          "",
          "",
          "",
          "",
          "",
          "",
          "",
          "",
          "",
          "",
          "",
          "",
          "",
          "",
          "",
          "",
          "",
          "",
          "",
          "",
          "",
          "",
          "",
          "",
          "",
          "",
          "",
          "",
          "",
          "",
          "31307.9",
          "",
          "",
          "",
          "",
          "",
          "",
          ""
         ],
         "textfont": {
          "color": "black",
          "family": "sans serif",
          "size": 8
         },
         "textposition": "top left",
         "type": "scatter",
         "x": [
          1,
          2,
          3,
          4,
          5,
          6,
          7,
          8,
          9,
          10,
          11,
          12,
          13,
          14,
          15,
          16,
          17,
          18,
          19,
          20,
          21,
          22,
          23,
          24,
          25,
          26,
          27,
          28,
          29,
          30,
          31,
          32,
          33,
          34,
          35,
          36,
          37,
          38,
          39,
          40
         ],
         "xaxis": "x48",
         "y": [
          0,
          0,
          0,
          0,
          0,
          0,
          0,
          0,
          0,
          0,
          0,
          0,
          0,
          0,
          0,
          0,
          0,
          0,
          0,
          0,
          0,
          57.7478191065578,
          222.084004143684,
          546.436607369969,
          1100.52734374215,
          1962.09105292155,
          3200.09007576669,
          4854.54885911261,
          6920.24207862584,
          9340.44511900432,
          12013.3136502481,
          14809.606953445,
          17597.3996863579,
          20258.9524251248,
          22717.3833429441,
          24895.3176124918,
          26781.6905942145,
          28384.8165499633,
          29846.3631649756,
          31307.9097799879
         ],
         "yaxis": "y48"
        },
        {
         "line": {
          "color": "rgb(141,211,199)"
         },
         "mode": "lines+text",
         "name": "E01",
         "text": [
          "",
          "",
          "",
          "",
          "",
          "",
          "",
          "",
          "",
          "",
          "",
          "",
          "",
          "",
          "",
          "",
          "",
          "",
          "",
          "",
          "",
          "",
          "",
          "",
          "",
          "",
          "",
          "",
          "",
          "",
          "",
          "",
          "27400.4",
          "",
          "",
          "",
          "",
          "",
          "",
          ""
         ],
         "textfont": {
          "color": "black",
          "family": "sans serif",
          "size": 8
         },
         "textposition": "top left",
         "type": "scatter",
         "x": [
          1,
          2,
          3,
          4,
          5,
          6,
          7,
          8,
          9,
          10,
          11,
          12,
          13,
          14,
          15,
          16,
          17,
          18,
          19,
          20,
          21,
          22,
          23,
          24,
          25,
          26,
          27,
          28,
          29,
          30,
          31,
          32,
          33,
          34,
          35,
          36,
          37,
          38,
          39,
          40
         ],
         "xaxis": "x49",
         "y": [
          0,
          0,
          0,
          0,
          0,
          0,
          0,
          0,
          0,
          0,
          0,
          0,
          0,
          0,
          0,
          0,
          0,
          0,
          0,
          0,
          38.7597653653129,
          154.038625180709,
          389.82121286798,
          808.815296004437,
          1488.01889918375,
          2505.37862950446,
          3919.32267436461,
          5746.73914471037,
          7947.60986347336,
          10423.1157650123,
          13029.6255509612,
          15606.2108654081,
          18007.3034625867,
          20129.8482600121,
          21928.6572736036,
          23407.9563877396,
          24612.1617310357,
          25612.8004766735,
          26506.5992942328,
          27400.3981117922
         ],
         "yaxis": "y49"
        },
        {
         "line": {
          "color": "rgb(255,255,179)"
         },
         "mode": "lines+text",
         "name": "E02",
         "text": [
          "",
          "",
          "",
          "",
          "",
          "",
          "",
          "",
          "",
          "",
          "",
          "",
          "",
          "",
          "",
          "",
          "",
          "",
          "",
          "",
          "",
          "",
          "",
          "",
          "",
          "",
          "",
          "",
          "",
          "",
          "",
          "",
          "21747.2",
          "",
          "",
          "",
          "",
          "",
          "",
          ""
         ],
         "textfont": {
          "color": "black",
          "family": "sans serif",
          "size": 8
         },
         "textposition": "top left",
         "type": "scatter",
         "x": [
          1,
          2,
          3,
          4,
          5,
          6,
          7,
          8,
          9,
          10,
          11,
          12,
          13,
          14,
          15,
          16,
          17,
          18,
          19,
          20,
          21,
          22,
          23,
          24,
          25,
          26,
          27,
          28,
          29,
          30,
          31,
          32,
          33,
          34,
          35,
          36,
          37,
          38,
          39,
          40
         ],
         "xaxis": "x50",
         "y": [
          0,
          0,
          0,
          0,
          0,
          0,
          0,
          0,
          0,
          0,
          0,
          0,
          0,
          0,
          0,
          0,
          0,
          0,
          0,
          0,
          24.1293604776081,
          96.4951666321681,
          246.26997925908,
          517.175393046213,
          966.088609915281,
          1655.03307017848,
          2636.49106878726,
          3935.83988432748,
          5537.1331614424,
          7378.10384826968,
          9357.36406384626,
          11354.5152184279,
          13257.0594043674,
          14982.7248674802,
          16493.3805552549,
          17789.6149434311,
          18906.5894313929,
          19893.18583554,
          20820.2060310464,
          21747.2262265528
         ],
         "yaxis": "y50"
        },
        {
         "line": {
          "color": "rgb(190,186,218)"
         },
         "mode": "lines+text",
         "name": "E03",
         "text": [
          "",
          "",
          "",
          "",
          "",
          "",
          "",
          "",
          "",
          "",
          "",
          "",
          "",
          "",
          "",
          "",
          "",
          "",
          "",
          "",
          "",
          "",
          "",
          "",
          "",
          "",
          "",
          "",
          "",
          "",
          "",
          "",
          "35008.6",
          "",
          "",
          "",
          "",
          "",
          "",
          ""
         ],
         "textfont": {
          "color": "black",
          "family": "sans serif",
          "size": 8
         },
         "textposition": "top left",
         "type": "scatter",
         "x": [
          1,
          2,
          3,
          4,
          5,
          6,
          7,
          8,
          9,
          10,
          11,
          12,
          13,
          14,
          15,
          16,
          17,
          18,
          19,
          20,
          21,
          22,
          23,
          24,
          25,
          26,
          27,
          28,
          29,
          30,
          31,
          32,
          33,
          34,
          35,
          36,
          37,
          38,
          39,
          40
         ],
         "xaxis": "x51",
         "y": [
          0,
          0,
          0,
          0,
          0,
          0,
          0,
          0,
          0,
          0,
          0,
          0,
          0,
          0,
          0,
          0,
          0,
          0,
          0,
          0,
          57.9665525896703,
          228.444492817914,
          571.57801474595,
          1167.92997296557,
          2109.84984735651,
          3481.87453417398,
          5336.51815694997,
          7673.36624871654,
          10429.0928138621,
          13484.3788029258,
          16685.5506741831,
          19871.2363524236,
          22899.7083537508,
          25654.5322320609,
          28047.0173011555,
          30033.3573214003,
          31624.9508180699,
          32887.2089409762,
          33952.3385260482,
          35008.6169628393
         ],
         "yaxis": "y51"
        },
        {
         "line": {
          "color": "rgb(251,128,114)"
         },
         "mode": "lines+text",
         "name": "E04",
         "text": [
          "",
          "",
          "",
          "",
          "",
          "",
          "",
          "",
          "",
          "",
          "",
          "",
          "",
          "",
          "",
          "",
          "",
          "",
          "",
          "",
          "",
          "",
          "",
          "",
          "",
          "",
          "",
          "",
          "",
          "",
          "",
          "",
          "30760.8",
          "",
          "",
          "",
          "",
          "",
          "",
          ""
         ],
         "textfont": {
          "color": "black",
          "family": "sans serif",
          "size": 8
         },
         "textposition": "top left",
         "type": "scatter",
         "x": [
          1,
          2,
          3,
          4,
          5,
          6,
          7,
          8,
          9,
          10,
          11,
          12,
          13,
          14,
          15,
          16,
          17,
          18,
          19,
          20,
          21,
          22,
          23,
          24,
          25,
          26,
          27,
          28,
          29,
          30,
          31,
          32,
          33,
          34,
          35,
          36,
          37,
          38,
          39,
          40
         ],
         "xaxis": "x52",
         "y": [
          0,
          0,
          0,
          0,
          0,
          0,
          0,
          0,
          0,
          0,
          0,
          0,
          0,
          0,
          0,
          0,
          0,
          0,
          0,
          0,
          54.775880259672,
          214.037252295207,
          532.830221336209,
          1085.08442321667,
          1955.85975241745,
          3223.70535931062,
          4937.74335968425,
          7095.88465534805,
          9632.3598515055,
          12421.6478600859,
          15297.5754943149,
          18085.2494135235,
          20638.7446611947,
          22866.136300934,
          24741.267651378,
          26288.49333709,
          27577.6710043611,
          28687.489060319,
          29724.1362596729,
          30760.7834590268
         ],
         "yaxis": "y52"
        },
        {
         "line": {
          "color": "rgb(128,177,211)"
         },
         "mode": "lines+text",
         "name": "E05",
         "text": [
          "",
          "",
          "",
          "",
          "",
          "",
          "",
          "",
          "",
          "",
          "",
          "",
          "",
          "",
          "",
          "",
          "",
          "",
          "",
          "",
          "",
          "",
          "",
          "",
          "",
          "",
          "",
          "",
          "",
          "",
          "",
          "",
          "36138.3",
          "",
          "",
          "",
          "",
          "",
          "",
          ""
         ],
         "textfont": {
          "color": "black",
          "family": "sans serif",
          "size": 8
         },
         "textposition": "top left",
         "type": "scatter",
         "x": [
          1,
          2,
          3,
          4,
          5,
          6,
          7,
          8,
          9,
          10,
          11,
          12,
          13,
          14,
          15,
          16,
          17,
          18,
          19,
          20,
          21,
          22,
          23,
          24,
          25,
          26,
          27,
          28,
          29,
          30,
          31,
          32,
          33,
          34,
          35,
          36,
          37,
          38,
          39,
          40
         ],
         "xaxis": "x53",
         "y": [
          0,
          0,
          0,
          0,
          0,
          0,
          0,
          0,
          0,
          0,
          0,
          0,
          0,
          0,
          0,
          0,
          0,
          0,
          0,
          0,
          59.9615059432422,
          233.97723611456,
          582.068322555548,
          1184.38122379216,
          2132.08363808347,
          3508.01250336534,
          5362.49230751219,
          7692.79549963467,
          10434.2774484078,
          13467.4861339375,
          16639.3009068993,
          19791.3734841887,
          22787.9431427748,
          25529.9552654084,
          27970.633032811,
          30075.3507741885,
          31865.4478891265,
          33380.9490979658,
          34759.6431182443,
          36138.3371385229
         ],
         "yaxis": "y53"
        },
        {
         "line": {
          "color": "rgb(253,180,98)"
         },
         "mode": "lines+text",
         "name": "E06",
         "text": [
          "",
          "",
          "",
          "",
          "",
          "",
          "",
          "",
          "",
          "",
          "",
          "",
          "",
          "",
          "",
          "",
          "",
          "",
          "",
          "",
          "",
          "",
          "",
          "",
          "",
          "",
          "",
          "",
          "",
          "",
          "",
          "",
          "35550.6",
          "",
          "",
          "",
          "",
          "",
          "",
          ""
         ],
         "textfont": {
          "color": "black",
          "family": "sans serif",
          "size": 8
         },
         "textposition": "top left",
         "type": "scatter",
         "x": [
          1,
          2,
          3,
          4,
          5,
          6,
          7,
          8,
          9,
          10,
          11,
          12,
          13,
          14,
          15,
          16,
          17,
          18,
          19,
          20,
          21,
          22,
          23,
          24,
          25,
          26,
          27,
          28,
          29,
          30,
          31,
          32,
          33,
          34,
          35,
          36,
          37,
          38,
          39,
          40
         ],
         "xaxis": "x54",
         "y": [
          0,
          0,
          0,
          0,
          0,
          0,
          0,
          0,
          0,
          0,
          0,
          0,
          0,
          0,
          0,
          0,
          0,
          0,
          0,
          0,
          68.5721415546857,
          266.160429390837,
          657.777366272379,
          1327.25797966325,
          2366.39022664947,
          3854.64652274289,
          5835.70616631368,
          8298.39584235215,
          11170.4983664245,
          14328.2349743218,
          17617.5326786949,
          20878.8346214614,
          23968.5789833389,
          26767.6243651181,
          29204.8174317419,
          31194.665838186,
          32722.5847676742,
          33823.2818250136,
          34686.9598875392,
          35550.6379500647
         ],
         "yaxis": "y54"
        },
        {
         "line": {
          "color": "rgb(179,222,105)"
         },
         "mode": "lines+text",
         "name": "E07",
         "text": [
          "",
          "",
          "",
          "",
          "",
          "",
          "",
          "",
          "",
          "",
          "",
          "",
          "",
          "",
          "",
          "",
          "",
          "",
          "",
          "",
          "",
          "",
          "",
          "",
          "",
          "",
          "",
          "",
          "",
          "",
          "",
          "",
          "39412.1",
          "",
          "",
          "",
          "",
          "",
          "",
          ""
         ],
         "textfont": {
          "color": "black",
          "family": "sans serif",
          "size": 8
         },
         "textposition": "top left",
         "type": "scatter",
         "x": [
          1,
          2,
          3,
          4,
          5,
          6,
          7,
          8,
          9,
          10,
          11,
          12,
          13,
          14,
          15,
          16,
          17,
          18,
          19,
          20,
          21,
          22,
          23,
          24,
          25,
          26,
          27,
          28,
          29,
          30,
          31,
          32,
          33,
          34,
          35,
          36,
          37,
          38,
          39,
          40
         ],
         "xaxis": "x55",
         "y": [
          0,
          0,
          0,
          0,
          0,
          0,
          0,
          0,
          0,
          0,
          0,
          0,
          0,
          0,
          0,
          0,
          0,
          0,
          0,
          0,
          73.0993365178228,
          282.283003550706,
          695.937157332907,
          1403.53793936633,
          2504.57950800541,
          4085.92960139135,
          6195.39391998467,
          8820.36322988322,
          11879.7001845519,
          15234.290699123,
          18713.2808170425,
          22145.2483057358,
          25388.1907515844,
          28340.602519601,
          30956.963413674,
          33192.8903618551,
          35068.7819949625,
          36622.1731000079,
          38017.1464179375,
          39412.1197358671
         ],
         "yaxis": "y55"
        },
        {
         "line": {
          "color": "rgb(252,205,229)"
         },
         "mode": "lines+text",
         "name": "E08",
         "text": [
          "",
          "",
          "",
          "",
          "",
          "",
          "",
          "",
          "",
          "",
          "",
          "",
          "",
          "",
          "",
          "",
          "",
          "",
          "",
          "",
          "",
          "",
          "",
          "",
          "",
          "",
          "",
          "",
          "",
          "",
          "",
          "",
          "39676.3",
          "",
          "",
          "",
          "",
          "",
          "",
          ""
         ],
         "textfont": {
          "color": "black",
          "family": "sans serif",
          "size": 8
         },
         "textposition": "top left",
         "type": "scatter",
         "x": [
          1,
          2,
          3,
          4,
          5,
          6,
          7,
          8,
          9,
          10,
          11,
          12,
          13,
          14,
          15,
          16,
          17,
          18,
          19,
          20,
          21,
          22,
          23,
          24,
          25,
          26,
          27,
          28,
          29,
          30,
          31,
          32,
          33,
          34,
          35,
          36,
          37,
          38,
          39,
          40
         ],
         "xaxis": "x56",
         "y": [
          0,
          0,
          0,
          0,
          0,
          0,
          0,
          0,
          0,
          0,
          0,
          0,
          0,
          0,
          0,
          0,
          0,
          0,
          0,
          0,
          72.3865629894162,
          279.527607775891,
          688.672206022244,
          1387.95453052188,
          2475.78728291783,
          4039.01969301223,
          6127.30043181984,
          8731.78037127826,
          11776.0214414635,
          15125.1521859574,
          18610.253006461,
          22059.0832780013,
          25326.2533191634,
          28306.9209514695,
          30953.1933810704,
          33225.1346400293,
          35146.1656343965,
          36757.5523501749,
          38216.9341858088,
          39676.3160214427
         ],
         "yaxis": "y56"
        },
        {
         "line": {
          "color": "rgb(217,217,217)"
         },
         "mode": "lines+text",
         "name": "E09",
         "text": [
          "",
          "",
          "",
          "",
          "",
          "",
          "",
          "",
          "",
          "",
          "",
          "",
          "",
          "",
          "",
          "",
          "",
          "",
          "",
          "",
          "",
          "",
          "",
          "",
          "",
          "",
          "",
          "",
          "",
          "",
          "",
          "",
          "31427.8",
          "",
          "",
          "",
          "",
          "",
          "",
          ""
         ],
         "textfont": {
          "color": "black",
          "family": "sans serif",
          "size": 8
         },
         "textposition": "top left",
         "type": "scatter",
         "x": [
          1,
          2,
          3,
          4,
          5,
          6,
          7,
          8,
          9,
          10,
          11,
          12,
          13,
          14,
          15,
          16,
          17,
          18,
          19,
          20,
          21,
          22,
          23,
          24,
          25,
          26,
          27,
          28,
          29,
          30,
          31,
          32,
          33,
          34,
          35,
          36,
          37,
          38,
          39,
          40
         ],
         "xaxis": "x57",
         "y": [
          0,
          0,
          0,
          0,
          0,
          0,
          0,
          0,
          0,
          0,
          0,
          0,
          0,
          0,
          0,
          0,
          0,
          0,
          0,
          0,
          50.4453337532575,
          197.603589613428,
          493.31502202683,
          1007.89625767625,
          1822.83246984891,
          3013.97189451344,
          4629.85432439328,
          6672.07860605604,
          9085.58426817359,
          11763.7650463452,
          14567.0853605395,
          17349.4858309553,
          19985.1759123916,
          22383.0876518233,
          24501.091293502,
          26311.0296953285,
          27835.5355821425,
          29114.0519286706,
          30270.9094161286,
          31427.7669035866
         ],
         "yaxis": "y57"
        },
        {
         "line": {
          "color": "rgb(188,128,189)"
         },
         "mode": "lines+text",
         "name": "E10",
         "text": [
          "",
          "",
          "",
          "",
          "",
          "",
          "",
          "",
          "",
          "",
          "",
          "",
          "",
          "",
          "",
          "",
          "",
          "",
          "",
          "",
          "",
          "",
          "",
          "",
          "",
          "",
          "",
          "",
          "",
          "",
          "",
          "",
          "32370.0",
          "",
          "",
          "",
          "",
          "",
          "",
          ""
         ],
         "textfont": {
          "color": "black",
          "family": "sans serif",
          "size": 8
         },
         "textposition": "top left",
         "type": "scatter",
         "x": [
          1,
          2,
          3,
          4,
          5,
          6,
          7,
          8,
          9,
          10,
          11,
          12,
          13,
          14,
          15,
          16,
          17,
          18,
          19,
          20,
          21,
          22,
          23,
          24,
          25,
          26,
          27,
          28,
          29,
          30,
          31,
          32,
          33,
          34,
          35,
          36,
          37,
          38,
          39,
          40
         ],
         "xaxis": "x58",
         "y": [
          0,
          0,
          0,
          0,
          0,
          0,
          0,
          0,
          0,
          0,
          0,
          0,
          0,
          0,
          0,
          0,
          0,
          0,
          0,
          0,
          57.5529062176691,
          222.531137735067,
          549.889597299429,
          1112.39387505754,
          1992.09399785383,
          3262.72528902583,
          4967.83468921339,
          7102.02315370968,
          9603.26102829822,
          12360.2252226728,
          15232.0975056542,
          18074.7890863313,
          20766.1036870375,
          23217.0184411765,
          25385.6721760638,
          27236.6489968011,
          28786.5789513732,
          30070.574474357,
          31220.2792152099,
          32369.9839560628
         ],
         "yaxis": "y58"
        },
        {
         "line": {
          "color": "rgb(204,235,197)"
         },
         "mode": "lines+text",
         "name": "E11",
         "text": [
          "",
          "",
          "",
          "",
          "",
          "",
          "",
          "",
          "",
          "",
          "",
          "",
          "",
          "",
          "",
          "",
          "",
          "",
          "",
          "",
          "",
          "",
          "",
          "",
          "",
          "",
          "",
          "",
          "",
          "",
          "",
          "",
          "32112.0",
          "",
          "",
          "",
          "",
          "",
          "",
          ""
         ],
         "textfont": {
          "color": "black",
          "family": "sans serif",
          "size": 8
         },
         "textposition": "top left",
         "type": "scatter",
         "x": [
          1,
          2,
          3,
          4,
          5,
          6,
          7,
          8,
          9,
          10,
          11,
          12,
          13,
          14,
          15,
          16,
          17,
          18,
          19,
          20,
          21,
          22,
          23,
          24,
          25,
          26,
          27,
          28,
          29,
          30,
          31,
          32,
          33,
          34,
          35,
          36,
          37,
          38,
          39,
          40
         ],
         "xaxis": "x59",
         "y": [
          0,
          0,
          0,
          0,
          0,
          0,
          0,
          0,
          0,
          0,
          0,
          0,
          0,
          0,
          0,
          0,
          0,
          0,
          0,
          0,
          53.770741849213,
          209.500803587221,
          520.744771482251,
          1059.44120257063,
          1907.96387502715,
          3141.52221073792,
          4806.32904207092,
          6900.65392585049,
          9366.15516138069,
          12094.1727117126,
          14945.2870705823,
          17774.9801753342,
          20458.3989451844,
          22904.120231922,
          25067.5668854368,
          26918.8158212231,
          28474.804145094,
          29776.6481763966,
          30944.3301421749,
          32112.0121079533
         ],
         "yaxis": "y59"
        },
        {
         "line": {
          "color": "rgb(255,237,111)"
         },
         "mode": "lines+text",
         "name": "E12",
         "text": [
          "",
          "",
          "",
          "",
          "",
          "",
          "",
          "",
          "",
          "",
          "",
          "",
          "",
          "",
          "",
          "",
          "",
          "",
          "",
          "",
          "",
          "",
          "",
          "",
          "",
          "",
          "",
          "",
          "",
          "",
          "",
          "",
          "30887.5",
          "",
          "",
          "",
          "",
          "",
          "",
          ""
         ],
         "textfont": {
          "color": "black",
          "family": "sans serif",
          "size": 8
         },
         "textposition": "top left",
         "type": "scatter",
         "x": [
          1,
          2,
          3,
          4,
          5,
          6,
          7,
          8,
          9,
          10,
          11,
          12,
          13,
          14,
          15,
          16,
          17,
          18,
          19,
          20,
          21,
          22,
          23,
          24,
          25,
          26,
          27,
          28,
          29,
          30,
          31,
          32,
          33,
          34,
          35,
          36,
          37,
          38,
          39,
          40
         ],
         "xaxis": "x60",
         "y": [
          0,
          0,
          0,
          0,
          0,
          0,
          0,
          0,
          0,
          0,
          0,
          0,
          0,
          0,
          0,
          0,
          0,
          0,
          0,
          0,
          54.5656276003867,
          210.023989846186,
          517.535651461602,
          1045.1241913159,
          1870.08941001817,
          3062.28139887599,
          4663.47919964061,
          6670.14668059849,
          9025.69357152256,
          11626.613417397,
          14340.9277049251,
          17032.2655522201,
          19583.1771365624,
          21907.757269341,
          23956.1855828906,
          25717.7858093305,
          27219.71796772,
          28518.6332719515,
          29704.5407111579,
          30887.5295313032
         ],
         "yaxis": "y60"
        },
        {
         "line": {
          "color": "rgb(141,211,199)"
         },
         "mode": "lines+text",
         "name": "F01",
         "text": [
          "",
          "",
          "",
          "",
          "",
          "",
          "",
          "",
          "",
          "",
          "",
          "",
          "",
          "",
          "",
          "",
          "",
          "",
          "",
          "",
          "",
          "",
          "",
          "",
          "",
          "",
          "",
          "",
          "",
          "",
          "",
          "",
          "27443.0",
          "",
          "",
          "",
          "",
          "",
          "",
          ""
         ],
         "textfont": {
          "color": "black",
          "family": "sans serif",
          "size": 8
         },
         "textposition": "top left",
         "type": "scatter",
         "x": [
          1,
          2,
          3,
          4,
          5,
          6,
          7,
          8,
          9,
          10,
          11,
          12,
          13,
          14,
          15,
          16,
          17,
          18,
          19,
          20,
          21,
          22,
          23,
          24,
          25,
          26,
          27,
          28,
          29,
          30,
          31,
          32,
          33,
          34,
          35,
          36,
          37,
          38,
          39,
          40
         ],
         "xaxis": "x61",
         "y": [
          0,
          0,
          0,
          0,
          0,
          0,
          0,
          0,
          0,
          0,
          0,
          0,
          0,
          0,
          0,
          0,
          0,
          0,
          0,
          0,
          51.164017822111,
          199.60757047094,
          497.165227572469,
          1014.75045240663,
          1834.9642581452,
          3034.12628665435,
          4658.2461250321,
          6700.1982674896,
          9087.5865923071,
          11688.5882218341,
          14335.870635941,
          16861.1010115314,
          19129.7536245641,
          21064.4789171789,
          22649.8738907903,
          23921.0662763069,
          24944.3946831092,
          25777.2612908651,
          26610.1278986209,
          27442.9945063767
         ],
         "yaxis": "y61"
        },
        {
         "line": {
          "color": "rgb(255,255,179)"
         },
         "mode": "lines+text",
         "name": "F02",
         "text": [
          "",
          "",
          "",
          "",
          "",
          "",
          "",
          "",
          "",
          "",
          "",
          "",
          "",
          "",
          "",
          "",
          "",
          "",
          "",
          "",
          "",
          "",
          "",
          "",
          "",
          "",
          "",
          "",
          "",
          "",
          "",
          "",
          "25750.4",
          "",
          "",
          "",
          "",
          "",
          "",
          ""
         ],
         "textfont": {
          "color": "black",
          "family": "sans serif",
          "size": 8
         },
         "textposition": "top left",
         "type": "scatter",
         "x": [
          1,
          2,
          3,
          4,
          5,
          6,
          7,
          8,
          9,
          10,
          11,
          12,
          13,
          14,
          15,
          16,
          17,
          18,
          19,
          20,
          21,
          22,
          23,
          24,
          25,
          26,
          27,
          28,
          29,
          30,
          31,
          32,
          33,
          34,
          35,
          36,
          37,
          38,
          39,
          40
         ],
         "xaxis": "x62",
         "y": [
          0,
          0,
          0,
          0,
          0,
          0,
          0,
          0,
          0,
          0,
          0,
          0,
          0,
          0,
          0,
          0,
          0,
          0,
          0,
          0,
          32.6288452857439,
          127.823492721801,
          321.818267459406,
          668.957304669139,
          1239.74761493188,
          2109.82007499511,
          3340.40628155671,
          4955.96254273065,
          6926.87545556566,
          9165.43861491935,
          11538.6336255193,
          13896.5040600661,
          16106.9375186012,
          18081.6308727061,
          19788.4804261167,
          21241.9241838163,
          22496.8493429005,
          23616.0286643586,
          24683.2014446793,
          25750.3742249999
         ],
         "yaxis": "y62"
        },
        {
         "line": {
          "color": "rgb(190,186,218)"
         },
         "mode": "lines+text",
         "name": "F03",
         "text": [
          "",
          "",
          "",
          "",
          "",
          "",
          "",
          "",
          "",
          "",
          "",
          "",
          "",
          "",
          "",
          "",
          "",
          "",
          "",
          "",
          "",
          "",
          "",
          "",
          "",
          "",
          "",
          "",
          "",
          "",
          "",
          "",
          "43996.9",
          "",
          "",
          "",
          "",
          "",
          "",
          ""
         ],
         "textfont": {
          "color": "black",
          "family": "sans serif",
          "size": 8
         },
         "textposition": "top left",
         "type": "scatter",
         "x": [
          1,
          2,
          3,
          4,
          5,
          6,
          7,
          8,
          9,
          10,
          11,
          12,
          13,
          14,
          15,
          16,
          17,
          18,
          19,
          20,
          21,
          22,
          23,
          24,
          25,
          26,
          27,
          28,
          29,
          30,
          31,
          32,
          33,
          34,
          35,
          36,
          37,
          38,
          39,
          40
         ],
         "xaxis": "x63",
         "y": [
          0,
          0,
          0,
          0,
          0,
          0,
          0,
          0,
          0,
          0,
          0,
          0,
          0,
          0,
          0,
          0,
          0,
          0,
          78.1163621969031,
          310.519710549285,
          781.034121052854,
          1601.633951486,
          2899.3583819843,
          4788.74032512159,
          7336.14258496464,
          10528.4529784429,
          14259.8085795455,
          18343.3565810227,
          22543.777319725,
          26621.5664906386,
          30374.5487542424,
          33662.4224290412,
          36414.3656603298,
          38619.7450004981,
          40310.9434382596,
          41550.5791098457,
          42425.4777280645,
          43041.0432940559,
          43519.8061926237,
          43996.8818783777
         ],
         "yaxis": "y63"
        },
        {
         "line": {
          "color": "rgb(251,128,114)"
         },
         "mode": "lines+text",
         "name": "F04",
         "text": [
          "",
          "",
          "",
          "",
          "",
          "",
          "",
          "",
          "",
          "",
          "",
          "",
          "",
          "",
          "",
          "",
          "",
          "",
          "",
          "",
          "",
          "",
          "",
          "",
          "",
          "",
          "",
          "",
          "",
          "",
          "",
          "",
          "29031.0",
          "",
          "",
          "",
          "",
          "",
          "",
          ""
         ],
         "textfont": {
          "color": "black",
          "family": "sans serif",
          "size": 8
         },
         "textposition": "top left",
         "type": "scatter",
         "x": [
          1,
          2,
          3,
          4,
          5,
          6,
          7,
          8,
          9,
          10,
          11,
          12,
          13,
          14,
          15,
          16,
          17,
          18,
          19,
          20,
          21,
          22,
          23,
          24,
          25,
          26,
          27,
          28,
          29,
          30,
          31,
          32,
          33,
          34,
          35,
          36,
          37,
          38,
          39,
          40
         ],
         "xaxis": "x64",
         "y": [
          0,
          0,
          0,
          0,
          0,
          0,
          0,
          0,
          0,
          0,
          0,
          0,
          0,
          0,
          0,
          0,
          0,
          0,
          0,
          0,
          48.0385305516996,
          183.532805649752,
          452.358696133688,
          920.110635277025,
          1667.28083433193,
          2773.39700255362,
          4293.80830488026,
          6235.91446940062,
          8544.18333014621,
          11102.7454784142,
          13756.5815672804,
          16344.9718689555,
          18736.5520598176,
          20852.0231509336,
          22669.7014074915,
          24215.7280021961,
          25545.3517754578,
          26707.2406002845,
          27869.1294251113,
          29031.018249938
         ],
         "yaxis": "y64"
        },
        {
         "line": {
          "color": "rgb(128,177,211)"
         },
         "mode": "lines+text",
         "name": "F05",
         "text": [
          "",
          "",
          "",
          "",
          "",
          "",
          "",
          "",
          "",
          "",
          "",
          "",
          "",
          "",
          "",
          "",
          "",
          "",
          "",
          "",
          "",
          "",
          "",
          "",
          "",
          "",
          "",
          "",
          "",
          "",
          "",
          "",
          "38883.5",
          "",
          "",
          "",
          "",
          "",
          "",
          ""
         ],
         "textfont": {
          "color": "black",
          "family": "sans serif",
          "size": 8
         },
         "textposition": "top left",
         "type": "scatter",
         "x": [
          1,
          2,
          3,
          4,
          5,
          6,
          7,
          8,
          9,
          10,
          11,
          12,
          13,
          14,
          15,
          16,
          17,
          18,
          19,
          20,
          21,
          22,
          23,
          24,
          25,
          26,
          27,
          28,
          29,
          30,
          31,
          32,
          33,
          34,
          35,
          36,
          37,
          38,
          39,
          40
         ],
         "xaxis": "x65",
         "y": [
          0,
          0,
          0,
          0,
          0,
          0,
          0,
          0,
          0,
          0,
          0,
          0,
          0,
          0,
          0,
          0,
          0,
          0,
          0,
          48.4567516818234,
          194.736157465676,
          497.307156534965,
          1041.317757591,
          1933.07490538819,
          3281.10291763622,
          5167.48730526021,
          7618.0993153113,
          10582.5144195859,
          13933.467511131,
          17488.026836006,
          21042.9545656124,
          24413.5081733241,
          27464.5542803983,
          30118.5647706093,
          32362.2410288241,
          34191.6849063408,
          35659.3694587661,
          36827.3729973761,
          37855.4474446056,
          38883.5218918351
         ],
         "yaxis": "y65"
        },
        {
         "line": {
          "color": "rgb(253,180,98)"
         },
         "mode": "lines+text",
         "name": "F06",
         "text": [
          "",
          "",
          "",
          "",
          "",
          "",
          "",
          "",
          "",
          "",
          "",
          "",
          "",
          "",
          "",
          "",
          "",
          "",
          "",
          "",
          "",
          "",
          "",
          "",
          "",
          "",
          "",
          "",
          "",
          "",
          "",
          "",
          "36594.3",
          "",
          "",
          "",
          "",
          "",
          "",
          ""
         ],
         "textfont": {
          "color": "black",
          "family": "sans serif",
          "size": 8
         },
         "textposition": "top left",
         "type": "scatter",
         "x": [
          1,
          2,
          3,
          4,
          5,
          6,
          7,
          8,
          9,
          10,
          11,
          12,
          13,
          14,
          15,
          16,
          17,
          18,
          19,
          20,
          21,
          22,
          23,
          24,
          25,
          26,
          27,
          28,
          29,
          30,
          31,
          32,
          33,
          34,
          35,
          36,
          37,
          38,
          39,
          40
         ],
         "xaxis": "x66",
         "y": [
          0,
          0,
          0,
          0,
          0,
          0,
          0,
          0,
          0,
          0,
          0,
          0,
          0,
          0,
          0,
          0,
          0,
          0,
          0,
          52.8007415292075,
          209.381329148957,
          529.283934229192,
          1097.36911833429,
          2017.22807213313,
          3392.08112418459,
          5296.98130511941,
          7751.0786146268,
          10700.670153289,
          14020.1881891444,
          17531.8199138028,
          21038.2536829915,
          24355.651797738,
          27337.717678173,
          29887.612059424,
          31969.7746746352,
          33568.1127945787,
          34712.0568305677,
          35484.1073044929,
          36039.2246540842,
          36594.3420036754
         ],
         "yaxis": "y66"
        },
        {
         "line": {
          "color": "rgb(179,222,105)"
         },
         "mode": "lines+text",
         "name": "F07",
         "text": [
          "",
          "",
          "",
          "",
          "",
          "",
          "",
          "",
          "",
          "",
          "",
          "",
          "",
          "",
          "",
          "",
          "",
          "",
          "",
          "",
          "",
          "",
          "",
          "",
          "",
          "",
          "",
          "",
          "",
          "",
          "",
          "",
          "42465.1",
          "",
          "",
          "",
          "",
          "",
          "",
          ""
         ],
         "textfont": {
          "color": "black",
          "family": "sans serif",
          "size": 8
         },
         "textposition": "top left",
         "type": "scatter",
         "x": [
          1,
          2,
          3,
          4,
          5,
          6,
          7,
          8,
          9,
          10,
          11,
          12,
          13,
          14,
          15,
          16,
          17,
          18,
          19,
          20,
          21,
          22,
          23,
          24,
          25,
          26,
          27,
          28,
          29,
          30,
          31,
          32,
          33,
          34,
          35,
          36,
          37,
          38,
          39,
          40
         ],
         "xaxis": "x67",
         "y": [
          0,
          0,
          0,
          0,
          0,
          0,
          0,
          0,
          0,
          0,
          0,
          0,
          0,
          0,
          0,
          0,
          0,
          0,
          0,
          61.3596017573605,
          244.986130746123,
          621.035452632338,
          1287.69140476337,
          2363.13815133998,
          3962.53305479549,
          6164.61375210401,
          8980.30451612265,
          12334.879060188,
          16071.443920012,
          19979.305206779,
          23836.7957908539,
          27451.7617830109,
          30692.748644195,
          33491.197108645,
          35844.0827014221,
          37747.0453107781,
          39254.3030299417,
          40428.9030236841,
          41447.0222087539,
          42465.1413938237
         ],
         "yaxis": "y67"
        },
        {
         "line": {
          "color": "rgb(252,205,229)"
         },
         "mode": "lines+text",
         "name": "F08",
         "text": [
          "",
          "",
          "",
          "",
          "",
          "",
          "",
          "",
          "",
          "",
          "",
          "",
          "",
          "",
          "",
          "",
          "",
          "",
          "",
          "",
          "",
          "",
          "",
          "",
          "",
          "",
          "",
          "",
          "",
          "",
          "",
          "",
          "39649.8",
          "",
          "",
          "",
          "",
          "",
          "",
          ""
         ],
         "textfont": {
          "color": "black",
          "family": "sans serif",
          "size": 8
         },
         "textposition": "top left",
         "type": "scatter",
         "x": [
          1,
          2,
          3,
          4,
          5,
          6,
          7,
          8,
          9,
          10,
          11,
          12,
          13,
          14,
          15,
          16,
          17,
          18,
          19,
          20,
          21,
          22,
          23,
          24,
          25,
          26,
          27,
          28,
          29,
          30,
          31,
          32,
          33,
          34,
          35,
          36,
          37,
          38,
          39,
          40
         ],
         "xaxis": "x68",
         "y": [
          0,
          0,
          0,
          0,
          0,
          0,
          0,
          0,
          0,
          0,
          0,
          0,
          0,
          0,
          0,
          0,
          0,
          0,
          0,
          51.7290861152005,
          207.816716945896,
          529.463748563696,
          1103.91910293392,
          2038.02023226744,
          3438.42722082106,
          5382.8454709003,
          7891.24570223158,
          10907.603606835,
          14300.8124907307,
          17886.7081223474,
          21463.5109968503,
          24849.3036441122,
          27911.9749381014,
          30576.2760799151,
          32818.6925935852,
          34662.1706229061,
          36165.9128529866,
          37419.9893794877,
          38536.7478251384,
          39649.8300610064
         ],
         "yaxis": "y68"
        },
        {
         "line": {
          "color": "rgb(217,217,217)"
         },
         "mode": "lines+text",
         "name": "F09",
         "text": [
          "",
          "",
          "",
          "",
          "",
          "",
          "",
          "",
          "",
          "",
          "",
          "",
          "",
          "",
          "",
          "",
          "",
          "",
          "",
          "",
          "",
          "",
          "",
          "",
          "",
          "",
          "",
          "",
          "",
          "",
          "",
          "",
          "31161.6",
          "",
          "",
          "",
          "",
          "",
          "",
          ""
         ],
         "textfont": {
          "color": "black",
          "family": "sans serif",
          "size": 8
         },
         "textposition": "top left",
         "type": "scatter",
         "x": [
          1,
          2,
          3,
          4,
          5,
          6,
          7,
          8,
          9,
          10,
          11,
          12,
          13,
          14,
          15,
          16,
          17,
          18,
          19,
          20,
          21,
          22,
          23,
          24,
          25,
          26,
          27,
          28,
          29,
          30,
          31,
          32,
          33,
          34,
          35,
          36,
          37,
          38,
          39,
          40
         ],
         "xaxis": "x69",
         "y": [
          0,
          0,
          0,
          0,
          0,
          0,
          0,
          0,
          0,
          0,
          0,
          0,
          0,
          0,
          0,
          0,
          0,
          0,
          0,
          50.9751166088215,
          201.488759589373,
          507.190176057508,
          1044.87714117819,
          1904.57236674252,
          3170.21308871461,
          4893.65214285304,
          7071.42051647459,
          9633.62488264432,
          12450.569057323,
          15356.8887446964,
          18184.7666956604,
          20794.6001096907,
          23094.9346423085,
          25045.1731289462,
          26652.6300846252,
          27938.7899534574,
          28953.6553252789,
          29759.8438917839,
          30460.7106267061,
          31161.5773616283
         ],
         "yaxis": "y69"
        },
        {
         "line": {
          "color": "rgb(188,128,189)"
         },
         "mode": "lines+text",
         "name": "F10",
         "text": [
          "",
          "",
          "",
          "",
          "",
          "",
          "",
          "",
          "",
          "",
          "",
          "",
          "",
          "",
          "",
          "",
          "",
          "",
          "",
          "",
          "",
          "",
          "",
          "",
          "",
          "",
          "",
          "",
          "",
          "",
          "",
          "",
          "36012.5",
          "",
          "",
          "",
          "",
          "",
          "",
          ""
         ],
         "textfont": {
          "color": "black",
          "family": "sans serif",
          "size": 8
         },
         "textposition": "top left",
         "type": "scatter",
         "x": [
          1,
          2,
          3,
          4,
          5,
          6,
          7,
          8,
          9,
          10,
          11,
          12,
          13,
          14,
          15,
          16,
          17,
          18,
          19,
          20,
          21,
          22,
          23,
          24,
          25,
          26,
          27,
          28,
          29,
          30,
          31,
          32,
          33,
          34,
          35,
          36,
          37,
          38,
          39,
          40
         ],
         "xaxis": "x70",
         "y": [
          0,
          0,
          0,
          0,
          0,
          0,
          0,
          0,
          0,
          0,
          0,
          0,
          0,
          0,
          0,
          0,
          0,
          0,
          0,
          52.9703024540007,
          211.575954165147,
          536.427491139011,
          1112.69656056838,
          2042.53025220826,
          3424.64108565544,
          5325.49467005979,
          7751.85659004331,
          10635.8544410796,
          13839.5566785904,
          17179.8847946401,
          20465.2740919951,
          23531.0930961839,
          26263.4934223273,
          28604.5761092185,
          30552.09460921,
          32119.3169045263,
          33356.1112796926,
          34331.8873137629,
          35172.1940815584,
          36012.500849354
         ],
         "yaxis": "y70"
        },
        {
         "line": {
          "color": "rgb(204,235,197)"
         },
         "mode": "lines+text",
         "name": "F11",
         "text": [
          "",
          "",
          "",
          "",
          "",
          "",
          "",
          "",
          "",
          "",
          "",
          "",
          "",
          "",
          "",
          "",
          "",
          "",
          "",
          "",
          "",
          "",
          "",
          "",
          "",
          "",
          "",
          "",
          "",
          "",
          "",
          "",
          "30185.8",
          "",
          "",
          "",
          "",
          "",
          "",
          ""
         ],
         "textfont": {
          "color": "black",
          "family": "sans serif",
          "size": 8
         },
         "textposition": "top left",
         "type": "scatter",
         "x": [
          1,
          2,
          3,
          4,
          5,
          6,
          7,
          8,
          9,
          10,
          11,
          12,
          13,
          14,
          15,
          16,
          17,
          18,
          19,
          20,
          21,
          22,
          23,
          24,
          25,
          26,
          27,
          28,
          29,
          30,
          31,
          32,
          33,
          34,
          35,
          36,
          37,
          38,
          39,
          40
         ],
         "xaxis": "x71",
         "y": [
          0,
          0,
          0,
          0,
          0,
          0,
          0,
          0,
          0,
          0,
          0,
          0,
          0,
          0,
          0,
          0,
          0,
          0,
          0,
          44.2177195066884,
          176.19219221058,
          446.478742866552,
          926.843120813013,
          1704.01593732591,
          2862.34791079704,
          4459.11427554766,
          6500.58272950022,
          8928.73136656505,
          11625.1288304401,
          14432.3828032208,
          17185.8737237088,
          19744.9613493522,
          22014.7351417144,
          23949.1882071365,
          25551.1174043363,
          26831.7682845801,
          27838.1101919975,
          28620.6737028092,
          29403.2372136209,
          30185.8007244326
         ],
         "yaxis": "y71"
        },
        {
         "line": {
          "color": "rgb(255,237,111)"
         },
         "mode": "lines+text",
         "name": "F12",
         "text": [
          "",
          "",
          "",
          "",
          "",
          "",
          "",
          "",
          "",
          "",
          "",
          "",
          "",
          "",
          "",
          "",
          "",
          "",
          "",
          "",
          "",
          "",
          "",
          "",
          "",
          "",
          "",
          "",
          "",
          "",
          "",
          "",
          "33023.1",
          "",
          "",
          "",
          "",
          "",
          "",
          ""
         ],
         "textfont": {
          "color": "black",
          "family": "sans serif",
          "size": 8
         },
         "textposition": "top left",
         "type": "scatter",
         "x": [
          1,
          2,
          3,
          4,
          5,
          6,
          7,
          8,
          9,
          10,
          11,
          12,
          13,
          14,
          15,
          16,
          17,
          18,
          19,
          20,
          21,
          22,
          23,
          24,
          25,
          26,
          27,
          28,
          29,
          30,
          31,
          32,
          33,
          34,
          35,
          36,
          37,
          38,
          39,
          40
         ],
         "xaxis": "x72",
         "y": [
          0,
          0,
          0,
          0,
          0,
          0,
          0,
          0,
          0,
          0,
          0,
          0,
          0,
          0,
          0,
          0,
          0,
          0,
          0,
          56.1819567396981,
          221.265627967248,
          554.292267713561,
          1135.29984071346,
          2056.4329376726,
          3401.70736770379,
          5221.13470046476,
          7507.76114729121,
          10187.3164536065,
          13126.2042165705,
          16156.1293224976,
          19107.0812243721,
          21837.6860503533,
          24254.1039603967,
          26312.6776543015,
          28017.6980513848,
          29388.6283001704,
          30473.0505288578,
          31323.0591569326,
          32173.0677850074,
          33023.0764130821
         ],
         "yaxis": "y72"
        },
        {
         "line": {
          "color": "rgb(141,211,199)"
         },
         "mode": "lines+text",
         "name": "G01",
         "text": [
          "",
          "",
          "",
          "",
          "",
          "",
          "",
          "",
          "",
          "",
          "",
          "",
          "",
          "",
          "",
          "",
          "",
          "",
          "",
          "",
          "",
          "",
          "",
          "",
          "",
          "",
          "",
          "",
          "",
          "",
          "",
          "",
          "40791.7",
          "",
          "",
          "",
          "",
          "",
          "",
          ""
         ],
         "textfont": {
          "color": "black",
          "family": "sans serif",
          "size": 8
         },
         "textposition": "top left",
         "type": "scatter",
         "x": [
          1,
          2,
          3,
          4,
          5,
          6,
          7,
          8,
          9,
          10,
          11,
          12,
          13,
          14,
          15,
          16,
          17,
          18,
          19,
          20,
          21,
          22,
          23,
          24,
          25,
          26,
          27,
          28,
          29,
          30,
          31,
          32,
          33,
          34,
          35,
          36,
          37,
          38,
          39,
          40
         ],
         "xaxis": "x73",
         "y": [
          0,
          0,
          0,
          0,
          0,
          42.3692226620788,
          187.330257421429,
          496.397388460992,
          1047.95755889344,
          1928.53386842977,
          3215.46246004808,
          4955.76466662311,
          7148.16936128734,
          9735.52260509276,
          12611.3635463707,
          15638.7108945627,
          18675.0487752691,
          21595.5626890946,
          24307.966269482,
          26757.396869198,
          28922.9902156504,
          30809.0844853568,
          32436.0206584877,
          33832.4491875284,
          35028.9835833468,
          36053.8545284463,
          36931.0794192825,
          37679.3725215116,
          38312.9418338805,
          38843.6786212328,
          39282.7570632382,
          39641.5068993287,
          39931.9375155712,
          40165.0113571185,
          40350.81296256,
          40492.8429307408,
          40598.0639230342,
          40671.7483212799,
          40731.7131547233,
          40791.6779881667
         ],
         "yaxis": "y73"
        },
        {
         "line": {
          "color": "rgb(255,255,179)"
         },
         "mode": "lines+text",
         "name": "G02",
         "text": [
          "",
          "",
          "",
          "",
          "",
          "",
          "",
          "",
          "",
          "",
          "",
          "",
          "",
          "",
          "",
          "",
          "",
          "",
          "",
          "",
          "",
          "",
          "",
          "",
          "",
          "",
          "",
          "",
          "",
          "",
          "",
          "",
          "40043.5",
          "",
          "",
          "",
          "",
          "",
          "",
          ""
         ],
         "textfont": {
          "color": "black",
          "family": "sans serif",
          "size": 8
         },
         "textposition": "top left",
         "type": "scatter",
         "x": [
          1,
          2,
          3,
          4,
          5,
          6,
          7,
          8,
          9,
          10,
          11,
          12,
          13,
          14,
          15,
          16,
          17,
          18,
          19,
          20,
          21,
          22,
          23,
          24,
          25,
          26,
          27,
          28,
          29,
          30,
          31,
          32,
          33,
          34,
          35,
          36,
          37,
          38,
          39,
          40
         ],
         "xaxis": "x74",
         "y": [
          0,
          0,
          0,
          0,
          0,
          40.4990349859947,
          182.137763414656,
          486.828130031946,
          1033.15294682386,
          1907.12822078605,
          3184.75958431883,
          4911.11639340074,
          7082.88644110141,
          9641.60294386833,
          12480.9504399991,
          15465.4979627422,
          18455.3032369919,
          21328.3643620312,
          23994.6151987233,
          26400.5158904902,
          28525.5206936517,
          30373.6361798832,
          31964.532099057302,
          33325.8417192265,
          34487.0180379889,
          35475.6309915992,
          36315.6993300641,
          37026.7732261205,
          37624.8274014094,
          38123.8339069336,
          38536.4768296379,
          38874.7563888349,
          39149.9739093187,
          39372.2157577195,
          39550.4252899542,
          39691.7844768425,
          39802.8935928255,
          39891.7335822955,
          39967.6107788084,
          40043.4879753212
         ],
         "yaxis": "y74"
        },
        {
         "line": {
          "color": "rgb(190,186,218)"
         },
         "mode": "lines+text",
         "name": "G03",
         "text": [
          "",
          "",
          "",
          "",
          "",
          "",
          "",
          "",
          "",
          "",
          "",
          "",
          "",
          "",
          "",
          "",
          "",
          "",
          "",
          "",
          "",
          "",
          "",
          "",
          "",
          "",
          "",
          "",
          "",
          "",
          "",
          "",
          "40935.5",
          "",
          "",
          "",
          "",
          "",
          "",
          ""
         ],
         "textfont": {
          "color": "black",
          "family": "sans serif",
          "size": 8
         },
         "textposition": "top left",
         "type": "scatter",
         "x": [
          1,
          2,
          3,
          4,
          5,
          6,
          7,
          8,
          9,
          10,
          11,
          12,
          13,
          14,
          15,
          16,
          17,
          18,
          19,
          20,
          21,
          22,
          23,
          24,
          25,
          26,
          27,
          28,
          29,
          30,
          31,
          32,
          33,
          34,
          35,
          36,
          37,
          38,
          39,
          40
         ],
         "xaxis": "x75",
         "y": [
          0,
          0,
          0,
          0,
          16.4800153914177,
          91.2325907450008,
          270.485657193621,
          620.075068582103,
          1222.45042996195,
          2165.45304194512,
          3523.69207465445,
          5337.40115350653,
          7596.06587343059,
          10233.344569399,
          13136.3936459747,
          16166.2716028474,
          19182.7453686365,
          22066.383496672,
          24731.9083809704,
          27130.5529325014,
          29245.5206468287,
          31083.6208649365,
          32665.2904952684,
          34018.5854636927,
          35174.6556619486,
          36162.8902614411,
          37008.9172826113,
          37733.818893564,
          38352.3596145522,
          38874.5995391524,
          39309.9369410008,
          39667.5078281861,
          39957.3097451821,
          40190.8309298899,
          40377.2749102719,
          40529.5734102898,
          40652.3048517897,
          40759.4683576051,
          40847.5090316037,
          40935.5497056023
         ],
         "yaxis": "y75"
        },
        {
         "line": {
          "color": "rgb(251,128,114)"
         },
         "mode": "lines+text",
         "name": "G04",
         "text": [
          "",
          "",
          "",
          "",
          "",
          "",
          "",
          "",
          "",
          "",
          "",
          "",
          "",
          "",
          "",
          "",
          "",
          "",
          "",
          "",
          "",
          "",
          "",
          "",
          "",
          "",
          "",
          "",
          "",
          "",
          "",
          "",
          "37889.2",
          "",
          "",
          "",
          "",
          "",
          "",
          ""
         ],
         "textfont": {
          "color": "black",
          "family": "sans serif",
          "size": 8
         },
         "textposition": "top left",
         "type": "scatter",
         "x": [
          1,
          2,
          3,
          4,
          5,
          6,
          7,
          8,
          9,
          10,
          11,
          12,
          13,
          14,
          15,
          16,
          17,
          18,
          19,
          20,
          21,
          22,
          23,
          24,
          25,
          26,
          27,
          28,
          29,
          30,
          31,
          32,
          33,
          34,
          35,
          36,
          37,
          38,
          39,
          40
         ],
         "xaxis": "x76",
         "y": [
          0,
          0,
          0,
          0,
          0,
          0,
          0,
          0,
          0,
          0,
          29.8691253704103,
          125.664710228256,
          328.792276869137,
          699.049617628501,
          1311.66829012588,
          2246.16221926796,
          3568.66813457517,
          5312.32803940065,
          7462.53610276475,
          9953.31862016697,
          12676.5104265351,
          15501.4284439801,
          18298.5864556089,
          20960.1417106034,
          23411.476914662,
          25612.9069342858,
          27554.176502026,
          29245.2586916357,
          30707.142369388,
          31965.2964843006,
          33045.5061879269,
          33971.5582281471,
          34766.2768400469,
          35447.4752200606,
          36026.7464600194,
          36514.8298691603,
          36923.6917343852,
          37271.3915203487,
          37581.4054067085,
          37889.1746488572
         ],
         "yaxis": "y76"
        },
        {
         "line": {
          "color": "rgb(128,177,211)"
         },
         "mode": "lines+text",
         "name": "G05",
         "text": [
          "",
          "",
          "",
          "",
          "",
          "",
          "",
          "",
          "",
          "",
          "",
          "",
          "",
          "",
          "",
          "",
          "",
          "",
          "",
          "",
          "",
          "",
          "",
          "",
          "",
          "",
          "",
          "",
          "",
          "",
          "",
          "",
          "37500.9",
          "",
          "",
          "",
          "",
          "",
          "",
          ""
         ],
         "textfont": {
          "color": "black",
          "family": "sans serif",
          "size": 8
         },
         "textposition": "top left",
         "type": "scatter",
         "x": [
          1,
          2,
          3,
          4,
          5,
          6,
          7,
          8,
          9,
          10,
          11,
          12,
          13,
          14,
          15,
          16,
          17,
          18,
          19,
          20,
          21,
          22,
          23,
          24,
          25,
          26,
          27,
          28,
          29,
          30,
          31,
          32,
          33,
          34,
          35,
          36,
          37,
          38,
          39,
          40
         ],
         "xaxis": "x77",
         "y": [
          0,
          0,
          0,
          0,
          0,
          0,
          0,
          0,
          0,
          0,
          28.7633723605326,
          122.087217473406,
          321.208736100265,
          685.722647853484,
          1290.57466972533,
          2214.88302717397,
          3524.43751925229,
          5252.26187506755,
          7384.18883496626,
          9855.32133030965,
          12559.4370840827,
          15368.1494139951,
          18154.1378483895,
          20810.7762467066,
          23263.3591918674,
          25470.9117626943,
          27421.0442676714,
          29121.1884465794,
          30590.3562886092,
          31853.0709740893,
          32935.3695855266,
          33862.0485806164,
          34654.7577910732,
          35329.6426323442,
          35900.634538193,
          36368.216977903,
          36739.0793695386,
          37024.3243201863,
          37262.636728145,
          37500.9491361036
         ],
         "yaxis": "y77"
        },
        {
         "line": {
          "color": "rgb(253,180,98)"
         },
         "mode": "lines+text",
         "name": "G06",
         "text": [
          "",
          "",
          "",
          "",
          "",
          "",
          "",
          "",
          "",
          "",
          "",
          "",
          "",
          "",
          "",
          "",
          "",
          "",
          "",
          "",
          "",
          "",
          "",
          "",
          "",
          "",
          "",
          "",
          "",
          "",
          "",
          "",
          "41479.5",
          "",
          "",
          "",
          "",
          "",
          "",
          ""
         ],
         "textfont": {
          "color": "black",
          "family": "sans serif",
          "size": 8
         },
         "textposition": "top left",
         "type": "scatter",
         "x": [
          1,
          2,
          3,
          4,
          5,
          6,
          7,
          8,
          9,
          10,
          11,
          12,
          13,
          14,
          15,
          16,
          17,
          18,
          19,
          20,
          21,
          22,
          23,
          24,
          25,
          26,
          27,
          28,
          29,
          30,
          31,
          32,
          33,
          34,
          35,
          36,
          37,
          38,
          39,
          40
         ],
         "xaxis": "x78",
         "y": [
          0,
          0,
          0,
          0,
          0,
          0,
          0,
          0,
          0,
          0,
          33.7792260917284,
          142.56637837451,
          373.724195377919,
          795.018580740045,
          1490.90908197788,
          2549.37223471953,
          4041.72761758799,
          6001.34663006456,
          8408.14981130405,
          11185.3678710938,
          14210.9651559721,
          17339.7453401758,
          20429.0983712619,
          23360.9973794266,
          26054.3936528828,
          28466.7759891234,
          30588.1249645888,
          32430.8814778093,
          34019.643462888,
          35383.6443885595,
          36551.7553827647,
          37549.8007260905,
          38400.6233476841,
          39121.9742357823,
          39731.2187089819,
          40229.124544447,
          40628.5789405794,
          40938.8298822206,
          41209.1749353789,
          41479.5199885371
         ],
         "yaxis": "y78"
        },
        {
         "line": {
          "color": "rgb(179,222,105)"
         },
         "mode": "lines+text",
         "name": "G07",
         "text": [
          "",
          "",
          "",
          "",
          "",
          "",
          "",
          "",
          "",
          "",
          "",
          "",
          "",
          "",
          "",
          "",
          "",
          "",
          "",
          "",
          "",
          "",
          "",
          "",
          "",
          "",
          "",
          "",
          "",
          "",
          "",
          "",
          "44652.1",
          "",
          "",
          "",
          "",
          "",
          "",
          ""
         ],
         "textfont": {
          "color": "black",
          "family": "sans serif",
          "size": 8
         },
         "textposition": "top left",
         "type": "scatter",
         "x": [
          1,
          2,
          3,
          4,
          5,
          6,
          7,
          8,
          9,
          10,
          11,
          12,
          13,
          14,
          15,
          16,
          17,
          18,
          19,
          20,
          21,
          22,
          23,
          24,
          25,
          26,
          27,
          28,
          29,
          30,
          31,
          32,
          33,
          34,
          35,
          36,
          37,
          38,
          39,
          40
         ],
         "xaxis": "x79",
         "y": [
          0,
          0,
          0,
          0,
          0,
          0,
          0,
          0,
          0,
          0,
          0,
          0,
          0,
          52.3952135095897,
          212.984877494848,
          542.951546181574,
          1123.83899445191,
          2048.8973396061,
          3404.50542719934,
          5247.08604911858,
          7583.05618025456,
          10359.708131628,
          13470.1463549093,
          16772.7948616388,
          20117.0405149023,
          23367.2254688115,
          26419.4515863532,
          29208.1789334985,
          31702.8265641549,
          33900.3461452446,
          35816.7974147203,
          37478.6629789887,
          38920.2315396054,
          40171.3051687416,
          41263.4135404407,
          42181.883201599,
          42945.8399346846,
          43550.9396131642,
          44101.5323934781,
          44652.1251737919
         ],
         "yaxis": "y79"
        },
        {
         "line": {
          "color": "rgb(252,205,229)"
         },
         "mode": "lines+text",
         "name": "G08",
         "text": [
          "",
          "",
          "",
          "",
          "",
          "",
          "",
          "",
          "",
          "",
          "",
          "",
          "",
          "",
          "",
          "",
          "",
          "",
          "",
          "",
          "",
          "",
          "",
          "",
          "",
          "",
          "",
          "",
          "",
          "",
          "",
          "",
          "41679.4",
          "",
          "",
          "",
          "",
          "",
          "",
          ""
         ],
         "textfont": {
          "color": "black",
          "family": "sans serif",
          "size": 8
         },
         "textposition": "top left",
         "type": "scatter",
         "x": [
          1,
          2,
          3,
          4,
          5,
          6,
          7,
          8,
          9,
          10,
          11,
          12,
          13,
          14,
          15,
          16,
          17,
          18,
          19,
          20,
          21,
          22,
          23,
          24,
          25,
          26,
          27,
          28,
          29,
          30,
          31,
          32,
          33,
          34,
          35,
          36,
          37,
          38,
          39,
          40
         ],
         "xaxis": "x80",
         "y": [
          0,
          0,
          0,
          0,
          0,
          0,
          0,
          0,
          0,
          0,
          0,
          0,
          0,
          56.4911706197511,
          228.280173716874,
          577.916097650158,
          1185.85583212814,
          2140.6766513935,
          3520.25559290336,
          5369.43423495723,
          7682.44119969586,
          10396.4492493006,
          13399.3235326133,
          16549.9711728574,
          19703.727238277,
          22734.5319391263,
          25549.6624102711,
          28094.2755068495,
          30347.0940918619,
          32312.5169217572,
          34011.4899062916,
          35473.055672197,
          36729.6722768703,
          37809.6999531058,
          38741.0129728745,
          39524.6418088622,
          40179.017250225,
          40712.8455493774,
          41196.1070936099,
          41679.3686378424
         ],
         "yaxis": "y80"
        },
        {
         "line": {
          "color": "rgb(217,217,217)"
         },
         "mode": "lines+text",
         "name": "G09",
         "text": [
          "",
          "",
          "",
          "",
          "",
          "",
          "",
          "",
          "",
          "",
          "",
          "",
          "",
          "",
          "",
          "",
          "",
          "",
          "",
          "",
          "",
          "",
          "",
          "",
          "",
          "",
          "",
          "",
          "",
          "",
          "",
          "",
          "36605.3",
          "",
          "",
          "",
          "",
          "",
          "",
          ""
         ],
         "textfont": {
          "color": "black",
          "family": "sans serif",
          "size": 8
         },
         "textposition": "top left",
         "type": "scatter",
         "x": [
          1,
          2,
          3,
          4,
          5,
          6,
          7,
          8,
          9,
          10,
          11,
          12,
          13,
          14,
          15,
          16,
          17,
          18,
          19,
          20,
          21,
          22,
          23,
          24,
          25,
          26,
          27,
          28,
          29,
          30,
          31,
          32,
          33,
          34,
          35,
          36,
          37,
          38,
          39,
          40
         ],
         "xaxis": "x81",
         "y": [
          0,
          0,
          0,
          0,
          0,
          0,
          0,
          0,
          0,
          0,
          0,
          0,
          0,
          47.0874325415084,
          190.841358921351,
          484.87830654455,
          999.451834726471,
          1813.29141451198,
          2997.50100721733,
          4595.65338087538,
          6607.04039419615,
          8979.97844946782,
          11617.6318060181,
          14394.9256983275,
          17181.5424755406,
          19862.7771405662,
          22353.3318903951,
          24602.3335400189,
          26590.1942246977,
          28320.6596167111,
          29812.023528626,
          31089.6004823586,
          32181.5438618938,
          33113.5589198474,
          33911.8792704992,
          34584.6174587765,
          35152.7329070248,
          35636.9079810243,
          36121.0830550239,
          36605.2581290234
         ],
         "yaxis": "y81"
        },
        {
         "line": {
          "color": "rgb(188,128,189)"
         },
         "mode": "lines+text",
         "name": "G10",
         "text": [
          "",
          "",
          "",
          "",
          "",
          "",
          "",
          "",
          "",
          "",
          "",
          "",
          "",
          "",
          "",
          "",
          "",
          "",
          "",
          "",
          "",
          "",
          "",
          "",
          "",
          "",
          "",
          "",
          "",
          "",
          "",
          "",
          "35948.7",
          "",
          "",
          "",
          "",
          "",
          "",
          ""
         ],
         "textfont": {
          "color": "black",
          "family": "sans serif",
          "size": 8
         },
         "textposition": "top left",
         "type": "scatter",
         "x": [
          1,
          2,
          3,
          4,
          5,
          6,
          7,
          8,
          9,
          10,
          11,
          12,
          13,
          14,
          15,
          16,
          17,
          18,
          19,
          20,
          21,
          22,
          23,
          24,
          25,
          26,
          27,
          28,
          29,
          30,
          31,
          32,
          33,
          34,
          35,
          36,
          37,
          38,
          39,
          40
         ],
         "xaxis": "x82",
         "y": [
          0,
          0,
          0,
          0,
          0,
          0,
          0,
          0,
          0,
          0,
          0,
          0,
          0,
          0,
          0,
          0,
          27.9967378433012,
          118.36733426512,
          311.139315962583,
          664.595241371077,
          1252.98934043925,
          2155.89302217378,
          3440.8652431933,
          5144.34187145299,
          7256.7342016066,
          9717.43487022791,
          12423.2594546251,
          15247.0292078424,
          18059.8832455042,
          20751.698080008,
          23243.6418933603,
          25490.8987203032,
          27478.6300136515,
          29212.74851003,
          30710.9212726257,
          31999.9669074119,
          33116.5376635915,
          34107.0766863064,
          35028.7285139453,
          35948.7268532375
         ],
         "yaxis": "y82"
        },
        {
         "line": {
          "color": "rgb(204,235,197)"
         },
         "mode": "lines+text",
         "name": "G11",
         "text": [
          "",
          "",
          "",
          "",
          "",
          "",
          "",
          "",
          "",
          "",
          "",
          "",
          "",
          "",
          "",
          "",
          "",
          "",
          "",
          "",
          "",
          "",
          "",
          "",
          "",
          "",
          "",
          "",
          "",
          "",
          "",
          "",
          "36343.1",
          "",
          "",
          "",
          "",
          "",
          "",
          ""
         ],
         "textfont": {
          "color": "black",
          "family": "sans serif",
          "size": 8
         },
         "textposition": "top left",
         "type": "scatter",
         "x": [
          1,
          2,
          3,
          4,
          5,
          6,
          7,
          8,
          9,
          10,
          11,
          12,
          13,
          14,
          15,
          16,
          17,
          18,
          19,
          20,
          21,
          22,
          23,
          24,
          25,
          26,
          27,
          28,
          29,
          30,
          31,
          32,
          33,
          34,
          35,
          36,
          37,
          38,
          39,
          40
         ],
         "xaxis": "x83",
         "y": [
          0,
          0,
          0,
          0,
          0,
          0,
          0,
          0,
          0,
          0,
          0,
          0,
          0,
          0,
          0,
          0,
          0,
          59.134883845926,
          232.442464924622,
          577.602239155775,
          1167.67136656829,
          2081.89083033429,
          3388.55006998839,
          5125.09811231562,
          7282.43344999211,
          9799.4876455981,
          12570.955461783,
          15465.7630011016,
          18350.4161681307,
          21110.1283233063,
          23662.2165413779,
          25959.7544009049,
          27988.0478687917,
          29753.4023618948,
          31279.7250941116,
          32579.2361600504,
          33682.8810262472,
          34623.1455459898,
          35483.1368406428,
          36343.1281352959
         ],
         "yaxis": "y83"
        },
        {
         "line": {
          "color": "rgb(255,237,111)"
         },
         "mode": "lines+text",
         "name": "G12",
         "text": [
          "",
          "",
          "",
          "",
          "",
          "",
          "",
          "",
          "",
          "",
          "",
          "",
          "",
          "",
          "",
          "",
          "",
          "",
          "",
          "",
          "",
          "",
          "",
          "",
          "",
          "",
          "",
          "",
          "",
          "",
          "",
          "",
          "33891.2",
          "",
          "",
          "",
          "",
          "",
          "",
          ""
         ],
         "textfont": {
          "color": "black",
          "family": "sans serif",
          "size": 8
         },
         "textposition": "top left",
         "type": "scatter",
         "x": [
          1,
          2,
          3,
          4,
          5,
          6,
          7,
          8,
          9,
          10,
          11,
          12,
          13,
          14,
          15,
          16,
          17,
          18,
          19,
          20,
          21,
          22,
          23,
          24,
          25,
          26,
          27,
          28,
          29,
          30,
          31,
          32,
          33,
          34,
          35,
          36,
          37,
          38,
          39,
          40
         ],
         "xaxis": "x84",
         "y": [
          0,
          0,
          0,
          0,
          0,
          0,
          0,
          0,
          0,
          0,
          0,
          0,
          0,
          0,
          0,
          0,
          26.8345050213846,
          114.286509994324,
          301.422137907068,
          644.874969584827,
          1216.31279886364,
          2092.14006761739,
          3336.67749385754,
          4983.5084121094,
          7021.2587486656,
          9389.25808221981,
          11985.5720872002,
          14685.459618104,
          17363.5068713459,
          19913.2175015503,
          22259.2894535564,
          24360.523047659,
          26205.8575612532,
          27804.2120193062,
          29175.3405053806,
          30347.1452782164,
          31355.3297032941,
          32244.945826754,
          33068.9546385628,
          33891.1651490846
         ],
         "yaxis": "y84"
        },
        {
         "line": {
          "color": "rgb(141,211,199)"
         },
         "mode": "lines+text",
         "name": "H01",
         "text": [
          "",
          "",
          "",
          "",
          "",
          "",
          "",
          "",
          "",
          "",
          "",
          "",
          "",
          "",
          "",
          "",
          "",
          "",
          "",
          "",
          "",
          "",
          "",
          "",
          "",
          "",
          "",
          "",
          "",
          "",
          "",
          "",
          "32128.9",
          "",
          "",
          "",
          "",
          "",
          "",
          ""
         ],
         "textfont": {
          "color": "black",
          "family": "sans serif",
          "size": 8
         },
         "textposition": "top left",
         "type": "scatter",
         "x": [
          1,
          2,
          3,
          4,
          5,
          6,
          7,
          8,
          9,
          10,
          11,
          12,
          13,
          14,
          15,
          16,
          17,
          18,
          19,
          20,
          21,
          22,
          23,
          24,
          25,
          26,
          27,
          28,
          29,
          30,
          31,
          32,
          33,
          34,
          35,
          36,
          37,
          38,
          39,
          40
         ],
         "xaxis": "x85",
         "y": [
          0,
          0,
          0,
          0,
          0,
          0,
          0,
          0,
          0,
          0,
          0,
          0,
          0,
          0,
          0,
          0,
          0,
          0,
          0,
          0,
          0,
          57.1027791470153,
          219.239417651256,
          538.657705262007,
          1083.42432479829,
          1929.06361669696,
          3142.22479548375,
          4761.98530386463,
          6784.68152094834,
          9158.30144119458,
          11789.1707940154,
          14558.2316887037,
          17342.1952114133,
          20029.8145524455,
          22545.3727164143,
          24816.1088727096,
          26825.4942065261,
          28593.3021923809,
          30361.1101782358,
          32128.9181640906
         ],
         "yaxis": "y85"
        },
        {
         "line": {
          "color": "rgb(255,255,179)"
         },
         "mode": "lines+text",
         "name": "H02",
         "text": [
          "",
          "",
          "",
          "",
          "",
          "",
          "",
          "",
          "",
          "",
          "",
          "",
          "",
          "",
          "",
          "",
          "",
          "",
          "",
          "",
          "",
          "",
          "",
          "",
          "",
          "",
          "",
          "",
          "",
          "",
          "",
          "",
          "34058.1",
          "",
          "",
          "",
          "",
          "",
          "",
          ""
         ],
         "textfont": {
          "color": "black",
          "family": "sans serif",
          "size": 8
         },
         "textposition": "top left",
         "type": "scatter",
         "x": [
          1,
          2,
          3,
          4,
          5,
          6,
          7,
          8,
          9,
          10,
          11,
          12,
          13,
          14,
          15,
          16,
          17,
          18,
          19,
          20,
          21,
          22,
          23,
          24,
          25,
          26,
          27,
          28,
          29,
          30,
          31,
          32,
          33,
          34,
          35,
          36,
          37,
          38,
          39,
          40
         ],
         "xaxis": "x86",
         "y": [
          0,
          0,
          0,
          0,
          0,
          0,
          0,
          0,
          0,
          0,
          0,
          0,
          0,
          0,
          0,
          0,
          0,
          0,
          0,
          0,
          0,
          46.2721367066388,
          183.738802120452,
          463.190861512977,
          954.403838156921,
          1739.91769422851,
          2899.91306684084,
          4491.9607287836,
          6531.79056937482,
          8982.21790817512,
          11755.0257444602,
          14725.1204284968,
          17753.8144401291,
          20708.1892160061,
          23492.5311046959,
          26009.056725424,
          28229.6897540857,
          30172.4823496767,
          32115.2749452676,
          34058.0675408586
         ],
         "yaxis": "y86"
        },
        {
         "line": {
          "color": "rgb(190,186,218)"
         },
         "mode": "lines+text",
         "name": "H03",
         "text": [
          "",
          "",
          "",
          "",
          "",
          "",
          "",
          "",
          "",
          "",
          "",
          "",
          "",
          "",
          "",
          "",
          "",
          "",
          "",
          "",
          "",
          "",
          "",
          "",
          "",
          "",
          "",
          "",
          "",
          "",
          "",
          "",
          "34019.1",
          "",
          "",
          "",
          "",
          "",
          "",
          ""
         ],
         "textfont": {
          "color": "black",
          "family": "sans serif",
          "size": 8
         },
         "textposition": "top left",
         "type": "scatter",
         "x": [
          1,
          2,
          3,
          4,
          5,
          6,
          7,
          8,
          9,
          10,
          11,
          12,
          13,
          14,
          15,
          16,
          17,
          18,
          19,
          20,
          21,
          22,
          23,
          24,
          25,
          26,
          27,
          28,
          29,
          30,
          31,
          32,
          33,
          34,
          35,
          36,
          37,
          38,
          39,
          40
         ],
         "xaxis": "x87",
         "y": [
          0,
          0,
          0,
          0,
          0,
          0,
          0,
          0,
          0,
          0,
          0,
          0,
          0,
          0,
          0,
          0,
          0,
          0,
          0,
          0,
          0,
          47.2934327860071,
          183.280332406472,
          456.474503639359,
          935.871844030966,
          1705.44359090598,
          2849.18909081177,
          4430.26035994775,
          6469.91033797214,
          8935.16664207039,
          11740.0836552243,
          14759.3117571671,
          17852.6845148728,
          20882.1231903263,
          23746.62361631,
          26327.0493766696,
          28586.9937496023,
          30509.5667436972,
          32264.3289008387,
          34019.0910579802
         ],
         "yaxis": "y87"
        },
        {
         "line": {
          "color": "rgb(251,128,114)"
         },
         "mode": "lines+text",
         "name": "H04",
         "text": [
          "",
          "",
          "",
          "",
          "",
          "",
          "",
          "",
          "",
          "",
          "",
          "",
          "",
          "",
          "",
          "",
          "",
          "",
          "",
          "",
          "",
          "",
          "",
          "",
          "",
          "",
          "",
          "",
          "",
          "",
          "",
          "",
          "28410.4",
          "",
          "",
          "",
          "",
          "",
          "",
          ""
         ],
         "textfont": {
          "color": "black",
          "family": "sans serif",
          "size": 8
         },
         "textposition": "top left",
         "type": "scatter",
         "x": [
          1,
          2,
          3,
          4,
          5,
          6,
          7,
          8,
          9,
          10,
          11,
          12,
          13,
          14,
          15,
          16,
          17,
          18,
          19,
          20,
          21,
          22,
          23,
          24,
          25,
          26,
          27,
          28,
          29,
          30,
          31,
          32,
          33,
          34,
          35,
          36,
          37,
          38,
          39,
          40
         ],
         "xaxis": "x88",
         "y": [
          0,
          0,
          0,
          0,
          0,
          0,
          0,
          0,
          0,
          0,
          0,
          0,
          0,
          0,
          0,
          0,
          0,
          0,
          0,
          0,
          0,
          0,
          0,
          0,
          49.0048702501289,
          190.075517482679,
          472.852081252714,
          966.238331464704,
          1752.12208175726,
          2910.41225319372,
          4499.1850511139,
          6534.44868018054,
          8979.03151255286,
          11736.2291966162,
          14663.1318606111,
          17613.7898435391,
          20482.3083489146,
          23203.0912856013,
          25811.6132848274,
          28410.4489309155
         ],
         "yaxis": "y88"
        },
        {
         "line": {
          "color": "rgb(128,177,211)"
         },
         "mode": "lines+text",
         "name": "H05",
         "text": [
          "",
          "",
          "",
          "",
          "",
          "",
          "",
          "",
          "",
          "",
          "",
          "",
          "",
          "",
          "",
          "",
          "",
          "",
          "",
          "",
          "",
          "",
          "",
          "",
          "",
          "",
          "",
          "",
          "",
          "",
          "",
          "",
          "12453.7",
          "",
          "",
          "",
          "",
          "",
          "",
          ""
         ],
         "textfont": {
          "color": "black",
          "family": "sans serif",
          "size": 8
         },
         "textposition": "top left",
         "type": "scatter",
         "x": [
          1,
          2,
          3,
          4,
          5,
          6,
          7,
          8,
          9,
          10,
          11,
          12,
          13,
          14,
          15,
          16,
          17,
          18,
          19,
          20,
          21,
          22,
          23,
          24,
          25,
          26,
          27,
          28,
          29,
          30,
          31,
          32,
          33,
          34,
          35,
          36,
          37,
          38,
          39,
          40
         ],
         "xaxis": "x89",
         "y": [
          0,
          0,
          0,
          0,
          0,
          0,
          0,
          0,
          0,
          0,
          0,
          0,
          0,
          0,
          0,
          0,
          0,
          0,
          0,
          0,
          0,
          0,
          0,
          25.5075206464417,
          93.2708264103744,
          221.479508196907,
          433.872291415115,
          757.534687842185,
          1218.13569591688,
          1833.92907474196,
          2610.70136074003,
          3538.78895448912,
          4593.65275059411,
          5737.78626228928,
          6932.4108501072,
          8123.13629002633,
          9275.94982278808,
          10359.8558577327,
          11406.7841619124,
          12453.7124660921
         ],
         "yaxis": "y89"
        },
        {
         "line": {
          "color": "rgb(253,180,98)"
         },
         "mode": "lines+text",
         "name": "H06",
         "text": [
          "",
          "",
          "",
          "",
          "",
          "",
          "",
          "",
          "",
          "",
          "",
          "",
          "",
          "",
          "",
          "",
          "",
          "",
          "",
          "",
          "",
          "",
          "",
          "",
          "",
          "",
          "",
          "",
          "",
          "",
          "",
          "",
          "19948.2",
          "",
          "",
          "",
          "",
          "",
          "",
          ""
         ],
         "textfont": {
          "color": "black",
          "family": "sans serif",
          "size": 8
         },
         "textposition": "top left",
         "type": "scatter",
         "x": [
          1,
          2,
          3,
          4,
          5,
          6,
          7,
          8,
          9,
          10,
          11,
          12,
          13,
          14,
          15,
          16,
          17,
          18,
          19,
          20,
          21,
          22,
          23,
          24,
          25,
          26,
          27,
          28,
          29,
          30,
          31,
          32,
          33,
          34,
          35,
          36,
          37,
          38,
          39,
          40
         ],
         "xaxis": "x90",
         "y": [
          0,
          0,
          0,
          0,
          0,
          0,
          0,
          0,
          0,
          0,
          0,
          0,
          0,
          0,
          0,
          0,
          0,
          0,
          0,
          0,
          0,
          0,
          0,
          34.8764013898181,
          130.537004420351,
          315.218137120765,
          627.146341083207,
          1111.34024907388,
          1811.79278313467,
          2761.47237109027,
          3973.08916399318,
          5433.83111526654,
          7106.91989322432,
          8934.51349498635,
          10856.668973601,
          12787.1747318588,
          14673.7159246259,
          16463.2229945785,
          18205.7302805595,
          19948.2375665406
         ],
         "yaxis": "y90"
        },
        {
         "line": {
          "color": "rgb(179,222,105)"
         },
         "mode": "lines+text",
         "name": "H07",
         "text": [
          "",
          "",
          "",
          "",
          "",
          "",
          "",
          "",
          "",
          "",
          "",
          "",
          "",
          "",
          "",
          "",
          "",
          "",
          "",
          "",
          "",
          "",
          "",
          "",
          "",
          "",
          "",
          "",
          "",
          "",
          "",
          "",
          "13195.3",
          "",
          "",
          "",
          "",
          "",
          "",
          ""
         ],
         "textfont": {
          "color": "black",
          "family": "sans serif",
          "size": 8
         },
         "textposition": "top left",
         "type": "scatter",
         "x": [
          1,
          2,
          3,
          4,
          5,
          6,
          7,
          8,
          9,
          10,
          11,
          12,
          13,
          14,
          15,
          16,
          17,
          18,
          19,
          20,
          21,
          22,
          23,
          24,
          25,
          26,
          27,
          28,
          29,
          30,
          31,
          32,
          33,
          34,
          35,
          36,
          37,
          38,
          39,
          40
         ],
         "xaxis": "x91",
         "y": [
          0,
          0,
          0,
          0,
          0,
          0,
          0,
          0,
          0,
          0,
          0,
          0,
          0,
          0,
          0,
          0,
          0,
          0,
          0,
          0,
          0,
          0,
          0,
          0,
          0,
          0,
          0,
          28.8005424421149,
          118.800675161028,
          302.593306392133,
          621.408524401284,
          1121.44380811629,
          1847.00917351529,
          2831.72274993697,
          4090.43411671653,
          5614.31962650005,
          7367.57386229644,
          9310.15011923403,
          11252.7263761716,
          13195.3026331092
         ],
         "yaxis": "y91"
        },
        {
         "line": {
          "color": "rgb(252,205,229)"
         },
         "mode": "lines+text",
         "name": "H08",
         "text": [
          "",
          "",
          "",
          "",
          "",
          "",
          "",
          "",
          "",
          "",
          "",
          "",
          "",
          "",
          "",
          "",
          "",
          "",
          "",
          "",
          "",
          "",
          "",
          "",
          "",
          "",
          "",
          "",
          "",
          "",
          "",
          "",
          "15368.8",
          "",
          "",
          "",
          "",
          "",
          "",
          ""
         ],
         "textfont": {
          "color": "black",
          "family": "sans serif",
          "size": 8
         },
         "textposition": "top left",
         "type": "scatter",
         "x": [
          1,
          2,
          3,
          4,
          5,
          6,
          7,
          8,
          9,
          10,
          11,
          12,
          13,
          14,
          15,
          16,
          17,
          18,
          19,
          20,
          21,
          22,
          23,
          24,
          25,
          26,
          27,
          28,
          29,
          30,
          31,
          32,
          33,
          34,
          35,
          36,
          37,
          38,
          39,
          40
         ],
         "xaxis": "x92",
         "y": [
          0,
          0,
          0,
          0,
          0,
          0,
          0,
          0,
          0,
          0,
          0,
          0,
          0,
          0,
          0,
          0,
          0,
          0,
          0,
          0,
          0,
          0,
          0,
          0,
          0,
          0,
          0,
          35.9163563775866,
          135.094880326055,
          329.953903842905,
          667.234736984136,
          1204.92280088972,
          2003.29602790873,
          3112.30513895265,
          4559.18574933302,
          6340.01272937862,
          8413.9515426563,
          10732.229573948,
          13050.5076052398,
          15368.7856365315
         ],
         "yaxis": "y92"
        },
        {
         "line": {
          "color": "rgb(217,217,217)"
         },
         "mode": "lines+text",
         "name": "H09",
         "text": [
          "",
          "",
          "",
          "",
          "",
          "",
          "",
          "",
          "",
          "",
          "",
          "",
          "",
          "",
          "",
          "",
          "",
          "",
          "",
          "",
          "",
          "",
          "",
          "",
          "",
          "",
          "",
          "",
          "",
          "",
          "",
          "",
          "15588.4",
          "",
          "",
          "",
          "",
          "",
          "",
          ""
         ],
         "textfont": {
          "color": "black",
          "family": "sans serif",
          "size": 8
         },
         "textposition": "top left",
         "type": "scatter",
         "x": [
          1,
          2,
          3,
          4,
          5,
          6,
          7,
          8,
          9,
          10,
          11,
          12,
          13,
          14,
          15,
          16,
          17,
          18,
          19,
          20,
          21,
          22,
          23,
          24,
          25,
          26,
          27,
          28,
          29,
          30,
          31,
          32,
          33,
          34,
          35,
          36,
          37,
          38,
          39,
          40
         ],
         "xaxis": "x93",
         "y": [
          0,
          0,
          0,
          0,
          0,
          0,
          0,
          0,
          0,
          0,
          0,
          0,
          0,
          0,
          0,
          0,
          0,
          0,
          0,
          0,
          0,
          0,
          0,
          0,
          0,
          0,
          0,
          34.3012135587952,
          131.243780467038,
          324.639215169827,
          663.27395401797,
          1207.37968907618,
          2018.99734422659,
          3148.56150301687,
          4622.07996272302,
          6433.23018801361,
          8538.82085182623,
          10888.686295186,
          13238.5517385457,
          15588.4171819054
         ],
         "yaxis": "y93"
        },
        {
         "line": {
          "color": "rgb(188,128,189)"
         },
         "mode": "lines+text",
         "name": "H10",
         "text": [
          "",
          "",
          "",
          "",
          "",
          "",
          "",
          "",
          "",
          "",
          "",
          "",
          "",
          "",
          "",
          "",
          "",
          "",
          "",
          "",
          "",
          "",
          "",
          "",
          "",
          "",
          "",
          "",
          "",
          "",
          "",
          "",
          "4816.1",
          "",
          "",
          "",
          "",
          "",
          "",
          ""
         ],
         "textfont": {
          "color": "black",
          "family": "sans serif",
          "size": 8
         },
         "textposition": "top left",
         "type": "scatter",
         "x": [
          1,
          2,
          3,
          4,
          5,
          6,
          7,
          8,
          9,
          10,
          11,
          12,
          13,
          14,
          15,
          16,
          17,
          18,
          19,
          20,
          21,
          22,
          23,
          24,
          25,
          26,
          27,
          28,
          29,
          30,
          31,
          32,
          33,
          34,
          35,
          36,
          37,
          38,
          39,
          40
         ],
         "xaxis": "x94",
         "y": [
          0,
          0,
          0,
          0,
          0,
          0,
          0,
          0,
          0,
          0,
          0,
          0,
          0,
          0,
          0,
          0,
          0,
          0,
          0,
          0,
          0,
          0,
          0,
          0,
          0,
          0,
          0,
          0,
          0,
          10.6389337092446,
          39.9624299526076,
          101.36305786105,
          221.775641709493,
          440.254038900541,
          802.673407662197,
          1347.51593670688,
          2082.5801028586,
          2993.76525559475,
          3904.95040833089,
          4816.13556106703
         ],
         "yaxis": "y94"
        },
        {
         "line": {
          "color": "rgb(204,235,197)"
         },
         "mode": "lines+text",
         "name": "H11",
         "text": [
          "",
          "",
          "",
          "",
          "",
          "",
          "",
          "",
          "",
          "",
          "",
          "",
          "",
          "",
          "",
          "",
          "",
          "",
          "",
          "",
          "",
          "",
          "",
          "",
          "",
          "",
          "",
          "",
          "",
          "",
          "",
          "",
          "0.0",
          "",
          "",
          "",
          "",
          "",
          "",
          ""
         ],
         "textfont": {
          "color": "black",
          "family": "sans serif",
          "size": 8
         },
         "textposition": "top left",
         "type": "scatter",
         "x": [
          1,
          2,
          3,
          4,
          5,
          6,
          7,
          8,
          9,
          10,
          11,
          12,
          13,
          14,
          15,
          16,
          17,
          18,
          19,
          20,
          21,
          22,
          23,
          24,
          25,
          26,
          27,
          28,
          29,
          30,
          31,
          32,
          33,
          34,
          35,
          36,
          37,
          38,
          39,
          40
         ],
         "xaxis": "x95",
         "y": [
          0,
          0,
          0,
          0,
          0,
          0,
          0,
          0,
          0,
          0,
          0,
          0,
          0,
          0,
          0,
          0,
          0,
          0,
          0,
          0,
          0,
          0,
          0,
          0,
          0,
          0,
          0,
          0,
          0,
          0,
          0,
          0,
          0,
          0,
          0,
          0,
          0,
          0,
          0,
          0
         ],
         "yaxis": "y95"
        },
        {
         "line": {
          "color": "rgb(255,237,111)"
         },
         "mode": "lines+text",
         "name": "H12",
         "text": [
          "",
          "",
          "",
          "",
          "",
          "",
          "",
          "",
          "",
          "",
          "",
          "",
          "",
          "",
          "",
          "",
          "",
          "",
          "",
          "",
          "",
          "",
          "",
          "",
          "",
          "",
          "",
          "",
          "",
          "",
          "",
          "",
          "5027.4",
          "",
          "",
          "",
          "",
          "",
          "",
          ""
         ],
         "textfont": {
          "color": "black",
          "family": "sans serif",
          "size": 8
         },
         "textposition": "top left",
         "type": "scatter",
         "x": [
          1,
          2,
          3,
          4,
          5,
          6,
          7,
          8,
          9,
          10,
          11,
          12,
          13,
          14,
          15,
          16,
          17,
          18,
          19,
          20,
          21,
          22,
          23,
          24,
          25,
          26,
          27,
          28,
          29,
          30,
          31,
          32,
          33,
          34,
          35,
          36,
          37,
          38,
          39,
          40
         ],
         "xaxis": "x96",
         "y": [
          0,
          0,
          0,
          0,
          0,
          0,
          0,
          0,
          0,
          0,
          0,
          0,
          0,
          0,
          0,
          0,
          0,
          0,
          0,
          0,
          0,
          0,
          0,
          0,
          0,
          0,
          0,
          0,
          0,
          9.86678348332316,
          39.4370523466818,
          103.826010929771,
          231.846399207408,
          464.046938419057,
          846.897623389408,
          1418.49572096664,
          2185.52724529313,
          3132.81544418119,
          4080.10364306924,
          5027.3918419573
         ],
         "yaxis": "y96"
        }
       ],
       "layout": {
        "annotations": [
         {
          "font": {
           "size": 16
          },
          "showarrow": false,
          "text": "A01",
          "x": 0.034027777777777775,
          "xanchor": "center",
          "xref": "paper",
          "y": 1,
          "yanchor": "bottom",
          "yref": "paper"
         },
         {
          "font": {
           "size": 16
          },
          "showarrow": false,
          "text": "A02",
          "x": 0.11875,
          "xanchor": "center",
          "xref": "paper",
          "y": 1,
          "yanchor": "bottom",
          "yref": "paper"
         },
         {
          "font": {
           "size": 16
          },
          "showarrow": false,
          "text": "A03",
          "x": 0.20347222222222222,
          "xanchor": "center",
          "xref": "paper",
          "y": 1,
          "yanchor": "bottom",
          "yref": "paper"
         },
         {
          "font": {
           "size": 16
          },
          "showarrow": false,
          "text": "A04",
          "x": 0.2881944444444444,
          "xanchor": "center",
          "xref": "paper",
          "y": 1,
          "yanchor": "bottom",
          "yref": "paper"
         },
         {
          "font": {
           "size": 16
          },
          "showarrow": false,
          "text": "A05",
          "x": 0.3729166666666666,
          "xanchor": "center",
          "xref": "paper",
          "y": 1,
          "yanchor": "bottom",
          "yref": "paper"
         },
         {
          "font": {
           "size": 16
          },
          "showarrow": false,
          "text": "A06",
          "x": 0.4576388888888888,
          "xanchor": "center",
          "xref": "paper",
          "y": 1,
          "yanchor": "bottom",
          "yref": "paper"
         },
         {
          "font": {
           "size": 16
          },
          "showarrow": false,
          "text": "A07",
          "x": 0.5423611111111111,
          "xanchor": "center",
          "xref": "paper",
          "y": 1,
          "yanchor": "bottom",
          "yref": "paper"
         },
         {
          "font": {
           "size": 16
          },
          "showarrow": false,
          "text": "A08",
          "x": 0.6270833333333332,
          "xanchor": "center",
          "xref": "paper",
          "y": 1,
          "yanchor": "bottom",
          "yref": "paper"
         },
         {
          "font": {
           "size": 16
          },
          "showarrow": false,
          "text": "A09",
          "x": 0.7118055555555555,
          "xanchor": "center",
          "xref": "paper",
          "y": 1,
          "yanchor": "bottom",
          "yref": "paper"
         },
         {
          "font": {
           "size": 16
          },
          "showarrow": false,
          "text": "A10",
          "x": 0.7965277777777777,
          "xanchor": "center",
          "xref": "paper",
          "y": 1,
          "yanchor": "bottom",
          "yref": "paper"
         },
         {
          "font": {
           "size": 16
          },
          "showarrow": false,
          "text": "A11",
          "x": 0.8812499999999999,
          "xanchor": "center",
          "xref": "paper",
          "y": 1,
          "yanchor": "bottom",
          "yref": "paper"
         },
         {
          "font": {
           "size": 16
          },
          "showarrow": false,
          "text": "A12",
          "x": 0.9659722222222221,
          "xanchor": "center",
          "xref": "paper",
          "y": 1,
          "yanchor": "bottom",
          "yref": "paper"
         },
         {
          "font": {
           "size": 16
          },
          "showarrow": false,
          "text": "B01",
          "x": 0.034027777777777775,
          "xanchor": "center",
          "xref": "paper",
          "y": 0.8671875,
          "yanchor": "bottom",
          "yref": "paper"
         },
         {
          "font": {
           "size": 16
          },
          "showarrow": false,
          "text": "B02",
          "x": 0.11875,
          "xanchor": "center",
          "xref": "paper",
          "y": 0.8671875,
          "yanchor": "bottom",
          "yref": "paper"
         },
         {
          "font": {
           "size": 16
          },
          "showarrow": false,
          "text": "B03",
          "x": 0.20347222222222222,
          "xanchor": "center",
          "xref": "paper",
          "y": 0.8671875,
          "yanchor": "bottom",
          "yref": "paper"
         },
         {
          "font": {
           "size": 16
          },
          "showarrow": false,
          "text": "B04",
          "x": 0.2881944444444444,
          "xanchor": "center",
          "xref": "paper",
          "y": 0.8671875,
          "yanchor": "bottom",
          "yref": "paper"
         },
         {
          "font": {
           "size": 16
          },
          "showarrow": false,
          "text": "B05",
          "x": 0.3729166666666666,
          "xanchor": "center",
          "xref": "paper",
          "y": 0.8671875,
          "yanchor": "bottom",
          "yref": "paper"
         },
         {
          "font": {
           "size": 16
          },
          "showarrow": false,
          "text": "B06",
          "x": 0.4576388888888888,
          "xanchor": "center",
          "xref": "paper",
          "y": 0.8671875,
          "yanchor": "bottom",
          "yref": "paper"
         },
         {
          "font": {
           "size": 16
          },
          "showarrow": false,
          "text": "B07",
          "x": 0.5423611111111111,
          "xanchor": "center",
          "xref": "paper",
          "y": 0.8671875,
          "yanchor": "bottom",
          "yref": "paper"
         },
         {
          "font": {
           "size": 16
          },
          "showarrow": false,
          "text": "B08",
          "x": 0.6270833333333332,
          "xanchor": "center",
          "xref": "paper",
          "y": 0.8671875,
          "yanchor": "bottom",
          "yref": "paper"
         },
         {
          "font": {
           "size": 16
          },
          "showarrow": false,
          "text": "B09",
          "x": 0.7118055555555555,
          "xanchor": "center",
          "xref": "paper",
          "y": 0.8671875,
          "yanchor": "bottom",
          "yref": "paper"
         },
         {
          "font": {
           "size": 16
          },
          "showarrow": false,
          "text": "B10",
          "x": 0.7965277777777777,
          "xanchor": "center",
          "xref": "paper",
          "y": 0.8671875,
          "yanchor": "bottom",
          "yref": "paper"
         },
         {
          "font": {
           "size": 16
          },
          "showarrow": false,
          "text": "B11",
          "x": 0.8812499999999999,
          "xanchor": "center",
          "xref": "paper",
          "y": 0.8671875,
          "yanchor": "bottom",
          "yref": "paper"
         },
         {
          "font": {
           "size": 16
          },
          "showarrow": false,
          "text": "B12",
          "x": 0.9659722222222221,
          "xanchor": "center",
          "xref": "paper",
          "y": 0.8671875,
          "yanchor": "bottom",
          "yref": "paper"
         },
         {
          "font": {
           "size": 16
          },
          "showarrow": false,
          "text": "C01",
          "x": 0.034027777777777775,
          "xanchor": "center",
          "xref": "paper",
          "y": 0.734375,
          "yanchor": "bottom",
          "yref": "paper"
         },
         {
          "font": {
           "size": 16
          },
          "showarrow": false,
          "text": "C02",
          "x": 0.11875,
          "xanchor": "center",
          "xref": "paper",
          "y": 0.734375,
          "yanchor": "bottom",
          "yref": "paper"
         },
         {
          "font": {
           "size": 16
          },
          "showarrow": false,
          "text": "C03",
          "x": 0.20347222222222222,
          "xanchor": "center",
          "xref": "paper",
          "y": 0.734375,
          "yanchor": "bottom",
          "yref": "paper"
         },
         {
          "font": {
           "size": 16
          },
          "showarrow": false,
          "text": "C04",
          "x": 0.2881944444444444,
          "xanchor": "center",
          "xref": "paper",
          "y": 0.734375,
          "yanchor": "bottom",
          "yref": "paper"
         },
         {
          "font": {
           "size": 16
          },
          "showarrow": false,
          "text": "C05",
          "x": 0.3729166666666666,
          "xanchor": "center",
          "xref": "paper",
          "y": 0.734375,
          "yanchor": "bottom",
          "yref": "paper"
         },
         {
          "font": {
           "size": 16
          },
          "showarrow": false,
          "text": "C06",
          "x": 0.4576388888888888,
          "xanchor": "center",
          "xref": "paper",
          "y": 0.734375,
          "yanchor": "bottom",
          "yref": "paper"
         },
         {
          "font": {
           "size": 16
          },
          "showarrow": false,
          "text": "C07",
          "x": 0.5423611111111111,
          "xanchor": "center",
          "xref": "paper",
          "y": 0.734375,
          "yanchor": "bottom",
          "yref": "paper"
         },
         {
          "font": {
           "size": 16
          },
          "showarrow": false,
          "text": "C08",
          "x": 0.6270833333333332,
          "xanchor": "center",
          "xref": "paper",
          "y": 0.734375,
          "yanchor": "bottom",
          "yref": "paper"
         },
         {
          "font": {
           "size": 16
          },
          "showarrow": false,
          "text": "C09",
          "x": 0.7118055555555555,
          "xanchor": "center",
          "xref": "paper",
          "y": 0.734375,
          "yanchor": "bottom",
          "yref": "paper"
         },
         {
          "font": {
           "size": 16
          },
          "showarrow": false,
          "text": "C10",
          "x": 0.7965277777777777,
          "xanchor": "center",
          "xref": "paper",
          "y": 0.734375,
          "yanchor": "bottom",
          "yref": "paper"
         },
         {
          "font": {
           "size": 16
          },
          "showarrow": false,
          "text": "C11",
          "x": 0.8812499999999999,
          "xanchor": "center",
          "xref": "paper",
          "y": 0.734375,
          "yanchor": "bottom",
          "yref": "paper"
         },
         {
          "font": {
           "size": 16
          },
          "showarrow": false,
          "text": "C12",
          "x": 0.9659722222222221,
          "xanchor": "center",
          "xref": "paper",
          "y": 0.734375,
          "yanchor": "bottom",
          "yref": "paper"
         },
         {
          "font": {
           "size": 16
          },
          "showarrow": false,
          "text": "D01",
          "x": 0.034027777777777775,
          "xanchor": "center",
          "xref": "paper",
          "y": 0.6015625,
          "yanchor": "bottom",
          "yref": "paper"
         },
         {
          "font": {
           "size": 16
          },
          "showarrow": false,
          "text": "D02",
          "x": 0.11875,
          "xanchor": "center",
          "xref": "paper",
          "y": 0.6015625,
          "yanchor": "bottom",
          "yref": "paper"
         },
         {
          "font": {
           "size": 16
          },
          "showarrow": false,
          "text": "D03",
          "x": 0.20347222222222222,
          "xanchor": "center",
          "xref": "paper",
          "y": 0.6015625,
          "yanchor": "bottom",
          "yref": "paper"
         },
         {
          "font": {
           "size": 16
          },
          "showarrow": false,
          "text": "D04",
          "x": 0.2881944444444444,
          "xanchor": "center",
          "xref": "paper",
          "y": 0.6015625,
          "yanchor": "bottom",
          "yref": "paper"
         },
         {
          "font": {
           "size": 16
          },
          "showarrow": false,
          "text": "D05",
          "x": 0.3729166666666666,
          "xanchor": "center",
          "xref": "paper",
          "y": 0.6015625,
          "yanchor": "bottom",
          "yref": "paper"
         },
         {
          "font": {
           "size": 16
          },
          "showarrow": false,
          "text": "D06",
          "x": 0.4576388888888888,
          "xanchor": "center",
          "xref": "paper",
          "y": 0.6015625,
          "yanchor": "bottom",
          "yref": "paper"
         },
         {
          "font": {
           "size": 16
          },
          "showarrow": false,
          "text": "D07",
          "x": 0.5423611111111111,
          "xanchor": "center",
          "xref": "paper",
          "y": 0.6015625,
          "yanchor": "bottom",
          "yref": "paper"
         },
         {
          "font": {
           "size": 16
          },
          "showarrow": false,
          "text": "D08",
          "x": 0.6270833333333332,
          "xanchor": "center",
          "xref": "paper",
          "y": 0.6015625,
          "yanchor": "bottom",
          "yref": "paper"
         },
         {
          "font": {
           "size": 16
          },
          "showarrow": false,
          "text": "D09",
          "x": 0.7118055555555555,
          "xanchor": "center",
          "xref": "paper",
          "y": 0.6015625,
          "yanchor": "bottom",
          "yref": "paper"
         },
         {
          "font": {
           "size": 16
          },
          "showarrow": false,
          "text": "D10",
          "x": 0.7965277777777777,
          "xanchor": "center",
          "xref": "paper",
          "y": 0.6015625,
          "yanchor": "bottom",
          "yref": "paper"
         },
         {
          "font": {
           "size": 16
          },
          "showarrow": false,
          "text": "D11",
          "x": 0.8812499999999999,
          "xanchor": "center",
          "xref": "paper",
          "y": 0.6015625,
          "yanchor": "bottom",
          "yref": "paper"
         },
         {
          "font": {
           "size": 16
          },
          "showarrow": false,
          "text": "D12",
          "x": 0.9659722222222221,
          "xanchor": "center",
          "xref": "paper",
          "y": 0.6015625,
          "yanchor": "bottom",
          "yref": "paper"
         },
         {
          "font": {
           "size": 16
          },
          "showarrow": false,
          "text": "E01",
          "x": 0.034027777777777775,
          "xanchor": "center",
          "xref": "paper",
          "y": 0.46875,
          "yanchor": "bottom",
          "yref": "paper"
         },
         {
          "font": {
           "size": 16
          },
          "showarrow": false,
          "text": "E02",
          "x": 0.11875,
          "xanchor": "center",
          "xref": "paper",
          "y": 0.46875,
          "yanchor": "bottom",
          "yref": "paper"
         },
         {
          "font": {
           "size": 16
          },
          "showarrow": false,
          "text": "E03",
          "x": 0.20347222222222222,
          "xanchor": "center",
          "xref": "paper",
          "y": 0.46875,
          "yanchor": "bottom",
          "yref": "paper"
         },
         {
          "font": {
           "size": 16
          },
          "showarrow": false,
          "text": "E04",
          "x": 0.2881944444444444,
          "xanchor": "center",
          "xref": "paper",
          "y": 0.46875,
          "yanchor": "bottom",
          "yref": "paper"
         },
         {
          "font": {
           "size": 16
          },
          "showarrow": false,
          "text": "E05",
          "x": 0.3729166666666666,
          "xanchor": "center",
          "xref": "paper",
          "y": 0.46875,
          "yanchor": "bottom",
          "yref": "paper"
         },
         {
          "font": {
           "size": 16
          },
          "showarrow": false,
          "text": "E06",
          "x": 0.4576388888888888,
          "xanchor": "center",
          "xref": "paper",
          "y": 0.46875,
          "yanchor": "bottom",
          "yref": "paper"
         },
         {
          "font": {
           "size": 16
          },
          "showarrow": false,
          "text": "E07",
          "x": 0.5423611111111111,
          "xanchor": "center",
          "xref": "paper",
          "y": 0.46875,
          "yanchor": "bottom",
          "yref": "paper"
         },
         {
          "font": {
           "size": 16
          },
          "showarrow": false,
          "text": "E08",
          "x": 0.6270833333333332,
          "xanchor": "center",
          "xref": "paper",
          "y": 0.46875,
          "yanchor": "bottom",
          "yref": "paper"
         },
         {
          "font": {
           "size": 16
          },
          "showarrow": false,
          "text": "E09",
          "x": 0.7118055555555555,
          "xanchor": "center",
          "xref": "paper",
          "y": 0.46875,
          "yanchor": "bottom",
          "yref": "paper"
         },
         {
          "font": {
           "size": 16
          },
          "showarrow": false,
          "text": "E10",
          "x": 0.7965277777777777,
          "xanchor": "center",
          "xref": "paper",
          "y": 0.46875,
          "yanchor": "bottom",
          "yref": "paper"
         },
         {
          "font": {
           "size": 16
          },
          "showarrow": false,
          "text": "E11",
          "x": 0.8812499999999999,
          "xanchor": "center",
          "xref": "paper",
          "y": 0.46875,
          "yanchor": "bottom",
          "yref": "paper"
         },
         {
          "font": {
           "size": 16
          },
          "showarrow": false,
          "text": "E12",
          "x": 0.9659722222222221,
          "xanchor": "center",
          "xref": "paper",
          "y": 0.46875,
          "yanchor": "bottom",
          "yref": "paper"
         },
         {
          "font": {
           "size": 16
          },
          "showarrow": false,
          "text": "F01",
          "x": 0.034027777777777775,
          "xanchor": "center",
          "xref": "paper",
          "y": 0.3359375,
          "yanchor": "bottom",
          "yref": "paper"
         },
         {
          "font": {
           "size": 16
          },
          "showarrow": false,
          "text": "F02",
          "x": 0.11875,
          "xanchor": "center",
          "xref": "paper",
          "y": 0.3359375,
          "yanchor": "bottom",
          "yref": "paper"
         },
         {
          "font": {
           "size": 16
          },
          "showarrow": false,
          "text": "F03",
          "x": 0.20347222222222222,
          "xanchor": "center",
          "xref": "paper",
          "y": 0.3359375,
          "yanchor": "bottom",
          "yref": "paper"
         },
         {
          "font": {
           "size": 16
          },
          "showarrow": false,
          "text": "F04",
          "x": 0.2881944444444444,
          "xanchor": "center",
          "xref": "paper",
          "y": 0.3359375,
          "yanchor": "bottom",
          "yref": "paper"
         },
         {
          "font": {
           "size": 16
          },
          "showarrow": false,
          "text": "F05",
          "x": 0.3729166666666666,
          "xanchor": "center",
          "xref": "paper",
          "y": 0.3359375,
          "yanchor": "bottom",
          "yref": "paper"
         },
         {
          "font": {
           "size": 16
          },
          "showarrow": false,
          "text": "F06",
          "x": 0.4576388888888888,
          "xanchor": "center",
          "xref": "paper",
          "y": 0.3359375,
          "yanchor": "bottom",
          "yref": "paper"
         },
         {
          "font": {
           "size": 16
          },
          "showarrow": false,
          "text": "F07",
          "x": 0.5423611111111111,
          "xanchor": "center",
          "xref": "paper",
          "y": 0.3359375,
          "yanchor": "bottom",
          "yref": "paper"
         },
         {
          "font": {
           "size": 16
          },
          "showarrow": false,
          "text": "F08",
          "x": 0.6270833333333332,
          "xanchor": "center",
          "xref": "paper",
          "y": 0.3359375,
          "yanchor": "bottom",
          "yref": "paper"
         },
         {
          "font": {
           "size": 16
          },
          "showarrow": false,
          "text": "F09",
          "x": 0.7118055555555555,
          "xanchor": "center",
          "xref": "paper",
          "y": 0.3359375,
          "yanchor": "bottom",
          "yref": "paper"
         },
         {
          "font": {
           "size": 16
          },
          "showarrow": false,
          "text": "F10",
          "x": 0.7965277777777777,
          "xanchor": "center",
          "xref": "paper",
          "y": 0.3359375,
          "yanchor": "bottom",
          "yref": "paper"
         },
         {
          "font": {
           "size": 16
          },
          "showarrow": false,
          "text": "F11",
          "x": 0.8812499999999999,
          "xanchor": "center",
          "xref": "paper",
          "y": 0.3359375,
          "yanchor": "bottom",
          "yref": "paper"
         },
         {
          "font": {
           "size": 16
          },
          "showarrow": false,
          "text": "F12",
          "x": 0.9659722222222221,
          "xanchor": "center",
          "xref": "paper",
          "y": 0.3359375,
          "yanchor": "bottom",
          "yref": "paper"
         },
         {
          "font": {
           "size": 16
          },
          "showarrow": false,
          "text": "G01",
          "x": 0.034027777777777775,
          "xanchor": "center",
          "xref": "paper",
          "y": 0.203125,
          "yanchor": "bottom",
          "yref": "paper"
         },
         {
          "font": {
           "size": 16
          },
          "showarrow": false,
          "text": "G02",
          "x": 0.11875,
          "xanchor": "center",
          "xref": "paper",
          "y": 0.203125,
          "yanchor": "bottom",
          "yref": "paper"
         },
         {
          "font": {
           "size": 16
          },
          "showarrow": false,
          "text": "G03",
          "x": 0.20347222222222222,
          "xanchor": "center",
          "xref": "paper",
          "y": 0.203125,
          "yanchor": "bottom",
          "yref": "paper"
         },
         {
          "font": {
           "size": 16
          },
          "showarrow": false,
          "text": "G04",
          "x": 0.2881944444444444,
          "xanchor": "center",
          "xref": "paper",
          "y": 0.203125,
          "yanchor": "bottom",
          "yref": "paper"
         },
         {
          "font": {
           "size": 16
          },
          "showarrow": false,
          "text": "G05",
          "x": 0.3729166666666666,
          "xanchor": "center",
          "xref": "paper",
          "y": 0.203125,
          "yanchor": "bottom",
          "yref": "paper"
         },
         {
          "font": {
           "size": 16
          },
          "showarrow": false,
          "text": "G06",
          "x": 0.4576388888888888,
          "xanchor": "center",
          "xref": "paper",
          "y": 0.203125,
          "yanchor": "bottom",
          "yref": "paper"
         },
         {
          "font": {
           "size": 16
          },
          "showarrow": false,
          "text": "G07",
          "x": 0.5423611111111111,
          "xanchor": "center",
          "xref": "paper",
          "y": 0.203125,
          "yanchor": "bottom",
          "yref": "paper"
         },
         {
          "font": {
           "size": 16
          },
          "showarrow": false,
          "text": "G08",
          "x": 0.6270833333333332,
          "xanchor": "center",
          "xref": "paper",
          "y": 0.203125,
          "yanchor": "bottom",
          "yref": "paper"
         },
         {
          "font": {
           "size": 16
          },
          "showarrow": false,
          "text": "G09",
          "x": 0.7118055555555555,
          "xanchor": "center",
          "xref": "paper",
          "y": 0.203125,
          "yanchor": "bottom",
          "yref": "paper"
         },
         {
          "font": {
           "size": 16
          },
          "showarrow": false,
          "text": "G10",
          "x": 0.7965277777777777,
          "xanchor": "center",
          "xref": "paper",
          "y": 0.203125,
          "yanchor": "bottom",
          "yref": "paper"
         },
         {
          "font": {
           "size": 16
          },
          "showarrow": false,
          "text": "G11",
          "x": 0.8812499999999999,
          "xanchor": "center",
          "xref": "paper",
          "y": 0.203125,
          "yanchor": "bottom",
          "yref": "paper"
         },
         {
          "font": {
           "size": 16
          },
          "showarrow": false,
          "text": "G12",
          "x": 0.9659722222222221,
          "xanchor": "center",
          "xref": "paper",
          "y": 0.203125,
          "yanchor": "bottom",
          "yref": "paper"
         },
         {
          "font": {
           "size": 16
          },
          "showarrow": false,
          "text": "H01",
          "x": 0.034027777777777775,
          "xanchor": "center",
          "xref": "paper",
          "y": 0.0703125,
          "yanchor": "bottom",
          "yref": "paper"
         },
         {
          "font": {
           "size": 16
          },
          "showarrow": false,
          "text": "H02",
          "x": 0.11875,
          "xanchor": "center",
          "xref": "paper",
          "y": 0.0703125,
          "yanchor": "bottom",
          "yref": "paper"
         },
         {
          "font": {
           "size": 16
          },
          "showarrow": false,
          "text": "H03",
          "x": 0.20347222222222222,
          "xanchor": "center",
          "xref": "paper",
          "y": 0.0703125,
          "yanchor": "bottom",
          "yref": "paper"
         },
         {
          "font": {
           "size": 16
          },
          "showarrow": false,
          "text": "H04",
          "x": 0.2881944444444444,
          "xanchor": "center",
          "xref": "paper",
          "y": 0.0703125,
          "yanchor": "bottom",
          "yref": "paper"
         },
         {
          "font": {
           "size": 16
          },
          "showarrow": false,
          "text": "H05",
          "x": 0.3729166666666666,
          "xanchor": "center",
          "xref": "paper",
          "y": 0.0703125,
          "yanchor": "bottom",
          "yref": "paper"
         },
         {
          "font": {
           "size": 16
          },
          "showarrow": false,
          "text": "H06",
          "x": 0.4576388888888888,
          "xanchor": "center",
          "xref": "paper",
          "y": 0.0703125,
          "yanchor": "bottom",
          "yref": "paper"
         },
         {
          "font": {
           "size": 16
          },
          "showarrow": false,
          "text": "H07",
          "x": 0.5423611111111111,
          "xanchor": "center",
          "xref": "paper",
          "y": 0.0703125,
          "yanchor": "bottom",
          "yref": "paper"
         },
         {
          "font": {
           "size": 16
          },
          "showarrow": false,
          "text": "H08",
          "x": 0.6270833333333332,
          "xanchor": "center",
          "xref": "paper",
          "y": 0.0703125,
          "yanchor": "bottom",
          "yref": "paper"
         },
         {
          "font": {
           "size": 16
          },
          "showarrow": false,
          "text": "H09",
          "x": 0.7118055555555555,
          "xanchor": "center",
          "xref": "paper",
          "y": 0.0703125,
          "yanchor": "bottom",
          "yref": "paper"
         },
         {
          "font": {
           "size": 16
          },
          "showarrow": false,
          "text": "H10",
          "x": 0.7965277777777777,
          "xanchor": "center",
          "xref": "paper",
          "y": 0.0703125,
          "yanchor": "bottom",
          "yref": "paper"
         },
         {
          "font": {
           "size": 16
          },
          "showarrow": false,
          "text": "H11",
          "x": 0.8812499999999999,
          "xanchor": "center",
          "xref": "paper",
          "y": 0.0703125,
          "yanchor": "bottom",
          "yref": "paper"
         },
         {
          "font": {
           "size": 16
          },
          "showarrow": false,
          "text": "H12",
          "x": 0.9659722222222221,
          "xanchor": "center",
          "xref": "paper",
          "y": 0.0703125,
          "yanchor": "bottom",
          "yref": "paper"
         }
        ],
        "height": 800,
        "showlegend": false,
        "template": {
         "data": {
          "bar": [
           {
            "error_x": {
             "color": "#2a3f5f"
            },
            "error_y": {
             "color": "#2a3f5f"
            },
            "marker": {
             "line": {
              "color": "#E5ECF6",
              "width": 0.5
             },
             "pattern": {
              "fillmode": "overlay",
              "size": 10,
              "solidity": 0.2
             }
            },
            "type": "bar"
           }
          ],
          "barpolar": [
           {
            "marker": {
             "line": {
              "color": "#E5ECF6",
              "width": 0.5
             },
             "pattern": {
              "fillmode": "overlay",
              "size": 10,
              "solidity": 0.2
             }
            },
            "type": "barpolar"
           }
          ],
          "carpet": [
           {
            "aaxis": {
             "endlinecolor": "#2a3f5f",
             "gridcolor": "white",
             "linecolor": "white",
             "minorgridcolor": "white",
             "startlinecolor": "#2a3f5f"
            },
            "baxis": {
             "endlinecolor": "#2a3f5f",
             "gridcolor": "white",
             "linecolor": "white",
             "minorgridcolor": "white",
             "startlinecolor": "#2a3f5f"
            },
            "type": "carpet"
           }
          ],
          "choropleth": [
           {
            "colorbar": {
             "outlinewidth": 0,
             "ticks": ""
            },
            "type": "choropleth"
           }
          ],
          "contour": [
           {
            "colorbar": {
             "outlinewidth": 0,
             "ticks": ""
            },
            "colorscale": [
             [
              0,
              "#0d0887"
             ],
             [
              0.1111111111111111,
              "#46039f"
             ],
             [
              0.2222222222222222,
              "#7201a8"
             ],
             [
              0.3333333333333333,
              "#9c179e"
             ],
             [
              0.4444444444444444,
              "#bd3786"
             ],
             [
              0.5555555555555556,
              "#d8576b"
             ],
             [
              0.6666666666666666,
              "#ed7953"
             ],
             [
              0.7777777777777778,
              "#fb9f3a"
             ],
             [
              0.8888888888888888,
              "#fdca26"
             ],
             [
              1,
              "#f0f921"
             ]
            ],
            "type": "contour"
           }
          ],
          "contourcarpet": [
           {
            "colorbar": {
             "outlinewidth": 0,
             "ticks": ""
            },
            "type": "contourcarpet"
           }
          ],
          "heatmap": [
           {
            "colorbar": {
             "outlinewidth": 0,
             "ticks": ""
            },
            "colorscale": [
             [
              0,
              "#0d0887"
             ],
             [
              0.1111111111111111,
              "#46039f"
             ],
             [
              0.2222222222222222,
              "#7201a8"
             ],
             [
              0.3333333333333333,
              "#9c179e"
             ],
             [
              0.4444444444444444,
              "#bd3786"
             ],
             [
              0.5555555555555556,
              "#d8576b"
             ],
             [
              0.6666666666666666,
              "#ed7953"
             ],
             [
              0.7777777777777778,
              "#fb9f3a"
             ],
             [
              0.8888888888888888,
              "#fdca26"
             ],
             [
              1,
              "#f0f921"
             ]
            ],
            "type": "heatmap"
           }
          ],
          "heatmapgl": [
           {
            "colorbar": {
             "outlinewidth": 0,
             "ticks": ""
            },
            "colorscale": [
             [
              0,
              "#0d0887"
             ],
             [
              0.1111111111111111,
              "#46039f"
             ],
             [
              0.2222222222222222,
              "#7201a8"
             ],
             [
              0.3333333333333333,
              "#9c179e"
             ],
             [
              0.4444444444444444,
              "#bd3786"
             ],
             [
              0.5555555555555556,
              "#d8576b"
             ],
             [
              0.6666666666666666,
              "#ed7953"
             ],
             [
              0.7777777777777778,
              "#fb9f3a"
             ],
             [
              0.8888888888888888,
              "#fdca26"
             ],
             [
              1,
              "#f0f921"
             ]
            ],
            "type": "heatmapgl"
           }
          ],
          "histogram": [
           {
            "marker": {
             "pattern": {
              "fillmode": "overlay",
              "size": 10,
              "solidity": 0.2
             }
            },
            "type": "histogram"
           }
          ],
          "histogram2d": [
           {
            "colorbar": {
             "outlinewidth": 0,
             "ticks": ""
            },
            "colorscale": [
             [
              0,
              "#0d0887"
             ],
             [
              0.1111111111111111,
              "#46039f"
             ],
             [
              0.2222222222222222,
              "#7201a8"
             ],
             [
              0.3333333333333333,
              "#9c179e"
             ],
             [
              0.4444444444444444,
              "#bd3786"
             ],
             [
              0.5555555555555556,
              "#d8576b"
             ],
             [
              0.6666666666666666,
              "#ed7953"
             ],
             [
              0.7777777777777778,
              "#fb9f3a"
             ],
             [
              0.8888888888888888,
              "#fdca26"
             ],
             [
              1,
              "#f0f921"
             ]
            ],
            "type": "histogram2d"
           }
          ],
          "histogram2dcontour": [
           {
            "colorbar": {
             "outlinewidth": 0,
             "ticks": ""
            },
            "colorscale": [
             [
              0,
              "#0d0887"
             ],
             [
              0.1111111111111111,
              "#46039f"
             ],
             [
              0.2222222222222222,
              "#7201a8"
             ],
             [
              0.3333333333333333,
              "#9c179e"
             ],
             [
              0.4444444444444444,
              "#bd3786"
             ],
             [
              0.5555555555555556,
              "#d8576b"
             ],
             [
              0.6666666666666666,
              "#ed7953"
             ],
             [
              0.7777777777777778,
              "#fb9f3a"
             ],
             [
              0.8888888888888888,
              "#fdca26"
             ],
             [
              1,
              "#f0f921"
             ]
            ],
            "type": "histogram2dcontour"
           }
          ],
          "mesh3d": [
           {
            "colorbar": {
             "outlinewidth": 0,
             "ticks": ""
            },
            "type": "mesh3d"
           }
          ],
          "parcoords": [
           {
            "line": {
             "colorbar": {
              "outlinewidth": 0,
              "ticks": ""
             }
            },
            "type": "parcoords"
           }
          ],
          "pie": [
           {
            "automargin": true,
            "type": "pie"
           }
          ],
          "scatter": [
           {
            "fillpattern": {
             "fillmode": "overlay",
             "size": 10,
             "solidity": 0.2
            },
            "type": "scatter"
           }
          ],
          "scatter3d": [
           {
            "line": {
             "colorbar": {
              "outlinewidth": 0,
              "ticks": ""
             }
            },
            "marker": {
             "colorbar": {
              "outlinewidth": 0,
              "ticks": ""
             }
            },
            "type": "scatter3d"
           }
          ],
          "scattercarpet": [
           {
            "marker": {
             "colorbar": {
              "outlinewidth": 0,
              "ticks": ""
             }
            },
            "type": "scattercarpet"
           }
          ],
          "scattergeo": [
           {
            "marker": {
             "colorbar": {
              "outlinewidth": 0,
              "ticks": ""
             }
            },
            "type": "scattergeo"
           }
          ],
          "scattergl": [
           {
            "marker": {
             "colorbar": {
              "outlinewidth": 0,
              "ticks": ""
             }
            },
            "type": "scattergl"
           }
          ],
          "scattermapbox": [
           {
            "marker": {
             "colorbar": {
              "outlinewidth": 0,
              "ticks": ""
             }
            },
            "type": "scattermapbox"
           }
          ],
          "scatterpolar": [
           {
            "marker": {
             "colorbar": {
              "outlinewidth": 0,
              "ticks": ""
             }
            },
            "type": "scatterpolar"
           }
          ],
          "scatterpolargl": [
           {
            "marker": {
             "colorbar": {
              "outlinewidth": 0,
              "ticks": ""
             }
            },
            "type": "scatterpolargl"
           }
          ],
          "scatterternary": [
           {
            "marker": {
             "colorbar": {
              "outlinewidth": 0,
              "ticks": ""
             }
            },
            "type": "scatterternary"
           }
          ],
          "surface": [
           {
            "colorbar": {
             "outlinewidth": 0,
             "ticks": ""
            },
            "colorscale": [
             [
              0,
              "#0d0887"
             ],
             [
              0.1111111111111111,
              "#46039f"
             ],
             [
              0.2222222222222222,
              "#7201a8"
             ],
             [
              0.3333333333333333,
              "#9c179e"
             ],
             [
              0.4444444444444444,
              "#bd3786"
             ],
             [
              0.5555555555555556,
              "#d8576b"
             ],
             [
              0.6666666666666666,
              "#ed7953"
             ],
             [
              0.7777777777777778,
              "#fb9f3a"
             ],
             [
              0.8888888888888888,
              "#fdca26"
             ],
             [
              1,
              "#f0f921"
             ]
            ],
            "type": "surface"
           }
          ],
          "table": [
           {
            "cells": {
             "fill": {
              "color": "#EBF0F8"
             },
             "line": {
              "color": "white"
             }
            },
            "header": {
             "fill": {
              "color": "#C8D4E3"
             },
             "line": {
              "color": "white"
             }
            },
            "type": "table"
           }
          ]
         },
         "layout": {
          "annotationdefaults": {
           "arrowcolor": "#2a3f5f",
           "arrowhead": 0,
           "arrowwidth": 1
          },
          "autotypenumbers": "strict",
          "coloraxis": {
           "colorbar": {
            "outlinewidth": 0,
            "ticks": ""
           }
          },
          "colorscale": {
           "diverging": [
            [
             0,
             "#8e0152"
            ],
            [
             0.1,
             "#c51b7d"
            ],
            [
             0.2,
             "#de77ae"
            ],
            [
             0.3,
             "#f1b6da"
            ],
            [
             0.4,
             "#fde0ef"
            ],
            [
             0.5,
             "#f7f7f7"
            ],
            [
             0.6,
             "#e6f5d0"
            ],
            [
             0.7,
             "#b8e186"
            ],
            [
             0.8,
             "#7fbc41"
            ],
            [
             0.9,
             "#4d9221"
            ],
            [
             1,
             "#276419"
            ]
           ],
           "sequential": [
            [
             0,
             "#0d0887"
            ],
            [
             0.1111111111111111,
             "#46039f"
            ],
            [
             0.2222222222222222,
             "#7201a8"
            ],
            [
             0.3333333333333333,
             "#9c179e"
            ],
            [
             0.4444444444444444,
             "#bd3786"
            ],
            [
             0.5555555555555556,
             "#d8576b"
            ],
            [
             0.6666666666666666,
             "#ed7953"
            ],
            [
             0.7777777777777778,
             "#fb9f3a"
            ],
            [
             0.8888888888888888,
             "#fdca26"
            ],
            [
             1,
             "#f0f921"
            ]
           ],
           "sequentialminus": [
            [
             0,
             "#0d0887"
            ],
            [
             0.1111111111111111,
             "#46039f"
            ],
            [
             0.2222222222222222,
             "#7201a8"
            ],
            [
             0.3333333333333333,
             "#9c179e"
            ],
            [
             0.4444444444444444,
             "#bd3786"
            ],
            [
             0.5555555555555556,
             "#d8576b"
            ],
            [
             0.6666666666666666,
             "#ed7953"
            ],
            [
             0.7777777777777778,
             "#fb9f3a"
            ],
            [
             0.8888888888888888,
             "#fdca26"
            ],
            [
             1,
             "#f0f921"
            ]
           ]
          },
          "colorway": [
           "#636efa",
           "#EF553B",
           "#00cc96",
           "#ab63fa",
           "#FFA15A",
           "#19d3f3",
           "#FF6692",
           "#B6E880",
           "#FF97FF",
           "#FECB52"
          ],
          "font": {
           "color": "#2a3f5f"
          },
          "geo": {
           "bgcolor": "white",
           "lakecolor": "white",
           "landcolor": "#E5ECF6",
           "showlakes": true,
           "showland": true,
           "subunitcolor": "white"
          },
          "hoverlabel": {
           "align": "left"
          },
          "hovermode": "closest",
          "mapbox": {
           "style": "light"
          },
          "paper_bgcolor": "white",
          "plot_bgcolor": "#E5ECF6",
          "polar": {
           "angularaxis": {
            "gridcolor": "white",
            "linecolor": "white",
            "ticks": ""
           },
           "bgcolor": "#E5ECF6",
           "radialaxis": {
            "gridcolor": "white",
            "linecolor": "white",
            "ticks": ""
           }
          },
          "scene": {
           "xaxis": {
            "backgroundcolor": "#E5ECF6",
            "gridcolor": "white",
            "gridwidth": 2,
            "linecolor": "white",
            "showbackground": true,
            "ticks": "",
            "zerolinecolor": "white"
           },
           "yaxis": {
            "backgroundcolor": "#E5ECF6",
            "gridcolor": "white",
            "gridwidth": 2,
            "linecolor": "white",
            "showbackground": true,
            "ticks": "",
            "zerolinecolor": "white"
           },
           "zaxis": {
            "backgroundcolor": "#E5ECF6",
            "gridcolor": "white",
            "gridwidth": 2,
            "linecolor": "white",
            "showbackground": true,
            "ticks": "",
            "zerolinecolor": "white"
           }
          },
          "shapedefaults": {
           "line": {
            "color": "#2a3f5f"
           }
          },
          "ternary": {
           "aaxis": {
            "gridcolor": "white",
            "linecolor": "white",
            "ticks": ""
           },
           "baxis": {
            "gridcolor": "white",
            "linecolor": "white",
            "ticks": ""
           },
           "bgcolor": "#E5ECF6",
           "caxis": {
            "gridcolor": "white",
            "linecolor": "white",
            "ticks": ""
           }
          },
          "title": {
           "x": 0.05
          },
          "xaxis": {
           "automargin": true,
           "gridcolor": "white",
           "linecolor": "white",
           "ticks": "",
           "title": {
            "standoff": 15
           },
           "zerolinecolor": "white",
           "zerolinewidth": 2
          },
          "yaxis": {
           "automargin": true,
           "gridcolor": "white",
           "linecolor": "white",
           "ticks": "",
           "title": {
            "standoff": 15
           },
           "zerolinecolor": "white",
           "zerolinewidth": 2
          }
         }
        },
        "title": {
         "text": "Cycle vs Fluorescence (SYBR)"
        },
        "width": 1000,
        "xaxis": {
         "anchor": "y",
         "domain": [
          0,
          0.06805555555555555
         ],
         "matches": "x85",
         "showticklabels": false
        },
        "xaxis10": {
         "anchor": "y10",
         "domain": [
          0.7625,
          0.8305555555555555
         ],
         "matches": "x94",
         "showticklabels": false
        },
        "xaxis11": {
         "anchor": "y11",
         "domain": [
          0.8472222222222221,
          0.9152777777777776
         ],
         "matches": "x95",
         "showticklabels": false
        },
        "xaxis12": {
         "anchor": "y12",
         "domain": [
          0.9319444444444444,
          0.9999999999999999
         ],
         "matches": "x96",
         "showticklabels": false
        },
        "xaxis13": {
         "anchor": "y13",
         "domain": [
          0,
          0.06805555555555555
         ],
         "matches": "x85",
         "showticklabels": false
        },
        "xaxis14": {
         "anchor": "y14",
         "domain": [
          0.08472222222222221,
          0.15277777777777776
         ],
         "matches": "x86",
         "showticklabels": false
        },
        "xaxis15": {
         "anchor": "y15",
         "domain": [
          0.16944444444444443,
          0.2375
         ],
         "matches": "x87",
         "showticklabels": false
        },
        "xaxis16": {
         "anchor": "y16",
         "domain": [
          0.25416666666666665,
          0.3222222222222222
         ],
         "matches": "x88",
         "showticklabels": false
        },
        "xaxis17": {
         "anchor": "y17",
         "domain": [
          0.33888888888888885,
          0.4069444444444444
         ],
         "matches": "x89",
         "showticklabels": false
        },
        "xaxis18": {
         "anchor": "y18",
         "domain": [
          0.42361111111111105,
          0.4916666666666666
         ],
         "matches": "x90",
         "showticklabels": false
        },
        "xaxis19": {
         "anchor": "y19",
         "domain": [
          0.5083333333333333,
          0.5763888888888888
         ],
         "matches": "x91",
         "showticklabels": false
        },
        "xaxis2": {
         "anchor": "y2",
         "domain": [
          0.08472222222222221,
          0.15277777777777776
         ],
         "matches": "x86",
         "showticklabels": false
        },
        "xaxis20": {
         "anchor": "y20",
         "domain": [
          0.5930555555555554,
          0.661111111111111
         ],
         "matches": "x92",
         "showticklabels": false
        },
        "xaxis21": {
         "anchor": "y21",
         "domain": [
          0.6777777777777777,
          0.7458333333333332
         ],
         "matches": "x93",
         "showticklabels": false
        },
        "xaxis22": {
         "anchor": "y22",
         "domain": [
          0.7625,
          0.8305555555555555
         ],
         "matches": "x94",
         "showticklabels": false
        },
        "xaxis23": {
         "anchor": "y23",
         "domain": [
          0.8472222222222221,
          0.9152777777777776
         ],
         "matches": "x95",
         "showticklabels": false
        },
        "xaxis24": {
         "anchor": "y24",
         "domain": [
          0.9319444444444444,
          0.9999999999999999
         ],
         "matches": "x96",
         "showticklabels": false
        },
        "xaxis25": {
         "anchor": "y25",
         "domain": [
          0,
          0.06805555555555555
         ],
         "matches": "x85",
         "showticklabels": false
        },
        "xaxis26": {
         "anchor": "y26",
         "domain": [
          0.08472222222222221,
          0.15277777777777776
         ],
         "matches": "x86",
         "showticklabels": false
        },
        "xaxis27": {
         "anchor": "y27",
         "domain": [
          0.16944444444444443,
          0.2375
         ],
         "matches": "x87",
         "showticklabels": false
        },
        "xaxis28": {
         "anchor": "y28",
         "domain": [
          0.25416666666666665,
          0.3222222222222222
         ],
         "matches": "x88",
         "showticklabels": false
        },
        "xaxis29": {
         "anchor": "y29",
         "domain": [
          0.33888888888888885,
          0.4069444444444444
         ],
         "matches": "x89",
         "showticklabels": false
        },
        "xaxis3": {
         "anchor": "y3",
         "domain": [
          0.16944444444444443,
          0.2375
         ],
         "matches": "x87",
         "showticklabels": false
        },
        "xaxis30": {
         "anchor": "y30",
         "domain": [
          0.42361111111111105,
          0.4916666666666666
         ],
         "matches": "x90",
         "showticklabels": false
        },
        "xaxis31": {
         "anchor": "y31",
         "domain": [
          0.5083333333333333,
          0.5763888888888888
         ],
         "matches": "x91",
         "showticklabels": false
        },
        "xaxis32": {
         "anchor": "y32",
         "domain": [
          0.5930555555555554,
          0.661111111111111
         ],
         "matches": "x92",
         "showticklabels": false
        },
        "xaxis33": {
         "anchor": "y33",
         "domain": [
          0.6777777777777777,
          0.7458333333333332
         ],
         "matches": "x93",
         "showticklabels": false
        },
        "xaxis34": {
         "anchor": "y34",
         "domain": [
          0.7625,
          0.8305555555555555
         ],
         "matches": "x94",
         "showticklabels": false
        },
        "xaxis35": {
         "anchor": "y35",
         "domain": [
          0.8472222222222221,
          0.9152777777777776
         ],
         "matches": "x95",
         "showticklabels": false
        },
        "xaxis36": {
         "anchor": "y36",
         "domain": [
          0.9319444444444444,
          0.9999999999999999
         ],
         "matches": "x96",
         "showticklabels": false
        },
        "xaxis37": {
         "anchor": "y37",
         "domain": [
          0,
          0.06805555555555555
         ],
         "matches": "x85",
         "showticklabels": false
        },
        "xaxis38": {
         "anchor": "y38",
         "domain": [
          0.08472222222222221,
          0.15277777777777776
         ],
         "matches": "x86",
         "showticklabels": false
        },
        "xaxis39": {
         "anchor": "y39",
         "domain": [
          0.16944444444444443,
          0.2375
         ],
         "matches": "x87",
         "showticklabels": false
        },
        "xaxis4": {
         "anchor": "y4",
         "domain": [
          0.25416666666666665,
          0.3222222222222222
         ],
         "matches": "x88",
         "showticklabels": false
        },
        "xaxis40": {
         "anchor": "y40",
         "domain": [
          0.25416666666666665,
          0.3222222222222222
         ],
         "matches": "x88",
         "showticklabels": false
        },
        "xaxis41": {
         "anchor": "y41",
         "domain": [
          0.33888888888888885,
          0.4069444444444444
         ],
         "matches": "x89",
         "showticklabels": false
        },
        "xaxis42": {
         "anchor": "y42",
         "domain": [
          0.42361111111111105,
          0.4916666666666666
         ],
         "matches": "x90",
         "showticklabels": false
        },
        "xaxis43": {
         "anchor": "y43",
         "domain": [
          0.5083333333333333,
          0.5763888888888888
         ],
         "matches": "x91",
         "showticklabels": false
        },
        "xaxis44": {
         "anchor": "y44",
         "domain": [
          0.5930555555555554,
          0.661111111111111
         ],
         "matches": "x92",
         "showticklabels": false
        },
        "xaxis45": {
         "anchor": "y45",
         "domain": [
          0.6777777777777777,
          0.7458333333333332
         ],
         "matches": "x93",
         "showticklabels": false
        },
        "xaxis46": {
         "anchor": "y46",
         "domain": [
          0.7625,
          0.8305555555555555
         ],
         "matches": "x94",
         "showticklabels": false
        },
        "xaxis47": {
         "anchor": "y47",
         "domain": [
          0.8472222222222221,
          0.9152777777777776
         ],
         "matches": "x95",
         "showticklabels": false
        },
        "xaxis48": {
         "anchor": "y48",
         "domain": [
          0.9319444444444444,
          0.9999999999999999
         ],
         "matches": "x96",
         "showticklabels": false
        },
        "xaxis49": {
         "anchor": "y49",
         "domain": [
          0,
          0.06805555555555555
         ],
         "matches": "x85",
         "showticklabels": false
        },
        "xaxis5": {
         "anchor": "y5",
         "domain": [
          0.33888888888888885,
          0.4069444444444444
         ],
         "matches": "x89",
         "showticklabels": false
        },
        "xaxis50": {
         "anchor": "y50",
         "domain": [
          0.08472222222222221,
          0.15277777777777776
         ],
         "matches": "x86",
         "showticklabels": false
        },
        "xaxis51": {
         "anchor": "y51",
         "domain": [
          0.16944444444444443,
          0.2375
         ],
         "matches": "x87",
         "showticklabels": false
        },
        "xaxis52": {
         "anchor": "y52",
         "domain": [
          0.25416666666666665,
          0.3222222222222222
         ],
         "matches": "x88",
         "showticklabels": false
        },
        "xaxis53": {
         "anchor": "y53",
         "domain": [
          0.33888888888888885,
          0.4069444444444444
         ],
         "matches": "x89",
         "showticklabels": false
        },
        "xaxis54": {
         "anchor": "y54",
         "domain": [
          0.42361111111111105,
          0.4916666666666666
         ],
         "matches": "x90",
         "showticklabels": false
        },
        "xaxis55": {
         "anchor": "y55",
         "domain": [
          0.5083333333333333,
          0.5763888888888888
         ],
         "matches": "x91",
         "showticklabels": false
        },
        "xaxis56": {
         "anchor": "y56",
         "domain": [
          0.5930555555555554,
          0.661111111111111
         ],
         "matches": "x92",
         "showticklabels": false
        },
        "xaxis57": {
         "anchor": "y57",
         "domain": [
          0.6777777777777777,
          0.7458333333333332
         ],
         "matches": "x93",
         "showticklabels": false
        },
        "xaxis58": {
         "anchor": "y58",
         "domain": [
          0.7625,
          0.8305555555555555
         ],
         "matches": "x94",
         "showticklabels": false
        },
        "xaxis59": {
         "anchor": "y59",
         "domain": [
          0.8472222222222221,
          0.9152777777777776
         ],
         "matches": "x95",
         "showticklabels": false
        },
        "xaxis6": {
         "anchor": "y6",
         "domain": [
          0.42361111111111105,
          0.4916666666666666
         ],
         "matches": "x90",
         "showticklabels": false
        },
        "xaxis60": {
         "anchor": "y60",
         "domain": [
          0.9319444444444444,
          0.9999999999999999
         ],
         "matches": "x96",
         "showticklabels": false
        },
        "xaxis61": {
         "anchor": "y61",
         "domain": [
          0,
          0.06805555555555555
         ],
         "matches": "x85",
         "showticklabels": false
        },
        "xaxis62": {
         "anchor": "y62",
         "domain": [
          0.08472222222222221,
          0.15277777777777776
         ],
         "matches": "x86",
         "showticklabels": false
        },
        "xaxis63": {
         "anchor": "y63",
         "domain": [
          0.16944444444444443,
          0.2375
         ],
         "matches": "x87",
         "showticklabels": false
        },
        "xaxis64": {
         "anchor": "y64",
         "domain": [
          0.25416666666666665,
          0.3222222222222222
         ],
         "matches": "x88",
         "showticklabels": false
        },
        "xaxis65": {
         "anchor": "y65",
         "domain": [
          0.33888888888888885,
          0.4069444444444444
         ],
         "matches": "x89",
         "showticklabels": false
        },
        "xaxis66": {
         "anchor": "y66",
         "domain": [
          0.42361111111111105,
          0.4916666666666666
         ],
         "matches": "x90",
         "showticklabels": false
        },
        "xaxis67": {
         "anchor": "y67",
         "domain": [
          0.5083333333333333,
          0.5763888888888888
         ],
         "matches": "x91",
         "showticklabels": false
        },
        "xaxis68": {
         "anchor": "y68",
         "domain": [
          0.5930555555555554,
          0.661111111111111
         ],
         "matches": "x92",
         "showticklabels": false
        },
        "xaxis69": {
         "anchor": "y69",
         "domain": [
          0.6777777777777777,
          0.7458333333333332
         ],
         "matches": "x93",
         "showticklabels": false
        },
        "xaxis7": {
         "anchor": "y7",
         "domain": [
          0.5083333333333333,
          0.5763888888888888
         ],
         "matches": "x91",
         "showticklabels": false
        },
        "xaxis70": {
         "anchor": "y70",
         "domain": [
          0.7625,
          0.8305555555555555
         ],
         "matches": "x94",
         "showticklabels": false
        },
        "xaxis71": {
         "anchor": "y71",
         "domain": [
          0.8472222222222221,
          0.9152777777777776
         ],
         "matches": "x95",
         "showticklabels": false
        },
        "xaxis72": {
         "anchor": "y72",
         "domain": [
          0.9319444444444444,
          0.9999999999999999
         ],
         "matches": "x96",
         "showticklabels": false
        },
        "xaxis73": {
         "anchor": "y73",
         "domain": [
          0,
          0.06805555555555555
         ],
         "matches": "x85",
         "showticklabels": false
        },
        "xaxis74": {
         "anchor": "y74",
         "domain": [
          0.08472222222222221,
          0.15277777777777776
         ],
         "matches": "x86",
         "showticklabels": false
        },
        "xaxis75": {
         "anchor": "y75",
         "domain": [
          0.16944444444444443,
          0.2375
         ],
         "matches": "x87",
         "showticklabels": false
        },
        "xaxis76": {
         "anchor": "y76",
         "domain": [
          0.25416666666666665,
          0.3222222222222222
         ],
         "matches": "x88",
         "showticklabels": false
        },
        "xaxis77": {
         "anchor": "y77",
         "domain": [
          0.33888888888888885,
          0.4069444444444444
         ],
         "matches": "x89",
         "showticklabels": false
        },
        "xaxis78": {
         "anchor": "y78",
         "domain": [
          0.42361111111111105,
          0.4916666666666666
         ],
         "matches": "x90",
         "showticklabels": false
        },
        "xaxis79": {
         "anchor": "y79",
         "domain": [
          0.5083333333333333,
          0.5763888888888888
         ],
         "matches": "x91",
         "showticklabels": false
        },
        "xaxis8": {
         "anchor": "y8",
         "domain": [
          0.5930555555555554,
          0.661111111111111
         ],
         "matches": "x92",
         "showticklabels": false
        },
        "xaxis80": {
         "anchor": "y80",
         "domain": [
          0.5930555555555554,
          0.661111111111111
         ],
         "matches": "x92",
         "showticklabels": false
        },
        "xaxis81": {
         "anchor": "y81",
         "domain": [
          0.6777777777777777,
          0.7458333333333332
         ],
         "matches": "x93",
         "showticklabels": false
        },
        "xaxis82": {
         "anchor": "y82",
         "domain": [
          0.7625,
          0.8305555555555555
         ],
         "matches": "x94",
         "showticklabels": false
        },
        "xaxis83": {
         "anchor": "y83",
         "domain": [
          0.8472222222222221,
          0.9152777777777776
         ],
         "matches": "x95",
         "showticklabels": false
        },
        "xaxis84": {
         "anchor": "y84",
         "domain": [
          0.9319444444444444,
          0.9999999999999999
         ],
         "matches": "x96",
         "showticklabels": false
        },
        "xaxis85": {
         "anchor": "y85",
         "domain": [
          0,
          0.06805555555555555
         ]
        },
        "xaxis86": {
         "anchor": "y86",
         "domain": [
          0.08472222222222221,
          0.15277777777777776
         ]
        },
        "xaxis87": {
         "anchor": "y87",
         "domain": [
          0.16944444444444443,
          0.2375
         ]
        },
        "xaxis88": {
         "anchor": "y88",
         "domain": [
          0.25416666666666665,
          0.3222222222222222
         ]
        },
        "xaxis89": {
         "anchor": "y89",
         "domain": [
          0.33888888888888885,
          0.4069444444444444
         ]
        },
        "xaxis9": {
         "anchor": "y9",
         "domain": [
          0.6777777777777777,
          0.7458333333333332
         ],
         "matches": "x93",
         "showticklabels": false
        },
        "xaxis90": {
         "anchor": "y90",
         "domain": [
          0.42361111111111105,
          0.4916666666666666
         ]
        },
        "xaxis91": {
         "anchor": "y91",
         "domain": [
          0.5083333333333333,
          0.5763888888888888
         ]
        },
        "xaxis92": {
         "anchor": "y92",
         "domain": [
          0.5930555555555554,
          0.661111111111111
         ]
        },
        "xaxis93": {
         "anchor": "y93",
         "domain": [
          0.6777777777777777,
          0.7458333333333332
         ]
        },
        "xaxis94": {
         "anchor": "y94",
         "domain": [
          0.7625,
          0.8305555555555555
         ]
        },
        "xaxis95": {
         "anchor": "y95",
         "domain": [
          0.8472222222222221,
          0.9152777777777776
         ]
        },
        "xaxis96": {
         "anchor": "y96",
         "domain": [
          0.9319444444444444,
          0.9999999999999999
         ]
        },
        "yaxis": {
         "anchor": "x",
         "domain": [
          0.9296875,
          1
         ],
         "matches": "y85"
        },
        "yaxis10": {
         "anchor": "x10",
         "domain": [
          0.9296875,
          1
         ],
         "matches": "y85",
         "showticklabels": false
        },
        "yaxis11": {
         "anchor": "x11",
         "domain": [
          0.9296875,
          1
         ],
         "matches": "y85",
         "showticklabels": false
        },
        "yaxis12": {
         "anchor": "x12",
         "domain": [
          0.9296875,
          1
         ],
         "matches": "y85",
         "showticklabels": false
        },
        "yaxis13": {
         "anchor": "x13",
         "domain": [
          0.796875,
          0.8671875
         ],
         "matches": "y85"
        },
        "yaxis14": {
         "anchor": "x14",
         "domain": [
          0.796875,
          0.8671875
         ],
         "matches": "y85",
         "showticklabels": false
        },
        "yaxis15": {
         "anchor": "x15",
         "domain": [
          0.796875,
          0.8671875
         ],
         "matches": "y85",
         "showticklabels": false
        },
        "yaxis16": {
         "anchor": "x16",
         "domain": [
          0.796875,
          0.8671875
         ],
         "matches": "y85",
         "showticklabels": false
        },
        "yaxis17": {
         "anchor": "x17",
         "domain": [
          0.796875,
          0.8671875
         ],
         "matches": "y85",
         "showticklabels": false
        },
        "yaxis18": {
         "anchor": "x18",
         "domain": [
          0.796875,
          0.8671875
         ],
         "matches": "y85",
         "showticklabels": false
        },
        "yaxis19": {
         "anchor": "x19",
         "domain": [
          0.796875,
          0.8671875
         ],
         "matches": "y85",
         "showticklabels": false
        },
        "yaxis2": {
         "anchor": "x2",
         "domain": [
          0.9296875,
          1
         ],
         "matches": "y85",
         "showticklabels": false
        },
        "yaxis20": {
         "anchor": "x20",
         "domain": [
          0.796875,
          0.8671875
         ],
         "matches": "y85",
         "showticklabels": false
        },
        "yaxis21": {
         "anchor": "x21",
         "domain": [
          0.796875,
          0.8671875
         ],
         "matches": "y85",
         "showticklabels": false
        },
        "yaxis22": {
         "anchor": "x22",
         "domain": [
          0.796875,
          0.8671875
         ],
         "matches": "y85",
         "showticklabels": false
        },
        "yaxis23": {
         "anchor": "x23",
         "domain": [
          0.796875,
          0.8671875
         ],
         "matches": "y85",
         "showticklabels": false
        },
        "yaxis24": {
         "anchor": "x24",
         "domain": [
          0.796875,
          0.8671875
         ],
         "matches": "y85",
         "showticklabels": false
        },
        "yaxis25": {
         "anchor": "x25",
         "domain": [
          0.6640625,
          0.734375
         ],
         "matches": "y85"
        },
        "yaxis26": {
         "anchor": "x26",
         "domain": [
          0.6640625,
          0.734375
         ],
         "matches": "y85",
         "showticklabels": false
        },
        "yaxis27": {
         "anchor": "x27",
         "domain": [
          0.6640625,
          0.734375
         ],
         "matches": "y85",
         "showticklabels": false
        },
        "yaxis28": {
         "anchor": "x28",
         "domain": [
          0.6640625,
          0.734375
         ],
         "matches": "y85",
         "showticklabels": false
        },
        "yaxis29": {
         "anchor": "x29",
         "domain": [
          0.6640625,
          0.734375
         ],
         "matches": "y85",
         "showticklabels": false
        },
        "yaxis3": {
         "anchor": "x3",
         "domain": [
          0.9296875,
          1
         ],
         "matches": "y85",
         "showticklabels": false
        },
        "yaxis30": {
         "anchor": "x30",
         "domain": [
          0.6640625,
          0.734375
         ],
         "matches": "y85",
         "showticklabels": false
        },
        "yaxis31": {
         "anchor": "x31",
         "domain": [
          0.6640625,
          0.734375
         ],
         "matches": "y85",
         "showticklabels": false
        },
        "yaxis32": {
         "anchor": "x32",
         "domain": [
          0.6640625,
          0.734375
         ],
         "matches": "y85",
         "showticklabels": false
        },
        "yaxis33": {
         "anchor": "x33",
         "domain": [
          0.6640625,
          0.734375
         ],
         "matches": "y85",
         "showticklabels": false
        },
        "yaxis34": {
         "anchor": "x34",
         "domain": [
          0.6640625,
          0.734375
         ],
         "matches": "y85",
         "showticklabels": false
        },
        "yaxis35": {
         "anchor": "x35",
         "domain": [
          0.6640625,
          0.734375
         ],
         "matches": "y85",
         "showticklabels": false
        },
        "yaxis36": {
         "anchor": "x36",
         "domain": [
          0.6640625,
          0.734375
         ],
         "matches": "y85",
         "showticklabels": false
        },
        "yaxis37": {
         "anchor": "x37",
         "domain": [
          0.53125,
          0.6015625
         ],
         "matches": "y85"
        },
        "yaxis38": {
         "anchor": "x38",
         "domain": [
          0.53125,
          0.6015625
         ],
         "matches": "y85",
         "showticklabels": false
        },
        "yaxis39": {
         "anchor": "x39",
         "domain": [
          0.53125,
          0.6015625
         ],
         "matches": "y85",
         "showticklabels": false
        },
        "yaxis4": {
         "anchor": "x4",
         "domain": [
          0.9296875,
          1
         ],
         "matches": "y85",
         "showticklabels": false
        },
        "yaxis40": {
         "anchor": "x40",
         "domain": [
          0.53125,
          0.6015625
         ],
         "matches": "y85",
         "showticklabels": false
        },
        "yaxis41": {
         "anchor": "x41",
         "domain": [
          0.53125,
          0.6015625
         ],
         "matches": "y85",
         "showticklabels": false
        },
        "yaxis42": {
         "anchor": "x42",
         "domain": [
          0.53125,
          0.6015625
         ],
         "matches": "y85",
         "showticklabels": false
        },
        "yaxis43": {
         "anchor": "x43",
         "domain": [
          0.53125,
          0.6015625
         ],
         "matches": "y85",
         "showticklabels": false
        },
        "yaxis44": {
         "anchor": "x44",
         "domain": [
          0.53125,
          0.6015625
         ],
         "matches": "y85",
         "showticklabels": false
        },
        "yaxis45": {
         "anchor": "x45",
         "domain": [
          0.53125,
          0.6015625
         ],
         "matches": "y85",
         "showticklabels": false
        },
        "yaxis46": {
         "anchor": "x46",
         "domain": [
          0.53125,
          0.6015625
         ],
         "matches": "y85",
         "showticklabels": false
        },
        "yaxis47": {
         "anchor": "x47",
         "domain": [
          0.53125,
          0.6015625
         ],
         "matches": "y85",
         "showticklabels": false
        },
        "yaxis48": {
         "anchor": "x48",
         "domain": [
          0.53125,
          0.6015625
         ],
         "matches": "y85",
         "showticklabels": false
        },
        "yaxis49": {
         "anchor": "x49",
         "domain": [
          0.3984375,
          0.46875
         ],
         "matches": "y85"
        },
        "yaxis5": {
         "anchor": "x5",
         "domain": [
          0.9296875,
          1
         ],
         "matches": "y85",
         "showticklabels": false
        },
        "yaxis50": {
         "anchor": "x50",
         "domain": [
          0.3984375,
          0.46875
         ],
         "matches": "y85",
         "showticklabels": false
        },
        "yaxis51": {
         "anchor": "x51",
         "domain": [
          0.3984375,
          0.46875
         ],
         "matches": "y85",
         "showticklabels": false
        },
        "yaxis52": {
         "anchor": "x52",
         "domain": [
          0.3984375,
          0.46875
         ],
         "matches": "y85",
         "showticklabels": false
        },
        "yaxis53": {
         "anchor": "x53",
         "domain": [
          0.3984375,
          0.46875
         ],
         "matches": "y85",
         "showticklabels": false
        },
        "yaxis54": {
         "anchor": "x54",
         "domain": [
          0.3984375,
          0.46875
         ],
         "matches": "y85",
         "showticklabels": false
        },
        "yaxis55": {
         "anchor": "x55",
         "domain": [
          0.3984375,
          0.46875
         ],
         "matches": "y85",
         "showticklabels": false
        },
        "yaxis56": {
         "anchor": "x56",
         "domain": [
          0.3984375,
          0.46875
         ],
         "matches": "y85",
         "showticklabels": false
        },
        "yaxis57": {
         "anchor": "x57",
         "domain": [
          0.3984375,
          0.46875
         ],
         "matches": "y85",
         "showticklabels": false
        },
        "yaxis58": {
         "anchor": "x58",
         "domain": [
          0.3984375,
          0.46875
         ],
         "matches": "y85",
         "showticklabels": false
        },
        "yaxis59": {
         "anchor": "x59",
         "domain": [
          0.3984375,
          0.46875
         ],
         "matches": "y85",
         "showticklabels": false
        },
        "yaxis6": {
         "anchor": "x6",
         "domain": [
          0.9296875,
          1
         ],
         "matches": "y85",
         "showticklabels": false
        },
        "yaxis60": {
         "anchor": "x60",
         "domain": [
          0.3984375,
          0.46875
         ],
         "matches": "y85",
         "showticklabels": false
        },
        "yaxis61": {
         "anchor": "x61",
         "domain": [
          0.265625,
          0.3359375
         ],
         "matches": "y85"
        },
        "yaxis62": {
         "anchor": "x62",
         "domain": [
          0.265625,
          0.3359375
         ],
         "matches": "y85",
         "showticklabels": false
        },
        "yaxis63": {
         "anchor": "x63",
         "domain": [
          0.265625,
          0.3359375
         ],
         "matches": "y85",
         "showticklabels": false
        },
        "yaxis64": {
         "anchor": "x64",
         "domain": [
          0.265625,
          0.3359375
         ],
         "matches": "y85",
         "showticklabels": false
        },
        "yaxis65": {
         "anchor": "x65",
         "domain": [
          0.265625,
          0.3359375
         ],
         "matches": "y85",
         "showticklabels": false
        },
        "yaxis66": {
         "anchor": "x66",
         "domain": [
          0.265625,
          0.3359375
         ],
         "matches": "y85",
         "showticklabels": false
        },
        "yaxis67": {
         "anchor": "x67",
         "domain": [
          0.265625,
          0.3359375
         ],
         "matches": "y85",
         "showticklabels": false
        },
        "yaxis68": {
         "anchor": "x68",
         "domain": [
          0.265625,
          0.3359375
         ],
         "matches": "y85",
         "showticklabels": false
        },
        "yaxis69": {
         "anchor": "x69",
         "domain": [
          0.265625,
          0.3359375
         ],
         "matches": "y85",
         "showticklabels": false
        },
        "yaxis7": {
         "anchor": "x7",
         "domain": [
          0.9296875,
          1
         ],
         "matches": "y85",
         "showticklabels": false
        },
        "yaxis70": {
         "anchor": "x70",
         "domain": [
          0.265625,
          0.3359375
         ],
         "matches": "y85",
         "showticklabels": false
        },
        "yaxis71": {
         "anchor": "x71",
         "domain": [
          0.265625,
          0.3359375
         ],
         "matches": "y85",
         "showticklabels": false
        },
        "yaxis72": {
         "anchor": "x72",
         "domain": [
          0.265625,
          0.3359375
         ],
         "matches": "y85",
         "showticklabels": false
        },
        "yaxis73": {
         "anchor": "x73",
         "domain": [
          0.1328125,
          0.203125
         ],
         "matches": "y85"
        },
        "yaxis74": {
         "anchor": "x74",
         "domain": [
          0.1328125,
          0.203125
         ],
         "matches": "y85",
         "showticklabels": false
        },
        "yaxis75": {
         "anchor": "x75",
         "domain": [
          0.1328125,
          0.203125
         ],
         "matches": "y85",
         "showticklabels": false
        },
        "yaxis76": {
         "anchor": "x76",
         "domain": [
          0.1328125,
          0.203125
         ],
         "matches": "y85",
         "showticklabels": false
        },
        "yaxis77": {
         "anchor": "x77",
         "domain": [
          0.1328125,
          0.203125
         ],
         "matches": "y85",
         "showticklabels": false
        },
        "yaxis78": {
         "anchor": "x78",
         "domain": [
          0.1328125,
          0.203125
         ],
         "matches": "y85",
         "showticklabels": false
        },
        "yaxis79": {
         "anchor": "x79",
         "domain": [
          0.1328125,
          0.203125
         ],
         "matches": "y85",
         "showticklabels": false
        },
        "yaxis8": {
         "anchor": "x8",
         "domain": [
          0.9296875,
          1
         ],
         "matches": "y85",
         "showticklabels": false
        },
        "yaxis80": {
         "anchor": "x80",
         "domain": [
          0.1328125,
          0.203125
         ],
         "matches": "y85",
         "showticklabels": false
        },
        "yaxis81": {
         "anchor": "x81",
         "domain": [
          0.1328125,
          0.203125
         ],
         "matches": "y85",
         "showticklabels": false
        },
        "yaxis82": {
         "anchor": "x82",
         "domain": [
          0.1328125,
          0.203125
         ],
         "matches": "y85",
         "showticklabels": false
        },
        "yaxis83": {
         "anchor": "x83",
         "domain": [
          0.1328125,
          0.203125
         ],
         "matches": "y85",
         "showticklabels": false
        },
        "yaxis84": {
         "anchor": "x84",
         "domain": [
          0.1328125,
          0.203125
         ],
         "matches": "y85",
         "showticklabels": false
        },
        "yaxis85": {
         "anchor": "x85",
         "domain": [
          0,
          0.0703125
         ]
        },
        "yaxis86": {
         "anchor": "x86",
         "domain": [
          0,
          0.0703125
         ],
         "matches": "y85",
         "showticklabels": false
        },
        "yaxis87": {
         "anchor": "x87",
         "domain": [
          0,
          0.0703125
         ],
         "matches": "y85",
         "showticklabels": false
        },
        "yaxis88": {
         "anchor": "x88",
         "domain": [
          0,
          0.0703125
         ],
         "matches": "y85",
         "showticklabels": false
        },
        "yaxis89": {
         "anchor": "x89",
         "domain": [
          0,
          0.0703125
         ],
         "matches": "y85",
         "showticklabels": false
        },
        "yaxis9": {
         "anchor": "x9",
         "domain": [
          0.9296875,
          1
         ],
         "matches": "y85",
         "showticklabels": false
        },
        "yaxis90": {
         "anchor": "x90",
         "domain": [
          0,
          0.0703125
         ],
         "matches": "y85",
         "showticklabels": false
        },
        "yaxis91": {
         "anchor": "x91",
         "domain": [
          0,
          0.0703125
         ],
         "matches": "y85",
         "showticklabels": false
        },
        "yaxis92": {
         "anchor": "x92",
         "domain": [
          0,
          0.0703125
         ],
         "matches": "y85",
         "showticklabels": false
        },
        "yaxis93": {
         "anchor": "x93",
         "domain": [
          0,
          0.0703125
         ],
         "matches": "y85",
         "showticklabels": false
        },
        "yaxis94": {
         "anchor": "x94",
         "domain": [
          0,
          0.0703125
         ],
         "matches": "y85",
         "showticklabels": false
        },
        "yaxis95": {
         "anchor": "x95",
         "domain": [
          0,
          0.0703125
         ],
         "matches": "y85",
         "showticklabels": false
        },
        "yaxis96": {
         "anchor": "x96",
         "domain": [
          0,
          0.0703125
         ],
         "matches": "y85",
         "showticklabels": false
        }
       }
      }
     },
     "metadata": {},
     "output_type": "display_data"
    }
   ],
   "source": [
    "# instantiate probes\n",
    "# probeCy5 = FluorVis('Cy5')\n",
    "# probeFAM = FluorVis('FAM')\n",
    "# probeHEX = FluorVis('HEX')\n",
    "probeSYBR = FluorVis('SYBR')\n",
    "\n",
    "FluorVis.plotAllWells(probeSYBR)\n",
    "FluorVis.plotIndWells(probeSYBR)\n",
    "# FluorVis.plotAllWells(probeCy5)\n",
    "# FluorVis.plotIndWells(probeCy5)"
   ]
  },
  {
   "cell_type": "code",
   "execution_count": 28,
   "metadata": {},
   "outputs": [
    {
     "data": {
      "application/vnd.plotly.v1+json": {
       "config": {
        "plotlyServerURL": "https://plot.ly"
       },
       "data": [
        {
         "marker": {
          "color": "#2038A8"
         },
         "mode": "markers",
         "name": "Row Mean",
         "type": "scatter",
         "x": [
          50,
          100,
          200,
          400,
          600,
          800
         ],
         "y": [
          29.560833333333335,
          27.790833333333328,
          27.519166666666663,
          27.110000000000003,
          26.19083333333333,
          25.29416666666667
         ]
        },
        {
         "line": {
          "color": "#7564F5",
          "shape": "spline",
          "width": 1
         },
         "mode": "lines",
         "name": "Row (Modeled)",
         "type": "scatter",
         "x": [
          50,
          100,
          200,
          400,
          600,
          800
         ],
         "y": [
          28.917026347438426,
          28.50347607807583,
          27.789716202864653,
          26.72402253179542,
          26.007006328065025,
          25.52458605067319
         ]
        },
        {
         "marker": {
          "color": "#F58E17"
         },
         "mode": "markers",
         "name": "Col Mean",
         "type": "scatter",
         "x": [
          50,
          100,
          200,
          400,
          600,
          800
         ],
         "y": [
          28.180000000000003,
          26.99,
          26.939999999999994,
          26.83,
          27.210833333333337,
          27.314999999999998
         ]
        },
        {
         "line": {
          "color": "#F5BD69",
          "shape": "spline",
          "width": 1
         },
         "mode": "lines",
         "name": "Col (Modeled)",
         "type": "scatter",
         "x": [
          50,
          100,
          200,
          400,
          600,
          800
         ],
         "y": [
          28.17999128389972,
          27.05716909336627,
          27.05716614810142,
          27.05716614810142,
          27.05716614810142,
          27.05716614810142
         ]
        }
       ],
       "layout": {
        "template": {
         "data": {
          "bar": [
           {
            "error_x": {
             "color": "#2a3f5f"
            },
            "error_y": {
             "color": "#2a3f5f"
            },
            "marker": {
             "line": {
              "color": "#E5ECF6",
              "width": 0.5
             },
             "pattern": {
              "fillmode": "overlay",
              "size": 10,
              "solidity": 0.2
             }
            },
            "type": "bar"
           }
          ],
          "barpolar": [
           {
            "marker": {
             "line": {
              "color": "#E5ECF6",
              "width": 0.5
             },
             "pattern": {
              "fillmode": "overlay",
              "size": 10,
              "solidity": 0.2
             }
            },
            "type": "barpolar"
           }
          ],
          "carpet": [
           {
            "aaxis": {
             "endlinecolor": "#2a3f5f",
             "gridcolor": "white",
             "linecolor": "white",
             "minorgridcolor": "white",
             "startlinecolor": "#2a3f5f"
            },
            "baxis": {
             "endlinecolor": "#2a3f5f",
             "gridcolor": "white",
             "linecolor": "white",
             "minorgridcolor": "white",
             "startlinecolor": "#2a3f5f"
            },
            "type": "carpet"
           }
          ],
          "choropleth": [
           {
            "colorbar": {
             "outlinewidth": 0,
             "ticks": ""
            },
            "type": "choropleth"
           }
          ],
          "contour": [
           {
            "colorbar": {
             "outlinewidth": 0,
             "ticks": ""
            },
            "colorscale": [
             [
              0,
              "#0d0887"
             ],
             [
              0.1111111111111111,
              "#46039f"
             ],
             [
              0.2222222222222222,
              "#7201a8"
             ],
             [
              0.3333333333333333,
              "#9c179e"
             ],
             [
              0.4444444444444444,
              "#bd3786"
             ],
             [
              0.5555555555555556,
              "#d8576b"
             ],
             [
              0.6666666666666666,
              "#ed7953"
             ],
             [
              0.7777777777777778,
              "#fb9f3a"
             ],
             [
              0.8888888888888888,
              "#fdca26"
             ],
             [
              1,
              "#f0f921"
             ]
            ],
            "type": "contour"
           }
          ],
          "contourcarpet": [
           {
            "colorbar": {
             "outlinewidth": 0,
             "ticks": ""
            },
            "type": "contourcarpet"
           }
          ],
          "heatmap": [
           {
            "colorbar": {
             "outlinewidth": 0,
             "ticks": ""
            },
            "colorscale": [
             [
              0,
              "#0d0887"
             ],
             [
              0.1111111111111111,
              "#46039f"
             ],
             [
              0.2222222222222222,
              "#7201a8"
             ],
             [
              0.3333333333333333,
              "#9c179e"
             ],
             [
              0.4444444444444444,
              "#bd3786"
             ],
             [
              0.5555555555555556,
              "#d8576b"
             ],
             [
              0.6666666666666666,
              "#ed7953"
             ],
             [
              0.7777777777777778,
              "#fb9f3a"
             ],
             [
              0.8888888888888888,
              "#fdca26"
             ],
             [
              1,
              "#f0f921"
             ]
            ],
            "type": "heatmap"
           }
          ],
          "heatmapgl": [
           {
            "colorbar": {
             "outlinewidth": 0,
             "ticks": ""
            },
            "colorscale": [
             [
              0,
              "#0d0887"
             ],
             [
              0.1111111111111111,
              "#46039f"
             ],
             [
              0.2222222222222222,
              "#7201a8"
             ],
             [
              0.3333333333333333,
              "#9c179e"
             ],
             [
              0.4444444444444444,
              "#bd3786"
             ],
             [
              0.5555555555555556,
              "#d8576b"
             ],
             [
              0.6666666666666666,
              "#ed7953"
             ],
             [
              0.7777777777777778,
              "#fb9f3a"
             ],
             [
              0.8888888888888888,
              "#fdca26"
             ],
             [
              1,
              "#f0f921"
             ]
            ],
            "type": "heatmapgl"
           }
          ],
          "histogram": [
           {
            "marker": {
             "pattern": {
              "fillmode": "overlay",
              "size": 10,
              "solidity": 0.2
             }
            },
            "type": "histogram"
           }
          ],
          "histogram2d": [
           {
            "colorbar": {
             "outlinewidth": 0,
             "ticks": ""
            },
            "colorscale": [
             [
              0,
              "#0d0887"
             ],
             [
              0.1111111111111111,
              "#46039f"
             ],
             [
              0.2222222222222222,
              "#7201a8"
             ],
             [
              0.3333333333333333,
              "#9c179e"
             ],
             [
              0.4444444444444444,
              "#bd3786"
             ],
             [
              0.5555555555555556,
              "#d8576b"
             ],
             [
              0.6666666666666666,
              "#ed7953"
             ],
             [
              0.7777777777777778,
              "#fb9f3a"
             ],
             [
              0.8888888888888888,
              "#fdca26"
             ],
             [
              1,
              "#f0f921"
             ]
            ],
            "type": "histogram2d"
           }
          ],
          "histogram2dcontour": [
           {
            "colorbar": {
             "outlinewidth": 0,
             "ticks": ""
            },
            "colorscale": [
             [
              0,
              "#0d0887"
             ],
             [
              0.1111111111111111,
              "#46039f"
             ],
             [
              0.2222222222222222,
              "#7201a8"
             ],
             [
              0.3333333333333333,
              "#9c179e"
             ],
             [
              0.4444444444444444,
              "#bd3786"
             ],
             [
              0.5555555555555556,
              "#d8576b"
             ],
             [
              0.6666666666666666,
              "#ed7953"
             ],
             [
              0.7777777777777778,
              "#fb9f3a"
             ],
             [
              0.8888888888888888,
              "#fdca26"
             ],
             [
              1,
              "#f0f921"
             ]
            ],
            "type": "histogram2dcontour"
           }
          ],
          "mesh3d": [
           {
            "colorbar": {
             "outlinewidth": 0,
             "ticks": ""
            },
            "type": "mesh3d"
           }
          ],
          "parcoords": [
           {
            "line": {
             "colorbar": {
              "outlinewidth": 0,
              "ticks": ""
             }
            },
            "type": "parcoords"
           }
          ],
          "pie": [
           {
            "automargin": true,
            "type": "pie"
           }
          ],
          "scatter": [
           {
            "fillpattern": {
             "fillmode": "overlay",
             "size": 10,
             "solidity": 0.2
            },
            "type": "scatter"
           }
          ],
          "scatter3d": [
           {
            "line": {
             "colorbar": {
              "outlinewidth": 0,
              "ticks": ""
             }
            },
            "marker": {
             "colorbar": {
              "outlinewidth": 0,
              "ticks": ""
             }
            },
            "type": "scatter3d"
           }
          ],
          "scattercarpet": [
           {
            "marker": {
             "colorbar": {
              "outlinewidth": 0,
              "ticks": ""
             }
            },
            "type": "scattercarpet"
           }
          ],
          "scattergeo": [
           {
            "marker": {
             "colorbar": {
              "outlinewidth": 0,
              "ticks": ""
             }
            },
            "type": "scattergeo"
           }
          ],
          "scattergl": [
           {
            "marker": {
             "colorbar": {
              "outlinewidth": 0,
              "ticks": ""
             }
            },
            "type": "scattergl"
           }
          ],
          "scattermapbox": [
           {
            "marker": {
             "colorbar": {
              "outlinewidth": 0,
              "ticks": ""
             }
            },
            "type": "scattermapbox"
           }
          ],
          "scatterpolar": [
           {
            "marker": {
             "colorbar": {
              "outlinewidth": 0,
              "ticks": ""
             }
            },
            "type": "scatterpolar"
           }
          ],
          "scatterpolargl": [
           {
            "marker": {
             "colorbar": {
              "outlinewidth": 0,
              "ticks": ""
             }
            },
            "type": "scatterpolargl"
           }
          ],
          "scatterternary": [
           {
            "marker": {
             "colorbar": {
              "outlinewidth": 0,
              "ticks": ""
             }
            },
            "type": "scatterternary"
           }
          ],
          "surface": [
           {
            "colorbar": {
             "outlinewidth": 0,
             "ticks": ""
            },
            "colorscale": [
             [
              0,
              "#0d0887"
             ],
             [
              0.1111111111111111,
              "#46039f"
             ],
             [
              0.2222222222222222,
              "#7201a8"
             ],
             [
              0.3333333333333333,
              "#9c179e"
             ],
             [
              0.4444444444444444,
              "#bd3786"
             ],
             [
              0.5555555555555556,
              "#d8576b"
             ],
             [
              0.6666666666666666,
              "#ed7953"
             ],
             [
              0.7777777777777778,
              "#fb9f3a"
             ],
             [
              0.8888888888888888,
              "#fdca26"
             ],
             [
              1,
              "#f0f921"
             ]
            ],
            "type": "surface"
           }
          ],
          "table": [
           {
            "cells": {
             "fill": {
              "color": "#EBF0F8"
             },
             "line": {
              "color": "white"
             }
            },
            "header": {
             "fill": {
              "color": "#C8D4E3"
             },
             "line": {
              "color": "white"
             }
            },
            "type": "table"
           }
          ]
         },
         "layout": {
          "annotationdefaults": {
           "arrowcolor": "#2a3f5f",
           "arrowhead": 0,
           "arrowwidth": 1
          },
          "autotypenumbers": "strict",
          "coloraxis": {
           "colorbar": {
            "outlinewidth": 0,
            "ticks": ""
           }
          },
          "colorscale": {
           "diverging": [
            [
             0,
             "#8e0152"
            ],
            [
             0.1,
             "#c51b7d"
            ],
            [
             0.2,
             "#de77ae"
            ],
            [
             0.3,
             "#f1b6da"
            ],
            [
             0.4,
             "#fde0ef"
            ],
            [
             0.5,
             "#f7f7f7"
            ],
            [
             0.6,
             "#e6f5d0"
            ],
            [
             0.7,
             "#b8e186"
            ],
            [
             0.8,
             "#7fbc41"
            ],
            [
             0.9,
             "#4d9221"
            ],
            [
             1,
             "#276419"
            ]
           ],
           "sequential": [
            [
             0,
             "#0d0887"
            ],
            [
             0.1111111111111111,
             "#46039f"
            ],
            [
             0.2222222222222222,
             "#7201a8"
            ],
            [
             0.3333333333333333,
             "#9c179e"
            ],
            [
             0.4444444444444444,
             "#bd3786"
            ],
            [
             0.5555555555555556,
             "#d8576b"
            ],
            [
             0.6666666666666666,
             "#ed7953"
            ],
            [
             0.7777777777777778,
             "#fb9f3a"
            ],
            [
             0.8888888888888888,
             "#fdca26"
            ],
            [
             1,
             "#f0f921"
            ]
           ],
           "sequentialminus": [
            [
             0,
             "#0d0887"
            ],
            [
             0.1111111111111111,
             "#46039f"
            ],
            [
             0.2222222222222222,
             "#7201a8"
            ],
            [
             0.3333333333333333,
             "#9c179e"
            ],
            [
             0.4444444444444444,
             "#bd3786"
            ],
            [
             0.5555555555555556,
             "#d8576b"
            ],
            [
             0.6666666666666666,
             "#ed7953"
            ],
            [
             0.7777777777777778,
             "#fb9f3a"
            ],
            [
             0.8888888888888888,
             "#fdca26"
            ],
            [
             1,
             "#f0f921"
            ]
           ]
          },
          "colorway": [
           "#636efa",
           "#EF553B",
           "#00cc96",
           "#ab63fa",
           "#FFA15A",
           "#19d3f3",
           "#FF6692",
           "#B6E880",
           "#FF97FF",
           "#FECB52"
          ],
          "font": {
           "color": "#2a3f5f"
          },
          "geo": {
           "bgcolor": "white",
           "lakecolor": "white",
           "landcolor": "#E5ECF6",
           "showlakes": true,
           "showland": true,
           "subunitcolor": "white"
          },
          "hoverlabel": {
           "align": "left"
          },
          "hovermode": "closest",
          "mapbox": {
           "style": "light"
          },
          "paper_bgcolor": "white",
          "plot_bgcolor": "#E5ECF6",
          "polar": {
           "angularaxis": {
            "gridcolor": "white",
            "linecolor": "white",
            "ticks": ""
           },
           "bgcolor": "#E5ECF6",
           "radialaxis": {
            "gridcolor": "white",
            "linecolor": "white",
            "ticks": ""
           }
          },
          "scene": {
           "xaxis": {
            "backgroundcolor": "#E5ECF6",
            "gridcolor": "white",
            "gridwidth": 2,
            "linecolor": "white",
            "showbackground": true,
            "ticks": "",
            "zerolinecolor": "white"
           },
           "yaxis": {
            "backgroundcolor": "#E5ECF6",
            "gridcolor": "white",
            "gridwidth": 2,
            "linecolor": "white",
            "showbackground": true,
            "ticks": "",
            "zerolinecolor": "white"
           },
           "zaxis": {
            "backgroundcolor": "#E5ECF6",
            "gridcolor": "white",
            "gridwidth": 2,
            "linecolor": "white",
            "showbackground": true,
            "ticks": "",
            "zerolinecolor": "white"
           }
          },
          "shapedefaults": {
           "line": {
            "color": "#2a3f5f"
           }
          },
          "ternary": {
           "aaxis": {
            "gridcolor": "white",
            "linecolor": "white",
            "ticks": ""
           },
           "baxis": {
            "gridcolor": "white",
            "linecolor": "white",
            "ticks": ""
           },
           "bgcolor": "#E5ECF6",
           "caxis": {
            "gridcolor": "white",
            "linecolor": "white",
            "ticks": ""
           }
          },
          "title": {
           "x": 0.05
          },
          "xaxis": {
           "automargin": true,
           "gridcolor": "white",
           "linecolor": "white",
           "ticks": "",
           "title": {
            "standoff": 15
           },
           "zerolinecolor": "white",
           "zerolinewidth": 2
          },
          "yaxis": {
           "automargin": true,
           "gridcolor": "white",
           "linecolor": "white",
           "ticks": "",
           "title": {
            "standoff": 15
           },
           "zerolinecolor": "white",
           "zerolinewidth": 2
          }
         }
        },
        "title": {
         "text": "Row vs Col Means"
        },
        "xaxis": {
         "title": {
          "text": "Mean"
         }
        },
        "yaxis": {
         "title": {
          "text": "Cq"
         }
        }
       }
      }
     },
     "metadata": {},
     "output_type": "display_data"
    },
    {
     "data": {
      "application/vnd.plotly.v1+json": {
       "config": {
        "plotlyServerURL": "https://plot.ly"
       },
       "data": [
        {
         "alignmentgroup": "True",
         "hovertemplate": "F Primer Concentration=%{x}<br>Ct=%{y}<br>R_primer=%{marker.color}<extra></extra>",
         "legendgroup": "",
         "marker": {
          "color": [
           50,
           50,
           50,
           50,
           50,
           50,
           100,
           100,
           100,
           100,
           100,
           100,
           200,
           200,
           200,
           200,
           200,
           200,
           400,
           400,
           400,
           400,
           400,
           400,
           600,
           600,
           600,
           600,
           600,
           600,
           800,
           800,
           800,
           800,
           800,
           800
          ],
          "coloraxis": "coloraxis",
          "pattern": {
           "shape": ""
          }
         },
         "name": "",
         "offsetgroup": "",
         "orientation": "v",
         "showlegend": false,
         "textposition": "auto",
         "texttemplate": "%{y}",
         "type": "bar",
         "x": [
          "50.0_50.0",
          "100.0_50.0",
          "200.0_50.0",
          "400.0_50.0",
          "600.0_50.0",
          "800.0_50.0",
          "50.0_100.0",
          "100.0_100.0",
          "200.0_100.0",
          "400.0_100.0",
          "600.0_100.0",
          "800.0_100.0",
          "50.0_200.0",
          "100.0_200.0",
          "200.0_200.0",
          "400.0_200.0",
          "600.0_200.0",
          "800.0_200.0",
          "50.0_400.0",
          "100.0_400.0",
          "200.0_400.0",
          "400.0_400.0",
          "600.0_400.0",
          "800.0_400.0",
          "50.0_600.0",
          "100.0_600.0",
          "200.0_600.0",
          "400.0_600.0",
          "600.0_600.0",
          "800.0_600.0",
          "50.0_800.0",
          "100.0_800.0",
          "200.0_800.0",
          "400.0_800.0",
          "600.0_800.0",
          "800.0_800.0"
         ],
         "xaxis": "x",
         "y": [
          30.325,
          29.009999999999998,
          29.155,
          29.415,
          29.560000000000002,
          29.9,
          28.73,
          27.46,
          27.66,
          27.445,
          27.755000000000003,
          27.695,
          28.58,
          27.43,
          27.075,
          27,
          27.4,
          27.63,
          27.605,
          27.085,
          26.845,
          26.625,
          27.270000000000003,
          27.23,
          27.17,
          26.05,
          25.85,
          25.645,
          26.2,
          26.23,
          26.67,
          24.905,
          25.055,
          24.85,
          25.08,
          25.205
         ],
         "yaxis": "y"
        }
       ],
       "layout": {
        "barmode": "group",
        "coloraxis": {
         "colorbar": {
          "title": {
           "text": "R_primer"
          }
         },
         "colorscale": [
          [
           0,
           "#0d0887"
          ],
          [
           0.1111111111111111,
           "#46039f"
          ],
          [
           0.2222222222222222,
           "#7201a8"
          ],
          [
           0.3333333333333333,
           "#9c179e"
          ],
          [
           0.4444444444444444,
           "#bd3786"
          ],
          [
           0.5555555555555556,
           "#d8576b"
          ],
          [
           0.6666666666666666,
           "#ed7953"
          ],
          [
           0.7777777777777778,
           "#fb9f3a"
          ],
          [
           0.8888888888888888,
           "#fdca26"
          ],
          [
           1,
           "#f0f921"
          ]
         ]
        },
        "legend": {
         "tracegroupgap": 0
        },
        "template": {
         "data": {
          "bar": [
           {
            "error_x": {
             "color": "#2a3f5f"
            },
            "error_y": {
             "color": "#2a3f5f"
            },
            "marker": {
             "line": {
              "color": "#E5ECF6",
              "width": 0.5
             },
             "pattern": {
              "fillmode": "overlay",
              "size": 10,
              "solidity": 0.2
             }
            },
            "type": "bar"
           }
          ],
          "barpolar": [
           {
            "marker": {
             "line": {
              "color": "#E5ECF6",
              "width": 0.5
             },
             "pattern": {
              "fillmode": "overlay",
              "size": 10,
              "solidity": 0.2
             }
            },
            "type": "barpolar"
           }
          ],
          "carpet": [
           {
            "aaxis": {
             "endlinecolor": "#2a3f5f",
             "gridcolor": "white",
             "linecolor": "white",
             "minorgridcolor": "white",
             "startlinecolor": "#2a3f5f"
            },
            "baxis": {
             "endlinecolor": "#2a3f5f",
             "gridcolor": "white",
             "linecolor": "white",
             "minorgridcolor": "white",
             "startlinecolor": "#2a3f5f"
            },
            "type": "carpet"
           }
          ],
          "choropleth": [
           {
            "colorbar": {
             "outlinewidth": 0,
             "ticks": ""
            },
            "type": "choropleth"
           }
          ],
          "contour": [
           {
            "colorbar": {
             "outlinewidth": 0,
             "ticks": ""
            },
            "colorscale": [
             [
              0,
              "#0d0887"
             ],
             [
              0.1111111111111111,
              "#46039f"
             ],
             [
              0.2222222222222222,
              "#7201a8"
             ],
             [
              0.3333333333333333,
              "#9c179e"
             ],
             [
              0.4444444444444444,
              "#bd3786"
             ],
             [
              0.5555555555555556,
              "#d8576b"
             ],
             [
              0.6666666666666666,
              "#ed7953"
             ],
             [
              0.7777777777777778,
              "#fb9f3a"
             ],
             [
              0.8888888888888888,
              "#fdca26"
             ],
             [
              1,
              "#f0f921"
             ]
            ],
            "type": "contour"
           }
          ],
          "contourcarpet": [
           {
            "colorbar": {
             "outlinewidth": 0,
             "ticks": ""
            },
            "type": "contourcarpet"
           }
          ],
          "heatmap": [
           {
            "colorbar": {
             "outlinewidth": 0,
             "ticks": ""
            },
            "colorscale": [
             [
              0,
              "#0d0887"
             ],
             [
              0.1111111111111111,
              "#46039f"
             ],
             [
              0.2222222222222222,
              "#7201a8"
             ],
             [
              0.3333333333333333,
              "#9c179e"
             ],
             [
              0.4444444444444444,
              "#bd3786"
             ],
             [
              0.5555555555555556,
              "#d8576b"
             ],
             [
              0.6666666666666666,
              "#ed7953"
             ],
             [
              0.7777777777777778,
              "#fb9f3a"
             ],
             [
              0.8888888888888888,
              "#fdca26"
             ],
             [
              1,
              "#f0f921"
             ]
            ],
            "type": "heatmap"
           }
          ],
          "heatmapgl": [
           {
            "colorbar": {
             "outlinewidth": 0,
             "ticks": ""
            },
            "colorscale": [
             [
              0,
              "#0d0887"
             ],
             [
              0.1111111111111111,
              "#46039f"
             ],
             [
              0.2222222222222222,
              "#7201a8"
             ],
             [
              0.3333333333333333,
              "#9c179e"
             ],
             [
              0.4444444444444444,
              "#bd3786"
             ],
             [
              0.5555555555555556,
              "#d8576b"
             ],
             [
              0.6666666666666666,
              "#ed7953"
             ],
             [
              0.7777777777777778,
              "#fb9f3a"
             ],
             [
              0.8888888888888888,
              "#fdca26"
             ],
             [
              1,
              "#f0f921"
             ]
            ],
            "type": "heatmapgl"
           }
          ],
          "histogram": [
           {
            "marker": {
             "pattern": {
              "fillmode": "overlay",
              "size": 10,
              "solidity": 0.2
             }
            },
            "type": "histogram"
           }
          ],
          "histogram2d": [
           {
            "colorbar": {
             "outlinewidth": 0,
             "ticks": ""
            },
            "colorscale": [
             [
              0,
              "#0d0887"
             ],
             [
              0.1111111111111111,
              "#46039f"
             ],
             [
              0.2222222222222222,
              "#7201a8"
             ],
             [
              0.3333333333333333,
              "#9c179e"
             ],
             [
              0.4444444444444444,
              "#bd3786"
             ],
             [
              0.5555555555555556,
              "#d8576b"
             ],
             [
              0.6666666666666666,
              "#ed7953"
             ],
             [
              0.7777777777777778,
              "#fb9f3a"
             ],
             [
              0.8888888888888888,
              "#fdca26"
             ],
             [
              1,
              "#f0f921"
             ]
            ],
            "type": "histogram2d"
           }
          ],
          "histogram2dcontour": [
           {
            "colorbar": {
             "outlinewidth": 0,
             "ticks": ""
            },
            "colorscale": [
             [
              0,
              "#0d0887"
             ],
             [
              0.1111111111111111,
              "#46039f"
             ],
             [
              0.2222222222222222,
              "#7201a8"
             ],
             [
              0.3333333333333333,
              "#9c179e"
             ],
             [
              0.4444444444444444,
              "#bd3786"
             ],
             [
              0.5555555555555556,
              "#d8576b"
             ],
             [
              0.6666666666666666,
              "#ed7953"
             ],
             [
              0.7777777777777778,
              "#fb9f3a"
             ],
             [
              0.8888888888888888,
              "#fdca26"
             ],
             [
              1,
              "#f0f921"
             ]
            ],
            "type": "histogram2dcontour"
           }
          ],
          "mesh3d": [
           {
            "colorbar": {
             "outlinewidth": 0,
             "ticks": ""
            },
            "type": "mesh3d"
           }
          ],
          "parcoords": [
           {
            "line": {
             "colorbar": {
              "outlinewidth": 0,
              "ticks": ""
             }
            },
            "type": "parcoords"
           }
          ],
          "pie": [
           {
            "automargin": true,
            "type": "pie"
           }
          ],
          "scatter": [
           {
            "fillpattern": {
             "fillmode": "overlay",
             "size": 10,
             "solidity": 0.2
            },
            "type": "scatter"
           }
          ],
          "scatter3d": [
           {
            "line": {
             "colorbar": {
              "outlinewidth": 0,
              "ticks": ""
             }
            },
            "marker": {
             "colorbar": {
              "outlinewidth": 0,
              "ticks": ""
             }
            },
            "type": "scatter3d"
           }
          ],
          "scattercarpet": [
           {
            "marker": {
             "colorbar": {
              "outlinewidth": 0,
              "ticks": ""
             }
            },
            "type": "scattercarpet"
           }
          ],
          "scattergeo": [
           {
            "marker": {
             "colorbar": {
              "outlinewidth": 0,
              "ticks": ""
             }
            },
            "type": "scattergeo"
           }
          ],
          "scattergl": [
           {
            "marker": {
             "colorbar": {
              "outlinewidth": 0,
              "ticks": ""
             }
            },
            "type": "scattergl"
           }
          ],
          "scattermapbox": [
           {
            "marker": {
             "colorbar": {
              "outlinewidth": 0,
              "ticks": ""
             }
            },
            "type": "scattermapbox"
           }
          ],
          "scatterpolar": [
           {
            "marker": {
             "colorbar": {
              "outlinewidth": 0,
              "ticks": ""
             }
            },
            "type": "scatterpolar"
           }
          ],
          "scatterpolargl": [
           {
            "marker": {
             "colorbar": {
              "outlinewidth": 0,
              "ticks": ""
             }
            },
            "type": "scatterpolargl"
           }
          ],
          "scatterternary": [
           {
            "marker": {
             "colorbar": {
              "outlinewidth": 0,
              "ticks": ""
             }
            },
            "type": "scatterternary"
           }
          ],
          "surface": [
           {
            "colorbar": {
             "outlinewidth": 0,
             "ticks": ""
            },
            "colorscale": [
             [
              0,
              "#0d0887"
             ],
             [
              0.1111111111111111,
              "#46039f"
             ],
             [
              0.2222222222222222,
              "#7201a8"
             ],
             [
              0.3333333333333333,
              "#9c179e"
             ],
             [
              0.4444444444444444,
              "#bd3786"
             ],
             [
              0.5555555555555556,
              "#d8576b"
             ],
             [
              0.6666666666666666,
              "#ed7953"
             ],
             [
              0.7777777777777778,
              "#fb9f3a"
             ],
             [
              0.8888888888888888,
              "#fdca26"
             ],
             [
              1,
              "#f0f921"
             ]
            ],
            "type": "surface"
           }
          ],
          "table": [
           {
            "cells": {
             "fill": {
              "color": "#EBF0F8"
             },
             "line": {
              "color": "white"
             }
            },
            "header": {
             "fill": {
              "color": "#C8D4E3"
             },
             "line": {
              "color": "white"
             }
            },
            "type": "table"
           }
          ]
         },
         "layout": {
          "annotationdefaults": {
           "arrowcolor": "#2a3f5f",
           "arrowhead": 0,
           "arrowwidth": 1
          },
          "autotypenumbers": "strict",
          "coloraxis": {
           "colorbar": {
            "outlinewidth": 0,
            "ticks": ""
           }
          },
          "colorscale": {
           "diverging": [
            [
             0,
             "#8e0152"
            ],
            [
             0.1,
             "#c51b7d"
            ],
            [
             0.2,
             "#de77ae"
            ],
            [
             0.3,
             "#f1b6da"
            ],
            [
             0.4,
             "#fde0ef"
            ],
            [
             0.5,
             "#f7f7f7"
            ],
            [
             0.6,
             "#e6f5d0"
            ],
            [
             0.7,
             "#b8e186"
            ],
            [
             0.8,
             "#7fbc41"
            ],
            [
             0.9,
             "#4d9221"
            ],
            [
             1,
             "#276419"
            ]
           ],
           "sequential": [
            [
             0,
             "#0d0887"
            ],
            [
             0.1111111111111111,
             "#46039f"
            ],
            [
             0.2222222222222222,
             "#7201a8"
            ],
            [
             0.3333333333333333,
             "#9c179e"
            ],
            [
             0.4444444444444444,
             "#bd3786"
            ],
            [
             0.5555555555555556,
             "#d8576b"
            ],
            [
             0.6666666666666666,
             "#ed7953"
            ],
            [
             0.7777777777777778,
             "#fb9f3a"
            ],
            [
             0.8888888888888888,
             "#fdca26"
            ],
            [
             1,
             "#f0f921"
            ]
           ],
           "sequentialminus": [
            [
             0,
             "#0d0887"
            ],
            [
             0.1111111111111111,
             "#46039f"
            ],
            [
             0.2222222222222222,
             "#7201a8"
            ],
            [
             0.3333333333333333,
             "#9c179e"
            ],
            [
             0.4444444444444444,
             "#bd3786"
            ],
            [
             0.5555555555555556,
             "#d8576b"
            ],
            [
             0.6666666666666666,
             "#ed7953"
            ],
            [
             0.7777777777777778,
             "#fb9f3a"
            ],
            [
             0.8888888888888888,
             "#fdca26"
            ],
            [
             1,
             "#f0f921"
            ]
           ]
          },
          "colorway": [
           "#636efa",
           "#EF553B",
           "#00cc96",
           "#ab63fa",
           "#FFA15A",
           "#19d3f3",
           "#FF6692",
           "#B6E880",
           "#FF97FF",
           "#FECB52"
          ],
          "font": {
           "color": "#2a3f5f"
          },
          "geo": {
           "bgcolor": "white",
           "lakecolor": "white",
           "landcolor": "#E5ECF6",
           "showlakes": true,
           "showland": true,
           "subunitcolor": "white"
          },
          "hoverlabel": {
           "align": "left"
          },
          "hovermode": "closest",
          "mapbox": {
           "style": "light"
          },
          "paper_bgcolor": "white",
          "plot_bgcolor": "#E5ECF6",
          "polar": {
           "angularaxis": {
            "gridcolor": "white",
            "linecolor": "white",
            "ticks": ""
           },
           "bgcolor": "#E5ECF6",
           "radialaxis": {
            "gridcolor": "white",
            "linecolor": "white",
            "ticks": ""
           }
          },
          "scene": {
           "xaxis": {
            "backgroundcolor": "#E5ECF6",
            "gridcolor": "white",
            "gridwidth": 2,
            "linecolor": "white",
            "showbackground": true,
            "ticks": "",
            "zerolinecolor": "white"
           },
           "yaxis": {
            "backgroundcolor": "#E5ECF6",
            "gridcolor": "white",
            "gridwidth": 2,
            "linecolor": "white",
            "showbackground": true,
            "ticks": "",
            "zerolinecolor": "white"
           },
           "zaxis": {
            "backgroundcolor": "#E5ECF6",
            "gridcolor": "white",
            "gridwidth": 2,
            "linecolor": "white",
            "showbackground": true,
            "ticks": "",
            "zerolinecolor": "white"
           }
          },
          "shapedefaults": {
           "line": {
            "color": "#2a3f5f"
           }
          },
          "ternary": {
           "aaxis": {
            "gridcolor": "white",
            "linecolor": "white",
            "ticks": ""
           },
           "baxis": {
            "gridcolor": "white",
            "linecolor": "white",
            "ticks": ""
           },
           "bgcolor": "#E5ECF6",
           "caxis": {
            "gridcolor": "white",
            "linecolor": "white",
            "ticks": ""
           }
          },
          "title": {
           "x": 0.05
          },
          "xaxis": {
           "automargin": true,
           "gridcolor": "white",
           "linecolor": "white",
           "ticks": "",
           "title": {
            "standoff": 15
           },
           "zerolinecolor": "white",
           "zerolinewidth": 2
          },
          "yaxis": {
           "automargin": true,
           "gridcolor": "white",
           "linecolor": "white",
           "ticks": "",
           "title": {
            "standoff": 15
           },
           "zerolinecolor": "white",
           "zerolinewidth": 2
          }
         }
        },
        "title": {
         "text": "Periodicity in Increasing [Fwd] (Going Across Row)<br>[Rev] Held Constant, Two Points per Condition Averaged"
        },
        "xaxis": {
         "anchor": "y",
         "domain": [
          0,
          1
         ],
         "title": {
          "text": "F Primer Concentration"
         }
        },
        "yaxis": {
         "anchor": "x",
         "domain": [
          0,
          1
         ],
         "title": {
          "text": "Ct"
         }
        }
       }
      }
     },
     "metadata": {},
     "output_type": "display_data"
    },
    {
     "data": {
      "application/vnd.plotly.v1+json": {
       "config": {
        "plotlyServerURL": "https://plot.ly"
       },
       "data": [
        {
         "alignmentgroup": "True",
         "hovertemplate": "R Primer Concentration=%{x}<br>Ct=%{y}<br>F_primer=%{marker.color}<extra></extra>",
         "legendgroup": "",
         "marker": {
          "color": [
           50,
           50,
           50,
           50,
           50,
           50,
           100,
           100,
           100,
           100,
           100,
           100,
           200,
           200,
           200,
           200,
           200,
           200,
           400,
           400,
           400,
           400,
           400,
           400,
           600,
           600,
           600,
           600,
           600,
           600,
           800,
           800,
           800,
           800,
           800,
           800
          ],
          "coloraxis": "coloraxis",
          "pattern": {
           "shape": ""
          }
         },
         "name": "",
         "offsetgroup": "",
         "orientation": "v",
         "showlegend": false,
         "textposition": "auto",
         "texttemplate": "%{y}",
         "type": "bar",
         "x": [
          "50.0_50.0",
          "100.0_50.0",
          "200.0_50.0",
          "400.0_50.0",
          "600.0_50.0",
          "800.0_50.0",
          "50.0_100.0",
          "100.0_100.0",
          "200.0_100.0",
          "400.0_100.0",
          "600.0_100.0",
          "800.0_100.0",
          "50.0_200.0",
          "100.0_200.0",
          "200.0_200.0",
          "400.0_200.0",
          "600.0_200.0",
          "800.0_200.0",
          "50.0_400.0",
          "100.0_400.0",
          "200.0_400.0",
          "400.0_400.0",
          "600.0_400.0",
          "800.0_400.0",
          "50.0_600.0",
          "100.0_600.0",
          "200.0_600.0",
          "400.0_600.0",
          "600.0_600.0",
          "800.0_600.0",
          "50.0_800.0",
          "100.0_800.0",
          "200.0_800.0",
          "400.0_800.0",
          "600.0_800.0",
          "800.0_800.0"
         ],
         "xaxis": "x",
         "y": [
          30.325,
          28.73,
          28.58,
          27.605,
          27.17,
          26.67,
          29.009999999999998,
          27.46,
          27.43,
          27.085,
          26.05,
          24.905,
          29.155,
          27.66,
          27.075,
          26.845,
          25.85,
          25.055,
          29.415,
          27.445,
          27,
          26.625,
          25.645,
          24.85,
          29.560000000000002,
          27.755000000000003,
          27.4,
          27.270000000000003,
          26.2,
          25.08,
          29.9,
          27.695,
          27.63,
          27.23,
          26.23,
          25.205
         ],
         "yaxis": "y"
        }
       ],
       "layout": {
        "barmode": "group",
        "coloraxis": {
         "colorbar": {
          "title": {
           "text": "F_primer"
          }
         },
         "colorscale": [
          [
           0,
           "#0d0887"
          ],
          [
           0.1111111111111111,
           "#46039f"
          ],
          [
           0.2222222222222222,
           "#7201a8"
          ],
          [
           0.3333333333333333,
           "#9c179e"
          ],
          [
           0.4444444444444444,
           "#bd3786"
          ],
          [
           0.5555555555555556,
           "#d8576b"
          ],
          [
           0.6666666666666666,
           "#ed7953"
          ],
          [
           0.7777777777777778,
           "#fb9f3a"
          ],
          [
           0.8888888888888888,
           "#fdca26"
          ],
          [
           1,
           "#f0f921"
          ]
         ]
        },
        "legend": {
         "tracegroupgap": 0
        },
        "template": {
         "data": {
          "bar": [
           {
            "error_x": {
             "color": "#2a3f5f"
            },
            "error_y": {
             "color": "#2a3f5f"
            },
            "marker": {
             "line": {
              "color": "#E5ECF6",
              "width": 0.5
             },
             "pattern": {
              "fillmode": "overlay",
              "size": 10,
              "solidity": 0.2
             }
            },
            "type": "bar"
           }
          ],
          "barpolar": [
           {
            "marker": {
             "line": {
              "color": "#E5ECF6",
              "width": 0.5
             },
             "pattern": {
              "fillmode": "overlay",
              "size": 10,
              "solidity": 0.2
             }
            },
            "type": "barpolar"
           }
          ],
          "carpet": [
           {
            "aaxis": {
             "endlinecolor": "#2a3f5f",
             "gridcolor": "white",
             "linecolor": "white",
             "minorgridcolor": "white",
             "startlinecolor": "#2a3f5f"
            },
            "baxis": {
             "endlinecolor": "#2a3f5f",
             "gridcolor": "white",
             "linecolor": "white",
             "minorgridcolor": "white",
             "startlinecolor": "#2a3f5f"
            },
            "type": "carpet"
           }
          ],
          "choropleth": [
           {
            "colorbar": {
             "outlinewidth": 0,
             "ticks": ""
            },
            "type": "choropleth"
           }
          ],
          "contour": [
           {
            "colorbar": {
             "outlinewidth": 0,
             "ticks": ""
            },
            "colorscale": [
             [
              0,
              "#0d0887"
             ],
             [
              0.1111111111111111,
              "#46039f"
             ],
             [
              0.2222222222222222,
              "#7201a8"
             ],
             [
              0.3333333333333333,
              "#9c179e"
             ],
             [
              0.4444444444444444,
              "#bd3786"
             ],
             [
              0.5555555555555556,
              "#d8576b"
             ],
             [
              0.6666666666666666,
              "#ed7953"
             ],
             [
              0.7777777777777778,
              "#fb9f3a"
             ],
             [
              0.8888888888888888,
              "#fdca26"
             ],
             [
              1,
              "#f0f921"
             ]
            ],
            "type": "contour"
           }
          ],
          "contourcarpet": [
           {
            "colorbar": {
             "outlinewidth": 0,
             "ticks": ""
            },
            "type": "contourcarpet"
           }
          ],
          "heatmap": [
           {
            "colorbar": {
             "outlinewidth": 0,
             "ticks": ""
            },
            "colorscale": [
             [
              0,
              "#0d0887"
             ],
             [
              0.1111111111111111,
              "#46039f"
             ],
             [
              0.2222222222222222,
              "#7201a8"
             ],
             [
              0.3333333333333333,
              "#9c179e"
             ],
             [
              0.4444444444444444,
              "#bd3786"
             ],
             [
              0.5555555555555556,
              "#d8576b"
             ],
             [
              0.6666666666666666,
              "#ed7953"
             ],
             [
              0.7777777777777778,
              "#fb9f3a"
             ],
             [
              0.8888888888888888,
              "#fdca26"
             ],
             [
              1,
              "#f0f921"
             ]
            ],
            "type": "heatmap"
           }
          ],
          "heatmapgl": [
           {
            "colorbar": {
             "outlinewidth": 0,
             "ticks": ""
            },
            "colorscale": [
             [
              0,
              "#0d0887"
             ],
             [
              0.1111111111111111,
              "#46039f"
             ],
             [
              0.2222222222222222,
              "#7201a8"
             ],
             [
              0.3333333333333333,
              "#9c179e"
             ],
             [
              0.4444444444444444,
              "#bd3786"
             ],
             [
              0.5555555555555556,
              "#d8576b"
             ],
             [
              0.6666666666666666,
              "#ed7953"
             ],
             [
              0.7777777777777778,
              "#fb9f3a"
             ],
             [
              0.8888888888888888,
              "#fdca26"
             ],
             [
              1,
              "#f0f921"
             ]
            ],
            "type": "heatmapgl"
           }
          ],
          "histogram": [
           {
            "marker": {
             "pattern": {
              "fillmode": "overlay",
              "size": 10,
              "solidity": 0.2
             }
            },
            "type": "histogram"
           }
          ],
          "histogram2d": [
           {
            "colorbar": {
             "outlinewidth": 0,
             "ticks": ""
            },
            "colorscale": [
             [
              0,
              "#0d0887"
             ],
             [
              0.1111111111111111,
              "#46039f"
             ],
             [
              0.2222222222222222,
              "#7201a8"
             ],
             [
              0.3333333333333333,
              "#9c179e"
             ],
             [
              0.4444444444444444,
              "#bd3786"
             ],
             [
              0.5555555555555556,
              "#d8576b"
             ],
             [
              0.6666666666666666,
              "#ed7953"
             ],
             [
              0.7777777777777778,
              "#fb9f3a"
             ],
             [
              0.8888888888888888,
              "#fdca26"
             ],
             [
              1,
              "#f0f921"
             ]
            ],
            "type": "histogram2d"
           }
          ],
          "histogram2dcontour": [
           {
            "colorbar": {
             "outlinewidth": 0,
             "ticks": ""
            },
            "colorscale": [
             [
              0,
              "#0d0887"
             ],
             [
              0.1111111111111111,
              "#46039f"
             ],
             [
              0.2222222222222222,
              "#7201a8"
             ],
             [
              0.3333333333333333,
              "#9c179e"
             ],
             [
              0.4444444444444444,
              "#bd3786"
             ],
             [
              0.5555555555555556,
              "#d8576b"
             ],
             [
              0.6666666666666666,
              "#ed7953"
             ],
             [
              0.7777777777777778,
              "#fb9f3a"
             ],
             [
              0.8888888888888888,
              "#fdca26"
             ],
             [
              1,
              "#f0f921"
             ]
            ],
            "type": "histogram2dcontour"
           }
          ],
          "mesh3d": [
           {
            "colorbar": {
             "outlinewidth": 0,
             "ticks": ""
            },
            "type": "mesh3d"
           }
          ],
          "parcoords": [
           {
            "line": {
             "colorbar": {
              "outlinewidth": 0,
              "ticks": ""
             }
            },
            "type": "parcoords"
           }
          ],
          "pie": [
           {
            "automargin": true,
            "type": "pie"
           }
          ],
          "scatter": [
           {
            "fillpattern": {
             "fillmode": "overlay",
             "size": 10,
             "solidity": 0.2
            },
            "type": "scatter"
           }
          ],
          "scatter3d": [
           {
            "line": {
             "colorbar": {
              "outlinewidth": 0,
              "ticks": ""
             }
            },
            "marker": {
             "colorbar": {
              "outlinewidth": 0,
              "ticks": ""
             }
            },
            "type": "scatter3d"
           }
          ],
          "scattercarpet": [
           {
            "marker": {
             "colorbar": {
              "outlinewidth": 0,
              "ticks": ""
             }
            },
            "type": "scattercarpet"
           }
          ],
          "scattergeo": [
           {
            "marker": {
             "colorbar": {
              "outlinewidth": 0,
              "ticks": ""
             }
            },
            "type": "scattergeo"
           }
          ],
          "scattergl": [
           {
            "marker": {
             "colorbar": {
              "outlinewidth": 0,
              "ticks": ""
             }
            },
            "type": "scattergl"
           }
          ],
          "scattermapbox": [
           {
            "marker": {
             "colorbar": {
              "outlinewidth": 0,
              "ticks": ""
             }
            },
            "type": "scattermapbox"
           }
          ],
          "scatterpolar": [
           {
            "marker": {
             "colorbar": {
              "outlinewidth": 0,
              "ticks": ""
             }
            },
            "type": "scatterpolar"
           }
          ],
          "scatterpolargl": [
           {
            "marker": {
             "colorbar": {
              "outlinewidth": 0,
              "ticks": ""
             }
            },
            "type": "scatterpolargl"
           }
          ],
          "scatterternary": [
           {
            "marker": {
             "colorbar": {
              "outlinewidth": 0,
              "ticks": ""
             }
            },
            "type": "scatterternary"
           }
          ],
          "surface": [
           {
            "colorbar": {
             "outlinewidth": 0,
             "ticks": ""
            },
            "colorscale": [
             [
              0,
              "#0d0887"
             ],
             [
              0.1111111111111111,
              "#46039f"
             ],
             [
              0.2222222222222222,
              "#7201a8"
             ],
             [
              0.3333333333333333,
              "#9c179e"
             ],
             [
              0.4444444444444444,
              "#bd3786"
             ],
             [
              0.5555555555555556,
              "#d8576b"
             ],
             [
              0.6666666666666666,
              "#ed7953"
             ],
             [
              0.7777777777777778,
              "#fb9f3a"
             ],
             [
              0.8888888888888888,
              "#fdca26"
             ],
             [
              1,
              "#f0f921"
             ]
            ],
            "type": "surface"
           }
          ],
          "table": [
           {
            "cells": {
             "fill": {
              "color": "#EBF0F8"
             },
             "line": {
              "color": "white"
             }
            },
            "header": {
             "fill": {
              "color": "#C8D4E3"
             },
             "line": {
              "color": "white"
             }
            },
            "type": "table"
           }
          ]
         },
         "layout": {
          "annotationdefaults": {
           "arrowcolor": "#2a3f5f",
           "arrowhead": 0,
           "arrowwidth": 1
          },
          "autotypenumbers": "strict",
          "coloraxis": {
           "colorbar": {
            "outlinewidth": 0,
            "ticks": ""
           }
          },
          "colorscale": {
           "diverging": [
            [
             0,
             "#8e0152"
            ],
            [
             0.1,
             "#c51b7d"
            ],
            [
             0.2,
             "#de77ae"
            ],
            [
             0.3,
             "#f1b6da"
            ],
            [
             0.4,
             "#fde0ef"
            ],
            [
             0.5,
             "#f7f7f7"
            ],
            [
             0.6,
             "#e6f5d0"
            ],
            [
             0.7,
             "#b8e186"
            ],
            [
             0.8,
             "#7fbc41"
            ],
            [
             0.9,
             "#4d9221"
            ],
            [
             1,
             "#276419"
            ]
           ],
           "sequential": [
            [
             0,
             "#0d0887"
            ],
            [
             0.1111111111111111,
             "#46039f"
            ],
            [
             0.2222222222222222,
             "#7201a8"
            ],
            [
             0.3333333333333333,
             "#9c179e"
            ],
            [
             0.4444444444444444,
             "#bd3786"
            ],
            [
             0.5555555555555556,
             "#d8576b"
            ],
            [
             0.6666666666666666,
             "#ed7953"
            ],
            [
             0.7777777777777778,
             "#fb9f3a"
            ],
            [
             0.8888888888888888,
             "#fdca26"
            ],
            [
             1,
             "#f0f921"
            ]
           ],
           "sequentialminus": [
            [
             0,
             "#0d0887"
            ],
            [
             0.1111111111111111,
             "#46039f"
            ],
            [
             0.2222222222222222,
             "#7201a8"
            ],
            [
             0.3333333333333333,
             "#9c179e"
            ],
            [
             0.4444444444444444,
             "#bd3786"
            ],
            [
             0.5555555555555556,
             "#d8576b"
            ],
            [
             0.6666666666666666,
             "#ed7953"
            ],
            [
             0.7777777777777778,
             "#fb9f3a"
            ],
            [
             0.8888888888888888,
             "#fdca26"
            ],
            [
             1,
             "#f0f921"
            ]
           ]
          },
          "colorway": [
           "#636efa",
           "#EF553B",
           "#00cc96",
           "#ab63fa",
           "#FFA15A",
           "#19d3f3",
           "#FF6692",
           "#B6E880",
           "#FF97FF",
           "#FECB52"
          ],
          "font": {
           "color": "#2a3f5f"
          },
          "geo": {
           "bgcolor": "white",
           "lakecolor": "white",
           "landcolor": "#E5ECF6",
           "showlakes": true,
           "showland": true,
           "subunitcolor": "white"
          },
          "hoverlabel": {
           "align": "left"
          },
          "hovermode": "closest",
          "mapbox": {
           "style": "light"
          },
          "paper_bgcolor": "white",
          "plot_bgcolor": "#E5ECF6",
          "polar": {
           "angularaxis": {
            "gridcolor": "white",
            "linecolor": "white",
            "ticks": ""
           },
           "bgcolor": "#E5ECF6",
           "radialaxis": {
            "gridcolor": "white",
            "linecolor": "white",
            "ticks": ""
           }
          },
          "scene": {
           "xaxis": {
            "backgroundcolor": "#E5ECF6",
            "gridcolor": "white",
            "gridwidth": 2,
            "linecolor": "white",
            "showbackground": true,
            "ticks": "",
            "zerolinecolor": "white"
           },
           "yaxis": {
            "backgroundcolor": "#E5ECF6",
            "gridcolor": "white",
            "gridwidth": 2,
            "linecolor": "white",
            "showbackground": true,
            "ticks": "",
            "zerolinecolor": "white"
           },
           "zaxis": {
            "backgroundcolor": "#E5ECF6",
            "gridcolor": "white",
            "gridwidth": 2,
            "linecolor": "white",
            "showbackground": true,
            "ticks": "",
            "zerolinecolor": "white"
           }
          },
          "shapedefaults": {
           "line": {
            "color": "#2a3f5f"
           }
          },
          "ternary": {
           "aaxis": {
            "gridcolor": "white",
            "linecolor": "white",
            "ticks": ""
           },
           "baxis": {
            "gridcolor": "white",
            "linecolor": "white",
            "ticks": ""
           },
           "bgcolor": "#E5ECF6",
           "caxis": {
            "gridcolor": "white",
            "linecolor": "white",
            "ticks": ""
           }
          },
          "title": {
           "x": 0.05
          },
          "xaxis": {
           "automargin": true,
           "gridcolor": "white",
           "linecolor": "white",
           "ticks": "",
           "title": {
            "standoff": 15
           },
           "zerolinecolor": "white",
           "zerolinewidth": 2
          },
          "yaxis": {
           "automargin": true,
           "gridcolor": "white",
           "linecolor": "white",
           "ticks": "",
           "title": {
            "standoff": 15
           },
           "zerolinecolor": "white",
           "zerolinewidth": 2
          }
         }
        },
        "title": {
         "text": "Periodicity in Increasing [Rev] (Going Down Column)<br>[Fwd] Held Constant, Two Points per Condition Averaged"
        },
        "xaxis": {
         "anchor": "y",
         "domain": [
          0,
          1
         ],
         "title": {
          "text": "R Primer Concentration"
         }
        },
        "yaxis": {
         "anchor": "x",
         "domain": [
          0,
          1
         ],
         "title": {
          "text": "Ct"
         }
        }
       }
      }
     },
     "metadata": {},
     "output_type": "display_data"
    },
    {
     "data": {
      "application/vnd.plotly.v1+json": {
       "config": {
        "plotlyServerURL": "https://plot.ly"
       },
       "data": [
        {
         "line": {
          "color": "rgb(255, 0, 0)",
          "shape": "spline",
          "width": 2
         },
         "mode": "lines+markers",
         "name": "Cq Predicted (R^2 = 0.8764)",
         "type": "scatter",
         "x": [
          50,
          100,
          200,
          400,
          600,
          800
         ],
         "y": [
          30.227169862371895,
          27.798923936266263,
          26.413824229020914,
          26.14822565775633,
          26.141025742987686,
          26.140830565835834
         ]
        },
        {
         "marker": {
          "color": "#636EFA"
         },
         "name": "Cq Actual",
         "text": [
          "30.32",
          "27.46",
          "27.07",
          "26.62",
          "26.2",
          "25.2"
         ],
         "textposition": "inside",
         "type": "bar",
         "x": [
          50,
          100,
          200,
          400,
          600,
          800
         ],
         "y": [
          30.32,
          27.46,
          27.07,
          26.62,
          26.2,
          25.2
         ]
        },
        {
         "marker": {
          "color": "#94B6FA"
         },
         "name": "Cq Predicted @300, 500, 700nM",
         "textposition": "inside",
         "type": "bar",
         "x": [
          300,
          500,
          700
         ],
         "y": [
          26.185773298885426,
          26.142043594155357,
          26.140858158008562
         ]
        }
       ],
       "layout": {
        "template": {
         "data": {
          "bar": [
           {
            "error_x": {
             "color": "#2a3f5f"
            },
            "error_y": {
             "color": "#2a3f5f"
            },
            "marker": {
             "line": {
              "color": "#E5ECF6",
              "width": 0.5
             },
             "pattern": {
              "fillmode": "overlay",
              "size": 10,
              "solidity": 0.2
             }
            },
            "type": "bar"
           }
          ],
          "barpolar": [
           {
            "marker": {
             "line": {
              "color": "#E5ECF6",
              "width": 0.5
             },
             "pattern": {
              "fillmode": "overlay",
              "size": 10,
              "solidity": 0.2
             }
            },
            "type": "barpolar"
           }
          ],
          "carpet": [
           {
            "aaxis": {
             "endlinecolor": "#2a3f5f",
             "gridcolor": "white",
             "linecolor": "white",
             "minorgridcolor": "white",
             "startlinecolor": "#2a3f5f"
            },
            "baxis": {
             "endlinecolor": "#2a3f5f",
             "gridcolor": "white",
             "linecolor": "white",
             "minorgridcolor": "white",
             "startlinecolor": "#2a3f5f"
            },
            "type": "carpet"
           }
          ],
          "choropleth": [
           {
            "colorbar": {
             "outlinewidth": 0,
             "ticks": ""
            },
            "type": "choropleth"
           }
          ],
          "contour": [
           {
            "colorbar": {
             "outlinewidth": 0,
             "ticks": ""
            },
            "colorscale": [
             [
              0,
              "#0d0887"
             ],
             [
              0.1111111111111111,
              "#46039f"
             ],
             [
              0.2222222222222222,
              "#7201a8"
             ],
             [
              0.3333333333333333,
              "#9c179e"
             ],
             [
              0.4444444444444444,
              "#bd3786"
             ],
             [
              0.5555555555555556,
              "#d8576b"
             ],
             [
              0.6666666666666666,
              "#ed7953"
             ],
             [
              0.7777777777777778,
              "#fb9f3a"
             ],
             [
              0.8888888888888888,
              "#fdca26"
             ],
             [
              1,
              "#f0f921"
             ]
            ],
            "type": "contour"
           }
          ],
          "contourcarpet": [
           {
            "colorbar": {
             "outlinewidth": 0,
             "ticks": ""
            },
            "type": "contourcarpet"
           }
          ],
          "heatmap": [
           {
            "colorbar": {
             "outlinewidth": 0,
             "ticks": ""
            },
            "colorscale": [
             [
              0,
              "#0d0887"
             ],
             [
              0.1111111111111111,
              "#46039f"
             ],
             [
              0.2222222222222222,
              "#7201a8"
             ],
             [
              0.3333333333333333,
              "#9c179e"
             ],
             [
              0.4444444444444444,
              "#bd3786"
             ],
             [
              0.5555555555555556,
              "#d8576b"
             ],
             [
              0.6666666666666666,
              "#ed7953"
             ],
             [
              0.7777777777777778,
              "#fb9f3a"
             ],
             [
              0.8888888888888888,
              "#fdca26"
             ],
             [
              1,
              "#f0f921"
             ]
            ],
            "type": "heatmap"
           }
          ],
          "heatmapgl": [
           {
            "colorbar": {
             "outlinewidth": 0,
             "ticks": ""
            },
            "colorscale": [
             [
              0,
              "#0d0887"
             ],
             [
              0.1111111111111111,
              "#46039f"
             ],
             [
              0.2222222222222222,
              "#7201a8"
             ],
             [
              0.3333333333333333,
              "#9c179e"
             ],
             [
              0.4444444444444444,
              "#bd3786"
             ],
             [
              0.5555555555555556,
              "#d8576b"
             ],
             [
              0.6666666666666666,
              "#ed7953"
             ],
             [
              0.7777777777777778,
              "#fb9f3a"
             ],
             [
              0.8888888888888888,
              "#fdca26"
             ],
             [
              1,
              "#f0f921"
             ]
            ],
            "type": "heatmapgl"
           }
          ],
          "histogram": [
           {
            "marker": {
             "pattern": {
              "fillmode": "overlay",
              "size": 10,
              "solidity": 0.2
             }
            },
            "type": "histogram"
           }
          ],
          "histogram2d": [
           {
            "colorbar": {
             "outlinewidth": 0,
             "ticks": ""
            },
            "colorscale": [
             [
              0,
              "#0d0887"
             ],
             [
              0.1111111111111111,
              "#46039f"
             ],
             [
              0.2222222222222222,
              "#7201a8"
             ],
             [
              0.3333333333333333,
              "#9c179e"
             ],
             [
              0.4444444444444444,
              "#bd3786"
             ],
             [
              0.5555555555555556,
              "#d8576b"
             ],
             [
              0.6666666666666666,
              "#ed7953"
             ],
             [
              0.7777777777777778,
              "#fb9f3a"
             ],
             [
              0.8888888888888888,
              "#fdca26"
             ],
             [
              1,
              "#f0f921"
             ]
            ],
            "type": "histogram2d"
           }
          ],
          "histogram2dcontour": [
           {
            "colorbar": {
             "outlinewidth": 0,
             "ticks": ""
            },
            "colorscale": [
             [
              0,
              "#0d0887"
             ],
             [
              0.1111111111111111,
              "#46039f"
             ],
             [
              0.2222222222222222,
              "#7201a8"
             ],
             [
              0.3333333333333333,
              "#9c179e"
             ],
             [
              0.4444444444444444,
              "#bd3786"
             ],
             [
              0.5555555555555556,
              "#d8576b"
             ],
             [
              0.6666666666666666,
              "#ed7953"
             ],
             [
              0.7777777777777778,
              "#fb9f3a"
             ],
             [
              0.8888888888888888,
              "#fdca26"
             ],
             [
              1,
              "#f0f921"
             ]
            ],
            "type": "histogram2dcontour"
           }
          ],
          "mesh3d": [
           {
            "colorbar": {
             "outlinewidth": 0,
             "ticks": ""
            },
            "type": "mesh3d"
           }
          ],
          "parcoords": [
           {
            "line": {
             "colorbar": {
              "outlinewidth": 0,
              "ticks": ""
             }
            },
            "type": "parcoords"
           }
          ],
          "pie": [
           {
            "automargin": true,
            "type": "pie"
           }
          ],
          "scatter": [
           {
            "fillpattern": {
             "fillmode": "overlay",
             "size": 10,
             "solidity": 0.2
            },
            "type": "scatter"
           }
          ],
          "scatter3d": [
           {
            "line": {
             "colorbar": {
              "outlinewidth": 0,
              "ticks": ""
             }
            },
            "marker": {
             "colorbar": {
              "outlinewidth": 0,
              "ticks": ""
             }
            },
            "type": "scatter3d"
           }
          ],
          "scattercarpet": [
           {
            "marker": {
             "colorbar": {
              "outlinewidth": 0,
              "ticks": ""
             }
            },
            "type": "scattercarpet"
           }
          ],
          "scattergeo": [
           {
            "marker": {
             "colorbar": {
              "outlinewidth": 0,
              "ticks": ""
             }
            },
            "type": "scattergeo"
           }
          ],
          "scattergl": [
           {
            "marker": {
             "colorbar": {
              "outlinewidth": 0,
              "ticks": ""
             }
            },
            "type": "scattergl"
           }
          ],
          "scattermapbox": [
           {
            "marker": {
             "colorbar": {
              "outlinewidth": 0,
              "ticks": ""
             }
            },
            "type": "scattermapbox"
           }
          ],
          "scatterpolar": [
           {
            "marker": {
             "colorbar": {
              "outlinewidth": 0,
              "ticks": ""
             }
            },
            "type": "scatterpolar"
           }
          ],
          "scatterpolargl": [
           {
            "marker": {
             "colorbar": {
              "outlinewidth": 0,
              "ticks": ""
             }
            },
            "type": "scatterpolargl"
           }
          ],
          "scatterternary": [
           {
            "marker": {
             "colorbar": {
              "outlinewidth": 0,
              "ticks": ""
             }
            },
            "type": "scatterternary"
           }
          ],
          "surface": [
           {
            "colorbar": {
             "outlinewidth": 0,
             "ticks": ""
            },
            "colorscale": [
             [
              0,
              "#0d0887"
             ],
             [
              0.1111111111111111,
              "#46039f"
             ],
             [
              0.2222222222222222,
              "#7201a8"
             ],
             [
              0.3333333333333333,
              "#9c179e"
             ],
             [
              0.4444444444444444,
              "#bd3786"
             ],
             [
              0.5555555555555556,
              "#d8576b"
             ],
             [
              0.6666666666666666,
              "#ed7953"
             ],
             [
              0.7777777777777778,
              "#fb9f3a"
             ],
             [
              0.8888888888888888,
              "#fdca26"
             ],
             [
              1,
              "#f0f921"
             ]
            ],
            "type": "surface"
           }
          ],
          "table": [
           {
            "cells": {
             "fill": {
              "color": "#EBF0F8"
             },
             "line": {
              "color": "white"
             }
            },
            "header": {
             "fill": {
              "color": "#C8D4E3"
             },
             "line": {
              "color": "white"
             }
            },
            "type": "table"
           }
          ]
         },
         "layout": {
          "annotationdefaults": {
           "arrowcolor": "#2a3f5f",
           "arrowhead": 0,
           "arrowwidth": 1
          },
          "autotypenumbers": "strict",
          "coloraxis": {
           "colorbar": {
            "outlinewidth": 0,
            "ticks": ""
           }
          },
          "colorscale": {
           "diverging": [
            [
             0,
             "#8e0152"
            ],
            [
             0.1,
             "#c51b7d"
            ],
            [
             0.2,
             "#de77ae"
            ],
            [
             0.3,
             "#f1b6da"
            ],
            [
             0.4,
             "#fde0ef"
            ],
            [
             0.5,
             "#f7f7f7"
            ],
            [
             0.6,
             "#e6f5d0"
            ],
            [
             0.7,
             "#b8e186"
            ],
            [
             0.8,
             "#7fbc41"
            ],
            [
             0.9,
             "#4d9221"
            ],
            [
             1,
             "#276419"
            ]
           ],
           "sequential": [
            [
             0,
             "#0d0887"
            ],
            [
             0.1111111111111111,
             "#46039f"
            ],
            [
             0.2222222222222222,
             "#7201a8"
            ],
            [
             0.3333333333333333,
             "#9c179e"
            ],
            [
             0.4444444444444444,
             "#bd3786"
            ],
            [
             0.5555555555555556,
             "#d8576b"
            ],
            [
             0.6666666666666666,
             "#ed7953"
            ],
            [
             0.7777777777777778,
             "#fb9f3a"
            ],
            [
             0.8888888888888888,
             "#fdca26"
            ],
            [
             1,
             "#f0f921"
            ]
           ],
           "sequentialminus": [
            [
             0,
             "#0d0887"
            ],
            [
             0.1111111111111111,
             "#46039f"
            ],
            [
             0.2222222222222222,
             "#7201a8"
            ],
            [
             0.3333333333333333,
             "#9c179e"
            ],
            [
             0.4444444444444444,
             "#bd3786"
            ],
            [
             0.5555555555555556,
             "#d8576b"
            ],
            [
             0.6666666666666666,
             "#ed7953"
            ],
            [
             0.7777777777777778,
             "#fb9f3a"
            ],
            [
             0.8888888888888888,
             "#fdca26"
            ],
            [
             1,
             "#f0f921"
            ]
           ]
          },
          "colorway": [
           "#636efa",
           "#EF553B",
           "#00cc96",
           "#ab63fa",
           "#FFA15A",
           "#19d3f3",
           "#FF6692",
           "#B6E880",
           "#FF97FF",
           "#FECB52"
          ],
          "font": {
           "color": "#2a3f5f"
          },
          "geo": {
           "bgcolor": "white",
           "lakecolor": "white",
           "landcolor": "#E5ECF6",
           "showlakes": true,
           "showland": true,
           "subunitcolor": "white"
          },
          "hoverlabel": {
           "align": "left"
          },
          "hovermode": "closest",
          "mapbox": {
           "style": "light"
          },
          "paper_bgcolor": "white",
          "plot_bgcolor": "#E5ECF6",
          "polar": {
           "angularaxis": {
            "gridcolor": "white",
            "linecolor": "white",
            "ticks": ""
           },
           "bgcolor": "#E5ECF6",
           "radialaxis": {
            "gridcolor": "white",
            "linecolor": "white",
            "ticks": ""
           }
          },
          "scene": {
           "xaxis": {
            "backgroundcolor": "#E5ECF6",
            "gridcolor": "white",
            "gridwidth": 2,
            "linecolor": "white",
            "showbackground": true,
            "ticks": "",
            "zerolinecolor": "white"
           },
           "yaxis": {
            "backgroundcolor": "#E5ECF6",
            "gridcolor": "white",
            "gridwidth": 2,
            "linecolor": "white",
            "showbackground": true,
            "ticks": "",
            "zerolinecolor": "white"
           },
           "zaxis": {
            "backgroundcolor": "#E5ECF6",
            "gridcolor": "white",
            "gridwidth": 2,
            "linecolor": "white",
            "showbackground": true,
            "ticks": "",
            "zerolinecolor": "white"
           }
          },
          "shapedefaults": {
           "line": {
            "color": "#2a3f5f"
           }
          },
          "ternary": {
           "aaxis": {
            "gridcolor": "white",
            "linecolor": "white",
            "ticks": ""
           },
           "baxis": {
            "gridcolor": "white",
            "linecolor": "white",
            "ticks": ""
           },
           "bgcolor": "#E5ECF6",
           "caxis": {
            "gridcolor": "white",
            "linecolor": "white",
            "ticks": ""
           }
          },
          "title": {
           "x": 0.05
          },
          "xaxis": {
           "automargin": true,
           "gridcolor": "white",
           "linecolor": "white",
           "ticks": "",
           "title": {
            "standoff": 15
           },
           "zerolinecolor": "white",
           "zerolinewidth": 2
          },
          "yaxis": {
           "automargin": true,
           "gridcolor": "white",
           "linecolor": "white",
           "ticks": "",
           "title": {
            "standoff": 15
           },
           "zerolinecolor": "white",
           "zerolinewidth": 2
          }
         }
        },
        "title": {
         "text": "<b>Cq when [Fwd] = [Rev]</b><br>Actual vs Predicted (One Phase Decay)<br>Two Points per Condition Averaged"
        },
        "xaxis": {
         "title": {
          "text": "[F=R] Primer Concentration"
         }
        },
        "yaxis": {
         "title": {
          "text": "Cq"
         }
        }
       }
      }
     },
     "metadata": {},
     "output_type": "display_data"
    },
    {
     "data": {
      "application/vnd.plotly.v1+json": {
       "config": {
        "plotlyServerURL": "https://plot.ly"
       },
       "data": [
        {
         "alignmentgroup": "True",
         "hovertemplate": "StandardNumber=%{x}<br>Ct=%{y}<extra></extra>",
         "legendgroup": "",
         "marker": {
          "color": "#636efa",
          "pattern": {
           "shape": ""
          }
         },
         "name": "",
         "offsetgroup": "",
         "orientation": "v",
         "showlegend": false,
         "textposition": "auto",
         "texttemplate": "%{y}",
         "type": "bar",
         "x": [
          "Std_1",
          "Std_2",
          "Std_3",
          "Std_4",
          "Std_5",
          "Std_6",
          "Std_7"
         ],
         "xaxis": "x",
         "y": [
          11.08,
          16.823333333333334,
          19.08666666666667,
          23.02,
          27.326666666666668,
          30.94333333333333,
          34.32
         ],
         "yaxis": "y"
        }
       ],
       "layout": {
        "barmode": "group",
        "legend": {
         "tracegroupgap": 0
        },
        "template": {
         "data": {
          "bar": [
           {
            "error_x": {
             "color": "#2a3f5f"
            },
            "error_y": {
             "color": "#2a3f5f"
            },
            "marker": {
             "line": {
              "color": "#E5ECF6",
              "width": 0.5
             },
             "pattern": {
              "fillmode": "overlay",
              "size": 10,
              "solidity": 0.2
             }
            },
            "type": "bar"
           }
          ],
          "barpolar": [
           {
            "marker": {
             "line": {
              "color": "#E5ECF6",
              "width": 0.5
             },
             "pattern": {
              "fillmode": "overlay",
              "size": 10,
              "solidity": 0.2
             }
            },
            "type": "barpolar"
           }
          ],
          "carpet": [
           {
            "aaxis": {
             "endlinecolor": "#2a3f5f",
             "gridcolor": "white",
             "linecolor": "white",
             "minorgridcolor": "white",
             "startlinecolor": "#2a3f5f"
            },
            "baxis": {
             "endlinecolor": "#2a3f5f",
             "gridcolor": "white",
             "linecolor": "white",
             "minorgridcolor": "white",
             "startlinecolor": "#2a3f5f"
            },
            "type": "carpet"
           }
          ],
          "choropleth": [
           {
            "colorbar": {
             "outlinewidth": 0,
             "ticks": ""
            },
            "type": "choropleth"
           }
          ],
          "contour": [
           {
            "colorbar": {
             "outlinewidth": 0,
             "ticks": ""
            },
            "colorscale": [
             [
              0,
              "#0d0887"
             ],
             [
              0.1111111111111111,
              "#46039f"
             ],
             [
              0.2222222222222222,
              "#7201a8"
             ],
             [
              0.3333333333333333,
              "#9c179e"
             ],
             [
              0.4444444444444444,
              "#bd3786"
             ],
             [
              0.5555555555555556,
              "#d8576b"
             ],
             [
              0.6666666666666666,
              "#ed7953"
             ],
             [
              0.7777777777777778,
              "#fb9f3a"
             ],
             [
              0.8888888888888888,
              "#fdca26"
             ],
             [
              1,
              "#f0f921"
             ]
            ],
            "type": "contour"
           }
          ],
          "contourcarpet": [
           {
            "colorbar": {
             "outlinewidth": 0,
             "ticks": ""
            },
            "type": "contourcarpet"
           }
          ],
          "heatmap": [
           {
            "colorbar": {
             "outlinewidth": 0,
             "ticks": ""
            },
            "colorscale": [
             [
              0,
              "#0d0887"
             ],
             [
              0.1111111111111111,
              "#46039f"
             ],
             [
              0.2222222222222222,
              "#7201a8"
             ],
             [
              0.3333333333333333,
              "#9c179e"
             ],
             [
              0.4444444444444444,
              "#bd3786"
             ],
             [
              0.5555555555555556,
              "#d8576b"
             ],
             [
              0.6666666666666666,
              "#ed7953"
             ],
             [
              0.7777777777777778,
              "#fb9f3a"
             ],
             [
              0.8888888888888888,
              "#fdca26"
             ],
             [
              1,
              "#f0f921"
             ]
            ],
            "type": "heatmap"
           }
          ],
          "heatmapgl": [
           {
            "colorbar": {
             "outlinewidth": 0,
             "ticks": ""
            },
            "colorscale": [
             [
              0,
              "#0d0887"
             ],
             [
              0.1111111111111111,
              "#46039f"
             ],
             [
              0.2222222222222222,
              "#7201a8"
             ],
             [
              0.3333333333333333,
              "#9c179e"
             ],
             [
              0.4444444444444444,
              "#bd3786"
             ],
             [
              0.5555555555555556,
              "#d8576b"
             ],
             [
              0.6666666666666666,
              "#ed7953"
             ],
             [
              0.7777777777777778,
              "#fb9f3a"
             ],
             [
              0.8888888888888888,
              "#fdca26"
             ],
             [
              1,
              "#f0f921"
             ]
            ],
            "type": "heatmapgl"
           }
          ],
          "histogram": [
           {
            "marker": {
             "pattern": {
              "fillmode": "overlay",
              "size": 10,
              "solidity": 0.2
             }
            },
            "type": "histogram"
           }
          ],
          "histogram2d": [
           {
            "colorbar": {
             "outlinewidth": 0,
             "ticks": ""
            },
            "colorscale": [
             [
              0,
              "#0d0887"
             ],
             [
              0.1111111111111111,
              "#46039f"
             ],
             [
              0.2222222222222222,
              "#7201a8"
             ],
             [
              0.3333333333333333,
              "#9c179e"
             ],
             [
              0.4444444444444444,
              "#bd3786"
             ],
             [
              0.5555555555555556,
              "#d8576b"
             ],
             [
              0.6666666666666666,
              "#ed7953"
             ],
             [
              0.7777777777777778,
              "#fb9f3a"
             ],
             [
              0.8888888888888888,
              "#fdca26"
             ],
             [
              1,
              "#f0f921"
             ]
            ],
            "type": "histogram2d"
           }
          ],
          "histogram2dcontour": [
           {
            "colorbar": {
             "outlinewidth": 0,
             "ticks": ""
            },
            "colorscale": [
             [
              0,
              "#0d0887"
             ],
             [
              0.1111111111111111,
              "#46039f"
             ],
             [
              0.2222222222222222,
              "#7201a8"
             ],
             [
              0.3333333333333333,
              "#9c179e"
             ],
             [
              0.4444444444444444,
              "#bd3786"
             ],
             [
              0.5555555555555556,
              "#d8576b"
             ],
             [
              0.6666666666666666,
              "#ed7953"
             ],
             [
              0.7777777777777778,
              "#fb9f3a"
             ],
             [
              0.8888888888888888,
              "#fdca26"
             ],
             [
              1,
              "#f0f921"
             ]
            ],
            "type": "histogram2dcontour"
           }
          ],
          "mesh3d": [
           {
            "colorbar": {
             "outlinewidth": 0,
             "ticks": ""
            },
            "type": "mesh3d"
           }
          ],
          "parcoords": [
           {
            "line": {
             "colorbar": {
              "outlinewidth": 0,
              "ticks": ""
             }
            },
            "type": "parcoords"
           }
          ],
          "pie": [
           {
            "automargin": true,
            "type": "pie"
           }
          ],
          "scatter": [
           {
            "fillpattern": {
             "fillmode": "overlay",
             "size": 10,
             "solidity": 0.2
            },
            "type": "scatter"
           }
          ],
          "scatter3d": [
           {
            "line": {
             "colorbar": {
              "outlinewidth": 0,
              "ticks": ""
             }
            },
            "marker": {
             "colorbar": {
              "outlinewidth": 0,
              "ticks": ""
             }
            },
            "type": "scatter3d"
           }
          ],
          "scattercarpet": [
           {
            "marker": {
             "colorbar": {
              "outlinewidth": 0,
              "ticks": ""
             }
            },
            "type": "scattercarpet"
           }
          ],
          "scattergeo": [
           {
            "marker": {
             "colorbar": {
              "outlinewidth": 0,
              "ticks": ""
             }
            },
            "type": "scattergeo"
           }
          ],
          "scattergl": [
           {
            "marker": {
             "colorbar": {
              "outlinewidth": 0,
              "ticks": ""
             }
            },
            "type": "scattergl"
           }
          ],
          "scattermapbox": [
           {
            "marker": {
             "colorbar": {
              "outlinewidth": 0,
              "ticks": ""
             }
            },
            "type": "scattermapbox"
           }
          ],
          "scatterpolar": [
           {
            "marker": {
             "colorbar": {
              "outlinewidth": 0,
              "ticks": ""
             }
            },
            "type": "scatterpolar"
           }
          ],
          "scatterpolargl": [
           {
            "marker": {
             "colorbar": {
              "outlinewidth": 0,
              "ticks": ""
             }
            },
            "type": "scatterpolargl"
           }
          ],
          "scatterternary": [
           {
            "marker": {
             "colorbar": {
              "outlinewidth": 0,
              "ticks": ""
             }
            },
            "type": "scatterternary"
           }
          ],
          "surface": [
           {
            "colorbar": {
             "outlinewidth": 0,
             "ticks": ""
            },
            "colorscale": [
             [
              0,
              "#0d0887"
             ],
             [
              0.1111111111111111,
              "#46039f"
             ],
             [
              0.2222222222222222,
              "#7201a8"
             ],
             [
              0.3333333333333333,
              "#9c179e"
             ],
             [
              0.4444444444444444,
              "#bd3786"
             ],
             [
              0.5555555555555556,
              "#d8576b"
             ],
             [
              0.6666666666666666,
              "#ed7953"
             ],
             [
              0.7777777777777778,
              "#fb9f3a"
             ],
             [
              0.8888888888888888,
              "#fdca26"
             ],
             [
              1,
              "#f0f921"
             ]
            ],
            "type": "surface"
           }
          ],
          "table": [
           {
            "cells": {
             "fill": {
              "color": "#EBF0F8"
             },
             "line": {
              "color": "white"
             }
            },
            "header": {
             "fill": {
              "color": "#C8D4E3"
             },
             "line": {
              "color": "white"
             }
            },
            "type": "table"
           }
          ]
         },
         "layout": {
          "annotationdefaults": {
           "arrowcolor": "#2a3f5f",
           "arrowhead": 0,
           "arrowwidth": 1
          },
          "autotypenumbers": "strict",
          "coloraxis": {
           "colorbar": {
            "outlinewidth": 0,
            "ticks": ""
           }
          },
          "colorscale": {
           "diverging": [
            [
             0,
             "#8e0152"
            ],
            [
             0.1,
             "#c51b7d"
            ],
            [
             0.2,
             "#de77ae"
            ],
            [
             0.3,
             "#f1b6da"
            ],
            [
             0.4,
             "#fde0ef"
            ],
            [
             0.5,
             "#f7f7f7"
            ],
            [
             0.6,
             "#e6f5d0"
            ],
            [
             0.7,
             "#b8e186"
            ],
            [
             0.8,
             "#7fbc41"
            ],
            [
             0.9,
             "#4d9221"
            ],
            [
             1,
             "#276419"
            ]
           ],
           "sequential": [
            [
             0,
             "#0d0887"
            ],
            [
             0.1111111111111111,
             "#46039f"
            ],
            [
             0.2222222222222222,
             "#7201a8"
            ],
            [
             0.3333333333333333,
             "#9c179e"
            ],
            [
             0.4444444444444444,
             "#bd3786"
            ],
            [
             0.5555555555555556,
             "#d8576b"
            ],
            [
             0.6666666666666666,
             "#ed7953"
            ],
            [
             0.7777777777777778,
             "#fb9f3a"
            ],
            [
             0.8888888888888888,
             "#fdca26"
            ],
            [
             1,
             "#f0f921"
            ]
           ],
           "sequentialminus": [
            [
             0,
             "#0d0887"
            ],
            [
             0.1111111111111111,
             "#46039f"
            ],
            [
             0.2222222222222222,
             "#7201a8"
            ],
            [
             0.3333333333333333,
             "#9c179e"
            ],
            [
             0.4444444444444444,
             "#bd3786"
            ],
            [
             0.5555555555555556,
             "#d8576b"
            ],
            [
             0.6666666666666666,
             "#ed7953"
            ],
            [
             0.7777777777777778,
             "#fb9f3a"
            ],
            [
             0.8888888888888888,
             "#fdca26"
            ],
            [
             1,
             "#f0f921"
            ]
           ]
          },
          "colorway": [
           "#636efa",
           "#EF553B",
           "#00cc96",
           "#ab63fa",
           "#FFA15A",
           "#19d3f3",
           "#FF6692",
           "#B6E880",
           "#FF97FF",
           "#FECB52"
          ],
          "font": {
           "color": "#2a3f5f"
          },
          "geo": {
           "bgcolor": "white",
           "lakecolor": "white",
           "landcolor": "#E5ECF6",
           "showlakes": true,
           "showland": true,
           "subunitcolor": "white"
          },
          "hoverlabel": {
           "align": "left"
          },
          "hovermode": "closest",
          "mapbox": {
           "style": "light"
          },
          "paper_bgcolor": "white",
          "plot_bgcolor": "#E5ECF6",
          "polar": {
           "angularaxis": {
            "gridcolor": "white",
            "linecolor": "white",
            "ticks": ""
           },
           "bgcolor": "#E5ECF6",
           "radialaxis": {
            "gridcolor": "white",
            "linecolor": "white",
            "ticks": ""
           }
          },
          "scene": {
           "xaxis": {
            "backgroundcolor": "#E5ECF6",
            "gridcolor": "white",
            "gridwidth": 2,
            "linecolor": "white",
            "showbackground": true,
            "ticks": "",
            "zerolinecolor": "white"
           },
           "yaxis": {
            "backgroundcolor": "#E5ECF6",
            "gridcolor": "white",
            "gridwidth": 2,
            "linecolor": "white",
            "showbackground": true,
            "ticks": "",
            "zerolinecolor": "white"
           },
           "zaxis": {
            "backgroundcolor": "#E5ECF6",
            "gridcolor": "white",
            "gridwidth": 2,
            "linecolor": "white",
            "showbackground": true,
            "ticks": "",
            "zerolinecolor": "white"
           }
          },
          "shapedefaults": {
           "line": {
            "color": "#2a3f5f"
           }
          },
          "ternary": {
           "aaxis": {
            "gridcolor": "white",
            "linecolor": "white",
            "ticks": ""
           },
           "baxis": {
            "gridcolor": "white",
            "linecolor": "white",
            "ticks": ""
           },
           "bgcolor": "#E5ECF6",
           "caxis": {
            "gridcolor": "white",
            "linecolor": "white",
            "ticks": ""
           }
          },
          "title": {
           "x": 0.05
          },
          "xaxis": {
           "automargin": true,
           "gridcolor": "white",
           "linecolor": "white",
           "ticks": "",
           "title": {
            "standoff": 15
           },
           "zerolinecolor": "white",
           "zerolinewidth": 2
          },
          "yaxis": {
           "automargin": true,
           "gridcolor": "white",
           "linecolor": "white",
           "ticks": "",
           "title": {
            "standoff": 15
           },
           "zerolinecolor": "white",
           "zerolinewidth": 2
          }
         }
        },
        "title": {
         "text": "Standard Number vs Cq"
        },
        "xaxis": {
         "anchor": "y",
         "domain": [
          0,
          1
         ],
         "title": {
          "text": "StandardNumber"
         }
        },
        "yaxis": {
         "anchor": "x",
         "domain": [
          0,
          1
         ],
         "title": {
          "text": "Ct"
         }
        }
       }
      }
     },
     "metadata": {},
     "output_type": "display_data"
    }
   ],
   "source": [
    "primerMatrix = PrimerMatrixVis('Quan. Result')\n",
    "# df = PrimerMatrixVis.dfCreate(primerMatrix)\n",
    "# df = PrimerMatrixVis.addPrimerConcToDf(primerMatrix)\n",
    "PrimerMatrixVis.RowAndColMeans(primerMatrix)\n",
    "PrimerMatrixVis.Periodicity(primerMatrix)\n",
    "PrimerMatrixVis.FwdAndRevEquivalence(primerMatrix)\n",
    "PrimerMatrixVis.plotStandards(primerMatrix)"
   ]
  }
 ],
 "metadata": {
  "kernelspec": {
   "display_name": "Python 3.8.5 ('base')",
   "language": "python",
   "name": "python3"
  },
  "language_info": {
   "codemirror_mode": {
    "name": "ipython",
    "version": 3
   },
   "file_extension": ".py",
   "mimetype": "text/x-python",
   "name": "python",
   "nbconvert_exporter": "python",
   "pygments_lexer": "ipython3",
   "version": "3.8.13"
  },
  "orig_nbformat": 2,
  "vscode": {
   "interpreter": {
    "hash": "1351e4052cb5e5ef8cb5e82d8be59617e857487b9d1507b0e4ba5c641efe6219"
   }
  }
 },
 "nbformat": 4,
 "nbformat_minor": 2
}
