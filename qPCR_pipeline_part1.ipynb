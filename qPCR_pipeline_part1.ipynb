{
 "cells": [
  {
   "cell_type": "code",
   "execution_count": 91,
   "metadata": {},
   "outputs": [],
   "source": [
    "import numpy as np\n",
    "import pandas as pd\n",
    "pd.options.plotting.backend = \"plotly\"\n",
    "import plotly.graph_objects as go\n",
    "from plotly.subplots import make_subplots\n",
    "import plotly.express as px\n",
    "from scipy.optimize import curve_fit\n",
    "from sklearn.metrics import r2_score\n",
    "# print(pd.__version__)"
   ]
  },
  {
   "cell_type": "code",
   "execution_count": 92,
   "metadata": {},
   "outputs": [],
   "source": [
    "# import Excel file from Windows\n",
    "# fileDir = r'C:\\Users\\HarleyKing\\OneDrive - LuminUltra Technologies Ltd\\Documents\\Python Scripts\\canonical_pcr_data'\n",
    "fileDir = r'qPCR_data'\n",
    "# fileName = r'20220708_122234_SRB_dsr_test_2.xls' #cy5 data\n",
    "# fileName = r'Exp800.05.create.primer.matrix.micH.xlsx' #fam data\n",
    "# fileName = r'AF Fuel Primer Matrix Run 2 01Jun21 GH.xls' #fam data\n",
    "# fileName = r'three_fluor_assay.xls' #fam data\n",
    "fileName = r'primer.matrix.xls' #fam data\n",
    "\n",
    "# create dataframe\n",
    "dfExcel = pd.read_excel(fileDir+'\\\\'+fileName, sheet_name=None, header=None) #get all sheets"
   ]
  },
  {
   "cell_type": "code",
   "execution_count": 93,
   "metadata": {},
   "outputs": [],
   "source": [
    "class FluorVis:\n",
    "    probe: str\n",
    "    def __init__(self, probe):\n",
    "        self.probe = probe\n",
    "        # self.maxRow = self.getMaxRow()\n",
    "    def dfCreate(self): # make a df from the excel data\n",
    "        # find probe in sheet names\n",
    "        probe_sheet = [sheet for sheet in sheetNames if self.probe in sheet]\n",
    "        # create dataframe from sheet name\n",
    "        df = dfExcel[probe_sheet[0]]\n",
    "        # assign first row to be column header\n",
    "        df.columns = df.iloc[0]\n",
    "        # drop the first row (duplicate of header)\n",
    "        df = df.drop(df.index[0])\n",
    "        # convert all columns to numberic\n",
    "        df = df.apply(pd.to_numeric, errors='coerce')\n",
    "        # make index the first column\n",
    "        df.set_index('Cycle', inplace=True)\n",
    "        # fluor values less than 1 get 0\n",
    "        df = df.where(df>=1, 0)\n",
    "        return df\n",
    "    def getMaxRow(self):\n",
    "        df = self.dfCreate()\n",
    "        # get max value for each row and convert to list\n",
    "        maxRow = df.loc[df.index == 40].values.flatten().tolist()\n",
    "        # round every element in list to one decimal place, convert to str\n",
    "        maxRowRound = [str(round(x,1)) for x in maxRow]\n",
    "        return maxRowRound\n",
    "    def plotAllWells(self):\n",
    "        df = self.dfCreate()\n",
    "        # make plot of wells\n",
    "        fig = px.line(\n",
    "            df,\n",
    "            x=df.index,\n",
    "            y=list(df.columns),\n",
    "            color_discrete_sequence=px.colors.qualitative.Set3)\n",
    "        fig.update_layout(\n",
    "            height=500,\n",
    "            width=1000,\n",
    "            xaxis_title='Cycle',\n",
    "            yaxis_title='RFU ({})'.format(self.probe),\n",
    "            title_text='Cycle vs Fluorescence ({})'.format(self.probe),\n",
    "            legend_title='Well')\n",
    "        return fig.show()\n",
    "    def plotIndWells(self):\n",
    "        df = self.dfCreate() \n",
    "        maxRow = self.getMaxRow()\n",
    "        # make subplots of individual wells\n",
    "        colorsList = px.colors.qualitative.Set3\n",
    "        figSub = make_subplots(\n",
    "            rows=8, cols=12,\n",
    "            shared_xaxes=True,\n",
    "            shared_yaxes='all',\n",
    "            start_cell='top-left',\n",
    "            subplot_titles=list(df.columns)) #, subplot_titles=sub_titles, print_grid=False)\n",
    "        for r in range (0,8): #loop through rows\n",
    "            for c in range(0,12):\n",
    "                figSub.add_trace(go.Scatter(\n",
    "                    x=df.index,\n",
    "                    y=df.iloc[:,r+(r*11)+c], # this pattern translates r=8, c=12 to 0..95 columns in df (0 indexed)\n",
    "                    name=df.columns[r+(r*11)+c], # gets column name eg 'A01'\n",
    "                    mode=\"lines+text\", # allows for text to be inserted onto ind plot\n",
    "                    line_color=colorsList[c], # assign color to each well consistent with all-well plot\n",
    "                    text= ['']*32 + [maxRow[r+(r*11)+c]]+['']*7, # inserts max value onto plot at 33rd point; looks nice here\n",
    "                    textposition='top left',\n",
    "                    textfont=dict(\n",
    "                        family=\"sans serif\",\n",
    "                        size=8,\n",
    "                        color=\"black\")), # want to stand out\n",
    "                    row=r+1,\n",
    "                    col=c+1)\n",
    "        figSub.update_layout(\n",
    "            height=800,\n",
    "            width=1000,\n",
    "            showlegend=False,\n",
    "            title_text='Cycle vs Fluorescence ({})'.format(self.probe))\n",
    "        return figSub.show()\n",
    "    \n",
    "                \n"
   ]
  },
  {
   "cell_type": "code",
   "execution_count": 94,
   "metadata": {},
   "outputs": [],
   "source": [
    "class PrimerMatrixVis:\n",
    "    sheet: str\n",
    "    def __init__(self, sheet):\n",
    "        self.sheet = sheet\n",
    "    def dfCreate(self): # make a df from the excel data\n",
    "        # make df from passed sheet name\n",
    "        df = dfExcel[self.sheet]\n",
    "        # assign first row to be column header\n",
    "        df.columns = df.iloc[0]\n",
    "        # drop the first row (duplicate of header)\n",
    "        df = df.drop(df.index[0])\n",
    "        # convert all columns to numberic\n",
    "        # df = df.apply(pd.to_numeric, errors='coerce')\n",
    "        # make index the first column\n",
    "        # df.set_index('Cycle', inplace=True)\n",
    "        # fluor values less than 1 get 0\n",
    "        # df = df.where(df>=1, 0)\n",
    "        return df\n",
    "    def addPrimerConcToDf(self):\n",
    "        df = self.dfCreate()\n",
    "        primerConcs = [50, 100, 200, 400, 600, 800] # Fwd and rev primer concentrations\n",
    "        # add fwd primerConc values to two rows all the way to 72\n",
    "        df['F_primer'] =np.nan\n",
    "        for i in range(6): # loop through rows except last two rows containing standard curve\n",
    "            for j in range(6): # loop through primer concentration list\n",
    "                for k in range(2): # every concentration twice\n",
    "                    pos = (12*i)+(2*j)+(k+1) # translate row and column to position in df 1..96\n",
    "                    df.loc[pos, 'F_primer'] = primerConcs[j] # set value to primer concentration\n",
    "        # add rev primerConc values across single row for 6 rows\n",
    "        df['R_primer'] =np.nan\n",
    "        for m in range(6): # loop through primer concentration list\n",
    "            for n in range(12): # every concentration as a row\n",
    "                pos = (12*m)+(n+1) # translate row and column to position in df 1..96\n",
    "                df.loc[pos, 'R_primer'] = primerConcs[m] # set value to primer concentration\n",
    "        return df \n",
    "    def Periodicity(self):\n",
    "        df=self.addPrimerConcToDf()\n",
    "        # group by F and R primer concentrations and take mean\n",
    "        avg_across_row_fwd = df.groupby(by=['R_primer', 'F_primer'], as_index=False)['Ct'].mean()\n",
    "        avg_across_col_rev = df.groupby(by=['F_primer', 'R_primer'], as_index=False)['Ct'].mean()\n",
    "        # stringify 'F_primer' and 'R_primer' concentrations and concatenate and add to list\n",
    "        barHeadingsFwd = (avg_across_row_fwd['F_primer'].astype(str) + '_' + avg_across_row_fwd['R_primer'].astype(str)).tolist()\n",
    "        barHeadingsRev = (avg_across_col_rev['R_primer'].astype(str) + '_' + avg_across_col_rev['F_primer'].astype(str)).tolist()\n",
    "        figAvgFwd = px.bar(\n",
    "            avg_across_row_fwd,\n",
    "            y=avg_across_row_fwd['Ct'],\n",
    "            x=barHeadingsFwd, #avg_across_row['F_primer'],\n",
    "            labels={'x':'F Primer Concentration', 'y':'Cq'},\n",
    "            color='R_primer',\n",
    "            barmode='group',\n",
    "            text_auto=True,\n",
    "            title='Periodicity in Increasing [Fwd] (Going Across Row)<br>[Rev] Held Constant, Two Points per Condition Averaged')\n",
    "        figAvgFwd.show()\n",
    "        figAvgRev = px.bar(\n",
    "            avg_across_col_rev,\n",
    "            y=avg_across_col_rev['Ct'],\n",
    "            x=barHeadingsRev, #avg_across_row['F_primer'],\n",
    "            labels={'x':'R Primer Concentration', 'y':'Cq'},\n",
    "            color='F_primer',\n",
    "            barmode='group',\n",
    "            text_auto=True,\n",
    "            title='Periodicity in Increasing [Rev] (Going Down Column)<br>[Fwd] Held Constant, Two Points per Condition Averaged')\n",
    "        return figAvgRev.show()\n",
    "    def onePhaseDecay(self, X, y0, Plateau, K):\n",
    "        return (y0-Plateau)*np.exp(-K*X)+Plateau\n",
    "    def RowAndColMeans(self):  \n",
    "        df=self.addPrimerConcToDf()  \n",
    "        row_mean = df.groupby(by='R_primer', as_index=False)['Ct'].mean() # group by R primer concentration and take mean\n",
    "        col_mean = df.groupby(by='F_primer', as_index=False)['Ct'].mean() # group by F primer concentration and take mean\n",
    "        row_conc = row_mean['R_primer'].tolist() # make list of concentrations\n",
    "        row_cq_mean = row_mean['Ct'].tolist() # make list of Cqs\n",
    "        col_conc = col_mean['F_primer'].tolist() \n",
    "        col_cq_mean = col_mean['Ct'].tolist()\n",
    "        # solve for one phase decay with scipy\n",
    "        # initialGuesses = [y0, Plateau, K] \n",
    "        # Y0 is the Y value when X (Conc) is zero. It is expressed in the same units as Y,\n",
    "        # Plateau is the Y value at infinite conc, expressed in the same units as Y.\n",
    "        # K is the rate constant, expressed in reciprocal of the X axis conc units. If X is in nM, then K is expressed in inverse nM.\n",
    "        initialGuesses = [100, 15, 0.01] # converges faster with initial guesses\n",
    "        ropt,rcov = curve_fit(self.onePhaseDecay, row_conc, row_cq_mean, initialGuesses)\n",
    "        copt,ccov = curve_fit(self.onePhaseDecay, col_conc, col_cq_mean, initialGuesses)\n",
    "        row_cq_pred = np.empty(len(row_conc)) #empty list to receive data\n",
    "        for i in range(len(row_conc)): #loop through concentrations to make cq prediction\n",
    "            # cq_pred[i]=onePhaseDecay(f_r_conc[i], initialGuesses[0], initialGuesses[1], initialGuesses[2])\n",
    "            row_cq_pred[i]=self.onePhaseDecay(row_conc[i], ropt[0], ropt[1], ropt[2])\n",
    "        col_cq_pred = np.empty(len(col_conc)) #empty list to receive data\n",
    "        for i in range(len(col_conc)): #loop through concentrations to make cq prediction\n",
    "            # cq_pred[i]=onePhaseDecay(f_r_conc[i], initialGuesses[0], initialGuesses[1], initialGuesses[2])\n",
    "            col_cq_pred[i]=self.onePhaseDecay(col_conc[i], copt[0], copt[1], copt[2])\n",
    "        # from sklearn.metrics import r2_score\n",
    "        row_R2score = r2_score(row_cq_pred, row_cq_mean)\n",
    "        col_R2score = r2_score(col_cq_pred, col_cq_mean)\n",
    "        # Generate figure\n",
    "        figRowVsColMean = go.Figure()\n",
    "        figRowVsColMean.add_trace(\n",
    "            go.Scatter(\n",
    "                x=row_conc,\n",
    "                y=row_cq_mean,\n",
    "                name='Row Mean', \n",
    "                mode='markers',\n",
    "                marker_color='#2038A8'\n",
    "                # line=dict(color='rgb(255, 0, 0)', width=2),\n",
    "                # line_shape = 'spline' # make smooth line\n",
    "            ))\n",
    "        figRowVsColMean.add_trace(\n",
    "            go.Scatter(\n",
    "                x=row_conc,\n",
    "                y=row_cq_pred,\n",
    "                name='Row (Modeled)',\n",
    "                mode='lines',\n",
    "                line=dict(color='#7564F5', width=1),\n",
    "                line_shape = 'spline' # make smooth line\n",
    "            ))\n",
    "        figRowVsColMean.add_trace(\n",
    "            go.Scatter(\n",
    "                x=col_conc,\n",
    "                y=col_cq_mean,\n",
    "                name='Col Mean',\n",
    "                mode='markers',\n",
    "                marker_color='#F58E17'\n",
    "            ))\n",
    "        figRowVsColMean.add_trace(\n",
    "            go.Scatter(\n",
    "                x=col_conc,\n",
    "                y=col_cq_pred,\n",
    "                name='Col (Modeled)',\n",
    "                mode='lines',\n",
    "                # marker_color='#F5BD69', \n",
    "                line=dict(color='#F5BD69', width=1),\n",
    "                line_shape = 'spline' # make smooth line\n",
    "            ))\n",
    "        figRowVsColMean.update_layout(title='Row vs Col Means',\n",
    "        xaxis_title='Mean',\n",
    "        yaxis_title='Cq')\n",
    "        return figRowVsColMean.show()\n",
    "    def FwdAndRevEquivalence(self):\n",
    "        df=self.addPrimerConcToDf()  \n",
    "        # create a new df where 'F_primer' = 'R_primer' \n",
    "        df_fwd_rev = df[df['F_primer'] == df['R_primer']]\n",
    "        df_fwd_rev_mean = df_fwd_rev.groupby(by=['R_primer', 'F_primer'], as_index=False)['Ct'].mean().dropna() # take mean, remove NaN\n",
    "        # equivHeadings = (df_fwd_rev_mean['F_primer'].astype(str) + '_' + df_fwd_rev_mean['R_primer'].astype(str)).tolist()\n",
    "        # solve for one phase decay with scipy\n",
    "        # f_r_conc = [100, 200, 400, 600, 800] # F-R primer concentrations\n",
    "        # cq_actual = [37.32, 25.21, 21.27, 20.225, 18.81] # Cq values\n",
    "        f_r_conc = df_fwd_rev_mean['R_primer'].tolist() # both F_primer and R_primer are the same\n",
    "        cq_actual = df_fwd_rev_mean['Ct'].tolist()\n",
    "        # found each element in cq_actual to two decimal places\n",
    "        cq_actual = [round(x, 2) for x in cq_actual]\n",
    "        # initialGuesses = [y0, Plateau, K] \n",
    "        # Y0 is the Y value when X (Conc) is zero. It is expressed in the same units as Y,\n",
    "        # Plateau is the Y value at infinite conc, expressed in the same units as Y.\n",
    "        # K is the rate constant, expressed in reciprocal of the X axis conc units. If X is in nM, then K is expressed in inverse nM.\n",
    "        # initialGuesses = [73.29, 19.8, 0.01120] # GraphPad values\n",
    "        initialGuesses = [100, 15, 0.01]\n",
    "        popt,pcov = curve_fit(self.onePhaseDecay, f_r_conc, cq_actual, initialGuesses)\n",
    "        cq_pred = np.empty(len(cq_actual)) #empty list to receive data\n",
    "        for i in range(len(f_r_conc)): #loop through concentrations to make cq prediction\n",
    "            # cq_pred[i]=onePhaseDecay(f_r_conc[i], initialGuesses[0], initialGuesses[1], initialGuesses[2])\n",
    "            cq_pred[i]=self.onePhaseDecay(f_r_conc[i], popt[0], popt[1], popt[2])\n",
    "        # from sklearn.metrics import r2_score\n",
    "        equivR2score = r2_score(cq_pred, cq_actual)\n",
    "\n",
    "        # Plot 3 more predicted points @ 300, 500, 700nM\n",
    "        cq_pred_300 = self.onePhaseDecay(300, popt[0], popt[1], popt[2])\n",
    "        cq_pred_500 = self.onePhaseDecay(500, popt[0], popt[1], popt[2])\n",
    "        cq_pred_700 = self.onePhaseDecay(700, popt[0], popt[1], popt[2])\n",
    "        figEquivalent = go.Figure()\n",
    "        figEquivalent.add_trace(\n",
    "            go.Scatter(\n",
    "                x=f_r_conc,\n",
    "                y=cq_pred,\n",
    "                name='Cq Predicted (R^2 = ' + str(round(equivR2score, 4)) + ')', \n",
    "                mode='lines+markers',\n",
    "                line=dict(color='rgb(255, 0, 0)', width=2),\n",
    "                line_shape = 'spline' # make smooth line\n",
    "            ))\n",
    "        figEquivalent.add_trace(\n",
    "            go.Bar(\n",
    "                x=f_r_conc,\n",
    "                y=cq_actual,\n",
    "                text = cq_actual,\n",
    "                name='Cq Actual',\n",
    "                textposition='inside',\n",
    "                marker_color='#636EFA'\n",
    "            ))\n",
    "        figEquivalent.add_trace(\n",
    "            go.Bar(\n",
    "                x=[300, 500, 700],\n",
    "                y=[cq_pred_300, cq_pred_500, cq_pred_700],\n",
    "                name='Cq Predicted @300, 500, 700nM',\n",
    "                textposition='inside',\n",
    "                marker_color='#94B6FA'\n",
    "            ))\n",
    "        figEquivalent.update_layout(title='<b>Cq when [Fwd] = [Rev]</b><br>Actual vs Predicted (One Phase Decay)<br>Two Points per Condition Averaged',\n",
    "        xaxis_title='[F=R] Primer Concentration',\n",
    "        yaxis_title='Cq')\n",
    "        return figEquivalent.show()\n",
    "    def plotStandards(self):\n",
    "        # rename \"Property\" column with standard and Negative\n",
    "        df = self.dfCreate()\n",
    "        df.loc[73:93, \"Property\"]= \"Standard\" \n",
    "        df.loc[94:96, \"Property\"]= \"Negative\" \n",
    "        standardNumberList = ['Std_1', 'Std_2', 'Std_3', 'Std_4', 'Std_5', 'Std_6', 'Std_7', 'Negative']\n",
    "        # create a new column with the standard number e.g. std_1, std_2, etc.\n",
    "        df['StandardNumber'] =np.nan # create new column for standard number\n",
    "        for j in range(8): # 8 sets of triplicates on two rows\n",
    "            for k in range(3): # every concentration 3x for std curve\n",
    "                pos = 73+k+(j*3) # translate row and column to position in df 1..96\n",
    "                df.loc[pos, 'StandardNumber'] = standardNumberList[j] # set value to primer concentration\n",
    "        # select df with only standards; don't want negatives\n",
    "        standards = df.loc[df['Property'] == 'Standard']\n",
    "        standardNumberMeans = standards.groupby(by=['StandardNumber'], as_index=False)['Ct'].mean().dropna() # take mean, remove NaN\n",
    "        # display (standardNumberMeans)\n",
    "        figStandards = px.bar(\n",
    "            standardNumberMeans,\n",
    "            y=standardNumberMeans['Ct'],\n",
    "            x=standardNumberMeans['StandardNumber'], #avg_across_row['F_primer'],\n",
    "            labels={'x':'Standard', 'y':'Cq'},\n",
    "            # color='R_primer',\n",
    "            barmode='group',\n",
    "            text_auto=True,\n",
    "            title='Standard Number vs Cq' )\n",
    "        figStandards.show()\n",
    "        \n",
    "    "
   ]
  },
  {
   "cell_type": "code",
   "execution_count": 95,
   "metadata": {},
   "outputs": [
    {
     "name": "stdout",
     "output_type": "stream",
     "text": [
      "['Detectors', 'Sample', 'Plate', 'Program', 'Quan. Raw Data', 'Quan. Result', 'Quan. AmpData-FAM']\n"
     ]
    }
   ],
   "source": [
    "# show all sheet names\n",
    "sheetNames = list(dfExcel.keys())\n",
    "print(sheetNames)"
   ]
  },
  {
   "cell_type": "code",
   "execution_count": 96,
   "metadata": {},
   "outputs": [],
   "source": [
    "# instantiate probes\n",
    "probeCy5 = FluorVis('Cy5')\n",
    "probeFAM = FluorVis('FAM')\n",
    "probeHEX = FluorVis('HEX')\n",
    "probeSYBR = FluorVis('SYBR')\n",
    "\n",
    "# FluorVis.plotAllWells(probeFAM)\n",
    "# FluorVis.plotIndWells(probeFAM)\n",
    "# FluorVis.plotStandards(probeFAM)"
   ]
  },
  {
   "cell_type": "code",
   "execution_count": 97,
   "metadata": {},
   "outputs": [
    {
     "data": {
      "application/vnd.plotly.v1+json": {
       "config": {
        "plotlyServerURL": "https://plot.ly"
       },
       "data": [
        {
         "alignmentgroup": "True",
         "hovertemplate": "StandardNumber=%{x}<br>Ct=%{y}<extra></extra>",
         "legendgroup": "",
         "marker": {
          "color": "#636efa",
          "pattern": {
           "shape": ""
          }
         },
         "name": "",
         "offsetgroup": "",
         "orientation": "v",
         "showlegend": false,
         "textposition": "auto",
         "texttemplate": "%{y}",
         "type": "bar",
         "x": [
          "Std_2",
          "Std_3",
          "Std_4",
          "Std_5",
          "Std_6",
          "Std_7"
         ],
         "xaxis": "x",
         "y": [
          9.753333333333332,
          14.073333333333332,
          17.64,
          21.426666666666666,
          25.813333333333333,
          29.409999999999997
         ],
         "yaxis": "y"
        }
       ],
       "layout": {
        "barmode": "group",
        "legend": {
         "tracegroupgap": 0
        },
        "template": {
         "data": {
          "bar": [
           {
            "error_x": {
             "color": "#2a3f5f"
            },
            "error_y": {
             "color": "#2a3f5f"
            },
            "marker": {
             "line": {
              "color": "#E5ECF6",
              "width": 0.5
             },
             "pattern": {
              "fillmode": "overlay",
              "size": 10,
              "solidity": 0.2
             }
            },
            "type": "bar"
           }
          ],
          "barpolar": [
           {
            "marker": {
             "line": {
              "color": "#E5ECF6",
              "width": 0.5
             },
             "pattern": {
              "fillmode": "overlay",
              "size": 10,
              "solidity": 0.2
             }
            },
            "type": "barpolar"
           }
          ],
          "carpet": [
           {
            "aaxis": {
             "endlinecolor": "#2a3f5f",
             "gridcolor": "white",
             "linecolor": "white",
             "minorgridcolor": "white",
             "startlinecolor": "#2a3f5f"
            },
            "baxis": {
             "endlinecolor": "#2a3f5f",
             "gridcolor": "white",
             "linecolor": "white",
             "minorgridcolor": "white",
             "startlinecolor": "#2a3f5f"
            },
            "type": "carpet"
           }
          ],
          "choropleth": [
           {
            "colorbar": {
             "outlinewidth": 0,
             "ticks": ""
            },
            "type": "choropleth"
           }
          ],
          "contour": [
           {
            "colorbar": {
             "outlinewidth": 0,
             "ticks": ""
            },
            "colorscale": [
             [
              0,
              "#0d0887"
             ],
             [
              0.1111111111111111,
              "#46039f"
             ],
             [
              0.2222222222222222,
              "#7201a8"
             ],
             [
              0.3333333333333333,
              "#9c179e"
             ],
             [
              0.4444444444444444,
              "#bd3786"
             ],
             [
              0.5555555555555556,
              "#d8576b"
             ],
             [
              0.6666666666666666,
              "#ed7953"
             ],
             [
              0.7777777777777778,
              "#fb9f3a"
             ],
             [
              0.8888888888888888,
              "#fdca26"
             ],
             [
              1,
              "#f0f921"
             ]
            ],
            "type": "contour"
           }
          ],
          "contourcarpet": [
           {
            "colorbar": {
             "outlinewidth": 0,
             "ticks": ""
            },
            "type": "contourcarpet"
           }
          ],
          "heatmap": [
           {
            "colorbar": {
             "outlinewidth": 0,
             "ticks": ""
            },
            "colorscale": [
             [
              0,
              "#0d0887"
             ],
             [
              0.1111111111111111,
              "#46039f"
             ],
             [
              0.2222222222222222,
              "#7201a8"
             ],
             [
              0.3333333333333333,
              "#9c179e"
             ],
             [
              0.4444444444444444,
              "#bd3786"
             ],
             [
              0.5555555555555556,
              "#d8576b"
             ],
             [
              0.6666666666666666,
              "#ed7953"
             ],
             [
              0.7777777777777778,
              "#fb9f3a"
             ],
             [
              0.8888888888888888,
              "#fdca26"
             ],
             [
              1,
              "#f0f921"
             ]
            ],
            "type": "heatmap"
           }
          ],
          "heatmapgl": [
           {
            "colorbar": {
             "outlinewidth": 0,
             "ticks": ""
            },
            "colorscale": [
             [
              0,
              "#0d0887"
             ],
             [
              0.1111111111111111,
              "#46039f"
             ],
             [
              0.2222222222222222,
              "#7201a8"
             ],
             [
              0.3333333333333333,
              "#9c179e"
             ],
             [
              0.4444444444444444,
              "#bd3786"
             ],
             [
              0.5555555555555556,
              "#d8576b"
             ],
             [
              0.6666666666666666,
              "#ed7953"
             ],
             [
              0.7777777777777778,
              "#fb9f3a"
             ],
             [
              0.8888888888888888,
              "#fdca26"
             ],
             [
              1,
              "#f0f921"
             ]
            ],
            "type": "heatmapgl"
           }
          ],
          "histogram": [
           {
            "marker": {
             "pattern": {
              "fillmode": "overlay",
              "size": 10,
              "solidity": 0.2
             }
            },
            "type": "histogram"
           }
          ],
          "histogram2d": [
           {
            "colorbar": {
             "outlinewidth": 0,
             "ticks": ""
            },
            "colorscale": [
             [
              0,
              "#0d0887"
             ],
             [
              0.1111111111111111,
              "#46039f"
             ],
             [
              0.2222222222222222,
              "#7201a8"
             ],
             [
              0.3333333333333333,
              "#9c179e"
             ],
             [
              0.4444444444444444,
              "#bd3786"
             ],
             [
              0.5555555555555556,
              "#d8576b"
             ],
             [
              0.6666666666666666,
              "#ed7953"
             ],
             [
              0.7777777777777778,
              "#fb9f3a"
             ],
             [
              0.8888888888888888,
              "#fdca26"
             ],
             [
              1,
              "#f0f921"
             ]
            ],
            "type": "histogram2d"
           }
          ],
          "histogram2dcontour": [
           {
            "colorbar": {
             "outlinewidth": 0,
             "ticks": ""
            },
            "colorscale": [
             [
              0,
              "#0d0887"
             ],
             [
              0.1111111111111111,
              "#46039f"
             ],
             [
              0.2222222222222222,
              "#7201a8"
             ],
             [
              0.3333333333333333,
              "#9c179e"
             ],
             [
              0.4444444444444444,
              "#bd3786"
             ],
             [
              0.5555555555555556,
              "#d8576b"
             ],
             [
              0.6666666666666666,
              "#ed7953"
             ],
             [
              0.7777777777777778,
              "#fb9f3a"
             ],
             [
              0.8888888888888888,
              "#fdca26"
             ],
             [
              1,
              "#f0f921"
             ]
            ],
            "type": "histogram2dcontour"
           }
          ],
          "mesh3d": [
           {
            "colorbar": {
             "outlinewidth": 0,
             "ticks": ""
            },
            "type": "mesh3d"
           }
          ],
          "parcoords": [
           {
            "line": {
             "colorbar": {
              "outlinewidth": 0,
              "ticks": ""
             }
            },
            "type": "parcoords"
           }
          ],
          "pie": [
           {
            "automargin": true,
            "type": "pie"
           }
          ],
          "scatter": [
           {
            "fillpattern": {
             "fillmode": "overlay",
             "size": 10,
             "solidity": 0.2
            },
            "type": "scatter"
           }
          ],
          "scatter3d": [
           {
            "line": {
             "colorbar": {
              "outlinewidth": 0,
              "ticks": ""
             }
            },
            "marker": {
             "colorbar": {
              "outlinewidth": 0,
              "ticks": ""
             }
            },
            "type": "scatter3d"
           }
          ],
          "scattercarpet": [
           {
            "marker": {
             "colorbar": {
              "outlinewidth": 0,
              "ticks": ""
             }
            },
            "type": "scattercarpet"
           }
          ],
          "scattergeo": [
           {
            "marker": {
             "colorbar": {
              "outlinewidth": 0,
              "ticks": ""
             }
            },
            "type": "scattergeo"
           }
          ],
          "scattergl": [
           {
            "marker": {
             "colorbar": {
              "outlinewidth": 0,
              "ticks": ""
             }
            },
            "type": "scattergl"
           }
          ],
          "scattermapbox": [
           {
            "marker": {
             "colorbar": {
              "outlinewidth": 0,
              "ticks": ""
             }
            },
            "type": "scattermapbox"
           }
          ],
          "scatterpolar": [
           {
            "marker": {
             "colorbar": {
              "outlinewidth": 0,
              "ticks": ""
             }
            },
            "type": "scatterpolar"
           }
          ],
          "scatterpolargl": [
           {
            "marker": {
             "colorbar": {
              "outlinewidth": 0,
              "ticks": ""
             }
            },
            "type": "scatterpolargl"
           }
          ],
          "scatterternary": [
           {
            "marker": {
             "colorbar": {
              "outlinewidth": 0,
              "ticks": ""
             }
            },
            "type": "scatterternary"
           }
          ],
          "surface": [
           {
            "colorbar": {
             "outlinewidth": 0,
             "ticks": ""
            },
            "colorscale": [
             [
              0,
              "#0d0887"
             ],
             [
              0.1111111111111111,
              "#46039f"
             ],
             [
              0.2222222222222222,
              "#7201a8"
             ],
             [
              0.3333333333333333,
              "#9c179e"
             ],
             [
              0.4444444444444444,
              "#bd3786"
             ],
             [
              0.5555555555555556,
              "#d8576b"
             ],
             [
              0.6666666666666666,
              "#ed7953"
             ],
             [
              0.7777777777777778,
              "#fb9f3a"
             ],
             [
              0.8888888888888888,
              "#fdca26"
             ],
             [
              1,
              "#f0f921"
             ]
            ],
            "type": "surface"
           }
          ],
          "table": [
           {
            "cells": {
             "fill": {
              "color": "#EBF0F8"
             },
             "line": {
              "color": "white"
             }
            },
            "header": {
             "fill": {
              "color": "#C8D4E3"
             },
             "line": {
              "color": "white"
             }
            },
            "type": "table"
           }
          ]
         },
         "layout": {
          "annotationdefaults": {
           "arrowcolor": "#2a3f5f",
           "arrowhead": 0,
           "arrowwidth": 1
          },
          "autotypenumbers": "strict",
          "coloraxis": {
           "colorbar": {
            "outlinewidth": 0,
            "ticks": ""
           }
          },
          "colorscale": {
           "diverging": [
            [
             0,
             "#8e0152"
            ],
            [
             0.1,
             "#c51b7d"
            ],
            [
             0.2,
             "#de77ae"
            ],
            [
             0.3,
             "#f1b6da"
            ],
            [
             0.4,
             "#fde0ef"
            ],
            [
             0.5,
             "#f7f7f7"
            ],
            [
             0.6,
             "#e6f5d0"
            ],
            [
             0.7,
             "#b8e186"
            ],
            [
             0.8,
             "#7fbc41"
            ],
            [
             0.9,
             "#4d9221"
            ],
            [
             1,
             "#276419"
            ]
           ],
           "sequential": [
            [
             0,
             "#0d0887"
            ],
            [
             0.1111111111111111,
             "#46039f"
            ],
            [
             0.2222222222222222,
             "#7201a8"
            ],
            [
             0.3333333333333333,
             "#9c179e"
            ],
            [
             0.4444444444444444,
             "#bd3786"
            ],
            [
             0.5555555555555556,
             "#d8576b"
            ],
            [
             0.6666666666666666,
             "#ed7953"
            ],
            [
             0.7777777777777778,
             "#fb9f3a"
            ],
            [
             0.8888888888888888,
             "#fdca26"
            ],
            [
             1,
             "#f0f921"
            ]
           ],
           "sequentialminus": [
            [
             0,
             "#0d0887"
            ],
            [
             0.1111111111111111,
             "#46039f"
            ],
            [
             0.2222222222222222,
             "#7201a8"
            ],
            [
             0.3333333333333333,
             "#9c179e"
            ],
            [
             0.4444444444444444,
             "#bd3786"
            ],
            [
             0.5555555555555556,
             "#d8576b"
            ],
            [
             0.6666666666666666,
             "#ed7953"
            ],
            [
             0.7777777777777778,
             "#fb9f3a"
            ],
            [
             0.8888888888888888,
             "#fdca26"
            ],
            [
             1,
             "#f0f921"
            ]
           ]
          },
          "colorway": [
           "#636efa",
           "#EF553B",
           "#00cc96",
           "#ab63fa",
           "#FFA15A",
           "#19d3f3",
           "#FF6692",
           "#B6E880",
           "#FF97FF",
           "#FECB52"
          ],
          "font": {
           "color": "#2a3f5f"
          },
          "geo": {
           "bgcolor": "white",
           "lakecolor": "white",
           "landcolor": "#E5ECF6",
           "showlakes": true,
           "showland": true,
           "subunitcolor": "white"
          },
          "hoverlabel": {
           "align": "left"
          },
          "hovermode": "closest",
          "mapbox": {
           "style": "light"
          },
          "paper_bgcolor": "white",
          "plot_bgcolor": "#E5ECF6",
          "polar": {
           "angularaxis": {
            "gridcolor": "white",
            "linecolor": "white",
            "ticks": ""
           },
           "bgcolor": "#E5ECF6",
           "radialaxis": {
            "gridcolor": "white",
            "linecolor": "white",
            "ticks": ""
           }
          },
          "scene": {
           "xaxis": {
            "backgroundcolor": "#E5ECF6",
            "gridcolor": "white",
            "gridwidth": 2,
            "linecolor": "white",
            "showbackground": true,
            "ticks": "",
            "zerolinecolor": "white"
           },
           "yaxis": {
            "backgroundcolor": "#E5ECF6",
            "gridcolor": "white",
            "gridwidth": 2,
            "linecolor": "white",
            "showbackground": true,
            "ticks": "",
            "zerolinecolor": "white"
           },
           "zaxis": {
            "backgroundcolor": "#E5ECF6",
            "gridcolor": "white",
            "gridwidth": 2,
            "linecolor": "white",
            "showbackground": true,
            "ticks": "",
            "zerolinecolor": "white"
           }
          },
          "shapedefaults": {
           "line": {
            "color": "#2a3f5f"
           }
          },
          "ternary": {
           "aaxis": {
            "gridcolor": "white",
            "linecolor": "white",
            "ticks": ""
           },
           "baxis": {
            "gridcolor": "white",
            "linecolor": "white",
            "ticks": ""
           },
           "bgcolor": "#E5ECF6",
           "caxis": {
            "gridcolor": "white",
            "linecolor": "white",
            "ticks": ""
           }
          },
          "title": {
           "x": 0.05
          },
          "xaxis": {
           "automargin": true,
           "gridcolor": "white",
           "linecolor": "white",
           "ticks": "",
           "title": {
            "standoff": 15
           },
           "zerolinecolor": "white",
           "zerolinewidth": 2
          },
          "yaxis": {
           "automargin": true,
           "gridcolor": "white",
           "linecolor": "white",
           "ticks": "",
           "title": {
            "standoff": 15
           },
           "zerolinecolor": "white",
           "zerolinewidth": 2
          }
         }
        },
        "title": {
         "text": "Standard Number vs Cq"
        },
        "xaxis": {
         "anchor": "y",
         "domain": [
          0,
          1
         ],
         "title": {
          "text": "StandardNumber"
         }
        },
        "yaxis": {
         "anchor": "x",
         "domain": [
          0,
          1
         ],
         "title": {
          "text": "Ct"
         }
        }
       }
      }
     },
     "metadata": {},
     "output_type": "display_data"
    }
   ],
   "source": [
    "primerMatrix = PrimerMatrixVis('Quan. Result')\n",
    "# df = PrimerMatrixVis.dfCreate(primerMatrix)\n",
    "df = PrimerMatrixVis.addPrimerConcToDf(primerMatrix)\n",
    "# PrimerMatrixVis.RowAndColMeans(primerMatrix)\n",
    "# PrimerMatrixVis.Periodicity(primerMatrix)\n",
    "# PrimerMatrixVis.FwdAndRevEquivalence(primerMatrix)\n",
    "# PrimerMatrixVis.plotStandards(primerMatrix)"
   ]
  }
 ],
 "metadata": {
  "kernelspec": {
   "display_name": "Python 3.8.5 ('base')",
   "language": "python",
   "name": "python3"
  },
  "language_info": {
   "codemirror_mode": {
    "name": "ipython",
    "version": 3
   },
   "file_extension": ".py",
   "mimetype": "text/x-python",
   "name": "python",
   "nbconvert_exporter": "python",
   "pygments_lexer": "ipython3",
   "version": "3.8.5"
  },
  "orig_nbformat": 2,
  "vscode": {
   "interpreter": {
    "hash": "1351e4052cb5e5ef8cb5e82d8be59617e857487b9d1507b0e4ba5c641efe6219"
   }
  }
 },
 "nbformat": 4,
 "nbformat_minor": 2
}
